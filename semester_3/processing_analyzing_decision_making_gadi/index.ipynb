{
 "cells": [
  {
   "cell_type": "markdown",
   "id": "0c03be9e",
   "metadata": {
    "slideshow": {
     "slide_type": "slide"
    }
   },
   "source": [
    "# The “fundamental problem” of authorship attribution.\n",
    "by M Koppel, J Schler, S Argamon, Y Winter\n",
    "\n",
    "<span style=\"font-family:Papyrus; font-size:10px;\">authorship attribution = ייחוס מחבר</span>\n",
    "\n"
   ]
  },
  {
   "cell_type": "markdown",
   "id": "b4bf4011",
   "metadata": {
    "slideshow": {
     "slide_type": "slide"
    }
   },
   "source": [
    "# [My thesis in NLP for medieval latin language](https://www.youtube.com/watch?v=pQHX-SjgQvQ)"
   ]
  },
  {
   "cell_type": "markdown",
   "id": "a52e823f",
   "metadata": {
    "slideshow": {
     "slide_type": "slide"
    }
   },
   "source": [
    "# First things first - what is NLP (natural language processsing)\n",
    "NLP is a subfield of computer science in particular concer with problem: \n",
    "\n",
    "How to program computers to process and analyze large amounts of natural language data. The goal is a computer capable of \"understanding\" the contents of documents, including the contextual nuances of the language within them.\n"
   ]
  },
  {
   "cell_type": "markdown",
   "id": "397366cc",
   "metadata": {
    "slideshow": {
     "slide_type": "slide"
    }
   },
   "source": [
    "Since the distant 1964, when, as is commonly believed, one of the first attempts was made by Mosteller and Wallace to use statistical analysis approach to attribute authorship of Federalist paper and to this day with rapid development of ML, de facto it became the tool for problems in the authorship analysis field.\n",
    "\n",
    "![Wallace](https://historyofinformation.com/images/Screen_Shot_2020-09-12_at_7.43.27_PM_big.png)\n",
    "![Mosteller](https://historyofinformation.com/images/Screen_Shot_2020-09-12_at_7.46.42_PM_big.png)"
   ]
  },
  {
   "cell_type": "markdown",
   "id": "a4c1003a",
   "metadata": {
    "slideshow": {
     "slide_type": "slide"
    }
   },
   "source": [
    "# Table of Contents\n",
    "* Paper structure overview\n",
    "* Explanation of the problem\n",
    "* State of art\n",
    "* Results review\n",
    "* Paper discussion / Critical thinking\n",
    "* Ways to improve"
   ]
  },
  {
   "cell_type": "markdown",
   "id": "7ee3c032",
   "metadata": {
    "slideshow": {
     "slide_type": "slide"
    }
   },
   "source": [
    "# Paper structure overview"
   ]
  },
  {
   "cell_type": "markdown",
   "id": "ef811f24",
   "metadata": {
    "slideshow": {
     "slide_type": "slide"
    }
   },
   "source": [
    "The paper contains 7 parts:\n",
    "\n",
    "1. Introduction\n",
    "2. Related work\n",
    "3. Handling large open candidate sets (dataset + algorithm)\n",
    "4. Results\n",
    "5. The fundamental problem of authorhip attribution\n",
    "6. Conclusions\n",
    "7. References"
   ]
  },
  {
   "cell_type": "markdown",
   "id": "f018759f",
   "metadata": {
    "slideshow": {
     "slide_type": "slide"
    }
   },
   "source": [
    "# 1. Introduction\n",
    "* Provide description of different problems in authorhip analysis field\n",
    "* Explain easy and hard probem\n",
    "* Define \"fundamental problem\""
   ]
  },
  {
   "cell_type": "markdown",
   "id": "bddb44bc",
   "metadata": {
    "slideshow": {
     "slide_type": "slide"
    }
   },
   "source": [
    "# Authorship analysis\n",
    "Includes the following subtasks:\n",
    "\n",
    "* authorship profiling/characterization\n",
    "* similarity/plagiarism detection\n",
    "* authorship attribution"
   ]
  },
  {
   "cell_type": "markdown",
   "id": "0cd2b4ac",
   "metadata": {
    "slideshow": {
     "slide_type": "slide"
    }
   },
   "source": [
    "# Authorship profiling/characterization\n",
    "Determines the author's profile of the characteristics of the author: gender, educational background, age, etc..."
   ]
  },
  {
   "cell_type": "markdown",
   "id": "957088ab",
   "metadata": {
    "slideshow": {
     "slide_type": "slide"
    }
   },
   "source": [
    "# Similarity/plagiarism detection\n",
    "Compares multiple pieces of work and determines whether or not they are produced by a single author withoud necessarily identifying the author, often used in the context of plagiarism detection."
   ]
  },
  {
   "cell_type": "markdown",
   "id": "9e90e0b3",
   "metadata": {
    "slideshow": {
     "slide_type": "slide"
    }
   },
   "source": [
    "# Authorship attribution\n",
    "Concerned with the identification of the real author of a disputed anonymous document"
   ]
  },
  {
   "cell_type": "markdown",
   "id": "873da693",
   "metadata": {
    "slideshow": {
     "slide_type": "slide"
    }
   },
   "source": [
    "# Hello world problem\n",
    "Given a small closed set of candidate authors asked to attribute an anonymous test to one of them.\n",
    "\n",
    "Usually, it is assumed that we have copious quantities of text by each candidate author and that the anonymous text is reasonably long."
   ]
  },
  {
   "cell_type": "markdown",
   "id": "6f0b8696",
   "metadata": {
    "slideshow": {
     "slide_type": "slide"
    }
   },
   "source": [
    "# Real world problem\n",
    "![slap](https://media.giphy.com/media/htiVRuP7N0XK/giphy.gif)\n",
    "\n",
    "* list of candidates very large\n",
    "* no guarantee that the true author of disputed text is even among the candidates\n",
    "* writing by each candidate might be very limited\n",
    "* anonymous text is short"
   ]
  },
  {
   "cell_type": "markdown",
   "id": "30c4f15e",
   "metadata": {
    "slideshow": {
     "slide_type": "slide"
    }
   },
   "source": [
    "# Fundamental problem\n",
    "of authorship attribution: determining if two, possibly short, documents were written by a single author. A solution to this problem can serve as a building block for solving almost any conceivable authorship attribution problem."
   ]
  },
  {
   "cell_type": "markdown",
   "id": "1c9d72ca",
   "metadata": {
    "slideshow": {
     "slide_type": "slide"
    }
   },
   "source": [
    "# 2. Related work\n",
    "* Overview of automated techiques for authorhip analysis\n",
    "* Explain \"unmasking method\""
   ]
  },
  {
   "cell_type": "markdown",
   "id": "40527139",
   "metadata": {
    "slideshow": {
     "slide_type": "slide"
    }
   },
   "source": [
    "# Overview of automated techiques for authorhip analysis\n",
    "* similarity based\n",
    "* machine learning"
   ]
  },
  {
   "cell_type": "markdown",
   "id": "1cf69666",
   "metadata": {
    "slideshow": {
     "slide_type": "slide"
    }
   },
   "source": [
    "# Similarity based techique\n",
    "some metric is used to measure the distance between two documents, and an anonymous document is attributed to that author whose known writing is most similar.\n",
    "\n",
    "## Main focus\n",
    "* choice of features for document representation\n",
    "* methods for dimensionality reduction of feature space (for example PCA - Principal Components Analysis)\n",
    "* choice of distance metric (Euclidean distance, cosine similarity, Dice's coefficient, Burrow's Delta and more)"
   ]
  },
  {
   "cell_type": "markdown",
   "id": "bc809cef",
   "metadata": {
    "slideshow": {
     "slide_type": "slide"
    }
   },
   "source": [
    "# Machine learning techique\n",
    "the known writings of each candidate author are used to construct a classifier that can then be used to classify anonymous documents.\n",
    "\n",
    "## Main focus\n",
    "* choice of features for document representation\n",
    "* choice of learning algorithms"
   ]
  },
  {
   "cell_type": "markdown",
   "id": "155f53bf",
   "metadata": {
    "slideshow": {
     "slide_type": "slide"
    }
   },
   "source": [
    "# ML vs Similarity based\n",
    "Observed in multiple studies that when there are very many candidate authors, similarity-based methods are more appropriate than machine-learning methods."
   ]
  },
  {
   "cell_type": "markdown",
   "id": "9b3177af",
   "metadata": {
    "slideshow": {
     "slide_type": "slide"
    }
   },
   "source": [
    "# Similarity based techique principles\n",
    "The basic idea is that the most reasonable attribution can be found by viewing each document as a point in some multidimensional space, and assigning a questioned document to the author whose documents as a whole are ‘‘closest’’, according to some appropriate distance measure."
   ]
  },
  {
   "cell_type": "markdown",
   "id": "61d931de",
   "metadata": {
    "slideshow": {
     "slide_type": "slide"
    }
   },
   "source": [
    "![](https://media.giphy.com/media/BmmfETghGOPrW/giphy.gif)\n",
    "\n",
    "Given two vectors of attributes, A and B, the cosine similarity, cos(θ), is represented using a dot product and magnitude as:\n",
    "\n",
    "\n",
    "![](https://studymachinelearning.com/wp-content/uploads/2019/09/Cosine-similarity-Wikipedia.png)\n",
    "\n",
    "where Ai and Bi are components of vector A and A respectively."
   ]
  },
  {
   "cell_type": "markdown",
   "id": "d187dd3f",
   "metadata": {
    "slideshow": {
     "slide_type": "slide"
    }
   },
   "source": [
    "<img src=\"./assets/cosine_similarity.png\" width=\"900\">"
   ]
  },
  {
   "cell_type": "code",
   "execution_count": 26,
   "id": "a862468b",
   "metadata": {
    "slideshow": {
     "slide_type": "slide"
    }
   },
   "outputs": [],
   "source": [
    "love_nlp = \"Sasha love NLP\"\n",
    "love_nutella = \"Sasha love Nutella\"\n",
    "love_nobody = \"Who is there?\"\n",
    "\n",
    "documents = [love_nlp, love_nutella, love_nobody]"
   ]
  },
  {
   "cell_type": "code",
   "execution_count": 27,
   "id": "5dd0a8df",
   "metadata": {
    "slideshow": {
     "slide_type": "slide"
    }
   },
   "outputs": [
    {
     "data": {
      "text/html": [
       "<div>\n",
       "<style scoped>\n",
       "    .dataframe tbody tr th:only-of-type {\n",
       "        vertical-align: middle;\n",
       "    }\n",
       "\n",
       "    .dataframe tbody tr th {\n",
       "        vertical-align: top;\n",
       "    }\n",
       "\n",
       "    .dataframe thead th {\n",
       "        text-align: right;\n",
       "    }\n",
       "</style>\n",
       "<table border=\"1\" class=\"dataframe\">\n",
       "  <thead>\n",
       "    <tr style=\"text-align: right;\">\n",
       "      <th></th>\n",
       "      <th>is</th>\n",
       "      <th>love</th>\n",
       "      <th>nlp</th>\n",
       "      <th>nutella</th>\n",
       "      <th>sasha</th>\n",
       "      <th>there</th>\n",
       "      <th>who</th>\n",
       "    </tr>\n",
       "  </thead>\n",
       "  <tbody>\n",
       "    <tr>\n",
       "      <th>love_nlp</th>\n",
       "      <td>0</td>\n",
       "      <td>1</td>\n",
       "      <td>1</td>\n",
       "      <td>0</td>\n",
       "      <td>1</td>\n",
       "      <td>0</td>\n",
       "      <td>0</td>\n",
       "    </tr>\n",
       "    <tr>\n",
       "      <th>love_nutella</th>\n",
       "      <td>0</td>\n",
       "      <td>1</td>\n",
       "      <td>0</td>\n",
       "      <td>1</td>\n",
       "      <td>1</td>\n",
       "      <td>0</td>\n",
       "      <td>0</td>\n",
       "    </tr>\n",
       "    <tr>\n",
       "      <th>love_nobody</th>\n",
       "      <td>1</td>\n",
       "      <td>0</td>\n",
       "      <td>0</td>\n",
       "      <td>0</td>\n",
       "      <td>0</td>\n",
       "      <td>1</td>\n",
       "      <td>1</td>\n",
       "    </tr>\n",
       "  </tbody>\n",
       "</table>\n",
       "</div>"
      ],
      "text/plain": [
       "              is  love  nlp  nutella  sasha  there  who\n",
       "love_nlp       0     1    1        0      1      0    0\n",
       "love_nutella   0     1    0        1      1      0    0\n",
       "love_nobody    1     0    0        0      0      1    1"
      ]
     },
     "execution_count": 27,
     "metadata": {},
     "output_type": "execute_result"
    }
   ],
   "source": [
    "from sklearn.feature_extraction.text import CountVectorizer\n",
    "import pandas as pd\n",
    "\n",
    "count_vectorizer = CountVectorizer(stop_words='english')\n",
    "count_vectorizer = CountVectorizer()\n",
    "sparse_matrix = count_vectorizer.fit_transform(documents)\n",
    "\n",
    "doc_term_matrix = sparse_matrix.todense()\n",
    "df = pd.DataFrame(doc_term_matrix, \n",
    "                  columns=count_vectorizer.get_feature_names(), \n",
    "                  index=['love_nlp', 'love_nutella', 'love_nobody'])\n",
    "df"
   ]
  },
  {
   "cell_type": "code",
   "execution_count": 28,
   "id": "05cf808c",
   "metadata": {
    "slideshow": {
     "slide_type": "slide"
    }
   },
   "outputs": [
    {
     "name": "stdout",
     "output_type": "stream",
     "text": [
      "[[1.         0.66666667 0.        ]\n",
      " [0.66666667 1.         0.        ]\n",
      " [0.         0.         1.        ]]\n"
     ]
    }
   ],
   "source": [
    "from sklearn.metrics.pairwise import cosine_similarity\n",
    "similarities = cosine_similarity(df, df)\n",
    "print(similarities)"
   ]
  },
  {
   "cell_type": "code",
   "execution_count": 29,
   "id": "85b0017e",
   "metadata": {
    "slideshow": {
     "slide_type": "slide"
    }
   },
   "outputs": [
    {
     "data": {
      "text/plain": [
       "<mpl_toolkits.mplot3d.art3d.Line3DCollection at 0x7fe3207fec40>"
      ]
     },
     "execution_count": 29,
     "metadata": {},
     "output_type": "execute_result"
    },
    {
     "data": {
      "image/png": "[encoded data removed]",
      "text/plain": [
       "<Figure size 432x288 with 1 Axes>"
      ]
     },
     "metadata": {
      "needs_background": "light"
     },
     "output_type": "display_data"
    }
   ],
   "source": [
    "from mpl_toolkits.mplot3d import Axes3D\n",
    "import matplotlib.pyplot as plt\n",
    "import numpy as np\n",
    "\n",
    "u = similarities[0]\n",
    "v = similarities[1]\n",
    "q = similarities[2]\n",
    "\n",
    "ax = plt.axes(projection = '3d')\n",
    "ax.set_xlim([-1, 1])\n",
    "ax.set_ylim([-1, 1])\n",
    "ax.set_zlim([-1, 1])\n",
    "\n",
    "start = [0,0,0]\n",
    "ax.quiver(start[0], start[1], start[2], u[0], u[1], u[2], color='r')\n",
    "ax.quiver(start[0], start[1], start[2], v[0], v[1], v[2], color='g')\n",
    "ax.quiver(start[0], start[1], start[2], q[0], q[1], q[2], color='b')"
   ]
  },
  {
   "cell_type": "markdown",
   "id": "bd721c98",
   "metadata": {
    "slideshow": {
     "slide_type": "slide"
    }
   },
   "source": [
    "# unmasking method\n",
    "\n",
    "The idea is that the known text of a snippet’s actual author is likely to be the text most similar to the snippet even as we vary the feature set that we use to represent the texts. Another author’s text might happen to be the most similar for one or a few specific feature sets, but it is highly unlikely to be consistently so over many different feature sets"
   ]
  },
  {
   "cell_type": "markdown",
   "id": "457297b5",
   "metadata": {
    "slideshow": {
     "slide_type": "slide"
    }
   },
   "source": [
    "# 3. Handling large open candidate sets (dataset + algorithm)\n",
    "* Dataset overview\n",
    "* Feature representation\n",
    "* Algorithm overview"
   ]
  },
  {
   "cell_type": "markdown",
   "id": "bc257ea3",
   "metadata": {
    "slideshow": {
     "slide_type": "slide"
    }
   },
   "source": [
    "# Dataset overview \n",
    "10k blogs harvested in Aug 2004 from blogger.com.\n",
    "\n",
    "Dataset ib balanced for gender within each of a number of age intervals.\n",
    "\n",
    "Blogs predominantly in English and contain sufficient text.\n",
    "\n",
    "For each blog 2k words choosen as training data - **known text**, and **snippet** - last five hundred words of the blog.\n",
    "\n",
    "Such as we would like to determine if one of the authors of the known text is author of the snippet."
   ]
  },
  {
   "cell_type": "markdown",
   "id": "f8bc0cfa",
   "metadata": {
    "slideshow": {
     "slide_type": "slide"
    }
   },
   "source": [
    "# Feature representation\n",
    "Each text: known text and snippet is represented as space-free character 4-gram.\n",
    "\n",
    "Character n-grams have been shown to be effective for authorship attribution and have the advantage of being measurable in any language without specialized background knowledge."
   ]
  },
  {
   "cell_type": "code",
   "execution_count": 30,
   "id": "6102fb44",
   "metadata": {
    "slideshow": {
     "slide_type": "slide"
    }
   },
   "outputs": [
    {
     "name": "stdout",
     "output_type": "stream",
     "text": [
      "{'so h': 22, 'o ho': 13, ' how': 2, 'how ': 11, 'ow a': 16, 'w ar': 24, ' are': 0, 'are ': 7, 're y': 20, 'e yo': 8, ' you': 5, 'you ': 25, 'ou s': 15, 'u so': 23, ' so ': 4, 'so f': 21, 'o fa': 12, ' far': 1, 'far ': 10, 'ar p': 6, 'r pe': 19, ' peo': 3, 'peop': 17, 'eopl': 9, 'ople': 14, 'ple?': 18}\n"
     ]
    }
   ],
   "source": [
    "cv = CountVectorizer(ngram_range=(4, 4), analyzer=\"char\").fit([\"So how are you so far people?\"])\n",
    "print(cv.vocabulary_)"
   ]
  },
  {
   "cell_type": "markdown",
   "id": "f1540747",
   "metadata": {
    "slideshow": {
     "slide_type": "-"
    }
   },
   "source": [
    "100k most frequent ngrams selected among 250k as feature universe"
   ]
  },
  {
   "cell_type": "markdown",
   "id": "2cd1977f",
   "metadata": {
    "slideshow": {
     "slide_type": "slide"
    }
   },
   "source": [
    "# Algorithm overview\n",
    "\n",
    "<img src=\"./assets/image.png\" width=\"900\">"
   ]
  },
  {
   "cell_type": "markdown",
   "id": "c0da5d7f",
   "metadata": {
    "slideshow": {
     "slide_type": "slide"
    }
   },
   "source": [
    "# \"unmasking\" - Randomly choose some fraction k2 of the full feature set\n",
    "\n",
    "The known text of a snippet’s actual author is likely to be the text most similar to the snippet even as we vary the feature set that we use to represent the texts.\n",
    "\n",
    "Another author’s text might happen to be the most similar for one or a few specific feature sets, but it is highly unlikely to be consistently so over many different feature sets.\n",
    "\n"
   ]
  },
  {
   "cell_type": "markdown",
   "id": "87058eee",
   "metadata": {
    "slideshow": {
     "slide_type": "slide"
    }
   },
   "source": [
    "# 4. Results\n",
    "* Experiment overview\n",
    "* Result - precision/recall\n",
    "* Comparison for cases than original author in set and not"
   ]
  },
  {
   "cell_type": "markdown",
   "id": "530c3a2e",
   "metadata": {
    "slideshow": {
     "slide_type": "slide"
    }
   },
   "source": [
    "# Experiment overview\n",
    "k1 (number of iterations) = 100\n",
    "\n",
    "k2 (fraction of feature universe)  = 40%\n",
    "\n",
    "L1 (length of snippet) = 500\n",
    "\n",
    "L2 (length of know text) = 2000"
   ]
  },
  {
   "cell_type": "markdown",
   "id": "fa8d2d70",
   "metadata": {
    "slideshow": {
     "slide_type": "slide"
    }
   },
   "source": [
    "# Result - precision/recall recap\n",
    "Consider a computer program for recognizing dogs in a digital photograph. \n",
    "\n",
    "Picture contains 10 cats, 12 dogs.\n",
    "\n",
    "Program identifies 8 dogs.\n",
    "\n",
    "From 8 dogs, only 5 actually are dogs (true positive), while the other 3  are cats (false positive)\n",
    "\n",
    "7 dogs were missed (false negatives)\n",
    "\n",
    "7 cats were correctly excluded (true negatives)\n",
    "\n",
    "The program's precision is 5/8 (true positives / selected elements)\n",
    "\n",
    "The program's recall is 5/12 (true positives / relevant elements)\n",
    "\n",
    "Precision can be seen as a measure of quality, and recall as a measure of quantity"
   ]
  },
  {
   "cell_type": "markdown",
   "id": "0baae28f",
   "metadata": {
    "slideshow": {
     "slide_type": "slide"
    }
   },
   "source": [
    "# Result - precision/recall\n",
    "Consider how the number of candidate authors affects precision and recall\n",
    "\n",
    "<img src=\"./assets/precision_recall.png\" width=\"600\">\n",
    "\n",
    "Accuracy increases as the number of candidate authors diminishes.\n",
    "\n",
    "By varying the threshold for identifying an input pair as being by the same author, we control the trade-off between precision and recall.\n",
    "\n",
    "For 1k candidates, at ϑ* = 0.9, achieved 93.2 per cent precision at 39.3 per cent recall."
   ]
  },
  {
   "cell_type": "markdown",
   "id": "8a7949e6",
   "metadata": {
    "slideshow": {
     "slide_type": "slide"
    }
   },
   "source": [
    "# None of possible authors is the actual author\n",
    "Testing on 1,000 snippets that belong to none of the candidates:\n",
    "\n",
    "* 10,000 candidates - 2.5%\n",
    "* 5,000 candidates - 3.5%\n",
    "* 1,000 candidates - 5.5%\n",
    "\n",
    "Perhaps counter-intuitively, for snippets by authors not among the candidates, having fewer candidates actually makes the problem more difficult since the fewer competing candidates there are, the more likely it is that there is some consistently most similar (but inevitably wrong) candidate."
   ]
  },
  {
   "cell_type": "markdown",
   "id": "24a9b54e",
   "metadata": {
    "slideshow": {
     "slide_type": "slide"
    }
   },
   "source": [
    "# 5. The fundamental problem of authorhip attribution\n",
    "* Define questions that need to explore for the provided methods\n",
    "* Answer defined questions"
   ]
  },
  {
   "cell_type": "markdown",
   "id": "1f94f410",
   "metadata": {
    "slideshow": {
     "slide_type": "slide"
    }
   },
   "source": [
    "# Research results address following questions:\n",
    "* How many impostors should be used?\n",
    "* How should the impostors be chosen?\n",
    "* What score should we require in order to conclude that two documents are by a single author?"
   ]
  },
  {
   "cell_type": "markdown",
   "id": "5b524d4e",
   "metadata": {
    "slideshow": {
     "slide_type": "slide"
    }
   },
   "source": [
    "# How many impostors should be used?\n",
    "Using a development set consisting of 500 pairs of blog posts written by a single author and 500 pairs written by two different authors, potential impostor universe restricted to other blog posts. \n",
    "\n",
    "(This restriction is simply a matter of convenience; we don’t claim it is optimal.)"
   ]
  },
  {
   "cell_type": "markdown",
   "id": "74b0f4ad",
   "metadata": {
    "slideshow": {
     "slide_type": "slide"
    }
   },
   "source": [
    "# How should the impostors be chosen?\n",
    "Given a pair <X,Y> identify the 250 most similar blog posts to Y.\n",
    "\n",
    "Randomly choose 25 blog posts from among these to serve as impostors"
   ]
  },
  {
   "cell_type": "markdown",
   "id": "2be3af7c",
   "metadata": {
    "slideshow": {
     "slide_type": "slide"
    }
   },
   "source": [
    "# What score should we require in order to conclude that two documents are by a single author?\n",
    "Assign <X,Y> to a single author if and only if Y is selected from among the set {Y,...Yn} as most similar to X in at least 11 trials our of the 100.\n",
    "\n",
    "Obtained precision of 90% and recall 83%.\n"
   ]
  },
  {
   "cell_type": "markdown",
   "id": "74e4446f",
   "metadata": {
    "slideshow": {
     "slide_type": "slide"
    }
   },
   "source": [
    "# 6. Conclusions\n",
    "* Define final results\n",
    "* Conclude experiment as successful"
   ]
  },
  {
   "cell_type": "markdown",
   "id": "7a104f07",
   "metadata": {
    "slideshow": {
     "slide_type": "slide"
    }
   },
   "source": [
    "# The problem the paper want to solve"
   ]
  },
  {
   "cell_type": "markdown",
   "id": "1bff4ece",
   "metadata": {},
   "source": [
    "# Fundamental problem of authorhip attribution\n",
    "Given two input texts, X and Y, we generate a set of impostors (Y1, . . ., Yn) and then using developed algorigthm to determine if X was written by Y or any of the impostors or by none of them. If and only if we obtain that X was written by Y with a sufficiently high score, we say that the two documents are by a single author. (Clearly, we can additionally, or alternatively, generate impostors X1, . . ., Xn and compare them to Y.).\n",
    "\n",
    "Plainly, if we can solve the fundamental problem, we can solve any of the standard authorship attribution problems, whether in the idealized form often considered or in the more difficult form typically encountered in real life."
   ]
  },
  {
   "cell_type": "markdown",
   "id": "5e145f9d",
   "metadata": {
    "slideshow": {
     "slide_type": "slide"
    }
   },
   "source": [
    "# by reduction from \"fundamental\" to any another problem\n",
    "\n",
    "<img src=\"https://i0.wp.com/ric.org.il/wp-content/uploads/2021/05/Gila_Morgensterm.jpg?width=120&amp;height=80\" width=\"300\" height=\"300\">\n",
    "\n"
   ]
  },
  {
   "cell_type": "markdown",
   "id": "215c30e9",
   "metadata": {
    "slideshow": {
     "slide_type": "slide"
    }
   },
   "source": [
    "# State of the art solutions"
   ]
  },
  {
   "cell_type": "markdown",
   "id": "a2eadcdd",
   "metadata": {
    "slideshow": {
     "slide_type": "slide"
    }
   },
   "source": [
    "* \"unmasking\" method for determining if two book-length texts were written by the same author\n",
    "* most work in authorship attribution has focused on tasks with small numbers of candidate authors, almost all work has also focused on the case in which the candidate set is closed, that is, the anonymous text is assumed to have been written by one of the known candidates"
   ]
  },
  {
   "cell_type": "markdown",
   "id": "37e7d866",
   "metadata": {
    "slideshow": {
     "slide_type": "slide"
    }
   },
   "source": [
    "# Contribution to existing solutions\n",
    "* \"unmasking\" method does not work for short documents, althought provided approach claim to provide good results for short texts\n",
    "* handling open and closed sets\n",
    "* support big datasets"
   ]
  },
  {
   "cell_type": "markdown",
   "id": "9065cec7",
   "metadata": {
    "slideshow": {
     "slide_type": "slide"
    }
   },
   "source": [
    "# Paper score and discussion"
   ]
  },
  {
   "cell_type": "markdown",
   "id": "b3f399dc",
   "metadata": {
    "slideshow": {
     "slide_type": "slide"
    }
   },
   "source": [
    "## Writing and presentation\n",
    "Writing style clear. Each paragraph have clear structure. Easy to orientate and find relevant part, although no presented graphs for experiment than none of possible authors is the actual author.\n",
    "\n",
    "## Technical\n",
    "Provided solution is interesting, and simple, suprisingly it seems to be robust solution for complicated problem and at the same time algorithm is very intuitive.\n",
    "\n",
    "## Declared goals\n",
    "Authors achieved declared goals - even when we insist on precision of 90 per cent (as we must, for example, in forensic applications), we obtain recall above 80 per cent."
   ]
  },
  {
   "cell_type": "markdown",
   "id": "c701996d",
   "metadata": {
    "slideshow": {
     "slide_type": "slide"
    }
   },
   "source": [
    "# Paper discussion / Critical thinking\n",
    "* Process of choosing 2k words as training dataset is not clear and not compared with different approaches\n",
    "* No comparison of different features\n",
    "* Selection of amount of impostors not compared to any another process and just matter of convenience\n",
    "* Process of choosing candidate imposters are not compared with different approaches, no evidence how this techique better than another\n",
    "* No evidence how this techique perform with different writing styles - blogs and legal documents are very differ in they style\n"
   ]
  },
  {
   "cell_type": "markdown",
   "id": "2e7cc8bd",
   "metadata": {
    "slideshow": {
     "slide_type": "slide"
    }
   },
   "source": [
    "# Ways for improvment\n",
    "* Use different types of data and mixed sets of data - for example blogs and legal documents\n",
    "* Usage of different similarity measurment techiques"
   ]
  },
  {
   "cell_type": "markdown",
   "id": "8a5b3514",
   "metadata": {
    "slideshow": {
     "slide_type": "slide"
    }
   },
   "source": [
    "# Thank you\n",
    "![](https://media.giphy.com/media/rrj7FpUH9BlK0/giphy.gif)"
   ]
  }
 ],
 "metadata": {
  "celltoolbar": "Slideshow",
  "kernelspec": {
   "display_name": "Python 3",
   "language": "python",
   "name": "python3"
  },
  "language_info": {
   "codemirror_mode": {
    "name": "ipython",
    "version": 3
   },
   "file_extension": ".py",
   "mimetype": "text/x-python",
   "name": "python",
   "nbconvert_exporter": "python",
   "pygments_lexer": "ipython3",
   "version": "3.8.8"
  }
 },
 "nbformat": 4,
 "nbformat_minor": 5
}
