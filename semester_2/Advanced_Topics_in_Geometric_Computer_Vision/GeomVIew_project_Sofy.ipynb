{
 "cells": [
  {
   "cell_type": "code",
   "execution_count": 2,
   "metadata": {
    "slideshow": {
     "slide_type": "skip"
    }
   },
   "outputs": [],
   "source": [
    "####################################################\n",
    "#\n",
    "# T E S T   D A T A   G E N E R A T I O N\n",
    "#\n",
    "# this code is not part of mendonca algorithm\n",
    "# and used only for experiment purpose in\n",
    "# order to generate cameras and points\n",
    "# \n",
    "####################################################"
   ]
  },
  {
   "cell_type": "code",
   "execution_count": 3,
   "metadata": {
    "slideshow": {
     "slide_type": "skip"
    }
   },
   "outputs": [],
   "source": [
    "import numpy as np\n",
    "import cv2\n",
    "import scipy.optimize as opt\n",
    "import math\n",
    "import matplotlib.pyplot as plt\n",
    "import pandas as pd\n",
    "from mpl_toolkits.mplot3d import Axes3D\n",
    "\n",
    "np.set_printoptions(suppress=True)"
   ]
  },
  {
   "cell_type": "code",
   "execution_count": 4,
   "metadata": {
    "slideshow": {
     "slide_type": "skip"
    }
   },
   "outputs": [],
   "source": [
    "state = pd.read_csv(\"state.csv\")"
   ]
  },
  {
   "cell_type": "code",
   "execution_count": 5,
   "metadata": {
    "slideshow": {
     "slide_type": "skip"
    }
   },
   "outputs": [],
   "source": [
    "rng = np.random.default_rng(3122787423)"
   ]
  },
  {
   "cell_type": "code",
   "execution_count": null,
   "metadata": {
    "slideshow": {
     "slide_type": "skip"
    }
   },
   "outputs": [],
   "source": []
  },
  {
   "cell_type": "code",
   "execution_count": 6,
   "metadata": {
    "slideshow": {
     "slide_type": "skip"
    }
   },
   "outputs": [],
   "source": [
    "def p3t(T,x,y,z):\n",
    "    # apply a Projective 3D Transform\n",
    "    xyz = np.concatenate((x, y, z),axis=1)\n",
    "    column_ones = np.ones((len(x),1))\n",
    "    tmp = T @ (np.concatenate((xyz,column_ones),axis=1)).T\n",
    "    xp = (tmp[0,:]/tmp[3,:]).T\n",
    "    yp = (tmp[1,:]/tmp[3,:]).T\n",
    "    zp = (tmp[2,:]/tmp[3,:]).T\n",
    "    return xp,yp,zp"
   ]
  },
  {
   "cell_type": "code",
   "execution_count": 7,
   "metadata": {
    "slideshow": {
     "slide_type": "skip"
    }
   },
   "outputs": [],
   "source": [
    "def projf(P,x,y,z):\n",
    "#     % PROJ  compute perspective projection (from 3D to pixel coordinates)\n",
    "#     %   pixel positions are returned with floating point precision\n",
    "#     %\n",
    "#     %   See also PROJE\n",
    "\n",
    "    c3d = np.concatenate((x, y, z),axis=1)\n",
    "    column_ones = np.ones((len(x),1))\n",
    "    h3d = (np.concatenate((c3d,column_ones),axis=1)).T\n",
    "    h2d = P @ h3d\n",
    "\n",
    "    c2d = h2d/ h2d[2,:]\n",
    "\n",
    "    u = c2d[0,:].T\n",
    "    v = c2d[1,:].T\n",
    "    return u,v"
   ]
  },
  {
   "cell_type": "code",
   "execution_count": 8,
   "metadata": {
    "slideshow": {
     "slide_type": "skip"
    }
   },
   "outputs": [],
   "source": [
    "def plot_3d(x,y,z):\n",
    "    fig = plt.figure()\n",
    "    ax = fig.add_subplot(111, projection='3d')\n",
    "    ax.scatter(x,y,z)\n",
    "    plt.show()"
   ]
  },
  {
   "cell_type": "code",
   "execution_count": 9,
   "metadata": {
    "slideshow": {
     "slide_type": "skip"
    }
   },
   "outputs": [],
   "source": [
    "def plot_2d(x,y):\n",
    "    fig = plt.figure()\n",
    "    ax = fig.add_subplot(111)\n",
    "    ax.scatter(x,y)\n",
    "    plt.show()"
   ]
  },
  {
   "cell_type": "code",
   "execution_count": 10,
   "metadata": {
    "slideshow": {
     "slide_type": "skip"
    }
   },
   "outputs": [],
   "source": [
    "def conver_to_col(x):\n",
    "    return np.reshape(x,(len(x),1))"
   ]
  },
  {
   "cell_type": "code",
   "execution_count": 11,
   "metadata": {
    "slideshow": {
     "slide_type": "skip"
    }
   },
   "outputs": [],
   "source": [
    "def rcam(A):\n",
    "# RCAM generate a random camera\n",
    "#    generate a random camera pointing to lookp, positioned at an average \n",
    "#    distance ad form the origin, with a std dev of sd \n",
    "#    A is the intrinsic parameters matrix\n",
    "\n",
    "    ad=2.5\n",
    "    sd=0.25\n",
    "    lookp=np.zeros((1,3))\n",
    "    eyep = rng.uniform(-1,1,size=(1,3))-0.5\n",
    "    R = np.zeros((3,3))\n",
    "    eyep = eyep/np.linalg.norm(eyep) * (ad + sd*rng.random(1))\n",
    "\n",
    "    R[2,:] = lookp - eyep/np.linalg.norm(lookp - eyep)\n",
    "    R[1,:] = np.cross(R[2,:],rng.uniform(size=(1,3)))\n",
    "    R[1,:] = R[1,:]/np.linalg.norm(R[1,:])\n",
    "    R[0,:] = np.cross(R[1,:],R[2,:])\n",
    "    Rt = np.concatenate((R,-R @ eyep.T),axis=1)\n",
    "\n",
    "    return A @ Rt\n"
   ]
  },
  {
   "cell_type": "code",
   "execution_count": 12,
   "metadata": {
    "slideshow": {
     "slide_type": "skip"
    }
   },
   "outputs": [],
   "source": [
    "numberOfViews = 5\n",
    "numberOfPoints = 50\n",
    "imagePoints = np.zeros((numberOfPoints,2,numberOfViews))\n",
    "PPM = np.zeros((3,4,numberOfViews))\n",
    "PPMGT = np.zeros((3,4,numberOfViews))"
   ]
  },
  {
   "cell_type": "code",
   "execution_count": 13,
   "metadata": {
    "slideshow": {
     "slide_type": "skip"
    }
   },
   "outputs": [],
   "source": [
    "def create_fake_points():\n",
    "    data = (rng.uniform(size=(numberOfPoints,3),)-0.5)/(math.sqrt(3)/2)\n",
    "    x = data[:,0]\n",
    "    y = data[:,1]\n",
    "    z = data[:,2]\n",
    "    return x, y, z"
   ]
  },
  {
   "cell_type": "code",
   "execution_count": 14,
   "metadata": {
    "slideshow": {
     "slide_type": "skip"
    }
   },
   "outputs": [],
   "source": [
    "true_K = np.array([\n",
    "    [800,0,256],\n",
    "    [0,800,256],\n",
    "    [0,0,1]\n",
    "    ])\n",
    "x, y, z = create_fake_points()\n",
    "A = true_K\n",
    "P = rcam(A)\n",
    "invAP = np.linalg.inv(A) @ P\n",
    "lower_line = [[0,0,0,1]]\n",
    "G0 = np.concatenate((invAP, lower_line),axis=0)"
   ]
  },
  {
   "cell_type": "code",
   "execution_count": 15,
   "metadata": {
    "slideshow": {
     "slide_type": "skip"
    }
   },
   "outputs": [],
   "source": [
    "x,y,z = p3t(\n",
    "    G0,\n",
    "    conver_to_col(x),\n",
    "    conver_to_col(y),\n",
    "    conver_to_col(z)\n",
    ")\n",
    "P = A @ np.concatenate((np.identity(3), np.zeros((3,1))),axis=1)\n",
    "\n",
    "u,v = projf(P,conver_to_col(x),conver_to_col(y),conver_to_col(z))\n",
    "\n",
    "imagePoints[:,0,0] = u\n",
    "imagePoints[:,1,0] = v\n",
    "PPMGT[:,:,0] = P"
   ]
  },
  {
   "cell_type": "code",
   "execution_count": 16,
   "metadata": {
    "slideshow": {
     "slide_type": "skip"
    }
   },
   "outputs": [],
   "source": [
    "for view in range (1,numberOfViews):\n",
    "    # random camera position\n",
    "    P = rcam(A)\n",
    "    # apply world coordinate transformation\n",
    "    P = P @ np.linalg.inv(G0);\n",
    "    # project world points to image points\n",
    "    u,v = projf(P,conver_to_col(x),conver_to_col(y),conver_to_col(z))\n",
    "    imagePoints[:,0,view] = u\n",
    "    imagePoints[:,1,view] = v\n",
    "    PPMGT[:,:,view] = P   "
   ]
  },
  {
   "cell_type": "markdown",
   "metadata": {
    "slideshow": {
     "slide_type": "slide"
    }
   },
   "source": [
    "# A Simple Technique for Self-Calibration\n",
    "Alexander Kruglyak\n",
    "\n",
    "Sofya Zybtsovsky"
   ]
  },
  {
   "cell_type": "markdown",
   "metadata": {
    "slideshow": {
     "slide_type": "slide"
    }
   },
   "source": [
    "### Introduction\n",
    "The goal of Computer Vision is to compute properties (mainly geometric) of the three-dimensional world from images.\n",
    "One of the challenging problems of Computer Vision is to reconstruct a 3D model of a scene from a moving camera.\n",
    "<br>Possible applications include: navigation of autonomous vehicles, objects recognition, reverse engineering and synthesis of virtual environments.\n"
   ]
  },
  {
   "cell_type": "markdown",
   "metadata": {
    "slideshow": {
     "slide_type": "slide"
    }
   },
   "source": [
    "In general, assumption that the intrinsic parameters of the camera (focal length, image center and aspect ratio) are known. <br>\n",
    "Computing camera motion in this case is a well known problem in photogrammetry, called relative orientation, for which several methods are available.<br>Given all the parameters of the camera, reconstruction is straightforward.\n"
   ]
  },
  {
   "cell_type": "markdown",
   "metadata": {
    "slideshow": {
     "slide_type": "slide"
    }
   },
   "source": [
    "### Projection"
   ]
  },
  {
   "cell_type": "markdown",
   "metadata": {
    "slideshow": {
     "slide_type": "subslide"
    }
   },
   "source": [
    "We want a mathematical model to describe how 3D World points get projected into 2D Pixel coordinates."
   ]
  },
  {
   "cell_type": "markdown",
   "metadata": {
    "slideshow": {
     "slide_type": "subslide"
    }
   },
   "source": [
    "### Forward projection\n",
    "\n",
    "\n",
    "<center><img src=\"images/forward_projection.png\"></center>"
   ]
  },
  {
   "cell_type": "markdown",
   "metadata": {
    "slideshow": {
     "slide_type": "subslide"
    }
   },
   "source": [
    "### Backward projection\n",
    "\n",
    "<center><img src=\"images/backward_projection.png\"></center>"
   ]
  },
  {
   "cell_type": "markdown",
   "metadata": {
    "slideshow": {
     "slide_type": "slide"
    }
   },
   "source": [
    "## Camera matrix\n",
    "Camera matrix or (camera) projection matrix is a 3X4 matrix which describes the mapping of a pinhole camera from 3D points in the world to 2D points in an image."
   ]
  },
  {
   "cell_type": "markdown",
   "metadata": {
    "slideshow": {
     "slide_type": "subslide"
    }
   },
   "source": [
    "<center><img src=\"images/ProjectionMatrix.jpg\"></center>"
   ]
  },
  {
   "cell_type": "markdown",
   "metadata": {
    "slideshow": {
     "slide_type": "slide"
    }
   },
   "source": [
    "## Self-calibration\n",
    "Self-calibration is the process of finding intrinsic parameters of the camera without any actual calibration object:\n",
    "- focal length\n",
    "- image center (principal point)\n",
    "- aspect ratio (pixel skew)"
   ]
  },
  {
   "cell_type": "markdown",
   "metadata": {
    "slideshow": {
     "slide_type": "slide"
    }
   },
   "source": [
    "## Camera calibration matrix K\n",
    "5 degrees of freedom: 2 for focal length, 2 for offset, and 1 for skewness"
   ]
  },
  {
   "cell_type": "markdown",
   "metadata": {
    "slideshow": {
     "slide_type": "subslide"
    }
   },
   "source": [
    "<center><img src=\"images/K_matrix.png\"></center>"
   ]
  },
  {
   "cell_type": "markdown",
   "metadata": {
    "slideshow": {
     "slide_type": "slide"
    }
   },
   "source": [
    "## Approaches to find calibration matrix"
   ]
  },
  {
   "cell_type": "markdown",
   "metadata": {
    "slideshow": {
     "slide_type": "slide"
    }
   },
   "source": [
    "### Hartley algorithm\n",
    "- non-iterative algorithm \n",
    "- finds only focal lengths \n",
    "- requires at least 8 conjugate pairs points\n",
    "- “heavy” mathematics calculation (SVD, determinants equation, and many equation, and more...)\n"
   ]
  },
  {
   "cell_type": "markdown",
   "metadata": {
    "slideshow": {
     "slide_type": "slide"
    }
   },
   "source": [
    "### Hartley algorithm - disadvantages\n",
    "- determining only the focal lengths \n",
    "- requires all other internal camera parameters to be known\n",
    "- heavy computations\n"
   ]
  },
  {
   "cell_type": "markdown",
   "metadata": {
    "slideshow": {
     "slide_type": "slide"
    }
   },
   "source": [
    "### Mendonca - algorithm\n",
    "- extension of Hartley’s self-calibration technique\n",
    "- Input: 3+ images such as contain at least 8+ correspondence points\n",
    "- Output: <b>all</b> intrinsic parameters"
   ]
  },
  {
   "cell_type": "markdown",
   "metadata": {
    "slideshow": {
     "slide_type": "slide"
    }
   },
   "source": [
    "### Mendonca - algorithm\n",
    "Based on the theorem of essential matrix E=[t]<sub>x</sub>R:\n",
    "<br><br><center>A real matrix E<sub>3x3</sub> can be factorized as product of a nonzero skew-symmetric matrix <b>t</b> (translation) and a rotation matrix <b>R</b> \n",
    "<br>if and only if \n",
    "<br>E has 2 identical singular values and a zero singular value</center>"
   ]
  },
  {
   "cell_type": "markdown",
   "metadata": {
    "slideshow": {
     "slide_type": "slide"
    }
   },
   "source": [
    "### Mendonca - algorithm\n",
    "E<sub>3x3</sub> =[t]<sub>x</sub>R   <=>    <sup>1</sup>𝞼=<sup>2</sup>𝞼\n",
    "<br><sup>3</sup>𝞼=0\n",
    "<br>algo aims to find 2 singular values (other than zero) \n",
    "that are as close as possible:\n",
    "<br><sup>1</sup>𝞼 - <sup>2</sup>𝞼 -> 0\n",
    "<br>K is intrinsic matrix"
   ]
  },
  {
   "cell_type": "markdown",
   "metadata": {
    "slideshow": {
     "slide_type": "slide"
    }
   },
   "source": [
    "### Mendonca algorithm\n",
    "Input: 3+ images such as each contains at least 8+ correspondence points\n",
    "\n",
    "Output:  K (intrinsic  parameters)\n",
    "\n",
    "1. Init some random matrix K<sub>i</sub> for every image 1≤ i ≤ n\n",
    "2. Calculate fundamental matrix <b>F</b> for each pair of images (for example via 8-point algorithm with data normalization)\n",
    "3. Calculate essential matrix <b>E</b> for each pair of images (based on F and K)\n",
    "4. Decompose E and find singular values (SVD)\n",
    "4. Calculate error (cost function)\n",
    "6. Minimize error (e.g, via least squares)\n",
    "7. Then cost function reach global minimum: return K\n"
   ]
  },
  {
   "cell_type": "markdown",
   "metadata": {
    "slideshow": {
     "slide_type": "slide"
    }
   },
   "source": [
    "### Input\n",
    "50 points with 5 different views"
   ]
  },
  {
   "cell_type": "code",
   "execution_count": 21,
   "metadata": {
    "slideshow": {
     "slide_type": "subslide"
    }
   },
   "outputs": [
    {
     "name": "stdout",
     "output_type": "stream",
     "text": [
      "(50, 2, 5)\n",
      "[[[111.58224779 139.94549073  80.46274641 274.34902127 491.80624926]\n",
      "  [474.61022454 442.65165232  61.57051883 520.2840845  129.61968581]]\n",
      "\n",
      " [[209.54990699 186.26336769 254.2524521  160.08288915 378.5136024 ]\n",
      "  [355.99710595 297.14220299 105.75998736 367.92443132 300.51917454]]\n",
      "\n",
      " [[287.75704535 281.11491012 280.3518727  236.07782925 261.56041257]\n",
      "  [259.24200232 247.84715214 250.73641143 249.40417916 281.65801376]]\n",
      "\n",
      " [[304.6977166  328.96766477 262.37474022 317.767928   178.28824517]\n",
      "  [158.89154361 210.32222461 360.88292674 176.50584419 232.96023085]]\n",
      "\n",
      " [[184.41724716 159.36871244 281.10277838 201.75436278 231.27703581]\n",
      "  [242.47974538 212.35143843 221.6226932  247.6416408  287.73441065]]\n",
      "\n",
      " [[134.7273839  103.47025089 257.46291648 210.98335273 208.09316358]\n",
      "  [231.74521555 205.15805707 221.25998791 248.48586513 263.00342721]]\n",
      "\n",
      " [[491.87041931 441.66340831 317.86741599 191.37983721 361.12395243]\n",
      "  [373.16580271 310.735454   196.5274842  295.49179515 340.32089719]]\n",
      "\n",
      " [[233.47175542 201.10081533 281.85141335 123.13294559 405.78205389]\n",
      "  [373.25970107 295.10677647  77.2006447  376.75829017 339.51915415]]\n",
      "\n",
      " [[312.75002941 278.67199119 440.06188706 160.73886259 115.15045145]\n",
      "  [130.34619705  72.88094932 340.71686811  81.71904323 398.97875935]]\n",
      "\n",
      " [[498.87436366 452.26973983 323.77121992 199.91110155 337.77366282]\n",
      "  [344.48172156 294.40910799 218.42802069 274.61624299 338.58470908]]\n",
      "\n",
      " [[319.34758864 320.43697353 303.84867271 260.65808533 198.7380086 ]\n",
      "  [188.59308133 197.70581734 320.45314939 183.73042738 283.10833413]]\n",
      "\n",
      " [[256.58909328 286.55709709 263.38079025 349.21146017 106.04581977]\n",
      "  [ 84.33631579 147.63055403 426.60459352 116.2727807  215.30907384]]\n",
      "\n",
      " [[140.99838291 133.55237631 177.03634122 212.21409227 390.59539332]\n",
      "  [368.18292125 332.63673846 100.0742087  413.10191399 221.00960069]]\n",
      "\n",
      " [[374.32708289 410.57580538 319.3490485  328.20464568  98.78375092]\n",
      "  [ 41.04542165 103.38343424 451.72381153  79.1656514  260.2237115 ]]\n",
      "\n",
      " [[307.43282366 294.63020244 385.11182179 230.20534558 100.49806604]\n",
      "  [101.85078616  81.51060549 386.79054131  79.19280291 335.4726546 ]]\n",
      "\n",
      " [[245.59911153 330.70033463  76.00878477 409.75572968 371.92268128]\n",
      "  [443.02571113 515.58458577 241.27513406 399.46211572  82.61593407]]\n",
      "\n",
      " [[400.03214881 414.91371133 367.40425982 279.11785584 103.59116958]\n",
      "  [ 58.22699555  80.949373   430.62239483  70.17076013 308.8978749 ]]\n",
      "\n",
      " [[311.2066683  277.92154819 366.43757428 153.81661012 249.28133625]\n",
      "  [245.99192108 190.9298984  227.05815651 215.08312886 371.60028121]]\n",
      "\n",
      " [[297.95709019 260.46424013 375.33816954 137.79377168 249.72474991]\n",
      "  [247.6944261  185.39880817 214.93365876 216.11098086 383.73617011]]\n",
      "\n",
      " [[147.13395873 118.38279447 249.39469064 183.00889613 282.56685558]\n",
      "  [283.02880104 244.33377899 157.8267023  309.70112129 275.51829682]]\n",
      "\n",
      " [[308.19318578 370.1613538  196.69892265 388.11490572 192.40846639]\n",
      "  [159.28694644 279.39538996 382.30579426 203.40406613 166.81030502]]\n",
      "\n",
      " [[306.77678762 275.60998267 340.54423275 157.94491214 287.07966257]\n",
      "  [280.24811292 224.98518456 199.18605845 253.36129138 356.71750877]]\n",
      "\n",
      " [[ 87.90160451  95.64589607 143.16926227 350.15617179 194.7389124 ]\n",
      "  [216.4711542  261.14565084 292.52884461 266.18210974 134.01942513]]\n",
      "\n",
      " [[228.42740639 269.72666834 201.88376692 368.44904854 172.16178696]\n",
      "  [158.37474859 241.64758877 371.5316127  196.23832165 173.09324198]]\n",
      "\n",
      " [[ 98.81985388  80.53023957 206.29874032 310.32054991 128.805814  ]\n",
      "  [170.32387193 186.37484765 323.68497156 194.20944592 185.48676875]]\n",
      "\n",
      " [[151.53519832 130.60247977 218.8775658  177.69749084 363.68043707]\n",
      "  [341.71651224 295.57764849 102.49768966 380.27568312 263.20570556]]\n",
      "\n",
      " [[378.98046835 326.16107019 366.05412483 101.98933946 379.1260706 ]\n",
      "  [361.28388661 263.89521047 125.28753212 307.9717915  411.4674674 ]]\n",
      "\n",
      " [[292.85158418 228.26508276 531.49723148  39.48110637 131.50123003]\n",
      "  [168.02055049  60.87841484 256.56242129  85.01870064 509.49268241]]\n",
      "\n",
      " [[260.9491565  294.5731124  235.25801931 347.20583777 160.4898206 ]\n",
      "  [142.33818492 211.72575134 379.36251842 172.84435519 202.34044527]]\n",
      "\n",
      " [[294.08289263 357.32539119 236.15637974 396.51616301 105.47452771]\n",
      "  [ 47.10150915 165.7127571  459.81269393 113.92124475 183.3870439 ]]\n",
      "\n",
      " [[139.97902864 157.59555249 161.98631421 328.31264635 242.46937944]\n",
      "  [252.05419784 289.94514857 266.37882837 289.60681126 159.96237755]]\n",
      "\n",
      " [[371.64376995 364.06813541 267.94195144 246.86435441 311.28062203]\n",
      "  [313.97628859 302.42027414 236.58954007 281.99687937 276.07239499]]\n",
      "\n",
      " [[440.98466729 471.01104613 385.35126538 295.96281717  67.61382552]\n",
      "  [ -6.57546422  26.61652346 480.56481602  26.45591594 310.44888238]]\n",
      "\n",
      " [[193.38835685 194.35183554 210.17392352 255.35379678 301.02802292]\n",
      "  [301.63908439 295.39277008 203.1082829  318.02147917 225.51079836]]\n",
      "\n",
      " [[206.33354556 271.64235927 131.51263914 399.1210736  250.96445207]\n",
      "  [252.86030235 357.23279138 318.01344753 286.69530614 119.39100394]]\n",
      "\n",
      " [[236.46495712 208.44267912 271.99438077 141.3025997  397.85470394]\n",
      "  [371.27381428 300.22910576  92.50662505 372.39749617 324.19490471]]\n",
      "\n",
      " [[148.76860036 160.87040225 134.03185848 247.34279844 443.64105321]\n",
      "  [427.38838562 394.52910708  88.93047606 461.38856503 180.07046362]]\n",
      "\n",
      " [[134.98598263  95.28390658 291.59658106 215.57677217 134.41396076]\n",
      "  [181.67871808 152.65653593 280.14259701 176.94775016 276.99706942]]\n",
      "\n",
      " [[102.72090553  80.4702751  208.2416989  267.2674516  187.95292477]\n",
      "  [218.31688355 216.44190183 253.63666343 248.94636419 205.82914841]]\n",
      "\n",
      " [[333.73792642 368.28203253 165.0228784  338.29278891 341.9789533 ]\n",
      "  [375.32653407 413.85408703 246.22165535 340.15005105 171.68898113]]\n",
      "\n",
      " [[185.82777347 156.36865718 266.74461862 149.04778434 345.48557122]\n",
      "  [326.43205314 268.91408708 112.92934929 345.55070562 309.39750677]]\n",
      "\n",
      " [[ 87.18490806  86.10576951 115.45940132 215.84609119 463.81938033]\n",
      "  [415.37677051 374.98103579  34.21506477 500.96134714 173.80914168]]\n",
      "\n",
      " [[232.47720087 220.59380679 268.26041572 222.37922891 267.85642609]\n",
      "  [268.47243805 247.98200219 223.03015055 268.66481226 277.03195244]]\n",
      "\n",
      " [[135.33373313 209.63162461 113.87026269 458.17235947 156.16269568]\n",
      "  [139.82871293 289.82884437 405.57072489 214.66087293  82.49031842]]\n",
      "\n",
      " [[205.53217946 178.38497925 248.58211073 130.45687439 438.57053495]\n",
      "  [396.82178902 319.39057611  50.51730156 416.44317584 313.77304209]]\n",
      "\n",
      " [[106.45305954 137.29274446 151.1296052  427.45378879  97.32117634]\n",
      "  [105.12305503 202.72970988 425.85878566 161.36314871 111.72852538]]\n",
      "\n",
      " [[501.86130975 487.71179976 310.44544579 263.932893   254.3121601 ]\n",
      "  [234.73456104 252.57156539 310.05521674 209.23545233 295.72465619]]\n",
      "\n",
      " [[262.29428753 203.34206707 512.4895603   91.02723217  61.47259317]\n",
      "  [120.57844272  26.65900169 331.34239751  33.35304695 462.46898396]]\n",
      "\n",
      " [[274.25949777 272.63256048 256.36424075 247.50117594 280.62158289]\n",
      "  [279.82462802 272.94398797 238.17557697 273.59176342 262.2163327 ]]\n",
      "\n",
      " [[325.74543982 317.6986433  322.68637041 235.56359683 207.52869344]\n",
      "  [199.7781848  192.23645829 303.03885213 186.31046585 306.02457403]]]\n"
     ]
    }
   ],
   "source": [
    "print(imagePoints.shape)\n",
    "print(imagePoints)"
   ]
  },
  {
   "cell_type": "markdown",
   "metadata": {
    "slideshow": {
     "slide_type": "slide"
    }
   },
   "source": [
    "### 1. Init some random matrix K"
   ]
  },
  {
   "cell_type": "markdown",
   "metadata": {
    "slideshow": {
     "slide_type": "subslide"
    }
   },
   "source": [
    "initial_K = [true_K[0,0], true_K[0,2],true_K[1,1],true_K[1,2]]"
   ]
  },
  {
   "cell_type": "markdown",
   "metadata": {
    "slideshow": {
     "slide_type": "slide"
    }
   },
   "source": [
    "### 2. Calculate fundamental matrix F for each pair of images (for example via 8-point algorithm with data normalization)\n"
   ]
  },
  {
   "cell_type": "code",
   "execution_count": 17,
   "metadata": {
    "slideshow": {
     "slide_type": "subslide"
    }
   },
   "outputs": [],
   "source": [
    "def calc_fund_matrix(points1,points2):\n",
    "    '''\n",
    "    Takes in 2 arrays of matching points \n",
    "    Return Fundamental matrix computes \n",
    "    using 8 point algorithm\n",
    "    '''\n",
    "#     F, mask = cv2.findFundamentalMat(points1,points2,cv2.FM_8POINT)\n",
    "    F, mask = cv2.findFundamentalMat(points1,points2)\n",
    "\n",
    "    return F \n",
    "\n",
    "Fs = np.zeros((3,3,numberOfViews,numberOfViews))\n",
    "\n",
    "for i in range(numberOfViews):\n",
    "    for j in range(i+1,numberOfViews):\n",
    "        Fs[:,:,i,j] = calc_fund_matrix(imagePoints[:,:,i],imagePoints[:,:,j])"
   ]
  },
  {
   "cell_type": "markdown",
   "metadata": {
    "slideshow": {
     "slide_type": "slide"
    }
   },
   "source": [
    "### 3. Calculate essential matrix E for each pair of images (based on F and K)"
   ]
  },
  {
   "cell_type": "code",
   "execution_count": 20,
   "metadata": {
    "slideshow": {
     "slide_type": "subslide"
    }
   },
   "outputs": [],
   "source": [
    "def calculate_essential_matrix(K,F):\n",
    "    return K.T @ F @ K"
   ]
  },
  {
   "cell_type": "markdown",
   "metadata": {
    "slideshow": {
     "slide_type": "slide"
    }
   },
   "source": [
    "### 4. Decompose E and find singular values (SVD)"
   ]
  },
  {
   "cell_type": "code",
   "execution_count": 21,
   "metadata": {
    "slideshow": {
     "slide_type": "subslide"
    }
   },
   "outputs": [],
   "source": [
    "def decompose_singular_values(E):\n",
    "    _,D,_ = np.linalg.svd(E)\n",
    "    # Singular Values (3rd value, D[3] is 0 according to theorem)\n",
    "    r = D[0]\n",
    "    s = D[1]\n",
    "    return r, s"
   ]
  },
  {
   "cell_type": "markdown",
   "metadata": {
    "slideshow": {
     "slide_type": "slide"
    }
   },
   "source": [
    "### 5. Calculate error (cost function)"
   ]
  },
  {
   "cell_type": "markdown",
   "metadata": {
    "slideshow": {
     "slide_type": "subslide"
    }
   },
   "source": [
    "<sup>1</sup>𝞼<sub>ij</sub> , <sup>2</sup>𝞼<sub>ij</sub>  - non zero singular values of E<sub>ij</sub> = K<sup>T</sup><sub>i</sub>F<sub>ij</sub>K<sub>j</sub>, such as <sup>1</sup>𝞼<sub>ij</sub> > <sup>2</sup>𝞼<sub>ij</sub>\n",
    "\n",
    "w<sub>ij</sub> - normalized weight factors\n",
    "\n",
    "Minimize cost function:\n",
    "<center><img src=\"images/cost_function.png\"></center>"
   ]
  },
  {
   "cell_type": "code",
   "execution_count": 22,
   "metadata": {
    "slideshow": {
     "slide_type": "subslide"
    }
   },
   "outputs": [],
   "source": [
    "def mendonca_cost_func(X):\n",
    "    '''\n",
    "    computes Mendonca & Cipolla Cost function to find the Optimal Intrinsic Parameters\n",
    "    Input\n",
    "    X      - Approximate Values of Intrinsics - 1D array with length 5\n",
    "    Output\n",
    "    E    - Computed Cost\n",
    "    '''\n",
    "\n",
    "    K = np.array([\n",
    "        [X[0],0,X[1]],\n",
    "        [0,X[2],X[3]],\n",
    "        [0,0,1]\n",
    "    ])\n",
    "    cost = 0\n",
    "    nof_images = numberOfViews\n",
    "    Den = nof_images*(nof_images-1)/2 \n",
    "\n",
    "    for i in range(0,nof_images-1):\n",
    "        for j in range (i+1,nof_images):\n",
    "            E = calculate_essential_matrix(K, Fs[:,:,i,j])\n",
    "            r,s = decompose_singular_values(E)\n",
    "            cost+= (1/Den) * (r - s)/s\n",
    "\n",
    "    return cost"
   ]
  },
  {
   "cell_type": "markdown",
   "metadata": {
    "slideshow": {
     "slide_type": "slide"
    }
   },
   "source": [
    "### 6. Minimize error (e.g, via least squares)"
   ]
  },
  {
   "cell_type": "code",
   "execution_count": 23,
   "metadata": {
    "slideshow": {
     "slide_type": "subslide"
    }
   },
   "outputs": [],
   "source": [
    "res = opt.minimize(mendonca_cost_func,x0=initial_K, method='Nelder-Mead')"
   ]
  },
  {
   "cell_type": "markdown",
   "metadata": {
    "slideshow": {
     "slide_type": "slide"
    }
   },
   "source": [
    "### 7. Then cost function reach global minimum: return K"
   ]
  },
  {
   "cell_type": "code",
   "execution_count": 24,
   "metadata": {
    "slideshow": {
     "slide_type": "subslide"
    }
   },
   "outputs": [
    {
     "name": "stdout",
     "output_type": "stream",
     "text": [
      "[[799.98911309   0.         255.99920977]\n",
      " [  0.         799.98828015 255.99955479]\n",
      " [  0.           0.           1.        ]]\n"
     ]
    }
   ],
   "source": [
    "result_K = np.array([\n",
    "    [ res.x[0], 0 ,       res.x[1] ],\n",
    "    [ 0,        res.x[2], res.x[3] ],\n",
    "    [ 0,        0,        1        ]\n",
    "])\n",
    "print (np.matrix(result_K))"
   ]
  },
  {
   "cell_type": "markdown",
   "metadata": {
    "slideshow": {
     "slide_type": "slide"
    }
   },
   "source": [
    "### Mendonca | Advantages\n",
    "\n",
    "- simple mathematical calculation\n",
    "\n",
    "- find all unknown intrinsic camera parameters\n",
    "\n",
    "- always converges to the global minimum\n",
    "\n",
    "- has no bias towards any particular image of the sequence\n",
    "\n",
    "- insensitive to the initialization\n"
   ]
  },
  {
   "cell_type": "code",
   "execution_count": 25,
   "metadata": {
    "slideshow": {
     "slide_type": "skip"
    }
   },
   "outputs": [],
   "source": [
    "# result_K = np.zeros((3,3))\n"
   ]
  },
  {
   "cell_type": "code",
   "execution_count": 26,
   "metadata": {
    "slideshow": {
     "slide_type": "skip"
    }
   },
   "outputs": [
    {
     "name": "stdout",
     "output_type": "stream",
     "text": [
      "[[ 100966.57497141       0.         -273208.24876514]\n",
      " [      0.          280794.97424055   -6312.28821548]\n",
      " [      0.               0.               1.        ]]\n"
     ]
    }
   ],
   "source": [
    "initial_K = [1,200,1,1]\n",
    "res = opt.minimize(mendonca_cost_func,x0=initial_K, method='Nelder-Mead')\n",
    "result_K = np.zeros((3,3))\n",
    "result_K = np.array([[res.x[0],0,res.x[1]],[0,res.x[2],res.x[3]],[0,0,1]])\n",
    "print (np.matrix(result_K))"
   ]
  },
  {
   "cell_type": "markdown",
   "metadata": {
    "slideshow": {
     "slide_type": "slide"
    }
   },
   "source": [
    "Mendonca, Paulo RS & Roberto Cipolla \"A simple technique for self-calibration\" 1999,  University of Cambridge, UK"
   ]
  }
 ],
 "metadata": {
  "celltoolbar": "Slideshow",
  "kernelspec": {
   "display_name": "Python 3",
   "language": "python",
   "name": "python3"
  },
  "language_info": {
   "codemirror_mode": {
    "name": "ipython",
    "version": 3
   },
   "file_extension": ".py",
   "mimetype": "text/x-python",
   "name": "python",
   "nbconvert_exporter": "python",
   "pygments_lexer": "ipython3",
   "version": "3.8.5"
  }
 },
 "nbformat": 4,
 "nbformat_minor": 5
}
