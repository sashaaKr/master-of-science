{
 "cells": [
  {
   "cell_type": "code",
   "execution_count": 1,
   "id": "923a72f4",
   "metadata": {},
   "outputs": [],
   "source": [
    "import numpy as np\n",
    "import cv2\n",
    "import scipy.optimize as opt\n",
    "import math\n",
    "import matplotlib.pyplot as plt\n",
    "\n",
    "from mpl_toolkits.mplot3d import Axes3D\n",
    "#np.set_printoptions(precision=None, suppress=True)\n",
    "np.set_printoptions(suppress=True)\n"
   ]
  },
  {
   "cell_type": "code",
   "execution_count": null,
   "id": "fea00283",
   "metadata": {},
   "outputs": [],
   "source": []
  },
  {
   "cell_type": "code",
   "execution_count": 169,
   "id": "9a92c82f",
   "metadata": {},
   "outputs": [],
   "source": [
    "#number of matching points\n",
    "N = 8\n",
    "n_images = 4\n",
    "F = np.zeros((n_images,n_images,3,3))\n",
    "# true_K = np.array([\n",
    "#     [5,0,2],\n",
    "#     [0,5,2],\n",
    "#     [0,0,1]\n",
    "#     ])\n",
    "true_K = np.array([\n",
    "    [800,0,256],\n",
    "    [0,800,256],\n",
    "    [0,0,1]\n",
    "    ])\n",
    "I = np.array([\n",
    "    [1,0,0,0],\n",
    "    [0,1,0,0],\n",
    "    [0,0,1,0]\n",
    "    ])"
   ]
  },
  {
   "cell_type": "code",
   "execution_count": 3,
   "id": "38fe06c4",
   "metadata": {},
   "outputs": [],
   "source": [
    "def calc_fund_matrix(points1,points2):\n",
    "    '''\n",
    "    Takes in 2 arrays of matching points \n",
    "    Return Fundamental matrix computes \n",
    "    using 8 point algorithm\n",
    "    '''\n",
    "#     F, mask = cv2.findFundamentalMat(points1,points2,cv2.FM_8POINT)\n",
    "    F, mask = cv2.findFundamentalMat(points1,points2)\n",
    "\n",
    "    return F "
   ]
  },
  {
   "cell_type": "code",
   "execution_count": 4,
   "id": "311607ee",
   "metadata": {},
   "outputs": [],
   "source": [
    "def normalize_coordinates(p):\n",
    "    # Normalization matrix\n",
    "    T_m = normalization_matrix(p)\n",
    "    # Normalized points\n",
    "    p_norm = (T_m@(p.T)).T\n",
    "    return p_norm, T_m\n",
    "\n",
    "    \n",
    "def manual_find_F_matrix(xy1,xy2):\n",
    "    # Input: xy1 , xy2 - 2d array of points: row per point [x,y]\n",
    "    # xy1 - for image 1, xy2 - for image 2\n",
    "    # FM compute fundametal matrix from point correspondence\n",
    "    #    at least 8 points are needed\n",
    "    \n",
    "    n_points = xy1.shape[0]\n",
    "    if n_points < 8:\n",
    "        print('8 points at least are needed')\n",
    "    \n",
    "    #add 3rd coordinate '1'\n",
    "    xy1 = projectivation(xy1)\n",
    "    xy2 = projectivation(xy2)\n",
    "    \n",
    "    \n",
    "    #normalize coordinates\n",
    "    xy1_norm, T1 = normalize_coordinates(xy1)\n",
    "    xy2_norm, T2 = normalize_coordinates(xy2)\n",
    "    \n",
    "    # Preparing the equation matrix\n",
    "    M = np.zeros((n_points,9))\n",
    "    M[:,0] = xy1_norm[:,0]*xy2_norm[:,0] # x1 * x2\n",
    "    M[:,1] = xy1_norm[:,0]*xy2_norm[:,1] # x1 * y2 \n",
    "    M[:,2] = xy1_norm[:,0] # x1\n",
    "    M[:,3] = xy1_norm[:,1]*xy2_norm[:,0] # y1 * x2\n",
    "    M[:,4] = xy1_norm[:,1]*xy2_norm[:,1] # y1 * y2\n",
    "    M[:,5] = xy1_norm[:,1] # y1\n",
    "    M[:,6] = xy2_norm[:,0] # x2\n",
    "    M[:,7] = xy2_norm[:,1] # y2\n",
    "    M[:,8] = 1\n",
    "\n",
    "    # calc M^T * M to get symmetruc square matrix\n",
    "    W = M.T@M\n",
    "    \n",
    "    # desompose W into U (singular values), D (diagonal matrix), Vt (singular vectors)\n",
    "    U,D,Vt = np.linalg.svd(W,compute_uv=True)\n",
    "    a = U[:,-1]     # solution vector corresponding to the \n",
    "                    # least singular value\n",
    "    A = np.reshape(a.T,(3,3))\n",
    "\n",
    "    # Returning to non-normalized points\n",
    "    F = np.linalg.inv(T2)@A@T1\n",
    "\n",
    "    return F"
   ]
  },
  {
   "cell_type": "code",
   "execution_count": 5,
   "id": "4bdd346e",
   "metadata": {},
   "outputs": [],
   "source": [
    "### function used in class\n",
    "def projectivation(p):\n",
    "    '''\n",
    "    Input: p, Nxd matrix = N points in R^d\n",
    "    Output: q, Nx(d+1) = N points in P^d\n",
    "    '''\n",
    "    N,d = p.shape\n",
    "    q = np.ones((N,d+1))\n",
    "    q[:,0:d] = p \n",
    "    return q \n",
    "\n",
    "def affinization(q):\n",
    "    '''\n",
    "    Input: q, Nx(d+1) = N points in P^d\n",
    "    Output: p, Nxd matrix = N points in R^d\n",
    "    '''\n",
    "    N,d1 = q.shape\n",
    "    d = d1-1\n",
    "    p = np.ones((N,d))\n",
    "    p = q[:,0:d]/q[:,d:d+1] \n",
    "    \n",
    "    return p\n",
    "\n",
    "def normalization_matrix(p):\n",
    "    '''\n",
    "    Input: p: Nx2 matrix\n",
    "    Output: T, normalization matrix (in projective plane) \n",
    "    '''\n",
    "\n",
    "    # Computation\n",
    "    m = np.mean(p,axis=0)\n",
    "    q = p - np.repeat(m[np.newaxis,:],N,axis=0)\n",
    "    w = np.sqrt(np.sum(q**2,axis=1))\n",
    "    scale = 1/np.mean(w)\n",
    "\n",
    "    # Normalization matrix\n",
    "    T = np.zeros((3,3))\n",
    "    T[2,2] = 1\n",
    "    T[0,0] = scale\n",
    "    T[0,2] = -m[0]*scale\n",
    "    T[1,1] = scale\n",
    "    T[1,2] = -m[1]*scale\n",
    "        \n",
    "    return T"
   ]
  },
  {
   "cell_type": "code",
   "execution_count": 271,
   "id": "23b7c875",
   "metadata": {},
   "outputs": [],
   "source": [
    "def mendonca_cost_func(X):\n",
    "    '''\n",
    "    computes Mendonca & Cipolla Cost function to find the Optimal Intrinsic Parameters\n",
    "    Input\n",
    "    X      - Approximate Values of Intrinsics - 1D array with length 5\n",
    "    Output\n",
    "    E    - Computed Cost\n",
    "    '''\n",
    "\n",
    "    #Transform Intrinsics to Matrix Form\n",
    "#     K = np.array([\n",
    "#         [X[0],X[1],X[2]],\n",
    "#         [0,X[3],X[4]],\n",
    "#         [0,0,1]\n",
    "#     ])\n",
    "    K = np.array([\n",
    "        [X[0],0,X[1]],\n",
    "        [0,X[2],X[3]],\n",
    "        [0,0,1]\n",
    "    ])\n",
    "    #Initialize Cost\n",
    "    E = 0\n",
    "    '''\n",
    "       F - globally defined Fundamental Matrix between given two Images (F[i,j,3x3])\n",
    "    '''\n",
    "    # For the Denominator term of Mendonca & Cipolla's Equation\n",
    "#     nof_images = len(F[0]) #number of images given\n",
    "    nof_images = numberOfViews\n",
    "    Den = nof_images*(nof_images-1)/2 # For N Images there are N(N-1)/2 Fundamental Matrices\n",
    "  # 0 1 2 3 [0-1, 0-2,0-3, 1-2,1-3,2-3]\n",
    "    # i  j\n",
    "    # 0 -1 \n",
    "    # 0 -2\n",
    "    # 0 -3\n",
    "    # 1- 2\n",
    "    # 1 -3\n",
    "    # 2 -3\n",
    "  # len =4\n",
    "\n",
    "    #Compute the Cost using Mendonca & Cipolla's Equation\n",
    "    for i in range(0,nof_images-1):\n",
    "        for j in range (i+1,nof_images):\n",
    "\n",
    "            # Compute the Essential Matrix 'EM' from Fundamental of images i,j\n",
    "#             EM = K.T @ F[i,j,:,:] @ K\n",
    "            EM = K.T @ Fs[:,:,i,j] @ K\n",
    "\n",
    "            # Compute SVD of Essential Matrix\n",
    "            _,D,_ = np.linalg.svd(EM)\n",
    "             # Singular Values (3rd value, D[3] is 0 according to theorem)\n",
    "            r = D[0]\n",
    "            s = D[1]\n",
    "            \n",
    "            #  Compute Cost\n",
    "\n",
    "            E+= (1/Den) * (r - s)/s\n",
    "\n",
    "    return E\n"
   ]
  },
  {
   "cell_type": "code",
   "execution_count": 216,
   "id": "4a82382b",
   "metadata": {},
   "outputs": [],
   "source": [
    "def p3t(T,x,y,z):\n",
    "    # apply a Projective 3D Transform\n",
    "#     print(x.shape)\n",
    "    xyz = np.concatenate((x, y, z),axis=1)\n",
    "#     print(xyz)\n",
    "#     print(\"np.concatenate((xyz,column_ones),axis=1)\")\n",
    "    column_ones = np.ones((len(x),1))\n",
    "#     print(np.concatenate((xyz,column_ones),axis=1))\n",
    "    tmp = T @ (np.concatenate((xyz,column_ones),axis=1)).T\n",
    "    xp = (tmp[0,:]/tmp[3,:]).T\n",
    "    yp = (tmp[1,:]/tmp[3,:]).T\n",
    "    zp = (tmp[2,:]/tmp[3,:]).T\n",
    "    return xp,yp,zp"
   ]
  },
  {
   "cell_type": "code",
   "execution_count": 237,
   "id": "aaa74530",
   "metadata": {},
   "outputs": [],
   "source": [
    "def projf(P,x,y,z):\n",
    "#     % PROJ  compute perspective projection (from 3D to pixel coordinates)\n",
    "#     %   pixel positions are returned with floating point precision\n",
    "#     %\n",
    "#     %   See also PROJE\n",
    "    print(\"P\\n\",P.shape)\n",
    "    c3d = np.concatenate((x, y, z),axis=1)\n",
    "    print(\"c3d\\n\",c3d.shape)\n",
    "    column_ones = np.ones((len(x),1))\n",
    "    h3d = (np.concatenate((c3d,column_ones),axis=1)).T\n",
    "    print(\"h3d\\n\",h3d.shape)\n",
    "    h2d = P @ h3d\n",
    "    print(\"h2d.shape\\n\",h2d.shape)\n",
    "    print(\"h2d\\n\",h2d)\n",
    "\n",
    "    c2d = h2d / h2d[2,:]\n",
    "\n",
    "    u = c2d[0,:].T\n",
    "    v = c2d[1,:].T\n",
    "    return u,v"
   ]
  },
  {
   "cell_type": "code",
   "execution_count": 167,
   "id": "4d0ea2d2",
   "metadata": {},
   "outputs": [],
   "source": [
    "def plot_3d(x,y,z):\n",
    "    fig = plt.figure()\n",
    "    ax = fig.add_subplot(111, projection='3d')\n",
    "    ax.scatter(x,y,z)\n",
    "    plt.show()"
   ]
  },
  {
   "cell_type": "code",
   "execution_count": 245,
   "id": "8595564f",
   "metadata": {},
   "outputs": [],
   "source": [
    "def plot_2d(x,y):\n",
    "    fig = plt.figure()\n",
    "    ax = fig.add_subplot(111)\n",
    "    ax.scatter(x,y)\n",
    "    plt.show()"
   ]
  },
  {
   "cell_type": "code",
   "execution_count": 222,
   "id": "75fb32f3",
   "metadata": {},
   "outputs": [],
   "source": [
    "def conver_to_col(x):\n",
    "    return np.reshape(x,(len(x),1))"
   ]
  },
  {
   "cell_type": "code",
   "execution_count": 177,
   "id": "7d35e7a0",
   "metadata": {},
   "outputs": [],
   "source": [
    "def rcam(A):\n",
    "# RCAM generate a random camera\n",
    "#    generate a random camera pointing to lookp, positioned at an average \n",
    "#    distance ad form the origin, with a std dev of sd \n",
    "#    A is the intrinsic parameters matrix\n",
    "\n",
    "    ad=2.5\n",
    "    sd=0.25\n",
    "    lookp=np.zeros((1,3))\n",
    "    eyep = np.random.uniform(-1,1,size=(1,3))-0.5\n",
    "    R = np.zeros((3,3))\n",
    "    eyep = eyep/np.linalg.norm(eyep) * (ad + sd*np.random.randint(1))\n",
    "#     print(eyep)\n",
    "    R[2,:] = lookp - eyep/np.linalg.norm(lookp - eyep)\n",
    "    R[1,:] = np.cross(R[2,:],np.random.uniform(size=(1,3)))\n",
    "    R[1,:] = R[1,:]/np.linalg.norm(R[1,:])\n",
    "    R[0,:] = np.cross(R[1,:],R[2,:])\n",
    "    Rt = np.concatenate((R,-R @ eyep.T),axis=1)\n",
    "#     print(np.matrix(Rt))\n",
    "    return A @ Rt\n"
   ]
  },
  {
   "cell_type": "code",
   "execution_count": 240,
   "id": "a4c26faf",
   "metadata": {},
   "outputs": [],
   "source": [
    "numberOfViews=5\n",
    "numberOfPoints = 50\n",
    "imagePoints = np.zeros((numberOfPoints,2,numberOfViews))\n",
    "PPM = np.zeros((3,4,numberOfViews))\n",
    "PPMGT = np.zeros((3,4,numberOfViews))"
   ]
  },
  {
   "cell_type": "code",
   "execution_count": 262,
   "id": "a15675d9",
   "metadata": {},
   "outputs": [],
   "source": [
    "Fs = np.zeros((3,3,numberOfViews,numberOfViews))"
   ]
  },
  {
   "cell_type": "code",
   "execution_count": 204,
   "id": "6e9377e6",
   "metadata": {},
   "outputs": [
    {
     "data": {
      "image/png": "[encoded data removed]",
      "text/plain": [
       "<Figure size 432x288 with 1 Axes>"
      ]
     },
     "metadata": {
      "needs_background": "light"
     },
     "output_type": "display_data"
    },
    {
     "name": "stdout",
     "output_type": "stream",
     "text": [
      "matrix P\n",
      " [[ 587.03482937  600.67313676  -10.85780279  640.        ]\n",
      " [-287.3175218   402.17452547  679.14673874  640.        ]\n",
      " [   0.63423333   -0.18005342    0.75188353    2.5       ]]\n",
      "invAP\n",
      " [[ 0.53083887  0.80845852 -0.25417498  0.        ]\n",
      " [-0.56210157  0.56033525  0.60833069 -0.        ]\n",
      " [ 0.63423333 -0.18005342  0.75188353  2.5       ]]\n",
      "lower_line\n",
      " [[0, 0, 0, 1]]\n",
      "G0\n",
      " [[ 0.53083887  0.80845852 -0.25417498  0.        ]\n",
      " [-0.56210157  0.56033525  0.60833069 -0.        ]\n",
      " [ 0.63423333 -0.18005342  0.75188353  2.5       ]\n",
      " [ 0.          0.          0.          1.        ]]\n"
     ]
    }
   ],
   "source": [
    "### test same as italian\n",
    "data = (np.random.uniform(size=(numberOfPoints,3))-0.5)/(math.sqrt(3)/2)\n",
    "x = data[:,0]\n",
    "y = data[:,1]\n",
    "z = data[:,2]\n",
    "xr = np.reshape(x,(len(x),1))\n",
    "yr = np.reshape(y,(len(y),1))\n",
    "zr = np.reshape(z,(len(z),1))\n",
    "\n",
    "plot_3d(x,y,z)\n",
    "A = true_K\n",
    "P = rcam(A)\n",
    "print(\"matrix P\\n\",np.matrix(P))\n",
    "invAP = np.linalg.inv(A) @ P\n",
    "print(\"invAP\\n\",invAP)\n",
    "lower_line = [[0,0,0,1]]\n",
    "print(\"lower_line\\n\",lower_line)\n",
    "G0 = np.concatenate((invAP, lower_line),axis=0)\n",
    "print(\"G0\\n\",np.matrix(G0))\n"
   ]
  },
  {
   "cell_type": "code",
   "execution_count": 260,
   "id": "685d189f",
   "metadata": {},
   "outputs": [
    {
     "name": "stdout",
     "output_type": "stream",
     "text": [
      "P\n",
      " (3, 4)\n",
      "c3d\n",
      " (50, 3)\n",
      "h3d\n",
      " (4, 50)\n",
      "h2d.shape\n",
      " (3, 50)\n",
      "h2d\n",
      " [[ 383.69386359  997.59740065  357.11273364  387.13626338  712.3220197\n",
      "   211.92940913  403.21264368  506.91234271  777.54055769 1158.10633771\n",
      "   426.96451727  865.85474389  578.92560329  500.8608908   672.67925734\n",
      "   510.1388324   953.26411046   95.80753029  618.63399816  858.46475049\n",
      "   464.27899499  232.54981325  900.38469067  748.04739816  459.46046473\n",
      "   509.43473341  818.79032664  358.61161015  719.10963235  572.85380955\n",
      "   620.02829119  340.11461082 1183.53882022  254.38494821  817.40833813\n",
      "   524.51549246  759.91159097  264.99054559  579.3466756   347.45695129\n",
      "   715.87684536  369.13185598  387.00232739  301.34401019 1057.50168219\n",
      "   323.96151945  397.43167542  379.93469193  630.27847232  464.12965059]\n",
      " [ 821.10100277 1090.13255199  722.72700413  717.23299326  129.90519933\n",
      "   360.29062371 1001.30395453  828.54509268  961.75028401  407.42765253\n",
      "   662.59287054  931.34063226  596.1904106   812.82287578 1032.86464303\n",
      "  1149.88580568  657.13148148  717.62265698 1235.81951244  464.06449504\n",
      "   687.20580156  362.67284666  989.62827027  660.49795528 1030.45112148\n",
      "    94.9103711   386.48351723  524.66493755  375.41031505 1271.18156784\n",
      "   731.70415577  673.81160858 1015.46811827  835.3405875  1083.81250314\n",
      "   -17.10257963  767.35885685  587.71786782  537.60029374  738.89960667\n",
      "   549.82690674  330.87859591  150.54750558  868.59722415 1109.89608969\n",
      "   689.96227503  787.46986069  482.39191488 1044.07271407  961.05167319]\n",
      " [   2.14331918    2.95661302    2.02463811    2.90962612    2.63390828\n",
      "     1.91563406    2.25611637    2.48035835    2.50239571    2.41547711\n",
      "     2.18066398    2.95838506    2.78035264    2.04349172    2.48410962\n",
      "     2.58503831    2.66987338    2.33955057    2.58066611    2.06750023\n",
      "     2.36217418    2.37718892    2.95891966    3.19837611    2.30586304\n",
      "     2.55834406    2.67062679    2.08169838    2.02429616    2.45756905\n",
      "     2.96344259    2.26420037    3.01477919    2.30316078    2.73303484\n",
      "     2.38340217    2.15744599    2.31094479    2.34767825    2.68349535\n",
      "     2.68217271    2.42432089    2.45881398    2.78722778    3.00498664\n",
      "     2.05960188    2.75333801    2.47207607    2.16077348    2.35227278]]\n",
      "u\n",
      " [179.01853652 337.41223308 176.38348857 133.05361164 270.44298595\n",
      " 110.6314684  178.7197899  204.37060783 310.7184668  479.45241596\n",
      " 195.79564825 292.67817653 208.22020731 245.10052407 270.79290406\n",
      " 197.34285221 357.04468854  40.95125427 239.71872857 415.21869588\n",
      " 196.54731587  97.82555002 304.29507869 233.88349972 199.25748237\n",
      " 199.12674854 306.59107101 172.26876559 355.23933951 233.09774722\n",
      " 209.22567972 150.21400711 392.57894053 110.45036493 299.08449254\n",
      " 220.07007381 352.22739892 114.6676229  246.77430824 129.4792447\n",
      " 266.90184494 152.26196237 157.39390228 108.11603276 351.91560142\n",
      " 157.29327263 144.34539974 153.69053405 291.69113707 197.31115143]\n",
      "v\n",
      " [383.09786473 368.70992094 356.96601734 246.5034903   49.32032006\n",
      " 188.07904441 443.81751214 334.04249599 384.33181489 168.67377889\n",
      " 303.8491382  314.81386444 214.42978197 397.76176677 415.78867363\n",
      " 444.82350726 246.12833166 306.73526191 478.8761742  224.45680423\n",
      " 290.92088422 152.56374627 334.45594477 206.51040792 446.88305509\n",
      "  37.09836091 144.71640861 252.03696306 185.45226815 517.25161783\n",
      " 246.91018381 297.59363033 336.83001453 362.6931286  396.56007577\n",
      "  -7.17570027 355.67928875 254.31930293 228.99232219 275.34968757\n",
      " 204.99310287 136.48300331  61.2276922  311.63481857 369.35142184\n",
      " 334.99788621 286.00551706 195.13635525 483.19396985 408.56302109]\n"
     ]
    }
   ],
   "source": [
    "x,y,z = p3t(G0,xr,yr,zr)\n",
    "P = A @ np.concatenate((np.identity(3), np.zeros((3,1))),axis=1)\n",
    "# print(\"P\\n\",P)\n",
    "# print(x)\n",
    "# print(conver_to_col(x))\n",
    "u,v = projf(P,conver_to_col(x),conver_to_col(y),conver_to_col(z))\n",
    "\n",
    "imagePoints[:,0,0] = u\n",
    "imagePoints[:,1,0] = v\n",
    "PPMGT[:,:,0] = P\n",
    "\n",
    "print(\"u\\n\",u)\n",
    "print(\"v\\n\",v)"
   ]
  },
  {
   "cell_type": "code",
   "execution_count": 258,
   "id": "d0d54bd2",
   "metadata": {},
   "outputs": [
    {
     "name": "stdout",
     "output_type": "stream",
     "text": [
      "P\n",
      " (3, 4)\n",
      "c3d\n",
      " (50, 3)\n",
      "h3d\n",
      " (4, 50)\n",
      "h2d.shape\n",
      " (3, 50)\n",
      "h2d\n",
      " [[ 505.32694295 1085.09084346  386.44876075  999.50369589  514.56272165\n",
      "   186.15985584  654.52115887  724.54398758  750.2687828   402.07249563\n",
      "   459.98396342 1043.10363648  828.54517534  412.99151727  783.40416922\n",
      "   928.11752176  715.17740669  647.45085824  942.41163077  229.89083486\n",
      "   591.13777299  507.22115375 1061.59025954 1120.19960393  692.1131998\n",
      "   480.29457445  627.40941619  345.60673215  186.15802376  877.96663081\n",
      "  1005.31279438  537.18021416 1065.30059887  644.11346958  955.08430358\n",
      "   309.68160175  432.31247738  547.09857681  501.43877649  856.29488122\n",
      "   718.65837351  505.15038546  453.05173307  989.23807191 1117.30952755\n",
      "   402.99850422  916.88980642  598.5074779   568.26435324  695.64141392]\n",
      " [ 202.85109947  711.96294417  206.2979696   635.37003317 1117.66495184\n",
      "   345.05076764  132.43797473  419.69267308  477.91572293 1053.00394359\n",
      "   360.5627215   758.77007785  768.80387073  226.24233605  360.22352056\n",
      "   232.49084833  875.29037435  214.15647354  225.7088683   688.34295213\n",
      "   446.41305078  567.63747668  734.65456964 1005.89406171  164.32198461\n",
      "   998.84146597 1002.75112428  379.7264816   658.46323392  117.9699423\n",
      "   775.53705123  343.87690271  894.56196987  196.20897124  515.87703576\n",
      "  1008.91290269  452.59870253  388.40254972  612.44798518  493.45449295\n",
      "   831.78415014  686.77807052  845.54633759  420.64365452  752.12038845\n",
      "   228.70816517  516.88371616  602.79322381  179.6601741   239.53349303]\n",
      " [   2.35288835    3.06921055    2.28574513    2.22735473    2.3031698\n",
      "     1.95505626    2.454934      2.45557782    2.81222594    2.94567911\n",
      "     2.31448191    2.84624455    2.38415936    2.48437929    2.73784753\n",
      "     2.6132063     2.82832548    1.97127024    2.77415618    2.68743122\n",
      "     2.34914552    1.93261921    2.91312045    2.55722597    2.52532684\n",
      "     2.07487048    2.54524874    2.18026955    2.49666928    2.75531674\n",
      "     2.47952406    2.21867048    3.22488442    2.20545583    2.89465789\n",
      "     2.05106601    2.72798103    2.08927072    2.39754391    2.21827802\n",
      "     2.51723014    2.05833454    1.98175917    2.22487963    3.13886113\n",
      "     2.22989696    2.28988624    2.1427832     2.73013855    2.49019784]]\n"
     ]
    },
    {
     "data": {
      "image/png": "[encoded data removed]",
      "text/plain": [
       "<Figure size 432x288 with 1 Axes>"
      ]
     },
     "metadata": {
      "needs_background": "light"
     },
     "output_type": "display_data"
    },
    {
     "name": "stdout",
     "output_type": "stream",
     "text": [
      "P\n",
      " (3, 4)\n",
      "c3d\n",
      " (50, 3)\n",
      "h3d\n",
      " (4, 50)\n",
      "h2d.shape\n",
      " (3, 50)\n",
      "h2d\n",
      " [[ 514.26872231 1214.99989565  403.08107077  727.47241051  416.82113536\n",
      "    90.94729347  668.6819041   689.3958072   887.03279409  685.86634927\n",
      "   451.94943812 1067.87516922  688.94496102  522.00459453  879.31058253\n",
      "   917.39706996  839.4286618   404.81456602 1011.09730286  472.06375338\n",
      "   546.46303096  265.26269741 1116.61597689  945.31103142  726.71134894\n",
      "   285.84982492  624.89586508  307.2980642   347.12126095  969.2588877\n",
      "   850.93823284  452.60913338 1268.17744251  526.43398455 1057.53039497\n",
      "   163.71203581  642.32867253  387.63213641  500.44464055  643.36475115\n",
      "   682.95746979  319.47820644  232.83715895  737.79569063 1268.51348838\n",
      "   382.59562993  717.42101354  430.22752985  753.28999395  704.26469712]\n",
      " [ 297.07616183  695.57734985  327.96695582  397.16401077 1013.22878794\n",
      "   416.52060457  210.8876525   412.87168605  564.45204528 1216.49527519\n",
      "   430.5630102   678.63433597  627.03622902  397.2206388   431.75701009\n",
      "   227.89921149  904.14510513  122.94928482  268.57852771  911.63681435\n",
      "   455.85822445  453.68990807  673.13607731  751.53596755  243.57609363\n",
      "   858.04105637  951.83554612  450.48880693  844.14884347  202.81357211\n",
      "   589.19560882  353.72136829  901.2356979   185.76116962  535.7859318\n",
      "   930.00106232  650.16409285  343.47652639  642.7649846   340.09872169\n",
      "   766.91105052  591.14821813  715.95597649  227.8827366   736.93675175\n",
      "   320.96840457  356.72854548  511.76078737  374.20820673  291.23872874]\n",
      " [   2.64162281    2.76636805    2.64880221    1.97673591    2.15192824\n",
      "     2.37006352    2.68242179    2.50097594    2.83036392    2.93112004\n",
      "     2.55718957    2.5384672     2.19215377    2.83000101    2.78579157\n",
      "     2.61890007    2.68323589    2.14142035    2.78134782    2.94701346\n",
      "     2.46566153    2.02763621    2.60764826    2.0674893     2.71615217\n",
      "     1.99139893    2.38477288    2.48362856    2.7902091     2.85534136\n",
      "     2.17119364    2.41315094    2.85668705    2.39767781    2.76242671\n",
      "     2.07537236    2.96582639    2.24985451    2.49788363    2.12956637\n",
      "     2.37521436    2.10465881    1.98420436    2.08224076    2.79899894\n",
      "     2.56864338    2.15323077    2.17061143    3.00621145    2.64149648]]\n"
     ]
    },
    {
     "data": {
      "image/png": "[encoded data removed]",
      "text/plain": [
       "<Figure size 432x288 with 1 Axes>"
      ]
     },
     "metadata": {
      "needs_background": "light"
     },
     "output_type": "display_data"
    },
    {
     "name": "stdout",
     "output_type": "stream",
     "text": [
      "P\n",
      " (3, 4)\n",
      "c3d\n",
      " (50, 3)\n",
      "h3d\n",
      " (4, 50)\n",
      "h2d.shape\n",
      " (3, 50)\n",
      "h2d\n",
      " [[ 787.44443308 1118.24097712  684.83907087  719.89015467  151.99597857\n",
      "   318.69987548  969.26029544  816.03801432  961.3580678   436.89190809\n",
      "   636.71877486  956.37886915  606.3046003   781.21422935 1024.37340736\n",
      "  1134.34600002  680.81191859  679.78656406 1223.76809812  460.97075573\n",
      "   670.67853727  342.36425667 1015.11067072  696.37328094 1002.87102481\n",
      "   103.75541281  409.61753326  494.16424293  365.16769982 1250.44060315\n",
      "   748.74536195  646.71460071 1057.81904015  801.47860061 1092.69357103\n",
      "   -12.41199385  755.61589087  560.76800668  530.18065784  729.00446109\n",
      "   564.03644106  320.66582697  147.17191211  857.65530487 1142.8297805\n",
      "   652.64126198  782.11519652  471.17211928 1018.87475309  937.43884393]\n",
      " [ 373.03581328  804.59714941  298.90081339 1098.80961895  857.01365173\n",
      "   345.58124903  424.81029133  630.15098183  508.60690052  409.37059666\n",
      "   428.15148317  897.97912223  932.14251077  236.20267778  517.03636238\n",
      "   646.8818384   664.76556404  694.30922465  578.17372087  198.06432143\n",
      "   573.37390395  759.48570522  870.38018904 1231.10225629  440.5703104\n",
      "   878.3286442   785.42125369  398.55602599  236.32935084  475.35479606\n",
      "  1050.40914668  537.08625438  800.76795677  568.31317195  674.19115441\n",
      "   739.10846344  246.83533677  631.15241618  549.80349984  902.45427357\n",
      "   798.04474932  755.12468979  823.18881981  984.70703228  819.89408545\n",
      "   352.27739928  934.45489883  757.79200554  235.26778205  498.01211198]\n",
      " [   2.11667351    3.03901566    2.03883931    2.44025185    2.60815206\n",
      "     1.84674787    2.1879639     2.37375803    2.63872707    2.93883814\n",
      "     2.16781332    2.91242871    2.56025536    2.18319201    2.53570141\n",
      "     2.43079743    2.86347117    1.92873108    2.53244367    2.51508907\n",
      "     2.27989519    2.06087329    2.94653961    2.89594863    2.26215095\n",
      "     2.38656407    2.73048969    2.05825989    2.36458289    2.43899236\n",
      "     2.67992212    2.12269007    3.23414598    2.06438994    2.77691065\n",
      "     2.32328736    2.47073687    2.0699527     2.37616372    2.30854861\n",
      "     2.64469523    2.20677139    2.23242597    2.31345149    3.11573476\n",
      "     2.02178026    2.38598396    2.24161777    2.36010473    2.28396194]]\n"
     ]
    },
    {
     "data": {
      "image/png": "[encoded data removed]",
      "text/plain": [
       "<Figure size 432x288 with 1 Axes>"
      ]
     },
     "metadata": {
      "needs_background": "light"
     },
     "output_type": "display_data"
    },
    {
     "name": "stdout",
     "output_type": "stream",
     "text": [
      "P\n",
      " (3, 4)\n",
      "c3d\n",
      " (50, 3)\n",
      "h3d\n",
      " (4, 50)\n",
      "h2d.shape\n",
      " (3, 50)\n",
      "h2d\n",
      " [[ 215.17328751  689.68006271  227.93641658  586.89775676 1116.98748248\n",
      "   371.68649757  134.54222301  411.51234085  481.63237172 1091.91444722\n",
      "   374.19533028  730.80649063  743.11174188  253.38771398  358.65113999\n",
      "   212.14023255  878.9800983   195.52465185  210.81045823  737.91316992\n",
      "   447.11703609  557.92512847  707.89900652  955.03326951  165.21332975\n",
      "   993.26255867 1002.0291954   399.18928257  704.73489135  110.05941458\n",
      "   735.67282099  345.68620843  878.95071942  188.07694106  501.65146999\n",
      "  1019.73555421  485.66374311  383.2049716   622.62038468  460.84639177\n",
      "   822.35512096  681.33222303  840.46962866  375.45267374  729.05506267\n",
      "   246.02765385  480.84362824  592.26328288  201.81791273  237.75120127]\n",
      " [ 728.96531283  651.68516439  782.93097786  133.09741844  521.27738378\n",
      "   693.31693129  685.88354212  574.24963263  798.45197386 1093.10678921\n",
      "   712.31511508  519.04898609  370.19977109  899.45729843  737.26107097\n",
      "   545.03473828  769.25494456  328.962651    649.81039509 1121.51321023\n",
      "   608.32586273  359.23978831  555.53313367  199.82138629  698.32418874\n",
      "   407.78483874  618.51688787  711.25449208 1027.32410034  711.34917372\n",
      "   284.60702207  579.43419312  748.2528333   503.7625062   673.65941406\n",
      "   536.58544187 1017.6543685   469.65612546  691.12683725  276.00105913\n",
      "   549.93764098  430.2493709   391.76552462  178.66960281  666.76242728\n",
      "   724.35431802  270.91105925  425.27824327  950.36594314  656.49068356]\n",
      " [   2.31603608    3.14427261    2.21899466    2.37650279    2.29974304\n",
      "     1.86825956    2.45165741    2.48239701    2.80495444    2.825211\n",
      "     2.27196112    2.93649529    2.46252842    2.40224133    2.74726869\n",
      "     2.68115109    2.81834693    2.02745064    2.82670123    2.53365302\n",
      "     2.34684811    1.95783105    3.00044408    2.71445087    2.52632805\n",
      "     2.08536816    2.54527267    2.11797606    2.35151274    2.78657621\n",
      "     2.60321713    2.21234795    3.27926409    2.23124693    2.94416003\n",
      "     2.00985533    2.62808389    2.10325883    2.36483522    2.31868116\n",
      "     2.54552342    2.07056793    1.99087816    2.36531779    3.21678315\n",
      "     2.17594586    2.40159555    2.17242843    2.66646926    2.49866071]]\n"
     ]
    },
    {
     "data": {
      "image/png": "[encoded data removed]",
      "text/plain": [
       "<Figure size 432x288 with 1 Axes>"
      ]
     },
     "metadata": {
      "needs_background": "light"
     },
     "output_type": "display_data"
    }
   ],
   "source": [
    "for view in range (1,numberOfViews):\n",
    "\n",
    "    #   % random camera position\n",
    "    P = rcam(A)\n",
    "\n",
    "    #   % apply world coordinate transformation\n",
    "    P = P @ np.linalg.inv(G0);\n",
    "\n",
    "    #   % project world points to image points\n",
    "    u,v = projf(P,conver_to_col(x),conver_to_col(y),conver_to_col(z))\n",
    "\n",
    "    #   % add noise to image points\n",
    "    #       u = u + sigma * randn(size(u));\n",
    "    #       v = v + sigma * randn(size(v));\n",
    "\n",
    "    imagePoints[:,0,view] = u\n",
    "    imagePoints[:,1,view] = v\n",
    "\n",
    "    PPMGT[:,:,view] = P   \n",
    "    plot_2d(u,v)"
   ]
  },
  {
   "cell_type": "code",
   "execution_count": 268,
   "id": "3a9a90fa",
   "metadata": {},
   "outputs": [],
   "source": [
    "\n",
    "for i in range(numberOfViews):\n",
    "    for j in range(i+1,numberOfViews):\n",
    "        Fs[:,:,i,j] = calc_fund_matrix(imagePoints[:,:,i],imagePoints[:,:,j])"
   ]
  },
  {
   "cell_type": "code",
   "execution_count": 272,
   "id": "39b29163",
   "metadata": {},
   "outputs": [],
   "source": [
    "initial_K =  [true_K[0,0], true_K[0,2],true_K[1,1],true_K[1,2]]\n",
    "res = opt.minimize(mendonca_cost_func,x0=initial_K, method='Nelder-Mead')"
   ]
  },
  {
   "cell_type": "code",
   "execution_count": 273,
   "id": "a0566ef9",
   "metadata": {},
   "outputs": [
    {
     "name": "stdout",
     "output_type": "stream",
     "text": [
      "[[800.2885795    0.         256.0010802 ]\n",
      " [  0.         800.28578167 256.00230876]\n",
      " [  0.           0.           1.        ]]\n"
     ]
    }
   ],
   "source": [
    "result_K = np.zeros((3,3))\n",
    "result_K = np.array([[res.x[0],0,res.x[1]],[0,res.x[2],res.x[3]],[0,0,1]])\n",
    "print (np.matrix(result_K))"
   ]
  },
  {
   "cell_type": "code",
   "execution_count": null,
   "id": "f6c61633",
   "metadata": {},
   "outputs": [],
   "source": []
  },
  {
   "cell_type": "code",
   "execution_count": null,
   "id": "6c36e829",
   "metadata": {},
   "outputs": [],
   "source": []
  },
  {
   "cell_type": "code",
   "execution_count": null,
   "id": "8ccf3c86",
   "metadata": {},
   "outputs": [],
   "source": []
  },
  {
   "cell_type": "code",
   "execution_count": null,
   "id": "0050866b",
   "metadata": {},
   "outputs": [],
   "source": []
  },
  {
   "cell_type": "code",
   "execution_count": null,
   "id": "3b755186",
   "metadata": {},
   "outputs": [],
   "source": []
  },
  {
   "cell_type": "code",
   "execution_count": 70,
   "id": "361d721f",
   "metadata": {},
   "outputs": [
    {
     "name": "stdout",
     "output_type": "stream",
     "text": [
      "[[ 0.45586612 -0.11839313 -0.26747562]]\n"
     ]
    }
   ],
   "source": [
    "eyep = np.random.uniform(size=(1,3))-0.5\n",
    "print(eyep)"
   ]
  },
  {
   "cell_type": "code",
   "execution_count": 108,
   "id": "858d50d2",
   "metadata": {},
   "outputs": [],
   "source": [
    "def randomize_rt():\n",
    "    angle = np.random.uniform(0,45)\n",
    "    cos =  math.cos(angle)\n",
    "    sin =  math.sin(angle)\n",
    "#     t = np.random.randint(-5,5,(3,1))\n",
    "    t = np.zeros((3,1))\n",
    "    t[2] = 1\n",
    "    t = np.zeros((3,1))\n",
    "    R = np.array([[cos,-sin,0],[sin,cos,0],[0,0,1]])\n",
    "    Rt = np.concatenate((R,t),axis=1)\n",
    "    print(Rt)\n",
    "    low_row = np.zeros((1,4))\n",
    "    low_row[:,-1] = 1\n",
    "    Rt = np.concatenate((Rt,low_row),axis=0)\n",
    "#     lowes_row = np.array([0,0,0,1])\n",
    "#     Rt = np.concatenate((Rt,lowes_row),axis=0)\n",
    "    print (np.matrix(Rt))\n",
    "    return Rt"
   ]
  },
  {
   "cell_type": "code",
   "execution_count": 109,
   "id": "255d903d",
   "metadata": {},
   "outputs": [
    {
     "name": "stdout",
     "output_type": "stream",
     "text": [
      "[[ 0.61760802 -0.78648607  0.          0.        ]\n",
      " [ 0.78648607  0.61760802  0.          0.        ]\n",
      " [ 0.          0.          1.          0.        ]]\n",
      "[[ 0.61760802 -0.78648607  0.          0.        ]\n",
      " [ 0.78648607  0.61760802  0.          0.        ]\n",
      " [ 0.          0.          1.          0.        ]\n",
      " [ 0.          0.          0.          1.        ]]\n"
     ]
    }
   ],
   "source": [
    "rt = randomize_rt()\n"
   ]
  },
  {
   "cell_type": "code",
   "execution_count": 110,
   "id": "2f713cbf",
   "metadata": {},
   "outputs": [],
   "source": [
    "def randomize_3d_points(num_of_points):\n",
    "    world_points = np.random.uniform(-1,1,(num_of_points,3))\n",
    "    return world_points\n",
    "\n",
    "def get_projection_of_points(world_points):\n",
    "    world_points_hom = projectivation(world_points)\n",
    "    return world_points_hom"
   ]
  },
  {
   "cell_type": "code",
   "execution_count": 111,
   "id": "1838d327",
   "metadata": {},
   "outputs": [],
   "source": [
    "world_points = randomize_3d_points(N)\n",
    "T1 = normalization_matrix(world_points)\n",
    "world_points_hom = get_projection_of_points(world_points)"
   ]
  },
  {
   "cell_type": "code",
   "execution_count": 112,
   "id": "a2e980b0",
   "metadata": {},
   "outputs": [
    {
     "data": {
      "text/plain": [
       "(8, 4)"
      ]
     },
     "execution_count": 112,
     "metadata": {},
     "output_type": "execute_result"
    }
   ],
   "source": [
    "world_points_hom.shape"
   ]
  },
  {
   "cell_type": "code",
   "execution_count": 113,
   "id": "135e7144",
   "metadata": {},
   "outputs": [
    {
     "data": {
      "image/png": "[encoded data removed]",
      "text/plain": [
       "<Figure size 432x288 with 1 Axes>"
      ]
     },
     "metadata": {
      "needs_background": "light"
     },
     "output_type": "display_data"
    }
   ],
   "source": [
    "fig = plt.figure()\n",
    "ax = fig.add_subplot(111, projection='3d')\n",
    "ax.scatter(world_points[:,0],world_points[:,1],world_points[:,2])\n",
    "plt.show()"
   ]
  },
  {
   "cell_type": "code",
   "execution_count": 95,
   "id": "1f70de18",
   "metadata": {},
   "outputs": [
    {
     "data": {
      "text/plain": [
       "array([-0.46411482, -0.41598973,  0.07596925,  1.        ])"
      ]
     },
     "execution_count": 95,
     "metadata": {},
     "output_type": "execute_result"
    }
   ],
   "source": [
    "(world_points_hom[0])"
   ]
  },
  {
   "cell_type": "code",
   "execution_count": null,
   "id": "54e3c324",
   "metadata": {},
   "outputs": [],
   "source": []
  },
  {
   "cell_type": "code",
   "execution_count": 122,
   "id": "615b0341",
   "metadata": {},
   "outputs": [
    {
     "name": "stdout",
     "output_type": "stream",
     "text": [
      "[[-0.37738114 -0.92605803  0.          0.        ]\n",
      " [ 0.92605803 -0.37738114  0.          0.        ]\n",
      " [ 0.          0.          1.          0.        ]]\n",
      "[[-0.37738114 -0.92605803  0.          0.        ]\n",
      " [ 0.92605803 -0.37738114  0.          0.        ]\n",
      " [ 0.          0.          1.          0.        ]\n",
      " [ 0.          0.          0.          1.        ]]\n",
      "[[5. 0. 2. 0.]\n",
      " [0. 5. 2. 0.]\n",
      " [0. 0. 1. 0.]]\n"
     ]
    }
   ],
   "source": [
    "image0_p0 = np.zeros(3)\n",
    "rt = randomize_rt()\n",
    "k_extended = np.concatenate((true_K,np.zeros(shape=(3,1))),axis=1)\n",
    "print(k_extended)\n",
    "image0_p0 = k_extended @ world_points_hom[0]"
   ]
  },
  {
   "cell_type": "code",
   "execution_count": 123,
   "id": "38de901c",
   "metadata": {},
   "outputs": [],
   "source": [
    "image0 = np.zeros((N,3))\n",
    "for i in range(N):\n",
    "    image0[i,:] = true_K @ I @ world_points_hom[i]\n",
    "    image0[i,:] = image0[i,:]/image0[i,-1]"
   ]
  },
  {
   "cell_type": "code",
   "execution_count": 124,
   "id": "a7b62aca",
   "metadata": {},
   "outputs": [
    {
     "data": {
      "image/png": "[encoded data removed]",
      "text/plain": [
       "<Figure size 432x288 with 1 Axes>"
      ]
     },
     "metadata": {
      "needs_background": "light"
     },
     "output_type": "display_data"
    }
   ],
   "source": [
    "fig = plt.figure()\n",
    "ax = fig.add_subplot(111)\n",
    "ax.scatter(image0[:,0],image0[:,1])\n",
    "plt.show()"
   ]
  },
  {
   "cell_type": "code",
   "execution_count": 127,
   "id": "1d06d023",
   "metadata": {},
   "outputs": [
    {
     "name": "stdout",
     "output_type": "stream",
     "text": [
      "[[1. 0. 0. 0.]\n",
      " [0. 1. 0. 0.]\n",
      " [0. 0. 1. 0.]\n",
      " [0. 0. 0. 1.]]\n",
      "[[-0.91804415 -0.39647817  0.          0.        ]\n",
      " [ 0.39647817 -0.91804415  0.          0.        ]\n",
      " [ 0.          0.          1.          0.        ]]\n",
      "[[-0.91804415 -0.39647817  0.          0.        ]\n",
      " [ 0.39647817 -0.91804415  0.          0.        ]\n",
      " [ 0.          0.          1.          0.        ]\n",
      " [ 0.          0.          0.          1.        ]]\n",
      "[[-0.91804415 -0.39647817  0.          0.        ]\n",
      " [ 0.39647817 -0.91804415  0.          0.        ]\n",
      " [ 0.          0.          1.          0.        ]\n",
      " [ 0.          0.          0.          1.        ]]\n",
      "[[ 0.19822539 -0.98015646  0.          0.        ]\n",
      " [ 0.98015646  0.19822539  0.          0.        ]\n",
      " [ 0.          0.          1.          0.        ]]\n",
      "[[ 0.19822539 -0.98015646  0.          0.        ]\n",
      " [ 0.98015646  0.19822539  0.          0.        ]\n",
      " [ 0.          0.          1.          0.        ]\n",
      " [ 0.          0.          0.          1.        ]]\n",
      "[[ 0.19822539 -0.98015646  0.          0.        ]\n",
      " [ 0.98015646  0.19822539  0.          0.        ]\n",
      " [ 0.          0.          1.          0.        ]\n",
      " [ 0.          0.          0.          1.        ]]\n",
      "[[ 0.53531063 -0.84465527  0.          0.        ]\n",
      " [ 0.84465527  0.53531063  0.          0.        ]\n",
      " [ 0.          0.          1.          0.        ]]\n",
      "[[ 0.53531063 -0.84465527  0.          0.        ]\n",
      " [ 0.84465527  0.53531063  0.          0.        ]\n",
      " [ 0.          0.          1.          0.        ]\n",
      " [ 0.          0.          0.          1.        ]]\n",
      "[[ 0.53531063 -0.84465527  0.          0.        ]\n",
      " [ 0.84465527  0.53531063  0.          0.        ]\n",
      " [ 0.          0.          1.          0.        ]\n",
      " [ 0.          0.          0.          1.        ]]\n"
     ]
    }
   ],
   "source": [
    "projected = np.zeros((n_images,N,3))\n",
    "\n",
    "for image in range(n_images):\n",
    "    if (image == 0): # use the first image as it was not rotated\n",
    "#         rt = I\n",
    "        rt = np.identity(4)\n",
    "    else:\n",
    "        rt = randomize_rt()\n",
    "    print (np.matrix(rt))\n",
    "    for point in range(N):\n",
    "#         projected[image,point,:] = true_K @ rt @ world_points_hom[point]\n",
    "        projected[image,point,:] = k_extended @ rt @ world_points_hom[point]\n",
    "        projected[image,point,:]/= world_points[point,-1]\n"
   ]
  },
  {
   "cell_type": "code",
   "execution_count": 128,
   "id": "ae407ada",
   "metadata": {},
   "outputs": [
    {
     "name": "stdout",
     "output_type": "stream",
     "text": [
      "[[[ -1.81056428   0.41366764   1.        ]\n",
      "  [  7.62226971  -0.70287223   1.        ]\n",
      "  [  5.72728295  -0.45891338   1.        ]\n",
      "  [ 45.33854542  25.44566969   1.        ]\n",
      "  [ -3.40831338  -4.10639453   1.        ]\n",
      "  [  4.25546139   2.59252799   1.        ]\n",
      "  [ -1.38889483  -3.5731037    1.        ]\n",
      "  [ -4.76757776   0.4294614    1.        ]]\n",
      "\n",
      " [[  6.12721239   1.94551758   1.        ]\n",
      "  [ -2.08986196   6.71046326   1.        ]\n",
      "  [ -0.44690482   5.73517737   1.        ]\n",
      "  [-47.08239431  -2.34137255   1.        ]\n",
      "  [  9.3861226    5.46166156   1.        ]\n",
      "  [ -0.30553755   2.35027436   1.        ]\n",
      "  [  7.32076904   5.77273241   1.        ]\n",
      "  [  8.83561943   0.75862691   1.        ]]\n",
      "\n",
      " [[  2.79950332  -2.04940056   1.        ]\n",
      "  [  5.76371431   6.97492609   1.        ]\n",
      "  [  5.14896197   5.16590141   1.        ]\n",
      "  [-12.38962455  49.1260825    1.        ]\n",
      "  [  6.91315703  -4.51143576   1.        ]\n",
      "  [  1.86631958   4.32815916   1.        ]\n",
      "  [  6.79074861  -2.42637784   1.        ]\n",
      "  [  2.19786781  -4.94460571   1.        ]]\n",
      "\n",
      " [[  1.30006841  -2.06779378   1.        ]\n",
      "  [  7.29265603   5.3020035    1.        ]\n",
      "  [  6.07218834   3.83198671   1.        ]\n",
      "  [  5.3960757   51.1568471    1.        ]\n",
      "  [  4.26267067  -5.83697832   1.        ]\n",
      "  [  2.70689057   4.22227389   1.        ]\n",
      "  [  4.89323998  -3.84578955   1.        ]\n",
      "  [ -0.29619262  -4.55699623   1.        ]]]\n"
     ]
    }
   ],
   "source": [
    "print(projected)"
   ]
  },
  {
   "cell_type": "code",
   "execution_count": 129,
   "id": "0269ad94",
   "metadata": {},
   "outputs": [
    {
     "data": {
      "image/png": "[encoded data removed]",
      "text/plain": [
       "<Figure size 720x1440 with 4 Axes>"
      ]
     },
     "metadata": {
      "needs_background": "light"
     },
     "output_type": "display_data"
    }
   ],
   "source": [
    "fig, axes = plt.subplots(2, 2, figsize=(10,20))\n",
    "\n",
    "for i, ax in enumerate(axes.ravel()):\n",
    "    ax.scatter(projected[i,:,0],projected[i,:,1], alpha=.5)\n",
    "    ax.grid()\n",
    "    \n",
    "plt.tight_layout()"
   ]
  },
  {
   "cell_type": "code",
   "execution_count": 130,
   "id": "29c669fa",
   "metadata": {},
   "outputs": [],
   "source": [
    "for i in range(n_images-1):\n",
    "    for j in range(i+1,n_images):\n",
    "        F[i,j] = calc_fund_matrix(projected[i,:,0:2],projected[j,:,0:2])"
   ]
  },
  {
   "cell_type": "code",
   "execution_count": 131,
   "id": "135dcc58",
   "metadata": {},
   "outputs": [
    {
     "data": {
      "text/plain": [
       "matrix([[ 0.00373795, -0.00865523, -0.07349299],\n",
       "        [ 0.00865522,  0.00373797, -0.21681532],\n",
       "        [-0.0251494 , -0.19949414,  1.        ]])"
      ]
     },
     "execution_count": 131,
     "metadata": {},
     "output_type": "execute_result"
    }
   ],
   "source": [
    "np.matrix(F[0,1])"
   ]
  },
  {
   "cell_type": "code",
   "execution_count": 132,
   "id": "d57d9c55",
   "metadata": {},
   "outputs": [
    {
     "name": "stdout",
     "output_type": "stream",
     "text": [
      "0 1\n",
      "[[ 0.00373795 -0.00865523 -0.07349299]\n",
      " [ 0.00865522  0.00373797 -0.21681532]\n",
      " [-0.0251494  -0.19949414  1.        ]]\n",
      "0 2\n",
      "[[ 1.33045397  0.26906832 -0.36646844]\n",
      " [-0.26906907  1.33045353 -0.85782837]\n",
      " [-3.92409929 -0.6734168   1.        ]]\n",
      "0 3\n",
      "[[ 0.01817928  0.01152135 -0.38967686]\n",
      " [-0.01152134  0.01817928 -0.02690057]\n",
      " [ 0.17495857 -0.33109826  1.        ]]\n",
      "1 2\n",
      "[[ 0.2657794  -0.05612958 -0.81724114]\n",
      " [ 0.0561296   0.26577941 -0.3675555 ]\n",
      " [-0.29129048 -0.08703055  1.        ]]\n",
      "1 3\n",
      "[[ 0.13173457  0.02088067  0.42949415]\n",
      " [-0.0208807   0.13173458 -0.26701247]\n",
      " [-0.15143166 -1.03798827  1.        ]]\n",
      "2 3\n",
      "[[ 0.0324529  -0.08484453  1.38559679]\n",
      " [ 0.08484453  0.0324529  -0.22782667]\n",
      " [-1.42846501 -0.35911667  1.        ]]\n"
     ]
    }
   ],
   "source": [
    "for i in range(n_images-1):\n",
    "    for j in range(i+1,n_images):\n",
    "        print(i,j)\n",
    "        print(np.matrix(F[i,j]))"
   ]
  },
  {
   "cell_type": "code",
   "execution_count": 133,
   "id": "936300ac",
   "metadata": {},
   "outputs": [],
   "source": [
    "initial_K =  np.random.randint(-5,5,(5))\n",
    "res = opt.minimize(mendonca_cost_func,x0=initial_K, method='Nelder-Mead')\n",
    "# res = opt.minimize(mendonca_cost_func,x0=initial_K)"
   ]
  },
  {
   "cell_type": "code",
   "execution_count": 134,
   "id": "7a83b16b",
   "metadata": {},
   "outputs": [
    {
     "data": {
      "text/plain": [
       " final_simplex: (array([[ 0.01296455, -1.22789579, -1.72413054,  3.45186497,  1.25064715],\n",
       "       [ 0.01296408, -1.22790443, -1.72403546,  3.45179599,  1.2505588 ],\n",
       "       [ 0.01296414, -1.22789546, -1.72406032,  3.45177905,  1.25057003],\n",
       "       [ 0.01296421, -1.22788189, -1.72403711,  3.45176823,  1.25061603],\n",
       "       [ 0.0129641 , -1.22789038, -1.72405468,  3.45181789,  1.25059031],\n",
       "       [ 0.01296403, -1.22792695, -1.72405391,  3.45178648,  1.25055853]]), array([2.20428958, 2.20428958, 2.20428958, 2.20428958, 2.20428958,\n",
       "       2.20428958]))\n",
       "           fun: 2.2042895767094866\n",
       "       message: 'Optimization terminated successfully.'\n",
       "          nfev: 331\n",
       "           nit: 200\n",
       "        status: 0\n",
       "       success: True\n",
       "             x: array([ 0.01296455, -1.22789579, -1.72413054,  3.45186497,  1.25064715])"
      ]
     },
     "execution_count": 134,
     "metadata": {},
     "output_type": "execute_result"
    }
   ],
   "source": [
    "res"
   ]
  },
  {
   "cell_type": "code",
   "execution_count": 135,
   "id": "1c7543f1",
   "metadata": {},
   "outputs": [
    {
     "name": "stdout",
     "output_type": "stream",
     "text": [
      "[[ 0.01296455 -1.22789579 -1.72413054]\n",
      " [ 0.          3.45186497  1.25064715]\n",
      " [ 0.          0.          1.        ]]\n"
     ]
    }
   ],
   "source": [
    "result_K = np.zeros((3,3))\n",
    "result_K = np.array([[res.x[0],res.x[1],res.x[2]],[0,res.x[3],res.x[4]],[0,0,1]])\n",
    "print (np.matrix(result_K))"
   ]
  },
  {
   "cell_type": "code",
   "execution_count": 136,
   "id": "9d5debaf",
   "metadata": {},
   "outputs": [
    {
     "name": "stdout",
     "output_type": "stream",
     "text": [
      "[[5 0 2]\n",
      " [0 5 2]\n",
      " [0 0 1]]\n"
     ]
    }
   ],
   "source": [
    "print(np.matrix(true_K))"
   ]
  },
  {
   "cell_type": "code",
   "execution_count": null,
   "id": "957b5afe",
   "metadata": {},
   "outputs": [],
   "source": []
  },
  {
   "cell_type": "code",
   "execution_count": null,
   "id": "fe5037e2",
   "metadata": {},
   "outputs": [],
   "source": []
  },
  {
   "cell_type": "code",
   "execution_count": null,
   "id": "e2167c21",
   "metadata": {},
   "outputs": [],
   "source": []
  },
  {
   "cell_type": "code",
   "execution_count": 137,
   "id": "6a7ea9fe",
   "metadata": {},
   "outputs": [
    {
     "data": {
      "text/plain": [
       "array([-1.81056428,  0.41366764,  1.        ])"
      ]
     },
     "execution_count": 137,
     "metadata": {},
     "output_type": "execute_result"
    }
   ],
   "source": [
    "image0_p0/image0_p0[2]"
   ]
  },
  {
   "cell_type": "code",
   "execution_count": 138,
   "id": "181417a0",
   "metadata": {},
   "outputs": [
    {
     "data": {
      "image/png": "[encoded data removed]",
      "text/plain": [
       "<Figure size 432x288 with 1 Axes>"
      ]
     },
     "metadata": {
      "needs_background": "light"
     },
     "output_type": "display_data"
    }
   ],
   "source": [
    "fig = plt.figure()\n",
    "ax = fig.add_subplot(111, projection='3d')\n",
    "ax.scatter(world_points[:,0],world_points[:,1],world_points[:,2])\n",
    "plt.show()"
   ]
  },
  {
   "cell_type": "code",
   "execution_count": 139,
   "id": "5254cc4f",
   "metadata": {},
   "outputs": [
    {
     "name": "stderr",
     "output_type": "stream",
     "text": [
      "<ipython-input-5-954e64988e5a>:20: RuntimeWarning: divide by zero encountered in true_divide\n",
      "  p = q[:,0:d]/q[:,d:d+1]\n"
     ]
    }
   ],
   "source": [
    "# EXPERIMENT\n",
    "\n",
    "# array of n_images with original coordinates of N points (x,y)\n",
    "p = np.zeros((n_images,N,2))\n",
    "# array of n_images with projective coordinats of M points (x,y,1)\n",
    "pj = np.zeros((n_images,N,3))\n",
    "\n",
    "# randomly initialize 1st image (index #0)\n",
    "p[0] = np.random.randint(0,500,(N,2))\n",
    "pj[0] = projectivation(p[0])\n",
    "\n",
    "#init random matrices to transform original image\n",
    "A = np.random.randint(-6,6,(n_images-1,3,3))\n",
    "A[:,] = np.triu(A[:,])\n",
    "# transform original image to get new images \n",
    "for i in range(1,n_images):\n",
    "    pj[i] = (A[i-1]@pj[0].T).T\n",
    "    p[i] = affinization(pj[i])\n",
    "   \n",
    "# insert noise\n",
    "noise_level1 = 0.25\n",
    "for i in range(n_images):\n",
    "    p[i] += noise_level1*np.random.randn(N,2)"
   ]
  },
  {
   "cell_type": "code",
   "execution_count": 140,
   "id": "7fa1b093",
   "metadata": {},
   "outputs": [
    {
     "name": "stdout",
     "output_type": "stream",
     "text": [
      "[[-6 -5  4]\n",
      " [ 0 -2 -1]\n",
      " [ 0  0  5]]\n"
     ]
    }
   ],
   "source": [
    "print (A[0])"
   ]
  },
  {
   "cell_type": "code",
   "execution_count": 141,
   "id": "58db6810",
   "metadata": {},
   "outputs": [
    {
     "name": "stdout",
     "output_type": "stream",
     "text": [
      "(4, 8, 2)\n"
     ]
    }
   ],
   "source": [
    "print (p.shape)"
   ]
  },
  {
   "cell_type": "code",
   "execution_count": 142,
   "id": "e2e45221",
   "metadata": {},
   "outputs": [],
   "source": [
    "for i in range(n_images-1):\n",
    "    for j in range(i+1,n_images):\n",
    "        F[i,j] = calc_fund_matrix(p[i],p[j])"
   ]
  },
  {
   "cell_type": "code",
   "execution_count": 143,
   "id": "ba8ffbb1",
   "metadata": {},
   "outputs": [],
   "source": [
    "initial_K =  np.random.randint(-5,5,(5))"
   ]
  },
  {
   "cell_type": "code",
   "execution_count": 144,
   "id": "7a2a8b5e",
   "metadata": {},
   "outputs": [
    {
     "ename": "LinAlgError",
     "evalue": "SVD did not converge",
     "output_type": "error",
     "traceback": [
      "\u001b[0;31m---------------------------------------------------------------------------\u001b[0m",
      "\u001b[0;31mLinAlgError\u001b[0m                               Traceback (most recent call last)",
      "\u001b[0;32m<ipython-input-144-0f78606cad64>\u001b[0m in \u001b[0;36m<module>\u001b[0;34m\u001b[0m\n\u001b[0;32m----> 1\u001b[0;31m \u001b[0mres\u001b[0m \u001b[0;34m=\u001b[0m \u001b[0mopt\u001b[0m\u001b[0;34m.\u001b[0m\u001b[0mminimize\u001b[0m\u001b[0;34m(\u001b[0m\u001b[0mmendonca_cost_func\u001b[0m\u001b[0;34m,\u001b[0m\u001b[0mx0\u001b[0m\u001b[0;34m=\u001b[0m\u001b[0minitial_K\u001b[0m\u001b[0;34m,\u001b[0m \u001b[0mmethod\u001b[0m\u001b[0;34m=\u001b[0m\u001b[0;34m'Nelder-Mead'\u001b[0m\u001b[0;34m)\u001b[0m\u001b[0;34m\u001b[0m\u001b[0;34m\u001b[0m\u001b[0m\n\u001b[0m",
      "\u001b[0;32m~/jupyter_git/jup-nb-generic/lib/python3.8/site-packages/scipy/optimize/_minimize.py\u001b[0m in \u001b[0;36mminimize\u001b[0;34m(fun, x0, args, method, jac, hess, hessp, bounds, constraints, tol, callback, options)\u001b[0m\n\u001b[1;32m    606\u001b[0m \u001b[0;34m\u001b[0m\u001b[0m\n\u001b[1;32m    607\u001b[0m     \u001b[0;32mif\u001b[0m \u001b[0mmeth\u001b[0m \u001b[0;34m==\u001b[0m \u001b[0;34m'nelder-mead'\u001b[0m\u001b[0;34m:\u001b[0m\u001b[0;34m\u001b[0m\u001b[0;34m\u001b[0m\u001b[0m\n\u001b[0;32m--> 608\u001b[0;31m         \u001b[0;32mreturn\u001b[0m \u001b[0m_minimize_neldermead\u001b[0m\u001b[0;34m(\u001b[0m\u001b[0mfun\u001b[0m\u001b[0;34m,\u001b[0m \u001b[0mx0\u001b[0m\u001b[0;34m,\u001b[0m \u001b[0margs\u001b[0m\u001b[0;34m,\u001b[0m \u001b[0mcallback\u001b[0m\u001b[0;34m,\u001b[0m \u001b[0;34m**\u001b[0m\u001b[0moptions\u001b[0m\u001b[0;34m)\u001b[0m\u001b[0;34m\u001b[0m\u001b[0;34m\u001b[0m\u001b[0m\n\u001b[0m\u001b[1;32m    609\u001b[0m     \u001b[0;32melif\u001b[0m \u001b[0mmeth\u001b[0m \u001b[0;34m==\u001b[0m \u001b[0;34m'powell'\u001b[0m\u001b[0;34m:\u001b[0m\u001b[0;34m\u001b[0m\u001b[0;34m\u001b[0m\u001b[0m\n\u001b[1;32m    610\u001b[0m         \u001b[0;32mreturn\u001b[0m \u001b[0m_minimize_powell\u001b[0m\u001b[0;34m(\u001b[0m\u001b[0mfun\u001b[0m\u001b[0;34m,\u001b[0m \u001b[0mx0\u001b[0m\u001b[0;34m,\u001b[0m \u001b[0margs\u001b[0m\u001b[0;34m,\u001b[0m \u001b[0mcallback\u001b[0m\u001b[0;34m,\u001b[0m \u001b[0mbounds\u001b[0m\u001b[0;34m,\u001b[0m \u001b[0;34m**\u001b[0m\u001b[0moptions\u001b[0m\u001b[0;34m)\u001b[0m\u001b[0;34m\u001b[0m\u001b[0;34m\u001b[0m\u001b[0m\n",
      "\u001b[0;32m~/jupyter_git/jup-nb-generic/lib/python3.8/site-packages/scipy/optimize/optimize.py\u001b[0m in \u001b[0;36m_minimize_neldermead\u001b[0;34m(func, x0, args, callback, maxiter, maxfev, disp, return_all, initial_simplex, xatol, fatol, adaptive, **unknown_options)\u001b[0m\n\u001b[1;32m    721\u001b[0m \u001b[0;34m\u001b[0m\u001b[0m\n\u001b[1;32m    722\u001b[0m     \u001b[0;32mfor\u001b[0m \u001b[0mk\u001b[0m \u001b[0;32min\u001b[0m \u001b[0mrange\u001b[0m\u001b[0;34m(\u001b[0m\u001b[0mN\u001b[0m \u001b[0;34m+\u001b[0m \u001b[0;36m1\u001b[0m\u001b[0;34m)\u001b[0m\u001b[0;34m:\u001b[0m\u001b[0;34m\u001b[0m\u001b[0;34m\u001b[0m\u001b[0m\n\u001b[0;32m--> 723\u001b[0;31m         \u001b[0mfsim\u001b[0m\u001b[0;34m[\u001b[0m\u001b[0mk\u001b[0m\u001b[0;34m]\u001b[0m \u001b[0;34m=\u001b[0m \u001b[0mfunc\u001b[0m\u001b[0;34m(\u001b[0m\u001b[0msim\u001b[0m\u001b[0;34m[\u001b[0m\u001b[0mk\u001b[0m\u001b[0;34m]\u001b[0m\u001b[0;34m)\u001b[0m\u001b[0;34m\u001b[0m\u001b[0;34m\u001b[0m\u001b[0m\n\u001b[0m\u001b[1;32m    724\u001b[0m \u001b[0;34m\u001b[0m\u001b[0m\n\u001b[1;32m    725\u001b[0m     \u001b[0mind\u001b[0m \u001b[0;34m=\u001b[0m \u001b[0mnp\u001b[0m\u001b[0;34m.\u001b[0m\u001b[0margsort\u001b[0m\u001b[0;34m(\u001b[0m\u001b[0mfsim\u001b[0m\u001b[0;34m)\u001b[0m\u001b[0;34m\u001b[0m\u001b[0;34m\u001b[0m\u001b[0m\n",
      "\u001b[0;32m~/jupyter_git/jup-nb-generic/lib/python3.8/site-packages/scipy/optimize/optimize.py\u001b[0m in \u001b[0;36mfunction_wrapper\u001b[0;34m(*wrapper_args)\u001b[0m\n\u001b[1;32m    459\u001b[0m     \u001b[0;32mdef\u001b[0m \u001b[0mfunction_wrapper\u001b[0m\u001b[0;34m(\u001b[0m\u001b[0;34m*\u001b[0m\u001b[0mwrapper_args\u001b[0m\u001b[0;34m)\u001b[0m\u001b[0;34m:\u001b[0m\u001b[0;34m\u001b[0m\u001b[0;34m\u001b[0m\u001b[0m\n\u001b[1;32m    460\u001b[0m         \u001b[0mncalls\u001b[0m\u001b[0;34m[\u001b[0m\u001b[0;36m0\u001b[0m\u001b[0;34m]\u001b[0m \u001b[0;34m+=\u001b[0m \u001b[0;36m1\u001b[0m\u001b[0;34m\u001b[0m\u001b[0;34m\u001b[0m\u001b[0m\n\u001b[0;32m--> 461\u001b[0;31m         \u001b[0;32mreturn\u001b[0m \u001b[0mfunction\u001b[0m\u001b[0;34m(\u001b[0m\u001b[0;34m*\u001b[0m\u001b[0;34m(\u001b[0m\u001b[0mwrapper_args\u001b[0m \u001b[0;34m+\u001b[0m \u001b[0margs\u001b[0m\u001b[0;34m)\u001b[0m\u001b[0;34m)\u001b[0m\u001b[0;34m\u001b[0m\u001b[0;34m\u001b[0m\u001b[0m\n\u001b[0m\u001b[1;32m    462\u001b[0m \u001b[0;34m\u001b[0m\u001b[0m\n\u001b[1;32m    463\u001b[0m     \u001b[0;32mreturn\u001b[0m \u001b[0mncalls\u001b[0m\u001b[0;34m,\u001b[0m \u001b[0mfunction_wrapper\u001b[0m\u001b[0;34m\u001b[0m\u001b[0;34m\u001b[0m\u001b[0m\n",
      "\u001b[0;32m<ipython-input-6-34babbf31522>\u001b[0m in \u001b[0;36mmendonca_cost_func\u001b[0;34m(X)\u001b[0m\n\u001b[1;32m     41\u001b[0m \u001b[0;34m\u001b[0m\u001b[0m\n\u001b[1;32m     42\u001b[0m             \u001b[0;31m# Compute SVD of Essential Matrix\u001b[0m\u001b[0;34m\u001b[0m\u001b[0;34m\u001b[0m\u001b[0;34m\u001b[0m\u001b[0m\n\u001b[0;32m---> 43\u001b[0;31m             \u001b[0m_\u001b[0m\u001b[0;34m,\u001b[0m\u001b[0mD\u001b[0m\u001b[0;34m,\u001b[0m\u001b[0m_\u001b[0m \u001b[0;34m=\u001b[0m \u001b[0mnp\u001b[0m\u001b[0;34m.\u001b[0m\u001b[0mlinalg\u001b[0m\u001b[0;34m.\u001b[0m\u001b[0msvd\u001b[0m\u001b[0;34m(\u001b[0m\u001b[0mEM\u001b[0m\u001b[0;34m)\u001b[0m\u001b[0;34m\u001b[0m\u001b[0;34m\u001b[0m\u001b[0m\n\u001b[0m\u001b[1;32m     44\u001b[0m              \u001b[0;31m# Singular Values (3rd value, D[3] is 0 according to theorem)\u001b[0m\u001b[0;34m\u001b[0m\u001b[0;34m\u001b[0m\u001b[0;34m\u001b[0m\u001b[0m\n\u001b[1;32m     45\u001b[0m             \u001b[0mr\u001b[0m \u001b[0;34m=\u001b[0m \u001b[0mD\u001b[0m\u001b[0;34m[\u001b[0m\u001b[0;36m0\u001b[0m\u001b[0;34m]\u001b[0m\u001b[0;34m\u001b[0m\u001b[0;34m\u001b[0m\u001b[0m\n",
      "\u001b[0;32m<__array_function__ internals>\u001b[0m in \u001b[0;36msvd\u001b[0;34m(*args, **kwargs)\u001b[0m\n",
      "\u001b[0;32m~/jupyter_git/jup-nb-generic/lib/python3.8/site-packages/numpy/linalg/linalg.py\u001b[0m in \u001b[0;36msvd\u001b[0;34m(a, full_matrices, compute_uv, hermitian)\u001b[0m\n\u001b[1;32m   1659\u001b[0m \u001b[0;34m\u001b[0m\u001b[0m\n\u001b[1;32m   1660\u001b[0m         \u001b[0msignature\u001b[0m \u001b[0;34m=\u001b[0m \u001b[0;34m'D->DdD'\u001b[0m \u001b[0;32mif\u001b[0m \u001b[0misComplexType\u001b[0m\u001b[0;34m(\u001b[0m\u001b[0mt\u001b[0m\u001b[0;34m)\u001b[0m \u001b[0;32melse\u001b[0m \u001b[0;34m'd->ddd'\u001b[0m\u001b[0;34m\u001b[0m\u001b[0;34m\u001b[0m\u001b[0m\n\u001b[0;32m-> 1661\u001b[0;31m         \u001b[0mu\u001b[0m\u001b[0;34m,\u001b[0m \u001b[0ms\u001b[0m\u001b[0;34m,\u001b[0m \u001b[0mvh\u001b[0m \u001b[0;34m=\u001b[0m \u001b[0mgufunc\u001b[0m\u001b[0;34m(\u001b[0m\u001b[0ma\u001b[0m\u001b[0;34m,\u001b[0m \u001b[0msignature\u001b[0m\u001b[0;34m=\u001b[0m\u001b[0msignature\u001b[0m\u001b[0;34m,\u001b[0m \u001b[0mextobj\u001b[0m\u001b[0;34m=\u001b[0m\u001b[0mextobj\u001b[0m\u001b[0;34m)\u001b[0m\u001b[0;34m\u001b[0m\u001b[0;34m\u001b[0m\u001b[0m\n\u001b[0m\u001b[1;32m   1662\u001b[0m         \u001b[0mu\u001b[0m \u001b[0;34m=\u001b[0m \u001b[0mu\u001b[0m\u001b[0;34m.\u001b[0m\u001b[0mastype\u001b[0m\u001b[0;34m(\u001b[0m\u001b[0mresult_t\u001b[0m\u001b[0;34m,\u001b[0m \u001b[0mcopy\u001b[0m\u001b[0;34m=\u001b[0m\u001b[0;32mFalse\u001b[0m\u001b[0;34m)\u001b[0m\u001b[0;34m\u001b[0m\u001b[0;34m\u001b[0m\u001b[0m\n\u001b[1;32m   1663\u001b[0m         \u001b[0ms\u001b[0m \u001b[0;34m=\u001b[0m \u001b[0ms\u001b[0m\u001b[0;34m.\u001b[0m\u001b[0mastype\u001b[0m\u001b[0;34m(\u001b[0m\u001b[0m_realType\u001b[0m\u001b[0;34m(\u001b[0m\u001b[0mresult_t\u001b[0m\u001b[0;34m)\u001b[0m\u001b[0;34m,\u001b[0m \u001b[0mcopy\u001b[0m\u001b[0;34m=\u001b[0m\u001b[0;32mFalse\u001b[0m\u001b[0;34m)\u001b[0m\u001b[0;34m\u001b[0m\u001b[0;34m\u001b[0m\u001b[0m\n",
      "\u001b[0;32m~/jupyter_git/jup-nb-generic/lib/python3.8/site-packages/numpy/linalg/linalg.py\u001b[0m in \u001b[0;36m_raise_linalgerror_svd_nonconvergence\u001b[0;34m(err, flag)\u001b[0m\n\u001b[1;32m     95\u001b[0m \u001b[0;34m\u001b[0m\u001b[0m\n\u001b[1;32m     96\u001b[0m \u001b[0;32mdef\u001b[0m \u001b[0m_raise_linalgerror_svd_nonconvergence\u001b[0m\u001b[0;34m(\u001b[0m\u001b[0merr\u001b[0m\u001b[0;34m,\u001b[0m \u001b[0mflag\u001b[0m\u001b[0;34m)\u001b[0m\u001b[0;34m:\u001b[0m\u001b[0;34m\u001b[0m\u001b[0;34m\u001b[0m\u001b[0m\n\u001b[0;32m---> 97\u001b[0;31m     \u001b[0;32mraise\u001b[0m \u001b[0mLinAlgError\u001b[0m\u001b[0;34m(\u001b[0m\u001b[0;34m\"SVD did not converge\"\u001b[0m\u001b[0;34m)\u001b[0m\u001b[0;34m\u001b[0m\u001b[0;34m\u001b[0m\u001b[0m\n\u001b[0m\u001b[1;32m     98\u001b[0m \u001b[0;34m\u001b[0m\u001b[0m\n\u001b[1;32m     99\u001b[0m \u001b[0;32mdef\u001b[0m \u001b[0m_raise_linalgerror_lstsq\u001b[0m\u001b[0;34m(\u001b[0m\u001b[0merr\u001b[0m\u001b[0;34m,\u001b[0m \u001b[0mflag\u001b[0m\u001b[0;34m)\u001b[0m\u001b[0;34m:\u001b[0m\u001b[0;34m\u001b[0m\u001b[0;34m\u001b[0m\u001b[0m\n",
      "\u001b[0;31mLinAlgError\u001b[0m: SVD did not converge"
     ]
    }
   ],
   "source": [
    "res = opt.minimize(mendonca_cost_func,x0=initial_K, method='Nelder-Mead')"
   ]
  },
  {
   "cell_type": "code",
   "execution_count": 145,
   "id": "82c98eec",
   "metadata": {},
   "outputs": [
    {
     "name": "stdout",
     "output_type": "stream",
     "text": [
      " final_simplex: (array([[ 0.01296455, -1.22789579, -1.72413054,  3.45186497,  1.25064715],\n",
      "       [ 0.01296408, -1.22790443, -1.72403546,  3.45179599,  1.2505588 ],\n",
      "       [ 0.01296414, -1.22789546, -1.72406032,  3.45177905,  1.25057003],\n",
      "       [ 0.01296421, -1.22788189, -1.72403711,  3.45176823,  1.25061603],\n",
      "       [ 0.0129641 , -1.22789038, -1.72405468,  3.45181789,  1.25059031],\n",
      "       [ 0.01296403, -1.22792695, -1.72405391,  3.45178648,  1.25055853]]), array([2.20428958, 2.20428958, 2.20428958, 2.20428958, 2.20428958,\n",
      "       2.20428958]))\n",
      "           fun: 2.2042895767094866\n",
      "       message: 'Optimization terminated successfully.'\n",
      "          nfev: 331\n",
      "           nit: 200\n",
      "        status: 0\n",
      "       success: True\n",
      "             x: array([ 0.01296455, -1.22789579, -1.72413054,  3.45186497,  1.25064715])\n"
     ]
    }
   ],
   "source": [
    "print (res)"
   ]
  },
  {
   "cell_type": "code",
   "execution_count": 146,
   "id": "800376f8",
   "metadata": {},
   "outputs": [
    {
     "name": "stdout",
     "output_type": "stream",
     "text": [
      "[[ 0.01296455 -1.22789579 -1.72413054]\n",
      " [ 0.          3.45186497  1.25064715]\n",
      " [ 0.          0.          1.        ]]\n"
     ]
    }
   ],
   "source": [
    "result_K = np.zeros((3,3))\n",
    "result_K = np.array([[res.x[0],res.x[1],res.x[2]],[0,res.x[3],res.x[4]],[0,0,1]])\n",
    "print (np.matrix(result_K))"
   ]
  },
  {
   "cell_type": "code",
   "execution_count": null,
   "id": "de5b0047",
   "metadata": {},
   "outputs": [],
   "source": [
    "#reconststruction\n",
    "\n",
    "#find Fundamental matrix\n",
    "F12 = np.zeros((3,3))\n",
    "F12 = calc_fund_matrix(p[0],p[1])\n",
    "\n",
    "#find Essential matrix\n",
    "EM = result_K.T @ F @ result_K\n",
    "\n",
    "#factorize EM to find R,t\n",
    "U,D,Vt = np.linalg.svd(EM)"
   ]
  },
  {
   "cell_type": "code",
   "execution_count": null,
   "id": "b1fdc266",
   "metadata": {},
   "outputs": [],
   "source": [
    "randomize_rt()"
   ]
  },
  {
   "cell_type": "code",
   "execution_count": null,
   "id": "dd43ec42",
   "metadata": {},
   "outputs": [],
   "source": []
  }
 ],
 "metadata": {
  "kernelspec": {
   "display_name": "Python 3",
   "language": "python",
   "name": "python3"
  },
  "language_info": {
   "codemirror_mode": {
    "name": "ipython",
    "version": 3
   },
   "file_extension": ".py",
   "mimetype": "text/x-python",
   "name": "python",
   "nbconvert_exporter": "python",
   "pygments_lexer": "ipython3",
   "version": "3.8.5"
  }
 },
 "nbformat": 4,
 "nbformat_minor": 5
}
