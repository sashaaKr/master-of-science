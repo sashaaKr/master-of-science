{
 "cells": [
  {
   "cell_type": "code",
   "execution_count": null,
   "id": "923a72f4",
   "metadata": {},
   "outputs": [],
   "source": [
    "import numpy as np\n",
    "import cv2\n",
    "import scipy.optimize as opt\n",
    "np.set_printoptions(precision=None, suppress=True)"
   ]
  },
  {
   "cell_type": "code",
   "execution_count": null,
   "id": "9a92c82f",
   "metadata": {},
   "outputs": [],
   "source": [
    "#number of matching points\n",
    "N = 30\n",
    "n_images = 8\n",
    "F = np.zeros((n_images,n_images,3,3))\n",
    "true_K = np.array([\n",
    "    [5,0,2],\n",
    "    [0,5,2],\n",
    "    [0,0,1]\n",
    "    ])\n",
    "I = np.array([\n",
    "    [1,0,0,0],\n",
    "    [0,1,0,0],\n",
    "    [0,0,1,0]\n",
    "    ])"
   ]
  },
  {
   "cell_type": "code",
   "execution_count": null,
   "id": "38fe06c4",
   "metadata": {},
   "outputs": [],
   "source": [
    "def calc_fund_matrix(points1,points2):\n",
    "    '''\n",
    "    Takes in 2 arrays of matching points \n",
    "    Return Fundamental matrix computes \n",
    "    using 8 point algorithm\n",
    "    '''\n",
    "    F, mask = cv2.findFundamentalMat(points1,points2,cv2.FM_8POINT)\n",
    "    return F "
   ]
  },
  {
   "cell_type": "code",
   "execution_count": null,
   "id": "311607ee",
   "metadata": {},
   "outputs": [],
   "source": [
    "def normalize_coordinates(p):\n",
    "    # Normalization matrix\n",
    "    T_m = normalization_matrix(p)\n",
    "    # Normalized points\n",
    "    p_norm = (T_m@(p.T)).T\n",
    "    return p_norm, T_m\n",
    "\n",
    "    \n",
    "def manual_find_F_matrix(xy1,xy2):\n",
    "    # Input: xy1 , xy2 - 2d array of points: row per point [x,y]\n",
    "    # xy1 - for image 1, xy2 - for image 2\n",
    "    # FM compute fundametal matrix from point correspondence\n",
    "    #    at least 8 points are needed\n",
    "    \n",
    "    n_points = xy1.shape[0]\n",
    "    if n_points < 8:\n",
    "        print('8 points at least are needed')\n",
    "    \n",
    "    #add 3rd coordinate '1'\n",
    "    xy1 = projectivation(xy1)\n",
    "    xy2 = projectivation(xy2)\n",
    "    \n",
    "    \n",
    "    #normalize coordinates\n",
    "    xy1_norm, T1 = normalize_coordinates(xy1)\n",
    "    xy2_norm, T2 = normalize_coordinates(xy2)\n",
    "    \n",
    "    # Preparing the equation matrix\n",
    "    M = np.zeros((n_points,9))\n",
    "    M[:,0] = xy1_norm[:,0]*xy2_norm[:,0] # x1 * x2\n",
    "    M[:,1] = xy1_norm[:,0]*xy2_norm[:,1] # x1 * y2 \n",
    "    M[:,2] = xy1_norm[:,0] # x1\n",
    "    M[:,3] = xy1_norm[:,1]*xy2_norm[:,0] # y1 * x2\n",
    "    M[:,4] = xy1_norm[:,1]*xy2_norm[:,1] # y1 * y2\n",
    "    M[:,5] = xy1_norm[:,1] # y1\n",
    "    M[:,6] = xy2_norm[:,0] # x2\n",
    "    M[:,7] = xy2_norm[:,1] # y2\n",
    "    M[:,8] = 1\n",
    "\n",
    "    # calc M^T * M to get symmetruc square matrix\n",
    "    W = M.T@M\n",
    "    \n",
    "    # desompose W into U (singular values), D (diagonal matrix), Vt (singular vectors)\n",
    "    U,D,Vt = la.svd(W,compute_uv=True)\n",
    "    a = U[:,-1]     # solution vector corresponding to the \n",
    "                    # least singular value\n",
    "    A = np.reshape(a.T,(3,3))\n",
    "\n",
    "    # Returning to non-normalized points\n",
    "    F = la.inv(T2)@A@T1\n",
    "\n",
    "    return F"
   ]
  },
  {
   "cell_type": "code",
   "execution_count": null,
   "id": "4bdd346e",
   "metadata": {},
   "outputs": [],
   "source": [
    "### function used in class\n",
    "def projectivation(p):\n",
    "    '''\n",
    "    Input: p, Nxd matrix = N points in R^d\n",
    "    Output: q, Nx(d+1) = N points in P^d\n",
    "    '''\n",
    "    N,d = p.shape\n",
    "    q = np.ones((N,d+1))\n",
    "    q[:,0:d] = p \n",
    "    return q \n",
    "\n",
    "def affinization(q):\n",
    "    '''\n",
    "    Input: q, Nx(d+1) = N points in P^d\n",
    "    Output: p, Nxd matrix = N points in R^d\n",
    "    '''\n",
    "    N,d1 = q.shape\n",
    "    d = d1-1\n",
    "    p = np.ones((N,d))\n",
    "    p = q[:,0:d]/q[:,d:d+1] \n",
    "    \n",
    "    return p\n",
    "\n",
    "def normalization_matrix(p):\n",
    "    '''\n",
    "    Input: p: Nx2 matrix\n",
    "    Output: T, normalization matrix (in projective plane) \n",
    "    '''\n",
    "\n",
    "    # Computation\n",
    "    m = np.mean(p,axis=0)\n",
    "    q = p - np.repeat(m[np.newaxis,:],N,axis=0)\n",
    "    w = np.sqrt(np.sum(q**2,axis=1))\n",
    "    scale = 1/np.mean(w)\n",
    "\n",
    "    # Normalization matrix\n",
    "    T = np.zeros((3,3))\n",
    "    T[2,2] = 1\n",
    "    T[0,0] = scale\n",
    "    T[0,2] = -m[0]*scale\n",
    "    T[1,1] = scale\n",
    "    T[1,2] = -m[1]*scale\n",
    "        \n",
    "    return T"
   ]
  },
  {
   "cell_type": "code",
   "execution_count": null,
   "id": "23b7c875",
   "metadata": {},
   "outputs": [],
   "source": [
    "def mendonca_cost_func(X):\n",
    "    '''\n",
    "    computes Mendonca & Cipolla Cost function to find the Optimal Intrinsic Parameters\n",
    "    Input\n",
    "    X      - Approximate Values of Intrinsics - 1D array with length 5\n",
    "    Output\n",
    "    E    - Computed Cost\n",
    "    '''\n",
    "\n",
    "    #Transform Intrinsics to Matrix Form\n",
    "    K = np.array([\n",
    "        [X[0],X[1],X[2]],\n",
    "        [0,X[3],X[4]],\n",
    "        [0,0,1]\n",
    "    ])\n",
    "    #Initialize Cost\n",
    "    E = 0\n",
    "    '''\n",
    "       F - globally defined Fundamental Matrix between given two Images (F[i,j,3x3])\n",
    "    '''\n",
    "    # For the Denominator term of Mendonca & Cipolla's Equation\n",
    "    N = len(F[0]) #number of images given\n",
    "\n",
    "    Den = N*(N-1)/2; # For N Images there are N(N-1)/2 Fundamental Matrices\n",
    "\n",
    "    #Compute the Cost using Mendonca & Cipolla's Equation\n",
    "    for i in range(1,len(F[0]-1)):\n",
    "        for j in range (i+1,len(F[0])):\n",
    "\n",
    "            # Compute the Essential Matrix 'EM' from Fundamental of images i,j\n",
    "            EM = K.T @ F[i,j,:,:] @ K\n",
    "\n",
    "            # Compute SVD of Essential Matrix\n",
    "            _,D,_ = np.linalg.svd(EM)\n",
    "             # Singular Values (3rd value, D[3] is 0 according to theorem)\n",
    "            r = D[0]\n",
    "            s = D[1]\n",
    "            \n",
    "            #  Compute Cost\n",
    "\n",
    "            E+= (1/Den) * (r - s)/s\n",
    "\n",
    "    return E\n"
   ]
  },
  {
   "cell_type": "code",
   "execution_count": null,
   "id": "5254cc4f",
   "metadata": {},
   "outputs": [],
   "source": [
    "# EXPERIMENT\n",
    "\n",
    "# array of n_images with original coordinates of N points (x,y)\n",
    "p = np.zeros((n_images,N,2))\n",
    "# array of n_images with projective coordinats of M points (x,y,1)\n",
    "pj = np.zeros((n_images,N,3))\n",
    "\n",
    "# randomly initialize 1st image (index #0)\n",
    "p[0] = np.random.randint(0,500,(N,2))\n",
    "pj[0] = projectivation(p[0])\n",
    "\n",
    "#init random matrices to transform original image\n",
    "A = np.random.randint(-6,6,(n_images-1,3,3))\n",
    "A[:,] = np.triu(A[:,])\n",
    "# transform original image to get new images \n",
    "for i in range(1,n_images):\n",
    "    pj[i] = (A[i-1]@pj[0].T).T\n",
    "    p[i] = affinization(pj[i])\n",
    "   \n",
    "# insert noise\n",
    "noise_level1 = 0.25\n",
    "for i in range(n_images):\n",
    "    p[i] += noise_level1*np.random.randn(N,2)"
   ]
  },
  {
   "cell_type": "code",
   "execution_count": null,
   "id": "7fa1b093",
   "metadata": {},
   "outputs": [],
   "source": [
    "print (A[0])"
   ]
  },
  {
   "cell_type": "code",
   "execution_count": null,
   "id": "58db6810",
   "metadata": {},
   "outputs": [],
   "source": [
    "print (p.shape)"
   ]
  },
  {
   "cell_type": "code",
   "execution_count": null,
   "id": "e2e45221",
   "metadata": {},
   "outputs": [],
   "source": [
    "for i in range(n_images-1):\n",
    "    for j in range(i+1,n_images):\n",
    "        F[i,j] = calc_fund_matrix(p[i],p[j])"
   ]
  },
  {
   "cell_type": "code",
   "execution_count": null,
   "id": "ba8ffbb1",
   "metadata": {},
   "outputs": [],
   "source": [
    "initial_K =  np.random.randint(-5,5,(5))"
   ]
  },
  {
   "cell_type": "code",
   "execution_count": null,
   "id": "7a2a8b5e",
   "metadata": {},
   "outputs": [],
   "source": [
    "res = opt.minimize(mendonca_cost_func,x0=initial_K, method='Nelder-Mead')"
   ]
  },
  {
   "cell_type": "code",
   "execution_count": null,
   "id": "82c98eec",
   "metadata": {},
   "outputs": [],
   "source": [
    "print (res)"
   ]
  },
  {
   "cell_type": "code",
   "execution_count": null,
   "id": "800376f8",
   "metadata": {},
   "outputs": [],
   "source": [
    "result_K = np.zeros((3,3))\n",
    "result_K = np.array([[res.x[0],res.x[1],res.x[2]],[0,res.x[3],res.x[4]],[0,0,1]])\n",
    "print (np.matrix(result_K))"
   ]
  },
  {
   "cell_type": "code",
   "execution_count": null,
   "id": "de5b0047",
   "metadata": {},
   "outputs": [],
   "source": [
    "#reconststruction\n",
    "\n",
    "#find Fundamental matrix\n",
    "F12 = np.zeros((3,3))\n",
    "F12 = calc_fund_matrix(p[0],p[1])\n",
    "\n",
    "#find Essential matrix\n",
    "EM = result_K.T @ F @ result_K\n",
    "\n",
    "#factorize EM to find R,t\n",
    "U,D,Vt = np.linalg.svd(EM)"
   ]
  },
  {
   "cell_type": "code",
   "execution_count": null,
   "id": "858d50d2",
   "metadata": {},
   "outputs": [],
   "source": []
  }
 ],
 "metadata": {
  "kernelspec": {
   "display_name": "Python 3",
   "language": "python",
   "name": "python3"
  },
  "language_info": {
   "codemirror_mode": {
    "name": "ipython",
    "version": 3
   },
   "file_extension": ".py",
   "mimetype": "text/x-python",
   "name": "python",
   "nbconvert_exporter": "python",
   "pygments_lexer": "ipython3",
   "version": "3.8.5"
  }
 },
 "nbformat": 4,
 "nbformat_minor": 5
}
