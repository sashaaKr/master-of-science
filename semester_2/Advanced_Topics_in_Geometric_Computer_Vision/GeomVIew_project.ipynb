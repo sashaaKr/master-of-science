{
 "cells": [
  {
   "cell_type": "code",
   "execution_count": 277,
   "id": "923a72f4",
   "metadata": {},
   "outputs": [],
   "source": [
    "import numpy as np\n",
    "import cv2\n",
    "import scipy.optimize as opt\n",
    "import math\n",
    "import matplotlib.pyplot as plt\n",
    "\n",
    "from mpl_toolkits.mplot3d import Axes3D\n",
    "#np.set_printoptions(precision=None, suppress=True)\n",
    "np.set_printoptions(suppress=True)\n"
   ]
  },
  {
   "cell_type": "code",
   "execution_count": null,
   "id": "c67f3692",
   "metadata": {},
   "outputs": [],
   "source": []
  },
  {
   "cell_type": "code",
   "execution_count": 309,
   "id": "9a92c82f",
   "metadata": {},
   "outputs": [],
   "source": [
    "#number of matching points\n",
    "N = 8\n",
    "n_images = 4\n",
    "F = np.zeros((n_images,n_images,3,3))\n",
    "# true_K = np.array([\n",
    "#     [5,0,2],\n",
    "#     [0,5,2],\n",
    "#     [0,0,1]\n",
    "#     ])\n",
    "true_K = np.array([\n",
    "    [800,0,256],\n",
    "    [0,800,256],\n",
    "    [0,0,1]\n",
    "    ])\n",
    "I = np.array([\n",
    "    [1,0,0,0],\n",
    "    [0,1,0,0],\n",
    "    [0,0,1,0]\n",
    "    ])"
   ]
  },
  {
   "cell_type": "code",
   "execution_count": 302,
   "id": "38fe06c4",
   "metadata": {},
   "outputs": [],
   "source": [
    "def calc_fund_matrix(points1,points2):\n",
    "    '''\n",
    "    Takes in 2 arrays of matching points \n",
    "    Return Fundamental matrix computes \n",
    "    using 8 point algorithm\n",
    "    '''\n",
    "#     F, mask = cv2.findFundamentalMat(points1,points2,cv2.FM_8POINT)\n",
    "    F, mask = cv2.findFundamentalMat(points1,points2)\n",
    "\n",
    "    return F "
   ]
  },
  {
   "cell_type": "code",
   "execution_count": 282,
   "id": "311607ee",
   "metadata": {},
   "outputs": [],
   "source": [
    "def normalize_coordinates(p):\n",
    "    # Normalization matrix\n",
    "    T_m = normalization_matrix(p)\n",
    "    # Normalized points\n",
    "    p_norm = (T_m@(p.T)).T\n",
    "    return p_norm, T_m\n",
    "\n",
    "    \n",
    "def manual_find_F_matrix(xy1,xy2):\n",
    "    # Input: xy1 , xy2 - 2d array of points: row per point [x,y]\n",
    "    # xy1 - for image 1, xy2 - for image 2\n",
    "    # FM compute fundametal matrix from point correspondence\n",
    "    #    at least 8 points are needed\n",
    "    \n",
    "    n_points = xy1.shape[0]\n",
    "    if n_points < 8:\n",
    "        print('8 points at least are needed')\n",
    "    \n",
    "    #add 3rd coordinate '1'\n",
    "    xy1 = projectivation(xy1)\n",
    "    xy2 = projectivation(xy2)\n",
    "    \n",
    "    \n",
    "    #normalize coordinates\n",
    "    xy1_norm, T1 = normalize_coordinates(xy1)\n",
    "    xy2_norm, T2 = normalize_coordinates(xy2)\n",
    "    \n",
    "    # Preparing the equation matrix\n",
    "    M = np.zeros((n_points,9))\n",
    "    M[:,0] = xy1_norm[:,0]*xy2_norm[:,0] # x1 * x2\n",
    "    M[:,1] = xy1_norm[:,0]*xy2_norm[:,1] # x1 * y2 \n",
    "    M[:,2] = xy1_norm[:,0] # x1\n",
    "    M[:,3] = xy1_norm[:,1]*xy2_norm[:,0] # y1 * x2\n",
    "    M[:,4] = xy1_norm[:,1]*xy2_norm[:,1] # y1 * y2\n",
    "    M[:,5] = xy1_norm[:,1] # y1\n",
    "    M[:,6] = xy2_norm[:,0] # x2\n",
    "    M[:,7] = xy2_norm[:,1] # y2\n",
    "    M[:,8] = 1\n",
    "\n",
    "    # calc M^T * M to get symmetruc square matrix\n",
    "    W = M.T@M\n",
    "    \n",
    "    # desompose W into U (singular values), D (diagonal matrix), Vt (singular vectors)\n",
    "    U,D,Vt = np.linalg.svd(W,compute_uv=True)\n",
    "    a = U[:,-1]     # solution vector corresponding to the \n",
    "                    # least singular value\n",
    "    A = np.reshape(a.T,(3,3))\n",
    "\n",
    "    # Returning to non-normalized points\n",
    "    F = np.linalg.inv(T2)@A@T1\n",
    "\n",
    "    return F"
   ]
  },
  {
   "cell_type": "code",
   "execution_count": 283,
   "id": "4bdd346e",
   "metadata": {},
   "outputs": [],
   "source": [
    "### function used in class\n",
    "def projectivation(p):\n",
    "    '''\n",
    "    Input: p, Nxd matrix = N points in R^d\n",
    "    Output: q, Nx(d+1) = N points in P^d\n",
    "    '''\n",
    "    N,d = p.shape\n",
    "    q = np.ones((N,d+1))\n",
    "    q[:,0:d] = p \n",
    "    return q \n",
    "\n",
    "def affinization(q):\n",
    "    '''\n",
    "    Input: q, Nx(d+1) = N points in P^d\n",
    "    Output: p, Nxd matrix = N points in R^d\n",
    "    '''\n",
    "    N,d1 = q.shape\n",
    "    d = d1-1\n",
    "    p = np.ones((N,d))\n",
    "    p = q[:,0:d]/q[:,d:d+1] \n",
    "    \n",
    "    return p\n",
    "\n",
    "def normalization_matrix(p):\n",
    "    '''\n",
    "    Input: p: Nx2 matrix\n",
    "    Output: T, normalization matrix (in projective plane) \n",
    "    '''\n",
    "\n",
    "    # Computation\n",
    "    m = np.mean(p,axis=0)\n",
    "    q = p - np.repeat(m[np.newaxis,:],N,axis=0)\n",
    "    w = np.sqrt(np.sum(q**2,axis=1))\n",
    "    scale = 1/np.mean(w)\n",
    "\n",
    "    # Normalization matrix\n",
    "    T = np.zeros((3,3))\n",
    "    T[2,2] = 1\n",
    "    T[0,0] = scale\n",
    "    T[0,2] = -m[0]*scale\n",
    "    T[1,1] = scale\n",
    "    T[1,2] = -m[1]*scale\n",
    "        \n",
    "    return T"
   ]
  },
  {
   "cell_type": "code",
   "execution_count": 284,
   "id": "23b7c875",
   "metadata": {},
   "outputs": [],
   "source": [
    "def mendonca_cost_func(X):\n",
    "    '''\n",
    "    computes Mendonca & Cipolla Cost function to find the Optimal Intrinsic Parameters\n",
    "    Input\n",
    "    X      - Approximate Values of Intrinsics - 1D array with length 5\n",
    "    Output\n",
    "    E    - Computed Cost\n",
    "    '''\n",
    "\n",
    "    #Transform Intrinsics to Matrix Form\n",
    "    K = np.array([\n",
    "        [X[0],X[1],X[2]],\n",
    "        [0,X[3],X[4]],\n",
    "        [0,0,1]\n",
    "    ])\n",
    "    #Initialize Cost\n",
    "    E = 0\n",
    "    '''\n",
    "       F - globally defined Fundamental Matrix between given two Images (F[i,j,3x3])\n",
    "    '''\n",
    "    # For the Denominator term of Mendonca & Cipolla's Equation\n",
    "    nof_images = len(F[0]) #number of images given\n",
    "\n",
    "    Den = nof_images*(nof_images-1)/2 # For N Images there are N(N-1)/2 Fundamental Matrices\n",
    "  # 0 1 2 3 [0-1, 0-2,0-3, 1-2,1-3,2-3]\n",
    "    # i  j\n",
    "    # 0 -1 \n",
    "    # 0 -2\n",
    "    # 0 -3\n",
    "    # 1- 2\n",
    "    # 1 -3\n",
    "    # 2 -3\n",
    "  # len =4\n",
    "\n",
    "    #Compute the Cost using Mendonca & Cipolla's Equation\n",
    "    for i in range(0,nof_images-1):\n",
    "        for j in range (i+1,nof_images):\n",
    "\n",
    "            # Compute the Essential Matrix 'EM' from Fundamental of images i,j\n",
    "            EM = K.T @ F[i,j,:,:] @ K\n",
    "\n",
    "            # Compute SVD of Essential Matrix\n",
    "            _,D,_ = np.linalg.svd(EM)\n",
    "             # Singular Values (3rd value, D[3] is 0 according to theorem)\n",
    "            r = D[0]\n",
    "            s = D[1]\n",
    "            \n",
    "            #  Compute Cost\n",
    "\n",
    "            E+= (1/Den) * (r - s)/s\n",
    "\n",
    "    return E\n"
   ]
  },
  {
   "cell_type": "code",
   "execution_count": 285,
   "id": "858d50d2",
   "metadata": {},
   "outputs": [],
   "source": [
    "def randomize_rt():\n",
    "    angle = np.random.uniform(0,45)\n",
    "    cos =  math.cos(angle)\n",
    "    sin =  math.sin(angle)\n",
    "    t = np.random.randint(-5,5,(3,1))\n",
    "    t[2] = 0\n",
    "    t = np.zeros((3,1))\n",
    "    R = np.array([[cos,-sin,0],[sin,cos,0],[0,0,1]])\n",
    "    Rt = np.concatenate((R,t),axis=1)\n",
    "#     print (np.matrix(Rt))\n",
    "    return Rt"
   ]
  },
  {
   "cell_type": "code",
   "execution_count": 286,
   "id": "df132eec",
   "metadata": {},
   "outputs": [],
   "source": [
    "def randomize_3d_points(num_of_points):\n",
    "    world_points = np.random.randint(0,500,(num_of_points,3))\n",
    "    return world_points\n",
    "\n",
    "def get_projection_of_points(world_points):\n",
    "    world_points_hom = projectivation(world_points)\n",
    "    return world_points_hom"
   ]
  },
  {
   "cell_type": "code",
   "execution_count": 287,
   "id": "345ea502",
   "metadata": {},
   "outputs": [],
   "source": [
    "world_points = randomize_3d_points(N)\n",
    "T1 = normalization_matrix(world_points)\n",
    "world_points_hom = get_projection_of_points(world_points)"
   ]
  },
  {
   "cell_type": "code",
   "execution_count": 288,
   "id": "a5f2e268",
   "metadata": {},
   "outputs": [
    {
     "data": {
      "text/plain": [
       "(8, 4)"
      ]
     },
     "execution_count": 288,
     "metadata": {},
     "output_type": "execute_result"
    }
   ],
   "source": [
    "world_points_hom.shape"
   ]
  },
  {
   "cell_type": "code",
   "execution_count": 289,
   "id": "07b3fe74",
   "metadata": {},
   "outputs": [
    {
     "data": {
      "image/png": "[encoded data removed]",
      "text/plain": [
       "<Figure size 432x288 with 1 Axes>"
      ]
     },
     "metadata": {
      "needs_background": "light"
     },
     "output_type": "display_data"
    }
   ],
   "source": [
    "fig = plt.figure()\n",
    "ax = fig.add_subplot(111, projection='3d')\n",
    "ax.scatter(world_points[:,0],world_points[:,1],world_points[:,2])\n",
    "plt.show()"
   ]
  },
  {
   "cell_type": "code",
   "execution_count": 290,
   "id": "22d7b6a8",
   "metadata": {},
   "outputs": [
    {
     "data": {
      "text/plain": [
       "array([215., 483., 422.,   1.])"
      ]
     },
     "execution_count": 290,
     "metadata": {},
     "output_type": "execute_result"
    }
   ],
   "source": [
    "(world_points_hom[0])"
   ]
  },
  {
   "cell_type": "code",
   "execution_count": null,
   "id": "2e9dd526",
   "metadata": {},
   "outputs": [],
   "source": []
  },
  {
   "cell_type": "code",
   "execution_count": 291,
   "id": "b74b3798",
   "metadata": {},
   "outputs": [],
   "source": [
    "image0_p0 = np.zeros(3)\n",
    "rt = randomize_rt()\n",
    "image0_p0 = true_K @ I @ world_points_hom[0]"
   ]
  },
  {
   "cell_type": "code",
   "execution_count": 292,
   "id": "cf4445f1",
   "metadata": {},
   "outputs": [],
   "source": [
    "image0 = np.zeros((N,3))\n",
    "for i in range(N):\n",
    "    image0[i,:] = true_K @ I @ world_points_hom[i]\n",
    "    image0[i,:] = image0[i,:]/image0[i,-1]"
   ]
  },
  {
   "cell_type": "code",
   "execution_count": 293,
   "id": "0826dfe4",
   "metadata": {},
   "outputs": [
    {
     "data": {
      "image/png": "[encoded data removed]",
      "text/plain": [
       "<Figure size 432x288 with 1 Axes>"
      ]
     },
     "metadata": {
      "needs_background": "light"
     },
     "output_type": "display_data"
    }
   ],
   "source": [
    "fig = plt.figure()\n",
    "ax = fig.add_subplot(111)\n",
    "ax.scatter(image0[:,0],image0[:,1])\n",
    "plt.show()"
   ]
  },
  {
   "cell_type": "code",
   "execution_count": 310,
   "id": "d7792817",
   "metadata": {},
   "outputs": [
    {
     "name": "stdout",
     "output_type": "stream",
     "text": [
      "[[1 0 0 0]\n",
      " [0 1 0 0]\n",
      " [0 0 1 0]]\n",
      "[[ 0.803 -0.595  0.     0.   ]\n",
      " [ 0.595  0.803  0.     0.   ]\n",
      " [ 0.     0.     1.     0.   ]]\n",
      "[[-1.     0.002  0.     0.   ]\n",
      " [-0.002 -1.     0.     0.   ]\n",
      " [ 0.     0.     1.     0.   ]]\n",
      "[[-0.064  0.998  0.     0.   ]\n",
      " [-0.998 -0.064  0.     0.   ]\n",
      " [ 0.     0.     1.     0.   ]]\n"
     ]
    }
   ],
   "source": [
    "projected = np.zeros((n_images,N,3))\n",
    "\n",
    "for image in range(n_images):\n",
    "    if (image == 0): # use the first image as it was not rotated\n",
    "        rt = I\n",
    "    else:\n",
    "        rt = randomize_rt()\n",
    "    print (np.matrix(rt))\n",
    "    for point in range(N):\n",
    "        projected[image,point,:] = true_K @ rt @ world_points_hom[point]\n",
    "        projected[image,point,:]/= world_points[point,-1]\n"
   ]
  },
  {
   "cell_type": "code",
   "execution_count": 311,
   "id": "dcd50ea5",
   "metadata": {},
   "outputs": [
    {
     "name": "stdout",
     "output_type": "stream",
     "text": [
      "[[[   663.583   1171.64       1.   ]\n",
      "  [   802.207   1249.103      1.   ]\n",
      "  [   807.22     919.415      1.   ]\n",
      "  [   997.7     1033.328      1.   ]\n",
      "  [ 22344.889   7856.         1.   ]\n",
      "  [   591.678   1210.774      1.   ]\n",
      "  [  2335.07     865.302      1.   ]\n",
      "  [  1166.638    264.511      1.   ]]\n",
      "\n",
      " [[    38.238   1234.315      1.   ]\n",
      "  [   103.483   1379.092      1.   ]\n",
      "  [   303.822   1117.206      1.   ]\n",
      "  [   389.024   1322.144      1.   ]\n",
      "  [ 13476.765  19514.515      1.   ]\n",
      "  [   -42.832   1222.94       1.   ]\n",
      "  [  1563.512   1983.481      1.   ]\n",
      "  [   982.536    805.072      1.   ]]\n",
      "\n",
      " [[  -149.327   -660.641      1.   ]\n",
      "  [  -287.76    -738.445      1.   ]\n",
      "  [  -293.585   -408.77       1.   ]\n",
      "  [  -483.784   -523.152      1.   ]\n",
      "  [-21814.111  -7398.36       1.   ]\n",
      "  [   -77.327   -699.597      1.   ]\n",
      "  [ -1821.563   -358.419      1.   ]\n",
      "  [  -654.615    245.247      1.   ]]\n",
      "\n",
      " [[  1143.478   -209.729      1.   ]\n",
      "  [  1211.849   -353.055      1.   ]\n",
      "  [   882.522   -336.817      1.   ]\n",
      "  [   983.927   -534.241      1.   ]\n",
      "  [  6417.073 -22276.647      1.   ]\n",
      "  [  1187.163   -140.495      1.   ]\n",
      "  [   730.087  -1858.006      1.   ]\n",
      "  [   205.823   -653.295      1.   ]]]\n"
     ]
    }
   ],
   "source": [
    "print(projected)"
   ]
  },
  {
   "cell_type": "code",
   "execution_count": 312,
   "id": "cc59288f",
   "metadata": {},
   "outputs": [
    {
     "data": {
      "image/png": "[encoded data removed]",
      "text/plain": [
       "<Figure size 720x1440 with 4 Axes>"
      ]
     },
     "metadata": {
      "needs_background": "light"
     },
     "output_type": "display_data"
    }
   ],
   "source": [
    "fig, axes = plt.subplots(2, 2, figsize=(10,20))\n",
    "\n",
    "for i, ax in enumerate(axes.ravel()):\n",
    "    ax.scatter(projected[i,:,0],projected[i,:,1], alpha=.5)\n",
    "    ax.grid()\n",
    "    \n",
    "plt.tight_layout()"
   ]
  },
  {
   "cell_type": "code",
   "execution_count": 313,
   "id": "ae3581ca",
   "metadata": {},
   "outputs": [],
   "source": [
    "for i in range(n_images-1):\n",
    "    for j in range(i+1,n_images):\n",
    "        F[i,j] = calc_fund_matrix(projected[i,:,0:2],projected[j,:,0:2])"
   ]
  },
  {
   "cell_type": "code",
   "execution_count": 314,
   "id": "f72fc83e",
   "metadata": {},
   "outputs": [
    {
     "data": {
      "text/plain": [
       "matrix([[ 0.   ,  0.   , -0.005],\n",
       "        [-0.   ,  0.   ,  0.   ],\n",
       "        [ 0.002, -0.004,  1.   ]])"
      ]
     },
     "execution_count": 314,
     "metadata": {},
     "output_type": "execute_result"
    }
   ],
   "source": [
    "np.matrix(F[0,1])"
   ]
  },
  {
   "cell_type": "code",
   "execution_count": 315,
   "id": "5c33d6ed",
   "metadata": {},
   "outputs": [
    {
     "name": "stdout",
     "output_type": "stream",
     "text": [
      "0 1\n",
      "[[ 0.     0.    -0.005]\n",
      " [-0.     0.     0.   ]\n",
      " [ 0.002 -0.004  1.   ]]\n",
      "0 2\n",
      "[[-0.    -0.    -0.002]\n",
      " [ 0.    -0.    -0.   ]\n",
      " [-0.002 -0.     1.   ]]\n",
      "0 3\n",
      "[[-0.    -0.     0.001]\n",
      " [ 0.    -0.    -0.002]\n",
      " [-0.002  0.     1.   ]]\n",
      "1 2\n",
      "[[-0.     0.    -0.003]\n",
      " [-0.    -0.     0.002]\n",
      " [-0.001 -0.001  1.   ]]\n",
      "1 3\n",
      "[[ 0.     0.    -0.001]\n",
      " [-0.     0.    -0.001]\n",
      " [-0.001 -0.001  1.   ]]\n",
      "2 3\n",
      "[[-0.    -0.    -0.002]\n",
      " [ 0.    -0.    -0.005]\n",
      " [ 0.011 -0.002  1.   ]]\n"
     ]
    }
   ],
   "source": [
    "for i in range(n_images-1):\n",
    "    for j in range(i+1,n_images):\n",
    "        print(i,j)\n",
    "        print(np.matrix(F[i,j]))"
   ]
  },
  {
   "cell_type": "code",
   "execution_count": 324,
   "id": "8d7f99ca",
   "metadata": {},
   "outputs": [],
   "source": [
    "initial_K =  np.random.randint(-5,5,(5))\n",
    "res = opt.minimize(mendonca_cost_func,x0=initial_K, method='Nelder-Mead')\n",
    "# res = opt.minimize(mendonca_cost_func,x0=initial_K)"
   ]
  },
  {
   "cell_type": "code",
   "execution_count": 321,
   "id": "8f7731aa",
   "metadata": {},
   "outputs": [
    {
     "data": {
      "text/plain": [
       "      fun: 2.849609724159079e-05\n",
       " hess_inv: array([[ 0.001, -0.001, -0.   ,  0.001,  0.   ],\n",
       "       [-0.001,  0.001,  0.   , -0.001, -0.   ],\n",
       "       [-0.   ,  0.   ,  0.   , -0.   , -0.   ],\n",
       "       [ 0.001, -0.001, -0.   ,  0.001,  0.   ],\n",
       "       [ 0.   , -0.   , -0.   ,  0.   ,  0.   ]])\n",
       "      jac: array([-0.043, -0.008,  0.023,  0.043, -0.015])\n",
       "  message: 'Desired error not necessarily achieved due to precision loss.'\n",
       "     nfev: 1989\n",
       "      nit: 190\n",
       "     njev: 330\n",
       "   status: 2\n",
       "  success: False\n",
       "        x: array([ -3.105,  -0.   , 256.   ,  -3.105, 256.   ])"
      ]
     },
     "execution_count": 321,
     "metadata": {},
     "output_type": "execute_result"
    }
   ],
   "source": [
    "res"
   ]
  },
  {
   "cell_type": "code",
   "execution_count": 322,
   "id": "09f09773",
   "metadata": {},
   "outputs": [
    {
     "name": "stdout",
     "output_type": "stream",
     "text": [
      "[[ -3.105  -0.    256.   ]\n",
      " [  0.     -3.105 256.   ]\n",
      " [  0.      0.      1.   ]]\n"
     ]
    }
   ],
   "source": [
    "result_K = np.zeros((3,3))\n",
    "result_K = np.array([[res.x[0],res.x[1],res.x[2]],[0,res.x[3],res.x[4]],[0,0,1]])\n",
    "print (np.matrix(result_K))"
   ]
  },
  {
   "cell_type": "code",
   "execution_count": 323,
   "id": "4f83ac90",
   "metadata": {},
   "outputs": [
    {
     "name": "stdout",
     "output_type": "stream",
     "text": [
      "[[800   0 256]\n",
      " [  0 800 256]\n",
      " [  0   0   1]]\n"
     ]
    }
   ],
   "source": [
    "print(np.matrix(true_K))"
   ]
  },
  {
   "cell_type": "code",
   "execution_count": null,
   "id": "8f2ce92a",
   "metadata": {},
   "outputs": [],
   "source": []
  },
  {
   "cell_type": "code",
   "execution_count": null,
   "id": "2eeda1e4",
   "metadata": {},
   "outputs": [],
   "source": []
  },
  {
   "cell_type": "code",
   "execution_count": null,
   "id": "ce8ce16e",
   "metadata": {},
   "outputs": [],
   "source": []
  },
  {
   "cell_type": "code",
   "execution_count": null,
   "id": "b8f3edf9",
   "metadata": {},
   "outputs": [],
   "source": [
    "image0_p0/image0_p0[2]"
   ]
  },
  {
   "cell_type": "code",
   "execution_count": null,
   "id": "55b7189c",
   "metadata": {},
   "outputs": [],
   "source": [
    "fig = plt.figure()\n",
    "ax = fig.add_subplot(111, projection='3d')\n",
    "ax.scatter(world_points[:,0],world_points[:,1],world_points[:,2])\n",
    "plt.show()"
   ]
  },
  {
   "cell_type": "code",
   "execution_count": null,
   "id": "5254cc4f",
   "metadata": {},
   "outputs": [],
   "source": [
    "# EXPERIMENT\n",
    "\n",
    "# array of n_images with original coordinates of N points (x,y)\n",
    "p = np.zeros((n_images,N,2))\n",
    "# array of n_images with projective coordinats of M points (x,y,1)\n",
    "pj = np.zeros((n_images,N,3))\n",
    "\n",
    "# randomly initialize 1st image (index #0)\n",
    "p[0] = np.random.randint(0,500,(N,2))\n",
    "pj[0] = projectivation(p[0])\n",
    "\n",
    "#init random matrices to transform original image\n",
    "A = np.random.randint(-6,6,(n_images-1,3,3))\n",
    "A[:,] = np.triu(A[:,])\n",
    "# transform original image to get new images \n",
    "for i in range(1,n_images):\n",
    "    pj[i] = (A[i-1]@pj[0].T).T\n",
    "    p[i] = affinization(pj[i])\n",
    "   \n",
    "# insert noise\n",
    "noise_level1 = 0.25\n",
    "for i in range(n_images):\n",
    "    p[i] += noise_level1*np.random.randn(N,2)"
   ]
  },
  {
   "cell_type": "code",
   "execution_count": null,
   "id": "7fa1b093",
   "metadata": {},
   "outputs": [],
   "source": [
    "print (A[0])"
   ]
  },
  {
   "cell_type": "code",
   "execution_count": null,
   "id": "58db6810",
   "metadata": {},
   "outputs": [],
   "source": [
    "print (p.shape)"
   ]
  },
  {
   "cell_type": "code",
   "execution_count": null,
   "id": "e2e45221",
   "metadata": {},
   "outputs": [],
   "source": [
    "for i in range(n_images-1):\n",
    "    for j in range(i+1,n_images):\n",
    "        F[i,j] = calc_fund_matrix(p[i],p[j])"
   ]
  },
  {
   "cell_type": "code",
   "execution_count": null,
   "id": "ba8ffbb1",
   "metadata": {},
   "outputs": [],
   "source": [
    "initial_K =  np.random.randint(-5,5,(5))"
   ]
  },
  {
   "cell_type": "code",
   "execution_count": null,
   "id": "7a2a8b5e",
   "metadata": {},
   "outputs": [],
   "source": [
    "res = opt.minimize(mendonca_cost_func,x0=initial_K, method='Nelder-Mead')"
   ]
  },
  {
   "cell_type": "code",
   "execution_count": null,
   "id": "82c98eec",
   "metadata": {},
   "outputs": [],
   "source": [
    "print (res)"
   ]
  },
  {
   "cell_type": "code",
   "execution_count": null,
   "id": "800376f8",
   "metadata": {},
   "outputs": [],
   "source": [
    "result_K = np.zeros((3,3))\n",
    "result_K = np.array([[res.x[0],res.x[1],res.x[2]],[0,res.x[3],res.x[4]],[0,0,1]])\n",
    "print (np.matrix(result_K))"
   ]
  },
  {
   "cell_type": "code",
   "execution_count": null,
   "id": "de5b0047",
   "metadata": {},
   "outputs": [],
   "source": [
    "#reconststruction\n",
    "\n",
    "#find Fundamental matrix\n",
    "F12 = np.zeros((3,3))\n",
    "F12 = calc_fund_matrix(p[0],p[1])\n",
    "\n",
    "#find Essential matrix\n",
    "EM = result_K.T @ F @ result_K\n",
    "\n",
    "#factorize EM to find R,t\n",
    "U,D,Vt = np.linalg.svd(EM)"
   ]
  },
  {
   "cell_type": "code",
   "execution_count": null,
   "id": "749345ff",
   "metadata": {},
   "outputs": [],
   "source": [
    "randomize_rt()"
   ]
  },
  {
   "cell_type": "code",
   "execution_count": null,
   "id": "c5928f41",
   "metadata": {},
   "outputs": [],
   "source": []
  }
 ],
 "metadata": {
  "kernelspec": {
   "display_name": "Python 3",
   "language": "python",
   "name": "python3"
  },
  "language_info": {
   "codemirror_mode": {
    "name": "ipython",
    "version": 3
   },
   "file_extension": ".py",
   "mimetype": "text/x-python",
   "name": "python",
   "nbconvert_exporter": "python",
   "pygments_lexer": "ipython3",
   "version": "3.8.5"
  }
 },
 "nbformat": 4,
 "nbformat_minor": 5
}
