{
 "cells": [
  {
   "cell_type": "code",
   "execution_count": 1,
   "id": "923a72f4",
   "metadata": {},
   "outputs": [],
   "source": [
    "import numpy as np\n",
    "import cv2\n",
    "import scipy.optimize as opt\n",
    "import math\n",
    "import matplotlib.pyplot as plt\n",
    "\n",
    "from mpl_toolkits.mplot3d import Axes3D\n",
    "#np.set_printoptions(precision=None, suppress=True)\n",
    "np.set_printoptions(suppress=True)\n"
   ]
  },
  {
   "cell_type": "code",
   "execution_count": 85,
   "id": "05242a48",
   "metadata": {},
   "outputs": [],
   "source": [
    "rng = np.random.default_rng(2021)"
   ]
  },
  {
   "cell_type": "code",
   "execution_count": 2,
   "id": "9a92c82f",
   "metadata": {},
   "outputs": [],
   "source": [
    "#number of matching points\n",
    "N = 8\n",
    "n_images = 4\n",
    "F = np.zeros((n_images,n_images,3,3))\n",
    "# true_K = np.array([\n",
    "#     [5,0,2],\n",
    "#     [0,5,2],\n",
    "#     [0,0,1]\n",
    "#     ])\n",
    "true_K = np.array([\n",
    "    [800,0,256],\n",
    "    [0,800,256],\n",
    "    [0,0,1]\n",
    "    ])\n",
    "I = np.array([\n",
    "    [1,0,0,0],\n",
    "    [0,1,0,0],\n",
    "    [0,0,1,0]\n",
    "    ])"
   ]
  },
  {
   "cell_type": "code",
   "execution_count": 3,
   "id": "38fe06c4",
   "metadata": {},
   "outputs": [],
   "source": [
    "def calc_fund_matrix(points1,points2):\n",
    "    '''\n",
    "    Takes in 2 arrays of matching points \n",
    "    Return Fundamental matrix computes \n",
    "    using 8 point algorithm\n",
    "    '''\n",
    "#     F, mask = cv2.findFundamentalMat(points1,points2,cv2.FM_8POINT)\n",
    "    F, mask = cv2.findFundamentalMat(points1,points2)\n",
    "\n",
    "    return F "
   ]
  },
  {
   "cell_type": "code",
   "execution_count": 4,
   "id": "311607ee",
   "metadata": {},
   "outputs": [],
   "source": [
    "def normalize_coordinates(p):\n",
    "    # Normalization matrix\n",
    "    T_m = normalization_matrix(p)\n",
    "    # Normalized points\n",
    "    p_norm = (T_m@(p.T)).T\n",
    "    return p_norm, T_m\n",
    "\n",
    "    \n",
    "def manual_find_F_matrix(xy1,xy2):\n",
    "    # Input: xy1 , xy2 - 2d array of points: row per point [x,y]\n",
    "    # xy1 - for image 1, xy2 - for image 2\n",
    "    # FM compute fundametal matrix from point correspondence\n",
    "    #    at least 8 points are needed\n",
    "    \n",
    "    n_points = xy1.shape[0]\n",
    "    if n_points < 8:\n",
    "        print('8 points at least are needed')\n",
    "    \n",
    "    #add 3rd coordinate '1'\n",
    "    xy1 = projectivation(xy1)\n",
    "    xy2 = projectivation(xy2)\n",
    "    \n",
    "    \n",
    "    #normalize coordinates\n",
    "    xy1_norm, T1 = normalize_coordinates(xy1)\n",
    "    xy2_norm, T2 = normalize_coordinates(xy2)\n",
    "    \n",
    "    # Preparing the equation matrix\n",
    "    M = np.zeros((n_points,9))\n",
    "    M[:,0] = xy1_norm[:,0]*xy2_norm[:,0] # x1 * x2\n",
    "    M[:,1] = xy1_norm[:,0]*xy2_norm[:,1] # x1 * y2 \n",
    "    M[:,2] = xy1_norm[:,0] # x1\n",
    "    M[:,3] = xy1_norm[:,1]*xy2_norm[:,0] # y1 * x2\n",
    "    M[:,4] = xy1_norm[:,1]*xy2_norm[:,1] # y1 * y2\n",
    "    M[:,5] = xy1_norm[:,1] # y1\n",
    "    M[:,6] = xy2_norm[:,0] # x2\n",
    "    M[:,7] = xy2_norm[:,1] # y2\n",
    "    M[:,8] = 1\n",
    "\n",
    "    # calc M^T * M to get symmetruc square matrix\n",
    "    W = M.T@M\n",
    "    \n",
    "    # desompose W into U (singular values), D (diagonal matrix), Vt (singular vectors)\n",
    "    U,D,Vt = np.linalg.svd(W,compute_uv=True)\n",
    "    a = U[:,-1]     # solution vector corresponding to the \n",
    "                    # least singular value\n",
    "    A = np.reshape(a.T,(3,3))\n",
    "\n",
    "    # Returning to non-normalized points\n",
    "    F = np.linalg.inv(T2)@A@T1\n",
    "\n",
    "    return F"
   ]
  },
  {
   "cell_type": "code",
   "execution_count": 5,
   "id": "4bdd346e",
   "metadata": {},
   "outputs": [],
   "source": [
    "### function used in class\n",
    "def projectivation(p):\n",
    "    '''\n",
    "    Input: p, Nxd matrix = N points in R^d\n",
    "    Output: q, Nx(d+1) = N points in P^d\n",
    "    '''\n",
    "    N,d = p.shape\n",
    "    q = np.ones((N,d+1))\n",
    "    q[:,0:d] = p \n",
    "    return q \n",
    "\n",
    "def affinization(q):\n",
    "    '''\n",
    "    Input: q, Nx(d+1) = N points in P^d\n",
    "    Output: p, Nxd matrix = N points in R^d\n",
    "    '''\n",
    "    N,d1 = q.shape\n",
    "    d = d1-1\n",
    "    p = np.ones((N,d))\n",
    "    p = q[:,0:d]/q[:,d:d+1] \n",
    "    \n",
    "    return p\n",
    "\n",
    "def normalization_matrix(p):\n",
    "    '''\n",
    "    Input: p: Nx2 matrix\n",
    "    Output: T, normalization matrix (in projective plane) \n",
    "    '''\n",
    "\n",
    "    # Computation\n",
    "    m = np.mean(p,axis=0)\n",
    "    q = p - np.repeat(m[np.newaxis,:],N,axis=0)\n",
    "    w = np.sqrt(np.sum(q**2,axis=1))\n",
    "    scale = 1/np.mean(w)\n",
    "\n",
    "    # Normalization matrix\n",
    "    T = np.zeros((3,3))\n",
    "    T[2,2] = 1\n",
    "    T[0,0] = scale\n",
    "    T[0,2] = -m[0]*scale\n",
    "    T[1,1] = scale\n",
    "    T[1,2] = -m[1]*scale\n",
    "        \n",
    "    return T"
   ]
  },
  {
   "cell_type": "code",
   "execution_count": 6,
   "id": "23b7c875",
   "metadata": {},
   "outputs": [],
   "source": [
    "def mendonca_cost_func(X):\n",
    "    '''\n",
    "    computes Mendonca & Cipolla Cost function to find the Optimal Intrinsic Parameters\n",
    "    Input\n",
    "    X      - Approximate Values of Intrinsics - 1D array with length 5\n",
    "    Output\n",
    "    E    - Computed Cost\n",
    "    '''\n",
    "\n",
    "    #Transform Intrinsics to Matrix Form\n",
    "#     K = np.array([\n",
    "#         [X[0],X[1],X[2]],\n",
    "#         [0,X[3],X[4]],\n",
    "#         [0,0,1]\n",
    "#     ])\n",
    "    K = np.array([\n",
    "        [X[0],0,X[1]],\n",
    "        [0,X[2],X[3]],\n",
    "        [0,0,1]\n",
    "    ])\n",
    "    #Initialize Cost\n",
    "    E = 0\n",
    "    '''\n",
    "       F - globally defined Fundamental Matrix between given two Images (F[i,j,3x3])\n",
    "    '''\n",
    "    # For the Denominator term of Mendonca & Cipolla's Equation\n",
    "#     nof_images = len(F[0]) #number of images given\n",
    "    nof_images = numberOfViews\n",
    "    Den = nof_images*(nof_images-1)/2 # For N Images there are N(N-1)/2 Fundamental Matrices\n",
    "  # 0 1 2 3 [0-1, 0-2,0-3, 1-2,1-3,2-3]\n",
    "    # i  j\n",
    "    # 0 -1 \n",
    "    # 0 -2\n",
    "    # 0 -3\n",
    "    # 1- 2\n",
    "    # 1 -3\n",
    "    # 2 -3\n",
    "  # len =4\n",
    "\n",
    "    #Compute the Cost using Mendonca & Cipolla's Equation\n",
    "    for i in range(0,nof_images-1):\n",
    "        for j in range (i+1,nof_images):\n",
    "\n",
    "            # Compute the Essential Matrix 'EM' from Fundamental of images i,j\n",
    "#             EM = K.T @ F[i,j,:,:] @ K\n",
    "            EM = K.T @ Fs[:,:,i,j] @ K\n",
    "\n",
    "            # Compute SVD of Essential Matrix\n",
    "            _,D,_ = np.linalg.svd(EM)\n",
    "             # Singular Values (3rd value, D[3] is 0 according to theorem)\n",
    "            r = D[0]\n",
    "            s = D[1]\n",
    "            \n",
    "            #  Compute Cost\n",
    "\n",
    "            E+= (1/Den) * (r - s)/s\n",
    "\n",
    "    return E\n"
   ]
  },
  {
   "cell_type": "code",
   "execution_count": 7,
   "id": "4d438c88",
   "metadata": {},
   "outputs": [],
   "source": [
    "def p3t(T,x,y,z):\n",
    "    # apply a Projective 3D Transform\n",
    "#     print(x.shape)\n",
    "    xyz = np.concatenate((x, y, z),axis=1)\n",
    "#     print(xyz)\n",
    "#     print(\"np.concatenate((xyz,column_ones),axis=1)\")\n",
    "    column_ones = np.ones((len(x),1))\n",
    "#     print(np.concatenate((xyz,column_ones),axis=1))\n",
    "    tmp = T @ (np.concatenate((xyz,column_ones),axis=1)).T\n",
    "    xp = (tmp[0,:]/tmp[3,:]).T\n",
    "    yp = (tmp[1,:]/tmp[3,:]).T\n",
    "    zp = (tmp[2,:]/tmp[3,:]).T\n",
    "    return xp,yp,zp"
   ]
  },
  {
   "cell_type": "code",
   "execution_count": 36,
   "id": "49f24e4c",
   "metadata": {},
   "outputs": [],
   "source": [
    "def projf(P,x,y,z):\n",
    "#     % PROJ  compute perspective projection (from 3D to pixel coordinates)\n",
    "#     %   pixel positions are returned with floating point precision\n",
    "#     %\n",
    "#     %   See also PROJE\n",
    "    print(\"P\\n\",P.shape)\n",
    "    c3d = np.concatenate((x, y, z),axis=1)\n",
    "    print(\"c3d\\n\",c3d.shape)\n",
    "    column_ones = np.ones((len(x),1))\n",
    "    h3d = (np.concatenate((c3d,column_ones),axis=1)).T\n",
    "    print(\"h3d\\n\",h3d.shape)\n",
    "    h2d = P @ h3d\n",
    "    print(\"h2d.shape\\n\",h2d.shape)\n",
    "#     print(\"h2d\\n\",h2d)\n",
    "\n",
    "    c2d = h2d/ h2d[2,:]\n",
    "\n",
    "    u = c2d[0,:].T\n",
    "    v = c2d[1,:].T\n",
    "    return u,v"
   ]
  },
  {
   "cell_type": "code",
   "execution_count": 37,
   "id": "81880fd7",
   "metadata": {},
   "outputs": [],
   "source": [
    "def plot_3d(x,y,z):\n",
    "    fig = plt.figure()\n",
    "    ax = fig.add_subplot(111, projection='3d')\n",
    "    ax.scatter(x,y,z)\n",
    "    plt.show()"
   ]
  },
  {
   "cell_type": "code",
   "execution_count": 38,
   "id": "5b6af31c",
   "metadata": {},
   "outputs": [],
   "source": [
    "def plot_2d(x,y):\n",
    "    fig = plt.figure()\n",
    "    ax = fig.add_subplot(111)\n",
    "    ax.scatter(x,y)\n",
    "    plt.show()"
   ]
  },
  {
   "cell_type": "code",
   "execution_count": 39,
   "id": "b122f01a",
   "metadata": {},
   "outputs": [],
   "source": [
    "def conver_to_col(x):\n",
    "    return np.reshape(x,(len(x),1))"
   ]
  },
  {
   "cell_type": "code",
   "execution_count": 40,
   "id": "e2136bc2",
   "metadata": {},
   "outputs": [],
   "source": [
    "def rcam(A):\n",
    "# RCAM generate a random camera\n",
    "#    generate a random camera pointing to lookp, positioned at an average \n",
    "#    distance ad form the origin, with a std dev of sd \n",
    "#    A is the intrinsic parameters matrix\n",
    "\n",
    "    ad=2.5\n",
    "    sd=0.25\n",
    "    lookp=np.zeros((1,3))\n",
    "    eyep = np.random.uniform(-1,1,size=(1,3))-0.5\n",
    "    R = np.zeros((3,3))\n",
    "    eyep = eyep/np.linalg.norm(eyep) * (ad + sd*np.random.randint(1))\n",
    "#     print(eyep)\n",
    "    R[2,:] = lookp - eyep/np.linalg.norm(lookp - eyep)\n",
    "    R[1,:] = np.cross(R[2,:],np.random.uniform(size=(1,3)))\n",
    "    R[1,:] = R[1,:]/np.linalg.norm(R[1,:])\n",
    "    R[0,:] = np.cross(R[1,:],R[2,:])\n",
    "    Rt = np.concatenate((R,-R @ eyep.T),axis=1)\n",
    "#     print(np.matrix(Rt))\n",
    "    return A @ Rt\n"
   ]
  },
  {
   "cell_type": "code",
   "execution_count": 41,
   "id": "dbd75da2",
   "metadata": {},
   "outputs": [],
   "source": [
    "numberOfViews=5\n",
    "numberOfPoints = 50\n",
    "imagePoints = np.zeros((numberOfPoints,2,numberOfViews))\n",
    "PPM = np.zeros((3,4,numberOfViews))\n",
    "PPMGT = np.zeros((3,4,numberOfViews))"
   ]
  },
  {
   "cell_type": "code",
   "execution_count": 42,
   "id": "3ebf79c3",
   "metadata": {},
   "outputs": [],
   "source": [
    "Fs = np.zeros((3,3,numberOfViews,numberOfViews))"
   ]
  },
  {
   "cell_type": "code",
   "execution_count": 67,
   "id": "602e973d",
   "metadata": {},
   "outputs": [
    {
     "data": {
      "image/png": "[encoded data removed]",
      "text/plain": [
       "<Figure size 432x288 with 1 Axes>"
      ]
     },
     "metadata": {
      "needs_background": "light"
     },
     "output_type": "display_data"
    },
    {
     "name": "stdout",
     "output_type": "stream",
     "text": [
      "matrix P\n",
      " [[ 448.97241504  404.81828381  583.16543761  640.        ]\n",
      " [ 661.74702781 -515.85459156  -38.99886602  640.        ]\n",
      " [   0.73843337    0.48632568   -0.46712257    2.5       ]]\n",
      "invAP\n",
      " [[ 0.32491684  0.35039864  0.87843602  0.        ]\n",
      " [ 0.59088511 -0.80044246  0.10073064  0.        ]\n",
      " [ 0.73843337  0.48632568 -0.46712257  2.5       ]]\n",
      "lower_line\n",
      " [[0, 0, 0, 1]]\n",
      "G0\n",
      " [[ 0.32491684  0.35039864  0.87843602  0.        ]\n",
      " [ 0.59088511 -0.80044246  0.10073064  0.        ]\n",
      " [ 0.73843337  0.48632568 -0.46712257  2.5       ]\n",
      " [ 0.          0.          0.          1.        ]]\n"
     ]
    }
   ],
   "source": [
    "### test same as italian\n",
    "data = (np.random.uniform(size=(numberOfPoints,3),)-0.5)/(math.sqrt(3)/2)\n",
    "x = data[:,0]\n",
    "y = data[:,1]\n",
    "z = data[:,2]\n",
    "xr = np.reshape(x,(len(x),1))\n",
    "yr = np.reshape(y,(len(y),1))\n",
    "zr = np.reshape(z,(len(z),1))\n",
    "\n",
    "plot_3d(x,y,z)\n",
    "A = true_K\n",
    "P = rcam(A)\n",
    "print(\"matrix P\\n\",np.matrix(P))\n",
    "invAP = np.linalg.inv(A) @ P\n",
    "print(\"invAP\\n\",invAP)\n",
    "lower_line = [[0,0,0,1]]\n",
    "print(\"lower_line\\n\",lower_line)\n",
    "G0 = np.concatenate((invAP, lower_line),axis=0)\n",
    "print(\"G0\\n\",np.matrix(G0))\n"
   ]
  },
  {
   "cell_type": "code",
   "execution_count": 68,
   "id": "3e7895f7",
   "metadata": {},
   "outputs": [
    {
     "name": "stdout",
     "output_type": "stream",
     "text": [
      "P\n",
      " (3, 4)\n",
      "c3d\n",
      " (50, 3)\n",
      "h3d\n",
      " (4, 50)\n",
      "h2d.shape\n",
      " (3, 50)\n",
      "u\n",
      " [375.7943899  344.61708482 144.03835379 141.52287227  88.60367904\n",
      " 190.82744932 155.03286597 269.07981833 281.94738861 353.49267357\n",
      " 170.50390895 126.58027052 389.71199537 157.0660573  128.35605324\n",
      " 221.66892116 176.12023032 150.47186126 263.47980015 267.92552708\n",
      " 307.87753173 469.94680291 281.61034969 346.45561936 211.50759092\n",
      " 209.63514119 190.70370132  41.94942594 188.78289901 254.62252388\n",
      " 393.42797532 441.13335535 414.62342448 153.92216123 433.05410429\n",
      " 269.43897133 277.19215971 406.05397815 282.60159746 222.27416968\n",
      " 115.58888219 268.35086261 246.84394011 301.95987889 218.7011355\n",
      " 265.83956703 193.60129698 334.84186002 236.55077131 212.90179762]\n",
      "v\n",
      " [352.10056055 479.73683521 377.27145494 221.82282932 355.58436538\n",
      " 250.83833011  37.7917771  354.22762496 440.32188929 145.09883918\n",
      " 267.17444222 205.1559178  199.63786382 291.78614089 364.93457189\n",
      " 429.99419177 339.1691089  256.12670975 277.05763464 360.47990046\n",
      " 169.33645528 178.92793002 444.09592718 192.33566307 212.22424376\n",
      " 306.40436153 160.01108392 358.77019119 452.08221055 301.9365947\n",
      " 254.42713558 131.01414642 230.13612624 216.62648029 292.25730158\n",
      " 416.03221158 212.320712   293.46524438 164.51986838 184.6923399\n",
      " 129.48370493 301.68755637 168.35854118 326.79017402 169.00490936\n",
      " 279.06472105 323.54551222 343.92331254 114.17597656 404.5131277 ]\n"
     ]
    }
   ],
   "source": [
    "x,y,z = p3t(G0,xr,yr,zr)\n",
    "P = A @ np.concatenate((np.identity(3), np.zeros((3,1))),axis=1)\n",
    "# print(\"P\\n\",P)\n",
    "# print(x)\n",
    "# print(conver_to_col(x))\n",
    "u,v = projf(P,conver_to_col(x),conver_to_col(y),conver_to_col(z))\n",
    "\n",
    "imagePoints[:,0,0] = u\n",
    "imagePoints[:,1,0] = v\n",
    "PPMGT[:,:,0] = P\n",
    "\n",
    "print(\"u\\n\",u)\n",
    "print(\"v\\n\",v)"
   ]
  },
  {
   "cell_type": "code",
   "execution_count": 69,
   "id": "c7d5b8e8",
   "metadata": {},
   "outputs": [
    {
     "name": "stdout",
     "output_type": "stream",
     "text": [
      "P\n",
      " (3, 4)\n",
      "c3d\n",
      " (50, 3)\n",
      "h3d\n",
      " (4, 50)\n",
      "h2d.shape\n",
      " (3, 50)\n"
     ]
    },
    {
     "data": {
      "image/png": "[encoded data removed]",
      "text/plain": [
       "<Figure size 432x288 with 1 Axes>"
      ]
     },
     "metadata": {
      "needs_background": "light"
     },
     "output_type": "display_data"
    },
    {
     "name": "stdout",
     "output_type": "stream",
     "text": [
      "P\n",
      " (3, 4)\n",
      "c3d\n",
      " (50, 3)\n",
      "h3d\n",
      " (4, 50)\n",
      "h2d.shape\n",
      " (3, 50)\n"
     ]
    },
    {
     "data": {
      "image/png": "[encoded data removed]",
      "text/plain": [
       "<Figure size 432x288 with 1 Axes>"
      ]
     },
     "metadata": {
      "needs_background": "light"
     },
     "output_type": "display_data"
    },
    {
     "name": "stdout",
     "output_type": "stream",
     "text": [
      "P\n",
      " (3, 4)\n",
      "c3d\n",
      " (50, 3)\n",
      "h3d\n",
      " (4, 50)\n",
      "h2d.shape\n",
      " (3, 50)\n"
     ]
    },
    {
     "data": {
      "image/png": "[encoded data removed]",
      "text/plain": [
       "<Figure size 432x288 with 1 Axes>"
      ]
     },
     "metadata": {
      "needs_background": "light"
     },
     "output_type": "display_data"
    },
    {
     "name": "stdout",
     "output_type": "stream",
     "text": [
      "P\n",
      " (3, 4)\n",
      "c3d\n",
      " (50, 3)\n",
      "h3d\n",
      " (4, 50)\n",
      "h2d.shape\n",
      " (3, 50)\n"
     ]
    },
    {
     "data": {
      "image/png": "[encoded data removed]",
      "text/plain": [
       "<Figure size 432x288 with 1 Axes>"
      ]
     },
     "metadata": {
      "needs_background": "light"
     },
     "output_type": "display_data"
    }
   ],
   "source": [
    "for view in range (1,numberOfViews):\n",
    "\n",
    "    #   % random camera position\n",
    "    P = rcam(A)\n",
    "\n",
    "    #   % apply world coordinate transformation\n",
    "    P = P @ np.linalg.inv(G0);\n",
    "\n",
    "    #   % project world points to image points\n",
    "    u,v = projf(P,conver_to_col(x),conver_to_col(y),conver_to_col(z))\n",
    "\n",
    "    #   % add noise to image points\n",
    "    #       u = u + sigma * randn(size(u));\n",
    "    #       v = v + sigma * randn(size(v));\n",
    "\n",
    "    imagePoints[:,0,view] = u\n",
    "    imagePoints[:,1,view] = v\n",
    "\n",
    "    PPMGT[:,:,view] = P   \n",
    "    plot_2d(u,v)"
   ]
  },
  {
   "cell_type": "code",
   "execution_count": 70,
   "id": "80fad586",
   "metadata": {},
   "outputs": [],
   "source": [
    "\n",
    "for i in range(numberOfViews):\n",
    "    for j in range(i+1,numberOfViews):\n",
    "        Fs[:,:,i,j] = calc_fund_matrix(imagePoints[:,:,i],imagePoints[:,:,j])"
   ]
  },
  {
   "cell_type": "code",
   "execution_count": 71,
   "id": "3dcdd82b",
   "metadata": {},
   "outputs": [],
   "source": [
    "initial_K =  [true_K[0,0], true_K[0,2],true_K[1,1],true_K[1,2]]\n",
    "res = opt.minimize(mendonca_cost_func,x0=initial_K, method='Nelder-Mead')"
   ]
  },
  {
   "cell_type": "code",
   "execution_count": 72,
   "id": "7e3ce442",
   "metadata": {},
   "outputs": [
    {
     "name": "stdout",
     "output_type": "stream",
     "text": [
      "[[800.05504475   0.         255.99961934]\n",
      " [  0.         800.05500608 256.00067955]\n",
      " [  0.           0.           1.        ]]\n"
     ]
    }
   ],
   "source": [
    "result_K = np.zeros((3,3))\n",
    "result_K = np.array([[res.x[0],0,res.x[1]],[0,res.x[2],res.x[3]],[0,0,1]])\n",
    "print (np.matrix(result_K))"
   ]
  },
  {
   "cell_type": "code",
   "execution_count": 73,
   "id": "daa5e8e1",
   "metadata": {},
   "outputs": [
    {
     "name": "stdout",
     "output_type": "stream",
     "text": [
      "[[ 0.40286953 -0.05567244  0.31997473]\n",
      " [ 0.15299238 -0.57487142  0.44098811]\n",
      " [ 0.478761   -0.27715629 -0.53985633]\n",
      " [-0.15511891 -0.02276945 -0.34670894]\n",
      " [-0.18778015 -0.51734962 -0.25510819]\n",
      " [-0.00941536 -0.01511634 -0.23101765]\n",
      " [-0.48668086  0.45837097 -0.36703853]\n",
      " [ 0.0948617  -0.27952396  0.12066696]\n",
      " [ 0.25178479 -0.47331885  0.18318443]\n",
      " [-0.17763647  0.31810686  0.27132276]\n",
      " [ 0.23190056  0.06168095 -0.46546334]\n",
      " [-0.16587588  0.02950438 -0.42769807]\n",
      " [ 0.15065724  0.38263155  0.2974579 ]\n",
      " [-0.41047198 -0.40916963  0.03614869]\n",
      " [-0.29394256 -0.56540923 -0.03328257]\n",
      " [ 0.46645959 -0.41009167 -0.14139566]\n",
      " [-0.11286678 -0.38440799 -0.06163467]\n",
      " [-0.33225834 -0.25838881 -0.10080558]\n",
      " [ 0.06850278 -0.03085142  0.01388716]\n",
      " [-0.08136675 -0.38338274  0.21952404]\n",
      " [-0.27283715  0.13182888  0.21531936]\n",
      " [ 0.17435986  0.5121007   0.53174174]\n",
      " [-0.00147399 -0.57305645  0.30485328]\n",
      " [ 0.33166336  0.54769475  0.04382082]\n",
      " [ 0.20283681  0.30484156 -0.38516351]\n",
      " [ 0.13789535 -0.12638638 -0.17354315]\n",
      " [-0.45430554 -0.01346875 -0.02832743]\n",
      " [-0.15982957 -0.54413355 -0.42992846]\n",
      " [ 0.39061956 -0.53459723 -0.1811767 ]\n",
      " [ 0.45561408  0.09565431 -0.21252404]\n",
      " [-0.27702297 -0.13145654  0.54179758]\n",
      " [-0.09083135  0.4692568   0.48748107]\n",
      " [ 0.37080296  0.42949697  0.32998081]\n",
      " [-0.47723509 -0.22998134 -0.02944322]\n",
      " [ 0.38509719  0.1903898   0.45312357]\n",
      " [ 0.45323929 -0.33007982  0.01502556]\n",
      " [ 0.38637582  0.46860985 -0.23565035]\n",
      " [ 0.37032032  0.16315998  0.37016522]\n",
      " [ 0.20619719  0.5589978  -0.18528192]\n",
      " [-0.24338474  0.07885731 -0.05587817]\n",
      " [-0.25157645  0.27957692 -0.56031783]\n",
      " [ 0.27879828  0.00362929 -0.05651893]\n",
      " [-0.53077216 -0.09677786  0.20934778]\n",
      " [ 0.44318038  0.01631065  0.01454736]\n",
      " [ 0.23402298  0.54235597 -0.47042429]\n",
      " [-0.12953636 -0.15903776  0.14299783]\n",
      " [-0.37979295 -0.46360031  0.15476279]\n",
      " [ 0.17367204 -0.16921453  0.27450592]\n",
      " [-0.45900419  0.1578048   0.04548514]\n",
      " [ 0.21758166 -0.42362856 -0.06386686]]\n"
     ]
    }
   ],
   "source": [
    "print(data)"
   ]
  },
  {
   "cell_type": "code",
   "execution_count": 75,
   "id": "96e91bdb",
   "metadata": {},
   "outputs": [
    {
     "name": "stdout",
     "output_type": "stream",
     "text": [
      "[[[  800.           811.48569525   829.49889682   789.96414086\n",
      "      20.72103215]\n",
      "  [    0.           -68.49617017   132.1613771   -280.26202106\n",
      "     383.69116461]\n",
      "  [  256.          -205.75529415    -0.97497702   -54.27573771\n",
      "     746.91882359]\n",
      "  [    0.          1154.38823536   642.43744254   775.68934428\n",
      "   -1227.29705897]]\n",
      "\n",
      " [[    0.           283.40452655   -54.40816415   188.39266756\n",
      "    -399.69166626]\n",
      "  [  800.           452.09633995   837.60003071   431.84497203\n",
      "    -612.29904076]\n",
      "  [  256.           648.71162602    31.65343958  -695.38055979\n",
      "     413.36721763]\n",
      "  [    0.          -981.77906506   560.86640105  2378.45139949\n",
      "    -393.41804408]]\n",
      "\n",
      " [[    0.             0.42652158     0.26381872     0.60796762\n",
      "       0.67299363]\n",
      "  [    0.            -0.63097939     0.2879828      0.74948356\n",
      "      -0.47417912]\n",
      "  [    1.             0.64803113     0.92057894     0.26201099\n",
      "       0.56765635]\n",
      "  [    0.             0.87992218     0.19855265     1.84497252\n",
      "       1.08085912]]]\n"
     ]
    }
   ],
   "source": [
    "print(PPMGT)"
   ]
  },
  {
   "cell_type": "code",
   "execution_count": 77,
   "id": "a38d44ff",
   "metadata": {},
   "outputs": [
    {
     "name": "stdout",
     "output_type": "stream",
     "text": [
      "[[ 0.32491684  0.35039864  0.87843602  0.        ]\n",
      " [ 0.59088511 -0.80044246  0.10073064  0.        ]\n",
      " [ 0.73843337  0.48632568 -0.46712257  2.5       ]\n",
      " [ 0.          0.          0.          1.        ]]\n"
     ]
    }
   ],
   "source": [
    "print(G0)"
   ]
  },
  {
   "cell_type": "code",
   "execution_count": 78,
   "id": "907dbd12",
   "metadata": {},
   "outputs": [
    {
     "name": "stdout",
     "output_type": "stream",
     "text": [
      "('MT19937', array([3122787423, 3721310838, 1204026599, 1952118866, 3323835918,\n",
      "       4060200507,  552735203,  476751965,  724620709, 3538565514,\n",
      "       1331808216, 4026268235, 2528324086, 1846367101, 2989679635,\n",
      "       3389372164, 2332755575, 1991695778, 1513731169, 1528912078,\n",
      "        596762433, 2166011432, 4101919988,  457493721, 1084843444,\n",
      "       3836023702, 3348519974, 3209935254,  777996722, 2442515456,\n",
      "        493719164,  313272819, 1060049429,  656710158, 1179257121,\n",
      "       1138378906,   49926297, 1174818907, 2787030037, 1237207833,\n",
      "       3779185784, 2823451280, 4201715515, 1942681989, 1099978037,\n",
      "       1485354926, 2408716778, 1088310067,  863035540, 3185622018,\n",
      "       2613525622, 2513699115,  211861821, 2602735364, 1130170447,\n",
      "       3402297933, 3476250001,  630364569, 1023164387, 4126853388,\n",
      "       2341940936, 4245413334, 1779954305, 3599302030, 2619532385,\n",
      "       1171212580, 2793649452, 4199560457, 2430205153,  194082778,\n",
      "       2214269016, 1158629392,  567778160, 3215900654,  492132419,\n",
      "         82402327, 2094574472, 1280310174, 2662061330, 4266589605,\n",
      "       3692248353,  778951596, 2005779290, 2990006072, 3346984521,\n",
      "       3127743087,  829674662,  394739167,   57236581, 4184307448,\n",
      "       2976066536, 4069895140, 1016992656,  474447966,  700335260,\n",
      "       1913867839, 1905331853, 1007713627,  379012218,  149272792,\n",
      "       2119530373, 2856116036,  886045629, 2304532330,  748391929,\n",
      "         24836695,  937503997, 1012110152, 2302658404, 2196238911,\n",
      "       3343132835, 3241934925, 1117256928, 1376278436, 3125867577,\n",
      "       4276539332, 1056115205,  528929242, 3909721520, 2834055734,\n",
      "        625356601,  714705464, 2820310344, 1495018042, 3230442531,\n",
      "       4102422165,  458246027, 3602329883,   75304727, 4246484169,\n",
      "        259690043, 3896422425, 1403148608, 2466426287, 1792678878,\n",
      "       2596456779, 3127949792,  796397909,  359060278,  983105096,\n",
      "       4140138740,  273646596, 1239347342,  824941351, 3150910664,\n",
      "        227659037, 1519903668,  909937635, 1013011836,  833324130,\n",
      "       1943802833, 1631832449, 1130666066, 3767617152, 3981609463,\n",
      "       2786336583, 4235705396, 2793451928, 1761508858,  629609792,\n",
      "       2827565541, 1138972783, 3907859049, 1301684373, 4283216789,\n",
      "       1694156966, 3893534723, 2304946104, 1466084415, 2031149860,\n",
      "       4036816825,  230962772, 3607520492, 3447432592,  101324882,\n",
      "        118312776, 3538764802,  595875559, 2678366543, 3699830118,\n",
      "       3551939867,  764112787,  739061140, 1147792135, 1603426714,\n",
      "       2259442199, 2006245434, 1175397372, 3553939889, 3759097733,\n",
      "       1239971415, 1991345705,  331259548,   75744908, 1750306301,\n",
      "       3872219542,  265219921, 1227739418, 3866052841, 3786149097,\n",
      "       1772339156, 1884085283,  188263331, 2045634973, 3592376429,\n",
      "       1566268055,  890943899, 3030737870,  183149682, 2226252507,\n",
      "       2468334463, 1183604572, 3585316343,   50381078, 2696157011,\n",
      "        444380240, 2358045963, 3294813735, 1008811189, 2238087025,\n",
      "       2824709345, 1152921453,  497700200, 1598036654, 2623405299,\n",
      "       2985037191, 2597612295, 4123412460, 3271772360, 3973800996,\n",
      "       1678878267, 1452026339,  667024719, 3392497378, 3708975837,\n",
      "       2709040056,  709754436, 4219938985, 3370465004, 2117635174,\n",
      "       3159025364, 2069457369,  480745074, 4267377919, 2382539775,\n",
      "       2054969661, 4013017490, 3793199102, 1899604153, 1715594447,\n",
      "       1866635146,  587580801, 4082686481, 1469475719, 3653887951,\n",
      "       3971711342, 2098493413, 1286800131, 4195206589, 4136232647,\n",
      "       4047061854, 1541085701,  474574655, 1982247738, 3803309565,\n",
      "       2803906182,  831100998,  610639076,  868383272, 1096941949,\n",
      "       2721426678, 3949150309, 2896703166, 2736632080, 1608228022,\n",
      "       2041857564, 2030117530,  463961430, 1565313032, 3593187844,\n",
      "       1645306017,  453147026, 2447131468, 1749291751,  540494369,\n",
      "       1990589711, 3597144842, 3985938722, 1208011468, 4144147764,\n",
      "       2010530798, 3897708453, 3418797851,    5038343, 3735025106,\n",
      "       1491331860, 2370394472,  974686850, 4082899819, 4290007048,\n",
      "        871329407, 3384640850, 2647189986, 4051375665, 4274470341,\n",
      "       1959761363, 3973413488, 1802222908, 2831919050, 2990586112,\n",
      "       2327174957, 2959662119, 3964062842, 1204863649, 2867569729,\n",
      "       3697194746, 3878638731, 3687421147, 1406941789, 2328477713,\n",
      "        803925045, 4221764860, 2942653138, 2027682247, 1253384297,\n",
      "       1157979314, 1292516894,  880076362,  223372259,  745214938,\n",
      "        622515597, 1983422191, 3181481378,  544890512, 2015504763,\n",
      "       1444527248, 2532920048, 1376601685,  951777442, 3321643356,\n",
      "       2839053233,  638998192, 1507300776, 1549324601, 2423337591,\n",
      "       1007570113,  249822564,  126152769, 3444030016, 2779920381,\n",
      "       1398701429, 3583805097, 3028101943, 2798277348, 4293617125,\n",
      "       3459818277, 1587678941, 2246038958,  174859062,  469158700,\n",
      "       3606866191, 1825096581, 2900830550, 1202301069, 1838672534,\n",
      "       1058152859, 3046642832,  539398397, 2009382263, 2194271446,\n",
      "       4060147500, 2083486604,  683250902,  469241316,   44351026,\n",
      "        236804573,  494473198, 1787692563, 1185049446, 1030393372,\n",
      "       3797706001, 2158081600, 1328781235, 3666976495, 2637803088,\n",
      "        468453780, 4225279948, 1344648315,  104060660, 2514033420,\n",
      "        394869909, 1229176226, 2706158137,  166040271, 1721770410,\n",
      "       2774669825, 1083340576, 4160971803, 3491895236, 3825404926,\n",
      "        490988730, 3513994915, 3148417601, 2955864733,  557686531,\n",
      "       3415777194,  327796619, 1218592628,  663689592, 1176698840,\n",
      "       3870910193, 3801791807, 2024073034, 4057133916,  376588603,\n",
      "       2749344492, 1483825132, 4060276650, 2155014560, 1307504325,\n",
      "       4149409097, 3481489038, 2150086614, 2234772842,  347575294,\n",
      "        382092506, 3934586569,  806749943, 3968099754, 3836273797,\n",
      "       4183452932, 1832808756, 3319203413, 3841012396,  318622287,\n",
      "       3813307074,  140629295, 2759580565, 3543219422, 2721200317,\n",
      "       2049178523,  456197699, 2122959667,  957355078,   13115322,\n",
      "        324269413,  855706998,  792177966, 1181616376, 4185838138,\n",
      "       3432269598, 2757121550, 2863785233, 3581275302, 1915543594,\n",
      "       2370869037, 1760453950, 1386095853, 2918541385, 4012131812,\n",
      "       1607417305, 1580500619,  151092865, 1399005279, 2512833022,\n",
      "       1401077901,   12646522, 2792434842, 3719202962,  717953881,\n",
      "       2149305695, 1272937658, 2100425695, 2066874588, 1301373405,\n",
      "         97993527, 1139267194, 2226922662,  230865026,  757356142,\n",
      "       3177360938, 3408935308, 1241700320, 1870071717, 2525288752,\n",
      "       3312997803,   34627395, 3491073758,  491690222, 2033434152,\n",
      "       2864310551, 1408945243, 2591907251,  643238954,  238704589,\n",
      "       2197581206, 3700346287, 4147533322, 1859022006, 1366396798,\n",
      "       1299364082, 3156590615, 2287426002, 1055554711, 1889208638,\n",
      "        267358732, 2686511285, 2646485391, 1324367458, 1901761974,\n",
      "        705585976, 1475311317, 3319828734, 1911444557, 1474047951,\n",
      "       2241649795, 3710698621, 3162125795,  521667410, 3818704813,\n",
      "        885482554,  217570229, 3949917240, 1659924360,  795230235,\n",
      "       1391547182,  645140497,   65516955, 1693347550,  286226817,\n",
      "       1326453425, 1430828933, 2019722142,   67874753, 1467734414,\n",
      "       2482268723, 1567743938,  124982821,  233716996, 4115373733,\n",
      "       1821051599, 1611465207, 1970531547, 1697589158, 2073146052,\n",
      "       2096586461, 1916896360, 1548262059, 2507283542, 3298156980,\n",
      "        552656457,  440364845, 3692377346, 3608880435, 2330785841,\n",
      "       3292397245, 3253483740, 4134650419, 2882038833,  293447169,\n",
      "       3469007195,  522050991, 3126325158,  150714380, 4133921858,\n",
      "       1465966411, 4038864582, 3180416613, 1156859299, 3435370411,\n",
      "       2789868171, 2282613785, 3366032913, 3567727516, 3944397092,\n",
      "        933822126, 2138557852, 3318501554, 3173871564, 3802480606,\n",
      "        691053035, 2413340967, 3174140458, 4211191408, 1687354832,\n",
      "       3281638746, 1386090827,  393387375,  362956726, 3645035106,\n",
      "       1267300423,  151732361, 1423025140, 4088724991, 3077587146,\n",
      "       1199219956,  390070364,  919311210,  560196909, 1217312411,\n",
      "       3725538500, 4243149131, 1334280057,  283121842,  521726081,\n",
      "        704369701, 2006793041, 2034335903, 2297524670, 3337711122,\n",
      "       3473543442, 1133507704, 2390627429, 1181660785,   46050507,\n",
      "        272669945, 2080976312, 3138613055, 3289100424, 2289718311,\n",
      "       3947037464, 4068939981,  444802763, 2223652304], dtype=uint32), 23, 0, 0.0)\n"
     ]
    }
   ],
   "source": [
    "state = np.random.get_state()\n",
    "print(state)"
   ]
  },
  {
   "cell_type": "code",
   "execution_count": 79,
   "id": "aa61653d",
   "metadata": {},
   "outputs": [],
   "source": [
    "import pandas as pd"
   ]
  },
  {
   "cell_type": "code",
   "execution_count": 82,
   "id": "d5f4eadf",
   "metadata": {},
   "outputs": [],
   "source": [
    "points = pd.DataFrame(data)\n",
    "points.to_csv('points.csv', index=False)  "
   ]
  },
  {
   "cell_type": "code",
   "execution_count": null,
   "id": "985470a0",
   "metadata": {},
   "outputs": [],
   "source": [
    "eyep = np.random.uniform(size=(1,3))-0.5\n",
    "print(eyep)"
   ]
  },
  {
   "cell_type": "code",
   "execution_count": null,
   "id": "858d50d2",
   "metadata": {},
   "outputs": [],
   "source": [
    "def randomize_rt():\n",
    "    angle = np.random.uniform(0,45)\n",
    "    cos =  math.cos(angle)\n",
    "    sin =  math.sin(angle)\n",
    "#     t = np.random.randint(-5,5,(3,1))\n",
    "    t = np.zeros((3,1))\n",
    "    t[2] = 1\n",
    "    t = np.zeros((3,1))\n",
    "    R = np.array([[cos,-sin,0],[sin,cos,0],[0,0,1]])\n",
    "    Rt = np.concatenate((R,t),axis=1)\n",
    "    print(Rt)\n",
    "    low_row = np.zeros((1,4))\n",
    "    low_row[:,-1] = 1\n",
    "    Rt = np.concatenate((Rt,low_row),axis=0)\n",
    "#     lowes_row = np.array([0,0,0,1])\n",
    "#     Rt = np.concatenate((Rt,lowes_row),axis=0)\n",
    "    print (np.matrix(Rt))\n",
    "    return Rt"
   ]
  },
  {
   "cell_type": "code",
   "execution_count": null,
   "id": "362bbba7",
   "metadata": {},
   "outputs": [],
   "source": [
    "rt = randomize_rt()\n"
   ]
  },
  {
   "cell_type": "code",
   "execution_count": null,
   "id": "1f8d1676",
   "metadata": {},
   "outputs": [],
   "source": [
    "def randomize_3d_points(num_of_points):\n",
    "    world_points = np.random.uniform(-1,1,(num_of_points,3))\n",
    "    return world_points\n",
    "\n",
    "def get_projection_of_points(world_points):\n",
    "    world_points_hom = projectivation(world_points)\n",
    "    return world_points_hom"
   ]
  },
  {
   "cell_type": "code",
   "execution_count": null,
   "id": "2e0561aa",
   "metadata": {},
   "outputs": [],
   "source": [
    "world_points = randomize_3d_points(N)\n",
    "T1 = normalization_matrix(world_points)\n",
    "world_points_hom = get_projection_of_points(world_points)"
   ]
  },
  {
   "cell_type": "code",
   "execution_count": null,
   "id": "84402652",
   "metadata": {},
   "outputs": [],
   "source": [
    "world_points_hom.shape"
   ]
  },
  {
   "cell_type": "code",
   "execution_count": null,
   "id": "d19eea1a",
   "metadata": {},
   "outputs": [],
   "source": [
    "fig = plt.figure()\n",
    "ax = fig.add_subplot(111, projection='3d')\n",
    "ax.scatter(world_points[:,0],world_points[:,1],world_points[:,2])\n",
    "plt.show()"
   ]
  },
  {
   "cell_type": "code",
   "execution_count": null,
   "id": "93c99c86",
   "metadata": {},
   "outputs": [],
   "source": [
    "(world_points_hom[0])"
   ]
  },
  {
   "cell_type": "code",
   "execution_count": null,
   "id": "33bbaf55",
   "metadata": {},
   "outputs": [],
   "source": []
  },
  {
   "cell_type": "code",
   "execution_count": null,
   "id": "84503624",
   "metadata": {},
   "outputs": [],
   "source": [
    "image0_p0 = np.zeros(3)\n",
    "rt = randomize_rt()\n",
    "k_extended = np.concatenate((true_K,np.zeros(shape=(3,1))),axis=1)\n",
    "print(k_extended)\n",
    "image0_p0 = k_extended @ world_points_hom[0]"
   ]
  },
  {
   "cell_type": "code",
   "execution_count": null,
   "id": "3a4de9ca",
   "metadata": {},
   "outputs": [],
   "source": [
    "image0 = np.zeros((N,3))\n",
    "for i in range(N):\n",
    "    image0[i,:] = true_K @ I @ world_points_hom[i]\n",
    "    image0[i,:] = image0[i,:]/image0[i,-1]"
   ]
  },
  {
   "cell_type": "code",
   "execution_count": null,
   "id": "b3e2f90c",
   "metadata": {},
   "outputs": [],
   "source": [
    "fig = plt.figure()\n",
    "ax = fig.add_subplot(111)\n",
    "ax.scatter(image0[:,0],image0[:,1])\n",
    "plt.show()"
   ]
  },
  {
   "cell_type": "code",
   "execution_count": null,
   "id": "fba9d912",
   "metadata": {},
   "outputs": [],
   "source": [
    "projected = np.zeros((n_images,N,3))\n",
    "\n",
    "for image in range(n_images):\n",
    "    if (image == 0): # use the first image as it was not rotated\n",
    "#         rt = I\n",
    "        rt = np.identity(4)\n",
    "    else:\n",
    "        rt = randomize_rt()\n",
    "    print (np.matrix(rt))\n",
    "    for point in range(N):\n",
    "#         projected[image,point,:] = true_K @ rt @ world_points_hom[point]\n",
    "        projected[image,point,:] = k_extended @ rt @ world_points_hom[point]\n",
    "        projected[image,point,:]/= world_points[point,-1]\n"
   ]
  },
  {
   "cell_type": "code",
   "execution_count": null,
   "id": "c6939de9",
   "metadata": {},
   "outputs": [],
   "source": [
    "print(projected)"
   ]
  },
  {
   "cell_type": "code",
   "execution_count": null,
   "id": "7a94fcf0",
   "metadata": {},
   "outputs": [],
   "source": [
    "fig, axes = plt.subplots(2, 2, figsize=(10,20))\n",
    "\n",
    "for i, ax in enumerate(axes.ravel()):\n",
    "    ax.scatter(projected[i,:,0],projected[i,:,1], alpha=.5)\n",
    "    ax.grid()\n",
    "    \n",
    "plt.tight_layout()"
   ]
  },
  {
   "cell_type": "code",
   "execution_count": null,
   "id": "66c89a0f",
   "metadata": {},
   "outputs": [],
   "source": [
    "for i in range(n_images-1):\n",
    "    for j in range(i+1,n_images):\n",
    "        F[i,j] = calc_fund_matrix(projected[i,:,0:2],projected[j,:,0:2])"
   ]
  },
  {
   "cell_type": "code",
   "execution_count": null,
   "id": "02a63abb",
   "metadata": {},
   "outputs": [],
   "source": [
    "np.matrix(F[0,1])"
   ]
  },
  {
   "cell_type": "code",
   "execution_count": null,
   "id": "8543eef4",
   "metadata": {},
   "outputs": [],
   "source": [
    "for i in range(n_images-1):\n",
    "    for j in range(i+1,n_images):\n",
    "        print(i,j)\n",
    "        print(np.matrix(F[i,j]))"
   ]
  },
  {
   "cell_type": "code",
   "execution_count": null,
   "id": "55d9957b",
   "metadata": {},
   "outputs": [],
   "source": [
    "initial_K =  np.random.randint(-5,5,(5))\n",
    "res = opt.minimize(mendonca_cost_func,x0=initial_K, method='Nelder-Mead')\n",
    "# res = opt.minimize(mendonca_cost_func,x0=initial_K)"
   ]
  },
  {
   "cell_type": "code",
   "execution_count": null,
   "id": "59258892",
   "metadata": {},
   "outputs": [],
   "source": [
    "res"
   ]
  },
  {
   "cell_type": "code",
   "execution_count": null,
   "id": "90a3d81f",
   "metadata": {},
   "outputs": [],
   "source": [
    "result_K = np.zeros((3,3))\n",
    "result_K = np.array([[res.x[0],res.x[1],res.x[2]],[0,res.x[3],res.x[4]],[0,0,1]])\n",
    "print (np.matrix(result_K))"
   ]
  },
  {
   "cell_type": "code",
   "execution_count": null,
   "id": "5995ea9d",
   "metadata": {},
   "outputs": [],
   "source": [
    "print(np.matrix(true_K))"
   ]
  },
  {
   "cell_type": "code",
   "execution_count": null,
   "id": "b18a194e",
   "metadata": {},
   "outputs": [],
   "source": []
  },
  {
   "cell_type": "code",
   "execution_count": null,
   "id": "19e9eab2",
   "metadata": {},
   "outputs": [],
   "source": []
  },
  {
   "cell_type": "code",
   "execution_count": null,
   "id": "fe12ebf2",
   "metadata": {},
   "outputs": [],
   "source": []
  },
  {
   "cell_type": "code",
   "execution_count": null,
   "id": "8a47f6b8",
   "metadata": {},
   "outputs": [],
   "source": [
    "image0_p0/image0_p0[2]"
   ]
  },
  {
   "cell_type": "code",
   "execution_count": null,
   "id": "2e9dd4f8",
   "metadata": {},
   "outputs": [],
   "source": [
    "fig = plt.figure()\n",
    "ax = fig.add_subplot(111, projection='3d')\n",
    "ax.scatter(world_points[:,0],world_points[:,1],world_points[:,2])\n",
    "plt.show()"
   ]
  },
  {
   "cell_type": "code",
   "execution_count": null,
   "id": "5254cc4f",
   "metadata": {},
   "outputs": [],
   "source": [
    "# EXPERIMENT\n",
    "\n",
    "# array of n_images with original coordinates of N points (x,y)\n",
    "p = np.zeros((n_images,N,2))\n",
    "# array of n_images with projective coordinats of M points (x,y,1)\n",
    "pj = np.zeros((n_images,N,3))\n",
    "\n",
    "# randomly initialize 1st image (index #0)\n",
    "p[0] = np.random.randint(0,500,(N,2))\n",
    "pj[0] = projectivation(p[0])\n",
    "\n",
    "#init random matrices to transform original image\n",
    "A = np.random.randint(-6,6,(n_images-1,3,3))\n",
    "A[:,] = np.triu(A[:,])\n",
    "# transform original image to get new images \n",
    "for i in range(1,n_images):\n",
    "    pj[i] = (A[i-1]@pj[0].T).T\n",
    "    p[i] = affinization(pj[i])\n",
    "   \n",
    "# insert noise\n",
    "noise_level1 = 0.25\n",
    "for i in range(n_images):\n",
    "    p[i] += noise_level1*np.random.randn(N,2)"
   ]
  },
  {
   "cell_type": "code",
   "execution_count": null,
   "id": "7fa1b093",
   "metadata": {},
   "outputs": [],
   "source": [
    "print (A[0])"
   ]
  },
  {
   "cell_type": "code",
   "execution_count": null,
   "id": "58db6810",
   "metadata": {},
   "outputs": [],
   "source": [
    "print (p.shape)"
   ]
  },
  {
   "cell_type": "code",
   "execution_count": null,
   "id": "e2e45221",
   "metadata": {},
   "outputs": [],
   "source": [
    "for i in range(n_images-1):\n",
    "    for j in range(i+1,n_images):\n",
    "        F[i,j] = calc_fund_matrix(p[i],p[j])"
   ]
  },
  {
   "cell_type": "code",
   "execution_count": null,
   "id": "ba8ffbb1",
   "metadata": {},
   "outputs": [],
   "source": [
    "initial_K =  np.random.randint(-5,5,(5))"
   ]
  },
  {
   "cell_type": "code",
   "execution_count": null,
   "id": "7a2a8b5e",
   "metadata": {},
   "outputs": [],
   "source": [
    "res = opt.minimize(mendonca_cost_func,x0=initial_K, method='Nelder-Mead')"
   ]
  },
  {
   "cell_type": "code",
   "execution_count": null,
   "id": "82c98eec",
   "metadata": {},
   "outputs": [],
   "source": [
    "print (res)"
   ]
  },
  {
   "cell_type": "code",
   "execution_count": null,
   "id": "800376f8",
   "metadata": {},
   "outputs": [],
   "source": [
    "result_K = np.zeros((3,3))\n",
    "result_K = np.array([[res.x[0],res.x[1],res.x[2]],[0,res.x[3],res.x[4]],[0,0,1]])\n",
    "print (np.matrix(result_K))"
   ]
  },
  {
   "cell_type": "code",
   "execution_count": null,
   "id": "de5b0047",
   "metadata": {},
   "outputs": [],
   "source": [
    "#reconststruction\n",
    "\n",
    "#find Fundamental matrix\n",
    "F12 = np.zeros((3,3))\n",
    "F12 = calc_fund_matrix(p[0],p[1])\n",
    "\n",
    "#find Essential matrix\n",
    "EM = result_K.T @ F @ result_K\n",
    "\n",
    "#factorize EM to find R,t\n",
    "U,D,Vt = np.linalg.svd(EM)"
   ]
  },
  {
   "cell_type": "code",
   "execution_count": null,
   "id": "96ea3fb6",
   "metadata": {},
   "outputs": [],
   "source": [
    "randomize_rt()"
   ]
  },
  {
   "cell_type": "code",
   "execution_count": null,
   "id": "018a7019",
   "metadata": {},
   "outputs": [],
   "source": []
  }
 ],
 "metadata": {
  "kernelspec": {
   "display_name": "Python 3",
   "language": "python",
   "name": "python3"
  },
  "language_info": {
   "codemirror_mode": {
    "name": "ipython",
    "version": 3
   },
   "file_extension": ".py",
   "mimetype": "text/x-python",
   "name": "python",
   "nbconvert_exporter": "python",
   "pygments_lexer": "ipython3",
   "version": "3.8.5"
  }
 },
 "nbformat": 4,
 "nbformat_minor": 5
}
