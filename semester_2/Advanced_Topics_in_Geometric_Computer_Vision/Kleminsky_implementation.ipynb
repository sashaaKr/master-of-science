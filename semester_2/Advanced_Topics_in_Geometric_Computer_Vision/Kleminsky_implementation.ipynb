{
 "cells": [
  {
   "cell_type": "code",
   "execution_count": 8,
   "metadata": {
    "collapsed": true,
    "execution": {
     "iopub.execute_input": "2021-03-16T15:09:59.326Z",
     "iopub.status.busy": "2021-03-16T15:09:59.320Z",
     "iopub.status.idle": "2021-03-16T15:09:59.335Z",
     "shell.execute_reply": "2021-03-16T15:09:59.263Z"
    },
    "jupyter": {
     "outputs_hidden": false,
     "source_hidden": false
    },
    "nteract": {
     "transient": {
      "deleting": false
     }
    }
   },
   "outputs": [],
   "source": [
    "import numpy as np\n",
    "import scipy.linalg as la   "
   ]
  },
  {
   "cell_type": "markdown",
   "metadata": {
    "nteract": {
     "transient": {
      "deleting": false
     }
    }
   },
   "source": [
    "# Normalization matrix "
   ]
  },
  {
   "cell_type": "code",
   "execution_count": 9,
   "metadata": {
    "collapsed": true,
    "execution": {
     "iopub.execute_input": "2021-03-16T15:09:59.355Z",
     "iopub.status.busy": "2021-03-16T15:09:59.350Z",
     "iopub.status.idle": "2021-03-16T15:09:59.365Z",
     "shell.execute_reply": "2021-03-16T15:09:59.271Z"
    },
    "jupyter": {
     "outputs_hidden": false,
     "source_hidden": false
    },
    "nteract": {
     "transient": {
      "deleting": false
     }
    }
   },
   "outputs": [],
   "source": [
    "def normalization_matrix(p):\n",
    "    '''\n",
    "    Input: p: Nx2 matrix\n",
    "    Output: T, normalization matrix (in projective plane) \n",
    "    '''\n",
    "\n",
    "    # Computation\n",
    "    m = np.mean(p,axis=0)\n",
    "    q = p - np.repeat(m[np.newaxis,:],N,axis=0)\n",
    "    w = np.sqrt(np.sum(q**2,axis=1))\n",
    "    scale = 1/np.mean(w)\n",
    "\n",
    "    # Normalization matrix\n",
    "    T = np.zeros((3,3))\n",
    "    T[2,2] = 1\n",
    "    T[0,0] = scale\n",
    "    T[0,2] = -m[0]*scale\n",
    "    T[1,1] = scale\n",
    "    T[1,2] = -m[1]*scale\n",
    "        \n",
    "    return T\n",
    "    "
   ]
  },
  {
   "cell_type": "markdown",
   "metadata": {
    "nteract": {
     "transient": {
      "deleting": false
     }
    }
   },
   "source": [
    "# Utilities"
   ]
  },
  {
   "cell_type": "code",
   "execution_count": 15,
   "metadata": {
    "collapsed": true,
    "execution": {
     "iopub.execute_input": "2021-03-16T15:10:32.165Z",
     "iopub.status.busy": "2021-03-16T15:10:32.159Z",
     "iopub.status.idle": "2021-03-16T15:10:32.173Z",
     "shell.execute_reply": "2021-03-16T15:10:32.182Z"
    },
    "jupyter": {
     "outputs_hidden": false,
     "source_hidden": false
    },
    "nteract": {
     "transient": {
      "deleting": false
     }
    }
   },
   "outputs": [],
   "source": [
    "def projectivation(p):\n",
    "    '''\n",
    "    Input: p, Nxd matrix = N points in R^d\n",
    "    Output: q, Nx(d+1) = N points in P^d\n",
    "    '''\n",
    "    N,d = p.shape\n",
    "    q = np.ones((N,d+1))\n",
    "    q[:,0:d] = p \n",
    "    return q \n",
    "\n",
    "def affinization(q):\n",
    "    '''\n",
    "    Input: q, Nx(d+1) = N points in P^d\n",
    "    Output: p, Nxd matrix = N points in R^d\n",
    "    '''\n",
    "    N,d1 = q.shape\n",
    "    d = d1-1\n",
    "    p = np.ones((N,d))\n",
    "    p = q[:,0:d]/q[:,d:d+1] \n",
    "    \n",
    "    return p\n"
   ]
  },
  {
   "cell_type": "markdown",
   "metadata": {
    "nteract": {
     "transient": {
      "deleting": false
     }
    }
   },
   "source": [
    "# Computing homography"
   ]
  },
  {
   "cell_type": "code",
   "execution_count": 26,
   "metadata": {
    "collapsed": true,
    "execution": {
     "iopub.execute_input": "2021-03-16T15:15:03.496Z",
     "iopub.status.busy": "2021-03-16T15:15:03.486Z",
     "iopub.status.idle": "2021-03-16T15:15:03.508Z",
     "shell.execute_reply": "2021-03-16T15:15:03.517Z"
    },
    "jupyter": {
     "outputs_hidden": false,
     "source_hidden": false
    },
    "nteract": {
     "transient": {
      "deleting": false
     }
    }
   },
   "outputs": [],
   "source": [
    "def homography2d(p1,p2):\n",
    "    '''\n",
    "    Input: p1,p2: Nx2 matrices\n",
    "    Output: A, homography from p1 to p2 (in projective plane) \n",
    "    '''\n",
    "\n",
    "    # Normalization matrices\n",
    "    T1 = normalization_matrix(p1)\n",
    "    T2 = normalization_matrix(p2)\n",
    "\n",
    "    # Projective points\n",
    "    p1j = projectivation(p1)\n",
    "    p2j = projectivation(p2)\n",
    "    \n",
    "    # Normalized points\n",
    "    p1jn = (T1@(p1j.T)).T\n",
    "    p2jn = (T2@(p2j.T)).T\n",
    "\n",
    "    # Homography computation relying on normalized points\n",
    "    N = p1.shape[0]\n",
    "    M = np.zeros((2*N,9))\n",
    "    for i in range(N):\n",
    "        l0 = np.concatenate([[0,0,0],-p2jn[i,2]*p1jn[i,:],p2jn[i,1]*p1jn[i,:]])\n",
    "        l1 = np.concatenate([p2jn[i,2]*p1jn[i,:],[0,0,0],-p2jn[i,0]*p1jn[i,:]])\n",
    "        M[2*i,:] = l0\n",
    "        M[2*i+1,:] = l1\n",
    "\n",
    "    W = M.T@M\n",
    "    U,D,Vt = la.svd(W,compute_uv=True)\n",
    "    a = U[:,-1]\n",
    "    A = np.reshape(a.T,(3,3))\n",
    "\n",
    "    # Returning to non-normalized points\n",
    "    A = la.inv(T2)@A@T1\n",
    "\n",
    "    return A\n",
    "    \n",
    "\n",
    "\n"
   ]
  },
  {
   "cell_type": "markdown",
   "metadata": {
    "nteract": {
     "transient": {
      "deleting": false
     }
    }
   },
   "source": [
    "# Experiment"
   ]
  },
  {
   "cell_type": "code",
   "execution_count": 101,
   "metadata": {
    "collapsed": true,
    "execution": {
     "iopub.execute_input": "2021-03-16T16:02:32.595Z",
     "iopub.status.busy": "2021-03-16T16:02:32.577Z",
     "iopub.status.idle": "2021-03-16T16:02:32.625Z",
     "shell.execute_reply": "2021-03-16T16:02:32.637Z"
    },
    "jupyter": {
     "outputs_hidden": false,
     "source_hidden": false
    },
    "nteract": {
     "transient": {
      "deleting": false
     }
    }
   },
   "outputs": [],
   "source": [
    "N = 30\n",
    "p1 = np.random.randint(0,500,(N,2))\n",
    "A = np.random.randint(-5,5,(3,3))\n",
    "p1j = projectivation(p1)\n",
    "p2j = (A@p1j.T).T  \n",
    "p2 = affinization(p2j)\n",
    "\n",
    "\n",
    "noise_level1 = 0.5\n",
    "noise_level2 = 0.01\n",
    "p1 = np.float64(p1)\n",
    "p1 += noise_level1*np.random.randn(N,2)\n",
    "p2 += noise_level2*np.random.randn(N,2)\n",
    "\n",
    "\n",
    "\n"
   ]
  },
  {
   "cell_type": "code",
   "execution_count": 102,
   "metadata": {
    "collapsed": true,
    "execution": {
     "iopub.execute_input": "2021-03-16T16:02:36.432Z",
     "iopub.status.busy": "2021-03-16T16:02:36.421Z",
     "iopub.status.idle": "2021-03-16T16:02:36.451Z",
     "shell.execute_reply": "2021-03-16T16:02:36.461Z"
    },
    "jupyter": {
     "outputs_hidden": false,
     "source_hidden": false
    },
    "nteract": {
     "transient": {
      "deleting": false
     }
    }
   },
   "outputs": [],
   "source": [
    "B = homography2d(p1,p2)\n",
    "    "
   ]
  },
  {
   "cell_type": "code",
   "execution_count": 103,
   "metadata": {
    "collapsed": true,
    "execution": {
     "iopub.execute_input": "2021-03-16T16:02:40.677Z",
     "iopub.status.busy": "2021-03-16T16:02:40.666Z",
     "iopub.status.idle": "2021-03-16T16:02:40.704Z",
     "shell.execute_reply": "2021-03-16T16:02:40.713Z"
    },
    "jupyter": {
     "outputs_hidden": false,
     "source_hidden": false
    },
    "nteract": {
     "transient": {
      "deleting": false
     }
    }
   },
   "outputs": [
    {
     "data": {
      "text/plain": [
       "array([[-4,  2,  0],\n",
       "       [-4,  1, -3],\n",
       "       [ 4, -4, -1]])"
      ]
     },
     "execution_count": 103,
     "metadata": {},
     "output_type": "execute_result"
    }
   ],
   "source": [
    "A\n"
   ]
  },
  {
   "cell_type": "code",
   "execution_count": 104,
   "metadata": {
    "collapsed": true,
    "execution": {
     "iopub.execute_input": "2021-03-16T16:02:44.267Z",
     "iopub.status.busy": "2021-03-16T16:02:44.256Z",
     "iopub.status.idle": "2021-03-16T16:02:44.296Z",
     "shell.execute_reply": "2021-03-16T16:02:44.308Z"
    },
    "jupyter": {
     "outputs_hidden": false,
     "source_hidden": false
    },
    "nteract": {
     "transient": {
      "deleting": false
     }
    }
   },
   "outputs": [
    {
     "data": {
      "text/plain": [
       "array([[ 0.00342853, -0.00172307, -0.00532114],\n",
       "       [ 0.00343045, -0.00084391, -0.00411197],\n",
       "       [-0.00342159,  0.00340479,  0.00682051]])"
      ]
     },
     "execution_count": 104,
     "metadata": {},
     "output_type": "execute_result"
    }
   ],
   "source": [
    "B"
   ]
  },
  {
   "cell_type": "code",
   "execution_count": 105,
   "metadata": {
    "collapsed": true,
    "execution": {
     "iopub.execute_input": "2021-03-16T16:02:46.037Z",
     "iopub.status.busy": "2021-03-16T16:02:46.023Z",
     "iopub.status.idle": "2021-03-16T16:02:46.068Z",
     "shell.execute_reply": "2021-03-16T16:02:46.082Z"
    },
    "jupyter": {
     "outputs_hidden": false,
     "source_hidden": false
    },
    "nteract": {
     "transient": {
      "deleting": false
     }
    }
   },
   "outputs": [
    {
     "data": {
      "text/plain": [
       "array([[-1166.67938412, -1160.71566711,    -0.        ],\n",
       "       [-1166.02675789, -1184.95854498,   729.57740358],\n",
       "       [-1169.0469536 , -1174.8170285 ,  -146.616541  ]])"
      ]
     },
     "execution_count": 105,
     "metadata": {},
     "output_type": "execute_result"
    }
   ],
   "source": [
    "A/B"
   ]
  },
  {
   "cell_type": "markdown",
   "metadata": {
    "nteract": {
     "transient": {
      "deleting": false
     }
    }
   },
   "source": [
    "# Checking homography\n"
   ]
  },
  {
   "cell_type": "code",
   "execution_count": 83,
   "metadata": {
    "collapsed": true,
    "execution": {
     "iopub.execute_input": "2021-03-16T15:59:36.568Z",
     "iopub.status.busy": "2021-03-16T15:59:36.558Z",
     "iopub.status.idle": "2021-03-16T15:59:36.581Z",
     "shell.execute_reply": "2021-03-16T15:59:36.224Z"
    },
    "jupyter": {
     "outputs_hidden": false,
     "source_hidden": false
    },
    "nteract": {
     "transient": {
      "deleting": false
     }
    }
   },
   "outputs": [],
   "source": [
    "def distance(p1,p2):\n",
    "    '''\n",
    "    Input: p1,p2: Nxd matrices = N points in R^d\n",
    "    Output: d: Nx1 matrix = N distances \n",
    "    '''\n",
    "\n",
    "    d = p2-p1\n",
    "    d = np.sqrt(np.sum(d**2,axis=1))\n",
    "    return d\n",
    "\n",
    "\n",
    "def mapping_distance(A,p1,p2):\n",
    "    '''\n",
    "    Input: A: planar homography, i.e. 3x3 matrix\n",
    "    p1,p2: Nx2 matrices, such that A maps p1 to p2 \n",
    "    Ouput: Statistical measures of the mapping quality\n",
    "    '''\n",
    "\n",
    "    p1j = projectivation(p1)\n",
    "    q2j = (A@p1j.T).T \n",
    "    q2 = affinization(q2j) \n",
    "    d = distance(q2,p2)\n",
    "\n",
    "    return d\n",
    "\n",
    "\n",
    "def check_homography2d(A,p1,p2):\n",
    "    '''\n",
    "    Input: A: planar homography, i.e. 3x3 matrix\n",
    "    p1,p2: Nx2 matrices, such that A maps p1 to p2 \n",
    "    Ouput: Statistical measures of the mapping quality\n",
    "    '''\n",
    "\n",
    "    d = mapping_distance(A,p1,p2)    \n",
    "    m = np.mean(d)\n",
    "    s = np.std(d) \n",
    "    return m,s\n",
    "\n",
    "\n"
   ]
  },
  {
   "cell_type": "code",
   "execution_count": 107,
   "metadata": {
    "collapsed": true,
    "execution": {
     "iopub.execute_input": "2021-03-16T16:03:01.861Z",
     "iopub.status.busy": "2021-03-16T16:03:01.849Z",
     "iopub.status.idle": "2021-03-16T16:03:01.890Z",
     "shell.execute_reply": "2021-03-16T16:03:01.900Z"
    },
    "jupyter": {
     "outputs_hidden": false,
     "source_hidden": false
    },
    "nteract": {
     "transient": {
      "deleting": false
     }
    }
   },
   "outputs": [
    {
     "name": "stdout",
     "output_type": "stream",
     "text": [
      "Average geometric error:  0.039885599151868734\n",
      "Std of geometric error:  0.07331747354954336\n"
     ]
    }
   ],
   "source": [
    "m,s = check_homography2d(A,p1,p2)\n",
    "print('Average geometric error: ',m)\n",
    "print('Std of geometric error: ',s)"
   ]
  },
  {
   "cell_type": "code",
   "execution_count": 108,
   "metadata": {
    "collapsed": true,
    "execution": {
     "iopub.execute_input": "2021-03-16T16:03:04.852Z",
     "iopub.status.busy": "2021-03-16T16:03:04.842Z",
     "iopub.status.idle": "2021-03-16T16:03:04.880Z",
     "shell.execute_reply": "2021-03-16T16:03:04.891Z"
    },
    "jupyter": {
     "outputs_hidden": false,
     "source_hidden": false
    },
    "nteract": {
     "transient": {
      "deleting": false
     }
    }
   },
   "outputs": [
    {
     "name": "stdout",
     "output_type": "stream",
     "text": [
      "Average geometric error:  0.037713091029255866\n",
      "Std of geometric error:  0.0664052143435646\n"
     ]
    }
   ],
   "source": [
    "m,s = check_homography2d(B,p1,p2)\n",
    "print('Average geometric error: ',m)\n",
    "print('Std of geometric error: ',s)"
   ]
  },
  {
   "cell_type": "markdown",
   "metadata": {
    "nteract": {
     "transient": {
      "deleting": false
     }
    }
   },
   "source": [
    "# Non-linear optimization"
   ]
  },
  {
   "cell_type": "code",
   "execution_count": 86,
   "metadata": {
    "collapsed": true,
    "execution": {
     "iopub.execute_input": "2021-03-16T15:59:36.712Z",
     "iopub.status.busy": "2021-03-16T15:59:36.703Z",
     "iopub.status.idle": "2021-03-16T15:59:36.724Z",
     "shell.execute_reply": "2021-03-16T15:59:36.262Z"
    },
    "jupyter": {
     "outputs_hidden": false,
     "source_hidden": false
    },
    "nteract": {
     "transient": {
      "deleting": false
     }
    }
   },
   "outputs": [],
   "source": [
    "def f(x,p1,p2):\n",
    "    A = np.reshape(x,(3,3))\n",
    "    d = mapping_distance(A,p1,p2)\n",
    "    return d"
   ]
  },
  {
   "cell_type": "code",
   "execution_count": 110,
   "metadata": {
    "collapsed": true,
    "execution": {
     "iopub.execute_input": "2021-03-16T16:03:15.838Z",
     "iopub.status.busy": "2021-03-16T16:03:15.823Z",
     "iopub.status.idle": "2021-03-16T16:03:16.365Z",
     "shell.execute_reply": "2021-03-16T16:03:16.377Z"
    },
    "jupyter": {
     "outputs_hidden": false,
     "source_hidden": false
    },
    "nteract": {
     "transient": {
      "deleting": false
     }
    }
   },
   "outputs": [],
   "source": [
    "import scipy.optimize as opt\n",
    "x0 = np.reshape(B,(9,1)).flatten()\n",
    "res = opt.least_squares(f,x0,args=(p1,p2))\n"
   ]
  },
  {
   "cell_type": "code",
   "execution_count": 111,
   "metadata": {
    "collapsed": true,
    "execution": {
     "iopub.execute_input": "2021-03-16T16:03:20.203Z",
     "iopub.status.busy": "2021-03-16T16:03:20.192Z",
     "iopub.status.idle": "2021-03-16T16:03:20.235Z",
     "shell.execute_reply": "2021-03-16T16:03:20.246Z"
    },
    "jupyter": {
     "outputs_hidden": false,
     "source_hidden": false
    },
    "nteract": {
     "transient": {
      "deleting": false
     }
    }
   },
   "outputs": [
    {
     "data": {
      "text/plain": [
       " active_mask: array([0., 0., 0., 0., 0., 0., 0., 0., 0.])\n",
       "        cost: 0.07644742892834785\n",
       "         fun: array([0.02761083, 0.01849445, 0.03110024, 0.00808393, 0.02935898,\n",
       "       0.03159566, 0.01875111, 0.00865384, 0.00838118, 0.02707913,\n",
       "       0.00966445, 0.01158508, 0.0295114 , 0.0233182 , 0.23527009,\n",
       "       0.01518934, 0.01774684, 0.10867692, 0.27000701, 0.00639405,\n",
       "       0.0079353 , 0.05239925, 0.01385483, 0.00234944, 0.02670206,\n",
       "       0.01217434, 0.00582423, 0.03300915, 0.00605   , 0.01857032])\n",
       "        grad: array([ -2.90005691,  -5.87384495,   0.1285165 ,   5.68000472,\n",
       "         3.51031872,   0.18858496, -10.03900778,  -6.91188362,\n",
       "        -3.31145503])\n",
       "         jac: array([[-9.10257590e+02, -6.77916923e+02, -3.55549026e+00,\n",
       "        -7.38586226e+02, -5.50199468e+02, -2.88534579e+00,\n",
       "        -4.62292455e+03, -3.44164734e+03, -1.80533768e+01],\n",
       "       [-9.23630386e+01, -3.02866913e+01, -2.30665111e-01,\n",
       "        -4.31065966e+02, -1.41200066e+02, -1.07566778e+00,\n",
       "        -7.05033067e+02, -2.30910775e+02, -1.75914360e+00],\n",
       "       [-9.73820999e+01, -2.24555476e+02, -5.70677994e-01,\n",
       "        -2.04134646e+02, -4.70576346e+02, -1.19615867e+00,\n",
       "         5.16366417e+01,  1.19034300e+02,  3.02573083e-01],\n",
       "       [ 7.50147324e+01,  2.77468071e+02,  6.99036982e-01,\n",
       "         7.95269804e+01,  2.94175469e+02,  7.41094440e-01,\n",
       "         2.28294332e+01,  8.44847468e+01,  2.12762575e-01],\n",
       "       [ 8.04030323e+02,  6.39309380e+02,  2.70706175e+00,\n",
       "         1.22198564e+03,  9.72227161e+02,  4.11565259e+00,\n",
       "         7.19698667e+03,  5.72768870e+03,  2.42434416e+01],\n",
       "       [ 3.43938026e+02,  7.91300074e+01,  8.59456399e-01,\n",
       "        -1.73183851e+02, -3.98534049e+01, -4.32842728e-01,\n",
       "         1.83978073e+02,  4.23551102e+01,  4.59977829e-01],\n",
       "       [-1.35501427e+02, -2.46176463e+02, -5.76789974e-01,\n",
       "        -3.36245023e+02, -6.10351390e+02, -1.43085154e+00,\n",
       "         2.35183164e+02,  4.26877780e+02,  1.00077257e+00],\n",
       "       [-3.83539601e+02, -1.13346775e+02, -1.36889826e+00,\n",
       "        -1.76148235e+02, -5.21005694e+01, -6.29103683e-01,\n",
       "        -6.98557925e+02, -2.06398506e+02, -2.49281434e+00],\n",
       "       [-1.79808260e+02, -5.01124566e+01, -3.80976290e-01,\n",
       "        -3.68881343e+02, -1.02728885e+02, -7.81117107e-01,\n",
       "        -6.91724089e+02, -1.92605083e+02, -1.46455833e+00],\n",
       "       [-1.28351301e+02, -2.76639609e+02, -1.06251864e+00,\n",
       "        -2.19658072e+02, -4.73312366e+02, -1.81822320e+00,\n",
       "         7.37377052e+01,  1.58883979e+02,  6.10360450e-01],\n",
       "       [-4.52206104e+02, -2.48776619e+02, -9.79812053e-01,\n",
       "        -4.76743509e+02, -2.62252545e+02, -1.03291937e+00,\n",
       "        -1.64185960e+03, -9.02717213e+02, -3.55611527e+00],\n",
       "       [-8.96787321e+01, -3.13148998e+02, -9.56555984e-01,\n",
       "        -7.71541746e+01, -2.69443968e+02, -8.22983352e-01,\n",
       "        -2.46159818e+01, -8.59316281e+01, -2.62548658e-01],\n",
       "       [-5.73891941e+01, -1.19841797e+02, -5.72518445e-01,\n",
       "        -2.63227973e+02, -5.49169117e+02, -2.62518007e+00,\n",
       "         1.07357389e+02,  2.23975918e+02,  1.07067453e+00],\n",
       "       [ 1.36506354e+02,  4.30134914e+01,  8.73994504e-01,\n",
       "        -4.16262698e+02, -1.31237883e+02, -2.66628686e+00,\n",
       "        -3.95924563e+02, -1.24759393e+02, -2.53498362e+00],\n",
       "       [ 2.16239679e+03,  2.33518021e+03,  6.34309321e+00,\n",
       "         2.97544428e+03,  3.21372730e+03,  8.72875538e+00,\n",
       "        -3.91050044e+04, -4.22357056e+04, -1.14717091e+02],\n",
       "       [ 5.30769448e+01,  2.10940101e+01,  1.64664672e-01,\n",
       "         4.91148219e+02,  1.95803445e+02,  1.52713732e+00,\n",
       "         8.07983368e+02,  3.22209913e+02,  2.51281368e+00],\n",
       "       [ 2.45531192e+02,  1.00894751e+02,  4.93255626e-01,\n",
       "        -4.38489148e+02, -1.80284183e+02, -8.81236365e-01,\n",
       "        -3.37268230e+02, -1.38430065e+02, -6.76988071e-01],\n",
       "       [ 2.16552898e+03,  2.33556026e+03,  6.69719551e+00,\n",
       "         3.01371776e+03,  3.25156943e+03,  9.32202659e+00,\n",
       "        -3.98238218e+04, -4.29704665e+04, -1.23187998e+02],\n",
       "       [-2.53335417e+03, -2.71165066e+03, -6.94458843e+00,\n",
       "        -3.38391155e+03, -3.62152728e+03, -9.27551600e+00,\n",
       "         5.19392830e+04,  5.55741807e+04,  1.42353682e+02],\n",
       "       [-2.38961062e+02, -4.78812276e+01, -6.02376187e-01,\n",
       "        -2.83339522e+02, -5.67627787e+01, -7.14133821e-01,\n",
       "        -6.07469716e+02, -1.21663470e+02, -1.53072109e+00],\n",
       "       [-1.21137026e+02, -3.22367444e+02, -1.16343025e+00,\n",
       "        -1.29315808e+02, -3.44103622e+02, -1.24195239e+00,\n",
       "        -1.15579261e+00, -3.05108736e+00, -1.10759367e-02],\n",
       "       [-1.33840938e+03, -1.12395854e+03, -4.33744285e+00,\n",
       "        -1.29235188e+03, -1.08531997e+03, -4.18826483e+00,\n",
       "        -1.12544197e+04, -9.44771767e+03, -3.64654869e+01],\n",
       "       [-6.59485557e+01, -2.94102038e+02, -1.96444108e+00,\n",
       "        -5.26876445e+01, -2.34992006e+02, -1.56946716e+00,\n",
       "        -2.68588065e+01, -1.19759538e+02, -8.00031978e-01],\n",
       "       [-2.51578010e+02, -5.34864566e+01, -1.02614710e+00,\n",
       "        -2.81645217e+02, -5.98580140e+01, -1.14845512e+00,\n",
       "        -6.27539321e+02, -1.33255982e+02, -2.55706976e+00],\n",
       "       [ 2.00460971e+02,  7.02759927e+01,  3.08334721e+00,\n",
       "         4.31569991e+02,  1.51344014e+02,  6.63967330e+00,\n",
       "         8.81565470e+02,  3.09172936e+02,  1.35635936e+01],\n",
       "       [ 2.21675907e+02,  7.06215663e+01,  7.99964914e-01,\n",
       "         3.76248971e+02,  1.19914653e+02,  1.35819857e+00,\n",
       "         7.84703859e+02,  2.50129220e+02,  2.83296167e+00],\n",
       "       [ 4.36628433e+01,  1.85224440e+02,  3.72536480e-01,\n",
       "        -7.98965149e+01, -3.39320498e+02, -6.81835984e-01,\n",
       "         1.34054964e+01,  5.69484767e+01,  1.14408282e-01],\n",
       "       [ 1.79596403e+01,  1.44925624e+02,  3.17376712e-01,\n",
       "        -3.77161080e+01, -3.04405473e+02, -6.66519795e-01,\n",
       "         2.17596748e+00,  1.75678672e+01,  3.84551431e-02],\n",
       "       [ 3.03777687e+01,  1.09955532e+02,  2.33335799e-01,\n",
       "        -1.08286277e+02, -3.92836931e+02, -8.32169110e-01,\n",
       "         1.26954477e+01,  4.60770125e+01,  9.75728940e-02],\n",
       "       [ 3.48183787e+02,  1.33459675e+02,  8.41978020e-01,\n",
       "        -3.31308303e+02, -1.27039281e+02, -8.01389228e-01,\n",
       "        -2.96268301e+01, -1.11675106e+01, -7.07818158e-02]])\n",
       "     message: 'The maximum number of function evaluations is exceeded.'\n",
       "        nfev: 900\n",
       "        njev: 884\n",
       "  optimality: 10.039007784435325\n",
       "      status: 0\n",
       "     success: False\n",
       "           x: array([ 0.00340125, -0.00170906, -0.0053235 ,  0.00339471, -0.00085916,\n",
       "       -0.00411492, -0.00338959,  0.00337098,  0.0068754 ])"
      ]
     },
     "execution_count": 111,
     "metadata": {},
     "output_type": "execute_result"
    }
   ],
   "source": [
    "res\n"
   ]
  },
  {
   "cell_type": "code",
   "execution_count": 112,
   "metadata": {
    "collapsed": true,
    "execution": {
     "iopub.execute_input": "2021-03-16T16:03:23.895Z",
     "iopub.status.busy": "2021-03-16T16:03:23.884Z",
     "iopub.status.idle": "2021-03-16T16:03:23.920Z",
     "shell.execute_reply": "2021-03-16T16:03:23.931Z"
    },
    "jupyter": {
     "outputs_hidden": false,
     "source_hidden": false
    },
    "nteract": {
     "transient": {
      "deleting": false
     }
    }
   },
   "outputs": [
    {
     "data": {
      "text/plain": [
       "array([ 0.00342853, -0.00172307, -0.00532114,  0.00343045, -0.00084391,\n",
       "       -0.00411197, -0.00342159,  0.00340479,  0.00682051])"
      ]
     },
     "execution_count": 112,
     "metadata": {},
     "output_type": "execute_result"
    }
   ],
   "source": [
    "res.x-x0\n",
    "x0"
   ]
  },
  {
   "cell_type": "code",
   "execution_count": 113,
   "metadata": {
    "collapsed": true,
    "execution": {
     "iopub.execute_input": "2021-03-16T16:03:27.996Z",
     "iopub.status.busy": "2021-03-16T16:03:27.987Z",
     "iopub.status.idle": "2021-03-16T16:03:28.025Z",
     "shell.execute_reply": "2021-03-16T16:03:28.034Z"
    },
    "jupyter": {
     "outputs_hidden": false,
     "source_hidden": false
    },
    "nteract": {
     "transient": {
      "deleting": false
     }
    }
   },
   "outputs": [
    {
     "data": {
      "text/plain": [
       "array([0.02470424, 0.01397332, 0.02028547, 0.01682633, 0.06599436,\n",
       "       0.02872472, 0.00754842, 0.00951126, 0.00610849, 0.0168434 ,\n",
       "       0.00943843, 0.00856857, 0.01630011, 0.01818759, 0.25449936,\n",
       "       0.02183884, 0.01101184, 0.13654314, 0.28136023, 0.00591193,\n",
       "       0.00760206, 0.03915164, 0.01015567, 0.00350127, 0.03069113,\n",
       "       0.01615112, 0.0054428 , 0.02640249, 0.00460732, 0.01350717])"
      ]
     },
     "execution_count": 113,
     "metadata": {},
     "output_type": "execute_result"
    }
   ],
   "source": [
    "f(x0,p1,p2)"
   ]
  },
  {
   "cell_type": "code",
   "execution_count": 114,
   "metadata": {
    "collapsed": true,
    "execution": {
     "iopub.execute_input": "2021-03-16T16:03:32.815Z",
     "iopub.status.busy": "2021-03-16T16:03:32.802Z",
     "iopub.status.idle": "2021-03-16T16:03:32.845Z",
     "shell.execute_reply": "2021-03-16T16:03:32.856Z"
    },
    "jupyter": {
     "outputs_hidden": false,
     "source_hidden": false
    },
    "nteract": {
     "transient": {
      "deleting": false
     }
    }
   },
   "outputs": [
    {
     "data": {
      "text/plain": [
       "array([0.02761083, 0.01849445, 0.03110024, 0.00808393, 0.02935898,\n",
       "       0.03159566, 0.01875111, 0.00865384, 0.00838118, 0.02707913,\n",
       "       0.00966445, 0.01158508, 0.0295114 , 0.0233182 , 0.23527009,\n",
       "       0.01518934, 0.01774684, 0.10867692, 0.27000701, 0.00639405,\n",
       "       0.0079353 , 0.05239925, 0.01385483, 0.00234944, 0.02670206,\n",
       "       0.01217434, 0.00582423, 0.03300915, 0.00605   , 0.01857032])"
      ]
     },
     "execution_count": 114,
     "metadata": {},
     "output_type": "execute_result"
    }
   ],
   "source": [
    "f(res.x,p1,p2)"
   ]
  },
  {
   "cell_type": "code",
   "execution_count": 99,
   "metadata": {
    "collapsed": true,
    "execution": {
     "iopub.execute_input": "2021-03-16T16:01:22.234Z",
     "iopub.status.busy": "2021-03-16T16:01:22.219Z",
     "iopub.status.idle": "2021-03-16T16:01:22.261Z",
     "shell.execute_reply": "2021-03-16T16:01:22.272Z"
    },
    "jupyter": {
     "outputs_hidden": false,
     "source_hidden": false
    },
    "nteract": {
     "transient": {
      "deleting": false
     }
    }
   },
   "outputs": [
    {
     "data": {
      "text/plain": [
       "array([[313.92930822, 151.07720064],\n",
       "       [487.97253581, 247.99557717],\n",
       "       [ 90.91483202, 401.12349696],\n",
       "       [106.0614229 , 393.88906206],\n",
       "       [147.93295144, 144.03720925],\n",
       "       [ 76.06870487, 450.89375788],\n",
       "       [404.03383248,  32.12135473],\n",
       "       [304.04729282,  31.12471899],\n",
       "       [125.06928619, 416.9791105 ],\n",
       "       [ 58.95822002, 484.83312186],\n",
       "       [482.06874866, 211.91517154],\n",
       "       [103.84920351, 143.99738598],\n",
       "       [ 84.80175543, 240.98837216],\n",
       "       [ 38.10975744, 356.05221649],\n",
       "       [309.13525504, 236.99571037],\n",
       "       [ 15.06701426, 143.10558667],\n",
       "       [251.03351396, 299.89436782],\n",
       "       [359.98521732, 121.99522226],\n",
       "       [209.9642126 , 460.10869776],\n",
       "       [ 82.01741727, 417.95854366],\n",
       "       [186.07858369, 210.04470873],\n",
       "       [ 33.02426591, 358.98581637],\n",
       "       [ 52.93985052, 484.04530812],\n",
       "       [432.97745725, 291.95031135],\n",
       "       [351.99586014, 316.17017024],\n",
       "       [334.96080528, 457.88997137],\n",
       "       [353.94917139, 411.11564342],\n",
       "       [138.81538179, 329.05695689],\n",
       "       [116.98713487, 169.04545126],\n",
       "       [ 13.01996983, 381.82556121]])"
      ]
     },
     "execution_count": 99,
     "metadata": {},
     "output_type": "execute_result"
    }
   ],
   "source": [
    "p1"
   ]
  },
  {
   "cell_type": "code",
   "execution_count": 100,
   "metadata": {
    "collapsed": true,
    "execution": {
     "iopub.execute_input": "2021-03-16T16:01:27.493Z",
     "iopub.status.busy": "2021-03-16T16:01:27.485Z",
     "iopub.status.idle": "2021-03-16T16:01:27.523Z",
     "shell.execute_reply": "2021-03-16T16:01:27.533Z"
    },
    "jupyter": {
     "outputs_hidden": false,
     "source_hidden": false
    },
    "nteract": {
     "transient": {
      "deleting": false
     }
    }
   },
   "outputs": [
    {
     "data": {
      "text/plain": [
       "array([[  3.5073428 ,   0.78662628],\n",
       "       [  3.84284304,   0.70713651],\n",
       "       [ -4.65820383,   1.71233051],\n",
       "       [ -5.32128973,   1.81400842],\n",
       "       [  9.41837775,   0.13689434],\n",
       "       [ -4.03652654,   1.60999177],\n",
       "       [  1.86997583,   0.9492326 ],\n",
       "       [  1.92144241,   0.98186912],\n",
       "       [ -5.9905366 ,   2.01343905],\n",
       "       [ -3.47443944,   1.64955798],\n",
       "       [  3.42472799,   0.8207315 ],\n",
       "       [ 47.81045661,  -4.83845916],\n",
       "       [ -7.47444171,   2.11009687],\n",
       "       [ -3.41115951,   1.67576217],\n",
       "       [  5.92065034,   0.47132075],\n",
       "       [ -3.49910998,   1.61256155],\n",
       "       [ 17.83064408,  -0.85624059],\n",
       "       [  2.85144393,   0.96759973],\n",
       "       [-11.68949751,   2.74105572],\n",
       "       [ -4.06775021,   1.64242273],\n",
       "       [ 14.08462513,  -0.63144977],\n",
       "       [ -3.26500384,   1.67957892],\n",
       "       [ -3.35547588,   1.55332848],\n",
       "       [  5.23032332,   0.54007911],\n",
       "       [  7.93243584,   0.38477804],\n",
       "       [ 43.63082181,  -4.11143541],\n",
       "       [ 15.74256765,  -0.71436565],\n",
       "       [ -9.94198451,   2.24162645],\n",
       "       [ 95.50257675, -10.70975047],\n",
       "       [ -2.72927744,   1.58976103]])"
      ]
     },
     "execution_count": 100,
     "metadata": {},
     "output_type": "execute_result"
    }
   ],
   "source": [
    "p2"
   ]
  },
  {
   "cell_type": "code",
   "execution_count": null,
   "metadata": {
    "collapsed": true,
    "jupyter": {
     "outputs_hidden": false,
     "source_hidden": false
    },
    "nteract": {
     "transient": {
      "deleting": false
     }
    }
   },
   "outputs": [],
   "source": []
  },
  {
   "cell_type": "code",
   "execution_count": null,
   "metadata": {
    "collapsed": true,
    "jupyter": {
     "outputs_hidden": false,
     "source_hidden": false
    },
    "nteract": {
     "transient": {
      "deleting": false
     }
    }
   },
   "outputs": [],
   "source": []
  },
  {
   "cell_type": "code",
   "execution_count": null,
   "metadata": {
    "collapsed": true,
    "jupyter": {
     "outputs_hidden": false,
     "source_hidden": false
    },
    "nteract": {
     "transient": {
      "deleting": false
     }
    }
   },
   "outputs": [],
   "source": []
  },
  {
   "cell_type": "code",
   "execution_count": null,
   "metadata": {
    "collapsed": true,
    "jupyter": {
     "outputs_hidden": false,
     "source_hidden": false
    },
    "nteract": {
     "transient": {
      "deleting": false
     }
    }
   },
   "outputs": [],
   "source": []
  }
 ],
 "metadata": {
  "kernel_info": {
   "name": "python3"
  },
  "kernelspec": {
   "display_name": "Python 3",
   "language": "python",
   "name": "python3"
  },
  "language_info": {
   "codemirror_mode": {
    "name": "ipython",
    "version": 3
   },
   "file_extension": ".py",
   "mimetype": "text/x-python",
   "name": "python",
   "nbconvert_exporter": "python",
   "pygments_lexer": "ipython3",
   "version": "3.8.5"
  },
  "nteract": {
   "version": "0.28.0"
  }
 },
 "nbformat": 4,
 "nbformat_minor": 1
}
