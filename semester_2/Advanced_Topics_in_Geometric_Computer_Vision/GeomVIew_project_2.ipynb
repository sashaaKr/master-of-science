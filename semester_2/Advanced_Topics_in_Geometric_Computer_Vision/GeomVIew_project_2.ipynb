{
 "cells": [
  {
   "cell_type": "code",
   "execution_count": 49,
   "id": "923a72f4",
   "metadata": {},
   "outputs": [],
   "source": [
    "import numpy as np\n",
    "import cv2\n",
    "import scipy.optimize as opt\n",
    "import math\n",
    "import matplotlib.pyplot as plt\n",
    "import pandas as pd\n",
    "from mpl_toolkits.mplot3d import Axes3D\n",
    "#np.set_printoptions(precision=None, suppress=True)\n",
    "np.set_printoptions(suppress=True)\n"
   ]
  },
  {
   "cell_type": "code",
   "execution_count": 50,
   "id": "7b4c644e",
   "metadata": {},
   "outputs": [],
   "source": [
    "state = pd.read_csv(\"state.csv\")"
   ]
  },
  {
   "cell_type": "code",
   "execution_count": 51,
   "id": "4dddf2a3",
   "metadata": {},
   "outputs": [
    {
     "data": {
      "text/html": [
       "<div>\n",
       "<style scoped>\n",
       "    .dataframe tbody tr th:only-of-type {\n",
       "        vertical-align: middle;\n",
       "    }\n",
       "\n",
       "    .dataframe tbody tr th {\n",
       "        vertical-align: top;\n",
       "    }\n",
       "\n",
       "    .dataframe thead th {\n",
       "        text-align: right;\n",
       "    }\n",
       "</style>\n",
       "<table border=\"1\" class=\"dataframe\">\n",
       "  <thead>\n",
       "    <tr style=\"text-align: right;\">\n",
       "      <th></th>\n",
       "      <th>0</th>\n",
       "    </tr>\n",
       "  </thead>\n",
       "  <tbody>\n",
       "    <tr>\n",
       "      <th>0</th>\n",
       "      <td>MT19937</td>\n",
       "    </tr>\n",
       "    <tr>\n",
       "      <th>1</th>\n",
       "      <td>[3122787423 3721310838 1204026599 1952118866 3...</td>\n",
       "    </tr>\n",
       "    <tr>\n",
       "      <th>2</th>\n",
       "      <td>23</td>\n",
       "    </tr>\n",
       "    <tr>\n",
       "      <th>3</th>\n",
       "      <td>0</td>\n",
       "    </tr>\n",
       "    <tr>\n",
       "      <th>4</th>\n",
       "      <td>0.0</td>\n",
       "    </tr>\n",
       "  </tbody>\n",
       "</table>\n",
       "</div>"
      ],
      "text/plain": [
       "                                                   0\n",
       "0                                            MT19937\n",
       "1  [3122787423 3721310838 1204026599 1952118866 3...\n",
       "2                                                 23\n",
       "3                                                  0\n",
       "4                                                0.0"
      ]
     },
     "execution_count": 51,
     "metadata": {},
     "output_type": "execute_result"
    }
   ],
   "source": [
    "state"
   ]
  },
  {
   "cell_type": "code",
   "execution_count": 52,
   "id": "ac4dd26f",
   "metadata": {},
   "outputs": [],
   "source": [
    "arr = np.array(state.iloc[1,0])"
   ]
  },
  {
   "cell_type": "code",
   "execution_count": 10,
   "id": "30b3683d",
   "metadata": {
    "scrolled": true
   },
   "outputs": [
    {
     "data": {
      "text/plain": [
       "array('[3122787423 3721310838 1204026599 1952118866 3323835918 4060200507\\n  552735203  476751965  724620709 3538565514 1331808216 4026268235\\n 2528324086 1846367101 2989679635 3389372164 2332755575 1991695778\\n 1513731169 1528912078  596762433 2166011432 4101919988  457493721\\n 1084843444 3836023702 3348519974 3209935254  777996722 2442515456\\n  493719164  313272819 1060049429  656710158 1179257121 1138378906\\n   49926297 1174818907 2787030037 1237207833 3779185784 2823451280\\n 4201715515 1942681989 1099978037 1485354926 2408716778 1088310067\\n  863035540 3185622018 2613525622 2513699115  211861821 2602735364\\n 1130170447 3402297933 3476250001  630364569 1023164387 4126853388\\n 2341940936 4245413334 1779954305 3599302030 2619532385 1171212580\\n 2793649452 4199560457 2430205153  194082778 2214269016 1158629392\\n  567778160 3215900654  492132419   82402327 2094574472 1280310174\\n 2662061330 4266589605 3692248353  778951596 2005779290 2990006072\\n 3346984521 3127743087  829674662  394739167   57236581 4184307448\\n 2976066536 4069895140 1016992656  474447966  700335260 1913867839\\n 1905331853 1007713627  379012218  149272792 2119530373 2856116036\\n  886045629 2304532330  748391929   24836695  937503997 1012110152\\n 2302658404 2196238911 3343132835 3241934925 1117256928 1376278436\\n 3125867577 4276539332 1056115205  528929242 3909721520 2834055734\\n  625356601  714705464 2820310344 1495018042 3230442531 4102422165\\n  458246027 3602329883   75304727 4246484169  259690043 3896422425\\n 1403148608 2466426287 1792678878 2596456779 3127949792  796397909\\n  359060278  983105096 4140138740  273646596 1239347342  824941351\\n 3150910664  227659037 1519903668  909937635 1013011836  833324130\\n 1943802833 1631832449 1130666066 3767617152 3981609463 2786336583\\n 4235705396 2793451928 1761508858  629609792 2827565541 1138972783\\n 3907859049 1301684373 4283216789 1694156966 3893534723 2304946104\\n 1466084415 2031149860 4036816825  230962772 3607520492 3447432592\\n  101324882  118312776 3538764802  595875559 2678366543 3699830118\\n 3551939867  764112787  739061140 1147792135 1603426714 2259442199\\n 2006245434 1175397372 3553939889 3759097733 1239971415 1991345705\\n  331259548   75744908 1750306301 3872219542  265219921 1227739418\\n 3866052841 3786149097 1772339156 1884085283  188263331 2045634973\\n 3592376429 1566268055  890943899 3030737870  183149682 2226252507\\n 2468334463 1183604572 3585316343   50381078 2696157011  444380240\\n 2358045963 3294813735 1008811189 2238087025 2824709345 1152921453\\n  497700200 1598036654 2623405299 2985037191 2597612295 4123412460\\n 3271772360 3973800996 1678878267 1452026339  667024719 3392497378\\n 3708975837 2709040056  709754436 4219938985 3370465004 2117635174\\n 3159025364 2069457369  480745074 4267377919 2382539775 2054969661\\n 4013017490 3793199102 1899604153 1715594447 1866635146  587580801\\n 4082686481 1469475719 3653887951 3971711342 2098493413 1286800131\\n 4195206589 4136232647 4047061854 1541085701  474574655 1982247738\\n 3803309565 2803906182  831100998  610639076  868383272 1096941949\\n 2721426678 3949150309 2896703166 2736632080 1608228022 2041857564\\n 2030117530  463961430 1565313032 3593187844 1645306017  453147026\\n 2447131468 1749291751  540494369 1990589711 3597144842 3985938722\\n 1208011468 4144147764 2010530798 3897708453 3418797851    5038343\\n 3735025106 1491331860 2370394472  974686850 4082899819 4290007048\\n  871329407 3384640850 2647189986 4051375665 4274470341 1959761363\\n 3973413488 1802222908 2831919050 2990586112 2327174957 2959662119\\n 3964062842 1204863649 2867569729 3697194746 3878638731 3687421147\\n 1406941789 2328477713  803925045 4221764860 2942653138 2027682247\\n 1253384297 1157979314 1292516894  880076362  223372259  745214938\\n  622515597 1983422191 3181481378  544890512 2015504763 1444527248\\n 2532920048 1376601685  951777442 3321643356 2839053233  638998192\\n 1507300776 1549324601 2423337591 1007570113  249822564  126152769\\n 3444030016 2779920381 1398701429 3583805097 3028101943 2798277348\\n 4293617125 3459818277 1587678941 2246038958  174859062  469158700\\n 3606866191 1825096581 2900830550 1202301069 1838672534 1058152859\\n 3046642832  539398397 2009382263 2194271446 4060147500 2083486604\\n  683250902  469241316   44351026  236804573  494473198 1787692563\\n 1185049446 1030393372 3797706001 2158081600 1328781235 3666976495\\n 2637803088  468453780 4225279948 1344648315  104060660 2514033420\\n  394869909 1229176226 2706158137  166040271 1721770410 2774669825\\n 1083340576 4160971803 3491895236 3825404926  490988730 3513994915\\n 3148417601 2955864733  557686531 3415777194  327796619 1218592628\\n  663689592 1176698840 3870910193 3801791807 2024073034 4057133916\\n  376588603 2749344492 1483825132 4060276650 2155014560 1307504325\\n 4149409097 3481489038 2150086614 2234772842  347575294  382092506\\n 3934586569  806749943 3968099754 3836273797 4183452932 1832808756\\n 3319203413 3841012396  318622287 3813307074  140629295 2759580565\\n 3543219422 2721200317 2049178523  456197699 2122959667  957355078\\n   13115322  324269413  855706998  792177966 1181616376 4185838138\\n 3432269598 2757121550 2863785233 3581275302 1915543594 2370869037\\n 1760453950 1386095853 2918541385 4012131812 1607417305 1580500619\\n  151092865 1399005279 2512833022 1401077901   12646522 2792434842\\n 3719202962  717953881 2149305695 1272937658 2100425695 2066874588\\n 1301373405   97993527 1139267194 2226922662  230865026  757356142\\n 3177360938 3408935308 1241700320 1870071717 2525288752 3312997803\\n   34627395 3491073758  491690222 2033434152 2864310551 1408945243\\n 2591907251  643238954  238704589 2197581206 3700346287 4147533322\\n 1859022006 1366396798 1299364082 3156590615 2287426002 1055554711\\n 1889208638  267358732 2686511285 2646485391 1324367458 1901761974\\n  705585976 1475311317 3319828734 1911444557 1474047951 2241649795\\n 3710698621 3162125795  521667410 3818704813  885482554  217570229\\n 3949917240 1659924360  795230235 1391547182  645140497   65516955\\n 1693347550  286226817 1326453425 1430828933 2019722142   67874753\\n 1467734414 2482268723 1567743938  124982821  233716996 4115373733\\n 1821051599 1611465207 1970531547 1697589158 2073146052 2096586461\\n 1916896360 1548262059 2507283542 3298156980  552656457  440364845\\n 3692377346 3608880435 2330785841 3292397245 3253483740 4134650419\\n 2882038833  293447169 3469007195  522050991 3126325158  150714380\\n 4133921858 1465966411 4038864582 3180416613 1156859299 3435370411\\n 2789868171 2282613785 3366032913 3567727516 3944397092  933822126\\n 2138557852 3318501554 3173871564 3802480606  691053035 2413340967\\n 3174140458 4211191408 1687354832 3281638746 1386090827  393387375\\n  362956726 3645035106 1267300423  151732361 1423025140 4088724991\\n 3077587146 1199219956  390070364  919311210  560196909 1217312411\\n 3725538500 4243149131 1334280057  283121842  521726081  704369701\\n 2006793041 2034335903 2297524670 3337711122 3473543442 1133507704\\n 2390627429 1181660785   46050507  272669945 2080976312 3138613055\\n 3289100424 2289718311 3947037464 4068939981  444802763 2223652304]',\n",
       "      dtype='<U6968')"
      ]
     },
     "execution_count": 10,
     "metadata": {},
     "output_type": "execute_result"
    }
   ],
   "source": [
    "arr"
   ]
  },
  {
   "cell_type": "code",
   "execution_count": 92,
   "id": "5d8eaa75",
   "metadata": {},
   "outputs": [],
   "source": [
    "rng = np.random.default_rng(3122787423)"
   ]
  },
  {
   "cell_type": "code",
   "execution_count": 93,
   "id": "9a92c82f",
   "metadata": {},
   "outputs": [],
   "source": [
    "#number of matching points\n",
    "N = 8\n",
    "n_images = 4\n",
    "F = np.zeros((n_images,n_images,3,3))\n",
    "# true_K = np.array([\n",
    "#     [5,0,2],\n",
    "#     [0,5,2],\n",
    "#     [0,0,1]\n",
    "#     ])\n",
    "true_K = np.array([\n",
    "    [800,0,256],\n",
    "    [0,800,256],\n",
    "    [0,0,1]\n",
    "    ])\n",
    "I = np.array([\n",
    "    [1,0,0,0],\n",
    "    [0,1,0,0],\n",
    "    [0,0,1,0]\n",
    "    ])"
   ]
  },
  {
   "cell_type": "code",
   "execution_count": 94,
   "id": "38fe06c4",
   "metadata": {},
   "outputs": [],
   "source": [
    "def calc_fund_matrix(points1,points2):\n",
    "    '''\n",
    "    Takes in 2 arrays of matching points \n",
    "    Return Fundamental matrix computes \n",
    "    using 8 point algorithm\n",
    "    '''\n",
    "#     F, mask = cv2.findFundamentalMat(points1,points2,cv2.FM_8POINT)\n",
    "    F, mask = cv2.findFundamentalMat(points1,points2)\n",
    "\n",
    "    return F "
   ]
  },
  {
   "cell_type": "code",
   "execution_count": 95,
   "id": "311607ee",
   "metadata": {},
   "outputs": [],
   "source": [
    "def normalize_coordinates(p):\n",
    "    # Normalization matrix\n",
    "    T_m = normalization_matrix(p)\n",
    "    # Normalized points\n",
    "    p_norm = (T_m@(p.T)).T\n",
    "    return p_norm, T_m\n",
    "\n",
    "    \n",
    "def manual_find_F_matrix(xy1,xy2):\n",
    "    # Input: xy1 , xy2 - 2d array of points: row per point [x,y]\n",
    "    # xy1 - for image 1, xy2 - for image 2\n",
    "    # FM compute fundametal matrix from point correspondence\n",
    "    #    at least 8 points are needed\n",
    "    \n",
    "    n_points = xy1.shape[0]\n",
    "    if n_points < 8:\n",
    "        print('8 points at least are needed')\n",
    "    \n",
    "    #add 3rd coordinate '1'\n",
    "    xy1 = projectivation(xy1)\n",
    "    xy2 = projectivation(xy2)\n",
    "    \n",
    "    \n",
    "    #normalize coordinates\n",
    "    xy1_norm, T1 = normalize_coordinates(xy1)\n",
    "    xy2_norm, T2 = normalize_coordinates(xy2)\n",
    "    \n",
    "    # Preparing the equation matrix\n",
    "    M = np.zeros((n_points,9))\n",
    "    M[:,0] = xy1_norm[:,0]*xy2_norm[:,0] # x1 * x2\n",
    "    M[:,1] = xy1_norm[:,0]*xy2_norm[:,1] # x1 * y2 \n",
    "    M[:,2] = xy1_norm[:,0] # x1\n",
    "    M[:,3] = xy1_norm[:,1]*xy2_norm[:,0] # y1 * x2\n",
    "    M[:,4] = xy1_norm[:,1]*xy2_norm[:,1] # y1 * y2\n",
    "    M[:,5] = xy1_norm[:,1] # y1\n",
    "    M[:,6] = xy2_norm[:,0] # x2\n",
    "    M[:,7] = xy2_norm[:,1] # y2\n",
    "    M[:,8] = 1\n",
    "\n",
    "    # calc M^T * M to get symmetruc square matrix\n",
    "    W = M.T@M\n",
    "    \n",
    "    # desompose W into U (singular values), D (diagonal matrix), Vt (singular vectors)\n",
    "    U,D,Vt = np.linalg.svd(W,compute_uv=True)\n",
    "    a = U[:,-1]     # solution vector corresponding to the \n",
    "                    # least singular value\n",
    "    A = np.reshape(a.T,(3,3))\n",
    "\n",
    "    # Returning to non-normalized points\n",
    "    F = np.linalg.inv(T2)@A@T1\n",
    "\n",
    "    return F"
   ]
  },
  {
   "cell_type": "code",
   "execution_count": 96,
   "id": "4bdd346e",
   "metadata": {},
   "outputs": [],
   "source": [
    "### function used in class\n",
    "def projectivation(p):\n",
    "    '''\n",
    "    Input: p, Nxd matrix = N points in R^d\n",
    "    Output: q, Nx(d+1) = N points in P^d\n",
    "    '''\n",
    "    N,d = p.shape\n",
    "    q = np.ones((N,d+1))\n",
    "    q[:,0:d] = p \n",
    "    return q \n",
    "\n",
    "def affinization(q):\n",
    "    '''\n",
    "    Input: q, Nx(d+1) = N points in P^d\n",
    "    Output: p, Nxd matrix = N points in R^d\n",
    "    '''\n",
    "    N,d1 = q.shape\n",
    "    d = d1-1\n",
    "    p = np.ones((N,d))\n",
    "    p = q[:,0:d]/q[:,d:d+1] \n",
    "    \n",
    "    return p\n",
    "\n",
    "def normalization_matrix(p):\n",
    "    '''\n",
    "    Input: p: Nx2 matrix\n",
    "    Output: T, normalization matrix (in projective plane) \n",
    "    '''\n",
    "\n",
    "    # Computation\n",
    "    m = np.mean(p,axis=0)\n",
    "    q = p - np.repeat(m[np.newaxis,:],N,axis=0)\n",
    "    w = np.sqrt(np.sum(q**2,axis=1))\n",
    "    scale = 1/np.mean(w)\n",
    "\n",
    "    # Normalization matrix\n",
    "    T = np.zeros((3,3))\n",
    "    T[2,2] = 1\n",
    "    T[0,0] = scale\n",
    "    T[0,2] = -m[0]*scale\n",
    "    T[1,1] = scale\n",
    "    T[1,2] = -m[1]*scale\n",
    "        \n",
    "    return T"
   ]
  },
  {
   "cell_type": "code",
   "execution_count": 97,
   "id": "23b7c875",
   "metadata": {},
   "outputs": [],
   "source": [
    "def mendonca_cost_func(X):\n",
    "    '''\n",
    "    computes Mendonca & Cipolla Cost function to find the Optimal Intrinsic Parameters\n",
    "    Input\n",
    "    X      - Approximate Values of Intrinsics - 1D array with length 5\n",
    "    Output\n",
    "    E    - Computed Cost\n",
    "    '''\n",
    "\n",
    "    #Transform Intrinsics to Matrix Form\n",
    "#     K = np.array([\n",
    "#         [X[0],X[1],X[2]],\n",
    "#         [0,X[3],X[4]],\n",
    "#         [0,0,1]\n",
    "#     ])\n",
    "    K = np.array([\n",
    "        [X[0],0,X[1]],\n",
    "        [0,X[2],X[3]],\n",
    "        [0,0,1]\n",
    "    ])\n",
    "    #Initialize Cost\n",
    "    E = 0\n",
    "    '''\n",
    "       F - globally defined Fundamental Matrix between given two Images (F[i,j,3x3])\n",
    "    '''\n",
    "    # For the Denominator term of Mendonca & Cipolla's Equation\n",
    "#     nof_images = len(F[0]) #number of images given\n",
    "    nof_images = numberOfViews\n",
    "    Den = nof_images*(nof_images-1)/2 # For N Images there are N(N-1)/2 Fundamental Matrices\n",
    "  # 0 1 2 3 [0-1, 0-2,0-3, 1-2,1-3,2-3]\n",
    "    # i  j\n",
    "    # 0 -1 \n",
    "    # 0 -2\n",
    "    # 0 -3\n",
    "    # 1- 2\n",
    "    # 1 -3\n",
    "    # 2 -3\n",
    "  # len =4\n",
    "\n",
    "    #Compute the Cost using Mendonca & Cipolla's Equation\n",
    "    for i in range(0,nof_images-1):\n",
    "        for j in range (i+1,nof_images):\n",
    "\n",
    "            # Compute the Essential Matrix 'EM' from Fundamental of images i,j\n",
    "#             EM = K.T @ F[i,j,:,:] @ K\n",
    "            EM = K.T @ Fs[:,:,i,j] @ K\n",
    "\n",
    "            # Compute SVD of Essential Matrix\n",
    "            _,D,_ = np.linalg.svd(EM)\n",
    "             # Singular Values (3rd value, D[3] is 0 according to theorem)\n",
    "            r = D[0]\n",
    "            s = D[1]\n",
    "            \n",
    "            #  Compute Cost\n",
    "\n",
    "            E+= (1/Den) * (r - s)/s\n",
    "\n",
    "    return E\n"
   ]
  },
  {
   "cell_type": "code",
   "execution_count": 98,
   "id": "471aeac6",
   "metadata": {},
   "outputs": [],
   "source": [
    "def p3t(T,x,y,z):\n",
    "    # apply a Projective 3D Transform\n",
    "#     print(x.shape)\n",
    "    xyz = np.concatenate((x, y, z),axis=1)\n",
    "#     print(xyz)\n",
    "#     print(\"np.concatenate((xyz,column_ones),axis=1)\")\n",
    "    column_ones = np.ones((len(x),1))\n",
    "#     print(np.concatenate((xyz,column_ones),axis=1))\n",
    "    tmp = T @ (np.concatenate((xyz,column_ones),axis=1)).T\n",
    "    xp = (tmp[0,:]/tmp[3,:]).T\n",
    "    yp = (tmp[1,:]/tmp[3,:]).T\n",
    "    zp = (tmp[2,:]/tmp[3,:]).T\n",
    "    return xp,yp,zp"
   ]
  },
  {
   "cell_type": "code",
   "execution_count": 99,
   "id": "344a4844",
   "metadata": {},
   "outputs": [],
   "source": [
    "def projf(P,x,y,z):\n",
    "#     % PROJ  compute perspective projection (from 3D to pixel coordinates)\n",
    "#     %   pixel positions are returned with floating point precision\n",
    "#     %\n",
    "#     %   See also PROJE\n",
    "    print(\"P\\n\",P.shape)\n",
    "    c3d = np.concatenate((x, y, z),axis=1)\n",
    "    print(\"c3d\\n\",c3d.shape)\n",
    "    column_ones = np.ones((len(x),1))\n",
    "    h3d = (np.concatenate((c3d,column_ones),axis=1)).T\n",
    "    print(\"h3d\\n\",h3d.shape)\n",
    "    h2d = P @ h3d\n",
    "    print(\"h2d.shape\\n\",h2d.shape)\n",
    "#     print(\"h2d\\n\",h2d)\n",
    "\n",
    "    c2d = h2d/ h2d[2,:]\n",
    "\n",
    "    u = c2d[0,:].T\n",
    "    v = c2d[1,:].T\n",
    "    return u,v"
   ]
  },
  {
   "cell_type": "code",
   "execution_count": 100,
   "id": "df79f43f",
   "metadata": {},
   "outputs": [],
   "source": [
    "def plot_3d(x,y,z):\n",
    "    fig = plt.figure()\n",
    "    ax = fig.add_subplot(111, projection='3d')\n",
    "    ax.scatter(x,y,z)\n",
    "    plt.show()"
   ]
  },
  {
   "cell_type": "code",
   "execution_count": 101,
   "id": "b88a3e21",
   "metadata": {},
   "outputs": [],
   "source": [
    "def plot_2d(x,y):\n",
    "    fig = plt.figure()\n",
    "    ax = fig.add_subplot(111)\n",
    "    ax.scatter(x,y)\n",
    "    plt.show()"
   ]
  },
  {
   "cell_type": "code",
   "execution_count": 102,
   "id": "09daebc5",
   "metadata": {},
   "outputs": [],
   "source": [
    "def conver_to_col(x):\n",
    "    return np.reshape(x,(len(x),1))"
   ]
  },
  {
   "cell_type": "code",
   "execution_count": 103,
   "id": "5f273bfb",
   "metadata": {},
   "outputs": [],
   "source": [
    "def rcam(A):\n",
    "# RCAM generate a random camera\n",
    "#    generate a random camera pointing to lookp, positioned at an average \n",
    "#    distance ad form the origin, with a std dev of sd \n",
    "#    A is the intrinsic parameters matrix\n",
    "\n",
    "    ad=2.5\n",
    "    sd=0.25\n",
    "    lookp=np.zeros((1,3))\n",
    "    eyep = rng.uniform(-1,1,size=(1,3))-0.5\n",
    "    R = np.zeros((3,3))\n",
    "    eyep = eyep/np.linalg.norm(eyep) * (ad + sd*rng.random(1))\n",
    "#     print(eyep)\n",
    "    R[2,:] = lookp - eyep/np.linalg.norm(lookp - eyep)\n",
    "    R[1,:] = np.cross(R[2,:],rng.uniform(size=(1,3)))\n",
    "    R[1,:] = R[1,:]/np.linalg.norm(R[1,:])\n",
    "    R[0,:] = np.cross(R[1,:],R[2,:])\n",
    "    Rt = np.concatenate((R,-R @ eyep.T),axis=1)\n",
    "#     print(np.matrix(Rt))\n",
    "    return A @ Rt\n"
   ]
  },
  {
   "cell_type": "code",
   "execution_count": 104,
   "id": "27958f68",
   "metadata": {},
   "outputs": [],
   "source": [
    "numberOfViews=5\n",
    "numberOfPoints = 50\n",
    "imagePoints = np.zeros((numberOfPoints,2,numberOfViews))\n",
    "PPM = np.zeros((3,4,numberOfViews))\n",
    "PPMGT = np.zeros((3,4,numberOfViews))"
   ]
  },
  {
   "cell_type": "code",
   "execution_count": 105,
   "id": "be9f54f5",
   "metadata": {},
   "outputs": [],
   "source": [
    "Fs = np.zeros((3,3,numberOfViews,numberOfViews))"
   ]
  },
  {
   "cell_type": "code",
   "execution_count": 106,
   "id": "bb4e9148",
   "metadata": {},
   "outputs": [
    {
     "data": {
      "image/png": "[encoded data removed]",
      "text/plain": [
       "<Figure size 432x288 with 1 Axes>"
      ]
     },
     "metadata": {
      "needs_background": "light"
     },
     "output_type": "display_data"
    },
    {
     "name": "stdout",
     "output_type": "stream",
     "text": [
      "matrix P\n",
      " [[ 125.99543216  208.81280038  803.7775597   653.22200205]\n",
      " [-393.51886319  740.44862864  -49.13992929  653.22200205]\n",
      " [  -0.87398198   -0.0870208     0.47810341    2.55164845]]\n",
      "invAP\n",
      " [[ 0.43716853  0.28886266  0.85172886  0.        ]\n",
      " [-0.21222434  0.95340744 -0.214418    0.        ]\n",
      " [-0.87398198 -0.0870208   0.47810341  2.55164845]]\n",
      "lower_line\n",
      " [[0, 0, 0, 1]]\n",
      "G0\n",
      " [[ 0.43716853  0.28886266  0.85172886  0.        ]\n",
      " [-0.21222434  0.95340744 -0.214418    0.        ]\n",
      " [-0.87398198 -0.0870208   0.47810341  2.55164845]\n",
      " [ 0.          0.          0.          1.        ]]\n"
     ]
    }
   ],
   "source": [
    "### test same as italian\n",
    "data = (rng.uniform(size=(numberOfPoints,3),)-0.5)/(math.sqrt(3)/2)\n",
    "x = data[:,0]\n",
    "y = data[:,1]\n",
    "z = data[:,2]\n",
    "xr = np.reshape(x,(len(x),1))\n",
    "yr = np.reshape(y,(len(y),1))\n",
    "zr = np.reshape(z,(len(z),1))\n",
    "\n",
    "plot_3d(x,y,z)\n",
    "A = true_K\n",
    "P = rcam(A)\n",
    "print(\"matrix P\\n\",np.matrix(P))\n",
    "invAP = np.linalg.inv(A) @ P\n",
    "print(\"invAP\\n\",invAP)\n",
    "lower_line = [[0,0,0,1]]\n",
    "print(\"lower_line\\n\",lower_line)\n",
    "G0 = np.concatenate((invAP, lower_line),axis=0)\n",
    "print(\"G0\\n\",np.matrix(G0))\n"
   ]
  },
  {
   "cell_type": "code",
   "execution_count": 107,
   "id": "ec02d13d",
   "metadata": {},
   "outputs": [
    {
     "name": "stdout",
     "output_type": "stream",
     "text": [
      "P\n",
      " (3, 4)\n",
      "c3d\n",
      " (50, 3)\n",
      "h3d\n",
      " (4, 50)\n",
      "h2d.shape\n",
      " (3, 50)\n",
      "u\n",
      " [111.58224779 209.54990699 287.75704535 304.6977166  184.41724716\n",
      " 134.7273839  491.87041931 233.47175542 312.75002941 498.87436366\n",
      " 319.34758864 256.58909328 140.99838291 374.32708289 307.43282366\n",
      " 245.59911153 400.03214881 311.2066683  297.95709019 147.13395873\n",
      " 308.19318578 306.77678762  87.90160451 228.42740639  98.81985388\n",
      " 151.53519832 378.98046835 292.85158418 260.9491565  294.08289263\n",
      " 139.97902864 371.64376995 440.98466729 193.38835685 206.33354556\n",
      " 236.46495712 148.76860036 134.98598263 102.72090553 333.73792642\n",
      " 185.82777347  87.18490806 232.47720087 135.33373313 205.53217946\n",
      " 106.45305954 501.86130975 262.29428753 274.25949777 325.74543982]\n",
      "v\n",
      " [474.61022454 355.99710595 259.24200232 158.89154361 242.47974538\n",
      " 231.74521555 373.16580271 373.25970107 130.34619705 344.48172156\n",
      " 188.59308133  84.33631579 368.18292125  41.04542165 101.85078616\n",
      " 443.02571113  58.22699555 245.99192108 247.6944261  283.02880104\n",
      " 159.28694644 280.24811292 216.4711542  158.37474859 170.32387193\n",
      " 341.71651224 361.28388661 168.02055049 142.33818492  47.10150915\n",
      " 252.05419784 313.97628859  -6.57546422 301.63908439 252.86030235\n",
      " 371.27381428 427.38838562 181.67871808 218.31688355 375.32653407\n",
      " 326.43205314 415.37677051 268.47243805 139.82871293 396.82178902\n",
      " 105.12305503 234.73456104 120.57844272 279.82462802 199.7781848 ]\n"
     ]
    }
   ],
   "source": [
    "x,y,z = p3t(G0,xr,yr,zr)\n",
    "P = A @ np.concatenate((np.identity(3), np.zeros((3,1))),axis=1)\n",
    "# print(\"P\\n\",P)\n",
    "# print(x)\n",
    "# print(conver_to_col(x))\n",
    "u,v = projf(P,conver_to_col(x),conver_to_col(y),conver_to_col(z))\n",
    "\n",
    "imagePoints[:,0,0] = u\n",
    "imagePoints[:,1,0] = v\n",
    "PPMGT[:,:,0] = P\n",
    "\n",
    "print(\"u\\n\",u)\n",
    "print(\"v\\n\",v)"
   ]
  },
  {
   "cell_type": "code",
   "execution_count": 108,
   "id": "94ef528d",
   "metadata": {},
   "outputs": [
    {
     "name": "stdout",
     "output_type": "stream",
     "text": [
      "P\n",
      " (3, 4)\n",
      "c3d\n",
      " (50, 3)\n",
      "h3d\n",
      " (4, 50)\n",
      "h2d.shape\n",
      " (3, 50)\n"
     ]
    },
    {
     "data": {
      "image/png": "[encoded data removed]",
      "text/plain": [
       "<Figure size 432x288 with 1 Axes>"
      ]
     },
     "metadata": {
      "needs_background": "light"
     },
     "output_type": "display_data"
    },
    {
     "name": "stdout",
     "output_type": "stream",
     "text": [
      "P\n",
      " (3, 4)\n",
      "c3d\n",
      " (50, 3)\n",
      "h3d\n",
      " (4, 50)\n",
      "h2d.shape\n",
      " (3, 50)\n"
     ]
    },
    {
     "data": {
      "image/png": "[encoded data removed]",
      "text/plain": [
       "<Figure size 432x288 with 1 Axes>"
      ]
     },
     "metadata": {
      "needs_background": "light"
     },
     "output_type": "display_data"
    },
    {
     "name": "stdout",
     "output_type": "stream",
     "text": [
      "P\n",
      " (3, 4)\n",
      "c3d\n",
      " (50, 3)\n",
      "h3d\n",
      " (4, 50)\n",
      "h2d.shape\n",
      " (3, 50)\n"
     ]
    },
    {
     "data": {
      "image/png": "[encoded data removed]",
      "text/plain": [
       "<Figure size 432x288 with 1 Axes>"
      ]
     },
     "metadata": {
      "needs_background": "light"
     },
     "output_type": "display_data"
    },
    {
     "name": "stdout",
     "output_type": "stream",
     "text": [
      "P\n",
      " (3, 4)\n",
      "c3d\n",
      " (50, 3)\n",
      "h3d\n",
      " (4, 50)\n",
      "h2d.shape\n",
      " (3, 50)\n"
     ]
    },
    {
     "data": {
      "image/png": "[encoded data removed]",
      "text/plain": [
       "<Figure size 432x288 with 1 Axes>"
      ]
     },
     "metadata": {
      "needs_background": "light"
     },
     "output_type": "display_data"
    }
   ],
   "source": [
    "for view in range (1,numberOfViews):\n",
    "\n",
    "    #   % random camera position\n",
    "    P = rcam(A)\n",
    "\n",
    "    #   % apply world coordinate transformation\n",
    "    P = P @ np.linalg.inv(G0);\n",
    "\n",
    "    #   % project world points to image points\n",
    "    u,v = projf(P,conver_to_col(x),conver_to_col(y),conver_to_col(z))\n",
    "\n",
    "    #   % add noise to image points\n",
    "    #       u = u + sigma * randn(size(u));\n",
    "    #       v = v + sigma * randn(size(v));\n",
    "\n",
    "    imagePoints[:,0,view] = u\n",
    "    imagePoints[:,1,view] = v\n",
    "\n",
    "    PPMGT[:,:,view] = P   \n",
    "    plot_2d(u,v)"
   ]
  },
  {
   "cell_type": "code",
   "execution_count": 109,
   "id": "11af4cf8",
   "metadata": {},
   "outputs": [],
   "source": [
    "\n",
    "for i in range(numberOfViews):\n",
    "    for j in range(i+1,numberOfViews):\n",
    "        Fs[:,:,i,j] = calc_fund_matrix(imagePoints[:,:,i],imagePoints[:,:,j])"
   ]
  },
  {
   "cell_type": "code",
   "execution_count": 110,
   "id": "82f076fa",
   "metadata": {},
   "outputs": [],
   "source": [
    "initial_K =  [true_K[0,0], true_K[0,2],true_K[1,1],true_K[1,2]]\n",
    "res = opt.minimize(mendonca_cost_func,x0=initial_K, method='Nelder-Mead')"
   ]
  },
  {
   "cell_type": "code",
   "execution_count": 111,
   "id": "53b8bb11",
   "metadata": {},
   "outputs": [
    {
     "name": "stdout",
     "output_type": "stream",
     "text": [
      "[[799.98911309   0.         255.99920977]\n",
      " [  0.         799.98828015 255.99955479]\n",
      " [  0.           0.           1.        ]]\n"
     ]
    }
   ],
   "source": [
    "result_K = np.zeros((3,3))\n",
    "result_K = np.array([[res.x[0],0,res.x[1]],[0,res.x[2],res.x[3]],[0,0,1]])\n",
    "print (np.matrix(result_K))"
   ]
  },
  {
   "cell_type": "code",
   "execution_count": 124,
   "id": "d4619317",
   "metadata": {},
   "outputs": [
    {
     "name": "stdout",
     "output_type": "stream",
     "text": [
      "[[ 100966.57497141       0.         -273208.24876514]\n",
      " [      0.          280794.97424055   -6312.28821548]\n",
      " [      0.               0.               1.        ]]\n"
     ]
    }
   ],
   "source": [
    "initial_K = [1,200,1,1]\n",
    "res = opt.minimize(mendonca_cost_func,x0=initial_K, method='Nelder-Mead')\n",
    "result_K = np.zeros((3,3))\n",
    "result_K = np.array([[res.x[0],0,res.x[1]],[0,res.x[2],res.x[3]],[0,0,1]])\n",
    "print (np.matrix(result_K))"
   ]
  },
  {
   "cell_type": "code",
   "execution_count": null,
   "id": "0d8e9756",
   "metadata": {},
   "outputs": [],
   "source": []
  },
  {
   "cell_type": "code",
   "execution_count": null,
   "id": "06bf1581",
   "metadata": {},
   "outputs": [],
   "source": []
  },
  {
   "cell_type": "code",
   "execution_count": 112,
   "id": "a9be0de1",
   "metadata": {},
   "outputs": [
    {
     "name": "stdout",
     "output_type": "stream",
     "text": [
      "[[-0.2761682   0.52293841 -0.56107746]\n",
      " [-0.39585619  0.26566492 -0.08025784]\n",
      " [ 0.01546076  0.0368919   0.0999238 ]\n",
      " [ 0.30832208 -0.21106542  0.0804977 ]\n",
      " [-0.34558681 -0.14321857 -0.07155691]\n",
      " [-0.45294592 -0.23684723 -0.19856033]\n",
      " [ 0.31412258  0.56215667  0.50261992]\n",
      " [-0.4456677   0.35210157  0.0129011 ]\n",
      " [-0.14484451 -0.4123722   0.45850769]\n",
      " [ 0.35773499  0.48188061  0.52566502]\n",
      " [ 0.16410209 -0.14131452  0.1975107 ]\n",
      " [ 0.27783959 -0.46489102  0.01709802]\n",
      " [-0.4128456   0.2361272  -0.32966725]\n",
      " [ 0.49884607 -0.4694186   0.3027931 ]\n",
      " [ 0.0400381  -0.4639814   0.34216901]\n",
      " [ 0.54139275  0.46212483 -0.46234937]\n",
      " [ 0.4074025  -0.44222162  0.45955645]\n",
      " [-0.17439902 -0.00381918  0.3224133 ]\n",
      " [-0.25048404 -0.01690607  0.3142434 ]\n",
      " [-0.49030322 -0.05014896 -0.19340405]\n",
      " [ 0.5554711  -0.15265551 -0.07686542]\n",
      " [-0.17441391  0.10984353  0.26241431]\n",
      " [-0.17398027 -0.26821862 -0.44054025]\n",
      " [ 0.28446863 -0.25880292 -0.14945054]\n",
      " [-0.28561403 -0.43800359 -0.32409431]\n",
      " [-0.48834169  0.15767055 -0.23977736]\n",
      " [-0.18815927  0.46209612  0.46274995]\n",
      " [-0.51176234 -0.36747353  0.56585452]\n",
      " [ 0.29370658 -0.28601582 -0.03702812]\n",
      " [ 0.53061881 -0.46440076  0.00421419]\n",
      " [-0.07609519 -0.10704863 -0.34401778]\n",
      " [ 0.24211456  0.27938652  0.18936575]\n",
      " [ 0.55183415 -0.57301544  0.55898574]\n",
      " [-0.15522655  0.07887675 -0.18524329]\n",
      " [ 0.36140385 -0.00356898 -0.33558386]\n",
      " [-0.38696609  0.34587193 -0.00066227]\n",
      " [-0.27595685  0.42322324 -0.4051327 ]\n",
      " [-0.44777856 -0.415972   -0.14581703]\n",
      " [-0.38741119 -0.29517566 -0.32232393]\n",
      " [ 0.46485898  0.39231527 -0.13833067]\n",
      " [-0.48440976  0.13918258 -0.09883755]\n",
      " [-0.53572943  0.33712772 -0.51882055]\n",
      " [-0.16089416  0.00541458 -0.01198265]\n",
      " [ 0.34828916 -0.33485285 -0.43177141]\n",
      " [-0.48948739  0.4033158  -0.10007865]\n",
      " [ 0.11235536 -0.51994952 -0.3889216 ]\n",
      " [ 0.57011312  0.16869796  0.46620744]\n",
      " [-0.44626563 -0.56724171  0.45105671]\n",
      " [ 0.01980827  0.08989907  0.02739961]\n",
      " [ 0.10235942 -0.1118791   0.25069678]]\n"
     ]
    }
   ],
   "source": [
    "print(data)"
   ]
  },
  {
   "cell_type": "code",
   "execution_count": 113,
   "id": "2d962cdb",
   "metadata": {},
   "outputs": [
    {
     "name": "stdout",
     "output_type": "stream",
     "text": [
      "[[[ 800.          826.04554014  682.81560249  -50.66851276  269.47237951]\n",
      "  [   0.          126.68693714 -182.18618075 -152.51049175  781.62129629]\n",
      "  [ 256.          -84.4700277   453.99014145 -824.44481424 -148.28616206]\n",
      "  [   0.          894.07921574 -498.1679318  2767.52178073 1029.61659818]]\n",
      "\n",
      " [[   0.          -69.1898455   249.14501236   18.95834103  667.01095761]\n",
      "  [ 800.          796.29264732 -637.90272659  807.6208903   -49.71921052]\n",
      "  [ 256.         -258.19911909 -486.35673556 -230.0545128   508.09485584]\n",
      "  [   0.         1337.3747817  1901.26671514 1250.84669205 -645.23700577]]\n",
      "\n",
      " [[   0.            0.29609098    0.79991355    0.89849817    0.81640213]\n",
      "  [   0.            0.5906212     0.30510586    0.18211222   -0.06284639]\n",
      "  [   1.            0.75066419   -0.51676757   -0.39941981   -0.57405391]\n",
      "  [   0.            0.73512123    3.89773146    3.61225883    4.00869957]]]\n"
     ]
    }
   ],
   "source": [
    "print(PPMGT)"
   ]
  },
  {
   "cell_type": "code",
   "execution_count": 114,
   "id": "94723e3b",
   "metadata": {},
   "outputs": [
    {
     "name": "stdout",
     "output_type": "stream",
     "text": [
      "[[ 0.43716853  0.28886266  0.85172886  0.        ]\n",
      " [-0.21222434  0.95340744 -0.214418    0.        ]\n",
      " [-0.87398198 -0.0870208   0.47810341  2.55164845]\n",
      " [ 0.          0.          0.          1.        ]]\n"
     ]
    }
   ],
   "source": [
    "print(G0)"
   ]
  },
  {
   "cell_type": "code",
   "execution_count": 115,
   "id": "703b09df",
   "metadata": {},
   "outputs": [],
   "source": [
    "import pandas as pd"
   ]
  },
  {
   "cell_type": "code",
   "execution_count": 82,
   "id": "18ac4ff5",
   "metadata": {},
   "outputs": [],
   "source": [
    "points = pd.DataFrame(data)\n",
    "points.to_csv('points.csv', index=False)  "
   ]
  },
  {
   "cell_type": "code",
   "execution_count": 86,
   "id": "691bc97a",
   "metadata": {},
   "outputs": [],
   "source": [
    "df_state  = pd.DataFrame(state)\n",
    "df_state.to_csv('state.csv',index=False)"
   ]
  },
  {
   "cell_type": "code",
   "execution_count": null,
   "id": "970304e5",
   "metadata": {},
   "outputs": [],
   "source": [
    "eyep = rng.random.uniform(size=(1,3))-0.5\n",
    "print(eyep)"
   ]
  },
  {
   "cell_type": "code",
   "execution_count": null,
   "id": "858d50d2",
   "metadata": {},
   "outputs": [],
   "source": [
    "def randomize_rt():\n",
    "    angle = rng.random.uniform(0,45)\n",
    "    cos =  math.cos(angle)\n",
    "    sin =  math.sin(angle)\n",
    "#     t = rng.random.randint(-5,5,(3,1))\n",
    "    t = np.zeros((3,1))\n",
    "    t[2] = 1\n",
    "    t = np.zeros((3,1))\n",
    "    R = np.array([[cos,-sin,0],[sin,cos,0],[0,0,1]])\n",
    "    Rt = np.concatenate((R,t),axis=1)\n",
    "    print(Rt)\n",
    "    low_row = np.zeros((1,4))\n",
    "    low_row[:,-1] = 1\n",
    "    Rt = np.concatenate((Rt,low_row),axis=0)\n",
    "#     lowes_row = np.array([0,0,0,1])\n",
    "#     Rt = np.concatenate((Rt,lowes_row),axis=0)\n",
    "    print (np.matrix(Rt))\n",
    "    return Rt"
   ]
  },
  {
   "cell_type": "code",
   "execution_count": null,
   "id": "0d6f172e",
   "metadata": {},
   "outputs": [],
   "source": [
    "rt = randomize_rt()\n"
   ]
  },
  {
   "cell_type": "code",
   "execution_count": null,
   "id": "797d328b",
   "metadata": {},
   "outputs": [],
   "source": [
    "def randomize_3d_points(num_of_points):\n",
    "    world_points = rng.random.uniform(-1,1,(num_of_points,3))\n",
    "    return world_points\n",
    "\n",
    "def get_projection_of_points(world_points):\n",
    "    world_points_hom = projectivation(world_points)\n",
    "    return world_points_hom"
   ]
  },
  {
   "cell_type": "code",
   "execution_count": null,
   "id": "d78d09f4",
   "metadata": {},
   "outputs": [],
   "source": [
    "world_points = randomize_3d_points(N)\n",
    "T1 = normalization_matrix(world_points)\n",
    "world_points_hom = get_projection_of_points(world_points)"
   ]
  },
  {
   "cell_type": "code",
   "execution_count": null,
   "id": "b1aed79a",
   "metadata": {},
   "outputs": [],
   "source": [
    "world_points_hom.shape"
   ]
  },
  {
   "cell_type": "code",
   "execution_count": null,
   "id": "3140f9f5",
   "metadata": {},
   "outputs": [],
   "source": [
    "fig = plt.figure()\n",
    "ax = fig.add_subplot(111, projection='3d')\n",
    "ax.scatter(world_points[:,0],world_points[:,1],world_points[:,2])\n",
    "plt.show()"
   ]
  },
  {
   "cell_type": "code",
   "execution_count": null,
   "id": "d70c4c26",
   "metadata": {},
   "outputs": [],
   "source": [
    "(world_points_hom[0])"
   ]
  },
  {
   "cell_type": "code",
   "execution_count": null,
   "id": "fdbf2297",
   "metadata": {},
   "outputs": [],
   "source": []
  },
  {
   "cell_type": "code",
   "execution_count": null,
   "id": "c2c6f591",
   "metadata": {},
   "outputs": [],
   "source": [
    "image0_p0 = np.zeros(3)\n",
    "rt = randomize_rt()\n",
    "k_extended = np.concatenate((true_K,np.zeros(shape=(3,1))),axis=1)\n",
    "print(k_extended)\n",
    "image0_p0 = k_extended @ world_points_hom[0]"
   ]
  },
  {
   "cell_type": "code",
   "execution_count": null,
   "id": "c27cdf5a",
   "metadata": {},
   "outputs": [],
   "source": [
    "image0 = np.zeros((N,3))\n",
    "for i in range(N):\n",
    "    image0[i,:] = true_K @ I @ world_points_hom[i]\n",
    "    image0[i,:] = image0[i,:]/image0[i,-1]"
   ]
  },
  {
   "cell_type": "code",
   "execution_count": null,
   "id": "b0c151c3",
   "metadata": {},
   "outputs": [],
   "source": [
    "fig = plt.figure()\n",
    "ax = fig.add_subplot(111)\n",
    "ax.scatter(image0[:,0],image0[:,1])\n",
    "plt.show()"
   ]
  },
  {
   "cell_type": "code",
   "execution_count": null,
   "id": "00b2368e",
   "metadata": {},
   "outputs": [],
   "source": [
    "projected = np.zeros((n_images,N,3))\n",
    "\n",
    "for image in range(n_images):\n",
    "    if (image == 0): # use the first image as it was not rotated\n",
    "#         rt = I\n",
    "        rt = np.identity(4)\n",
    "    else:\n",
    "        rt = randomize_rt()\n",
    "    print (np.matrix(rt))\n",
    "    for point in range(N):\n",
    "#         projected[image,point,:] = true_K @ rt @ world_points_hom[point]\n",
    "        projected[image,point,:] = k_extended @ rt @ world_points_hom[point]\n",
    "        projected[image,point,:]/= world_points[point,-1]\n"
   ]
  },
  {
   "cell_type": "code",
   "execution_count": null,
   "id": "b4fbb639",
   "metadata": {},
   "outputs": [],
   "source": [
    "print(projected)"
   ]
  },
  {
   "cell_type": "code",
   "execution_count": null,
   "id": "6b321395",
   "metadata": {},
   "outputs": [],
   "source": [
    "fig, axes = plt.subplots(2, 2, figsize=(10,20))\n",
    "\n",
    "for i, ax in enumerate(axes.ravel()):\n",
    "    ax.scatter(projected[i,:,0],projected[i,:,1], alpha=.5)\n",
    "    ax.grid()\n",
    "    \n",
    "plt.tight_layout()"
   ]
  },
  {
   "cell_type": "code",
   "execution_count": null,
   "id": "13823d2a",
   "metadata": {},
   "outputs": [],
   "source": [
    "for i in range(n_images-1):\n",
    "    for j in range(i+1,n_images):\n",
    "        F[i,j] = calc_fund_matrix(projected[i,:,0:2],projected[j,:,0:2])"
   ]
  },
  {
   "cell_type": "code",
   "execution_count": null,
   "id": "51646450",
   "metadata": {},
   "outputs": [],
   "source": [
    "np.matrix(F[0,1])"
   ]
  },
  {
   "cell_type": "code",
   "execution_count": null,
   "id": "92a63db2",
   "metadata": {},
   "outputs": [],
   "source": [
    "for i in range(n_images-1):\n",
    "    for j in range(i+1,n_images):\n",
    "        print(i,j)\n",
    "        print(np.matrix(F[i,j]))"
   ]
  },
  {
   "cell_type": "code",
   "execution_count": null,
   "id": "8e9fc766",
   "metadata": {},
   "outputs": [],
   "source": [
    "initial_K =  rng.random.randint(-5,5,(5))\n",
    "res = opt.minimize(mendonca_cost_func,x0=initial_K, method='Nelder-Mead')\n",
    "# res = opt.minimize(mendonca_cost_func,x0=initial_K)"
   ]
  },
  {
   "cell_type": "code",
   "execution_count": null,
   "id": "de3b4cde",
   "metadata": {},
   "outputs": [],
   "source": [
    "res"
   ]
  },
  {
   "cell_type": "code",
   "execution_count": null,
   "id": "7db1a745",
   "metadata": {},
   "outputs": [],
   "source": [
    "result_K = np.zeros((3,3))\n",
    "result_K = np.array([[res.x[0],res.x[1],res.x[2]],[0,res.x[3],res.x[4]],[0,0,1]])\n",
    "print (np.matrix(result_K))"
   ]
  },
  {
   "cell_type": "code",
   "execution_count": null,
   "id": "29325c09",
   "metadata": {},
   "outputs": [],
   "source": [
    "print(np.matrix(true_K))"
   ]
  },
  {
   "cell_type": "code",
   "execution_count": null,
   "id": "f03d3aff",
   "metadata": {},
   "outputs": [],
   "source": []
  },
  {
   "cell_type": "code",
   "execution_count": null,
   "id": "38ead45a",
   "metadata": {},
   "outputs": [],
   "source": []
  },
  {
   "cell_type": "code",
   "execution_count": null,
   "id": "629a5084",
   "metadata": {},
   "outputs": [],
   "source": []
  },
  {
   "cell_type": "code",
   "execution_count": null,
   "id": "e4c3bab6",
   "metadata": {},
   "outputs": [],
   "source": [
    "image0_p0/image0_p0[2]"
   ]
  },
  {
   "cell_type": "code",
   "execution_count": null,
   "id": "28fdbaf0",
   "metadata": {},
   "outputs": [],
   "source": [
    "fig = plt.figure()\n",
    "ax = fig.add_subplot(111, projection='3d')\n",
    "ax.scatter(world_points[:,0],world_points[:,1],world_points[:,2])\n",
    "plt.show()"
   ]
  },
  {
   "cell_type": "code",
   "execution_count": null,
   "id": "5254cc4f",
   "metadata": {},
   "outputs": [],
   "source": [
    "# EXPERIMENT\n",
    "\n",
    "# array of n_images with original coordinates of N points (x,y)\n",
    "p = np.zeros((n_images,N,2))\n",
    "# array of n_images with projective coordinats of M points (x,y,1)\n",
    "pj = np.zeros((n_images,N,3))\n",
    "\n",
    "# randomly initialize 1st image (index #0)\n",
    "p[0] = rng.random.randint(0,500,(N,2))\n",
    "pj[0] = projectivation(p[0])\n",
    "\n",
    "#init random matrices to transform original image\n",
    "A = rng.random.randint(-6,6,(n_images-1,3,3))\n",
    "A[:,] = np.triu(A[:,])\n",
    "# transform original image to get new images \n",
    "for i in range(1,n_images):\n",
    "    pj[i] = (A[i-1]@pj[0].T).T\n",
    "    p[i] = affinization(pj[i])\n",
    "   \n",
    "# insert noise\n",
    "noise_level1 = 0.25\n",
    "for i in range(n_images):\n",
    "    p[i] += noise_level1*rng.random.randn(N,2)"
   ]
  },
  {
   "cell_type": "code",
   "execution_count": null,
   "id": "7fa1b093",
   "metadata": {},
   "outputs": [],
   "source": [
    "print (A[0])"
   ]
  },
  {
   "cell_type": "code",
   "execution_count": null,
   "id": "58db6810",
   "metadata": {},
   "outputs": [],
   "source": [
    "print (p.shape)"
   ]
  },
  {
   "cell_type": "code",
   "execution_count": null,
   "id": "e2e45221",
   "metadata": {},
   "outputs": [],
   "source": [
    "for i in range(n_images-1):\n",
    "    for j in range(i+1,n_images):\n",
    "        F[i,j] = calc_fund_matrix(p[i],p[j])"
   ]
  },
  {
   "cell_type": "code",
   "execution_count": null,
   "id": "ba8ffbb1",
   "metadata": {},
   "outputs": [],
   "source": [
    "initial_K =  rng.random.randint(-5,5,(5))"
   ]
  },
  {
   "cell_type": "code",
   "execution_count": null,
   "id": "7a2a8b5e",
   "metadata": {},
   "outputs": [],
   "source": [
    "res = opt.minimize(mendonca_cost_func,x0=initial_K, method='Nelder-Mead')"
   ]
  },
  {
   "cell_type": "code",
   "execution_count": null,
   "id": "82c98eec",
   "metadata": {},
   "outputs": [],
   "source": [
    "print (res)"
   ]
  },
  {
   "cell_type": "code",
   "execution_count": null,
   "id": "800376f8",
   "metadata": {},
   "outputs": [],
   "source": [
    "result_K = np.zeros((3,3))\n",
    "result_K = np.array([[res.x[0],res.x[1],res.x[2]],[0,res.x[3],res.x[4]],[0,0,1]])\n",
    "print (np.matrix(result_K))"
   ]
  },
  {
   "cell_type": "code",
   "execution_count": null,
   "id": "de5b0047",
   "metadata": {},
   "outputs": [],
   "source": [
    "#reconststruction\n",
    "\n",
    "#find Fundamental matrix\n",
    "F12 = np.zeros((3,3))\n",
    "F12 = calc_fund_matrix(p[0],p[1])\n",
    "\n",
    "#find Essential matrix\n",
    "EM = result_K.T @ F @ result_K\n",
    "\n",
    "#factorize EM to find R,t\n",
    "U,D,Vt = np.linalg.svd(EM)"
   ]
  },
  {
   "cell_type": "code",
   "execution_count": null,
   "id": "917b7b22",
   "metadata": {},
   "outputs": [],
   "source": [
    "randomize_rt()"
   ]
  },
  {
   "cell_type": "code",
   "execution_count": null,
   "id": "7235917e",
   "metadata": {},
   "outputs": [],
   "source": []
  }
 ],
 "metadata": {
  "kernelspec": {
   "display_name": "Python 3",
   "language": "python",
   "name": "python3"
  },
  "language_info": {
   "codemirror_mode": {
    "name": "ipython",
    "version": 3
   },
   "file_extension": ".py",
   "mimetype": "text/x-python",
   "name": "python",
   "nbconvert_exporter": "python",
   "pygments_lexer": "ipython3",
   "version": "3.8.5"
  }
 },
 "nbformat": 4,
 "nbformat_minor": 5
}
