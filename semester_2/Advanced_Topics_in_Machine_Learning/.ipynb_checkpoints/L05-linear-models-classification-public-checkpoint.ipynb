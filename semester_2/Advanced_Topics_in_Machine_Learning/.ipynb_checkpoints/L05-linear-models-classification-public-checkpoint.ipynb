{
 "cells": [
  {
   "cell_type": "markdown",
   "metadata": {
    "slideshow": {
     "slide_type": "slide"
    }
   },
   "source": [
    "### Advanced Machine Learning\n",
    "\n",
    "# Linear Models for Classification, SVMs\n",
    "\n",
    "22/03/21\n",
    "\n",
    "Jonathan Schler\n",
    "\n",
    "(credit: Columbia Univ - 4995 - Machine Learning Course)\n"
   ]
  },
  {
   "cell_type": "markdown",
   "metadata": {
    "slideshow": {
     "slide_type": "subslide"
    }
   },
   "source": [
    "\n",
    "\n",
    "# Linear models for <strong>binary</strong> classfication\n"
   ]
  },
  {
   "cell_type": "markdown",
   "metadata": {
    "slideshow": {
     "slide_type": "subslide"
    }
   },
   "source": [
    "\n",
    "<center>\n",
    "<img src=\"./images/linear_boundary_vector.png\" style=\"width: 600px;\">\n",
    "</center>\n",
    "\n",
    "$$\\hat{y} = \\text{sign}(w^T \\textbf{x} + b) = \\text{sign}\\left(\\sum\\limits_{i}w_ix_i + b\\right)$$\n"
   ]
  },
  {
   "cell_type": "markdown",
   "metadata": {
    "slideshow": {
     "slide_type": "subslide"
    }
   },
   "source": [
    "\n",
    "\n",
    "# Picking a loss?\n",
    "\n",
    "$$\\hat{y} = \\text{sign}(w^T \\textbf{x} + b)$$\n",
    "\n",
    "$$\\min_{w \\in ℝ^{p}, b \\in \\mathbb{R}} \\sum_{i=1}^n 1_{y_i \\neq \\text{sign}(w^T \\textbf{x} + b)}$$\n",
    "\n",
    "<center>\n",
    "<img src=\"./images/binary_loss.png\" style=\"width: 600px;\">\n",
    "</center>\n",
    "\n"
   ]
  },
  {
   "cell_type": "markdown",
   "metadata": {
    "slideshow": {
     "slide_type": "subslide"
    }
   },
   "source": [
    "\n",
    "\n",
    "# Logistic Regression\n",
    "\n",
    "$$\\log(p(y=1|x)) - \\log(p(y=-1|x)) = w^T\\textbf{x} + b$$\n",
    "\n",
    "$$\\log\\left(\\frac{p(y=1|x)}{p(y=-1|x)}\\right) = w^T\\textbf{x} + b$$\n",
    "\n",
    "$$p(y=1|\\textbf{x}) = \\frac{1}{1+e^{-(w^T\\textbf{x} +b) }}$$\n",
    "\n",
    "$$p(y=-1|\\textbf{x}) = \\frac{1}{1+e^{+(w^T\\textbf{x} +b) }}$$\n",
    "\n",
    "$$p(y_i|x_i) = \\frac{1}{1+e^{-y_i(w^T\\textbf{x} +b) }}$$\n",
    "\n",
    "$$\\min_{w \\in ℝ^{p}, b \\in \\mathbb{R}} \\sum_{i=1}^n \\log(\\exp(-y_i(w^T \\textbf{x}_i + b)) + 1)$$\n",
    "\n",
    "\n",
    "$$\\hat{y} = \\text{sign}(w^T\\textbf{x} + b)$$\n",
    "\n"
   ]
  },
  {
   "cell_type": "markdown",
   "metadata": {
    "slideshow": {
     "slide_type": "subslide"
    }
   },
   "source": [
    "<center>\n",
    "<img src=\"./images/logit.png\" style=\"width: 600px;\">\n",
    "</center>\n"
   ]
  },
  {
   "cell_type": "markdown",
   "metadata": {
    "slideshow": {
     "slide_type": "subslide"
    }
   },
   "source": [
    "\n",
    "\n",
    "\n",
    "# Penalized Logistic Regression\n",
    "\n",
    "$$\\min_{w \\in ℝ^{p}, b \\in \\mathbb{R}}C \\sum_{i=1}^n\\log(\\exp(-y_i(w^T \\textbf{x}_i + b )) + 1) + ||w||_2^2$$\n",
    "\n",
    "$$\\min_{w \\in ℝ^{p}, b \\in \\mathbb{R}}C \\sum_{i=1}^n\\log(\\exp(-y_i (w^T \\textbf{x}_i + b)) + 1) + ||w||_1$$\n",
    "\n",
    "- C is inverse to alpha (or alpha / n_samples)\n",
    "\n"
   ]
  },
  {
   "cell_type": "markdown",
   "metadata": {
    "slideshow": {
     "slide_type": "subslide"
    }
   },
   "source": [
    "\n",
    "# Effect of regularization\n",
    "\n",
    "\n",
    "<center>\n",
    "<img src=\"./images/logreg_regularization.png\" style=\"width: 600px;\">\n",
    "</center>\n",
    "\n",
    "- Small C (a lot of regularization) limits the influence of individual points!\n"
   ]
  },
  {
   "cell_type": "markdown",
   "metadata": {
    "slideshow": {
     "slide_type": "subslide"
    }
   },
   "source": [
    "\n",
    "\n",
    "# Max-Margin and Support Vectors\n",
    "\n",
    "<center>\n",
    "<img src=\"./images/max_margin.png\" style=\"width: 600px;\">\n",
    "</center>"
   ]
  },
  {
   "cell_type": "markdown",
   "metadata": {
    "slideshow": {
     "slide_type": "subslide"
    }
   },
   "source": [
    "\n",
    "\n",
    "\n",
    "# Max-Margin and Support Vectors\n",
    "$$ \\min_{w \\in \\mathbb{R}^p, b \\in \\mathbb{R}} C \\sum_{i=1}^n \\max(0, 1 - y_i (w^T\\mathbf{x} + b)) + ||w||^2_2 $$\n",
    "\n",
    "$$\\text{Within margin} \\Leftrightarrow y_i(w^T x  + b)< 1$$\n",
    "\n",
    "Smaller $w \\Rightarrow$ larger margin\n",
    "\n",
    "\n"
   ]
  },
  {
   "cell_type": "markdown",
   "metadata": {
    "slideshow": {
     "slide_type": "subslide"
    }
   },
   "source": [
    "\n",
    "# Max-Margin and Support Vectors\n",
    "\n",
    "\n",
    "<center>\n",
    "<img src=\"./images/max_margin_C_0.1.png\" style=\"width: 600px;\">\n",
    "</center>\n",
    "\n",
    "<center>\n",
    "<img src=\"./images/max_margin_C_1.png\" style=\"width: 600px;\">\n",
    "</center>"
   ]
  },
  {
   "cell_type": "markdown",
   "metadata": {
    "slideshow": {
     "slide_type": "subslide"
    }
   },
   "source": [
    "\n",
    "\n",
    "\n",
    "# (soft margin) linear SVM\n",
    "\n",
    "\n",
    "$$\\min_{w \\in ℝ^{p}, b \\in \\mathbb{R}}C \\sum_{i=1}^n\\max(0,1-y_i(w^T \\textbf{x}_i + b)) + ||w||_2^2$$\n",
    "\n",
    "$$\\min_{w \\in ℝ^{p}, b \\in \\mathbb{R}}C \\sum_{i=1}^n\\max(0,1-y_i(w^T \\textbf{x}_i + b))+ ||w||_1$$\n",
    "\n"
   ]
  },
  {
   "cell_type": "markdown",
   "metadata": {
    "slideshow": {
     "slide_type": "subslide"
    }
   },
   "source": [
    "\n",
    "\n",
    "\n",
    "# Logistic Regression vs SVM\n",
    "\n",
    "$$\\min_{w \\in ℝ^{p}, b \\in \\mathbb{R}}C \\sum_{i=1}^n\\log(\\exp(-y_i(w^T \\textbf{x}_i+b)) + 1) + ||w||_2^2$$\n",
    "$$\\min_{w \\in ℝ^{p}, b \\in \\mathbb{R}}C \\sum_{i=1}^n\\max(0,1-y_i(w^T \\textbf{x}_i + b)) + ||w||_2^2$$\n",
    "\n",
    "\n",
    "\n",
    "<center>\n",
    "<img src=\"./images/binary_loss.png\" style=\"width: 600px;\">\n",
    "</center>\n"
   ]
  },
  {
   "cell_type": "markdown",
   "metadata": {
    "slideshow": {
     "slide_type": "subslide"
    }
   },
   "source": [
    "\n",
    "\n",
    "\n",
    "# SVM or LogReg?\n",
    "\n",
    "<center>\n",
    "<img src=\"./images/svm_or_lr.png\" style=\"width: 600px;\">\n",
    "</center>\n",
    "\n",
    "\n",
    "- Need compact model or believe solution is sparse? Use L1\n"
   ]
  },
  {
   "cell_type": "markdown",
   "metadata": {
    "slideshow": {
     "slide_type": "subslide"
    }
   },
   "source": [
    "\n",
    "\n",
    "# Multiclass classification\n",
    "\n"
   ]
  },
  {
   "cell_type": "markdown",
   "metadata": {
    "slideshow": {
     "slide_type": "subslide"
    }
   },
   "source": [
    "\n",
    "# Reduction to Binary Classification\n",
    "\n",
    "## One vs Rest\n",
    "\n",
    "## One vs One\n"
   ]
  },
  {
   "cell_type": "markdown",
   "metadata": {
    "slideshow": {
     "slide_type": "subslide"
    }
   },
   "source": [
    "\n",
    "\n",
    "# One Vs Rest\n",
    "\n",
    "For 4 classes:\n",
    "\n",
    "1v{2,3,4}, 2v{1,3,4}, 3v{1,2,4}, 4v{1,2,3}\n",
    "\n",
    "In general:\n",
    "\n",
    "n binary classifiers - each on all data\n"
   ]
  },
  {
   "cell_type": "markdown",
   "metadata": {
    "slideshow": {
     "slide_type": "subslide"
    }
   },
   "source": [
    "\n",
    "\n",
    "# Prediction with One Vs Rest\n",
    "\n",
    "\n",
    "\"Class with highest score\"\n",
    "\n",
    "$$\\hat{y} = \\text{arg}\\max_{i \\in Y} \\textbf{w}^T_i\\textbf{x} + b_i$$\n",
    "\n"
   ]
  },
  {
   "cell_type": "markdown",
   "metadata": {
    "slideshow": {
     "slide_type": "subslide"
    }
   },
   "source": [
    "\n",
    "\n",
    "# One vs Rest Prediction\n",
    "\n",
    "\n",
    "<center>\n",
    "<img src=\"./images/ovr_lines.png\" style=\"width: 600px;\">\n",
    "</center>\n",
    "\n"
   ]
  },
  {
   "cell_type": "markdown",
   "metadata": {
    "slideshow": {
     "slide_type": "subslide"
    }
   },
   "source": [
    "\n",
    "\n",
    "# One vs Rest Prediction\n",
    "\n",
    "\n",
    "\n",
    "<center>\n",
    "<img src=\"./images/ovr_boundaries.png\" style=\"width: 600px;\">\n",
    "</center>\n"
   ]
  },
  {
   "cell_type": "markdown",
   "metadata": {
    "slideshow": {
     "slide_type": "subslide"
    }
   },
   "source": [
    "\n",
    "\n",
    "# One Vs One\n",
    "- 1v2, 1v3, 1v4, 2v3, 2v4, 3v4\n",
    "- n * (n-1) / 2 binary classifiers - each on a fraction of the data\n",
    "\n",
    "- \"Vote for highest positives\"\n",
    "- Classify by all classifiers.\n",
    "- Count how often each class was predicted.\n",
    "- Return most commonly predicted class.\n",
    "- Again - just a heuristic.\n",
    "\n"
   ]
  },
  {
   "cell_type": "markdown",
   "metadata": {
    "slideshow": {
     "slide_type": "subslide"
    }
   },
   "source": [
    "\n",
    "\n",
    "\n",
    "# One vs One Prediction\n",
    "\n",
    "<center>\n",
    "<img src=\"./images/ovo_lines.png\" style=\"width: 600px;\">\n",
    "</center>\n"
   ]
  },
  {
   "cell_type": "markdown",
   "metadata": {
    "slideshow": {
     "slide_type": "subslide"
    }
   },
   "source": [
    "\n",
    "# One vs One Prediction\n",
    "\n",
    "<center>\n",
    "<img src=\"./images/ovo_boundaries.png\" style=\"width: 600px;\">\n",
    "</center>\n"
   ]
  },
  {
   "cell_type": "markdown",
   "metadata": {
    "slideshow": {
     "slide_type": "subslide"
    }
   },
   "source": [
    "\n",
    "## One vs Rest\n",
    "- n_classes classifiers\n",
    "- trained on imbalanced datasets of original size\n",
    "- Retains some uncertainty?\n",
    "\n",
    "\n",
    "<center>\n",
    "<img src=\"./images/ovr_boundaries.png\" style=\"width: 600px;\">\n",
    "</center>\n",
    "\n",
    "\n",
    "## One vs One\n",
    "- n_classes * (n_classes - 1)/2  classifiers\n",
    "- trained on balanced subsets\n",
    "- No uncertainty propagated\n",
    "\n",
    "\n",
    "<center>\n",
    "<img src=\"./images/ovo_boundaries.png\" style=\"width: 600px;\">\n",
    "</center>\n"
   ]
  },
  {
   "cell_type": "markdown",
   "metadata": {
    "slideshow": {
     "slide_type": "subslide"
    }
   },
   "source": [
    "\n",
    "\n",
    "# Multinomial Logistic Regression\n",
    "\n",
    "Probabilistic multi-class model:\n",
    "\n",
    "$$p(y=i|x) = \\frac{e^{\\textbf{w}_i^T\\textbf{x} + b_i}}{\\sum_{j=1}^k e^{\\textbf{w}_j^T\\textbf{x} + b_j}}$$\n",
    "\n",
    "$$\\min_{w \\in ℝ^{pk}, b \\in \\mathbb{R}^k} -\\sum_{i=1}^n \\log(p(y=y_i|x_i, w, b))$$\n",
    "\n",
    "$$\\hat{y} = \\text{arg} \\max_{i=1,...,k} \\textbf{w}^T_i\\textbf{x} + b_i$$\n",
    "\n",
    "- Same prediction rule as OvR !\n"
   ]
  },
  {
   "cell_type": "markdown",
   "metadata": {
    "slideshow": {
     "slide_type": "subslide"
    }
   },
   "source": [
    "\n",
    "\n",
    "\n",
    "# In sckit-learn\n",
    "\n",
    "- OvO: only SVC\n",
    "- OvR: default for all linear models except for logistic regression\n",
    "- `LogisticRegression(multi_class='auto')`\n",
    "- `clf.decision_function` = $w^Tx + b$\n",
    "- `logreg.predict_proba`\n",
    "- `SVC(probability=True)` not great\n",
    "\n"
   ]
  },
  {
   "cell_type": "markdown",
   "metadata": {
    "slideshow": {
     "slide_type": "subslide"
    }
   },
   "source": [
    "\n",
    "\n",
    "# Multi-Class in Practice\n",
    "\n",
    "\n",
    "OvR and multinomial LogReg produce one coef per class:\n",
    "\n",
    "\n",
    "\n",
    "SVC would produce the same shape, but with different semantics!\n",
    "\n"
   ]
  },
  {
   "cell_type": "code",
   "execution_count": 20,
   "metadata": {
    "slideshow": {
     "slide_type": "subslide"
    }
   },
   "outputs": [
    {
     "name": "stdout",
     "output_type": "stream",
     "text": [
      "(150, 4)\n",
      "[50 50 50]\n"
     ]
    }
   ],
   "source": [
    "import numpy as np\n",
    "from sklearn.datasets import load_iris\n",
    "iris = load_iris()\n",
    "X, y = iris.data, iris.target\n",
    "print(X.shape)\n",
    "print(np.bincount(y))"
   ]
  },
  {
   "cell_type": "code",
   "execution_count": 21,
   "metadata": {
    "slideshow": {
     "slide_type": "subslide"
    }
   },
   "outputs": [
    {
     "name": "stdout",
     "output_type": "stream",
     "text": [
      "(3, 4)\n",
      "(3, 4)\n"
     ]
    },
    {
     "name": "stderr",
     "output_type": "stream",
     "text": [
      "/Users/jonathan.schler/anaconda3/envs/python37/lib/python3.7/site-packages/sklearn/linear_model/_logistic.py:764: ConvergenceWarning: lbfgs failed to converge (status=1):\n",
      "STOP: TOTAL NO. of ITERATIONS REACHED LIMIT.\n",
      "\n",
      "Increase the number of iterations (max_iter) or scale the data as shown in:\n",
      "    https://scikit-learn.org/stable/modules/preprocessing.html\n",
      "Please also refer to the documentation for alternative solver options:\n",
      "    https://scikit-learn.org/stable/modules/linear_model.html#logistic-regression\n",
      "  extra_warning_msg=_LOGISTIC_SOLVER_CONVERGENCE_MSG)\n",
      "/Users/jonathan.schler/anaconda3/envs/python37/lib/python3.7/site-packages/sklearn/svm/_base.py:977: ConvergenceWarning: Liblinear failed to converge, increase the number of iterations.\n",
      "  \"the number of iterations.\", ConvergenceWarning)\n"
     ]
    }
   ],
   "source": [
    "from sklearn.linear_model import LogisticRegression\n",
    "from sklearn.svm import LinearSVC\n",
    "\n",
    "logreg = LogisticRegression(multi_class=\"multinomial\", solver=\"lbfgs\").fit(X, y)\n",
    "linearsvm = LinearSVC().fit(X, y)\n",
    "print(logreg.coef_.shape)\n",
    "print(linearsvm.coef_.shape)"
   ]
  },
  {
   "cell_type": "markdown",
   "metadata": {
    "slideshow": {
     "slide_type": "notes"
    }
   },
   "source": [
    "see the same shape - but let's look at the values\n"
   ]
  },
  {
   "cell_type": "code",
   "execution_count": 23,
   "metadata": {
    "slideshow": {
     "slide_type": "subslide"
    }
   },
   "outputs": [
    {
     "data": {
      "text/plain": [
       "array([[-0.41814039,  0.9663378 , -2.52101577, -1.08409779],\n",
       "       [ 0.53028079, -0.31442503, -0.19948841, -0.94813966],\n",
       "       [-0.11214039, -0.65191277,  2.72050419,  2.03223745]])"
      ]
     },
     "execution_count": 23,
     "metadata": {},
     "output_type": "execute_result"
    }
   ],
   "source": [
    "logreg.coef_"
   ]
  },
  {
   "cell_type": "code",
   "execution_count": 24,
   "metadata": {
    "slideshow": {
     "slide_type": "subslide"
    }
   },
   "outputs": [
    {
     "data": {
      "text/plain": [
       "array([  9.83777122,   2.21837936, -12.05615058])"
      ]
     },
     "execution_count": 24,
     "metadata": {},
     "output_type": "execute_result"
    }
   ],
   "source": [
    "logreg.intercept_"
   ]
  },
  {
   "cell_type": "code",
   "execution_count": 8,
   "metadata": {
    "slideshow": {
     "slide_type": "subslide"
    }
   },
   "outputs": [
    {
     "data": {
      "image/png": "[encoded data removed]",
      "text/plain": [
       "<Figure size 432x108 with 3 Axes>"
      ]
     },
     "metadata": {
      "needs_background": "light"
     },
     "output_type": "display_data"
    }
   ],
   "source": [
    "from sklearn.preprocessing import scale\n",
    "import matplotlib.pyplot as plt\n",
    "%matplotlib inline\n",
    "\n",
    "logreg = LogisticRegression(fit_intercept=False, multi_class=\"multinomial\", solver=\"lbfgs\").fit(scale(X), y)\n",
    "\n",
    "fig, axes = plt.subplots(1, 3, figsize=(6, 1.5))\n",
    "for ax, coef, classname in zip(axes, logreg.coef_, iris.target_names):\n",
    "    ax.barh(range(4), coef, height=.5, color=plt.cm.bwr_r(np.sign(coef)))\n",
    "    ax.set_xlim(logreg.coef_.min() - .1, logreg.coef_.max() + .1)\n",
    "\n",
    "    ax.set_title(classname)\n",
    "    ax.set_frame_on(False)\n",
    "    ax.set_yticks(())\n",
    "    \n",
    "axes[0].set_yticks(range(4))\n",
    "axes[0].set_yticklabels(iris.feature_names)\n",
    "plt.tight_layout()\n"
   ]
  },
  {
   "cell_type": "markdown",
   "metadata": {
    "slideshow": {
     "slide_type": "subslide"
    }
   },
   "source": [
    "\n",
    "\n",
    "# Computational Considerations\n",
    "# (for all linear models)\n",
    "\n"
   ]
  },
  {
   "cell_type": "markdown",
   "metadata": {
    "slideshow": {
     "slide_type": "subslide"
    }
   },
   "source": [
    "\n",
    "# Solver choices\n",
    "\n",
    "- Don’t use `SVC(kernel='linear')`, use `LinearSVC`\n",
    "- For `n_features >> n_samples`: Lars (or LassoLars) instead of Lasso.\n",
    "- For small n_samples (<10.000?), don’t worry.\n",
    "- `LinearSVC`, `LogisticRegression`: `dual=False` if `n_samples >> n_features`\n",
    "- `LogisticRegression(solver=\"sag\")` for `n_samples` large.\n",
    "- Stochastic Gradient Descent for `n_samples` really\n",
    "large\n",
    "\n"
   ]
  },
  {
   "cell_type": "markdown",
   "metadata": {
    "slideshow": {
     "slide_type": "subslide"
    }
   },
   "source": [
    "\n",
    "\n",
    "# Kernel SVMs\n"
   ]
  },
  {
   "cell_type": "markdown",
   "metadata": {
    "slideshow": {
     "slide_type": "subslide"
    }
   },
   "source": [
    "\n",
    "\n",
    "\n",
    "# Motivation\n",
    "\n",
    "- Go from linear models to more powerful nonlinear ones.\n",
    "- Keep convexity (ease of optimization).\n",
    "- Generalize the concept of feature engineering.\n"
   ]
  },
  {
   "cell_type": "markdown",
   "metadata": {
    "slideshow": {
     "slide_type": "subslide"
    }
   },
   "source": [
    "\n",
    "\n",
    "\n",
    "# Reminder on Linear SVM\n",
    "\n",
    "$$ \\min_{w \\in \\mathbb{R}^p, b \\in \\mathbf{R}} C \\sum_{i=1}^n \\max(0, 1 - y_i (w^T\\mathbf{x} +b)) + ||w||^2_2 $$\n",
    "\n",
    "$$ \\hat{y} = \\text{sign}(w^T \\mathbf{x} + b)  $$\n",
    "\n"
   ]
  },
  {
   "cell_type": "markdown",
   "metadata": {
    "slideshow": {
     "slide_type": "subslide"
    }
   },
   "source": [
    "## Non lineary seperable models\n",
    "\n",
    "<center>\n",
    "<img src=\"./images/svm_kernel_example.png\" style=\"width: 600px;\">\n",
    "</center>"
   ]
  },
  {
   "cell_type": "markdown",
   "metadata": {
    "slideshow": {
     "slide_type": "subslide"
    }
   },
   "source": [
    "\n",
    "\n",
    "# Reformulate Linear Models\n",
    "\n",
    "\n",
    "- Optimization Theory\n",
    "\n",
    "$$ w = \\sum_{i=1}^n \\alpha_i \\mathbf{x}_i $$\n",
    "\n",
    "(alpha are dual coefficients. Non-zero for support vectors only)\n",
    "\n",
    "\n",
    "$$ \\hat{y} = \\text{sign}(w^T \\mathbf{x})  \\Longrightarrow   \\hat{y} = \\text{sign}\\left(\\sum_i^{n}\\alpha_i (\\mathbf{x}_i^T  \\mathbf{x})\\right) $$\n",
    "\n",
    "$$ \\alpha_i <= C$$\n",
    "\n",
    "\n"
   ]
  },
  {
   "cell_type": "markdown",
   "metadata": {
    "slideshow": {
     "slide_type": "subslide"
    }
   },
   "source": [
    "\n",
    "\n",
    "# Introducing Kernels\n",
    "\n",
    "\n",
    "$$\\hat{y} = \\text{sign}\\left(\\sum_i^{n}\\alpha_i (\\mathbf{x}_i^T  \\mathbf{x})\\right) \\longrightarrow \\hat{y} = \\text{sign}\\left(\\sum_i^{n}\\alpha_i (\\phi(\\mathbf{x}_i)^T  \\phi(\\mathbf{x}))\\right) $$\n",
    "\n",
    "$$ \\phi(\\mathbf{x}_i)^T \\phi( \\mathbf{x}_j) \\longrightarrow k(\\mathbf{x}_i,  \\mathbf{x}_j) $$\n",
    "\n",
    "k positive definite, symmetric $\\Rightarrow$ there exists a $\\phi$! (possilby $\\infty$-dim)\n",
    "\n"
   ]
  },
  {
   "cell_type": "markdown",
   "metadata": {
    "slideshow": {
     "slide_type": "subslide"
    }
   },
   "source": [
    "\n",
    "\n",
    "# Examples of Kernels\n",
    "\n",
    "\n",
    "$$k_\\text{linear}(\\mathbf{x}, \\mathbf{x}') = \\mathbf{x}^T\\mathbf{x}'$$\n",
    "\n",
    "$$k_\\text{poly}(\\mathbf{x}, \\mathbf{x}') = (\\mathbf{x}^T\\mathbf{x}' + c) ^ d$$\n",
    "\n",
    "$$k_\\text{rbf}(\\mathbf{x}, \\mathbf{x}') = \\exp(-\\gamma||\\mathbf{x} -\\mathbf{x}'||^2)$$\n",
    "\n",
    "$$k_\\text{sigmoid}(\\mathbf{x}, \\mathbf{x}') = \\tanh\\left(\\gamma \\mathbf{x}^T\\mathbf{x}'  + r\\right)$$\n",
    "\n",
    "$$k_\\cap(\\mathbf{x}, \\mathbf{x}')= \\sum_{i=1}^p \\min(x_i, x'_i)$$\n",
    "\n",
    "- If $k$ and $k'$ are kernels, so are $k + k', kk', ck', ...$\n"
   ]
  },
  {
   "cell_type": "markdown",
   "metadata": {
    "slideshow": {
     "slide_type": "subslide"
    }
   },
   "source": [
    "\n",
    "# Polynomial Kernel vs Features\n",
    "\n",
    "\n",
    "$$ k_\\text{poly}(\\mathbf{x}, \\mathbf{x}') = (\\mathbf{x}^T\\mathbf{x}' + c) ^ d $$\n",
    "\n",
    "Primal vs Dual Optimization<br /><br />\n",
    "\n",
    "Explicit polynomials $\\rightarrow$ compute on `n_samples * n_features ** d`\n",
    "\n",
    "Kernel trick $\\rightarrow$ compute on kernel matrix of shape `n_samples * n_samples`\n",
    "<br /><br />\n",
    "For a single feature:\n",
    "\n",
    "$$ (x^2, \\sqrt{2}x, 1)^T (x'^2, \\sqrt{2}x', 1) = x^2x'^2 + 2xx' + 1 = (xx' + 1)^2 $$\n"
   ]
  },
  {
   "cell_type": "code",
   "execution_count": 25,
   "metadata": {
    "slideshow": {
     "slide_type": "subslide"
    }
   },
   "outputs": [
    {
     "data": {
      "text/plain": [
       "<matplotlib.collections.PathCollection at 0x1a248c8310>"
      ]
     },
     "execution_count": 25,
     "metadata": {},
     "output_type": "execute_result"
    },
    {
     "data": {
      "image/png": "[encoded data removed]",
      "text/plain": [
       "<Figure size 432x288 with 1 Axes>"
      ]
     },
     "metadata": {
      "needs_background": "light"
     },
     "output_type": "display_data"
    }
   ],
   "source": [
    "from sklearn.svm import SVC\n",
    "from sklearn.preprocessing import PolynomialFeatures\n",
    "from sklearn.datasets import make_blobs\n",
    "\n",
    "X, y = make_blobs(random_state=3)\n",
    "y = (y == 0).astype(np.int)\n",
    "plt.scatter(X[:, 0], X[:, 1], c=plt.cm.tab10(y))"
   ]
  },
  {
   "cell_type": "code",
   "execution_count": 27,
   "metadata": {
    "slideshow": {
     "slide_type": "subslide"
    }
   },
   "outputs": [
    {
     "data": {
      "text/plain": [
       "((100, 2), (100, 5))"
      ]
     },
     "execution_count": 27,
     "metadata": {},
     "output_type": "execute_result"
    }
   ],
   "source": [
    "poly = PolynomialFeatures(include_bias=False)\n",
    "X_poly = poly.fit_transform(X)\n",
    "\n",
    "X.shape, X_poly.shape"
   ]
  },
  {
   "cell_type": "code",
   "execution_count": 11,
   "metadata": {
    "slideshow": {
     "slide_type": "subslide"
    }
   },
   "outputs": [
    {
     "data": {
      "text/plain": [
       "['x0', 'x1', 'x0^2', 'x0 x1', 'x1^2']"
      ]
     },
     "execution_count": 11,
     "metadata": {},
     "output_type": "execute_result"
    }
   ],
   "source": [
    "poly.get_feature_names()"
   ]
  },
  {
   "cell_type": "code",
   "execution_count": 29,
   "metadata": {
    "slideshow": {
     "slide_type": "subslide"
    }
   },
   "outputs": [],
   "source": [
    "linear_svm = SVC(kernel=\"linear\").fit(X_poly, y)\n",
    "poly_svm = SVC(kernel=\"poly\", degree=2, coef0=1).fit(X, y)"
   ]
  },
  {
   "cell_type": "markdown",
   "metadata": {
    "slideshow": {
     "slide_type": "subslide"
    }
   },
   "source": [
    "\n",
    "\n",
    "# Poly kernels vs explicit features\n",
    "\n",
    "<center>\n",
    "<img src=\"./images/poly_kernel_features.png\" style=\"width: 600px;\">\n",
    "</center>\n"
   ]
  },
  {
   "cell_type": "markdown",
   "metadata": {
    "slideshow": {
     "slide_type": "subslide"
    }
   },
   "source": [
    "\n",
    "# Understanding Dual Coefficients\n",
    "\n",
    "```python\n",
    "linear_svm.coef_\n",
    "```\n",
    "```\n",
    "array([[0.139, 0.06, -0.201, 0.048, 0.019]])\n",
    "```\n",
    "$$ y = \\text{sign}(0.139 x_0 + 0.06 x_1 - 0.201 x_0^2 + 0.048 x_0 x_1 + 0.019 x_1^2) $$\n",
    "\n",
    "```python\n",
    "linear_svm.dual_coef_\n",
    "#array([[-0.03, -0.003, 0.003, 0.03]])\n",
    "linear_svm.support_\n",
    "#array([1,26,42,62], dtype=int32)\n",
    "```\n",
    "\n",
    "$$ y = \\text{sign}(-0.03 \\phi(\\mathbf{x}_1)^T \\phi(x) - 0.003 \\phi(\\mathbf{x}_{26})^T \\phi(\\mathbf{x})  +0.003 \\phi(\\mathbf{x}_{42})^T \\phi(\\mathbf{x}) + 0.03 \\phi(\\mathbf{x}_{62})^T \\phi(\\mathbf{x})) $$\n"
   ]
  },
  {
   "cell_type": "markdown",
   "metadata": {
    "slideshow": {
     "slide_type": "subslide"
    }
   },
   "source": [
    "\n",
    "# With Kernel\n",
    "$$y = \\text{sign}\\left(\\sum_i^{n}\\alpha_i k(\\mathbf{x}_i,  \\mathbf{x})\\right) $$\n",
    "\n",
    "```python\n",
    "poly_svm.dual_coef_\n",
    "# array([[-0.057, -0. , -0.012, 0.008, 0.062]])\n",
    "poly_svm.support_\n",
    "# array([1,26,41,42,62], dtype=int32)\n",
    "```\n",
    "$$ y = \\text{sign}(-0.057 (\\mathbf{x}_1^T\\mathbf{x} + 1)^2\n",
    "         -0.012 (\\mathbf{x}_{41}^T \\mathbf{x} + 1)^2 \\\\\n",
    "         +0.008 (\\mathbf{x}_{42}^T \\mathbf{x} + 1)^2 + 0.062 (\\mathbf{x}_{62}^T \\mathbf{x} + 1)^2)\n",
    "$$\n"
   ]
  },
  {
   "cell_type": "markdown",
   "metadata": {
    "slideshow": {
     "slide_type": "subslide"
    }
   },
   "source": [
    "\n",
    "\n",
    "# Runtime Considerations\n",
    "\n",
    "<center>\n",
    "<img src=\"./images/svm_runtime.png\" style=\"width: 600px;\">\n",
    "</center>\n"
   ]
  },
  {
   "cell_type": "markdown",
   "metadata": {
    "slideshow": {
     "slide_type": "subslide"
    }
   },
   "source": [
    "\n",
    "\n",
    "\n",
    "# Kernels in Practice\n",
    "\n",
    "- Dual coefficients less interpretable\n",
    "- Long runtime for “large” datasets (100k samples)\n",
    "- Real power in infinite-dimensional spaces: rbf!\n",
    "- Rbf is “universal kernel” - can learn (aka overfit)\n",
    "anything.\n"
   ]
  },
  {
   "cell_type": "markdown",
   "metadata": {
    "slideshow": {
     "slide_type": "subslide"
    }
   },
   "source": [
    "\n",
    "# Preprocessing\n",
    "\n",
    "- Kernel use inner products or distances.\n",
    "- StandardScaler or MinMaxScaler ftw\n",
    "- Gamma parameter in RBF directly relates to scaling of data and n_features – the default is `1/(X.var() * n_features)`\n"
   ]
  },
  {
   "cell_type": "markdown",
   "metadata": {
    "slideshow": {
     "slide_type": "subslide"
    }
   },
   "source": [
    "\n",
    "\n",
    "# Parameters for RBF Kernels\n",
    "\n",
    "- Regularization parameter C is limit on alphas\n",
    "(for any kernel)\n",
    "- Gamma is bandwidth: $k_\\text{rbf}(\\mathbf{x}, \\mathbf{x}') = \\exp(-\\gamma||\\mathbf{x} -\\mathbf{x}'||^2)$\n",
    "\n",
    "\n",
    "\n",
    "<center>\n",
    "<img src=\"./images/svm_gamma.png\" style=\"width: 600px;\">\n",
    "</center>"
   ]
  },
  {
   "cell_type": "markdown",
   "metadata": {
    "slideshow": {
     "slide_type": "subslide"
    }
   },
   "source": [
    "\n",
    "<center>\n",
    "<img src=\"./images/svm_c_gamma.png\" style=\"width: 600px;\">\n",
    "</center>"
   ]
  },
  {
   "cell_type": "markdown",
   "metadata": {
    "slideshow": {
     "slide_type": "subslide"
    }
   },
   "source": [
    "\n",
    "\n",
    "```python\n",
    "from sklearn.datasets import load_digits\n",
    "digits = load_digits()\n",
    "```\n",
    "\n",
    "\n",
    "<center>\n",
    "<img src=\"./images/digits_images.png\" style=\"width: 600px;\">\n",
    "</center>"
   ]
  },
  {
   "cell_type": "code",
   "execution_count": 30,
   "metadata": {
    "slideshow": {
     "slide_type": "subslide"
    }
   },
   "outputs": [],
   "source": [
    "from sklearn.model_selection import GridSearchCV, cross_val_score\n",
    "from sklearn.preprocessing import StandardScaler\n",
    "from sklearn.datasets import load_digits\n",
    "from sklearn.model_selection import train_test_split\n",
    "from sklearn.pipeline import make_pipeline\n",
    "\n",
    "digits = load_digits()\n",
    "X_train, X_test, y_train, y_test = train_test_split(\n",
    "    digits.data, digits.target, stratify=digits.target, random_state=0)\n",
    "\n"
   ]
  },
  {
   "cell_type": "markdown",
   "metadata": {
    "slideshow": {
     "slide_type": "subslide"
    }
   },
   "source": [
    "\n",
    "\n",
    "# Scaling and Default Params\n",
    "\n",
    "\n",
    "```\n",
    "gamma : {‘scale’, ‘auto’} or float, optional (default=’scale’)\n",
    "  Kernel coefficient for 'rbf', 'poly' and 'sigmoid'.\n",
    "  if gamma='scale' (default) is passed then it uses 1 / (n_features * X.var())\n",
    "  as value of gamma\n",
    "  if ‘auto’, uses 1 / n_features.\n",
    "```\n",
    "```python\n",
    "print('auto', np.mean(cross_val_score(SVC(gamma='auto'), X_train, y_train, cv=10)))\n",
    "print('scale', np.mean(cross_val_score(SVC(gamma='scale'), X_train, y_train, cv=10)))\n",
    "scaled_svc = make_pipeline(StandardScaler(), SVC())\n",
    "print('pipe', np.mean(cross_val_score(scaled_svc, X_train, y_train, cv=10)))\n",
    "```\n",
    "```\n",
    "auto 0.563\n",
    "scale 0.987\n",
    "pipe 0.977\n",
    "```\n",
    "```python\n",
    "gamma = (1. / (X_train.shape[1] * X_train.var()))\n",
    "print(np.mean(cross_val_score(SVC(gamma=gamma), X_train, y_train, cv=10)))\n",
    "```\n",
    "```\n",
    "0.987\n",
    "```\n",
    "\n"
   ]
  },
  {
   "cell_type": "markdown",
   "metadata": {
    "slideshow": {
     "slide_type": "subslide"
    }
   },
   "source": [
    "\n",
    "\n",
    "# Grid-Searching Parameters\n",
    "\n",
    "```python\n",
    "param_grid = {'svc__C': np.logspace(-3, 2, 6),\n",
    "              'svc__gamma': np.logspace(-3, 2, 6) / X_train.shape[0]}\n",
    "param_grid\n",
    "```\n",
    "\n",
    "```json\n",
    "{'svc_C': array([0.001, 0.01, 0.1, 1., 10.,  100.]),\n",
    " 'svc_gamma': array([ 0.000001, 0.000007, 0.000074,\n",
    "                      0.000742, 0.007424, 0.074239])}\n",
    "```\n",
    "\n",
    "```python\n",
    "grid = GridSearchCV(scaled_svc, param_grid=param_grid, cv=10)\n",
    "grid.fit(X_train, y_train)\n",
    "```"
   ]
  },
  {
   "cell_type": "markdown",
   "metadata": {
    "slideshow": {
     "slide_type": "subslide"
    }
   },
   "source": [
    "\n",
    "# Grid-Searching Parameters\n",
    "\n",
    "\n",
    "\n",
    "<center>\n",
    "<img src=\"./images/svm_c_gamma_heatmap.png\" style=\"width: 600px;\">\n",
    "</center>"
   ]
  },
  {
   "cell_type": "markdown",
   "metadata": {
    "slideshow": {
     "slide_type": "subslide"
    }
   },
   "source": [
    "\n",
    "\n",
    "\n",
    "# Questions ?\n",
    "\n",
    "    "
   ]
  },
  {
   "cell_type": "code",
   "execution_count": null,
   "metadata": {},
   "outputs": [],
   "source": []
  },
  {
   "cell_type": "code",
   "execution_count": null,
   "metadata": {},
   "outputs": [],
   "source": []
  }
 ],
 "metadata": {
  "celltoolbar": "Slideshow",
  "kernelspec": {
   "display_name": "Python 3",
   "language": "python",
   "name": "python3"
  },
  "language_info": {
   "codemirror_mode": {
    "name": "ipython",
    "version": 3
   },
   "file_extension": ".py",
   "mimetype": "text/x-python",
   "name": "python",
   "nbconvert_exporter": "python",
   "pygments_lexer": "ipython3",
   "version": "3.8.5"
  },
  "toc": {
   "base_numbering": 1,
   "nav_menu": {},
   "number_sections": false,
   "sideBar": true,
   "skip_h1_title": false,
   "title_cell": "Table of Contents",
   "title_sidebar": "Contents",
   "toc_cell": false,
   "toc_position": {},
   "toc_section_display": true,
   "toc_window_display": false
  }
 },
 "nbformat": 4,
 "nbformat_minor": 4
}
