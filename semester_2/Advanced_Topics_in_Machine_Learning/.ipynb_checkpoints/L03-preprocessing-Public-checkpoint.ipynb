{
 "cells": [
  {
   "cell_type": "markdown",
   "metadata": {
    "slideshow": {
     "slide_type": "subslide"
    }
   },
   "source": [
    "### Advanced Machine Learning\n",
    "\n",
    "# Preprocessing and Feature Transformations\n",
    "\n",
    "08/03/21\n",
    "\n",
    "Jonathan Schler\n",
    "\n",
    "(credit: Columbia Univ - 4995 - Machine Learning Course)\n",
    "\n"
   ]
  },
  {
   "cell_type": "markdown",
   "metadata": {
    "slideshow": {
     "slide_type": "subslide"
    }
   },
   "source": [
    "\n",
    "Coming up with features is difficult, time-consuming, requires expert knowledge.\n",
    "\"Applied machine learning\" is basically feature engineering.\n",
    "[Andrew Ng]\n",
    "\n"
   ]
  },
  {
   "cell_type": "markdown",
   "metadata": {
    "slideshow": {
     "slide_type": "subslide"
    }
   },
   "source": [
    "**Author**: https://www.kaggle.com/harlfoxem/  \n",
    "https://www.kaggle.com/harlfoxem/  \n",
    "**Source**: [original](https://www.kaggle.com/harlfoxem/housesalesprediction) - 2016-08-25  \n",
    "**Please cite**:   \n",
    "\n",
    "This dataset contains house sale prices for King County, which includes Seattle. It includes homes sold between May 2014 and May 2015.\n",
    "\n",
    "It contains 19 house features plus the price and the id columns, along with 21613 observations.\n",
    "It's a great dataset for evaluating simple regression models.\n"
   ]
  },
  {
   "cell_type": "markdown",
   "metadata": {
    "slideshow": {
     "slide_type": "subslide"
    }
   },
   "source": [
    "* Id: Unique ID for each home sold\n",
    "* Date: Date of the home sale\n",
    "* Price: Price of each home sold\n",
    "* Bedrooms: Number of bedrooms\n",
    "* Bathrooms: Number of bathrooms, where .5 accounts for a room with a toilet but no shower\n",
    "* Sqft_living: Square footage of the apartments interior living space\n",
    "* Sqft_lot: Square footage of the land space\n",
    "* Floors: Number of floors\n",
    "* Waterfront: A dummy variable for whether the apartment was overlooking the waterfront or not\n",
    "* View: An index from 0 to 4 of how good the view of the property was\n",
    "* Condition: An index from 1 to 5 on the condition of the apartment\n",
    "* Grade: An index from 1 to 13, where 1-3 falls short of the building construction and design, 7 has an average level of  construction and design, and 11-13 have a high quality level of construction and design\n",
    "* Sqft_above: The square footage of the interior housing space that is above ground level.\n",
    "* Sqft_basement: The square footage of the interior housing space that is below ground level.\n",
    "* Yr_built: The year the house was initially built\n",
    "* Yr_renovated: The year of the house's last renovation\n",
    "* Zipcode: What zipcode area the house is in\n",
    "* Lat: Lattitude\n",
    "* Long: Longitude\n",
    "* Sqft_living15: The square footage of interior housing living space for the nearest 15 neighbors.\n",
    "* Sqft_lot15: The square footage of the land lots of the nearest 15 neighbors."
   ]
  },
  {
   "cell_type": "code",
   "execution_count": 59,
   "metadata": {
    "slideshow": {
     "slide_type": "subslide"
    }
   },
   "outputs": [
    {
     "name": "stderr",
     "output_type": "stream",
     "text": [
      "/Users/jonathan.schler/anaconda3/envs/python37/lib/python3.7/site-packages/sklearn/datasets/_openml.py:376: UserWarning: Multiple active versions of the dataset matching the name house_sales exist. Versions may be fundamentally different, returning version 1.\n",
      "  \" {version}.\".format(name=name, version=res[0]['version']))\n"
     ]
    },
    {
     "name": "stdout",
     "output_type": "stream",
     "text": [
      "**Author**: https://www.kaggle.com/harlfoxem/  \n",
      "https://www.kaggle.com/harlfoxem/  \n",
      "**Source**: [original](https://www.kaggle.com/harlfoxem/housesalesprediction) - 2016-08-25  \n",
      "**Please cite**:   \n",
      "\n",
      "This dataset contains house sale prices for King County, which includes Seattle. It includes homes sold between May 2014 and May 2015.\n",
      "\n",
      "It contains 19 house features plus the price and the id columns, along with 21613 observations.\n",
      "It's a great dataset for evaluating simple regression models.\n",
      "\n",
      "* Id: Unique ID for each home sold\n",
      "* Date: Date of the home sale\n",
      "* Price: Price of each home sold\n",
      "* Bedrooms: Number of bedrooms\n",
      "* Bathrooms: Number of bathrooms, where .5 accounts for a room with a toilet but no shower\n",
      "* Sqft_living: Square footage of the apartments interior living space\n",
      "* Sqft_lot: Square footage of the land space\n",
      "* Floors: Number of floors\n",
      "* Waterfront: A dummy variable for whether the apartment was overlooking the waterfront or not\n",
      "* View: An index from 0 to 4 of how good the view of the property was\n",
      "* Condition: An index from 1 to 5 on the condition of the apartment\n",
      "* Grade: An index from 1 to 13, where 1-3 falls short of the building construction and design, 7 has an average level of  construction and design, and 11-13 have a high quality level of construction and design\n",
      "* Sqft_above: The square footage of the interior housing space that is above ground level.\n",
      "* Sqft_basement: The square footage of the interior housing space that is below ground level.\n",
      "* Yr_built: The year the house was initially built\n",
      "* Yr_renovated: The year of the house's last renovation\n",
      "* Zipcode: What zipcode area the house is in\n",
      "* Lat: Lattitude\n",
      "* Long: Longitude\n",
      "* Sqft_living15: The square footage of interior housing living space for the nearest 15 neighbors.\n",
      "* Sqft_lot15: The square footage of the land lots of the nearest 15 neighbors.\n",
      "\n",
      "Downloaded from openml.org.\n"
     ]
    }
   ],
   "source": [
    "from sklearn.model_selection import train_test_split\n",
    "from sklearn.datasets import fetch_openml\n",
    "data = fetch_openml(\"house_sales\", as_frame=True)\n",
    "print(data.DESCR)"
   ]
  },
  {
   "cell_type": "code",
   "execution_count": 53,
   "metadata": {
    "slideshow": {
     "slide_type": "subslide"
    }
   },
   "outputs": [
    {
     "data": {
      "text/plain": [
       "Index(['date', 'price', 'bedrooms', 'bathrooms', 'sqft_living', 'sqft_lot',\n",
       "       'floors', 'waterfront', 'view', 'condition', 'grade', 'sqft_above',\n",
       "       'sqft_basement', 'yr_built', 'yr_renovated', 'zipcode', 'lat', 'long',\n",
       "       'sqft_living15', 'sqft_lot15'],\n",
       "      dtype='object')"
      ]
     },
     "execution_count": 53,
     "metadata": {},
     "output_type": "execute_result"
    }
   ],
   "source": [
    "data.frame.columns"
   ]
  },
  {
   "cell_type": "code",
   "execution_count": 54,
   "metadata": {
    "slideshow": {
     "slide_type": "subslide"
    }
   },
   "outputs": [
    {
     "data": {
      "text/html": [
       "<div>\n",
       "<style scoped>\n",
       "    .dataframe tbody tr th:only-of-type {\n",
       "        vertical-align: middle;\n",
       "    }\n",
       "\n",
       "    .dataframe tbody tr th {\n",
       "        vertical-align: top;\n",
       "    }\n",
       "\n",
       "    .dataframe thead th {\n",
       "        text-align: right;\n",
       "    }\n",
       "</style>\n",
       "<table border=\"1\" class=\"dataframe\">\n",
       "  <thead>\n",
       "    <tr style=\"text-align: right;\">\n",
       "      <th></th>\n",
       "      <th>bedrooms</th>\n",
       "      <th>bathrooms</th>\n",
       "      <th>sqft_living</th>\n",
       "      <th>sqft_lot</th>\n",
       "      <th>floors</th>\n",
       "      <th>waterfront</th>\n",
       "      <th>view</th>\n",
       "      <th>condition</th>\n",
       "      <th>grade</th>\n",
       "      <th>sqft_above</th>\n",
       "      <th>sqft_basement</th>\n",
       "      <th>yr_built</th>\n",
       "      <th>yr_renovated</th>\n",
       "      <th>zipcode</th>\n",
       "      <th>lat</th>\n",
       "      <th>long</th>\n",
       "      <th>sqft_living15</th>\n",
       "      <th>sqft_lot15</th>\n",
       "    </tr>\n",
       "  </thead>\n",
       "  <tbody>\n",
       "    <tr>\n",
       "      <th>0</th>\n",
       "      <td>3.0</td>\n",
       "      <td>1.00</td>\n",
       "      <td>1180.0</td>\n",
       "      <td>5650.0</td>\n",
       "      <td>1.0</td>\n",
       "      <td>0.0</td>\n",
       "      <td>0.0</td>\n",
       "      <td>3.0</td>\n",
       "      <td>7.0</td>\n",
       "      <td>1180.0</td>\n",
       "      <td>0.0</td>\n",
       "      <td>1955.0</td>\n",
       "      <td>0.0</td>\n",
       "      <td>98178.0</td>\n",
       "      <td>47.5112</td>\n",
       "      <td>-122.257</td>\n",
       "      <td>1340.0</td>\n",
       "      <td>5650.0</td>\n",
       "    </tr>\n",
       "    <tr>\n",
       "      <th>1</th>\n",
       "      <td>3.0</td>\n",
       "      <td>2.25</td>\n",
       "      <td>2570.0</td>\n",
       "      <td>7242.0</td>\n",
       "      <td>2.0</td>\n",
       "      <td>0.0</td>\n",
       "      <td>0.0</td>\n",
       "      <td>3.0</td>\n",
       "      <td>7.0</td>\n",
       "      <td>2170.0</td>\n",
       "      <td>400.0</td>\n",
       "      <td>1951.0</td>\n",
       "      <td>1991.0</td>\n",
       "      <td>98125.0</td>\n",
       "      <td>47.7210</td>\n",
       "      <td>-122.319</td>\n",
       "      <td>1690.0</td>\n",
       "      <td>7639.0</td>\n",
       "    </tr>\n",
       "    <tr>\n",
       "      <th>2</th>\n",
       "      <td>2.0</td>\n",
       "      <td>1.00</td>\n",
       "      <td>770.0</td>\n",
       "      <td>10000.0</td>\n",
       "      <td>1.0</td>\n",
       "      <td>0.0</td>\n",
       "      <td>0.0</td>\n",
       "      <td>3.0</td>\n",
       "      <td>6.0</td>\n",
       "      <td>770.0</td>\n",
       "      <td>0.0</td>\n",
       "      <td>1933.0</td>\n",
       "      <td>0.0</td>\n",
       "      <td>98028.0</td>\n",
       "      <td>47.7379</td>\n",
       "      <td>-122.233</td>\n",
       "      <td>2720.0</td>\n",
       "      <td>8062.0</td>\n",
       "    </tr>\n",
       "    <tr>\n",
       "      <th>3</th>\n",
       "      <td>4.0</td>\n",
       "      <td>3.00</td>\n",
       "      <td>1960.0</td>\n",
       "      <td>5000.0</td>\n",
       "      <td>1.0</td>\n",
       "      <td>0.0</td>\n",
       "      <td>0.0</td>\n",
       "      <td>5.0</td>\n",
       "      <td>7.0</td>\n",
       "      <td>1050.0</td>\n",
       "      <td>910.0</td>\n",
       "      <td>1965.0</td>\n",
       "      <td>0.0</td>\n",
       "      <td>98136.0</td>\n",
       "      <td>47.5208</td>\n",
       "      <td>-122.393</td>\n",
       "      <td>1360.0</td>\n",
       "      <td>5000.0</td>\n",
       "    </tr>\n",
       "    <tr>\n",
       "      <th>4</th>\n",
       "      <td>3.0</td>\n",
       "      <td>2.00</td>\n",
       "      <td>1680.0</td>\n",
       "      <td>8080.0</td>\n",
       "      <td>1.0</td>\n",
       "      <td>0.0</td>\n",
       "      <td>0.0</td>\n",
       "      <td>3.0</td>\n",
       "      <td>8.0</td>\n",
       "      <td>1680.0</td>\n",
       "      <td>0.0</td>\n",
       "      <td>1987.0</td>\n",
       "      <td>0.0</td>\n",
       "      <td>98074.0</td>\n",
       "      <td>47.6168</td>\n",
       "      <td>-122.045</td>\n",
       "      <td>1800.0</td>\n",
       "      <td>7503.0</td>\n",
       "    </tr>\n",
       "    <tr>\n",
       "      <th>...</th>\n",
       "      <td>...</td>\n",
       "      <td>...</td>\n",
       "      <td>...</td>\n",
       "      <td>...</td>\n",
       "      <td>...</td>\n",
       "      <td>...</td>\n",
       "      <td>...</td>\n",
       "      <td>...</td>\n",
       "      <td>...</td>\n",
       "      <td>...</td>\n",
       "      <td>...</td>\n",
       "      <td>...</td>\n",
       "      <td>...</td>\n",
       "      <td>...</td>\n",
       "      <td>...</td>\n",
       "      <td>...</td>\n",
       "      <td>...</td>\n",
       "      <td>...</td>\n",
       "    </tr>\n",
       "    <tr>\n",
       "      <th>21608</th>\n",
       "      <td>3.0</td>\n",
       "      <td>2.50</td>\n",
       "      <td>1530.0</td>\n",
       "      <td>1131.0</td>\n",
       "      <td>3.0</td>\n",
       "      <td>0.0</td>\n",
       "      <td>0.0</td>\n",
       "      <td>3.0</td>\n",
       "      <td>8.0</td>\n",
       "      <td>1530.0</td>\n",
       "      <td>0.0</td>\n",
       "      <td>2009.0</td>\n",
       "      <td>0.0</td>\n",
       "      <td>98103.0</td>\n",
       "      <td>47.6993</td>\n",
       "      <td>-122.346</td>\n",
       "      <td>1530.0</td>\n",
       "      <td>1509.0</td>\n",
       "    </tr>\n",
       "    <tr>\n",
       "      <th>21609</th>\n",
       "      <td>4.0</td>\n",
       "      <td>2.50</td>\n",
       "      <td>2310.0</td>\n",
       "      <td>5813.0</td>\n",
       "      <td>2.0</td>\n",
       "      <td>0.0</td>\n",
       "      <td>0.0</td>\n",
       "      <td>3.0</td>\n",
       "      <td>8.0</td>\n",
       "      <td>2310.0</td>\n",
       "      <td>0.0</td>\n",
       "      <td>2014.0</td>\n",
       "      <td>0.0</td>\n",
       "      <td>98146.0</td>\n",
       "      <td>47.5107</td>\n",
       "      <td>-122.362</td>\n",
       "      <td>1830.0</td>\n",
       "      <td>7200.0</td>\n",
       "    </tr>\n",
       "    <tr>\n",
       "      <th>21610</th>\n",
       "      <td>2.0</td>\n",
       "      <td>0.75</td>\n",
       "      <td>1020.0</td>\n",
       "      <td>1350.0</td>\n",
       "      <td>2.0</td>\n",
       "      <td>0.0</td>\n",
       "      <td>0.0</td>\n",
       "      <td>3.0</td>\n",
       "      <td>7.0</td>\n",
       "      <td>1020.0</td>\n",
       "      <td>0.0</td>\n",
       "      <td>2009.0</td>\n",
       "      <td>0.0</td>\n",
       "      <td>98144.0</td>\n",
       "      <td>47.5944</td>\n",
       "      <td>-122.299</td>\n",
       "      <td>1020.0</td>\n",
       "      <td>2007.0</td>\n",
       "    </tr>\n",
       "    <tr>\n",
       "      <th>21611</th>\n",
       "      <td>3.0</td>\n",
       "      <td>2.50</td>\n",
       "      <td>1600.0</td>\n",
       "      <td>2388.0</td>\n",
       "      <td>2.0</td>\n",
       "      <td>0.0</td>\n",
       "      <td>0.0</td>\n",
       "      <td>3.0</td>\n",
       "      <td>8.0</td>\n",
       "      <td>1600.0</td>\n",
       "      <td>0.0</td>\n",
       "      <td>2004.0</td>\n",
       "      <td>0.0</td>\n",
       "      <td>98027.0</td>\n",
       "      <td>47.5345</td>\n",
       "      <td>-122.069</td>\n",
       "      <td>1410.0</td>\n",
       "      <td>1287.0</td>\n",
       "    </tr>\n",
       "    <tr>\n",
       "      <th>21612</th>\n",
       "      <td>2.0</td>\n",
       "      <td>0.75</td>\n",
       "      <td>1020.0</td>\n",
       "      <td>1076.0</td>\n",
       "      <td>2.0</td>\n",
       "      <td>0.0</td>\n",
       "      <td>0.0</td>\n",
       "      <td>3.0</td>\n",
       "      <td>7.0</td>\n",
       "      <td>1020.0</td>\n",
       "      <td>0.0</td>\n",
       "      <td>2008.0</td>\n",
       "      <td>0.0</td>\n",
       "      <td>98144.0</td>\n",
       "      <td>47.5941</td>\n",
       "      <td>-122.299</td>\n",
       "      <td>1020.0</td>\n",
       "      <td>1357.0</td>\n",
       "    </tr>\n",
       "  </tbody>\n",
       "</table>\n",
       "<p>21613 rows × 18 columns</p>\n",
       "</div>"
      ],
      "text/plain": [
       "       bedrooms  bathrooms  sqft_living  sqft_lot  floors  waterfront  view  \\\n",
       "0           3.0       1.00       1180.0    5650.0     1.0         0.0   0.0   \n",
       "1           3.0       2.25       2570.0    7242.0     2.0         0.0   0.0   \n",
       "2           2.0       1.00        770.0   10000.0     1.0         0.0   0.0   \n",
       "3           4.0       3.00       1960.0    5000.0     1.0         0.0   0.0   \n",
       "4           3.0       2.00       1680.0    8080.0     1.0         0.0   0.0   \n",
       "...         ...        ...          ...       ...     ...         ...   ...   \n",
       "21608       3.0       2.50       1530.0    1131.0     3.0         0.0   0.0   \n",
       "21609       4.0       2.50       2310.0    5813.0     2.0         0.0   0.0   \n",
       "21610       2.0       0.75       1020.0    1350.0     2.0         0.0   0.0   \n",
       "21611       3.0       2.50       1600.0    2388.0     2.0         0.0   0.0   \n",
       "21612       2.0       0.75       1020.0    1076.0     2.0         0.0   0.0   \n",
       "\n",
       "       condition  grade  sqft_above  sqft_basement  yr_built  yr_renovated  \\\n",
       "0            3.0    7.0      1180.0            0.0    1955.0           0.0   \n",
       "1            3.0    7.0      2170.0          400.0    1951.0        1991.0   \n",
       "2            3.0    6.0       770.0            0.0    1933.0           0.0   \n",
       "3            5.0    7.0      1050.0          910.0    1965.0           0.0   \n",
       "4            3.0    8.0      1680.0            0.0    1987.0           0.0   \n",
       "...          ...    ...         ...            ...       ...           ...   \n",
       "21608        3.0    8.0      1530.0            0.0    2009.0           0.0   \n",
       "21609        3.0    8.0      2310.0            0.0    2014.0           0.0   \n",
       "21610        3.0    7.0      1020.0            0.0    2009.0           0.0   \n",
       "21611        3.0    8.0      1600.0            0.0    2004.0           0.0   \n",
       "21612        3.0    7.0      1020.0            0.0    2008.0           0.0   \n",
       "\n",
       "       zipcode      lat     long  sqft_living15  sqft_lot15  \n",
       "0      98178.0  47.5112 -122.257         1340.0      5650.0  \n",
       "1      98125.0  47.7210 -122.319         1690.0      7639.0  \n",
       "2      98028.0  47.7379 -122.233         2720.0      8062.0  \n",
       "3      98136.0  47.5208 -122.393         1360.0      5000.0  \n",
       "4      98074.0  47.6168 -122.045         1800.0      7503.0  \n",
       "...        ...      ...      ...            ...         ...  \n",
       "21608  98103.0  47.6993 -122.346         1530.0      1509.0  \n",
       "21609  98146.0  47.5107 -122.362         1830.0      7200.0  \n",
       "21610  98144.0  47.5944 -122.299         1020.0      2007.0  \n",
       "21611  98027.0  47.5345 -122.069         1410.0      1287.0  \n",
       "21612  98144.0  47.5941 -122.299         1020.0      1357.0  \n",
       "\n",
       "[21613 rows x 18 columns]"
      ]
     },
     "execution_count": 54,
     "metadata": {},
     "output_type": "execute_result"
    }
   ],
   "source": [
    "data.frame.drop(['date', 'price'], axis=1)"
   ]
  },
  {
   "cell_type": "code",
   "execution_count": 60,
   "metadata": {
    "slideshow": {
     "slide_type": "subslide"
    }
   },
   "outputs": [],
   "source": [
    "target = data.frame.price\n",
    "df = data.frame.drop(['date', 'price', 'zipcode'], axis=1)"
   ]
  },
  {
   "cell_type": "code",
   "execution_count": 93,
   "metadata": {
    "slideshow": {
     "slide_type": "subslide"
    }
   },
   "outputs": [
    {
     "data": {
      "text/plain": [
       "(21613, 17)"
      ]
     },
     "execution_count": 93,
     "metadata": {},
     "output_type": "execute_result"
    }
   ],
   "source": [
    "X = df\n",
    "y = target\n",
    "X_train, X_test, y_train, y_test = train_test_split(X, y, random_state=0)\n",
    "\n",
    "X.shape"
   ]
  },
  {
   "cell_type": "code",
   "execution_count": 100,
   "metadata": {
    "slideshow": {
     "slide_type": "subslide"
    }
   },
   "outputs": [
    {
     "data": {
      "image/png": "[encoded data removed]",
      "text/plain": [
       "<Figure size 1440x720 with 18 Axes>"
      ]
     },
     "metadata": {
      "needs_background": "light"
     },
     "output_type": "display_data"
    }
   ],
   "source": [
    "import matplotlib.pyplot as plt\n",
    "%matplotlib inline\n",
    "# FuncFormatter can be used as a decorator\n",
    "import matplotlib.ticker as ticker\n",
    "\n",
    "@ticker.FuncFormatter\n",
    "def million_formatter(x, pos):\n",
    "    return f\"${int(x / 10 ** 6)}M\"\n",
    "\n",
    "\n",
    "fig, axes = plt.subplots(3, 6, figsize=(20, 10))\n",
    "for i, ax in enumerate(axes.ravel()):\n",
    "    if i > 16:\n",
    "        ax.set_visible(False)\n",
    "        continue\n",
    "    X_col = X.iloc[:, i]\n",
    "    #X_col = X_global_scaled.iloc[:, i]\n",
    "    ax.yaxis.set_major_formatter(million_formatter)\n",
    "    # set ticks to disregard outliers\n",
    "    ax.set_ylim(0, 4000000)\n",
    "    if X_col.nunique() > 10:\n",
    "        ax.set_xlim(X_col.quantile(q=.0001), X_col.quantile(q=.9999))\n",
    "    ax.scatter(X_col, y, alpha=.1, s=.1)\n",
    "    ax.set_title(\"{}: {}\".format(i, X.columns[i]))\n",
    "    ax.set_ylabel(\"Price\")\n",
    "plt.tight_layout()\n"
   ]
  },
  {
   "cell_type": "markdown",
   "metadata": {
    "slideshow": {
     "slide_type": "subslide"
    }
   },
   "source": [
    "\n",
    "\n",
    "# Scaling\n",
    "\n"
   ]
  },
  {
   "cell_type": "code",
   "execution_count": 63,
   "metadata": {
    "slideshow": {
     "slide_type": "subslide"
    }
   },
   "outputs": [
    {
     "data": {
      "text/plain": [
       "<matplotlib.axes._subplots.AxesSubplot at 0x1a19d49e50>"
      ]
     },
     "execution_count": 63,
     "metadata": {},
     "output_type": "execute_result"
    },
    {
     "data": {
      "image/png": "[encoded data removed]",
      "text/plain": [
       "<Figure size 432x288 with 1 Axes>"
      ]
     },
     "metadata": {
      "needs_background": "light"
     },
     "output_type": "display_data"
    }
   ],
   "source": [
    "X.plot(kind='box', rot=90, logy=True)\n"
   ]
  },
  {
   "cell_type": "markdown",
   "metadata": {
    "slideshow": {
     "slide_type": "subslide"
    }
   },
   "source": [
    "\n",
    "# Scaling and Distances\n",
    "\n",
    "<center>\n",
    "<img src=\"images/knn_scaling.png\" style=\"width: 600px;\">\n",
    "</center>"
   ]
  },
  {
   "cell_type": "markdown",
   "metadata": {
    "slideshow": {
     "slide_type": "subslide"
    }
   },
   "source": [
    "\n",
    "# Scaling and Distances\n",
    "\n",
    "<center>\n",
    "<img src=\"images/knn_scaling2.png\" style=\"width: 600px;\">\n",
    "</center>\n"
   ]
  },
  {
   "cell_type": "markdown",
   "metadata": {
    "slideshow": {
     "slide_type": "subslide"
    }
   },
   "source": [
    "\n",
    "\n",
    "# Ways to Scale Data\n",
    "<br>\n",
    "<center>\n",
    "<img src=\"images/scaler_comparison_scatter.png\" style=\"width: 600px;\">\n",
    "</center>\n"
   ]
  },
  {
   "cell_type": "markdown",
   "metadata": {
    "slideshow": {
     "slide_type": "subslide"
    }
   },
   "source": [
    "\n",
    "\n",
    "# Sparse Data\n",
    "\n",
    "- Data with many zeros – only store non-zero entries.\n",
    "- Subtracting anything will make the data “dense” (no more zeros) and blow the RAM.\n",
    "- Only scale, don’t center (use MaxAbsScaler)\n"
   ]
  },
  {
   "cell_type": "markdown",
   "metadata": {
    "slideshow": {
     "slide_type": "slide"
    }
   },
   "source": [
    "# Standard Scaler Example\n"
   ]
  },
  {
   "cell_type": "code",
   "execution_count": 75,
   "metadata": {
    "slideshow": {
     "slide_type": "subslide"
    }
   },
   "outputs": [
    {
     "data": {
      "text/plain": [
       "0.6841700239383453"
      ]
     },
     "execution_count": 75,
     "metadata": {},
     "output_type": "execute_result"
    }
   ],
   "source": [
    "from sklearn.linear_model import Ridge\n",
    "from sklearn.preprocessing import StandardScaler\n",
    "# Back to King Country house prices\n",
    "X_train, X_test, y_train, y_test = train_test_split(\n",
    "    X, y, random_state=0)\n",
    "\n",
    "scaler = StandardScaler()\n",
    "scaler.fit(X_train)\n",
    "X_train_scaled = scaler.transform(X_train)\n",
    "\n",
    "ridge = Ridge().fit(X_train_scaled, y_train)\n",
    "X_test_scaled = scaler.transform(X_test)\n",
    "ridge.score(X_test_scaled, y_test)\n"
   ]
  },
  {
   "cell_type": "markdown",
   "metadata": {
    "slideshow": {
     "slide_type": "subslide"
    }
   },
   "source": [
    "\n",
    "\n",
    "<center>\n",
    "<img src=\"images/no_separate_scaling.png\" style=\"width: 600px;\">\n",
    "</center>\n"
   ]
  },
  {
   "cell_type": "markdown",
   "metadata": {
    "slideshow": {
     "slide_type": "subslide"
    }
   },
   "source": [
    "\n",
    "\n",
    "# Sckit-Learn API Summary\n",
    "\n",
    "<center>\n",
    "<img src=\"images/api-table.png\" style=\"width: 600px;\">\n",
    "</center>\n",
    "\n",
    "Efficient shortcuts:\n",
    "```python\n",
    "est.fit_transform(X) == est.fit(X).transform(X)  # mostly\n",
    "est.fit_predict(X) == est.fit(X).predict(X)   # mostly\n",
    "```\n"
   ]
  },
  {
   "cell_type": "code",
   "execution_count": 80,
   "metadata": {
    "slideshow": {
     "slide_type": "subslide"
    }
   },
   "outputs": [
    {
     "data": {
      "text/plain": [
       "(0.6939784646628191, 0.027415740215637776)"
      ]
     },
     "execution_count": 80,
     "metadata": {},
     "output_type": "execute_result"
    }
   ],
   "source": [
    "from sklearn.model_selection import cross_val_score\n",
    "from sklearn.linear_model import RidgeCV\n",
    "from sklearn.linear_model import LinearRegression\n",
    "import numpy as np\n",
    "\n",
    "scores = cross_val_score(LinearRegression(), X_train, y_train, cv=10)\n",
    "np.mean(scores), np.std(scores)\n",
    "\n"
   ]
  },
  {
   "cell_type": "code",
   "execution_count": 81,
   "metadata": {
    "slideshow": {
     "slide_type": "subslide"
    }
   },
   "outputs": [
    {
     "data": {
      "text/plain": [
       "(0.6939307101672813, 0.02744799870844714)"
      ]
     },
     "execution_count": 81,
     "metadata": {},
     "output_type": "execute_result"
    }
   ],
   "source": [
    "scores = cross_val_score(LinearRegression(), X_train_scaled, y_train, cv=10)\n",
    "np.mean(scores), np.std(scores)"
   ]
  },
  {
   "cell_type": "code",
   "execution_count": 78,
   "metadata": {
    "slideshow": {
     "slide_type": "subslide"
    }
   },
   "outputs": [
    {
     "data": {
      "text/plain": [
       "(0.49989224912480734, 0.03875952730248188)"
      ]
     },
     "execution_count": 78,
     "metadata": {},
     "output_type": "execute_result"
    }
   ],
   "source": [
    "from sklearn.neighbors import KNeighborsRegressor\n",
    "scores = cross_val_score(KNeighborsRegressor(), X_train, y_train, cv=10)\n",
    "np.mean(scores), np.std(scores)"
   ]
  },
  {
   "cell_type": "code",
   "execution_count": 79,
   "metadata": {
    "slideshow": {
     "slide_type": "subslide"
    }
   },
   "outputs": [
    {
     "data": {
      "text/plain": [
       "(0.7861532506447338, 0.02939940165041626)"
      ]
     },
     "execution_count": 79,
     "metadata": {},
     "output_type": "execute_result"
    }
   ],
   "source": [
    "from sklearn.neighbors import KNeighborsRegressor\n",
    "scores = cross_val_score(KNeighborsRegressor(), X_train_scaled, y_train, cv=10)\n",
    "np.mean(scores), np.std(scores)"
   ]
  },
  {
   "cell_type": "markdown",
   "metadata": {
    "slideshow": {
     "slide_type": "subslide"
    }
   },
   "source": [
    "\n",
    "\n",
    "# A note on preprocessing\n",
    "# (and pipelines)\n"
   ]
  },
  {
   "cell_type": "markdown",
   "metadata": {
    "slideshow": {
     "slide_type": "subslide"
    }
   },
   "source": [
    "# A common errror"
   ]
  },
  {
   "cell_type": "code",
   "execution_count": 82,
   "metadata": {
    "slideshow": {
     "slide_type": "subslide"
    }
   },
   "outputs": [
    {
     "name": "stdout",
     "output_type": "stream",
     "text": [
      "(100, 10000)\n"
     ]
    }
   ],
   "source": [
    "rnd = np.random.RandomState(seed=0)\n",
    "X = rnd.normal(size=(100, 10000))\n",
    "X_test = rnd.normal(size=(100, 10000))\n",
    "y = rnd.normal(size=(100,))\n",
    "y_test = rnd.normal(size=(100,))\n",
    "\n",
    "print(X.shape)"
   ]
  },
  {
   "cell_type": "code",
   "execution_count": 83,
   "metadata": {
    "slideshow": {
     "slide_type": "subslide"
    }
   },
   "outputs": [
    {
     "name": "stdout",
     "output_type": "stream",
     "text": [
      "(100, 500)\n"
     ]
    }
   ],
   "source": [
    "# select most informative 5% of features\n",
    "from sklearn.feature_selection import SelectPercentile, f_regression\n",
    "select = SelectPercentile(score_func=f_regression, percentile=5)\n",
    "select.fit(X, y)\n",
    "X_selected = select.transform(X)\n",
    "print(X_selected.shape)\n"
   ]
  },
  {
   "cell_type": "code",
   "execution_count": 84,
   "metadata": {
    "slideshow": {
     "slide_type": "subslide"
    }
   },
   "outputs": [
    {
     "data": {
      "text/plain": [
       "0.915748217091093"
      ]
     },
     "execution_count": 84,
     "metadata": {},
     "output_type": "execute_result"
    }
   ],
   "source": [
    "from sklearn.model_selection import cross_val_score\n",
    "from sklearn.linear_model import Ridge\n",
    "np.mean(cross_val_score(Ridge(), X_selected, y))\n"
   ]
  },
  {
   "cell_type": "code",
   "execution_count": 85,
   "metadata": {
    "slideshow": {
     "slide_type": "subslide"
    }
   },
   "outputs": [
    {
     "data": {
      "text/plain": [
       "-0.041340744506775495"
      ]
     },
     "execution_count": 85,
     "metadata": {},
     "output_type": "execute_result"
    }
   ],
   "source": [
    "ridge = Ridge().fit(X_selected, y)\n",
    "X_test_selected = select.transform(X_test)\n",
    "ridge.score(X_test_selected, y_test)\n"
   ]
  },
  {
   "cell_type": "markdown",
   "metadata": {
    "slideshow": {
     "slide_type": "notes"
    }
   },
   "source": [
    "why so bad - any idea?"
   ]
  },
  {
   "cell_type": "markdown",
   "metadata": {
    "slideshow": {
     "slide_type": "subslide"
    }
   },
   "source": [
    "\n",
    "\n",
    "# Leaking Information\n",
    "\n",
    "```python\n",
    "# BAD!\n",
    "select.fit(X, y)  # includes the cv test parts!\n",
    "X_sel = select.transform(X)\n",
    "scores = []\n",
    "for train, test in cv.split(X, y):\n",
    "    ridge = Ridge().fit(X_sel[train], y[train])\n",
    "    score = ridge.score(X_sel[test], y[test])\n",
    "    scores.append(score)\n",
    "```\n",
    "\n",
    "\n"
   ]
  },
  {
   "cell_type": "markdown",
   "metadata": {
    "slideshow": {
     "slide_type": "subslide"
    }
   },
   "source": [
    "```python\n",
    "# GOOD!\n",
    "scores = []\n",
    "for train, test in cv.split(X, y):\n",
    "    select.fit(X[train], y[train])\n",
    "    X_sel_train = select.transform(X[train])\n",
    "    ridge = Ridge().fit(X_sel_train, y[train])\n",
    "    X_sel_test = select.transform(X[test])\n",
    "    score = ridge.score(X_sel_test, y[test])\n",
    "    scores.append(score)\n",
    "```\n",
    "\n",
    "\n",
    "Need to include preprocessing in cross-validation !\n",
    "\n"
   ]
  },
  {
   "cell_type": "code",
   "execution_count": 86,
   "metadata": {
    "slideshow": {
     "slide_type": "subslide"
    }
   },
   "outputs": [
    {
     "data": {
      "text/plain": [
       "0.6841700239383453"
      ]
     },
     "execution_count": 86,
     "metadata": {},
     "output_type": "execute_result"
    }
   ],
   "source": [
    "# Housing data example\n",
    "from sklearn.linear_model import Ridge\n",
    "X, y = df, target\n",
    "\n",
    "X_train, X_test, y_train, y_test = train_test_split(\n",
    "    X, y, random_state=0)\n",
    "\n",
    "scaler = StandardScaler()\n",
    "scaler.fit(X_train)\n",
    "X_train_scaled = scaler.transform(X_train)\n",
    "ridge = Ridge().fit(X_train_scaled, y_train)\n",
    "\n",
    "X_test_scaled = sc aler.transform(X_test)\n",
    "ridge.score(X_test_scaled, y_test)"
   ]
  },
  {
   "cell_type": "code",
   "execution_count": 87,
   "metadata": {
    "slideshow": {
     "slide_type": "slide"
    }
   },
   "outputs": [
    {
     "data": {
      "text/plain": [
       "0.6841700239383453"
      ]
     },
     "execution_count": 87,
     "metadata": {},
     "output_type": "execute_result"
    }
   ],
   "source": [
    "from sklearn.pipeline import make_pipeline\n",
    "pipe = make_pipeline(StandardScaler(), Ridge())\n",
    "pipe.fit(X_train, y_train)\n",
    "pipe.score(X_test, y_test)"
   ]
  },
  {
   "cell_type": "markdown",
   "metadata": {
    "slideshow": {
     "slide_type": "subslide"
    }
   },
   "source": [
    "<center>\n",
    "<img src=\"images/pipeline.png\" style=\"width: 600px;\">\n",
    "</center>\n",
    "\n"
   ]
  },
  {
   "cell_type": "markdown",
   "metadata": {
    "slideshow": {
     "slide_type": "subslide"
    }
   },
   "source": [
    "\n",
    "# Undoing our feature selection mistake\n",
    "\n",
    "\n",
    "```python\n",
    "# BAD!\n",
    "select.fit(X, y)  # includes the cv test parts!\n",
    "X_sel = select.transform(X)\n",
    "scores = []\n",
    "for train, test in cv.split(X, y):\n",
    "    ridge = Ridge().fit(X_sel[train], y[train])\n",
    "    score = ridge.score(X_sel[test], y[test])\n",
    "    scores.append(score)\n",
    "```\n",
    "Same as:\n",
    "\n",
    "```python\n",
    "select.fit(X, y)\n",
    "X_selected = select.transform(X, y)\n",
    "np.mean(cross_val_score(Ridge(), X_selected, y))\n",
    "```\n",
    "\n",
    "```\n",
    "0.90\n",
    "```\n"
   ]
  },
  {
   "cell_type": "markdown",
   "metadata": {
    "slideshow": {
     "slide_type": "subslide"
    }
   },
   "source": [
    "\n",
    "```python\n",
    "# GOOD!\n",
    "scores = []\n",
    "for train, test in cv.split(X, y):\n",
    "    select.fit(X[train], y[train])\n",
    "    X_sel_train = select.transform(X[train])\n",
    "    ridge = Ridge().fit(X_sel_train, y[train])\n",
    "    X_sel_test = select.transform(X[test])\n",
    "    score = ridge.score(X_sel_test, y[test])\n",
    "    scores.append(score)\n",
    "```\n",
    "Same as:\n",
    "\n",
    "```python\n",
    "pipe = make_pipeline(select, Ridge())\n",
    "np.mean(cross_val_score(pipe, X, y))\n",
    "```\n",
    "```\n",
    "-0.079\n",
    "```\n"
   ]
  },
  {
   "cell_type": "markdown",
   "metadata": {
    "slideshow": {
     "slide_type": "slide"
    }
   },
   "source": [
    "\n",
    "# Naming Steps"
   ]
  },
  {
   "cell_type": "code",
   "execution_count": 88,
   "metadata": {
    "slideshow": {
     "slide_type": "subslide"
    }
   },
   "outputs": [
    {
     "name": "stdout",
     "output_type": "stream",
     "text": [
      "[('standardscaler', StandardScaler()), ('kneighborsregressor', KNeighborsRegressor())]\n"
     ]
    }
   ],
   "source": [
    "from sklearn.pipeline import make_pipeline\n",
    "knn_pipe = make_pipeline(StandardScaler(), KNeighborsRegressor())\n",
    "print(knn_pipe.steps)"
   ]
  },
  {
   "cell_type": "code",
   "execution_count": 89,
   "metadata": {
    "slideshow": {
     "slide_type": "subslide"
    }
   },
   "outputs": [
    {
     "name": "stdout",
     "output_type": "stream",
     "text": [
      "[('scaler', StandardScaler()), ('regressor', KNeighborsRegressor())]\n"
     ]
    }
   ],
   "source": [
    "from sklearn.pipeline import Pipeline\n",
    "pipe = Pipeline([(\"scaler\", StandardScaler()),\n",
    "                 (\"regressor\", KNeighborsRegressor())])\n",
    "print(pipe.steps)"
   ]
  },
  {
   "cell_type": "markdown",
   "metadata": {
    "slideshow": {
     "slide_type": "slide"
    }
   },
   "source": [
    "\n",
    "# Pipeline and GridSearchCV"
   ]
  },
  {
   "cell_type": "code",
   "execution_count": 90,
   "metadata": {
    "slideshow": {
     "slide_type": "subslide"
    }
   },
   "outputs": [
    {
     "name": "stdout",
     "output_type": "stream",
     "text": [
      "{'kneighborsregressor__n_neighbors': 8}\n",
      "0.7784403043016773\n"
     ]
    }
   ],
   "source": [
    "from sklearn.model_selection import GridSearchCV\n",
    "\n",
    "knn_pipe = make_pipeline(StandardScaler(), KNeighborsRegressor())\n",
    "param_grid = {'kneighborsregressor__n_neighbors': range(1, 10)}\n",
    "grid = GridSearchCV(knn_pipe, param_grid, cv=10)\n",
    "grid.fit(X_train, y_train)\n",
    "print(grid.best_params_)\n",
    "print(grid.score(X_test, y_test))\n"
   ]
  },
  {
   "cell_type": "markdown",
   "metadata": {
    "slideshow": {
     "slide_type": "slide"
    }
   },
   "source": [
    "# Going wild with Pipelines\n"
   ]
  },
  {
   "cell_type": "code",
   "execution_count": 91,
   "metadata": {
    "slideshow": {
     "slide_type": "subslide"
    }
   },
   "outputs": [
    {
     "data": {
      "text/plain": [
       "GridSearchCV(estimator=Pipeline(steps=[('standardscaler', StandardScaler()),\n",
       "                                       ('polynomialfeatures',\n",
       "                                        PolynomialFeatures()),\n",
       "                                       ('ridge', Ridge())]),\n",
       "             n_jobs=-1,\n",
       "             param_grid={'polynomialfeatures__degree': [1, 2, 3],\n",
       "                         'ridge__alpha': [0.001, 0.01, 0.1, 1, 10, 100]},\n",
       "             return_train_score=True)"
      ]
     },
     "execution_count": 91,
     "metadata": {},
     "output_type": "execute_result"
    }
   ],
   "source": [
    "from sklearn.datasets import load_diabetes\n",
    "diabetes = load_diabetes()\n",
    "X_train, X_test, y_train, y_test = train_test_split(\n",
    "    diabetes.data, diabetes.target, random_state=0)\n",
    "\n",
    "from sklearn.preprocessing import PolynomialFeatures\n",
    "pipe = make_pipeline(\n",
    "    StandardScaler(),\n",
    "    PolynomialFeatures(),\n",
    "    Ridge())\n",
    "\n",
    "param_grid = {'polynomialfeatures__degree': [1, 2, 3],\n",
    "              'ridge__alpha': [0.001, 0.01, 0.1, 1, 10, 100]}\n",
    "grid = GridSearchCV(pipe, param_grid=param_grid,\n",
    "                    n_jobs=-1, return_train_score=True)\n",
    "grid.fit(X_train, y_train)"
   ]
  },
  {
   "cell_type": "markdown",
   "metadata": {
    "slideshow": {
     "slide_type": "subslide"
    }
   },
   "source": [
    "# Going wilder with Pipelines"
   ]
  },
  {
   "cell_type": "code",
   "execution_count": 92,
   "metadata": {
    "slideshow": {
     "slide_type": "subslide"
    }
   },
   "outputs": [
    {
     "data": {
      "text/plain": [
       "0.35500225702888577"
      ]
     },
     "execution_count": 92,
     "metadata": {},
     "output_type": "execute_result"
    }
   ],
   "source": [
    "from sklearn.preprocessing import MinMaxScaler\n",
    "from sklearn.linear_model import Lasso\n",
    "\n",
    "pipe = Pipeline([('scaler', StandardScaler()),\n",
    "                 ('regressor', Ridge())])\n",
    "\n",
    "param_grid = {'scaler': [StandardScaler(), MinMaxScaler(),\n",
    "                         'passthrough'],\n",
    "              'regressor': [Ridge(), Lasso()],\n",
    "              'regressor__alpha': np.logspace(-3, 3, 7)}\n",
    "\n",
    "\n",
    "grid = GridSearchCV(pipe, param_grid)\n",
    "grid.fit(X_train, y_train)\n",
    "grid.score(X_test, y_test)"
   ]
  },
  {
   "cell_type": "markdown",
   "metadata": {
    "slideshow": {
     "slide_type": "slide"
    }
   },
   "source": [
    "# Going wildest with Pipelines"
   ]
  },
  {
   "cell_type": "code",
   "execution_count": null,
   "metadata": {
    "slideshow": {
     "slide_type": "subslide"
    }
   },
   "outputs": [],
   "source": [
    "from sklearn.tree import DecisionTreeRegressor\n",
    "pipe = Pipeline([('scaler', StandardScaler()),\n",
    "                 ('regressor', Ridge())])\n",
    "\n",
    "# check out searchgrid for more convenience\n",
    "param_grid = [{'regressor': [DecisionTreeRegressor()],\n",
    "               'regressor__max_depth': [2, 3, 4],\n",
    "               'scaler': ['passthrough']},\n",
    "              {'regressor': [Ridge()],\n",
    "               'regressor__alpha': [0.1, 1],\n",
    "               'scaler': [StandardScaler(), MinMaxScaler(),\n",
    "                          'passthrough']}\n",
    "             ]\n",
    "grid = GridSearchCV(pipe, param_grid)\n",
    "grid.fit(X_train, y_train)\n",
    "grid.score(X_test, y_test)"
   ]
  },
  {
   "cell_type": "markdown",
   "metadata": {
    "slideshow": {
     "slide_type": "subslide"
    }
   },
   "source": [
    "\n",
    "# Categorical Variables\n",
    "\n"
   ]
  },
  {
   "cell_type": "code",
   "execution_count": 102,
   "metadata": {
    "slideshow": {
     "slide_type": "subslide"
    }
   },
   "outputs": [
    {
     "data": {
      "text/html": [
       "<div>\n",
       "<style scoped>\n",
       "    .dataframe tbody tr th:only-of-type {\n",
       "        vertical-align: middle;\n",
       "    }\n",
       "\n",
       "    .dataframe tbody tr th {\n",
       "        vertical-align: top;\n",
       "    }\n",
       "\n",
       "    .dataframe thead th {\n",
       "        text-align: right;\n",
       "    }\n",
       "</style>\n",
       "<table border=\"1\" class=\"dataframe\">\n",
       "  <thead>\n",
       "    <tr style=\"text-align: right;\">\n",
       "      <th></th>\n",
       "      <th>boro</th>\n",
       "      <th>salary</th>\n",
       "      <th>vegan</th>\n",
       "    </tr>\n",
       "  </thead>\n",
       "  <tbody>\n",
       "    <tr>\n",
       "      <th>0</th>\n",
       "      <td>Manhattan</td>\n",
       "      <td>103</td>\n",
       "      <td>No</td>\n",
       "    </tr>\n",
       "    <tr>\n",
       "      <th>1</th>\n",
       "      <td>Queens</td>\n",
       "      <td>89</td>\n",
       "      <td>No</td>\n",
       "    </tr>\n",
       "    <tr>\n",
       "      <th>2</th>\n",
       "      <td>Manhattan</td>\n",
       "      <td>142</td>\n",
       "      <td>No</td>\n",
       "    </tr>\n",
       "    <tr>\n",
       "      <th>3</th>\n",
       "      <td>Brooklyn</td>\n",
       "      <td>54</td>\n",
       "      <td>Yes</td>\n",
       "    </tr>\n",
       "    <tr>\n",
       "      <th>4</th>\n",
       "      <td>Brooklyn</td>\n",
       "      <td>63</td>\n",
       "      <td>Yes</td>\n",
       "    </tr>\n",
       "    <tr>\n",
       "      <th>5</th>\n",
       "      <td>Bronx</td>\n",
       "      <td>219</td>\n",
       "      <td>No</td>\n",
       "    </tr>\n",
       "  </tbody>\n",
       "</table>\n",
       "</div>"
      ],
      "text/plain": [
       "        boro  salary vegan\n",
       "0  Manhattan     103    No\n",
       "1     Queens      89    No\n",
       "2  Manhattan     142    No\n",
       "3   Brooklyn      54   Yes\n",
       "4   Brooklyn      63   Yes\n",
       "5      Bronx     219    No"
      ]
     },
     "execution_count": 102,
     "metadata": {},
     "output_type": "execute_result"
    }
   ],
   "source": [
    "import pandas as pd\n",
    "df = pd.DataFrame({'boro': ['Manhattan', 'Queens', 'Manhattan', 'Brooklyn', 'Brooklyn', 'Bronx'],\n",
    "                   'salary': [103, 89, 142, 54, 63, 219],\n",
    "                   'vegan': ['No', 'No','No','Yes', 'Yes', 'No']})\n",
    "df"
   ]
  },
  {
   "cell_type": "markdown",
   "metadata": {
    "slideshow": {
     "slide_type": "slide"
    }
   },
   "source": [
    "# Ordinal encoding"
   ]
  },
  {
   "cell_type": "code",
   "execution_count": 104,
   "metadata": {
    "slideshow": {
     "slide_type": "subslide"
    }
   },
   "outputs": [
    {
     "data": {
      "text/html": [
       "<div>\n",
       "<style scoped>\n",
       "    .dataframe tbody tr th:only-of-type {\n",
       "        vertical-align: middle;\n",
       "    }\n",
       "\n",
       "    .dataframe tbody tr th {\n",
       "        vertical-align: top;\n",
       "    }\n",
       "\n",
       "    .dataframe thead th {\n",
       "        text-align: right;\n",
       "    }\n",
       "</style>\n",
       "<table border=\"1\" class=\"dataframe\">\n",
       "  <thead>\n",
       "    <tr style=\"text-align: right;\">\n",
       "      <th></th>\n",
       "      <th>boro</th>\n",
       "      <th>boro_ordinal</th>\n",
       "      <th>vegan</th>\n",
       "      <th>salary</th>\n",
       "    </tr>\n",
       "  </thead>\n",
       "  <tbody>\n",
       "    <tr>\n",
       "      <th>0</th>\n",
       "      <td>Manhattan</td>\n",
       "      <td>2</td>\n",
       "      <td>No</td>\n",
       "      <td>103</td>\n",
       "    </tr>\n",
       "    <tr>\n",
       "      <th>1</th>\n",
       "      <td>Queens</td>\n",
       "      <td>3</td>\n",
       "      <td>No</td>\n",
       "      <td>89</td>\n",
       "    </tr>\n",
       "    <tr>\n",
       "      <th>2</th>\n",
       "      <td>Manhattan</td>\n",
       "      <td>2</td>\n",
       "      <td>No</td>\n",
       "      <td>142</td>\n",
       "    </tr>\n",
       "    <tr>\n",
       "      <th>3</th>\n",
       "      <td>Brooklyn</td>\n",
       "      <td>1</td>\n",
       "      <td>Yes</td>\n",
       "      <td>54</td>\n",
       "    </tr>\n",
       "    <tr>\n",
       "      <th>4</th>\n",
       "      <td>Brooklyn</td>\n",
       "      <td>1</td>\n",
       "      <td>Yes</td>\n",
       "      <td>63</td>\n",
       "    </tr>\n",
       "    <tr>\n",
       "      <th>5</th>\n",
       "      <td>Bronx</td>\n",
       "      <td>0</td>\n",
       "      <td>No</td>\n",
       "      <td>219</td>\n",
       "    </tr>\n",
       "  </tbody>\n",
       "</table>\n",
       "</div>"
      ],
      "text/plain": [
       "        boro  boro_ordinal vegan  salary\n",
       "0  Manhattan             2    No     103\n",
       "1     Queens             3    No      89\n",
       "2  Manhattan             2    No     142\n",
       "3   Brooklyn             1   Yes      54\n",
       "4   Brooklyn             1   Yes      63\n",
       "5      Bronx             0    No     219"
      ]
     },
     "execution_count": 104,
     "metadata": {},
     "output_type": "execute_result"
    }
   ],
   "source": [
    "df['boro_ordinal'] = df.boro.astype(\"category\").cat.codes\n",
    "# reorder columns so it looks nice\n",
    "df = df[['boro', 'boro_ordinal', 'vegan',\"salary\"]]\n",
    "\n",
    "df\n"
   ]
  },
  {
   "cell_type": "code",
   "execution_count": 105,
   "metadata": {
    "slideshow": {
     "slide_type": "subslide"
    }
   },
   "outputs": [
    {
     "data": {
      "text/plain": [
       "<matplotlib.axes._subplots.AxesSubplot at 0x1a2288f550>"
      ]
     },
     "execution_count": 105,
     "metadata": {},
     "output_type": "execute_result"
    },
    {
     "data": {
      "image/png": "[encoded data removed]",
      "text/plain": [
       "<Figure size 288x144 with 1 Axes>"
      ]
     },
     "metadata": {
      "needs_background": "light"
     },
     "output_type": "display_data"
    }
   ],
   "source": [
    "df_int = df.copy()\n",
    "df_int['vegan_code'] = df.vegan.astype(\"category\").cat.codes\n",
    "plt.figure(figsize=(4, 2))\n",
    "df_int.plot(x='boro_ordinal', y='vegan_code', kind='scatter', ax=plt.gca())\n"
   ]
  },
  {
   "cell_type": "markdown",
   "metadata": {
    "slideshow": {
     "slide_type": "subslide"
    }
   },
   "source": [
    "\n",
    "# Ordinal encoding\n",
    "\n",
    "<center>\n",
    "<img src=\"images/boro_ordinal_classification.png\" style=\"width: 600px;\">\n",
    "</center>\n"
   ]
  },
  {
   "cell_type": "markdown",
   "metadata": {
    "slideshow": {
     "slide_type": "subslide"
    }
   },
   "source": [
    "\n",
    "\n",
    "# One-Hot (Dummy) Encoding\n",
    "\n"
   ]
  },
  {
   "cell_type": "code",
   "execution_count": 106,
   "metadata": {
    "slideshow": {
     "slide_type": "subslide"
    }
   },
   "outputs": [
    {
     "data": {
      "text/html": [
       "<div>\n",
       "<style scoped>\n",
       "    .dataframe tbody tr th:only-of-type {\n",
       "        vertical-align: middle;\n",
       "    }\n",
       "\n",
       "    .dataframe tbody tr th {\n",
       "        vertical-align: top;\n",
       "    }\n",
       "\n",
       "    .dataframe thead th {\n",
       "        text-align: right;\n",
       "    }\n",
       "</style>\n",
       "<table border=\"1\" class=\"dataframe\">\n",
       "  <thead>\n",
       "    <tr style=\"text-align: right;\">\n",
       "      <th></th>\n",
       "      <th>boro</th>\n",
       "      <th>boro_ordinal</th>\n",
       "      <th>vegan</th>\n",
       "      <th>salary</th>\n",
       "    </tr>\n",
       "  </thead>\n",
       "  <tbody>\n",
       "    <tr>\n",
       "      <th>0</th>\n",
       "      <td>Manhattan</td>\n",
       "      <td>2</td>\n",
       "      <td>No</td>\n",
       "      <td>103</td>\n",
       "    </tr>\n",
       "    <tr>\n",
       "      <th>1</th>\n",
       "      <td>Queens</td>\n",
       "      <td>3</td>\n",
       "      <td>No</td>\n",
       "      <td>89</td>\n",
       "    </tr>\n",
       "    <tr>\n",
       "      <th>2</th>\n",
       "      <td>Manhattan</td>\n",
       "      <td>2</td>\n",
       "      <td>No</td>\n",
       "      <td>142</td>\n",
       "    </tr>\n",
       "    <tr>\n",
       "      <th>3</th>\n",
       "      <td>Brooklyn</td>\n",
       "      <td>1</td>\n",
       "      <td>Yes</td>\n",
       "      <td>54</td>\n",
       "    </tr>\n",
       "    <tr>\n",
       "      <th>4</th>\n",
       "      <td>Brooklyn</td>\n",
       "      <td>1</td>\n",
       "      <td>Yes</td>\n",
       "      <td>63</td>\n",
       "    </tr>\n",
       "    <tr>\n",
       "      <th>5</th>\n",
       "      <td>Bronx</td>\n",
       "      <td>0</td>\n",
       "      <td>No</td>\n",
       "      <td>219</td>\n",
       "    </tr>\n",
       "  </tbody>\n",
       "</table>\n",
       "</div>"
      ],
      "text/plain": [
       "        boro  boro_ordinal vegan  salary\n",
       "0  Manhattan             2    No     103\n",
       "1     Queens             3    No      89\n",
       "2  Manhattan             2    No     142\n",
       "3   Brooklyn             1   Yes      54\n",
       "4   Brooklyn             1   Yes      63\n",
       "5      Bronx             0    No     219"
      ]
     },
     "execution_count": 106,
     "metadata": {},
     "output_type": "execute_result"
    }
   ],
   "source": [
    "df"
   ]
  },
  {
   "cell_type": "code",
   "execution_count": 107,
   "metadata": {
    "slideshow": {
     "slide_type": "subslide"
    }
   },
   "outputs": [
    {
     "data": {
      "text/html": [
       "<div>\n",
       "<style scoped>\n",
       "    .dataframe tbody tr th:only-of-type {\n",
       "        vertical-align: middle;\n",
       "    }\n",
       "\n",
       "    .dataframe tbody tr th {\n",
       "        vertical-align: top;\n",
       "    }\n",
       "\n",
       "    .dataframe thead th {\n",
       "        text-align: right;\n",
       "    }\n",
       "</style>\n",
       "<table border=\"1\" class=\"dataframe\">\n",
       "  <thead>\n",
       "    <tr style=\"text-align: right;\">\n",
       "      <th></th>\n",
       "      <th>boro_ordinal</th>\n",
       "      <th>salary</th>\n",
       "      <th>boro_Bronx</th>\n",
       "      <th>boro_Brooklyn</th>\n",
       "      <th>boro_Manhattan</th>\n",
       "      <th>boro_Queens</th>\n",
       "      <th>vegan_No</th>\n",
       "      <th>vegan_Yes</th>\n",
       "    </tr>\n",
       "  </thead>\n",
       "  <tbody>\n",
       "    <tr>\n",
       "      <th>0</th>\n",
       "      <td>2</td>\n",
       "      <td>103</td>\n",
       "      <td>0</td>\n",
       "      <td>0</td>\n",
       "      <td>1</td>\n",
       "      <td>0</td>\n",
       "      <td>1</td>\n",
       "      <td>0</td>\n",
       "    </tr>\n",
       "    <tr>\n",
       "      <th>1</th>\n",
       "      <td>3</td>\n",
       "      <td>89</td>\n",
       "      <td>0</td>\n",
       "      <td>0</td>\n",
       "      <td>0</td>\n",
       "      <td>1</td>\n",
       "      <td>1</td>\n",
       "      <td>0</td>\n",
       "    </tr>\n",
       "    <tr>\n",
       "      <th>2</th>\n",
       "      <td>2</td>\n",
       "      <td>142</td>\n",
       "      <td>0</td>\n",
       "      <td>0</td>\n",
       "      <td>1</td>\n",
       "      <td>0</td>\n",
       "      <td>1</td>\n",
       "      <td>0</td>\n",
       "    </tr>\n",
       "    <tr>\n",
       "      <th>3</th>\n",
       "      <td>1</td>\n",
       "      <td>54</td>\n",
       "      <td>0</td>\n",
       "      <td>1</td>\n",
       "      <td>0</td>\n",
       "      <td>0</td>\n",
       "      <td>0</td>\n",
       "      <td>1</td>\n",
       "    </tr>\n",
       "    <tr>\n",
       "      <th>4</th>\n",
       "      <td>1</td>\n",
       "      <td>63</td>\n",
       "      <td>0</td>\n",
       "      <td>1</td>\n",
       "      <td>0</td>\n",
       "      <td>0</td>\n",
       "      <td>0</td>\n",
       "      <td>1</td>\n",
       "    </tr>\n",
       "    <tr>\n",
       "      <th>5</th>\n",
       "      <td>0</td>\n",
       "      <td>219</td>\n",
       "      <td>1</td>\n",
       "      <td>0</td>\n",
       "      <td>0</td>\n",
       "      <td>0</td>\n",
       "      <td>1</td>\n",
       "      <td>0</td>\n",
       "    </tr>\n",
       "  </tbody>\n",
       "</table>\n",
       "</div>"
      ],
      "text/plain": [
       "   boro_ordinal  salary  boro_Bronx  boro_Brooklyn  boro_Manhattan  \\\n",
       "0             2     103           0              0               1   \n",
       "1             3      89           0              0               0   \n",
       "2             2     142           0              0               1   \n",
       "3             1      54           0              1               0   \n",
       "4             1      63           0              1               0   \n",
       "5             0     219           1              0               0   \n",
       "\n",
       "   boro_Queens  vegan_No  vegan_Yes  \n",
       "0            0         1          0  \n",
       "1            1         1          0  \n",
       "2            0         1          0  \n",
       "3            0         0          1  \n",
       "4            0         0          1  \n",
       "5            0         1          0  "
      ]
     },
     "execution_count": 107,
     "metadata": {},
     "output_type": "execute_result"
    }
   ],
   "source": [
    "pd.get_dummies(df)"
   ]
  },
  {
   "cell_type": "code",
   "execution_count": 108,
   "metadata": {
    "slideshow": {
     "slide_type": "subslide"
    }
   },
   "outputs": [
    {
     "data": {
      "text/html": [
       "<div>\n",
       "<style scoped>\n",
       "    .dataframe tbody tr th:only-of-type {\n",
       "        vertical-align: middle;\n",
       "    }\n",
       "\n",
       "    .dataframe tbody tr th {\n",
       "        vertical-align: top;\n",
       "    }\n",
       "\n",
       "    .dataframe thead th {\n",
       "        text-align: right;\n",
       "    }\n",
       "</style>\n",
       "<table border=\"1\" class=\"dataframe\">\n",
       "  <thead>\n",
       "    <tr style=\"text-align: right;\">\n",
       "      <th></th>\n",
       "      <th>boro_ordinal</th>\n",
       "      <th>vegan</th>\n",
       "      <th>salary</th>\n",
       "      <th>boro_Bronx</th>\n",
       "      <th>boro_Brooklyn</th>\n",
       "      <th>boro_Manhattan</th>\n",
       "      <th>boro_Queens</th>\n",
       "    </tr>\n",
       "  </thead>\n",
       "  <tbody>\n",
       "    <tr>\n",
       "      <th>0</th>\n",
       "      <td>2</td>\n",
       "      <td>No</td>\n",
       "      <td>103</td>\n",
       "      <td>0</td>\n",
       "      <td>0</td>\n",
       "      <td>1</td>\n",
       "      <td>0</td>\n",
       "    </tr>\n",
       "    <tr>\n",
       "      <th>1</th>\n",
       "      <td>3</td>\n",
       "      <td>No</td>\n",
       "      <td>89</td>\n",
       "      <td>0</td>\n",
       "      <td>0</td>\n",
       "      <td>0</td>\n",
       "      <td>1</td>\n",
       "    </tr>\n",
       "    <tr>\n",
       "      <th>2</th>\n",
       "      <td>2</td>\n",
       "      <td>No</td>\n",
       "      <td>142</td>\n",
       "      <td>0</td>\n",
       "      <td>0</td>\n",
       "      <td>1</td>\n",
       "      <td>0</td>\n",
       "    </tr>\n",
       "    <tr>\n",
       "      <th>3</th>\n",
       "      <td>1</td>\n",
       "      <td>Yes</td>\n",
       "      <td>54</td>\n",
       "      <td>0</td>\n",
       "      <td>1</td>\n",
       "      <td>0</td>\n",
       "      <td>0</td>\n",
       "    </tr>\n",
       "    <tr>\n",
       "      <th>4</th>\n",
       "      <td>1</td>\n",
       "      <td>Yes</td>\n",
       "      <td>63</td>\n",
       "      <td>0</td>\n",
       "      <td>1</td>\n",
       "      <td>0</td>\n",
       "      <td>0</td>\n",
       "    </tr>\n",
       "    <tr>\n",
       "      <th>5</th>\n",
       "      <td>0</td>\n",
       "      <td>No</td>\n",
       "      <td>219</td>\n",
       "      <td>1</td>\n",
       "      <td>0</td>\n",
       "      <td>0</td>\n",
       "      <td>0</td>\n",
       "    </tr>\n",
       "  </tbody>\n",
       "</table>\n",
       "</div>"
      ],
      "text/plain": [
       "   boro_ordinal vegan  salary  boro_Bronx  boro_Brooklyn  boro_Manhattan  \\\n",
       "0             2    No     103           0              0               1   \n",
       "1             3    No      89           0              0               0   \n",
       "2             2    No     142           0              0               1   \n",
       "3             1   Yes      54           0              1               0   \n",
       "4             1   Yes      63           0              1               0   \n",
       "5             0    No     219           1              0               0   \n",
       "\n",
       "   boro_Queens  \n",
       "0            0  \n",
       "1            1  \n",
       "2            0  \n",
       "3            0  \n",
       "4            0  \n",
       "5            0  "
      ]
     },
     "execution_count": 108,
     "metadata": {},
     "output_type": "execute_result"
    }
   ],
   "source": [
    "\n",
    "# One-Hot (Dummy) Encoding\n",
    "\n",
    "pd.get_dummies(df, columns=['boro'])\n"
   ]
  },
  {
   "cell_type": "code",
   "execution_count": 109,
   "metadata": {
    "slideshow": {
     "slide_type": "subslide"
    }
   },
   "outputs": [
    {
     "data": {
      "text/html": [
       "<div>\n",
       "<style scoped>\n",
       "    .dataframe tbody tr th:only-of-type {\n",
       "        vertical-align: middle;\n",
       "    }\n",
       "\n",
       "    .dataframe tbody tr th {\n",
       "        vertical-align: top;\n",
       "    }\n",
       "\n",
       "    .dataframe thead th {\n",
       "        text-align: right;\n",
       "    }\n",
       "</style>\n",
       "<table border=\"1\" class=\"dataframe\">\n",
       "  <thead>\n",
       "    <tr style=\"text-align: right;\">\n",
       "      <th></th>\n",
       "      <th>boro</th>\n",
       "      <th>vegan</th>\n",
       "      <th>salary</th>\n",
       "      <th>boro_ordinal_0</th>\n",
       "      <th>boro_ordinal_1</th>\n",
       "      <th>boro_ordinal_2</th>\n",
       "      <th>boro_ordinal_3</th>\n",
       "    </tr>\n",
       "  </thead>\n",
       "  <tbody>\n",
       "    <tr>\n",
       "      <th>0</th>\n",
       "      <td>Manhattan</td>\n",
       "      <td>No</td>\n",
       "      <td>103</td>\n",
       "      <td>0</td>\n",
       "      <td>0</td>\n",
       "      <td>1</td>\n",
       "      <td>0</td>\n",
       "    </tr>\n",
       "    <tr>\n",
       "      <th>1</th>\n",
       "      <td>Queens</td>\n",
       "      <td>No</td>\n",
       "      <td>89</td>\n",
       "      <td>0</td>\n",
       "      <td>0</td>\n",
       "      <td>0</td>\n",
       "      <td>1</td>\n",
       "    </tr>\n",
       "    <tr>\n",
       "      <th>2</th>\n",
       "      <td>Manhattan</td>\n",
       "      <td>No</td>\n",
       "      <td>142</td>\n",
       "      <td>0</td>\n",
       "      <td>0</td>\n",
       "      <td>1</td>\n",
       "      <td>0</td>\n",
       "    </tr>\n",
       "    <tr>\n",
       "      <th>3</th>\n",
       "      <td>Brooklyn</td>\n",
       "      <td>Yes</td>\n",
       "      <td>54</td>\n",
       "      <td>0</td>\n",
       "      <td>1</td>\n",
       "      <td>0</td>\n",
       "      <td>0</td>\n",
       "    </tr>\n",
       "    <tr>\n",
       "      <th>4</th>\n",
       "      <td>Brooklyn</td>\n",
       "      <td>Yes</td>\n",
       "      <td>63</td>\n",
       "      <td>0</td>\n",
       "      <td>1</td>\n",
       "      <td>0</td>\n",
       "      <td>0</td>\n",
       "    </tr>\n",
       "    <tr>\n",
       "      <th>5</th>\n",
       "      <td>Bronx</td>\n",
       "      <td>No</td>\n",
       "      <td>219</td>\n",
       "      <td>1</td>\n",
       "      <td>0</td>\n",
       "      <td>0</td>\n",
       "      <td>0</td>\n",
       "    </tr>\n",
       "  </tbody>\n",
       "</table>\n",
       "</div>"
      ],
      "text/plain": [
       "        boro vegan  salary  boro_ordinal_0  boro_ordinal_1  boro_ordinal_2  \\\n",
       "0  Manhattan    No     103               0               0               1   \n",
       "1     Queens    No      89               0               0               0   \n",
       "2  Manhattan    No     142               0               0               1   \n",
       "3   Brooklyn   Yes      54               0               1               0   \n",
       "4   Brooklyn   Yes      63               0               1               0   \n",
       "5      Bronx    No     219               1               0               0   \n",
       "\n",
       "   boro_ordinal_3  \n",
       "0               0  \n",
       "1               1  \n",
       "2               0  \n",
       "3               0  \n",
       "4               0  \n",
       "5               0  "
      ]
     },
     "execution_count": 109,
     "metadata": {},
     "output_type": "execute_result"
    }
   ],
   "source": [
    "\n",
    "# One-Hot (Dummy) Encoding\n",
    "\n",
    "pd.get_dummies(df, columns=['boro_ordinal'])\n"
   ]
  },
  {
   "cell_type": "code",
   "execution_count": 110,
   "metadata": {
    "slideshow": {
     "slide_type": "subslide"
    }
   },
   "outputs": [
    {
     "data": {
      "text/html": [
       "<div>\n",
       "<style scoped>\n",
       "    .dataframe tbody tr th:only-of-type {\n",
       "        vertical-align: middle;\n",
       "    }\n",
       "\n",
       "    .dataframe tbody tr th {\n",
       "        vertical-align: top;\n",
       "    }\n",
       "\n",
       "    .dataframe thead th {\n",
       "        text-align: right;\n",
       "    }\n",
       "</style>\n",
       "<table border=\"1\" class=\"dataframe\">\n",
       "  <thead>\n",
       "    <tr style=\"text-align: right;\">\n",
       "      <th></th>\n",
       "      <th>salary</th>\n",
       "      <th>vegan</th>\n",
       "      <th>boro_Brooklyn</th>\n",
       "      <th>boro_Manhattan</th>\n",
       "      <th>boro_Queens</th>\n",
       "      <th>boro_Staten Island</th>\n",
       "    </tr>\n",
       "  </thead>\n",
       "  <tbody>\n",
       "    <tr>\n",
       "      <th>0</th>\n",
       "      <td>61</td>\n",
       "      <td>Yes</td>\n",
       "      <td>1</td>\n",
       "      <td>0</td>\n",
       "      <td>0</td>\n",
       "      <td>0</td>\n",
       "    </tr>\n",
       "    <tr>\n",
       "      <th>1</th>\n",
       "      <td>146</td>\n",
       "      <td>No</td>\n",
       "      <td>0</td>\n",
       "      <td>1</td>\n",
       "      <td>0</td>\n",
       "      <td>0</td>\n",
       "    </tr>\n",
       "    <tr>\n",
       "      <th>2</th>\n",
       "      <td>142</td>\n",
       "      <td>Yes</td>\n",
       "      <td>1</td>\n",
       "      <td>0</td>\n",
       "      <td>0</td>\n",
       "      <td>0</td>\n",
       "    </tr>\n",
       "    <tr>\n",
       "      <th>3</th>\n",
       "      <td>212</td>\n",
       "      <td>No</td>\n",
       "      <td>0</td>\n",
       "      <td>0</td>\n",
       "      <td>1</td>\n",
       "      <td>0</td>\n",
       "    </tr>\n",
       "    <tr>\n",
       "      <th>4</th>\n",
       "      <td>98</td>\n",
       "      <td>Yes</td>\n",
       "      <td>1</td>\n",
       "      <td>0</td>\n",
       "      <td>0</td>\n",
       "      <td>0</td>\n",
       "    </tr>\n",
       "    <tr>\n",
       "      <th>5</th>\n",
       "      <td>47</td>\n",
       "      <td>No</td>\n",
       "      <td>0</td>\n",
       "      <td>0</td>\n",
       "      <td>0</td>\n",
       "      <td>1</td>\n",
       "    </tr>\n",
       "  </tbody>\n",
       "</table>\n",
       "</div>"
      ],
      "text/plain": [
       "   salary vegan  boro_Brooklyn  boro_Manhattan  boro_Queens  \\\n",
       "0      61   Yes              1               0            0   \n",
       "1     146    No              0               1            0   \n",
       "2     142   Yes              1               0            0   \n",
       "3     212    No              0               0            1   \n",
       "4      98   Yes              1               0            0   \n",
       "5      47    No              0               0            0   \n",
       "\n",
       "   boro_Staten Island  \n",
       "0                   0  \n",
       "1                   0  \n",
       "2                   0  \n",
       "3                   0  \n",
       "4                   0  \n",
       "5                   1  "
      ]
     },
     "execution_count": 110,
     "metadata": {},
     "output_type": "execute_result"
    }
   ],
   "source": [
    "\n",
    "df2 = pd.DataFrame({\n",
    "  'boro': ['Brooklyn', 'Manhattan', 'Brooklyn',\n",
    "           'Queens', 'Brooklyn', 'Staten Island'],\n",
    "  'salary': [61, 146, 142, 212, 98, 47],\n",
    "  'vegan': ['Yes', 'No','Yes','No', 'Yes', 'No']})\n",
    "df2_dummies = pd.get_dummies(df2, columns=['boro'])\n",
    "df2_dummies"
   ]
  },
  {
   "cell_type": "markdown",
   "metadata": {
    "slideshow": {
     "slide_type": "slide"
    }
   },
   "source": [
    "# Pandas Categorical Columns"
   ]
  },
  {
   "cell_type": "code",
   "execution_count": 111,
   "metadata": {
    "slideshow": {
     "slide_type": "subslide"
    }
   },
   "outputs": [
    {
     "data": {
      "text/html": [
       "<div>\n",
       "<style scoped>\n",
       "    .dataframe tbody tr th:only-of-type {\n",
       "        vertical-align: middle;\n",
       "    }\n",
       "\n",
       "    .dataframe tbody tr th {\n",
       "        vertical-align: top;\n",
       "    }\n",
       "\n",
       "    .dataframe thead th {\n",
       "        text-align: right;\n",
       "    }\n",
       "</style>\n",
       "<table border=\"1\" class=\"dataframe\">\n",
       "  <thead>\n",
       "    <tr style=\"text-align: right;\">\n",
       "      <th></th>\n",
       "      <th>salary</th>\n",
       "      <th>vegan</th>\n",
       "      <th>boro_Manhattan</th>\n",
       "      <th>boro_Queens</th>\n",
       "      <th>boro_Brooklyn</th>\n",
       "      <th>boro_Bronx</th>\n",
       "      <th>boro_Staten Island</th>\n",
       "    </tr>\n",
       "  </thead>\n",
       "  <tbody>\n",
       "    <tr>\n",
       "      <th>0</th>\n",
       "      <td>103</td>\n",
       "      <td>No</td>\n",
       "      <td>1</td>\n",
       "      <td>0</td>\n",
       "      <td>0</td>\n",
       "      <td>0</td>\n",
       "      <td>0</td>\n",
       "    </tr>\n",
       "    <tr>\n",
       "      <th>1</th>\n",
       "      <td>89</td>\n",
       "      <td>No</td>\n",
       "      <td>0</td>\n",
       "      <td>1</td>\n",
       "      <td>0</td>\n",
       "      <td>0</td>\n",
       "      <td>0</td>\n",
       "    </tr>\n",
       "    <tr>\n",
       "      <th>2</th>\n",
       "      <td>142</td>\n",
       "      <td>No</td>\n",
       "      <td>1</td>\n",
       "      <td>0</td>\n",
       "      <td>0</td>\n",
       "      <td>0</td>\n",
       "      <td>0</td>\n",
       "    </tr>\n",
       "    <tr>\n",
       "      <th>3</th>\n",
       "      <td>54</td>\n",
       "      <td>Yes</td>\n",
       "      <td>0</td>\n",
       "      <td>0</td>\n",
       "      <td>1</td>\n",
       "      <td>0</td>\n",
       "      <td>0</td>\n",
       "    </tr>\n",
       "    <tr>\n",
       "      <th>4</th>\n",
       "      <td>63</td>\n",
       "      <td>Yes</td>\n",
       "      <td>0</td>\n",
       "      <td>0</td>\n",
       "      <td>1</td>\n",
       "      <td>0</td>\n",
       "      <td>0</td>\n",
       "    </tr>\n",
       "    <tr>\n",
       "      <th>5</th>\n",
       "      <td>219</td>\n",
       "      <td>No</td>\n",
       "      <td>0</td>\n",
       "      <td>0</td>\n",
       "      <td>0</td>\n",
       "      <td>1</td>\n",
       "      <td>0</td>\n",
       "    </tr>\n",
       "  </tbody>\n",
       "</table>\n",
       "</div>"
      ],
      "text/plain": [
       "   salary vegan  boro_Manhattan  boro_Queens  boro_Brooklyn  boro_Bronx  \\\n",
       "0     103    No               1            0              0           0   \n",
       "1      89    No               0            1              0           0   \n",
       "2     142    No               1            0              0           0   \n",
       "3      54   Yes               0            0              1           0   \n",
       "4      63   Yes               0            0              1           0   \n",
       "5     219    No               0            0              0           1   \n",
       "\n",
       "   boro_Staten Island  \n",
       "0                   0  \n",
       "1                   0  \n",
       "2                   0  \n",
       "3                   0  \n",
       "4                   0  \n",
       "5                   0  "
      ]
     },
     "execution_count": 111,
     "metadata": {},
     "output_type": "execute_result"
    }
   ],
   "source": [
    "\n",
    "df = pd.DataFrame({\n",
    "   'boro': ['Manhattan', 'Queens', 'Manhattan', 'Brooklyn', 'Brooklyn', 'Bronx'],\n",
    "   'salary': [103, 89, 142, 54, 63, 219],\n",
    "   'vegan': ['No', 'No','No','Yes', 'Yes', 'No']})\n",
    "\n",
    "df['boro'] = pd.Categorical(df.boro,\n",
    "                            categories=['Manhattan', 'Queens', 'Brooklyn',\n",
    "                                                'Bronx', 'Staten Island'])\n",
    "pd.get_dummies(df, columns=['boro'])\n"
   ]
  },
  {
   "cell_type": "markdown",
   "metadata": {
    "slideshow": {
     "slide_type": "slide"
    }
   },
   "source": [
    "\n",
    "# OneHotEncoder"
   ]
  },
  {
   "cell_type": "code",
   "execution_count": 115,
   "metadata": {
    "slideshow": {
     "slide_type": "subslide"
    }
   },
   "outputs": [
    {
     "data": {
      "text/plain": [
       "array([[0., 0., 0., 1., 0., 0., 0., 0., 1., 0.],\n",
       "       [0., 0., 1., 0., 0., 0., 0., 0., 0., 1.],\n",
       "       [0., 0., 0., 0., 1., 0., 0., 0., 1., 0.],\n",
       "       [1., 0., 0., 0., 0., 0., 0., 1., 0., 0.],\n",
       "       [0., 1., 0., 0., 0., 0., 0., 1., 0., 0.],\n",
       "       [0., 0., 0., 0., 0., 1., 1., 0., 0., 0.]])"
      ]
     },
     "execution_count": 115,
     "metadata": {},
     "output_type": "execute_result"
    }
   ],
   "source": [
    "\n",
    "import pandas as pd\n",
    "from sklearn.preprocessing import OneHotEncoder\n",
    "\n",
    "df = pd.DataFrame({'salary': [103, 89, 142, 54, 63, 219],\n",
    "                   'boro': ['Manhattan', 'Queens', 'Manhattan',\n",
    "                            'Brooklyn', 'Brooklyn', 'Bronx']})\n",
    "\n",
    "ce = OneHotEncoder().fit(df)\n",
    "ce.transform(df).toarray()\n",
    "\n"
   ]
  },
  {
   "cell_type": "markdown",
   "metadata": {
    "slideshow": {
     "slide_type": "subslide"
    }
   },
   "source": [
    "\n",
    "# OneHotEncoder + ColumnTransformer\n",
    "\n"
   ]
  },
  {
   "cell_type": "code",
   "execution_count": null,
   "metadata": {
    "slideshow": {
     "slide_type": "subslide"
    }
   },
   "outputs": [],
   "source": [
    "from sklearn.compose import make_column_transformer\n",
    "from sklearn.linear_model import LogisticRegression\n",
    "\n",
    "categorical = df.dtypes == object\n",
    "\n",
    "preprocess = make_column_transformer(\n",
    "    (StandardScaler(), ~categorical),\n",
    "    (OneHotEncoder(), categorical))\n",
    "\n",
    "model = make_pipeline(preprocess, LogisticRegression())\n"
   ]
  },
  {
   "cell_type": "markdown",
   "metadata": {
    "slideshow": {
     "slide_type": "subslide"
    }
   },
   "source": [
    "\n",
    "<center>\n",
    "<img src=\"images/column_transformer_schematic.png\" style=\"width: 600px;\">\n",
    "</center>\n"
   ]
  },
  {
   "cell_type": "markdown",
   "metadata": {
    "slideshow": {
     "slide_type": "subslide"
    }
   },
   "source": [
    "\n",
    "# Dummy variables and colinearity\n",
    "\n",
    "- One-hot is redundant (last one is 1 – sum of others)\n",
    "- Can introduce co-linearity\n",
    "- Can drop one\n",
    "- Choice which one matters for penalized models\n",
    "- Keeping all can make the model more interpretable\n",
    "\n"
   ]
  },
  {
   "cell_type": "markdown",
   "metadata": {
    "slideshow": {
     "slide_type": "subslide"
    }
   },
   "source": [
    "\n",
    "# Models Supporting Discrete Features\n",
    "\n",
    "- In principle:\n",
    "  - All tree-based models, naive Bayes\n",
    "- In scikit-learn:\n",
    "  - Some Naive Bayes classifiers.\n",
    "- In scikit-learn \"soon\":\n",
    "  - Decision trees, random forests, gradient boosting\n",
    "\n"
   ]
  },
  {
   "cell_type": "markdown",
   "metadata": {
    "slideshow": {
     "slide_type": "subslide"
    }
   },
   "source": [
    "\n",
    "\n",
    "# Target Encoding (Impact Encoding)\n",
    "\n",
    "![:scale 100%](images/zip_code_prices.png)\n",
    "\n"
   ]
  },
  {
   "cell_type": "markdown",
   "metadata": {
    "slideshow": {
     "slide_type": "subslide"
    }
   },
   "source": [
    "\n",
    "# Target Encoding (Impact Encoding)\n",
    "- For high cardinality categorical features\n",
    "- Instead of 70 one-hot variables, one “response encoded” variable.\n",
    "- For regression:\n",
    "  - \"average price in zip code”\n",
    "- Binary classification:\n",
    "  – “building in this zip code have a likelihood p for class 1”\n",
    "- Multiclass:\n",
    "  – One feature per class: probability distribution\n",
    "\n"
   ]
  },
  {
   "cell_type": "code",
   "execution_count": 116,
   "metadata": {
    "slideshow": {
     "slide_type": "subslide"
    }
   },
   "outputs": [
    {
     "name": "stderr",
     "output_type": "stream",
     "text": [
      "/Users/jonathan.schler/anaconda3/envs/python37/lib/python3.7/site-packages/sklearn/datasets/_openml.py:376: UserWarning: Multiple active versions of the dataset matching the name house_sales exist. Versions may be fundamentally different, returning version 1.\n",
      "  \" {version}.\".format(name=name, version=res[0]['version']))\n"
     ]
    },
    {
     "data": {
      "text/plain": [
       "Index(['bedrooms', 'bathrooms', 'sqft_living', 'sqft_lot', 'floors',\n",
       "       'waterfront', 'view', 'condition', 'grade', 'sqft_above',\n",
       "       'sqft_basement', 'yr_built', 'yr_renovated', 'zipcode', 'lat', 'long',\n",
       "       'sqft_living15', 'sqft_lot15'],\n",
       "      dtype='object')"
      ]
     },
     "execution_count": 116,
     "metadata": {},
     "output_type": "execute_result"
    }
   ],
   "source": [
    "\n",
    "# Load data, include ZIP code\n",
    "\n",
    "data = fetch_openml(\"house_sales\", as_frame=True)\n",
    "X = data.frame.drop(['date', 'price'], axis=1)\n",
    "X_train, X_test, y_train, y_test = train_test_split(X, target)\n",
    "X_train.columns\n"
   ]
  },
  {
   "cell_type": "code",
   "execution_count": 117,
   "metadata": {
    "slideshow": {
     "slide_type": "subslide"
    }
   },
   "outputs": [
    {
     "data": {
      "text/html": [
       "<div>\n",
       "<style scoped>\n",
       "    .dataframe tbody tr th:only-of-type {\n",
       "        vertical-align: middle;\n",
       "    }\n",
       "\n",
       "    .dataframe tbody tr th {\n",
       "        vertical-align: top;\n",
       "    }\n",
       "\n",
       "    .dataframe thead th {\n",
       "        text-align: right;\n",
       "    }\n",
       "</style>\n",
       "<table border=\"1\" class=\"dataframe\">\n",
       "  <thead>\n",
       "    <tr style=\"text-align: right;\">\n",
       "      <th></th>\n",
       "      <th>bedrooms</th>\n",
       "      <th>bathrooms</th>\n",
       "      <th>sqft_living</th>\n",
       "      <th>sqft_lot</th>\n",
       "      <th>floors</th>\n",
       "      <th>waterfront</th>\n",
       "      <th>view</th>\n",
       "      <th>condition</th>\n",
       "      <th>grade</th>\n",
       "      <th>sqft_above</th>\n",
       "      <th>sqft_basement</th>\n",
       "      <th>yr_built</th>\n",
       "      <th>yr_renovated</th>\n",
       "      <th>zipcode</th>\n",
       "      <th>lat</th>\n",
       "      <th>long</th>\n",
       "      <th>sqft_living15</th>\n",
       "      <th>sqft_lot15</th>\n",
       "    </tr>\n",
       "  </thead>\n",
       "  <tbody>\n",
       "    <tr>\n",
       "      <th>7050</th>\n",
       "      <td>3.0</td>\n",
       "      <td>2.75</td>\n",
       "      <td>1740.0</td>\n",
       "      <td>8436.0</td>\n",
       "      <td>1.0</td>\n",
       "      <td>0.0</td>\n",
       "      <td>0.0</td>\n",
       "      <td>3.0</td>\n",
       "      <td>7.0</td>\n",
       "      <td>1140.0</td>\n",
       "      <td>600.0</td>\n",
       "      <td>1967.0</td>\n",
       "      <td>0.0</td>\n",
       "      <td>98003.0</td>\n",
       "      <td>47.3456</td>\n",
       "      <td>-122.305</td>\n",
       "      <td>1550.0</td>\n",
       "      <td>8436.0</td>\n",
       "    </tr>\n",
       "    <tr>\n",
       "      <th>5888</th>\n",
       "      <td>4.0</td>\n",
       "      <td>2.50</td>\n",
       "      <td>2660.0</td>\n",
       "      <td>8887.0</td>\n",
       "      <td>1.0</td>\n",
       "      <td>0.0</td>\n",
       "      <td>0.0</td>\n",
       "      <td>4.0</td>\n",
       "      <td>8.0</td>\n",
       "      <td>1880.0</td>\n",
       "      <td>780.0</td>\n",
       "      <td>1967.0</td>\n",
       "      <td>0.0</td>\n",
       "      <td>98166.0</td>\n",
       "      <td>47.4390</td>\n",
       "      <td>-122.342</td>\n",
       "      <td>1910.0</td>\n",
       "      <td>9620.0</td>\n",
       "    </tr>\n",
       "    <tr>\n",
       "      <th>6000</th>\n",
       "      <td>2.0</td>\n",
       "      <td>1.00</td>\n",
       "      <td>1060.0</td>\n",
       "      <td>7193.0</td>\n",
       "      <td>1.0</td>\n",
       "      <td>0.0</td>\n",
       "      <td>0.0</td>\n",
       "      <td>3.0</td>\n",
       "      <td>7.0</td>\n",
       "      <td>1060.0</td>\n",
       "      <td>0.0</td>\n",
       "      <td>1926.0</td>\n",
       "      <td>0.0</td>\n",
       "      <td>98133.0</td>\n",
       "      <td>47.7102</td>\n",
       "      <td>-122.356</td>\n",
       "      <td>1980.0</td>\n",
       "      <td>7560.0</td>\n",
       "    </tr>\n",
       "    <tr>\n",
       "      <th>3286</th>\n",
       "      <td>3.0</td>\n",
       "      <td>1.75</td>\n",
       "      <td>1330.0</td>\n",
       "      <td>16000.0</td>\n",
       "      <td>1.0</td>\n",
       "      <td>0.0</td>\n",
       "      <td>0.0</td>\n",
       "      <td>3.0</td>\n",
       "      <td>7.0</td>\n",
       "      <td>1330.0</td>\n",
       "      <td>0.0</td>\n",
       "      <td>1978.0</td>\n",
       "      <td>0.0</td>\n",
       "      <td>98001.0</td>\n",
       "      <td>47.2800</td>\n",
       "      <td>-122.257</td>\n",
       "      <td>1330.0</td>\n",
       "      <td>14374.0</td>\n",
       "    </tr>\n",
       "    <tr>\n",
       "      <th>16940</th>\n",
       "      <td>3.0</td>\n",
       "      <td>1.50</td>\n",
       "      <td>2260.0</td>\n",
       "      <td>5300.0</td>\n",
       "      <td>1.0</td>\n",
       "      <td>0.0</td>\n",
       "      <td>0.0</td>\n",
       "      <td>3.0</td>\n",
       "      <td>7.0</td>\n",
       "      <td>1200.0</td>\n",
       "      <td>1060.0</td>\n",
       "      <td>1940.0</td>\n",
       "      <td>0.0</td>\n",
       "      <td>98103.0</td>\n",
       "      <td>47.6756</td>\n",
       "      <td>-122.348</td>\n",
       "      <td>1950.0</td>\n",
       "      <td>5000.0</td>\n",
       "    </tr>\n",
       "  </tbody>\n",
       "</table>\n",
       "</div>"
      ],
      "text/plain": [
       "       bedrooms  bathrooms  sqft_living  sqft_lot  floors  waterfront  view  \\\n",
       "7050        3.0       2.75       1740.0    8436.0     1.0         0.0   0.0   \n",
       "5888        4.0       2.50       2660.0    8887.0     1.0         0.0   0.0   \n",
       "6000        2.0       1.00       1060.0    7193.0     1.0         0.0   0.0   \n",
       "3286        3.0       1.75       1330.0   16000.0     1.0         0.0   0.0   \n",
       "16940       3.0       1.50       2260.0    5300.0     1.0         0.0   0.0   \n",
       "\n",
       "       condition  grade  sqft_above  sqft_basement  yr_built  yr_renovated  \\\n",
       "7050         3.0    7.0      1140.0          600.0    1967.0           0.0   \n",
       "5888         4.0    8.0      1880.0          780.0    1967.0           0.0   \n",
       "6000         3.0    7.0      1060.0            0.0    1926.0           0.0   \n",
       "3286         3.0    7.0      1330.0            0.0    1978.0           0.0   \n",
       "16940        3.0    7.0      1200.0         1060.0    1940.0           0.0   \n",
       "\n",
       "       zipcode      lat     long  sqft_living15  sqft_lot15  \n",
       "7050   98003.0  47.3456 -122.305         1550.0      8436.0  \n",
       "5888   98166.0  47.4390 -122.342         1910.0      9620.0  \n",
       "6000   98133.0  47.7102 -122.356         1980.0      7560.0  \n",
       "3286   98001.0  47.2800 -122.257         1330.0     14374.0  \n",
       "16940  98103.0  47.6756 -122.348         1950.0      5000.0  "
      ]
     },
     "execution_count": 117,
     "metadata": {},
     "output_type": "execute_result"
    }
   ],
   "source": [
    "\n",
    "\n",
    "X_train.head()\n",
    "\n"
   ]
  },
  {
   "cell_type": "code",
   "execution_count": null,
   "metadata": {},
   "outputs": [],
   "source": [
    "!pip install category_encoders"
   ]
  },
  {
   "cell_type": "code",
   "execution_count": 118,
   "metadata": {
    "slideshow": {
     "slide_type": "subslide"
    }
   },
   "outputs": [
    {
     "name": "stderr",
     "output_type": "stream",
     "text": [
      "/Users/jonathan.schler/anaconda3/envs/python37/lib/python3.7/site-packages/category_encoders/utils.py:21: FutureWarning: is_categorical is deprecated and will be removed in a future version.  Use is_categorical_dtype instead\n",
      "  elif pd.api.types.is_categorical(cols):\n"
     ]
    },
    {
     "data": {
      "text/html": [
       "<div>\n",
       "<style scoped>\n",
       "    .dataframe tbody tr th:only-of-type {\n",
       "        vertical-align: middle;\n",
       "    }\n",
       "\n",
       "    .dataframe tbody tr th {\n",
       "        vertical-align: top;\n",
       "    }\n",
       "\n",
       "    .dataframe thead th {\n",
       "        text-align: right;\n",
       "    }\n",
       "</style>\n",
       "<table border=\"1\" class=\"dataframe\">\n",
       "  <thead>\n",
       "    <tr style=\"text-align: right;\">\n",
       "      <th></th>\n",
       "      <th>bedrooms</th>\n",
       "      <th>bathrooms</th>\n",
       "      <th>sqft_living</th>\n",
       "      <th>sqft_lot</th>\n",
       "      <th>floors</th>\n",
       "      <th>waterfront</th>\n",
       "      <th>view</th>\n",
       "      <th>condition</th>\n",
       "      <th>grade</th>\n",
       "      <th>sqft_above</th>\n",
       "      <th>sqft_basement</th>\n",
       "      <th>yr_built</th>\n",
       "      <th>yr_renovated</th>\n",
       "      <th>zipcode</th>\n",
       "      <th>lat</th>\n",
       "      <th>long</th>\n",
       "      <th>sqft_living15</th>\n",
       "      <th>sqft_lot15</th>\n",
       "    </tr>\n",
       "  </thead>\n",
       "  <tbody>\n",
       "    <tr>\n",
       "      <th>7050</th>\n",
       "      <td>3.0</td>\n",
       "      <td>2.75</td>\n",
       "      <td>1740.0</td>\n",
       "      <td>8436.0</td>\n",
       "      <td>1.0</td>\n",
       "      <td>0.0</td>\n",
       "      <td>0.0</td>\n",
       "      <td>3.0</td>\n",
       "      <td>7.0</td>\n",
       "      <td>1140.0</td>\n",
       "      <td>600.0</td>\n",
       "      <td>1967.0</td>\n",
       "      <td>0.0</td>\n",
       "      <td>291300.266990</td>\n",
       "      <td>47.3456</td>\n",
       "      <td>-122.305</td>\n",
       "      <td>1550.0</td>\n",
       "      <td>8436.0</td>\n",
       "    </tr>\n",
       "    <tr>\n",
       "      <th>5888</th>\n",
       "      <td>4.0</td>\n",
       "      <td>2.50</td>\n",
       "      <td>2660.0</td>\n",
       "      <td>8887.0</td>\n",
       "      <td>1.0</td>\n",
       "      <td>0.0</td>\n",
       "      <td>0.0</td>\n",
       "      <td>4.0</td>\n",
       "      <td>8.0</td>\n",
       "      <td>1880.0</td>\n",
       "      <td>780.0</td>\n",
       "      <td>1967.0</td>\n",
       "      <td>0.0</td>\n",
       "      <td>450354.090426</td>\n",
       "      <td>47.4390</td>\n",
       "      <td>-122.342</td>\n",
       "      <td>1910.0</td>\n",
       "      <td>9620.0</td>\n",
       "    </tr>\n",
       "    <tr>\n",
       "      <th>6000</th>\n",
       "      <td>2.0</td>\n",
       "      <td>1.00</td>\n",
       "      <td>1060.0</td>\n",
       "      <td>7193.0</td>\n",
       "      <td>1.0</td>\n",
       "      <td>0.0</td>\n",
       "      <td>0.0</td>\n",
       "      <td>3.0</td>\n",
       "      <td>7.0</td>\n",
       "      <td>1060.0</td>\n",
       "      <td>0.0</td>\n",
       "      <td>1926.0</td>\n",
       "      <td>0.0</td>\n",
       "      <td>384071.822404</td>\n",
       "      <td>47.7102</td>\n",
       "      <td>-122.356</td>\n",
       "      <td>1980.0</td>\n",
       "      <td>7560.0</td>\n",
       "    </tr>\n",
       "    <tr>\n",
       "      <th>3286</th>\n",
       "      <td>3.0</td>\n",
       "      <td>1.75</td>\n",
       "      <td>1330.0</td>\n",
       "      <td>16000.0</td>\n",
       "      <td>1.0</td>\n",
       "      <td>0.0</td>\n",
       "      <td>0.0</td>\n",
       "      <td>3.0</td>\n",
       "      <td>7.0</td>\n",
       "      <td>1330.0</td>\n",
       "      <td>0.0</td>\n",
       "      <td>1978.0</td>\n",
       "      <td>0.0</td>\n",
       "      <td>281745.413284</td>\n",
       "      <td>47.2800</td>\n",
       "      <td>-122.257</td>\n",
       "      <td>1330.0</td>\n",
       "      <td>14374.0</td>\n",
       "    </tr>\n",
       "    <tr>\n",
       "      <th>16940</th>\n",
       "      <td>3.0</td>\n",
       "      <td>1.50</td>\n",
       "      <td>2260.0</td>\n",
       "      <td>5300.0</td>\n",
       "      <td>1.0</td>\n",
       "      <td>0.0</td>\n",
       "      <td>0.0</td>\n",
       "      <td>3.0</td>\n",
       "      <td>7.0</td>\n",
       "      <td>1200.0</td>\n",
       "      <td>1060.0</td>\n",
       "      <td>1940.0</td>\n",
       "      <td>0.0</td>\n",
       "      <td>576338.995392</td>\n",
       "      <td>47.6756</td>\n",
       "      <td>-122.348</td>\n",
       "      <td>1950.0</td>\n",
       "      <td>5000.0</td>\n",
       "    </tr>\n",
       "  </tbody>\n",
       "</table>\n",
       "</div>"
      ],
      "text/plain": [
       "       bedrooms  bathrooms  sqft_living  sqft_lot  floors  waterfront  view  \\\n",
       "7050        3.0       2.75       1740.0    8436.0     1.0         0.0   0.0   \n",
       "5888        4.0       2.50       2660.0    8887.0     1.0         0.0   0.0   \n",
       "6000        2.0       1.00       1060.0    7193.0     1.0         0.0   0.0   \n",
       "3286        3.0       1.75       1330.0   16000.0     1.0         0.0   0.0   \n",
       "16940       3.0       1.50       2260.0    5300.0     1.0         0.0   0.0   \n",
       "\n",
       "       condition  grade  sqft_above  sqft_basement  yr_built  yr_renovated  \\\n",
       "7050         3.0    7.0      1140.0          600.0    1967.0           0.0   \n",
       "5888         4.0    8.0      1880.0          780.0    1967.0           0.0   \n",
       "6000         3.0    7.0      1060.0            0.0    1926.0           0.0   \n",
       "3286         3.0    7.0      1330.0            0.0    1978.0           0.0   \n",
       "16940        3.0    7.0      1200.0         1060.0    1940.0           0.0   \n",
       "\n",
       "             zipcode      lat     long  sqft_living15  sqft_lot15  \n",
       "7050   291300.266990  47.3456 -122.305         1550.0      8436.0  \n",
       "5888   450354.090426  47.4390 -122.342         1910.0      9620.0  \n",
       "6000   384071.822404  47.7102 -122.356         1980.0      7560.0  \n",
       "3286   281745.413284  47.2800 -122.257         1330.0     14374.0  \n",
       "16940  576338.995392  47.6756 -122.348         1950.0      5000.0  "
      ]
     },
     "execution_count": 118,
     "metadata": {},
     "output_type": "execute_result"
    }
   ],
   "source": [
    "from category_encoders import TargetEncoder\n",
    "te = TargetEncoder(cols='zipcode').fit(X_train, y_train)\n",
    "te.transform(X_train).head()\n"
   ]
  },
  {
   "cell_type": "code",
   "execution_count": 119,
   "metadata": {
    "slideshow": {
     "slide_type": "subslide"
    }
   },
   "outputs": [
    {
     "data": {
      "text/plain": [
       "zipcode\n",
       "98003.0    291300.266990\n",
       "98166.0    450354.090426\n",
       "98133.0    384071.822404\n",
       "98001.0    281745.413284\n",
       "98103.0    576338.995392\n",
       "Name: price, dtype: float64"
      ]
     },
     "execution_count": 119,
     "metadata": {},
     "output_type": "execute_result"
    }
   ],
   "source": [
    "\n",
    "y_train.groupby(X_train.zipcode).mean()[X_train.head().zipcode]\n"
   ]
  },
  {
   "cell_type": "code",
   "execution_count": 120,
   "metadata": {
    "slideshow": {
     "slide_type": "subslide"
    }
   },
   "outputs": [
    {
     "data": {
      "text/plain": [
       "0.6902748870651891"
      ]
     },
     "execution_count": 120,
     "metadata": {},
     "output_type": "execute_result"
    }
   ],
   "source": [
    "\n",
    "X = data.frame.drop(['date', 'price', 'zipcode'], axis=1)\n",
    "scores = cross_val_score(Ridge(), X, target)\n",
    "np.mean(scores)\n"
   ]
  },
  {
   "cell_type": "markdown",
   "metadata": {
    "slideshow": {
     "slide_type": "notes"
    }
   },
   "source": [
    "let's do a comparison: dropping zip code, then columns transformer (onehot) and target encoder"
   ]
  },
  {
   "cell_type": "code",
   "execution_count": 121,
   "metadata": {
    "slideshow": {
     "slide_type": "subslide"
    }
   },
   "outputs": [
    {
     "data": {
      "text/plain": [
       "0.5257379776972864"
      ]
     },
     "execution_count": 121,
     "metadata": {},
     "output_type": "execute_result"
    }
   ],
   "source": [
    "\n",
    "from sklearn.compose import make_column_transformer\n",
    "from sklearn.preprocessing import OneHotEncoder\n",
    "X = data.frame.drop(['date', 'price'], axis=1)\n",
    "\n",
    "ct = make_column_transformer((OneHotEncoder(), ['zipcode']), remainder='passthrough')\n",
    "pipe_ohe = make_pipeline(ct, Ridge())\n",
    "scores = cross_val_score(pipe_ohe, X, target)\n",
    "np.mean(scores)\n",
    "\n",
    "\n"
   ]
  },
  {
   "cell_type": "code",
   "execution_count": 122,
   "metadata": {
    "slideshow": {
     "slide_type": "subslide"
    }
   },
   "outputs": [
    {
     "name": "stderr",
     "output_type": "stream",
     "text": [
      "/Users/jonathan.schler/anaconda3/envs/python37/lib/python3.7/site-packages/category_encoders/utils.py:21: FutureWarning: is_categorical is deprecated and will be removed in a future version.  Use is_categorical_dtype instead\n",
      "  elif pd.api.types.is_categorical(cols):\n",
      "/Users/jonathan.schler/anaconda3/envs/python37/lib/python3.7/site-packages/category_encoders/utils.py:21: FutureWarning: is_categorical is deprecated and will be removed in a future version.  Use is_categorical_dtype instead\n",
      "  elif pd.api.types.is_categorical(cols):\n",
      "/Users/jonathan.schler/anaconda3/envs/python37/lib/python3.7/site-packages/category_encoders/utils.py:21: FutureWarning: is_categorical is deprecated and will be removed in a future version.  Use is_categorical_dtype instead\n",
      "  elif pd.api.types.is_categorical(cols):\n",
      "/Users/jonathan.schler/anaconda3/envs/python37/lib/python3.7/site-packages/category_encoders/utils.py:21: FutureWarning: is_categorical is deprecated and will be removed in a future version.  Use is_categorical_dtype instead\n",
      "  elif pd.api.types.is_categorical(cols):\n",
      "/Users/jonathan.schler/anaconda3/envs/python37/lib/python3.7/site-packages/category_encoders/utils.py:21: FutureWarning: is_categorical is deprecated and will be removed in a future version.  Use is_categorical_dtype instead\n",
      "  elif pd.api.types.is_categorical(cols):\n"
     ]
    },
    {
     "data": {
      "text/plain": [
       "0.7862175426353513"
      ]
     },
     "execution_count": 122,
     "metadata": {},
     "output_type": "execute_result"
    }
   ],
   "source": [
    "\n",
    "\n",
    "from category_encoders import TargetEncoder\n",
    "X = data.frame.drop(['date', 'price'], axis=1)\n",
    "pipe_target = make_pipeline(TargetEncoder(cols='zipcode'), Ridge())\n",
    "scores = cross_val_score(pipe_target, X, target)\n",
    "np.mean(scores)\n"
   ]
  },
  {
   "cell_type": "markdown",
   "metadata": {
    "slideshow": {
     "slide_type": "subslide"
    }
   },
   "source": [
    "\n",
    "# Dealing with Missing Values"
   ]
  },
  {
   "cell_type": "markdown",
   "metadata": {
    "slideshow": {
     "slide_type": "subslide"
    }
   },
   "source": [
    "\n",
    "# Dealing with missing values\n",
    "\n",
    "- Missing values can be encoded in many ways\n",
    "- Numpy has no standard format for it (often np.NaN) - pandas does\n",
    "- Sometimes: 999, ???, ?, np.inf, “N/A”, “Unknown“ …\n",
    "- Not discussing “missing output” - that’s semi-supervised learning.\n",
    "- Often missingness is informative (Use `MissingIndicator`)\n"
   ]
  },
  {
   "cell_type": "markdown",
   "metadata": {
    "slideshow": {
     "slide_type": "subslide"
    }
   },
   "source": [
    "<center>\n",
    "<img src=\"images/row_nan_col_nan.png\" style=\"width: 600px;\">\n",
    "</center>\n"
   ]
  },
  {
   "cell_type": "markdown",
   "metadata": {
    "slideshow": {
     "slide_type": "subslide"
    }
   },
   "source": [
    "<center>\n",
    "<img src=\"images/imputation-schema.png\" style=\"width: 600px;\">\n",
    "</center>\n",
    "\n"
   ]
  },
  {
   "cell_type": "markdown",
   "metadata": {
    "slideshow": {
     "slide_type": "subslide"
    }
   },
   "source": [
    "\n",
    "\n",
    "# Imputation Methods\n",
    "\n",
    "- Mean / Median\n",
    "- kNN\n",
    "- Regression models\n",
    "- Matrix factorization (not in this lecture)\n"
   ]
  },
  {
   "cell_type": "code",
   "execution_count": 123,
   "metadata": {
    "slideshow": {
     "slide_type": "subslide"
    }
   },
   "outputs": [
    {
     "data": {
      "text/plain": [
       "array([[5.5, 3.5, 1.3, 0.2],\n",
       "       [5.7, 4.4, 1.5, 0.4],\n",
       "       [6.2, 3.4, nan, 2.3],\n",
       "       [7.7, 3.8, 6.7, nan],\n",
       "       [5.1, 3.5, 1.4, 0.3],\n",
       "       [6.5, 3. , nan, 1.8],\n",
       "       [5.7, 2.8, 4.1, 1.3],\n",
       "       [5.5, 2.4, 3.8, 1.1],\n",
       "       [4.9, 3.1, 1.5, 0.2],\n",
       "       [7. , 3.2, nan, 1.4],\n",
       "       [6.1, 2.8, nan, 1.2],\n",
       "       [5. , 3.3, 1.4, 0.2],\n",
       "       [6.4, 2.9, 4.3, 1.3],\n",
       "       [5.1, 3.8, 1.5, 0.3],\n",
       "       [6.7, 3.3, 5.7, nan],\n",
       "       [5.1, 3.5, 1.4, 0.2],\n",
       "       [4.9, 3. , 1.4, 0.2],\n",
       "       [6.1, 2.8, nan, 1.3],\n",
       "       [6. , 2.9, 4.5, 1.5],\n",
       "       [6.9, 3.2, nan, 2.3],\n",
       "       [5.9, 3. , 5.1, 1.8],\n",
       "       [4.5, 2.3, 1.3, 0.3],\n",
       "       [7.4, 2.8, nan, nan],\n",
       "       [6.4, 2.7, nan, nan],\n",
       "       [5.1, 3.8, 1.9, 0.4],\n",
       "       [5.4, 3.9, 1.3, 0.4],\n",
       "       [5.4, 3.7, 1.5, 0.2],\n",
       "       [6.4, 2.8, nan, nan],\n",
       "       [7.1, 3. , 5.9, 2.1],\n",
       "       [6.2, 2.8, 4.8, 1.8]])"
      ]
     },
     "execution_count": 123,
     "metadata": {},
     "output_type": "execute_result"
    }
   ],
   "source": [
    "from sklearn.datasets import load_iris\n",
    "from sklearn.utils import shuffle\n",
    "iris = load_iris()\n",
    "\n",
    "X, y = iris.data, iris.target\n",
    "X, y = shuffle(X, y)\n",
    "\n",
    "# some values missing only\n",
    "rng = np.random.RandomState(0)\n",
    "X_some_missing = X.copy()\n",
    "mask = np.abs(X[:, 2] - rng.normal(loc=5.5, scale=.7, size=X.shape[0])) < .6\n",
    "X_some_missing[mask, 3] = np.NaN\n",
    "# different random numbers\n",
    "mask2 = np.abs(X[:, 2] - rng.normal(loc=5.5, scale=.7, size=X.shape[0])) < .6\n",
    "X_some_missing[mask2, 2] = np.NaN\n",
    "X_some_missing[:30]"
   ]
  },
  {
   "cell_type": "markdown",
   "metadata": {
    "slideshow": {
     "slide_type": "slide"
    }
   },
   "source": [
    "# Baseline: Dropping Columns\n"
   ]
  },
  {
   "cell_type": "code",
   "execution_count": 126,
   "metadata": {
    "slideshow": {
     "slide_type": "subslide"
    }
   },
   "outputs": [
    {
     "data": {
      "text/plain": [
       "0.8045454545454545"
      ]
     },
     "execution_count": 126,
     "metadata": {},
     "output_type": "execute_result"
    }
   ],
   "source": [
    "X_ = X_some_missing\n",
    "\n",
    "from sklearn.linear_model import LogisticRegression\n",
    "from sklearn.model_selection import train_test_split, cross_val_score\n",
    "from sklearn.pipeline import make_pipeline\n",
    "from sklearn.preprocessing import StandardScaler\n",
    "\n",
    "X_train, X_test, y_train, y_test = train_test_split(X_, y, stratify=y, random_state=0)\n",
    "\n",
    "\n",
    "nan_columns = np.any(np.isnan(X_train), axis=0)\n",
    "X_drop_columns = X_train[:, ~nan_columns]\n",
    "logreg = make_pipeline(StandardScaler(), LogisticRegression())\n",
    "scores = cross_val_score(logreg, X_drop_columns, y_train, cv=10)\n",
    "np.mean(scores)\n"
   ]
  },
  {
   "cell_type": "markdown",
   "metadata": {
    "slideshow": {
     "slide_type": "subslide"
    }
   },
   "source": [
    "\n",
    "\n",
    "# Mean and Median\n",
    "<center>\n",
    "<img src=\"images/imputation-median-schema.png\" style=\"width: 600px;\">\n",
    "</center>\n"
   ]
  },
  {
   "cell_type": "markdown",
   "metadata": {
    "slideshow": {
     "slide_type": "subslide"
    }
   },
   "source": [
    "<center>\n",
    "<img src=\"images/median_imputation.png\" style=\"width: 600px;\">\n",
    "</center>\n"
   ]
  },
  {
   "cell_type": "code",
   "execution_count": 127,
   "metadata": {
    "slideshow": {
     "slide_type": "subslide"
    }
   },
   "outputs": [
    {
     "name": "stdout",
     "output_type": "stream",
     "text": [
      "0.8045454545454545\n",
      "0.8371212121212122\n"
     ]
    }
   ],
   "source": [
    "from sklearn.impute import SimpleImputer\n",
    "from sklearn.pipeline import make_pipeline\n",
    "from sklearn.preprocessing import StandardScaler\n",
    "\n",
    "nan_columns = np.any(np.isnan(X_train), axis = 0)\n",
    "X_drop_columns = X_train[:,~nan_columns]\n",
    "logreg = make_pipeline(StandardScaler(), LogisticRegression())\n",
    "scores = cross_val_score(logreg, X_drop_columns, y_train, cv=10)\n",
    "print(np.mean(scores))\n",
    "\n",
    "median_pipe = make_pipeline(SimpleImputer(strategy='median'), StandardScaler(), LogisticRegression())\n",
    "scores = cross_val_score(median_pipe, X_train, y_train, cv=10)\n",
    "print(np.mean(scores))"
   ]
  },
  {
   "cell_type": "markdown",
   "metadata": {
    "slideshow": {
     "slide_type": "subslide"
    }
   },
   "source": [
    "\n",
    "# KNN Imputation\n",
    "\n",
    "- Find k nearest neighbors that have non-missing values.\n",
    "- Fill in all missing values using the average of the neighbors.\n"
   ]
  },
  {
   "cell_type": "code",
   "execution_count": 129,
   "metadata": {
    "slideshow": {
     "slide_type": "subslide"
    }
   },
   "outputs": [
    {
     "data": {
      "text/plain": [
       "0.9015151515151516"
      ]
     },
     "execution_count": 129,
     "metadata": {},
     "output_type": "execute_result"
    }
   ],
   "source": [
    "from sklearn.impute import KNNImputer\n",
    "\n",
    "\n",
    "knn_pipe = make_pipeline(KNNImputer(), StandardScaler(), LogisticRegression())\n",
    "\n",
    "scores = cross_val_score(knn_pipe, X_train, y_train, cv=10)\n",
    "np.mean(scores)"
   ]
  },
  {
   "cell_type": "markdown",
   "metadata": {
    "slideshow": {
     "slide_type": "subslide"
    }
   },
   "source": [
    "\n",
    "<center>\n",
    "<img src=\"images/knn_imputation.png\" style=\"width: 600px;\">\n",
    "</center>"
   ]
  },
  {
   "cell_type": "markdown",
   "metadata": {
    "slideshow": {
     "slide_type": "notes"
    }
   },
   "source": [
    "\n"
   ]
  },
  {
   "cell_type": "markdown",
   "metadata": {
    "slideshow": {
     "slide_type": "subslide"
    }
   },
   "source": [
    "\n",
    "\n",
    "# Model-Driven Imputation\n",
    "\n",
    "- Train regression model for missing values\n",
    "- Iterate: retrain after filling in\n",
    "- IterativeImputer in next sklearn release\n",
    "\n"
   ]
  },
  {
   "cell_type": "code",
   "execution_count": 133,
   "metadata": {
    "slideshow": {
     "slide_type": "subslide"
    }
   },
   "outputs": [
    {
     "name": "stderr",
     "output_type": "stream",
     "text": [
      "/Users/jonathan.schler/anaconda3/envs/python37/lib/python3.7/site-packages/sklearn/impute/_iterative.py:670: ConvergenceWarning: [IterativeImputer] Early stopping criterion not reached.\n",
      "  \" reached.\", ConvergenceWarning)\n",
      "/Users/jonathan.schler/anaconda3/envs/python37/lib/python3.7/site-packages/sklearn/impute/_iterative.py:670: ConvergenceWarning: [IterativeImputer] Early stopping criterion not reached.\n",
      "  \" reached.\", ConvergenceWarning)\n",
      "/Users/jonathan.schler/anaconda3/envs/python37/lib/python3.7/site-packages/sklearn/impute/_iterative.py:670: ConvergenceWarning: [IterativeImputer] Early stopping criterion not reached.\n",
      "  \" reached.\", ConvergenceWarning)\n",
      "/Users/jonathan.schler/anaconda3/envs/python37/lib/python3.7/site-packages/sklearn/impute/_iterative.py:670: ConvergenceWarning: [IterativeImputer] Early stopping criterion not reached.\n",
      "  \" reached.\", ConvergenceWarning)\n",
      "/Users/jonathan.schler/anaconda3/envs/python37/lib/python3.7/site-packages/sklearn/impute/_iterative.py:670: ConvergenceWarning: [IterativeImputer] Early stopping criterion not reached.\n",
      "  \" reached.\", ConvergenceWarning)\n",
      "/Users/jonathan.schler/anaconda3/envs/python37/lib/python3.7/site-packages/sklearn/impute/_iterative.py:670: ConvergenceWarning: [IterativeImputer] Early stopping criterion not reached.\n",
      "  \" reached.\", ConvergenceWarning)\n",
      "/Users/jonathan.schler/anaconda3/envs/python37/lib/python3.7/site-packages/sklearn/impute/_iterative.py:670: ConvergenceWarning: [IterativeImputer] Early stopping criterion not reached.\n",
      "  \" reached.\", ConvergenceWarning)\n"
     ]
    },
    {
     "data": {
      "text/plain": [
       "0.9378787878787879"
      ]
     },
     "execution_count": 133,
     "metadata": {},
     "output_type": "execute_result"
    }
   ],
   "source": [
    "from sklearn.ensemble import RandomForestRegressor\n",
    "from sklearn.experimental import enable_iterative_imputer\n",
    "from sklearn.impute import IterativeImputer\n",
    "\n",
    "rf_imp = IterativeImputer(estimator=RandomForestRegressor())\n",
    "rf_pipe = make_pipeline(rf_imp, StandardScaler(), LogisticRegression())\n",
    "\n",
    "scores = cross_val_score(rf_pipe, X_train, y_train, cv=10)\n",
    "np.mean(scores)"
   ]
  },
  {
   "cell_type": "markdown",
   "metadata": {
    "slideshow": {
     "slide_type": "subslide"
    }
   },
   "source": [
    "\n",
    "\n",
    "# Comparision of Imputation Methods\n",
    "\n",
    "<center>\n",
    "<img src=\"images/med_knn_rf_comparison.png\" style=\"width: 600px;\">\n",
    "</center>"
   ]
  },
  {
   "cell_type": "markdown",
   "metadata": {
    "slideshow": {
     "slide_type": "subslide"
    }
   },
   "source": [
    "\n",
    "# Questions?\n",
    "\n",
    "\n",
    "    "
   ]
  }
 ],
 "metadata": {
  "celltoolbar": "Slideshow",
  "kernelspec": {
   "display_name": "Python 3",
   "language": "python",
   "name": "python3"
  },
  "language_info": {
   "codemirror_mode": {
    "name": "ipython",
    "version": 3
   },
   "file_extension": ".py",
   "mimetype": "text/x-python",
   "name": "python",
   "nbconvert_exporter": "python",
   "pygments_lexer": "ipython3",
   "version": "3.8.5"
  },
  "toc": {
   "base_numbering": 1,
   "nav_menu": {},
   "number_sections": false,
   "sideBar": true,
   "skip_h1_title": false,
   "title_cell": "Table of Contents",
   "title_sidebar": "Contents",
   "toc_cell": false,
   "toc_position": {
    "height": "calc(100% - 180px)",
    "left": "10px",
    "top": "150px",
    "width": "348.188px"
   },
   "toc_section_display": true,
   "toc_window_display": false
  }
 },
 "nbformat": 4,
 "nbformat_minor": 4
}
