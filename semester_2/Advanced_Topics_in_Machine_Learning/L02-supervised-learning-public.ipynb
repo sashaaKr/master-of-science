{
 "cells": [
  {
   "cell_type": "markdown",
   "metadata": {
    "slideshow": {
     "slide_type": "subslide"
    }
   },
   "source": [
    "\n",
    "### Advanced Machine Learning\n",
    "\n",
    "# Introduction to Supervised Learning\n",
    "\n",
    "01/03/21\n",
    "\n",
    "Jonathan Schler\n",
    "\n",
    "(credit: Columbia Univ - 4995 - Machine Learning Course)\n"
   ]
  },
  {
   "cell_type": "markdown",
   "metadata": {
    "slideshow": {
     "slide_type": "subslide"
    }
   },
   "source": [
    "\n",
    "\n",
    "\n",
    "\n",
    "# Supervised Learning\n",
    "\n",
    "<center>\n",
    "\n",
    "$$ (x_i, y_i) \\propto p(x, y) \\text{ i.i.d.}$$\n",
    "$$ x_i \\in \\mathbb{R}^p$$\n",
    "$$ y_i \\in \\mathbb{R}$$\n",
    "$$\\text{learn }f(x_i) \\approx y_i$$\n",
    "such that\n",
    "$$f(x) \\approx y \\quad$$\n",
    "for new $(x, y) \\propto p(x, y)$.\n",
    "</center>"
   ]
  },
  {
   "cell_type": "markdown",
   "metadata": {
    "slideshow": {
     "slide_type": "subslide"
    }
   },
   "source": [
    "\n",
    "\n",
    "\n",
    "# Nearest Neighbors\n",
    "<center>\n",
    "<img src=\"images/knn_boundary_test_points.png\" style=\"width: 600px;\">\n",
    "$$f(x) = y_i, i = \\text{argmin}_j || x_j - x||$$\n",
    "</center>"
   ]
  },
  {
   "cell_type": "markdown",
   "metadata": {
    "slideshow": {
     "slide_type": "subslide"
    }
   },
   "source": [
    "\n",
    "\n",
    "# Nearest Neighbors\n",
    "\n",
    "<center>\n",
    "<img src=\"images/knn_boundary_k1.png\" style=\"width: 600px;\">\n",
    "\n",
    "$$f(x) = y_i, i = \\text{argmin}_j || x_j - x||$$\n",
    "</center>"
   ]
  },
  {
   "cell_type": "markdown",
   "metadata": {
    "slideshow": {
     "slide_type": "subslide"
    }
   },
   "source": [
    "<center>\n",
    "<img src=\"images/train_test_set_2d_classification.png\" style=\"width: 600px;\">\n",
    "</center>\n",
    "\n"
   ]
  },
  {
   "cell_type": "code",
   "execution_count": 114,
   "metadata": {
    "slideshow": {
     "slide_type": "subslide"
    }
   },
   "outputs": [
    {
     "data": {
      "image/png": "[encoded data removed]",
      "text/plain": [
       "<Figure size 600x400 with 1 Axes>"
      ]
     },
     "metadata": {
      "needs_background": "light"
     },
     "output_type": "display_data"
    }
   ],
   "source": [
    "# Imports and Data creation\n",
    "\n",
    "from sklearn.datasets import make_blobs\n",
    "import numpy as np\n",
    "import matplotlib.pyplot as plt\n",
    "from matplotlib import colors\n",
    "\n",
    "%matplotlib inline\n",
    "plt.rcParams['image.cmap'] = \"bwr\"\n",
    "plt.rcParams['figure.dpi'] = \"100\"\n",
    "plt.rcParams['savefig.bbox'] = \"tight\"\n",
    "\n",
    "\n",
    "X, y = make_blobs(centers=2, cluster_std=2, random_state=0, n_samples=50)\n",
    "plt.figure()\n",
    "plt.gca().set_aspect(\"equal\")\n",
    "plt.scatter(X[:, 0], X[:, 1], c=y)\n",
    "plt.show()\n"
   ]
  },
  {
   "cell_type": "code",
   "execution_count": 147,
   "metadata": {
    "slideshow": {
     "slide_type": "subslide"
    }
   },
   "outputs": [
    {
     "name": "stdout",
     "output_type": "stream",
     "text": [
      "accuracy: 0.54\n"
     ]
    }
   ],
   "source": [
    "# actual classification (and it's imports as well)\n",
    "from sklearn.neighbors import KNeighborsClassifier\n",
    "from sklearn.model_selection import train_test_split\n",
    "\n",
    "X_train, X_test, y_train, y_test = train_test_split(X, y)\n",
    "\n",
    "knn = KNeighborsClassifier(n_neighbors=1)\n",
    "knn.fit(X_train, y_train)\n",
    "print(f\"accuracy: {knn.score(X_test, y_test):.2f}\")\n",
    "#y_pred=knn.predict(X_test)\n",
    "#print(np.sum(y_pred==y_test)/len(y_pred))"
   ]
  },
  {
   "cell_type": "markdown",
   "metadata": {
    "slideshow": {
     "slide_type": "subslide"
    }
   },
   "source": [
    "\n",
    "\n",
    "\n",
    "# Influence of Number of Neighbors\n",
    "\n",
    "<center>\n",
    "<img src=\"images/knn_boundary_k1.png\" style=\"width: 600px;\">\n",
    "</center>"
   ]
  },
  {
   "cell_type": "markdown",
   "metadata": {
    "slideshow": {
     "slide_type": "subslide"
    }
   },
   "source": [
    "\n",
    "\n",
    "# Influence of Number of Neighbors\n",
    "\n",
    "<center>\n",
    "<img src=\"images/knn_boundary_k3.png\" style=\"width: 600px;\">\n",
    "</center>\n"
   ]
  },
  {
   "cell_type": "markdown",
   "metadata": {
    "slideshow": {
     "slide_type": "subslide"
    }
   },
   "source": [
    "\n",
    "\n",
    "# Influence of n_neighbors\n",
    "\n",
    "<center>\n",
    "<img src=\"images/knn_boundary_varying_k.png\" style=\"width: 600px;\">\n",
    "</center>\n"
   ]
  },
  {
   "cell_type": "markdown",
   "metadata": {
    "slideshow": {
     "slide_type": "subslide"
    }
   },
   "source": [
    "\n",
    "\n",
    "# Model complexity\n",
    "\n",
    "<center>\n",
    "<img src=\"images/knn_model_complexity.png\" style=\"width: 600px;\">\n",
    "</center>"
   ]
  },
  {
   "cell_type": "markdown",
   "metadata": {
    "slideshow": {
     "slide_type": "subslide"
    }
   },
   "source": [
    "\n",
    "# Overfitting and Underfitting\n",
    "\n",
    "<center>\n",
    "<img src=\"images/overfitting_underfitting_cartoon_train.png\" style=\"width: 600px;\">\n",
    "</center>\n"
   ]
  },
  {
   "cell_type": "markdown",
   "metadata": {
    "slideshow": {
     "slide_type": "subslide"
    }
   },
   "source": [
    "\n",
    "# Overfitting and Underfitting\n",
    "\n",
    "<center>\n",
    "<img src=\"images/overfitting_underfitting_cartoon_generalization.png\" style=\"width: 600px;\">\n",
    "</center>\n"
   ]
  },
  {
   "cell_type": "markdown",
   "metadata": {
    "slideshow": {
     "slide_type": "subslide"
    }
   },
   "source": [
    "# Overfitting and Underfitting\n",
    "\n",
    "<center>\n",
    "<img src=\"images/overfitting_underfitting_cartoon_full.png\" style=\"width: 600px;\">\n",
    "</center>\n"
   ]
  },
  {
   "cell_type": "markdown",
   "metadata": {
    "slideshow": {
     "slide_type": "subslide"
    }
   },
   "source": [
    "\n",
    "\n",
    "# Computational Properties\n",
    "\n",
    "## Naive\n",
    "- fit: no time\n",
    "- memory: O(n * p)\n",
    "- predict: O(n * p)\n",
    "\n",
    "\n",
    "n=num_samples\n",
    "p=num_features\n"
   ]
  },
  {
   "cell_type": "markdown",
   "metadata": {
    "slideshow": {
     "slide_type": "subslide"
    }
   },
   "source": [
    "\n",
    "# Computational Properties\n",
    "\n",
    "## Naive\n",
    "- fit: no time\n",
    "- memory: O(n * p)\n",
    "- predict: O(n * p)\n",
    "\n",
    "## Kd-tree\n",
    "- fit: O(p * n log n)\n",
    "- memory: O(n * p)\n",
    "- predict: O(k * log(n)) (FOR FIXED p!)\n",
    "\n",
    "\n",
    "n=num_samples\n",
    "p=num_features\n",
    "\n"
   ]
  },
  {
   "cell_type": "markdown",
   "metadata": {
    "slideshow": {
     "slide_type": "subslide"
    }
   },
   "source": [
    "\n",
    "\n",
    "# So far: Train-test-split\n",
    "\n",
    "<center>\n",
    "<img src=\"images/train_test_split_new.png\" style=\"width: 600px;\">\n",
    "</center>\n"
   ]
  },
  {
   "cell_type": "markdown",
   "metadata": {
    "slideshow": {
     "slide_type": "subslide"
    }
   },
   "source": [
    "\n",
    "\n",
    "# Threefold split\n",
    "<center>\n",
    "<img src=\"images/train_test_validation_split.png\" style=\"width: 600px;\">\n",
    "</center>"
   ]
  },
  {
   "cell_type": "markdown",
   "metadata": {
    "slideshow": {
     "slide_type": "subslide"
    }
   },
   "source": [
    "Interesting related read on overfitting in cross-validation\n",
    "[Preventing Overfitting in cross-validation - Ng 1997](http://robotics.stanford.edu/~ang/papers/cv-final.pdf)\n",
    "\n",
    "http://robotics.stanford.edu/~ang/papers/cv-final.pdf\n"
   ]
  },
  {
   "cell_type": "markdown",
   "metadata": {
    "slideshow": {
     "slide_type": "subslide"
    }
   },
   "source": [
    "\n",
    "# Overfitting the validation set\n",
    "\n",
    "<center>\n",
    "<img src=\"images/overfitting_validation_set_1.png\" style=\"width: 600px;\">\n",
    "</center>\n"
   ]
  },
  {
   "cell_type": "markdown",
   "metadata": {
    "slideshow": {
     "slide_type": "subslide"
    }
   },
   "source": [
    "# Overfitting the validation set\n",
    "\n",
    "<center>\n",
    "<img src=\"images/overfitting_validation_set_2.png\" style=\"width: 600px;\">\n",
    "</center>\n"
   ]
  },
  {
   "cell_type": "markdown",
   "metadata": {
    "slideshow": {
     "slide_type": "subslide"
    }
   },
   "source": [
    "\n",
    "# Overfitting the validation set\n",
    "\n",
    "<center>\n",
    "<img src=\"images/overfitting_validation_set_3.png\" style=\"width: 600px;\">\n",
    "</center>\n"
   ]
  },
  {
   "cell_type": "markdown",
   "metadata": {
    "slideshow": {
     "slide_type": "subslide"
    }
   },
   "source": [
    "\n",
    "# Overfitting the validation set\n",
    "\n",
    "<center>\n",
    "<img src=\"images/overfitting_validation_set_4.png\" style=\"width: 600px;\">\n",
    "</center>"
   ]
  },
  {
   "cell_type": "code",
   "execution_count": 148,
   "metadata": {
    "slideshow": {
     "slide_type": "subslide"
    }
   },
   "outputs": [
    {
     "name": "stdout",
     "output_type": "stream",
     "text": [
      "best validation score: 0.9\n",
      "best n_neighbors: 3\n",
      "test-set score: 0.692\n"
     ]
    }
   ],
   "source": [
    "rng = np.random.RandomState(42)\n",
    "X_trainval, X_test, y_trainval, y_test = train_test_split(X, y)\n",
    "X_train, X_val, y_train, y_val = train_test_split(X_trainval, y_trainval)\n",
    "\n",
    "val_scores = []\n",
    "neighbors = np.arange(1, 15, 2)\n",
    "for i in neighbors:\n",
    "    knn = KNeighborsClassifier(n_neighbors=i)\n",
    "    knn.fit(X_train, y_train)\n",
    "    val_scores.append(knn.score(X_val, y_val))\n",
    "print(f\"best validation score: {np.max(val_scores):.3}\")\n",
    "best_n_neighbors = neighbors[np.argmax(val_scores)]\n",
    "print(\"best n_neighbors:\", best_n_neighbors)\n",
    "\n",
    "knn = KNeighborsClassifier(n_neighbors=best_n_neighbors)\n",
    "knn.fit(X_trainval, y_trainval)\n",
    "print(f\"test-set score: {knn.score(X_test, y_test):.3f}\")\n"
   ]
  },
  {
   "cell_type": "markdown",
   "metadata": {
    "slideshow": {
     "slide_type": "subslide"
    }
   },
   "source": [
    "\n",
    "# Cross-validation\n",
    "\n",
    "<center>\n",
    "<img src=\"images/cross_validation_new.png\" style=\"width: 600px;\">\n",
    "</center>"
   ]
  },
  {
   "cell_type": "markdown",
   "metadata": {
    "slideshow": {
     "slide_type": "subslide"
    }
   },
   "source": [
    "\n",
    "\n",
    "pro: more stable, more data\n",
    "\n",
    "con: slower\n"
   ]
  },
  {
   "cell_type": "markdown",
   "metadata": {
    "slideshow": {
     "slide_type": "subslide"
    }
   },
   "source": [
    "\n",
    "# Cross-validation + test set\n",
    "\n",
    "<center>\n",
    "<img src=\"images/grid_search_cross_validation_new.png\" style=\"width: 600px;\">\n",
    "</center>"
   ]
  },
  {
   "cell_type": "code",
   "execution_count": 150,
   "metadata": {
    "slideshow": {
     "slide_type": "subslide"
    }
   },
   "outputs": [
    {
     "name": "stdout",
     "output_type": "stream",
     "text": [
      "best cross-validation score: 0.842\n",
      "best n_neighbors: 3\n",
      "test-set score: 0.615\n",
      "[ 1  3  5  7  9 11 13]\n",
      "[0.7833333333333333, 0.8416666666666666, 0.8166666666666668, 0.7916666666666667, 0.7666666666666667, 0.7666666666666667, 0.7083333333333333]\n"
     ]
    }
   ],
   "source": [
    "from sklearn.model_selection import cross_val_score\n",
    "\n",
    "X_train, X_test, y_train, y_test = train_test_split(X, y)\n",
    "\n",
    "cross_val_scores = []\n",
    "neighbors = np.arange(1, 15, 2)\n",
    "\n",
    "for i in neighbors:\n",
    "    knn = KNeighborsClassifier(n_neighbors=i)\n",
    "    scores = cross_val_score(knn, X_train, y_train, cv=10)\n",
    "    cross_val_scores.append(np.mean(scores))\n",
    "    \n",
    "print(f\"best cross-validation score: {np.max(cross_val_scores):.3}\")\n",
    "best_n_neighbors = neighbors[np.argmax(cross_val_scores)]\n",
    "print(f\"best n_neighbors: {best_n_neighbors}\")\n",
    "\n",
    "knn = KNeighborsClassifier(n_neighbors=best_n_neighbors)\n",
    "knn.fit(X_train, y_train)\n",
    "print(f\"test-set score: {knn.score(X_test, y_test):.3f}\")\n",
    "print(neighbors)\n",
    "print(cross_val_scores)"
   ]
  },
  {
   "cell_type": "markdown",
   "metadata": {
    "slideshow": {
     "slide_type": "subslide"
    }
   },
   "source": [
    "\n",
    "<center>\n",
    "<img src=\"images/gridsearch_workflow.png\" style=\"width: 600px;\">\n",
    "</center>"
   ]
  },
  {
   "cell_type": "code",
   "execution_count": 160,
   "metadata": {
    "slideshow": {
     "slide_type": "subslide"
    }
   },
   "outputs": [
    {
     "name": "stdout",
     "output_type": "stream",
     "text": [
      "best mean cross-validation score: 0.7833333333333333\n",
      "best parameters: {'n_neighbors': 17}\n",
      "test-set score: 0.769\n"
     ]
    }
   ],
   "source": [
    "from sklearn.model_selection import GridSearchCV\n",
    "\n",
    "X_train, X_test, y_train, y_test = train_test_split(X, y, stratify=y, random_state=15)\n",
    "\n",
    "\n",
    "param_grid = {'n_neighbors':  np.arange(1, 30, 2)}\n",
    "grid = GridSearchCV(KNeighborsClassifier(), param_grid=param_grid, cv=10,\n",
    "                   return_train_score=True)\n",
    "grid.fit(X_train, y_train)\n",
    "print(f\"best mean cross-validation score: {grid.best_score_}\")\n",
    "print(f\"best parameters: {grid.best_params_}\")\n",
    "print(f\"test-set score: {grid.score(X_test, y_test):.3f}\")\n",
    "#grid.cv_results_"
   ]
  },
  {
   "cell_type": "code",
   "execution_count": 161,
   "metadata": {
    "slideshow": {
     "slide_type": "subslide"
    }
   },
   "outputs": [
    {
     "data": {
      "text/plain": [
       "Index(['mean_fit_time', 'std_fit_time', 'mean_score_time', 'std_score_time',\n",
       "       'param_n_neighbors', 'params', 'split0_test_score', 'split1_test_score',\n",
       "       'split2_test_score', 'split3_test_score', 'split4_test_score',\n",
       "       'split5_test_score', 'split6_test_score', 'split7_test_score',\n",
       "       'split8_test_score', 'split9_test_score', 'mean_test_score',\n",
       "       'std_test_score', 'rank_test_score', 'split0_train_score',\n",
       "       'split1_train_score', 'split2_train_score', 'split3_train_score',\n",
       "       'split4_train_score', 'split5_train_score', 'split6_train_score',\n",
       "       'split7_train_score', 'split8_train_score', 'split9_train_score',\n",
       "       'mean_train_score', 'std_train_score'],\n",
       "      dtype='object')"
      ]
     },
     "execution_count": 161,
     "metadata": {},
     "output_type": "execute_result"
    }
   ],
   "source": [
    "import pandas as pd\n",
    "results = pd.DataFrame(grid.cv_results_)\n",
    "results.columns\n"
   ]
  },
  {
   "cell_type": "code",
   "execution_count": 157,
   "metadata": {
    "slideshow": {
     "slide_type": "subslide"
    }
   },
   "outputs": [
    {
     "data": {
      "text/html": [
       "<div>\n",
       "<style scoped>\n",
       "    .dataframe tbody tr th:only-of-type {\n",
       "        vertical-align: middle;\n",
       "    }\n",
       "\n",
       "    .dataframe tbody tr th {\n",
       "        vertical-align: top;\n",
       "    }\n",
       "\n",
       "    .dataframe thead th {\n",
       "        text-align: right;\n",
       "    }\n",
       "</style>\n",
       "<table border=\"1\" class=\"dataframe\">\n",
       "  <thead>\n",
       "    <tr style=\"text-align: right;\">\n",
       "      <th></th>\n",
       "      <th>mean_fit_time</th>\n",
       "      <th>std_fit_time</th>\n",
       "      <th>mean_score_time</th>\n",
       "      <th>std_score_time</th>\n",
       "      <th>param_n_neighbors</th>\n",
       "      <th>params</th>\n",
       "      <th>split0_test_score</th>\n",
       "      <th>split1_test_score</th>\n",
       "      <th>split2_test_score</th>\n",
       "      <th>split3_test_score</th>\n",
       "      <th>split4_test_score</th>\n",
       "      <th>split5_test_score</th>\n",
       "      <th>split6_test_score</th>\n",
       "      <th>split7_test_score</th>\n",
       "      <th>split8_test_score</th>\n",
       "      <th>split9_test_score</th>\n",
       "      <th>mean_test_score</th>\n",
       "      <th>std_test_score</th>\n",
       "      <th>rank_test_score</th>\n",
       "    </tr>\n",
       "  </thead>\n",
       "  <tbody>\n",
       "    <tr>\n",
       "      <th>0</th>\n",
       "      <td>0.001134</td>\n",
       "      <td>0.000713</td>\n",
       "      <td>0.002659</td>\n",
       "      <td>0.002474</td>\n",
       "      <td>1</td>\n",
       "      <td>{'n_neighbors': 1}</td>\n",
       "      <td>1.00</td>\n",
       "      <td>0.50</td>\n",
       "      <td>0.50</td>\n",
       "      <td>0.75</td>\n",
       "      <td>0.25</td>\n",
       "      <td>0.75</td>\n",
       "      <td>0.75</td>\n",
       "      <td>0.333333</td>\n",
       "      <td>1.000000</td>\n",
       "      <td>1.000000</td>\n",
       "      <td>0.683333</td>\n",
       "      <td>0.262996</td>\n",
       "      <td>14</td>\n",
       "    </tr>\n",
       "    <tr>\n",
       "      <th>1</th>\n",
       "      <td>0.001097</td>\n",
       "      <td>0.000593</td>\n",
       "      <td>0.002009</td>\n",
       "      <td>0.000923</td>\n",
       "      <td>3</td>\n",
       "      <td>{'n_neighbors': 3}</td>\n",
       "      <td>1.00</td>\n",
       "      <td>0.75</td>\n",
       "      <td>0.75</td>\n",
       "      <td>0.75</td>\n",
       "      <td>0.75</td>\n",
       "      <td>0.75</td>\n",
       "      <td>0.50</td>\n",
       "      <td>0.333333</td>\n",
       "      <td>0.666667</td>\n",
       "      <td>0.666667</td>\n",
       "      <td>0.691667</td>\n",
       "      <td>0.166875</td>\n",
       "      <td>10</td>\n",
       "    </tr>\n",
       "    <tr>\n",
       "      <th>2</th>\n",
       "      <td>0.001129</td>\n",
       "      <td>0.000845</td>\n",
       "      <td>0.001683</td>\n",
       "      <td>0.000529</td>\n",
       "      <td>5</td>\n",
       "      <td>{'n_neighbors': 5}</td>\n",
       "      <td>1.00</td>\n",
       "      <td>0.75</td>\n",
       "      <td>0.50</td>\n",
       "      <td>0.75</td>\n",
       "      <td>0.75</td>\n",
       "      <td>0.75</td>\n",
       "      <td>0.50</td>\n",
       "      <td>0.333333</td>\n",
       "      <td>0.666667</td>\n",
       "      <td>0.666667</td>\n",
       "      <td>0.666667</td>\n",
       "      <td>0.174801</td>\n",
       "      <td>15</td>\n",
       "    </tr>\n",
       "    <tr>\n",
       "      <th>3</th>\n",
       "      <td>0.001072</td>\n",
       "      <td>0.000972</td>\n",
       "      <td>0.002142</td>\n",
       "      <td>0.001232</td>\n",
       "      <td>7</td>\n",
       "      <td>{'n_neighbors': 7}</td>\n",
       "      <td>1.00</td>\n",
       "      <td>0.75</td>\n",
       "      <td>0.50</td>\n",
       "      <td>0.75</td>\n",
       "      <td>0.75</td>\n",
       "      <td>1.00</td>\n",
       "      <td>0.50</td>\n",
       "      <td>0.333333</td>\n",
       "      <td>0.666667</td>\n",
       "      <td>0.666667</td>\n",
       "      <td>0.691667</td>\n",
       "      <td>0.200866</td>\n",
       "      <td>10</td>\n",
       "    </tr>\n",
       "    <tr>\n",
       "      <th>4</th>\n",
       "      <td>0.000970</td>\n",
       "      <td>0.000780</td>\n",
       "      <td>0.001918</td>\n",
       "      <td>0.001221</td>\n",
       "      <td>9</td>\n",
       "      <td>{'n_neighbors': 9}</td>\n",
       "      <td>1.00</td>\n",
       "      <td>0.75</td>\n",
       "      <td>0.50</td>\n",
       "      <td>0.75</td>\n",
       "      <td>0.75</td>\n",
       "      <td>1.00</td>\n",
       "      <td>0.50</td>\n",
       "      <td>0.333333</td>\n",
       "      <td>0.666667</td>\n",
       "      <td>0.666667</td>\n",
       "      <td>0.691667</td>\n",
       "      <td>0.200866</td>\n",
       "      <td>10</td>\n",
       "    </tr>\n",
       "    <tr>\n",
       "      <th>5</th>\n",
       "      <td>0.000425</td>\n",
       "      <td>0.000119</td>\n",
       "      <td>0.000817</td>\n",
       "      <td>0.000153</td>\n",
       "      <td>11</td>\n",
       "      <td>{'n_neighbors': 11}</td>\n",
       "      <td>1.00</td>\n",
       "      <td>0.75</td>\n",
       "      <td>0.75</td>\n",
       "      <td>0.75</td>\n",
       "      <td>0.75</td>\n",
       "      <td>1.00</td>\n",
       "      <td>0.50</td>\n",
       "      <td>0.333333</td>\n",
       "      <td>0.666667</td>\n",
       "      <td>0.666667</td>\n",
       "      <td>0.716667</td>\n",
       "      <td>0.190759</td>\n",
       "      <td>8</td>\n",
       "    </tr>\n",
       "    <tr>\n",
       "      <th>6</th>\n",
       "      <td>0.000713</td>\n",
       "      <td>0.000787</td>\n",
       "      <td>0.002040</td>\n",
       "      <td>0.001706</td>\n",
       "      <td>13</td>\n",
       "      <td>{'n_neighbors': 13}</td>\n",
       "      <td>1.00</td>\n",
       "      <td>0.50</td>\n",
       "      <td>0.75</td>\n",
       "      <td>0.75</td>\n",
       "      <td>0.75</td>\n",
       "      <td>1.00</td>\n",
       "      <td>0.50</td>\n",
       "      <td>0.333333</td>\n",
       "      <td>0.666667</td>\n",
       "      <td>0.666667</td>\n",
       "      <td>0.691667</td>\n",
       "      <td>0.200866</td>\n",
       "      <td>10</td>\n",
       "    </tr>\n",
       "    <tr>\n",
       "      <th>7</th>\n",
       "      <td>0.000744</td>\n",
       "      <td>0.000356</td>\n",
       "      <td>0.001878</td>\n",
       "      <td>0.001128</td>\n",
       "      <td>15</td>\n",
       "      <td>{'n_neighbors': 15}</td>\n",
       "      <td>0.75</td>\n",
       "      <td>0.75</td>\n",
       "      <td>1.00</td>\n",
       "      <td>0.75</td>\n",
       "      <td>0.75</td>\n",
       "      <td>1.00</td>\n",
       "      <td>0.50</td>\n",
       "      <td>0.333333</td>\n",
       "      <td>1.000000</td>\n",
       "      <td>0.666667</td>\n",
       "      <td>0.750000</td>\n",
       "      <td>0.207498</td>\n",
       "      <td>6</td>\n",
       "    </tr>\n",
       "    <tr>\n",
       "      <th>8</th>\n",
       "      <td>0.000360</td>\n",
       "      <td>0.000101</td>\n",
       "      <td>0.001281</td>\n",
       "      <td>0.001054</td>\n",
       "      <td>17</td>\n",
       "      <td>{'n_neighbors': 17}</td>\n",
       "      <td>0.75</td>\n",
       "      <td>0.75</td>\n",
       "      <td>1.00</td>\n",
       "      <td>0.75</td>\n",
       "      <td>0.75</td>\n",
       "      <td>1.00</td>\n",
       "      <td>0.50</td>\n",
       "      <td>0.333333</td>\n",
       "      <td>1.000000</td>\n",
       "      <td>1.000000</td>\n",
       "      <td>0.783333</td>\n",
       "      <td>0.217945</td>\n",
       "      <td>1</td>\n",
       "    </tr>\n",
       "    <tr>\n",
       "      <th>9</th>\n",
       "      <td>0.000424</td>\n",
       "      <td>0.000153</td>\n",
       "      <td>0.001163</td>\n",
       "      <td>0.000513</td>\n",
       "      <td>19</td>\n",
       "      <td>{'n_neighbors': 19}</td>\n",
       "      <td>1.00</td>\n",
       "      <td>0.75</td>\n",
       "      <td>1.00</td>\n",
       "      <td>0.75</td>\n",
       "      <td>0.75</td>\n",
       "      <td>1.00</td>\n",
       "      <td>0.50</td>\n",
       "      <td>0.333333</td>\n",
       "      <td>1.000000</td>\n",
       "      <td>0.666667</td>\n",
       "      <td>0.775000</td>\n",
       "      <td>0.220637</td>\n",
       "      <td>3</td>\n",
       "    </tr>\n",
       "    <tr>\n",
       "      <th>10</th>\n",
       "      <td>0.000351</td>\n",
       "      <td>0.000074</td>\n",
       "      <td>0.001009</td>\n",
       "      <td>0.000250</td>\n",
       "      <td>21</td>\n",
       "      <td>{'n_neighbors': 21}</td>\n",
       "      <td>1.00</td>\n",
       "      <td>0.75</td>\n",
       "      <td>0.75</td>\n",
       "      <td>0.75</td>\n",
       "      <td>1.00</td>\n",
       "      <td>1.00</td>\n",
       "      <td>0.50</td>\n",
       "      <td>0.333333</td>\n",
       "      <td>1.000000</td>\n",
       "      <td>0.666667</td>\n",
       "      <td>0.775000</td>\n",
       "      <td>0.220637</td>\n",
       "      <td>3</td>\n",
       "    </tr>\n",
       "    <tr>\n",
       "      <th>11</th>\n",
       "      <td>0.000363</td>\n",
       "      <td>0.000096</td>\n",
       "      <td>0.000874</td>\n",
       "      <td>0.000243</td>\n",
       "      <td>23</td>\n",
       "      <td>{'n_neighbors': 23}</td>\n",
       "      <td>0.75</td>\n",
       "      <td>0.75</td>\n",
       "      <td>0.75</td>\n",
       "      <td>0.75</td>\n",
       "      <td>1.00</td>\n",
       "      <td>1.00</td>\n",
       "      <td>0.50</td>\n",
       "      <td>0.333333</td>\n",
       "      <td>1.000000</td>\n",
       "      <td>1.000000</td>\n",
       "      <td>0.783333</td>\n",
       "      <td>0.217945</td>\n",
       "      <td>1</td>\n",
       "    </tr>\n",
       "    <tr>\n",
       "      <th>12</th>\n",
       "      <td>0.000342</td>\n",
       "      <td>0.000081</td>\n",
       "      <td>0.000786</td>\n",
       "      <td>0.000213</td>\n",
       "      <td>25</td>\n",
       "      <td>{'n_neighbors': 25}</td>\n",
       "      <td>0.75</td>\n",
       "      <td>0.75</td>\n",
       "      <td>0.75</td>\n",
       "      <td>0.75</td>\n",
       "      <td>1.00</td>\n",
       "      <td>0.75</td>\n",
       "      <td>0.50</td>\n",
       "      <td>0.333333</td>\n",
       "      <td>1.000000</td>\n",
       "      <td>1.000000</td>\n",
       "      <td>0.758333</td>\n",
       "      <td>0.205649</td>\n",
       "      <td>5</td>\n",
       "    </tr>\n",
       "    <tr>\n",
       "      <th>13</th>\n",
       "      <td>0.000340</td>\n",
       "      <td>0.000102</td>\n",
       "      <td>0.001029</td>\n",
       "      <td>0.000503</td>\n",
       "      <td>27</td>\n",
       "      <td>{'n_neighbors': 27}</td>\n",
       "      <td>0.75</td>\n",
       "      <td>0.75</td>\n",
       "      <td>0.75</td>\n",
       "      <td>0.75</td>\n",
       "      <td>1.00</td>\n",
       "      <td>1.00</td>\n",
       "      <td>0.50</td>\n",
       "      <td>0.333333</td>\n",
       "      <td>0.666667</td>\n",
       "      <td>1.000000</td>\n",
       "      <td>0.750000</td>\n",
       "      <td>0.207498</td>\n",
       "      <td>6</td>\n",
       "    </tr>\n",
       "    <tr>\n",
       "      <th>14</th>\n",
       "      <td>0.000315</td>\n",
       "      <td>0.000066</td>\n",
       "      <td>0.000814</td>\n",
       "      <td>0.000112</td>\n",
       "      <td>29</td>\n",
       "      <td>{'n_neighbors': 29}</td>\n",
       "      <td>0.75</td>\n",
       "      <td>0.75</td>\n",
       "      <td>0.75</td>\n",
       "      <td>0.75</td>\n",
       "      <td>1.00</td>\n",
       "      <td>1.00</td>\n",
       "      <td>0.50</td>\n",
       "      <td>0.333333</td>\n",
       "      <td>0.666667</td>\n",
       "      <td>0.666667</td>\n",
       "      <td>0.716667</td>\n",
       "      <td>0.190759</td>\n",
       "      <td>8</td>\n",
       "    </tr>\n",
       "  </tbody>\n",
       "</table>\n",
       "</div>"
      ],
      "text/plain": [
       "    mean_fit_time  std_fit_time  mean_score_time  std_score_time  \\\n",
       "0        0.001134      0.000713         0.002659        0.002474   \n",
       "1        0.001097      0.000593         0.002009        0.000923   \n",
       "2        0.001129      0.000845         0.001683        0.000529   \n",
       "3        0.001072      0.000972         0.002142        0.001232   \n",
       "4        0.000970      0.000780         0.001918        0.001221   \n",
       "5        0.000425      0.000119         0.000817        0.000153   \n",
       "6        0.000713      0.000787         0.002040        0.001706   \n",
       "7        0.000744      0.000356         0.001878        0.001128   \n",
       "8        0.000360      0.000101         0.001281        0.001054   \n",
       "9        0.000424      0.000153         0.001163        0.000513   \n",
       "10       0.000351      0.000074         0.001009        0.000250   \n",
       "11       0.000363      0.000096         0.000874        0.000243   \n",
       "12       0.000342      0.000081         0.000786        0.000213   \n",
       "13       0.000340      0.000102         0.001029        0.000503   \n",
       "14       0.000315      0.000066         0.000814        0.000112   \n",
       "\n",
       "   param_n_neighbors               params  split0_test_score  \\\n",
       "0                  1   {'n_neighbors': 1}               1.00   \n",
       "1                  3   {'n_neighbors': 3}               1.00   \n",
       "2                  5   {'n_neighbors': 5}               1.00   \n",
       "3                  7   {'n_neighbors': 7}               1.00   \n",
       "4                  9   {'n_neighbors': 9}               1.00   \n",
       "5                 11  {'n_neighbors': 11}               1.00   \n",
       "6                 13  {'n_neighbors': 13}               1.00   \n",
       "7                 15  {'n_neighbors': 15}               0.75   \n",
       "8                 17  {'n_neighbors': 17}               0.75   \n",
       "9                 19  {'n_neighbors': 19}               1.00   \n",
       "10                21  {'n_neighbors': 21}               1.00   \n",
       "11                23  {'n_neighbors': 23}               0.75   \n",
       "12                25  {'n_neighbors': 25}               0.75   \n",
       "13                27  {'n_neighbors': 27}               0.75   \n",
       "14                29  {'n_neighbors': 29}               0.75   \n",
       "\n",
       "    split1_test_score  split2_test_score  split3_test_score  \\\n",
       "0                0.50               0.50               0.75   \n",
       "1                0.75               0.75               0.75   \n",
       "2                0.75               0.50               0.75   \n",
       "3                0.75               0.50               0.75   \n",
       "4                0.75               0.50               0.75   \n",
       "5                0.75               0.75               0.75   \n",
       "6                0.50               0.75               0.75   \n",
       "7                0.75               1.00               0.75   \n",
       "8                0.75               1.00               0.75   \n",
       "9                0.75               1.00               0.75   \n",
       "10               0.75               0.75               0.75   \n",
       "11               0.75               0.75               0.75   \n",
       "12               0.75               0.75               0.75   \n",
       "13               0.75               0.75               0.75   \n",
       "14               0.75               0.75               0.75   \n",
       "\n",
       "    split4_test_score  split5_test_score  split6_test_score  \\\n",
       "0                0.25               0.75               0.75   \n",
       "1                0.75               0.75               0.50   \n",
       "2                0.75               0.75               0.50   \n",
       "3                0.75               1.00               0.50   \n",
       "4                0.75               1.00               0.50   \n",
       "5                0.75               1.00               0.50   \n",
       "6                0.75               1.00               0.50   \n",
       "7                0.75               1.00               0.50   \n",
       "8                0.75               1.00               0.50   \n",
       "9                0.75               1.00               0.50   \n",
       "10               1.00               1.00               0.50   \n",
       "11               1.00               1.00               0.50   \n",
       "12               1.00               0.75               0.50   \n",
       "13               1.00               1.00               0.50   \n",
       "14               1.00               1.00               0.50   \n",
       "\n",
       "    split7_test_score  split8_test_score  split9_test_score  mean_test_score  \\\n",
       "0            0.333333           1.000000           1.000000         0.683333   \n",
       "1            0.333333           0.666667           0.666667         0.691667   \n",
       "2            0.333333           0.666667           0.666667         0.666667   \n",
       "3            0.333333           0.666667           0.666667         0.691667   \n",
       "4            0.333333           0.666667           0.666667         0.691667   \n",
       "5            0.333333           0.666667           0.666667         0.716667   \n",
       "6            0.333333           0.666667           0.666667         0.691667   \n",
       "7            0.333333           1.000000           0.666667         0.750000   \n",
       "8            0.333333           1.000000           1.000000         0.783333   \n",
       "9            0.333333           1.000000           0.666667         0.775000   \n",
       "10           0.333333           1.000000           0.666667         0.775000   \n",
       "11           0.333333           1.000000           1.000000         0.783333   \n",
       "12           0.333333           1.000000           1.000000         0.758333   \n",
       "13           0.333333           0.666667           1.000000         0.750000   \n",
       "14           0.333333           0.666667           0.666667         0.716667   \n",
       "\n",
       "    std_test_score  rank_test_score  \n",
       "0         0.262996               14  \n",
       "1         0.166875               10  \n",
       "2         0.174801               15  \n",
       "3         0.200866               10  \n",
       "4         0.200866               10  \n",
       "5         0.190759                8  \n",
       "6         0.200866               10  \n",
       "7         0.207498                6  \n",
       "8         0.217945                1  \n",
       "9         0.220637                3  \n",
       "10        0.220637                3  \n",
       "11        0.217945                1  \n",
       "12        0.205649                5  \n",
       "13        0.207498                6  \n",
       "14        0.190759                8  "
      ]
     },
     "execution_count": 157,
     "metadata": {},
     "output_type": "execute_result"
    }
   ],
   "source": [
    "results"
   ]
  },
  {
   "cell_type": "code",
   "execution_count": 158,
   "metadata": {
    "slideshow": {
     "slide_type": "subslide"
    }
   },
   "outputs": [
    {
     "data": {
      "text/plain": [
       "0      {'n_neighbors': 1}\n",
       "1      {'n_neighbors': 3}\n",
       "2      {'n_neighbors': 5}\n",
       "3      {'n_neighbors': 7}\n",
       "4      {'n_neighbors': 9}\n",
       "5     {'n_neighbors': 11}\n",
       "6     {'n_neighbors': 13}\n",
       "7     {'n_neighbors': 15}\n",
       "8     {'n_neighbors': 17}\n",
       "9     {'n_neighbors': 19}\n",
       "10    {'n_neighbors': 21}\n",
       "11    {'n_neighbors': 23}\n",
       "12    {'n_neighbors': 25}\n",
       "13    {'n_neighbors': 27}\n",
       "14    {'n_neighbors': 29}\n",
       "Name: params, dtype: object"
      ]
     },
     "execution_count": 158,
     "metadata": {},
     "output_type": "execute_result"
    }
   ],
   "source": [
    "results.params"
   ]
  },
  {
   "cell_type": "code",
   "execution_count": 164,
   "metadata": {
    "slideshow": {
     "slide_type": "subslide"
    }
   },
   "outputs": [
    {
     "data": {
      "text/plain": [
       "<matplotlib.legend.Legend at 0x1a21dcd110>"
      ]
     },
     "execution_count": 164,
     "metadata": {},
     "output_type": "execute_result"
    },
    {
     "data": {
      "image/png": "[encoded data removed]",
      "text/plain": [
       "<Figure size 600x400 with 1 Axes>"
      ]
     },
     "metadata": {
      "needs_background": "light"
     },
     "output_type": "display_data"
    }
   ],
   "source": [
    "import pandas as pd\n",
    "results = pd.DataFrame(grid.cv_results_)\n",
    "results.columns\n",
    "\n",
    "results.plot('param_n_neighbors', 'mean_train_score')\n",
    "results.plot('param_n_neighbors', 'mean_test_score', ax=plt.gca())\n",
    "plt.fill_between(results.param_n_neighbors.astype(np.int),\n",
    "                   results['mean_train_score'] + results['std_train_score'],\n",
    "                   results['mean_train_score'] - results['std_train_score'], alpha=0.2)\n",
    "plt.fill_between(results.param_n_neighbors.astype(np.int),\n",
    "                   results['mean_test_score'] + results['std_test_score'],\n",
    "                   results['mean_test_score'] - results['std_test_score'], alpha=0.2)\n",
    "plt.legend()"
   ]
  },
  {
   "cell_type": "markdown",
   "metadata": {
    "slideshow": {
     "slide_type": "subslide"
    }
   },
   "source": [
    "\n",
    "# Nested Cross-Validation\n",
    "\n",
    "- Replace outer split by CV loop\n",
    "- Doesn’t yield single model\n",
    "(inner loop might have different best parameter settings)\n",
    "- Takes a long time, not that useful in practice\n"
   ]
  },
  {
   "cell_type": "markdown",
   "metadata": {
    "slideshow": {
     "slide_type": "subslide"
    }
   },
   "source": [
    "# Cross-Validation Strategies\n"
   ]
  },
  {
   "cell_type": "markdown",
   "metadata": {
    "slideshow": {
     "slide_type": "subslide"
    }
   },
   "source": [
    "\n",
    "![:scale 90%](images/kfold_cv.png)\n"
   ]
  },
  {
   "cell_type": "markdown",
   "metadata": {
    "slideshow": {
     "slide_type": "subslide"
    }
   },
   "source": [
    "\n",
    "<center>\n",
    "<img src=\"images/stratified_cv.png\" style=\"width: 600px;\">\n",
    "</center>\n",
    "\n",
    "\n",
    "Stratified:\n",
    "Ensure relative class frequencies in each fold reflect relative class\n",
    "frequencies on the whole dataset.\n"
   ]
  },
  {
   "cell_type": "markdown",
   "metadata": {
    "slideshow": {
     "slide_type": "slide"
    }
   },
   "source": [
    "\n",
    "# Importance of Stratification"
   ]
  },
  {
   "cell_type": "code",
   "execution_count": 168,
   "metadata": {
    "slideshow": {
     "slide_type": "subslide"
    }
   },
   "outputs": [
    {
     "data": {
      "text/plain": [
       "0    60\n",
       "1    40\n",
       "dtype: int64"
      ]
     },
     "execution_count": 168,
     "metadata": {},
     "output_type": "execute_result"
    }
   ],
   "source": [
    "rng = np.random.RandomState(0)\n",
    "X = rng.normal(size=(100, 2))\n",
    "y = np.zeros(100, int)\n",
    "y[:40] = 1\n",
    "y = pd.Series(y)\n",
    "\n",
    "y.value_counts()\n"
   ]
  },
  {
   "cell_type": "code",
   "execution_count": 169,
   "metadata": {
    "slideshow": {
     "slide_type": "subslide"
    }
   },
   "outputs": [
    {
     "name": "stderr",
     "output_type": "stream",
     "text": [
      "/Users/jonathan.schler/anaconda3/envs/python37/lib/python3.7/site-packages/sklearn/utils/validation.py:71: FutureWarning: Pass strategy=most_frequent as keyword args. From version 0.25 passing these as positional arguments will result in an error\n",
      "  FutureWarning)\n"
     ]
    },
    {
     "data": {
      "text/plain": [
       "(0.6, 0.0)"
      ]
     },
     "execution_count": 169,
     "metadata": {},
     "output_type": "execute_result"
    }
   ],
   "source": [
    "from sklearn.dummy import DummyClassifier\n",
    "from sklearn.model_selection import cross_val_score, KFold, StratifiedKFold\n",
    "\n",
    "dc = DummyClassifier('most_frequent')\n",
    "skf = StratifiedKFold(n_splits=5, shuffle=True)\n",
    "res = cross_val_score(dc, X, y, cv=skf)\n",
    "np.mean(res), res.std()"
   ]
  },
  {
   "cell_type": "code",
   "execution_count": 171,
   "metadata": {
    "slideshow": {
     "slide_type": "subslide"
    }
   },
   "outputs": [
    {
     "data": {
      "text/plain": [
       "(0.6, 0.12247448713915889)"
      ]
     },
     "execution_count": 171,
     "metadata": {},
     "output_type": "execute_result"
    }
   ],
   "source": [
    "kf = KFold(n_splits=5, shuffle=True)\n",
    "res = cross_val_score(dc, X, y, cv=kf)\n",
    "np.mean(res), res.std()"
   ]
  },
  {
   "cell_type": "markdown",
   "metadata": {
    "slideshow": {
     "slide_type": "subslide"
    }
   },
   "source": [
    "\n",
    "\n",
    "# Repeated KFold and LeaveOneOut\n",
    "\n",
    "- LeaveOneOut : KFold(n_folds=n_samples) <br>\n",
    "High variance, takes a long time <br>\n",
    "(see [Raschka](https://arxiv.org/pdf/1811.12808.pdf) for a review and [Varoquaux](https://hal.inria.fr/hal-01545002/file/paper.pdf) for empirical evaluation)\n",
    "\n",
    "- Better: ShuffleSplit (aka Monte Carlo) <br>\n",
    "Repeatedly sample a test set with replacement\n",
    "\n",
    "- Even Better: RepeatedKFold. <br>\n",
    "Apply KFold or StratifiedKFold multiple times with shuffled data.\n"
   ]
  },
  {
   "cell_type": "markdown",
   "metadata": {
    "slideshow": {
     "slide_type": "subslide"
    }
   },
   "source": [
    "<center>\n",
    "<img src=\"images/shuffle_split_cv.png\" style=\"width: 600px;\">\n",
    "</center>\n",
    "\n",
    "Number of iterations and test set size independent"
   ]
  },
  {
   "cell_type": "markdown",
   "metadata": {
    "slideshow": {
     "slide_type": "subslide"
    }
   },
   "source": [
    "<center>\n",
    "<img src=\"images/repeated_stratified_kfold.png\" style=\"width: 600px;\">\n",
    "</center>\n",
    "\n",
    "\n",
    "Potentially less variance than StratifiedShuffleSplit.<br>\n",
    "Five times five fold or at most ten times ten fold is sufficient.\n"
   ]
  },
  {
   "cell_type": "markdown",
   "metadata": {
    "slideshow": {
     "slide_type": "subslide"
    }
   },
   "source": [
    "\n",
    "# Defaults in scikit-learn\n",
    "\n",
    "- 5-fold in 0.22 (used to be 3 fold)\n",
    "- For classification cross-validation is stratified\n",
    "- train_test_split has stratify option:\n",
    "train_test_split(X, y, stratify=y)\n",
    "\n",
    "- No shuffle by default!\n"
   ]
  },
  {
   "cell_type": "markdown",
   "metadata": {
    "slideshow": {
     "slide_type": "subslide"
    }
   },
   "source": [
    "\n",
    "# Cross-Validation with non-iid data\n"
   ]
  },
  {
   "cell_type": "markdown",
   "metadata": {
    "slideshow": {
     "slide_type": "subslide"
    }
   },
   "source": [
    "\n",
    "# Grouped Data\n",
    "### Assume have data (medical, product, user...) from 5 cities\n",
    "- Tel Aviv, Jerusalem, Eilat, Kiryat Shmona, Yericho.\n",
    "\n",
    "We can assume data within a city is more correlated then between cities.\n",
    "\n",
    "### Usage Scenarios\n",
    "- Assume all future users will be in one of these cities: i.i.d.\n",
    "- Assume we want to generalize to predict for a new city: not i.i.d.\n"
   ]
  },
  {
   "cell_type": "markdown",
   "metadata": {
    "slideshow": {
     "slide_type": "subslide"
    }
   },
   "source": [
    "<center>\n",
    "<img src=\"images/group_kfold.png\" style=\"width: 600px;\">\n",
    "</center>\n"
   ]
  },
  {
   "cell_type": "markdown",
   "metadata": {
    "slideshow": {
     "slide_type": "subslide"
    }
   },
   "source": [
    "\n",
    "# Correlations in time (and/or space)\n",
    "\n",
    "<center>\n",
    "<img src=\"images/time_series1.png\" style=\"width: 600px;\">\n",
    "</center>\n"
   ]
  },
  {
   "cell_type": "markdown",
   "metadata": {
    "slideshow": {
     "slide_type": "subslide"
    }
   },
   "source": [
    "# Correlations in time (and/or space)\n",
    "\n",
    "<center>\n",
    "<img src=\"images/time_series2.png\" style=\"width: 600px;\">\n",
    "</center>"
   ]
  },
  {
   "cell_type": "markdown",
   "metadata": {
    "slideshow": {
     "slide_type": "subslide"
    }
   },
   "source": [
    "\n",
    "# Correlations in time (and/or space)\n",
    "\n",
    "<center>\n",
    "<img src=\"images/time_series3.png\" style=\"width: 600px;\">\n",
    "</center>\n"
   ]
  },
  {
   "cell_type": "markdown",
   "metadata": {
    "slideshow": {
     "slide_type": "subslide"
    }
   },
   "source": [
    "<center>\n",
    "<img src=\"images/time_series_walk_forward_cv.png\" style=\"width: 600px;\">\n",
    "</center>\n"
   ]
  },
  {
   "cell_type": "markdown",
   "metadata": {
    "slideshow": {
     "slide_type": "subslide"
    }
   },
   "source": [
    "<center>\n",
    "<img src=\"images/time_series_cv.png\" style=\"width: 600px;\">\n",
    "</center>\n"
   ]
  },
  {
   "cell_type": "markdown",
   "metadata": {
    "slideshow": {
     "slide_type": "subslide"
    }
   },
   "source": [
    "# Using Cross-Validation Generators"
   ]
  },
  {
   "cell_type": "code",
   "execution_count": null,
   "metadata": {
    "slideshow": {
     "slide_type": "subslide"
    }
   },
   "outputs": [],
   "source": [
    "from sklearn.model_selection import KFold, StratifiedKFold, ShuffleSplit, RepeatedStratifiedKFold\n",
    "\n",
    "X, y = make_blobs(centers=2, cluster_std=2, random_state=0, n_samples=50)\n",
    "\n",
    "kfold = KFold(n_splits=5)\n",
    "skfold = StratifiedKFold(n_splits=5, shuffle=True)\n",
    "ss = ShuffleSplit(n_splits=20, train_size=.4, test_size=.3)\n",
    "rs = RepeatedStratifiedKFold(n_splits=5, n_repeats=10)\n",
    "\n",
    "print(\"KFold:\")\n",
    "print(cross_val_score(KNeighborsClassifier(), X, y, cv=kfold))\n",
    "\n",
    "print(\"StratifiedKFold:\")\n",
    "print(cross_val_score(KNeighborsClassifier(), X, y, cv=skfold))\n",
    "\n",
    "print(\"ShuffleSplit:\")\n",
    "print(cross_val_score(KNeighborsClassifier(), X, y, cv=ss))\n",
    "\n",
    "print(\"RepeatedStratifiedKFold:\")\n",
    "print(cross_val_score(KNeighborsClassifier(), X, y, cv=rs))\n"
   ]
  },
  {
   "cell_type": "markdown",
   "metadata": {
    "slideshow": {
     "slide_type": "subslide"
    }
   },
   "source": [
    "# cross_validate function"
   ]
  },
  {
   "cell_type": "code",
   "execution_count": 172,
   "metadata": {
    "slideshow": {
     "slide_type": "subslide"
    }
   },
   "outputs": [
    {
     "data": {
      "text/html": [
       "<div>\n",
       "<style scoped>\n",
       "    .dataframe tbody tr th:only-of-type {\n",
       "        vertical-align: middle;\n",
       "    }\n",
       "\n",
       "    .dataframe tbody tr th {\n",
       "        vertical-align: top;\n",
       "    }\n",
       "\n",
       "    .dataframe thead th {\n",
       "        text-align: right;\n",
       "    }\n",
       "</style>\n",
       "<table border=\"1\" class=\"dataframe\">\n",
       "  <thead>\n",
       "    <tr style=\"text-align: right;\">\n",
       "      <th></th>\n",
       "      <th>fit_time</th>\n",
       "      <th>score_time</th>\n",
       "      <th>test_accuracy</th>\n",
       "      <th>train_accuracy</th>\n",
       "      <th>test_roc_auc</th>\n",
       "      <th>train_roc_auc</th>\n",
       "    </tr>\n",
       "  </thead>\n",
       "  <tbody>\n",
       "    <tr>\n",
       "      <th>0</th>\n",
       "      <td>0.000942</td>\n",
       "      <td>0.007009</td>\n",
       "      <td>0.65</td>\n",
       "      <td>0.7750</td>\n",
       "      <td>0.614583</td>\n",
       "      <td>0.788411</td>\n",
       "    </tr>\n",
       "    <tr>\n",
       "      <th>1</th>\n",
       "      <td>0.001650</td>\n",
       "      <td>0.036768</td>\n",
       "      <td>0.65</td>\n",
       "      <td>0.6500</td>\n",
       "      <td>0.770833</td>\n",
       "      <td>0.670247</td>\n",
       "    </tr>\n",
       "    <tr>\n",
       "      <th>2</th>\n",
       "      <td>0.001591</td>\n",
       "      <td>0.009427</td>\n",
       "      <td>0.55</td>\n",
       "      <td>0.7000</td>\n",
       "      <td>0.473958</td>\n",
       "      <td>0.754883</td>\n",
       "    </tr>\n",
       "    <tr>\n",
       "      <th>3</th>\n",
       "      <td>0.001003</td>\n",
       "      <td>0.003331</td>\n",
       "      <td>0.45</td>\n",
       "      <td>0.7375</td>\n",
       "      <td>0.458333</td>\n",
       "      <td>0.805339</td>\n",
       "    </tr>\n",
       "    <tr>\n",
       "      <th>4</th>\n",
       "      <td>0.000944</td>\n",
       "      <td>0.008440</td>\n",
       "      <td>0.55</td>\n",
       "      <td>0.7125</td>\n",
       "      <td>0.598958</td>\n",
       "      <td>0.771484</td>\n",
       "    </tr>\n",
       "  </tbody>\n",
       "</table>\n",
       "</div>"
      ],
      "text/plain": [
       "   fit_time  score_time  test_accuracy  train_accuracy  test_roc_auc  \\\n",
       "0  0.000942    0.007009           0.65          0.7750      0.614583   \n",
       "1  0.001650    0.036768           0.65          0.6500      0.770833   \n",
       "2  0.001591    0.009427           0.55          0.7000      0.473958   \n",
       "3  0.001003    0.003331           0.45          0.7375      0.458333   \n",
       "4  0.000944    0.008440           0.55          0.7125      0.598958   \n",
       "\n",
       "   train_roc_auc  \n",
       "0       0.788411  \n",
       "1       0.670247  \n",
       "2       0.754883  \n",
       "3       0.805339  \n",
       "4       0.771484  "
      ]
     },
     "execution_count": 172,
     "metadata": {},
     "output_type": "execute_result"
    }
   ],
   "source": [
    "from sklearn.model_selection import cross_validate\n",
    "res = cross_validate(KNeighborsClassifier(), X, y, return_train_score=True,\n",
    "                     scoring=[\"accuracy\", \"roc_auc\"])\n",
    "res_df = pd.DataFrame(res)\n",
    "res_df"
   ]
  },
  {
   "cell_type": "markdown",
   "metadata": {
    "slideshow": {
     "slide_type": "subslide"
    }
   },
   "source": [
    "\n",
    "\n",
    "\n",
    "\n",
    "# Questions ?\n",
    "\n",
    "    "
   ]
  },
  {
   "cell_type": "code",
   "execution_count": null,
   "metadata": {},
   "outputs": [],
   "source": []
  }
 ],
 "metadata": {
  "celltoolbar": "Slideshow",
  "kernelspec": {
   "display_name": "Python 3",
   "language": "python",
   "name": "python3"
  },
  "language_info": {
   "codemirror_mode": {
    "name": "ipython",
    "version": 3
   },
   "file_extension": ".py",
   "mimetype": "text/x-python",
   "name": "python",
   "nbconvert_exporter": "python",
   "pygments_lexer": "ipython3",
   "version": "3.7.7"
  },
  "toc": {
   "base_numbering": 1,
   "nav_menu": {},
   "number_sections": false,
   "sideBar": true,
   "skip_h1_title": false,
   "title_cell": "Table of Contents",
   "title_sidebar": "Contents",
   "toc_cell": false,
   "toc_position": {},
   "toc_section_display": true,
   "toc_window_display": false
  }
 },
 "nbformat": 4,
 "nbformat_minor": 4
}
