{
 "cells": [
  {
   "cell_type": "markdown",
   "metadata": {},
   "source": [
    "### Advanced Machine Learning\n",
    "\n",
    "# Final Assignment  - Detect True vs False Stories (lie detection)\n",
    "\n",
    "Assignment Start: 11/07/21 00:00<br>\n",
    "Assignment Due: 18/07/21 23:59 (moodle will be closed for submissions that time)\n",
    "\n",
    "Jonathan Schler\n"
   ]
  },
  {
   "cell_type": "code",
   "execution_count": 1,
   "metadata": {},
   "outputs": [],
   "source": [
    "id=\"337839112\"\n",
    "name=\"Sofya Zubtsovsky\""
   ]
  },
  {
   "cell_type": "markdown",
   "metadata": {},
   "source": [
    "## Introduction\n",
    "You are provided with a labeled corpus of narratives in Hebrew. The corpus is provided as a csv file. Each row represents a narrative. It has 5 fields: id, author_gender, author_birth_year, narrative and label. The label for each narrative indicates whether this is a true or false story (i.e. the author lied when he told the story) (label \"1\" for True, and \"0\" for false). \n",
    "\n",
    "You are requested to build a model to predict whether a new story in Hebrew is true or false (i.e a lie). You are provided with 2 files: \n",
    "- `train_dataset.csv` - which contains **labeled** examples, and \n",
    "- `test_dataset.csv` that contains **unlabled** examples that you'll have to classify and submit the results. The narrtives in this file will have the same fields except of the label field.\n",
    "\n",
    "(you'll be graded based on the quality of the labels assigned to the `test_dataset.csv`).\n",
    "\n",
    "\n",
    "\n"
   ]
  },
  {
   "cell_type": "markdown",
   "metadata": {},
   "source": [
    "## What is expected from you\n",
    "1. Build a classifier (including all pre-processing steps - as you think may fit (feature engineering, pre-processing, scaling etc) ) that will classify an unlabled document (including reasonable documentation for the steps you chose to do)\n",
    "2. Report on how you chose to evaluate your algorithm and the scores of that evaluation\n",
    "3. Apply the model on the unlabeled data set (`test_dataset.csv`), and return the results in the format described below\n",
    "4. At the end, you are requested to submit 2 files: (a) this notebook, and (b) the output csv file. Submission will be done via moodle. The output csv is the file, that contains the prediction for the `test_dataset.csv`. The naming of the file should be `<your_id_number>.csv` (where `<your_id_number>` will be replaced with you actual ID number). The file will contain for each doc a label `1` (for true narratives) or `0` (for false narratives) (such that each row contains only one label, corresponding to the document in the given row in the `test_dataset.csv` document). You can see a sample output file under the name `123456789.csv` in the moodle."
   ]
  },
  {
   "cell_type": "markdown",
   "metadata": {},
   "source": [
    "## Grading Guidelines\n",
    "1. Overall approach and workable solution (70 pts)\n",
    "2. Average f1 score of higher than 0.50 (10 pts)\n",
    "3. Average f1 score of higher than 0.58 (additional 5 pts)\n",
    "4. Competitive element: 15 Highest average f1 score - will get additional 15 pts, top score the extra 15 points, second highest - extra 14 points etc - in case of similar scores it will be divided proportionaly."
   ]
  },
  {
   "cell_type": "markdown",
   "metadata": {},
   "source": [
    "## Other Guidelines\n",
    "1. Work in indivudual, collaboration is not allowed. \n",
    "2. You are allowed to use all the toolsets we learned / mentioned in class, in addition to any other avialble toolsets for text processing or Hebrew data as you think is appropriate.\n"
   ]
  },
  {
   "cell_type": "markdown",
   "metadata": {},
   "source": [
    "## Good Luck!"
   ]
  },
  {
   "cell_type": "code",
   "execution_count": 2,
   "metadata": {},
   "outputs": [
    {
     "name": "stdout",
     "output_type": "stream",
     "text": [
      "Requirement already satisfied: python-bidi in /home/zsofya/jupyter_git/jup-nb-generic/lib/python3.8/site-packages (0.4.2)\n",
      "Requirement already satisfied: six in /home/zsofya/jupyter_git/jup-nb-generic/lib/python3.8/site-packages (from python-bidi) (1.15.0)\n",
      "\u001b[33mWARNING: You are using pip version 21.1.1; however, version 21.1.3 is available.\n",
      "You should consider upgrading via the '/home/zsofya/jupyter_git/jup-nb-generic/bin/python3 -m pip install --upgrade pip' command.\u001b[0m\n",
      "Note: you may need to restart the kernel to use updated packages.\n"
     ]
    }
   ],
   "source": [
    "pip install python-bidi #worked for me"
   ]
  },
  {
   "cell_type": "code",
   "execution_count": 3,
   "metadata": {},
   "outputs": [],
   "source": [
    "import numpy as np\n",
    "import pandas as pd\n",
    "import seaborn as sns\n",
    "import matplotlib.pyplot as plt\n",
    "from sklearn.model_selection import train_test_split, cross_val_score, cross_validate\n",
    "from sklearn.linear_model import LogisticRegression, LogisticRegressionCV, PassiveAggressiveClassifier, Perceptron, RidgeClassifier, RidgeClassifierCV, SGDClassifier\n",
    "from sklearn.feature_extraction.text import CountVectorizer , TfidfVectorizer, TfidfTransformer\n",
    "from sklearn.preprocessing import normalize, StandardScaler, FunctionTransformer\n",
    "from sklearn.pipeline import Pipeline, FeatureUnion\n",
    "pd.options.display.float_format = '{:f}'.format\n",
    "from sklearn.metrics import classification_report, confusion_matrix, plot_confusion_matrix\n",
    "from bidi import algorithm as bidialg      # needed for arabic, hebrew\n",
    "from sklearn.model_selection import GridSearchCV\n"
   ]
  },
  {
   "cell_type": "code",
   "execution_count": 4,
   "metadata": {},
   "outputs": [],
   "source": [
    "# utilities function are same as were implemented\n",
    "# with Alexander Kruglyak for assigments during the semester\n",
    "\n",
    "def show_data_basic_information(df):\n",
    "    print(\"Info\\n\")\n",
    "    print(df.info())\n",
    "    print(\"\\n\" + \"*\" * 10 + \"\\n\")\n",
    "    \n",
    "    print(\"Shape\\n\")\n",
    "    print(df.shape) \n",
    "    print(\"\\n\" + \"*\" * 10 + \"\\n\")\n",
    "    \n",
    "    print(\"Amount of is null data\\n\")\n",
    "    print(df.isnull().sum().max())\n",
    "    print(\"\\n\" + \"*\" * 10 + \"\\n\")\n",
    "    \n",
    "    print(\"Describe\\n\")\n",
    "    display(df.describe())\n",
    "    print(\"\\n\" + \"*\" * 10 + \"\\n\")\n",
    "    \n",
    "def drop_columns(df, columns):\n",
    "    return df.copy().drop(columns, axis=1)\n",
    "\n",
    "def get_label_and_drop(_df):\n",
    "    df = _df.copy()\n",
    "    label = df['label']\n",
    "    df = drop_columns(df,['label'])\n",
    "    return df, label\n",
    "\n",
    "def show_random_text(_df,feature,n=1):\n",
    "    df = _df.sample(n=n,random_state=42)\n",
    "    print(list(df[feature]))\n",
    "    \n",
    "def get_cross_val_score(scores_df,estimator,X_train,y_train,prefix=\"\",sampler=None):\n",
    "        name = estimator.__class__.__name__\n",
    "        pipe = estimator\n",
    "        sampler_name = \"\"\n",
    "        if sampler is not None:\n",
    "            pipe = make_imb_pipeline(sampler(random_state=42), estimator)\n",
    "            sampler_name = sampler.__name__\n",
    "        print('*********' + name + ' ' + sampler_name + '*********')\n",
    "        full_scores = cross_validate(\n",
    "            pipe,\n",
    "            X_train, \n",
    "            y_train, \n",
    "            cv=10,\n",
    "            scoring=('roc_auc', 'average_precision', 'recall', 'f1'),\n",
    "            n_jobs = -1\n",
    "        )\n",
    "        add_score(scores_df, full_scores, estimator.__class__.__name__,prefix)\n",
    "        \n",
    "def add_score(scores_df, scores, regressorName, dataType):\n",
    "    scores_df.loc[regressorName + '_' + dataType, 'f1'] = scores['test_f1'].mean()\n",
    "    scores_df.loc[regressorName + '_' + dataType, 'roc_auc'] = scores['test_roc_auc'].mean()\n",
    "    scores_df.loc[regressorName + '_' + dataType, 'recall'] = scores['test_recall'].mean()\n",
    "    scores_df.loc[regressorName + '_' + dataType, 'average_precision'] = scores['test_average_precision'].mean()\n",
    "    \n",
    "def get_continuous_features(df):\n",
    "    return df.select_dtypes(exclude=['object'])\n",
    "\n",
    "def get_dummies(_df,columns_to_dummy):\n",
    "    df = _df.copy()\n",
    "    df = pd.get_dummies(df,columns=columns_to_dummy)\n",
    "    return df"
   ]
  },
  {
   "cell_type": "code",
   "execution_count": 5,
   "metadata": {},
   "outputs": [],
   "source": [
    "df_steps = {}"
   ]
  },
  {
   "cell_type": "code",
   "execution_count": 6,
   "metadata": {},
   "outputs": [],
   "source": [
    "df_steps['0_full_df'] = pd.read_csv(\"train_dataset.csv\")"
   ]
  },
  {
   "cell_type": "code",
   "execution_count": 7,
   "metadata": {},
   "outputs": [],
   "source": [
    "df_test = pd.read_csv(\"test_dataset.csv\")"
   ]
  },
  {
   "cell_type": "markdown",
   "metadata": {},
   "source": [
    "## Step 1 - get familiar with the data"
   ]
  },
  {
   "cell_type": "code",
   "execution_count": 8,
   "metadata": {},
   "outputs": [
    {
     "name": "stdout",
     "output_type": "stream",
     "text": [
      "Info\n",
      "\n",
      "<class 'pandas.core.frame.DataFrame'>\n",
      "RangeIndex: 408 entries, 0 to 407\n",
      "Data columns (total 5 columns):\n",
      " #   Column             Non-Null Count  Dtype \n",
      "---  ------             --------------  ----- \n",
      " 0   Unnamed: 0         408 non-null    int64 \n",
      " 1   author_gender      408 non-null    object\n",
      " 2   author_birth_year  408 non-null    int64 \n",
      " 3   narrative          408 non-null    object\n",
      " 4   label              408 non-null    int64 \n",
      "dtypes: int64(3), object(2)\n",
      "memory usage: 16.1+ KB\n",
      "None\n",
      "\n",
      "**********\n",
      "\n",
      "Shape\n",
      "\n",
      "(408, 5)\n",
      "\n",
      "**********\n",
      "\n",
      "Amount of is null data\n",
      "\n",
      "0\n",
      "\n",
      "**********\n",
      "\n",
      "Describe\n",
      "\n"
     ]
    },
    {
     "data": {
      "text/html": [
       "<div>\n",
       "<style scoped>\n",
       "    .dataframe tbody tr th:only-of-type {\n",
       "        vertical-align: middle;\n",
       "    }\n",
       "\n",
       "    .dataframe tbody tr th {\n",
       "        vertical-align: top;\n",
       "    }\n",
       "\n",
       "    .dataframe thead th {\n",
       "        text-align: right;\n",
       "    }\n",
       "</style>\n",
       "<table border=\"1\" class=\"dataframe\">\n",
       "  <thead>\n",
       "    <tr style=\"text-align: right;\">\n",
       "      <th></th>\n",
       "      <th>Unnamed: 0</th>\n",
       "      <th>author_birth_year</th>\n",
       "      <th>label</th>\n",
       "    </tr>\n",
       "  </thead>\n",
       "  <tbody>\n",
       "    <tr>\n",
       "      <th>count</th>\n",
       "      <td>408.000000</td>\n",
       "      <td>408.000000</td>\n",
       "      <td>408.000000</td>\n",
       "    </tr>\n",
       "    <tr>\n",
       "      <th>mean</th>\n",
       "      <td>203.500000</td>\n",
       "      <td>1993.573529</td>\n",
       "      <td>0.500000</td>\n",
       "    </tr>\n",
       "    <tr>\n",
       "      <th>std</th>\n",
       "      <td>117.923704</td>\n",
       "      <td>3.370560</td>\n",
       "      <td>0.500614</td>\n",
       "    </tr>\n",
       "    <tr>\n",
       "      <th>min</th>\n",
       "      <td>0.000000</td>\n",
       "      <td>1980.000000</td>\n",
       "      <td>0.000000</td>\n",
       "    </tr>\n",
       "    <tr>\n",
       "      <th>25%</th>\n",
       "      <td>101.750000</td>\n",
       "      <td>1992.750000</td>\n",
       "      <td>0.000000</td>\n",
       "    </tr>\n",
       "    <tr>\n",
       "      <th>50%</th>\n",
       "      <td>203.500000</td>\n",
       "      <td>1994.000000</td>\n",
       "      <td>0.500000</td>\n",
       "    </tr>\n",
       "    <tr>\n",
       "      <th>75%</th>\n",
       "      <td>305.250000</td>\n",
       "      <td>1995.000000</td>\n",
       "      <td>1.000000</td>\n",
       "    </tr>\n",
       "    <tr>\n",
       "      <th>max</th>\n",
       "      <td>407.000000</td>\n",
       "      <td>2002.000000</td>\n",
       "      <td>1.000000</td>\n",
       "    </tr>\n",
       "  </tbody>\n",
       "</table>\n",
       "</div>"
      ],
      "text/plain": [
       "       Unnamed: 0  author_birth_year      label\n",
       "count  408.000000         408.000000 408.000000\n",
       "mean   203.500000        1993.573529   0.500000\n",
       "std    117.923704           3.370560   0.500614\n",
       "min      0.000000        1980.000000   0.000000\n",
       "25%    101.750000        1992.750000   0.000000\n",
       "50%    203.500000        1994.000000   0.500000\n",
       "75%    305.250000        1995.000000   1.000000\n",
       "max    407.000000        2002.000000   1.000000"
      ]
     },
     "metadata": {},
     "output_type": "display_data"
    },
    {
     "name": "stdout",
     "output_type": "stream",
     "text": [
      "\n",
      "**********\n",
      "\n"
     ]
    }
   ],
   "source": [
    "show_data_basic_information(df_steps['0_full_df'])"
   ]
  },
  {
   "cell_type": "code",
   "execution_count": 9,
   "metadata": {},
   "outputs": [
    {
     "name": "stdout",
     "output_type": "stream",
     "text": [
      "Info\n",
      "\n",
      "<class 'pandas.core.frame.DataFrame'>\n",
      "RangeIndex: 106 entries, 0 to 105\n",
      "Data columns (total 4 columns):\n",
      " #   Column             Non-Null Count  Dtype \n",
      "---  ------             --------------  ----- \n",
      " 0   Unnamed: 0         106 non-null    int64 \n",
      " 1   author_gender      106 non-null    object\n",
      " 2   author_birth_year  106 non-null    int64 \n",
      " 3   narrative          106 non-null    object\n",
      "dtypes: int64(2), object(2)\n",
      "memory usage: 3.4+ KB\n",
      "None\n",
      "\n",
      "**********\n",
      "\n",
      "Shape\n",
      "\n",
      "(106, 4)\n",
      "\n",
      "**********\n",
      "\n",
      "Amount of is null data\n",
      "\n",
      "0\n",
      "\n",
      "**********\n",
      "\n",
      "Describe\n",
      "\n"
     ]
    },
    {
     "data": {
      "text/html": [
       "<div>\n",
       "<style scoped>\n",
       "    .dataframe tbody tr th:only-of-type {\n",
       "        vertical-align: middle;\n",
       "    }\n",
       "\n",
       "    .dataframe tbody tr th {\n",
       "        vertical-align: top;\n",
       "    }\n",
       "\n",
       "    .dataframe thead th {\n",
       "        text-align: right;\n",
       "    }\n",
       "</style>\n",
       "<table border=\"1\" class=\"dataframe\">\n",
       "  <thead>\n",
       "    <tr style=\"text-align: right;\">\n",
       "      <th></th>\n",
       "      <th>Unnamed: 0</th>\n",
       "      <th>author_birth_year</th>\n",
       "    </tr>\n",
       "  </thead>\n",
       "  <tbody>\n",
       "    <tr>\n",
       "      <th>count</th>\n",
       "      <td>106.000000</td>\n",
       "      <td>106.000000</td>\n",
       "    </tr>\n",
       "    <tr>\n",
       "      <th>mean</th>\n",
       "      <td>52.500000</td>\n",
       "      <td>1993.905660</td>\n",
       "    </tr>\n",
       "    <tr>\n",
       "      <th>std</th>\n",
       "      <td>30.743563</td>\n",
       "      <td>2.755180</td>\n",
       "    </tr>\n",
       "    <tr>\n",
       "      <th>min</th>\n",
       "      <td>0.000000</td>\n",
       "      <td>1984.000000</td>\n",
       "    </tr>\n",
       "    <tr>\n",
       "      <th>25%</th>\n",
       "      <td>26.250000</td>\n",
       "      <td>1993.000000</td>\n",
       "    </tr>\n",
       "    <tr>\n",
       "      <th>50%</th>\n",
       "      <td>52.500000</td>\n",
       "      <td>1994.000000</td>\n",
       "    </tr>\n",
       "    <tr>\n",
       "      <th>75%</th>\n",
       "      <td>78.750000</td>\n",
       "      <td>1995.000000</td>\n",
       "    </tr>\n",
       "    <tr>\n",
       "      <th>max</th>\n",
       "      <td>105.000000</td>\n",
       "      <td>2002.000000</td>\n",
       "    </tr>\n",
       "  </tbody>\n",
       "</table>\n",
       "</div>"
      ],
      "text/plain": [
       "       Unnamed: 0  author_birth_year\n",
       "count  106.000000         106.000000\n",
       "mean    52.500000        1993.905660\n",
       "std     30.743563           2.755180\n",
       "min      0.000000        1984.000000\n",
       "25%     26.250000        1993.000000\n",
       "50%     52.500000        1994.000000\n",
       "75%     78.750000        1995.000000\n",
       "max    105.000000        2002.000000"
      ]
     },
     "metadata": {},
     "output_type": "display_data"
    },
    {
     "name": "stdout",
     "output_type": "stream",
     "text": [
      "\n",
      "**********\n",
      "\n"
     ]
    }
   ],
   "source": [
    "show_data_basic_information(df_test)"
   ]
  },
  {
   "cell_type": "code",
   "execution_count": 10,
   "metadata": {},
   "outputs": [
    {
     "data": {
      "text/html": [
       "<div>\n",
       "<style scoped>\n",
       "    .dataframe tbody tr th:only-of-type {\n",
       "        vertical-align: middle;\n",
       "    }\n",
       "\n",
       "    .dataframe tbody tr th {\n",
       "        vertical-align: top;\n",
       "    }\n",
       "\n",
       "    .dataframe thead th {\n",
       "        text-align: right;\n",
       "    }\n",
       "</style>\n",
       "<table border=\"1\" class=\"dataframe\">\n",
       "  <thead>\n",
       "    <tr style=\"text-align: right;\">\n",
       "      <th></th>\n",
       "      <th>Unnamed: 0</th>\n",
       "      <th>author_gender</th>\n",
       "      <th>author_birth_year</th>\n",
       "      <th>narrative</th>\n",
       "      <th>label</th>\n",
       "    </tr>\n",
       "  </thead>\n",
       "  <tbody>\n",
       "    <tr>\n",
       "      <th>0</th>\n",
       "      <td>0</td>\n",
       "      <td>זכר</td>\n",
       "      <td>1995</td>\n",
       "      <td>שנת 2020 הייתה מטלטלת למדי בשבילי, עברתי הרבה ...</td>\n",
       "      <td>1</td>\n",
       "    </tr>\n",
       "    <tr>\n",
       "      <th>1</th>\n",
       "      <td>1</td>\n",
       "      <td>זכר</td>\n",
       "      <td>1992</td>\n",
       "      <td>בשנת 2018 קיבלתי החלטה שאני מתחיל ללמוד לתואר ...</td>\n",
       "      <td>1</td>\n",
       "    </tr>\n",
       "    <tr>\n",
       "      <th>2</th>\n",
       "      <td>2</td>\n",
       "      <td>זכר</td>\n",
       "      <td>1992</td>\n",
       "      <td>לפני מספר שנים אני ובת הזוג שלי טסנו ללונדון ז...</td>\n",
       "      <td>1</td>\n",
       "    </tr>\n",
       "    <tr>\n",
       "      <th>3</th>\n",
       "      <td>3</td>\n",
       "      <td>נקבה</td>\n",
       "      <td>1991</td>\n",
       "      <td>האישה שבקושי הכרתי חייכה תמיד, העיניים שלה ברק...</td>\n",
       "      <td>1</td>\n",
       "    </tr>\n",
       "    <tr>\n",
       "      <th>4</th>\n",
       "      <td>4</td>\n",
       "      <td>נקבה</td>\n",
       "      <td>1992</td>\n",
       "      <td>בדרך חזרה מהטיול שנתי בכיתה ח' התקשרתי לאבא של...</td>\n",
       "      <td>1</td>\n",
       "    </tr>\n",
       "    <tr>\n",
       "      <th>...</th>\n",
       "      <td>...</td>\n",
       "      <td>...</td>\n",
       "      <td>...</td>\n",
       "      <td>...</td>\n",
       "      <td>...</td>\n",
       "    </tr>\n",
       "    <tr>\n",
       "      <th>403</th>\n",
       "      <td>403</td>\n",
       "      <td>זכר</td>\n",
       "      <td>1988</td>\n",
       "      <td>ללמוד להעז יותר, אחד החוויה הזאת שעשיתי באה אח...</td>\n",
       "      <td>0</td>\n",
       "    </tr>\n",
       "    <tr>\n",
       "      <th>404</th>\n",
       "      <td>404</td>\n",
       "      <td>זכר</td>\n",
       "      <td>1993</td>\n",
       "      <td>זה קרה לפניי מספר שבועות עוד כשהיינו תחת סגרים...</td>\n",
       "      <td>0</td>\n",
       "    </tr>\n",
       "    <tr>\n",
       "      <th>405</th>\n",
       "      <td>405</td>\n",
       "      <td>זכר</td>\n",
       "      <td>1995</td>\n",
       "      <td>לפני שלוש שנים, לאחר שחסכתי, טסתי עם חבר מאוד ...</td>\n",
       "      <td>0</td>\n",
       "    </tr>\n",
       "    <tr>\n",
       "      <th>406</th>\n",
       "      <td>406</td>\n",
       "      <td>נקבה</td>\n",
       "      <td>1993</td>\n",
       "      <td>כשהייתי ילדה קטנה בבית הספר בגיל 8 הייי ילדה מ...</td>\n",
       "      <td>0</td>\n",
       "    </tr>\n",
       "    <tr>\n",
       "      <th>407</th>\n",
       "      <td>407</td>\n",
       "      <td>זכר</td>\n",
       "      <td>1990</td>\n",
       "      <td>בשנה האחרונה יצא לי לעבוד בחברה מאד מוכרת. מתח...</td>\n",
       "      <td>0</td>\n",
       "    </tr>\n",
       "  </tbody>\n",
       "</table>\n",
       "<p>408 rows × 5 columns</p>\n",
       "</div>"
      ],
      "text/plain": [
       "     Unnamed: 0 author_gender  author_birth_year  \\\n",
       "0             0           זכר               1995   \n",
       "1             1           זכר               1992   \n",
       "2             2           זכר               1992   \n",
       "3             3          נקבה               1991   \n",
       "4             4          נקבה               1992   \n",
       "..          ...           ...                ...   \n",
       "403         403           זכר               1988   \n",
       "404         404           זכר               1993   \n",
       "405         405           זכר               1995   \n",
       "406         406          נקבה               1993   \n",
       "407         407           זכר               1990   \n",
       "\n",
       "                                             narrative  label  \n",
       "0    שנת 2020 הייתה מטלטלת למדי בשבילי, עברתי הרבה ...      1  \n",
       "1    בשנת 2018 קיבלתי החלטה שאני מתחיל ללמוד לתואר ...      1  \n",
       "2    לפני מספר שנים אני ובת הזוג שלי טסנו ללונדון ז...      1  \n",
       "3    האישה שבקושי הכרתי חייכה תמיד, העיניים שלה ברק...      1  \n",
       "4    בדרך חזרה מהטיול שנתי בכיתה ח' התקשרתי לאבא של...      1  \n",
       "..                                                 ...    ...  \n",
       "403  ללמוד להעז יותר, אחד החוויה הזאת שעשיתי באה אח...      0  \n",
       "404  זה קרה לפניי מספר שבועות עוד כשהיינו תחת סגרים...      0  \n",
       "405  לפני שלוש שנים, לאחר שחסכתי, טסתי עם חבר מאוד ...      0  \n",
       "406  כשהייתי ילדה קטנה בבית הספר בגיל 8 הייי ילדה מ...      0  \n",
       "407  בשנה האחרונה יצא לי לעבוד בחברה מאד מוכרת. מתח...      0  \n",
       "\n",
       "[408 rows x 5 columns]"
      ]
     },
     "execution_count": 10,
     "metadata": {},
     "output_type": "execute_result"
    }
   ],
   "source": [
    "df_steps['0_full_df']"
   ]
  },
  {
   "cell_type": "code",
   "execution_count": 11,
   "metadata": {},
   "outputs": [
    {
     "data": {
      "text/html": [
       "<div>\n",
       "<style scoped>\n",
       "    .dataframe tbody tr th:only-of-type {\n",
       "        vertical-align: middle;\n",
       "    }\n",
       "\n",
       "    .dataframe tbody tr th {\n",
       "        vertical-align: top;\n",
       "    }\n",
       "\n",
       "    .dataframe thead th {\n",
       "        text-align: right;\n",
       "    }\n",
       "</style>\n",
       "<table border=\"1\" class=\"dataframe\">\n",
       "  <thead>\n",
       "    <tr style=\"text-align: right;\">\n",
       "      <th></th>\n",
       "      <th>Unnamed: 0</th>\n",
       "      <th>author_gender</th>\n",
       "      <th>author_birth_year</th>\n",
       "      <th>narrative</th>\n",
       "    </tr>\n",
       "  </thead>\n",
       "  <tbody>\n",
       "    <tr>\n",
       "      <th>0</th>\n",
       "      <td>0</td>\n",
       "      <td>זכר</td>\n",
       "      <td>2002</td>\n",
       "      <td>זה התחיל בשעת השקיעה.הגענו לחוף מדרום לעין גדי...</td>\n",
       "    </tr>\n",
       "    <tr>\n",
       "      <th>1</th>\n",
       "      <td>1</td>\n",
       "      <td>נקבה</td>\n",
       "      <td>1995</td>\n",
       "      <td>כזוג מאורס טרי סגרנו תאריך, אולם אירועים, ספקי...</td>\n",
       "    </tr>\n",
       "    <tr>\n",
       "      <th>2</th>\n",
       "      <td>2</td>\n",
       "      <td>זכר</td>\n",
       "      <td>1995</td>\n",
       "      <td>הגעתי לשירות המדינה אחרי שנתיים כפעיל בתנועת \"...</td>\n",
       "    </tr>\n",
       "    <tr>\n",
       "      <th>3</th>\n",
       "      <td>3</td>\n",
       "      <td>זכר</td>\n",
       "      <td>1991</td>\n",
       "      <td>בשנה האחרונה ,\\nפרצה מחלת הקורונה דבר שאף אחד ...</td>\n",
       "    </tr>\n",
       "    <tr>\n",
       "      <th>4</th>\n",
       "      <td>4</td>\n",
       "      <td>זכר</td>\n",
       "      <td>1995</td>\n",
       "      <td>החוויה שלי מתחילה במכון הטכנולוגי חולון, אשר ש...</td>\n",
       "    </tr>\n",
       "    <tr>\n",
       "      <th>...</th>\n",
       "      <td>...</td>\n",
       "      <td>...</td>\n",
       "      <td>...</td>\n",
       "      <td>...</td>\n",
       "    </tr>\n",
       "    <tr>\n",
       "      <th>101</th>\n",
       "      <td>101</td>\n",
       "      <td>זכר</td>\n",
       "      <td>1995</td>\n",
       "      <td>לפני שנה החלטתי שאני רוצה להיות טייס, התחלתי ל...</td>\n",
       "    </tr>\n",
       "    <tr>\n",
       "      <th>102</th>\n",
       "      <td>102</td>\n",
       "      <td>זכר</td>\n",
       "      <td>1994</td>\n",
       "      <td>לכבוד יום ההולדת שלי, בת הזוג שלי החליטה להפתי...</td>\n",
       "    </tr>\n",
       "    <tr>\n",
       "      <th>103</th>\n",
       "      <td>103</td>\n",
       "      <td>זכר</td>\n",
       "      <td>1995</td>\n",
       "      <td>בשנת 2020 בחודש מרץ הייתי אמור להתחתן עם אחת ש...</td>\n",
       "    </tr>\n",
       "    <tr>\n",
       "      <th>104</th>\n",
       "      <td>104</td>\n",
       "      <td>זכר</td>\n",
       "      <td>1991</td>\n",
       "      <td>לפני שבועיים הלכתי לספארי יצאנו בשעה 12 בצהריי...</td>\n",
       "    </tr>\n",
       "    <tr>\n",
       "      <th>105</th>\n",
       "      <td>105</td>\n",
       "      <td>זכר</td>\n",
       "      <td>1996</td>\n",
       "      <td>השנה האחרונה הייתה שנה מפרחת שנה של למידה וחוו...</td>\n",
       "    </tr>\n",
       "  </tbody>\n",
       "</table>\n",
       "<p>106 rows × 4 columns</p>\n",
       "</div>"
      ],
      "text/plain": [
       "     Unnamed: 0 author_gender  author_birth_year  \\\n",
       "0             0           זכר               2002   \n",
       "1             1          נקבה               1995   \n",
       "2             2           זכר               1995   \n",
       "3             3           זכר               1991   \n",
       "4             4           זכר               1995   \n",
       "..          ...           ...                ...   \n",
       "101         101           זכר               1995   \n",
       "102         102           זכר               1994   \n",
       "103         103           זכר               1995   \n",
       "104         104           זכר               1991   \n",
       "105         105           זכר               1996   \n",
       "\n",
       "                                             narrative  \n",
       "0    זה התחיל בשעת השקיעה.הגענו לחוף מדרום לעין גדי...  \n",
       "1    כזוג מאורס טרי סגרנו תאריך, אולם אירועים, ספקי...  \n",
       "2    הגעתי לשירות המדינה אחרי שנתיים כפעיל בתנועת \"...  \n",
       "3    בשנה האחרונה ,\\nפרצה מחלת הקורונה דבר שאף אחד ...  \n",
       "4    החוויה שלי מתחילה במכון הטכנולוגי חולון, אשר ש...  \n",
       "..                                                 ...  \n",
       "101  לפני שנה החלטתי שאני רוצה להיות טייס, התחלתי ל...  \n",
       "102  לכבוד יום ההולדת שלי, בת הזוג שלי החליטה להפתי...  \n",
       "103  בשנת 2020 בחודש מרץ הייתי אמור להתחתן עם אחת ש...  \n",
       "104  לפני שבועיים הלכתי לספארי יצאנו בשעה 12 בצהריי...  \n",
       "105  השנה האחרונה הייתה שנה מפרחת שנה של למידה וחוו...  \n",
       "\n",
       "[106 rows x 4 columns]"
      ]
     },
     "execution_count": 11,
     "metadata": {},
     "output_type": "execute_result"
    }
   ],
   "source": [
    "df_test"
   ]
  },
  {
   "cell_type": "markdown",
   "metadata": {},
   "source": [
    "## Initial processing:\n",
    "- drop 'Unnamed 0' column\n",
    "- encode author_gender\n",
    "- add feature - length of the narrative\n",
    "- (?) - replace birth year with age"
   ]
  },
  {
   "cell_type": "code",
   "execution_count": 12,
   "metadata": {},
   "outputs": [],
   "source": [
    "def encode_gender(_df):\n",
    "    df = _df.copy()\n",
    "    man = \"זכר\"\n",
    "    woman = \"נקבה\"\n",
    "    gender = {man: 0, woman: 1}\n",
    "    df['author_gender'] = [gender[item] for item in df['author_gender']]\n",
    "    return df"
   ]
  },
  {
   "cell_type": "code",
   "execution_count": 13,
   "metadata": {},
   "outputs": [],
   "source": [
    "def add_length_of_narrative(_df):\n",
    "    df = _df.copy()\n",
    "    df['nar_length'] = df['narrative'].str.len()\n",
    "    return df"
   ]
  },
  {
   "cell_type": "code",
   "execution_count": 14,
   "metadata": {},
   "outputs": [],
   "source": [
    "def clean_end_of_line(_df):\n",
    "    df = _df.copy()\n",
    "    df['narrative'] =df['narrative'].str.replace(r'\\n', '')\n",
    "    return df"
   ]
  },
  {
   "cell_type": "code",
   "execution_count": 15,
   "metadata": {},
   "outputs": [
    {
     "data": {
      "text/html": [
       "<div>\n",
       "<style scoped>\n",
       "    .dataframe tbody tr th:only-of-type {\n",
       "        vertical-align: middle;\n",
       "    }\n",
       "\n",
       "    .dataframe tbody tr th {\n",
       "        vertical-align: top;\n",
       "    }\n",
       "\n",
       "    .dataframe thead th {\n",
       "        text-align: right;\n",
       "    }\n",
       "</style>\n",
       "<table border=\"1\" class=\"dataframe\">\n",
       "  <thead>\n",
       "    <tr style=\"text-align: right;\">\n",
       "      <th></th>\n",
       "      <th>author_gender</th>\n",
       "      <th>author_birth_year</th>\n",
       "      <th>narrative</th>\n",
       "      <th>label</th>\n",
       "      <th>nar_length</th>\n",
       "    </tr>\n",
       "  </thead>\n",
       "  <tbody>\n",
       "    <tr>\n",
       "      <th>0</th>\n",
       "      <td>0</td>\n",
       "      <td>1995</td>\n",
       "      <td>שנת 2020 הייתה מטלטלת למדי בשבילי, עברתי הרבה ...</td>\n",
       "      <td>1</td>\n",
       "      <td>1748</td>\n",
       "    </tr>\n",
       "    <tr>\n",
       "      <th>1</th>\n",
       "      <td>0</td>\n",
       "      <td>1992</td>\n",
       "      <td>בשנת 2018 קיבלתי החלטה שאני מתחיל ללמוד לתואר ...</td>\n",
       "      <td>1</td>\n",
       "      <td>1696</td>\n",
       "    </tr>\n",
       "    <tr>\n",
       "      <th>2</th>\n",
       "      <td>0</td>\n",
       "      <td>1992</td>\n",
       "      <td>לפני מספר שנים אני ובת הזוג שלי טסנו ללונדון ז...</td>\n",
       "      <td>1</td>\n",
       "      <td>1967</td>\n",
       "    </tr>\n",
       "    <tr>\n",
       "      <th>3</th>\n",
       "      <td>1</td>\n",
       "      <td>1991</td>\n",
       "      <td>האישה שבקושי הכרתי חייכה תמיד, העיניים שלה ברק...</td>\n",
       "      <td>1</td>\n",
       "      <td>1648</td>\n",
       "    </tr>\n",
       "    <tr>\n",
       "      <th>4</th>\n",
       "      <td>1</td>\n",
       "      <td>1992</td>\n",
       "      <td>בדרך חזרה מהטיול שנתי בכיתה ח' התקשרתי לאבא של...</td>\n",
       "      <td>1</td>\n",
       "      <td>1553</td>\n",
       "    </tr>\n",
       "    <tr>\n",
       "      <th>...</th>\n",
       "      <td>...</td>\n",
       "      <td>...</td>\n",
       "      <td>...</td>\n",
       "      <td>...</td>\n",
       "      <td>...</td>\n",
       "    </tr>\n",
       "    <tr>\n",
       "      <th>403</th>\n",
       "      <td>0</td>\n",
       "      <td>1988</td>\n",
       "      <td>ללמוד להעז יותר, אחד החוויה הזאת שעשיתי באה אח...</td>\n",
       "      <td>0</td>\n",
       "      <td>2561</td>\n",
       "    </tr>\n",
       "    <tr>\n",
       "      <th>404</th>\n",
       "      <td>0</td>\n",
       "      <td>1993</td>\n",
       "      <td>זה קרה לפניי מספר שבועות עוד כשהיינו תחת סגרים...</td>\n",
       "      <td>0</td>\n",
       "      <td>1670</td>\n",
       "    </tr>\n",
       "    <tr>\n",
       "      <th>405</th>\n",
       "      <td>0</td>\n",
       "      <td>1995</td>\n",
       "      <td>לפני שלוש שנים, לאחר שחסכתי, טסתי עם חבר מאוד ...</td>\n",
       "      <td>0</td>\n",
       "      <td>2032</td>\n",
       "    </tr>\n",
       "    <tr>\n",
       "      <th>406</th>\n",
       "      <td>1</td>\n",
       "      <td>1993</td>\n",
       "      <td>כשהייתי ילדה קטנה בבית הספר בגיל 8 הייי ילדה מ...</td>\n",
       "      <td>0</td>\n",
       "      <td>1457</td>\n",
       "    </tr>\n",
       "    <tr>\n",
       "      <th>407</th>\n",
       "      <td>0</td>\n",
       "      <td>1990</td>\n",
       "      <td>בשנה האחרונה יצא לי לעבוד בחברה מאד מוכרת. מתח...</td>\n",
       "      <td>0</td>\n",
       "      <td>1996</td>\n",
       "    </tr>\n",
       "  </tbody>\n",
       "</table>\n",
       "<p>408 rows × 5 columns</p>\n",
       "</div>"
      ],
      "text/plain": [
       "     author_gender  author_birth_year  \\\n",
       "0                0               1995   \n",
       "1                0               1992   \n",
       "2                0               1992   \n",
       "3                1               1991   \n",
       "4                1               1992   \n",
       "..             ...                ...   \n",
       "403              0               1988   \n",
       "404              0               1993   \n",
       "405              0               1995   \n",
       "406              1               1993   \n",
       "407              0               1990   \n",
       "\n",
       "                                             narrative  label  nar_length  \n",
       "0    שנת 2020 הייתה מטלטלת למדי בשבילי, עברתי הרבה ...      1        1748  \n",
       "1    בשנת 2018 קיבלתי החלטה שאני מתחיל ללמוד לתואר ...      1        1696  \n",
       "2    לפני מספר שנים אני ובת הזוג שלי טסנו ללונדון ז...      1        1967  \n",
       "3    האישה שבקושי הכרתי חייכה תמיד, העיניים שלה ברק...      1        1648  \n",
       "4    בדרך חזרה מהטיול שנתי בכיתה ח' התקשרתי לאבא של...      1        1553  \n",
       "..                                                 ...    ...         ...  \n",
       "403  ללמוד להעז יותר, אחד החוויה הזאת שעשיתי באה אח...      0        2561  \n",
       "404  זה קרה לפניי מספר שבועות עוד כשהיינו תחת סגרים...      0        1670  \n",
       "405  לפני שלוש שנים, לאחר שחסכתי, טסתי עם חבר מאוד ...      0        2032  \n",
       "406  כשהייתי ילדה קטנה בבית הספר בגיל 8 הייי ילדה מ...      0        1457  \n",
       "407  בשנה האחרונה יצא לי לעבוד בחברה מאד מוכרת. מתח...      0        1996  \n",
       "\n",
       "[408 rows x 5 columns]"
      ]
     },
     "execution_count": 15,
     "metadata": {},
     "output_type": "execute_result"
    }
   ],
   "source": [
    "df_steps['1_dropped'] = drop_columns(df_steps['0_full_df'],['Unnamed: 0'])\n",
    "df_steps['2_gender'] = encode_gender(df_steps['1_dropped'])\n",
    "df_steps['3_nar_length'] = add_length_of_narrative(df_steps['2_gender'])\n",
    "df_steps['3_nar_length']"
   ]
  },
  {
   "cell_type": "markdown",
   "metadata": {},
   "source": [
    "- Plot see the distribution of the data"
   ]
  },
  {
   "cell_type": "code",
   "execution_count": 16,
   "metadata": {},
   "outputs": [
    {
     "data": {
      "text/plain": [
       "<seaborn.axisgrid.PairGrid at 0x2af7183e66a0>"
      ]
     },
     "execution_count": 16,
     "metadata": {},
     "output_type": "execute_result"
    },
    {
     "data": {
      "image/png": "[encoded data removed]",
      "text/plain": [
       "<Figure size 582.375x540 with 12 Axes>"
      ]
     },
     "metadata": {
      "needs_background": "light"
     },
     "output_type": "display_data"
    }
   ],
   "source": [
    "sns.pairplot(df_steps['3_nar_length'], hue='label')"
   ]
  },
  {
   "cell_type": "code",
   "execution_count": 17,
   "metadata": {},
   "outputs": [],
   "source": [
    "df_test = drop_columns(df_test,['Unnamed: 0'])\n",
    "df_test = encode_gender(df_test)\n",
    "df_test= add_length_of_narrative(df_test)"
   ]
  },
  {
   "cell_type": "code",
   "execution_count": 18,
   "metadata": {},
   "outputs": [
    {
     "data": {
      "text/plain": [
       "<seaborn.axisgrid.PairGrid at 0x2af7228e9c40>"
      ]
     },
     "execution_count": 18,
     "metadata": {},
     "output_type": "execute_result"
    },
    {
     "data": {
      "image/png": "[encoded data removed]",
      "text/plain": [
       "<Figure size 540x540 with 12 Axes>"
      ]
     },
     "metadata": {
      "needs_background": "light"
     },
     "output_type": "display_data"
    }
   ],
   "source": [
    "sns.pairplot(df_test, diag_kind='kde')"
   ]
  },
  {
   "cell_type": "code",
   "execution_count": 19,
   "metadata": {},
   "outputs": [
    {
     "data": {
      "text/plain": [
       "Text(0.5, 1.0, 'Train: narrative\\n (0: False || 1: True)')"
      ]
     },
     "execution_count": 19,
     "metadata": {},
     "output_type": "execute_result"
    },
    {
     "data": {
      "image/png": "[encoded data removed]",
      "text/plain": [
       "<Figure size 432x288 with 1 Axes>"
      ]
     },
     "metadata": {
      "needs_background": "light"
     },
     "output_type": "display_data"
    }
   ],
   "source": [
    "sns.countplot(x='label',data=df_steps['3_nar_length'])\n",
    "plt.title('Train: narrative\\n (0: False || 1: True)', fontsize=14)"
   ]
  },
  {
   "cell_type": "code",
   "execution_count": 20,
   "metadata": {},
   "outputs": [
    {
     "data": {
      "text/plain": [
       "Text(0.5, 1.0, 'Train: Gender \\n (0: Male || 1: Female)')"
      ]
     },
     "execution_count": 20,
     "metadata": {},
     "output_type": "execute_result"
    },
    {
     "data": {
      "image/png": "[encoded data removed]",
      "text/plain": [
       "<Figure size 432x288 with 1 Axes>"
      ]
     },
     "metadata": {
      "needs_background": "light"
     },
     "output_type": "display_data"
    }
   ],
   "source": [
    "sns.countplot(x='author_gender',data=df_steps['3_nar_length'])\n",
    "plt.title('Train: Gender \\n (0: Male || 1: Female)', fontsize=14)"
   ]
  },
  {
   "cell_type": "code",
   "execution_count": 21,
   "metadata": {},
   "outputs": [
    {
     "data": {
      "text/plain": [
       "Text(0.5, 1.0, 'Test: Gender \\n (0: Male || 1: Female)')"
      ]
     },
     "execution_count": 21,
     "metadata": {},
     "output_type": "execute_result"
    },
    {
     "data": {
      "image/png": "[encoded data removed]",
      "text/plain": [
       "<Figure size 432x288 with 1 Axes>"
      ]
     },
     "metadata": {
      "needs_background": "light"
     },
     "output_type": "display_data"
    }
   ],
   "source": [
    "sns.countplot(x='author_gender',data=df_steps['3_nar_length'])\n",
    "plt.title('Test: Gender \\n (0: Male || 1: Female)', fontsize=14)"
   ]
  },
  {
   "cell_type": "markdown",
   "metadata": {},
   "source": [
    "## Conclustion from step 1\n",
    "- data is balanced\n",
    "- there is no significant differences between features distribution per label\n",
    "- narrative has to be cleaned from \\n"
   ]
  },
  {
   "cell_type": "code",
   "execution_count": 22,
   "metadata": {
    "scrolled": true
   },
   "outputs": [
    {
     "name": "stderr",
     "output_type": "stream",
     "text": [
      "<ipython-input-14-b33e9035b805>:3: FutureWarning: The default value of regex will change from True to False in a future version.\n",
      "  df['narrative'] =df['narrative'].str.replace(r'\\n', '')\n"
     ]
    }
   ],
   "source": [
    "df_steps['4_clean_nar'] = clean_end_of_line(df_steps['3_nar_length'])"
   ]
  },
  {
   "cell_type": "markdown",
   "metadata": {},
   "source": [
    "## Step 2 - tokenize the narrative"
   ]
  },
  {
   "cell_type": "markdown",
   "metadata": {},
   "source": [
    "### Load stop words"
   ]
  },
  {
   "cell_type": "code",
   "execution_count": 23,
   "metadata": {},
   "outputs": [],
   "source": [
    "stop_words = [x.strip() for x in open('heb_stopwords.txt','r').read().split('\\n')]"
   ]
  },
  {
   "cell_type": "code",
   "execution_count": 24,
   "metadata": {},
   "outputs": [],
   "source": [
    "text_train = df_steps['4_clean_nar']['narrative'].tolist()\n",
    "text_test = df_test['narrative'].tolist()\n",
    "y_train = df_steps['4_clean_nar']['label']"
   ]
  },
  {
   "cell_type": "code",
   "execution_count": 25,
   "metadata": {},
   "outputs": [
    {
     "name": "stdout",
     "output_type": "stream",
     "text": [
      "408\n",
      "408\n"
     ]
    }
   ],
   "source": [
    "print (len(text_train))\n",
    "print (len(y_train))"
   ]
  },
  {
   "cell_type": "code",
   "execution_count": 26,
   "metadata": {},
   "outputs": [
    {
     "name": "stdout",
     "output_type": "stream",
     "text": [
      "(408, 3931)\n"
     ]
    }
   ],
   "source": [
    "vect = CountVectorizer(min_df=4,stop_words=stop_words)\n",
    "X_train = vect.fit_transform(text_train)\n",
    "print(X_train.shape)"
   ]
  },
  {
   "cell_type": "code",
   "execution_count": 27,
   "metadata": {},
   "outputs": [],
   "source": [
    "def sample_features(features):\n",
    "    n = len(features)\n",
    "    print(feature_names[:20])\n",
    "    print(feature_names[round(n/2)-10:round(n/2)+10])\n",
    "    print(feature_names[::round(n/10)])"
   ]
  },
  {
   "cell_type": "code",
   "execution_count": 28,
   "metadata": {},
   "outputs": [
    {
     "name": "stdout",
     "output_type": "stream",
     "text": [
      "['00', '000', '10', '100', '1000', '11', '12', '13', '14', '15', '16', '18', '20', '200', '2020', '2021', '21', '22', '23', '24']\n",
      "['ירדנו', 'ירדתי', 'ירוק', 'ירצה', 'ירקות', 'ישב', 'ישבו', 'ישבנו', 'ישבתי', 'ישירות', 'ישמע', 'ישן', 'ישנה', 'ישנו', 'ישנים', 'ישנם', 'ישנתי', 'ישר', 'ישראלים', 'ישראלית']\n",
      "['00', 'במספר', 'ההרגשה', 'הצניחה', 'ולמצוא', 'ישירות', 'למטוס', 'מטלטלת', 'סדר', 'שאמרו', 'תשע']\n"
     ]
    }
   ],
   "source": [
    "#Vocabulary\n",
    "feature_names = vect.get_feature_names()\n",
    "sample_features(feature_names)"
   ]
  },
  {
   "cell_type": "code",
   "execution_count": 29,
   "metadata": {},
   "outputs": [
    {
     "name": "stdout",
     "output_type": "stream",
     "text": [
      "3931\n"
     ]
    }
   ],
   "source": [
    "print (len(feature_names))"
   ]
  },
  {
   "cell_type": "code",
   "execution_count": 30,
   "metadata": {},
   "outputs": [],
   "source": [
    "def train_and_predict(estimator,X_train,y_train,X_test):\n",
    "    model = estimator.fit(X_train,y_train)\n",
    "    y_pred = model.predict(X_test)\n",
    "    return model,y_pred"
   ]
  },
  {
   "cell_type": "code",
   "execution_count": 31,
   "metadata": {},
   "outputs": [],
   "source": [
    "regressors = [\n",
    "    LogisticRegression(random_state=0),\n",
    "    LogisticRegressionCV(random_state=0),\n",
    "    PassiveAggressiveClassifier(random_state=0),\n",
    "    Perceptron(random_state=0),\n",
    "    RidgeClassifier(random_state=0),\n",
    "    RidgeClassifierCV(),\n",
    "    SGDClassifier(random_state=0)\n",
    "]\n",
    "scores_df = pd.DataFrame(dtype=float)"
   ]
  },
  {
   "cell_type": "code",
   "execution_count": 32,
   "metadata": {},
   "outputs": [
    {
     "name": "stdout",
     "output_type": "stream",
     "text": [
      "*********LogisticRegression *********\n",
      "*********LogisticRegressionCV *********\n",
      "*********PassiveAggressiveClassifier *********\n",
      "*********Perceptron *********\n",
      "*********RidgeClassifier *********\n",
      "*********RidgeClassifierCV *********\n",
      "*********SGDClassifier *********\n"
     ]
    }
   ],
   "source": [
    "for regr in regressors:\n",
    "    get_cross_val_score(scores_df,regr, X_train, y_train,\"count_vectorizer\")"
   ]
  },
  {
   "cell_type": "code",
   "execution_count": 33,
   "metadata": {},
   "outputs": [
    {
     "data": {
      "text/html": [
       "<div>\n",
       "<style scoped>\n",
       "    .dataframe tbody tr th:only-of-type {\n",
       "        vertical-align: middle;\n",
       "    }\n",
       "\n",
       "    .dataframe tbody tr th {\n",
       "        vertical-align: top;\n",
       "    }\n",
       "\n",
       "    .dataframe thead th {\n",
       "        text-align: right;\n",
       "    }\n",
       "</style>\n",
       "<table border=\"1\" class=\"dataframe\">\n",
       "  <thead>\n",
       "    <tr style=\"text-align: right;\">\n",
       "      <th></th>\n",
       "      <th>f1</th>\n",
       "      <th>roc_auc</th>\n",
       "      <th>recall</th>\n",
       "      <th>average_precision</th>\n",
       "    </tr>\n",
       "  </thead>\n",
       "  <tbody>\n",
       "    <tr>\n",
       "      <th>RidgeClassifierCV_count_vectorizer</th>\n",
       "      <td>0.535141</td>\n",
       "      <td>0.580036</td>\n",
       "      <td>0.534524</td>\n",
       "      <td>0.601033</td>\n",
       "    </tr>\n",
       "    <tr>\n",
       "      <th>LogisticRegressionCV_count_vectorizer</th>\n",
       "      <td>0.547085</td>\n",
       "      <td>0.620762</td>\n",
       "      <td>0.540000</td>\n",
       "      <td>0.628137</td>\n",
       "    </tr>\n",
       "    <tr>\n",
       "      <th>LogisticRegression_count_vectorizer</th>\n",
       "      <td>0.548916</td>\n",
       "      <td>0.587702</td>\n",
       "      <td>0.554048</td>\n",
       "      <td>0.615188</td>\n",
       "    </tr>\n",
       "    <tr>\n",
       "      <th>PassiveAggressiveClassifier_count_vectorizer</th>\n",
       "      <td>0.551866</td>\n",
       "      <td>0.572952</td>\n",
       "      <td>0.559048</td>\n",
       "      <td>0.606187</td>\n",
       "    </tr>\n",
       "    <tr>\n",
       "      <th>RidgeClassifier_count_vectorizer</th>\n",
       "      <td>0.552907</td>\n",
       "      <td>0.567810</td>\n",
       "      <td>0.559286</td>\n",
       "      <td>0.604054</td>\n",
       "    </tr>\n",
       "  </tbody>\n",
       "</table>\n",
       "</div>"
      ],
      "text/plain": [
       "                                                   f1  roc_auc   recall  \\\n",
       "RidgeClassifierCV_count_vectorizer           0.535141 0.580036 0.534524   \n",
       "LogisticRegressionCV_count_vectorizer        0.547085 0.620762 0.540000   \n",
       "LogisticRegression_count_vectorizer          0.548916 0.587702 0.554048   \n",
       "PassiveAggressiveClassifier_count_vectorizer 0.551866 0.572952 0.559048   \n",
       "RidgeClassifier_count_vectorizer             0.552907 0.567810 0.559286   \n",
       "\n",
       "                                              average_precision  \n",
       "RidgeClassifierCV_count_vectorizer                     0.601033  \n",
       "LogisticRegressionCV_count_vectorizer                  0.628137  \n",
       "LogisticRegression_count_vectorizer                    0.615188  \n",
       "PassiveAggressiveClassifier_count_vectorizer           0.606187  \n",
       "RidgeClassifier_count_vectorizer                       0.604054  "
      ]
     },
     "metadata": {},
     "output_type": "display_data"
    }
   ],
   "source": [
    "display(scores_df.sort_values(by='f1').tail(5))"
   ]
  },
  {
   "cell_type": "code",
   "execution_count": 34,
   "metadata": {},
   "outputs": [],
   "source": [
    "#TfidfVectorizer\n",
    "tdif = TfidfVectorizer(min_df=4,stop_words=stop_words)\n",
    "X_train = tdif.fit_transform(text_train)\n",
    "X_train = normalize(X_train,norm=\"l1\")"
   ]
  },
  {
   "cell_type": "code",
   "execution_count": 35,
   "metadata": {},
   "outputs": [
    {
     "name": "stdout",
     "output_type": "stream",
     "text": [
      "408\n"
     ]
    },
    {
     "data": {
      "text/plain": [
       "3931"
      ]
     },
     "execution_count": 35,
     "metadata": {},
     "output_type": "execute_result"
    }
   ],
   "source": [
    "print (len(text_train))\n",
    "len(tdif.get_feature_names())"
   ]
  },
  {
   "cell_type": "code",
   "execution_count": 36,
   "metadata": {},
   "outputs": [
    {
     "name": "stdout",
     "output_type": "stream",
     "text": [
      "*********LogisticRegression *********\n",
      "*********LogisticRegressionCV *********\n",
      "*********PassiveAggressiveClassifier *********\n",
      "*********Perceptron *********\n",
      "*********RidgeClassifier *********\n",
      "*********RidgeClassifierCV *********\n",
      "*********SGDClassifier *********\n"
     ]
    }
   ],
   "source": [
    "for regr in regressors:\n",
    "    get_cross_val_score(scores_df,regr, X_train, y_train,\"Tfid_norm\")"
   ]
  },
  {
   "cell_type": "code",
   "execution_count": 37,
   "metadata": {},
   "outputs": [
    {
     "data": {
      "text/html": [
       "<div>\n",
       "<style scoped>\n",
       "    .dataframe tbody tr th:only-of-type {\n",
       "        vertical-align: middle;\n",
       "    }\n",
       "\n",
       "    .dataframe tbody tr th {\n",
       "        vertical-align: top;\n",
       "    }\n",
       "\n",
       "    .dataframe thead th {\n",
       "        text-align: right;\n",
       "    }\n",
       "</style>\n",
       "<table border=\"1\" class=\"dataframe\">\n",
       "  <thead>\n",
       "    <tr style=\"text-align: right;\">\n",
       "      <th></th>\n",
       "      <th>f1</th>\n",
       "      <th>roc_auc</th>\n",
       "      <th>recall</th>\n",
       "      <th>average_precision</th>\n",
       "    </tr>\n",
       "  </thead>\n",
       "  <tbody>\n",
       "    <tr>\n",
       "      <th>RidgeClassifier_count_vectorizer</th>\n",
       "      <td>0.552907</td>\n",
       "      <td>0.567810</td>\n",
       "      <td>0.559286</td>\n",
       "      <td>0.604054</td>\n",
       "    </tr>\n",
       "    <tr>\n",
       "      <th>LogisticRegressionCV_Tfid_norm</th>\n",
       "      <td>0.554672</td>\n",
       "      <td>0.604595</td>\n",
       "      <td>0.559048</td>\n",
       "      <td>0.620404</td>\n",
       "    </tr>\n",
       "    <tr>\n",
       "      <th>RidgeClassifierCV_Tfid_norm</th>\n",
       "      <td>0.569085</td>\n",
       "      <td>0.617119</td>\n",
       "      <td>0.578333</td>\n",
       "      <td>0.634616</td>\n",
       "    </tr>\n",
       "    <tr>\n",
       "      <th>Perceptron_Tfid_norm</th>\n",
       "      <td>0.576685</td>\n",
       "      <td>0.585607</td>\n",
       "      <td>0.583095</td>\n",
       "      <td>0.620991</td>\n",
       "    </tr>\n",
       "    <tr>\n",
       "      <th>SGDClassifier_Tfid_norm</th>\n",
       "      <td>0.620734</td>\n",
       "      <td>0.619857</td>\n",
       "      <td>0.732857</td>\n",
       "      <td>0.639421</td>\n",
       "    </tr>\n",
       "  </tbody>\n",
       "</table>\n",
       "</div>"
      ],
      "text/plain": [
       "                                       f1  roc_auc   recall  average_precision\n",
       "RidgeClassifier_count_vectorizer 0.552907 0.567810 0.559286           0.604054\n",
       "LogisticRegressionCV_Tfid_norm   0.554672 0.604595 0.559048           0.620404\n",
       "RidgeClassifierCV_Tfid_norm      0.569085 0.617119 0.578333           0.634616\n",
       "Perceptron_Tfid_norm             0.576685 0.585607 0.583095           0.620991\n",
       "SGDClassifier_Tfid_norm          0.620734 0.619857 0.732857           0.639421"
      ]
     },
     "metadata": {},
     "output_type": "display_data"
    }
   ],
   "source": [
    "display(scores_df.sort_values(by='f1').tail(5))"
   ]
  },
  {
   "cell_type": "code",
   "execution_count": 38,
   "metadata": {},
   "outputs": [],
   "source": [
    "# L1 normalization with CountVectorizer\n",
    "count_vec = CountVectorizer(min_df=4,stop_words=stop_words)\n",
    "X_train = count_vec.fit_transform(text_train)\n",
    "X_train = normalize(X_train,norm=\"l1\")"
   ]
  },
  {
   "cell_type": "code",
   "execution_count": 39,
   "metadata": {},
   "outputs": [
    {
     "name": "stdout",
     "output_type": "stream",
     "text": [
      "*********LogisticRegression *********\n",
      "*********LogisticRegressionCV *********\n",
      "*********PassiveAggressiveClassifier *********\n",
      "*********Perceptron *********\n",
      "*********RidgeClassifier *********\n",
      "*********RidgeClassifierCV *********\n",
      "*********SGDClassifier *********\n"
     ]
    }
   ],
   "source": [
    "for regr in regressors:\n",
    "    get_cross_val_score(scores_df,regr, X_train, y_train,\"CountVectorizer_norm\")"
   ]
  },
  {
   "cell_type": "code",
   "execution_count": 40,
   "metadata": {},
   "outputs": [
    {
     "data": {
      "text/html": [
       "<div>\n",
       "<style scoped>\n",
       "    .dataframe tbody tr th:only-of-type {\n",
       "        vertical-align: middle;\n",
       "    }\n",
       "\n",
       "    .dataframe tbody tr th {\n",
       "        vertical-align: top;\n",
       "    }\n",
       "\n",
       "    .dataframe thead th {\n",
       "        text-align: right;\n",
       "    }\n",
       "</style>\n",
       "<table border=\"1\" class=\"dataframe\">\n",
       "  <thead>\n",
       "    <tr style=\"text-align: right;\">\n",
       "      <th></th>\n",
       "      <th>f1</th>\n",
       "      <th>roc_auc</th>\n",
       "      <th>recall</th>\n",
       "      <th>average_precision</th>\n",
       "    </tr>\n",
       "  </thead>\n",
       "  <tbody>\n",
       "    <tr>\n",
       "      <th>Perceptron_CountVectorizer_norm</th>\n",
       "      <td>0.583113</td>\n",
       "      <td>0.570869</td>\n",
       "      <td>0.627857</td>\n",
       "      <td>0.591285</td>\n",
       "    </tr>\n",
       "    <tr>\n",
       "      <th>RidgeClassifierCV_CountVectorizer_norm</th>\n",
       "      <td>0.590940</td>\n",
       "      <td>0.620905</td>\n",
       "      <td>0.602619</td>\n",
       "      <td>0.640249</td>\n",
       "    </tr>\n",
       "    <tr>\n",
       "      <th>LogisticRegressionCV_CountVectorizer_norm</th>\n",
       "      <td>0.593541</td>\n",
       "      <td>0.617690</td>\n",
       "      <td>0.597857</td>\n",
       "      <td>0.641610</td>\n",
       "    </tr>\n",
       "    <tr>\n",
       "      <th>SGDClassifier_Tfid_norm</th>\n",
       "      <td>0.620734</td>\n",
       "      <td>0.619857</td>\n",
       "      <td>0.732857</td>\n",
       "      <td>0.639421</td>\n",
       "    </tr>\n",
       "    <tr>\n",
       "      <th>SGDClassifier_CountVectorizer_norm</th>\n",
       "      <td>0.624650</td>\n",
       "      <td>0.625798</td>\n",
       "      <td>0.701905</td>\n",
       "      <td>0.640713</td>\n",
       "    </tr>\n",
       "  </tbody>\n",
       "</table>\n",
       "</div>"
      ],
      "text/plain": [
       "                                                f1  roc_auc   recall  \\\n",
       "Perceptron_CountVectorizer_norm           0.583113 0.570869 0.627857   \n",
       "RidgeClassifierCV_CountVectorizer_norm    0.590940 0.620905 0.602619   \n",
       "LogisticRegressionCV_CountVectorizer_norm 0.593541 0.617690 0.597857   \n",
       "SGDClassifier_Tfid_norm                   0.620734 0.619857 0.732857   \n",
       "SGDClassifier_CountVectorizer_norm        0.624650 0.625798 0.701905   \n",
       "\n",
       "                                           average_precision  \n",
       "Perceptron_CountVectorizer_norm                     0.591285  \n",
       "RidgeClassifierCV_CountVectorizer_norm              0.640249  \n",
       "LogisticRegressionCV_CountVectorizer_norm           0.641610  \n",
       "SGDClassifier_Tfid_norm                             0.639421  \n",
       "SGDClassifier_CountVectorizer_norm                  0.640713  "
      ]
     },
     "metadata": {},
     "output_type": "display_data"
    }
   ],
   "source": [
    "display(scores_df.sort_values(by='f1').tail(5))"
   ]
  },
  {
   "cell_type": "code",
   "execution_count": 41,
   "metadata": {},
   "outputs": [],
   "source": [
    "#ngrams\n",
    "ngrm = CountVectorizer(ngram_range=(1, 3), min_df=4,stop_words=stop_words)\n",
    "X_train = ngrm.fit_transform(text_train)\n",
    "X_train = normalize(X_train,norm=\"l1\")"
   ]
  },
  {
   "cell_type": "code",
   "execution_count": 42,
   "metadata": {},
   "outputs": [
    {
     "name": "stdout",
     "output_type": "stream",
     "text": [
      "*********LogisticRegression *********\n",
      "*********LogisticRegressionCV *********\n",
      "*********PassiveAggressiveClassifier *********\n",
      "*********Perceptron *********\n",
      "*********RidgeClassifier *********\n",
      "*********RidgeClassifierCV *********\n",
      "*********SGDClassifier *********\n"
     ]
    }
   ],
   "source": [
    "for regr in regressors:\n",
    "    get_cross_val_score(scores_df,regr, X_train, y_train,\"CountV_ngrm_norm\")"
   ]
  },
  {
   "cell_type": "code",
   "execution_count": 43,
   "metadata": {},
   "outputs": [
    {
     "data": {
      "text/html": [
       "<div>\n",
       "<style scoped>\n",
       "    .dataframe tbody tr th:only-of-type {\n",
       "        vertical-align: middle;\n",
       "    }\n",
       "\n",
       "    .dataframe tbody tr th {\n",
       "        vertical-align: top;\n",
       "    }\n",
       "\n",
       "    .dataframe thead th {\n",
       "        text-align: right;\n",
       "    }\n",
       "</style>\n",
       "<table border=\"1\" class=\"dataframe\">\n",
       "  <thead>\n",
       "    <tr style=\"text-align: right;\">\n",
       "      <th></th>\n",
       "      <th>f1</th>\n",
       "      <th>roc_auc</th>\n",
       "      <th>recall</th>\n",
       "      <th>average_precision</th>\n",
       "    </tr>\n",
       "  </thead>\n",
       "  <tbody>\n",
       "    <tr>\n",
       "      <th>LogisticRegressionCV_CountVectorizer_norm</th>\n",
       "      <td>0.593541</td>\n",
       "      <td>0.617690</td>\n",
       "      <td>0.597857</td>\n",
       "      <td>0.641610</td>\n",
       "    </tr>\n",
       "    <tr>\n",
       "      <th>Perceptron_CountV_ngrm_norm</th>\n",
       "      <td>0.604797</td>\n",
       "      <td>0.590190</td>\n",
       "      <td>0.680714</td>\n",
       "      <td>0.618131</td>\n",
       "    </tr>\n",
       "    <tr>\n",
       "      <th>SGDClassifier_Tfid_norm</th>\n",
       "      <td>0.620734</td>\n",
       "      <td>0.619857</td>\n",
       "      <td>0.732857</td>\n",
       "      <td>0.639421</td>\n",
       "    </tr>\n",
       "    <tr>\n",
       "      <th>SGDClassifier_CountVectorizer_norm</th>\n",
       "      <td>0.624650</td>\n",
       "      <td>0.625798</td>\n",
       "      <td>0.701905</td>\n",
       "      <td>0.640713</td>\n",
       "    </tr>\n",
       "    <tr>\n",
       "      <th>SGDClassifier_CountV_ngrm_norm</th>\n",
       "      <td>0.641730</td>\n",
       "      <td>0.623440</td>\n",
       "      <td>0.741190</td>\n",
       "      <td>0.638214</td>\n",
       "    </tr>\n",
       "  </tbody>\n",
       "</table>\n",
       "</div>"
      ],
      "text/plain": [
       "                                                f1  roc_auc   recall  \\\n",
       "LogisticRegressionCV_CountVectorizer_norm 0.593541 0.617690 0.597857   \n",
       "Perceptron_CountV_ngrm_norm               0.604797 0.590190 0.680714   \n",
       "SGDClassifier_Tfid_norm                   0.620734 0.619857 0.732857   \n",
       "SGDClassifier_CountVectorizer_norm        0.624650 0.625798 0.701905   \n",
       "SGDClassifier_CountV_ngrm_norm            0.641730 0.623440 0.741190   \n",
       "\n",
       "                                           average_precision  \n",
       "LogisticRegressionCV_CountVectorizer_norm           0.641610  \n",
       "Perceptron_CountV_ngrm_norm                         0.618131  \n",
       "SGDClassifier_Tfid_norm                             0.639421  \n",
       "SGDClassifier_CountVectorizer_norm                  0.640713  \n",
       "SGDClassifier_CountV_ngrm_norm                      0.638214  "
      ]
     },
     "metadata": {},
     "output_type": "display_data"
    }
   ],
   "source": [
    "display(scores_df.sort_values(by='f1').tail(5))"
   ]
  },
  {
   "cell_type": "code",
   "execution_count": 44,
   "metadata": {},
   "outputs": [
    {
     "name": "stdout",
     "output_type": "stream",
     "text": [
      "vocaulary size:13253\n"
     ]
    }
   ],
   "source": [
    "cv = CountVectorizer(ngram_range=(1, 3), analyzer=\"char_wb\",stop_words=stop_words)\n",
    "X_train = cv.fit_transform(text_train)\n",
    "X_train = normalize(X_train,norm=\"l1\")\n",
    "print(f\"vocaulary size:{len(cv.vocabulary_)}\")"
   ]
  },
  {
   "cell_type": "code",
   "execution_count": 45,
   "metadata": {},
   "outputs": [
    {
     "name": "stdout",
     "output_type": "stream",
     "text": [
      "*********LogisticRegression *********\n",
      "*********LogisticRegressionCV *********\n",
      "*********PassiveAggressiveClassifier *********\n",
      "*********Perceptron *********\n",
      "*********RidgeClassifier *********\n",
      "*********RidgeClassifierCV *********\n",
      "*********SGDClassifier *********\n"
     ]
    }
   ],
   "source": [
    "for regr in regressors:\n",
    "    get_cross_val_score(scores_df,regr, X_train, y_train,\"CountV_char_wb_norm\")"
   ]
  },
  {
   "cell_type": "code",
   "execution_count": 46,
   "metadata": {},
   "outputs": [
    {
     "data": {
      "text/html": [
       "<div>\n",
       "<style scoped>\n",
       "    .dataframe tbody tr th:only-of-type {\n",
       "        vertical-align: middle;\n",
       "    }\n",
       "\n",
       "    .dataframe tbody tr th {\n",
       "        vertical-align: top;\n",
       "    }\n",
       "\n",
       "    .dataframe thead th {\n",
       "        text-align: right;\n",
       "    }\n",
       "</style>\n",
       "<table border=\"1\" class=\"dataframe\">\n",
       "  <thead>\n",
       "    <tr style=\"text-align: right;\">\n",
       "      <th></th>\n",
       "      <th>f1</th>\n",
       "      <th>roc_auc</th>\n",
       "      <th>recall</th>\n",
       "      <th>average_precision</th>\n",
       "    </tr>\n",
       "  </thead>\n",
       "  <tbody>\n",
       "    <tr>\n",
       "      <th>LogisticRegressionCV_CountVectorizer_norm</th>\n",
       "      <td>0.593541</td>\n",
       "      <td>0.617690</td>\n",
       "      <td>0.597857</td>\n",
       "      <td>0.641610</td>\n",
       "    </tr>\n",
       "    <tr>\n",
       "      <th>Perceptron_CountV_ngrm_norm</th>\n",
       "      <td>0.604797</td>\n",
       "      <td>0.590190</td>\n",
       "      <td>0.680714</td>\n",
       "      <td>0.618131</td>\n",
       "    </tr>\n",
       "    <tr>\n",
       "      <th>SGDClassifier_Tfid_norm</th>\n",
       "      <td>0.620734</td>\n",
       "      <td>0.619857</td>\n",
       "      <td>0.732857</td>\n",
       "      <td>0.639421</td>\n",
       "    </tr>\n",
       "    <tr>\n",
       "      <th>SGDClassifier_CountVectorizer_norm</th>\n",
       "      <td>0.624650</td>\n",
       "      <td>0.625798</td>\n",
       "      <td>0.701905</td>\n",
       "      <td>0.640713</td>\n",
       "    </tr>\n",
       "    <tr>\n",
       "      <th>SGDClassifier_CountV_ngrm_norm</th>\n",
       "      <td>0.641730</td>\n",
       "      <td>0.623440</td>\n",
       "      <td>0.741190</td>\n",
       "      <td>0.638214</td>\n",
       "    </tr>\n",
       "  </tbody>\n",
       "</table>\n",
       "</div>"
      ],
      "text/plain": [
       "                                                f1  roc_auc   recall  \\\n",
       "LogisticRegressionCV_CountVectorizer_norm 0.593541 0.617690 0.597857   \n",
       "Perceptron_CountV_ngrm_norm               0.604797 0.590190 0.680714   \n",
       "SGDClassifier_Tfid_norm                   0.620734 0.619857 0.732857   \n",
       "SGDClassifier_CountVectorizer_norm        0.624650 0.625798 0.701905   \n",
       "SGDClassifier_CountV_ngrm_norm            0.641730 0.623440 0.741190   \n",
       "\n",
       "                                           average_precision  \n",
       "LogisticRegressionCV_CountVectorizer_norm           0.641610  \n",
       "Perceptron_CountV_ngrm_norm                         0.618131  \n",
       "SGDClassifier_Tfid_norm                             0.639421  \n",
       "SGDClassifier_CountVectorizer_norm                  0.640713  \n",
       "SGDClassifier_CountV_ngrm_norm                      0.638214  "
      ]
     },
     "metadata": {},
     "output_type": "display_data"
    }
   ],
   "source": [
    "display(scores_df.sort_values(by='f1').tail(5))"
   ]
  },
  {
   "cell_type": "markdown",
   "metadata": {},
   "source": [
    "### Get an impression of data by looking at most important features"
   ]
  },
  {
   "cell_type": "code",
   "execution_count": 47,
   "metadata": {},
   "outputs": [
    {
     "data": {
      "text/plain": [
       "SGDClassifier()"
      ]
     },
     "execution_count": 47,
     "metadata": {},
     "output_type": "execute_result"
    }
   ],
   "source": [
    "tdif = TfidfVectorizer(stop_words=stop_words,min_df=4)\n",
    "X_train = tdif.fit_transform(text_train)\n",
    "X_train = normalize(X_train,norm=\"l1\")\n",
    "sgc = SGDClassifier()\n",
    "sgc.fit(X_train, y_train)"
   ]
  },
  {
   "cell_type": "code",
   "execution_count": 48,
   "metadata": {},
   "outputs": [],
   "source": [
    "def plot_important_features(coef, feature_names, top_n=20, ax=None, rotation=60):\n",
    "    if ax is None:\n",
    "        ax = plt.gca()\n",
    "    inds = np.argsort(coef)\n",
    "    low = inds[:top_n]\n",
    "    high = inds[-top_n:]\n",
    "    important = np.hstack([low, high])\n",
    "    myrange = range(len(important))\n",
    "    colors = ['red'] * top_n + ['blue'] * top_n\n",
    "    \n",
    "    ax.bar(myrange, coef[important], color=colors)\n",
    "    ax.set_xticks(myrange)\n",
    "    heb_feature_names =[bidialg.get_display(feature) for feature in feature_names[important]]\n",
    "    ax.set_xticklabels(heb_feature_names, rotation=rotation, ha=\"right\")\n",
    "    ax.set_xlim(-.7, 2 * top_n)\n",
    "    ax.set_frame_on(False)"
   ]
  },
  {
   "cell_type": "code",
   "execution_count": 49,
   "metadata": {},
   "outputs": [
    {
     "data": {
      "image/png": "[encoded data removed]",
      "text/plain": [
       "<Figure size 1080x432 with 1 Axes>"
      ]
     },
     "metadata": {
      "needs_background": "light"
     },
     "output_type": "display_data"
    }
   ],
   "source": [
    "plt.figure(figsize=(15, 6))\n",
    "plot_important_features(sgc.coef_.ravel(), np.array(tdif.get_feature_names()), top_n=20, rotation=40)\n",
    "ax = plt.gca()\n",
    "plt.show()"
   ]
  },
  {
   "cell_type": "code",
   "execution_count": 50,
   "metadata": {},
   "outputs": [
    {
     "name": "stdout",
     "output_type": "stream",
     "text": [
      "Requirement already satisfied: hebrew_tokenizer in /home/zsofya/jupyter_git/jup-nb-generic/lib/python3.8/site-packages (2.1.0)\n",
      "\u001b[33mWARNING: You are using pip version 21.1.1; however, version 21.1.3 is available.\n",
      "You should consider upgrading via the '/home/zsofya/jupyter_git/jup-nb-generic/bin/python3 -m pip install --upgrade pip' command.\u001b[0m\n",
      "Note: you may need to restart the kernel to use updated packages.\n"
     ]
    }
   ],
   "source": [
    "pip install hebrew_tokenizer"
   ]
  },
  {
   "cell_type": "markdown",
   "metadata": {},
   "source": [
    "## Feature engineering"
   ]
  },
  {
   "cell_type": "markdown",
   "metadata": {},
   "source": [
    " ### - Add feature 'mention of specific time in narrative'"
   ]
  },
  {
   "cell_type": "code",
   "execution_count": 51,
   "metadata": {},
   "outputs": [
    {
     "name": "stdout",
     "output_type": "stream",
     "text": [
      "/scratch/sim_reg6/users/zsofya/classroom/MSc/master-of-science/semester_2/Advanced_Topics_in_Machine_Learning/final_proj_Sofy\n",
      "['00', '000', '10', '100', '1000', '11', '12', '13', '14', '15', '16', '18', '20', '200', '2020', '2021', '21', '22', '23', '24']\n",
      "['ירדנו', 'ירדתי', 'ירוק', 'ירצה', 'ירקות', 'ישב', 'ישבו', 'ישבנו', 'ישבתי', 'ישירות', 'ישמע', 'ישן', 'ישנה', 'ישנו', 'ישנים', 'ישנם', 'ישנתי', 'ישר', 'ישראלים', 'ישראלית']\n",
      "['00', 'במספר', 'ההרגשה', 'הצניחה', 'ולמצוא', 'ישירות', 'למטוס', 'מטלטלת', 'סדר', 'שאמרו', 'תשע']\n"
     ]
    },
    {
     "name": "stderr",
     "output_type": "stream",
     "text": [
      "/home/zsofya/jupyter_git/jup-nb-generic/lib/python3.8/site-packages/hebrew_tokenizer/tokenizer.py:121: FutureWarning: Possible nested set at position 729\n",
      "  self.scanner = re.compile(\n"
     ]
    }
   ],
   "source": [
    "import hebrew_tokenizer as ht\n",
    "hebrew_text = text_train\n",
    "heb_vec=CountVectorizer().fit(hebrew_text)\n",
    "heb_vec.get_feature_names() \n",
    "sample_features(feature_names)"
   ]
  },
  {
   "cell_type": "code",
   "execution_count": 52,
   "metadata": {},
   "outputs": [
    {
     "data": {
      "text/html": [
       "<div>\n",
       "<style scoped>\n",
       "    .dataframe tbody tr th:only-of-type {\n",
       "        vertical-align: middle;\n",
       "    }\n",
       "\n",
       "    .dataframe tbody tr th {\n",
       "        vertical-align: top;\n",
       "    }\n",
       "\n",
       "    .dataframe thead th {\n",
       "        text-align: right;\n",
       "    }\n",
       "</style>\n",
       "<table border=\"1\" class=\"dataframe\">\n",
       "  <thead>\n",
       "    <tr style=\"text-align: right;\">\n",
       "      <th></th>\n",
       "      <th>author_gender</th>\n",
       "      <th>author_birth_year</th>\n",
       "      <th>narrative</th>\n",
       "      <th>label</th>\n",
       "      <th>nar_length</th>\n",
       "      <th>cnt_time</th>\n",
       "    </tr>\n",
       "  </thead>\n",
       "  <tbody>\n",
       "    <tr>\n",
       "      <th>390</th>\n",
       "      <td>1</td>\n",
       "      <td>1997</td>\n",
       "      <td>בחודש יולי האחרון, נסעתי עם משפחתי המורחבת מצד...</td>\n",
       "      <td>0</td>\n",
       "      <td>2180</td>\n",
       "      <td>2</td>\n",
       "    </tr>\n",
       "    <tr>\n",
       "      <th>137</th>\n",
       "      <td>0</td>\n",
       "      <td>1993</td>\n",
       "      <td>אחד מימי החול באמצע השבוע, מנהג של שנים עוד מג...</td>\n",
       "      <td>1</td>\n",
       "      <td>2027</td>\n",
       "      <td>2</td>\n",
       "    </tr>\n",
       "    <tr>\n",
       "      <th>136</th>\n",
       "      <td>0</td>\n",
       "      <td>1990</td>\n",
       "      <td>לפני חודש וחצי קמתי בבוקר עם כאבים חזקים מאוד....</td>\n",
       "      <td>1</td>\n",
       "      <td>1664</td>\n",
       "      <td>2</td>\n",
       "    </tr>\n",
       "    <tr>\n",
       "      <th>221</th>\n",
       "      <td>0</td>\n",
       "      <td>1997</td>\n",
       "      <td>במהלך שלושת החודשים האחרונים עוברת עלי תקופה ל...</td>\n",
       "      <td>0</td>\n",
       "      <td>1416</td>\n",
       "      <td>2</td>\n",
       "    </tr>\n",
       "    <tr>\n",
       "      <th>132</th>\n",
       "      <td>0</td>\n",
       "      <td>1996</td>\n",
       "      <td>חוויה שהייתה לי בשנה האחרונה התחילה בכך שהתקבל...</td>\n",
       "      <td>1</td>\n",
       "      <td>1900</td>\n",
       "      <td>2</td>\n",
       "    </tr>\n",
       "    <tr>\n",
       "      <th>379</th>\n",
       "      <td>0</td>\n",
       "      <td>1993</td>\n",
       "      <td>בתאריך ה 11.01.21 טסתי עם בת הזוג שלי לפולין ל...</td>\n",
       "      <td>0</td>\n",
       "      <td>1831</td>\n",
       "      <td>2</td>\n",
       "    </tr>\n",
       "    <tr>\n",
       "      <th>335</th>\n",
       "      <td>0</td>\n",
       "      <td>1999</td>\n",
       "      <td>בסמסטר קודם אני וכמה חברים ללימודים קבענו להיפ...</td>\n",
       "      <td>0</td>\n",
       "      <td>1935</td>\n",
       "      <td>2</td>\n",
       "    </tr>\n",
       "    <tr>\n",
       "      <th>169</th>\n",
       "      <td>0</td>\n",
       "      <td>1994</td>\n",
       "      <td>ביום חמישי הבן שלי ועוד מספר חברים הזמינו פיצה...</td>\n",
       "      <td>1</td>\n",
       "      <td>1624</td>\n",
       "      <td>3</td>\n",
       "    </tr>\n",
       "    <tr>\n",
       "      <th>196</th>\n",
       "      <td>0</td>\n",
       "      <td>1992</td>\n",
       "      <td>מהלך חודש דצמבר, מזג האוויר מקסים ולא אופייני ...</td>\n",
       "      <td>1</td>\n",
       "      <td>1956</td>\n",
       "      <td>3</td>\n",
       "    </tr>\n",
       "    <tr>\n",
       "      <th>174</th>\n",
       "      <td>0</td>\n",
       "      <td>1994</td>\n",
       "      <td>זהו היה יום חמישי אחר הצהריים, היום בו נקבע לי...</td>\n",
       "      <td>1</td>\n",
       "      <td>1779</td>\n",
       "      <td>6</td>\n",
       "    </tr>\n",
       "  </tbody>\n",
       "</table>\n",
       "</div>"
      ],
      "text/plain": [
       "     author_gender  author_birth_year  \\\n",
       "390              1               1997   \n",
       "137              0               1993   \n",
       "136              0               1990   \n",
       "221              0               1997   \n",
       "132              0               1996   \n",
       "379              0               1993   \n",
       "335              0               1999   \n",
       "169              0               1994   \n",
       "196              0               1992   \n",
       "174              0               1994   \n",
       "\n",
       "                                             narrative  label  nar_length  \\\n",
       "390  בחודש יולי האחרון, נסעתי עם משפחתי המורחבת מצד...      0        2180   \n",
       "137  אחד מימי החול באמצע השבוע, מנהג של שנים עוד מג...      1        2027   \n",
       "136  לפני חודש וחצי קמתי בבוקר עם כאבים חזקים מאוד....      1        1664   \n",
       "221  במהלך שלושת החודשים האחרונים עוברת עלי תקופה ל...      0        1416   \n",
       "132  חוויה שהייתה לי בשנה האחרונה התחילה בכך שהתקבל...      1        1900   \n",
       "379  בתאריך ה 11.01.21 טסתי עם בת הזוג שלי לפולין ל...      0        1831   \n",
       "335  בסמסטר קודם אני וכמה חברים ללימודים קבענו להיפ...      0        1935   \n",
       "169  ביום חמישי הבן שלי ועוד מספר חברים הזמינו פיצה...      1        1624   \n",
       "196  מהלך חודש דצמבר, מזג האוויר מקסים ולא אופייני ...      1        1956   \n",
       "174  זהו היה יום חמישי אחר הצהריים, היום בו נקבע לי...      1        1779   \n",
       "\n",
       "     cnt_time  \n",
       "390         2  \n",
       "137         2  \n",
       "136         2  \n",
       "221         2  \n",
       "132         2  \n",
       "379         2  \n",
       "335         2  \n",
       "169         3  \n",
       "196         3  \n",
       "174         6  "
      ]
     },
     "metadata": {},
     "output_type": "display_data"
    },
    {
     "data": {
      "text/plain": [
       "0    387\n",
       "1     11\n",
       "2      7\n",
       "3      2\n",
       "6      1\n",
       "Name: cnt_time, dtype: int64"
      ]
     },
     "execution_count": 52,
     "metadata": {},
     "output_type": "execute_result"
    }
   ],
   "source": [
    "time_column = []\n",
    "for text in hebrew_text:\n",
    "    text_grp = []\n",
    "    tokens = ht.tokenize(text)  # tokenize returns a generator!\n",
    "    for grp, token, token_num, (start_index, end_index) in tokens:\n",
    "        text_grp.append(grp)\n",
    "    cnt_time = text_grp.count('HOUR') + text_grp.count('DATE') + text_grp.count('DATE_1') + text_grp.count('DATE_2')\n",
    "    time_column.append(cnt_time)\n",
    "df_steps['5_time_count'] = df_steps['4_clean_nar']\n",
    "df_steps['5_time_count']['cnt_time']=time_column\n",
    "display(df_steps['5_time_count'].sort_values(by='cnt_time').tail(10))  \n",
    "df_steps['5_time_count']['cnt_time'].value_counts()"
   ]
  },
  {
   "cell_type": "markdown",
   "metadata": {},
   "source": [
    " ### - Add feature 'topic of narrative'"
   ]
  },
  {
   "cell_type": "code",
   "execution_count": 53,
   "metadata": {},
   "outputs": [],
   "source": [
    "text_train = df_steps['4_clean_nar']['narrative'].tolist()"
   ]
  },
  {
   "cell_type": "code",
   "execution_count": 54,
   "metadata": {},
   "outputs": [],
   "source": [
    "tdif = TfidfVectorizer(min_df=4,stop_words=stop_words)\n",
    "X_train = tdif.fit_transform(text_train)"
   ]
  },
  {
   "cell_type": "code",
   "execution_count": 55,
   "metadata": {},
   "outputs": [],
   "source": [
    "from sklearn.decomposition import LatentDirichletAllocation\n",
    "lda10 = LatentDirichletAllocation(n_components=20, learning_method=\"batch\")\n",
    "X_lda10 = lda10.fit_transform(X_train)"
   ]
  },
  {
   "cell_type": "code",
   "execution_count": 56,
   "metadata": {},
   "outputs": [],
   "source": [
    "def plot_important_features2(coef, feature_names, top_n=20, ax=None):\n",
    "    if ax is None:\n",
    "        ax = plt.gca()\n",
    "    inds = np.argsort(np.abs(coef))[-top_n:]\n",
    "    important_coefs = coef[inds]\n",
    "    sort_sign = np.argsort(important_coefs)\n",
    "    myrange = range(len(inds))\n",
    "    combined_inds = inds[sort_sign]\n",
    "\n",
    "    ax.bar(myrange, coef[combined_inds])\n",
    "    ax.set_xticks(myrange)\n",
    "    heb_feature_names =[bidialg.get_display(feature) for feature in feature_names[combined_inds]]\n",
    "    ax.set_xticklabels(heb_feature_names, rotation=60, ha=\"right\")"
   ]
  },
  {
   "cell_type": "code",
   "execution_count": 57,
   "metadata": {},
   "outputs": [
    {
     "data": {
      "image/png": "[encoded data removed]",
      "text/plain": [
       "<Figure size 720x720 with 12 Axes>"
      ]
     },
     "metadata": {
      "needs_background": "light"
     },
     "output_type": "display_data"
    }
   ],
   "source": [
    "feature_names = np.array(vect.get_feature_names())\n",
    "n_components = 10\n",
    "fig, axes = plt.subplots(n_components // 3 + 1, 3, figsize=(10, 10))\n",
    "for ax, coef in zip(axes.ravel(), lda10.components_):\n",
    "    plot_important_features2(coef, feature_names, top_n=15, ax=ax)\n",
    "    \n",
    "plt.tight_layout()"
   ]
  },
  {
   "cell_type": "code",
   "execution_count": 58,
   "metadata": {},
   "outputs": [],
   "source": [
    "def print_topics(topics, feature_names, components, topics_per_chunk=6,\n",
    "                 n_words=20):\n",
    "    #sorting = np.argsort(components, axis=1)[:, ::-1]\n",
    "    sorting= components\n",
    "    \n",
    "    \n",
    "    for i in range(0, len(topics), topics_per_chunk):\n",
    "        # for each chunk:\n",
    "        these_topics = topics[i: i + topics_per_chunk]\n",
    "        # maybe we have less than topics_per_chunk left\n",
    "        len_this_chunk = len(these_topics)\n",
    "        # print topic headers\n",
    "        print((\"topic {:<8}\" * len_this_chunk).format(*these_topics))\n",
    "        print((\"-------- {0:<5}\" * len_this_chunk).format(\"\"))\n",
    "        # print top n_words frequent words\n",
    "        for ii in range(n_words):\n",
    "            try:\n",
    "                print((\"{:<14}\" * len_this_chunk).format(\n",
    "                    *feature_names[sorting[these_topics, ii]]))\n",
    "            except:\n",
    "                pass\n",
    "        print(\"\\n\")\n"
   ]
  },
  {
   "cell_type": "code",
   "execution_count": 59,
   "metadata": {},
   "outputs": [
    {
     "name": "stdout",
     "output_type": "stream",
     "text": [
      "topic 10      topic 15      topic 6       topic 0       topic 14      topic 16      topic 5       topic 3       \n",
      "--------      --------      --------      --------      --------      --------      --------      --------      \n",
      "הקורונה       רכב           המשכנו        אבא           בכנרת         אשתי          לגור          פיקניק        \n",
      "היינו         להבין         למלון         הבן           המים          חיפה          אשתי          הבחירות       \n",
      "התחלתי        והתחלתי       לטייל         לכתוב         שטויות        צלילה         קניות         ברחוב         \n",
      "ימים          עזרה          לאורך         הסגר          המזל          החלה          מדינה         החיות         \n",
      "החלטתי        החולים        ואנחנו        שבועות        כיף           אבא           לבלות         קיים          \n",
      "הביתה         כיף           בעיר          המטלה         מסעדה         ואשתי         זוגי          להסתובב       \n",
      "במהלך         באותה         שהיינו        שעברתי        רעש           לסופר         בחרנו         בכביש         \n",
      "החלטנו        מסתבר         הנסיעה        בפעם          בכדור         לידה          ספקים         פרויקט        \n",
      "באותו         ברכב          לשדה          לגור          הכנרת         לפגוש         לחכות         בגינה         \n",
      "מכן           תל            העיר          היד           פרנסיסקו      50            לילות         הבחורה        \n",
      "לבית          שיותר         בלילה         עלה           לכנרת         התמונה        לחניון        וכמעט         \n",
      "אותנו         לשמוע         הלילה         למידה         ארוכות        בהמשך         האולם         במסעדת        \n",
      "המשפחה        ואמרתי        הלכנו         ללמד          נסעתי         הגדולה        דירות         חייבת         \n",
      "הגיע          אישתי         הציוד         השלב          שיר           האישה         בדרום         הכושר         \n",
      "חברים         המקרה         הסגר          כתיבה         שיחקנו        עשרה          הדלקנו        הארוכה        \n",
      "בבוקר         המשכתי        חם            להתאמן        לשהות         סדר           אחרינו        כרטיסי        \n",
      "הרגשתי        חברות         המטוס         שלב           מתוקים        אבי           שבועות        הסכמנו        \n",
      "מכיוון        לאילת         הבחור         מילים         בדיחות        לשבוע         ענק           חיות          \n",
      "הגענו         הבדיקה        הליכה         אחי           ולצוף         סכום          לקחנו         במחיר         \n",
      "הרכב          אליה          עברנו         נפל           ומפרשיות      המוצר         מהחיים        האישה         \n",
      "\n",
      "\n",
      "topic 8       topic 12      topic 18      topic 4       topic 19      topic 13      topic 7       topic 1       \n",
      "--------      --------      --------      --------      --------      --------      --------      --------      \n",
      "נעליים        למדנו         אבטלה         דודים         כלב           לימון         האזור         בקומה         \n",
      "היד           ופתאום        כלים          היתי          כלבים         אחי           ובסוף         טופס          \n",
      "טיפה          דגים          פנוי          המסיבה        גור           בשר           להיכנס        להצטרף        \n",
      "שבאמת         מהמים         לסניף         הוריי         המזוודה       תלמיד         במתחם         שינה          \n",
      "ובקושי        חיות          ההר           בניין         למד           טיפה          שמים          בשכונה        \n",
      "בקבוק         השבועיים      וארוסתי       העברתי        לאמץ          מבאס          ויתרתי        אחי           \n",
      "באים          כאבים         לשטוף         המורחבת       עץ            מסוים         שסבתא         השותפים       \n",
      "הבחור         הזוגיות       אירועים       גיסי          בצפון         הולכת         ואמרנו        הפועל         \n",
      "ירקות         למיון         האורחים       הבסיס         לגור          לשאר          מהן           במשחק         \n",
      "משרה          בדבר          החלו          וכן           ניסיונות      מהדרך         מהחדר         ההצעה         \n",
      "הוסיף         מסיבה         מקצועית       בפועל         מהחברים       יציאה         פנוי          ושלא          \n",
      "ענה           הפרידה        שתמיד         לדלת          מיותר         בעיר          סקי           ושהוא         \n",
      "החשש          בשר           מתמיד         הפסח          ריח           חבל           החוזה         להילחץ        \n",
      "חיילים        ההצעה         אירוע         להכיל         ההזמנה        בריא          המפקד         הבניין        \n",
      "חמישה         החיות         ואמא          לעומק         השירות        הכלבים        באו           התוכנית       \n",
      "כאבי          הארנק         מחקר          עשרה          והביא         נסעתי         כלב           22            \n",
      "הבגדים        מחלה          לסוע          בעצמי         השפעה         חום           שהן           ברחבי         \n",
      "שבאותו        האחים         במחיר         באחת          רעש           בקיץ          שזכיתי        מזוודה        \n",
      "הזוי          מקצוע         אח            לחוץ          יחזור         מוכנה         אהבתי         התרגשות       \n",
      "ופתאום        העצמי         צלחות         הנחיות        שברגע         חשיבות        התקשרו        קר            \n",
      "\n",
      "\n",
      "topic 9       topic 17      topic 11      topic 2       \n",
      "--------      --------      --------      --------      \n",
      "בירות         הבוס          סבתא          להחליף        \n",
      "בירה          השוטרים       המספר         עוגות         \n",
      "קר            דאגנו         למסלול        מפני          \n",
      "למטה          בגובה         טניס          טלוויזיה      \n",
      "המזגן         המשרד         במערכת        ביננו         \n",
      "שחיפשתי       ההכשרה        חרדה          שלחתי         \n",
      "מהמים         ההליכה        הרגל          עוגת          \n",
      "טיפה          מד            שלחתי         הבחנתי        \n",
      "מפחד          הקודמת        חייבת         מהעיר         \n",
      "נהנתי         שלושת         חיבור         לאמץ          \n",
      "ברחבי         סיום          הפסיק         לפעול         \n",
      "שתיתי         המסיבה        והמשפחה       צד            \n",
      "מונית         התראה         להחליף        הציוד         \n",
      "שעובר         ביחידה        בפייסבוק      ספייר         \n",
      "הבירה         אראה          שעת           הבת           \n",
      "במהרה         שמישהו        שילמתי        בפייסבוק      \n",
      "מעלות         בתנאי         בדיקת         הגלגל         \n",
      "קילומטר       ההצעה         לתחנת         זכוכית        \n",
      "כולי          הולכים        האחריות       שבורה         \n",
      "סגורים        לנצח          מאמן          טיפה          \n",
      "\n",
      "\n"
     ]
    }
   ],
   "source": [
    "sorting = np.argsort(lda10.components_, axis=1)[:, ::-1]\n",
    "print_topics(np.argsort(X_lda10.sum(axis=0))[::-1][:30], feature_names, sorting, topics_per_chunk=8)"
   ]
  },
  {
   "cell_type": "code",
   "execution_count": 60,
   "metadata": {},
   "outputs": [],
   "source": [
    "topic = []\n",
    "for i in range(len(text_train)):\n",
    "    topic.append(np.argmax(X_lda10[i]))\n",
    "df_steps['6_topic']=df_steps['5_time_count']\n",
    "df_steps['6_topic']['topic']=topic"
   ]
  },
  {
   "cell_type": "code",
   "execution_count": 61,
   "metadata": {},
   "outputs": [
    {
     "data": {
      "text/plain": [
       "10    387\n",
       "6       7\n",
       "15      6\n",
       "14      3\n",
       "0       1\n",
       "3       1\n",
       "5       1\n",
       "12      1\n",
       "16      1\n",
       "Name: topic, dtype: int64"
      ]
     },
     "execution_count": 61,
     "metadata": {},
     "output_type": "execute_result"
    }
   ],
   "source": [
    "df_steps['6_topic']['topic'].value_counts()"
   ]
  },
  {
   "cell_type": "code",
   "execution_count": 62,
   "metadata": {},
   "outputs": [
    {
     "data": {
      "image/png": "[encoded data removed]",
      "text/plain": [
       "<Figure size 432x288 with 1 Axes>"
      ]
     },
     "metadata": {
      "needs_background": "light"
     },
     "output_type": "display_data"
    }
   ],
   "source": [
    "ax = sns.countplot(x=\"topic\", hue=\"label\", data=df_steps['6_topic'])"
   ]
  },
  {
   "cell_type": "code",
   "execution_count": 63,
   "metadata": {},
   "outputs": [],
   "source": [
    "df_steps['6_topic'] = get_dummies(df_steps['6_topic'],['topic'])"
   ]
  },
  {
   "cell_type": "markdown",
   "metadata": {},
   "source": [
    "## Conclision: \n",
    "we can see a diffetence in topic selection between truth / fake stories."
   ]
  },
  {
   "cell_type": "markdown",
   "metadata": {},
   "source": [
    "## Combine text and numerical features"
   ]
  },
  {
   "cell_type": "code",
   "execution_count": 64,
   "metadata": {},
   "outputs": [
    {
     "data": {
      "text/html": [
       "<div>\n",
       "<style scoped>\n",
       "    .dataframe tbody tr th:only-of-type {\n",
       "        vertical-align: middle;\n",
       "    }\n",
       "\n",
       "    .dataframe tbody tr th {\n",
       "        vertical-align: top;\n",
       "    }\n",
       "\n",
       "    .dataframe thead th {\n",
       "        text-align: right;\n",
       "    }\n",
       "</style>\n",
       "<table border=\"1\" class=\"dataframe\">\n",
       "  <thead>\n",
       "    <tr style=\"text-align: right;\">\n",
       "      <th></th>\n",
       "      <th>author_gender</th>\n",
       "      <th>author_birth_year</th>\n",
       "      <th>narrative</th>\n",
       "      <th>label</th>\n",
       "      <th>nar_length</th>\n",
       "      <th>cnt_time</th>\n",
       "      <th>topic_0</th>\n",
       "      <th>topic_3</th>\n",
       "      <th>topic_5</th>\n",
       "      <th>topic_6</th>\n",
       "      <th>topic_10</th>\n",
       "      <th>topic_12</th>\n",
       "      <th>topic_14</th>\n",
       "      <th>topic_15</th>\n",
       "      <th>topic_16</th>\n",
       "    </tr>\n",
       "  </thead>\n",
       "  <tbody>\n",
       "    <tr>\n",
       "      <th>0</th>\n",
       "      <td>0</td>\n",
       "      <td>1995</td>\n",
       "      <td>שנת 2020 הייתה מטלטלת למדי בשבילי, עברתי הרבה ...</td>\n",
       "      <td>1</td>\n",
       "      <td>1748</td>\n",
       "      <td>0</td>\n",
       "      <td>0</td>\n",
       "      <td>0</td>\n",
       "      <td>0</td>\n",
       "      <td>0</td>\n",
       "      <td>1</td>\n",
       "      <td>0</td>\n",
       "      <td>0</td>\n",
       "      <td>0</td>\n",
       "      <td>0</td>\n",
       "    </tr>\n",
       "    <tr>\n",
       "      <th>1</th>\n",
       "      <td>0</td>\n",
       "      <td>1992</td>\n",
       "      <td>בשנת 2018 קיבלתי החלטה שאני מתחיל ללמוד לתואר ...</td>\n",
       "      <td>1</td>\n",
       "      <td>1696</td>\n",
       "      <td>0</td>\n",
       "      <td>0</td>\n",
       "      <td>0</td>\n",
       "      <td>0</td>\n",
       "      <td>0</td>\n",
       "      <td>1</td>\n",
       "      <td>0</td>\n",
       "      <td>0</td>\n",
       "      <td>0</td>\n",
       "      <td>0</td>\n",
       "    </tr>\n",
       "    <tr>\n",
       "      <th>2</th>\n",
       "      <td>0</td>\n",
       "      <td>1992</td>\n",
       "      <td>לפני מספר שנים אני ובת הזוג שלי טסנו ללונדון ז...</td>\n",
       "      <td>1</td>\n",
       "      <td>1967</td>\n",
       "      <td>0</td>\n",
       "      <td>0</td>\n",
       "      <td>0</td>\n",
       "      <td>0</td>\n",
       "      <td>0</td>\n",
       "      <td>1</td>\n",
       "      <td>0</td>\n",
       "      <td>0</td>\n",
       "      <td>0</td>\n",
       "      <td>0</td>\n",
       "    </tr>\n",
       "    <tr>\n",
       "      <th>3</th>\n",
       "      <td>1</td>\n",
       "      <td>1991</td>\n",
       "      <td>האישה שבקושי הכרתי חייכה תמיד, העיניים שלה ברק...</td>\n",
       "      <td>1</td>\n",
       "      <td>1648</td>\n",
       "      <td>0</td>\n",
       "      <td>0</td>\n",
       "      <td>0</td>\n",
       "      <td>0</td>\n",
       "      <td>0</td>\n",
       "      <td>1</td>\n",
       "      <td>0</td>\n",
       "      <td>0</td>\n",
       "      <td>0</td>\n",
       "      <td>0</td>\n",
       "    </tr>\n",
       "    <tr>\n",
       "      <th>4</th>\n",
       "      <td>1</td>\n",
       "      <td>1992</td>\n",
       "      <td>בדרך חזרה מהטיול שנתי בכיתה ח' התקשרתי לאבא של...</td>\n",
       "      <td>1</td>\n",
       "      <td>1553</td>\n",
       "      <td>0</td>\n",
       "      <td>0</td>\n",
       "      <td>0</td>\n",
       "      <td>0</td>\n",
       "      <td>0</td>\n",
       "      <td>1</td>\n",
       "      <td>0</td>\n",
       "      <td>0</td>\n",
       "      <td>0</td>\n",
       "      <td>0</td>\n",
       "    </tr>\n",
       "    <tr>\n",
       "      <th>...</th>\n",
       "      <td>...</td>\n",
       "      <td>...</td>\n",
       "      <td>...</td>\n",
       "      <td>...</td>\n",
       "      <td>...</td>\n",
       "      <td>...</td>\n",
       "      <td>...</td>\n",
       "      <td>...</td>\n",
       "      <td>...</td>\n",
       "      <td>...</td>\n",
       "      <td>...</td>\n",
       "      <td>...</td>\n",
       "      <td>...</td>\n",
       "      <td>...</td>\n",
       "      <td>...</td>\n",
       "    </tr>\n",
       "    <tr>\n",
       "      <th>403</th>\n",
       "      <td>0</td>\n",
       "      <td>1988</td>\n",
       "      <td>ללמוד להעז יותר, אחד החוויה הזאת שעשיתי באה אח...</td>\n",
       "      <td>0</td>\n",
       "      <td>2561</td>\n",
       "      <td>0</td>\n",
       "      <td>0</td>\n",
       "      <td>0</td>\n",
       "      <td>0</td>\n",
       "      <td>0</td>\n",
       "      <td>1</td>\n",
       "      <td>0</td>\n",
       "      <td>0</td>\n",
       "      <td>0</td>\n",
       "      <td>0</td>\n",
       "    </tr>\n",
       "    <tr>\n",
       "      <th>404</th>\n",
       "      <td>0</td>\n",
       "      <td>1993</td>\n",
       "      <td>זה קרה לפניי מספר שבועות עוד כשהיינו תחת סגרים...</td>\n",
       "      <td>0</td>\n",
       "      <td>1670</td>\n",
       "      <td>0</td>\n",
       "      <td>0</td>\n",
       "      <td>0</td>\n",
       "      <td>0</td>\n",
       "      <td>0</td>\n",
       "      <td>1</td>\n",
       "      <td>0</td>\n",
       "      <td>0</td>\n",
       "      <td>0</td>\n",
       "      <td>0</td>\n",
       "    </tr>\n",
       "    <tr>\n",
       "      <th>405</th>\n",
       "      <td>0</td>\n",
       "      <td>1995</td>\n",
       "      <td>לפני שלוש שנים, לאחר שחסכתי, טסתי עם חבר מאוד ...</td>\n",
       "      <td>0</td>\n",
       "      <td>2032</td>\n",
       "      <td>0</td>\n",
       "      <td>0</td>\n",
       "      <td>0</td>\n",
       "      <td>0</td>\n",
       "      <td>0</td>\n",
       "      <td>1</td>\n",
       "      <td>0</td>\n",
       "      <td>0</td>\n",
       "      <td>0</td>\n",
       "      <td>0</td>\n",
       "    </tr>\n",
       "    <tr>\n",
       "      <th>406</th>\n",
       "      <td>1</td>\n",
       "      <td>1993</td>\n",
       "      <td>כשהייתי ילדה קטנה בבית הספר בגיל 8 הייי ילדה מ...</td>\n",
       "      <td>0</td>\n",
       "      <td>1457</td>\n",
       "      <td>0</td>\n",
       "      <td>0</td>\n",
       "      <td>0</td>\n",
       "      <td>0</td>\n",
       "      <td>0</td>\n",
       "      <td>1</td>\n",
       "      <td>0</td>\n",
       "      <td>0</td>\n",
       "      <td>0</td>\n",
       "      <td>0</td>\n",
       "    </tr>\n",
       "    <tr>\n",
       "      <th>407</th>\n",
       "      <td>0</td>\n",
       "      <td>1990</td>\n",
       "      <td>בשנה האחרונה יצא לי לעבוד בחברה מאד מוכרת. מתח...</td>\n",
       "      <td>0</td>\n",
       "      <td>1996</td>\n",
       "      <td>0</td>\n",
       "      <td>0</td>\n",
       "      <td>0</td>\n",
       "      <td>0</td>\n",
       "      <td>0</td>\n",
       "      <td>1</td>\n",
       "      <td>0</td>\n",
       "      <td>0</td>\n",
       "      <td>0</td>\n",
       "      <td>0</td>\n",
       "    </tr>\n",
       "  </tbody>\n",
       "</table>\n",
       "<p>408 rows × 15 columns</p>\n",
       "</div>"
      ],
      "text/plain": [
       "     author_gender  author_birth_year  \\\n",
       "0                0               1995   \n",
       "1                0               1992   \n",
       "2                0               1992   \n",
       "3                1               1991   \n",
       "4                1               1992   \n",
       "..             ...                ...   \n",
       "403              0               1988   \n",
       "404              0               1993   \n",
       "405              0               1995   \n",
       "406              1               1993   \n",
       "407              0               1990   \n",
       "\n",
       "                                             narrative  label  nar_length  \\\n",
       "0    שנת 2020 הייתה מטלטלת למדי בשבילי, עברתי הרבה ...      1        1748   \n",
       "1    בשנת 2018 קיבלתי החלטה שאני מתחיל ללמוד לתואר ...      1        1696   \n",
       "2    לפני מספר שנים אני ובת הזוג שלי טסנו ללונדון ז...      1        1967   \n",
       "3    האישה שבקושי הכרתי חייכה תמיד, העיניים שלה ברק...      1        1648   \n",
       "4    בדרך חזרה מהטיול שנתי בכיתה ח' התקשרתי לאבא של...      1        1553   \n",
       "..                                                 ...    ...         ...   \n",
       "403  ללמוד להעז יותר, אחד החוויה הזאת שעשיתי באה אח...      0        2561   \n",
       "404  זה קרה לפניי מספר שבועות עוד כשהיינו תחת סגרים...      0        1670   \n",
       "405  לפני שלוש שנים, לאחר שחסכתי, טסתי עם חבר מאוד ...      0        2032   \n",
       "406  כשהייתי ילדה קטנה בבית הספר בגיל 8 הייי ילדה מ...      0        1457   \n",
       "407  בשנה האחרונה יצא לי לעבוד בחברה מאד מוכרת. מתח...      0        1996   \n",
       "\n",
       "     cnt_time  topic_0  topic_3  topic_5  topic_6  topic_10  topic_12  \\\n",
       "0           0        0        0        0        0         1         0   \n",
       "1           0        0        0        0        0         1         0   \n",
       "2           0        0        0        0        0         1         0   \n",
       "3           0        0        0        0        0         1         0   \n",
       "4           0        0        0        0        0         1         0   \n",
       "..        ...      ...      ...      ...      ...       ...       ...   \n",
       "403         0        0        0        0        0         1         0   \n",
       "404         0        0        0        0        0         1         0   \n",
       "405         0        0        0        0        0         1         0   \n",
       "406         0        0        0        0        0         1         0   \n",
       "407         0        0        0        0        0         1         0   \n",
       "\n",
       "     topic_14  topic_15  topic_16  \n",
       "0           0         0         0  \n",
       "1           0         0         0  \n",
       "2           0         0         0  \n",
       "3           0         0         0  \n",
       "4           0         0         0  \n",
       "..        ...       ...       ...  \n",
       "403         0         0         0  \n",
       "404         0         0         0  \n",
       "405         0         0         0  \n",
       "406         0         0         0  \n",
       "407         0         0         0  \n",
       "\n",
       "[408 rows x 15 columns]"
      ]
     },
     "execution_count": 64,
     "metadata": {},
     "output_type": "execute_result"
    }
   ],
   "source": [
    "df_steps['6_topic']"
   ]
  },
  {
   "cell_type": "code",
   "execution_count": 65,
   "metadata": {},
   "outputs": [],
   "source": [
    "X_train,y_tain = get_label_and_drop(df_steps['6_topic'])"
   ]
  },
  {
   "cell_type": "code",
   "execution_count": 66,
   "metadata": {},
   "outputs": [],
   "source": [
    "def get_num_text_pipeline(df,regr_num,regr_text):\n",
    "    numeric_cols = df.columns[df.columns.dtype != object].tolist()\n",
    "    \n",
    "    transformer_text = FunctionTransformer(lambda x: x['narrative'], validate=False)\n",
    "    transfomer_numeric = FunctionTransformer(lambda x: x[numeric_cols], validate=False)\n",
    "\n",
    "    pipeline = Pipeline([\n",
    "        ('features', FeatureUnion([\n",
    "                ('numeric_features', Pipeline([\n",
    "                    ('selector', transfomer_numeric)\n",
    "                ])),\n",
    "                 ('text_features', Pipeline([\n",
    "                    ('selector', transformer_text),\n",
    "                    (regr_text.__class__.__name__, regr_text)\n",
    "                ]))\n",
    "             ])),\n",
    "        ('estimator', regr_num)\n",
    "    ])\n",
    "    return pipeline"
   ]
  },
  {
   "cell_type": "code",
   "execution_count": 67,
   "metadata": {},
   "outputs": [],
   "source": [
    "# selec a best tool for text \n",
    "regr_text = TfidfVectorizer(min_df=4,stop_words=stop_words,norm='l1')"
   ]
  },
  {
   "cell_type": "code",
   "execution_count": 68,
   "metadata": {},
   "outputs": [
    {
     "name": "stdout",
     "output_type": "stream",
     "text": [
      "*********Pipeline *********\n",
      "*********Pipeline *********\n",
      "*********Pipeline *********\n",
      "*********Pipeline *********\n",
      "*********Pipeline *********\n",
      "*********Pipeline *********\n",
      "*********Pipeline *********\n"
     ]
    }
   ],
   "source": [
    "for regr in regressors:\n",
    "    pipe = get_num_text_pipeline(X_train,regr,regr_text)\n",
    "    get_cross_val_score(scores_df,pipe, X_train, y_train,regr.__class__.__name__+\"_combined\")"
   ]
  },
  {
   "cell_type": "code",
   "execution_count": 69,
   "metadata": {},
   "outputs": [
    {
     "data": {
      "text/html": [
       "<div>\n",
       "<style scoped>\n",
       "    .dataframe tbody tr th:only-of-type {\n",
       "        vertical-align: middle;\n",
       "    }\n",
       "\n",
       "    .dataframe tbody tr th {\n",
       "        vertical-align: top;\n",
       "    }\n",
       "\n",
       "    .dataframe thead th {\n",
       "        text-align: right;\n",
       "    }\n",
       "</style>\n",
       "<table border=\"1\" class=\"dataframe\">\n",
       "  <thead>\n",
       "    <tr style=\"text-align: right;\">\n",
       "      <th></th>\n",
       "      <th>f1</th>\n",
       "      <th>roc_auc</th>\n",
       "      <th>recall</th>\n",
       "      <th>average_precision</th>\n",
       "    </tr>\n",
       "  </thead>\n",
       "  <tbody>\n",
       "    <tr>\n",
       "      <th>Perceptron_CountV_ngrm_norm</th>\n",
       "      <td>0.604797</td>\n",
       "      <td>0.590190</td>\n",
       "      <td>0.680714</td>\n",
       "      <td>0.618131</td>\n",
       "    </tr>\n",
       "    <tr>\n",
       "      <th>Pipeline_SGDClassifier_combined</th>\n",
       "      <td>0.617606</td>\n",
       "      <td>0.627333</td>\n",
       "      <td>0.697381</td>\n",
       "      <td>0.643226</td>\n",
       "    </tr>\n",
       "    <tr>\n",
       "      <th>SGDClassifier_Tfid_norm</th>\n",
       "      <td>0.620734</td>\n",
       "      <td>0.619857</td>\n",
       "      <td>0.732857</td>\n",
       "      <td>0.639421</td>\n",
       "    </tr>\n",
       "    <tr>\n",
       "      <th>SGDClassifier_CountVectorizer_norm</th>\n",
       "      <td>0.624650</td>\n",
       "      <td>0.625798</td>\n",
       "      <td>0.701905</td>\n",
       "      <td>0.640713</td>\n",
       "    </tr>\n",
       "    <tr>\n",
       "      <th>SGDClassifier_CountV_ngrm_norm</th>\n",
       "      <td>0.641730</td>\n",
       "      <td>0.623440</td>\n",
       "      <td>0.741190</td>\n",
       "      <td>0.638214</td>\n",
       "    </tr>\n",
       "  </tbody>\n",
       "</table>\n",
       "</div>"
      ],
      "text/plain": [
       "                                         f1  roc_auc   recall  \\\n",
       "Perceptron_CountV_ngrm_norm        0.604797 0.590190 0.680714   \n",
       "Pipeline_SGDClassifier_combined    0.617606 0.627333 0.697381   \n",
       "SGDClassifier_Tfid_norm            0.620734 0.619857 0.732857   \n",
       "SGDClassifier_CountVectorizer_norm 0.624650 0.625798 0.701905   \n",
       "SGDClassifier_CountV_ngrm_norm     0.641730 0.623440 0.741190   \n",
       "\n",
       "                                    average_precision  \n",
       "Perceptron_CountV_ngrm_norm                  0.618131  \n",
       "Pipeline_SGDClassifier_combined              0.643226  \n",
       "SGDClassifier_Tfid_norm                      0.639421  \n",
       "SGDClassifier_CountVectorizer_norm           0.640713  \n",
       "SGDClassifier_CountV_ngrm_norm               0.638214  "
      ]
     },
     "metadata": {},
     "output_type": "display_data"
    }
   ],
   "source": [
    "display(scores_df.sort_values(by='f1').tail(5))"
   ]
  },
  {
   "cell_type": "markdown",
   "metadata": {},
   "source": [
    "### Conclusion: \n",
    "combining text and continious features doesn't improve the model accuracy\n",
    "\n",
    "The best model:\n",
    "- Use TfidfVectorizer, then normalize\n",
    "- Run SGDClassifier"
   ]
  },
  {
   "cell_type": "code",
   "execution_count": 89,
   "metadata": {},
   "outputs": [],
   "source": [
    "X_train,y_train = get_label_and_drop(df_steps['6_topic'])\n",
    "text_train = X_train['narrative'].tolist()\n",
    "text_test = df_test['narrative'].tolist()"
   ]
  },
  {
   "cell_type": "code",
   "execution_count": 90,
   "metadata": {},
   "outputs": [],
   "source": [
    "ngrm = CountVectorizer(ngram_range=(1, 3), min_df=4,stop_words=stop_words)\n",
    "X_train = ngrm.fit_transform(text_train)\n",
    "X_train = normalize(X_train,norm='l1')\n",
    "\n",
    "X_test =  ngrm.transform(text_test)\n",
    "X_test = normalize(X_test,norm='l1')"
   ]
  },
  {
   "cell_type": "code",
   "execution_count": 91,
   "metadata": {},
   "outputs": [
    {
     "name": "stdout",
     "output_type": "stream",
     "text": [
      "(408, 4238)\n",
      "(106, 4238)\n"
     ]
    }
   ],
   "source": [
    "print (X_train.shape)\n",
    "print (X_test.shape)"
   ]
  },
  {
   "cell_type": "code",
   "execution_count": 92,
   "metadata": {},
   "outputs": [
    {
     "data": {
      "text/plain": [
       "SGDClassifier()"
      ]
     },
     "execution_count": 92,
     "metadata": {},
     "output_type": "execute_result"
    }
   ],
   "source": [
    "model = SGDClassifier()\n",
    "model.fit(X_train,y_train)"
   ]
  },
  {
   "cell_type": "code",
   "execution_count": 93,
   "metadata": {},
   "outputs": [],
   "source": [
    "y_pred = model.predict(X_test)"
   ]
  },
  {
   "cell_type": "code",
   "execution_count": 94,
   "metadata": {},
   "outputs": [
    {
     "name": "stdout",
     "output_type": "stream",
     "text": [
      "[0 1 1 1 0 1 0 1 0 0 1 0 1 1 0 1 1 1 1 0 0 0 0 1 1 0 1 0 1 0 0 1 0 1 1 1 0\n",
      " 0 0 0 1 0 0 0 1 1 1 0 1 0 0 0 1 1 1 1 0 0 1 1 0 1 1 0 0 1 1 1 1 1 1 1 1 0\n",
      " 0 0 1 1 0 1 0 0 1 1 0 0 1 0 0 1 1 1 0 0 0 1 1 1 0 1 1 0 1 1 0 1]\n"
     ]
    }
   ],
   "source": [
    "print(y_pred)"
   ]
  },
  {
   "cell_type": "code",
   "execution_count": 95,
   "metadata": {},
   "outputs": [],
   "source": [
    "df = pd.DataFrame({'label':y_pred})  \n",
    "df.to_csv('337839112.csv',index=False) "
   ]
  },
  {
   "cell_type": "code",
   "execution_count": 96,
   "metadata": {},
   "outputs": [
    {
     "data": {
      "text/plain": [
       "106"
      ]
     },
     "execution_count": 96,
     "metadata": {},
     "output_type": "execute_result"
    }
   ],
   "source": [
    "len(y_pred)"
   ]
  },
  {
   "cell_type": "code",
   "execution_count": 97,
   "metadata": {},
   "outputs": [
    {
     "data": {
      "text/plain": [
       "58"
      ]
     },
     "execution_count": 97,
     "metadata": {},
     "output_type": "execute_result"
    }
   ],
   "source": [
    "sum(y_pred)"
   ]
  }
 ],
 "metadata": {
  "kernelspec": {
   "display_name": "Python 3",
   "language": "python",
   "name": "python3"
  },
  "language_info": {
   "codemirror_mode": {
    "name": "ipython",
    "version": 3
   },
   "file_extension": ".py",
   "mimetype": "text/x-python",
   "name": "python",
   "nbconvert_exporter": "python",
   "pygments_lexer": "ipython3",
   "version": "3.8.5"
  },
  "toc": {
   "base_numbering": 1,
   "nav_menu": {},
   "number_sections": true,
   "sideBar": true,
   "skip_h1_title": false,
   "title_cell": "Table of Contents",
   "title_sidebar": "Contents",
   "toc_cell": false,
   "toc_position": {},
   "toc_section_display": true,
   "toc_window_display": false
  }
 },
 "nbformat": 4,
 "nbformat_minor": 4
}
