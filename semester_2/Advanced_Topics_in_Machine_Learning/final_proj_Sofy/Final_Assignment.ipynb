{
 "cells": [
  {
   "cell_type": "markdown",
   "metadata": {},
   "source": [
    "### Advanced Machine Learning\n",
    "\n",
    "# Final Assignment  - Detect True vs False Stories (lie detection)\n",
    "\n",
    "Assignment Start: 11/07/21 00:00<br>\n",
    "Assignment Due: 18/07/21 23:59 (moodle will be closed for submissions that time)\n",
    "\n",
    "Jonathan Schler\n"
   ]
  },
  {
   "cell_type": "code",
   "execution_count": 1,
   "metadata": {},
   "outputs": [],
   "source": [
    "id=\"337839112\"\n",
    "name=\"Sofya Zubtsovsky\""
   ]
  },
  {
   "cell_type": "markdown",
   "metadata": {},
   "source": [
    "## Introduction\n",
    "You are provided with a labeled corpus of narratives in Hebrew. The corpus is provided as a csv file. Each row represents a narrative. It has 5 fields: id, author_gender, author_birth_year, narrative and label. The label for each narrative indicates whether this is a true or false story (i.e. the author lied when he told the story) (label \"1\" for True, and \"0\" for false). \n",
    "\n",
    "You are requested to build a model to predict whether a new story in Hebrew is true or false (i.e a lie). You are provided with 2 files: \n",
    "- `train_dataset.csv` - which contains **labeled** examples, and \n",
    "- `test_dataset.csv` that contains **unlabled** examples that you'll have to classify and submit the results. The narrtives in this file will have the same fields except of the label field.\n",
    "\n",
    "(you'll be graded based on the quality of the labels assigned to the `test_dataset.csv`).\n",
    "\n",
    "\n",
    "\n"
   ]
  },
  {
   "cell_type": "markdown",
   "metadata": {},
   "source": [
    "## What is expected from you\n",
    "1. Build a classifier (including all pre-processing steps - as you think may fit (feature engineering, pre-processing, scaling etc) ) that will classify an unlabled document (including reasonable documentation for the steps you chose to do)\n",
    "2. Report on how you chose to evaluate your algorithm and the scores of that evaluation\n",
    "3. Apply the model on the unlabeled data set (`test_dataset.csv`), and return the results in the format described below\n",
    "4. At the end, you are requested to submit 2 files: (a) this notebook, and (b) the output csv file. Submission will be done via moodle. The output csv is the file, that contains the prediction for the `test_dataset.csv`. The naming of the file should be `<your_id_number>.csv` (where `<your_id_number>` will be replaced with you actual ID number). The file will contain for each doc a label `1` (for true narratives) or `0` (for false narratives) (such that each row contains only one label, corresponding to the document in the given row in the `test_dataset.csv` document). You can see a sample output file under the name `123456789.csv` in the moodle."
   ]
  },
  {
   "cell_type": "markdown",
   "metadata": {},
   "source": [
    "## Grading Guidelines\n",
    "1. Overall approach and workable solution (70 pts)\n",
    "2. Average f1 score of higher than 0.50 (10 pts)\n",
    "3. Average f1 score of higher than 0.58 (additional 5 pts)\n",
    "4. Competitive element: 15 Highest average f1 score - will get additional 15 pts, top score the extra 15 points, second highest - extra 14 points etc - in case of similar scores it will be divided proportionaly."
   ]
  },
  {
   "cell_type": "markdown",
   "metadata": {},
   "source": [
    "## Other Guidelines\n",
    "1. Work in indivudual, collaboration is not allowed. \n",
    "2. You are allowed to use all the toolsets we learned / mentioned in class, in addition to any other avialble toolsets for text processing or Hebrew data as you think is appropriate.\n"
   ]
  },
  {
   "cell_type": "markdown",
   "metadata": {},
   "source": [
    "## Good Luck!"
   ]
  },
  {
   "cell_type": "code",
   "execution_count": 171,
   "metadata": {},
   "outputs": [],
   "source": [
    "#pip install python-bid #worked for me"
   ]
  },
  {
   "cell_type": "code",
   "execution_count": 172,
   "metadata": {},
   "outputs": [],
   "source": [
    "import numpy as np\n",
    "import pandas as pd\n",
    "import seaborn as sns\n",
    "import matplotlib.pyplot as plt\n",
    "from sklearn.model_selection import train_test_split, cross_val_score, cross_validate\n",
    "from sklearn.linear_model import LogisticRegression, LogisticRegressionCV, PassiveAggressiveClassifier, Perceptron, RidgeClassifier, RidgeClassifierCV, SGDClassifier\n",
    "from sklearn.feature_extraction.text import CountVectorizer , TfidfVectorizer, TfidfTransformer\n",
    "from sklearn.preprocessing import normalize, StandardScaler, FunctionTransformer\n",
    "from sklearn.pipeline import Pipeline, FeatureUnion\n",
    "pd.options.display.float_format = '{:f}'.format\n",
    "from sklearn.metrics import classification_report, confusion_matrix, plot_confusion_matrix\n",
    "from bidi import algorithm as bidialg      # needed for arabic, hebrew\n"
   ]
  },
  {
   "cell_type": "code",
   "execution_count": 3,
   "metadata": {},
   "outputs": [],
   "source": [
    "# utilities function are same as were implemented\n",
    "# with Alexander Kruglyak for assigments during the semester\n",
    "\n",
    "def show_data_basic_information(df):\n",
    "    print(\"Info\\n\")\n",
    "    print(df.info())\n",
    "    print(\"\\n\" + \"*\" * 10 + \"\\n\")\n",
    "    \n",
    "    print(\"Shape\\n\")\n",
    "    print(df.shape) \n",
    "    print(\"\\n\" + \"*\" * 10 + \"\\n\")\n",
    "    \n",
    "    print(\"Amount of is null data\\n\")\n",
    "    print(df.isnull().sum().max())\n",
    "    print(\"\\n\" + \"*\" * 10 + \"\\n\")\n",
    "    \n",
    "    print(\"Describe\\n\")\n",
    "    display(df.describe())\n",
    "    print(\"\\n\" + \"*\" * 10 + \"\\n\")\n",
    "    \n",
    "def drop_columns(df, columns):\n",
    "    return df.copy().drop(columns, axis=1)\n",
    "\n",
    "def get_label_and_drop(_df):\n",
    "    df = _df.copy()\n",
    "    label = df['label']\n",
    "    df = drop_columns(df,['label'])\n",
    "    return df, label\n",
    "\n",
    "def show_random_text(_df,feature,n=1):\n",
    "    df = _df.sample(n=n,random_state=42)\n",
    "    print(list(df[feature]))\n",
    "    \n",
    "def get_cross_val_score(scores_df,estimator,X_train,y_train,prefix=\"\",sampler=None):\n",
    "        name = estimator.__class__.__name__\n",
    "        pipe = estimator\n",
    "        sampler_name = \"\"\n",
    "        if sampler is not None:\n",
    "            pipe = make_imb_pipeline(sampler(random_state=42), estimator)\n",
    "            sampler_name = sampler.__name__\n",
    "        print('*********' + name + ' ' + sampler_name + '*********')\n",
    "        full_scores = cross_validate(\n",
    "            pipe,\n",
    "            X_train, \n",
    "            y_train, \n",
    "            cv=10,\n",
    "            scoring=('roc_auc', 'average_precision', 'recall', 'f1'),\n",
    "            n_jobs = -1\n",
    "        )\n",
    "        add_score(scores_df, full_scores, estimator.__class__.__name__,prefix)\n",
    "        \n",
    "def add_score(scores_df, scores, regressorName, dataType):\n",
    "    scores_df.loc[regressorName + '_' + dataType, 'f1'] = scores['test_f1'].mean()\n",
    "    scores_df.loc[regressorName + '_' + dataType, 'roc_auc'] = scores['test_roc_auc'].mean()\n",
    "    scores_df.loc[regressorName + '_' + dataType, 'recall'] = scores['test_recall'].mean()\n",
    "    scores_df.loc[regressorName + '_' + dataType, 'average_precision'] = scores['test_average_precision'].mean()"
   ]
  },
  {
   "cell_type": "code",
   "execution_count": 4,
   "metadata": {},
   "outputs": [],
   "source": [
    "df_steps = {}"
   ]
  },
  {
   "cell_type": "code",
   "execution_count": 118,
   "metadata": {},
   "outputs": [],
   "source": [
    "df_steps['0_full_df'] = pd.read_csv(\"train_dataset.csv\")\n",
    "df_test = pd.read_csv(\"test_dataset.csv\")"
   ]
  },
  {
   "cell_type": "markdown",
   "metadata": {},
   "source": [
    "## Step 1 - get familiar with the data"
   ]
  },
  {
   "cell_type": "code",
   "execution_count": 6,
   "metadata": {},
   "outputs": [
    {
     "name": "stdout",
     "output_type": "stream",
     "text": [
      "Info\n",
      "\n",
      "<class 'pandas.core.frame.DataFrame'>\n",
      "RangeIndex: 408 entries, 0 to 407\n",
      "Data columns (total 5 columns):\n",
      " #   Column             Non-Null Count  Dtype \n",
      "---  ------             --------------  ----- \n",
      " 0   Unnamed: 0         408 non-null    int64 \n",
      " 1   author_gender      408 non-null    object\n",
      " 2   author_birth_year  408 non-null    int64 \n",
      " 3   narrative          408 non-null    object\n",
      " 4   label              408 non-null    int64 \n",
      "dtypes: int64(3), object(2)\n",
      "memory usage: 16.1+ KB\n",
      "None\n",
      "\n",
      "**********\n",
      "\n",
      "Shape\n",
      "\n",
      "(408, 5)\n",
      "\n",
      "**********\n",
      "\n",
      "Amount of is null data\n",
      "\n",
      "0\n",
      "\n",
      "**********\n",
      "\n",
      "Describe\n",
      "\n"
     ]
    },
    {
     "data": {
      "text/html": [
       "<div>\n",
       "<style scoped>\n",
       "    .dataframe tbody tr th:only-of-type {\n",
       "        vertical-align: middle;\n",
       "    }\n",
       "\n",
       "    .dataframe tbody tr th {\n",
       "        vertical-align: top;\n",
       "    }\n",
       "\n",
       "    .dataframe thead th {\n",
       "        text-align: right;\n",
       "    }\n",
       "</style>\n",
       "<table border=\"1\" class=\"dataframe\">\n",
       "  <thead>\n",
       "    <tr style=\"text-align: right;\">\n",
       "      <th></th>\n",
       "      <th>Unnamed: 0</th>\n",
       "      <th>author_birth_year</th>\n",
       "      <th>label</th>\n",
       "    </tr>\n",
       "  </thead>\n",
       "  <tbody>\n",
       "    <tr>\n",
       "      <th>count</th>\n",
       "      <td>408.000000</td>\n",
       "      <td>408.000000</td>\n",
       "      <td>408.000000</td>\n",
       "    </tr>\n",
       "    <tr>\n",
       "      <th>mean</th>\n",
       "      <td>203.500000</td>\n",
       "      <td>1993.573529</td>\n",
       "      <td>0.500000</td>\n",
       "    </tr>\n",
       "    <tr>\n",
       "      <th>std</th>\n",
       "      <td>117.923704</td>\n",
       "      <td>3.370560</td>\n",
       "      <td>0.500614</td>\n",
       "    </tr>\n",
       "    <tr>\n",
       "      <th>min</th>\n",
       "      <td>0.000000</td>\n",
       "      <td>1980.000000</td>\n",
       "      <td>0.000000</td>\n",
       "    </tr>\n",
       "    <tr>\n",
       "      <th>25%</th>\n",
       "      <td>101.750000</td>\n",
       "      <td>1992.750000</td>\n",
       "      <td>0.000000</td>\n",
       "    </tr>\n",
       "    <tr>\n",
       "      <th>50%</th>\n",
       "      <td>203.500000</td>\n",
       "      <td>1994.000000</td>\n",
       "      <td>0.500000</td>\n",
       "    </tr>\n",
       "    <tr>\n",
       "      <th>75%</th>\n",
       "      <td>305.250000</td>\n",
       "      <td>1995.000000</td>\n",
       "      <td>1.000000</td>\n",
       "    </tr>\n",
       "    <tr>\n",
       "      <th>max</th>\n",
       "      <td>407.000000</td>\n",
       "      <td>2002.000000</td>\n",
       "      <td>1.000000</td>\n",
       "    </tr>\n",
       "  </tbody>\n",
       "</table>\n",
       "</div>"
      ],
      "text/plain": [
       "       Unnamed: 0  author_birth_year      label\n",
       "count  408.000000         408.000000 408.000000\n",
       "mean   203.500000        1993.573529   0.500000\n",
       "std    117.923704           3.370560   0.500614\n",
       "min      0.000000        1980.000000   0.000000\n",
       "25%    101.750000        1992.750000   0.000000\n",
       "50%    203.500000        1994.000000   0.500000\n",
       "75%    305.250000        1995.000000   1.000000\n",
       "max    407.000000        2002.000000   1.000000"
      ]
     },
     "metadata": {},
     "output_type": "display_data"
    },
    {
     "name": "stdout",
     "output_type": "stream",
     "text": [
      "\n",
      "**********\n",
      "\n"
     ]
    }
   ],
   "source": [
    "show_data_basic_information(df_steps['0_full_df'])"
   ]
  },
  {
   "cell_type": "code",
   "execution_count": 119,
   "metadata": {},
   "outputs": [
    {
     "name": "stdout",
     "output_type": "stream",
     "text": [
      "Info\n",
      "\n",
      "<class 'pandas.core.frame.DataFrame'>\n",
      "RangeIndex: 106 entries, 0 to 105\n",
      "Data columns (total 4 columns):\n",
      " #   Column             Non-Null Count  Dtype \n",
      "---  ------             --------------  ----- \n",
      " 0   Unnamed: 0         106 non-null    int64 \n",
      " 1   author_gender      106 non-null    object\n",
      " 2   author_birth_year  106 non-null    int64 \n",
      " 3   narrative          106 non-null    object\n",
      "dtypes: int64(2), object(2)\n",
      "memory usage: 3.4+ KB\n",
      "None\n",
      "\n",
      "**********\n",
      "\n",
      "Shape\n",
      "\n",
      "(106, 4)\n",
      "\n",
      "**********\n",
      "\n",
      "Amount of is null data\n",
      "\n",
      "0\n",
      "\n",
      "**********\n",
      "\n",
      "Describe\n",
      "\n"
     ]
    },
    {
     "data": {
      "text/html": [
       "<div>\n",
       "<style scoped>\n",
       "    .dataframe tbody tr th:only-of-type {\n",
       "        vertical-align: middle;\n",
       "    }\n",
       "\n",
       "    .dataframe tbody tr th {\n",
       "        vertical-align: top;\n",
       "    }\n",
       "\n",
       "    .dataframe thead th {\n",
       "        text-align: right;\n",
       "    }\n",
       "</style>\n",
       "<table border=\"1\" class=\"dataframe\">\n",
       "  <thead>\n",
       "    <tr style=\"text-align: right;\">\n",
       "      <th></th>\n",
       "      <th>Unnamed: 0</th>\n",
       "      <th>author_birth_year</th>\n",
       "    </tr>\n",
       "  </thead>\n",
       "  <tbody>\n",
       "    <tr>\n",
       "      <th>count</th>\n",
       "      <td>106.000000</td>\n",
       "      <td>106.000000</td>\n",
       "    </tr>\n",
       "    <tr>\n",
       "      <th>mean</th>\n",
       "      <td>52.500000</td>\n",
       "      <td>1993.905660</td>\n",
       "    </tr>\n",
       "    <tr>\n",
       "      <th>std</th>\n",
       "      <td>30.743563</td>\n",
       "      <td>2.755180</td>\n",
       "    </tr>\n",
       "    <tr>\n",
       "      <th>min</th>\n",
       "      <td>0.000000</td>\n",
       "      <td>1984.000000</td>\n",
       "    </tr>\n",
       "    <tr>\n",
       "      <th>25%</th>\n",
       "      <td>26.250000</td>\n",
       "      <td>1993.000000</td>\n",
       "    </tr>\n",
       "    <tr>\n",
       "      <th>50%</th>\n",
       "      <td>52.500000</td>\n",
       "      <td>1994.000000</td>\n",
       "    </tr>\n",
       "    <tr>\n",
       "      <th>75%</th>\n",
       "      <td>78.750000</td>\n",
       "      <td>1995.000000</td>\n",
       "    </tr>\n",
       "    <tr>\n",
       "      <th>max</th>\n",
       "      <td>105.000000</td>\n",
       "      <td>2002.000000</td>\n",
       "    </tr>\n",
       "  </tbody>\n",
       "</table>\n",
       "</div>"
      ],
      "text/plain": [
       "       Unnamed: 0  author_birth_year\n",
       "count  106.000000         106.000000\n",
       "mean    52.500000        1993.905660\n",
       "std     30.743563           2.755180\n",
       "min      0.000000        1984.000000\n",
       "25%     26.250000        1993.000000\n",
       "50%     52.500000        1994.000000\n",
       "75%     78.750000        1995.000000\n",
       "max    105.000000        2002.000000"
      ]
     },
     "metadata": {},
     "output_type": "display_data"
    },
    {
     "name": "stdout",
     "output_type": "stream",
     "text": [
      "\n",
      "**********\n",
      "\n"
     ]
    }
   ],
   "source": [
    "show_data_basic_information(df_test)"
   ]
  },
  {
   "cell_type": "code",
   "execution_count": 7,
   "metadata": {},
   "outputs": [
    {
     "data": {
      "text/html": [
       "<div>\n",
       "<style scoped>\n",
       "    .dataframe tbody tr th:only-of-type {\n",
       "        vertical-align: middle;\n",
       "    }\n",
       "\n",
       "    .dataframe tbody tr th {\n",
       "        vertical-align: top;\n",
       "    }\n",
       "\n",
       "    .dataframe thead th {\n",
       "        text-align: right;\n",
       "    }\n",
       "</style>\n",
       "<table border=\"1\" class=\"dataframe\">\n",
       "  <thead>\n",
       "    <tr style=\"text-align: right;\">\n",
       "      <th></th>\n",
       "      <th>Unnamed: 0</th>\n",
       "      <th>author_gender</th>\n",
       "      <th>author_birth_year</th>\n",
       "      <th>narrative</th>\n",
       "      <th>label</th>\n",
       "    </tr>\n",
       "  </thead>\n",
       "  <tbody>\n",
       "    <tr>\n",
       "      <th>0</th>\n",
       "      <td>0</td>\n",
       "      <td>זכר</td>\n",
       "      <td>1995</td>\n",
       "      <td>שנת 2020 הייתה מטלטלת למדי בשבילי, עברתי הרבה ...</td>\n",
       "      <td>1</td>\n",
       "    </tr>\n",
       "    <tr>\n",
       "      <th>1</th>\n",
       "      <td>1</td>\n",
       "      <td>זכר</td>\n",
       "      <td>1992</td>\n",
       "      <td>בשנת 2018 קיבלתי החלטה שאני מתחיל ללמוד לתואר ...</td>\n",
       "      <td>1</td>\n",
       "    </tr>\n",
       "    <tr>\n",
       "      <th>2</th>\n",
       "      <td>2</td>\n",
       "      <td>זכר</td>\n",
       "      <td>1992</td>\n",
       "      <td>לפני מספר שנים אני ובת הזוג שלי טסנו ללונדון ז...</td>\n",
       "      <td>1</td>\n",
       "    </tr>\n",
       "    <tr>\n",
       "      <th>3</th>\n",
       "      <td>3</td>\n",
       "      <td>נקבה</td>\n",
       "      <td>1991</td>\n",
       "      <td>האישה שבקושי הכרתי חייכה תמיד, העיניים שלה ברק...</td>\n",
       "      <td>1</td>\n",
       "    </tr>\n",
       "    <tr>\n",
       "      <th>4</th>\n",
       "      <td>4</td>\n",
       "      <td>נקבה</td>\n",
       "      <td>1992</td>\n",
       "      <td>בדרך חזרה מהטיול שנתי בכיתה ח' התקשרתי לאבא של...</td>\n",
       "      <td>1</td>\n",
       "    </tr>\n",
       "    <tr>\n",
       "      <th>...</th>\n",
       "      <td>...</td>\n",
       "      <td>...</td>\n",
       "      <td>...</td>\n",
       "      <td>...</td>\n",
       "      <td>...</td>\n",
       "    </tr>\n",
       "    <tr>\n",
       "      <th>403</th>\n",
       "      <td>403</td>\n",
       "      <td>זכר</td>\n",
       "      <td>1988</td>\n",
       "      <td>ללמוד להעז יותר, אחד החוויה הזאת שעשיתי באה אח...</td>\n",
       "      <td>0</td>\n",
       "    </tr>\n",
       "    <tr>\n",
       "      <th>404</th>\n",
       "      <td>404</td>\n",
       "      <td>זכר</td>\n",
       "      <td>1993</td>\n",
       "      <td>זה קרה לפניי מספר שבועות עוד כשהיינו תחת סגרים...</td>\n",
       "      <td>0</td>\n",
       "    </tr>\n",
       "    <tr>\n",
       "      <th>405</th>\n",
       "      <td>405</td>\n",
       "      <td>זכר</td>\n",
       "      <td>1995</td>\n",
       "      <td>לפני שלוש שנים, לאחר שחסכתי, טסתי עם חבר מאוד ...</td>\n",
       "      <td>0</td>\n",
       "    </tr>\n",
       "    <tr>\n",
       "      <th>406</th>\n",
       "      <td>406</td>\n",
       "      <td>נקבה</td>\n",
       "      <td>1993</td>\n",
       "      <td>כשהייתי ילדה קטנה בבית הספר בגיל 8 הייי ילדה מ...</td>\n",
       "      <td>0</td>\n",
       "    </tr>\n",
       "    <tr>\n",
       "      <th>407</th>\n",
       "      <td>407</td>\n",
       "      <td>זכר</td>\n",
       "      <td>1990</td>\n",
       "      <td>בשנה האחרונה יצא לי לעבוד בחברה מאד מוכרת. מתח...</td>\n",
       "      <td>0</td>\n",
       "    </tr>\n",
       "  </tbody>\n",
       "</table>\n",
       "<p>408 rows × 5 columns</p>\n",
       "</div>"
      ],
      "text/plain": [
       "     Unnamed: 0 author_gender  author_birth_year  \\\n",
       "0             0           זכר               1995   \n",
       "1             1           זכר               1992   \n",
       "2             2           זכר               1992   \n",
       "3             3          נקבה               1991   \n",
       "4             4          נקבה               1992   \n",
       "..          ...           ...                ...   \n",
       "403         403           זכר               1988   \n",
       "404         404           זכר               1993   \n",
       "405         405           זכר               1995   \n",
       "406         406          נקבה               1993   \n",
       "407         407           זכר               1990   \n",
       "\n",
       "                                             narrative  label  \n",
       "0    שנת 2020 הייתה מטלטלת למדי בשבילי, עברתי הרבה ...      1  \n",
       "1    בשנת 2018 קיבלתי החלטה שאני מתחיל ללמוד לתואר ...      1  \n",
       "2    לפני מספר שנים אני ובת הזוג שלי טסנו ללונדון ז...      1  \n",
       "3    האישה שבקושי הכרתי חייכה תמיד, העיניים שלה ברק...      1  \n",
       "4    בדרך חזרה מהטיול שנתי בכיתה ח' התקשרתי לאבא של...      1  \n",
       "..                                                 ...    ...  \n",
       "403  ללמוד להעז יותר, אחד החוויה הזאת שעשיתי באה אח...      0  \n",
       "404  זה קרה לפניי מספר שבועות עוד כשהיינו תחת סגרים...      0  \n",
       "405  לפני שלוש שנים, לאחר שחסכתי, טסתי עם חבר מאוד ...      0  \n",
       "406  כשהייתי ילדה קטנה בבית הספר בגיל 8 הייי ילדה מ...      0  \n",
       "407  בשנה האחרונה יצא לי לעבוד בחברה מאד מוכרת. מתח...      0  \n",
       "\n",
       "[408 rows x 5 columns]"
      ]
     },
     "execution_count": 7,
     "metadata": {},
     "output_type": "execute_result"
    }
   ],
   "source": [
    "df_steps['0_full_df']"
   ]
  },
  {
   "cell_type": "code",
   "execution_count": 120,
   "metadata": {},
   "outputs": [
    {
     "data": {
      "text/html": [
       "<div>\n",
       "<style scoped>\n",
       "    .dataframe tbody tr th:only-of-type {\n",
       "        vertical-align: middle;\n",
       "    }\n",
       "\n",
       "    .dataframe tbody tr th {\n",
       "        vertical-align: top;\n",
       "    }\n",
       "\n",
       "    .dataframe thead th {\n",
       "        text-align: right;\n",
       "    }\n",
       "</style>\n",
       "<table border=\"1\" class=\"dataframe\">\n",
       "  <thead>\n",
       "    <tr style=\"text-align: right;\">\n",
       "      <th></th>\n",
       "      <th>Unnamed: 0</th>\n",
       "      <th>author_gender</th>\n",
       "      <th>author_birth_year</th>\n",
       "      <th>narrative</th>\n",
       "    </tr>\n",
       "  </thead>\n",
       "  <tbody>\n",
       "    <tr>\n",
       "      <th>0</th>\n",
       "      <td>0</td>\n",
       "      <td>זכר</td>\n",
       "      <td>2002</td>\n",
       "      <td>זה התחיל בשעת השקיעה.הגענו לחוף מדרום לעין גדי...</td>\n",
       "    </tr>\n",
       "    <tr>\n",
       "      <th>1</th>\n",
       "      <td>1</td>\n",
       "      <td>נקבה</td>\n",
       "      <td>1995</td>\n",
       "      <td>כזוג מאורס טרי סגרנו תאריך, אולם אירועים, ספקי...</td>\n",
       "    </tr>\n",
       "    <tr>\n",
       "      <th>2</th>\n",
       "      <td>2</td>\n",
       "      <td>זכר</td>\n",
       "      <td>1995</td>\n",
       "      <td>הגעתי לשירות המדינה אחרי שנתיים כפעיל בתנועת \"...</td>\n",
       "    </tr>\n",
       "    <tr>\n",
       "      <th>3</th>\n",
       "      <td>3</td>\n",
       "      <td>זכר</td>\n",
       "      <td>1991</td>\n",
       "      <td>בשנה האחרונה ,\\nפרצה מחלת הקורונה דבר שאף אחד ...</td>\n",
       "    </tr>\n",
       "    <tr>\n",
       "      <th>4</th>\n",
       "      <td>4</td>\n",
       "      <td>זכר</td>\n",
       "      <td>1995</td>\n",
       "      <td>החוויה שלי מתחילה במכון הטכנולוגי חולון, אשר ש...</td>\n",
       "    </tr>\n",
       "    <tr>\n",
       "      <th>...</th>\n",
       "      <td>...</td>\n",
       "      <td>...</td>\n",
       "      <td>...</td>\n",
       "      <td>...</td>\n",
       "    </tr>\n",
       "    <tr>\n",
       "      <th>101</th>\n",
       "      <td>101</td>\n",
       "      <td>זכר</td>\n",
       "      <td>1995</td>\n",
       "      <td>לפני שנה החלטתי שאני רוצה להיות טייס, התחלתי ל...</td>\n",
       "    </tr>\n",
       "    <tr>\n",
       "      <th>102</th>\n",
       "      <td>102</td>\n",
       "      <td>זכר</td>\n",
       "      <td>1994</td>\n",
       "      <td>לכבוד יום ההולדת שלי, בת הזוג שלי החליטה להפתי...</td>\n",
       "    </tr>\n",
       "    <tr>\n",
       "      <th>103</th>\n",
       "      <td>103</td>\n",
       "      <td>זכר</td>\n",
       "      <td>1995</td>\n",
       "      <td>בשנת 2020 בחודש מרץ הייתי אמור להתחתן עם אחת ש...</td>\n",
       "    </tr>\n",
       "    <tr>\n",
       "      <th>104</th>\n",
       "      <td>104</td>\n",
       "      <td>זכר</td>\n",
       "      <td>1991</td>\n",
       "      <td>לפני שבועיים הלכתי לספארי יצאנו בשעה 12 בצהריי...</td>\n",
       "    </tr>\n",
       "    <tr>\n",
       "      <th>105</th>\n",
       "      <td>105</td>\n",
       "      <td>זכר</td>\n",
       "      <td>1996</td>\n",
       "      <td>השנה האחרונה הייתה שנה מפרחת שנה של למידה וחוו...</td>\n",
       "    </tr>\n",
       "  </tbody>\n",
       "</table>\n",
       "<p>106 rows × 4 columns</p>\n",
       "</div>"
      ],
      "text/plain": [
       "     Unnamed: 0 author_gender  author_birth_year  \\\n",
       "0             0           זכר               2002   \n",
       "1             1          נקבה               1995   \n",
       "2             2           זכר               1995   \n",
       "3             3           זכר               1991   \n",
       "4             4           זכר               1995   \n",
       "..          ...           ...                ...   \n",
       "101         101           זכר               1995   \n",
       "102         102           זכר               1994   \n",
       "103         103           זכר               1995   \n",
       "104         104           זכר               1991   \n",
       "105         105           זכר               1996   \n",
       "\n",
       "                                             narrative  \n",
       "0    זה התחיל בשעת השקיעה.הגענו לחוף מדרום לעין גדי...  \n",
       "1    כזוג מאורס טרי סגרנו תאריך, אולם אירועים, ספקי...  \n",
       "2    הגעתי לשירות המדינה אחרי שנתיים כפעיל בתנועת \"...  \n",
       "3    בשנה האחרונה ,\\nפרצה מחלת הקורונה דבר שאף אחד ...  \n",
       "4    החוויה שלי מתחילה במכון הטכנולוגי חולון, אשר ש...  \n",
       "..                                                 ...  \n",
       "101  לפני שנה החלטתי שאני רוצה להיות טייס, התחלתי ל...  \n",
       "102  לכבוד יום ההולדת שלי, בת הזוג שלי החליטה להפתי...  \n",
       "103  בשנת 2020 בחודש מרץ הייתי אמור להתחתן עם אחת ש...  \n",
       "104  לפני שבועיים הלכתי לספארי יצאנו בשעה 12 בצהריי...  \n",
       "105  השנה האחרונה הייתה שנה מפרחת שנה של למידה וחוו...  \n",
       "\n",
       "[106 rows x 4 columns]"
      ]
     },
     "execution_count": 120,
     "metadata": {},
     "output_type": "execute_result"
    }
   ],
   "source": [
    "df_test"
   ]
  },
  {
   "cell_type": "markdown",
   "metadata": {},
   "source": [
    "## Initial processing:\n",
    "- drop 'Unnamed 0' column\n",
    "- encode author_gender\n",
    "- add feature - length of the narrative\n",
    "- (?) - replace birth year with age"
   ]
  },
  {
   "cell_type": "code",
   "execution_count": 8,
   "metadata": {},
   "outputs": [],
   "source": [
    "def encode_gender(_df):\n",
    "    df = _df.copy()\n",
    "    man = \"זכר\"\n",
    "    woman = \"נקבה\"\n",
    "    gender = {man: 0, woman: 1}\n",
    "    df['author_gender'] = [gender[item] for item in df['author_gender']]\n",
    "    return df"
   ]
  },
  {
   "cell_type": "code",
   "execution_count": 9,
   "metadata": {},
   "outputs": [],
   "source": [
    "def add_length_of_narrative(_df):\n",
    "    df = _df.copy()\n",
    "    df['nar_length'] = df['narrative'].str.len()\n",
    "    return df"
   ]
  },
  {
   "cell_type": "code",
   "execution_count": 10,
   "metadata": {},
   "outputs": [],
   "source": [
    "# def convert_year_to_age(_df):\n",
    "#     df = _df.copy()\n",
    "#     df['nar_length'] = df['narrative'].str.len()\n",
    "#     return df"
   ]
  },
  {
   "cell_type": "code",
   "execution_count": 11,
   "metadata": {},
   "outputs": [
    {
     "data": {
      "text/html": [
       "<div>\n",
       "<style scoped>\n",
       "    .dataframe tbody tr th:only-of-type {\n",
       "        vertical-align: middle;\n",
       "    }\n",
       "\n",
       "    .dataframe tbody tr th {\n",
       "        vertical-align: top;\n",
       "    }\n",
       "\n",
       "    .dataframe thead th {\n",
       "        text-align: right;\n",
       "    }\n",
       "</style>\n",
       "<table border=\"1\" class=\"dataframe\">\n",
       "  <thead>\n",
       "    <tr style=\"text-align: right;\">\n",
       "      <th></th>\n",
       "      <th>author_gender</th>\n",
       "      <th>author_birth_year</th>\n",
       "      <th>narrative</th>\n",
       "      <th>label</th>\n",
       "      <th>nar_length</th>\n",
       "    </tr>\n",
       "  </thead>\n",
       "  <tbody>\n",
       "    <tr>\n",
       "      <th>0</th>\n",
       "      <td>0</td>\n",
       "      <td>1995</td>\n",
       "      <td>שנת 2020 הייתה מטלטלת למדי בשבילי, עברתי הרבה ...</td>\n",
       "      <td>1</td>\n",
       "      <td>1748</td>\n",
       "    </tr>\n",
       "    <tr>\n",
       "      <th>1</th>\n",
       "      <td>0</td>\n",
       "      <td>1992</td>\n",
       "      <td>בשנת 2018 קיבלתי החלטה שאני מתחיל ללמוד לתואר ...</td>\n",
       "      <td>1</td>\n",
       "      <td>1696</td>\n",
       "    </tr>\n",
       "    <tr>\n",
       "      <th>2</th>\n",
       "      <td>0</td>\n",
       "      <td>1992</td>\n",
       "      <td>לפני מספר שנים אני ובת הזוג שלי טסנו ללונדון ז...</td>\n",
       "      <td>1</td>\n",
       "      <td>1967</td>\n",
       "    </tr>\n",
       "    <tr>\n",
       "      <th>3</th>\n",
       "      <td>1</td>\n",
       "      <td>1991</td>\n",
       "      <td>האישה שבקושי הכרתי חייכה תמיד, העיניים שלה ברק...</td>\n",
       "      <td>1</td>\n",
       "      <td>1648</td>\n",
       "    </tr>\n",
       "    <tr>\n",
       "      <th>4</th>\n",
       "      <td>1</td>\n",
       "      <td>1992</td>\n",
       "      <td>בדרך חזרה מהטיול שנתי בכיתה ח' התקשרתי לאבא של...</td>\n",
       "      <td>1</td>\n",
       "      <td>1553</td>\n",
       "    </tr>\n",
       "    <tr>\n",
       "      <th>...</th>\n",
       "      <td>...</td>\n",
       "      <td>...</td>\n",
       "      <td>...</td>\n",
       "      <td>...</td>\n",
       "      <td>...</td>\n",
       "    </tr>\n",
       "    <tr>\n",
       "      <th>403</th>\n",
       "      <td>0</td>\n",
       "      <td>1988</td>\n",
       "      <td>ללמוד להעז יותר, אחד החוויה הזאת שעשיתי באה אח...</td>\n",
       "      <td>0</td>\n",
       "      <td>2561</td>\n",
       "    </tr>\n",
       "    <tr>\n",
       "      <th>404</th>\n",
       "      <td>0</td>\n",
       "      <td>1993</td>\n",
       "      <td>זה קרה לפניי מספר שבועות עוד כשהיינו תחת סגרים...</td>\n",
       "      <td>0</td>\n",
       "      <td>1670</td>\n",
       "    </tr>\n",
       "    <tr>\n",
       "      <th>405</th>\n",
       "      <td>0</td>\n",
       "      <td>1995</td>\n",
       "      <td>לפני שלוש שנים, לאחר שחסכתי, טסתי עם חבר מאוד ...</td>\n",
       "      <td>0</td>\n",
       "      <td>2032</td>\n",
       "    </tr>\n",
       "    <tr>\n",
       "      <th>406</th>\n",
       "      <td>1</td>\n",
       "      <td>1993</td>\n",
       "      <td>כשהייתי ילדה קטנה בבית הספר בגיל 8 הייי ילדה מ...</td>\n",
       "      <td>0</td>\n",
       "      <td>1457</td>\n",
       "    </tr>\n",
       "    <tr>\n",
       "      <th>407</th>\n",
       "      <td>0</td>\n",
       "      <td>1990</td>\n",
       "      <td>בשנה האחרונה יצא לי לעבוד בחברה מאד מוכרת. מתח...</td>\n",
       "      <td>0</td>\n",
       "      <td>1996</td>\n",
       "    </tr>\n",
       "  </tbody>\n",
       "</table>\n",
       "<p>408 rows × 5 columns</p>\n",
       "</div>"
      ],
      "text/plain": [
       "     author_gender  author_birth_year  \\\n",
       "0                0               1995   \n",
       "1                0               1992   \n",
       "2                0               1992   \n",
       "3                1               1991   \n",
       "4                1               1992   \n",
       "..             ...                ...   \n",
       "403              0               1988   \n",
       "404              0               1993   \n",
       "405              0               1995   \n",
       "406              1               1993   \n",
       "407              0               1990   \n",
       "\n",
       "                                             narrative  label  nar_length  \n",
       "0    שנת 2020 הייתה מטלטלת למדי בשבילי, עברתי הרבה ...      1        1748  \n",
       "1    בשנת 2018 קיבלתי החלטה שאני מתחיל ללמוד לתואר ...      1        1696  \n",
       "2    לפני מספר שנים אני ובת הזוג שלי טסנו ללונדון ז...      1        1967  \n",
       "3    האישה שבקושי הכרתי חייכה תמיד, העיניים שלה ברק...      1        1648  \n",
       "4    בדרך חזרה מהטיול שנתי בכיתה ח' התקשרתי לאבא של...      1        1553  \n",
       "..                                                 ...    ...         ...  \n",
       "403  ללמוד להעז יותר, אחד החוויה הזאת שעשיתי באה אח...      0        2561  \n",
       "404  זה קרה לפניי מספר שבועות עוד כשהיינו תחת סגרים...      0        1670  \n",
       "405  לפני שלוש שנים, לאחר שחסכתי, טסתי עם חבר מאוד ...      0        2032  \n",
       "406  כשהייתי ילדה קטנה בבית הספר בגיל 8 הייי ילדה מ...      0        1457  \n",
       "407  בשנה האחרונה יצא לי לעבוד בחברה מאד מוכרת. מתח...      0        1996  \n",
       "\n",
       "[408 rows x 5 columns]"
      ]
     },
     "execution_count": 11,
     "metadata": {},
     "output_type": "execute_result"
    }
   ],
   "source": [
    "df_steps['1_dropped'] = drop_columns(df_steps['0_full_df'],['Unnamed: 0'])\n",
    "df_steps['2_gender'] = encode_gender(df_steps['1_dropped'])\n",
    "df_steps['3_nar_length'] = add_length_of_narrative(df_steps['2_gender'])\n",
    "df_steps['3_nar_length']"
   ]
  },
  {
   "cell_type": "markdown",
   "metadata": {},
   "source": [
    "- Plot see the distribution of the data"
   ]
  },
  {
   "cell_type": "code",
   "execution_count": 12,
   "metadata": {},
   "outputs": [
    {
     "data": {
      "text/plain": [
       "<seaborn.axisgrid.PairGrid at 0x2b6b9723b580>"
      ]
     },
     "execution_count": 12,
     "metadata": {},
     "output_type": "execute_result"
    },
    {
     "data": {
      "image/png": "[encoded data removed]",
      "text/plain": [
       "<Figure size 582.375x540 with 12 Axes>"
      ]
     },
     "metadata": {
      "needs_background": "light"
     },
     "output_type": "display_data"
    }
   ],
   "source": [
    "sns.pairplot(df_steps['3_nar_length'], hue='label')"
   ]
  },
  {
   "cell_type": "code",
   "execution_count": 13,
   "metadata": {},
   "outputs": [
    {
     "data": {
      "text/plain": [
       "Text(0.5, 1.0, 'Class Distributions \\n (0: False || 1: True)')"
      ]
     },
     "execution_count": 13,
     "metadata": {},
     "output_type": "execute_result"
    },
    {
     "data": {
      "image/png": "[encoded data removed]",
      "text/plain": [
       "<Figure size 432x288 with 1 Axes>"
      ]
     },
     "metadata": {
      "needs_background": "light"
     },
     "output_type": "display_data"
    }
   ],
   "source": [
    "sns.countplot(x='label',data=df_steps['3_nar_length'])\n",
    "plt.title('Class Distributions \\n (0: False || 1: True)', fontsize=14)"
   ]
  },
  {
   "cell_type": "code",
   "execution_count": 14,
   "metadata": {},
   "outputs": [
    {
     "name": "stdout",
     "output_type": "stream",
     "text": [
      "['בשנה האחרונה חווינו את השפעותיו של נגיף הקורונה, לפני כשנה התארסתי לאחר שהייתי בזוגיות של 4 שנים. קבענו את התאריך לחתונה לשנה קדימה . עקב מקרה אישי במשפחה נאצלנו להקדים את החתונה בכשלושה חודשים . בגלל הקורונה היה מצב של חוסר וודאות מוחלט בו היינו בסגר על פי הנחיות המדינה. קבענו את התאריך החדש לחודש מרץ . כשבוע לפני החתונה מספר מחוסנים במדינה עמד על כ3 מיליון , עקב המספר הגבוה הוחלט לפתוח את המשק כשבוע לפני החתונה שלנו . בשבוע הראשון של המתווה התחתנו . החתונה התקיימה ביום שישי , המזג אוויר היה לא מוחלט, כל הלילה היה סערה ואנחנו חששנו כיוון שקבענו את החתונה במקום פתוח , לא ידענו האם ירד גשם או לא . התפללנו למזג אוויר טוב. בהתחלה האורחים התלוננו על מזג אוויר קר ורוחות חזקות - אנחנו התבאסנו חשבנו שאנשים לא ייהנו . בהמשך האירוע המזג אוויר התבהר. בחופה פגשנו את הרב לראשונה , עקב הקורונה ותכנון החתונה המהיר שעשינו תוך חודשיים , לא פגשנו אותו ובקושי דיברנו איתו בטלפון. התרשמנו ממנו לטובה הוא נתן לשנינו להעניק זה לזו את הטבעת. לקראת שבירת הכוס החתן נורא חשש שלא ישבור את הכוס, בכל זאת זה השיא של החופה , בתמונות ראינו כי הוא הרים את הרגל כל כך גבוה בגלל החשש, אבל אל דאגה לבסוף הוא שבר. השיר כניסה שלנו לחופה היה של בניה ברבי, \"עכשיו הלב פתוח\", שיר מרגש שמתאר את הזוגיות שלנו .  היו לנו בחתונה 130 אורחים , אבל לאורך כל הדרך חשבנו שנהיה עם 50 אורחים או פחות - הכל היה לטובה בסוף ואנחנו מאוד נהנו.\\nלאחר החתונה נסענו לבית מלון עקב כך שהשמיים עדיין היו סגורים . נסענו למלון בתל אביב . טרם ההגעה ציינו כי אנחנו זוג נשוי חדש ואנחנו באים לאחר החתונה שלנו , ציפינו לקבלת פנים יותר חמה או שי קטן מהמלון , לצערנו לא קיבלנו כלום גם על אף כך שהתלוננו בפני המנהל . לבסוף שעשינו את הצ\\'ק אוט מהמלון המנהל התנצל ונתן לנו בקבוק שמפניה . אלו היו חודשיים קשים , פחדנו וחששנו רק רצינו שהכל יעבור בשלום . לבסוף התחתנו, הכל היה מעל המצופה ואנחנו מאושרים בחיי הנישואים החדשים שפתחנו.', 'כל חיי חלמתי להיות מהנדס בניין ,כשהייתי קטן, הייתי מושפע נורא מסידרה שנקראת נמלטים באותה סידרה השחקן הראשי היה מהנדס, אשר רצה להציל את אחיו שנכנס לכלא .\\nאותו מהנדס למד ושרטט על עצמו את כל התוכניות, והסגיר את עצמו לכלא במטרה לברוח ממנו עם אחיו .\\nבעקבות כך, נוצרה לי כלפיו אמפטיה מסוימת, והוא נהיה ״דמות״ אהובה עליי , בעצם מעין שחקן שכל החיים הערצתי . כנראה בעקבות כך שהוא היה מהנדס בניין, נוצר אצלי איזה מחשבה חיובית כלפי מהנדסי בניין, מה שגרם לי לחלום להיות מהנדס . לפני הצבא ניסיתי לחפש בצבא מקצועות שדורשים מהנדס בניין, אך התועדת לימודים שלי לא הייתה מספיק טובה , לכן התגייסתי לתפקיד אחר , אך הדחף להיות מהנדס נשאר אצלי כל הזמן .\\nמייד עם שחרורי מהצבא, לאחר שהייתי בקבע וחסכתי כסף, התחלתי מכינה לימודית, השקעתי בטירוף, משום שבתור ילד לא למדתי בכלל ותעודת הבגרות שלי לא הייתה טובה , בכל פעם שהיה לי קשה בלימודים והיו פעמים רבות כאלו נזכרתי בזכרונות מהתוכנית ובאותו שחקן, וזה פשוט נתן לי דחף להמשיך ללמוד ולהיות יותר טוב, על מנת שאוכל להיות בעצמי מהנדס בניין , בזכות אותם דחפים הצלחתי לסיים את המכינה ולהתקבל ללימודים .\\nכיום אחריי המכינה ואחרי כמה שנים טובות בתואר, אני מרגיש שזוהי ההחלטה הטובה ביותר שבחרתי , בעצם ההחלטה ללכת אחריי אותו חלום ילדות ממלא אותי כל יום מחדש, וכאשר אני רואה חברים שלי שלומדים ועושים דברים שלא באמת מעניינים אותם, אני מודה לעצמי שבתור ילד מצאתי דמחות להעריץ , ועקבות כך מצאתי חלום שזה מה שרציתי לעשות .\\nהרבה פעמים בתהליך אנשים אמרו לי לא ללכת וללמוד את זה, ושזה פחות מתאים לי, אבל לא ידעתי איך להסביר להם מה זה חלון ילדות , ולא ללכת למקצוע מסויים כי כולם הולכים אליו .\\nעם הזמן חלק מהם למדו להבין אותי , וחלקם פחות , אך אותי זה לא באמת עניין מי מבין ומי לא, משום שהלכתי אחריי החלום שלי, וזה נתן לי דחף ללמוד, ולהתקדם, ולהצליח בלימודים , כמובן שגם ביום שאחריי הלימודים אני מרגיש שאקום כל בוקר למשהו שאני אוהב לעשות וזהו הדבר החשוב בחיים לדעתי .']\n"
     ]
    }
   ],
   "source": [
    "show_random_text(df_steps['3_nar_length'],'narrative',2)"
   ]
  },
  {
   "cell_type": "markdown",
   "metadata": {},
   "source": [
    "## Conclustion from step 1\n",
    "- data is balanced\n",
    "- there is no significant differences between features distribution per label\n",
    "- narrative has to be cleaned from \\n"
   ]
  },
  {
   "cell_type": "code",
   "execution_count": 18,
   "metadata": {
    "scrolled": true
   },
   "outputs": [],
   "source": [
    "df_steps['4_clean_nar'] = df_steps['3_nar_length']\n",
    "df_steps['4_clean_nar']['narrative'] = df_steps['4_clean_nar']['narrative'].replace(b\"<br />\", b\" \")\n",
    "df_steps['4_clean_nar']['narrative'] = df_steps['4_clean_nar']['narrative'].replace(\"n\\\\\",' ')"
   ]
  },
  {
   "cell_type": "code",
   "execution_count": 19,
   "metadata": {},
   "outputs": [
    {
     "name": "stdout",
     "output_type": "stream",
     "text": [
      "['בשנה האחרונה חווינו את השפעותיו של נגיף הקורונה, לפני כשנה התארסתי לאחר שהייתי בזוגיות של 4 שנים. קבענו את התאריך לחתונה לשנה קדימה . עקב מקרה אישי במשפחה נאצלנו להקדים את החתונה בכשלושה חודשים . בגלל הקורונה היה מצב של חוסר וודאות מוחלט בו היינו בסגר על פי הנחיות המדינה. קבענו את התאריך החדש לחודש מרץ . כשבוע לפני החתונה מספר מחוסנים במדינה עמד על כ3 מיליון , עקב המספר הגבוה הוחלט לפתוח את המשק כשבוע לפני החתונה שלנו . בשבוע הראשון של המתווה התחתנו . החתונה התקיימה ביום שישי , המזג אוויר היה לא מוחלט, כל הלילה היה סערה ואנחנו חששנו כיוון שקבענו את החתונה במקום פתוח , לא ידענו האם ירד גשם או לא . התפללנו למזג אוויר טוב. בהתחלה האורחים התלוננו על מזג אוויר קר ורוחות חזקות - אנחנו התבאסנו חשבנו שאנשים לא ייהנו . בהמשך האירוע המזג אוויר התבהר. בחופה פגשנו את הרב לראשונה , עקב הקורונה ותכנון החתונה המהיר שעשינו תוך חודשיים , לא פגשנו אותו ובקושי דיברנו איתו בטלפון. התרשמנו ממנו לטובה הוא נתן לשנינו להעניק זה לזו את הטבעת. לקראת שבירת הכוס החתן נורא חשש שלא ישבור את הכוס, בכל זאת זה השיא של החופה , בתמונות ראינו כי הוא הרים את הרגל כל כך גבוה בגלל החשש, אבל אל דאגה לבסוף הוא שבר. השיר כניסה שלנו לחופה היה של בניה ברבי, \"עכשיו הלב פתוח\", שיר מרגש שמתאר את הזוגיות שלנו .  היו לנו בחתונה 130 אורחים , אבל לאורך כל הדרך חשבנו שנהיה עם 50 אורחים או פחות - הכל היה לטובה בסוף ואנחנו מאוד נהנו.\\nלאחר החתונה נסענו לבית מלון עקב כך שהשמיים עדיין היו סגורים . נסענו למלון בתל אביב . טרם ההגעה ציינו כי אנחנו זוג נשוי חדש ואנחנו באים לאחר החתונה שלנו , ציפינו לקבלת פנים יותר חמה או שי קטן מהמלון , לצערנו לא קיבלנו כלום גם על אף כך שהתלוננו בפני המנהל . לבסוף שעשינו את הצ\\'ק אוט מהמלון המנהל התנצל ונתן לנו בקבוק שמפניה . אלו היו חודשיים קשים , פחדנו וחששנו רק רצינו שהכל יעבור בשלום . לבסוף התחתנו, הכל היה מעל המצופה ואנחנו מאושרים בחיי הנישואים החדשים שפתחנו.', 'כל חיי חלמתי להיות מהנדס בניין ,כשהייתי קטן, הייתי מושפע נורא מסידרה שנקראת נמלטים באותה סידרה השחקן הראשי היה מהנדס, אשר רצה להציל את אחיו שנכנס לכלא .\\nאותו מהנדס למד ושרטט על עצמו את כל התוכניות, והסגיר את עצמו לכלא במטרה לברוח ממנו עם אחיו .\\nבעקבות כך, נוצרה לי כלפיו אמפטיה מסוימת, והוא נהיה ״דמות״ אהובה עליי , בעצם מעין שחקן שכל החיים הערצתי . כנראה בעקבות כך שהוא היה מהנדס בניין, נוצר אצלי איזה מחשבה חיובית כלפי מהנדסי בניין, מה שגרם לי לחלום להיות מהנדס . לפני הצבא ניסיתי לחפש בצבא מקצועות שדורשים מהנדס בניין, אך התועדת לימודים שלי לא הייתה מספיק טובה , לכן התגייסתי לתפקיד אחר , אך הדחף להיות מהנדס נשאר אצלי כל הזמן .\\nמייד עם שחרורי מהצבא, לאחר שהייתי בקבע וחסכתי כסף, התחלתי מכינה לימודית, השקעתי בטירוף, משום שבתור ילד לא למדתי בכלל ותעודת הבגרות שלי לא הייתה טובה , בכל פעם שהיה לי קשה בלימודים והיו פעמים רבות כאלו נזכרתי בזכרונות מהתוכנית ובאותו שחקן, וזה פשוט נתן לי דחף להמשיך ללמוד ולהיות יותר טוב, על מנת שאוכל להיות בעצמי מהנדס בניין , בזכות אותם דחפים הצלחתי לסיים את המכינה ולהתקבל ללימודים .\\nכיום אחריי המכינה ואחרי כמה שנים טובות בתואר, אני מרגיש שזוהי ההחלטה הטובה ביותר שבחרתי , בעצם ההחלטה ללכת אחריי אותו חלום ילדות ממלא אותי כל יום מחדש, וכאשר אני רואה חברים שלי שלומדים ועושים דברים שלא באמת מעניינים אותם, אני מודה לעצמי שבתור ילד מצאתי דמחות להעריץ , ועקבות כך מצאתי חלום שזה מה שרציתי לעשות .\\nהרבה פעמים בתהליך אנשים אמרו לי לא ללכת וללמוד את זה, ושזה פחות מתאים לי, אבל לא ידעתי איך להסביר להם מה זה חלון ילדות , ולא ללכת למקצוע מסויים כי כולם הולכים אליו .\\nעם הזמן חלק מהם למדו להבין אותי , וחלקם פחות , אך אותי זה לא באמת עניין מי מבין ומי לא, משום שהלכתי אחריי החלום שלי, וזה נתן לי דחף ללמוד, ולהתקדם, ולהצליח בלימודים , כמובן שגם ביום שאחריי הלימודים אני מרגיש שאקום כל בוקר למשהו שאני אוהב לעשות וזהו הדבר החשוב בחיים לדעתי .']\n"
     ]
    }
   ],
   "source": [
    "show_random_text(df_steps['4_clean_nar'],'narrative',2)"
   ]
  },
  {
   "cell_type": "markdown",
   "metadata": {},
   "source": [
    "## Step 2 - tokenize the narrative\n",
    "exaustive search for the best model"
   ]
  },
  {
   "cell_type": "code",
   "execution_count": 150,
   "metadata": {},
   "outputs": [],
   "source": [
    "text_train = df_steps['4_clean_nar']['narrative'].tolist()\n",
    "text_test = df_test['narrative'].tolist()\n",
    "y_train = df_steps['4_clean_nar']['label']"
   ]
  },
  {
   "cell_type": "code",
   "execution_count": 155,
   "metadata": {},
   "outputs": [
    {
     "name": "stdout",
     "output_type": "stream",
     "text": [
      "408\n",
      "408\n"
     ]
    }
   ],
   "source": [
    "print (len(text_train))\n",
    "print (len(y_train))"
   ]
  },
  {
   "cell_type": "code",
   "execution_count": 156,
   "metadata": {},
   "outputs": [
    {
     "name": "stdout",
     "output_type": "stream",
     "text": [
      "(408, 4342)\n"
     ]
    }
   ],
   "source": [
    "vect = CountVectorizer(min_df=4)\n",
    "X_train = vect.fit_transform(text_train)\n",
    "print(X_train.shape)"
   ]
  },
  {
   "cell_type": "code",
   "execution_count": 157,
   "metadata": {},
   "outputs": [
    {
     "name": "stdout",
     "output_type": "stream",
     "text": [
      "['00', '000', '10', '100', '1000', '11', '12', '13', '14', '15']\n",
      "[]\n",
      "['00', 'חלק', 'שהרבה']\n"
     ]
    }
   ],
   "source": [
    "#Vocabulary\n",
    "feature_names = vect.get_feature_names()\n",
    "print(feature_names[:10])\n",
    "print(feature_names[20000:20020])\n",
    "print(feature_names[::2000])"
   ]
  },
  {
   "cell_type": "code",
   "execution_count": 158,
   "metadata": {},
   "outputs": [
    {
     "name": "stdout",
     "output_type": "stream",
     "text": [
      "4342\n"
     ]
    }
   ],
   "source": [
    "print (len(feature_names))"
   ]
  },
  {
   "cell_type": "code",
   "execution_count": 159,
   "metadata": {},
   "outputs": [],
   "source": [
    "def train_and_predict(estimator,X_train,y_train,X_test):\n",
    "    model = estimator.fit(X_train,y_train)\n",
    "    y_pred = model.predict(X_test)\n",
    "    return model,y_pred"
   ]
  },
  {
   "cell_type": "code",
   "execution_count": 25,
   "metadata": {},
   "outputs": [],
   "source": [
    "regressors = [\n",
    "    LogisticRegression(),\n",
    "    LogisticRegressionCV(),\n",
    "    PassiveAggressiveClassifier(),\n",
    "    Perceptron(),\n",
    "    RidgeClassifier(),\n",
    "    RidgeClassifierCV(),\n",
    "    SGDClassifier()\n",
    "]\n",
    "scores_df = pd.DataFrame(dtype=float)"
   ]
  },
  {
   "cell_type": "code",
   "execution_count": 26,
   "metadata": {},
   "outputs": [
    {
     "name": "stdout",
     "output_type": "stream",
     "text": [
      "*********LogisticRegression *********\n",
      "*********LogisticRegressionCV *********\n",
      "*********PassiveAggressiveClassifier *********\n",
      "*********Perceptron *********\n",
      "*********RidgeClassifier *********\n",
      "*********RidgeClassifierCV *********\n",
      "*********SGDClassifier *********\n"
     ]
    }
   ],
   "source": [
    "for regr in regressors:\n",
    "    get_cross_val_score(scores_df,regr, X_train, y_train,\"count_vectorizer\")"
   ]
  },
  {
   "cell_type": "code",
   "execution_count": 27,
   "metadata": {},
   "outputs": [
    {
     "data": {
      "text/html": [
       "<div>\n",
       "<style scoped>\n",
       "    .dataframe tbody tr th:only-of-type {\n",
       "        vertical-align: middle;\n",
       "    }\n",
       "\n",
       "    .dataframe tbody tr th {\n",
       "        vertical-align: top;\n",
       "    }\n",
       "\n",
       "    .dataframe thead th {\n",
       "        text-align: right;\n",
       "    }\n",
       "</style>\n",
       "<table border=\"1\" class=\"dataframe\">\n",
       "  <thead>\n",
       "    <tr style=\"text-align: right;\">\n",
       "      <th></th>\n",
       "      <th>f1</th>\n",
       "      <th>roc_auc</th>\n",
       "      <th>recall</th>\n",
       "      <th>average_precision</th>\n",
       "    </tr>\n",
       "  </thead>\n",
       "  <tbody>\n",
       "    <tr>\n",
       "      <th>SGDClassifier_count_vectorizer</th>\n",
       "      <td>0.508909</td>\n",
       "      <td>0.556548</td>\n",
       "      <td>0.504524</td>\n",
       "      <td>0.585910</td>\n",
       "    </tr>\n",
       "    <tr>\n",
       "      <th>PassiveAggressiveClassifier_count_vectorizer</th>\n",
       "      <td>0.520934</td>\n",
       "      <td>0.558238</td>\n",
       "      <td>0.530000</td>\n",
       "      <td>0.592741</td>\n",
       "    </tr>\n",
       "    <tr>\n",
       "      <th>LogisticRegression_count_vectorizer</th>\n",
       "      <td>0.522817</td>\n",
       "      <td>0.555738</td>\n",
       "      <td>0.529762</td>\n",
       "      <td>0.581970</td>\n",
       "    </tr>\n",
       "    <tr>\n",
       "      <th>RidgeClassifierCV_count_vectorizer</th>\n",
       "      <td>0.528617</td>\n",
       "      <td>0.549357</td>\n",
       "      <td>0.535000</td>\n",
       "      <td>0.579483</td>\n",
       "    </tr>\n",
       "    <tr>\n",
       "      <th>Perceptron_count_vectorizer</th>\n",
       "      <td>0.540853</td>\n",
       "      <td>0.567696</td>\n",
       "      <td>0.563571</td>\n",
       "      <td>0.595002</td>\n",
       "    </tr>\n",
       "  </tbody>\n",
       "</table>\n",
       "</div>"
      ],
      "text/plain": [
       "                                                   f1  roc_auc   recall  \\\n",
       "SGDClassifier_count_vectorizer               0.508909 0.556548 0.504524   \n",
       "PassiveAggressiveClassifier_count_vectorizer 0.520934 0.558238 0.530000   \n",
       "LogisticRegression_count_vectorizer          0.522817 0.555738 0.529762   \n",
       "RidgeClassifierCV_count_vectorizer           0.528617 0.549357 0.535000   \n",
       "Perceptron_count_vectorizer                  0.540853 0.567696 0.563571   \n",
       "\n",
       "                                              average_precision  \n",
       "SGDClassifier_count_vectorizer                         0.585910  \n",
       "PassiveAggressiveClassifier_count_vectorizer           0.592741  \n",
       "LogisticRegression_count_vectorizer                    0.581970  \n",
       "RidgeClassifierCV_count_vectorizer                     0.579483  \n",
       "Perceptron_count_vectorizer                            0.595002  "
      ]
     },
     "metadata": {},
     "output_type": "display_data"
    }
   ],
   "source": [
    "display(scores_df.sort_values(by='f1').tail(5))"
   ]
  },
  {
   "cell_type": "code",
   "execution_count": 28,
   "metadata": {},
   "outputs": [],
   "source": [
    "#TfidfVectorizer\n",
    "tdif = TfidfVectorizer(min_df=4)\n",
    "X_train = tdif.fit_transform(text_train)"
   ]
  },
  {
   "cell_type": "code",
   "execution_count": 34,
   "metadata": {},
   "outputs": [
    {
     "name": "stdout",
     "output_type": "stream",
     "text": [
      "*********LogisticRegression *********\n",
      "*********LogisticRegressionCV *********\n",
      "*********PassiveAggressiveClassifier *********\n",
      "*********Perceptron *********\n",
      "*********RidgeClassifier *********\n",
      "*********RidgeClassifierCV *********\n",
      "*********SGDClassifier *********\n"
     ]
    }
   ],
   "source": [
    "for regr in regressors:\n",
    "    get_cross_val_score(scores_df,regr, X_train, y_train,\"TfidfVectorizer\")"
   ]
  },
  {
   "cell_type": "code",
   "execution_count": 35,
   "metadata": {},
   "outputs": [
    {
     "data": {
      "text/html": [
       "<div>\n",
       "<style scoped>\n",
       "    .dataframe tbody tr th:only-of-type {\n",
       "        vertical-align: middle;\n",
       "    }\n",
       "\n",
       "    .dataframe tbody tr th {\n",
       "        vertical-align: top;\n",
       "    }\n",
       "\n",
       "    .dataframe thead th {\n",
       "        text-align: right;\n",
       "    }\n",
       "</style>\n",
       "<table border=\"1\" class=\"dataframe\">\n",
       "  <thead>\n",
       "    <tr style=\"text-align: right;\">\n",
       "      <th></th>\n",
       "      <th>f1</th>\n",
       "      <th>roc_auc</th>\n",
       "      <th>recall</th>\n",
       "      <th>average_precision</th>\n",
       "    </tr>\n",
       "  </thead>\n",
       "  <tbody>\n",
       "    <tr>\n",
       "      <th>LogisticRegression_count_vectorizer</th>\n",
       "      <td>0.522817</td>\n",
       "      <td>0.555738</td>\n",
       "      <td>0.529762</td>\n",
       "      <td>0.581970</td>\n",
       "    </tr>\n",
       "    <tr>\n",
       "      <th>LogisticRegressionCV_TfidfVectorizer</th>\n",
       "      <td>0.526600</td>\n",
       "      <td>0.566964</td>\n",
       "      <td>0.525000</td>\n",
       "      <td>0.601036</td>\n",
       "    </tr>\n",
       "    <tr>\n",
       "      <th>RidgeClassifierCV_count_vectorizer</th>\n",
       "      <td>0.528617</td>\n",
       "      <td>0.549357</td>\n",
       "      <td>0.535000</td>\n",
       "      <td>0.579483</td>\n",
       "    </tr>\n",
       "    <tr>\n",
       "      <th>Perceptron_count_vectorizer</th>\n",
       "      <td>0.540853</td>\n",
       "      <td>0.567696</td>\n",
       "      <td>0.563571</td>\n",
       "      <td>0.595002</td>\n",
       "    </tr>\n",
       "    <tr>\n",
       "      <th>Perceptron_TfidfVectorizer</th>\n",
       "      <td>0.565695</td>\n",
       "      <td>0.571929</td>\n",
       "      <td>0.647857</td>\n",
       "      <td>0.602859</td>\n",
       "    </tr>\n",
       "  </tbody>\n",
       "</table>\n",
       "</div>"
      ],
      "text/plain": [
       "                                           f1  roc_auc   recall  \\\n",
       "LogisticRegression_count_vectorizer  0.522817 0.555738 0.529762   \n",
       "LogisticRegressionCV_TfidfVectorizer 0.526600 0.566964 0.525000   \n",
       "RidgeClassifierCV_count_vectorizer   0.528617 0.549357 0.535000   \n",
       "Perceptron_count_vectorizer          0.540853 0.567696 0.563571   \n",
       "Perceptron_TfidfVectorizer           0.565695 0.571929 0.647857   \n",
       "\n",
       "                                      average_precision  \n",
       "LogisticRegression_count_vectorizer            0.581970  \n",
       "LogisticRegressionCV_TfidfVectorizer           0.601036  \n",
       "RidgeClassifierCV_count_vectorizer             0.579483  \n",
       "Perceptron_count_vectorizer                    0.595002  \n",
       "Perceptron_TfidfVectorizer                     0.602859  "
      ]
     },
     "metadata": {},
     "output_type": "display_data"
    }
   ],
   "source": [
    "display(scores_df.sort_values(by='f1').tail(5))"
   ]
  },
  {
   "cell_type": "code",
   "execution_count": 43,
   "metadata": {},
   "outputs": [],
   "source": [
    "# L1 normalization with CountVectorizer\n",
    "count_vec = CountVectorizer(min_df=4)\n",
    "X_train = count_vec.fit_transform(text_train)\n",
    "X_train = normalize(X_train,norm=\"l1\")"
   ]
  },
  {
   "cell_type": "code",
   "execution_count": 44,
   "metadata": {},
   "outputs": [
    {
     "name": "stdout",
     "output_type": "stream",
     "text": [
      "*********LogisticRegression *********\n",
      "*********LogisticRegressionCV *********\n",
      "*********PassiveAggressiveClassifier *********\n",
      "*********Perceptron *********\n",
      "*********RidgeClassifier *********\n",
      "*********RidgeClassifierCV *********\n",
      "*********SGDClassifier *********\n"
     ]
    }
   ],
   "source": [
    "for regr in regressors:\n",
    "    get_cross_val_score(scores_df,regr, X_train, y_train,\"TfidfVectorizer_norm\")"
   ]
  },
  {
   "cell_type": "code",
   "execution_count": 45,
   "metadata": {},
   "outputs": [
    {
     "data": {
      "text/html": [
       "<div>\n",
       "<style scoped>\n",
       "    .dataframe tbody tr th:only-of-type {\n",
       "        vertical-align: middle;\n",
       "    }\n",
       "\n",
       "    .dataframe tbody tr th {\n",
       "        vertical-align: top;\n",
       "    }\n",
       "\n",
       "    .dataframe thead th {\n",
       "        text-align: right;\n",
       "    }\n",
       "</style>\n",
       "<table border=\"1\" class=\"dataframe\">\n",
       "  <thead>\n",
       "    <tr style=\"text-align: right;\">\n",
       "      <th></th>\n",
       "      <th>f1</th>\n",
       "      <th>roc_auc</th>\n",
       "      <th>recall</th>\n",
       "      <th>average_precision</th>\n",
       "    </tr>\n",
       "  </thead>\n",
       "  <tbody>\n",
       "    <tr>\n",
       "      <th>LogisticRegressionCV_TfidfVectorizer</th>\n",
       "      <td>0.526600</td>\n",
       "      <td>0.566964</td>\n",
       "      <td>0.525000</td>\n",
       "      <td>0.601036</td>\n",
       "    </tr>\n",
       "    <tr>\n",
       "      <th>RidgeClassifierCV_count_vectorizer</th>\n",
       "      <td>0.528617</td>\n",
       "      <td>0.549357</td>\n",
       "      <td>0.535000</td>\n",
       "      <td>0.579483</td>\n",
       "    </tr>\n",
       "    <tr>\n",
       "      <th>Perceptron_count_vectorizer</th>\n",
       "      <td>0.540853</td>\n",
       "      <td>0.567696</td>\n",
       "      <td>0.563571</td>\n",
       "      <td>0.595002</td>\n",
       "    </tr>\n",
       "    <tr>\n",
       "      <th>Perceptron_TfidfVectorizer_norm</th>\n",
       "      <td>0.565695</td>\n",
       "      <td>0.571929</td>\n",
       "      <td>0.647857</td>\n",
       "      <td>0.602859</td>\n",
       "    </tr>\n",
       "    <tr>\n",
       "      <th>Perceptron_TfidfVectorizer</th>\n",
       "      <td>0.565695</td>\n",
       "      <td>0.571929</td>\n",
       "      <td>0.647857</td>\n",
       "      <td>0.602859</td>\n",
       "    </tr>\n",
       "  </tbody>\n",
       "</table>\n",
       "</div>"
      ],
      "text/plain": [
       "                                           f1  roc_auc   recall  \\\n",
       "LogisticRegressionCV_TfidfVectorizer 0.526600 0.566964 0.525000   \n",
       "RidgeClassifierCV_count_vectorizer   0.528617 0.549357 0.535000   \n",
       "Perceptron_count_vectorizer          0.540853 0.567696 0.563571   \n",
       "Perceptron_TfidfVectorizer_norm      0.565695 0.571929 0.647857   \n",
       "Perceptron_TfidfVectorizer           0.565695 0.571929 0.647857   \n",
       "\n",
       "                                      average_precision  \n",
       "LogisticRegressionCV_TfidfVectorizer           0.601036  \n",
       "RidgeClassifierCV_count_vectorizer             0.579483  \n",
       "Perceptron_count_vectorizer                    0.595002  \n",
       "Perceptron_TfidfVectorizer_norm                0.602859  \n",
       "Perceptron_TfidfVectorizer                     0.602859  "
      ]
     },
     "metadata": {},
     "output_type": "display_data"
    }
   ],
   "source": [
    "display(scores_df.sort_values(by='f1').tail(5))"
   ]
  },
  {
   "cell_type": "code",
   "execution_count": 46,
   "metadata": {},
   "outputs": [],
   "source": [
    "#ngrams\n",
    "ngrm = CountVectorizer(ngram_range=(1, 3), min_df=4)\n",
    "X_train = ngrm.fit_transform(text_train)"
   ]
  },
  {
   "cell_type": "code",
   "execution_count": 47,
   "metadata": {},
   "outputs": [
    {
     "name": "stdout",
     "output_type": "stream",
     "text": [
      "*********LogisticRegression *********\n",
      "*********LogisticRegressionCV *********\n",
      "*********PassiveAggressiveClassifier *********\n",
      "*********Perceptron *********\n",
      "*********RidgeClassifier *********\n",
      "*********RidgeClassifierCV *********\n",
      "*********SGDClassifier *********\n"
     ]
    }
   ],
   "source": [
    "for regr in regressors:\n",
    "    get_cross_val_score(scores_df,regr, X_train, y_train,\"ngrm\")"
   ]
  },
  {
   "cell_type": "code",
   "execution_count": 48,
   "metadata": {},
   "outputs": [
    {
     "data": {
      "text/html": [
       "<div>\n",
       "<style scoped>\n",
       "    .dataframe tbody tr th:only-of-type {\n",
       "        vertical-align: middle;\n",
       "    }\n",
       "\n",
       "    .dataframe tbody tr th {\n",
       "        vertical-align: top;\n",
       "    }\n",
       "\n",
       "    .dataframe thead th {\n",
       "        text-align: right;\n",
       "    }\n",
       "</style>\n",
       "<table border=\"1\" class=\"dataframe\">\n",
       "  <thead>\n",
       "    <tr style=\"text-align: right;\">\n",
       "      <th></th>\n",
       "      <th>f1</th>\n",
       "      <th>roc_auc</th>\n",
       "      <th>recall</th>\n",
       "      <th>average_precision</th>\n",
       "    </tr>\n",
       "  </thead>\n",
       "  <tbody>\n",
       "    <tr>\n",
       "      <th>Perceptron_count_vectorizer</th>\n",
       "      <td>0.540853</td>\n",
       "      <td>0.567696</td>\n",
       "      <td>0.563571</td>\n",
       "      <td>0.595002</td>\n",
       "    </tr>\n",
       "    <tr>\n",
       "      <th>LogisticRegression_ngrm</th>\n",
       "      <td>0.541068</td>\n",
       "      <td>0.582762</td>\n",
       "      <td>0.544762</td>\n",
       "      <td>0.606915</td>\n",
       "    </tr>\n",
       "    <tr>\n",
       "      <th>RidgeClassifier_ngrm</th>\n",
       "      <td>0.543005</td>\n",
       "      <td>0.581738</td>\n",
       "      <td>0.544762</td>\n",
       "      <td>0.604912</td>\n",
       "    </tr>\n",
       "    <tr>\n",
       "      <th>Perceptron_TfidfVectorizer_norm</th>\n",
       "      <td>0.565695</td>\n",
       "      <td>0.571929</td>\n",
       "      <td>0.647857</td>\n",
       "      <td>0.602859</td>\n",
       "    </tr>\n",
       "    <tr>\n",
       "      <th>Perceptron_TfidfVectorizer</th>\n",
       "      <td>0.565695</td>\n",
       "      <td>0.571929</td>\n",
       "      <td>0.647857</td>\n",
       "      <td>0.602859</td>\n",
       "    </tr>\n",
       "  </tbody>\n",
       "</table>\n",
       "</div>"
      ],
      "text/plain": [
       "                                      f1  roc_auc   recall  average_precision\n",
       "Perceptron_count_vectorizer     0.540853 0.567696 0.563571           0.595002\n",
       "LogisticRegression_ngrm         0.541068 0.582762 0.544762           0.606915\n",
       "RidgeClassifier_ngrm            0.543005 0.581738 0.544762           0.604912\n",
       "Perceptron_TfidfVectorizer_norm 0.565695 0.571929 0.647857           0.602859\n",
       "Perceptron_TfidfVectorizer      0.565695 0.571929 0.647857           0.602859"
      ]
     },
     "metadata": {},
     "output_type": "display_data"
    }
   ],
   "source": [
    "display(scores_df.sort_values(by='f1').tail(5))"
   ]
  },
  {
   "cell_type": "code",
   "execution_count": 49,
   "metadata": {},
   "outputs": [
    {
     "name": "stdout",
     "output_type": "stream",
     "text": [
      "vocaulary size:12592\n"
     ]
    }
   ],
   "source": [
    "cv = CountVectorizer(ngram_range=(1, 3), analyzer=\"char_wb\")\n",
    "X_train = cv.fit_transform(text_train)\n",
    "print(f\"vocaulary size:{len(cv.vocabulary_)}\")"
   ]
  },
  {
   "cell_type": "code",
   "execution_count": 50,
   "metadata": {},
   "outputs": [
    {
     "name": "stdout",
     "output_type": "stream",
     "text": [
      "*********LogisticRegression *********\n",
      "*********LogisticRegressionCV *********\n",
      "*********PassiveAggressiveClassifier *********\n",
      "*********Perceptron *********\n",
      "*********RidgeClassifier *********\n",
      "*********RidgeClassifierCV *********\n",
      "*********SGDClassifier *********\n"
     ]
    }
   ],
   "source": [
    "for regr in regressors:\n",
    "    get_cross_val_score(scores_df,regr, X_train, y_train,\"_char_wb\")"
   ]
  },
  {
   "cell_type": "code",
   "execution_count": 51,
   "metadata": {},
   "outputs": [
    {
     "data": {
      "text/html": [
       "<div>\n",
       "<style scoped>\n",
       "    .dataframe tbody tr th:only-of-type {\n",
       "        vertical-align: middle;\n",
       "    }\n",
       "\n",
       "    .dataframe tbody tr th {\n",
       "        vertical-align: top;\n",
       "    }\n",
       "\n",
       "    .dataframe thead th {\n",
       "        text-align: right;\n",
       "    }\n",
       "</style>\n",
       "<table border=\"1\" class=\"dataframe\">\n",
       "  <thead>\n",
       "    <tr style=\"text-align: right;\">\n",
       "      <th></th>\n",
       "      <th>f1</th>\n",
       "      <th>roc_auc</th>\n",
       "      <th>recall</th>\n",
       "      <th>average_precision</th>\n",
       "    </tr>\n",
       "  </thead>\n",
       "  <tbody>\n",
       "    <tr>\n",
       "      <th>LogisticRegression_ngrm</th>\n",
       "      <td>0.541068</td>\n",
       "      <td>0.582762</td>\n",
       "      <td>0.544762</td>\n",
       "      <td>0.606915</td>\n",
       "    </tr>\n",
       "    <tr>\n",
       "      <th>RidgeClassifier_ngrm</th>\n",
       "      <td>0.543005</td>\n",
       "      <td>0.581738</td>\n",
       "      <td>0.544762</td>\n",
       "      <td>0.604912</td>\n",
       "    </tr>\n",
       "    <tr>\n",
       "      <th>SGDClassifier__char_wb</th>\n",
       "      <td>0.563777</td>\n",
       "      <td>0.579619</td>\n",
       "      <td>0.661190</td>\n",
       "      <td>0.589578</td>\n",
       "    </tr>\n",
       "    <tr>\n",
       "      <th>Perceptron_TfidfVectorizer</th>\n",
       "      <td>0.565695</td>\n",
       "      <td>0.571929</td>\n",
       "      <td>0.647857</td>\n",
       "      <td>0.602859</td>\n",
       "    </tr>\n",
       "    <tr>\n",
       "      <th>Perceptron_TfidfVectorizer_norm</th>\n",
       "      <td>0.565695</td>\n",
       "      <td>0.571929</td>\n",
       "      <td>0.647857</td>\n",
       "      <td>0.602859</td>\n",
       "    </tr>\n",
       "  </tbody>\n",
       "</table>\n",
       "</div>"
      ],
      "text/plain": [
       "                                      f1  roc_auc   recall  average_precision\n",
       "LogisticRegression_ngrm         0.541068 0.582762 0.544762           0.606915\n",
       "RidgeClassifier_ngrm            0.543005 0.581738 0.544762           0.604912\n",
       "SGDClassifier__char_wb          0.563777 0.579619 0.661190           0.589578\n",
       "Perceptron_TfidfVectorizer      0.565695 0.571929 0.647857           0.602859\n",
       "Perceptron_TfidfVectorizer_norm 0.565695 0.571929 0.647857           0.602859"
      ]
     },
     "metadata": {},
     "output_type": "display_data"
    }
   ],
   "source": [
    "display(scores_df.sort_values(by='f1').tail(5))"
   ]
  },
  {
   "cell_type": "markdown",
   "metadata": {},
   "source": [
    "Get an impression of data by looking at most important features"
   ]
  },
  {
   "cell_type": "code",
   "execution_count": 175,
   "metadata": {},
   "outputs": [
    {
     "data": {
      "text/plain": [
       "LogisticRegression()"
      ]
     },
     "execution_count": 175,
     "metadata": {},
     "output_type": "execute_result"
    }
   ],
   "source": [
    "tdif = TfidfVectorizer(stop_words='english',min_df=4)\n",
    "X_train = tdif.fit_transform(text_train)\n",
    "\n",
    "lr = LogisticRegression()\n",
    "lr.fit(X_train, y_train)"
   ]
  },
  {
   "cell_type": "code",
   "execution_count": 178,
   "metadata": {},
   "outputs": [],
   "source": [
    "def plot_important_features(coef, feature_names, top_n=20, ax=None, rotation=60):\n",
    "    if ax is None:\n",
    "        ax = plt.gca()\n",
    "    inds = np.argsort(coef)\n",
    "    low = inds[:top_n]\n",
    "    high = inds[-top_n:]\n",
    "    important = np.hstack([low, high])\n",
    "    myrange = range(len(important))\n",
    "    colors = ['red'] * top_n + ['blue'] * top_n\n",
    "    \n",
    "    ax.bar(myrange, coef[important], color=colors)\n",
    "    ax.set_xticks(myrange)\n",
    "    heb_feature_names =[bidialg.get_display(feature) for feature in feature_names[important]]\n",
    "    ax.set_xticklabels(heb_feature_names, rotation=rotation, ha=\"right\")\n",
    "    ax.set_xlim(-.7, 2 * top_n)\n",
    "    ax.set_frame_on(False)"
   ]
  },
  {
   "cell_type": "code",
   "execution_count": 179,
   "metadata": {},
   "outputs": [
    {
     "data": {
      "image/png": "[encoded data removed]",
      "text/plain": [
       "<Figure size 1080x432 with 1 Axes>"
      ]
     },
     "metadata": {
      "needs_background": "light"
     },
     "output_type": "display_data"
    }
   ],
   "source": [
    "plt.figure(figsize=(15, 6))\n",
    "plot_important_features(lr.coef_.ravel(), np.array(tdif.get_feature_names()), top_n=20, rotation=40)\n",
    "ax = plt.gca()\n",
    "plt.show()"
   ]
  },
  {
   "cell_type": "code",
   "execution_count": 60,
   "metadata": {},
   "outputs": [],
   "source": [
    "X,y=get_label_and_drop(df_steps['4_clean_nar'])"
   ]
  },
  {
   "cell_type": "code",
   "execution_count": 61,
   "metadata": {},
   "outputs": [],
   "source": [
    "X_train, X_test, y_train, y_test = train_test_split(X, y,random_state=101,stratify=y)"
   ]
  },
  {
   "cell_type": "code",
   "execution_count": 65,
   "metadata": {},
   "outputs": [],
   "source": [
    "def get_num_text_pipeline(df,regr_num,regr_text):\n",
    "    numeric_cols = X_train.columns[X_train.columns.dtype != object].tolist()\n",
    "    \n",
    "    transformer_text = FunctionTransformer(lambda x: x['narrative'], validate=False)\n",
    "    transfomer_numeric = FunctionTransformer(lambda x: x[numeric_cols], validate=False)\n",
    "\n",
    "    pipeline = Pipeline([\n",
    "        ('features', FeatureUnion([\n",
    "                ('numeric_features', Pipeline([\n",
    "                    ('selector', transfomer_numeric)\n",
    "                ])),\n",
    "                 ('text_features', Pipeline([\n",
    "                    ('selector', transformer_text),\n",
    "                    (regr_text.__class__.__name__, regr_text)\n",
    "                ]))\n",
    "             ])),\n",
    "        ('estimator', regr_num)\n",
    "    ])\n",
    "    return pipeline"
   ]
  },
  {
   "cell_type": "code",
   "execution_count": 67,
   "metadata": {},
   "outputs": [
    {
     "name": "stdout",
     "output_type": "stream",
     "text": [
      "*********Pipeline *********\n",
      "*********Pipeline *********\n",
      "*********Pipeline *********\n",
      "*********Pipeline *********\n",
      "*********Pipeline *********\n",
      "*********Pipeline *********\n",
      "*********Pipeline *********\n"
     ]
    }
   ],
   "source": [
    "regr_text = TfidfVectorizer(min_df=4)\n",
    "\n",
    "for regr in regressors:\n",
    "    pipe = get_num_text_pipeline(X_train,regr,regr_text)\n",
    "    get_cross_val_score(scores_df,pipe, X_train, y_train,regr_text.__class__.__name__+\"_combined\")"
   ]
  },
  {
   "cell_type": "code",
   "execution_count": 68,
   "metadata": {},
   "outputs": [
    {
     "data": {
      "text/html": [
       "<div>\n",
       "<style scoped>\n",
       "    .dataframe tbody tr th:only-of-type {\n",
       "        vertical-align: middle;\n",
       "    }\n",
       "\n",
       "    .dataframe tbody tr th {\n",
       "        vertical-align: top;\n",
       "    }\n",
       "\n",
       "    .dataframe thead th {\n",
       "        text-align: right;\n",
       "    }\n",
       "</style>\n",
       "<table border=\"1\" class=\"dataframe\">\n",
       "  <thead>\n",
       "    <tr style=\"text-align: right;\">\n",
       "      <th></th>\n",
       "      <th>f1</th>\n",
       "      <th>roc_auc</th>\n",
       "      <th>recall</th>\n",
       "      <th>average_precision</th>\n",
       "    </tr>\n",
       "  </thead>\n",
       "  <tbody>\n",
       "    <tr>\n",
       "      <th>LogisticRegression_ngrm</th>\n",
       "      <td>0.541068</td>\n",
       "      <td>0.582762</td>\n",
       "      <td>0.544762</td>\n",
       "      <td>0.606915</td>\n",
       "    </tr>\n",
       "    <tr>\n",
       "      <th>RidgeClassifier_ngrm</th>\n",
       "      <td>0.543005</td>\n",
       "      <td>0.581738</td>\n",
       "      <td>0.544762</td>\n",
       "      <td>0.604912</td>\n",
       "    </tr>\n",
       "    <tr>\n",
       "      <th>SGDClassifier__char_wb</th>\n",
       "      <td>0.563777</td>\n",
       "      <td>0.579619</td>\n",
       "      <td>0.661190</td>\n",
       "      <td>0.589578</td>\n",
       "    </tr>\n",
       "    <tr>\n",
       "      <th>Perceptron_TfidfVectorizer</th>\n",
       "      <td>0.565695</td>\n",
       "      <td>0.571929</td>\n",
       "      <td>0.647857</td>\n",
       "      <td>0.602859</td>\n",
       "    </tr>\n",
       "    <tr>\n",
       "      <th>Perceptron_TfidfVectorizer_norm</th>\n",
       "      <td>0.565695</td>\n",
       "      <td>0.571929</td>\n",
       "      <td>0.647857</td>\n",
       "      <td>0.602859</td>\n",
       "    </tr>\n",
       "  </tbody>\n",
       "</table>\n",
       "</div>"
      ],
      "text/plain": [
       "                                      f1  roc_auc   recall  average_precision\n",
       "LogisticRegression_ngrm         0.541068 0.582762 0.544762           0.606915\n",
       "RidgeClassifier_ngrm            0.543005 0.581738 0.544762           0.604912\n",
       "SGDClassifier__char_wb          0.563777 0.579619 0.661190           0.589578\n",
       "Perceptron_TfidfVectorizer      0.565695 0.571929 0.647857           0.602859\n",
       "Perceptron_TfidfVectorizer_norm 0.565695 0.571929 0.647857           0.602859"
      ]
     },
     "metadata": {},
     "output_type": "display_data"
    }
   ],
   "source": [
    "display(scores_df.sort_values(by='f1').tail(5))"
   ]
  },
  {
   "cell_type": "markdown",
   "metadata": {},
   "source": [
    "meantime combined featues haven't improved the results so far..."
   ]
  },
  {
   "cell_type": "markdown",
   "metadata": {},
   "source": [
    "## spaCy"
   ]
  },
  {
   "cell_type": "code",
   "execution_count": 71,
   "metadata": {},
   "outputs": [],
   "source": [
    "import spacy # is it relevant for hebrew? TBD check what we saw on a class on hebrew"
   ]
  },
  {
   "cell_type": "code",
   "execution_count": 72,
   "metadata": {},
   "outputs": [],
   "source": [
    "nlp = spacy.load(\"en_core_web_lg\", disable=[\"tagger\", \"parser\", \"ner\",\"lemmatizer\"])"
   ]
  },
  {
   "cell_type": "markdown",
   "metadata": {},
   "source": [
    "## Hebrew specific"
   ]
  },
  {
   "cell_type": "code",
   "execution_count": 93,
   "metadata": {},
   "outputs": [
    {
     "name": "stdout",
     "output_type": "stream",
     "text": [
      "['00', '000', '01', '03', '06', '07', '10', '100', '1000', '101']\n",
      "['יכין', 'יכיר', 'יכל', 'יכלה', 'יכלו', 'יכלנו', 'יכלתי', 'יכניס', 'יכנסו', 'ילבש', 'ילד', 'ילדה', 'ילדות', 'ילדי', 'ילדיהם', 'ילדיו', 'ילדיי', 'ילדים', 'ילדתי', 'ילך']\n",
      "['00', 'בבר', 'בסוגיה', 'האגו', 'החשאית', 'הסיגריה', 'התבלבל', 'והכלכלה', 'ולספור', 'ושמרו', 'יכלתי', 'לגלישה', 'למלונית', 'מבירה', 'מכונת', 'מתוכננות', 'סנדלים', 'קילו', 'שהסביבה', 'שמת', 'תתחבר']\n"
     ]
    }
   ],
   "source": [
    "# pip install hebrew_tokenizer\n",
    "import hebrew_tokenizer as ht\n",
    "hebrew_text = text_train\n",
    "heb_vec=CountVectorizer().fit(hebrew_text)\n",
    "heb_vec.get_feature_names() \n",
    "sample_features(feature_names)"
   ]
  },
  {
   "cell_type": "code",
   "execution_count": 94,
   "metadata": {},
   "outputs": [
    {
     "ename": "TypeError",
     "evalue": "expected string or bytes-like object",
     "output_type": "error",
     "traceback": [
      "\u001b[0;31m---------------------------------------------------------------------------\u001b[0m",
      "\u001b[0;31mTypeError\u001b[0m                                 Traceback (most recent call last)",
      "\u001b[0;32m<ipython-input-94-f25145caf007>\u001b[0m in \u001b[0;36m<module>\u001b[0;34m\u001b[0m\n\u001b[1;32m      1\u001b[0m \u001b[0mtokens\u001b[0m \u001b[0;34m=\u001b[0m \u001b[0mht\u001b[0m\u001b[0;34m.\u001b[0m\u001b[0mtokenize\u001b[0m\u001b[0;34m(\u001b[0m\u001b[0mhebrew_text\u001b[0m\u001b[0;34m)\u001b[0m  \u001b[0;31m# tokenize returns a generator!\u001b[0m\u001b[0;34m\u001b[0m\u001b[0;34m\u001b[0m\u001b[0m\n\u001b[0;32m----> 2\u001b[0;31m \u001b[0;32mfor\u001b[0m \u001b[0mgrp\u001b[0m\u001b[0;34m,\u001b[0m \u001b[0mtoken\u001b[0m\u001b[0;34m,\u001b[0m \u001b[0mtoken_num\u001b[0m\u001b[0;34m,\u001b[0m \u001b[0;34m(\u001b[0m\u001b[0mstart_index\u001b[0m\u001b[0;34m,\u001b[0m \u001b[0mend_index\u001b[0m\u001b[0;34m)\u001b[0m \u001b[0;32min\u001b[0m \u001b[0mtokens\u001b[0m\u001b[0;34m:\u001b[0m\u001b[0;34m\u001b[0m\u001b[0;34m\u001b[0m\u001b[0m\n\u001b[0m\u001b[1;32m      3\u001b[0m     \u001b[0mprint\u001b[0m\u001b[0;34m(\u001b[0m\u001b[0;34m'{}, {}'\u001b[0m\u001b[0;34m.\u001b[0m\u001b[0mformat\u001b[0m\u001b[0;34m(\u001b[0m\u001b[0mgrp\u001b[0m\u001b[0;34m,\u001b[0m \u001b[0mtoken\u001b[0m\u001b[0;34m)\u001b[0m\u001b[0;34m)\u001b[0m\u001b[0;34m\u001b[0m\u001b[0;34m\u001b[0m\u001b[0m\n",
      "\u001b[0;32m~/jupyter_git/jup-nb-generic/lib/python3.8/site-packages/hebrew_tokenizer/tokenizer.py\u001b[0m in \u001b[0;36mtokenize\u001b[0;34m(self, string)\u001b[0m\n\u001b[1;32m    135\u001b[0m                 \u001b[0madd_global_idx_flag\u001b[0m \u001b[0;34m=\u001b[0m \u001b[0;32mFalse\u001b[0m\u001b[0;34m\u001b[0m\u001b[0;34m\u001b[0m\u001b[0m\n\u001b[1;32m    136\u001b[0m                 \u001b[0mstring\u001b[0m \u001b[0;34m=\u001b[0m \u001b[0mstring\u001b[0m\u001b[0;34m[\u001b[0m\u001b[0mstart_idx\u001b[0m\u001b[0;34m:\u001b[0m\u001b[0;34m]\u001b[0m\u001b[0;34m\u001b[0m\u001b[0;34m\u001b[0m\u001b[0m\n\u001b[0;32m--> 137\u001b[0;31m                 \u001b[0;32mfor\u001b[0m \u001b[0mmatch\u001b[0m \u001b[0;32min\u001b[0m \u001b[0mself\u001b[0m\u001b[0;34m.\u001b[0m\u001b[0mscanner\u001b[0m\u001b[0;34m.\u001b[0m\u001b[0mfinditer\u001b[0m\u001b[0;34m(\u001b[0m\u001b[0mstring\u001b[0m\u001b[0;34m)\u001b[0m\u001b[0;34m:\u001b[0m\u001b[0;34m\u001b[0m\u001b[0;34m\u001b[0m\u001b[0m\n\u001b[0m\u001b[1;32m    138\u001b[0m                     \u001b[0mgrp_name\u001b[0m \u001b[0;34m=\u001b[0m \u001b[0mGroupsReverseMapping\u001b[0m\u001b[0;34m[\u001b[0m\u001b[0mmatch\u001b[0m\u001b[0;34m.\u001b[0m\u001b[0mlastgroup\u001b[0m\u001b[0;34m]\u001b[0m\u001b[0;34m\u001b[0m\u001b[0;34m\u001b[0m\u001b[0m\n\u001b[1;32m    139\u001b[0m                     \u001b[0mstart_idx\u001b[0m\u001b[0;34m,\u001b[0m \u001b[0mend_idx\u001b[0m \u001b[0;34m=\u001b[0m \u001b[0mmatch\u001b[0m\u001b[0;34m.\u001b[0m\u001b[0mspan\u001b[0m\u001b[0;34m(\u001b[0m\u001b[0;34m)\u001b[0m\u001b[0;34m\u001b[0m\u001b[0;34m\u001b[0m\u001b[0m\n",
      "\u001b[0;31mTypeError\u001b[0m: expected string or bytes-like object"
     ]
    }
   ],
   "source": [
    "tokens = ht.tokenize(hebrew_text)  # tokenize returns a generator!\n",
    "for grp, token, token_num, (start_index, end_index) in tokens:\n",
    "    print('{}, {}'.format(grp, token))"
   ]
  },
  {
   "cell_type": "markdown",
   "metadata": {},
   "source": [
    "## Trying BERT for hebrew: heBERT"
   ]
  },
  {
   "cell_type": "code",
   "execution_count": 95,
   "metadata": {},
   "outputs": [],
   "source": [
    "from transformers import pipeline\n",
    "import torch\n",
    "import transformers\n",
    "transformers.logging.set_verbosity_info()"
   ]
  },
  {
   "cell_type": "code",
   "execution_count": 100,
   "metadata": {},
   "outputs": [
    {
     "name": "stderr",
     "output_type": "stream",
     "text": [
      "https://huggingface.co/avichr/heBERT/resolve/main/config.json not found in cache or force_download set to True, downloading to /home/zsofya/.cache/huggingface/transformers/tmpnb3gmtm4\n"
     ]
    },
    {
     "data": {
      "application/vnd.jupyter.widget-view+json": {
       "model_id": "f6a81e9ba991466ab228dcda1caa4abf",
       "version_major": 2,
       "version_minor": 0
      },
      "text/plain": [
       "HBox(children=(FloatProgress(value=0.0, description='Downloading', max=505.0, style=ProgressStyle(description_…"
      ]
     },
     "metadata": {},
     "output_type": "display_data"
    },
    {
     "name": "stderr",
     "output_type": "stream",
     "text": [
      "storing https://huggingface.co/avichr/heBERT/resolve/main/config.json in cache at /home/zsofya/.cache/huggingface/transformers/cb4b16a37cec0b40a3c45abc940ae898d7c64b5c398b0e133b2f95ef2e5249ec.a2a439172355c6bd857b49a6f69beb372666fc0b713450e02daf2279fa330541\n",
      "creating metadata file for /home/zsofya/.cache/huggingface/transformers/cb4b16a37cec0b40a3c45abc940ae898d7c64b5c398b0e133b2f95ef2e5249ec.a2a439172355c6bd857b49a6f69beb372666fc0b713450e02daf2279fa330541\n",
      "loading configuration file https://huggingface.co/avichr/heBERT/resolve/main/config.json from cache at /home/zsofya/.cache/huggingface/transformers/cb4b16a37cec0b40a3c45abc940ae898d7c64b5c398b0e133b2f95ef2e5249ec.a2a439172355c6bd857b49a6f69beb372666fc0b713450e02daf2279fa330541\n",
      "Model config BertConfig {\n",
      "  \"architectures\": [\n",
      "    \"BertForMaskedLM\"\n",
      "  ],\n",
      "  \"attention_probs_dropout_prob\": 0.1,\n",
      "  \"gradient_checkpointing\": false,\n",
      "  \"hidden_act\": \"gelu\",\n",
      "  \"hidden_dropout_prob\": 0.1,\n",
      "  \"hidden_size\": 768,\n",
      "  \"initializer_range\": 0.02,\n",
      "  \"intermediate_size\": 3072,\n",
      "  \"layer_norm_eps\": 1e-12,\n",
      "  \"max_position_embeddings\": 512,\n",
      "  \"model_type\": \"bert\",\n",
      "  \"num_attention_heads\": 12,\n",
      "  \"num_hidden_layers\": 12,\n",
      "  \"pad_token_id\": 0,\n",
      "  \"position_embedding_type\": \"absolute\",\n",
      "  \"total_flos\": 6997313242916978688,\n",
      "  \"transformers_version\": \"4.5.1\",\n",
      "  \"type_vocab_size\": 2,\n",
      "  \"use_cache\": true,\n",
      "  \"vocab_size\": 30522\n",
      "}\n",
      "\n"
     ]
    },
    {
     "name": "stdout",
     "output_type": "stream",
     "text": [
      "\n"
     ]
    },
    {
     "name": "stderr",
     "output_type": "stream",
     "text": [
      "https://huggingface.co/avichr/heBERT/resolve/main/vocab.txt not found in cache or force_download set to True, downloading to /home/zsofya/.cache/huggingface/transformers/tmp7ne4fflc\n"
     ]
    },
    {
     "data": {
      "application/vnd.jupyter.widget-view+json": {
       "model_id": "d64d9d85c1fe409d8dc1f3c002f599ee",
       "version_major": 2,
       "version_minor": 0
      },
      "text/plain": [
       "HBox(children=(FloatProgress(value=0.0, description='Downloading', max=299405.0, style=ProgressStyle(descripti…"
      ]
     },
     "metadata": {},
     "output_type": "display_data"
    },
    {
     "name": "stderr",
     "output_type": "stream",
     "text": [
      "storing https://huggingface.co/avichr/heBERT/resolve/main/vocab.txt in cache at /home/zsofya/.cache/huggingface/transformers/cb7266e534e7c64bf260c1a335e48a20b7457975ad22df9bbd809173c49ed2fb.f0efb6177184e111c4d638a82668d73655b8712cd79a39f3cb0eba6e902c50c3\n",
      "creating metadata file for /home/zsofya/.cache/huggingface/transformers/cb7266e534e7c64bf260c1a335e48a20b7457975ad22df9bbd809173c49ed2fb.f0efb6177184e111c4d638a82668d73655b8712cd79a39f3cb0eba6e902c50c3\n"
     ]
    },
    {
     "name": "stdout",
     "output_type": "stream",
     "text": [
      "\n"
     ]
    },
    {
     "name": "stderr",
     "output_type": "stream",
     "text": [
      "loading file https://huggingface.co/avichr/heBERT/resolve/main/vocab.txt from cache at /home/zsofya/.cache/huggingface/transformers/cb7266e534e7c64bf260c1a335e48a20b7457975ad22df9bbd809173c49ed2fb.f0efb6177184e111c4d638a82668d73655b8712cd79a39f3cb0eba6e902c50c3\n",
      "loading file https://huggingface.co/avichr/heBERT/resolve/main/tokenizer.json from cache at None\n",
      "loading file https://huggingface.co/avichr/heBERT/resolve/main/added_tokens.json from cache at None\n",
      "loading file https://huggingface.co/avichr/heBERT/resolve/main/special_tokens_map.json from cache at None\n",
      "loading file https://huggingface.co/avichr/heBERT/resolve/main/tokenizer_config.json from cache at None\n",
      "loading configuration file https://huggingface.co/avichr/heBERT/resolve/main/config.json from cache at /home/zsofya/.cache/huggingface/transformers/cb4b16a37cec0b40a3c45abc940ae898d7c64b5c398b0e133b2f95ef2e5249ec.a2a439172355c6bd857b49a6f69beb372666fc0b713450e02daf2279fa330541\n",
      "Model config BertConfig {\n",
      "  \"architectures\": [\n",
      "    \"BertForMaskedLM\"\n",
      "  ],\n",
      "  \"attention_probs_dropout_prob\": 0.1,\n",
      "  \"gradient_checkpointing\": false,\n",
      "  \"hidden_act\": \"gelu\",\n",
      "  \"hidden_dropout_prob\": 0.1,\n",
      "  \"hidden_size\": 768,\n",
      "  \"initializer_range\": 0.02,\n",
      "  \"intermediate_size\": 3072,\n",
      "  \"layer_norm_eps\": 1e-12,\n",
      "  \"max_position_embeddings\": 512,\n",
      "  \"model_type\": \"bert\",\n",
      "  \"num_attention_heads\": 12,\n",
      "  \"num_hidden_layers\": 12,\n",
      "  \"pad_token_id\": 0,\n",
      "  \"position_embedding_type\": \"absolute\",\n",
      "  \"total_flos\": 6997313242916978688,\n",
      "  \"transformers_version\": \"4.5.1\",\n",
      "  \"type_vocab_size\": 2,\n",
      "  \"use_cache\": true,\n",
      "  \"vocab_size\": 30522\n",
      "}\n",
      "\n",
      "https://huggingface.co/avichr/heBERT/resolve/main/pytorch_model.bin not found in cache or force_download set to True, downloading to /home/zsofya/.cache/huggingface/transformers/tmpsh7byr7x\n"
     ]
    },
    {
     "data": {
      "application/vnd.jupyter.widget-view+json": {
       "model_id": "7a77916e4bdc45d1a6e7a394fad2d9aa",
       "version_major": 2,
       "version_minor": 0
      },
      "text/plain": [
       "HBox(children=(FloatProgress(value=0.0, description='Downloading', max=438146887.0, style=ProgressStyle(descri…"
      ]
     },
     "metadata": {},
     "output_type": "display_data"
    },
    {
     "name": "stderr",
     "output_type": "stream",
     "text": [
      "storing https://huggingface.co/avichr/heBERT/resolve/main/pytorch_model.bin in cache at /home/zsofya/.cache/huggingface/transformers/1e304c7c878774638ac942cff3ef6d34e0b808a9a4f098b6c7494868974b1cad.8ee5deb1a5594d429e12816faf27db1bf7ed0e3ecf83e3e540b3951272c1fd1b\n",
      "creating metadata file for /home/zsofya/.cache/huggingface/transformers/1e304c7c878774638ac942cff3ef6d34e0b808a9a4f098b6c7494868974b1cad.8ee5deb1a5594d429e12816faf27db1bf7ed0e3ecf83e3e540b3951272c1fd1b\n",
      "loading weights file https://huggingface.co/avichr/heBERT/resolve/main/pytorch_model.bin from cache at /home/zsofya/.cache/huggingface/transformers/1e304c7c878774638ac942cff3ef6d34e0b808a9a4f098b6c7494868974b1cad.8ee5deb1a5594d429e12816faf27db1bf7ed0e3ecf83e3e540b3951272c1fd1b\n"
     ]
    },
    {
     "name": "stdout",
     "output_type": "stream",
     "text": [
      "\n"
     ]
    },
    {
     "name": "stderr",
     "output_type": "stream",
     "text": [
      "All model checkpoint weights were used when initializing BertModel.\n",
      "\n",
      "Some weights of BertModel were not initialized from the model checkpoint at avichr/heBERT and are newly initialized: ['bert.pooler.dense.weight', 'bert.pooler.dense.bias']\n",
      "You should probably TRAIN this model on a down-stream task to be able to use it for predictions and inference.\n",
      "loading configuration file https://huggingface.co/avichr/heBERT/resolve/main/config.json from cache at /home/zsofya/.cache/huggingface/transformers/cb4b16a37cec0b40a3c45abc940ae898d7c64b5c398b0e133b2f95ef2e5249ec.a2a439172355c6bd857b49a6f69beb372666fc0b713450e02daf2279fa330541\n",
      "Model config BertConfig {\n",
      "  \"architectures\": [\n",
      "    \"BertForMaskedLM\"\n",
      "  ],\n",
      "  \"attention_probs_dropout_prob\": 0.1,\n",
      "  \"gradient_checkpointing\": false,\n",
      "  \"hidden_act\": \"gelu\",\n",
      "  \"hidden_dropout_prob\": 0.1,\n",
      "  \"hidden_size\": 768,\n",
      "  \"initializer_range\": 0.02,\n",
      "  \"intermediate_size\": 3072,\n",
      "  \"layer_norm_eps\": 1e-12,\n",
      "  \"max_position_embeddings\": 512,\n",
      "  \"model_type\": \"bert\",\n",
      "  \"num_attention_heads\": 12,\n",
      "  \"num_hidden_layers\": 12,\n",
      "  \"pad_token_id\": 0,\n",
      "  \"position_embedding_type\": \"absolute\",\n",
      "  \"total_flos\": 6997313242916978688,\n",
      "  \"transformers_version\": \"4.5.1\",\n",
      "  \"type_vocab_size\": 2,\n",
      "  \"use_cache\": true,\n",
      "  \"vocab_size\": 30522\n",
      "}\n",
      "\n",
      "loading weights file https://huggingface.co/avichr/heBERT/resolve/main/pytorch_model.bin from cache at /home/zsofya/.cache/huggingface/transformers/1e304c7c878774638ac942cff3ef6d34e0b808a9a4f098b6c7494868974b1cad.8ee5deb1a5594d429e12816faf27db1bf7ed0e3ecf83e3e540b3951272c1fd1b\n",
      "All model checkpoint weights were used when initializing BertForMaskedLM.\n",
      "\n",
      "All the weights of BertForMaskedLM were initialized from the model checkpoint at avichr/heBERT.\n",
      "If your task is similar to the task the model of the checkpoint was trained on, you can already use BertForMaskedLM for predictions without further training.\n",
      "loading configuration file https://huggingface.co/avichr/heBERT/resolve/main/config.json from cache at /home/zsofya/.cache/huggingface/transformers/cb4b16a37cec0b40a3c45abc940ae898d7c64b5c398b0e133b2f95ef2e5249ec.a2a439172355c6bd857b49a6f69beb372666fc0b713450e02daf2279fa330541\n",
      "Model config BertConfig {\n",
      "  \"architectures\": [\n",
      "    \"BertForMaskedLM\"\n",
      "  ],\n",
      "  \"attention_probs_dropout_prob\": 0.1,\n",
      "  \"gradient_checkpointing\": false,\n",
      "  \"hidden_act\": \"gelu\",\n",
      "  \"hidden_dropout_prob\": 0.1,\n",
      "  \"hidden_size\": 768,\n",
      "  \"initializer_range\": 0.02,\n",
      "  \"intermediate_size\": 3072,\n",
      "  \"layer_norm_eps\": 1e-12,\n",
      "  \"max_position_embeddings\": 512,\n",
      "  \"model_type\": \"bert\",\n",
      "  \"num_attention_heads\": 12,\n",
      "  \"num_hidden_layers\": 12,\n",
      "  \"pad_token_id\": 0,\n",
      "  \"position_embedding_type\": \"absolute\",\n",
      "  \"total_flos\": 6997313242916978688,\n",
      "  \"transformers_version\": \"4.5.1\",\n",
      "  \"type_vocab_size\": 2,\n",
      "  \"use_cache\": true,\n",
      "  \"vocab_size\": 30522\n",
      "}\n",
      "\n",
      "loading file https://huggingface.co/avichr/heBERT/resolve/main/vocab.txt from cache at /home/zsofya/.cache/huggingface/transformers/cb7266e534e7c64bf260c1a335e48a20b7457975ad22df9bbd809173c49ed2fb.f0efb6177184e111c4d638a82668d73655b8712cd79a39f3cb0eba6e902c50c3\n",
      "loading file https://huggingface.co/avichr/heBERT/resolve/main/tokenizer.json from cache at None\n",
      "loading file https://huggingface.co/avichr/heBERT/resolve/main/added_tokens.json from cache at None\n",
      "loading file https://huggingface.co/avichr/heBERT/resolve/main/special_tokens_map.json from cache at None\n",
      "loading file https://huggingface.co/avichr/heBERT/resolve/main/tokenizer_config.json from cache at None\n",
      "Model card: {\n",
      "  \"caveats_and_recommendations\": {},\n",
      "  \"ethical_considerations\": {},\n",
      "  \"evaluation_data\": {},\n",
      "  \"factors\": {},\n",
      "  \"intended_use\": {},\n",
      "  \"metrics\": {},\n",
      "  \"model_details\": {},\n",
      "  \"quantitative_analyses\": {},\n",
      "  \"training_data\": {}\n",
      "}\n",
      "\n"
     ]
    },
    {
     "data": {
      "text/plain": [
       "[{'sequence': 'הקורונה לקחה את הילדים ולנו לא נשאר דבר.',\n",
       "  'score': 0.14047887921333313,\n",
       "  'token': 3096,\n",
       "  'token_str': 'הילדים'},\n",
       " {'sequence': 'הקורונה לקחה את הכסף ולנו לא נשאר דבר.',\n",
       "  'score': 0.045308664441108704,\n",
       "  'token': 5289,\n",
       "  'token_str': 'הכסף'},\n",
       " {'sequence': 'הקורונה לקחה את הכלב ולנו לא נשאר דבר.',\n",
       "  'score': 0.036235976964235306,\n",
       "  'token': 12737,\n",
       "  'token_str': 'הכלב'},\n",
       " {'sequence': 'הקורונה לקחה את הילדה ולנו לא נשאר דבר.',\n",
       "  'score': 0.03502150624990463,\n",
       "  'token': 12178,\n",
       "  'token_str': 'הילדה'},\n",
       " {'sequence': 'הקורונה לקחה את הרכב ולנו לא נשאר דבר.',\n",
       "  'score': 0.029970640316605568,\n",
       "  'token': 3806,\n",
       "  'token_str': 'הרכב'}]"
      ]
     },
     "execution_count": 100,
     "metadata": {},
     "output_type": "execute_result"
    }
   ],
   "source": [
    "from transformers import AutoTokenizer, AutoModel\n",
    "tokenizer = AutoTokenizer.from_pretrained(\"avichr/heBERT\")\n",
    "model = AutoModel.from_pretrained(\"avichr/heBERT\")\n",
    "\n",
    "from transformers import pipeline\n",
    "fill_mask = pipeline(\n",
    "    \"fill-mask\",\n",
    "    model=\"avichr/heBERT\",\n",
    "    tokenizer=\"avichr/heBERT\"\n",
    ")\n",
    "fill_mask(\"הקורונה לקחה את [MASK] ולנו לא נשאר דבר.\")"
   ]
  },
  {
   "cell_type": "code",
   "execution_count": 102,
   "metadata": {},
   "outputs": [
    {
     "data": {
      "text/plain": [
       "True"
      ]
     },
     "execution_count": 102,
     "metadata": {},
     "output_type": "execute_result"
    }
   ],
   "source": [
    "fill_mask.binary_output"
   ]
  },
  {
   "cell_type": "markdown",
   "metadata": {},
   "source": [
    "## Multilingual BERT"
   ]
  },
  {
   "cell_type": "code",
   "execution_count": 108,
   "metadata": {},
   "outputs": [
    {
     "name": "stderr",
     "output_type": "stream",
     "text": [
      "loading file https://huggingface.co/bert-base-multilingual-cased/resolve/main/vocab.txt from cache at /home/zsofya/.cache/huggingface/transformers/eff018e45de5364a8368df1f2df3461d506e2a111e9dd50af1fae061cd460ead.6c5b6600e968f4b5e08c86d8891ea99e51537fc2bf251435fb46922e8f7a7b29\n",
      "loading file https://huggingface.co/bert-base-multilingual-cased/resolve/main/added_tokens.json from cache at None\n",
      "loading file https://huggingface.co/bert-base-multilingual-cased/resolve/main/special_tokens_map.json from cache at None\n",
      "loading file https://huggingface.co/bert-base-multilingual-cased/resolve/main/tokenizer_config.json from cache at /home/zsofya/.cache/huggingface/transformers/f55e7a2ad4f8d0fff2733b3f79777e1e99247f2e4583703e92ce74453af8c235.ec5c189f89475aac7d8cbd243960a0655cfadc3d0474da8ff2ed0bf1699c2a5f\n",
      "loading file https://huggingface.co/bert-base-multilingual-cased/resolve/main/tokenizer.json from cache at /home/zsofya/.cache/huggingface/transformers/46880f3b0081fda494a4e15b05787692aa4c1e21e0ff2428ba8b14d4eda0784d.b33e51591f94f17c238ee9b1fac75b96ff2678cbaed6e108feadb3449d18dc24\n",
      "loading configuration file https://huggingface.co/bert-base-multilingual-cased/resolve/main/config.json from cache at /home/zsofya/.cache/huggingface/transformers/6c4a5d81a58c9791cdf76a09bce1b5abfb9cf958aebada51200f4515403e5d08.0fe59f3f4f1335dadeb4bce8b8146199d9083512b50d07323c1c319f96df450c\n",
      "Model config BertConfig {\n",
      "  \"architectures\": [\n",
      "    \"BertForMaskedLM\"\n",
      "  ],\n",
      "  \"attention_probs_dropout_prob\": 0.1,\n",
      "  \"directionality\": \"bidi\",\n",
      "  \"gradient_checkpointing\": false,\n",
      "  \"hidden_act\": \"gelu\",\n",
      "  \"hidden_dropout_prob\": 0.1,\n",
      "  \"hidden_size\": 768,\n",
      "  \"initializer_range\": 0.02,\n",
      "  \"intermediate_size\": 3072,\n",
      "  \"layer_norm_eps\": 1e-12,\n",
      "  \"max_position_embeddings\": 512,\n",
      "  \"model_type\": \"bert\",\n",
      "  \"num_attention_heads\": 12,\n",
      "  \"num_hidden_layers\": 12,\n",
      "  \"pad_token_id\": 0,\n",
      "  \"pooler_fc_size\": 768,\n",
      "  \"pooler_num_attention_heads\": 12,\n",
      "  \"pooler_num_fc_layers\": 3,\n",
      "  \"pooler_size_per_head\": 128,\n",
      "  \"pooler_type\": \"first_token_transform\",\n",
      "  \"position_embedding_type\": \"absolute\",\n",
      "  \"transformers_version\": \"4.5.1\",\n",
      "  \"type_vocab_size\": 2,\n",
      "  \"use_cache\": true,\n",
      "  \"vocab_size\": 119547\n",
      "}\n",
      "\n",
      "loading weights file https://huggingface.co/bert-base-multilingual-cased/resolve/main/tf_model.h5 from cache at /home/zsofya/.cache/huggingface/transformers/879ba3c37de5c396bee982a9383f64cf08c9cc966d66742254a3904e6719357f.53d9b251a2a9d5d86139b64555b5e8deb0a20fc53f8a5ee958ddbb4506125a0b.h5\n",
      "Some layers from the model checkpoint at bert-base-multilingual-cased were not used when initializing TFBertModel: ['nsp___cls', 'mlm___cls']\n",
      "- This IS expected if you are initializing TFBertModel from the checkpoint of a model trained on another task or with another architecture (e.g. initializing a BertForSequenceClassification model from a BertForPreTraining model).\n",
      "- This IS NOT expected if you are initializing TFBertModel from the checkpoint of a model that you expect to be exactly identical (initializing a BertForSequenceClassification model from a BertForSequenceClassification model).\n",
      "All the layers of TFBertModel were initialized from the model checkpoint at bert-base-multilingual-cased.\n",
      "If your task is similar to the task the model of the checkpoint was trained on, you can already use TFBertModel for predictions without further training.\n",
      "Token indices sequence length is longer than the specified maximum sequence length for this model (651 > 512). Running this sequence through the model will result in indexing errors\n"
     ]
    },
    {
     "ename": "ValueError",
     "evalue": "Unable to create tensor, you should probably activate truncation and/or padding with 'padding=True' 'truncation=True' to have batched tensors with the same length.",
     "output_type": "error",
     "traceback": [
      "\u001b[0;31m---------------------------------------------------------------------------\u001b[0m",
      "\u001b[0;31mValueError\u001b[0m                                Traceback (most recent call last)",
      "\u001b[0;32m~/jupyter_git/jup-nb-generic/lib/python3.8/site-packages/transformers/tokenization_utils_base.py\u001b[0m in \u001b[0;36mconvert_to_tensors\u001b[0;34m(self, tensor_type, prepend_batch_axis)\u001b[0m\n\u001b[1;32m    697\u001b[0m                 \u001b[0;32mif\u001b[0m \u001b[0;32mnot\u001b[0m \u001b[0mis_tensor\u001b[0m\u001b[0;34m(\u001b[0m\u001b[0mvalue\u001b[0m\u001b[0;34m)\u001b[0m\u001b[0;34m:\u001b[0m\u001b[0;34m\u001b[0m\u001b[0;34m\u001b[0m\u001b[0m\n\u001b[0;32m--> 698\u001b[0;31m                     \u001b[0mtensor\u001b[0m \u001b[0;34m=\u001b[0m \u001b[0mas_tensor\u001b[0m\u001b[0;34m(\u001b[0m\u001b[0mvalue\u001b[0m\u001b[0;34m)\u001b[0m\u001b[0;34m\u001b[0m\u001b[0;34m\u001b[0m\u001b[0m\n\u001b[0m\u001b[1;32m    699\u001b[0m \u001b[0;34m\u001b[0m\u001b[0m\n",
      "\u001b[0;32m~/jupyter_git/jup-nb-generic/lib/python3.8/site-packages/tensorflow/python/framework/constant_op.py\u001b[0m in \u001b[0;36mconstant\u001b[0;34m(value, dtype, shape, name)\u001b[0m\n\u001b[1;32m    263\u001b[0m   \"\"\"\n\u001b[0;32m--> 264\u001b[0;31m   return _constant_impl(value, dtype, shape, name, verify_shape=False,\n\u001b[0m\u001b[1;32m    265\u001b[0m                         allow_broadcast=True)\n",
      "\u001b[0;32m~/jupyter_git/jup-nb-generic/lib/python3.8/site-packages/tensorflow/python/framework/constant_op.py\u001b[0m in \u001b[0;36m_constant_impl\u001b[0;34m(value, dtype, shape, name, verify_shape, allow_broadcast)\u001b[0m\n\u001b[1;32m    275\u001b[0m         \u001b[0;32mreturn\u001b[0m \u001b[0m_constant_eager_impl\u001b[0m\u001b[0;34m(\u001b[0m\u001b[0mctx\u001b[0m\u001b[0;34m,\u001b[0m \u001b[0mvalue\u001b[0m\u001b[0;34m,\u001b[0m \u001b[0mdtype\u001b[0m\u001b[0;34m,\u001b[0m \u001b[0mshape\u001b[0m\u001b[0;34m,\u001b[0m \u001b[0mverify_shape\u001b[0m\u001b[0;34m)\u001b[0m\u001b[0;34m\u001b[0m\u001b[0;34m\u001b[0m\u001b[0m\n\u001b[0;32m--> 276\u001b[0;31m     \u001b[0;32mreturn\u001b[0m \u001b[0m_constant_eager_impl\u001b[0m\u001b[0;34m(\u001b[0m\u001b[0mctx\u001b[0m\u001b[0;34m,\u001b[0m \u001b[0mvalue\u001b[0m\u001b[0;34m,\u001b[0m \u001b[0mdtype\u001b[0m\u001b[0;34m,\u001b[0m \u001b[0mshape\u001b[0m\u001b[0;34m,\u001b[0m \u001b[0mverify_shape\u001b[0m\u001b[0;34m)\u001b[0m\u001b[0;34m\u001b[0m\u001b[0;34m\u001b[0m\u001b[0m\n\u001b[0m\u001b[1;32m    277\u001b[0m \u001b[0;34m\u001b[0m\u001b[0m\n",
      "\u001b[0;32m~/jupyter_git/jup-nb-generic/lib/python3.8/site-packages/tensorflow/python/framework/constant_op.py\u001b[0m in \u001b[0;36m_constant_eager_impl\u001b[0;34m(ctx, value, dtype, shape, verify_shape)\u001b[0m\n\u001b[1;32m    300\u001b[0m   \u001b[0;34m\"\"\"Implementation of eager constant.\"\"\"\u001b[0m\u001b[0;34m\u001b[0m\u001b[0;34m\u001b[0m\u001b[0m\n\u001b[0;32m--> 301\u001b[0;31m   \u001b[0mt\u001b[0m \u001b[0;34m=\u001b[0m \u001b[0mconvert_to_eager_tensor\u001b[0m\u001b[0;34m(\u001b[0m\u001b[0mvalue\u001b[0m\u001b[0;34m,\u001b[0m \u001b[0mctx\u001b[0m\u001b[0;34m,\u001b[0m \u001b[0mdtype\u001b[0m\u001b[0;34m)\u001b[0m\u001b[0;34m\u001b[0m\u001b[0;34m\u001b[0m\u001b[0m\n\u001b[0m\u001b[1;32m    302\u001b[0m   \u001b[0;32mif\u001b[0m \u001b[0mshape\u001b[0m \u001b[0;32mis\u001b[0m \u001b[0;32mNone\u001b[0m\u001b[0;34m:\u001b[0m\u001b[0;34m\u001b[0m\u001b[0;34m\u001b[0m\u001b[0m\n",
      "\u001b[0;32m~/jupyter_git/jup-nb-generic/lib/python3.8/site-packages/tensorflow/python/framework/constant_op.py\u001b[0m in \u001b[0;36mconvert_to_eager_tensor\u001b[0;34m(value, ctx, dtype)\u001b[0m\n\u001b[1;32m     97\u001b[0m   \u001b[0mctx\u001b[0m\u001b[0;34m.\u001b[0m\u001b[0mensure_initialized\u001b[0m\u001b[0;34m(\u001b[0m\u001b[0;34m)\u001b[0m\u001b[0;34m\u001b[0m\u001b[0;34m\u001b[0m\u001b[0m\n\u001b[0;32m---> 98\u001b[0;31m   \u001b[0;32mreturn\u001b[0m \u001b[0mops\u001b[0m\u001b[0;34m.\u001b[0m\u001b[0mEagerTensor\u001b[0m\u001b[0;34m(\u001b[0m\u001b[0mvalue\u001b[0m\u001b[0;34m,\u001b[0m \u001b[0mctx\u001b[0m\u001b[0;34m.\u001b[0m\u001b[0mdevice_name\u001b[0m\u001b[0;34m,\u001b[0m \u001b[0mdtype\u001b[0m\u001b[0;34m)\u001b[0m\u001b[0;34m\u001b[0m\u001b[0;34m\u001b[0m\u001b[0m\n\u001b[0m\u001b[1;32m     99\u001b[0m \u001b[0;34m\u001b[0m\u001b[0m\n",
      "\u001b[0;31mValueError\u001b[0m: Can't convert non-rectangular Python sequence to Tensor.",
      "\nDuring handling of the above exception, another exception occurred:\n",
      "\u001b[0;31mValueError\u001b[0m                                Traceback (most recent call last)",
      "\u001b[0;32m<ipython-input-108-6e6bf1fba5f5>\u001b[0m in \u001b[0;36m<module>\u001b[0;34m\u001b[0m\n\u001b[1;32m      3\u001b[0m \u001b[0mmodel\u001b[0m \u001b[0;34m=\u001b[0m \u001b[0mTFBertModel\u001b[0m\u001b[0;34m.\u001b[0m\u001b[0mfrom_pretrained\u001b[0m\u001b[0;34m(\u001b[0m\u001b[0;34m\"bert-base-multilingual-cased\"\u001b[0m\u001b[0;34m)\u001b[0m\u001b[0;34m\u001b[0m\u001b[0;34m\u001b[0m\u001b[0m\n\u001b[1;32m      4\u001b[0m \u001b[0mtext\u001b[0m \u001b[0;34m=\u001b[0m \u001b[0mtext_train\u001b[0m\u001b[0;34m\u001b[0m\u001b[0;34m\u001b[0m\u001b[0m\n\u001b[0;32m----> 5\u001b[0;31m \u001b[0mencoded_input\u001b[0m \u001b[0;34m=\u001b[0m \u001b[0mtokenizer\u001b[0m\u001b[0;34m(\u001b[0m\u001b[0mtext\u001b[0m\u001b[0;34m,\u001b[0m \u001b[0mreturn_tensors\u001b[0m\u001b[0;34m=\u001b[0m\u001b[0;34m'tf'\u001b[0m\u001b[0;34m)\u001b[0m\u001b[0;34m\u001b[0m\u001b[0;34m\u001b[0m\u001b[0m\n\u001b[0m\u001b[1;32m      6\u001b[0m \u001b[0moutput\u001b[0m \u001b[0;34m=\u001b[0m \u001b[0mmodel\u001b[0m\u001b[0;34m(\u001b[0m\u001b[0mencoded_input\u001b[0m\u001b[0;34m)\u001b[0m\u001b[0;34m\u001b[0m\u001b[0;34m\u001b[0m\u001b[0m\n",
      "\u001b[0;32m~/jupyter_git/jup-nb-generic/lib/python3.8/site-packages/transformers/tokenization_utils_base.py\u001b[0m in \u001b[0;36m__call__\u001b[0;34m(self, text, text_pair, add_special_tokens, padding, truncation, max_length, stride, is_split_into_words, pad_to_multiple_of, return_tensors, return_token_type_ids, return_attention_mask, return_overflowing_tokens, return_special_tokens_mask, return_offsets_mapping, return_length, verbose, **kwargs)\u001b[0m\n\u001b[1;32m   2252\u001b[0m         \u001b[0;32mif\u001b[0m \u001b[0mis_batched\u001b[0m\u001b[0;34m:\u001b[0m\u001b[0;34m\u001b[0m\u001b[0;34m\u001b[0m\u001b[0m\n\u001b[1;32m   2253\u001b[0m             \u001b[0mbatch_text_or_text_pairs\u001b[0m \u001b[0;34m=\u001b[0m \u001b[0mlist\u001b[0m\u001b[0;34m(\u001b[0m\u001b[0mzip\u001b[0m\u001b[0;34m(\u001b[0m\u001b[0mtext\u001b[0m\u001b[0;34m,\u001b[0m \u001b[0mtext_pair\u001b[0m\u001b[0;34m)\u001b[0m\u001b[0;34m)\u001b[0m \u001b[0;32mif\u001b[0m \u001b[0mtext_pair\u001b[0m \u001b[0;32mis\u001b[0m \u001b[0;32mnot\u001b[0m \u001b[0;32mNone\u001b[0m \u001b[0;32melse\u001b[0m \u001b[0mtext\u001b[0m\u001b[0;34m\u001b[0m\u001b[0;34m\u001b[0m\u001b[0m\n\u001b[0;32m-> 2254\u001b[0;31m             return self.batch_encode_plus(\n\u001b[0m\u001b[1;32m   2255\u001b[0m                 \u001b[0mbatch_text_or_text_pairs\u001b[0m\u001b[0;34m=\u001b[0m\u001b[0mbatch_text_or_text_pairs\u001b[0m\u001b[0;34m,\u001b[0m\u001b[0;34m\u001b[0m\u001b[0;34m\u001b[0m\u001b[0m\n\u001b[1;32m   2256\u001b[0m                 \u001b[0madd_special_tokens\u001b[0m\u001b[0;34m=\u001b[0m\u001b[0madd_special_tokens\u001b[0m\u001b[0;34m,\u001b[0m\u001b[0;34m\u001b[0m\u001b[0;34m\u001b[0m\u001b[0m\n",
      "\u001b[0;32m~/jupyter_git/jup-nb-generic/lib/python3.8/site-packages/transformers/tokenization_utils_base.py\u001b[0m in \u001b[0;36mbatch_encode_plus\u001b[0;34m(self, batch_text_or_text_pairs, add_special_tokens, padding, truncation, max_length, stride, is_split_into_words, pad_to_multiple_of, return_tensors, return_token_type_ids, return_attention_mask, return_overflowing_tokens, return_special_tokens_mask, return_offsets_mapping, return_length, verbose, **kwargs)\u001b[0m\n\u001b[1;32m   2437\u001b[0m         )\n\u001b[1;32m   2438\u001b[0m \u001b[0;34m\u001b[0m\u001b[0m\n\u001b[0;32m-> 2439\u001b[0;31m         return self._batch_encode_plus(\n\u001b[0m\u001b[1;32m   2440\u001b[0m             \u001b[0mbatch_text_or_text_pairs\u001b[0m\u001b[0;34m=\u001b[0m\u001b[0mbatch_text_or_text_pairs\u001b[0m\u001b[0;34m,\u001b[0m\u001b[0;34m\u001b[0m\u001b[0;34m\u001b[0m\u001b[0m\n\u001b[1;32m   2441\u001b[0m             \u001b[0madd_special_tokens\u001b[0m\u001b[0;34m=\u001b[0m\u001b[0madd_special_tokens\u001b[0m\u001b[0;34m,\u001b[0m\u001b[0;34m\u001b[0m\u001b[0;34m\u001b[0m\u001b[0m\n",
      "\u001b[0;32m~/jupyter_git/jup-nb-generic/lib/python3.8/site-packages/transformers/tokenization_utils.py\u001b[0m in \u001b[0;36m_batch_encode_plus\u001b[0;34m(self, batch_text_or_text_pairs, add_special_tokens, padding_strategy, truncation_strategy, max_length, stride, is_split_into_words, pad_to_multiple_of, return_tensors, return_token_type_ids, return_attention_mask, return_overflowing_tokens, return_special_tokens_mask, return_offsets_mapping, return_length, verbose, **kwargs)\u001b[0m\n\u001b[1;32m    547\u001b[0m             \u001b[0minput_ids\u001b[0m\u001b[0;34m.\u001b[0m\u001b[0mappend\u001b[0m\u001b[0;34m(\u001b[0m\u001b[0;34m(\u001b[0m\u001b[0mfirst_ids\u001b[0m\u001b[0;34m,\u001b[0m \u001b[0msecond_ids\u001b[0m\u001b[0;34m)\u001b[0m\u001b[0;34m)\u001b[0m\u001b[0;34m\u001b[0m\u001b[0;34m\u001b[0m\u001b[0m\n\u001b[1;32m    548\u001b[0m \u001b[0;34m\u001b[0m\u001b[0m\n\u001b[0;32m--> 549\u001b[0;31m         batch_outputs = self._batch_prepare_for_model(\n\u001b[0m\u001b[1;32m    550\u001b[0m             \u001b[0minput_ids\u001b[0m\u001b[0;34m,\u001b[0m\u001b[0;34m\u001b[0m\u001b[0;34m\u001b[0m\u001b[0m\n\u001b[1;32m    551\u001b[0m             \u001b[0madd_special_tokens\u001b[0m\u001b[0;34m=\u001b[0m\u001b[0madd_special_tokens\u001b[0m\u001b[0;34m,\u001b[0m\u001b[0;34m\u001b[0m\u001b[0;34m\u001b[0m\u001b[0m\n",
      "\u001b[0;32m~/jupyter_git/jup-nb-generic/lib/python3.8/site-packages/transformers/tokenization_utils.py\u001b[0m in \u001b[0;36m_batch_prepare_for_model\u001b[0;34m(self, batch_ids_pairs, add_special_tokens, padding_strategy, truncation_strategy, max_length, stride, pad_to_multiple_of, return_tensors, return_token_type_ids, return_attention_mask, return_overflowing_tokens, return_special_tokens_mask, return_length, verbose)\u001b[0m\n\u001b[1;32m    627\u001b[0m         )\n\u001b[1;32m    628\u001b[0m \u001b[0;34m\u001b[0m\u001b[0m\n\u001b[0;32m--> 629\u001b[0;31m         \u001b[0mbatch_outputs\u001b[0m \u001b[0;34m=\u001b[0m \u001b[0mBatchEncoding\u001b[0m\u001b[0;34m(\u001b[0m\u001b[0mbatch_outputs\u001b[0m\u001b[0;34m,\u001b[0m \u001b[0mtensor_type\u001b[0m\u001b[0;34m=\u001b[0m\u001b[0mreturn_tensors\u001b[0m\u001b[0;34m)\u001b[0m\u001b[0;34m\u001b[0m\u001b[0;34m\u001b[0m\u001b[0m\n\u001b[0m\u001b[1;32m    630\u001b[0m \u001b[0;34m\u001b[0m\u001b[0m\n\u001b[1;32m    631\u001b[0m         \u001b[0;32mreturn\u001b[0m \u001b[0mbatch_outputs\u001b[0m\u001b[0;34m\u001b[0m\u001b[0;34m\u001b[0m\u001b[0m\n",
      "\u001b[0;32m~/jupyter_git/jup-nb-generic/lib/python3.8/site-packages/transformers/tokenization_utils_base.py\u001b[0m in \u001b[0;36m__init__\u001b[0;34m(self, data, encoding, tensor_type, prepend_batch_axis, n_sequences)\u001b[0m\n\u001b[1;32m    201\u001b[0m         \u001b[0mself\u001b[0m\u001b[0;34m.\u001b[0m\u001b[0m_n_sequences\u001b[0m \u001b[0;34m=\u001b[0m \u001b[0mn_sequences\u001b[0m\u001b[0;34m\u001b[0m\u001b[0;34m\u001b[0m\u001b[0m\n\u001b[1;32m    202\u001b[0m \u001b[0;34m\u001b[0m\u001b[0m\n\u001b[0;32m--> 203\u001b[0;31m         \u001b[0mself\u001b[0m\u001b[0;34m.\u001b[0m\u001b[0mconvert_to_tensors\u001b[0m\u001b[0;34m(\u001b[0m\u001b[0mtensor_type\u001b[0m\u001b[0;34m=\u001b[0m\u001b[0mtensor_type\u001b[0m\u001b[0;34m,\u001b[0m \u001b[0mprepend_batch_axis\u001b[0m\u001b[0;34m=\u001b[0m\u001b[0mprepend_batch_axis\u001b[0m\u001b[0;34m)\u001b[0m\u001b[0;34m\u001b[0m\u001b[0;34m\u001b[0m\u001b[0m\n\u001b[0m\u001b[1;32m    204\u001b[0m \u001b[0;34m\u001b[0m\u001b[0m\n\u001b[1;32m    205\u001b[0m     \u001b[0;34m@\u001b[0m\u001b[0mproperty\u001b[0m\u001b[0;34m\u001b[0m\u001b[0;34m\u001b[0m\u001b[0m\n",
      "\u001b[0;32m~/jupyter_git/jup-nb-generic/lib/python3.8/site-packages/transformers/tokenization_utils_base.py\u001b[0m in \u001b[0;36mconvert_to_tensors\u001b[0;34m(self, tensor_type, prepend_batch_axis)\u001b[0m\n\u001b[1;32m    712\u001b[0m                         \u001b[0;34m\"Please see if a fast version of this tokenizer is available to have this feature available.\"\u001b[0m\u001b[0;34m\u001b[0m\u001b[0;34m\u001b[0m\u001b[0m\n\u001b[1;32m    713\u001b[0m                     )\n\u001b[0;32m--> 714\u001b[0;31m                 raise ValueError(\n\u001b[0m\u001b[1;32m    715\u001b[0m                     \u001b[0;34m\"Unable to create tensor, you should probably activate truncation and/or padding \"\u001b[0m\u001b[0;34m\u001b[0m\u001b[0;34m\u001b[0m\u001b[0m\n\u001b[1;32m    716\u001b[0m                     \u001b[0;34m\"with 'padding=True' 'truncation=True' to have batched tensors with the same length.\"\u001b[0m\u001b[0;34m\u001b[0m\u001b[0;34m\u001b[0m\u001b[0m\n",
      "\u001b[0;31mValueError\u001b[0m: Unable to create tensor, you should probably activate truncation and/or padding with 'padding=True' 'truncation=True' to have batched tensors with the same length."
     ]
    }
   ],
   "source": [
    "from transformers import BertTokenizer, TFBertModel\n",
    "tokenizer = BertTokenizer.from_pretrained('bert-base-multilingual-cased',do_lower_case=False)\n",
    "model = TFBertModel.from_pretrained(\"bert-base-multilingual-cased\")\n",
    "text = text_train\n",
    "encoded_input = tokenizer(text, return_tensors='tf')\n",
    "output = model(encoded_input)"
   ]
  },
  {
   "cell_type": "code",
   "execution_count": 109,
   "metadata": {},
   "outputs": [
    {
     "data": {
      "text/plain": [
       "TFBaseModelOutputWithPooling(last_hidden_state=<tf.Tensor: shape=(1, 13, 768), dtype=float32, numpy=\n",
       "array([[[ 0.25244215, -0.5320835 ,  0.44963527, ...,  1.1428413 ,\n",
       "         -0.6238025 , -0.07453346],\n",
       "        [ 0.53735614,  0.07007863,  0.4879638 , ...,  1.0800395 ,\n",
       "         -0.5559527 , -0.55644256],\n",
       "        [ 0.46855673, -0.32863307,  0.47817093, ...,  1.1656258 ,\n",
       "         -0.738888  , -0.3920164 ],\n",
       "        ...,\n",
       "        [ 0.48219433, -1.0821993 ,  0.9026375 , ...,  1.8029274 ,\n",
       "         -1.1342994 , -0.10343467],\n",
       "        [ 0.1282803 , -0.6550468 ,  0.37226933, ...,  0.78174746,\n",
       "         -0.91728026, -0.04007175],\n",
       "        [ 0.16448626, -0.523882  ,  0.663782  , ...,  0.7964229 ,\n",
       "         -0.7326061 , -0.26415053]]], dtype=float32)>, pooler_output=<tf.Tensor: shape=(1, 768), dtype=float32, numpy=\n",
       "array([[ 0.34790185, -0.0466382 ,  0.45640588, -0.24642853, -0.05631405,\n",
       "         0.58653045,  0.48069143,  0.24746317, -0.5662965 ,  0.42599708,\n",
       "         0.01355305, -0.33559093, -0.32805884,  0.03906054,  0.38736522,\n",
       "        -0.40765545,  0.81105506,  0.21711044,  0.4522889 , -0.51842666,\n",
       "        -0.99976426, -0.54647374, -0.14721578, -0.52780926, -0.58584076,\n",
       "         0.3389895 , -0.41601267,  0.39913127,  0.4012282 , -0.4297543 ,\n",
       "         0.16175626, -0.99979174,  0.7481411 ,  0.79023427,  0.33251515,\n",
       "        -0.4036682 ,  0.13476433,  0.23735608,  0.25542238, -0.16032183,\n",
       "        -0.32489118,  0.09106364, -0.4920323 ,  0.09657945, -0.0886034 ,\n",
       "        -0.4323731 , -0.3835198 ,  0.3971525 , -0.5554394 ,  0.21687071,\n",
       "         0.11482582,  0.32597688,  0.49428558,  0.43520084,  0.35291752,\n",
       "         0.20356944,  0.39091533,  0.1889331 ,  0.53001225, -0.46481448,\n",
       "        -0.05214421,  0.57512397,  0.25258154, -0.06119284, -0.22189248,\n",
       "        -0.4393684 ,  0.03560859, -0.33284009,  0.5684946 , -0.3036286 ,\n",
       "        -0.25943035, -0.45302776, -0.27131265,  0.10086698,  0.23006348,\n",
       "        -0.33357364,  0.5517238 ,  0.40132424,  0.18307948, -0.31376165,\n",
       "        -0.5992186 , -0.56757045, -0.5335672 ,  0.33557785, -0.2989599 ,\n",
       "         0.51365477,  0.27413458, -0.50475055,  0.21173483, -0.00150979,\n",
       "         0.3308995 ,  0.6298418 , -0.2694609 ,  0.23460779, -0.3508594 ,\n",
       "        -0.47893113, -0.8908877 , -0.36981517, -0.49847016, -0.5265538 ,\n",
       "        -0.42902303,  0.1719888 , -0.27862465, -0.3678196 , -0.15284549,\n",
       "        -0.52406806,  0.32215425,  0.37904072, -0.3511182 ,  0.4392901 ,\n",
       "         0.32998058, -0.5506364 , -0.2683679 ,  0.22926222, -0.4589872 ,\n",
       "         0.9924469 , -0.5685959 ,  0.5285825 ,  0.07075614, -0.21808574,\n",
       "        -0.69418144,  0.999842  ,  0.14166133, -0.21289785,  0.27319404,\n",
       "         0.36536124, -0.62682873,  0.28037977,  0.46811432,  0.48059088,\n",
       "         0.46273488, -0.23916373, -0.37617826, -0.4162127 , -0.92079437,\n",
       "        -0.33475098, -0.5620242 ,  0.27463174, -0.5168358 , -0.4194381 ,\n",
       "         0.24014583,  0.39747393,  0.26700887, -0.16960782, -0.32779646,\n",
       "        -0.09070747,  0.5336759 , -0.3277408 ,  0.99981683,  0.69984293,\n",
       "        -0.37948322, -0.05335705,  0.7169691 , -0.748711  , -0.3792129 ,\n",
       "        -0.32387796, -0.33059037, -0.70236814,  0.3410466 ,  0.32977557,\n",
       "         0.30159977, -0.39092568, -0.5635982 , -0.39416453,  0.2903228 ,\n",
       "        -0.74455535, -0.35516   ,  0.56897956,  0.4293113 ,  0.46148562,\n",
       "        -0.2927158 ,  0.54565185,  0.41783863, -0.25420675, -0.32195258,\n",
       "         0.5368281 ,  0.37994087, -0.20395626, -0.4457777 , -0.10647935,\n",
       "         0.33408904, -0.30187023, -0.64915985,  0.14365943, -0.22941342,\n",
       "        -0.58674437,  0.27583587, -0.30710086, -0.07542495,  0.21406229,\n",
       "        -0.50196475,  0.31250778, -0.5099545 ,  0.43300545,  0.56384   ,\n",
       "         0.21543035, -0.4453507 ,  0.3568005 ,  0.5824692 ,  0.5002    ,\n",
       "         0.47829258,  0.1943945 ,  0.38536268,  0.33426017, -0.45308316,\n",
       "        -0.8202009 ,  0.5793584 ,  0.36210358,  0.4883635 , -0.2073792 ,\n",
       "        -0.5436535 , -0.56436193,  0.7088306 ,  0.43590698, -0.32763156,\n",
       "         0.54283184,  0.4144848 , -0.4657855 , -0.36873507,  0.3061745 ,\n",
       "        -0.18959226, -0.5597297 , -0.50040245, -0.4565823 , -0.11570244,\n",
       "         0.47463897,  0.26908204,  0.1165277 ,  0.18059543, -0.27328488,\n",
       "        -0.21132095, -0.45319122,  0.2551605 ,  0.2581015 , -0.18873414,\n",
       "         0.9240046 , -0.341975  ,  0.17553626, -0.5977392 , -0.24857518,\n",
       "         0.36910498, -0.20933406,  0.33883986,  0.9882119 ,  0.26146528,\n",
       "        -0.42480537,  0.16006246,  0.21861683,  0.27828047, -0.36229193,\n",
       "         0.1934268 , -0.74310595,  0.87178004,  0.5191647 ,  0.31464216,\n",
       "        -0.9997814 ,  0.32821548,  0.16937101,  0.26928556,  0.35275596,\n",
       "         0.37180817,  0.23862514,  0.35054728,  0.9561054 , -0.61809176,\n",
       "        -0.5636579 , -0.6078273 , -0.3899604 , -0.60182774, -0.35259816,\n",
       "        -0.42275953, -0.3808735 , -0.3001758 , -0.20343505, -0.25917354,\n",
       "         0.37068972,  0.3968855 , -0.9981129 ,  0.9229667 ,  0.23816869,\n",
       "        -0.23773836, -0.0135587 ,  0.47444862, -0.99976355,  0.4306886 ,\n",
       "        -0.24857341, -0.4818944 ,  0.4280045 , -0.67345953, -0.34291765,\n",
       "         0.28288355,  0.26885006,  0.45918086,  0.34480104,  0.14269891,\n",
       "         0.5621699 , -0.15475236,  0.07996391,  0.23959821, -0.2550754 ,\n",
       "         0.70241714, -0.06373265,  0.24831167,  0.49015692, -0.060355  ,\n",
       "         0.48240405, -0.43245968,  0.5295552 ,  0.5423188 ,  0.15485741,\n",
       "         0.23830378, -0.3533747 ,  0.4391645 , -0.8412562 ,  0.4953547 ,\n",
       "        -0.0289141 , -0.19622025, -0.02013838,  0.3012248 , -0.2925336 ,\n",
       "        -0.22648567,  0.26618746, -0.6172163 ,  0.99979013,  0.4016344 ,\n",
       "        -0.4315915 , -0.62765294,  0.5665577 ,  0.7398103 , -0.32634243,\n",
       "        -0.8885785 , -0.20339076,  0.6460047 ,  0.4737301 ,  0.23907118,\n",
       "         0.3137273 ,  0.2393759 ,  0.266264  , -0.17215437, -0.23664187,\n",
       "        -0.07623564, -0.5350866 ,  0.4793269 , -0.26691857, -0.36551896,\n",
       "         0.4261488 , -0.4167058 , -0.35334632, -0.9110324 ,  0.52367574,\n",
       "         0.47894326,  0.26681688,  0.22147729,  0.29636312, -0.3992641 ,\n",
       "         0.7121495 ,  0.6147698 , -0.34703496, -0.2579253 , -0.3196536 ,\n",
       "        -0.33021238,  0.07031825, -0.32357138, -0.37572947,  0.30130094,\n",
       "        -0.76734847,  0.20041475, -0.17670615, -0.32362446, -0.47280788,\n",
       "         0.52177894, -0.9997872 , -0.19712397,  0.2426485 , -0.3627471 ,\n",
       "         0.529115  , -0.4951762 , -0.15788253,  0.1850688 ,  0.32419893,\n",
       "         0.04531419,  0.4089919 , -0.4823972 ,  0.32716507, -0.2402204 ,\n",
       "         0.36273482,  0.8408765 ,  0.7795973 ,  0.23173971, -0.41032758,\n",
       "         0.3347386 , -0.53521156, -0.12325476,  0.5096787 ,  0.43533942,\n",
       "        -0.13520198,  0.36057767,  0.43458644,  0.35636035, -0.3666635 ,\n",
       "         0.44976956, -0.26809713, -0.3670639 ,  0.3423608 ,  0.12757269,\n",
       "        -0.28108937, -0.5381993 ,  0.29238653, -0.5710617 ,  0.4475063 ,\n",
       "         0.33894327,  0.57663643,  0.32969376,  0.41183853, -0.3787705 ,\n",
       "        -0.32897764, -0.18657456, -0.18944062, -0.5204864 , -0.50038826,\n",
       "        -0.35909814,  0.9998215 ,  0.41380438,  0.44355622, -0.5978199 ,\n",
       "         0.47522527,  0.29026508, -0.35272813,  0.35843182,  0.5775148 ,\n",
       "         0.25430998, -0.01401582,  0.28465346,  0.46114078,  0.3657891 ,\n",
       "         0.515367  ,  0.533098  ,  0.6122618 , -0.4100807 ,  0.735296  ,\n",
       "        -0.30315802, -0.5570549 , -0.99836284,  0.39078328,  0.66324264,\n",
       "        -0.4190059 , -0.87053585,  0.37181965, -0.35024697,  0.27857366,\n",
       "        -0.45568538,  0.01308919,  0.375295  , -0.30598748,  0.57645154,\n",
       "        -0.20557348,  0.99974173, -0.23360789,  0.38720497,  0.46407732,\n",
       "         0.37067896, -0.27641714, -0.473081  , -0.42894316,  0.40558767,\n",
       "        -0.42795447,  0.15172084, -0.9719679 ,  0.4525774 ,  0.0424028 ,\n",
       "         0.3429806 , -0.22539109,  0.57881933, -0.5042512 ,  0.495058  ,\n",
       "        -0.15967928, -0.4304959 , -0.38213664,  0.4349625 , -0.57957804,\n",
       "         0.53889644, -0.3023781 ,  0.12030089, -0.41686198,  0.3182363 ,\n",
       "        -0.12580836,  0.5587679 , -0.23459491,  0.06801748, -0.30675825,\n",
       "        -0.30929857, -0.48312634,  0.11243177, -0.33206195,  0.999792  ,\n",
       "        -0.11962248,  0.51761204, -0.40215233,  0.48178524, -0.46519154,\n",
       "         0.7184825 ,  0.77913547, -0.26033333,  0.456415  ,  0.4134377 ,\n",
       "        -0.74923533,  0.49278015, -0.14869994, -0.8899201 , -0.03489191,\n",
       "         0.9843483 ,  0.22870493,  0.2933128 ,  0.70560116,  0.444504  ,\n",
       "         0.54158884, -0.36068857,  0.2752795 ,  0.9174599 ,  0.25764185,\n",
       "         0.20427293,  0.33015007,  0.1690479 , -0.27443054, -0.47240397,\n",
       "         0.9997648 ,  0.9997214 , -0.06568512,  0.39446697, -0.3565155 ,\n",
       "        -0.36748135, -0.3862282 ,  0.24905862,  0.19055122,  0.36958808,\n",
       "        -0.20294613,  0.09783754, -0.49276885, -0.22831976, -0.20883751,\n",
       "        -0.3244035 , -0.3627545 ,  0.22377801, -0.53176856,  0.6601171 ,\n",
       "         0.46337327,  0.3248225 ,  0.5379678 ,  0.4753624 ,  0.35306877,\n",
       "        -0.25020733, -0.44682634,  0.502734  , -0.42104396, -0.28430247,\n",
       "        -0.36260182,  0.270436  , -0.9997232 , -0.32373634, -0.33784425,\n",
       "        -0.36738378,  0.68544835,  0.3904    ,  0.14912024, -0.37610736,\n",
       "        -0.23401357, -0.49936587,  0.37602988,  0.00384757,  0.3809206 ,\n",
       "        -0.38529927, -0.33647233,  0.54218906, -0.7119744 ,  0.27670527,\n",
       "        -0.43041912, -0.411563  , -0.65675855, -0.41228437, -0.38638803,\n",
       "         0.44902918, -0.36263072, -0.3943912 ,  0.51056296,  0.43202224,\n",
       "         0.34413067, -0.40777668,  0.3311015 , -0.24812019,  0.0281295 ,\n",
       "         0.52836984,  0.30567452,  0.35335156, -0.4360394 , -0.48049095,\n",
       "        -0.31014934, -0.49682215, -0.29185453,  0.11826838, -0.3755674 ,\n",
       "         0.3986356 , -0.31739482,  0.31553894, -0.39675677,  0.07471474,\n",
       "         0.40073827,  0.5872463 , -0.27692768,  0.6463253 ,  0.55452657,\n",
       "        -0.21092755,  0.62289894,  0.36475766, -0.37015757, -0.4417418 ,\n",
       "         0.99981725,  0.5257826 ,  0.27092704, -0.01107302, -0.19595388,\n",
       "         0.33156556,  0.3599682 ,  0.6898969 , -0.41675583,  0.88157135,\n",
       "        -0.41704634,  0.31416646,  0.53872484,  0.5202934 ,  0.0400727 ,\n",
       "         0.40163678,  0.32015643,  0.85655934,  0.44761488,  0.50097024,\n",
       "         0.5407134 ,  0.15733115,  0.58832514,  0.40442005,  0.34732217,\n",
       "         0.46462956,  0.4544268 , -0.41639286,  0.45766306, -0.37495345,\n",
       "        -0.22941197, -0.07720025, -0.16801697, -0.3458495 ,  0.01198443,\n",
       "        -0.21146142, -0.22731479, -0.10553876,  0.5045351 , -0.31147194,\n",
       "         0.13039464, -0.16936034, -0.3132698 ,  0.6473677 , -0.6749755 ,\n",
       "         0.45195836, -0.1843518 ,  0.12435857, -0.8715668 ,  0.40544516,\n",
       "        -0.2087603 , -0.50182265, -0.30580226, -0.68262124,  0.3778698 ,\n",
       "         0.40468714, -0.48489904,  0.45241943, -0.1987868 ,  0.31672788,\n",
       "        -0.36462975, -0.35367736,  0.26566118, -0.9998167 ,  0.25294435,\n",
       "         0.3900106 , -0.4464928 ,  0.37248144,  0.08131807,  0.31331086,\n",
       "         0.486325  , -0.50004494, -0.57930654, -0.3430234 ,  0.48079333,\n",
       "        -0.3672184 ,  0.16319914,  0.46049768, -0.5725236 , -0.2862975 ,\n",
       "         0.19399844, -0.30253458,  0.38654152,  0.5675331 , -0.33941638,\n",
       "         0.5261011 , -0.45286602,  0.15706798, -0.49722168,  0.2649754 ,\n",
       "        -0.5463125 , -0.23564558,  0.41902247, -0.41524425, -0.6398628 ,\n",
       "        -0.09325045,  0.36605793, -0.24067104,  0.2779739 ,  0.49381185,\n",
       "        -0.18107449,  0.43459058, -0.44992366,  0.56242234, -0.31707743,\n",
       "         0.3186983 , -0.8939239 , -0.38683176, -0.64035344, -0.12753955,\n",
       "         0.30022392,  0.6522564 ,  0.16777672,  0.40102708, -0.26975766,\n",
       "         0.05095335, -0.15228276,  0.3995258 ,  0.4114422 , -0.28145146,\n",
       "         0.07108275, -0.33460987,  0.29712656, -0.5793316 ,  0.0084197 ,\n",
       "        -0.99741197, -0.498925  ,  0.26536608,  0.5173384 ,  0.49362338,\n",
       "        -0.3612657 , -0.24618828, -0.46433786, -0.26493   ,  0.2476071 ,\n",
       "         0.3839786 ,  0.39939266,  0.42146948,  0.48070788, -0.29219297,\n",
       "        -0.21257424,  0.8592897 , -0.3262132 ,  0.25715992,  0.4530412 ,\n",
       "         0.52745223,  0.9432959 ,  0.37787312,  0.39310303,  0.3170277 ,\n",
       "        -0.43415987,  0.5103539 ,  0.43476298]], dtype=float32)>, hidden_states=None, attentions=None)"
      ]
     },
     "execution_count": 109,
     "metadata": {},
     "output_type": "execute_result"
    }
   ],
   "source": [
    "output"
   ]
  },
  {
   "cell_type": "code",
   "execution_count": 110,
   "metadata": {},
   "outputs": [
    {
     "data": {
      "text/plain": [
       "{'input_ids': <tf.Tensor: shape=(1, 13), dtype=int32, numpy=\n",
       "array([[  101, 72337, 72654, 10911, 10155, 11178, 15541, 13028,   112,\n",
       "          172, 11850,   119,   102]], dtype=int32)>, 'token_type_ids': <tf.Tensor: shape=(1, 13), dtype=int32, numpy=array([[0, 0, 0, 0, 0, 0, 0, 0, 0, 0, 0, 0, 0]], dtype=int32)>, 'attention_mask': <tf.Tensor: shape=(1, 13), dtype=int32, numpy=array([[1, 1, 1, 1, 1, 1, 1, 1, 1, 1, 1, 1, 1]], dtype=int32)>}"
      ]
     },
     "execution_count": 110,
     "metadata": {},
     "output_type": "execute_result"
    }
   ],
   "source": [
    "encoded_input"
   ]
  },
  {
   "cell_type": "code",
   "execution_count": null,
   "metadata": {},
   "outputs": [],
   "source": []
  }
 ],
 "metadata": {
  "kernelspec": {
   "display_name": "Python 3",
   "language": "python",
   "name": "python3"
  },
  "language_info": {
   "codemirror_mode": {
    "name": "ipython",
    "version": 3
   },
   "file_extension": ".py",
   "mimetype": "text/x-python",
   "name": "python",
   "nbconvert_exporter": "python",
   "pygments_lexer": "ipython3",
   "version": "3.8.5"
  },
  "toc": {
   "base_numbering": 1,
   "nav_menu": {},
   "number_sections": true,
   "sideBar": true,
   "skip_h1_title": false,
   "title_cell": "Table of Contents",
   "title_sidebar": "Contents",
   "toc_cell": false,
   "toc_position": {},
   "toc_section_display": true,
   "toc_window_display": false
  }
 },
 "nbformat": 4,
 "nbformat_minor": 4
}
