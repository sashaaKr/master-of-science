{
 "cells": [
  {
   "cell_type": "markdown",
   "metadata": {},
   "source": [
    "### Advanced Machine Learning\n",
    "\n",
    "# Final Assignment  - Detect True vs False Stories (lie detection)\n",
    "\n",
    "Assignment Start: 11/07/21 00:00<br>\n",
    "Assignment Due: 18/07/21 23:59 (moodle will be closed for submissions that time)\n",
    "\n",
    "Jonathan Schler\n"
   ]
  },
  {
   "cell_type": "code",
   "execution_count": 1,
   "metadata": {},
   "outputs": [],
   "source": [
    "id=\"337839112\"\n",
    "name=\"Sofya Zubtsovsky\""
   ]
  },
  {
   "cell_type": "markdown",
   "metadata": {},
   "source": [
    "## Introduction\n",
    "You are provided with a labeled corpus of narratives in Hebrew. The corpus is provided as a csv file. Each row represents a narrative. It has 5 fields: id, author_gender, author_birth_year, narrative and label. The label for each narrative indicates whether this is a true or false story (i.e. the author lied when he told the story) (label \"1\" for True, and \"0\" for false). \n",
    "\n",
    "You are requested to build a model to predict whether a new story in Hebrew is true or false (i.e a lie). You are provided with 2 files: \n",
    "- `train_dataset.csv` - which contains **labeled** examples, and \n",
    "- `test_dataset.csv` that contains **unlabled** examples that you'll have to classify and submit the results. The narrtives in this file will have the same fields except of the label field.\n",
    "\n",
    "(you'll be graded based on the quality of the labels assigned to the `test_dataset.csv`).\n",
    "\n",
    "\n",
    "\n"
   ]
  },
  {
   "cell_type": "markdown",
   "metadata": {},
   "source": [
    "## What is expected from you\n",
    "1. Build a classifier (including all pre-processing steps - as you think may fit (feature engineering, pre-processing, scaling etc) ) that will classify an unlabled document (including reasonable documentation for the steps you chose to do)\n",
    "2. Report on how you chose to evaluate your algorithm and the scores of that evaluation\n",
    "3. Apply the model on the unlabeled data set (`test_dataset.csv`), and return the results in the format described below\n",
    "4. At the end, you are requested to submit 2 files: (a) this notebook, and (b) the output csv file. Submission will be done via moodle. The output csv is the file, that contains the prediction for the `test_dataset.csv`. The naming of the file should be `<your_id_number>.csv` (where `<your_id_number>` will be replaced with you actual ID number). The file will contain for each doc a label `1` (for true narratives) or `0` (for false narratives) (such that each row contains only one label, corresponding to the document in the given row in the `test_dataset.csv` document). You can see a sample output file under the name `123456789.csv` in the moodle."
   ]
  },
  {
   "cell_type": "markdown",
   "metadata": {},
   "source": [
    "## Grading Guidelines\n",
    "1. Overall approach and workable solution (70 pts)\n",
    "2. Average f1 score of higher than 0.50 (10 pts)\n",
    "3. Average f1 score of higher than 0.58 (additional 5 pts)\n",
    "4. Competitive element: 15 Highest average f1 score - will get additional 15 pts, top score the extra 15 points, second highest - extra 14 points etc - in case of similar scores it will be divided proportionaly."
   ]
  },
  {
   "cell_type": "markdown",
   "metadata": {},
   "source": [
    "## Other Guidelines\n",
    "1. Work in indivudual, collaboration is not allowed. \n",
    "2. You are allowed to use all the toolsets we learned / mentioned in class, in addition to any other avialble toolsets for text processing or Hebrew data as you think is appropriate.\n"
   ]
  },
  {
   "cell_type": "markdown",
   "metadata": {},
   "source": [
    "## Good Luck!"
   ]
  },
  {
   "cell_type": "code",
   "execution_count": 2,
   "metadata": {},
   "outputs": [],
   "source": [
    "#pip install python-bidi #worked for me"
   ]
  },
  {
   "cell_type": "code",
   "execution_count": 3,
   "metadata": {},
   "outputs": [],
   "source": [
    "import numpy as np\n",
    "import pandas as pd\n",
    "import seaborn as sns\n",
    "import matplotlib.pyplot as plt\n",
    "from sklearn.model_selection import train_test_split, cross_val_score, cross_validate\n",
    "from sklearn.linear_model import LogisticRegression, LogisticRegressionCV, PassiveAggressiveClassifier, Perceptron, RidgeClassifier, RidgeClassifierCV, SGDClassifier\n",
    "from sklearn.feature_extraction.text import CountVectorizer , TfidfVectorizer, TfidfTransformer\n",
    "from sklearn.preprocessing import normalize, StandardScaler, FunctionTransformer\n",
    "from sklearn.pipeline import Pipeline, FeatureUnion\n",
    "pd.options.display.float_format = '{:f}'.format\n",
    "from sklearn.metrics import classification_report, confusion_matrix, plot_confusion_matrix\n",
    "from bidi import algorithm as bidialg      # needed for arabic, hebrew\n"
   ]
  },
  {
   "cell_type": "code",
   "execution_count": 4,
   "metadata": {},
   "outputs": [],
   "source": [
    "# utilities function are same as were implemented\n",
    "# with Alexander Kruglyak for assigments during the semester\n",
    "\n",
    "def show_data_basic_information(df):\n",
    "    print(\"Info\\n\")\n",
    "    print(df.info())\n",
    "    print(\"\\n\" + \"*\" * 10 + \"\\n\")\n",
    "    \n",
    "    print(\"Shape\\n\")\n",
    "    print(df.shape) \n",
    "    print(\"\\n\" + \"*\" * 10 + \"\\n\")\n",
    "    \n",
    "    print(\"Amount of is null data\\n\")\n",
    "    print(df.isnull().sum().max())\n",
    "    print(\"\\n\" + \"*\" * 10 + \"\\n\")\n",
    "    \n",
    "    print(\"Describe\\n\")\n",
    "    display(df.describe())\n",
    "    print(\"\\n\" + \"*\" * 10 + \"\\n\")\n",
    "    \n",
    "def drop_columns(df, columns):\n",
    "    return df.copy().drop(columns, axis=1)\n",
    "\n",
    "def get_label_and_drop(_df):\n",
    "    df = _df.copy()\n",
    "    label = df['label']\n",
    "    df = drop_columns(df,['label'])\n",
    "    return df, label\n",
    "\n",
    "def show_random_text(_df,feature,n=1):\n",
    "    df = _df.sample(n=n,random_state=42)\n",
    "    print(list(df[feature]))\n",
    "    \n",
    "def get_cross_val_score(scores_df,estimator,X_train,y_train,prefix=\"\",sampler=None):\n",
    "        name = estimator.__class__.__name__\n",
    "        pipe = estimator\n",
    "        sampler_name = \"\"\n",
    "        if sampler is not None:\n",
    "            pipe = make_imb_pipeline(sampler(random_state=42), estimator)\n",
    "            sampler_name = sampler.__name__\n",
    "        print('*********' + name + ' ' + sampler_name + '*********')\n",
    "        full_scores = cross_validate(\n",
    "            pipe,\n",
    "            X_train, \n",
    "            y_train, \n",
    "            cv=10,\n",
    "            scoring=('roc_auc', 'average_precision', 'recall', 'f1'),\n",
    "            n_jobs = -1\n",
    "        )\n",
    "        add_score(scores_df, full_scores, estimator.__class__.__name__,prefix)\n",
    "        \n",
    "def add_score(scores_df, scores, regressorName, dataType):\n",
    "    scores_df.loc[regressorName + '_' + dataType, 'f1'] = scores['test_f1'].mean()\n",
    "    scores_df.loc[regressorName + '_' + dataType, 'roc_auc'] = scores['test_roc_auc'].mean()\n",
    "    scores_df.loc[regressorName + '_' + dataType, 'recall'] = scores['test_recall'].mean()\n",
    "    scores_df.loc[regressorName + '_' + dataType, 'average_precision'] = scores['test_average_precision'].mean()"
   ]
  },
  {
   "cell_type": "code",
   "execution_count": 5,
   "metadata": {},
   "outputs": [],
   "source": [
    "df_steps = {}"
   ]
  },
  {
   "cell_type": "code",
   "execution_count": 6,
   "metadata": {},
   "outputs": [],
   "source": [
    "df_steps['0_full_df'] = pd.read_csv(\"train_dataset.csv\")"
   ]
  },
  {
   "cell_type": "code",
   "execution_count": 149,
   "metadata": {},
   "outputs": [],
   "source": [
    "df_test = pd.read_csv(\"test_dataset.csv\")"
   ]
  },
  {
   "cell_type": "markdown",
   "metadata": {},
   "source": [
    "## Step 1 - get familiar with the data"
   ]
  },
  {
   "cell_type": "code",
   "execution_count": 7,
   "metadata": {},
   "outputs": [
    {
     "name": "stdout",
     "output_type": "stream",
     "text": [
      "Info\n",
      "\n",
      "<class 'pandas.core.frame.DataFrame'>\n",
      "RangeIndex: 408 entries, 0 to 407\n",
      "Data columns (total 5 columns):\n",
      " #   Column             Non-Null Count  Dtype \n",
      "---  ------             --------------  ----- \n",
      " 0   Unnamed: 0         408 non-null    int64 \n",
      " 1   author_gender      408 non-null    object\n",
      " 2   author_birth_year  408 non-null    int64 \n",
      " 3   narrative          408 non-null    object\n",
      " 4   label              408 non-null    int64 \n",
      "dtypes: int64(3), object(2)\n",
      "memory usage: 16.1+ KB\n",
      "None\n",
      "\n",
      "**********\n",
      "\n",
      "Shape\n",
      "\n",
      "(408, 5)\n",
      "\n",
      "**********\n",
      "\n",
      "Amount of is null data\n",
      "\n",
      "0\n",
      "\n",
      "**********\n",
      "\n",
      "Describe\n",
      "\n"
     ]
    },
    {
     "data": {
      "text/html": [
       "<div>\n",
       "<style scoped>\n",
       "    .dataframe tbody tr th:only-of-type {\n",
       "        vertical-align: middle;\n",
       "    }\n",
       "\n",
       "    .dataframe tbody tr th {\n",
       "        vertical-align: top;\n",
       "    }\n",
       "\n",
       "    .dataframe thead th {\n",
       "        text-align: right;\n",
       "    }\n",
       "</style>\n",
       "<table border=\"1\" class=\"dataframe\">\n",
       "  <thead>\n",
       "    <tr style=\"text-align: right;\">\n",
       "      <th></th>\n",
       "      <th>Unnamed: 0</th>\n",
       "      <th>author_birth_year</th>\n",
       "      <th>label</th>\n",
       "    </tr>\n",
       "  </thead>\n",
       "  <tbody>\n",
       "    <tr>\n",
       "      <th>count</th>\n",
       "      <td>408.000000</td>\n",
       "      <td>408.000000</td>\n",
       "      <td>408.000000</td>\n",
       "    </tr>\n",
       "    <tr>\n",
       "      <th>mean</th>\n",
       "      <td>203.500000</td>\n",
       "      <td>1993.573529</td>\n",
       "      <td>0.500000</td>\n",
       "    </tr>\n",
       "    <tr>\n",
       "      <th>std</th>\n",
       "      <td>117.923704</td>\n",
       "      <td>3.370560</td>\n",
       "      <td>0.500614</td>\n",
       "    </tr>\n",
       "    <tr>\n",
       "      <th>min</th>\n",
       "      <td>0.000000</td>\n",
       "      <td>1980.000000</td>\n",
       "      <td>0.000000</td>\n",
       "    </tr>\n",
       "    <tr>\n",
       "      <th>25%</th>\n",
       "      <td>101.750000</td>\n",
       "      <td>1992.750000</td>\n",
       "      <td>0.000000</td>\n",
       "    </tr>\n",
       "    <tr>\n",
       "      <th>50%</th>\n",
       "      <td>203.500000</td>\n",
       "      <td>1994.000000</td>\n",
       "      <td>0.500000</td>\n",
       "    </tr>\n",
       "    <tr>\n",
       "      <th>75%</th>\n",
       "      <td>305.250000</td>\n",
       "      <td>1995.000000</td>\n",
       "      <td>1.000000</td>\n",
       "    </tr>\n",
       "    <tr>\n",
       "      <th>max</th>\n",
       "      <td>407.000000</td>\n",
       "      <td>2002.000000</td>\n",
       "      <td>1.000000</td>\n",
       "    </tr>\n",
       "  </tbody>\n",
       "</table>\n",
       "</div>"
      ],
      "text/plain": [
       "       Unnamed: 0  author_birth_year      label\n",
       "count  408.000000         408.000000 408.000000\n",
       "mean   203.500000        1993.573529   0.500000\n",
       "std    117.923704           3.370560   0.500614\n",
       "min      0.000000        1980.000000   0.000000\n",
       "25%    101.750000        1992.750000   0.000000\n",
       "50%    203.500000        1994.000000   0.500000\n",
       "75%    305.250000        1995.000000   1.000000\n",
       "max    407.000000        2002.000000   1.000000"
      ]
     },
     "metadata": {},
     "output_type": "display_data"
    },
    {
     "name": "stdout",
     "output_type": "stream",
     "text": [
      "\n",
      "**********\n",
      "\n"
     ]
    }
   ],
   "source": [
    "show_data_basic_information(df_steps['0_full_df'])"
   ]
  },
  {
   "cell_type": "code",
   "execution_count": 8,
   "metadata": {},
   "outputs": [
    {
     "name": "stdout",
     "output_type": "stream",
     "text": [
      "Info\n",
      "\n",
      "<class 'pandas.core.frame.DataFrame'>\n",
      "RangeIndex: 106 entries, 0 to 105\n",
      "Data columns (total 4 columns):\n",
      " #   Column             Non-Null Count  Dtype \n",
      "---  ------             --------------  ----- \n",
      " 0   Unnamed: 0         106 non-null    int64 \n",
      " 1   author_gender      106 non-null    object\n",
      " 2   author_birth_year  106 non-null    int64 \n",
      " 3   narrative          106 non-null    object\n",
      "dtypes: int64(2), object(2)\n",
      "memory usage: 3.4+ KB\n",
      "None\n",
      "\n",
      "**********\n",
      "\n",
      "Shape\n",
      "\n",
      "(106, 4)\n",
      "\n",
      "**********\n",
      "\n",
      "Amount of is null data\n",
      "\n",
      "0\n",
      "\n",
      "**********\n",
      "\n",
      "Describe\n",
      "\n"
     ]
    },
    {
     "data": {
      "text/html": [
       "<div>\n",
       "<style scoped>\n",
       "    .dataframe tbody tr th:only-of-type {\n",
       "        vertical-align: middle;\n",
       "    }\n",
       "\n",
       "    .dataframe tbody tr th {\n",
       "        vertical-align: top;\n",
       "    }\n",
       "\n",
       "    .dataframe thead th {\n",
       "        text-align: right;\n",
       "    }\n",
       "</style>\n",
       "<table border=\"1\" class=\"dataframe\">\n",
       "  <thead>\n",
       "    <tr style=\"text-align: right;\">\n",
       "      <th></th>\n",
       "      <th>Unnamed: 0</th>\n",
       "      <th>author_birth_year</th>\n",
       "    </tr>\n",
       "  </thead>\n",
       "  <tbody>\n",
       "    <tr>\n",
       "      <th>count</th>\n",
       "      <td>106.000000</td>\n",
       "      <td>106.000000</td>\n",
       "    </tr>\n",
       "    <tr>\n",
       "      <th>mean</th>\n",
       "      <td>52.500000</td>\n",
       "      <td>1993.905660</td>\n",
       "    </tr>\n",
       "    <tr>\n",
       "      <th>std</th>\n",
       "      <td>30.743563</td>\n",
       "      <td>2.755180</td>\n",
       "    </tr>\n",
       "    <tr>\n",
       "      <th>min</th>\n",
       "      <td>0.000000</td>\n",
       "      <td>1984.000000</td>\n",
       "    </tr>\n",
       "    <tr>\n",
       "      <th>25%</th>\n",
       "      <td>26.250000</td>\n",
       "      <td>1993.000000</td>\n",
       "    </tr>\n",
       "    <tr>\n",
       "      <th>50%</th>\n",
       "      <td>52.500000</td>\n",
       "      <td>1994.000000</td>\n",
       "    </tr>\n",
       "    <tr>\n",
       "      <th>75%</th>\n",
       "      <td>78.750000</td>\n",
       "      <td>1995.000000</td>\n",
       "    </tr>\n",
       "    <tr>\n",
       "      <th>max</th>\n",
       "      <td>105.000000</td>\n",
       "      <td>2002.000000</td>\n",
       "    </tr>\n",
       "  </tbody>\n",
       "</table>\n",
       "</div>"
      ],
      "text/plain": [
       "       Unnamed: 0  author_birth_year\n",
       "count  106.000000         106.000000\n",
       "mean    52.500000        1993.905660\n",
       "std     30.743563           2.755180\n",
       "min      0.000000        1984.000000\n",
       "25%     26.250000        1993.000000\n",
       "50%     52.500000        1994.000000\n",
       "75%     78.750000        1995.000000\n",
       "max    105.000000        2002.000000"
      ]
     },
     "metadata": {},
     "output_type": "display_data"
    },
    {
     "name": "stdout",
     "output_type": "stream",
     "text": [
      "\n",
      "**********\n",
      "\n"
     ]
    }
   ],
   "source": [
    "show_data_basic_information(df_test)"
   ]
  },
  {
   "cell_type": "code",
   "execution_count": 9,
   "metadata": {},
   "outputs": [
    {
     "data": {
      "text/html": [
       "<div>\n",
       "<style scoped>\n",
       "    .dataframe tbody tr th:only-of-type {\n",
       "        vertical-align: middle;\n",
       "    }\n",
       "\n",
       "    .dataframe tbody tr th {\n",
       "        vertical-align: top;\n",
       "    }\n",
       "\n",
       "    .dataframe thead th {\n",
       "        text-align: right;\n",
       "    }\n",
       "</style>\n",
       "<table border=\"1\" class=\"dataframe\">\n",
       "  <thead>\n",
       "    <tr style=\"text-align: right;\">\n",
       "      <th></th>\n",
       "      <th>Unnamed: 0</th>\n",
       "      <th>author_gender</th>\n",
       "      <th>author_birth_year</th>\n",
       "      <th>narrative</th>\n",
       "      <th>label</th>\n",
       "    </tr>\n",
       "  </thead>\n",
       "  <tbody>\n",
       "    <tr>\n",
       "      <th>0</th>\n",
       "      <td>0</td>\n",
       "      <td>זכר</td>\n",
       "      <td>1995</td>\n",
       "      <td>שנת 2020 הייתה מטלטלת למדי בשבילי, עברתי הרבה ...</td>\n",
       "      <td>1</td>\n",
       "    </tr>\n",
       "    <tr>\n",
       "      <th>1</th>\n",
       "      <td>1</td>\n",
       "      <td>זכר</td>\n",
       "      <td>1992</td>\n",
       "      <td>בשנת 2018 קיבלתי החלטה שאני מתחיל ללמוד לתואר ...</td>\n",
       "      <td>1</td>\n",
       "    </tr>\n",
       "    <tr>\n",
       "      <th>2</th>\n",
       "      <td>2</td>\n",
       "      <td>זכר</td>\n",
       "      <td>1992</td>\n",
       "      <td>לפני מספר שנים אני ובת הזוג שלי טסנו ללונדון ז...</td>\n",
       "      <td>1</td>\n",
       "    </tr>\n",
       "    <tr>\n",
       "      <th>3</th>\n",
       "      <td>3</td>\n",
       "      <td>נקבה</td>\n",
       "      <td>1991</td>\n",
       "      <td>האישה שבקושי הכרתי חייכה תמיד, העיניים שלה ברק...</td>\n",
       "      <td>1</td>\n",
       "    </tr>\n",
       "    <tr>\n",
       "      <th>4</th>\n",
       "      <td>4</td>\n",
       "      <td>נקבה</td>\n",
       "      <td>1992</td>\n",
       "      <td>בדרך חזרה מהטיול שנתי בכיתה ח' התקשרתי לאבא של...</td>\n",
       "      <td>1</td>\n",
       "    </tr>\n",
       "    <tr>\n",
       "      <th>...</th>\n",
       "      <td>...</td>\n",
       "      <td>...</td>\n",
       "      <td>...</td>\n",
       "      <td>...</td>\n",
       "      <td>...</td>\n",
       "    </tr>\n",
       "    <tr>\n",
       "      <th>403</th>\n",
       "      <td>403</td>\n",
       "      <td>זכר</td>\n",
       "      <td>1988</td>\n",
       "      <td>ללמוד להעז יותר, אחד החוויה הזאת שעשיתי באה אח...</td>\n",
       "      <td>0</td>\n",
       "    </tr>\n",
       "    <tr>\n",
       "      <th>404</th>\n",
       "      <td>404</td>\n",
       "      <td>זכר</td>\n",
       "      <td>1993</td>\n",
       "      <td>זה קרה לפניי מספר שבועות עוד כשהיינו תחת סגרים...</td>\n",
       "      <td>0</td>\n",
       "    </tr>\n",
       "    <tr>\n",
       "      <th>405</th>\n",
       "      <td>405</td>\n",
       "      <td>זכר</td>\n",
       "      <td>1995</td>\n",
       "      <td>לפני שלוש שנים, לאחר שחסכתי, טסתי עם חבר מאוד ...</td>\n",
       "      <td>0</td>\n",
       "    </tr>\n",
       "    <tr>\n",
       "      <th>406</th>\n",
       "      <td>406</td>\n",
       "      <td>נקבה</td>\n",
       "      <td>1993</td>\n",
       "      <td>כשהייתי ילדה קטנה בבית הספר בגיל 8 הייי ילדה מ...</td>\n",
       "      <td>0</td>\n",
       "    </tr>\n",
       "    <tr>\n",
       "      <th>407</th>\n",
       "      <td>407</td>\n",
       "      <td>זכר</td>\n",
       "      <td>1990</td>\n",
       "      <td>בשנה האחרונה יצא לי לעבוד בחברה מאד מוכרת. מתח...</td>\n",
       "      <td>0</td>\n",
       "    </tr>\n",
       "  </tbody>\n",
       "</table>\n",
       "<p>408 rows × 5 columns</p>\n",
       "</div>"
      ],
      "text/plain": [
       "     Unnamed: 0 author_gender  author_birth_year  \\\n",
       "0             0           זכר               1995   \n",
       "1             1           זכר               1992   \n",
       "2             2           זכר               1992   \n",
       "3             3          נקבה               1991   \n",
       "4             4          נקבה               1992   \n",
       "..          ...           ...                ...   \n",
       "403         403           זכר               1988   \n",
       "404         404           זכר               1993   \n",
       "405         405           זכר               1995   \n",
       "406         406          נקבה               1993   \n",
       "407         407           זכר               1990   \n",
       "\n",
       "                                             narrative  label  \n",
       "0    שנת 2020 הייתה מטלטלת למדי בשבילי, עברתי הרבה ...      1  \n",
       "1    בשנת 2018 קיבלתי החלטה שאני מתחיל ללמוד לתואר ...      1  \n",
       "2    לפני מספר שנים אני ובת הזוג שלי טסנו ללונדון ז...      1  \n",
       "3    האישה שבקושי הכרתי חייכה תמיד, העיניים שלה ברק...      1  \n",
       "4    בדרך חזרה מהטיול שנתי בכיתה ח' התקשרתי לאבא של...      1  \n",
       "..                                                 ...    ...  \n",
       "403  ללמוד להעז יותר, אחד החוויה הזאת שעשיתי באה אח...      0  \n",
       "404  זה קרה לפניי מספר שבועות עוד כשהיינו תחת סגרים...      0  \n",
       "405  לפני שלוש שנים, לאחר שחסכתי, טסתי עם חבר מאוד ...      0  \n",
       "406  כשהייתי ילדה קטנה בבית הספר בגיל 8 הייי ילדה מ...      0  \n",
       "407  בשנה האחרונה יצא לי לעבוד בחברה מאד מוכרת. מתח...      0  \n",
       "\n",
       "[408 rows x 5 columns]"
      ]
     },
     "execution_count": 9,
     "metadata": {},
     "output_type": "execute_result"
    }
   ],
   "source": [
    "df_steps['0_full_df']"
   ]
  },
  {
   "cell_type": "code",
   "execution_count": 10,
   "metadata": {},
   "outputs": [
    {
     "data": {
      "text/html": [
       "<div>\n",
       "<style scoped>\n",
       "    .dataframe tbody tr th:only-of-type {\n",
       "        vertical-align: middle;\n",
       "    }\n",
       "\n",
       "    .dataframe tbody tr th {\n",
       "        vertical-align: top;\n",
       "    }\n",
       "\n",
       "    .dataframe thead th {\n",
       "        text-align: right;\n",
       "    }\n",
       "</style>\n",
       "<table border=\"1\" class=\"dataframe\">\n",
       "  <thead>\n",
       "    <tr style=\"text-align: right;\">\n",
       "      <th></th>\n",
       "      <th>Unnamed: 0</th>\n",
       "      <th>author_gender</th>\n",
       "      <th>author_birth_year</th>\n",
       "      <th>narrative</th>\n",
       "    </tr>\n",
       "  </thead>\n",
       "  <tbody>\n",
       "    <tr>\n",
       "      <th>0</th>\n",
       "      <td>0</td>\n",
       "      <td>זכר</td>\n",
       "      <td>2002</td>\n",
       "      <td>זה התחיל בשעת השקיעה.הגענו לחוף מדרום לעין גדי...</td>\n",
       "    </tr>\n",
       "    <tr>\n",
       "      <th>1</th>\n",
       "      <td>1</td>\n",
       "      <td>נקבה</td>\n",
       "      <td>1995</td>\n",
       "      <td>כזוג מאורס טרי סגרנו תאריך, אולם אירועים, ספקי...</td>\n",
       "    </tr>\n",
       "    <tr>\n",
       "      <th>2</th>\n",
       "      <td>2</td>\n",
       "      <td>זכר</td>\n",
       "      <td>1995</td>\n",
       "      <td>הגעתי לשירות המדינה אחרי שנתיים כפעיל בתנועת \"...</td>\n",
       "    </tr>\n",
       "    <tr>\n",
       "      <th>3</th>\n",
       "      <td>3</td>\n",
       "      <td>זכר</td>\n",
       "      <td>1991</td>\n",
       "      <td>בשנה האחרונה ,\\nפרצה מחלת הקורונה דבר שאף אחד ...</td>\n",
       "    </tr>\n",
       "    <tr>\n",
       "      <th>4</th>\n",
       "      <td>4</td>\n",
       "      <td>זכר</td>\n",
       "      <td>1995</td>\n",
       "      <td>החוויה שלי מתחילה במכון הטכנולוגי חולון, אשר ש...</td>\n",
       "    </tr>\n",
       "    <tr>\n",
       "      <th>...</th>\n",
       "      <td>...</td>\n",
       "      <td>...</td>\n",
       "      <td>...</td>\n",
       "      <td>...</td>\n",
       "    </tr>\n",
       "    <tr>\n",
       "      <th>101</th>\n",
       "      <td>101</td>\n",
       "      <td>זכר</td>\n",
       "      <td>1995</td>\n",
       "      <td>לפני שנה החלטתי שאני רוצה להיות טייס, התחלתי ל...</td>\n",
       "    </tr>\n",
       "    <tr>\n",
       "      <th>102</th>\n",
       "      <td>102</td>\n",
       "      <td>זכר</td>\n",
       "      <td>1994</td>\n",
       "      <td>לכבוד יום ההולדת שלי, בת הזוג שלי החליטה להפתי...</td>\n",
       "    </tr>\n",
       "    <tr>\n",
       "      <th>103</th>\n",
       "      <td>103</td>\n",
       "      <td>זכר</td>\n",
       "      <td>1995</td>\n",
       "      <td>בשנת 2020 בחודש מרץ הייתי אמור להתחתן עם אחת ש...</td>\n",
       "    </tr>\n",
       "    <tr>\n",
       "      <th>104</th>\n",
       "      <td>104</td>\n",
       "      <td>זכר</td>\n",
       "      <td>1991</td>\n",
       "      <td>לפני שבועיים הלכתי לספארי יצאנו בשעה 12 בצהריי...</td>\n",
       "    </tr>\n",
       "    <tr>\n",
       "      <th>105</th>\n",
       "      <td>105</td>\n",
       "      <td>זכר</td>\n",
       "      <td>1996</td>\n",
       "      <td>השנה האחרונה הייתה שנה מפרחת שנה של למידה וחוו...</td>\n",
       "    </tr>\n",
       "  </tbody>\n",
       "</table>\n",
       "<p>106 rows × 4 columns</p>\n",
       "</div>"
      ],
      "text/plain": [
       "     Unnamed: 0 author_gender  author_birth_year  \\\n",
       "0             0           זכר               2002   \n",
       "1             1          נקבה               1995   \n",
       "2             2           זכר               1995   \n",
       "3             3           זכר               1991   \n",
       "4             4           זכר               1995   \n",
       "..          ...           ...                ...   \n",
       "101         101           זכר               1995   \n",
       "102         102           זכר               1994   \n",
       "103         103           זכר               1995   \n",
       "104         104           זכר               1991   \n",
       "105         105           זכר               1996   \n",
       "\n",
       "                                             narrative  \n",
       "0    זה התחיל בשעת השקיעה.הגענו לחוף מדרום לעין גדי...  \n",
       "1    כזוג מאורס טרי סגרנו תאריך, אולם אירועים, ספקי...  \n",
       "2    הגעתי לשירות המדינה אחרי שנתיים כפעיל בתנועת \"...  \n",
       "3    בשנה האחרונה ,\\nפרצה מחלת הקורונה דבר שאף אחד ...  \n",
       "4    החוויה שלי מתחילה במכון הטכנולוגי חולון, אשר ש...  \n",
       "..                                                 ...  \n",
       "101  לפני שנה החלטתי שאני רוצה להיות טייס, התחלתי ל...  \n",
       "102  לכבוד יום ההולדת שלי, בת הזוג שלי החליטה להפתי...  \n",
       "103  בשנת 2020 בחודש מרץ הייתי אמור להתחתן עם אחת ש...  \n",
       "104  לפני שבועיים הלכתי לספארי יצאנו בשעה 12 בצהריי...  \n",
       "105  השנה האחרונה הייתה שנה מפרחת שנה של למידה וחוו...  \n",
       "\n",
       "[106 rows x 4 columns]"
      ]
     },
     "execution_count": 10,
     "metadata": {},
     "output_type": "execute_result"
    }
   ],
   "source": [
    "df_test"
   ]
  },
  {
   "cell_type": "markdown",
   "metadata": {},
   "source": [
    "## Initial processing:\n",
    "- drop 'Unnamed 0' column\n",
    "- encode author_gender\n",
    "- add feature - length of the narrative\n",
    "- (?) - replace birth year with age"
   ]
  },
  {
   "cell_type": "code",
   "execution_count": 11,
   "metadata": {},
   "outputs": [],
   "source": [
    "def encode_gender(_df):\n",
    "    df = _df.copy()\n",
    "    man = \"זכר\"\n",
    "    woman = \"נקבה\"\n",
    "    gender = {man: 0, woman: 1}\n",
    "    df['author_gender'] = [gender[item] for item in df['author_gender']]\n",
    "    return df"
   ]
  },
  {
   "cell_type": "code",
   "execution_count": 12,
   "metadata": {},
   "outputs": [],
   "source": [
    "def add_length_of_narrative(_df):\n",
    "    df = _df.copy()\n",
    "    df['nar_length'] = df['narrative'].str.len()\n",
    "    return df"
   ]
  },
  {
   "cell_type": "code",
   "execution_count": 13,
   "metadata": {},
   "outputs": [],
   "source": [
    "# def convert_year_to_age(_df):\n",
    "#     df = _df.copy()\n",
    "#     df['nar_length'] = df['narrative'].str.len()\n",
    "#     return df"
   ]
  },
  {
   "cell_type": "code",
   "execution_count": 14,
   "metadata": {},
   "outputs": [
    {
     "data": {
      "text/html": [
       "<div>\n",
       "<style scoped>\n",
       "    .dataframe tbody tr th:only-of-type {\n",
       "        vertical-align: middle;\n",
       "    }\n",
       "\n",
       "    .dataframe tbody tr th {\n",
       "        vertical-align: top;\n",
       "    }\n",
       "\n",
       "    .dataframe thead th {\n",
       "        text-align: right;\n",
       "    }\n",
       "</style>\n",
       "<table border=\"1\" class=\"dataframe\">\n",
       "  <thead>\n",
       "    <tr style=\"text-align: right;\">\n",
       "      <th></th>\n",
       "      <th>author_gender</th>\n",
       "      <th>author_birth_year</th>\n",
       "      <th>narrative</th>\n",
       "      <th>label</th>\n",
       "      <th>nar_length</th>\n",
       "    </tr>\n",
       "  </thead>\n",
       "  <tbody>\n",
       "    <tr>\n",
       "      <th>0</th>\n",
       "      <td>0</td>\n",
       "      <td>1995</td>\n",
       "      <td>שנת 2020 הייתה מטלטלת למדי בשבילי, עברתי הרבה ...</td>\n",
       "      <td>1</td>\n",
       "      <td>1748</td>\n",
       "    </tr>\n",
       "    <tr>\n",
       "      <th>1</th>\n",
       "      <td>0</td>\n",
       "      <td>1992</td>\n",
       "      <td>בשנת 2018 קיבלתי החלטה שאני מתחיל ללמוד לתואר ...</td>\n",
       "      <td>1</td>\n",
       "      <td>1696</td>\n",
       "    </tr>\n",
       "    <tr>\n",
       "      <th>2</th>\n",
       "      <td>0</td>\n",
       "      <td>1992</td>\n",
       "      <td>לפני מספר שנים אני ובת הזוג שלי טסנו ללונדון ז...</td>\n",
       "      <td>1</td>\n",
       "      <td>1967</td>\n",
       "    </tr>\n",
       "    <tr>\n",
       "      <th>3</th>\n",
       "      <td>1</td>\n",
       "      <td>1991</td>\n",
       "      <td>האישה שבקושי הכרתי חייכה תמיד, העיניים שלה ברק...</td>\n",
       "      <td>1</td>\n",
       "      <td>1648</td>\n",
       "    </tr>\n",
       "    <tr>\n",
       "      <th>4</th>\n",
       "      <td>1</td>\n",
       "      <td>1992</td>\n",
       "      <td>בדרך חזרה מהטיול שנתי בכיתה ח' התקשרתי לאבא של...</td>\n",
       "      <td>1</td>\n",
       "      <td>1553</td>\n",
       "    </tr>\n",
       "    <tr>\n",
       "      <th>...</th>\n",
       "      <td>...</td>\n",
       "      <td>...</td>\n",
       "      <td>...</td>\n",
       "      <td>...</td>\n",
       "      <td>...</td>\n",
       "    </tr>\n",
       "    <tr>\n",
       "      <th>403</th>\n",
       "      <td>0</td>\n",
       "      <td>1988</td>\n",
       "      <td>ללמוד להעז יותר, אחד החוויה הזאת שעשיתי באה אח...</td>\n",
       "      <td>0</td>\n",
       "      <td>2561</td>\n",
       "    </tr>\n",
       "    <tr>\n",
       "      <th>404</th>\n",
       "      <td>0</td>\n",
       "      <td>1993</td>\n",
       "      <td>זה קרה לפניי מספר שבועות עוד כשהיינו תחת סגרים...</td>\n",
       "      <td>0</td>\n",
       "      <td>1670</td>\n",
       "    </tr>\n",
       "    <tr>\n",
       "      <th>405</th>\n",
       "      <td>0</td>\n",
       "      <td>1995</td>\n",
       "      <td>לפני שלוש שנים, לאחר שחסכתי, טסתי עם חבר מאוד ...</td>\n",
       "      <td>0</td>\n",
       "      <td>2032</td>\n",
       "    </tr>\n",
       "    <tr>\n",
       "      <th>406</th>\n",
       "      <td>1</td>\n",
       "      <td>1993</td>\n",
       "      <td>כשהייתי ילדה קטנה בבית הספר בגיל 8 הייי ילדה מ...</td>\n",
       "      <td>0</td>\n",
       "      <td>1457</td>\n",
       "    </tr>\n",
       "    <tr>\n",
       "      <th>407</th>\n",
       "      <td>0</td>\n",
       "      <td>1990</td>\n",
       "      <td>בשנה האחרונה יצא לי לעבוד בחברה מאד מוכרת. מתח...</td>\n",
       "      <td>0</td>\n",
       "      <td>1996</td>\n",
       "    </tr>\n",
       "  </tbody>\n",
       "</table>\n",
       "<p>408 rows × 5 columns</p>\n",
       "</div>"
      ],
      "text/plain": [
       "     author_gender  author_birth_year  \\\n",
       "0                0               1995   \n",
       "1                0               1992   \n",
       "2                0               1992   \n",
       "3                1               1991   \n",
       "4                1               1992   \n",
       "..             ...                ...   \n",
       "403              0               1988   \n",
       "404              0               1993   \n",
       "405              0               1995   \n",
       "406              1               1993   \n",
       "407              0               1990   \n",
       "\n",
       "                                             narrative  label  nar_length  \n",
       "0    שנת 2020 הייתה מטלטלת למדי בשבילי, עברתי הרבה ...      1        1748  \n",
       "1    בשנת 2018 קיבלתי החלטה שאני מתחיל ללמוד לתואר ...      1        1696  \n",
       "2    לפני מספר שנים אני ובת הזוג שלי טסנו ללונדון ז...      1        1967  \n",
       "3    האישה שבקושי הכרתי חייכה תמיד, העיניים שלה ברק...      1        1648  \n",
       "4    בדרך חזרה מהטיול שנתי בכיתה ח' התקשרתי לאבא של...      1        1553  \n",
       "..                                                 ...    ...         ...  \n",
       "403  ללמוד להעז יותר, אחד החוויה הזאת שעשיתי באה אח...      0        2561  \n",
       "404  זה קרה לפניי מספר שבועות עוד כשהיינו תחת סגרים...      0        1670  \n",
       "405  לפני שלוש שנים, לאחר שחסכתי, טסתי עם חבר מאוד ...      0        2032  \n",
       "406  כשהייתי ילדה קטנה בבית הספר בגיל 8 הייי ילדה מ...      0        1457  \n",
       "407  בשנה האחרונה יצא לי לעבוד בחברה מאד מוכרת. מתח...      0        1996  \n",
       "\n",
       "[408 rows x 5 columns]"
      ]
     },
     "execution_count": 14,
     "metadata": {},
     "output_type": "execute_result"
    }
   ],
   "source": [
    "df_steps['1_dropped'] = drop_columns(df_steps['0_full_df'],['Unnamed: 0'])\n",
    "df_steps['2_gender'] = encode_gender(df_steps['1_dropped'])\n",
    "df_steps['3_nar_length'] = add_length_of_narrative(df_steps['2_gender'])\n",
    "df_steps['3_nar_length']"
   ]
  },
  {
   "cell_type": "markdown",
   "metadata": {},
   "source": [
    "- Plot see the distribution of the data"
   ]
  },
  {
   "cell_type": "code",
   "execution_count": 15,
   "metadata": {},
   "outputs": [
    {
     "data": {
      "text/plain": [
       "<seaborn.axisgrid.PairGrid at 0x2b625dbb5160>"
      ]
     },
     "execution_count": 15,
     "metadata": {},
     "output_type": "execute_result"
    },
    {
     "data": {
      "image/png": "[encoded data removed]",
      "text/plain": [
       "<Figure size 582.375x540 with 12 Axes>"
      ]
     },
     "metadata": {
      "needs_background": "light"
     },
     "output_type": "display_data"
    }
   ],
   "source": [
    "sns.pairplot(df_steps['3_nar_length'], hue='label')"
   ]
  },
  {
   "cell_type": "code",
   "execution_count": 150,
   "metadata": {},
   "outputs": [],
   "source": [
    "df_test = drop_columns(df_test,['Unnamed: 0'])\n",
    "df_test = encode_gender(df_test)\n",
    "df_test= add_length_of_narrative(df_test)"
   ]
  },
  {
   "cell_type": "code",
   "execution_count": 152,
   "metadata": {},
   "outputs": [
    {
     "data": {
      "text/plain": [
       "<seaborn.axisgrid.PairGrid at 0x2b633c5dc2b0>"
      ]
     },
     "execution_count": 152,
     "metadata": {},
     "output_type": "execute_result"
    },
    {
     "data": {
      "image/png": "[encoded data removed]",
      "text/plain": [
       "<Figure size 540x540 with 12 Axes>"
      ]
     },
     "metadata": {
      "needs_background": "light"
     },
     "output_type": "display_data"
    }
   ],
   "source": [
    "sns.pairplot(df_test, diag_kind='kde')"
   ]
  },
  {
   "cell_type": "code",
   "execution_count": 151,
   "metadata": {},
   "outputs": [
    {
     "data": {
      "text/plain": [
       "Text(0.5, 1.0, 'Train: narrative\\n (0: False || 1: True)')"
      ]
     },
     "execution_count": 151,
     "metadata": {},
     "output_type": "execute_result"
    },
    {
     "data": {
      "image/png": "[encoded data removed]",
      "text/plain": [
       "<Figure size 432x288 with 1 Axes>"
      ]
     },
     "metadata": {
      "needs_background": "light"
     },
     "output_type": "display_data"
    }
   ],
   "source": [
    "sns.countplot(x='label',data=df_steps['3_nar_length'])\n",
    "plt.title('Train: narrative\\n (0: False || 1: True)', fontsize=14)"
   ]
  },
  {
   "cell_type": "code",
   "execution_count": 144,
   "metadata": {},
   "outputs": [
    {
     "data": {
      "text/plain": [
       "Text(0.5, 1.0, 'Train: Gender \\n (0: Male || 1: Female)')"
      ]
     },
     "execution_count": 144,
     "metadata": {},
     "output_type": "execute_result"
    },
    {
     "data": {
      "image/png": "[encoded data removed]",
      "text/plain": [
       "<Figure size 432x288 with 1 Axes>"
      ]
     },
     "metadata": {
      "needs_background": "light"
     },
     "output_type": "display_data"
    }
   ],
   "source": [
    "sns.countplot(x='author_gender',data=df_steps['3_nar_length'])\n",
    "plt.title('Train: Gender \\n (0: Male || 1: Female)', fontsize=14)"
   ]
  },
  {
   "cell_type": "code",
   "execution_count": 146,
   "metadata": {},
   "outputs": [
    {
     "data": {
      "text/plain": [
       "Text(0.5, 1.0, 'Test: Gender \\n (0: Male || 1: Female)')"
      ]
     },
     "execution_count": 146,
     "metadata": {},
     "output_type": "execute_result"
    },
    {
     "data": {
      "image/png": "[encoded data removed]",
      "text/plain": [
       "<Figure size 432x288 with 1 Axes>"
      ]
     },
     "metadata": {
      "needs_background": "light"
     },
     "output_type": "display_data"
    }
   ],
   "source": [
    "sns.countplot(x='author_gender',data=df_steps['3_nar_length'])\n",
    "plt.title('Test: Gender \\n (0: Male || 1: Female)', fontsize=14)"
   ]
  },
  {
   "cell_type": "code",
   "execution_count": 17,
   "metadata": {},
   "outputs": [
    {
     "name": "stdout",
     "output_type": "stream",
     "text": [
      "['בשנה האחרונה חווינו את השפעותיו של נגיף הקורונה, לפני כשנה התארסתי לאחר שהייתי בזוגיות של 4 שנים. קבענו את התאריך לחתונה לשנה קדימה . עקב מקרה אישי במשפחה נאצלנו להקדים את החתונה בכשלושה חודשים . בגלל הקורונה היה מצב של חוסר וודאות מוחלט בו היינו בסגר על פי הנחיות המדינה. קבענו את התאריך החדש לחודש מרץ . כשבוע לפני החתונה מספר מחוסנים במדינה עמד על כ3 מיליון , עקב המספר הגבוה הוחלט לפתוח את המשק כשבוע לפני החתונה שלנו . בשבוע הראשון של המתווה התחתנו . החתונה התקיימה ביום שישי , המזג אוויר היה לא מוחלט, כל הלילה היה סערה ואנחנו חששנו כיוון שקבענו את החתונה במקום פתוח , לא ידענו האם ירד גשם או לא . התפללנו למזג אוויר טוב. בהתחלה האורחים התלוננו על מזג אוויר קר ורוחות חזקות - אנחנו התבאסנו חשבנו שאנשים לא ייהנו . בהמשך האירוע המזג אוויר התבהר. בחופה פגשנו את הרב לראשונה , עקב הקורונה ותכנון החתונה המהיר שעשינו תוך חודשיים , לא פגשנו אותו ובקושי דיברנו איתו בטלפון. התרשמנו ממנו לטובה הוא נתן לשנינו להעניק זה לזו את הטבעת. לקראת שבירת הכוס החתן נורא חשש שלא ישבור את הכוס, בכל זאת זה השיא של החופה , בתמונות ראינו כי הוא הרים את הרגל כל כך גבוה בגלל החשש, אבל אל דאגה לבסוף הוא שבר. השיר כניסה שלנו לחופה היה של בניה ברבי, \"עכשיו הלב פתוח\", שיר מרגש שמתאר את הזוגיות שלנו .  היו לנו בחתונה 130 אורחים , אבל לאורך כל הדרך חשבנו שנהיה עם 50 אורחים או פחות - הכל היה לטובה בסוף ואנחנו מאוד נהנו.\\nלאחר החתונה נסענו לבית מלון עקב כך שהשמיים עדיין היו סגורים . נסענו למלון בתל אביב . טרם ההגעה ציינו כי אנחנו זוג נשוי חדש ואנחנו באים לאחר החתונה שלנו , ציפינו לקבלת פנים יותר חמה או שי קטן מהמלון , לצערנו לא קיבלנו כלום גם על אף כך שהתלוננו בפני המנהל . לבסוף שעשינו את הצ\\'ק אוט מהמלון המנהל התנצל ונתן לנו בקבוק שמפניה . אלו היו חודשיים קשים , פחדנו וחששנו רק רצינו שהכל יעבור בשלום . לבסוף התחתנו, הכל היה מעל המצופה ואנחנו מאושרים בחיי הנישואים החדשים שפתחנו.', 'כל חיי חלמתי להיות מהנדס בניין ,כשהייתי קטן, הייתי מושפע נורא מסידרה שנקראת נמלטים באותה סידרה השחקן הראשי היה מהנדס, אשר רצה להציל את אחיו שנכנס לכלא .\\nאותו מהנדס למד ושרטט על עצמו את כל התוכניות, והסגיר את עצמו לכלא במטרה לברוח ממנו עם אחיו .\\nבעקבות כך, נוצרה לי כלפיו אמפטיה מסוימת, והוא נהיה ״דמות״ אהובה עליי , בעצם מעין שחקן שכל החיים הערצתי . כנראה בעקבות כך שהוא היה מהנדס בניין, נוצר אצלי איזה מחשבה חיובית כלפי מהנדסי בניין, מה שגרם לי לחלום להיות מהנדס . לפני הצבא ניסיתי לחפש בצבא מקצועות שדורשים מהנדס בניין, אך התועדת לימודים שלי לא הייתה מספיק טובה , לכן התגייסתי לתפקיד אחר , אך הדחף להיות מהנדס נשאר אצלי כל הזמן .\\nמייד עם שחרורי מהצבא, לאחר שהייתי בקבע וחסכתי כסף, התחלתי מכינה לימודית, השקעתי בטירוף, משום שבתור ילד לא למדתי בכלל ותעודת הבגרות שלי לא הייתה טובה , בכל פעם שהיה לי קשה בלימודים והיו פעמים רבות כאלו נזכרתי בזכרונות מהתוכנית ובאותו שחקן, וזה פשוט נתן לי דחף להמשיך ללמוד ולהיות יותר טוב, על מנת שאוכל להיות בעצמי מהנדס בניין , בזכות אותם דחפים הצלחתי לסיים את המכינה ולהתקבל ללימודים .\\nכיום אחריי המכינה ואחרי כמה שנים טובות בתואר, אני מרגיש שזוהי ההחלטה הטובה ביותר שבחרתי , בעצם ההחלטה ללכת אחריי אותו חלום ילדות ממלא אותי כל יום מחדש, וכאשר אני רואה חברים שלי שלומדים ועושים דברים שלא באמת מעניינים אותם, אני מודה לעצמי שבתור ילד מצאתי דמחות להעריץ , ועקבות כך מצאתי חלום שזה מה שרציתי לעשות .\\nהרבה פעמים בתהליך אנשים אמרו לי לא ללכת וללמוד את זה, ושזה פחות מתאים לי, אבל לא ידעתי איך להסביר להם מה זה חלון ילדות , ולא ללכת למקצוע מסויים כי כולם הולכים אליו .\\nעם הזמן חלק מהם למדו להבין אותי , וחלקם פחות , אך אותי זה לא באמת עניין מי מבין ומי לא, משום שהלכתי אחריי החלום שלי, וזה נתן לי דחף ללמוד, ולהתקדם, ולהצליח בלימודים , כמובן שגם ביום שאחריי הלימודים אני מרגיש שאקום כל בוקר למשהו שאני אוהב לעשות וזהו הדבר החשוב בחיים לדעתי .']\n"
     ]
    }
   ],
   "source": [
    "show_random_text(df_steps['3_nar_length'],'narrative',2)"
   ]
  },
  {
   "cell_type": "markdown",
   "metadata": {},
   "source": [
    "## Conclustion from step 1\n",
    "- data is balanced\n",
    "- there is no significant differences between features distribution per label\n",
    "- narrative has to be cleaned from \\n"
   ]
  },
  {
   "cell_type": "code",
   "execution_count": 170,
   "metadata": {
    "scrolled": true
   },
   "outputs": [],
   "source": [
    "df_steps['4_clean_nar'] = df_steps['3_nar_length']\n",
    "# df_steps['4_clean_nar']['narrative'] = df_steps['4_clean_nar']['narrative'].replace(b\"<br />\", b\" \")\n",
    "df_steps['4_clean_nar']['narrative'] = df_steps['4_clean_nar']['narrative'].replace('\\\\n',' ', regex=True)"
   ]
  },
  {
   "cell_type": "code",
   "execution_count": 169,
   "metadata": {},
   "outputs": [
    {
     "name": "stdout",
     "output_type": "stream",
     "text": [
      "['בשנה האחרונה חווינו את השפעותיו של נגיף הקורונה, לפני כשנה התארסתי לאחר שהייתי בזוגיות של 4 שנים. קבענו את התאריך לחתונה לשנה קדימה . עקב מקרה אישי במשפחה נאצלנו להקדים את החתונה בכשלושה חודשים . בגלל הקורונה היה מצב של חוסר וודאות מוחלט בו היינו בסגר על פי הנחיות המדינה. קבענו את התאריך החדש לחודש מרץ . כשבוע לפני החתונה מספר מחוסנים במדינה עמד על כ3 מיליון , עקב המספר הגבוה הוחלט לפתוח את המשק כשבוע לפני החתונה שלנו . בשבוע הראשון של המתווה התחתנו . החתונה התקיימה ביום שישי , המזג אוויר היה לא מוחלט, כל הלילה היה סערה ואנחנו חששנו כיוון שקבענו את החתונה במקום פתוח , לא ידענו האם ירד גשם או לא . התפללנו למזג אוויר טוב. בהתחלה האורחים התלוננו על מזג אוויר קר ורוחות חזקות - אנחנו התבאסנו חשבנו שאנשים לא ייהנו . בהמשך האירוע המזג אוויר התבהר. בחופה פגשנו את הרב לראשונה , עקב הקורונה ותכנון החתונה המהיר שעשינו תוך חודשיים , לא פגשנו אותו ובקושי דיברנו איתו בטלפון. התרשמנו ממנו לטובה הוא נתן לשנינו להעניק זה לזו את הטבעת. לקראת שבירת הכוס החתן נורא חשש שלא ישבור את הכוס, בכל זאת זה השיא של החופה , בתמונות ראינו כי הוא הרים את הרגל כל כך גבוה בגלל החשש, אבל אל דאגה לבסוף הוא שבר. השיר כניסה שלנו לחופה היה של בניה ברבי, \"עכשיו הלב פתוח\", שיר מרגש שמתאר את הזוגיות שלנו .  היו לנו בחתונה 130 אורחים , אבל לאורך כל הדרך חשבנו שנהיה עם 50 אורחים או פחות - הכל היה לטובה בסוף ואנחנו מאוד נהנו.\\nלאחר החתונה נסענו לבית מלון עקב כך שהשמיים עדיין היו סגורים . נסענו למלון בתל אביב . טרם ההגעה ציינו כי אנחנו זוג נשוי חדש ואנחנו באים לאחר החתונה שלנו , ציפינו לקבלת פנים יותר חמה או שי קטן מהמלון , לצערנו לא קיבלנו כלום גם על אף כך שהתלוננו בפני המנהל . לבסוף שעשינו את הצ\\'ק אוט מהמלון המנהל התנצל ונתן לנו בקבוק שמפניה . אלו היו חודשיים קשים , פחדנו וחששנו רק רצינו שהכל יעבור בשלום . לבסוף התחתנו, הכל היה מעל המצופה ואנחנו מאושרים בחיי הנישואים החדשים שפתחנו.']\n"
     ]
    }
   ],
   "source": [
    "show_random_text(df_steps['4_clean_nar'],'narrative',1)"
   ]
  },
  {
   "cell_type": "code",
   "execution_count": 165,
   "metadata": {},
   "outputs": [],
   "source": [
    "stop_words = [x.strip() for x in open('heb_stopwords.txt','r').read().split('\\n')]"
   ]
  },
  {
   "cell_type": "markdown",
   "metadata": {},
   "source": [
    "## Step 2 - tokenize the narrative\n",
    "exaustive search for the best model"
   ]
  },
  {
   "cell_type": "code",
   "execution_count": 72,
   "metadata": {},
   "outputs": [],
   "source": [
    "text_train = df_steps['4_clean_nar']['narrative'].tolist()\n",
    "text_test = df_test['narrative'].tolist()\n",
    "y_train = df_steps['4_clean_nar']['label']"
   ]
  },
  {
   "cell_type": "code",
   "execution_count": 73,
   "metadata": {},
   "outputs": [
    {
     "name": "stdout",
     "output_type": "stream",
     "text": [
      "408\n",
      "408\n"
     ]
    }
   ],
   "source": [
    "print (len(text_train))\n",
    "print (len(y_train))"
   ]
  },
  {
   "cell_type": "code",
   "execution_count": 74,
   "metadata": {},
   "outputs": [
    {
     "name": "stdout",
     "output_type": "stream",
     "text": [
      "(408, 3932)\n"
     ]
    }
   ],
   "source": [
    "vect = CountVectorizer(min_df=4,stop_words=stop_words)\n",
    "X_train = vect.fit_transform(text_train)\n",
    "print(X_train.shape)"
   ]
  },
  {
   "cell_type": "code",
   "execution_count": 75,
   "metadata": {},
   "outputs": [],
   "source": [
    "def sample_features(features):\n",
    "    n = len(features)\n",
    "    print(feature_names[:20])\n",
    "    print(feature_names[round(n/2)-10:round(n/2)+10])\n",
    "    print(feature_names[::round(n/10)])"
   ]
  },
  {
   "cell_type": "code",
   "execution_count": 76,
   "metadata": {},
   "outputs": [
    {
     "name": "stdout",
     "output_type": "stream",
     "text": [
      "['00', '000', '10', '100', '1000', '11', '12', '13', '14', '15', '16', '18', '20', '200', '2020', '2021', '21', '22', '23', '24']\n",
      "['ירדה', 'ירדנו', 'ירדתי', 'ירוק', 'ירצה', 'ירקות', 'ישב', 'ישבו', 'ישבנו', 'ישבתי', 'ישירות', 'ישמע', 'ישן', 'ישנה', 'ישנו', 'ישנים', 'ישנם', 'ישנתי', 'ישר', 'ישראלים']\n",
      "['00', 'במספר', 'ההר', 'הצליחו', 'ולמחרת', 'ישבתי', 'למטה', 'מטלות', 'סגרתי', 'שאמא', 'תשלום']\n"
     ]
    }
   ],
   "source": [
    "#Vocabulary\n",
    "feature_names = vect.get_feature_names()\n",
    "sample_features(feature_names)"
   ]
  },
  {
   "cell_type": "code",
   "execution_count": 77,
   "metadata": {},
   "outputs": [
    {
     "name": "stdout",
     "output_type": "stream",
     "text": [
      "3932\n"
     ]
    }
   ],
   "source": [
    "print (len(feature_names))"
   ]
  },
  {
   "cell_type": "code",
   "execution_count": 78,
   "metadata": {},
   "outputs": [],
   "source": [
    "def train_and_predict(estimator,X_train,y_train,X_test):\n",
    "    model = estimator.fit(X_train,y_train)\n",
    "    y_pred = model.predict(X_test)\n",
    "    return model,y_pred"
   ]
  },
  {
   "cell_type": "code",
   "execution_count": 79,
   "metadata": {},
   "outputs": [],
   "source": [
    "regressors = [\n",
    "    LogisticRegression(),\n",
    "    LogisticRegressionCV(),\n",
    "    PassiveAggressiveClassifier(),\n",
    "    Perceptron(),\n",
    "    RidgeClassifier(),\n",
    "    RidgeClassifierCV(),\n",
    "    SGDClassifier()\n",
    "]\n",
    "scores_df = pd.DataFrame(dtype=float)"
   ]
  },
  {
   "cell_type": "code",
   "execution_count": 80,
   "metadata": {},
   "outputs": [
    {
     "name": "stdout",
     "output_type": "stream",
     "text": [
      "*********LogisticRegression *********\n",
      "*********LogisticRegressionCV *********\n",
      "*********PassiveAggressiveClassifier *********\n",
      "*********Perceptron *********\n",
      "*********RidgeClassifier *********\n",
      "*********RidgeClassifierCV *********\n",
      "*********SGDClassifier *********\n"
     ]
    }
   ],
   "source": [
    "for regr in regressors:\n",
    "    get_cross_val_score(scores_df,regr, X_train, y_train,\"count_vectorizer\")"
   ]
  },
  {
   "cell_type": "code",
   "execution_count": 81,
   "metadata": {},
   "outputs": [
    {
     "data": {
      "text/html": [
       "<div>\n",
       "<style scoped>\n",
       "    .dataframe tbody tr th:only-of-type {\n",
       "        vertical-align: middle;\n",
       "    }\n",
       "\n",
       "    .dataframe tbody tr th {\n",
       "        vertical-align: top;\n",
       "    }\n",
       "\n",
       "    .dataframe thead th {\n",
       "        text-align: right;\n",
       "    }\n",
       "</style>\n",
       "<table border=\"1\" class=\"dataframe\">\n",
       "  <thead>\n",
       "    <tr style=\"text-align: right;\">\n",
       "      <th></th>\n",
       "      <th>f1</th>\n",
       "      <th>roc_auc</th>\n",
       "      <th>recall</th>\n",
       "      <th>average_precision</th>\n",
       "    </tr>\n",
       "  </thead>\n",
       "  <tbody>\n",
       "    <tr>\n",
       "      <th>RidgeClassifierCV_count_vectorizer</th>\n",
       "      <td>0.538458</td>\n",
       "      <td>0.581060</td>\n",
       "      <td>0.534762</td>\n",
       "      <td>0.606632</td>\n",
       "    </tr>\n",
       "    <tr>\n",
       "      <th>PassiveAggressiveClassifier_count_vectorizer</th>\n",
       "      <td>0.541820</td>\n",
       "      <td>0.575143</td>\n",
       "      <td>0.544524</td>\n",
       "      <td>0.602234</td>\n",
       "    </tr>\n",
       "    <tr>\n",
       "      <th>LogisticRegressionCV_count_vectorizer</th>\n",
       "      <td>0.547674</td>\n",
       "      <td>0.617250</td>\n",
       "      <td>0.544524</td>\n",
       "      <td>0.625366</td>\n",
       "    </tr>\n",
       "    <tr>\n",
       "      <th>LogisticRegression_count_vectorizer</th>\n",
       "      <td>0.550365</td>\n",
       "      <td>0.587250</td>\n",
       "      <td>0.554048</td>\n",
       "      <td>0.612803</td>\n",
       "    </tr>\n",
       "    <tr>\n",
       "      <th>RidgeClassifier_count_vectorizer</th>\n",
       "      <td>0.559924</td>\n",
       "      <td>0.568786</td>\n",
       "      <td>0.569286</td>\n",
       "      <td>0.607650</td>\n",
       "    </tr>\n",
       "  </tbody>\n",
       "</table>\n",
       "</div>"
      ],
      "text/plain": [
       "                                                   f1  roc_auc   recall  \\\n",
       "RidgeClassifierCV_count_vectorizer           0.538458 0.581060 0.534762   \n",
       "PassiveAggressiveClassifier_count_vectorizer 0.541820 0.575143 0.544524   \n",
       "LogisticRegressionCV_count_vectorizer        0.547674 0.617250 0.544524   \n",
       "LogisticRegression_count_vectorizer          0.550365 0.587250 0.554048   \n",
       "RidgeClassifier_count_vectorizer             0.559924 0.568786 0.569286   \n",
       "\n",
       "                                              average_precision  \n",
       "RidgeClassifierCV_count_vectorizer                     0.606632  \n",
       "PassiveAggressiveClassifier_count_vectorizer           0.602234  \n",
       "LogisticRegressionCV_count_vectorizer                  0.625366  \n",
       "LogisticRegression_count_vectorizer                    0.612803  \n",
       "RidgeClassifier_count_vectorizer                       0.607650  "
      ]
     },
     "metadata": {},
     "output_type": "display_data"
    }
   ],
   "source": [
    "display(scores_df.sort_values(by='f1').tail(5))"
   ]
  },
  {
   "cell_type": "code",
   "execution_count": 124,
   "metadata": {},
   "outputs": [],
   "source": [
    "#TfidfVectorizer\n",
    "tdif = TfidfVectorizer(min_df=4,stop_words=stop_words)\n",
    "X_train = tdif.fit_transform(text_train)\n",
    "X_train = normalize(X_train,norm=\"l1\")"
   ]
  },
  {
   "cell_type": "code",
   "execution_count": 125,
   "metadata": {},
   "outputs": [
    {
     "name": "stdout",
     "output_type": "stream",
     "text": [
      "408\n"
     ]
    },
    {
     "data": {
      "text/plain": [
       "3932"
      ]
     },
     "execution_count": 125,
     "metadata": {},
     "output_type": "execute_result"
    }
   ],
   "source": [
    "print (len(text_train))\n",
    "len(tdif.get_feature_names())"
   ]
  },
  {
   "cell_type": "code",
   "execution_count": 126,
   "metadata": {},
   "outputs": [
    {
     "name": "stdout",
     "output_type": "stream",
     "text": [
      "*********LogisticRegression *********\n",
      "*********LogisticRegressionCV *********\n",
      "*********PassiveAggressiveClassifier *********\n",
      "*********Perceptron *********\n",
      "*********RidgeClassifier *********\n",
      "*********RidgeClassifierCV *********\n",
      "*********SGDClassifier *********\n"
     ]
    }
   ],
   "source": [
    "for regr in regressors:\n",
    "    get_cross_val_score(scores_df,regr, X_train, y_train,\"TfidfVectorizer_norm\")"
   ]
  },
  {
   "cell_type": "code",
   "execution_count": 127,
   "metadata": {},
   "outputs": [
    {
     "data": {
      "text/html": [
       "<div>\n",
       "<style scoped>\n",
       "    .dataframe tbody tr th:only-of-type {\n",
       "        vertical-align: middle;\n",
       "    }\n",
       "\n",
       "    .dataframe tbody tr th {\n",
       "        vertical-align: top;\n",
       "    }\n",
       "\n",
       "    .dataframe thead th {\n",
       "        text-align: right;\n",
       "    }\n",
       "</style>\n",
       "<table border=\"1\" class=\"dataframe\">\n",
       "  <thead>\n",
       "    <tr style=\"text-align: right;\">\n",
       "      <th></th>\n",
       "      <th>f1</th>\n",
       "      <th>roc_auc</th>\n",
       "      <th>recall</th>\n",
       "      <th>average_precision</th>\n",
       "    </tr>\n",
       "  </thead>\n",
       "  <tbody>\n",
       "    <tr>\n",
       "      <th>RidgeClassifier_CountVectorizer_norm</th>\n",
       "      <td>0.570913</td>\n",
       "      <td>0.622179</td>\n",
       "      <td>0.576190</td>\n",
       "      <td>0.637638</td>\n",
       "    </tr>\n",
       "    <tr>\n",
       "      <th>LogisticRegressionCV_CountVectorizer_norm</th>\n",
       "      <td>0.574083</td>\n",
       "      <td>0.605131</td>\n",
       "      <td>0.573333</td>\n",
       "      <td>0.625665</td>\n",
       "    </tr>\n",
       "    <tr>\n",
       "      <th>RidgeClassifierCV_CountVectorizer_norm</th>\n",
       "      <td>0.592892</td>\n",
       "      <td>0.620702</td>\n",
       "      <td>0.602619</td>\n",
       "      <td>0.638202</td>\n",
       "    </tr>\n",
       "    <tr>\n",
       "      <th>SGDClassifier_CountVectorizer_norm</th>\n",
       "      <td>0.621324</td>\n",
       "      <td>0.623429</td>\n",
       "      <td>0.706905</td>\n",
       "      <td>0.639433</td>\n",
       "    </tr>\n",
       "    <tr>\n",
       "      <th>SGDClassifier_TfidfVectorizer_norm</th>\n",
       "      <td>0.628893</td>\n",
       "      <td>0.620071</td>\n",
       "      <td>0.762143</td>\n",
       "      <td>0.638596</td>\n",
       "    </tr>\n",
       "  </tbody>\n",
       "</table>\n",
       "</div>"
      ],
      "text/plain": [
       "                                                f1  roc_auc   recall  \\\n",
       "RidgeClassifier_CountVectorizer_norm      0.570913 0.622179 0.576190   \n",
       "LogisticRegressionCV_CountVectorizer_norm 0.574083 0.605131 0.573333   \n",
       "RidgeClassifierCV_CountVectorizer_norm    0.592892 0.620702 0.602619   \n",
       "SGDClassifier_CountVectorizer_norm        0.621324 0.623429 0.706905   \n",
       "SGDClassifier_TfidfVectorizer_norm        0.628893 0.620071 0.762143   \n",
       "\n",
       "                                           average_precision  \n",
       "RidgeClassifier_CountVectorizer_norm                0.637638  \n",
       "LogisticRegressionCV_CountVectorizer_norm           0.625665  \n",
       "RidgeClassifierCV_CountVectorizer_norm              0.638202  \n",
       "SGDClassifier_CountVectorizer_norm                  0.639433  \n",
       "SGDClassifier_TfidfVectorizer_norm                  0.638596  "
      ]
     },
     "metadata": {},
     "output_type": "display_data"
    }
   ],
   "source": [
    "display(scores_df.sort_values(by='f1').tail(5))"
   ]
  },
  {
   "cell_type": "code",
   "execution_count": 121,
   "metadata": {},
   "outputs": [],
   "source": [
    "# L1 normalization with CountVectorizer\n",
    "count_vec = CountVectorizer(min_df=4,stop_words=stop_words)\n",
    "X_train = count_vec.fit_transform(text_train)\n",
    "X_train = normalize(X_train,norm=\"l1\")"
   ]
  },
  {
   "cell_type": "code",
   "execution_count": 122,
   "metadata": {},
   "outputs": [
    {
     "name": "stdout",
     "output_type": "stream",
     "text": [
      "*********LogisticRegression *********\n",
      "*********LogisticRegressionCV *********\n",
      "*********PassiveAggressiveClassifier *********\n",
      "*********Perceptron *********\n",
      "*********RidgeClassifier *********\n",
      "*********RidgeClassifierCV *********\n",
      "*********SGDClassifier *********\n"
     ]
    }
   ],
   "source": [
    "for regr in regressors:\n",
    "    get_cross_val_score(scores_df,regr, X_train, y_train,\"CountVectorizer_norm\")"
   ]
  },
  {
   "cell_type": "code",
   "execution_count": 123,
   "metadata": {},
   "outputs": [
    {
     "data": {
      "text/html": [
       "<div>\n",
       "<style scoped>\n",
       "    .dataframe tbody tr th:only-of-type {\n",
       "        vertical-align: middle;\n",
       "    }\n",
       "\n",
       "    .dataframe tbody tr th {\n",
       "        vertical-align: top;\n",
       "    }\n",
       "\n",
       "    .dataframe thead th {\n",
       "        text-align: right;\n",
       "    }\n",
       "</style>\n",
       "<table border=\"1\" class=\"dataframe\">\n",
       "  <thead>\n",
       "    <tr style=\"text-align: right;\">\n",
       "      <th></th>\n",
       "      <th>f1</th>\n",
       "      <th>roc_auc</th>\n",
       "      <th>recall</th>\n",
       "      <th>average_precision</th>\n",
       "    </tr>\n",
       "  </thead>\n",
       "  <tbody>\n",
       "    <tr>\n",
       "      <th>RidgeClassifier_count_vectorizer</th>\n",
       "      <td>0.559924</td>\n",
       "      <td>0.568786</td>\n",
       "      <td>0.569286</td>\n",
       "      <td>0.607650</td>\n",
       "    </tr>\n",
       "    <tr>\n",
       "      <th>RidgeClassifier_CountVectorizer_norm</th>\n",
       "      <td>0.570913</td>\n",
       "      <td>0.622179</td>\n",
       "      <td>0.576190</td>\n",
       "      <td>0.637638</td>\n",
       "    </tr>\n",
       "    <tr>\n",
       "      <th>LogisticRegressionCV_CountVectorizer_norm</th>\n",
       "      <td>0.574083</td>\n",
       "      <td>0.605131</td>\n",
       "      <td>0.573333</td>\n",
       "      <td>0.625665</td>\n",
       "    </tr>\n",
       "    <tr>\n",
       "      <th>RidgeClassifierCV_CountVectorizer_norm</th>\n",
       "      <td>0.592892</td>\n",
       "      <td>0.620702</td>\n",
       "      <td>0.602619</td>\n",
       "      <td>0.638202</td>\n",
       "    </tr>\n",
       "    <tr>\n",
       "      <th>SGDClassifier_CountVectorizer_norm</th>\n",
       "      <td>0.621324</td>\n",
       "      <td>0.623429</td>\n",
       "      <td>0.706905</td>\n",
       "      <td>0.639433</td>\n",
       "    </tr>\n",
       "  </tbody>\n",
       "</table>\n",
       "</div>"
      ],
      "text/plain": [
       "                                                f1  roc_auc   recall  \\\n",
       "RidgeClassifier_count_vectorizer          0.559924 0.568786 0.569286   \n",
       "RidgeClassifier_CountVectorizer_norm      0.570913 0.622179 0.576190   \n",
       "LogisticRegressionCV_CountVectorizer_norm 0.574083 0.605131 0.573333   \n",
       "RidgeClassifierCV_CountVectorizer_norm    0.592892 0.620702 0.602619   \n",
       "SGDClassifier_CountVectorizer_norm        0.621324 0.623429 0.706905   \n",
       "\n",
       "                                           average_precision  \n",
       "RidgeClassifier_count_vectorizer                    0.607650  \n",
       "RidgeClassifier_CountVectorizer_norm                0.637638  \n",
       "LogisticRegressionCV_CountVectorizer_norm           0.625665  \n",
       "RidgeClassifierCV_CountVectorizer_norm              0.638202  \n",
       "SGDClassifier_CountVectorizer_norm                  0.639433  "
      ]
     },
     "metadata": {},
     "output_type": "display_data"
    }
   ],
   "source": [
    "display(scores_df.sort_values(by='f1').tail(5))"
   ]
  },
  {
   "cell_type": "code",
   "execution_count": 37,
   "metadata": {},
   "outputs": [],
   "source": [
    "#ngrams\n",
    "ngrm = CountVectorizer(ngram_range=(1, 3), min_df=4,stop_words=stop_words)\n",
    "X_train = ngrm.fit_transform(text_train)"
   ]
  },
  {
   "cell_type": "code",
   "execution_count": 38,
   "metadata": {},
   "outputs": [
    {
     "name": "stdout",
     "output_type": "stream",
     "text": [
      "*********LogisticRegression *********\n",
      "*********LogisticRegressionCV *********\n",
      "*********PassiveAggressiveClassifier *********\n",
      "*********Perceptron *********\n",
      "*********RidgeClassifier *********\n",
      "*********RidgeClassifierCV *********\n",
      "*********SGDClassifier *********\n"
     ]
    }
   ],
   "source": [
    "for regr in regressors:\n",
    "    get_cross_val_score(scores_df,regr, X_train, y_train,\"ngrm\")"
   ]
  },
  {
   "cell_type": "code",
   "execution_count": 39,
   "metadata": {},
   "outputs": [
    {
     "data": {
      "text/html": [
       "<div>\n",
       "<style scoped>\n",
       "    .dataframe tbody tr th:only-of-type {\n",
       "        vertical-align: middle;\n",
       "    }\n",
       "\n",
       "    .dataframe tbody tr th {\n",
       "        vertical-align: top;\n",
       "    }\n",
       "\n",
       "    .dataframe thead th {\n",
       "        text-align: right;\n",
       "    }\n",
       "</style>\n",
       "<table border=\"1\" class=\"dataframe\">\n",
       "  <thead>\n",
       "    <tr style=\"text-align: right;\">\n",
       "      <th></th>\n",
       "      <th>f1</th>\n",
       "      <th>roc_auc</th>\n",
       "      <th>recall</th>\n",
       "      <th>average_precision</th>\n",
       "    </tr>\n",
       "  </thead>\n",
       "  <tbody>\n",
       "    <tr>\n",
       "      <th>PassiveAggressiveClassifier_count_vectorizer</th>\n",
       "      <td>0.562644</td>\n",
       "      <td>0.570321</td>\n",
       "      <td>0.568810</td>\n",
       "      <td>0.598289</td>\n",
       "    </tr>\n",
       "    <tr>\n",
       "      <th>RidgeClassifier_TfidfVectorizer_norm</th>\n",
       "      <td>0.570913</td>\n",
       "      <td>0.622179</td>\n",
       "      <td>0.576190</td>\n",
       "      <td>0.637638</td>\n",
       "    </tr>\n",
       "    <tr>\n",
       "      <th>LogisticRegressionCV_TfidfVectorizer_norm</th>\n",
       "      <td>0.574083</td>\n",
       "      <td>0.605131</td>\n",
       "      <td>0.573333</td>\n",
       "      <td>0.625665</td>\n",
       "    </tr>\n",
       "    <tr>\n",
       "      <th>RidgeClassifierCV_TfidfVectorizer_norm</th>\n",
       "      <td>0.592892</td>\n",
       "      <td>0.620702</td>\n",
       "      <td>0.602619</td>\n",
       "      <td>0.638202</td>\n",
       "    </tr>\n",
       "    <tr>\n",
       "      <th>SGDClassifier_TfidfVectorizer_norm</th>\n",
       "      <td>0.623732</td>\n",
       "      <td>0.623452</td>\n",
       "      <td>0.701905</td>\n",
       "      <td>0.639365</td>\n",
       "    </tr>\n",
       "  </tbody>\n",
       "</table>\n",
       "</div>"
      ],
      "text/plain": [
       "                                                   f1  roc_auc   recall  \\\n",
       "PassiveAggressiveClassifier_count_vectorizer 0.562644 0.570321 0.568810   \n",
       "RidgeClassifier_TfidfVectorizer_norm         0.570913 0.622179 0.576190   \n",
       "LogisticRegressionCV_TfidfVectorizer_norm    0.574083 0.605131 0.573333   \n",
       "RidgeClassifierCV_TfidfVectorizer_norm       0.592892 0.620702 0.602619   \n",
       "SGDClassifier_TfidfVectorizer_norm           0.623732 0.623452 0.701905   \n",
       "\n",
       "                                              average_precision  \n",
       "PassiveAggressiveClassifier_count_vectorizer           0.598289  \n",
       "RidgeClassifier_TfidfVectorizer_norm                   0.637638  \n",
       "LogisticRegressionCV_TfidfVectorizer_norm              0.625665  \n",
       "RidgeClassifierCV_TfidfVectorizer_norm                 0.638202  \n",
       "SGDClassifier_TfidfVectorizer_norm                     0.639365  "
      ]
     },
     "metadata": {},
     "output_type": "display_data"
    }
   ],
   "source": [
    "display(scores_df.sort_values(by='f1').tail(5))"
   ]
  },
  {
   "cell_type": "code",
   "execution_count": 40,
   "metadata": {},
   "outputs": [
    {
     "name": "stdout",
     "output_type": "stream",
     "text": [
      "vocaulary size:12592\n"
     ]
    }
   ],
   "source": [
    "cv = CountVectorizer(ngram_range=(1, 3), analyzer=\"char_wb\",stop_words=stop_words)\n",
    "X_train = cv.fit_transform(text_train)\n",
    "print(f\"vocaulary size:{len(cv.vocabulary_)}\")"
   ]
  },
  {
   "cell_type": "code",
   "execution_count": 41,
   "metadata": {},
   "outputs": [
    {
     "name": "stdout",
     "output_type": "stream",
     "text": [
      "*********LogisticRegression *********\n",
      "*********LogisticRegressionCV *********\n",
      "*********PassiveAggressiveClassifier *********\n",
      "*********Perceptron *********\n",
      "*********RidgeClassifier *********\n",
      "*********RidgeClassifierCV *********\n",
      "*********SGDClassifier *********\n"
     ]
    }
   ],
   "source": [
    "for regr in regressors:\n",
    "    get_cross_val_score(scores_df,regr, X_train, y_train,\"_char_wb\")"
   ]
  },
  {
   "cell_type": "code",
   "execution_count": 42,
   "metadata": {},
   "outputs": [
    {
     "data": {
      "text/html": [
       "<div>\n",
       "<style scoped>\n",
       "    .dataframe tbody tr th:only-of-type {\n",
       "        vertical-align: middle;\n",
       "    }\n",
       "\n",
       "    .dataframe tbody tr th {\n",
       "        vertical-align: top;\n",
       "    }\n",
       "\n",
       "    .dataframe thead th {\n",
       "        text-align: right;\n",
       "    }\n",
       "</style>\n",
       "<table border=\"1\" class=\"dataframe\">\n",
       "  <thead>\n",
       "    <tr style=\"text-align: right;\">\n",
       "      <th></th>\n",
       "      <th>f1</th>\n",
       "      <th>roc_auc</th>\n",
       "      <th>recall</th>\n",
       "      <th>average_precision</th>\n",
       "    </tr>\n",
       "  </thead>\n",
       "  <tbody>\n",
       "    <tr>\n",
       "      <th>PassiveAggressiveClassifier_count_vectorizer</th>\n",
       "      <td>0.562644</td>\n",
       "      <td>0.570321</td>\n",
       "      <td>0.568810</td>\n",
       "      <td>0.598289</td>\n",
       "    </tr>\n",
       "    <tr>\n",
       "      <th>RidgeClassifier_TfidfVectorizer_norm</th>\n",
       "      <td>0.570913</td>\n",
       "      <td>0.622179</td>\n",
       "      <td>0.576190</td>\n",
       "      <td>0.637638</td>\n",
       "    </tr>\n",
       "    <tr>\n",
       "      <th>LogisticRegressionCV_TfidfVectorizer_norm</th>\n",
       "      <td>0.574083</td>\n",
       "      <td>0.605131</td>\n",
       "      <td>0.573333</td>\n",
       "      <td>0.625665</td>\n",
       "    </tr>\n",
       "    <tr>\n",
       "      <th>RidgeClassifierCV_TfidfVectorizer_norm</th>\n",
       "      <td>0.592892</td>\n",
       "      <td>0.620702</td>\n",
       "      <td>0.602619</td>\n",
       "      <td>0.638202</td>\n",
       "    </tr>\n",
       "    <tr>\n",
       "      <th>SGDClassifier_TfidfVectorizer_norm</th>\n",
       "      <td>0.623732</td>\n",
       "      <td>0.623452</td>\n",
       "      <td>0.701905</td>\n",
       "      <td>0.639365</td>\n",
       "    </tr>\n",
       "  </tbody>\n",
       "</table>\n",
       "</div>"
      ],
      "text/plain": [
       "                                                   f1  roc_auc   recall  \\\n",
       "PassiveAggressiveClassifier_count_vectorizer 0.562644 0.570321 0.568810   \n",
       "RidgeClassifier_TfidfVectorizer_norm         0.570913 0.622179 0.576190   \n",
       "LogisticRegressionCV_TfidfVectorizer_norm    0.574083 0.605131 0.573333   \n",
       "RidgeClassifierCV_TfidfVectorizer_norm       0.592892 0.620702 0.602619   \n",
       "SGDClassifier_TfidfVectorizer_norm           0.623732 0.623452 0.701905   \n",
       "\n",
       "                                              average_precision  \n",
       "PassiveAggressiveClassifier_count_vectorizer           0.598289  \n",
       "RidgeClassifier_TfidfVectorizer_norm                   0.637638  \n",
       "LogisticRegressionCV_TfidfVectorizer_norm              0.625665  \n",
       "RidgeClassifierCV_TfidfVectorizer_norm                 0.638202  \n",
       "SGDClassifier_TfidfVectorizer_norm                     0.639365  "
      ]
     },
     "metadata": {},
     "output_type": "display_data"
    }
   ],
   "source": [
    "display(scores_df.sort_values(by='f1').tail(5))"
   ]
  },
  {
   "cell_type": "markdown",
   "metadata": {},
   "source": [
    "Get an impression of data by looking at most important features"
   ]
  },
  {
   "cell_type": "code",
   "execution_count": 86,
   "metadata": {},
   "outputs": [
    {
     "data": {
      "text/plain": [
       "SGDClassifier()"
      ]
     },
     "execution_count": 86,
     "metadata": {},
     "output_type": "execute_result"
    }
   ],
   "source": [
    "tdif = TfidfVectorizer(stop_words=stop_words,min_df=4)\n",
    "X_train = tdif.fit_transform(text_train)\n",
    "\n",
    "sgc = SGDClassifier()\n",
    "sgc.fit(X_train, y_train)"
   ]
  },
  {
   "cell_type": "code",
   "execution_count": 87,
   "metadata": {},
   "outputs": [],
   "source": [
    "def plot_important_features(coef, feature_names, top_n=20, ax=None, rotation=60):\n",
    "    if ax is None:\n",
    "        ax = plt.gca()\n",
    "    inds = np.argsort(coef)\n",
    "    low = inds[:top_n]\n",
    "    high = inds[-top_n:]\n",
    "    important = np.hstack([low, high])\n",
    "    myrange = range(len(important))\n",
    "    colors = ['red'] * top_n + ['blue'] * top_n\n",
    "    \n",
    "    ax.bar(myrange, coef[important], color=colors)\n",
    "    ax.set_xticks(myrange)\n",
    "    heb_feature_names =[bidialg.get_display(feature) for feature in feature_names[important]]\n",
    "    ax.set_xticklabels(heb_feature_names, rotation=rotation, ha=\"right\")\n",
    "    ax.set_xlim(-.7, 2 * top_n)\n",
    "    ax.set_frame_on(False)"
   ]
  },
  {
   "cell_type": "code",
   "execution_count": 88,
   "metadata": {},
   "outputs": [
    {
     "data": {
      "image/png": "[encoded data removed]",
      "text/plain": [
       "<Figure size 1080x432 with 1 Axes>"
      ]
     },
     "metadata": {
      "needs_background": "light"
     },
     "output_type": "display_data"
    }
   ],
   "source": [
    "plt.figure(figsize=(15, 6))\n",
    "plot_important_features(sgc.coef_.ravel(), np.array(tdif.get_feature_names()), top_n=20, rotation=40)\n",
    "ax = plt.gca()\n",
    "plt.show()"
   ]
  },
  {
   "cell_type": "code",
   "execution_count": 58,
   "metadata": {},
   "outputs": [
    {
     "name": "stdout",
     "output_type": "stream",
     "text": [
      "['00', '000', '10', '100', '1000', '11', '12', '13', '14', '15', '16', '18', '20', '200', '2020', '2021', '21', '22', '23', '24']\n",
      "['ירדה', 'ירדנו', 'ירדתי', 'ירוק', 'ירצה', 'ירקות', 'ישב', 'ישבו', 'ישבנו', 'ישבתי', 'ישירות', 'ישמע', 'ישן', 'ישנה', 'ישנו', 'ישנים', 'ישנם', 'ישנתי', 'ישר', 'ישראלים']\n",
      "['00', 'במספר', 'ההר', 'הצליחו', 'ולמחרת', 'ישבתי', 'למטה', 'מטלות', 'סגרתי', 'שאמא', 'תשלום']\n"
     ]
    }
   ],
   "source": [
    "# pip install hebrew_tokenizer\n",
    "import hebrew_tokenizer as ht\n",
    "hebrew_text = text_train\n",
    "heb_vec=CountVectorizer().fit(hebrew_text)\n",
    "heb_vec.get_feature_names() \n",
    "sample_features(feature_names)"
   ]
  },
  {
   "cell_type": "code",
   "execution_count": 130,
   "metadata": {},
   "outputs": [
    {
     "data": {
      "text/html": [
       "<div>\n",
       "<style scoped>\n",
       "    .dataframe tbody tr th:only-of-type {\n",
       "        vertical-align: middle;\n",
       "    }\n",
       "\n",
       "    .dataframe tbody tr th {\n",
       "        vertical-align: top;\n",
       "    }\n",
       "\n",
       "    .dataframe thead th {\n",
       "        text-align: right;\n",
       "    }\n",
       "</style>\n",
       "<table border=\"1\" class=\"dataframe\">\n",
       "  <thead>\n",
       "    <tr style=\"text-align: right;\">\n",
       "      <th></th>\n",
       "      <th>author_gender</th>\n",
       "      <th>author_birth_year</th>\n",
       "      <th>narrative</th>\n",
       "      <th>label</th>\n",
       "      <th>nar_length</th>\n",
       "      <th>cnt_time</th>\n",
       "    </tr>\n",
       "  </thead>\n",
       "  <tbody>\n",
       "    <tr>\n",
       "      <th>390</th>\n",
       "      <td>1</td>\n",
       "      <td>1997</td>\n",
       "      <td>בחודש יולי האחרון, נסעתי עם משפחתי המורחבת מצד...</td>\n",
       "      <td>0</td>\n",
       "      <td>2180</td>\n",
       "      <td>2</td>\n",
       "    </tr>\n",
       "    <tr>\n",
       "      <th>137</th>\n",
       "      <td>0</td>\n",
       "      <td>1993</td>\n",
       "      <td>אחד מימי החול באמצע השבוע, מנהג של שנים עוד מג...</td>\n",
       "      <td>1</td>\n",
       "      <td>2027</td>\n",
       "      <td>2</td>\n",
       "    </tr>\n",
       "    <tr>\n",
       "      <th>136</th>\n",
       "      <td>0</td>\n",
       "      <td>1990</td>\n",
       "      <td>לפני חודש וחצי קמתי בבוקר עם כאבים חזקים מאוד....</td>\n",
       "      <td>1</td>\n",
       "      <td>1664</td>\n",
       "      <td>2</td>\n",
       "    </tr>\n",
       "    <tr>\n",
       "      <th>221</th>\n",
       "      <td>0</td>\n",
       "      <td>1997</td>\n",
       "      <td>במהלך שלושת החודשים האחרונים עוברת עלי תקופה ל...</td>\n",
       "      <td>0</td>\n",
       "      <td>1416</td>\n",
       "      <td>2</td>\n",
       "    </tr>\n",
       "    <tr>\n",
       "      <th>132</th>\n",
       "      <td>0</td>\n",
       "      <td>1996</td>\n",
       "      <td>חוויה שהייתה לי בשנה האחרונה התחילה בכך שהתקבל...</td>\n",
       "      <td>1</td>\n",
       "      <td>1900</td>\n",
       "      <td>2</td>\n",
       "    </tr>\n",
       "    <tr>\n",
       "      <th>379</th>\n",
       "      <td>0</td>\n",
       "      <td>1993</td>\n",
       "      <td>בתאריך ה 11.01.21 טסתי עם בת הזוג שלי לפולין ל...</td>\n",
       "      <td>0</td>\n",
       "      <td>1831</td>\n",
       "      <td>2</td>\n",
       "    </tr>\n",
       "    <tr>\n",
       "      <th>335</th>\n",
       "      <td>0</td>\n",
       "      <td>1999</td>\n",
       "      <td>בסמסטר קודם אני וכמה חברים ללימודים קבענו להיפ...</td>\n",
       "      <td>0</td>\n",
       "      <td>1935</td>\n",
       "      <td>2</td>\n",
       "    </tr>\n",
       "    <tr>\n",
       "      <th>169</th>\n",
       "      <td>0</td>\n",
       "      <td>1994</td>\n",
       "      <td>ביום חמישי הבן שלי ועוד מספר חברים הזמינו פיצה...</td>\n",
       "      <td>1</td>\n",
       "      <td>1624</td>\n",
       "      <td>3</td>\n",
       "    </tr>\n",
       "    <tr>\n",
       "      <th>196</th>\n",
       "      <td>0</td>\n",
       "      <td>1992</td>\n",
       "      <td>מהלך חודש דצמבר, מזג האוויר מקסים ולא אופייני ...</td>\n",
       "      <td>1</td>\n",
       "      <td>1956</td>\n",
       "      <td>3</td>\n",
       "    </tr>\n",
       "    <tr>\n",
       "      <th>174</th>\n",
       "      <td>0</td>\n",
       "      <td>1994</td>\n",
       "      <td>זהו היה יום חמישי אחר הצהריים, היום בו נקבע לי...</td>\n",
       "      <td>1</td>\n",
       "      <td>1779</td>\n",
       "      <td>6</td>\n",
       "    </tr>\n",
       "  </tbody>\n",
       "</table>\n",
       "</div>"
      ],
      "text/plain": [
       "     author_gender  author_birth_year  \\\n",
       "390              1               1997   \n",
       "137              0               1993   \n",
       "136              0               1990   \n",
       "221              0               1997   \n",
       "132              0               1996   \n",
       "379              0               1993   \n",
       "335              0               1999   \n",
       "169              0               1994   \n",
       "196              0               1992   \n",
       "174              0               1994   \n",
       "\n",
       "                                             narrative  label  nar_length  \\\n",
       "390  בחודש יולי האחרון, נסעתי עם משפחתי המורחבת מצד...      0        2180   \n",
       "137  אחד מימי החול באמצע השבוע, מנהג של שנים עוד מג...      1        2027   \n",
       "136  לפני חודש וחצי קמתי בבוקר עם כאבים חזקים מאוד....      1        1664   \n",
       "221  במהלך שלושת החודשים האחרונים עוברת עלי תקופה ל...      0        1416   \n",
       "132  חוויה שהייתה לי בשנה האחרונה התחילה בכך שהתקבל...      1        1900   \n",
       "379  בתאריך ה 11.01.21 טסתי עם בת הזוג שלי לפולין ל...      0        1831   \n",
       "335  בסמסטר קודם אני וכמה חברים ללימודים קבענו להיפ...      0        1935   \n",
       "169  ביום חמישי הבן שלי ועוד מספר חברים הזמינו פיצה...      1        1624   \n",
       "196  מהלך חודש דצמבר, מזג האוויר מקסים ולא אופייני ...      1        1956   \n",
       "174  זהו היה יום חמישי אחר הצהריים, היום בו נקבע לי...      1        1779   \n",
       "\n",
       "     cnt_time  \n",
       "390         2  \n",
       "137         2  \n",
       "136         2  \n",
       "221         2  \n",
       "132         2  \n",
       "379         2  \n",
       "335         2  \n",
       "169         3  \n",
       "196         3  \n",
       "174         6  "
      ]
     },
     "metadata": {},
     "output_type": "display_data"
    },
    {
     "data": {
      "text/plain": [
       "0    387\n",
       "1     11\n",
       "2      7\n",
       "3      2\n",
       "6      1\n",
       "Name: cnt_time, dtype: int64"
      ]
     },
     "execution_count": 130,
     "metadata": {},
     "output_type": "execute_result"
    }
   ],
   "source": [
    "# tokens = ht.tokenize(hebrew_text[0])  # tokenize returns a generator!\n",
    "time_column = []\n",
    "for text in hebrew_text:\n",
    "    text_grp = []\n",
    "    tokens = ht.tokenize(text)  # tokenize returns a generator!\n",
    "    for grp, token, token_num, (start_index, end_index) in tokens:\n",
    "    #     print('{}, {}'.format(grp, token))\n",
    "        text_grp.append(grp)\n",
    "    cnt_time = text_grp.count('HOUR') + text_grp.count('DATE') + text_grp.count('DATE_1') + text_grp.count('DATE_2')\n",
    "    time_column.append(cnt_time)\n",
    "df_steps['5_time_count'] = df_steps['4_clean_nar']\n",
    "df_steps['5_time_count']['cnt_time']=time_column\n",
    "display(df_steps['5_time_count'].sort_values(by='cnt_time').tail(10))  \n",
    "df_steps['5_time_count']['cnt_time'].value_counts()"
   ]
  },
  {
   "cell_type": "code",
   "execution_count": 153,
   "metadata": {},
   "outputs": [],
   "source": [
    "X,y=get_label_and_drop(df_steps['5_time_count'])"
   ]
  },
  {
   "cell_type": "code",
   "execution_count": 154,
   "metadata": {},
   "outputs": [
    {
     "data": {
      "text/html": [
       "<div>\n",
       "<style scoped>\n",
       "    .dataframe tbody tr th:only-of-type {\n",
       "        vertical-align: middle;\n",
       "    }\n",
       "\n",
       "    .dataframe tbody tr th {\n",
       "        vertical-align: top;\n",
       "    }\n",
       "\n",
       "    .dataframe thead th {\n",
       "        text-align: right;\n",
       "    }\n",
       "</style>\n",
       "<table border=\"1\" class=\"dataframe\">\n",
       "  <thead>\n",
       "    <tr style=\"text-align: right;\">\n",
       "      <th></th>\n",
       "      <th>author_gender</th>\n",
       "      <th>author_birth_year</th>\n",
       "      <th>narrative</th>\n",
       "      <th>nar_length</th>\n",
       "      <th>cnt_time</th>\n",
       "    </tr>\n",
       "  </thead>\n",
       "  <tbody>\n",
       "    <tr>\n",
       "      <th>0</th>\n",
       "      <td>0</td>\n",
       "      <td>1995</td>\n",
       "      <td>שנת 2020 הייתה מטלטלת למדי בשבילי, עברתי הרבה ...</td>\n",
       "      <td>1748</td>\n",
       "      <td>0</td>\n",
       "    </tr>\n",
       "    <tr>\n",
       "      <th>1</th>\n",
       "      <td>0</td>\n",
       "      <td>1992</td>\n",
       "      <td>בשנת 2018 קיבלתי החלטה שאני מתחיל ללמוד לתואר ...</td>\n",
       "      <td>1696</td>\n",
       "      <td>0</td>\n",
       "    </tr>\n",
       "    <tr>\n",
       "      <th>2</th>\n",
       "      <td>0</td>\n",
       "      <td>1992</td>\n",
       "      <td>לפני מספר שנים אני ובת הזוג שלי טסנו ללונדון ז...</td>\n",
       "      <td>1967</td>\n",
       "      <td>0</td>\n",
       "    </tr>\n",
       "    <tr>\n",
       "      <th>3</th>\n",
       "      <td>1</td>\n",
       "      <td>1991</td>\n",
       "      <td>האישה שבקושי הכרתי חייכה תמיד, העיניים שלה ברק...</td>\n",
       "      <td>1648</td>\n",
       "      <td>0</td>\n",
       "    </tr>\n",
       "    <tr>\n",
       "      <th>4</th>\n",
       "      <td>1</td>\n",
       "      <td>1992</td>\n",
       "      <td>בדרך חזרה מהטיול שנתי בכיתה ח' התקשרתי לאבא של...</td>\n",
       "      <td>1553</td>\n",
       "      <td>0</td>\n",
       "    </tr>\n",
       "    <tr>\n",
       "      <th>...</th>\n",
       "      <td>...</td>\n",
       "      <td>...</td>\n",
       "      <td>...</td>\n",
       "      <td>...</td>\n",
       "      <td>...</td>\n",
       "    </tr>\n",
       "    <tr>\n",
       "      <th>403</th>\n",
       "      <td>0</td>\n",
       "      <td>1988</td>\n",
       "      <td>ללמוד להעז יותר, אחד החוויה הזאת שעשיתי באה אח...</td>\n",
       "      <td>2561</td>\n",
       "      <td>0</td>\n",
       "    </tr>\n",
       "    <tr>\n",
       "      <th>404</th>\n",
       "      <td>0</td>\n",
       "      <td>1993</td>\n",
       "      <td>זה קרה לפניי מספר שבועות עוד כשהיינו תחת סגרים...</td>\n",
       "      <td>1670</td>\n",
       "      <td>0</td>\n",
       "    </tr>\n",
       "    <tr>\n",
       "      <th>405</th>\n",
       "      <td>0</td>\n",
       "      <td>1995</td>\n",
       "      <td>לפני שלוש שנים, לאחר שחסכתי, טסתי עם חבר מאוד ...</td>\n",
       "      <td>2032</td>\n",
       "      <td>0</td>\n",
       "    </tr>\n",
       "    <tr>\n",
       "      <th>406</th>\n",
       "      <td>1</td>\n",
       "      <td>1993</td>\n",
       "      <td>כשהייתי ילדה קטנה בבית הספר בגיל 8 הייי ילדה מ...</td>\n",
       "      <td>1457</td>\n",
       "      <td>0</td>\n",
       "    </tr>\n",
       "    <tr>\n",
       "      <th>407</th>\n",
       "      <td>0</td>\n",
       "      <td>1990</td>\n",
       "      <td>בשנה האחרונה יצא לי לעבוד בחברה מאד מוכרת. מתח...</td>\n",
       "      <td>1996</td>\n",
       "      <td>0</td>\n",
       "    </tr>\n",
       "  </tbody>\n",
       "</table>\n",
       "<p>408 rows × 5 columns</p>\n",
       "</div>"
      ],
      "text/plain": [
       "     author_gender  author_birth_year  \\\n",
       "0                0               1995   \n",
       "1                0               1992   \n",
       "2                0               1992   \n",
       "3                1               1991   \n",
       "4                1               1992   \n",
       "..             ...                ...   \n",
       "403              0               1988   \n",
       "404              0               1993   \n",
       "405              0               1995   \n",
       "406              1               1993   \n",
       "407              0               1990   \n",
       "\n",
       "                                             narrative  nar_length  cnt_time  \n",
       "0    שנת 2020 הייתה מטלטלת למדי בשבילי, עברתי הרבה ...        1748         0  \n",
       "1    בשנת 2018 קיבלתי החלטה שאני מתחיל ללמוד לתואר ...        1696         0  \n",
       "2    לפני מספר שנים אני ובת הזוג שלי טסנו ללונדון ז...        1967         0  \n",
       "3    האישה שבקושי הכרתי חייכה תמיד, העיניים שלה ברק...        1648         0  \n",
       "4    בדרך חזרה מהטיול שנתי בכיתה ח' התקשרתי לאבא של...        1553         0  \n",
       "..                                                 ...         ...       ...  \n",
       "403  ללמוד להעז יותר, אחד החוויה הזאת שעשיתי באה אח...        2561         0  \n",
       "404  זה קרה לפניי מספר שבועות עוד כשהיינו תחת סגרים...        1670         0  \n",
       "405  לפני שלוש שנים, לאחר שחסכתי, טסתי עם חבר מאוד ...        2032         0  \n",
       "406  כשהייתי ילדה קטנה בבית הספר בגיל 8 הייי ילדה מ...        1457         0  \n",
       "407  בשנה האחרונה יצא לי לעבוד בחברה מאד מוכרת. מתח...        1996         0  \n",
       "\n",
       "[408 rows x 5 columns]"
      ]
     },
     "execution_count": 154,
     "metadata": {},
     "output_type": "execute_result"
    }
   ],
   "source": [
    "X"
   ]
  },
  {
   "cell_type": "code",
   "execution_count": 155,
   "metadata": {},
   "outputs": [],
   "source": [
    "X_train, X_test, y_train, y_test = train_test_split(X, y,random_state=101,stratify=y)"
   ]
  },
  {
   "cell_type": "code",
   "execution_count": 156,
   "metadata": {},
   "outputs": [],
   "source": [
    "def get_num_text_pipeline(df,regr_num,regr_text):\n",
    "    numeric_cols = X_train.columns[X_train.columns.dtype != object].tolist()\n",
    "    \n",
    "    transformer_text = FunctionTransformer(lambda x: x['narrative'], validate=False)\n",
    "    transfomer_numeric = FunctionTransformer(lambda x: x[numeric_cols], validate=False)\n",
    "\n",
    "    pipeline = Pipeline([\n",
    "        ('features', FeatureUnion([\n",
    "                ('numeric_features', Pipeline([\n",
    "                    ('selector', transfomer_numeric)\n",
    "                ])),\n",
    "                 ('text_features', Pipeline([\n",
    "                    ('selector', transformer_text),\n",
    "                    (regr_text.__class__.__name__, regr_text)\n",
    "                ]))\n",
    "             ])),\n",
    "        ('estimator', regr_num)\n",
    "    ])\n",
    "    return pipeline"
   ]
  },
  {
   "cell_type": "code",
   "execution_count": 157,
   "metadata": {},
   "outputs": [
    {
     "name": "stdout",
     "output_type": "stream",
     "text": [
      "*********Pipeline *********\n",
      "*********Pipeline *********\n",
      "*********Pipeline *********\n",
      "*********Pipeline *********\n",
      "*********Pipeline *********\n",
      "*********Pipeline *********\n",
      "*********Pipeline *********\n"
     ]
    }
   ],
   "source": [
    "regr_text = TfidfVectorizer(min_df=4,stop_words=stop_words)\n",
    "\n",
    "for regr in regressors:\n",
    "    pipe = get_num_text_pipeline(X_train,regr,regr_text)\n",
    "    get_cross_val_score(scores_df,pipe, X_train, y_train,regr_text.__class__.__name__+\"_combined\")"
   ]
  },
  {
   "cell_type": "code",
   "execution_count": 158,
   "metadata": {},
   "outputs": [
    {
     "data": {
      "text/html": [
       "<div>\n",
       "<style scoped>\n",
       "    .dataframe tbody tr th:only-of-type {\n",
       "        vertical-align: middle;\n",
       "    }\n",
       "\n",
       "    .dataframe tbody tr th {\n",
       "        vertical-align: top;\n",
       "    }\n",
       "\n",
       "    .dataframe thead th {\n",
       "        text-align: right;\n",
       "    }\n",
       "</style>\n",
       "<table border=\"1\" class=\"dataframe\">\n",
       "  <thead>\n",
       "    <tr style=\"text-align: right;\">\n",
       "      <th></th>\n",
       "      <th>f1</th>\n",
       "      <th>roc_auc</th>\n",
       "      <th>recall</th>\n",
       "      <th>average_precision</th>\n",
       "    </tr>\n",
       "  </thead>\n",
       "  <tbody>\n",
       "    <tr>\n",
       "      <th>RidgeClassifier_CountVectorizer_norm</th>\n",
       "      <td>0.570913</td>\n",
       "      <td>0.622179</td>\n",
       "      <td>0.576190</td>\n",
       "      <td>0.637638</td>\n",
       "    </tr>\n",
       "    <tr>\n",
       "      <th>LogisticRegressionCV_CountVectorizer_norm</th>\n",
       "      <td>0.574083</td>\n",
       "      <td>0.605131</td>\n",
       "      <td>0.573333</td>\n",
       "      <td>0.625665</td>\n",
       "    </tr>\n",
       "    <tr>\n",
       "      <th>RidgeClassifierCV_CountVectorizer_norm</th>\n",
       "      <td>0.592892</td>\n",
       "      <td>0.620702</td>\n",
       "      <td>0.602619</td>\n",
       "      <td>0.638202</td>\n",
       "    </tr>\n",
       "    <tr>\n",
       "      <th>SGDClassifier_CountVectorizer_norm</th>\n",
       "      <td>0.621324</td>\n",
       "      <td>0.623429</td>\n",
       "      <td>0.706905</td>\n",
       "      <td>0.639433</td>\n",
       "    </tr>\n",
       "    <tr>\n",
       "      <th>SGDClassifier_TfidfVectorizer_norm</th>\n",
       "      <td>0.628893</td>\n",
       "      <td>0.620071</td>\n",
       "      <td>0.762143</td>\n",
       "      <td>0.638596</td>\n",
       "    </tr>\n",
       "  </tbody>\n",
       "</table>\n",
       "</div>"
      ],
      "text/plain": [
       "                                                f1  roc_auc   recall  \\\n",
       "RidgeClassifier_CountVectorizer_norm      0.570913 0.622179 0.576190   \n",
       "LogisticRegressionCV_CountVectorizer_norm 0.574083 0.605131 0.573333   \n",
       "RidgeClassifierCV_CountVectorizer_norm    0.592892 0.620702 0.602619   \n",
       "SGDClassifier_CountVectorizer_norm        0.621324 0.623429 0.706905   \n",
       "SGDClassifier_TfidfVectorizer_norm        0.628893 0.620071 0.762143   \n",
       "\n",
       "                                           average_precision  \n",
       "RidgeClassifier_CountVectorizer_norm                0.637638  \n",
       "LogisticRegressionCV_CountVectorizer_norm           0.625665  \n",
       "RidgeClassifierCV_CountVectorizer_norm              0.638202  \n",
       "SGDClassifier_CountVectorizer_norm                  0.639433  \n",
       "SGDClassifier_TfidfVectorizer_norm                  0.638596  "
      ]
     },
     "metadata": {},
     "output_type": "display_data"
    }
   ],
   "source": [
    "display(scores_df.sort_values(by='f1').tail(5))"
   ]
  },
  {
   "cell_type": "markdown",
   "metadata": {},
   "source": [
    "meantime combined featues haven't improved the results so far..."
   ]
  },
  {
   "cell_type": "markdown",
   "metadata": {},
   "source": [
    "## spaCy"
   ]
  },
  {
   "cell_type": "code",
   "execution_count": 51,
   "metadata": {},
   "outputs": [],
   "source": [
    "import spacy # is it relevant for hebrew? TBD check what we saw on a class on hebrew"
   ]
  },
  {
   "cell_type": "code",
   "execution_count": 52,
   "metadata": {},
   "outputs": [],
   "source": [
    "nlp = spacy.load(\"en_core_web_lg\", disable=[\"tagger\", \"parser\", \"ner\",\"lemmatizer\"])"
   ]
  },
  {
   "cell_type": "markdown",
   "metadata": {},
   "source": [
    "## Hebrew specific"
   ]
  },
  {
   "cell_type": "code",
   "execution_count": 61,
   "metadata": {},
   "outputs": [
    {
     "data": {
      "text/plain": [
       "<generator object Tokenizer.tokenize at 0x2b62fde24660>"
      ]
     },
     "execution_count": 61,
     "metadata": {},
     "output_type": "execute_result"
    }
   ],
   "source": [
    "tokens"
   ]
  },
  {
   "cell_type": "markdown",
   "metadata": {},
   "source": [
    "## Trying BERT for hebrew: heBERT"
   ]
  },
  {
   "cell_type": "code",
   "execution_count": null,
   "metadata": {},
   "outputs": [],
   "source": [
    "from transformers import pipeline\n",
    "import torch\n",
    "import transformers\n",
    "transformers.logging.set_verbosity_info()"
   ]
  },
  {
   "cell_type": "code",
   "execution_count": null,
   "metadata": {},
   "outputs": [],
   "source": [
    "from transformers import AutoTokenizer, AutoModel\n",
    "tokenizer = AutoTokenizer.from_pretrained(\"avichr/heBERT\")\n",
    "model = AutoModel.from_pretrained(\"avichr/heBERT\")\n",
    "\n",
    "from transformers import pipeline\n",
    "fill_mask = pipeline(\n",
    "    \"fill-mask\",\n",
    "    model=\"avichr/heBERT\",\n",
    "    tokenizer=\"avichr/heBERT\"\n",
    ")\n",
    "fill_mask(\"הקורונה לקחה את [MASK] ולנו לא נשאר דבר.\")"
   ]
  },
  {
   "cell_type": "code",
   "execution_count": null,
   "metadata": {},
   "outputs": [],
   "source": [
    "fill_mask.binary_output"
   ]
  },
  {
   "cell_type": "markdown",
   "metadata": {},
   "source": [
    "## Multilingual BERT"
   ]
  },
  {
   "cell_type": "code",
   "execution_count": null,
   "metadata": {},
   "outputs": [],
   "source": [
    "from transformers import BertTokenizer, TFBertModel\n",
    "tokenizer = BertTokenizer.from_pretrained('bert-base-multilingual-cased',do_lower_case=False)\n",
    "model = TFBertModel.from_pretrained(\"bert-base-multilingual-cased\")\n",
    "text = text_train\n",
    "encoded_input = tokenizer(text, return_tensors='tf')\n",
    "output = model(encoded_input)"
   ]
  },
  {
   "cell_type": "code",
   "execution_count": null,
   "metadata": {},
   "outputs": [],
   "source": [
    "output"
   ]
  },
  {
   "cell_type": "code",
   "execution_count": null,
   "metadata": {},
   "outputs": [],
   "source": [
    "encoded_input"
   ]
  },
  {
   "cell_type": "markdown",
   "metadata": {},
   "source": [
    "## Semantic analisys"
   ]
  },
  {
   "cell_type": "code",
   "execution_count": 175,
   "metadata": {},
   "outputs": [
    {
     "data": {
      "text/plain": [
       "(408, 3932)"
      ]
     },
     "execution_count": 175,
     "metadata": {},
     "output_type": "execute_result"
    }
   ],
   "source": [
    "vec = TfidfVectorizer(min_df=4,stop_words=stop_words)\n",
    "X_train = vec.fit_transform(text_train)\n",
    "X_train.shape"
   ]
  },
  {
   "cell_type": "code",
   "execution_count": 206,
   "metadata": {},
   "outputs": [],
   "source": [
    "from sklearn.decomposition import LatentDirichletAllocation\n",
    "lda10 = LatentDirichletAllocation(n_components=20, learning_method=\"batch\")\n",
    "X_lda10 = lda10.fit_transform(X_train)"
   ]
  },
  {
   "cell_type": "code",
   "execution_count": 207,
   "metadata": {},
   "outputs": [],
   "source": [
    "def plot_important_features2(coef, feature_names, top_n=20, ax=None):\n",
    "    if ax is None:\n",
    "        ax = plt.gca()\n",
    "    inds = np.argsort(np.abs(coef))[-top_n:]\n",
    "    important_coefs = coef[inds]\n",
    "    sort_sign = np.argsort(important_coefs)\n",
    "    myrange = range(len(inds))\n",
    "    combined_inds = inds[sort_sign]\n",
    "\n",
    "    ax.bar(myrange, coef[combined_inds])\n",
    "    ax.set_xticks(myrange)\n",
    "    heb_feature_names =[bidialg.get_display(feature) for feature in feature_names[combined_inds]]\n",
    "    ax.set_xticklabels(heb_feature_names, rotation=60, ha=\"right\")"
   ]
  },
  {
   "cell_type": "code",
   "execution_count": 208,
   "metadata": {},
   "outputs": [
    {
     "data": {
      "image/png": "[encoded data removed]",
      "text/plain": [
       "<Figure size 720x720 with 12 Axes>"
      ]
     },
     "metadata": {
      "needs_background": "light"
     },
     "output_type": "display_data"
    }
   ],
   "source": [
    "feature_names = np.array(vect.get_feature_names())\n",
    "n_components = 10\n",
    "fig, axes = plt.subplots(n_components // 3 + 1, 3, figsize=(10, 10))\n",
    "for ax, coef in zip(axes.ravel(), lda10.components_):\n",
    "    plot_important_features2(coef, feature_names, top_n=15, ax=ax)\n",
    "    \n",
    "plt.tight_layout()"
   ]
  },
  {
   "cell_type": "code",
   "execution_count": 209,
   "metadata": {},
   "outputs": [],
   "source": [
    "def print_topics(topics, feature_names, components, topics_per_chunk=6,\n",
    "                 n_words=20):\n",
    "    #sorting = np.argsort(components, axis=1)[:, ::-1]\n",
    "    sorting= components\n",
    "    \n",
    "    \n",
    "    for i in range(0, len(topics), topics_per_chunk):\n",
    "        # for each chunk:\n",
    "        these_topics = topics[i: i + topics_per_chunk]\n",
    "        # maybe we have less than topics_per_chunk left\n",
    "        len_this_chunk = len(these_topics)\n",
    "        # print topic headers\n",
    "        print((\"topic {:<8}\" * len_this_chunk).format(*these_topics))\n",
    "        print((\"-------- {0:<5}\" * len_this_chunk).format(\"\"))\n",
    "        # print top n_words frequent words\n",
    "        for ii in range(n_words):\n",
    "            try:\n",
    "                print((\"{:<14}\" * len_this_chunk).format(\n",
    "                    *feature_names[sorting[these_topics, ii]]))\n",
    "            except:\n",
    "                pass\n",
    "        print(\"\\n\")\n"
   ]
  },
  {
   "cell_type": "code",
   "execution_count": 210,
   "metadata": {},
   "outputs": [
    {
     "name": "stdout",
     "output_type": "stream",
     "text": [
      "topic 2       topic 5       topic 14      topic 17      topic 12      topic 4       topic 15      topic 6       \n",
      "--------      --------      --------      --------      --------      --------      --------      --------      \n",
      "אותנו         באותו         קיבלתי        אחותי         בכנרת         החתונה        הראיון        למטה          \n",
      "ימים          הגענו         החלטתי        הכול          המים          הטבעת         ראיון         לרוץ          \n",
      "החלטנו        בבוקר         ללמוד         הצעתי         אחותי         להתחתן        דודים         מיליון        \n",
      "ביחד          התחיל         הקורונה       למידה         טיולים        אירועים       בבסיס         טופס          \n",
      "בזמן          מכן           אשר           עוזר          ארוכות        לחתונה        לראיון        השער          \n",
      "מנת           מכיוון        במהלך         הבאנו         הבוס          בדקתי         המפקד         לאוטו         \n",
      "הבנתי         לכיוון        לחזור         הפסקה         מתוקים        העיניים       קורות         הנחיות        \n",
      "המשפחה        לעבוד         קורונה        למסיבה        בדיחות        שיחה          האוהל         אבי           \n",
      "לצאת          הבית          בעקבות        תפקיד         ומפרשיות      בנינו         פחד           לדלת          \n",
      "העבודה        תוך           הרגשתי        לחץ           ולצוף         שקל           האוהלים       אנשי          \n",
      "לאט           חברים         הקורס         ירקות         בכדור         אמבולנס       חיילים        חזקות         \n",
      "התחלנו        לשם           בנוסף         במשרה         ספינות        שיכורים       ההר           הכרה          \n",
      "בהתחלה        לבית          שבועיים       למשרה         שיר           פתח           וכנראה        רץ            \n",
      "התחלתי        אבא           הלימודים      ולהיות        והמשך         הסכום         רביעי         המספרים       \n",
      "הרכב          היינו         עברתי         וראינו        נעליים        בתקופת        התקדמות       בתקופת        \n",
      "אמרתי         הדרך          בתקופה        ואחותי        שיחקנו        להיפרד        בתקופת        שזכיתי        \n",
      "מהבית         נסענו         וכך           ללחץ          לשהות         מודע          קשור          ליותר         \n",
      "לעצמי         שהייתי        התחלתי        מחבר          הכנרת         שש            הזמינו        שילמתי        \n",
      "איתי          לקראת         במשך          מישהי         צחקו          רשימת         לזום          בחלק          \n",
      "הגיע          ולאחר         עובד          לעצמם         אבטלה         בודק          יכלנו         גלגל          \n",
      "\n",
      "\n",
      "topic 7       topic 9       topic 18      topic 1       topic 0       topic 8       topic 3       topic 13      \n",
      "--------      --------      --------      --------      --------      --------      --------      --------      \n",
      "הצניחה        פורים         כלים          הוריי         אמי           חיפה          בירות         הזוגיות       \n",
      "כלשהו         לפניי         ראיון         אמריקה        הסדר          תלמיד         בירה          המצנח         \n",
      "הנכדים        הכושר         הכול          המזגן         צלילה         ירוק          פיתוח         הצניחה        \n",
      "הפועל         החנות         לשטוף         משטרה         כחוויה        לטיולים       המשפט         הכושר         \n",
      "הכדור         פיקניק        לבר           אוטובוס       הארנק         טיילתי        שטח           פרט           \n",
      "הרגל          לקוחות        מסביר         במערכת        אבי           המכשיר        ויצא          במילים        \n",
      "לרוץ          משקל          טיפ           מד            הבוס          הקפה          מענה          מצאו          \n",
      "צפוף          שבעצם         הכרטיס        אורז          יכלו          שקל           וכנראה        ובן           \n",
      "הנוראית       ולקחתי        בסלון         נכונה         אחותי         לתקופת        החנות         סגורים        \n",
      "האוטובוס      וזהו          באים          מתקשרים       שהגיעו        מסכות         לחלץ          לבר           \n",
      "פנוי          מאליו         הזמינו        מקצוע         השוטר         חדרי          סכין          קילו          \n",
      "80            הבסיס         תורים         השוטרים       צורה          שמחים         ובאותו        נפתח          \n",
      "במתחם         הצלחה         קורות         בגובה         שסבתא         המצלמה        1000          חלש           \n",
      "התור          ידוע          שהמצב         אורח          אלך           נסגרו         סיכון         נרדמתי        \n",
      "שבהם          שומעים        בנפרד         כושר          נסע           החוק          בחניון        בחלק          \n",
      "שמים          אנוש          אבן           מסודרת        מגורים        זום           נופים         המשרד         \n",
      "במשחק         שתיתי         המתאים        עוברת         הורה          נקודות        להתקיים       שזכיתי        \n",
      "לשלוש         למוקד         הבר           ויתרנו        שהחלטתי       כספים         500           הכרטיס        \n",
      "תוכנה         ושאלה         בראיון        ולקח          60            בירושלים      בסמוך         קבוצה         \n",
      "בהמשך         הקבלה         לדחוף         ירדנו         השחקן         חולשה         השוטר         שקנינו        \n",
      "\n",
      "\n",
      "topic 16      topic 19      topic 11      topic 10      \n",
      "--------      --------      --------      --------      \n",
      "הנכדים        שלג           הזמין         המטלה         \n",
      "הספה          קילו          אתרים         נקודות        \n",
      "צד            קבוצה         שאכן          כתיבה         \n",
      "מתנות         ולהכין        הצניחה        לתרגל         \n",
      "האישה         פקקים         לראיון        שלישית        \n",
      "לראיון        אילת          קורות         התיישבתי      \n",
      "הלכה          הוריי         הנחיתה        קשור          \n",
      "90            הסטודנטים     אתר           מטלות         \n",
      "בסלון         מדיטציה       בתעשייה       נקודה         \n",
      "בדבר          נרגע          פיתוח         העלייה        \n",
      "אחותי         עבודת         תשלום         המרצים        \n",
      "ושמנו         לעודד         וחוסר         מחלת          \n",
      "מסכות         נכונה         בילוי         הלמידה        \n",
      "לחבק          בתואר         בצוות         במדעי         \n",
      "היכולת        השמלה         ראיון         בקניון        \n",
      "לצערנו        צלילה         חריף          לציון         \n",
      "שנגיע         חוק           ניקח          בתואר         \n",
      "שידעתי        זכינו         מצא           התור          \n",
      "באה           לצערנו        שאבוא         למידת         \n",
      "מאחותי        כשנה          עין           שיער          \n",
      "\n",
      "\n"
     ]
    }
   ],
   "source": [
    "sorting = np.argsort(lda10.components_, axis=1)[:, ::-1]\n",
    "print_topics(np.argsort(X_lda10.sum(axis=0))[::-1][:30], feature_names, sorting, topics_per_chunk=8)"
   ]
  },
  {
   "cell_type": "code",
   "execution_count": 211,
   "metadata": {},
   "outputs": [],
   "source": [
    "topic = []\n",
    "for i in range(len(text_train)):\n",
    "    topic.append(np.argmax(X_lda10[i]))\n",
    "#     print(f\"doc_{i} - topic {np.argmax(X_lda10[i])} (words:{feature_names[sorting[np.argmax(X_lda10[i])]][:5]})\")\n",
    "df_steps['6_topic']=df_steps['5_time_count']\n",
    "df_steps['6_topic']['topic']=topic"
   ]
  },
  {
   "cell_type": "code",
   "execution_count": 212,
   "metadata": {},
   "outputs": [
    {
     "data": {
      "text/plain": [
       "2     208\n",
       "5     128\n",
       "14     62\n",
       "12      3\n",
       "4       1\n",
       "7       1\n",
       "8       1\n",
       "9       1\n",
       "10      1\n",
       "16      1\n",
       "18      1\n",
       "Name: topic, dtype: int64"
      ]
     },
     "execution_count": 212,
     "metadata": {},
     "output_type": "execute_result"
    }
   ],
   "source": [
    "df_steps['6_topic']['topic'].value_counts()"
   ]
  },
  {
   "cell_type": "code",
   "execution_count": 213,
   "metadata": {},
   "outputs": [
    {
     "data": {
      "image/png": "[encoded data removed]",
      "text/plain": [
       "<Figure size 432x288 with 1 Axes>"
      ]
     },
     "metadata": {
      "needs_background": "light"
     },
     "output_type": "display_data"
    }
   ],
   "source": [
    "ax = sns.countplot(x=\"topic\", hue=\"label\", data=df_steps['6_topic'])\n"
   ]
  },
  {
   "cell_type": "code",
   "execution_count": null,
   "metadata": {},
   "outputs": [],
   "source": []
  }
 ],
 "metadata": {
  "kernelspec": {
   "display_name": "Python 3",
   "language": "python",
   "name": "python3"
  },
  "language_info": {
   "codemirror_mode": {
    "name": "ipython",
    "version": 3
   },
   "file_extension": ".py",
   "mimetype": "text/x-python",
   "name": "python",
   "nbconvert_exporter": "python",
   "pygments_lexer": "ipython3",
   "version": "3.8.5"
  },
  "toc": {
   "base_numbering": 1,
   "nav_menu": {},
   "number_sections": true,
   "sideBar": true,
   "skip_h1_title": false,
   "title_cell": "Table of Contents",
   "title_sidebar": "Contents",
   "toc_cell": false,
   "toc_position": {},
   "toc_section_display": true,
   "toc_window_display": false
  }
 },
 "nbformat": 4,
 "nbformat_minor": 4
}
