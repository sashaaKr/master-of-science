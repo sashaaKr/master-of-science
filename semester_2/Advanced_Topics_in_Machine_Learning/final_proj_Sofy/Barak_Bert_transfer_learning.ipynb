{
 "cells": [
  {
   "cell_type": "markdown",
   "metadata": {},
   "source": [
    "### Advanced Machine Learning\n",
    "\n",
    "# Final Assignment  - Detect True vs False Stories (lie detection)\n",
    "\n",
    "Assignment Start: 11/07/21 00:00<br>\n",
    "Assignment Due: 18/07/21 23:59 (moodle will be closed for submissions that time)\n",
    "\n",
    "Jonathan Schler\n"
   ]
  },
  {
   "cell_type": "code",
   "execution_count": 2,
   "metadata": {},
   "outputs": [],
   "source": [
    "id=\"337839112\"\n",
    "name=\"Sofya Zubtsovsky\""
   ]
  },
  {
   "cell_type": "markdown",
   "metadata": {},
   "source": [
    "## Introduction\n",
    "You are provided with a labeled corpus of narratives in Hebrew. The corpus is provided as a csv file. Each row represents a narrative. It has 5 fields: id, author_gender, author_birth_year, narrative and label. The label for each narrative indicates whether this is a true or false story (i.e. the author lied when he told the story) (label \"1\" for True, and \"0\" for false). \n",
    "\n",
    "You are requested to build a model to predict whether a new story in Hebrew is true or false (i.e a lie). You are provided with 2 files: \n",
    "- `train_dataset.csv` - which contains **labeled** examples, and \n",
    "- `test_dataset.csv` that contains **unlabled** examples that you'll have to classify and submit the results. The narrtives in this file will have the same fields except of the label field.\n",
    "\n",
    "(you'll be graded based on the quality of the labels assigned to the `test_dataset.csv`).\n",
    "\n",
    "\n",
    "\n"
   ]
  },
  {
   "cell_type": "markdown",
   "metadata": {},
   "source": [
    "## What is expected from you\n",
    "1. Build a classifier (including all pre-processing steps - as you think may fit (feature engineering, pre-processing, scaling etc) ) that will classify an unlabled document (including reasonable documentation for the steps you chose to do)\n",
    "2. Report on how you chose to evaluate your algorithm and the scores of that evaluation\n",
    "3. Apply the model on the unlabeled data set (`test_dataset.csv`), and return the results in the format described below\n",
    "4. At the end, you are requested to submit 2 files: (a) this notebook, and (b) the output csv file. Submission will be done via moodle. The output csv is the file, that contains the prediction for the `test_dataset.csv`. The naming of the file should be `<your_id_number>.csv` (where `<your_id_number>` will be replaced with you actual ID number). The file will contain for each doc a label `1` (for true narratives) or `0` (for false narratives) (such that each row contains only one label, corresponding to the document in the given row in the `test_dataset.csv` document). You can see a sample output file under the name `123456789.csv` in the moodle."
   ]
  },
  {
   "cell_type": "markdown",
   "metadata": {},
   "source": [
    "## Grading Guidelines\n",
    "1. Overall approach and workable solution (70 pts)\n",
    "2. Average f1 score of higher than 0.50 (10 pts)\n",
    "3. Average f1 score of higher than 0.58 (additional 5 pts)\n",
    "4. Competitive element: 15 Highest average f1 score - will get additional 15 pts, top score the extra 15 points, second highest - extra 14 points etc - in case of similar scores it will be divided proportionaly."
   ]
  },
  {
   "cell_type": "markdown",
   "metadata": {},
   "source": [
    "## Other Guidelines\n",
    "1. Work in indivudual, collaboration is not allowed. \n",
    "2. You are allowed to use all the toolsets we learned / mentioned in class, in addition to any other avialble toolsets for text processing or Hebrew data as you think is appropriate.\n"
   ]
  },
  {
   "cell_type": "markdown",
   "metadata": {},
   "source": [
    "## Good Luck!"
   ]
  },
  {
   "cell_type": "code",
   "execution_count": 2,
   "metadata": {},
   "outputs": [
    {
     "name": "stdout",
     "output_type": "stream",
     "text": [
      "Requirement already satisfied: python-bidi in /home/barak/anaconda3/lib/python3.8/site-packages (0.4.2)\r\n",
      "Requirement already satisfied: six in /home/barak/anaconda3/lib/python3.8/site-packages (from python-bidi) (1.16.0)\r\n"
     ]
    }
   ],
   "source": [
    "!pip install python-bidi #worked for me"
   ]
  },
  {
   "cell_type": "code",
   "execution_count": 3,
   "metadata": {},
   "outputs": [],
   "source": [
    "import numpy as np\n",
    "import pandas as pd\n",
    "import seaborn as sns\n",
    "import matplotlib.pyplot as plt\n",
    "from sklearn.model_selection import train_test_split, cross_val_score, cross_validate\n",
    "from sklearn.linear_model import LogisticRegression, LogisticRegressionCV, PassiveAggressiveClassifier, Perceptron, RidgeClassifier, RidgeClassifierCV, SGDClassifier\n",
    "from sklearn.feature_extraction.text import CountVectorizer , TfidfVectorizer, TfidfTransformer\n",
    "from sklearn.preprocessing import normalize, StandardScaler, FunctionTransformer\n",
    "from sklearn.pipeline import Pipeline, FeatureUnion\n",
    "pd.options.display.float_format = '{:f}'.format\n",
    "from sklearn.metrics import classification_report, confusion_matrix, plot_confusion_matrix\n",
    "from bidi import algorithm as bidialg      # needed for arabic, hebrew\n"
   ]
  },
  {
   "cell_type": "code",
   "execution_count": 4,
   "metadata": {},
   "outputs": [],
   "source": [
    "# utilities function are same as were implemented\n",
    "# with Alexander Kruglyak for assigments during the semester\n",
    "\n",
    "def show_data_basic_information(df):\n",
    "    print(\"Info\\n\")\n",
    "    print(df.info())\n",
    "    print(\"\\n\" + \"*\" * 10 + \"\\n\")\n",
    "    \n",
    "    print(\"Shape\\n\")\n",
    "    print(df.shape) \n",
    "    print(\"\\n\" + \"*\" * 10 + \"\\n\")\n",
    "    \n",
    "    print(\"Amount of is null data\\n\")\n",
    "    print(df.isnull().sum().max())\n",
    "    print(\"\\n\" + \"*\" * 10 + \"\\n\")\n",
    "    \n",
    "    print(\"Describe\\n\")\n",
    "    display(df.describe())\n",
    "    print(\"\\n\" + \"*\" * 10 + \"\\n\")\n",
    "    \n",
    "def drop_columns(df, columns):\n",
    "    return df.copy().drop(columns, axis=1)\n",
    "\n",
    "def get_label_and_drop(_df):\n",
    "    df = _df.copy()\n",
    "    label = df['label']\n",
    "    df = drop_columns(df,['label'])\n",
    "    return df, label\n",
    "\n",
    "def show_random_text(_df,feature,n=1):\n",
    "    df = _df.sample(n=n,random_state=42)\n",
    "    print(list(df[feature]))\n",
    "    \n",
    "def get_cross_val_score(scores_df,estimator,X_train,y_train,prefix=\"\",sampler=None):\n",
    "        name = estimator.__class__.__name__\n",
    "        pipe = estimator\n",
    "        sampler_name = \"\"\n",
    "        if sampler is not None:\n",
    "            pipe = make_imb_pipeline(sampler(random_state=42), estimator)\n",
    "            sampler_name = sampler.__name__\n",
    "        print('*********' + name + ' ' + sampler_name + '*********')\n",
    "        full_scores = cross_validate(\n",
    "            pipe,\n",
    "            X_train, \n",
    "            y_train, \n",
    "            cv=10,\n",
    "            scoring=('roc_auc', 'average_precision', 'recall', 'f1'),\n",
    "            n_jobs = -1\n",
    "        )\n",
    "        add_score(scores_df, full_scores, estimator.__class__.__name__,prefix)\n",
    "        \n",
    "def add_score(scores_df, scores, regressorName, dataType):\n",
    "    scores_df.loc[regressorName + '_' + dataType, 'f1'] = scores['test_f1'].mean()\n",
    "    scores_df.loc[regressorName + '_' + dataType, 'roc_auc'] = scores['test_roc_auc'].mean()\n",
    "    scores_df.loc[regressorName + '_' + dataType, 'recall'] = scores['test_recall'].mean()\n",
    "    scores_df.loc[regressorName + '_' + dataType, 'average_precision'] = scores['test_average_precision'].mean()"
   ]
  },
  {
   "cell_type": "code",
   "execution_count": 5,
   "metadata": {},
   "outputs": [],
   "source": [
    "df_steps = {}"
   ]
  },
  {
   "cell_type": "code",
   "execution_count": 6,
   "metadata": {},
   "outputs": [],
   "source": [
    "df_steps['0_full_df'] = pd.read_csv(\"train_dataset.csv\")"
   ]
  },
  {
   "cell_type": "code",
   "execution_count": 7,
   "metadata": {},
   "outputs": [],
   "source": [
    "df_test = pd.read_csv(\"test_dataset.csv\")"
   ]
  },
  {
   "cell_type": "markdown",
   "metadata": {},
   "source": [
    "## Step 1 - get familiar with the data"
   ]
  },
  {
   "cell_type": "code",
   "execution_count": 8,
   "metadata": {},
   "outputs": [
    {
     "name": "stdout",
     "output_type": "stream",
     "text": [
      "Info\n",
      "\n",
      "<class 'pandas.core.frame.DataFrame'>\n",
      "RangeIndex: 408 entries, 0 to 407\n",
      "Data columns (total 5 columns):\n",
      " #   Column             Non-Null Count  Dtype \n",
      "---  ------             --------------  ----- \n",
      " 0   Unnamed: 0         408 non-null    int64 \n",
      " 1   author_gender      408 non-null    object\n",
      " 2   author_birth_year  408 non-null    int64 \n",
      " 3   narrative          408 non-null    object\n",
      " 4   label              408 non-null    int64 \n",
      "dtypes: int64(3), object(2)\n",
      "memory usage: 16.1+ KB\n",
      "None\n",
      "\n",
      "**********\n",
      "\n",
      "Shape\n",
      "\n",
      "(408, 5)\n",
      "\n",
      "**********\n",
      "\n",
      "Amount of is null data\n",
      "\n",
      "0\n",
      "\n",
      "**********\n",
      "\n",
      "Describe\n",
      "\n"
     ]
    },
    {
     "data": {
      "text/html": [
       "<div>\n",
       "<style scoped>\n",
       "    .dataframe tbody tr th:only-of-type {\n",
       "        vertical-align: middle;\n",
       "    }\n",
       "\n",
       "    .dataframe tbody tr th {\n",
       "        vertical-align: top;\n",
       "    }\n",
       "\n",
       "    .dataframe thead th {\n",
       "        text-align: right;\n",
       "    }\n",
       "</style>\n",
       "<table border=\"1\" class=\"dataframe\">\n",
       "  <thead>\n",
       "    <tr style=\"text-align: right;\">\n",
       "      <th></th>\n",
       "      <th>Unnamed: 0</th>\n",
       "      <th>author_birth_year</th>\n",
       "      <th>label</th>\n",
       "    </tr>\n",
       "  </thead>\n",
       "  <tbody>\n",
       "    <tr>\n",
       "      <th>count</th>\n",
       "      <td>408.000000</td>\n",
       "      <td>408.000000</td>\n",
       "      <td>408.000000</td>\n",
       "    </tr>\n",
       "    <tr>\n",
       "      <th>mean</th>\n",
       "      <td>203.500000</td>\n",
       "      <td>1993.573529</td>\n",
       "      <td>0.500000</td>\n",
       "    </tr>\n",
       "    <tr>\n",
       "      <th>std</th>\n",
       "      <td>117.923704</td>\n",
       "      <td>3.370560</td>\n",
       "      <td>0.500614</td>\n",
       "    </tr>\n",
       "    <tr>\n",
       "      <th>min</th>\n",
       "      <td>0.000000</td>\n",
       "      <td>1980.000000</td>\n",
       "      <td>0.000000</td>\n",
       "    </tr>\n",
       "    <tr>\n",
       "      <th>25%</th>\n",
       "      <td>101.750000</td>\n",
       "      <td>1992.750000</td>\n",
       "      <td>0.000000</td>\n",
       "    </tr>\n",
       "    <tr>\n",
       "      <th>50%</th>\n",
       "      <td>203.500000</td>\n",
       "      <td>1994.000000</td>\n",
       "      <td>0.500000</td>\n",
       "    </tr>\n",
       "    <tr>\n",
       "      <th>75%</th>\n",
       "      <td>305.250000</td>\n",
       "      <td>1995.000000</td>\n",
       "      <td>1.000000</td>\n",
       "    </tr>\n",
       "    <tr>\n",
       "      <th>max</th>\n",
       "      <td>407.000000</td>\n",
       "      <td>2002.000000</td>\n",
       "      <td>1.000000</td>\n",
       "    </tr>\n",
       "  </tbody>\n",
       "</table>\n",
       "</div>"
      ],
      "text/plain": [
       "       Unnamed: 0  author_birth_year      label\n",
       "count  408.000000         408.000000 408.000000\n",
       "mean   203.500000        1993.573529   0.500000\n",
       "std    117.923704           3.370560   0.500614\n",
       "min      0.000000        1980.000000   0.000000\n",
       "25%    101.750000        1992.750000   0.000000\n",
       "50%    203.500000        1994.000000   0.500000\n",
       "75%    305.250000        1995.000000   1.000000\n",
       "max    407.000000        2002.000000   1.000000"
      ]
     },
     "metadata": {},
     "output_type": "display_data"
    },
    {
     "name": "stdout",
     "output_type": "stream",
     "text": [
      "\n",
      "**********\n",
      "\n"
     ]
    }
   ],
   "source": [
    "show_data_basic_information(df_steps['0_full_df'])"
   ]
  },
  {
   "cell_type": "code",
   "execution_count": 9,
   "metadata": {},
   "outputs": [
    {
     "name": "stdout",
     "output_type": "stream",
     "text": [
      "Info\n",
      "\n",
      "<class 'pandas.core.frame.DataFrame'>\n",
      "RangeIndex: 106 entries, 0 to 105\n",
      "Data columns (total 4 columns):\n",
      " #   Column             Non-Null Count  Dtype \n",
      "---  ------             --------------  ----- \n",
      " 0   Unnamed: 0         106 non-null    int64 \n",
      " 1   author_gender      106 non-null    object\n",
      " 2   author_birth_year  106 non-null    int64 \n",
      " 3   narrative          106 non-null    object\n",
      "dtypes: int64(2), object(2)\n",
      "memory usage: 3.4+ KB\n",
      "None\n",
      "\n",
      "**********\n",
      "\n",
      "Shape\n",
      "\n",
      "(106, 4)\n",
      "\n",
      "**********\n",
      "\n",
      "Amount of is null data\n",
      "\n",
      "0\n",
      "\n",
      "**********\n",
      "\n",
      "Describe\n",
      "\n"
     ]
    },
    {
     "data": {
      "text/html": [
       "<div>\n",
       "<style scoped>\n",
       "    .dataframe tbody tr th:only-of-type {\n",
       "        vertical-align: middle;\n",
       "    }\n",
       "\n",
       "    .dataframe tbody tr th {\n",
       "        vertical-align: top;\n",
       "    }\n",
       "\n",
       "    .dataframe thead th {\n",
       "        text-align: right;\n",
       "    }\n",
       "</style>\n",
       "<table border=\"1\" class=\"dataframe\">\n",
       "  <thead>\n",
       "    <tr style=\"text-align: right;\">\n",
       "      <th></th>\n",
       "      <th>Unnamed: 0</th>\n",
       "      <th>author_birth_year</th>\n",
       "    </tr>\n",
       "  </thead>\n",
       "  <tbody>\n",
       "    <tr>\n",
       "      <th>count</th>\n",
       "      <td>106.000000</td>\n",
       "      <td>106.000000</td>\n",
       "    </tr>\n",
       "    <tr>\n",
       "      <th>mean</th>\n",
       "      <td>52.500000</td>\n",
       "      <td>1993.905660</td>\n",
       "    </tr>\n",
       "    <tr>\n",
       "      <th>std</th>\n",
       "      <td>30.743563</td>\n",
       "      <td>2.755180</td>\n",
       "    </tr>\n",
       "    <tr>\n",
       "      <th>min</th>\n",
       "      <td>0.000000</td>\n",
       "      <td>1984.000000</td>\n",
       "    </tr>\n",
       "    <tr>\n",
       "      <th>25%</th>\n",
       "      <td>26.250000</td>\n",
       "      <td>1993.000000</td>\n",
       "    </tr>\n",
       "    <tr>\n",
       "      <th>50%</th>\n",
       "      <td>52.500000</td>\n",
       "      <td>1994.000000</td>\n",
       "    </tr>\n",
       "    <tr>\n",
       "      <th>75%</th>\n",
       "      <td>78.750000</td>\n",
       "      <td>1995.000000</td>\n",
       "    </tr>\n",
       "    <tr>\n",
       "      <th>max</th>\n",
       "      <td>105.000000</td>\n",
       "      <td>2002.000000</td>\n",
       "    </tr>\n",
       "  </tbody>\n",
       "</table>\n",
       "</div>"
      ],
      "text/plain": [
       "       Unnamed: 0  author_birth_year\n",
       "count  106.000000         106.000000\n",
       "mean    52.500000        1993.905660\n",
       "std     30.743563           2.755180\n",
       "min      0.000000        1984.000000\n",
       "25%     26.250000        1993.000000\n",
       "50%     52.500000        1994.000000\n",
       "75%     78.750000        1995.000000\n",
       "max    105.000000        2002.000000"
      ]
     },
     "metadata": {},
     "output_type": "display_data"
    },
    {
     "name": "stdout",
     "output_type": "stream",
     "text": [
      "\n",
      "**********\n",
      "\n"
     ]
    }
   ],
   "source": [
    "show_data_basic_information(df_test)"
   ]
  },
  {
   "cell_type": "code",
   "execution_count": 10,
   "metadata": {},
   "outputs": [
    {
     "data": {
      "text/html": [
       "<div>\n",
       "<style scoped>\n",
       "    .dataframe tbody tr th:only-of-type {\n",
       "        vertical-align: middle;\n",
       "    }\n",
       "\n",
       "    .dataframe tbody tr th {\n",
       "        vertical-align: top;\n",
       "    }\n",
       "\n",
       "    .dataframe thead th {\n",
       "        text-align: right;\n",
       "    }\n",
       "</style>\n",
       "<table border=\"1\" class=\"dataframe\">\n",
       "  <thead>\n",
       "    <tr style=\"text-align: right;\">\n",
       "      <th></th>\n",
       "      <th>Unnamed: 0</th>\n",
       "      <th>author_gender</th>\n",
       "      <th>author_birth_year</th>\n",
       "      <th>narrative</th>\n",
       "      <th>label</th>\n",
       "    </tr>\n",
       "  </thead>\n",
       "  <tbody>\n",
       "    <tr>\n",
       "      <th>0</th>\n",
       "      <td>0</td>\n",
       "      <td>זכר</td>\n",
       "      <td>1995</td>\n",
       "      <td>שנת 2020 הייתה מטלטלת למדי בשבילי, עברתי הרבה ...</td>\n",
       "      <td>1</td>\n",
       "    </tr>\n",
       "    <tr>\n",
       "      <th>1</th>\n",
       "      <td>1</td>\n",
       "      <td>זכר</td>\n",
       "      <td>1992</td>\n",
       "      <td>בשנת 2018 קיבלתי החלטה שאני מתחיל ללמוד לתואר ...</td>\n",
       "      <td>1</td>\n",
       "    </tr>\n",
       "    <tr>\n",
       "      <th>2</th>\n",
       "      <td>2</td>\n",
       "      <td>זכר</td>\n",
       "      <td>1992</td>\n",
       "      <td>לפני מספר שנים אני ובת הזוג שלי טסנו ללונדון ז...</td>\n",
       "      <td>1</td>\n",
       "    </tr>\n",
       "    <tr>\n",
       "      <th>3</th>\n",
       "      <td>3</td>\n",
       "      <td>נקבה</td>\n",
       "      <td>1991</td>\n",
       "      <td>האישה שבקושי הכרתי חייכה תמיד, העיניים שלה ברק...</td>\n",
       "      <td>1</td>\n",
       "    </tr>\n",
       "    <tr>\n",
       "      <th>4</th>\n",
       "      <td>4</td>\n",
       "      <td>נקבה</td>\n",
       "      <td>1992</td>\n",
       "      <td>בדרך חזרה מהטיול שנתי בכיתה ח' התקשרתי לאבא של...</td>\n",
       "      <td>1</td>\n",
       "    </tr>\n",
       "    <tr>\n",
       "      <th>...</th>\n",
       "      <td>...</td>\n",
       "      <td>...</td>\n",
       "      <td>...</td>\n",
       "      <td>...</td>\n",
       "      <td>...</td>\n",
       "    </tr>\n",
       "    <tr>\n",
       "      <th>403</th>\n",
       "      <td>403</td>\n",
       "      <td>זכר</td>\n",
       "      <td>1988</td>\n",
       "      <td>ללמוד להעז יותר, אחד החוויה הזאת שעשיתי באה אח...</td>\n",
       "      <td>0</td>\n",
       "    </tr>\n",
       "    <tr>\n",
       "      <th>404</th>\n",
       "      <td>404</td>\n",
       "      <td>זכר</td>\n",
       "      <td>1993</td>\n",
       "      <td>זה קרה לפניי מספר שבועות עוד כשהיינו תחת סגרים...</td>\n",
       "      <td>0</td>\n",
       "    </tr>\n",
       "    <tr>\n",
       "      <th>405</th>\n",
       "      <td>405</td>\n",
       "      <td>זכר</td>\n",
       "      <td>1995</td>\n",
       "      <td>לפני שלוש שנים, לאחר שחסכתי, טסתי עם חבר מאוד ...</td>\n",
       "      <td>0</td>\n",
       "    </tr>\n",
       "    <tr>\n",
       "      <th>406</th>\n",
       "      <td>406</td>\n",
       "      <td>נקבה</td>\n",
       "      <td>1993</td>\n",
       "      <td>כשהייתי ילדה קטנה בבית הספר בגיל 8 הייי ילדה מ...</td>\n",
       "      <td>0</td>\n",
       "    </tr>\n",
       "    <tr>\n",
       "      <th>407</th>\n",
       "      <td>407</td>\n",
       "      <td>זכר</td>\n",
       "      <td>1990</td>\n",
       "      <td>בשנה האחרונה יצא לי לעבוד בחברה מאד מוכרת. מתח...</td>\n",
       "      <td>0</td>\n",
       "    </tr>\n",
       "  </tbody>\n",
       "</table>\n",
       "<p>408 rows × 5 columns</p>\n",
       "</div>"
      ],
      "text/plain": [
       "     Unnamed: 0 author_gender  author_birth_year  \\\n",
       "0             0           זכר               1995   \n",
       "1             1           זכר               1992   \n",
       "2             2           זכר               1992   \n",
       "3             3          נקבה               1991   \n",
       "4             4          נקבה               1992   \n",
       "..          ...           ...                ...   \n",
       "403         403           זכר               1988   \n",
       "404         404           זכר               1993   \n",
       "405         405           זכר               1995   \n",
       "406         406          נקבה               1993   \n",
       "407         407           זכר               1990   \n",
       "\n",
       "                                             narrative  label  \n",
       "0    שנת 2020 הייתה מטלטלת למדי בשבילי, עברתי הרבה ...      1  \n",
       "1    בשנת 2018 קיבלתי החלטה שאני מתחיל ללמוד לתואר ...      1  \n",
       "2    לפני מספר שנים אני ובת הזוג שלי טסנו ללונדון ז...      1  \n",
       "3    האישה שבקושי הכרתי חייכה תמיד, העיניים שלה ברק...      1  \n",
       "4    בדרך חזרה מהטיול שנתי בכיתה ח' התקשרתי לאבא של...      1  \n",
       "..                                                 ...    ...  \n",
       "403  ללמוד להעז יותר, אחד החוויה הזאת שעשיתי באה אח...      0  \n",
       "404  זה קרה לפניי מספר שבועות עוד כשהיינו תחת סגרים...      0  \n",
       "405  לפני שלוש שנים, לאחר שחסכתי, טסתי עם חבר מאוד ...      0  \n",
       "406  כשהייתי ילדה קטנה בבית הספר בגיל 8 הייי ילדה מ...      0  \n",
       "407  בשנה האחרונה יצא לי לעבוד בחברה מאד מוכרת. מתח...      0  \n",
       "\n",
       "[408 rows x 5 columns]"
      ]
     },
     "execution_count": 10,
     "metadata": {},
     "output_type": "execute_result"
    }
   ],
   "source": [
    "df_steps['0_full_df']"
   ]
  },
  {
   "cell_type": "code",
   "execution_count": 11,
   "metadata": {},
   "outputs": [
    {
     "data": {
      "text/html": [
       "<div>\n",
       "<style scoped>\n",
       "    .dataframe tbody tr th:only-of-type {\n",
       "        vertical-align: middle;\n",
       "    }\n",
       "\n",
       "    .dataframe tbody tr th {\n",
       "        vertical-align: top;\n",
       "    }\n",
       "\n",
       "    .dataframe thead th {\n",
       "        text-align: right;\n",
       "    }\n",
       "</style>\n",
       "<table border=\"1\" class=\"dataframe\">\n",
       "  <thead>\n",
       "    <tr style=\"text-align: right;\">\n",
       "      <th></th>\n",
       "      <th>Unnamed: 0</th>\n",
       "      <th>author_gender</th>\n",
       "      <th>author_birth_year</th>\n",
       "      <th>narrative</th>\n",
       "    </tr>\n",
       "  </thead>\n",
       "  <tbody>\n",
       "    <tr>\n",
       "      <th>0</th>\n",
       "      <td>0</td>\n",
       "      <td>זכר</td>\n",
       "      <td>2002</td>\n",
       "      <td>זה התחיל בשעת השקיעה.הגענו לחוף מדרום לעין גדי...</td>\n",
       "    </tr>\n",
       "    <tr>\n",
       "      <th>1</th>\n",
       "      <td>1</td>\n",
       "      <td>נקבה</td>\n",
       "      <td>1995</td>\n",
       "      <td>כזוג מאורס טרי סגרנו תאריך, אולם אירועים, ספקי...</td>\n",
       "    </tr>\n",
       "    <tr>\n",
       "      <th>2</th>\n",
       "      <td>2</td>\n",
       "      <td>זכר</td>\n",
       "      <td>1995</td>\n",
       "      <td>הגעתי לשירות המדינה אחרי שנתיים כפעיל בתנועת \"...</td>\n",
       "    </tr>\n",
       "    <tr>\n",
       "      <th>3</th>\n",
       "      <td>3</td>\n",
       "      <td>זכר</td>\n",
       "      <td>1991</td>\n",
       "      <td>בשנה האחרונה ,\\nפרצה מחלת הקורונה דבר שאף אחד ...</td>\n",
       "    </tr>\n",
       "    <tr>\n",
       "      <th>4</th>\n",
       "      <td>4</td>\n",
       "      <td>זכר</td>\n",
       "      <td>1995</td>\n",
       "      <td>החוויה שלי מתחילה במכון הטכנולוגי חולון, אשר ש...</td>\n",
       "    </tr>\n",
       "    <tr>\n",
       "      <th>...</th>\n",
       "      <td>...</td>\n",
       "      <td>...</td>\n",
       "      <td>...</td>\n",
       "      <td>...</td>\n",
       "    </tr>\n",
       "    <tr>\n",
       "      <th>101</th>\n",
       "      <td>101</td>\n",
       "      <td>זכר</td>\n",
       "      <td>1995</td>\n",
       "      <td>לפני שנה החלטתי שאני רוצה להיות טייס, התחלתי ל...</td>\n",
       "    </tr>\n",
       "    <tr>\n",
       "      <th>102</th>\n",
       "      <td>102</td>\n",
       "      <td>זכר</td>\n",
       "      <td>1994</td>\n",
       "      <td>לכבוד יום ההולדת שלי, בת הזוג שלי החליטה להפתי...</td>\n",
       "    </tr>\n",
       "    <tr>\n",
       "      <th>103</th>\n",
       "      <td>103</td>\n",
       "      <td>זכר</td>\n",
       "      <td>1995</td>\n",
       "      <td>בשנת 2020 בחודש מרץ הייתי אמור להתחתן עם אחת ש...</td>\n",
       "    </tr>\n",
       "    <tr>\n",
       "      <th>104</th>\n",
       "      <td>104</td>\n",
       "      <td>זכר</td>\n",
       "      <td>1991</td>\n",
       "      <td>לפני שבועיים הלכתי לספארי יצאנו בשעה 12 בצהריי...</td>\n",
       "    </tr>\n",
       "    <tr>\n",
       "      <th>105</th>\n",
       "      <td>105</td>\n",
       "      <td>זכר</td>\n",
       "      <td>1996</td>\n",
       "      <td>השנה האחרונה הייתה שנה מפרחת שנה של למידה וחוו...</td>\n",
       "    </tr>\n",
       "  </tbody>\n",
       "</table>\n",
       "<p>106 rows × 4 columns</p>\n",
       "</div>"
      ],
      "text/plain": [
       "     Unnamed: 0 author_gender  author_birth_year  \\\n",
       "0             0           זכר               2002   \n",
       "1             1          נקבה               1995   \n",
       "2             2           זכר               1995   \n",
       "3             3           זכר               1991   \n",
       "4             4           זכר               1995   \n",
       "..          ...           ...                ...   \n",
       "101         101           זכר               1995   \n",
       "102         102           זכר               1994   \n",
       "103         103           זכר               1995   \n",
       "104         104           זכר               1991   \n",
       "105         105           זכר               1996   \n",
       "\n",
       "                                             narrative  \n",
       "0    זה התחיל בשעת השקיעה.הגענו לחוף מדרום לעין גדי...  \n",
       "1    כזוג מאורס טרי סגרנו תאריך, אולם אירועים, ספקי...  \n",
       "2    הגעתי לשירות המדינה אחרי שנתיים כפעיל בתנועת \"...  \n",
       "3    בשנה האחרונה ,\\nפרצה מחלת הקורונה דבר שאף אחד ...  \n",
       "4    החוויה שלי מתחילה במכון הטכנולוגי חולון, אשר ש...  \n",
       "..                                                 ...  \n",
       "101  לפני שנה החלטתי שאני רוצה להיות טייס, התחלתי ל...  \n",
       "102  לכבוד יום ההולדת שלי, בת הזוג שלי החליטה להפתי...  \n",
       "103  בשנת 2020 בחודש מרץ הייתי אמור להתחתן עם אחת ש...  \n",
       "104  לפני שבועיים הלכתי לספארי יצאנו בשעה 12 בצהריי...  \n",
       "105  השנה האחרונה הייתה שנה מפרחת שנה של למידה וחוו...  \n",
       "\n",
       "[106 rows x 4 columns]"
      ]
     },
     "execution_count": 11,
     "metadata": {},
     "output_type": "execute_result"
    }
   ],
   "source": [
    "df_test"
   ]
  },
  {
   "cell_type": "markdown",
   "metadata": {},
   "source": [
    "## Initial processing:\n",
    "- drop 'Unnamed 0' column\n",
    "- encode author_gender\n",
    "- add feature - length of the narrative\n",
    "- (?) - replace birth year with age"
   ]
  },
  {
   "cell_type": "code",
   "execution_count": 12,
   "metadata": {},
   "outputs": [],
   "source": [
    "def encode_gender(_df):\n",
    "    df = _df.copy()\n",
    "    man = \"זכר\"\n",
    "    woman = \"נקבה\"\n",
    "    gender = {man: 0, woman: 1}\n",
    "    df['author_gender'] = [gender[item] for item in df['author_gender']]\n",
    "    return df"
   ]
  },
  {
   "cell_type": "code",
   "execution_count": 13,
   "metadata": {},
   "outputs": [],
   "source": [
    "def add_length_of_narrative(_df):\n",
    "    df = _df.copy()\n",
    "    df['nar_length'] = df['narrative'].str.len()\n",
    "    return df"
   ]
  },
  {
   "cell_type": "code",
   "execution_count": 14,
   "metadata": {},
   "outputs": [],
   "source": [
    "# def convert_year_to_age(_df):\n",
    "#     df = _df.copy()\n",
    "#     df['nar_length'] = df['narrative'].str.len()\n",
    "#     return df"
   ]
  },
  {
   "cell_type": "code",
   "execution_count": 15,
   "metadata": {},
   "outputs": [
    {
     "data": {
      "text/html": [
       "<div>\n",
       "<style scoped>\n",
       "    .dataframe tbody tr th:only-of-type {\n",
       "        vertical-align: middle;\n",
       "    }\n",
       "\n",
       "    .dataframe tbody tr th {\n",
       "        vertical-align: top;\n",
       "    }\n",
       "\n",
       "    .dataframe thead th {\n",
       "        text-align: right;\n",
       "    }\n",
       "</style>\n",
       "<table border=\"1\" class=\"dataframe\">\n",
       "  <thead>\n",
       "    <tr style=\"text-align: right;\">\n",
       "      <th></th>\n",
       "      <th>author_gender</th>\n",
       "      <th>author_birth_year</th>\n",
       "      <th>narrative</th>\n",
       "      <th>label</th>\n",
       "      <th>nar_length</th>\n",
       "    </tr>\n",
       "  </thead>\n",
       "  <tbody>\n",
       "    <tr>\n",
       "      <th>0</th>\n",
       "      <td>0</td>\n",
       "      <td>1995</td>\n",
       "      <td>שנת 2020 הייתה מטלטלת למדי בשבילי, עברתי הרבה ...</td>\n",
       "      <td>1</td>\n",
       "      <td>1748</td>\n",
       "    </tr>\n",
       "    <tr>\n",
       "      <th>1</th>\n",
       "      <td>0</td>\n",
       "      <td>1992</td>\n",
       "      <td>בשנת 2018 קיבלתי החלטה שאני מתחיל ללמוד לתואר ...</td>\n",
       "      <td>1</td>\n",
       "      <td>1696</td>\n",
       "    </tr>\n",
       "    <tr>\n",
       "      <th>2</th>\n",
       "      <td>0</td>\n",
       "      <td>1992</td>\n",
       "      <td>לפני מספר שנים אני ובת הזוג שלי טסנו ללונדון ז...</td>\n",
       "      <td>1</td>\n",
       "      <td>1967</td>\n",
       "    </tr>\n",
       "    <tr>\n",
       "      <th>3</th>\n",
       "      <td>1</td>\n",
       "      <td>1991</td>\n",
       "      <td>האישה שבקושי הכרתי חייכה תמיד, העיניים שלה ברק...</td>\n",
       "      <td>1</td>\n",
       "      <td>1648</td>\n",
       "    </tr>\n",
       "    <tr>\n",
       "      <th>4</th>\n",
       "      <td>1</td>\n",
       "      <td>1992</td>\n",
       "      <td>בדרך חזרה מהטיול שנתי בכיתה ח' התקשרתי לאבא של...</td>\n",
       "      <td>1</td>\n",
       "      <td>1553</td>\n",
       "    </tr>\n",
       "    <tr>\n",
       "      <th>...</th>\n",
       "      <td>...</td>\n",
       "      <td>...</td>\n",
       "      <td>...</td>\n",
       "      <td>...</td>\n",
       "      <td>...</td>\n",
       "    </tr>\n",
       "    <tr>\n",
       "      <th>403</th>\n",
       "      <td>0</td>\n",
       "      <td>1988</td>\n",
       "      <td>ללמוד להעז יותר, אחד החוויה הזאת שעשיתי באה אח...</td>\n",
       "      <td>0</td>\n",
       "      <td>2561</td>\n",
       "    </tr>\n",
       "    <tr>\n",
       "      <th>404</th>\n",
       "      <td>0</td>\n",
       "      <td>1993</td>\n",
       "      <td>זה קרה לפניי מספר שבועות עוד כשהיינו תחת סגרים...</td>\n",
       "      <td>0</td>\n",
       "      <td>1670</td>\n",
       "    </tr>\n",
       "    <tr>\n",
       "      <th>405</th>\n",
       "      <td>0</td>\n",
       "      <td>1995</td>\n",
       "      <td>לפני שלוש שנים, לאחר שחסכתי, טסתי עם חבר מאוד ...</td>\n",
       "      <td>0</td>\n",
       "      <td>2032</td>\n",
       "    </tr>\n",
       "    <tr>\n",
       "      <th>406</th>\n",
       "      <td>1</td>\n",
       "      <td>1993</td>\n",
       "      <td>כשהייתי ילדה קטנה בבית הספר בגיל 8 הייי ילדה מ...</td>\n",
       "      <td>0</td>\n",
       "      <td>1457</td>\n",
       "    </tr>\n",
       "    <tr>\n",
       "      <th>407</th>\n",
       "      <td>0</td>\n",
       "      <td>1990</td>\n",
       "      <td>בשנה האחרונה יצא לי לעבוד בחברה מאד מוכרת. מתח...</td>\n",
       "      <td>0</td>\n",
       "      <td>1996</td>\n",
       "    </tr>\n",
       "  </tbody>\n",
       "</table>\n",
       "<p>408 rows × 5 columns</p>\n",
       "</div>"
      ],
      "text/plain": [
       "     author_gender  author_birth_year  \\\n",
       "0                0               1995   \n",
       "1                0               1992   \n",
       "2                0               1992   \n",
       "3                1               1991   \n",
       "4                1               1992   \n",
       "..             ...                ...   \n",
       "403              0               1988   \n",
       "404              0               1993   \n",
       "405              0               1995   \n",
       "406              1               1993   \n",
       "407              0               1990   \n",
       "\n",
       "                                             narrative  label  nar_length  \n",
       "0    שנת 2020 הייתה מטלטלת למדי בשבילי, עברתי הרבה ...      1        1748  \n",
       "1    בשנת 2018 קיבלתי החלטה שאני מתחיל ללמוד לתואר ...      1        1696  \n",
       "2    לפני מספר שנים אני ובת הזוג שלי טסנו ללונדון ז...      1        1967  \n",
       "3    האישה שבקושי הכרתי חייכה תמיד, העיניים שלה ברק...      1        1648  \n",
       "4    בדרך חזרה מהטיול שנתי בכיתה ח' התקשרתי לאבא של...      1        1553  \n",
       "..                                                 ...    ...         ...  \n",
       "403  ללמוד להעז יותר, אחד החוויה הזאת שעשיתי באה אח...      0        2561  \n",
       "404  זה קרה לפניי מספר שבועות עוד כשהיינו תחת סגרים...      0        1670  \n",
       "405  לפני שלוש שנים, לאחר שחסכתי, טסתי עם חבר מאוד ...      0        2032  \n",
       "406  כשהייתי ילדה קטנה בבית הספר בגיל 8 הייי ילדה מ...      0        1457  \n",
       "407  בשנה האחרונה יצא לי לעבוד בחברה מאד מוכרת. מתח...      0        1996  \n",
       "\n",
       "[408 rows x 5 columns]"
      ]
     },
     "execution_count": 15,
     "metadata": {},
     "output_type": "execute_result"
    }
   ],
   "source": [
    "df_steps['1_dropped'] = drop_columns(df_steps['0_full_df'],['Unnamed: 0'])\n",
    "df_steps['2_gender'] = encode_gender(df_steps['1_dropped'])\n",
    "df_steps['3_nar_length'] = add_length_of_narrative(df_steps['2_gender'])\n",
    "df_steps['3_nar_length']"
   ]
  },
  {
   "cell_type": "markdown",
   "metadata": {},
   "source": [
    "- Plot see the distribution of the data"
   ]
  },
  {
   "cell_type": "code",
   "execution_count": 16,
   "metadata": {},
   "outputs": [
    {
     "data": {
      "text/plain": [
       "<seaborn.axisgrid.PairGrid at 0x7fa009ae8e80>"
      ]
     },
     "execution_count": 16,
     "metadata": {},
     "output_type": "execute_result"
    },
    {
     "data": {
      "image/png": "[encoded data removed]",
      "text/plain": [
       "<Figure size 582.375x540 with 12 Axes>"
      ]
     },
     "metadata": {
      "needs_background": "light"
     },
     "output_type": "display_data"
    }
   ],
   "source": [
    "sns.pairplot(df_steps['3_nar_length'], hue='label')"
   ]
  },
  {
   "cell_type": "code",
   "execution_count": 17,
   "metadata": {},
   "outputs": [],
   "source": [
    "df_test = drop_columns(df_test,['Unnamed: 0'])\n",
    "df_test = encode_gender(df_test)\n",
    "df_test= add_length_of_narrative(df_test)"
   ]
  },
  {
   "cell_type": "code",
   "execution_count": 18,
   "metadata": {},
   "outputs": [
    {
     "data": {
      "text/plain": [
       "<seaborn.axisgrid.PairGrid at 0x7f9ea715d340>"
      ]
     },
     "execution_count": 18,
     "metadata": {},
     "output_type": "execute_result"
    },
    {
     "data": {
      "image/png": "[encoded data removed]",
      "text/plain": [
       "<Figure size 540x540 with 12 Axes>"
      ]
     },
     "metadata": {
      "needs_background": "light"
     },
     "output_type": "display_data"
    }
   ],
   "source": [
    "sns.pairplot(df_test, diag_kind='kde')"
   ]
  },
  {
   "cell_type": "code",
   "execution_count": 19,
   "metadata": {},
   "outputs": [
    {
     "data": {
      "text/plain": [
       "Text(0.5, 1.0, 'Train: narrative\\n (0: False || 1: True)')"
      ]
     },
     "execution_count": 19,
     "metadata": {},
     "output_type": "execute_result"
    },
    {
     "data": {
      "image/png": "[encoded data removed]",
      "text/plain": [
       "<Figure size 432x288 with 1 Axes>"
      ]
     },
     "metadata": {
      "needs_background": "light"
     },
     "output_type": "display_data"
    }
   ],
   "source": [
    "sns.countplot(x='label',data=df_steps['3_nar_length'])\n",
    "plt.title('Train: narrative\\n (0: False || 1: True)', fontsize=14)"
   ]
  },
  {
   "cell_type": "code",
   "execution_count": 20,
   "metadata": {},
   "outputs": [
    {
     "data": {
      "text/plain": [
       "Text(0.5, 1.0, 'Train: Gender \\n (0: Male || 1: Female)')"
      ]
     },
     "execution_count": 20,
     "metadata": {},
     "output_type": "execute_result"
    },
    {
     "data": {
      "image/png": "[encoded data removed]",
      "text/plain": [
       "<Figure size 432x288 with 1 Axes>"
      ]
     },
     "metadata": {
      "needs_background": "light"
     },
     "output_type": "display_data"
    }
   ],
   "source": [
    "sns.countplot(x='author_gender',data=df_steps['3_nar_length'])\n",
    "plt.title('Train: Gender \\n (0: Male || 1: Female)', fontsize=14)"
   ]
  },
  {
   "cell_type": "code",
   "execution_count": 21,
   "metadata": {},
   "outputs": [
    {
     "data": {
      "text/plain": [
       "Text(0.5, 1.0, 'Test: Gender \\n (0: Male || 1: Female)')"
      ]
     },
     "execution_count": 21,
     "metadata": {},
     "output_type": "execute_result"
    },
    {
     "data": {
      "image/png": "[encoded data removed]",
      "text/plain": [
       "<Figure size 432x288 with 1 Axes>"
      ]
     },
     "metadata": {
      "needs_background": "light"
     },
     "output_type": "display_data"
    }
   ],
   "source": [
    "sns.countplot(x='author_gender',data=df_steps['3_nar_length'])\n",
    "plt.title('Test: Gender \\n (0: Male || 1: Female)', fontsize=14)"
   ]
  },
  {
   "cell_type": "code",
   "execution_count": 22,
   "metadata": {},
   "outputs": [
    {
     "name": "stdout",
     "output_type": "stream",
     "text": [
      "['בשנה האחרונה חווינו את השפעותיו של נגיף הקורונה, לפני כשנה התארסתי לאחר שהייתי בזוגיות של 4 שנים. קבענו את התאריך לחתונה לשנה קדימה . עקב מקרה אישי במשפחה נאצלנו להקדים את החתונה בכשלושה חודשים . בגלל הקורונה היה מצב של חוסר וודאות מוחלט בו היינו בסגר על פי הנחיות המדינה. קבענו את התאריך החדש לחודש מרץ . כשבוע לפני החתונה מספר מחוסנים במדינה עמד על כ3 מיליון , עקב המספר הגבוה הוחלט לפתוח את המשק כשבוע לפני החתונה שלנו . בשבוע הראשון של המתווה התחתנו . החתונה התקיימה ביום שישי , המזג אוויר היה לא מוחלט, כל הלילה היה סערה ואנחנו חששנו כיוון שקבענו את החתונה במקום פתוח , לא ידענו האם ירד גשם או לא . התפללנו למזג אוויר טוב. בהתחלה האורחים התלוננו על מזג אוויר קר ורוחות חזקות - אנחנו התבאסנו חשבנו שאנשים לא ייהנו . בהמשך האירוע המזג אוויר התבהר. בחופה פגשנו את הרב לראשונה , עקב הקורונה ותכנון החתונה המהיר שעשינו תוך חודשיים , לא פגשנו אותו ובקושי דיברנו איתו בטלפון. התרשמנו ממנו לטובה הוא נתן לשנינו להעניק זה לזו את הטבעת. לקראת שבירת הכוס החתן נורא חשש שלא ישבור את הכוס, בכל זאת זה השיא של החופה , בתמונות ראינו כי הוא הרים את הרגל כל כך גבוה בגלל החשש, אבל אל דאגה לבסוף הוא שבר. השיר כניסה שלנו לחופה היה של בניה ברבי, \"עכשיו הלב פתוח\", שיר מרגש שמתאר את הזוגיות שלנו .  היו לנו בחתונה 130 אורחים , אבל לאורך כל הדרך חשבנו שנהיה עם 50 אורחים או פחות - הכל היה לטובה בסוף ואנחנו מאוד נהנו.\\nלאחר החתונה נסענו לבית מלון עקב כך שהשמיים עדיין היו סגורים . נסענו למלון בתל אביב . טרם ההגעה ציינו כי אנחנו זוג נשוי חדש ואנחנו באים לאחר החתונה שלנו , ציפינו לקבלת פנים יותר חמה או שי קטן מהמלון , לצערנו לא קיבלנו כלום גם על אף כך שהתלוננו בפני המנהל . לבסוף שעשינו את הצ\\'ק אוט מהמלון המנהל התנצל ונתן לנו בקבוק שמפניה . אלו היו חודשיים קשים , פחדנו וחששנו רק רצינו שהכל יעבור בשלום . לבסוף התחתנו, הכל היה מעל המצופה ואנחנו מאושרים בחיי הנישואים החדשים שפתחנו.', 'כל חיי חלמתי להיות מהנדס בניין ,כשהייתי קטן, הייתי מושפע נורא מסידרה שנקראת נמלטים באותה סידרה השחקן הראשי היה מהנדס, אשר רצה להציל את אחיו שנכנס לכלא .\\nאותו מהנדס למד ושרטט על עצמו את כל התוכניות, והסגיר את עצמו לכלא במטרה לברוח ממנו עם אחיו .\\nבעקבות כך, נוצרה לי כלפיו אמפטיה מסוימת, והוא נהיה ״דמות״ אהובה עליי , בעצם מעין שחקן שכל החיים הערצתי . כנראה בעקבות כך שהוא היה מהנדס בניין, נוצר אצלי איזה מחשבה חיובית כלפי מהנדסי בניין, מה שגרם לי לחלום להיות מהנדס . לפני הצבא ניסיתי לחפש בצבא מקצועות שדורשים מהנדס בניין, אך התועדת לימודים שלי לא הייתה מספיק טובה , לכן התגייסתי לתפקיד אחר , אך הדחף להיות מהנדס נשאר אצלי כל הזמן .\\nמייד עם שחרורי מהצבא, לאחר שהייתי בקבע וחסכתי כסף, התחלתי מכינה לימודית, השקעתי בטירוף, משום שבתור ילד לא למדתי בכלל ותעודת הבגרות שלי לא הייתה טובה , בכל פעם שהיה לי קשה בלימודים והיו פעמים רבות כאלו נזכרתי בזכרונות מהתוכנית ובאותו שחקן, וזה פשוט נתן לי דחף להמשיך ללמוד ולהיות יותר טוב, על מנת שאוכל להיות בעצמי מהנדס בניין , בזכות אותם דחפים הצלחתי לסיים את המכינה ולהתקבל ללימודים .\\nכיום אחריי המכינה ואחרי כמה שנים טובות בתואר, אני מרגיש שזוהי ההחלטה הטובה ביותר שבחרתי , בעצם ההחלטה ללכת אחריי אותו חלום ילדות ממלא אותי כל יום מחדש, וכאשר אני רואה חברים שלי שלומדים ועושים דברים שלא באמת מעניינים אותם, אני מודה לעצמי שבתור ילד מצאתי דמחות להעריץ , ועקבות כך מצאתי חלום שזה מה שרציתי לעשות .\\nהרבה פעמים בתהליך אנשים אמרו לי לא ללכת וללמוד את זה, ושזה פחות מתאים לי, אבל לא ידעתי איך להסביר להם מה זה חלון ילדות , ולא ללכת למקצוע מסויים כי כולם הולכים אליו .\\nעם הזמן חלק מהם למדו להבין אותי , וחלקם פחות , אך אותי זה לא באמת עניין מי מבין ומי לא, משום שהלכתי אחריי החלום שלי, וזה נתן לי דחף ללמוד, ולהתקדם, ולהצליח בלימודים , כמובן שגם ביום שאחריי הלימודים אני מרגיש שאקום כל בוקר למשהו שאני אוהב לעשות וזהו הדבר החשוב בחיים לדעתי .']\n"
     ]
    }
   ],
   "source": [
    "show_random_text(df_steps['3_nar_length'],'narrative',2)"
   ]
  },
  {
   "cell_type": "markdown",
   "metadata": {},
   "source": [
    "## Conclustion from step 1\n",
    "- data is balanced\n",
    "- there is no significant differences between features distribution per label\n",
    "- narrative has to be cleaned from \\n"
   ]
  },
  {
   "cell_type": "code",
   "execution_count": 23,
   "metadata": {
    "scrolled": true
   },
   "outputs": [],
   "source": [
    "df_steps['4_clean_nar'] = df_steps['3_nar_length']\n",
    "# df_steps['4_clean_nar']['narrative'] = df_steps['4_clean_nar']['narrative'].replace(b\"<br />\", b\" \")\n",
    "df_steps['4_clean_nar']['narrative'] = df_steps['4_clean_nar']['narrative'].replace('\\\\n',' ', regex=True)"
   ]
  },
  {
   "cell_type": "code",
   "execution_count": 24,
   "metadata": {},
   "outputs": [
    {
     "name": "stdout",
     "output_type": "stream",
     "text": [
      "['בשנה האחרונה חווינו את השפעותיו של נגיף הקורונה, לפני כשנה התארסתי לאחר שהייתי בזוגיות של 4 שנים. קבענו את התאריך לחתונה לשנה קדימה . עקב מקרה אישי במשפחה נאצלנו להקדים את החתונה בכשלושה חודשים . בגלל הקורונה היה מצב של חוסר וודאות מוחלט בו היינו בסגר על פי הנחיות המדינה. קבענו את התאריך החדש לחודש מרץ . כשבוע לפני החתונה מספר מחוסנים במדינה עמד על כ3 מיליון , עקב המספר הגבוה הוחלט לפתוח את המשק כשבוע לפני החתונה שלנו . בשבוע הראשון של המתווה התחתנו . החתונה התקיימה ביום שישי , המזג אוויר היה לא מוחלט, כל הלילה היה סערה ואנחנו חששנו כיוון שקבענו את החתונה במקום פתוח , לא ידענו האם ירד גשם או לא . התפללנו למזג אוויר טוב. בהתחלה האורחים התלוננו על מזג אוויר קר ורוחות חזקות - אנחנו התבאסנו חשבנו שאנשים לא ייהנו . בהמשך האירוע המזג אוויר התבהר. בחופה פגשנו את הרב לראשונה , עקב הקורונה ותכנון החתונה המהיר שעשינו תוך חודשיים , לא פגשנו אותו ובקושי דיברנו איתו בטלפון. התרשמנו ממנו לטובה הוא נתן לשנינו להעניק זה לזו את הטבעת. לקראת שבירת הכוס החתן נורא חשש שלא ישבור את הכוס, בכל זאת זה השיא של החופה , בתמונות ראינו כי הוא הרים את הרגל כל כך גבוה בגלל החשש, אבל אל דאגה לבסוף הוא שבר. השיר כניסה שלנו לחופה היה של בניה ברבי, \"עכשיו הלב פתוח\", שיר מרגש שמתאר את הזוגיות שלנו .  היו לנו בחתונה 130 אורחים , אבל לאורך כל הדרך חשבנו שנהיה עם 50 אורחים או פחות - הכל היה לטובה בסוף ואנחנו מאוד נהנו. לאחר החתונה נסענו לבית מלון עקב כך שהשמיים עדיין היו סגורים . נסענו למלון בתל אביב . טרם ההגעה ציינו כי אנחנו זוג נשוי חדש ואנחנו באים לאחר החתונה שלנו , ציפינו לקבלת פנים יותר חמה או שי קטן מהמלון , לצערנו לא קיבלנו כלום גם על אף כך שהתלוננו בפני המנהל . לבסוף שעשינו את הצ\\'ק אוט מהמלון המנהל התנצל ונתן לנו בקבוק שמפניה . אלו היו חודשיים קשים , פחדנו וחששנו רק רצינו שהכל יעבור בשלום . לבסוף התחתנו, הכל היה מעל המצופה ואנחנו מאושרים בחיי הנישואים החדשים שפתחנו.']\n"
     ]
    }
   ],
   "source": [
    "show_random_text(df_steps['4_clean_nar'],'narrative',1)"
   ]
  },
  {
   "cell_type": "code",
   "execution_count": 25,
   "metadata": {},
   "outputs": [
    {
     "ename": "FileNotFoundError",
     "evalue": "[Errno 2] No such file or directory: 'heb_stopwords.txt'",
     "output_type": "error",
     "traceback": [
      "\u001b[0;31m---------------------------------------------------------------------------\u001b[0m",
      "\u001b[0;31mFileNotFoundError\u001b[0m                         Traceback (most recent call last)",
      "\u001b[0;32m<ipython-input-25-b73a6e0078e1>\u001b[0m in \u001b[0;36m<module>\u001b[0;34m\u001b[0m\n\u001b[0;32m----> 1\u001b[0;31m \u001b[0mstop_words\u001b[0m \u001b[0;34m=\u001b[0m \u001b[0;34m[\u001b[0m\u001b[0mx\u001b[0m\u001b[0;34m.\u001b[0m\u001b[0mstrip\u001b[0m\u001b[0;34m(\u001b[0m\u001b[0;34m)\u001b[0m \u001b[0;32mfor\u001b[0m \u001b[0mx\u001b[0m \u001b[0;32min\u001b[0m \u001b[0mopen\u001b[0m\u001b[0;34m(\u001b[0m\u001b[0;34m'heb_stopwords.txt'\u001b[0m\u001b[0;34m,\u001b[0m\u001b[0;34m'r'\u001b[0m\u001b[0;34m)\u001b[0m\u001b[0;34m.\u001b[0m\u001b[0mread\u001b[0m\u001b[0;34m(\u001b[0m\u001b[0;34m)\u001b[0m\u001b[0;34m.\u001b[0m\u001b[0msplit\u001b[0m\u001b[0;34m(\u001b[0m\u001b[0;34m'\\n'\u001b[0m\u001b[0;34m)\u001b[0m\u001b[0;34m]\u001b[0m\u001b[0;34m\u001b[0m\u001b[0;34m\u001b[0m\u001b[0m\n\u001b[0m",
      "\u001b[0;31mFileNotFoundError\u001b[0m: [Errno 2] No such file or directory: 'heb_stopwords.txt'"
     ]
    }
   ],
   "source": [
    "stop_words = [x.strip() for x in open('heb_stopwords.txt','r').read().split('\\n')]"
   ]
  },
  {
   "cell_type": "markdown",
   "metadata": {},
   "source": [
    "## Step 2 - tokenize the narrative\n",
    "exaustive search for the best model"
   ]
  },
  {
   "cell_type": "code",
   "execution_count": 26,
   "metadata": {},
   "outputs": [],
   "source": [
    "text_train = df_steps['4_clean_nar']['narrative'].tolist()\n",
    "text_test = df_test['narrative'].tolist()\n",
    "y_train = df_steps['4_clean_nar']['label']"
   ]
  },
  {
   "cell_type": "code",
   "execution_count": 27,
   "metadata": {},
   "outputs": [
    {
     "name": "stdout",
     "output_type": "stream",
     "text": [
      "408\n",
      "408\n"
     ]
    }
   ],
   "source": [
    "print (len(text_train))\n",
    "print (len(y_train))"
   ]
  },
  {
   "cell_type": "code",
   "execution_count": 28,
   "metadata": {},
   "outputs": [
    {
     "ename": "NameError",
     "evalue": "name 'stop_words' is not defined",
     "output_type": "error",
     "traceback": [
      "\u001b[0;31m---------------------------------------------------------------------------\u001b[0m",
      "\u001b[0;31mNameError\u001b[0m                                 Traceback (most recent call last)",
      "\u001b[0;32m<ipython-input-28-8a6c5dde2a5d>\u001b[0m in \u001b[0;36m<module>\u001b[0;34m\u001b[0m\n\u001b[0;32m----> 1\u001b[0;31m \u001b[0mvect\u001b[0m \u001b[0;34m=\u001b[0m \u001b[0mCountVectorizer\u001b[0m\u001b[0;34m(\u001b[0m\u001b[0mmin_df\u001b[0m\u001b[0;34m=\u001b[0m\u001b[0;36m4\u001b[0m\u001b[0;34m,\u001b[0m\u001b[0mstop_words\u001b[0m\u001b[0;34m=\u001b[0m\u001b[0mstop_words\u001b[0m\u001b[0;34m)\u001b[0m\u001b[0;34m\u001b[0m\u001b[0;34m\u001b[0m\u001b[0m\n\u001b[0m\u001b[1;32m      2\u001b[0m \u001b[0mX_train\u001b[0m \u001b[0;34m=\u001b[0m \u001b[0mvect\u001b[0m\u001b[0;34m.\u001b[0m\u001b[0mfit_transform\u001b[0m\u001b[0;34m(\u001b[0m\u001b[0mtext_train\u001b[0m\u001b[0;34m)\u001b[0m\u001b[0;34m\u001b[0m\u001b[0;34m\u001b[0m\u001b[0m\n\u001b[1;32m      3\u001b[0m \u001b[0mprint\u001b[0m\u001b[0;34m(\u001b[0m\u001b[0mX_train\u001b[0m\u001b[0;34m.\u001b[0m\u001b[0mshape\u001b[0m\u001b[0;34m)\u001b[0m\u001b[0;34m\u001b[0m\u001b[0;34m\u001b[0m\u001b[0m\n",
      "\u001b[0;31mNameError\u001b[0m: name 'stop_words' is not defined"
     ]
    }
   ],
   "source": [
    "vect = CountVectorizer(min_df=4,stop_words=stop_words)\n",
    "X_train = vect.fit_transform(text_train)\n",
    "print(X_train.shape)"
   ]
  },
  {
   "cell_type": "code",
   "execution_count": 29,
   "metadata": {},
   "outputs": [],
   "source": [
    "def sample_features(features):\n",
    "    n = len(features)\n",
    "    print(feature_names[:20])\n",
    "    print(feature_names[round(n/2)-10:round(n/2)+10])\n",
    "    print(feature_names[::round(n/10)])"
   ]
  },
  {
   "cell_type": "code",
   "execution_count": 30,
   "metadata": {},
   "outputs": [
    {
     "ename": "NameError",
     "evalue": "name 'vect' is not defined",
     "output_type": "error",
     "traceback": [
      "\u001b[0;31m---------------------------------------------------------------------------\u001b[0m",
      "\u001b[0;31mNameError\u001b[0m                                 Traceback (most recent call last)",
      "\u001b[0;32m<ipython-input-30-36b60c10c370>\u001b[0m in \u001b[0;36m<module>\u001b[0;34m\u001b[0m\n\u001b[1;32m      1\u001b[0m \u001b[0;31m#Vocabulary\u001b[0m\u001b[0;34m\u001b[0m\u001b[0;34m\u001b[0m\u001b[0;34m\u001b[0m\u001b[0m\n\u001b[0;32m----> 2\u001b[0;31m \u001b[0mfeature_names\u001b[0m \u001b[0;34m=\u001b[0m \u001b[0mvect\u001b[0m\u001b[0;34m.\u001b[0m\u001b[0mget_feature_names\u001b[0m\u001b[0;34m(\u001b[0m\u001b[0;34m)\u001b[0m\u001b[0;34m\u001b[0m\u001b[0;34m\u001b[0m\u001b[0m\n\u001b[0m\u001b[1;32m      3\u001b[0m \u001b[0msample_features\u001b[0m\u001b[0;34m(\u001b[0m\u001b[0mfeature_names\u001b[0m\u001b[0;34m)\u001b[0m\u001b[0;34m\u001b[0m\u001b[0;34m\u001b[0m\u001b[0m\n",
      "\u001b[0;31mNameError\u001b[0m: name 'vect' is not defined"
     ]
    }
   ],
   "source": [
    "#Vocabulary\n",
    "feature_names = vect.get_feature_names()\n",
    "sample_features(feature_names)"
   ]
  },
  {
   "cell_type": "code",
   "execution_count": 31,
   "metadata": {},
   "outputs": [
    {
     "ename": "NameError",
     "evalue": "name 'feature_names' is not defined",
     "output_type": "error",
     "traceback": [
      "\u001b[0;31m---------------------------------------------------------------------------\u001b[0m",
      "\u001b[0;31mNameError\u001b[0m                                 Traceback (most recent call last)",
      "\u001b[0;32m<ipython-input-31-b513214e76f5>\u001b[0m in \u001b[0;36m<module>\u001b[0;34m\u001b[0m\n\u001b[0;32m----> 1\u001b[0;31m \u001b[0mprint\u001b[0m \u001b[0;34m(\u001b[0m\u001b[0mlen\u001b[0m\u001b[0;34m(\u001b[0m\u001b[0mfeature_names\u001b[0m\u001b[0;34m)\u001b[0m\u001b[0;34m)\u001b[0m\u001b[0;34m\u001b[0m\u001b[0;34m\u001b[0m\u001b[0m\n\u001b[0m",
      "\u001b[0;31mNameError\u001b[0m: name 'feature_names' is not defined"
     ]
    }
   ],
   "source": [
    "print (len(feature_names))"
   ]
  },
  {
   "cell_type": "code",
   "execution_count": 45,
   "metadata": {},
   "outputs": [],
   "source": [
    "def train_and_predict(estimator,X_train,y_train,X_test):\n",
    "    model = estimator.fit(X_train,y_train)\n",
    "    y_pred = model.predict(X_test)\n",
    "    return model,y_pred"
   ]
  },
  {
   "cell_type": "code",
   "execution_count": 46,
   "metadata": {},
   "outputs": [],
   "source": [
    "regressors = [\n",
    "    LogisticRegression(),\n",
    "    LogisticRegressionCV(),\n",
    "    PassiveAggressiveClassifier(),\n",
    "    Perceptron(),\n",
    "    RidgeClassifier(),\n",
    "    RidgeClassifierCV(),\n",
    "    SGDClassifier()\n",
    "]\n",
    "scores_df = pd.DataFrame(dtype=float)"
   ]
  },
  {
   "cell_type": "code",
   "execution_count": 47,
   "metadata": {},
   "outputs": [
    {
     "ename": "NameError",
     "evalue": "name 'X_train' is not defined",
     "output_type": "error",
     "traceback": [
      "\u001b[0;31m---------------------------------------------------------------------------\u001b[0m",
      "\u001b[0;31mNameError\u001b[0m                                 Traceback (most recent call last)",
      "\u001b[0;32m<ipython-input-47-0c40588cc70a>\u001b[0m in \u001b[0;36m<module>\u001b[0;34m\u001b[0m\n\u001b[1;32m      1\u001b[0m \u001b[0;32mfor\u001b[0m \u001b[0mregr\u001b[0m \u001b[0;32min\u001b[0m \u001b[0mregressors\u001b[0m\u001b[0;34m:\u001b[0m\u001b[0;34m\u001b[0m\u001b[0;34m\u001b[0m\u001b[0m\n\u001b[0;32m----> 2\u001b[0;31m     \u001b[0mget_cross_val_score\u001b[0m\u001b[0;34m(\u001b[0m\u001b[0mscores_df\u001b[0m\u001b[0;34m,\u001b[0m\u001b[0mregr\u001b[0m\u001b[0;34m,\u001b[0m \u001b[0mX_train\u001b[0m\u001b[0;34m,\u001b[0m \u001b[0my_train\u001b[0m\u001b[0;34m,\u001b[0m\u001b[0;34m\"count_vectorizer\"\u001b[0m\u001b[0;34m)\u001b[0m\u001b[0;34m\u001b[0m\u001b[0;34m\u001b[0m\u001b[0m\n\u001b[0m",
      "\u001b[0;31mNameError\u001b[0m: name 'X_train' is not defined"
     ]
    }
   ],
   "source": [
    "for regr in regressors:\n",
    "    get_cross_val_score(scores_df,regr, X_train, y_train,\"count_vectorizer\")"
   ]
  },
  {
   "cell_type": "code",
   "execution_count": 48,
   "metadata": {},
   "outputs": [
    {
     "ename": "KeyError",
     "evalue": "'f1'",
     "output_type": "error",
     "traceback": [
      "\u001b[0;31m---------------------------------------------------------------------------\u001b[0m",
      "\u001b[0;31mKeyError\u001b[0m                                  Traceback (most recent call last)",
      "\u001b[0;32m<ipython-input-48-03d6682ea820>\u001b[0m in \u001b[0;36m<module>\u001b[0;34m\u001b[0m\n\u001b[0;32m----> 1\u001b[0;31m \u001b[0mdisplay\u001b[0m\u001b[0;34m(\u001b[0m\u001b[0mscores_df\u001b[0m\u001b[0;34m.\u001b[0m\u001b[0msort_values\u001b[0m\u001b[0;34m(\u001b[0m\u001b[0mby\u001b[0m\u001b[0;34m=\u001b[0m\u001b[0;34m'f1'\u001b[0m\u001b[0;34m)\u001b[0m\u001b[0;34m.\u001b[0m\u001b[0mtail\u001b[0m\u001b[0;34m(\u001b[0m\u001b[0;36m5\u001b[0m\u001b[0;34m)\u001b[0m\u001b[0;34m)\u001b[0m\u001b[0;34m\u001b[0m\u001b[0;34m\u001b[0m\u001b[0m\n\u001b[0m",
      "\u001b[0;32m~/anaconda3/lib/python3.8/site-packages/pandas/core/frame.py\u001b[0m in \u001b[0;36msort_values\u001b[0;34m(self, by, axis, ascending, inplace, kind, na_position, ignore_index, key)\u001b[0m\n\u001b[1;32m   5453\u001b[0m \u001b[0;34m\u001b[0m\u001b[0m\n\u001b[1;32m   5454\u001b[0m             \u001b[0mby\u001b[0m \u001b[0;34m=\u001b[0m \u001b[0mby\u001b[0m\u001b[0;34m[\u001b[0m\u001b[0;36m0\u001b[0m\u001b[0;34m]\u001b[0m\u001b[0;34m\u001b[0m\u001b[0;34m\u001b[0m\u001b[0m\n\u001b[0;32m-> 5455\u001b[0;31m             \u001b[0mk\u001b[0m \u001b[0;34m=\u001b[0m \u001b[0mself\u001b[0m\u001b[0;34m.\u001b[0m\u001b[0m_get_label_or_level_values\u001b[0m\u001b[0;34m(\u001b[0m\u001b[0mby\u001b[0m\u001b[0;34m,\u001b[0m \u001b[0maxis\u001b[0m\u001b[0;34m=\u001b[0m\u001b[0maxis\u001b[0m\u001b[0;34m)\u001b[0m\u001b[0;34m\u001b[0m\u001b[0;34m\u001b[0m\u001b[0m\n\u001b[0m\u001b[1;32m   5456\u001b[0m \u001b[0;34m\u001b[0m\u001b[0m\n\u001b[1;32m   5457\u001b[0m             \u001b[0;31m# need to rewrap column in Series to apply key function\u001b[0m\u001b[0;34m\u001b[0m\u001b[0;34m\u001b[0m\u001b[0;34m\u001b[0m\u001b[0m\n",
      "\u001b[0;32m~/anaconda3/lib/python3.8/site-packages/pandas/core/generic.py\u001b[0m in \u001b[0;36m_get_label_or_level_values\u001b[0;34m(self, key, axis)\u001b[0m\n\u001b[1;32m   1682\u001b[0m             \u001b[0mvalues\u001b[0m \u001b[0;34m=\u001b[0m \u001b[0mself\u001b[0m\u001b[0;34m.\u001b[0m\u001b[0maxes\u001b[0m\u001b[0;34m[\u001b[0m\u001b[0maxis\u001b[0m\u001b[0;34m]\u001b[0m\u001b[0;34m.\u001b[0m\u001b[0mget_level_values\u001b[0m\u001b[0;34m(\u001b[0m\u001b[0mkey\u001b[0m\u001b[0;34m)\u001b[0m\u001b[0;34m.\u001b[0m\u001b[0m_values\u001b[0m\u001b[0;34m\u001b[0m\u001b[0;34m\u001b[0m\u001b[0m\n\u001b[1;32m   1683\u001b[0m         \u001b[0;32melse\u001b[0m\u001b[0;34m:\u001b[0m\u001b[0;34m\u001b[0m\u001b[0;34m\u001b[0m\u001b[0m\n\u001b[0;32m-> 1684\u001b[0;31m             \u001b[0;32mraise\u001b[0m \u001b[0mKeyError\u001b[0m\u001b[0;34m(\u001b[0m\u001b[0mkey\u001b[0m\u001b[0;34m)\u001b[0m\u001b[0;34m\u001b[0m\u001b[0;34m\u001b[0m\u001b[0m\n\u001b[0m\u001b[1;32m   1685\u001b[0m \u001b[0;34m\u001b[0m\u001b[0m\n\u001b[1;32m   1686\u001b[0m         \u001b[0;31m# Check for duplicates\u001b[0m\u001b[0;34m\u001b[0m\u001b[0;34m\u001b[0m\u001b[0;34m\u001b[0m\u001b[0m\n",
      "\u001b[0;31mKeyError\u001b[0m: 'f1'"
     ]
    }
   ],
   "source": [
    "display(scores_df.sort_values(by='f1').tail(5))"
   ]
  },
  {
   "cell_type": "code",
   "execution_count": 49,
   "metadata": {},
   "outputs": [
    {
     "ename": "NameError",
     "evalue": "name 'stop_words' is not defined",
     "output_type": "error",
     "traceback": [
      "\u001b[0;31m---------------------------------------------------------------------------\u001b[0m",
      "\u001b[0;31mNameError\u001b[0m                                 Traceback (most recent call last)",
      "\u001b[0;32m<ipython-input-49-632a357c83c5>\u001b[0m in \u001b[0;36m<module>\u001b[0;34m\u001b[0m\n\u001b[1;32m      1\u001b[0m \u001b[0;31m#TfidfVectorizer\u001b[0m\u001b[0;34m\u001b[0m\u001b[0;34m\u001b[0m\u001b[0;34m\u001b[0m\u001b[0m\n\u001b[0;32m----> 2\u001b[0;31m \u001b[0mtdif\u001b[0m \u001b[0;34m=\u001b[0m \u001b[0mTfidfVectorizer\u001b[0m\u001b[0;34m(\u001b[0m\u001b[0mmin_df\u001b[0m\u001b[0;34m=\u001b[0m\u001b[0;36m4\u001b[0m\u001b[0;34m,\u001b[0m\u001b[0mstop_words\u001b[0m\u001b[0;34m=\u001b[0m\u001b[0mstop_words\u001b[0m\u001b[0;34m)\u001b[0m\u001b[0;34m\u001b[0m\u001b[0;34m\u001b[0m\u001b[0m\n\u001b[0m\u001b[1;32m      3\u001b[0m \u001b[0mX_train\u001b[0m \u001b[0;34m=\u001b[0m \u001b[0mtdif\u001b[0m\u001b[0;34m.\u001b[0m\u001b[0mfit_transform\u001b[0m\u001b[0;34m(\u001b[0m\u001b[0mtext_train\u001b[0m\u001b[0;34m)\u001b[0m\u001b[0;34m\u001b[0m\u001b[0;34m\u001b[0m\u001b[0m\n\u001b[1;32m      4\u001b[0m \u001b[0mX_train\u001b[0m \u001b[0;34m=\u001b[0m \u001b[0mnormalize\u001b[0m\u001b[0;34m(\u001b[0m\u001b[0mX_train\u001b[0m\u001b[0;34m,\u001b[0m\u001b[0mnorm\u001b[0m\u001b[0;34m=\u001b[0m\u001b[0;34m\"l1\"\u001b[0m\u001b[0;34m)\u001b[0m\u001b[0;34m\u001b[0m\u001b[0;34m\u001b[0m\u001b[0m\n",
      "\u001b[0;31mNameError\u001b[0m: name 'stop_words' is not defined"
     ]
    }
   ],
   "source": [
    "#TfidfVectorizer\n",
    "tdif = TfidfVectorizer(min_df=4,stop_words=stop_words)\n",
    "X_train = tdif.fit_transform(text_train)\n",
    "X_train = normalize(X_train,norm=\"l1\")"
   ]
  },
  {
   "cell_type": "code",
   "execution_count": 50,
   "metadata": {},
   "outputs": [
    {
     "name": "stdout",
     "output_type": "stream",
     "text": [
      "408\n"
     ]
    },
    {
     "ename": "NameError",
     "evalue": "name 'tdif' is not defined",
     "output_type": "error",
     "traceback": [
      "\u001b[0;31m---------------------------------------------------------------------------\u001b[0m",
      "\u001b[0;31mNameError\u001b[0m                                 Traceback (most recent call last)",
      "\u001b[0;32m<ipython-input-50-ce7f2223e0f8>\u001b[0m in \u001b[0;36m<module>\u001b[0;34m\u001b[0m\n\u001b[1;32m      1\u001b[0m \u001b[0mprint\u001b[0m \u001b[0;34m(\u001b[0m\u001b[0mlen\u001b[0m\u001b[0;34m(\u001b[0m\u001b[0mtext_train\u001b[0m\u001b[0;34m)\u001b[0m\u001b[0;34m)\u001b[0m\u001b[0;34m\u001b[0m\u001b[0;34m\u001b[0m\u001b[0m\n\u001b[0;32m----> 2\u001b[0;31m \u001b[0mlen\u001b[0m\u001b[0;34m(\u001b[0m\u001b[0mtdif\u001b[0m\u001b[0;34m.\u001b[0m\u001b[0mget_feature_names\u001b[0m\u001b[0;34m(\u001b[0m\u001b[0;34m)\u001b[0m\u001b[0;34m)\u001b[0m\u001b[0;34m\u001b[0m\u001b[0;34m\u001b[0m\u001b[0m\n\u001b[0m",
      "\u001b[0;31mNameError\u001b[0m: name 'tdif' is not defined"
     ]
    }
   ],
   "source": [
    "print (len(text_train))\n",
    "len(tdif.get_feature_names())"
   ]
  },
  {
   "cell_type": "code",
   "execution_count": 51,
   "metadata": {},
   "outputs": [
    {
     "ename": "NameError",
     "evalue": "name 'X_train' is not defined",
     "output_type": "error",
     "traceback": [
      "\u001b[0;31m---------------------------------------------------------------------------\u001b[0m",
      "\u001b[0;31mNameError\u001b[0m                                 Traceback (most recent call last)",
      "\u001b[0;32m<ipython-input-51-06f26915f423>\u001b[0m in \u001b[0;36m<module>\u001b[0;34m\u001b[0m\n\u001b[1;32m      1\u001b[0m \u001b[0;32mfor\u001b[0m \u001b[0mregr\u001b[0m \u001b[0;32min\u001b[0m \u001b[0mregressors\u001b[0m\u001b[0;34m:\u001b[0m\u001b[0;34m\u001b[0m\u001b[0;34m\u001b[0m\u001b[0m\n\u001b[0;32m----> 2\u001b[0;31m     \u001b[0mget_cross_val_score\u001b[0m\u001b[0;34m(\u001b[0m\u001b[0mscores_df\u001b[0m\u001b[0;34m,\u001b[0m\u001b[0mregr\u001b[0m\u001b[0;34m,\u001b[0m \u001b[0mX_train\u001b[0m\u001b[0;34m,\u001b[0m \u001b[0my_train\u001b[0m\u001b[0;34m,\u001b[0m\u001b[0;34m\"TfidfVectorizer_norm\"\u001b[0m\u001b[0;34m)\u001b[0m\u001b[0;34m\u001b[0m\u001b[0;34m\u001b[0m\u001b[0m\n\u001b[0m",
      "\u001b[0;31mNameError\u001b[0m: name 'X_train' is not defined"
     ]
    }
   ],
   "source": [
    "for regr in regressors:\n",
    "    get_cross_val_score(scores_df,regr, X_train, y_train,\"TfidfVectorizer_norm\")"
   ]
  },
  {
   "cell_type": "code",
   "execution_count": 52,
   "metadata": {},
   "outputs": [
    {
     "ename": "KeyError",
     "evalue": "'f1'",
     "output_type": "error",
     "traceback": [
      "\u001b[0;31m---------------------------------------------------------------------------\u001b[0m",
      "\u001b[0;31mKeyError\u001b[0m                                  Traceback (most recent call last)",
      "\u001b[0;32m<ipython-input-52-03d6682ea820>\u001b[0m in \u001b[0;36m<module>\u001b[0;34m\u001b[0m\n\u001b[0;32m----> 1\u001b[0;31m \u001b[0mdisplay\u001b[0m\u001b[0;34m(\u001b[0m\u001b[0mscores_df\u001b[0m\u001b[0;34m.\u001b[0m\u001b[0msort_values\u001b[0m\u001b[0;34m(\u001b[0m\u001b[0mby\u001b[0m\u001b[0;34m=\u001b[0m\u001b[0;34m'f1'\u001b[0m\u001b[0;34m)\u001b[0m\u001b[0;34m.\u001b[0m\u001b[0mtail\u001b[0m\u001b[0;34m(\u001b[0m\u001b[0;36m5\u001b[0m\u001b[0;34m)\u001b[0m\u001b[0;34m)\u001b[0m\u001b[0;34m\u001b[0m\u001b[0;34m\u001b[0m\u001b[0m\n\u001b[0m",
      "\u001b[0;32m~/anaconda3/lib/python3.8/site-packages/pandas/core/frame.py\u001b[0m in \u001b[0;36msort_values\u001b[0;34m(self, by, axis, ascending, inplace, kind, na_position, ignore_index, key)\u001b[0m\n\u001b[1;32m   5453\u001b[0m \u001b[0;34m\u001b[0m\u001b[0m\n\u001b[1;32m   5454\u001b[0m             \u001b[0mby\u001b[0m \u001b[0;34m=\u001b[0m \u001b[0mby\u001b[0m\u001b[0;34m[\u001b[0m\u001b[0;36m0\u001b[0m\u001b[0;34m]\u001b[0m\u001b[0;34m\u001b[0m\u001b[0;34m\u001b[0m\u001b[0m\n\u001b[0;32m-> 5455\u001b[0;31m             \u001b[0mk\u001b[0m \u001b[0;34m=\u001b[0m \u001b[0mself\u001b[0m\u001b[0;34m.\u001b[0m\u001b[0m_get_label_or_level_values\u001b[0m\u001b[0;34m(\u001b[0m\u001b[0mby\u001b[0m\u001b[0;34m,\u001b[0m \u001b[0maxis\u001b[0m\u001b[0;34m=\u001b[0m\u001b[0maxis\u001b[0m\u001b[0;34m)\u001b[0m\u001b[0;34m\u001b[0m\u001b[0;34m\u001b[0m\u001b[0m\n\u001b[0m\u001b[1;32m   5456\u001b[0m \u001b[0;34m\u001b[0m\u001b[0m\n\u001b[1;32m   5457\u001b[0m             \u001b[0;31m# need to rewrap column in Series to apply key function\u001b[0m\u001b[0;34m\u001b[0m\u001b[0;34m\u001b[0m\u001b[0;34m\u001b[0m\u001b[0m\n",
      "\u001b[0;32m~/anaconda3/lib/python3.8/site-packages/pandas/core/generic.py\u001b[0m in \u001b[0;36m_get_label_or_level_values\u001b[0;34m(self, key, axis)\u001b[0m\n\u001b[1;32m   1682\u001b[0m             \u001b[0mvalues\u001b[0m \u001b[0;34m=\u001b[0m \u001b[0mself\u001b[0m\u001b[0;34m.\u001b[0m\u001b[0maxes\u001b[0m\u001b[0;34m[\u001b[0m\u001b[0maxis\u001b[0m\u001b[0;34m]\u001b[0m\u001b[0;34m.\u001b[0m\u001b[0mget_level_values\u001b[0m\u001b[0;34m(\u001b[0m\u001b[0mkey\u001b[0m\u001b[0;34m)\u001b[0m\u001b[0;34m.\u001b[0m\u001b[0m_values\u001b[0m\u001b[0;34m\u001b[0m\u001b[0;34m\u001b[0m\u001b[0m\n\u001b[1;32m   1683\u001b[0m         \u001b[0;32melse\u001b[0m\u001b[0;34m:\u001b[0m\u001b[0;34m\u001b[0m\u001b[0;34m\u001b[0m\u001b[0m\n\u001b[0;32m-> 1684\u001b[0;31m             \u001b[0;32mraise\u001b[0m \u001b[0mKeyError\u001b[0m\u001b[0;34m(\u001b[0m\u001b[0mkey\u001b[0m\u001b[0;34m)\u001b[0m\u001b[0;34m\u001b[0m\u001b[0;34m\u001b[0m\u001b[0m\n\u001b[0m\u001b[1;32m   1685\u001b[0m \u001b[0;34m\u001b[0m\u001b[0m\n\u001b[1;32m   1686\u001b[0m         \u001b[0;31m# Check for duplicates\u001b[0m\u001b[0;34m\u001b[0m\u001b[0;34m\u001b[0m\u001b[0;34m\u001b[0m\u001b[0m\n",
      "\u001b[0;31mKeyError\u001b[0m: 'f1'"
     ]
    }
   ],
   "source": [
    "display(scores_df.sort_values(by='f1').tail(5))"
   ]
  },
  {
   "cell_type": "code",
   "execution_count": 53,
   "metadata": {},
   "outputs": [
    {
     "ename": "NameError",
     "evalue": "name 'stop_words' is not defined",
     "output_type": "error",
     "traceback": [
      "\u001b[0;31m---------------------------------------------------------------------------\u001b[0m",
      "\u001b[0;31mNameError\u001b[0m                                 Traceback (most recent call last)",
      "\u001b[0;32m<ipython-input-53-0ea2c6c7a130>\u001b[0m in \u001b[0;36m<module>\u001b[0;34m\u001b[0m\n\u001b[1;32m      1\u001b[0m \u001b[0;31m# L1 normalization with CountVectorizer\u001b[0m\u001b[0;34m\u001b[0m\u001b[0;34m\u001b[0m\u001b[0;34m\u001b[0m\u001b[0m\n\u001b[0;32m----> 2\u001b[0;31m \u001b[0mcount_vec\u001b[0m \u001b[0;34m=\u001b[0m \u001b[0mCountVectorizer\u001b[0m\u001b[0;34m(\u001b[0m\u001b[0mmin_df\u001b[0m\u001b[0;34m=\u001b[0m\u001b[0;36m4\u001b[0m\u001b[0;34m,\u001b[0m\u001b[0mstop_words\u001b[0m\u001b[0;34m=\u001b[0m\u001b[0mstop_words\u001b[0m\u001b[0;34m)\u001b[0m\u001b[0;34m\u001b[0m\u001b[0;34m\u001b[0m\u001b[0m\n\u001b[0m\u001b[1;32m      3\u001b[0m \u001b[0mX_train\u001b[0m \u001b[0;34m=\u001b[0m \u001b[0mcount_vec\u001b[0m\u001b[0;34m.\u001b[0m\u001b[0mfit_transform\u001b[0m\u001b[0;34m(\u001b[0m\u001b[0mtext_train\u001b[0m\u001b[0;34m)\u001b[0m\u001b[0;34m\u001b[0m\u001b[0;34m\u001b[0m\u001b[0m\n\u001b[1;32m      4\u001b[0m \u001b[0mX_train\u001b[0m \u001b[0;34m=\u001b[0m \u001b[0mnormalize\u001b[0m\u001b[0;34m(\u001b[0m\u001b[0mX_train\u001b[0m\u001b[0;34m,\u001b[0m\u001b[0mnorm\u001b[0m\u001b[0;34m=\u001b[0m\u001b[0;34m\"l1\"\u001b[0m\u001b[0;34m)\u001b[0m\u001b[0;34m\u001b[0m\u001b[0;34m\u001b[0m\u001b[0m\n",
      "\u001b[0;31mNameError\u001b[0m: name 'stop_words' is not defined"
     ]
    }
   ],
   "source": [
    "# L1 normalization with CountVectorizer\n",
    "count_vec = CountVectorizer(min_df=4,stop_words=stop_words)\n",
    "X_train = count_vec.fit_transform(text_train)\n",
    "X_train = normalize(X_train,norm=\"l1\")"
   ]
  },
  {
   "cell_type": "code",
   "execution_count": 54,
   "metadata": {},
   "outputs": [
    {
     "ename": "NameError",
     "evalue": "name 'X_train' is not defined",
     "output_type": "error",
     "traceback": [
      "\u001b[0;31m---------------------------------------------------------------------------\u001b[0m",
      "\u001b[0;31mNameError\u001b[0m                                 Traceback (most recent call last)",
      "\u001b[0;32m<ipython-input-54-b90cfab96af1>\u001b[0m in \u001b[0;36m<module>\u001b[0;34m\u001b[0m\n\u001b[1;32m      1\u001b[0m \u001b[0;32mfor\u001b[0m \u001b[0mregr\u001b[0m \u001b[0;32min\u001b[0m \u001b[0mregressors\u001b[0m\u001b[0;34m:\u001b[0m\u001b[0;34m\u001b[0m\u001b[0;34m\u001b[0m\u001b[0m\n\u001b[0;32m----> 2\u001b[0;31m     \u001b[0mget_cross_val_score\u001b[0m\u001b[0;34m(\u001b[0m\u001b[0mscores_df\u001b[0m\u001b[0;34m,\u001b[0m\u001b[0mregr\u001b[0m\u001b[0;34m,\u001b[0m \u001b[0mX_train\u001b[0m\u001b[0;34m,\u001b[0m \u001b[0my_train\u001b[0m\u001b[0;34m,\u001b[0m\u001b[0;34m\"CountVectorizer_norm\"\u001b[0m\u001b[0;34m)\u001b[0m\u001b[0;34m\u001b[0m\u001b[0;34m\u001b[0m\u001b[0m\n\u001b[0m",
      "\u001b[0;31mNameError\u001b[0m: name 'X_train' is not defined"
     ]
    }
   ],
   "source": [
    "for regr in regressors:\n",
    "    get_cross_val_score(scores_df,regr, X_train, y_train,\"CountVectorizer_norm\")"
   ]
  },
  {
   "cell_type": "code",
   "execution_count": 55,
   "metadata": {},
   "outputs": [
    {
     "ename": "KeyError",
     "evalue": "'f1'",
     "output_type": "error",
     "traceback": [
      "\u001b[0;31m---------------------------------------------------------------------------\u001b[0m",
      "\u001b[0;31mKeyError\u001b[0m                                  Traceback (most recent call last)",
      "\u001b[0;32m<ipython-input-55-03d6682ea820>\u001b[0m in \u001b[0;36m<module>\u001b[0;34m\u001b[0m\n\u001b[0;32m----> 1\u001b[0;31m \u001b[0mdisplay\u001b[0m\u001b[0;34m(\u001b[0m\u001b[0mscores_df\u001b[0m\u001b[0;34m.\u001b[0m\u001b[0msort_values\u001b[0m\u001b[0;34m(\u001b[0m\u001b[0mby\u001b[0m\u001b[0;34m=\u001b[0m\u001b[0;34m'f1'\u001b[0m\u001b[0;34m)\u001b[0m\u001b[0;34m.\u001b[0m\u001b[0mtail\u001b[0m\u001b[0;34m(\u001b[0m\u001b[0;36m5\u001b[0m\u001b[0;34m)\u001b[0m\u001b[0;34m)\u001b[0m\u001b[0;34m\u001b[0m\u001b[0;34m\u001b[0m\u001b[0m\n\u001b[0m",
      "\u001b[0;32m~/anaconda3/lib/python3.8/site-packages/pandas/core/frame.py\u001b[0m in \u001b[0;36msort_values\u001b[0;34m(self, by, axis, ascending, inplace, kind, na_position, ignore_index, key)\u001b[0m\n\u001b[1;32m   5453\u001b[0m \u001b[0;34m\u001b[0m\u001b[0m\n\u001b[1;32m   5454\u001b[0m             \u001b[0mby\u001b[0m \u001b[0;34m=\u001b[0m \u001b[0mby\u001b[0m\u001b[0;34m[\u001b[0m\u001b[0;36m0\u001b[0m\u001b[0;34m]\u001b[0m\u001b[0;34m\u001b[0m\u001b[0;34m\u001b[0m\u001b[0m\n\u001b[0;32m-> 5455\u001b[0;31m             \u001b[0mk\u001b[0m \u001b[0;34m=\u001b[0m \u001b[0mself\u001b[0m\u001b[0;34m.\u001b[0m\u001b[0m_get_label_or_level_values\u001b[0m\u001b[0;34m(\u001b[0m\u001b[0mby\u001b[0m\u001b[0;34m,\u001b[0m \u001b[0maxis\u001b[0m\u001b[0;34m=\u001b[0m\u001b[0maxis\u001b[0m\u001b[0;34m)\u001b[0m\u001b[0;34m\u001b[0m\u001b[0;34m\u001b[0m\u001b[0m\n\u001b[0m\u001b[1;32m   5456\u001b[0m \u001b[0;34m\u001b[0m\u001b[0m\n\u001b[1;32m   5457\u001b[0m             \u001b[0;31m# need to rewrap column in Series to apply key function\u001b[0m\u001b[0;34m\u001b[0m\u001b[0;34m\u001b[0m\u001b[0;34m\u001b[0m\u001b[0m\n",
      "\u001b[0;32m~/anaconda3/lib/python3.8/site-packages/pandas/core/generic.py\u001b[0m in \u001b[0;36m_get_label_or_level_values\u001b[0;34m(self, key, axis)\u001b[0m\n\u001b[1;32m   1682\u001b[0m             \u001b[0mvalues\u001b[0m \u001b[0;34m=\u001b[0m \u001b[0mself\u001b[0m\u001b[0;34m.\u001b[0m\u001b[0maxes\u001b[0m\u001b[0;34m[\u001b[0m\u001b[0maxis\u001b[0m\u001b[0;34m]\u001b[0m\u001b[0;34m.\u001b[0m\u001b[0mget_level_values\u001b[0m\u001b[0;34m(\u001b[0m\u001b[0mkey\u001b[0m\u001b[0;34m)\u001b[0m\u001b[0;34m.\u001b[0m\u001b[0m_values\u001b[0m\u001b[0;34m\u001b[0m\u001b[0;34m\u001b[0m\u001b[0m\n\u001b[1;32m   1683\u001b[0m         \u001b[0;32melse\u001b[0m\u001b[0;34m:\u001b[0m\u001b[0;34m\u001b[0m\u001b[0;34m\u001b[0m\u001b[0m\n\u001b[0;32m-> 1684\u001b[0;31m             \u001b[0;32mraise\u001b[0m \u001b[0mKeyError\u001b[0m\u001b[0;34m(\u001b[0m\u001b[0mkey\u001b[0m\u001b[0;34m)\u001b[0m\u001b[0;34m\u001b[0m\u001b[0;34m\u001b[0m\u001b[0m\n\u001b[0m\u001b[1;32m   1685\u001b[0m \u001b[0;34m\u001b[0m\u001b[0m\n\u001b[1;32m   1686\u001b[0m         \u001b[0;31m# Check for duplicates\u001b[0m\u001b[0;34m\u001b[0m\u001b[0;34m\u001b[0m\u001b[0;34m\u001b[0m\u001b[0m\n",
      "\u001b[0;31mKeyError\u001b[0m: 'f1'"
     ]
    }
   ],
   "source": [
    "display(scores_df.sort_values(by='f1').tail(5))"
   ]
  },
  {
   "cell_type": "code",
   "execution_count": 56,
   "metadata": {},
   "outputs": [
    {
     "ename": "NameError",
     "evalue": "name 'stop_words' is not defined",
     "output_type": "error",
     "traceback": [
      "\u001b[0;31m---------------------------------------------------------------------------\u001b[0m",
      "\u001b[0;31mNameError\u001b[0m                                 Traceback (most recent call last)",
      "\u001b[0;32m<ipython-input-56-4afdaa017766>\u001b[0m in \u001b[0;36m<module>\u001b[0;34m\u001b[0m\n\u001b[1;32m      1\u001b[0m \u001b[0;31m#ngrams\u001b[0m\u001b[0;34m\u001b[0m\u001b[0;34m\u001b[0m\u001b[0;34m\u001b[0m\u001b[0m\n\u001b[0;32m----> 2\u001b[0;31m \u001b[0mngrm\u001b[0m \u001b[0;34m=\u001b[0m \u001b[0mCountVectorizer\u001b[0m\u001b[0;34m(\u001b[0m\u001b[0mngram_range\u001b[0m\u001b[0;34m=\u001b[0m\u001b[0;34m(\u001b[0m\u001b[0;36m1\u001b[0m\u001b[0;34m,\u001b[0m \u001b[0;36m3\u001b[0m\u001b[0;34m)\u001b[0m\u001b[0;34m,\u001b[0m \u001b[0mmin_df\u001b[0m\u001b[0;34m=\u001b[0m\u001b[0;36m4\u001b[0m\u001b[0;34m,\u001b[0m\u001b[0mstop_words\u001b[0m\u001b[0;34m=\u001b[0m\u001b[0mstop_words\u001b[0m\u001b[0;34m)\u001b[0m\u001b[0;34m\u001b[0m\u001b[0;34m\u001b[0m\u001b[0m\n\u001b[0m\u001b[1;32m      3\u001b[0m \u001b[0mX_train\u001b[0m \u001b[0;34m=\u001b[0m \u001b[0mngrm\u001b[0m\u001b[0;34m.\u001b[0m\u001b[0mfit_transform\u001b[0m\u001b[0;34m(\u001b[0m\u001b[0mtext_train\u001b[0m\u001b[0;34m)\u001b[0m\u001b[0;34m\u001b[0m\u001b[0;34m\u001b[0m\u001b[0m\n",
      "\u001b[0;31mNameError\u001b[0m: name 'stop_words' is not defined"
     ]
    }
   ],
   "source": [
    "#ngrams\n",
    "ngrm = CountVectorizer(ngram_range=(1, 3), min_df=4,stop_words=stop_words)\n",
    "X_train = ngrm.fit_transform(text_train)"
   ]
  },
  {
   "cell_type": "code",
   "execution_count": 57,
   "metadata": {},
   "outputs": [
    {
     "ename": "NameError",
     "evalue": "name 'X_train' is not defined",
     "output_type": "error",
     "traceback": [
      "\u001b[0;31m---------------------------------------------------------------------------\u001b[0m",
      "\u001b[0;31mNameError\u001b[0m                                 Traceback (most recent call last)",
      "\u001b[0;32m<ipython-input-57-d0a3da38aa4e>\u001b[0m in \u001b[0;36m<module>\u001b[0;34m\u001b[0m\n\u001b[1;32m      1\u001b[0m \u001b[0;32mfor\u001b[0m \u001b[0mregr\u001b[0m \u001b[0;32min\u001b[0m \u001b[0mregressors\u001b[0m\u001b[0;34m:\u001b[0m\u001b[0;34m\u001b[0m\u001b[0;34m\u001b[0m\u001b[0m\n\u001b[0;32m----> 2\u001b[0;31m     \u001b[0mget_cross_val_score\u001b[0m\u001b[0;34m(\u001b[0m\u001b[0mscores_df\u001b[0m\u001b[0;34m,\u001b[0m\u001b[0mregr\u001b[0m\u001b[0;34m,\u001b[0m \u001b[0mX_train\u001b[0m\u001b[0;34m,\u001b[0m \u001b[0my_train\u001b[0m\u001b[0;34m,\u001b[0m\u001b[0;34m\"ngrm\"\u001b[0m\u001b[0;34m)\u001b[0m\u001b[0;34m\u001b[0m\u001b[0;34m\u001b[0m\u001b[0m\n\u001b[0m",
      "\u001b[0;31mNameError\u001b[0m: name 'X_train' is not defined"
     ]
    }
   ],
   "source": [
    "for regr in regressors:\n",
    "    get_cross_val_score(scores_df,regr, X_train, y_train,\"ngrm\")"
   ]
  },
  {
   "cell_type": "code",
   "execution_count": 58,
   "metadata": {},
   "outputs": [
    {
     "ename": "KeyError",
     "evalue": "'f1'",
     "output_type": "error",
     "traceback": [
      "\u001b[0;31m---------------------------------------------------------------------------\u001b[0m",
      "\u001b[0;31mKeyError\u001b[0m                                  Traceback (most recent call last)",
      "\u001b[0;32m<ipython-input-58-03d6682ea820>\u001b[0m in \u001b[0;36m<module>\u001b[0;34m\u001b[0m\n\u001b[0;32m----> 1\u001b[0;31m \u001b[0mdisplay\u001b[0m\u001b[0;34m(\u001b[0m\u001b[0mscores_df\u001b[0m\u001b[0;34m.\u001b[0m\u001b[0msort_values\u001b[0m\u001b[0;34m(\u001b[0m\u001b[0mby\u001b[0m\u001b[0;34m=\u001b[0m\u001b[0;34m'f1'\u001b[0m\u001b[0;34m)\u001b[0m\u001b[0;34m.\u001b[0m\u001b[0mtail\u001b[0m\u001b[0;34m(\u001b[0m\u001b[0;36m5\u001b[0m\u001b[0;34m)\u001b[0m\u001b[0;34m)\u001b[0m\u001b[0;34m\u001b[0m\u001b[0;34m\u001b[0m\u001b[0m\n\u001b[0m",
      "\u001b[0;32m~/anaconda3/lib/python3.8/site-packages/pandas/core/frame.py\u001b[0m in \u001b[0;36msort_values\u001b[0;34m(self, by, axis, ascending, inplace, kind, na_position, ignore_index, key)\u001b[0m\n\u001b[1;32m   5453\u001b[0m \u001b[0;34m\u001b[0m\u001b[0m\n\u001b[1;32m   5454\u001b[0m             \u001b[0mby\u001b[0m \u001b[0;34m=\u001b[0m \u001b[0mby\u001b[0m\u001b[0;34m[\u001b[0m\u001b[0;36m0\u001b[0m\u001b[0;34m]\u001b[0m\u001b[0;34m\u001b[0m\u001b[0;34m\u001b[0m\u001b[0m\n\u001b[0;32m-> 5455\u001b[0;31m             \u001b[0mk\u001b[0m \u001b[0;34m=\u001b[0m \u001b[0mself\u001b[0m\u001b[0;34m.\u001b[0m\u001b[0m_get_label_or_level_values\u001b[0m\u001b[0;34m(\u001b[0m\u001b[0mby\u001b[0m\u001b[0;34m,\u001b[0m \u001b[0maxis\u001b[0m\u001b[0;34m=\u001b[0m\u001b[0maxis\u001b[0m\u001b[0;34m)\u001b[0m\u001b[0;34m\u001b[0m\u001b[0;34m\u001b[0m\u001b[0m\n\u001b[0m\u001b[1;32m   5456\u001b[0m \u001b[0;34m\u001b[0m\u001b[0m\n\u001b[1;32m   5457\u001b[0m             \u001b[0;31m# need to rewrap column in Series to apply key function\u001b[0m\u001b[0;34m\u001b[0m\u001b[0;34m\u001b[0m\u001b[0;34m\u001b[0m\u001b[0m\n",
      "\u001b[0;32m~/anaconda3/lib/python3.8/site-packages/pandas/core/generic.py\u001b[0m in \u001b[0;36m_get_label_or_level_values\u001b[0;34m(self, key, axis)\u001b[0m\n\u001b[1;32m   1682\u001b[0m             \u001b[0mvalues\u001b[0m \u001b[0;34m=\u001b[0m \u001b[0mself\u001b[0m\u001b[0;34m.\u001b[0m\u001b[0maxes\u001b[0m\u001b[0;34m[\u001b[0m\u001b[0maxis\u001b[0m\u001b[0;34m]\u001b[0m\u001b[0;34m.\u001b[0m\u001b[0mget_level_values\u001b[0m\u001b[0;34m(\u001b[0m\u001b[0mkey\u001b[0m\u001b[0;34m)\u001b[0m\u001b[0;34m.\u001b[0m\u001b[0m_values\u001b[0m\u001b[0;34m\u001b[0m\u001b[0;34m\u001b[0m\u001b[0m\n\u001b[1;32m   1683\u001b[0m         \u001b[0;32melse\u001b[0m\u001b[0;34m:\u001b[0m\u001b[0;34m\u001b[0m\u001b[0;34m\u001b[0m\u001b[0m\n\u001b[0;32m-> 1684\u001b[0;31m             \u001b[0;32mraise\u001b[0m \u001b[0mKeyError\u001b[0m\u001b[0;34m(\u001b[0m\u001b[0mkey\u001b[0m\u001b[0;34m)\u001b[0m\u001b[0;34m\u001b[0m\u001b[0;34m\u001b[0m\u001b[0m\n\u001b[0m\u001b[1;32m   1685\u001b[0m \u001b[0;34m\u001b[0m\u001b[0m\n\u001b[1;32m   1686\u001b[0m         \u001b[0;31m# Check for duplicates\u001b[0m\u001b[0;34m\u001b[0m\u001b[0;34m\u001b[0m\u001b[0;34m\u001b[0m\u001b[0m\n",
      "\u001b[0;31mKeyError\u001b[0m: 'f1'"
     ]
    }
   ],
   "source": [
    "display(scores_df.sort_values(by='f1').tail(5))"
   ]
  },
  {
   "cell_type": "code",
   "execution_count": 59,
   "metadata": {},
   "outputs": [
    {
     "ename": "NameError",
     "evalue": "name 'stop_words' is not defined",
     "output_type": "error",
     "traceback": [
      "\u001b[0;31m---------------------------------------------------------------------------\u001b[0m",
      "\u001b[0;31mNameError\u001b[0m                                 Traceback (most recent call last)",
      "\u001b[0;32m<ipython-input-59-17632b2a3584>\u001b[0m in \u001b[0;36m<module>\u001b[0;34m\u001b[0m\n\u001b[0;32m----> 1\u001b[0;31m \u001b[0mcv\u001b[0m \u001b[0;34m=\u001b[0m \u001b[0mCountVectorizer\u001b[0m\u001b[0;34m(\u001b[0m\u001b[0mngram_range\u001b[0m\u001b[0;34m=\u001b[0m\u001b[0;34m(\u001b[0m\u001b[0;36m1\u001b[0m\u001b[0;34m,\u001b[0m \u001b[0;36m3\u001b[0m\u001b[0;34m)\u001b[0m\u001b[0;34m,\u001b[0m \u001b[0manalyzer\u001b[0m\u001b[0;34m=\u001b[0m\u001b[0;34m\"char_wb\"\u001b[0m\u001b[0;34m,\u001b[0m\u001b[0mstop_words\u001b[0m\u001b[0;34m=\u001b[0m\u001b[0mstop_words\u001b[0m\u001b[0;34m)\u001b[0m\u001b[0;34m\u001b[0m\u001b[0;34m\u001b[0m\u001b[0m\n\u001b[0m\u001b[1;32m      2\u001b[0m \u001b[0mX_train\u001b[0m \u001b[0;34m=\u001b[0m \u001b[0mcv\u001b[0m\u001b[0;34m.\u001b[0m\u001b[0mfit_transform\u001b[0m\u001b[0;34m(\u001b[0m\u001b[0mtext_train\u001b[0m\u001b[0;34m)\u001b[0m\u001b[0;34m\u001b[0m\u001b[0;34m\u001b[0m\u001b[0m\n\u001b[1;32m      3\u001b[0m \u001b[0mprint\u001b[0m\u001b[0;34m(\u001b[0m\u001b[0;34mf\"vocaulary size:{len(cv.vocabulary_)}\"\u001b[0m\u001b[0;34m)\u001b[0m\u001b[0;34m\u001b[0m\u001b[0;34m\u001b[0m\u001b[0m\n",
      "\u001b[0;31mNameError\u001b[0m: name 'stop_words' is not defined"
     ]
    }
   ],
   "source": [
    "cv = CountVectorizer(ngram_range=(1, 3), analyzer=\"char_wb\",stop_words=stop_words)\n",
    "X_train = cv.fit_transform(text_train)\n",
    "print(f\"vocaulary size:{len(cv.vocabulary_)}\")"
   ]
  },
  {
   "cell_type": "code",
   "execution_count": 60,
   "metadata": {},
   "outputs": [
    {
     "ename": "NameError",
     "evalue": "name 'X_train' is not defined",
     "output_type": "error",
     "traceback": [
      "\u001b[0;31m---------------------------------------------------------------------------\u001b[0m",
      "\u001b[0;31mNameError\u001b[0m                                 Traceback (most recent call last)",
      "\u001b[0;32m<ipython-input-60-b0118b0ddad0>\u001b[0m in \u001b[0;36m<module>\u001b[0;34m\u001b[0m\n\u001b[1;32m      1\u001b[0m \u001b[0;32mfor\u001b[0m \u001b[0mregr\u001b[0m \u001b[0;32min\u001b[0m \u001b[0mregressors\u001b[0m\u001b[0;34m:\u001b[0m\u001b[0;34m\u001b[0m\u001b[0;34m\u001b[0m\u001b[0m\n\u001b[0;32m----> 2\u001b[0;31m     \u001b[0mget_cross_val_score\u001b[0m\u001b[0;34m(\u001b[0m\u001b[0mscores_df\u001b[0m\u001b[0;34m,\u001b[0m\u001b[0mregr\u001b[0m\u001b[0;34m,\u001b[0m \u001b[0mX_train\u001b[0m\u001b[0;34m,\u001b[0m \u001b[0my_train\u001b[0m\u001b[0;34m,\u001b[0m\u001b[0;34m\"_char_wb\"\u001b[0m\u001b[0;34m)\u001b[0m\u001b[0;34m\u001b[0m\u001b[0;34m\u001b[0m\u001b[0m\n\u001b[0m",
      "\u001b[0;31mNameError\u001b[0m: name 'X_train' is not defined"
     ]
    }
   ],
   "source": [
    "for regr in regressors:\n",
    "    get_cross_val_score(scores_df,regr, X_train, y_train,\"_char_wb\")"
   ]
  },
  {
   "cell_type": "code",
   "execution_count": 61,
   "metadata": {},
   "outputs": [
    {
     "ename": "KeyError",
     "evalue": "'f1'",
     "output_type": "error",
     "traceback": [
      "\u001b[0;31m---------------------------------------------------------------------------\u001b[0m",
      "\u001b[0;31mKeyError\u001b[0m                                  Traceback (most recent call last)",
      "\u001b[0;32m<ipython-input-61-03d6682ea820>\u001b[0m in \u001b[0;36m<module>\u001b[0;34m\u001b[0m\n\u001b[0;32m----> 1\u001b[0;31m \u001b[0mdisplay\u001b[0m\u001b[0;34m(\u001b[0m\u001b[0mscores_df\u001b[0m\u001b[0;34m.\u001b[0m\u001b[0msort_values\u001b[0m\u001b[0;34m(\u001b[0m\u001b[0mby\u001b[0m\u001b[0;34m=\u001b[0m\u001b[0;34m'f1'\u001b[0m\u001b[0;34m)\u001b[0m\u001b[0;34m.\u001b[0m\u001b[0mtail\u001b[0m\u001b[0;34m(\u001b[0m\u001b[0;36m5\u001b[0m\u001b[0;34m)\u001b[0m\u001b[0;34m)\u001b[0m\u001b[0;34m\u001b[0m\u001b[0;34m\u001b[0m\u001b[0m\n\u001b[0m",
      "\u001b[0;32m~/anaconda3/lib/python3.8/site-packages/pandas/core/frame.py\u001b[0m in \u001b[0;36msort_values\u001b[0;34m(self, by, axis, ascending, inplace, kind, na_position, ignore_index, key)\u001b[0m\n\u001b[1;32m   5453\u001b[0m \u001b[0;34m\u001b[0m\u001b[0m\n\u001b[1;32m   5454\u001b[0m             \u001b[0mby\u001b[0m \u001b[0;34m=\u001b[0m \u001b[0mby\u001b[0m\u001b[0;34m[\u001b[0m\u001b[0;36m0\u001b[0m\u001b[0;34m]\u001b[0m\u001b[0;34m\u001b[0m\u001b[0;34m\u001b[0m\u001b[0m\n\u001b[0;32m-> 5455\u001b[0;31m             \u001b[0mk\u001b[0m \u001b[0;34m=\u001b[0m \u001b[0mself\u001b[0m\u001b[0;34m.\u001b[0m\u001b[0m_get_label_or_level_values\u001b[0m\u001b[0;34m(\u001b[0m\u001b[0mby\u001b[0m\u001b[0;34m,\u001b[0m \u001b[0maxis\u001b[0m\u001b[0;34m=\u001b[0m\u001b[0maxis\u001b[0m\u001b[0;34m)\u001b[0m\u001b[0;34m\u001b[0m\u001b[0;34m\u001b[0m\u001b[0m\n\u001b[0m\u001b[1;32m   5456\u001b[0m \u001b[0;34m\u001b[0m\u001b[0m\n\u001b[1;32m   5457\u001b[0m             \u001b[0;31m# need to rewrap column in Series to apply key function\u001b[0m\u001b[0;34m\u001b[0m\u001b[0;34m\u001b[0m\u001b[0;34m\u001b[0m\u001b[0m\n",
      "\u001b[0;32m~/anaconda3/lib/python3.8/site-packages/pandas/core/generic.py\u001b[0m in \u001b[0;36m_get_label_or_level_values\u001b[0;34m(self, key, axis)\u001b[0m\n\u001b[1;32m   1682\u001b[0m             \u001b[0mvalues\u001b[0m \u001b[0;34m=\u001b[0m \u001b[0mself\u001b[0m\u001b[0;34m.\u001b[0m\u001b[0maxes\u001b[0m\u001b[0;34m[\u001b[0m\u001b[0maxis\u001b[0m\u001b[0;34m]\u001b[0m\u001b[0;34m.\u001b[0m\u001b[0mget_level_values\u001b[0m\u001b[0;34m(\u001b[0m\u001b[0mkey\u001b[0m\u001b[0;34m)\u001b[0m\u001b[0;34m.\u001b[0m\u001b[0m_values\u001b[0m\u001b[0;34m\u001b[0m\u001b[0;34m\u001b[0m\u001b[0m\n\u001b[1;32m   1683\u001b[0m         \u001b[0;32melse\u001b[0m\u001b[0;34m:\u001b[0m\u001b[0;34m\u001b[0m\u001b[0;34m\u001b[0m\u001b[0m\n\u001b[0;32m-> 1684\u001b[0;31m             \u001b[0;32mraise\u001b[0m \u001b[0mKeyError\u001b[0m\u001b[0;34m(\u001b[0m\u001b[0mkey\u001b[0m\u001b[0;34m)\u001b[0m\u001b[0;34m\u001b[0m\u001b[0;34m\u001b[0m\u001b[0m\n\u001b[0m\u001b[1;32m   1685\u001b[0m \u001b[0;34m\u001b[0m\u001b[0m\n\u001b[1;32m   1686\u001b[0m         \u001b[0;31m# Check for duplicates\u001b[0m\u001b[0;34m\u001b[0m\u001b[0;34m\u001b[0m\u001b[0;34m\u001b[0m\u001b[0m\n",
      "\u001b[0;31mKeyError\u001b[0m: 'f1'"
     ]
    }
   ],
   "source": [
    "display(scores_df.sort_values(by='f1').tail(5))"
   ]
  },
  {
   "cell_type": "markdown",
   "metadata": {},
   "source": [
    "Get an impression of data by looking at most important features"
   ]
  },
  {
   "cell_type": "code",
   "execution_count": 62,
   "metadata": {},
   "outputs": [
    {
     "ename": "NameError",
     "evalue": "name 'stop_words' is not defined",
     "output_type": "error",
     "traceback": [
      "\u001b[0;31m---------------------------------------------------------------------------\u001b[0m",
      "\u001b[0;31mNameError\u001b[0m                                 Traceback (most recent call last)",
      "\u001b[0;32m<ipython-input-62-7ac20b439002>\u001b[0m in \u001b[0;36m<module>\u001b[0;34m\u001b[0m\n\u001b[0;32m----> 1\u001b[0;31m \u001b[0mtdif\u001b[0m \u001b[0;34m=\u001b[0m \u001b[0mTfidfVectorizer\u001b[0m\u001b[0;34m(\u001b[0m\u001b[0mstop_words\u001b[0m\u001b[0;34m=\u001b[0m\u001b[0mstop_words\u001b[0m\u001b[0;34m,\u001b[0m\u001b[0mmin_df\u001b[0m\u001b[0;34m=\u001b[0m\u001b[0;36m4\u001b[0m\u001b[0;34m)\u001b[0m\u001b[0;34m\u001b[0m\u001b[0;34m\u001b[0m\u001b[0m\n\u001b[0m\u001b[1;32m      2\u001b[0m \u001b[0mX_train\u001b[0m \u001b[0;34m=\u001b[0m \u001b[0mtdif\u001b[0m\u001b[0;34m.\u001b[0m\u001b[0mfit_transform\u001b[0m\u001b[0;34m(\u001b[0m\u001b[0mtext_train\u001b[0m\u001b[0;34m)\u001b[0m\u001b[0;34m\u001b[0m\u001b[0;34m\u001b[0m\u001b[0m\n\u001b[1;32m      3\u001b[0m \u001b[0;34m\u001b[0m\u001b[0m\n\u001b[1;32m      4\u001b[0m \u001b[0msgc\u001b[0m \u001b[0;34m=\u001b[0m \u001b[0mSGDClassifier\u001b[0m\u001b[0;34m(\u001b[0m\u001b[0;34m)\u001b[0m\u001b[0;34m\u001b[0m\u001b[0;34m\u001b[0m\u001b[0m\n\u001b[1;32m      5\u001b[0m \u001b[0msgc\u001b[0m\u001b[0;34m.\u001b[0m\u001b[0mfit\u001b[0m\u001b[0;34m(\u001b[0m\u001b[0mX_train\u001b[0m\u001b[0;34m,\u001b[0m \u001b[0my_train\u001b[0m\u001b[0;34m)\u001b[0m\u001b[0;34m\u001b[0m\u001b[0;34m\u001b[0m\u001b[0m\n",
      "\u001b[0;31mNameError\u001b[0m: name 'stop_words' is not defined"
     ]
    }
   ],
   "source": [
    "tdif = TfidfVectorizer(stop_words=stop_words,min_df=4)\n",
    "X_train = tdif.fit_transform(text_train)\n",
    "\n",
    "sgc = SGDClassifier()\n",
    "sgc.fit(X_train, y_train)"
   ]
  },
  {
   "cell_type": "code",
   "execution_count": 63,
   "metadata": {},
   "outputs": [],
   "source": [
    "def plot_important_features(coef, feature_names, top_n=20, ax=None, rotation=60):\n",
    "    if ax is None:\n",
    "        ax = plt.gca()\n",
    "    inds = np.argsort(coef)\n",
    "    low = inds[:top_n]\n",
    "    high = inds[-top_n:]\n",
    "    important = np.hstack([low, high])\n",
    "    myrange = range(len(important))\n",
    "    colors = ['red'] * top_n + ['blue'] * top_n\n",
    "    \n",
    "    ax.bar(myrange, coef[important], color=colors)\n",
    "    ax.set_xticks(myrange)\n",
    "    heb_feature_names =[bidialg.get_display(feature) for feature in feature_names[important]]\n",
    "    ax.set_xticklabels(heb_feature_names, rotation=rotation, ha=\"right\")\n",
    "    ax.set_xlim(-.7, 2 * top_n)\n",
    "    ax.set_frame_on(False)"
   ]
  },
  {
   "cell_type": "code",
   "execution_count": 64,
   "metadata": {},
   "outputs": [
    {
     "ename": "NameError",
     "evalue": "name 'sgc' is not defined",
     "output_type": "error",
     "traceback": [
      "\u001b[0;31m---------------------------------------------------------------------------\u001b[0m",
      "\u001b[0;31mNameError\u001b[0m                                 Traceback (most recent call last)",
      "\u001b[0;32m<ipython-input-64-5a622d6a1c4c>\u001b[0m in \u001b[0;36m<module>\u001b[0;34m\u001b[0m\n\u001b[1;32m      1\u001b[0m \u001b[0mplt\u001b[0m\u001b[0;34m.\u001b[0m\u001b[0mfigure\u001b[0m\u001b[0;34m(\u001b[0m\u001b[0mfigsize\u001b[0m\u001b[0;34m=\u001b[0m\u001b[0;34m(\u001b[0m\u001b[0;36m15\u001b[0m\u001b[0;34m,\u001b[0m \u001b[0;36m6\u001b[0m\u001b[0;34m)\u001b[0m\u001b[0;34m)\u001b[0m\u001b[0;34m\u001b[0m\u001b[0;34m\u001b[0m\u001b[0m\n\u001b[0;32m----> 2\u001b[0;31m \u001b[0mplot_important_features\u001b[0m\u001b[0;34m(\u001b[0m\u001b[0msgc\u001b[0m\u001b[0;34m.\u001b[0m\u001b[0mcoef_\u001b[0m\u001b[0;34m.\u001b[0m\u001b[0mravel\u001b[0m\u001b[0;34m(\u001b[0m\u001b[0;34m)\u001b[0m\u001b[0;34m,\u001b[0m \u001b[0mnp\u001b[0m\u001b[0;34m.\u001b[0m\u001b[0marray\u001b[0m\u001b[0;34m(\u001b[0m\u001b[0mtdif\u001b[0m\u001b[0;34m.\u001b[0m\u001b[0mget_feature_names\u001b[0m\u001b[0;34m(\u001b[0m\u001b[0;34m)\u001b[0m\u001b[0;34m)\u001b[0m\u001b[0;34m,\u001b[0m \u001b[0mtop_n\u001b[0m\u001b[0;34m=\u001b[0m\u001b[0;36m20\u001b[0m\u001b[0;34m,\u001b[0m \u001b[0mrotation\u001b[0m\u001b[0;34m=\u001b[0m\u001b[0;36m40\u001b[0m\u001b[0;34m)\u001b[0m\u001b[0;34m\u001b[0m\u001b[0;34m\u001b[0m\u001b[0m\n\u001b[0m\u001b[1;32m      3\u001b[0m \u001b[0max\u001b[0m \u001b[0;34m=\u001b[0m \u001b[0mplt\u001b[0m\u001b[0;34m.\u001b[0m\u001b[0mgca\u001b[0m\u001b[0;34m(\u001b[0m\u001b[0;34m)\u001b[0m\u001b[0;34m\u001b[0m\u001b[0;34m\u001b[0m\u001b[0m\n\u001b[1;32m      4\u001b[0m \u001b[0mplt\u001b[0m\u001b[0;34m.\u001b[0m\u001b[0mshow\u001b[0m\u001b[0;34m(\u001b[0m\u001b[0;34m)\u001b[0m\u001b[0;34m\u001b[0m\u001b[0;34m\u001b[0m\u001b[0m\n",
      "\u001b[0;31mNameError\u001b[0m: name 'sgc' is not defined"
     ]
    },
    {
     "data": {
      "text/plain": [
       "<Figure size 1080x432 with 0 Axes>"
      ]
     },
     "metadata": {},
     "output_type": "display_data"
    }
   ],
   "source": [
    "plt.figure(figsize=(15, 6))\n",
    "plot_important_features(sgc.coef_.ravel(), np.array(tdif.get_feature_names()), top_n=20, rotation=40)\n",
    "ax = plt.gca()\n",
    "plt.show()"
   ]
  },
  {
   "cell_type": "code",
   "execution_count": 65,
   "metadata": {},
   "outputs": [
    {
     "ename": "ModuleNotFoundError",
     "evalue": "No module named 'hebrew_tokenizer'",
     "output_type": "error",
     "traceback": [
      "\u001b[0;31m---------------------------------------------------------------------------\u001b[0m",
      "\u001b[0;31mModuleNotFoundError\u001b[0m                       Traceback (most recent call last)",
      "\u001b[0;32m<ipython-input-65-93096522ef55>\u001b[0m in \u001b[0;36m<module>\u001b[0;34m\u001b[0m\n\u001b[1;32m      1\u001b[0m \u001b[0;31m# pip install hebrew_tokenizer\u001b[0m\u001b[0;34m\u001b[0m\u001b[0;34m\u001b[0m\u001b[0;34m\u001b[0m\u001b[0m\n\u001b[0;32m----> 2\u001b[0;31m \u001b[0;32mimport\u001b[0m \u001b[0mhebrew_tokenizer\u001b[0m \u001b[0;32mas\u001b[0m \u001b[0mht\u001b[0m\u001b[0;34m\u001b[0m\u001b[0;34m\u001b[0m\u001b[0m\n\u001b[0m\u001b[1;32m      3\u001b[0m \u001b[0mhebrew_text\u001b[0m \u001b[0;34m=\u001b[0m \u001b[0mtext_train\u001b[0m\u001b[0;34m\u001b[0m\u001b[0;34m\u001b[0m\u001b[0m\n\u001b[1;32m      4\u001b[0m \u001b[0mheb_vec\u001b[0m\u001b[0;34m=\u001b[0m\u001b[0mCountVectorizer\u001b[0m\u001b[0;34m(\u001b[0m\u001b[0;34m)\u001b[0m\u001b[0;34m.\u001b[0m\u001b[0mfit\u001b[0m\u001b[0;34m(\u001b[0m\u001b[0mhebrew_text\u001b[0m\u001b[0;34m)\u001b[0m\u001b[0;34m\u001b[0m\u001b[0;34m\u001b[0m\u001b[0m\n\u001b[1;32m      5\u001b[0m \u001b[0mheb_vec\u001b[0m\u001b[0;34m.\u001b[0m\u001b[0mget_feature_names\u001b[0m\u001b[0;34m(\u001b[0m\u001b[0;34m)\u001b[0m\u001b[0;34m\u001b[0m\u001b[0;34m\u001b[0m\u001b[0m\n",
      "\u001b[0;31mModuleNotFoundError\u001b[0m: No module named 'hebrew_tokenizer'"
     ]
    }
   ],
   "source": [
    "# pip install hebrew_tokenizer\n",
    "import hebrew_tokenizer as ht\n",
    "hebrew_text = text_train\n",
    "heb_vec=CountVectorizer().fit(hebrew_text)\n",
    "heb_vec.get_feature_names() \n",
    "sample_features(feature_names)"
   ]
  },
  {
   "cell_type": "code",
   "execution_count": 66,
   "metadata": {},
   "outputs": [
    {
     "ename": "NameError",
     "evalue": "name 'hebrew_text' is not defined",
     "output_type": "error",
     "traceback": [
      "\u001b[0;31m---------------------------------------------------------------------------\u001b[0m",
      "\u001b[0;31mNameError\u001b[0m                                 Traceback (most recent call last)",
      "\u001b[0;32m<ipython-input-66-4e942c47ec79>\u001b[0m in \u001b[0;36m<module>\u001b[0;34m\u001b[0m\n\u001b[1;32m      1\u001b[0m \u001b[0;31m# tokens = ht.tokenize(hebrew_text[0])  # tokenize returns a generator!\u001b[0m\u001b[0;34m\u001b[0m\u001b[0;34m\u001b[0m\u001b[0;34m\u001b[0m\u001b[0m\n\u001b[1;32m      2\u001b[0m \u001b[0mtime_column\u001b[0m \u001b[0;34m=\u001b[0m \u001b[0;34m[\u001b[0m\u001b[0;34m]\u001b[0m\u001b[0;34m\u001b[0m\u001b[0;34m\u001b[0m\u001b[0m\n\u001b[0;32m----> 3\u001b[0;31m \u001b[0;32mfor\u001b[0m \u001b[0mtext\u001b[0m \u001b[0;32min\u001b[0m \u001b[0mhebrew_text\u001b[0m\u001b[0;34m:\u001b[0m\u001b[0;34m\u001b[0m\u001b[0;34m\u001b[0m\u001b[0m\n\u001b[0m\u001b[1;32m      4\u001b[0m     \u001b[0mtext_grp\u001b[0m \u001b[0;34m=\u001b[0m \u001b[0;34m[\u001b[0m\u001b[0;34m]\u001b[0m\u001b[0;34m\u001b[0m\u001b[0;34m\u001b[0m\u001b[0m\n\u001b[1;32m      5\u001b[0m     \u001b[0mtokens\u001b[0m \u001b[0;34m=\u001b[0m \u001b[0mht\u001b[0m\u001b[0;34m.\u001b[0m\u001b[0mtokenize\u001b[0m\u001b[0;34m(\u001b[0m\u001b[0mtext\u001b[0m\u001b[0;34m)\u001b[0m  \u001b[0;31m# tokenize returns a generator!\u001b[0m\u001b[0;34m\u001b[0m\u001b[0;34m\u001b[0m\u001b[0m\n",
      "\u001b[0;31mNameError\u001b[0m: name 'hebrew_text' is not defined"
     ]
    }
   ],
   "source": [
    "# tokens = ht.tokenize(hebrew_text[0])  # tokenize returns a generator!\n",
    "time_column = []\n",
    "for text in hebrew_text:\n",
    "    text_grp = []\n",
    "    tokens = ht.tokenize(text)  # tokenize returns a generator!\n",
    "    for grp, token, token_num, (start_index, end_index) in tokens:\n",
    "    #     print('{}, {}'.format(grp, token))\n",
    "        text_grp.append(grp)\n",
    "    cnt_time = text_grp.count('HOUR') + text_grp.count('DATE') + text_grp.count('DATE_1') + text_grp.count('DATE_2')\n",
    "    time_column.append(cnt_time)\n",
    "df_steps['5_time_count'] = df_steps['4_clean_nar']\n",
    "df_steps['5_time_count']['cnt_time']=time_column\n",
    "display(df_steps['5_time_count'].sort_values(by='cnt_time').tail(10))  \n",
    "df_steps['5_time_count']['cnt_time'].value_counts()"
   ]
  },
  {
   "cell_type": "code",
   "execution_count": 67,
   "metadata": {},
   "outputs": [
    {
     "ename": "KeyError",
     "evalue": "'5_time_count'",
     "output_type": "error",
     "traceback": [
      "\u001b[0;31m---------------------------------------------------------------------------\u001b[0m",
      "\u001b[0;31mKeyError\u001b[0m                                  Traceback (most recent call last)",
      "\u001b[0;32m<ipython-input-67-b290ffc8687e>\u001b[0m in \u001b[0;36m<module>\u001b[0;34m\u001b[0m\n\u001b[0;32m----> 1\u001b[0;31m \u001b[0mX\u001b[0m\u001b[0;34m,\u001b[0m\u001b[0my\u001b[0m\u001b[0;34m=\u001b[0m\u001b[0mget_label_and_drop\u001b[0m\u001b[0;34m(\u001b[0m\u001b[0mdf_steps\u001b[0m\u001b[0;34m[\u001b[0m\u001b[0;34m'5_time_count'\u001b[0m\u001b[0;34m]\u001b[0m\u001b[0;34m)\u001b[0m\u001b[0;34m\u001b[0m\u001b[0;34m\u001b[0m\u001b[0m\n\u001b[0m",
      "\u001b[0;31mKeyError\u001b[0m: '5_time_count'"
     ]
    }
   ],
   "source": [
    "X,y=get_label_and_drop(df_steps['5_time_count'])"
   ]
  },
  {
   "cell_type": "code",
   "execution_count": 68,
   "metadata": {},
   "outputs": [
    {
     "ename": "NameError",
     "evalue": "name 'X' is not defined",
     "output_type": "error",
     "traceback": [
      "\u001b[0;31m---------------------------------------------------------------------------\u001b[0m",
      "\u001b[0;31mNameError\u001b[0m                                 Traceback (most recent call last)",
      "\u001b[0;32m<ipython-input-68-b5fec669aca1>\u001b[0m in \u001b[0;36m<module>\u001b[0;34m\u001b[0m\n\u001b[0;32m----> 1\u001b[0;31m \u001b[0mX\u001b[0m\u001b[0;34m\u001b[0m\u001b[0;34m\u001b[0m\u001b[0m\n\u001b[0m",
      "\u001b[0;31mNameError\u001b[0m: name 'X' is not defined"
     ]
    }
   ],
   "source": [
    "X"
   ]
  },
  {
   "cell_type": "code",
   "execution_count": 69,
   "metadata": {},
   "outputs": [
    {
     "ename": "NameError",
     "evalue": "name 'X' is not defined",
     "output_type": "error",
     "traceback": [
      "\u001b[0;31m---------------------------------------------------------------------------\u001b[0m",
      "\u001b[0;31mNameError\u001b[0m                                 Traceback (most recent call last)",
      "\u001b[0;32m<ipython-input-69-712106177c2a>\u001b[0m in \u001b[0;36m<module>\u001b[0;34m\u001b[0m\n\u001b[0;32m----> 1\u001b[0;31m \u001b[0mX_train\u001b[0m\u001b[0;34m,\u001b[0m \u001b[0mX_test\u001b[0m\u001b[0;34m,\u001b[0m \u001b[0my_train\u001b[0m\u001b[0;34m,\u001b[0m \u001b[0my_test\u001b[0m \u001b[0;34m=\u001b[0m \u001b[0mtrain_test_split\u001b[0m\u001b[0;34m(\u001b[0m\u001b[0mX\u001b[0m\u001b[0;34m,\u001b[0m \u001b[0my\u001b[0m\u001b[0;34m,\u001b[0m\u001b[0mrandom_state\u001b[0m\u001b[0;34m=\u001b[0m\u001b[0;36m101\u001b[0m\u001b[0;34m,\u001b[0m\u001b[0mstratify\u001b[0m\u001b[0;34m=\u001b[0m\u001b[0my\u001b[0m\u001b[0;34m)\u001b[0m\u001b[0;34m\u001b[0m\u001b[0;34m\u001b[0m\u001b[0m\n\u001b[0m",
      "\u001b[0;31mNameError\u001b[0m: name 'X' is not defined"
     ]
    }
   ],
   "source": [
    "X_train, X_test, y_train, y_test = train_test_split(X, y,random_state=101,stratify=y)"
   ]
  },
  {
   "cell_type": "code",
   "execution_count": 70,
   "metadata": {},
   "outputs": [],
   "source": [
    "def get_num_text_pipeline(df,regr_num,regr_text):\n",
    "    numeric_cols = X_train.columns[X_train.columns.dtype != object].tolist()\n",
    "    \n",
    "    transformer_text = FunctionTransformer(lambda x: x['narrative'], validate=False)\n",
    "    transfomer_numeric = FunctionTransformer(lambda x: x[numeric_cols], validate=False)\n",
    "\n",
    "    pipeline = Pipeline([\n",
    "        ('features', FeatureUnion([\n",
    "                ('numeric_features', Pipeline([\n",
    "                    ('selector', transfomer_numeric)\n",
    "                ])),\n",
    "                 ('text_features', Pipeline([\n",
    "                    ('selector', transformer_text),\n",
    "                    (regr_text.__class__.__name__, regr_text)\n",
    "                ]))\n",
    "             ])),\n",
    "        ('estimator', regr_num)\n",
    "    ])\n",
    "    return pipeline"
   ]
  },
  {
   "cell_type": "code",
   "execution_count": 71,
   "metadata": {},
   "outputs": [
    {
     "ename": "NameError",
     "evalue": "name 'stop_words' is not defined",
     "output_type": "error",
     "traceback": [
      "\u001b[0;31m---------------------------------------------------------------------------\u001b[0m",
      "\u001b[0;31mNameError\u001b[0m                                 Traceback (most recent call last)",
      "\u001b[0;32m<ipython-input-71-745717276d7a>\u001b[0m in \u001b[0;36m<module>\u001b[0;34m\u001b[0m\n\u001b[0;32m----> 1\u001b[0;31m \u001b[0mregr_text\u001b[0m \u001b[0;34m=\u001b[0m \u001b[0mTfidfVectorizer\u001b[0m\u001b[0;34m(\u001b[0m\u001b[0mmin_df\u001b[0m\u001b[0;34m=\u001b[0m\u001b[0;36m4\u001b[0m\u001b[0;34m,\u001b[0m\u001b[0mstop_words\u001b[0m\u001b[0;34m=\u001b[0m\u001b[0mstop_words\u001b[0m\u001b[0;34m)\u001b[0m\u001b[0;34m\u001b[0m\u001b[0;34m\u001b[0m\u001b[0m\n\u001b[0m\u001b[1;32m      2\u001b[0m \u001b[0;34m\u001b[0m\u001b[0m\n\u001b[1;32m      3\u001b[0m \u001b[0;32mfor\u001b[0m \u001b[0mregr\u001b[0m \u001b[0;32min\u001b[0m \u001b[0mregressors\u001b[0m\u001b[0;34m:\u001b[0m\u001b[0;34m\u001b[0m\u001b[0;34m\u001b[0m\u001b[0m\n\u001b[1;32m      4\u001b[0m     \u001b[0mpipe\u001b[0m \u001b[0;34m=\u001b[0m \u001b[0mget_num_text_pipeline\u001b[0m\u001b[0;34m(\u001b[0m\u001b[0mX_train\u001b[0m\u001b[0;34m,\u001b[0m\u001b[0mregr\u001b[0m\u001b[0;34m,\u001b[0m\u001b[0mregr_text\u001b[0m\u001b[0;34m)\u001b[0m\u001b[0;34m\u001b[0m\u001b[0;34m\u001b[0m\u001b[0m\n\u001b[1;32m      5\u001b[0m     \u001b[0mget_cross_val_score\u001b[0m\u001b[0;34m(\u001b[0m\u001b[0mscores_df\u001b[0m\u001b[0;34m,\u001b[0m\u001b[0mpipe\u001b[0m\u001b[0;34m,\u001b[0m \u001b[0mX_train\u001b[0m\u001b[0;34m,\u001b[0m \u001b[0my_train\u001b[0m\u001b[0;34m,\u001b[0m\u001b[0mregr_text\u001b[0m\u001b[0;34m.\u001b[0m\u001b[0m__class__\u001b[0m\u001b[0;34m.\u001b[0m\u001b[0m__name__\u001b[0m\u001b[0;34m+\u001b[0m\u001b[0;34m\"_combined\"\u001b[0m\u001b[0;34m)\u001b[0m\u001b[0;34m\u001b[0m\u001b[0;34m\u001b[0m\u001b[0m\n",
      "\u001b[0;31mNameError\u001b[0m: name 'stop_words' is not defined"
     ]
    }
   ],
   "source": [
    "regr_text = TfidfVectorizer(min_df=4,stop_words=stop_words)\n",
    "\n",
    "for regr in regressors:\n",
    "    pipe = get_num_text_pipeline(X_train,regr,regr_text)\n",
    "    get_cross_val_score(scores_df,pipe, X_train, y_train,regr_text.__class__.__name__+\"_combined\")"
   ]
  },
  {
   "cell_type": "code",
   "execution_count": 72,
   "metadata": {},
   "outputs": [
    {
     "ename": "KeyError",
     "evalue": "'f1'",
     "output_type": "error",
     "traceback": [
      "\u001b[0;31m---------------------------------------------------------------------------\u001b[0m",
      "\u001b[0;31mKeyError\u001b[0m                                  Traceback (most recent call last)",
      "\u001b[0;32m<ipython-input-72-03d6682ea820>\u001b[0m in \u001b[0;36m<module>\u001b[0;34m\u001b[0m\n\u001b[0;32m----> 1\u001b[0;31m \u001b[0mdisplay\u001b[0m\u001b[0;34m(\u001b[0m\u001b[0mscores_df\u001b[0m\u001b[0;34m.\u001b[0m\u001b[0msort_values\u001b[0m\u001b[0;34m(\u001b[0m\u001b[0mby\u001b[0m\u001b[0;34m=\u001b[0m\u001b[0;34m'f1'\u001b[0m\u001b[0;34m)\u001b[0m\u001b[0;34m.\u001b[0m\u001b[0mtail\u001b[0m\u001b[0;34m(\u001b[0m\u001b[0;36m5\u001b[0m\u001b[0;34m)\u001b[0m\u001b[0;34m)\u001b[0m\u001b[0;34m\u001b[0m\u001b[0;34m\u001b[0m\u001b[0m\n\u001b[0m",
      "\u001b[0;32m~/anaconda3/lib/python3.8/site-packages/pandas/core/frame.py\u001b[0m in \u001b[0;36msort_values\u001b[0;34m(self, by, axis, ascending, inplace, kind, na_position, ignore_index, key)\u001b[0m\n\u001b[1;32m   5453\u001b[0m \u001b[0;34m\u001b[0m\u001b[0m\n\u001b[1;32m   5454\u001b[0m             \u001b[0mby\u001b[0m \u001b[0;34m=\u001b[0m \u001b[0mby\u001b[0m\u001b[0;34m[\u001b[0m\u001b[0;36m0\u001b[0m\u001b[0;34m]\u001b[0m\u001b[0;34m\u001b[0m\u001b[0;34m\u001b[0m\u001b[0m\n\u001b[0;32m-> 5455\u001b[0;31m             \u001b[0mk\u001b[0m \u001b[0;34m=\u001b[0m \u001b[0mself\u001b[0m\u001b[0;34m.\u001b[0m\u001b[0m_get_label_or_level_values\u001b[0m\u001b[0;34m(\u001b[0m\u001b[0mby\u001b[0m\u001b[0;34m,\u001b[0m \u001b[0maxis\u001b[0m\u001b[0;34m=\u001b[0m\u001b[0maxis\u001b[0m\u001b[0;34m)\u001b[0m\u001b[0;34m\u001b[0m\u001b[0;34m\u001b[0m\u001b[0m\n\u001b[0m\u001b[1;32m   5456\u001b[0m \u001b[0;34m\u001b[0m\u001b[0m\n\u001b[1;32m   5457\u001b[0m             \u001b[0;31m# need to rewrap column in Series to apply key function\u001b[0m\u001b[0;34m\u001b[0m\u001b[0;34m\u001b[0m\u001b[0;34m\u001b[0m\u001b[0m\n",
      "\u001b[0;32m~/anaconda3/lib/python3.8/site-packages/pandas/core/generic.py\u001b[0m in \u001b[0;36m_get_label_or_level_values\u001b[0;34m(self, key, axis)\u001b[0m\n\u001b[1;32m   1682\u001b[0m             \u001b[0mvalues\u001b[0m \u001b[0;34m=\u001b[0m \u001b[0mself\u001b[0m\u001b[0;34m.\u001b[0m\u001b[0maxes\u001b[0m\u001b[0;34m[\u001b[0m\u001b[0maxis\u001b[0m\u001b[0;34m]\u001b[0m\u001b[0;34m.\u001b[0m\u001b[0mget_level_values\u001b[0m\u001b[0;34m(\u001b[0m\u001b[0mkey\u001b[0m\u001b[0;34m)\u001b[0m\u001b[0;34m.\u001b[0m\u001b[0m_values\u001b[0m\u001b[0;34m\u001b[0m\u001b[0;34m\u001b[0m\u001b[0m\n\u001b[1;32m   1683\u001b[0m         \u001b[0;32melse\u001b[0m\u001b[0;34m:\u001b[0m\u001b[0;34m\u001b[0m\u001b[0;34m\u001b[0m\u001b[0m\n\u001b[0;32m-> 1684\u001b[0;31m             \u001b[0;32mraise\u001b[0m \u001b[0mKeyError\u001b[0m\u001b[0;34m(\u001b[0m\u001b[0mkey\u001b[0m\u001b[0;34m)\u001b[0m\u001b[0;34m\u001b[0m\u001b[0;34m\u001b[0m\u001b[0m\n\u001b[0m\u001b[1;32m   1685\u001b[0m \u001b[0;34m\u001b[0m\u001b[0m\n\u001b[1;32m   1686\u001b[0m         \u001b[0;31m# Check for duplicates\u001b[0m\u001b[0;34m\u001b[0m\u001b[0;34m\u001b[0m\u001b[0;34m\u001b[0m\u001b[0m\n",
      "\u001b[0;31mKeyError\u001b[0m: 'f1'"
     ]
    }
   ],
   "source": [
    "display(scores_df.sort_values(by='f1').tail(5))"
   ]
  },
  {
   "cell_type": "markdown",
   "metadata": {},
   "source": [
    "meantime combined featues haven't improved the results so far..."
   ]
  },
  {
   "cell_type": "markdown",
   "metadata": {},
   "source": [
    "## spaCy"
   ]
  },
  {
   "cell_type": "code",
   "execution_count": 51,
   "metadata": {},
   "outputs": [],
   "source": [
    "import spacy # is it relevant for hebrew? TBD check what we saw on a class on hebrew"
   ]
  },
  {
   "cell_type": "code",
   "execution_count": 52,
   "metadata": {},
   "outputs": [],
   "source": [
    "nlp = spacy.load(\"en_core_web_lg\", disable=[\"tagger\", \"parser\", \"ner\",\"lemmatizer\"])"
   ]
  },
  {
   "cell_type": "markdown",
   "metadata": {},
   "source": [
    "## Hebrew specific"
   ]
  },
  {
   "cell_type": "code",
   "execution_count": 61,
   "metadata": {},
   "outputs": [
    {
     "data": {
      "text/plain": [
       "<generator object Tokenizer.tokenize at 0x2b62fde24660>"
      ]
     },
     "execution_count": 61,
     "metadata": {},
     "output_type": "execute_result"
    }
   ],
   "source": [
    "tokens"
   ]
  },
  {
   "cell_type": "markdown",
   "metadata": {},
   "source": [
    "## Trying BERT for hebrew: heBERT"
   ]
  },
  {
   "cell_type": "code",
   "execution_count": null,
   "metadata": {},
   "outputs": [],
   "source": []
  },
  {
   "cell_type": "code",
   "execution_count": null,
   "metadata": {},
   "outputs": [],
   "source": []
  },
  {
   "cell_type": "code",
   "execution_count": null,
   "metadata": {},
   "outputs": [],
   "source": []
  },
  {
   "cell_type": "code",
   "execution_count": null,
   "metadata": {},
   "outputs": [],
   "source": []
  },
  {
   "cell_type": "code",
   "execution_count": null,
   "metadata": {},
   "outputs": [],
   "source": []
  },
  {
   "cell_type": "code",
   "execution_count": null,
   "metadata": {},
   "outputs": [],
   "source": []
  },
  {
   "cell_type": "code",
   "execution_count": 68,
   "metadata": {},
   "outputs": [],
   "source": [
    "from transformers import pipeline\n",
    "import torch\n",
    "import transformers\n",
    "transformers.logging.set_verbosity_info()"
   ]
  },
  {
   "cell_type": "code",
   "execution_count": 69,
   "metadata": {},
   "outputs": [
    {
     "name": "stderr",
     "output_type": "stream",
     "text": [
      "Could not locate the tokenizer configuration file, will try to use the model config instead.\n",
      "loading configuration file https://huggingface.co/avichr/heBERT/resolve/main/config.json from cache at /home/barak/.cache/huggingface/transformers/cb4b16a37cec0b40a3c45abc940ae898d7c64b5c398b0e133b2f95ef2e5249ec.a2a439172355c6bd857b49a6f69beb372666fc0b713450e02daf2279fa330541\n",
      "Model config BertConfig {\n",
      "  \"architectures\": [\n",
      "    \"BertForMaskedLM\"\n",
      "  ],\n",
      "  \"attention_probs_dropout_prob\": 0.1,\n",
      "  \"gradient_checkpointing\": false,\n",
      "  \"hidden_act\": \"gelu\",\n",
      "  \"hidden_dropout_prob\": 0.1,\n",
      "  \"hidden_size\": 768,\n",
      "  \"initializer_range\": 0.02,\n",
      "  \"intermediate_size\": 3072,\n",
      "  \"layer_norm_eps\": 1e-12,\n",
      "  \"max_position_embeddings\": 512,\n",
      "  \"model_type\": \"bert\",\n",
      "  \"num_attention_heads\": 12,\n",
      "  \"num_hidden_layers\": 12,\n",
      "  \"pad_token_id\": 0,\n",
      "  \"position_embedding_type\": \"absolute\",\n",
      "  \"total_flos\": 6997313242916978688,\n",
      "  \"transformers_version\": \"4.8.1\",\n",
      "  \"type_vocab_size\": 2,\n",
      "  \"use_cache\": true,\n",
      "  \"vocab_size\": 30522\n",
      "}\n",
      "\n",
      "loading file https://huggingface.co/avichr/heBERT/resolve/main/vocab.txt from cache at /home/barak/.cache/huggingface/transformers/cb7266e534e7c64bf260c1a335e48a20b7457975ad22df9bbd809173c49ed2fb.f0efb6177184e111c4d638a82668d73655b8712cd79a39f3cb0eba6e902c50c3\n",
      "loading file https://huggingface.co/avichr/heBERT/resolve/main/tokenizer.json from cache at None\n",
      "loading file https://huggingface.co/avichr/heBERT/resolve/main/added_tokens.json from cache at None\n",
      "loading file https://huggingface.co/avichr/heBERT/resolve/main/special_tokens_map.json from cache at None\n",
      "loading file https://huggingface.co/avichr/heBERT/resolve/main/tokenizer_config.json from cache at None\n",
      "loading configuration file https://huggingface.co/avichr/heBERT/resolve/main/config.json from cache at /home/barak/.cache/huggingface/transformers/cb4b16a37cec0b40a3c45abc940ae898d7c64b5c398b0e133b2f95ef2e5249ec.a2a439172355c6bd857b49a6f69beb372666fc0b713450e02daf2279fa330541\n",
      "Model config BertConfig {\n",
      "  \"architectures\": [\n",
      "    \"BertForMaskedLM\"\n",
      "  ],\n",
      "  \"attention_probs_dropout_prob\": 0.1,\n",
      "  \"gradient_checkpointing\": false,\n",
      "  \"hidden_act\": \"gelu\",\n",
      "  \"hidden_dropout_prob\": 0.1,\n",
      "  \"hidden_size\": 768,\n",
      "  \"initializer_range\": 0.02,\n",
      "  \"intermediate_size\": 3072,\n",
      "  \"layer_norm_eps\": 1e-12,\n",
      "  \"max_position_embeddings\": 512,\n",
      "  \"model_type\": \"bert\",\n",
      "  \"num_attention_heads\": 12,\n",
      "  \"num_hidden_layers\": 12,\n",
      "  \"pad_token_id\": 0,\n",
      "  \"position_embedding_type\": \"absolute\",\n",
      "  \"total_flos\": 6997313242916978688,\n",
      "  \"transformers_version\": \"4.8.1\",\n",
      "  \"type_vocab_size\": 2,\n",
      "  \"use_cache\": true,\n",
      "  \"vocab_size\": 30522\n",
      "}\n",
      "\n",
      "loading weights file https://huggingface.co/avichr/heBERT/resolve/main/pytorch_model.bin from cache at /home/barak/.cache/huggingface/transformers/1e304c7c878774638ac942cff3ef6d34e0b808a9a4f098b6c7494868974b1cad.8ee5deb1a5594d429e12816faf27db1bf7ed0e3ecf83e3e540b3951272c1fd1b\n",
      "Some weights of the model checkpoint at avichr/heBERT were not used when initializing BertModel: ['cls.predictions.bias', 'cls.predictions.transform.dense.bias', 'cls.predictions.transform.LayerNorm.weight', 'cls.predictions.transform.dense.weight', 'cls.predictions.transform.LayerNorm.bias', 'cls.predictions.decoder.weight', 'cls.predictions.decoder.bias']\n",
      "- This IS expected if you are initializing BertModel from the checkpoint of a model trained on another task or with another architecture (e.g. initializing a BertForSequenceClassification model from a BertForPreTraining model).\n",
      "- This IS NOT expected if you are initializing BertModel from the checkpoint of a model that you expect to be exactly identical (initializing a BertForSequenceClassification model from a BertForSequenceClassification model).\n",
      "Some weights of BertModel were not initialized from the model checkpoint at avichr/heBERT and are newly initialized: ['bert.pooler.dense.bias', 'bert.pooler.dense.weight']\n",
      "You should probably TRAIN this model on a down-stream task to be able to use it for predictions and inference.\n",
      "loading configuration file https://huggingface.co/avichr/heBERT/resolve/main/config.json from cache at /home/barak/.cache/huggingface/transformers/cb4b16a37cec0b40a3c45abc940ae898d7c64b5c398b0e133b2f95ef2e5249ec.a2a439172355c6bd857b49a6f69beb372666fc0b713450e02daf2279fa330541\n",
      "Model config BertConfig {\n",
      "  \"architectures\": [\n",
      "    \"BertForMaskedLM\"\n",
      "  ],\n",
      "  \"attention_probs_dropout_prob\": 0.1,\n",
      "  \"gradient_checkpointing\": false,\n",
      "  \"hidden_act\": \"gelu\",\n",
      "  \"hidden_dropout_prob\": 0.1,\n",
      "  \"hidden_size\": 768,\n",
      "  \"initializer_range\": 0.02,\n",
      "  \"intermediate_size\": 3072,\n",
      "  \"layer_norm_eps\": 1e-12,\n",
      "  \"max_position_embeddings\": 512,\n",
      "  \"model_type\": \"bert\",\n",
      "  \"num_attention_heads\": 12,\n",
      "  \"num_hidden_layers\": 12,\n",
      "  \"pad_token_id\": 0,\n",
      "  \"position_embedding_type\": \"absolute\",\n",
      "  \"total_flos\": 6997313242916978688,\n",
      "  \"transformers_version\": \"4.8.1\",\n",
      "  \"type_vocab_size\": 2,\n",
      "  \"use_cache\": true,\n",
      "  \"vocab_size\": 30522\n",
      "}\n",
      "\n",
      "loading configuration file https://huggingface.co/avichr/heBERT/resolve/main/config.json from cache at /home/barak/.cache/huggingface/transformers/cb4b16a37cec0b40a3c45abc940ae898d7c64b5c398b0e133b2f95ef2e5249ec.a2a439172355c6bd857b49a6f69beb372666fc0b713450e02daf2279fa330541\n",
      "Model config BertConfig {\n",
      "  \"architectures\": [\n",
      "    \"BertForMaskedLM\"\n",
      "  ],\n",
      "  \"attention_probs_dropout_prob\": 0.1,\n",
      "  \"gradient_checkpointing\": false,\n",
      "  \"hidden_act\": \"gelu\",\n",
      "  \"hidden_dropout_prob\": 0.1,\n",
      "  \"hidden_size\": 768,\n",
      "  \"initializer_range\": 0.02,\n",
      "  \"intermediate_size\": 3072,\n",
      "  \"layer_norm_eps\": 1e-12,\n",
      "  \"max_position_embeddings\": 512,\n",
      "  \"model_type\": \"bert\",\n",
      "  \"num_attention_heads\": 12,\n",
      "  \"num_hidden_layers\": 12,\n",
      "  \"pad_token_id\": 0,\n",
      "  \"position_embedding_type\": \"absolute\",\n",
      "  \"total_flos\": 6997313242916978688,\n",
      "  \"transformers_version\": \"4.8.1\",\n",
      "  \"type_vocab_size\": 2,\n",
      "  \"use_cache\": true,\n",
      "  \"vocab_size\": 30522\n",
      "}\n",
      "\n",
      "loading weights file https://huggingface.co/avichr/heBERT/resolve/main/pytorch_model.bin from cache at /home/barak/.cache/huggingface/transformers/1e304c7c878774638ac942cff3ef6d34e0b808a9a4f098b6c7494868974b1cad.8ee5deb1a5594d429e12816faf27db1bf7ed0e3ecf83e3e540b3951272c1fd1b\n",
      "All model checkpoint weights were used when initializing BertForMaskedLM.\n",
      "\n",
      "All the weights of BertForMaskedLM were initialized from the model checkpoint at avichr/heBERT.\n",
      "If your task is similar to the task the model of the checkpoint was trained on, you can already use BertForMaskedLM for predictions without further training.\n",
      "Could not locate the tokenizer configuration file, will try to use the model config instead.\n",
      "loading configuration file https://huggingface.co/avichr/heBERT/resolve/main/config.json from cache at /home/barak/.cache/huggingface/transformers/cb4b16a37cec0b40a3c45abc940ae898d7c64b5c398b0e133b2f95ef2e5249ec.a2a439172355c6bd857b49a6f69beb372666fc0b713450e02daf2279fa330541\n",
      "Model config BertConfig {\n",
      "  \"architectures\": [\n",
      "    \"BertForMaskedLM\"\n",
      "  ],\n",
      "  \"attention_probs_dropout_prob\": 0.1,\n",
      "  \"gradient_checkpointing\": false,\n",
      "  \"hidden_act\": \"gelu\",\n",
      "  \"hidden_dropout_prob\": 0.1,\n",
      "  \"hidden_size\": 768,\n",
      "  \"initializer_range\": 0.02,\n",
      "  \"intermediate_size\": 3072,\n",
      "  \"layer_norm_eps\": 1e-12,\n",
      "  \"max_position_embeddings\": 512,\n",
      "  \"model_type\": \"bert\",\n",
      "  \"num_attention_heads\": 12,\n",
      "  \"num_hidden_layers\": 12,\n",
      "  \"pad_token_id\": 0,\n",
      "  \"position_embedding_type\": \"absolute\",\n",
      "  \"total_flos\": 6997313242916978688,\n",
      "  \"transformers_version\": \"4.8.1\",\n",
      "  \"type_vocab_size\": 2,\n",
      "  \"use_cache\": true,\n",
      "  \"vocab_size\": 30522\n",
      "}\n",
      "\n",
      "loading file https://huggingface.co/avichr/heBERT/resolve/main/vocab.txt from cache at /home/barak/.cache/huggingface/transformers/cb7266e534e7c64bf260c1a335e48a20b7457975ad22df9bbd809173c49ed2fb.f0efb6177184e111c4d638a82668d73655b8712cd79a39f3cb0eba6e902c50c3\n",
      "loading file https://huggingface.co/avichr/heBERT/resolve/main/tokenizer.json from cache at None\n",
      "loading file https://huggingface.co/avichr/heBERT/resolve/main/added_tokens.json from cache at None\n",
      "loading file https://huggingface.co/avichr/heBERT/resolve/main/special_tokens_map.json from cache at None\n",
      "loading file https://huggingface.co/avichr/heBERT/resolve/main/tokenizer_config.json from cache at None\n"
     ]
    },
    {
     "data": {
      "text/plain": [
       "[{'sequence': 'הקורונה לקחה את הילדים ולנו לא נשאר דבר.',\n",
       "  'score': 0.1404787302017212,\n",
       "  'token': 3096,\n",
       "  'token_str': 'הילדים'},\n",
       " {'sequence': 'הקורונה לקחה את הכסף ולנו לא נשאר דבר.',\n",
       "  'score': 0.045308634638786316,\n",
       "  'token': 5289,\n",
       "  'token_str': 'הכסף'},\n",
       " {'sequence': 'הקורונה לקחה את הכלב ולנו לא נשאר דבר.',\n",
       "  'score': 0.0362359881401062,\n",
       "  'token': 12737,\n",
       "  'token_str': 'הכלב'},\n",
       " {'sequence': 'הקורונה לקחה את הילדה ולנו לא נשאר דבר.',\n",
       "  'score': 0.035021502524614334,\n",
       "  'token': 12178,\n",
       "  'token_str': 'הילדה'},\n",
       " {'sequence': 'הקורונה לקחה את הרכב ולנו לא נשאר דבר.',\n",
       "  'score': 0.02997053787112236,\n",
       "  'token': 3806,\n",
       "  'token_str': 'הרכב'}]"
      ]
     },
     "execution_count": 69,
     "metadata": {},
     "output_type": "execute_result"
    }
   ],
   "source": [
    "from transformers import AutoTokenizer, AutoModel\n",
    "tokenizer = AutoTokenizer.from_pretrained(\"avichr/heBERT\")\n",
    "model = AutoModel.from_pretrained(\"avichr/heBERT\")\n",
    "\n",
    "from transformers import pipeline\n",
    "fill_mask = pipeline(\n",
    "    \"fill-mask\",\n",
    "    model=\"avichr/heBERT\",\n",
    "    tokenizer=\"avichr/heBERT\"\n",
    ")\n",
    "fill_mask(\"הקורונה לקחה את [MASK] ולנו לא נשאר דבר.\")"
   ]
  },
  {
   "cell_type": "code",
   "execution_count": 43,
   "metadata": {},
   "outputs": [],
   "source": [
    "from torch import nn"
   ]
  },
  {
   "cell_type": "code",
   "execution_count": null,
   "metadata": {},
   "outputs": [],
   "source": [
    "class BERT_Arch(nn.Module):\n",
    "\n",
    "    def __init__(self, bert):\n",
    "      \n",
    "        super(BERT_Arch, self).__init__()\n",
    "\n",
    "        self.bert = bert \n",
    "\n",
    "        # dropout layer\n",
    "\n",
    "        # relu activation function\n",
    "        self.relu =  nn.ReLU()\n",
    "\n",
    "        # dense layer 1\n",
    "        self.fc = nn.Sequential(\n",
    "                  nn.Linear(768, 512),\n",
    "                  nn.ReLU(),\n",
    "                  nn.Linear(512, 1))\n",
    "                                 \n",
    "\n",
    "\n",
    "    #define the forward pass\n",
    "    def forward(self, sent_id, mask):\n",
    "\n",
    "      #pass the inputs to the model  \n",
    "        _, cls_hs = self.bert(sent_id, attention_mask=mask)\n",
    "      \n",
    "        x = self.fc(cls_hs)\n",
    "\n",
    "        return x"
   ]
  },
  {
   "cell_type": "code",
   "execution_count": 71,
   "metadata": {},
   "outputs": [
    {
     "data": {
      "text/plain": [
       "{'input_ids': [2, 12309, 18298, 1517, 3096, 18317, 1527, 5782, 2085, 3], 'token_type_ids': [0, 0, 0, 0, 0, 0, 0, 0, 0, 0], 'attention_mask': [1, 1, 1, 1, 1, 1, 1, 1, 1, 1]}"
      ]
     },
     "execution_count": 71,
     "metadata": {},
     "output_type": "execute_result"
    }
   ],
   "source": [
    "tokenizer(\"הקורונה לקחה את הילדים ולנו לא נשאר דבר\")"
   ]
  },
  {
   "cell_type": "code",
   "execution_count": 75,
   "metadata": {},
   "outputs": [
    {
     "ename": "AttributeError",
     "evalue": "",
     "output_type": "error",
     "traceback": [
      "\u001b[0;31m---------------------------------------------------------------------------\u001b[0m",
      "\u001b[0;31mKeyError\u001b[0m                                  Traceback (most recent call last)",
      "\u001b[0;32m~/anaconda3/lib/python3.8/site-packages/transformers-4.8.1-py3.8.egg/transformers/tokenization_utils_base.py\u001b[0m in \u001b[0;36m__getattr__\u001b[0;34m(self, item)\u001b[0m\n\u001b[1;32m    241\u001b[0m         \u001b[0;32mtry\u001b[0m\u001b[0;34m:\u001b[0m\u001b[0;34m\u001b[0m\u001b[0;34m\u001b[0m\u001b[0m\n\u001b[0;32m--> 242\u001b[0;31m             \u001b[0;32mreturn\u001b[0m \u001b[0mself\u001b[0m\u001b[0;34m.\u001b[0m\u001b[0mdata\u001b[0m\u001b[0;34m[\u001b[0m\u001b[0mitem\u001b[0m\u001b[0;34m]\u001b[0m\u001b[0;34m\u001b[0m\u001b[0;34m\u001b[0m\u001b[0m\n\u001b[0m\u001b[1;32m    243\u001b[0m         \u001b[0;32mexcept\u001b[0m \u001b[0mKeyError\u001b[0m\u001b[0;34m:\u001b[0m\u001b[0;34m\u001b[0m\u001b[0;34m\u001b[0m\u001b[0m\n",
      "\u001b[0;31mKeyError\u001b[0m: 'size'",
      "\nDuring handling of the above exception, another exception occurred:\n",
      "\u001b[0;31mAttributeError\u001b[0m                            Traceback (most recent call last)",
      "\u001b[0;32m<ipython-input-75-01948553a059>\u001b[0m in \u001b[0;36m<module>\u001b[0;34m\u001b[0m\n\u001b[0;32m----> 1\u001b[0;31m \u001b[0mmodel\u001b[0m\u001b[0;34m(\u001b[0m\u001b[0mtokenizer\u001b[0m\u001b[0;34m(\u001b[0m\u001b[0;34m\"הקורונה לקחה את הילדים ולנו לא נשאר דבר\"\u001b[0m\u001b[0;34m)\u001b[0m\u001b[0;34m)\u001b[0m\u001b[0;34m\u001b[0m\u001b[0;34m\u001b[0m\u001b[0m\n\u001b[0m",
      "\u001b[0;32m~/anaconda3/lib/python3.8/site-packages/torch/nn/modules/module.py\u001b[0m in \u001b[0;36m_call_impl\u001b[0;34m(self, *input, **kwargs)\u001b[0m\n\u001b[1;32m   1049\u001b[0m         if not (self._backward_hooks or self._forward_hooks or self._forward_pre_hooks or _global_backward_hooks\n\u001b[1;32m   1050\u001b[0m                 or _global_forward_hooks or _global_forward_pre_hooks):\n\u001b[0;32m-> 1051\u001b[0;31m             \u001b[0;32mreturn\u001b[0m \u001b[0mforward_call\u001b[0m\u001b[0;34m(\u001b[0m\u001b[0;34m*\u001b[0m\u001b[0minput\u001b[0m\u001b[0;34m,\u001b[0m \u001b[0;34m**\u001b[0m\u001b[0mkwargs\u001b[0m\u001b[0;34m)\u001b[0m\u001b[0;34m\u001b[0m\u001b[0;34m\u001b[0m\u001b[0m\n\u001b[0m\u001b[1;32m   1052\u001b[0m         \u001b[0;31m# Do not call functions when jit is used\u001b[0m\u001b[0;34m\u001b[0m\u001b[0;34m\u001b[0m\u001b[0;34m\u001b[0m\u001b[0m\n\u001b[1;32m   1053\u001b[0m         \u001b[0mfull_backward_hooks\u001b[0m\u001b[0;34m,\u001b[0m \u001b[0mnon_full_backward_hooks\u001b[0m \u001b[0;34m=\u001b[0m \u001b[0;34m[\u001b[0m\u001b[0;34m]\u001b[0m\u001b[0;34m,\u001b[0m \u001b[0;34m[\u001b[0m\u001b[0;34m]\u001b[0m\u001b[0;34m\u001b[0m\u001b[0;34m\u001b[0m\u001b[0m\n",
      "\u001b[0;32m~/anaconda3/lib/python3.8/site-packages/transformers-4.8.1-py3.8.egg/transformers/models/bert/modeling_bert.py\u001b[0m in \u001b[0;36mforward\u001b[0;34m(self, input_ids, attention_mask, token_type_ids, position_ids, head_mask, inputs_embeds, encoder_hidden_states, encoder_attention_mask, past_key_values, use_cache, output_attentions, output_hidden_states, return_dict)\u001b[0m\n\u001b[1;32m    936\u001b[0m             \u001b[0;32mraise\u001b[0m \u001b[0mValueError\u001b[0m\u001b[0;34m(\u001b[0m\u001b[0;34m\"You cannot specify both input_ids and inputs_embeds at the same time\"\u001b[0m\u001b[0;34m)\u001b[0m\u001b[0;34m\u001b[0m\u001b[0;34m\u001b[0m\u001b[0m\n\u001b[1;32m    937\u001b[0m         \u001b[0;32melif\u001b[0m \u001b[0minput_ids\u001b[0m \u001b[0;32mis\u001b[0m \u001b[0;32mnot\u001b[0m \u001b[0;32mNone\u001b[0m\u001b[0;34m:\u001b[0m\u001b[0;34m\u001b[0m\u001b[0;34m\u001b[0m\u001b[0m\n\u001b[0;32m--> 938\u001b[0;31m             \u001b[0minput_shape\u001b[0m \u001b[0;34m=\u001b[0m \u001b[0minput_ids\u001b[0m\u001b[0;34m.\u001b[0m\u001b[0msize\u001b[0m\u001b[0;34m(\u001b[0m\u001b[0;34m)\u001b[0m\u001b[0;34m\u001b[0m\u001b[0;34m\u001b[0m\u001b[0m\n\u001b[0m\u001b[1;32m    939\u001b[0m             \u001b[0mbatch_size\u001b[0m\u001b[0;34m,\u001b[0m \u001b[0mseq_length\u001b[0m \u001b[0;34m=\u001b[0m \u001b[0minput_shape\u001b[0m\u001b[0;34m\u001b[0m\u001b[0;34m\u001b[0m\u001b[0m\n\u001b[1;32m    940\u001b[0m         \u001b[0;32melif\u001b[0m \u001b[0minputs_embeds\u001b[0m \u001b[0;32mis\u001b[0m \u001b[0;32mnot\u001b[0m \u001b[0;32mNone\u001b[0m\u001b[0;34m:\u001b[0m\u001b[0;34m\u001b[0m\u001b[0;34m\u001b[0m\u001b[0m\n",
      "\u001b[0;32m~/anaconda3/lib/python3.8/site-packages/transformers-4.8.1-py3.8.egg/transformers/tokenization_utils_base.py\u001b[0m in \u001b[0;36m__getattr__\u001b[0;34m(self, item)\u001b[0m\n\u001b[1;32m    242\u001b[0m             \u001b[0;32mreturn\u001b[0m \u001b[0mself\u001b[0m\u001b[0;34m.\u001b[0m\u001b[0mdata\u001b[0m\u001b[0;34m[\u001b[0m\u001b[0mitem\u001b[0m\u001b[0;34m]\u001b[0m\u001b[0;34m\u001b[0m\u001b[0;34m\u001b[0m\u001b[0m\n\u001b[1;32m    243\u001b[0m         \u001b[0;32mexcept\u001b[0m \u001b[0mKeyError\u001b[0m\u001b[0;34m:\u001b[0m\u001b[0;34m\u001b[0m\u001b[0;34m\u001b[0m\u001b[0m\n\u001b[0;32m--> 244\u001b[0;31m             \u001b[0;32mraise\u001b[0m \u001b[0mAttributeError\u001b[0m\u001b[0;34m\u001b[0m\u001b[0;34m\u001b[0m\u001b[0m\n\u001b[0m\u001b[1;32m    245\u001b[0m \u001b[0;34m\u001b[0m\u001b[0m\n\u001b[1;32m    246\u001b[0m     \u001b[0;32mdef\u001b[0m \u001b[0m__getstate__\u001b[0m\u001b[0;34m(\u001b[0m\u001b[0mself\u001b[0m\u001b[0;34m)\u001b[0m\u001b[0;34m:\u001b[0m\u001b[0;34m\u001b[0m\u001b[0;34m\u001b[0m\u001b[0m\n",
      "\u001b[0;31mAttributeError\u001b[0m: "
     ]
    }
   ],
   "source": [
    "model(tokenizer(\"הקורונה לקחה את הילדים ולנו לא נשאר דבר\"))"
   ]
  },
  {
   "cell_type": "markdown",
   "metadata": {},
   "source": [
    "## Multilingual BERT"
   ]
  },
  {
   "cell_type": "code",
   "execution_count": null,
   "metadata": {},
   "outputs": [],
   "source": [
    "from transformers import BertTokenizer, TFBertModel\n",
    "tokenizer = BertTokenizer.from_pretrained('bert-base-multilingual-cased',do_lower_case=False)\n",
    "model = TFBertModel.from_pretrained(\"bert-base-multilingual-cased\")\n",
    "text = text_train\n",
    "encoded_input = tokenizer(text, return_tensors='tf')\n",
    "output = model(encoded_input)"
   ]
  },
  {
   "cell_type": "code",
   "execution_count": null,
   "metadata": {},
   "outputs": [],
   "source": [
    "output"
   ]
  },
  {
   "cell_type": "code",
   "execution_count": null,
   "metadata": {},
   "outputs": [],
   "source": [
    "encoded_input"
   ]
  },
  {
   "cell_type": "markdown",
   "metadata": {},
   "source": [
    "## Semantic analisys"
   ]
  },
  {
   "cell_type": "code",
   "execution_count": 175,
   "metadata": {},
   "outputs": [
    {
     "data": {
      "text/plain": [
       "(408, 3932)"
      ]
     },
     "execution_count": 175,
     "metadata": {},
     "output_type": "execute_result"
    }
   ],
   "source": [
    "vec = TfidfVectorizer(min_df=4,stop_words=stop_words)\n",
    "X_train = vec.fit_transform(text_train)\n",
    "X_train.shape"
   ]
  },
  {
   "cell_type": "code",
   "execution_count": 206,
   "metadata": {},
   "outputs": [],
   "source": [
    "from sklearn.decomposition import LatentDirichletAllocation\n",
    "lda10 = LatentDirichletAllocation(n_components=20, learning_method=\"batch\")\n",
    "X_lda10 = lda10.fit_transform(X_train)"
   ]
  },
  {
   "cell_type": "code",
   "execution_count": 207,
   "metadata": {},
   "outputs": [],
   "source": [
    "def plot_important_features2(coef, feature_names, top_n=20, ax=None):\n",
    "    if ax is None:\n",
    "        ax = plt.gca()\n",
    "    inds = np.argsort(np.abs(coef))[-top_n:]\n",
    "    important_coefs = coef[inds]\n",
    "    sort_sign = np.argsort(important_coefs)\n",
    "    myrange = range(len(inds))\n",
    "    combined_inds = inds[sort_sign]\n",
    "\n",
    "    ax.bar(myrange, coef[combined_inds])\n",
    "    ax.set_xticks(myrange)\n",
    "    heb_feature_names =[bidialg.get_display(feature) for feature in feature_names[combined_inds]]\n",
    "    ax.set_xticklabels(heb_feature_names, rotation=60, ha=\"right\")"
   ]
  },
  {
   "cell_type": "code",
   "execution_count": 208,
   "metadata": {},
   "outputs": [
    {
     "data": {
      "image/png": "[encoded data removed]",
      "text/plain": [
       "<Figure size 720x720 with 12 Axes>"
      ]
     },
     "metadata": {
      "needs_background": "light"
     },
     "output_type": "display_data"
    }
   ],
   "source": [
    "feature_names = np.array(vect.get_feature_names())\n",
    "n_components = 10\n",
    "fig, axes = plt.subplots(n_components // 3 + 1, 3, figsize=(10, 10))\n",
    "for ax, coef in zip(axes.ravel(), lda10.components_):\n",
    "    plot_important_features2(coef, feature_names, top_n=15, ax=ax)\n",
    "    \n",
    "plt.tight_layout()"
   ]
  },
  {
   "cell_type": "code",
   "execution_count": 209,
   "metadata": {},
   "outputs": [],
   "source": [
    "def print_topics(topics, feature_names, components, topics_per_chunk=6,\n",
    "                 n_words=20):\n",
    "    #sorting = np.argsort(components, axis=1)[:, ::-1]\n",
    "    sorting= components\n",
    "    \n",
    "    \n",
    "    for i in range(0, len(topics), topics_per_chunk):\n",
    "        # for each chunk:\n",
    "        these_topics = topics[i: i + topics_per_chunk]\n",
    "        # maybe we have less than topics_per_chunk left\n",
    "        len_this_chunk = len(these_topics)\n",
    "        # print topic headers\n",
    "        print((\"topic {:<8}\" * len_this_chunk).format(*these_topics))\n",
    "        print((\"-------- {0:<5}\" * len_this_chunk).format(\"\"))\n",
    "        # print top n_words frequent words\n",
    "        for ii in range(n_words):\n",
    "            try:\n",
    "                print((\"{:<14}\" * len_this_chunk).format(\n",
    "                    *feature_names[sorting[these_topics, ii]]))\n",
    "            except:\n",
    "                pass\n",
    "        print(\"\\n\")\n"
   ]
  },
  {
   "cell_type": "code",
   "execution_count": 210,
   "metadata": {
    "scrolled": true
   },
   "outputs": [
    {
     "name": "stdout",
     "output_type": "stream",
     "text": [
      "topic 2       topic 5       topic 14      topic 17      topic 12      topic 4       topic 15      topic 6       \n",
      "--------      --------      --------      --------      --------      --------      --------      --------      \n",
      "אותנו         באותו         קיבלתי        אחותי         בכנרת         החתונה        הראיון        למטה          \n",
      "ימים          הגענו         החלטתי        הכול          המים          הטבעת         ראיון         לרוץ          \n",
      "החלטנו        בבוקר         ללמוד         הצעתי         אחותי         להתחתן        דודים         מיליון        \n",
      "ביחד          התחיל         הקורונה       למידה         טיולים        אירועים       בבסיס         טופס          \n",
      "בזמן          מכן           אשר           עוזר          ארוכות        לחתונה        לראיון        השער          \n",
      "מנת           מכיוון        במהלך         הבאנו         הבוס          בדקתי         המפקד         לאוטו         \n",
      "הבנתי         לכיוון        לחזור         הפסקה         מתוקים        העיניים       קורות         הנחיות        \n",
      "המשפחה        לעבוד         קורונה        למסיבה        בדיחות        שיחה          האוהל         אבי           \n",
      "לצאת          הבית          בעקבות        תפקיד         ומפרשיות      בנינו         פחד           לדלת          \n",
      "העבודה        תוך           הרגשתי        לחץ           ולצוף         שקל           האוהלים       אנשי          \n",
      "לאט           חברים         הקורס         ירקות         בכדור         אמבולנס       חיילים        חזקות         \n",
      "התחלנו        לשם           בנוסף         במשרה         ספינות        שיכורים       ההר           הכרה          \n",
      "בהתחלה        לבית          שבועיים       למשרה         שיר           פתח           וכנראה        רץ            \n",
      "התחלתי        אבא           הלימודים      ולהיות        והמשך         הסכום         רביעי         המספרים       \n",
      "הרכב          היינו         עברתי         וראינו        נעליים        בתקופת        התקדמות       בתקופת        \n",
      "אמרתי         הדרך          בתקופה        ואחותי        שיחקנו        להיפרד        בתקופת        שזכיתי        \n",
      "מהבית         נסענו         וכך           ללחץ          לשהות         מודע          קשור          ליותר         \n",
      "לעצמי         שהייתי        התחלתי        מחבר          הכנרת         שש            הזמינו        שילמתי        \n",
      "איתי          לקראת         במשך          מישהי         צחקו          רשימת         לזום          בחלק          \n",
      "הגיע          ולאחר         עובד          לעצמם         אבטלה         בודק          יכלנו         גלגל          \n",
      "\n",
      "\n",
      "topic 7       topic 9       topic 18      topic 1       topic 0       topic 8       topic 3       topic 13      \n",
      "--------      --------      --------      --------      --------      --------      --------      --------      \n",
      "הצניחה        פורים         כלים          הוריי         אמי           חיפה          בירות         הזוגיות       \n",
      "כלשהו         לפניי         ראיון         אמריקה        הסדר          תלמיד         בירה          המצנח         \n",
      "הנכדים        הכושר         הכול          המזגן         צלילה         ירוק          פיתוח         הצניחה        \n",
      "הפועל         החנות         לשטוף         משטרה         כחוויה        לטיולים       המשפט         הכושר         \n",
      "הכדור         פיקניק        לבר           אוטובוס       הארנק         טיילתי        שטח           פרט           \n",
      "הרגל          לקוחות        מסביר         במערכת        אבי           המכשיר        ויצא          במילים        \n",
      "לרוץ          משקל          טיפ           מד            הבוס          הקפה          מענה          מצאו          \n",
      "צפוף          שבעצם         הכרטיס        אורז          יכלו          שקל           וכנראה        ובן           \n",
      "הנוראית       ולקחתי        בסלון         נכונה         אחותי         לתקופת        החנות         סגורים        \n",
      "האוטובוס      וזהו          באים          מתקשרים       שהגיעו        מסכות         לחלץ          לבר           \n",
      "פנוי          מאליו         הזמינו        מקצוע         השוטר         חדרי          סכין          קילו          \n",
      "80            הבסיס         תורים         השוטרים       צורה          שמחים         ובאותו        נפתח          \n",
      "במתחם         הצלחה         קורות         בגובה         שסבתא         המצלמה        1000          חלש           \n",
      "התור          ידוע          שהמצב         אורח          אלך           נסגרו         סיכון         נרדמתי        \n",
      "שבהם          שומעים        בנפרד         כושר          נסע           החוק          בחניון        בחלק          \n",
      "שמים          אנוש          אבן           מסודרת        מגורים        זום           נופים         המשרד         \n",
      "במשחק         שתיתי         המתאים        עוברת         הורה          נקודות        להתקיים       שזכיתי        \n",
      "לשלוש         למוקד         הבר           ויתרנו        שהחלטתי       כספים         500           הכרטיס        \n",
      "תוכנה         ושאלה         בראיון        ולקח          60            בירושלים      בסמוך         קבוצה         \n",
      "בהמשך         הקבלה         לדחוף         ירדנו         השחקן         חולשה         השוטר         שקנינו        \n",
      "\n",
      "\n",
      "topic 16      topic 19      topic 11      topic 10      \n",
      "--------      --------      --------      --------      \n",
      "הנכדים        שלג           הזמין         המטלה         \n",
      "הספה          קילו          אתרים         נקודות        \n",
      "צד            קבוצה         שאכן          כתיבה         \n",
      "מתנות         ולהכין        הצניחה        לתרגל         \n",
      "האישה         פקקים         לראיון        שלישית        \n",
      "לראיון        אילת          קורות         התיישבתי      \n",
      "הלכה          הוריי         הנחיתה        קשור          \n",
      "90            הסטודנטים     אתר           מטלות         \n",
      "בסלון         מדיטציה       בתעשייה       נקודה         \n",
      "בדבר          נרגע          פיתוח         העלייה        \n",
      "אחותי         עבודת         תשלום         המרצים        \n",
      "ושמנו         לעודד         וחוסר         מחלת          \n",
      "מסכות         נכונה         בילוי         הלמידה        \n",
      "לחבק          בתואר         בצוות         במדעי         \n",
      "היכולת        השמלה         ראיון         בקניון        \n",
      "לצערנו        צלילה         חריף          לציון         \n",
      "שנגיע         חוק           ניקח          בתואר         \n",
      "שידעתי        זכינו         מצא           התור          \n",
      "באה           לצערנו        שאבוא         למידת         \n",
      "מאחותי        כשנה          עין           שיער          \n",
      "\n",
      "\n"
     ]
    }
   ],
   "source": [
    "sorting = np.argsort(lda10.components_, axis=1)[:, ::-1]\n",
    "print_topics(np.argsort(X_lda10.sum(axis=0))[::-1][:30], feature_names, sorting, topics_per_chunk=8)"
   ]
  },
  {
   "cell_type": "code",
   "execution_count": 211,
   "metadata": {},
   "outputs": [],
   "source": [
    "topic = []\n",
    "for i in range(len(text_train)):\n",
    "    topic.append(np.argmax(X_lda10[i]))\n",
    "#     print(f\"doc_{i} - topic {np.argmax(X_lda10[i])} (words:{feature_names[sorting[np.argmax(X_lda10[i])]][:5]})\")\n",
    "df_steps['6_topic']=df_steps['5_time_count']\n",
    "df_steps['6_topic']['topic']=topic"
   ]
  },
  {
   "cell_type": "code",
   "execution_count": 212,
   "metadata": {},
   "outputs": [
    {
     "data": {
      "text/plain": [
       "2     208\n",
       "5     128\n",
       "14     62\n",
       "12      3\n",
       "4       1\n",
       "7       1\n",
       "8       1\n",
       "9       1\n",
       "10      1\n",
       "16      1\n",
       "18      1\n",
       "Name: topic, dtype: int64"
      ]
     },
     "execution_count": 212,
     "metadata": {},
     "output_type": "execute_result"
    }
   ],
   "source": [
    "df_steps['6_topic']['topic'].value_counts()"
   ]
  },
  {
   "cell_type": "code",
   "execution_count": 213,
   "metadata": {},
   "outputs": [
    {
     "data": {
      "image/png": "[encoded data removed]",
      "text/plain": [
       "<Figure size 432x288 with 1 Axes>"
      ]
     },
     "metadata": {
      "needs_background": "light"
     },
     "output_type": "display_data"
    }
   ],
   "source": [
    "ax = sns.countplot(x=\"topic\", hue=\"label\", data=df_steps['6_topic'])\n"
   ]
  },
  {
   "cell_type": "code",
   "execution_count": null,
   "metadata": {},
   "outputs": [],
   "source": []
  }
 ],
 "metadata": {
  "kernelspec": {
   "display_name": "Python 3",
   "language": "python",
   "name": "python3"
  },
  "language_info": {
   "codemirror_mode": {
    "name": "ipython",
    "version": 3
   },
   "file_extension": ".py",
   "mimetype": "text/x-python",
   "name": "python",
   "nbconvert_exporter": "python",
   "pygments_lexer": "ipython3",
   "version": "3.8.5"
  },
  "toc": {
   "base_numbering": 1,
   "nav_menu": {},
   "number_sections": true,
   "sideBar": true,
   "skip_h1_title": false,
   "title_cell": "Table of Contents",
   "title_sidebar": "Contents",
   "toc_cell": false,
   "toc_position": {},
   "toc_section_display": true,
   "toc_window_display": false
  }
 },
 "nbformat": 4,
 "nbformat_minor": 4
}
