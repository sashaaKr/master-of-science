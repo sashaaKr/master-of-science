{
 "cells": [
  {
   "cell_type": "markdown",
   "metadata": {},
   "source": [
    "### Advanced Machine Learning\n",
    "\n",
    "# Home Exercise #2\n",
    "\n",
    "Assignment Due: 18/04/21 23:59\n",
    "\n",
    "Jonathan Schler"
   ]
  },
  {
   "cell_type": "code",
   "execution_count": 1,
   "metadata": {},
   "outputs": [],
   "source": [
    "student1Name=\"Alexander Kruglyak\" # student1 name here\n",
    "student1ID=\"323637736\" # student1 ID here\n",
    "\n",
    "\n",
    "student2Name=\"Sofya Zubtsovsky\" # student2 name here\n",
    "student2ID=\"337839112\" # student2 ID here\n"
   ]
  },
  {
   "cell_type": "markdown",
   "metadata": {},
   "source": [
    "The goal of this homework is to provide a realistic setting for a machine learning task. Therefore instructions will not specify the exact steps to carry out. Instead, it is part of theassignment to identify promising features, models and preprocessing methods and apply themas appropriate."
   ]
  },
  {
   "cell_type": "markdown",
   "metadata": {},
   "source": [
    "The overall goal is to predict whether a specific credit card transaction is fraudulent or not. Please use the data from this dataset provided on Kaggle here:https://www.kaggle.com/kartik2112/fraud-detection. The Kaggle page also contains a description of the dataset. You will use the train set for training the model and test set for validation."
   ]
  },
  {
   "cell_type": "markdown",
   "metadata": {},
   "source": [
    "You are free to manipulate the train dataset as you think is appropriate. You do not have to use the wholedataset, you can subsample if you want. While the modelling process is likely iterative, please lay out the  following tasks in the given order to facilitate grading."
   ]
  },
  {
   "cell_type": "code",
   "execution_count": 2,
   "metadata": {},
   "outputs": [],
   "source": [
    "import numpy as np\n",
    "import pandas as pd\n",
    "import seaborn as sns\n",
    "import matplotlib.pyplot as plt\n",
    "\n",
    "import re\n",
    "import datetime\n",
    "\n",
    "from sklearn.preprocessing import StandardScaler, OneHotEncoder, RobustScaler\n",
    "from sklearn.compose import ColumnTransformer, make_column_transformer\n",
    "from sklearn.pipeline import make_pipeline, Pipeline\n",
    "from sklearn.model_selection import KFold, StratifiedKFold, cross_val_score, GridSearchCV\n",
    "\n",
    "from matplotlib.collections import PatchCollection\n",
    "from matplotlib.patches import Polygon\n",
    "\n",
    "import seaborn as sns\n",
    "\n",
    "from sklearn.linear_model import LogisticRegression\n",
    "from sklearn.svm import SVC\n",
    "from sklearn.neighbors import KNeighborsClassifier\n",
    "from sklearn.tree import DecisionTreeClassifier\n",
    "from sklearn.ensemble import RandomForestClassifier\n",
    "from sklearn.metrics import classification_report, confusion_matrix, plot_confusion_matrix\n",
    "from imblearn.under_sampling import RandomUnderSampler\n",
    "from imblearn.pipeline import make_pipeline as make_imb_pipeline\n",
    "from imblearn.over_sampling import RandomOverSampler, SMOTE\n",
    "\n",
    "%matplotlib inline\n",
    "\n",
    "import warnings\n",
    "warnings.filterwarnings(\"ignore\")"
   ]
  },
  {
   "cell_type": "code",
   "execution_count": 3,
   "metadata": {},
   "outputs": [],
   "source": [
    "COLUMNS_TO_DROP = [\n",
    "#     \"Unnamed: 0\",\n",
    "#     \"trans_num\",\n",
    "#     \"trans_date_trans_time\", # TODO: we need to split it to bins of day\n",
    "    \n",
    "#     \"first\", \"last\", # TODO: we can think to identify nationality by name\n",
    "] \n",
    "\n",
    "def get_continuous_features(df):\n",
    "    return df.select_dtypes(exclude=['object'])\n",
    "\n",
    "def get_categorical_features(df):\n",
    "    return df.select_dtypes(include=['object'])\n",
    "\n",
    "def read_test_data():\n",
    "    return drop_columns(read_data(\"fraudTest.csv\"), COLUMNS_TO_DROP)\n",
    "\n",
    "def read_data(file_name):\n",
    "    return pd.read_csv(file_name)\n",
    "\n",
    "def drop_columns(df, columns):\n",
    "    return df.copy().drop(columns, axis=1,errors='ignore')"
   ]
  },
  {
   "cell_type": "code",
   "execution_count": 4,
   "metadata": {},
   "outputs": [],
   "source": [
    "features_description = {\n",
    "'transdatetrans_time' : 'Transaction DateTime',\n",
    "'cc_num' : 'Credit Card Number of Customer',\n",
    "'merchant' : 'Merchant Name',\n",
    "'category' : 'Category of Merchant',\n",
    "'amt' : 'Amount of Transaction',\n",
    "'first' : 'First Name of Credit Card Holder',\n",
    "'last' : 'Last Name of Credit Card Holder',\n",
    "'gender' : 'Gender of Credit Card Holder',\n",
    "'street' : 'Street Address of Credit Card Holder',\n",
    "'city' : 'City of Credit Card Holder',\n",
    "'state' : 'State of Credit Card Holder',\n",
    "'zip' : 'Zip of Credit Card Holder',\n",
    "'lat' : 'Latitude Location of Credit Card Holder',\n",
    "'long' : 'Longitude Location of Credit Card Holder',\n",
    "'city_pop' : 'Credit Card Holder City Population',\n",
    "'job' : 'Job of Credit Card Holder',\n",
    "'dob' :'Date of Birth of Credit Card Holder',\n",
    "'trans_num' : 'Transaction Number',\n",
    "'unix_time' : 'UNIX Time of transaction',\n",
    "'merch_lat' : 'Latitude Location of Merchant',\n",
    "'merch_long' : 'Longitude Location of Merchant',\n",
    "'is_fraud' : 'Fraud Flag'\n",
    "}\n",
    "\n",
    "title_font = {\n",
    "        'color':  'darkblue',\n",
    "        'weight': 'normal',\n",
    "        'size': 20,\n",
    "        }\n",
    "labels_font = {\n",
    "        'color':  'darkred',\n",
    "        'weight': 'normal',\n",
    "        'size': 16,\n",
    "        }"
   ]
  },
  {
   "cell_type": "code",
   "execution_count": 5,
   "metadata": {
    "scrolled": false
   },
   "outputs": [],
   "source": [
    "#### trans_date_trans_time to trans_date_category ####\n",
    "\n",
    "def get_hour_as_category(hour):\n",
    "        day_time_category = \"night\"\n",
    "        \n",
    "        if 6 <= hour and hour < 12: \n",
    "            day_time_category = \"morning\"\n",
    "        elif hour >=12 and hour < 18:\n",
    "            day_time_category = \"afternoon\"\n",
    "        elif hour >= 18 and hour < 22:\n",
    "            day_time_category = \"evening\"\n",
    "            \n",
    "        return day_time_category\n",
    "\n",
    "def convert_to_categorical_trans_date(df):\n",
    "    _df = df.copy()\n",
    "    trans_date_category_list = []\n",
    "    \n",
    "    for  i, d in enumerate(get_categorical_features(_df).trans_date_trans_time):\n",
    "        day_of_week = datetime.datetime.strptime(d, '%Y-%m-%d %H:%M:%S').strftime('%A');\n",
    "        hour = datetime.datetime.strptime(d, '%Y-%m-%d %H:%M:%S').hour\n",
    "        trans_date_category = \"{}_{}\".format(day_of_week, hour)\n",
    "        trans_date_category_list.append(trans_date_category)\n",
    "    \n",
    "    _df['trans_date_category'] = trans_date_category_list\n",
    "    return _df\n",
    "\n",
    "def convert_to_categorical_trans_date_and_drop(df):\n",
    "    converted_df = convert_to_categorical_trans_date(df)\n",
    "    return drop_columns(converted_df, [\"trans_date_trans_time\"])"
   ]
  },
  {
   "cell_type": "code",
   "execution_count": 6,
   "metadata": {},
   "outputs": [],
   "source": [
    "#### city_pop to city_pop_category ####\n",
    "\n",
    "def population_as_category(p):\n",
    "    category = \"2M+\"\n",
    "    \n",
    "    if p <= 100:\n",
    "        category = \"100-\"\n",
    "    elif p <= 500:\n",
    "        category = \"500-\"\n",
    "    elif p <= 1000:\n",
    "        category = \"1K-\"\n",
    "    elif p <= 2000:\n",
    "        category = \"2K-\"\n",
    "    elif p <= 3000:\n",
    "        category = \"3K-\"\n",
    "    elif p <= 5000:\n",
    "        category = \"5K-\"\n",
    "    elif p <= 10000:\n",
    "        category = \"10K-\"\n",
    "    elif p <= 30000:\n",
    "        category = \"30K-\"\n",
    "    elif p <= 50000:\n",
    "        category = \"50K-\"\n",
    "    elif p <= 100000:\n",
    "        category = \"100K-\"\n",
    "    elif p <= 200000:\n",
    "        category = \"200K-\"\n",
    "    elif p <= 500000:\n",
    "        category = \"500K-\"\n",
    "    elif p <= 1000000:\n",
    "        category = \"1M-\"\n",
    "    elif p <= 1500000:\n",
    "        category = \"1.5M-\"\n",
    "    elif p <= 2000000:\n",
    "        category = \"2M-\"\n",
    "        \n",
    "    return category\n",
    "\n",
    "def convert_to_categorical_city_pop(df):\n",
    "    _df = df.copy()\n",
    "    city_pop_category_list = []\n",
    "    \n",
    "    for p in df.city_pop:\n",
    "        category = population_as_category(p)\n",
    "        city_pop_category_list.append(category)\n",
    "        \n",
    "    _df['city_pop_category'] = city_pop_category_list\n",
    "    return _df"
   ]
  },
  {
   "cell_type": "code",
   "execution_count": 7,
   "metadata": {},
   "outputs": [],
   "source": [
    "def convert_cc_to_cc_type_and_drop(df):\n",
    "    _df = convert_cc_to_cc_type(df)\n",
    "    return drop_columns(_df, [\"cc_num\"])\n",
    "\n",
    "def convert_cc_to_cc_type(df):\n",
    "    _df = df.copy()\n",
    "    cc_category_list = []\n",
    "    \n",
    "    for cc in df.cc_num:\n",
    "        cc_category_list.append(get_cc_type(cc))\n",
    "        \n",
    "    _df['cc_type'] = cc_category_list\n",
    "    return _df\n",
    "\n",
    "def get_cc_type(cc_number):\n",
    "    cc_number = str(cc_number)\n",
    "    if is_american_express(cc_number): return 'AMEX'\n",
    "    if is_visa(cc_number): return 'VISA'\n",
    "    if is_mastercard(cc_number): return 'MasterCard'\n",
    "    if is_discover(cc_number): return 'Discover'\n",
    "    if is_jcb(cc_number): return 'JCB'\n",
    "    if is_diners_club(cc_number): return 'DinersClub'\n",
    "    if is_laser(cc_number): return 'Laser'\n",
    "    if is_maestro(cc_number): return 'Maestro'\n",
    "    if is_visa_electron(cc_number): return 'VisaElectron'\n",
    "    if is_total_rewards_visa(cc_number): return 'TotalRewardsVisa'\n",
    "    if is_diners_club_carte_blanche(cc_number): return 'DinersClubCarteBlanche'\n",
    "    if is_diners_club_carte_international(cc_number): return 'DinersClubCarteInt'\n",
    "    \n",
    "    return 'unknown'\n",
    "\n",
    "def is_american_express(cc_number):\n",
    "    \"\"\"Checks if the card is an american express. If us billing address country code, & is_amex, use vpos\n",
    "    https://en.wikipedia.org/wiki/Bank_card_number#cite_note-GenCardFeatures-3\n",
    "    :param cc_number: unicode card number\n",
    "    \"\"\"\n",
    "    return bool(re.match(r'^3[47][0-9]{13}$', cc_number))\n",
    "\n",
    "\n",
    "def is_visa(cc_number):\n",
    "    \"\"\"Checks if the card is a visa, begins with 4 and 12 or 15 additional digits.\n",
    "    :param cc_number: unicode card number\n",
    "    \"\"\"\n",
    "\n",
    "    # Standard Visa is 13 or 16, debit can be 19\n",
    "    if bool(re.match(r'^4', cc_number)) and len(cc_number) in [13, 16, 19]:\n",
    "        return True\n",
    "\n",
    "    return False\n",
    "\n",
    "\n",
    "def is_mastercard(cc_number):\n",
    "    \"\"\"Checks if the card is a mastercard. Begins with 51-55 or 2221-2720 and 16 in length.\n",
    "    :param cc_number: unicode card number\n",
    "    \"\"\"\n",
    "    if len(cc_number) == 16 and cc_number.isdigit():  # Check digit, before cast to int\n",
    "        return bool(re.match(r'^5[1-5]', cc_number)) or int(cc_number[:4]) in range(2221, 2721)\n",
    "    return False\n",
    "\n",
    "\n",
    "def is_discover(cc_number):\n",
    "    \"\"\"Checks if the card is discover, re would be too hard to maintain. Not a supported card.\n",
    "    :param cc_number: unicode card number\n",
    "    \"\"\"\n",
    "    if len(cc_number) == 16:\n",
    "        try:\n",
    "            # return bool(cc_number[:4] == '6011' or cc_number[:2] == '65' or cc_number[:6] in range(622126, 622926))\n",
    "            return bool(cc_number[:4] == '6011' or cc_number[:2] == '65' or 622126 <= int(cc_number[:6]) <= 622925)\n",
    "        except ValueError:\n",
    "            return False\n",
    "    return False\n",
    "\n",
    "\n",
    "def is_jcb(cc_number):\n",
    "    \"\"\"Checks if the card is a jcb. Not a supported card.\n",
    "    :param cc_number: unicode card number\n",
    "    \"\"\"\n",
    "    # return bool(re.match(r'^(?:2131|1800|35\\d{3})\\d{11}$', cc_number))  # wikipedia\n",
    "    return bool(re.match(r'^35(2[89]|[3-8][0-9])[0-9]{12}$', cc_number))  # PawelDecowski\n",
    "\n",
    "\n",
    "def is_diners_club(cc_number):\n",
    "    \"\"\"Checks if the card is a diners club. Not a supported card.\n",
    "    :param cc_number: unicode card number\n",
    "    \"\"\"\n",
    "    return bool(re.match(r'^3(?:0[0-6]|[68][0-9])[0-9]{11}$', cc_number))  # 0-5 = carte blance, 6 = international\n",
    "\n",
    "\n",
    "def is_laser(cc_number):\n",
    "    \"\"\"Checks if the card is laser. Not a supported card.\n",
    "    :param cc_number: unicode card number\n",
    "    \"\"\"\n",
    "    return bool(re.match(r'^(6304|670[69]|6771)', cc_number))\n",
    "\n",
    "\n",
    "def is_maestro(cc_number):\n",
    "    \"\"\"Checks if the card is maestro. Not a supported card.\n",
    "    :param cc_number: unicode card number\n",
    "    \"\"\"\n",
    "    possible_lengths = [12, 13, 14, 15, 16, 17, 18, 19]\n",
    "    return bool(re.match(r'^(50|5[6-9]|6[0-9])', cc_number)) and len(cc_number) in possible_lengths\n",
    "\n",
    "\n",
    "# Child cards\n",
    "\n",
    "def is_visa_electron(cc_number):\n",
    "    \"\"\"Child of visa. Checks if the card is a visa electron. Not a supported card.\n",
    "    :param cc_number: unicode card number\n",
    "    \"\"\"\n",
    "    return bool(re.match(r'^(4026|417500|4508|4844|491(3|7))', cc_number)) and len(cc_number) == 16\n",
    "\n",
    "\n",
    "def is_total_rewards_visa(cc_number):\n",
    "    \"\"\"Child of visa. Checks if the card is a Total Rewards Visa. Not a supported card.\n",
    "    :param cc_number: unicode card number\n",
    "    \"\"\"\n",
    "    return bool(re.match(r'^41277777[0-9]{8}$', cc_number))\n",
    "\n",
    "\n",
    "def is_diners_club_carte_blanche(cc_number):\n",
    "    \"\"\"Child card of diners. Checks if the card is a diners club carte blance. Not a supported card.\n",
    "    :param cc_number: unicode card number\n",
    "    \"\"\"\n",
    "    return bool(re.match(r'^30[0-5][0-9]{11}$', cc_number))  # github PawelDecowski, jquery-creditcardvalidator\n",
    "\n",
    "\n",
    "def is_diners_club_carte_international(cc_number):\n",
    "    \"\"\"Child card of diners. Checks if the card is a diners club international. Not a supported card.\n",
    "    :param cc_number: unicode card number\n",
    "    \"\"\"\n",
    "    return bool(re.match(r'^36[0-9]{12}$', cc_number))  # jquery-creditcardvalidator"
   ]
  },
  {
   "cell_type": "code",
   "execution_count": 8,
   "metadata": {},
   "outputs": [],
   "source": [
    "def get_partial_data(df, percent_of_data):\n",
    "    return df.sample(frac=percent_of_data)"
   ]
  },
  {
   "cell_type": "code",
   "execution_count": 9,
   "metadata": {},
   "outputs": [],
   "source": [
    "def convert_dob_to_age(df): # calculate age in days at the moment of transaction\n",
    "    _df = df.copy()\n",
    "    age_in_days = []\n",
    "    \n",
    "    for index, row in _df.iterrows():\n",
    "        birth_date  = datetime.datetime.strptime(row['dob'], '%Y-%m-%d')\n",
    "        trans_date  = datetime.datetime.strptime(row['trans_date_trans_time'],'%Y-%m-%d %H:%M:%S')\n",
    "        age = trans_date - birth_date\n",
    "        age_in_days.append(age.days)\n",
    "    \n",
    "    _df['age_in_days'] = age_in_days\n",
    "    return _df\n",
    "\n",
    "def convert_dob_to_age_and_drop(df):\n",
    "    converted_df = convert_dob_to_age(df)\n",
    "    return drop_columns(converted_df, [\"dob\"])"
   ]
  },
  {
   "cell_type": "code",
   "execution_count": 10,
   "metadata": {},
   "outputs": [],
   "source": [
    "def convert_unix_to_hour(df):\n",
    "    _df = df.copy()\n",
    "    _df['trans_hour'] = _df['unix_time']  % 86400 #(86400s per 24h)\n",
    "    _df['trans_hour'] /= (86400/24)\n",
    "    return _df"
   ]
  },
  {
   "cell_type": "code",
   "execution_count": 11,
   "metadata": {},
   "outputs": [],
   "source": [
    "def convert_unix_to_day(df):\n",
    "    _df = df.copy()\n",
    "    days = []\n",
    "    \n",
    "    for index, row in _df.iterrows():\n",
    "        day = datetime.datetime.fromtimestamp(row['unix_time']).weekday()\n",
    "        days.append(day)\n",
    "    \n",
    "    _df['trans_day'] = days\n",
    "    return _df"
   ]
  },
  {
   "cell_type": "code",
   "execution_count": 12,
   "metadata": {},
   "outputs": [],
   "source": [
    "def unite_state_city(df):\n",
    "    _df = df.copy()\n",
    "    state_city_list = []\n",
    "    \n",
    "    for index, row in _df.iterrows():\n",
    "        state_city = row['state'] + \"_\" + row['city']\n",
    "        state_city_list.append(state_city)\n",
    "        \n",
    "    _df['city'] = state_city_list\n",
    "    return _df"
   ]
  },
  {
   "cell_type": "code",
   "execution_count": null,
   "metadata": {},
   "outputs": [],
   "source": []
  },
  {
   "cell_type": "code",
   "execution_count": 13,
   "metadata": {},
   "outputs": [],
   "source": [
    "def convert_and_scale(_df):\n",
    "    df = _df.copy()\n",
    "    \n",
    "    rob_scaler = RobustScaler()\n",
    "\n",
    "    df['scaled_amount'] = rob_scaler.fit_transform(df['amt'].values.reshape(-1,1))\n",
    "\n",
    "    scaled_amount = df['scaled_amount']\n",
    "\n",
    "    df.drop(['scaled_amount', 'amt'], axis=1, inplace=True)\n",
    "    df.insert(0, 'scaled_amount', scaled_amount)\n",
    "    \n",
    "    \n",
    "    converted_df = convert_cc_to_cc_type_and_drop(df)\n",
    "    print(\"convert_cc_to_cc_type_and_drop finished\")\n",
    "    converted_df = convert_dob_to_age_and_drop(converted_df)\n",
    "    print(\"convert_dob_to_age_and_drop finished\")\n",
    "    converted_df = unite_state_city(converted_df)\n",
    "    print(\"unite_state_city finished\")\n",
    "    converted_df = convert_unix_to_hour(converted_df)\n",
    "    print(\"convert_unix_to_hour finished\")\n",
    "\n",
    "    converted_df['category'] = converted_df['category'].astype('category').cat.codes\n",
    "    converted_df['city'] = converted_df['city'].astype('category').cat.codes\n",
    "    converted_df['cc_type'] = converted_df['cc_type'].astype('category').cat.codes\n",
    "    converted_df['gender'] = converted_df['gender'].astype('category').cat.codes\n",
    "    converted_df['merchant'] = converted_df['merchant'].astype('category').cat.codes\n",
    "    converted_df['state']=converted_df['state'].astype('category').cat.codes\n",
    "    converted_df['job']=converted_df['job'].astype('category').cat.codes\n",
    "\n",
    "    return converted_df"
   ]
  },
  {
   "cell_type": "code",
   "execution_count": 14,
   "metadata": {},
   "outputs": [],
   "source": [
    "from category_encoders import TargetEncoder\n",
    "def target_encode_zip(data):\n",
    "    orig_zip = data['zip']\n",
    "    label = data['is_fraud']\n",
    "    data_no_label = drop_columns(data,'is_fraud')\n",
    "    te = TargetEncoder(cols='zip',return_df=True, drop_invariant = True).fit(data_no_label,label)\n",
    "    transformed = te.transform(data_no_label)\n",
    "    data['zip'] = transformed['zip'] # replace zip with fraud probability per zip\n",
    "    return data"
   ]
  },
  {
   "cell_type": "code",
   "execution_count": 15,
   "metadata": {},
   "outputs": [],
   "source": [
    "import haversine as hs\n",
    "\n",
    "def add_feature_holder_merch_distance(df):\n",
    "    _df = df.copy()\n",
    "    dist_list = []\n",
    "    \n",
    "    for index, row in df.iterrows():\n",
    "        loc1=(row['lat'],row['long'])\n",
    "        loc2=(row['merch_lat'],row['merch_long'])\n",
    "        dist = hs.haversine(loc1,loc2,unit=hs.Unit.METERS)\n",
    "        dist_list.append(round(dist,0))\n",
    "    _df['holder_merch_dist'] = dist_list\n",
    "    return _df"
   ]
  },
  {
   "cell_type": "markdown",
   "metadata": {},
   "source": [
    "## Task 1 Identify Features\n",
    "Assemble a dataset consisting of features and target (for example in a dataframe or in two arrays X and y). What features are relevant for the prediction task? What features should be excluded because they leak the target information? Show visualizations or statistics to support your selection"
   ]
  },
  {
   "cell_type": "code",
   "execution_count": 16,
   "metadata": {},
   "outputs": [],
   "source": [
    "full_train_df = pd.read_csv(\"fraudTrain.csv\")\n",
    "full_test_df = pd.read_csv(\"fraudTest.csv\")"
   ]
  },
  {
   "cell_type": "code",
   "execution_count": 17,
   "metadata": {},
   "outputs": [
    {
     "name": "stdout",
     "output_type": "stream",
     "text": [
      "<class 'pandas.core.frame.DataFrame'>\n",
      "RangeIndex: 1296675 entries, 0 to 1296674\n",
      "Data columns (total 23 columns):\n",
      " #   Column                 Non-Null Count    Dtype  \n",
      "---  ------                 --------------    -----  \n",
      " 0   Unnamed: 0             1296675 non-null  int64  \n",
      " 1   trans_date_trans_time  1296675 non-null  object \n",
      " 2   cc_num                 1296675 non-null  int64  \n",
      " 3   merchant               1296675 non-null  object \n",
      " 4   category               1296675 non-null  object \n",
      " 5   amt                    1296675 non-null  float64\n",
      " 6   first                  1296675 non-null  object \n",
      " 7   last                   1296675 non-null  object \n",
      " 8   gender                 1296675 non-null  object \n",
      " 9   street                 1296675 non-null  object \n",
      " 10  city                   1296675 non-null  object \n",
      " 11  state                  1296675 non-null  object \n",
      " 12  zip                    1296675 non-null  int64  \n",
      " 13  lat                    1296675 non-null  float64\n",
      " 14  long                   1296675 non-null  float64\n",
      " 15  city_pop               1296675 non-null  int64  \n",
      " 16  job                    1296675 non-null  object \n",
      " 17  dob                    1296675 non-null  object \n",
      " 18  trans_num              1296675 non-null  object \n",
      " 19  unix_time              1296675 non-null  int64  \n",
      " 20  merch_lat              1296675 non-null  float64\n",
      " 21  merch_long             1296675 non-null  float64\n",
      " 22  is_fraud               1296675 non-null  int64  \n",
      "dtypes: float64(5), int64(6), object(12)\n",
      "memory usage: 227.5+ MB\n",
      "None\n",
      "----------------------------------------------------------------------------------------------------\n",
      "shape:  (1296675, 23)\n",
      "----------------------------------------------------------------------------------------------------\n"
     ]
    },
    {
     "data": {
      "text/html": [
       "<div>\n",
       "<style scoped>\n",
       "    .dataframe tbody tr th:only-of-type {\n",
       "        vertical-align: middle;\n",
       "    }\n",
       "\n",
       "    .dataframe tbody tr th {\n",
       "        vertical-align: top;\n",
       "    }\n",
       "\n",
       "    .dataframe thead th {\n",
       "        text-align: right;\n",
       "    }\n",
       "</style>\n",
       "<table border=\"1\" class=\"dataframe\">\n",
       "  <thead>\n",
       "    <tr style=\"text-align: right;\">\n",
       "      <th></th>\n",
       "      <th>Unnamed: 0</th>\n",
       "      <th>cc_num</th>\n",
       "      <th>amt</th>\n",
       "      <th>zip</th>\n",
       "      <th>lat</th>\n",
       "      <th>long</th>\n",
       "      <th>city_pop</th>\n",
       "      <th>unix_time</th>\n",
       "      <th>merch_lat</th>\n",
       "      <th>merch_long</th>\n",
       "      <th>is_fraud</th>\n",
       "    </tr>\n",
       "  </thead>\n",
       "  <tbody>\n",
       "    <tr>\n",
       "      <th>count</th>\n",
       "      <td>1.296675e+06</td>\n",
       "      <td>1.296675e+06</td>\n",
       "      <td>1.296675e+06</td>\n",
       "      <td>1.296675e+06</td>\n",
       "      <td>1.296675e+06</td>\n",
       "      <td>1.296675e+06</td>\n",
       "      <td>1.296675e+06</td>\n",
       "      <td>1.296675e+06</td>\n",
       "      <td>1.296675e+06</td>\n",
       "      <td>1.296675e+06</td>\n",
       "      <td>1.296675e+06</td>\n",
       "    </tr>\n",
       "    <tr>\n",
       "      <th>mean</th>\n",
       "      <td>6.483370e+05</td>\n",
       "      <td>4.171920e+17</td>\n",
       "      <td>7.035104e+01</td>\n",
       "      <td>4.880067e+04</td>\n",
       "      <td>3.853762e+01</td>\n",
       "      <td>-9.022634e+01</td>\n",
       "      <td>8.882444e+04</td>\n",
       "      <td>1.349244e+09</td>\n",
       "      <td>3.853734e+01</td>\n",
       "      <td>-9.022646e+01</td>\n",
       "      <td>5.788652e-03</td>\n",
       "    </tr>\n",
       "    <tr>\n",
       "      <th>std</th>\n",
       "      <td>3.743180e+05</td>\n",
       "      <td>1.308806e+18</td>\n",
       "      <td>1.603160e+02</td>\n",
       "      <td>2.689322e+04</td>\n",
       "      <td>5.075808e+00</td>\n",
       "      <td>1.375908e+01</td>\n",
       "      <td>3.019564e+05</td>\n",
       "      <td>1.284128e+07</td>\n",
       "      <td>5.109788e+00</td>\n",
       "      <td>1.377109e+01</td>\n",
       "      <td>7.586269e-02</td>\n",
       "    </tr>\n",
       "    <tr>\n",
       "      <th>min</th>\n",
       "      <td>0.000000e+00</td>\n",
       "      <td>6.041621e+10</td>\n",
       "      <td>1.000000e+00</td>\n",
       "      <td>1.257000e+03</td>\n",
       "      <td>2.002710e+01</td>\n",
       "      <td>-1.656723e+02</td>\n",
       "      <td>2.300000e+01</td>\n",
       "      <td>1.325376e+09</td>\n",
       "      <td>1.902779e+01</td>\n",
       "      <td>-1.666712e+02</td>\n",
       "      <td>0.000000e+00</td>\n",
       "    </tr>\n",
       "    <tr>\n",
       "      <th>25%</th>\n",
       "      <td>3.241685e+05</td>\n",
       "      <td>1.800429e+14</td>\n",
       "      <td>9.650000e+00</td>\n",
       "      <td>2.623700e+04</td>\n",
       "      <td>3.462050e+01</td>\n",
       "      <td>-9.679800e+01</td>\n",
       "      <td>7.430000e+02</td>\n",
       "      <td>1.338751e+09</td>\n",
       "      <td>3.473357e+01</td>\n",
       "      <td>-9.689728e+01</td>\n",
       "      <td>0.000000e+00</td>\n",
       "    </tr>\n",
       "    <tr>\n",
       "      <th>50%</th>\n",
       "      <td>6.483370e+05</td>\n",
       "      <td>3.521417e+15</td>\n",
       "      <td>4.752000e+01</td>\n",
       "      <td>4.817400e+04</td>\n",
       "      <td>3.935430e+01</td>\n",
       "      <td>-8.747690e+01</td>\n",
       "      <td>2.456000e+03</td>\n",
       "      <td>1.349250e+09</td>\n",
       "      <td>3.936568e+01</td>\n",
       "      <td>-8.743839e+01</td>\n",
       "      <td>0.000000e+00</td>\n",
       "    </tr>\n",
       "    <tr>\n",
       "      <th>75%</th>\n",
       "      <td>9.725055e+05</td>\n",
       "      <td>4.642255e+15</td>\n",
       "      <td>8.314000e+01</td>\n",
       "      <td>7.204200e+04</td>\n",
       "      <td>4.194040e+01</td>\n",
       "      <td>-8.015800e+01</td>\n",
       "      <td>2.032800e+04</td>\n",
       "      <td>1.359385e+09</td>\n",
       "      <td>4.195716e+01</td>\n",
       "      <td>-8.023680e+01</td>\n",
       "      <td>0.000000e+00</td>\n",
       "    </tr>\n",
       "    <tr>\n",
       "      <th>max</th>\n",
       "      <td>1.296674e+06</td>\n",
       "      <td>4.992346e+18</td>\n",
       "      <td>2.894890e+04</td>\n",
       "      <td>9.978300e+04</td>\n",
       "      <td>6.669330e+01</td>\n",
       "      <td>-6.795030e+01</td>\n",
       "      <td>2.906700e+06</td>\n",
       "      <td>1.371817e+09</td>\n",
       "      <td>6.751027e+01</td>\n",
       "      <td>-6.695090e+01</td>\n",
       "      <td>1.000000e+00</td>\n",
       "    </tr>\n",
       "  </tbody>\n",
       "</table>\n",
       "</div>"
      ],
      "text/plain": [
       "         Unnamed: 0        cc_num           amt           zip           lat  \\\n",
       "count  1.296675e+06  1.296675e+06  1.296675e+06  1.296675e+06  1.296675e+06   \n",
       "mean   6.483370e+05  4.171920e+17  7.035104e+01  4.880067e+04  3.853762e+01   \n",
       "std    3.743180e+05  1.308806e+18  1.603160e+02  2.689322e+04  5.075808e+00   \n",
       "min    0.000000e+00  6.041621e+10  1.000000e+00  1.257000e+03  2.002710e+01   \n",
       "25%    3.241685e+05  1.800429e+14  9.650000e+00  2.623700e+04  3.462050e+01   \n",
       "50%    6.483370e+05  3.521417e+15  4.752000e+01  4.817400e+04  3.935430e+01   \n",
       "75%    9.725055e+05  4.642255e+15  8.314000e+01  7.204200e+04  4.194040e+01   \n",
       "max    1.296674e+06  4.992346e+18  2.894890e+04  9.978300e+04  6.669330e+01   \n",
       "\n",
       "               long      city_pop     unix_time     merch_lat    merch_long  \\\n",
       "count  1.296675e+06  1.296675e+06  1.296675e+06  1.296675e+06  1.296675e+06   \n",
       "mean  -9.022634e+01  8.882444e+04  1.349244e+09  3.853734e+01 -9.022646e+01   \n",
       "std    1.375908e+01  3.019564e+05  1.284128e+07  5.109788e+00  1.377109e+01   \n",
       "min   -1.656723e+02  2.300000e+01  1.325376e+09  1.902779e+01 -1.666712e+02   \n",
       "25%   -9.679800e+01  7.430000e+02  1.338751e+09  3.473357e+01 -9.689728e+01   \n",
       "50%   -8.747690e+01  2.456000e+03  1.349250e+09  3.936568e+01 -8.743839e+01   \n",
       "75%   -8.015800e+01  2.032800e+04  1.359385e+09  4.195716e+01 -8.023680e+01   \n",
       "max   -6.795030e+01  2.906700e+06  1.371817e+09  6.751027e+01 -6.695090e+01   \n",
       "\n",
       "           is_fraud  \n",
       "count  1.296675e+06  \n",
       "mean   5.788652e-03  \n",
       "std    7.586269e-02  \n",
       "min    0.000000e+00  \n",
       "25%    0.000000e+00  \n",
       "50%    0.000000e+00  \n",
       "75%    0.000000e+00  \n",
       "max    1.000000e+00  "
      ]
     },
     "execution_count": 17,
     "metadata": {},
     "output_type": "execute_result"
    }
   ],
   "source": [
    "print(full_train_df.info())\n",
    "print('-' * 100)\n",
    "print(\"shape: \", full_train_df.shape)\n",
    "print('-' * 100)\n",
    "full_train_df.describe()"
   ]
  },
  {
   "cell_type": "code",
   "execution_count": 18,
   "metadata": {},
   "outputs": [
    {
     "data": {
      "text/plain": [
       "0"
      ]
     },
     "execution_count": 18,
     "metadata": {},
     "output_type": "execute_result"
    }
   ],
   "source": [
    "full_train_df.isnull().sum().max()"
   ]
  },
  {
   "cell_type": "code",
   "execution_count": 19,
   "metadata": {},
   "outputs": [
    {
     "name": "stdout",
     "output_type": "stream",
     "text": [
      "No Frauds 99.42 % of the dataset\n",
      "Frauds 0.58 % of the dataset\n",
      "Total amount of fraud transactions: 7506\n"
     ]
    }
   ],
   "source": [
    "fraud_col = full_train_df['is_fraud']\n",
    "\n",
    "AMOUNT_OF_FRAUD = fraud_col.value_counts()[1]\n",
    "print('No Frauds', round(fraud_col.value_counts()[0]/len(fraud_col) * 100,2), '% of the dataset')\n",
    "print('Frauds', round(fraud_col.value_counts()[1]/len(fraud_col) * 100,2), '% of the dataset')\n",
    "print('Total amount of fraud transactions:', AMOUNT_OF_FRAUD)"
   ]
  },
  {
   "cell_type": "code",
   "execution_count": 20,
   "metadata": {},
   "outputs": [
    {
     "data": {
      "text/plain": [
       "Text(0.5, 1.0, 'Class Distributions \\n (0: No Fraud || 1: Fraud)')"
      ]
     },
     "execution_count": 20,
     "metadata": {},
     "output_type": "execute_result"
    },
    {
     "data": {
      "image/png": "[encoded data removed]",
      "text/plain": [
       "<Figure size 432x288 with 1 Axes>"
      ]
     },
     "metadata": {
      "needs_background": "light"
     },
     "output_type": "display_data"
    }
   ],
   "source": [
    "colors = [\"#0101DF\", \"#DF0101\"]\n",
    "\n",
    "sns.countplot('is_fraud', data=full_train_df, palette=colors)\n",
    "plt.title('Class Distributions \\n (0: No Fraud || 1: Fraud)', fontsize=14)"
   ]
  },
  {
   "cell_type": "markdown",
   "metadata": {},
   "source": [
    "We can see that data is very imbalances, we will create additional balanced dataset, in order to identify how features are corelated."
   ]
  },
  {
   "cell_type": "code",
   "execution_count": 21,
   "metadata": {},
   "outputs": [],
   "source": [
    "def create_balanced_data_set(original_df, amonut_of_fraud):\n",
    "    _df = original_df.copy()\n",
    "    _df = _df.sample(frac=1)\n",
    "    fraud_df = _df.loc[_df['is_fraud'] == 1]\n",
    "    non_fraud_df = _df.loc[_df['is_fraud'] == 0][:amonut_of_fraud]\n",
    "    normal_distributed_df = pd.concat([fraud_df, non_fraud_df]).sample(frac=1, random_state=42)\n",
    "    return normal_distributed_df\n",
    "\n",
    "normal_distributed_train_df = create_balanced_data_set(full_train_df, AMOUNT_OF_FRAUD)"
   ]
  },
  {
   "cell_type": "code",
   "execution_count": 22,
   "metadata": {},
   "outputs": [
    {
     "data": {
      "text/plain": [
       "Text(0.5, 1.0, 'Class Distributions \\n (0: No Fraud || 1: Fraud)')"
      ]
     },
     "execution_count": 22,
     "metadata": {},
     "output_type": "execute_result"
    },
    {
     "data": {
      "image/png": "[encoded data removed]",
      "text/plain": [
       "<Figure size 432x288 with 1 Axes>"
      ]
     },
     "metadata": {
      "needs_background": "light"
     },
     "output_type": "display_data"
    }
   ],
   "source": [
    "colors = [\"#0101DF\", \"#DF0101\"]\n",
    "\n",
    "sns.countplot('is_fraud', data=normal_distributed_train_df, palette=colors)\n",
    "plt.title('Class Distributions \\n (0: No Fraud || 1: Fraud)', fontsize=14)"
   ]
  },
  {
   "cell_type": "code",
   "execution_count": 23,
   "metadata": {
    "scrolled": false
   },
   "outputs": [
    {
     "data": {
      "image/png": "[encoded data removed]",
      "text/plain": [
       "<Figure size 1440x2880 with 4 Axes>"
      ]
     },
     "metadata": {
      "needs_background": "light"
     },
     "output_type": "display_data"
    }
   ],
   "source": [
    "def show_correlation_matrices(original, norma_distributed, annot=True):\n",
    "    fig, (ax1, ax2) = plt.subplots(2, 1, figsize=(20,40))\n",
    "\n",
    "    sns.heatmap(original.corr(), cmap='coolwarm_r', annot_kws={'size':10},annot=annot, ax=ax1)\n",
    "    ax1.set_title(\"Full data\", fontsize=14)\n",
    "\n",
    "    sns.heatmap(norma_distributed.corr(), cmap='coolwarm_r', annot_kws={'size':10},annot=annot, ax=ax2)\n",
    "    ax2.set_title(\"Normal distributed\", fontsize=14)\n",
    "    plt.show()\n",
    "\n",
    "show_correlation_matrices(full_train_df, normal_distributed_train_df)"
   ]
  },
  {
   "cell_type": "markdown",
   "metadata": {},
   "source": [
    "Amount seems like strong feature for is fraud prediction, all the rest of the features, seems to be irrelevant\n",
    "Let's see what we can do with categorical features"
   ]
  },
  {
   "cell_type": "code",
   "execution_count": 24,
   "metadata": {},
   "outputs": [
    {
     "name": "stdout",
     "output_type": "stream",
     "text": [
      "trans_date_trans_time has unique values: 1274791\n",
      "merchant has unique values: 693\n",
      "category has unique values: 14\n",
      "first has unique values: 352\n",
      "last has unique values: 481\n",
      "gender has unique values: 2\n",
      "street has unique values: 983\n",
      "city has unique values: 894\n",
      "state has unique values: 51\n",
      "job has unique values: 494\n",
      "dob has unique values: 968\n",
      "trans_num has unique values: 1296675\n"
     ]
    }
   ],
   "source": [
    "for (featureName, featureData) in full_train_df.select_dtypes(include=['object']).iteritems():\n",
    "    print(\"{} has unique values: {}\".format(featureName, featureData.nunique()))"
   ]
  },
  {
   "cell_type": "code",
   "execution_count": 25,
   "metadata": {},
   "outputs": [],
   "source": [
    "def move_is_fraud_to_fisrt_index(df):\n",
    "    fraud = df['is_fraud']\n",
    "    df.drop(labels=['is_fraud'], axis=1,inplace = True)\n",
    "    df.insert(0, 'is_fraud', fraud)\n",
    "    return df"
   ]
  },
  {
   "cell_type": "code",
   "execution_count": 26,
   "metadata": {},
   "outputs": [],
   "source": [
    "columns=['state', 'gender', 'category']\n",
    "dummied_full_train_df = move_is_fraud_to_fisrt_index(pd.get_dummies(full_train_df, columns=columns))\n",
    "dummied_normal_distributed_train_df = move_is_fraud_to_fisrt_index(pd.get_dummies(normal_distributed_train_df, columns=columns))"
   ]
  },
  {
   "cell_type": "code",
   "execution_count": 27,
   "metadata": {
    "scrolled": false
   },
   "outputs": [
    {
     "data": {
      "image/png": "[encoded data removed]",
      "text/plain": [
       "<Figure size 1440x2880 with 4 Axes>"
      ]
     },
     "metadata": {
      "needs_background": "light"
     },
     "output_type": "display_data"
    }
   ],
   "source": [
    "show_correlation_matrices(dummied_full_train_df, dummied_normal_distributed_train_df, False)"
   ]
  },
  {
   "cell_type": "markdown",
   "metadata": {},
   "source": [
    "We can see that gender and state (as well as street and zip code) are not strong features,\n",
    "But category has good correlation with fraud."
   ]
  },
  {
   "cell_type": "code",
   "execution_count": 33,
   "metadata": {
    "scrolled": false
   },
   "outputs": [
    {
     "data": {
      "text/plain": [
       "<seaborn.axisgrid.PairGrid at 0x2b58025bce80>"
      ]
     },
     "execution_count": 33,
     "metadata": {},
     "output_type": "execute_result"
    },
    {
     "data": {
      "image/png": "[encoded data removed]",
      "text/plain": [
       "<Figure size 407.75x360 with 6 Axes>"
      ]
     },
     "metadata": {
      "needs_background": "light"
     },
     "output_type": "display_data"
    }
   ],
   "source": [
    "time_converted_train_df = convert_unix_to_hour(full_train_df)\n",
    "time_converted_normal_distributed_train_df = convert_unix_to_hour(normal_distributed_train_df)\n",
    "sns.pairplot(time_converted_normal_distributed_train_df[['amt','trans_hour', 'is_fraud']], hue='is_fraud')"
   ]
  },
  {
   "cell_type": "markdown",
   "metadata": {},
   "source": [
    "Short conclusion about features to this point:\n",
    "\n",
    "<del>Unnamed: 0</del> - just index, not relevant\n",
    "\n",
    "<del>trans_date_trans_time</del> - we will use unix_time instead\n",
    "    \n",
    "<del>first</del> - seems like not relevant feature\n",
    "\n",
    "<del>last</del> - seems like not relevant feature\n",
    "\n",
    "<del>gender</del> - according to dummies values gender not related to fraudules actvivity\n",
    "\n",
    "<del>street</del> - according to state and zip code we conclude that street not related\n",
    "\n",
    "<del>lat, long </del>\n",
    "\n",
    "<del>cc_num</del> - unique values, not relevant right now\n",
    "\n",
    "<del>merch_lat, merch_long<del>\n",
    "\n",
    "<del>merchant</del> - we will use category\n",
    "    \n",
    "state\n",
    "\n",
    "zip\n",
    "\n",
    "\n",
    "\n",
    "\n",
    "category\n",
    "\n",
    "amt\n",
    "\n",
    "city  \n",
    "\n",
    "city_pop\n",
    "\n",
    "job     \n",
    "\n",
    "dob     \n",
    "\n",
    "trans_num \n",
    "\n",
    "unix_time \n",
    "\n",
    " \n",
    "\n"
   ]
  },
  {
   "cell_type": "code",
   "execution_count": 28,
   "metadata": {},
   "outputs": [],
   "source": [
    "### T E S T data\n",
    "\n",
    "columns_to_drop = ['Unnamed: 0', \"trans_date_trans_time\", \"merchant\", \"first\", \"last\", \"street\", \"city\", \"lat\", \"long\", \"job\", \"dob\", \"trans_num\", \"merch_lat\", \"merch_long\"]\n",
    "\n",
    "X_train_full = dummied_full_train_df.copy()\n",
    "X_train_full = drop_columns(X_train_full, columns_to_drop)\n",
    "Y_train_full = X_train_full['is_fraud']\n",
    "del X_train_full['is_fraud']\n",
    "\n",
    "X_train_normal_distributed = dummied_normal_distributed_train_df.copy()\n",
    "X_train_normal_distributed = drop_columns(X_train_normal_distributed, columns_to_drop)\n",
    "Y_train_normal_distributed = X_train_normal_distributed['is_fraud']\n",
    "del X_train_normal_distributed['is_fraud']"
   ]
  },
  {
   "cell_type": "code",
   "execution_count": 36,
   "metadata": {},
   "outputs": [
    {
     "name": "stdout",
     "output_type": "stream",
     "text": [
      "*********LogisticRegression*********\n",
      "*********LogisticRegressionCV*********\n",
      "*********PassiveAggressiveClassifier*********\n",
      "*********Perceptron*********\n",
      "*********RidgeClassifier*********\n",
      "*********RidgeClassifierCV*********\n",
      "*********SGDClassifier*********\n"
     ]
    },
    {
     "data": {
      "text/html": [
       "<div>\n",
       "<style scoped>\n",
       "    .dataframe tbody tr th:only-of-type {\n",
       "        vertical-align: middle;\n",
       "    }\n",
       "\n",
       "    .dataframe tbody tr th {\n",
       "        vertical-align: top;\n",
       "    }\n",
       "\n",
       "    .dataframe thead th {\n",
       "        text-align: right;\n",
       "    }\n",
       "</style>\n",
       "<table border=\"1\" class=\"dataframe\">\n",
       "  <thead>\n",
       "    <tr style=\"text-align: right;\">\n",
       "      <th></th>\n",
       "      <th>f1</th>\n",
       "      <th>roc_auc</th>\n",
       "      <th>average_precision</th>\n",
       "    </tr>\n",
       "  </thead>\n",
       "  <tbody>\n",
       "    <tr>\n",
       "      <th>LogisticRegression__full_data</th>\n",
       "      <td>0.000000</td>\n",
       "      <td>0.500000</td>\n",
       "      <td>0.005789</td>\n",
       "    </tr>\n",
       "    <tr>\n",
       "      <th>LogisticRegression__normal_distributed</th>\n",
       "      <td>0.000000</td>\n",
       "      <td>0.497505</td>\n",
       "      <td>0.507387</td>\n",
       "    </tr>\n",
       "    <tr>\n",
       "      <th>LogisticRegressionCV__full_data</th>\n",
       "      <td>0.000000</td>\n",
       "      <td>0.500000</td>\n",
       "      <td>0.005789</td>\n",
       "    </tr>\n",
       "    <tr>\n",
       "      <th>LogisticRegressionCV__normal_distributed</th>\n",
       "      <td>0.000000</td>\n",
       "      <td>0.497506</td>\n",
       "      <td>0.507337</td>\n",
       "    </tr>\n",
       "    <tr>\n",
       "      <th>PassiveAggressiveClassifier__full_data</th>\n",
       "      <td>0.000000</td>\n",
       "      <td>0.498779</td>\n",
       "      <td>0.011392</td>\n",
       "    </tr>\n",
       "    <tr>\n",
       "      <th>PassiveAggressiveClassifier__normal_distributed</th>\n",
       "      <td>0.463956</td>\n",
       "      <td>0.495728</td>\n",
       "      <td>0.501009</td>\n",
       "    </tr>\n",
       "    <tr>\n",
       "      <th>Perceptron__full_data</th>\n",
       "      <td>0.000000</td>\n",
       "      <td>0.498365</td>\n",
       "      <td>0.006287</td>\n",
       "    </tr>\n",
       "    <tr>\n",
       "      <th>Perceptron__normal_distributed</th>\n",
       "      <td>0.333304</td>\n",
       "      <td>0.499362</td>\n",
       "      <td>0.504459</td>\n",
       "    </tr>\n",
       "    <tr>\n",
       "      <th>RidgeClassifier__full_data</th>\n",
       "      <td>0.000000</td>\n",
       "      <td>0.815307</td>\n",
       "      <td>0.190280</td>\n",
       "    </tr>\n",
       "    <tr>\n",
       "      <th>RidgeClassifier__normal_distributed</th>\n",
       "      <td>0.789764</td>\n",
       "      <td>0.895280</td>\n",
       "      <td>0.904978</td>\n",
       "    </tr>\n",
       "    <tr>\n",
       "      <th>RidgeClassifierCV__full_data</th>\n",
       "      <td>0.011418</td>\n",
       "      <td>0.514827</td>\n",
       "      <td>0.006585</td>\n",
       "    </tr>\n",
       "    <tr>\n",
       "      <th>RidgeClassifierCV__normal_distributed</th>\n",
       "      <td>0.498751</td>\n",
       "      <td>0.495298</td>\n",
       "      <td>0.501236</td>\n",
       "    </tr>\n",
       "    <tr>\n",
       "      <th>SGDClassifier__full_data</th>\n",
       "      <td>0.000000</td>\n",
       "      <td>0.498276</td>\n",
       "      <td>0.006218</td>\n",
       "    </tr>\n",
       "    <tr>\n",
       "      <th>SGDClassifier__normal_distributed</th>\n",
       "      <td>0.333333</td>\n",
       "      <td>0.496039</td>\n",
       "      <td>0.501115</td>\n",
       "    </tr>\n",
       "  </tbody>\n",
       "</table>\n",
       "</div>"
      ],
      "text/plain": [
       "                                                       f1   roc_auc  \\\n",
       "LogisticRegression__full_data                    0.000000  0.500000   \n",
       "LogisticRegression__normal_distributed           0.000000  0.497505   \n",
       "LogisticRegressionCV__full_data                  0.000000  0.500000   \n",
       "LogisticRegressionCV__normal_distributed         0.000000  0.497506   \n",
       "PassiveAggressiveClassifier__full_data           0.000000  0.498779   \n",
       "PassiveAggressiveClassifier__normal_distributed  0.463956  0.495728   \n",
       "Perceptron__full_data                            0.000000  0.498365   \n",
       "Perceptron__normal_distributed                   0.333304  0.499362   \n",
       "RidgeClassifier__full_data                       0.000000  0.815307   \n",
       "RidgeClassifier__normal_distributed              0.789764  0.895280   \n",
       "RidgeClassifierCV__full_data                     0.011418  0.514827   \n",
       "RidgeClassifierCV__normal_distributed            0.498751  0.495298   \n",
       "SGDClassifier__full_data                         0.000000  0.498276   \n",
       "SGDClassifier__normal_distributed                0.333333  0.496039   \n",
       "\n",
       "                                                 average_precision  \n",
       "LogisticRegression__full_data                             0.005789  \n",
       "LogisticRegression__normal_distributed                    0.507387  \n",
       "LogisticRegressionCV__full_data                           0.005789  \n",
       "LogisticRegressionCV__normal_distributed                  0.507337  \n",
       "PassiveAggressiveClassifier__full_data                    0.011392  \n",
       "PassiveAggressiveClassifier__normal_distributed           0.501009  \n",
       "Perceptron__full_data                                     0.006287  \n",
       "Perceptron__normal_distributed                            0.504459  \n",
       "RidgeClassifier__full_data                                0.190280  \n",
       "RidgeClassifier__normal_distributed                       0.904978  \n",
       "RidgeClassifierCV__full_data                              0.006585  \n",
       "RidgeClassifierCV__normal_distributed                     0.501236  \n",
       "SGDClassifier__full_data                                  0.006218  \n",
       "SGDClassifier__normal_distributed                         0.501115  "
      ]
     },
     "execution_count": 36,
     "metadata": {},
     "output_type": "execute_result"
    }
   ],
   "source": [
    "from sklearn.linear_model import LogisticRegression, LogisticRegressionCV, PassiveAggressiveClassifier, Perceptron, RidgeClassifier, RidgeClassifierCV, SGDClassifier\n",
    "from sklearn.model_selection import cross_validate\n",
    "\n",
    "def add_score(scores_df, scores, regressorName, dataType):\n",
    "    scores_df.loc[regressorName + '_' + dataType, 'f1'] = scores['test_f1'].mean()\n",
    "    scores_df.loc[regressorName + '_' + dataType, 'roc_auc'] = scores['test_roc_auc'].mean()\n",
    "    scores_df.loc[regressorName + '_' + dataType, 'average_precision'] = scores['test_average_precision'].mean()\n",
    "\n",
    "scores_df = pd.DataFrame(dtype=float)    \n",
    "regressors = [\n",
    "    LogisticRegression,\n",
    "    LogisticRegressionCV,\n",
    "    PassiveAggressiveClassifier,\n",
    "    Perceptron,\n",
    "    RidgeClassifier,\n",
    "    RidgeClassifierCV,\n",
    "    SGDClassifier\n",
    "]\n",
    "for regressor in regressors:\n",
    "    name = regressor.__name__\n",
    "    print('*********' + name + '*********')\n",
    "    normal_distributed_scores = cross_validate(\n",
    "        regressor(),\n",
    "        X_train_normal_distributed, \n",
    "        Y_train_normal_distributed, \n",
    "        cv=10,\n",
    "        scoring=('roc_auc', 'average_precision', 'f1'),\n",
    "        n_jobs = -1\n",
    "    )\n",
    "\n",
    "    full_scores = cross_validate(\n",
    "        regressor(),\n",
    "        X_train_full, \n",
    "        Y_train_full, \n",
    "        cv=10,\n",
    "        scoring=('roc_auc', 'average_precision', 'f1'),\n",
    "        n_jobs = -1\n",
    "    )\n",
    "    add_score(scores_df, full_scores, regressor.__name__, \"_full_data\")\n",
    "    add_score(scores_df, normal_distributed_scores, regressor.__name__, \"_normal_distributed\")\n",
    "\n",
    "scores_df"
   ]
  },
  {
   "cell_type": "code",
   "execution_count": null,
   "metadata": {},
   "outputs": [],
   "source": []
  },
  {
   "cell_type": "code",
   "execution_count": null,
   "metadata": {},
   "outputs": [],
   "source": []
  },
  {
   "cell_type": "code",
   "execution_count": null,
   "metadata": {},
   "outputs": [],
   "source": []
  },
  {
   "cell_type": "code",
   "execution_count": null,
   "metadata": {},
   "outputs": [],
   "source": []
  },
  {
   "cell_type": "markdown",
   "metadata": {},
   "source": [
    "## ADDING NEW FEATURES"
   ]
  },
  {
   "cell_type": "code",
   "execution_count": null,
   "metadata": {},
   "outputs": [],
   "source": [
    "dummied_full_train_df.info()"
   ]
  },
  {
   "cell_type": "code",
   "execution_count": 30,
   "metadata": {},
   "outputs": [],
   "source": [
    "## ADD NEW FEARUTE: distance between card holder & merchant\n",
    "dummied_nf_full_train_df = add_feature_holder_merch_distance(dummied_full_train_df)"
   ]
  },
  {
   "cell_type": "code",
   "execution_count": 31,
   "metadata": {},
   "outputs": [],
   "source": [
    "## ADD NEW FEARUTE: card_type\n",
    "dummied_nf_full_train_df = convert_cc_to_cc_type_and_drop(dummied_nf_full_train_df)"
   ]
  },
  {
   "cell_type": "code",
   "execution_count": 32,
   "metadata": {},
   "outputs": [],
   "source": [
    "dummied_nf_full_train_df = pd.get_dummies(dummied_nf_full_train_df,columns=['cc_type'])"
   ]
  },
  {
   "cell_type": "code",
   "execution_count": 33,
   "metadata": {},
   "outputs": [],
   "source": [
    "## ADD NEW FEARUTE: age in days\n",
    "dummied_nf_full_train_df = convert_dob_to_age_and_drop(dummied_nf_full_train_df)"
   ]
  },
  {
   "cell_type": "code",
   "execution_count": 34,
   "metadata": {},
   "outputs": [],
   "source": [
    "## ADD NEW FEATURE: probability of fraud per zip\n",
    "dummied_nf_full_train_df = target_encode_zip(dummied_nf_full_train_df)"
   ]
  },
  {
   "cell_type": "code",
   "execution_count": 35,
   "metadata": {},
   "outputs": [],
   "source": [
    "## ADD NEW FEATURE: state_city\n",
    "#dummied_nf_full_train_df = unite_state_city(dummied_nf_full_train_df)"
   ]
  },
  {
   "cell_type": "code",
   "execution_count": 36,
   "metadata": {},
   "outputs": [],
   "source": [
    "# encode state_city to numbers\n",
    "#dummied_nf_full_train_df['state_city'] = dummied_nf_full_train_df['state_city'].astype('category').cat.codes"
   ]
  },
  {
   "cell_type": "code",
   "execution_count": 37,
   "metadata": {},
   "outputs": [],
   "source": [
    "## ADD NEW FEATURE: day of trans (0-6)\n",
    "dummied_nf_full_train_df = convert_unix_to_day(dummied_nf_full_train_df)"
   ]
  },
  {
   "cell_type": "code",
   "execution_count": 38,
   "metadata": {},
   "outputs": [],
   "source": [
    "## ADD NEW FEATURE: hour of trans (0-24)\n",
    "dummied_nf_full_train_df = convert_unix_to_hour(dummied_nf_full_train_df)"
   ]
  },
  {
   "cell_type": "code",
   "execution_count": 39,
   "metadata": {},
   "outputs": [
    {
     "name": "stdout",
     "output_type": "stream",
     "text": [
      "<class 'pandas.core.frame.DataFrame'>\n",
      "RangeIndex: 1296675 entries, 0 to 1296674\n",
      "Data columns (total 98 columns):\n",
      " #   Column                   Non-Null Count    Dtype  \n",
      "---  ------                   --------------    -----  \n",
      " 0   is_fraud                 1296675 non-null  int64  \n",
      " 1   Unnamed: 0               1296675 non-null  int64  \n",
      " 2   trans_date_trans_time    1296675 non-null  object \n",
      " 3   merchant                 1296675 non-null  object \n",
      " 4   amt                      1296675 non-null  float64\n",
      " 5   first                    1296675 non-null  object \n",
      " 6   last                     1296675 non-null  object \n",
      " 7   street                   1296675 non-null  object \n",
      " 8   city                     1296675 non-null  object \n",
      " 9   zip                      1296675 non-null  float64\n",
      " 10  lat                      1296675 non-null  float64\n",
      " 11  long                     1296675 non-null  float64\n",
      " 12  city_pop                 1296675 non-null  int64  \n",
      " 13  job                      1296675 non-null  object \n",
      " 14  trans_num                1296675 non-null  object \n",
      " 15  unix_time                1296675 non-null  int64  \n",
      " 16  merch_lat                1296675 non-null  float64\n",
      " 17  merch_long               1296675 non-null  float64\n",
      " 18  state_AK                 1296675 non-null  uint8  \n",
      " 19  state_AL                 1296675 non-null  uint8  \n",
      " 20  state_AR                 1296675 non-null  uint8  \n",
      " 21  state_AZ                 1296675 non-null  uint8  \n",
      " 22  state_CA                 1296675 non-null  uint8  \n",
      " 23  state_CO                 1296675 non-null  uint8  \n",
      " 24  state_CT                 1296675 non-null  uint8  \n",
      " 25  state_DC                 1296675 non-null  uint8  \n",
      " 26  state_DE                 1296675 non-null  uint8  \n",
      " 27  state_FL                 1296675 non-null  uint8  \n",
      " 28  state_GA                 1296675 non-null  uint8  \n",
      " 29  state_HI                 1296675 non-null  uint8  \n",
      " 30  state_IA                 1296675 non-null  uint8  \n",
      " 31  state_ID                 1296675 non-null  uint8  \n",
      " 32  state_IL                 1296675 non-null  uint8  \n",
      " 33  state_IN                 1296675 non-null  uint8  \n",
      " 34  state_KS                 1296675 non-null  uint8  \n",
      " 35  state_KY                 1296675 non-null  uint8  \n",
      " 36  state_LA                 1296675 non-null  uint8  \n",
      " 37  state_MA                 1296675 non-null  uint8  \n",
      " 38  state_MD                 1296675 non-null  uint8  \n",
      " 39  state_ME                 1296675 non-null  uint8  \n",
      " 40  state_MI                 1296675 non-null  uint8  \n",
      " 41  state_MN                 1296675 non-null  uint8  \n",
      " 42  state_MO                 1296675 non-null  uint8  \n",
      " 43  state_MS                 1296675 non-null  uint8  \n",
      " 44  state_MT                 1296675 non-null  uint8  \n",
      " 45  state_NC                 1296675 non-null  uint8  \n",
      " 46  state_ND                 1296675 non-null  uint8  \n",
      " 47  state_NE                 1296675 non-null  uint8  \n",
      " 48  state_NH                 1296675 non-null  uint8  \n",
      " 49  state_NJ                 1296675 non-null  uint8  \n",
      " 50  state_NM                 1296675 non-null  uint8  \n",
      " 51  state_NV                 1296675 non-null  uint8  \n",
      " 52  state_NY                 1296675 non-null  uint8  \n",
      " 53  state_OH                 1296675 non-null  uint8  \n",
      " 54  state_OK                 1296675 non-null  uint8  \n",
      " 55  state_OR                 1296675 non-null  uint8  \n",
      " 56  state_PA                 1296675 non-null  uint8  \n",
      " 57  state_RI                 1296675 non-null  uint8  \n",
      " 58  state_SC                 1296675 non-null  uint8  \n",
      " 59  state_SD                 1296675 non-null  uint8  \n",
      " 60  state_TN                 1296675 non-null  uint8  \n",
      " 61  state_TX                 1296675 non-null  uint8  \n",
      " 62  state_UT                 1296675 non-null  uint8  \n",
      " 63  state_VA                 1296675 non-null  uint8  \n",
      " 64  state_VT                 1296675 non-null  uint8  \n",
      " 65  state_WA                 1296675 non-null  uint8  \n",
      " 66  state_WI                 1296675 non-null  uint8  \n",
      " 67  state_WV                 1296675 non-null  uint8  \n",
      " 68  state_WY                 1296675 non-null  uint8  \n",
      " 69  gender_F                 1296675 non-null  uint8  \n",
      " 70  gender_M                 1296675 non-null  uint8  \n",
      " 71  category_entertainment   1296675 non-null  uint8  \n",
      " 72  category_food_dining     1296675 non-null  uint8  \n",
      " 73  category_gas_transport   1296675 non-null  uint8  \n",
      " 74  category_grocery_net     1296675 non-null  uint8  \n",
      " 75  category_grocery_pos     1296675 non-null  uint8  \n",
      " 76  category_health_fitness  1296675 non-null  uint8  \n",
      " 77  category_home            1296675 non-null  uint8  \n",
      " 78  category_kids_pets       1296675 non-null  uint8  \n",
      " 79  category_misc_net        1296675 non-null  uint8  \n",
      " 80  category_misc_pos        1296675 non-null  uint8  \n",
      " 81  category_personal_care   1296675 non-null  uint8  \n",
      " 82  category_shopping_net    1296675 non-null  uint8  \n",
      " 83  category_shopping_pos    1296675 non-null  uint8  \n",
      " 84  category_travel          1296675 non-null  uint8  \n",
      " 85  holder_merch_dist        1296675 non-null  float64\n",
      " 86  cc_type_AMEX             1296675 non-null  uint8  \n",
      " 87  cc_type_DinersClub       1296675 non-null  uint8  \n",
      " 88  cc_type_Discover         1296675 non-null  uint8  \n",
      " 89  cc_type_JCB              1296675 non-null  uint8  \n",
      " 90  cc_type_Laser            1296675 non-null  uint8  \n",
      " 91  cc_type_Maestro          1296675 non-null  uint8  \n",
      " 92  cc_type_MasterCard       1296675 non-null  uint8  \n",
      " 93  cc_type_VISA             1296675 non-null  uint8  \n",
      " 94  cc_type_unknown          1296675 non-null  uint8  \n",
      " 95  age_in_days              1296675 non-null  int64  \n",
      " 96  trans_day                1296675 non-null  int64  \n",
      " 97  trans_hour               1296675 non-null  float64\n",
      "dtypes: float64(8), int64(6), object(8), uint8(76)\n",
      "memory usage: 311.6+ MB\n"
     ]
    }
   ],
   "source": [
    "dummied_nf_full_train_df.info()"
   ]
  },
  {
   "cell_type": "code",
   "execution_count": 50,
   "metadata": {},
   "outputs": [],
   "source": [
    "normal_nf_distributed_train_df = create_balanced_data_set(dummied_nf_full_train_df, AMOUNT_OF_FRAUD)"
   ]
  },
  {
   "cell_type": "code",
   "execution_count": null,
   "metadata": {},
   "outputs": [],
   "source": [
    "normal_nf_distributed_train_df.info()"
   ]
  },
  {
   "cell_type": "code",
   "execution_count": 52,
   "metadata": {},
   "outputs": [],
   "source": [
    "### T R A I N data\n",
    "\n",
    "columns_to_drop = ['Unnamed: 0', \"trans_date_trans_time\", \"merchant\", \"first\", \"last\", \"street\", \"city\", \"lat\", \"long\", \"job\", \"dob\", \"trans_num\", \"merch_lat\", \"merch_long\"]\n",
    "\n",
    "X_train_full = dummied_nf_full_train_df.copy()\n",
    "X_train_full = drop_columns(X_train_full, columns_to_drop)\n",
    "Y_train_full = X_train_full['is_fraud']\n",
    "del X_train_full['is_fraud']\n",
    "\n",
    "X_train_normal_distributed = normal_nf_distributed_train_df.copy()\n",
    "X_train_normal_distributed = drop_columns(normal_nf_distributed_train_df, columns_to_drop)\n",
    "Y_train_normal_distributed = X_train_normal_distributed['is_fraud']\n",
    "del X_train_normal_distributed['is_fraud']"
   ]
  },
  {
   "cell_type": "code",
   "execution_count": 55,
   "metadata": {},
   "outputs": [
    {
     "name": "stdout",
     "output_type": "stream",
     "text": [
      "<class 'pandas.core.frame.DataFrame'>\n",
      "RangeIndex: 1296675 entries, 0 to 1296674\n",
      "Data columns (total 84 columns):\n",
      " #   Column                   Non-Null Count    Dtype  \n",
      "---  ------                   --------------    -----  \n",
      " 0   amt                      1296675 non-null  float64\n",
      " 1   zip                      1296675 non-null  float64\n",
      " 2   city_pop                 1296675 non-null  int64  \n",
      " 3   unix_time                1296675 non-null  int64  \n",
      " 4   state_AK                 1296675 non-null  uint8  \n",
      " 5   state_AL                 1296675 non-null  uint8  \n",
      " 6   state_AR                 1296675 non-null  uint8  \n",
      " 7   state_AZ                 1296675 non-null  uint8  \n",
      " 8   state_CA                 1296675 non-null  uint8  \n",
      " 9   state_CO                 1296675 non-null  uint8  \n",
      " 10  state_CT                 1296675 non-null  uint8  \n",
      " 11  state_DC                 1296675 non-null  uint8  \n",
      " 12  state_DE                 1296675 non-null  uint8  \n",
      " 13  state_FL                 1296675 non-null  uint8  \n",
      " 14  state_GA                 1296675 non-null  uint8  \n",
      " 15  state_HI                 1296675 non-null  uint8  \n",
      " 16  state_IA                 1296675 non-null  uint8  \n",
      " 17  state_ID                 1296675 non-null  uint8  \n",
      " 18  state_IL                 1296675 non-null  uint8  \n",
      " 19  state_IN                 1296675 non-null  uint8  \n",
      " 20  state_KS                 1296675 non-null  uint8  \n",
      " 21  state_KY                 1296675 non-null  uint8  \n",
      " 22  state_LA                 1296675 non-null  uint8  \n",
      " 23  state_MA                 1296675 non-null  uint8  \n",
      " 24  state_MD                 1296675 non-null  uint8  \n",
      " 25  state_ME                 1296675 non-null  uint8  \n",
      " 26  state_MI                 1296675 non-null  uint8  \n",
      " 27  state_MN                 1296675 non-null  uint8  \n",
      " 28  state_MO                 1296675 non-null  uint8  \n",
      " 29  state_MS                 1296675 non-null  uint8  \n",
      " 30  state_MT                 1296675 non-null  uint8  \n",
      " 31  state_NC                 1296675 non-null  uint8  \n",
      " 32  state_ND                 1296675 non-null  uint8  \n",
      " 33  state_NE                 1296675 non-null  uint8  \n",
      " 34  state_NH                 1296675 non-null  uint8  \n",
      " 35  state_NJ                 1296675 non-null  uint8  \n",
      " 36  state_NM                 1296675 non-null  uint8  \n",
      " 37  state_NV                 1296675 non-null  uint8  \n",
      " 38  state_NY                 1296675 non-null  uint8  \n",
      " 39  state_OH                 1296675 non-null  uint8  \n",
      " 40  state_OK                 1296675 non-null  uint8  \n",
      " 41  state_OR                 1296675 non-null  uint8  \n",
      " 42  state_PA                 1296675 non-null  uint8  \n",
      " 43  state_RI                 1296675 non-null  uint8  \n",
      " 44  state_SC                 1296675 non-null  uint8  \n",
      " 45  state_SD                 1296675 non-null  uint8  \n",
      " 46  state_TN                 1296675 non-null  uint8  \n",
      " 47  state_TX                 1296675 non-null  uint8  \n",
      " 48  state_UT                 1296675 non-null  uint8  \n",
      " 49  state_VA                 1296675 non-null  uint8  \n",
      " 50  state_VT                 1296675 non-null  uint8  \n",
      " 51  state_WA                 1296675 non-null  uint8  \n",
      " 52  state_WI                 1296675 non-null  uint8  \n",
      " 53  state_WV                 1296675 non-null  uint8  \n",
      " 54  state_WY                 1296675 non-null  uint8  \n",
      " 55  gender_F                 1296675 non-null  uint8  \n",
      " 56  gender_M                 1296675 non-null  uint8  \n",
      " 57  category_entertainment   1296675 non-null  uint8  \n",
      " 58  category_food_dining     1296675 non-null  uint8  \n",
      " 59  category_gas_transport   1296675 non-null  uint8  \n",
      " 60  category_grocery_net     1296675 non-null  uint8  \n",
      " 61  category_grocery_pos     1296675 non-null  uint8  \n",
      " 62  category_health_fitness  1296675 non-null  uint8  \n",
      " 63  category_home            1296675 non-null  uint8  \n",
      " 64  category_kids_pets       1296675 non-null  uint8  \n",
      " 65  category_misc_net        1296675 non-null  uint8  \n",
      " 66  category_misc_pos        1296675 non-null  uint8  \n",
      " 67  category_personal_care   1296675 non-null  uint8  \n",
      " 68  category_shopping_net    1296675 non-null  uint8  \n",
      " 69  category_shopping_pos    1296675 non-null  uint8  \n",
      " 70  category_travel          1296675 non-null  uint8  \n",
      " 71  holder_merch_dist        1296675 non-null  float64\n",
      " 72  cc_type_AMEX             1296675 non-null  uint8  \n",
      " 73  cc_type_DinersClub       1296675 non-null  uint8  \n",
      " 74  cc_type_Discover         1296675 non-null  uint8  \n",
      " 75  cc_type_JCB              1296675 non-null  uint8  \n",
      " 76  cc_type_Laser            1296675 non-null  uint8  \n",
      " 77  cc_type_Maestro          1296675 non-null  uint8  \n",
      " 78  cc_type_MasterCard       1296675 non-null  uint8  \n",
      " 79  cc_type_VISA             1296675 non-null  uint8  \n",
      " 80  cc_type_unknown          1296675 non-null  uint8  \n",
      " 81  age_in_days              1296675 non-null  int64  \n",
      " 82  trans_day                1296675 non-null  int64  \n",
      " 83  trans_hour               1296675 non-null  float64\n",
      "dtypes: float64(4), int64(4), uint8(76)\n",
      "memory usage: 173.1 MB\n",
      "<class 'pandas.core.frame.DataFrame'>\n",
      "Int64Index: 15012 entries, 1194414 to 287005\n",
      "Data columns (total 84 columns):\n",
      " #   Column                   Non-Null Count  Dtype  \n",
      "---  ------                   --------------  -----  \n",
      " 0   amt                      15012 non-null  float64\n",
      " 1   zip                      15012 non-null  float64\n",
      " 2   city_pop                 15012 non-null  int64  \n",
      " 3   unix_time                15012 non-null  int64  \n",
      " 4   state_AK                 15012 non-null  uint8  \n",
      " 5   state_AL                 15012 non-null  uint8  \n",
      " 6   state_AR                 15012 non-null  uint8  \n",
      " 7   state_AZ                 15012 non-null  uint8  \n",
      " 8   state_CA                 15012 non-null  uint8  \n",
      " 9   state_CO                 15012 non-null  uint8  \n",
      " 10  state_CT                 15012 non-null  uint8  \n",
      " 11  state_DC                 15012 non-null  uint8  \n",
      " 12  state_DE                 15012 non-null  uint8  \n",
      " 13  state_FL                 15012 non-null  uint8  \n",
      " 14  state_GA                 15012 non-null  uint8  \n",
      " 15  state_HI                 15012 non-null  uint8  \n",
      " 16  state_IA                 15012 non-null  uint8  \n",
      " 17  state_ID                 15012 non-null  uint8  \n",
      " 18  state_IL                 15012 non-null  uint8  \n",
      " 19  state_IN                 15012 non-null  uint8  \n",
      " 20  state_KS                 15012 non-null  uint8  \n",
      " 21  state_KY                 15012 non-null  uint8  \n",
      " 22  state_LA                 15012 non-null  uint8  \n",
      " 23  state_MA                 15012 non-null  uint8  \n",
      " 24  state_MD                 15012 non-null  uint8  \n",
      " 25  state_ME                 15012 non-null  uint8  \n",
      " 26  state_MI                 15012 non-null  uint8  \n",
      " 27  state_MN                 15012 non-null  uint8  \n",
      " 28  state_MO                 15012 non-null  uint8  \n",
      " 29  state_MS                 15012 non-null  uint8  \n",
      " 30  state_MT                 15012 non-null  uint8  \n",
      " 31  state_NC                 15012 non-null  uint8  \n",
      " 32  state_ND                 15012 non-null  uint8  \n",
      " 33  state_NE                 15012 non-null  uint8  \n",
      " 34  state_NH                 15012 non-null  uint8  \n",
      " 35  state_NJ                 15012 non-null  uint8  \n",
      " 36  state_NM                 15012 non-null  uint8  \n",
      " 37  state_NV                 15012 non-null  uint8  \n",
      " 38  state_NY                 15012 non-null  uint8  \n",
      " 39  state_OH                 15012 non-null  uint8  \n",
      " 40  state_OK                 15012 non-null  uint8  \n",
      " 41  state_OR                 15012 non-null  uint8  \n",
      " 42  state_PA                 15012 non-null  uint8  \n",
      " 43  state_RI                 15012 non-null  uint8  \n",
      " 44  state_SC                 15012 non-null  uint8  \n",
      " 45  state_SD                 15012 non-null  uint8  \n",
      " 46  state_TN                 15012 non-null  uint8  \n",
      " 47  state_TX                 15012 non-null  uint8  \n",
      " 48  state_UT                 15012 non-null  uint8  \n",
      " 49  state_VA                 15012 non-null  uint8  \n",
      " 50  state_VT                 15012 non-null  uint8  \n",
      " 51  state_WA                 15012 non-null  uint8  \n",
      " 52  state_WI                 15012 non-null  uint8  \n",
      " 53  state_WV                 15012 non-null  uint8  \n",
      " 54  state_WY                 15012 non-null  uint8  \n",
      " 55  gender_F                 15012 non-null  uint8  \n",
      " 56  gender_M                 15012 non-null  uint8  \n",
      " 57  category_entertainment   15012 non-null  uint8  \n",
      " 58  category_food_dining     15012 non-null  uint8  \n",
      " 59  category_gas_transport   15012 non-null  uint8  \n",
      " 60  category_grocery_net     15012 non-null  uint8  \n",
      " 61  category_grocery_pos     15012 non-null  uint8  \n",
      " 62  category_health_fitness  15012 non-null  uint8  \n",
      " 63  category_home            15012 non-null  uint8  \n",
      " 64  category_kids_pets       15012 non-null  uint8  \n",
      " 65  category_misc_net        15012 non-null  uint8  \n",
      " 66  category_misc_pos        15012 non-null  uint8  \n",
      " 67  category_personal_care   15012 non-null  uint8  \n",
      " 68  category_shopping_net    15012 non-null  uint8  \n",
      " 69  category_shopping_pos    15012 non-null  uint8  \n",
      " 70  category_travel          15012 non-null  uint8  \n",
      " 71  holder_merch_dist        15012 non-null  float64\n",
      " 72  cc_type_AMEX             15012 non-null  uint8  \n",
      " 73  cc_type_DinersClub       15012 non-null  uint8  \n",
      " 74  cc_type_Discover         15012 non-null  uint8  \n",
      " 75  cc_type_JCB              15012 non-null  uint8  \n",
      " 76  cc_type_Laser            15012 non-null  uint8  \n",
      " 77  cc_type_Maestro          15012 non-null  uint8  \n",
      " 78  cc_type_MasterCard       15012 non-null  uint8  \n",
      " 79  cc_type_VISA             15012 non-null  uint8  \n",
      " 80  cc_type_unknown          15012 non-null  uint8  \n",
      " 81  age_in_days              15012 non-null  int64  \n",
      " 82  trans_day                15012 non-null  int64  \n",
      " 83  trans_hour               15012 non-null  float64\n",
      "dtypes: float64(4), int64(4), uint8(76)\n",
      "memory usage: 2.1 MB\n"
     ]
    }
   ],
   "source": [
    "X_train_full.info()\n",
    "X_train_normal_distributed.info()"
   ]
  },
  {
   "cell_type": "code",
   "execution_count": 40,
   "metadata": {},
   "outputs": [],
   "source": [
    "from sklearn.linear_model import LogisticRegression, LogisticRegressionCV, PassiveAggressiveClassifier, Perceptron, RidgeClassifier, RidgeClassifierCV, SGDClassifier\n",
    "from sklearn.model_selection import cross_validate"
   ]
  },
  {
   "cell_type": "code",
   "execution_count": 41,
   "metadata": {},
   "outputs": [],
   "source": [
    "def add_score(scores_df, scores, regressorName, dataType):\n",
    "    scores_df.loc[regressorName + '_' + dataType, 'f1'] = scores['test_f1'].mean()\n",
    "    scores_df.loc[regressorName + '_' + dataType, 'roc_auc'] = scores['test_roc_auc'].mean()\n",
    "    scores_df.loc[regressorName + '_' + dataType, 'average_precision'] = scores['test_average_precision'].mean()"
   ]
  },
  {
   "cell_type": "code",
   "execution_count": 59,
   "metadata": {},
   "outputs": [
    {
     "name": "stdout",
     "output_type": "stream",
     "text": [
      "*********LogisticRegression*********\n",
      "*********LogisticRegressionCV*********\n",
      "*********PassiveAggressiveClassifier*********\n",
      "*********Perceptron*********\n",
      "*********RidgeClassifier*********\n",
      "*********RidgeClassifierCV*********\n",
      "*********SGDClassifier*********\n"
     ]
    },
    {
     "data": {
      "text/html": [
       "<div>\n",
       "<style scoped>\n",
       "    .dataframe tbody tr th:only-of-type {\n",
       "        vertical-align: middle;\n",
       "    }\n",
       "\n",
       "    .dataframe tbody tr th {\n",
       "        vertical-align: top;\n",
       "    }\n",
       "\n",
       "    .dataframe thead th {\n",
       "        text-align: right;\n",
       "    }\n",
       "</style>\n",
       "<table border=\"1\" class=\"dataframe\">\n",
       "  <thead>\n",
       "    <tr style=\"text-align: right;\">\n",
       "      <th></th>\n",
       "      <th>f1</th>\n",
       "      <th>roc_auc</th>\n",
       "      <th>average_precision</th>\n",
       "    </tr>\n",
       "  </thead>\n",
       "  <tbody>\n",
       "    <tr>\n",
       "      <th>LogisticRegression__full_data</th>\n",
       "      <td>0.000000</td>\n",
       "      <td>0.631964</td>\n",
       "      <td>0.210353</td>\n",
       "    </tr>\n",
       "    <tr>\n",
       "      <th>LogisticRegression__normal_distributed</th>\n",
       "      <td>0.070832</td>\n",
       "      <td>0.516725</td>\n",
       "      <td>0.529325</td>\n",
       "    </tr>\n",
       "    <tr>\n",
       "      <th>LogisticRegressionCV__full_data</th>\n",
       "      <td>0.000000</td>\n",
       "      <td>0.631964</td>\n",
       "      <td>0.210353</td>\n",
       "    </tr>\n",
       "    <tr>\n",
       "      <th>LogisticRegressionCV__normal_distributed</th>\n",
       "      <td>0.428737</td>\n",
       "      <td>0.515945</td>\n",
       "      <td>0.520483</td>\n",
       "    </tr>\n",
       "    <tr>\n",
       "      <th>PassiveAggressiveClassifier__full_data</th>\n",
       "      <td>0.000000</td>\n",
       "      <td>0.630440</td>\n",
       "      <td>0.147724</td>\n",
       "    </tr>\n",
       "    <tr>\n",
       "      <th>PassiveAggressiveClassifier__normal_distributed</th>\n",
       "      <td>0.199970</td>\n",
       "      <td>0.504311</td>\n",
       "      <td>0.523744</td>\n",
       "    </tr>\n",
       "    <tr>\n",
       "      <th>Perceptron__full_data</th>\n",
       "      <td>0.000000</td>\n",
       "      <td>0.625442</td>\n",
       "      <td>0.099519</td>\n",
       "    </tr>\n",
       "    <tr>\n",
       "      <th>Perceptron__normal_distributed</th>\n",
       "      <td>0.200059</td>\n",
       "      <td>0.500023</td>\n",
       "      <td>0.518673</td>\n",
       "    </tr>\n",
       "    <tr>\n",
       "      <th>RidgeClassifier__full_data</th>\n",
       "      <td>0.170435</td>\n",
       "      <td>0.882762</td>\n",
       "      <td>0.315759</td>\n",
       "    </tr>\n",
       "    <tr>\n",
       "      <th>RidgeClassifier__normal_distributed</th>\n",
       "      <td>0.802885</td>\n",
       "      <td>0.913209</td>\n",
       "      <td>0.918917</td>\n",
       "    </tr>\n",
       "    <tr>\n",
       "      <th>RidgeClassifierCV__full_data</th>\n",
       "      <td>0.006864</td>\n",
       "      <td>0.544517</td>\n",
       "      <td>0.171673</td>\n",
       "    </tr>\n",
       "    <tr>\n",
       "      <th>RidgeClassifierCV__normal_distributed</th>\n",
       "      <td>0.569604</td>\n",
       "      <td>0.591748</td>\n",
       "      <td>0.621157</td>\n",
       "    </tr>\n",
       "    <tr>\n",
       "      <th>SGDClassifier__full_data</th>\n",
       "      <td>0.000000</td>\n",
       "      <td>0.622226</td>\n",
       "      <td>0.016118</td>\n",
       "    </tr>\n",
       "    <tr>\n",
       "      <th>SGDClassifier__normal_distributed</th>\n",
       "      <td>0.333393</td>\n",
       "      <td>0.500869</td>\n",
       "      <td>0.512689</td>\n",
       "    </tr>\n",
       "  </tbody>\n",
       "</table>\n",
       "</div>"
      ],
      "text/plain": [
       "                                                       f1   roc_auc  \\\n",
       "LogisticRegression__full_data                    0.000000  0.631964   \n",
       "LogisticRegression__normal_distributed           0.070832  0.516725   \n",
       "LogisticRegressionCV__full_data                  0.000000  0.631964   \n",
       "LogisticRegressionCV__normal_distributed         0.428737  0.515945   \n",
       "PassiveAggressiveClassifier__full_data           0.000000  0.630440   \n",
       "PassiveAggressiveClassifier__normal_distributed  0.199970  0.504311   \n",
       "Perceptron__full_data                            0.000000  0.625442   \n",
       "Perceptron__normal_distributed                   0.200059  0.500023   \n",
       "RidgeClassifier__full_data                       0.170435  0.882762   \n",
       "RidgeClassifier__normal_distributed              0.802885  0.913209   \n",
       "RidgeClassifierCV__full_data                     0.006864  0.544517   \n",
       "RidgeClassifierCV__normal_distributed            0.569604  0.591748   \n",
       "SGDClassifier__full_data                         0.000000  0.622226   \n",
       "SGDClassifier__normal_distributed                0.333393  0.500869   \n",
       "\n",
       "                                                 average_precision  \n",
       "LogisticRegression__full_data                             0.210353  \n",
       "LogisticRegression__normal_distributed                    0.529325  \n",
       "LogisticRegressionCV__full_data                           0.210353  \n",
       "LogisticRegressionCV__normal_distributed                  0.520483  \n",
       "PassiveAggressiveClassifier__full_data                    0.147724  \n",
       "PassiveAggressiveClassifier__normal_distributed           0.523744  \n",
       "Perceptron__full_data                                     0.099519  \n",
       "Perceptron__normal_distributed                            0.518673  \n",
       "RidgeClassifier__full_data                                0.315759  \n",
       "RidgeClassifier__normal_distributed                       0.918917  \n",
       "RidgeClassifierCV__full_data                              0.171673  \n",
       "RidgeClassifierCV__normal_distributed                     0.621157  \n",
       "SGDClassifier__full_data                                  0.016118  \n",
       "SGDClassifier__normal_distributed                         0.512689  "
      ]
     },
     "execution_count": 59,
     "metadata": {},
     "output_type": "execute_result"
    }
   ],
   "source": [
    "scores_df = pd.DataFrame(dtype=float)    \n",
    "regressors = [\n",
    "    LogisticRegression,\n",
    "    LogisticRegressionCV,\n",
    "    PassiveAggressiveClassifier,\n",
    "    Perceptron,\n",
    "    RidgeClassifier,\n",
    "    RidgeClassifierCV,\n",
    "    SGDClassifier\n",
    "]\n",
    "for regressor in regressors:\n",
    "    name = regressor.__name__\n",
    "    print('*********' + name + '*********')\n",
    "    normal_distributed_scores = cross_validate(\n",
    "        regressor(),\n",
    "        X_train_normal_distributed, \n",
    "        Y_train_normal_distributed, \n",
    "        cv=10,\n",
    "        scoring=('roc_auc', 'average_precision', 'f1')\n",
    "    )\n",
    "\n",
    "    full_scores = cross_validate(\n",
    "        regressor(),\n",
    "        X_train_full, \n",
    "        Y_train_full, \n",
    "        cv=10,\n",
    "        scoring=('roc_auc', 'average_precision', 'f1')\n",
    "    )\n",
    "    add_score(scores_df, full_scores, regressor.__name__, \"_full_data\")\n",
    "    add_score(scores_df, normal_distributed_scores, regressor.__name__, \"_normal_distributed\")\n",
    "\n",
    "scores_df"
   ]
  },
  {
   "cell_type": "markdown",
   "metadata": {},
   "source": [
    "## Automatic undersampling - without new features"
   ]
  },
  {
   "cell_type": "code",
   "execution_count": 37,
   "metadata": {},
   "outputs": [],
   "source": [
    "columns=['state', 'gender', 'category']\n",
    "dummied_full_train_df = move_is_fraud_to_fisrt_index(pd.get_dummies(full_train_df, columns=columns))\n",
    "X_train_full = dummied_full_train_df.copy()\n",
    "X_train_full = drop_columns(X_train_full, columns_to_drop)\n",
    "Y_train_full = X_train_full['is_fraud']\n",
    "del X_train_full['is_fraud']"
   ]
  },
  {
   "cell_type": "code",
   "execution_count": 38,
   "metadata": {},
   "outputs": [
    {
     "name": "stdout",
     "output_type": "stream",
     "text": [
      "(1296675, 72)\n",
      "(15012, 72)\n",
      "[7506 7506]\n"
     ]
    },
    {
     "data": {
      "text/plain": [
       "Text(0.5, 1.0, 'Class Distributions \\n (0: No Fraud || 1: Fraud)')"
      ]
     },
     "execution_count": 38,
     "metadata": {},
     "output_type": "execute_result"
    },
    {
     "data": {
      "image/png": "[encoded data removed]",
      "text/plain": [
       "<Figure size 432x288 with 1 Axes>"
      ]
     },
     "metadata": {
      "needs_background": "light"
     },
     "output_type": "display_data"
    }
   ],
   "source": [
    "### check  what undersampler does\n",
    "rus = RandomUnderSampler(replacement=False)\n",
    "X_train_subsample, y_train_subsample = rus.fit_resample(\n",
    "    X_train_full, Y_train_full)\n",
    "print(X_train_full.shape)\n",
    "print(X_train_subsample.shape)\n",
    "print(np.bincount(y_train_subsample))\n",
    "y_train_subsample.value_counts()\n",
    "sns.countplot(y_train_subsample, data=X_train_subsample)\n",
    "plt.title('Class Distributions \\n (0: No Fraud || 1: Fraud)', fontsize=14)"
   ]
  },
  {
   "cell_type": "code",
   "execution_count": null,
   "metadata": {},
   "outputs": [],
   "source": [
    "X_train_full.info()"
   ]
  },
  {
   "cell_type": "code",
   "execution_count": 39,
   "metadata": {},
   "outputs": [
    {
     "name": "stdout",
     "output_type": "stream",
     "text": [
      "*********LogisticRegression*********\n",
      "*********LogisticRegressionCV*********\n",
      "*********PassiveAggressiveClassifier*********\n",
      "*********Perceptron*********\n",
      "*********RidgeClassifier*********\n",
      "*********RidgeClassifierCV*********\n",
      "*********SGDClassifier*********\n"
     ]
    },
    {
     "data": {
      "text/html": [
       "<div>\n",
       "<style scoped>\n",
       "    .dataframe tbody tr th:only-of-type {\n",
       "        vertical-align: middle;\n",
       "    }\n",
       "\n",
       "    .dataframe tbody tr th {\n",
       "        vertical-align: top;\n",
       "    }\n",
       "\n",
       "    .dataframe thead th {\n",
       "        text-align: right;\n",
       "    }\n",
       "</style>\n",
       "<table border=\"1\" class=\"dataframe\">\n",
       "  <thead>\n",
       "    <tr style=\"text-align: right;\">\n",
       "      <th></th>\n",
       "      <th>f1</th>\n",
       "      <th>roc_auc</th>\n",
       "      <th>average_precision</th>\n",
       "    </tr>\n",
       "  </thead>\n",
       "  <tbody>\n",
       "    <tr>\n",
       "      <th>LogisticRegression_rand_under</th>\n",
       "      <td>0.005754</td>\n",
       "      <td>0.489298</td>\n",
       "      <td>0.006052</td>\n",
       "    </tr>\n",
       "    <tr>\n",
       "      <th>LogisticRegressionCV_rand_under</th>\n",
       "      <td>0.002300</td>\n",
       "      <td>0.505855</td>\n",
       "      <td>0.006531</td>\n",
       "    </tr>\n",
       "    <tr>\n",
       "      <th>PassiveAggressiveClassifier_rand_under</th>\n",
       "      <td>0.009713</td>\n",
       "      <td>0.483153</td>\n",
       "      <td>0.005753</td>\n",
       "    </tr>\n",
       "    <tr>\n",
       "      <th>Perceptron_rand_under</th>\n",
       "      <td>0.004605</td>\n",
       "      <td>0.509221</td>\n",
       "      <td>0.006420</td>\n",
       "    </tr>\n",
       "    <tr>\n",
       "      <th>RidgeClassifier_rand_under</th>\n",
       "      <td>0.071200</td>\n",
       "      <td>0.896856</td>\n",
       "      <td>0.202070</td>\n",
       "    </tr>\n",
       "    <tr>\n",
       "      <th>RidgeClassifierCV_rand_under</th>\n",
       "      <td>0.011150</td>\n",
       "      <td>0.514866</td>\n",
       "      <td>0.006633</td>\n",
       "    </tr>\n",
       "    <tr>\n",
       "      <th>SGDClassifier_rand_under</th>\n",
       "      <td>0.003454</td>\n",
       "      <td>0.511532</td>\n",
       "      <td>0.006550</td>\n",
       "    </tr>\n",
       "  </tbody>\n",
       "</table>\n",
       "</div>"
      ],
      "text/plain": [
       "                                              f1   roc_auc  average_precision\n",
       "LogisticRegression_rand_under           0.005754  0.489298           0.006052\n",
       "LogisticRegressionCV_rand_under         0.002300  0.505855           0.006531\n",
       "PassiveAggressiveClassifier_rand_under  0.009713  0.483153           0.005753\n",
       "Perceptron_rand_under                   0.004605  0.509221           0.006420\n",
       "RidgeClassifier_rand_under              0.071200  0.896856           0.202070\n",
       "RidgeClassifierCV_rand_under            0.011150  0.514866           0.006633\n",
       "SGDClassifier_rand_under                0.003454  0.511532           0.006550"
      ]
     },
     "execution_count": 39,
     "metadata": {},
     "output_type": "execute_result"
    }
   ],
   "source": [
    "rand_sample_scores_df = pd.DataFrame(dtype=float)    \n",
    "regressors = [\n",
    "    LogisticRegression,\n",
    "    LogisticRegressionCV,\n",
    "    PassiveAggressiveClassifier,\n",
    "    Perceptron,\n",
    "    RidgeClassifier,\n",
    "    RidgeClassifierCV,\n",
    "    SGDClassifier\n",
    "]\n",
    "for regressor in regressors:\n",
    "    name = regressor.__name__\n",
    "    print('*********' + name + '*********')\n",
    "    undersample_pipe = make_imb_pipeline(RandomUnderSampler(), regressor())\n",
    "    full_scores = cross_validate(\n",
    "        undersample_pipe,\n",
    "        X_train_full, \n",
    "        Y_train_full, \n",
    "        cv=10,\n",
    "        scoring=('roc_auc', 'average_precision', 'f1'),\n",
    "        n_jobs = -1\n",
    "    )\n",
    "    add_score(rand_sample_scores_df, full_scores, regressor.__name__, \"rand_under\")\n",
    "\n",
    "rand_sample_scores_df"
   ]
  },
  {
   "cell_type": "markdown",
   "metadata": {},
   "source": [
    "## Automatic oversampling"
   ]
  },
  {
   "cell_type": "code",
   "execution_count": 31,
   "metadata": {},
   "outputs": [
    {
     "name": "stdout",
     "output_type": "stream",
     "text": [
      "*********LogisticRegression*********\n",
      "*********LogisticRegressionCV*********\n",
      "*********PassiveAggressiveClassifier*********\n",
      "*********Perceptron*********\n",
      "*********RidgeClassifier*********\n",
      "*********RidgeClassifierCV*********\n",
      "*********SGDClassifier*********\n"
     ]
    },
    {
     "data": {
      "text/html": [
       "<div>\n",
       "<style scoped>\n",
       "    .dataframe tbody tr th:only-of-type {\n",
       "        vertical-align: middle;\n",
       "    }\n",
       "\n",
       "    .dataframe tbody tr th {\n",
       "        vertical-align: top;\n",
       "    }\n",
       "\n",
       "    .dataframe thead th {\n",
       "        text-align: right;\n",
       "    }\n",
       "</style>\n",
       "<table border=\"1\" class=\"dataframe\">\n",
       "  <thead>\n",
       "    <tr style=\"text-align: right;\">\n",
       "      <th></th>\n",
       "      <th>f1</th>\n",
       "      <th>roc_auc</th>\n",
       "      <th>average_precision</th>\n",
       "    </tr>\n",
       "  </thead>\n",
       "  <tbody>\n",
       "    <tr>\n",
       "      <th>LogisticRegression__full_data</th>\n",
       "      <td>0.000000</td>\n",
       "      <td>0.498421</td>\n",
       "      <td>0.006471</td>\n",
       "    </tr>\n",
       "    <tr>\n",
       "      <th>LogisticRegressionCV__full_data</th>\n",
       "      <td>0.001152</td>\n",
       "      <td>0.495091</td>\n",
       "      <td>0.006327</td>\n",
       "    </tr>\n",
       "    <tr>\n",
       "      <th>PassiveAggressiveClassifier__full_data</th>\n",
       "      <td>0.010653</td>\n",
       "      <td>0.489507</td>\n",
       "      <td>0.005962</td>\n",
       "    </tr>\n",
       "    <tr>\n",
       "      <th>Perceptron__full_data</th>\n",
       "      <td>0.005752</td>\n",
       "      <td>0.511975</td>\n",
       "      <td>0.006500</td>\n",
       "    </tr>\n",
       "    <tr>\n",
       "      <th>RidgeClassifier__full_data</th>\n",
       "      <td>0.069634</td>\n",
       "      <td>0.897378</td>\n",
       "      <td>0.209368</td>\n",
       "    </tr>\n",
       "    <tr>\n",
       "      <th>RidgeClassifierCV__full_data</th>\n",
       "      <td>0.010933</td>\n",
       "      <td>0.507718</td>\n",
       "      <td>0.006589</td>\n",
       "    </tr>\n",
       "    <tr>\n",
       "      <th>SGDClassifier__full_data</th>\n",
       "      <td>0.005755</td>\n",
       "      <td>0.487364</td>\n",
       "      <td>0.005703</td>\n",
       "    </tr>\n",
       "  </tbody>\n",
       "</table>\n",
       "</div>"
      ],
      "text/plain": [
       "                                              f1   roc_auc  average_precision\n",
       "LogisticRegression__full_data           0.000000  0.498421           0.006471\n",
       "LogisticRegressionCV__full_data         0.001152  0.495091           0.006327\n",
       "PassiveAggressiveClassifier__full_data  0.010653  0.489507           0.005962\n",
       "Perceptron__full_data                   0.005752  0.511975           0.006500\n",
       "RidgeClassifier__full_data              0.069634  0.897378           0.209368\n",
       "RidgeClassifierCV__full_data            0.010933  0.507718           0.006589\n",
       "SGDClassifier__full_data                0.005755  0.487364           0.005703"
      ]
     },
     "execution_count": 31,
     "metadata": {},
     "output_type": "execute_result"
    }
   ],
   "source": [
    "rand_sample_scores_df = pd.DataFrame(dtype=float)    \n",
    "regressors = [\n",
    "    LogisticRegression,\n",
    "    LogisticRegressionCV,\n",
    "    PassiveAggressiveClassifier,\n",
    "    Perceptron,\n",
    "    RidgeClassifier,\n",
    "    RidgeClassifierCV,\n",
    "    SGDClassifier\n",
    "]\n",
    "for regressor in regressors:\n",
    "    name = regressor.__name__\n",
    "    print('*********' + name + '*********')\n",
    "    oversample_pipe = make_imb_pipeline(RandomOverSampler(), regressor())\n",
    "    full_scores = cross_validate(\n",
    "        oversample_pipe,\n",
    "        X_train_full, \n",
    "        Y_train_full, \n",
    "        cv=10,\n",
    "        scoring=('roc_auc', 'average_precision', 'f1'),\n",
    "        n_jobs = -1\n",
    "    )\n",
    "    add_score(rand_sample_scores_df, full_scores, regressor.__name__, \"_full_data\")\n",
    "\n",
    "rand_sample_scores_df"
   ]
  },
  {
   "cell_type": "markdown",
   "metadata": {},
   "source": [
    "## SMOTE sampling"
   ]
  },
  {
   "cell_type": "code",
   "execution_count": 32,
   "metadata": {},
   "outputs": [
    {
     "name": "stdout",
     "output_type": "stream",
     "text": [
      "*********LogisticRegression*********\n",
      "*********LogisticRegressionCV*********\n",
      "*********PassiveAggressiveClassifier*********\n",
      "*********Perceptron*********\n",
      "*********RidgeClassifier*********\n",
      "*********RidgeClassifierCV*********\n",
      "*********SGDClassifier*********\n"
     ]
    },
    {
     "data": {
      "text/html": [
       "<div>\n",
       "<style scoped>\n",
       "    .dataframe tbody tr th:only-of-type {\n",
       "        vertical-align: middle;\n",
       "    }\n",
       "\n",
       "    .dataframe tbody tr th {\n",
       "        vertical-align: top;\n",
       "    }\n",
       "\n",
       "    .dataframe thead th {\n",
       "        text-align: right;\n",
       "    }\n",
       "</style>\n",
       "<table border=\"1\" class=\"dataframe\">\n",
       "  <thead>\n",
       "    <tr style=\"text-align: right;\">\n",
       "      <th></th>\n",
       "      <th>f1</th>\n",
       "      <th>roc_auc</th>\n",
       "      <th>average_precision</th>\n",
       "    </tr>\n",
       "  </thead>\n",
       "  <tbody>\n",
       "    <tr>\n",
       "      <th>LogisticRegression__full_data</th>\n",
       "      <td>0.001152</td>\n",
       "      <td>0.495099</td>\n",
       "      <td>0.006370</td>\n",
       "    </tr>\n",
       "    <tr>\n",
       "      <th>LogisticRegressionCV__full_data</th>\n",
       "      <td>0.000000</td>\n",
       "      <td>0.498411</td>\n",
       "      <td>0.006463</td>\n",
       "    </tr>\n",
       "    <tr>\n",
       "      <th>PassiveAggressiveClassifier__full_data</th>\n",
       "      <td>0.008967</td>\n",
       "      <td>0.487391</td>\n",
       "      <td>0.009523</td>\n",
       "    </tr>\n",
       "    <tr>\n",
       "      <th>Perceptron__full_data</th>\n",
       "      <td>0.006904</td>\n",
       "      <td>0.509679</td>\n",
       "      <td>0.006298</td>\n",
       "    </tr>\n",
       "    <tr>\n",
       "      <th>RidgeClassifier__full_data</th>\n",
       "      <td>0.451452</td>\n",
       "      <td>0.836833</td>\n",
       "      <td>0.237252</td>\n",
       "    </tr>\n",
       "    <tr>\n",
       "      <th>RidgeClassifierCV__full_data</th>\n",
       "      <td>0.010918</td>\n",
       "      <td>0.502742</td>\n",
       "      <td>0.006342</td>\n",
       "    </tr>\n",
       "    <tr>\n",
       "      <th>SGDClassifier__full_data</th>\n",
       "      <td>0.005757</td>\n",
       "      <td>0.502249</td>\n",
       "      <td>0.006258</td>\n",
       "    </tr>\n",
       "  </tbody>\n",
       "</table>\n",
       "</div>"
      ],
      "text/plain": [
       "                                              f1   roc_auc  average_precision\n",
       "LogisticRegression__full_data           0.001152  0.495099           0.006370\n",
       "LogisticRegressionCV__full_data         0.000000  0.498411           0.006463\n",
       "PassiveAggressiveClassifier__full_data  0.008967  0.487391           0.009523\n",
       "Perceptron__full_data                   0.006904  0.509679           0.006298\n",
       "RidgeClassifier__full_data              0.451452  0.836833           0.237252\n",
       "RidgeClassifierCV__full_data            0.010918  0.502742           0.006342\n",
       "SGDClassifier__full_data                0.005757  0.502249           0.006258"
      ]
     },
     "execution_count": 32,
     "metadata": {},
     "output_type": "execute_result"
    }
   ],
   "source": [
    "for regressor in regressors:\n",
    "    name = regressor.__name__\n",
    "    print('*********' + name + '*********')\n",
    "    smote_pipe = make_imb_pipeline(SMOTE(), regressor())\n",
    "    full_scores = cross_validate(\n",
    "        smote_pipe,\n",
    "        X_train_full, \n",
    "        Y_train_full, \n",
    "        cv=10,\n",
    "        scoring=('roc_auc', 'average_precision', 'f1'),\n",
    "        n_jobs = -1\n",
    "    )\n",
    "    add_score(rand_sample_scores_df, full_scores, regressor.__name__, \"_full_data\")\n",
    "\n",
    "rand_sample_scores_df\n"
   ]
  },
  {
   "cell_type": "markdown",
   "metadata": {},
   "source": [
    "## Automatic undersample - wtih new features"
   ]
  },
  {
   "cell_type": "code",
   "execution_count": 49,
   "metadata": {},
   "outputs": [],
   "source": [
    "columns_to_drop = ['Unnamed: 0', \"trans_date_trans_time\", \"merchant\", \"first\", \"last\", \"street\", \"city\", \"lat\", \"long\", \"job\", \"dob\", \"trans_num\", \"merch_lat\", \"merch_long\"]\n",
    "X_nf_train_full = dummied_nf_full_train_df.copy()\n",
    "X_nf_train_full = drop_columns(X_nf_train_full, columns_to_drop)\n",
    "Y_nf_train_full = X_nf_train_full['is_fraud']\n",
    "del X_nf_train_full['is_fraud']"
   ]
  },
  {
   "cell_type": "code",
   "execution_count": 52,
   "metadata": {},
   "outputs": [
    {
     "name": "stdout",
     "output_type": "stream",
     "text": [
      "<class 'pandas.core.frame.DataFrame'>\n",
      "RangeIndex: 1296675 entries, 0 to 1296674\n",
      "Data columns (total 84 columns):\n",
      " #   Column                   Non-Null Count    Dtype  \n",
      "---  ------                   --------------    -----  \n",
      " 0   amt                      1296675 non-null  float64\n",
      " 1   zip                      1296675 non-null  float64\n",
      " 2   city_pop                 1296675 non-null  int64  \n",
      " 3   unix_time                1296675 non-null  int64  \n",
      " 4   state_AK                 1296675 non-null  uint8  \n",
      " 5   state_AL                 1296675 non-null  uint8  \n",
      " 6   state_AR                 1296675 non-null  uint8  \n",
      " 7   state_AZ                 1296675 non-null  uint8  \n",
      " 8   state_CA                 1296675 non-null  uint8  \n",
      " 9   state_CO                 1296675 non-null  uint8  \n",
      " 10  state_CT                 1296675 non-null  uint8  \n",
      " 11  state_DC                 1296675 non-null  uint8  \n",
      " 12  state_DE                 1296675 non-null  uint8  \n",
      " 13  state_FL                 1296675 non-null  uint8  \n",
      " 14  state_GA                 1296675 non-null  uint8  \n",
      " 15  state_HI                 1296675 non-null  uint8  \n",
      " 16  state_IA                 1296675 non-null  uint8  \n",
      " 17  state_ID                 1296675 non-null  uint8  \n",
      " 18  state_IL                 1296675 non-null  uint8  \n",
      " 19  state_IN                 1296675 non-null  uint8  \n",
      " 20  state_KS                 1296675 non-null  uint8  \n",
      " 21  state_KY                 1296675 non-null  uint8  \n",
      " 22  state_LA                 1296675 non-null  uint8  \n",
      " 23  state_MA                 1296675 non-null  uint8  \n",
      " 24  state_MD                 1296675 non-null  uint8  \n",
      " 25  state_ME                 1296675 non-null  uint8  \n",
      " 26  state_MI                 1296675 non-null  uint8  \n",
      " 27  state_MN                 1296675 non-null  uint8  \n",
      " 28  state_MO                 1296675 non-null  uint8  \n",
      " 29  state_MS                 1296675 non-null  uint8  \n",
      " 30  state_MT                 1296675 non-null  uint8  \n",
      " 31  state_NC                 1296675 non-null  uint8  \n",
      " 32  state_ND                 1296675 non-null  uint8  \n",
      " 33  state_NE                 1296675 non-null  uint8  \n",
      " 34  state_NH                 1296675 non-null  uint8  \n",
      " 35  state_NJ                 1296675 non-null  uint8  \n",
      " 36  state_NM                 1296675 non-null  uint8  \n",
      " 37  state_NV                 1296675 non-null  uint8  \n",
      " 38  state_NY                 1296675 non-null  uint8  \n",
      " 39  state_OH                 1296675 non-null  uint8  \n",
      " 40  state_OK                 1296675 non-null  uint8  \n",
      " 41  state_OR                 1296675 non-null  uint8  \n",
      " 42  state_PA                 1296675 non-null  uint8  \n",
      " 43  state_RI                 1296675 non-null  uint8  \n",
      " 44  state_SC                 1296675 non-null  uint8  \n",
      " 45  state_SD                 1296675 non-null  uint8  \n",
      " 46  state_TN                 1296675 non-null  uint8  \n",
      " 47  state_TX                 1296675 non-null  uint8  \n",
      " 48  state_UT                 1296675 non-null  uint8  \n",
      " 49  state_VA                 1296675 non-null  uint8  \n",
      " 50  state_VT                 1296675 non-null  uint8  \n",
      " 51  state_WA                 1296675 non-null  uint8  \n",
      " 52  state_WI                 1296675 non-null  uint8  \n",
      " 53  state_WV                 1296675 non-null  uint8  \n",
      " 54  state_WY                 1296675 non-null  uint8  \n",
      " 55  gender_F                 1296675 non-null  uint8  \n",
      " 56  gender_M                 1296675 non-null  uint8  \n",
      " 57  category_entertainment   1296675 non-null  uint8  \n",
      " 58  category_food_dining     1296675 non-null  uint8  \n",
      " 59  category_gas_transport   1296675 non-null  uint8  \n",
      " 60  category_grocery_net     1296675 non-null  uint8  \n",
      " 61  category_grocery_pos     1296675 non-null  uint8  \n",
      " 62  category_health_fitness  1296675 non-null  uint8  \n",
      " 63  category_home            1296675 non-null  uint8  \n",
      " 64  category_kids_pets       1296675 non-null  uint8  \n",
      " 65  category_misc_net        1296675 non-null  uint8  \n",
      " 66  category_misc_pos        1296675 non-null  uint8  \n",
      " 67  category_personal_care   1296675 non-null  uint8  \n",
      " 68  category_shopping_net    1296675 non-null  uint8  \n",
      " 69  category_shopping_pos    1296675 non-null  uint8  \n",
      " 70  category_travel          1296675 non-null  uint8  \n",
      " 71  holder_merch_dist        1296675 non-null  float64\n",
      " 72  cc_type_AMEX             1296675 non-null  uint8  \n",
      " 73  cc_type_DinersClub       1296675 non-null  uint8  \n",
      " 74  cc_type_Discover         1296675 non-null  uint8  \n",
      " 75  cc_type_JCB              1296675 non-null  uint8  \n",
      " 76  cc_type_Laser            1296675 non-null  uint8  \n",
      " 77  cc_type_Maestro          1296675 non-null  uint8  \n",
      " 78  cc_type_MasterCard       1296675 non-null  uint8  \n",
      " 79  cc_type_VISA             1296675 non-null  uint8  \n",
      " 80  cc_type_unknown          1296675 non-null  uint8  \n",
      " 81  age_in_days              1296675 non-null  int64  \n",
      " 82  trans_day                1296675 non-null  int64  \n",
      " 83  trans_hour               1296675 non-null  float64\n",
      "dtypes: float64(4), int64(4), uint8(76)\n",
      "memory usage: 173.1 MB\n"
     ]
    }
   ],
   "source": [
    "X_nf_train_full.info()"
   ]
  },
  {
   "cell_type": "code",
   "execution_count": 53,
   "metadata": {},
   "outputs": [
    {
     "name": "stdout",
     "output_type": "stream",
     "text": [
      "*********LogisticRegression*********\n",
      "*********LogisticRegressionCV*********\n",
      "*********PassiveAggressiveClassifier*********\n",
      "*********Perceptron*********\n",
      "*********RidgeClassifier*********\n",
      "*********RidgeClassifierCV*********\n",
      "*********SGDClassifier*********\n"
     ]
    },
    {
     "data": {
      "text/html": [
       "<div>\n",
       "<style scoped>\n",
       "    .dataframe tbody tr th:only-of-type {\n",
       "        vertical-align: middle;\n",
       "    }\n",
       "\n",
       "    .dataframe tbody tr th {\n",
       "        vertical-align: top;\n",
       "    }\n",
       "\n",
       "    .dataframe thead th {\n",
       "        text-align: right;\n",
       "    }\n",
       "</style>\n",
       "<table border=\"1\" class=\"dataframe\">\n",
       "  <thead>\n",
       "    <tr style=\"text-align: right;\">\n",
       "      <th></th>\n",
       "      <th>f1</th>\n",
       "      <th>roc_auc</th>\n",
       "      <th>average_precision</th>\n",
       "    </tr>\n",
       "  </thead>\n",
       "  <tbody>\n",
       "    <tr>\n",
       "      <th>LogisticRegression_nf_rand_under</th>\n",
       "      <td>0.007517</td>\n",
       "      <td>0.645558</td>\n",
       "      <td>0.122069</td>\n",
       "    </tr>\n",
       "    <tr>\n",
       "      <th>LogisticRegressionCV_nf_rand_under</th>\n",
       "      <td>0.034335</td>\n",
       "      <td>0.560215</td>\n",
       "      <td>0.025289</td>\n",
       "    </tr>\n",
       "    <tr>\n",
       "      <th>PassiveAggressiveClassifier_nf_rand_under</th>\n",
       "      <td>0.003454</td>\n",
       "      <td>0.524057</td>\n",
       "      <td>0.089855</td>\n",
       "    </tr>\n",
       "    <tr>\n",
       "      <th>Perceptron_nf_rand_under</th>\n",
       "      <td>0.003450</td>\n",
       "      <td>0.636545</td>\n",
       "      <td>0.135866</td>\n",
       "    </tr>\n",
       "    <tr>\n",
       "      <th>RidgeClassifier_nf_rand_under</th>\n",
       "      <td>0.074260</td>\n",
       "      <td>0.902695</td>\n",
       "      <td>0.216595</td>\n",
       "    </tr>\n",
       "    <tr>\n",
       "      <th>RidgeClassifierCV_nf_rand_under</th>\n",
       "      <td>0.024673</td>\n",
       "      <td>0.726794</td>\n",
       "      <td>0.154103</td>\n",
       "    </tr>\n",
       "    <tr>\n",
       "      <th>SGDClassifier_nf_rand_under</th>\n",
       "      <td>0.005754</td>\n",
       "      <td>0.520667</td>\n",
       "      <td>0.007500</td>\n",
       "    </tr>\n",
       "  </tbody>\n",
       "</table>\n",
       "</div>"
      ],
      "text/plain": [
       "                                                 f1   roc_auc  \\\n",
       "LogisticRegression_nf_rand_under           0.007517  0.645558   \n",
       "LogisticRegressionCV_nf_rand_under         0.034335  0.560215   \n",
       "PassiveAggressiveClassifier_nf_rand_under  0.003454  0.524057   \n",
       "Perceptron_nf_rand_under                   0.003450  0.636545   \n",
       "RidgeClassifier_nf_rand_under              0.074260  0.902695   \n",
       "RidgeClassifierCV_nf_rand_under            0.024673  0.726794   \n",
       "SGDClassifier_nf_rand_under                0.005754  0.520667   \n",
       "\n",
       "                                           average_precision  \n",
       "LogisticRegression_nf_rand_under                    0.122069  \n",
       "LogisticRegressionCV_nf_rand_under                  0.025289  \n",
       "PassiveAggressiveClassifier_nf_rand_under           0.089855  \n",
       "Perceptron_nf_rand_under                            0.135866  \n",
       "RidgeClassifier_nf_rand_under                       0.216595  \n",
       "RidgeClassifierCV_nf_rand_under                     0.154103  \n",
       "SGDClassifier_nf_rand_under                         0.007500  "
      ]
     },
     "execution_count": 53,
     "metadata": {},
     "output_type": "execute_result"
    }
   ],
   "source": [
    "rand_sample_scores_df = pd.DataFrame(dtype=float)    \n",
    "regressors = [\n",
    "    LogisticRegression,\n",
    "    LogisticRegressionCV,\n",
    "    PassiveAggressiveClassifier,\n",
    "    Perceptron,\n",
    "    RidgeClassifier,\n",
    "    RidgeClassifierCV,\n",
    "    SGDClassifier\n",
    "]\n",
    "for regressor in regressors:\n",
    "    name = regressor.__name__\n",
    "    print('*********' + name + '*********')\n",
    "    undersample_pipe = make_imb_pipeline(RandomUnderSampler(), regressor())\n",
    "    full_scores = cross_validate(\n",
    "        undersample_pipe,\n",
    "        X_nf_train_full, \n",
    "        Y_nf_train_full, \n",
    "        cv=10,\n",
    "        scoring=('roc_auc', 'average_precision', 'f1'),\n",
    "        n_jobs = -1\n",
    "    )\n",
    "    add_score(rand_sample_scores_df, full_scores, regressor.__name__, \"nf_rand_under\")\n",
    "\n",
    "rand_sample_scores_df"
   ]
  },
  {
   "cell_type": "markdown",
   "metadata": {},
   "source": [
    "## OVersample with new features"
   ]
  },
  {
   "cell_type": "code",
   "execution_count": null,
   "metadata": {},
   "outputs": [],
   "source": [
    "for regressor in regressors:\n",
    "    name = regressor.__name__\n",
    "    print('*********' + name + '*********')\n",
    "    oversample_pipe = make_imb_pipeline(RandomOverSampler(), regressor())\n",
    "    full_scores = cross_validate(\n",
    "        oversample_pipe,\n",
    "        X_nf_train_full, \n",
    "        Y_nf_train_full, \n",
    "        cv=10,\n",
    "        scoring=('roc_auc', 'average_precision', 'f1'),\n",
    "        n_jobs = -1\n",
    "    )\n",
    "    add_score(rand_sample_scores_df, full_scores, regressor.__name__, \"_over\")\n",
    "\n",
    "rand_sample_scores_df"
   ]
  },
  {
   "cell_type": "markdown",
   "metadata": {},
   "source": [
    "## Non- linear models"
   ]
  },
  {
   "cell_type": "code",
   "execution_count": 55,
   "metadata": {},
   "outputs": [],
   "source": [
    "from xgboost import XGBClassifier\n"
   ]
  },
  {
   "cell_type": "code",
   "execution_count": 67,
   "metadata": {},
   "outputs": [],
   "source": [
    "classifiers = [\n",
    "    SVC,\n",
    "    DecisionTreeClassifier,\n",
    "    RandomForestClassifier,\n",
    "    XGBClassifier\n",
    "]"
   ]
  },
  {
   "cell_type": "code",
   "execution_count": 65,
   "metadata": {},
   "outputs": [],
   "source": [
    "dummied_sampled = dummied_full_train_df.sample(frac=0.1)\n",
    "X_train_sampled = dummied_sampled.copy()\n",
    "X_train_sampled = drop_columns(X_train_sampled, columns_to_drop)\n",
    "Y_train_sampled = X_train_sampled['is_fraud']\n",
    "del X_train_sampled['is_fraud']"
   ]
  },
  {
   "cell_type": "code",
   "execution_count": 66,
   "metadata": {},
   "outputs": [
    {
     "name": "stdout",
     "output_type": "stream",
     "text": [
      "<class 'pandas.core.frame.DataFrame'>\n",
      "Int64Index: 129668 entries, 426825 to 447718\n",
      "Data columns (total 72 columns):\n",
      " #   Column                   Non-Null Count   Dtype  \n",
      "---  ------                   --------------   -----  \n",
      " 0   cc_num                   129668 non-null  int64  \n",
      " 1   amt                      129668 non-null  float64\n",
      " 2   zip                      129668 non-null  int64  \n",
      " 3   city_pop                 129668 non-null  int64  \n",
      " 4   unix_time                129668 non-null  int64  \n",
      " 5   state_AK                 129668 non-null  uint8  \n",
      " 6   state_AL                 129668 non-null  uint8  \n",
      " 7   state_AR                 129668 non-null  uint8  \n",
      " 8   state_AZ                 129668 non-null  uint8  \n",
      " 9   state_CA                 129668 non-null  uint8  \n",
      " 10  state_CO                 129668 non-null  uint8  \n",
      " 11  state_CT                 129668 non-null  uint8  \n",
      " 12  state_DC                 129668 non-null  uint8  \n",
      " 13  state_DE                 129668 non-null  uint8  \n",
      " 14  state_FL                 129668 non-null  uint8  \n",
      " 15  state_GA                 129668 non-null  uint8  \n",
      " 16  state_HI                 129668 non-null  uint8  \n",
      " 17  state_IA                 129668 non-null  uint8  \n",
      " 18  state_ID                 129668 non-null  uint8  \n",
      " 19  state_IL                 129668 non-null  uint8  \n",
      " 20  state_IN                 129668 non-null  uint8  \n",
      " 21  state_KS                 129668 non-null  uint8  \n",
      " 22  state_KY                 129668 non-null  uint8  \n",
      " 23  state_LA                 129668 non-null  uint8  \n",
      " 24  state_MA                 129668 non-null  uint8  \n",
      " 25  state_MD                 129668 non-null  uint8  \n",
      " 26  state_ME                 129668 non-null  uint8  \n",
      " 27  state_MI                 129668 non-null  uint8  \n",
      " 28  state_MN                 129668 non-null  uint8  \n",
      " 29  state_MO                 129668 non-null  uint8  \n",
      " 30  state_MS                 129668 non-null  uint8  \n",
      " 31  state_MT                 129668 non-null  uint8  \n",
      " 32  state_NC                 129668 non-null  uint8  \n",
      " 33  state_ND                 129668 non-null  uint8  \n",
      " 34  state_NE                 129668 non-null  uint8  \n",
      " 35  state_NH                 129668 non-null  uint8  \n",
      " 36  state_NJ                 129668 non-null  uint8  \n",
      " 37  state_NM                 129668 non-null  uint8  \n",
      " 38  state_NV                 129668 non-null  uint8  \n",
      " 39  state_NY                 129668 non-null  uint8  \n",
      " 40  state_OH                 129668 non-null  uint8  \n",
      " 41  state_OK                 129668 non-null  uint8  \n",
      " 42  state_OR                 129668 non-null  uint8  \n",
      " 43  state_PA                 129668 non-null  uint8  \n",
      " 44  state_RI                 129668 non-null  uint8  \n",
      " 45  state_SC                 129668 non-null  uint8  \n",
      " 46  state_SD                 129668 non-null  uint8  \n",
      " 47  state_TN                 129668 non-null  uint8  \n",
      " 48  state_TX                 129668 non-null  uint8  \n",
      " 49  state_UT                 129668 non-null  uint8  \n",
      " 50  state_VA                 129668 non-null  uint8  \n",
      " 51  state_VT                 129668 non-null  uint8  \n",
      " 52  state_WA                 129668 non-null  uint8  \n",
      " 53  state_WI                 129668 non-null  uint8  \n",
      " 54  state_WV                 129668 non-null  uint8  \n",
      " 55  state_WY                 129668 non-null  uint8  \n",
      " 56  gender_F                 129668 non-null  uint8  \n",
      " 57  gender_M                 129668 non-null  uint8  \n",
      " 58  category_entertainment   129668 non-null  uint8  \n",
      " 59  category_food_dining     129668 non-null  uint8  \n",
      " 60  category_gas_transport   129668 non-null  uint8  \n",
      " 61  category_grocery_net     129668 non-null  uint8  \n",
      " 62  category_grocery_pos     129668 non-null  uint8  \n",
      " 63  category_health_fitness  129668 non-null  uint8  \n",
      " 64  category_home            129668 non-null  uint8  \n",
      " 65  category_kids_pets       129668 non-null  uint8  \n",
      " 66  category_misc_net        129668 non-null  uint8  \n",
      " 67  category_misc_pos        129668 non-null  uint8  \n",
      " 68  category_personal_care   129668 non-null  uint8  \n",
      " 69  category_shopping_net    129668 non-null  uint8  \n",
      " 70  category_shopping_pos    129668 non-null  uint8  \n",
      " 71  category_travel          129668 non-null  uint8  \n",
      "dtypes: float64(1), int64(4), uint8(67)\n",
      "memory usage: 14.2 MB\n"
     ]
    }
   ],
   "source": [
    "X_train_sampled.info()"
   ]
  },
  {
   "cell_type": "code",
   "execution_count": 68,
   "metadata": {},
   "outputs": [
    {
     "name": "stdout",
     "output_type": "stream",
     "text": [
      "*********SVC*********\n",
      "*********DecisionTreeClassifier*********\n",
      "*********RandomForestClassifier*********\n",
      "*********XGBClassifier*********\n"
     ]
    },
    {
     "data": {
      "text/html": [
       "<div>\n",
       "<style scoped>\n",
       "    .dataframe tbody tr th:only-of-type {\n",
       "        vertical-align: middle;\n",
       "    }\n",
       "\n",
       "    .dataframe tbody tr th {\n",
       "        vertical-align: top;\n",
       "    }\n",
       "\n",
       "    .dataframe thead th {\n",
       "        text-align: right;\n",
       "    }\n",
       "</style>\n",
       "<table border=\"1\" class=\"dataframe\">\n",
       "  <thead>\n",
       "    <tr style=\"text-align: right;\">\n",
       "      <th></th>\n",
       "      <th>f1</th>\n",
       "      <th>roc_auc</th>\n",
       "      <th>average_precision</th>\n",
       "    </tr>\n",
       "  </thead>\n",
       "  <tbody>\n",
       "    <tr>\n",
       "      <th>SVC__sampled</th>\n",
       "      <td>0.000000</td>\n",
       "      <td>0.475329</td>\n",
       "      <td>0.007081</td>\n",
       "    </tr>\n",
       "    <tr>\n",
       "      <th>DecisionTreeClassifier__sampled</th>\n",
       "      <td>0.613901</td>\n",
       "      <td>0.813580</td>\n",
       "      <td>0.379802</td>\n",
       "    </tr>\n",
       "    <tr>\n",
       "      <th>RandomForestClassifier__sampled</th>\n",
       "      <td>0.652090</td>\n",
       "      <td>0.955075</td>\n",
       "      <td>0.755065</td>\n",
       "    </tr>\n",
       "    <tr>\n",
       "      <th>XGBClassifier__sampled</th>\n",
       "      <td>0.726362</td>\n",
       "      <td>0.989826</td>\n",
       "      <td>0.788924</td>\n",
       "    </tr>\n",
       "  </tbody>\n",
       "</table>\n",
       "</div>"
      ],
      "text/plain": [
       "                                       f1   roc_auc  average_precision\n",
       "SVC__sampled                     0.000000  0.475329           0.007081\n",
       "DecisionTreeClassifier__sampled  0.613901  0.813580           0.379802\n",
       "RandomForestClassifier__sampled  0.652090  0.955075           0.755065\n",
       "XGBClassifier__sampled           0.726362  0.989826           0.788924"
      ]
     },
     "execution_count": 68,
     "metadata": {},
     "output_type": "execute_result"
    }
   ],
   "source": [
    "rand_sample_scores_df = pd.DataFrame(dtype=float)    \n",
    "\n",
    "for regressor in classifiers:\n",
    "    name = regressor.__name__\n",
    "    print('*********' + name + '*********')\n",
    "    full_scores = cross_validate(\n",
    "        regressor(),\n",
    "        X_train_sampled, \n",
    "        Y_train_sampled, \n",
    "        cv=10,\n",
    "        scoring=('roc_auc', 'average_precision', 'f1'),\n",
    "        n_jobs = -1\n",
    "    )\n",
    "    add_score(rand_sample_scores_df, full_scores, regressor.__name__, \"_sampled\")\n",
    "\n",
    "rand_sample_scores_df"
   ]
  },
  {
   "cell_type": "code",
   "execution_count": null,
   "metadata": {},
   "outputs": [],
   "source": []
  },
  {
   "cell_type": "code",
   "execution_count": 69,
   "metadata": {},
   "outputs": [],
   "source": [
    "X_nf_sampled = dummied_nf_full_train_df.sample(frac=0.1,random_state=42)\n",
    "X_nf_sampled = drop_columns(X_nf_sampled, columns_to_drop)\n",
    "Y_nf_sampled = X_nf_sampled['is_fraud']\n",
    "del X_nf_sampled['is_fraud']"
   ]
  },
  {
   "cell_type": "code",
   "execution_count": 70,
   "metadata": {},
   "outputs": [
    {
     "name": "stdout",
     "output_type": "stream",
     "text": [
      "<class 'pandas.core.frame.DataFrame'>\n",
      "Int64Index: 129668 entries, 1045211 to 879092\n",
      "Data columns (total 84 columns):\n",
      " #   Column                   Non-Null Count   Dtype  \n",
      "---  ------                   --------------   -----  \n",
      " 0   amt                      129668 non-null  float64\n",
      " 1   zip                      129668 non-null  float64\n",
      " 2   city_pop                 129668 non-null  int64  \n",
      " 3   unix_time                129668 non-null  int64  \n",
      " 4   state_AK                 129668 non-null  uint8  \n",
      " 5   state_AL                 129668 non-null  uint8  \n",
      " 6   state_AR                 129668 non-null  uint8  \n",
      " 7   state_AZ                 129668 non-null  uint8  \n",
      " 8   state_CA                 129668 non-null  uint8  \n",
      " 9   state_CO                 129668 non-null  uint8  \n",
      " 10  state_CT                 129668 non-null  uint8  \n",
      " 11  state_DC                 129668 non-null  uint8  \n",
      " 12  state_DE                 129668 non-null  uint8  \n",
      " 13  state_FL                 129668 non-null  uint8  \n",
      " 14  state_GA                 129668 non-null  uint8  \n",
      " 15  state_HI                 129668 non-null  uint8  \n",
      " 16  state_IA                 129668 non-null  uint8  \n",
      " 17  state_ID                 129668 non-null  uint8  \n",
      " 18  state_IL                 129668 non-null  uint8  \n",
      " 19  state_IN                 129668 non-null  uint8  \n",
      " 20  state_KS                 129668 non-null  uint8  \n",
      " 21  state_KY                 129668 non-null  uint8  \n",
      " 22  state_LA                 129668 non-null  uint8  \n",
      " 23  state_MA                 129668 non-null  uint8  \n",
      " 24  state_MD                 129668 non-null  uint8  \n",
      " 25  state_ME                 129668 non-null  uint8  \n",
      " 26  state_MI                 129668 non-null  uint8  \n",
      " 27  state_MN                 129668 non-null  uint8  \n",
      " 28  state_MO                 129668 non-null  uint8  \n",
      " 29  state_MS                 129668 non-null  uint8  \n",
      " 30  state_MT                 129668 non-null  uint8  \n",
      " 31  state_NC                 129668 non-null  uint8  \n",
      " 32  state_ND                 129668 non-null  uint8  \n",
      " 33  state_NE                 129668 non-null  uint8  \n",
      " 34  state_NH                 129668 non-null  uint8  \n",
      " 35  state_NJ                 129668 non-null  uint8  \n",
      " 36  state_NM                 129668 non-null  uint8  \n",
      " 37  state_NV                 129668 non-null  uint8  \n",
      " 38  state_NY                 129668 non-null  uint8  \n",
      " 39  state_OH                 129668 non-null  uint8  \n",
      " 40  state_OK                 129668 non-null  uint8  \n",
      " 41  state_OR                 129668 non-null  uint8  \n",
      " 42  state_PA                 129668 non-null  uint8  \n",
      " 43  state_RI                 129668 non-null  uint8  \n",
      " 44  state_SC                 129668 non-null  uint8  \n",
      " 45  state_SD                 129668 non-null  uint8  \n",
      " 46  state_TN                 129668 non-null  uint8  \n",
      " 47  state_TX                 129668 non-null  uint8  \n",
      " 48  state_UT                 129668 non-null  uint8  \n",
      " 49  state_VA                 129668 non-null  uint8  \n",
      " 50  state_VT                 129668 non-null  uint8  \n",
      " 51  state_WA                 129668 non-null  uint8  \n",
      " 52  state_WI                 129668 non-null  uint8  \n",
      " 53  state_WV                 129668 non-null  uint8  \n",
      " 54  state_WY                 129668 non-null  uint8  \n",
      " 55  gender_F                 129668 non-null  uint8  \n",
      " 56  gender_M                 129668 non-null  uint8  \n",
      " 57  category_entertainment   129668 non-null  uint8  \n",
      " 58  category_food_dining     129668 non-null  uint8  \n",
      " 59  category_gas_transport   129668 non-null  uint8  \n",
      " 60  category_grocery_net     129668 non-null  uint8  \n",
      " 61  category_grocery_pos     129668 non-null  uint8  \n",
      " 62  category_health_fitness  129668 non-null  uint8  \n",
      " 63  category_home            129668 non-null  uint8  \n",
      " 64  category_kids_pets       129668 non-null  uint8  \n",
      " 65  category_misc_net        129668 non-null  uint8  \n",
      " 66  category_misc_pos        129668 non-null  uint8  \n",
      " 67  category_personal_care   129668 non-null  uint8  \n",
      " 68  category_shopping_net    129668 non-null  uint8  \n",
      " 69  category_shopping_pos    129668 non-null  uint8  \n",
      " 70  category_travel          129668 non-null  uint8  \n",
      " 71  holder_merch_dist        129668 non-null  float64\n",
      " 72  cc_type_AMEX             129668 non-null  uint8  \n",
      " 73  cc_type_DinersClub       129668 non-null  uint8  \n",
      " 74  cc_type_Discover         129668 non-null  uint8  \n",
      " 75  cc_type_JCB              129668 non-null  uint8  \n",
      " 76  cc_type_Laser            129668 non-null  uint8  \n",
      " 77  cc_type_Maestro          129668 non-null  uint8  \n",
      " 78  cc_type_MasterCard       129668 non-null  uint8  \n",
      " 79  cc_type_VISA             129668 non-null  uint8  \n",
      " 80  cc_type_unknown          129668 non-null  uint8  \n",
      " 81  age_in_days              129668 non-null  int64  \n",
      " 82  trans_day                129668 non-null  int64  \n",
      " 83  trans_hour               129668 non-null  float64\n",
      "dtypes: float64(4), int64(4), uint8(76)\n",
      "memory usage: 18.3 MB\n"
     ]
    }
   ],
   "source": [
    "X_nf_sampled.info()"
   ]
  },
  {
   "cell_type": "code",
   "execution_count": 71,
   "metadata": {},
   "outputs": [
    {
     "name": "stdout",
     "output_type": "stream",
     "text": [
      "*********SVC*********\n",
      "*********DecisionTreeClassifier*********\n",
      "*********RandomForestClassifier*********\n",
      "*********XGBClassifier*********\n"
     ]
    },
    {
     "data": {
      "text/html": [
       "<div>\n",
       "<style scoped>\n",
       "    .dataframe tbody tr th:only-of-type {\n",
       "        vertical-align: middle;\n",
       "    }\n",
       "\n",
       "    .dataframe tbody tr th {\n",
       "        vertical-align: top;\n",
       "    }\n",
       "\n",
       "    .dataframe thead th {\n",
       "        text-align: right;\n",
       "    }\n",
       "</style>\n",
       "<table border=\"1\" class=\"dataframe\">\n",
       "  <thead>\n",
       "    <tr style=\"text-align: right;\">\n",
       "      <th></th>\n",
       "      <th>f1</th>\n",
       "      <th>roc_auc</th>\n",
       "      <th>average_precision</th>\n",
       "    </tr>\n",
       "  </thead>\n",
       "  <tbody>\n",
       "    <tr>\n",
       "      <th>SVC__nf_sampled</th>\n",
       "      <td>0.000000</td>\n",
       "      <td>0.497676</td>\n",
       "      <td>0.007449</td>\n",
       "    </tr>\n",
       "    <tr>\n",
       "      <th>DecisionTreeClassifier__nf_sampled</th>\n",
       "      <td>0.751717</td>\n",
       "      <td>0.878229</td>\n",
       "      <td>0.568996</td>\n",
       "    </tr>\n",
       "    <tr>\n",
       "      <th>RandomForestClassifier__nf_sampled</th>\n",
       "      <td>0.728947</td>\n",
       "      <td>0.969707</td>\n",
       "      <td>0.852163</td>\n",
       "    </tr>\n",
       "    <tr>\n",
       "      <th>XGBClassifier__nf_sampled</th>\n",
       "      <td>0.849299</td>\n",
       "      <td>0.995564</td>\n",
       "      <td>0.907375</td>\n",
       "    </tr>\n",
       "  </tbody>\n",
       "</table>\n",
       "</div>"
      ],
      "text/plain": [
       "                                          f1   roc_auc  average_precision\n",
       "SVC__nf_sampled                     0.000000  0.497676           0.007449\n",
       "DecisionTreeClassifier__nf_sampled  0.751717  0.878229           0.568996\n",
       "RandomForestClassifier__nf_sampled  0.728947  0.969707           0.852163\n",
       "XGBClassifier__nf_sampled           0.849299  0.995564           0.907375"
      ]
     },
     "execution_count": 71,
     "metadata": {},
     "output_type": "execute_result"
    }
   ],
   "source": [
    "rand_sample_scores_df = pd.DataFrame(dtype=float)    \n",
    "\n",
    "for regressor in classifiers:\n",
    "    name = regressor.__name__\n",
    "    print('*********' + name + '*********')\n",
    "    full_scores = cross_validate(\n",
    "        regressor(),\n",
    "        X_nf_sampled, \n",
    "        Y_nf_sampled, \n",
    "        cv=10,\n",
    "        scoring=('roc_auc', 'average_precision', 'f1'),\n",
    "        n_jobs = -1\n",
    "    )\n",
    "    add_score(rand_sample_scores_df, full_scores, regressor.__name__, \"_nf_sampled\")\n",
    "\n",
    "rand_sample_scores_df"
   ]
  },
  {
   "cell_type": "markdown",
   "metadata": {},
   "source": [
    "## Next steps:\n",
    "- create functions\n",
    "- dummies - > fit (simple manipulation)\n",
    "- input: regressor, data, lable, output dataframe (by ref)\n",
    "- feature engineering\n",
    "- get sample\n",
    "- get lable and drop\n",
    "- plot features with label\n",
    "\n"
   ]
  },
  {
   "cell_type": "code",
   "execution_count": null,
   "metadata": {},
   "outputs": [],
   "source": [
    "f, ax1 = plt.subplots(1, 1, figsize=(24,20))\n",
    "\n",
    "sns.heatmap(X_train.corr(), cmap='coolwarm_r', annot_kws={'size':10},annot=True, ax=ax1)\n",
    "ax1.set_title(\"Correlation Matrix)\", fontsize=14)\n",
    "\n",
    "plt.show()"
   ]
  },
  {
   "cell_type": "code",
   "execution_count": null,
   "metadata": {},
   "outputs": [],
   "source": [
    "print(\"Looking on categorical data and try to identify which can be transformed to numeric categorical\")\n",
    "# print(\"trans_date_trans_time\", X_test['trans_date_trans_time'].nunique()) # too much, we need to modify it\n",
    "print(\"merchant\", X_test['merchant'].nunique())\n",
    "print(\"category\", X_test['category'].nunique())\n",
    "print(\"gender\", X_test['gender'].nunique())\n",
    "print(\"city\", X_test['city'].nunique())\n",
    "print(\"state\", X_test['state'].nunique())\n",
    "print(\"job\", X_test['job'].nunique())\n",
    "print(\"dob\", X_test['dob'].nunique())\n",
    "\n",
    "X_train.gender = X_train.gender.astype('category').cat.codes\n",
    "X_test.gender = X_test.gender.astype('category').cat.codes\n",
    "\n",
    "X_train.job = X_train.job.astype('category').cat.codes\n",
    "X_test.job = X_test.job.astype('category').cat.codes\n",
    "\n",
    "X_train.category = X_train.category.astype('category').cat.codes\n",
    "X_test.category = X_test.category.astype('category').cat.codes\n",
    "\n",
    "X_train.merchant = X_train.merchant.astype('category').cat.codes\n",
    "X_test.merchant = X_test.merchant.astype('category').cat.codes\n",
    "\n",
    "X_train.merchant = X_train.merchant.astype('category').cat.codes\n",
    "X_test.merchant = X_test.merchant.astype('category').cat.codes\n",
    "\n",
    "X_train.dob = X_train.dob.astype('category').cat.codes\n",
    "X_test.dob = X_test.dob.astype('category').cat.codes"
   ]
  },
  {
   "cell_type": "code",
   "execution_count": null,
   "metadata": {},
   "outputs": [],
   "source": [
    "X_train = convert_cc_to_cc_type_and_drop(X_train)\n",
    "X_test = convert_cc_to_cc_type_and_drop(X_test)\n",
    "\n",
    "X_train.cc_type = X_train.cc_type.astype('category').cat.codes\n",
    "X_test.cc_type = X_test.cc_type.astype('category').cat.codes"
   ]
  },
  {
   "cell_type": "code",
   "execution_count": null,
   "metadata": {},
   "outputs": [],
   "source": [
    "X_train = unite_state_city(X_train)\n",
    "X_test = unite_state_city(X_test)\n",
    "\n",
    "X_train.city = X_train.city.astype('category').cat.codes\n",
    "X_test.city = X_test.city.astype('category').cat.codes\n",
    "\n",
    "X_train.state = X_train.state.astype('category').cat.codes\n",
    "X_test.state = X_test.state.astype('category').cat.codes"
   ]
  },
  {
   "cell_type": "code",
   "execution_count": null,
   "metadata": {},
   "outputs": [],
   "source": [
    "X_train.info()\n",
    "print(\"-\" * 100)\n",
    "X_test.info()"
   ]
  },
  {
   "cell_type": "code",
   "execution_count": null,
   "metadata": {},
   "outputs": [],
   "source": []
  },
  {
   "cell_type": "code",
   "execution_count": null,
   "metadata": {},
   "outputs": [],
   "source": []
  },
  {
   "cell_type": "code",
   "execution_count": null,
   "metadata": {},
   "outputs": [],
   "source": []
  },
  {
   "cell_type": "code",
   "execution_count": null,
   "metadata": {},
   "outputs": [],
   "source": []
  },
  {
   "cell_type": "code",
   "execution_count": null,
   "metadata": {},
   "outputs": [],
   "source": [
    "\n",
    "from sklearn.linear_model import LogisticRegression, \n",
    "\n",
    "# del X_train['is_fraud']\n",
    "scores = cross_validate(LogisticRegression(),\n",
    "                        X_train, Y_train, cv=10,\n",
    "                        scoring=('roc_auc', 'average_precision'))\n",
    "scores['test_roc_auc'].mean(), scores['test_average_precision'].mean()"
   ]
  },
  {
   "cell_type": "code",
   "execution_count": null,
   "metadata": {},
   "outputs": [],
   "source": [
    "scores = cross_validate(RandomForestClassifier(n_estimators=100,\n",
    "                                               class_weight='balanced'),\n",
    "                        X_train, Y_train, cv=10,\n",
    "                        scoring=('roc_auc', 'average_precision'))\n",
    "scores['test_roc_auc'].mean(), scores['test_average_precision'].mean()"
   ]
  },
  {
   "cell_type": "code",
   "execution_count": null,
   "metadata": {},
   "outputs": [],
   "source": [
    "from sklearn.model_selection import train_test_split\n",
    "from sklearn.neighbors import KNeighborsClassifier\n",
    "from sklearn.naive_bayes import BernoulliNB\n",
    "from sklearn.metrics import classification_report\n",
    "\n",
    "# K-Nearest Neighbors is usually where the introduction class leaves off\n",
    "# X_train, X_test, y_train, y_test = train_test_split(X, y)\n",
    "knn = KNeighborsClassifier()\n",
    "knn.fit(X_train, Y_train)\n",
    "nb = BernoulliNB()\n",
    "nb.fit(X_train, Y_train)\n",
    "\n",
    "print(\"KNN\")\n",
    "print(classification_report(knn.predict(X_test), y_test))\n",
    "print(\"Naive Bayesian\")\n",
    "print(classification_report(nb.predict(X_test), y_test))"
   ]
  },
  {
   "cell_type": "code",
   "execution_count": null,
   "metadata": {},
   "outputs": [],
   "source": []
  },
  {
   "cell_type": "code",
   "execution_count": null,
   "metadata": {},
   "outputs": [],
   "source": []
  },
  {
   "cell_type": "code",
   "execution_count": null,
   "metadata": {},
   "outputs": [],
   "source": []
  },
  {
   "cell_type": "code",
   "execution_count": null,
   "metadata": {},
   "outputs": [],
   "source": []
  },
  {
   "cell_type": "code",
   "execution_count": null,
   "metadata": {},
   "outputs": [],
   "source": []
  },
  {
   "cell_type": "code",
   "execution_count": null,
   "metadata": {},
   "outputs": [],
   "source": []
  },
  {
   "cell_type": "code",
   "execution_count": null,
   "metadata": {},
   "outputs": [],
   "source": [
    "data = drop_columns(read_data(\"fraudTrain.csv\"), [\"Unnamed: 0\"])\n",
    "df = data\n",
    "# data = convert_cc_to_cc_type_and_drop(data)\n",
    "# data = convert_dob_to_age_and_drop(data)\n",
    "# data = unite_state_city(data)"
   ]
  },
  {
   "cell_type": "code",
   "execution_count": null,
   "metadata": {},
   "outputs": [],
   "source": [
    "fraud = data[data['is_fraud']==1]\n",
    "normal = data[data['is_fraud']==0]"
   ]
  },
  {
   "cell_type": "code",
   "execution_count": null,
   "metadata": {},
   "outputs": [],
   "source": [
    "data = convert_and_scale(data)"
   ]
  },
  {
   "cell_type": "code",
   "execution_count": null,
   "metadata": {},
   "outputs": [],
   "source": [
    "data"
   ]
  },
  {
   "cell_type": "code",
   "execution_count": null,
   "metadata": {},
   "outputs": [],
   "source": []
  },
  {
   "cell_type": "code",
   "execution_count": null,
   "metadata": {},
   "outputs": [],
   "source": [
    "fig, ax = plt.subplots(1, 2, figsize=(18,4))\n",
    "\n",
    "amount_val = data['scaled_amount'].values\n",
    "time_val = data['trans_hour'].values\n",
    "\n",
    "sns.distplot(amount_val, ax=ax[0], color='r')\n",
    "ax[0].set_title('Distribution of Transaction Amount', fontsize=14)\n",
    "ax[0].set_xlim([min(amount_val), max(amount_val)])\n",
    "\n",
    "sns.distplot(time_val, ax=ax[1], color='b')\n",
    "ax[1].set_title('Distribution of Transaction Time', fontsize=14)\n",
    "ax[1].set_xlim([min(time_val), max(time_val)])\n",
    "\n",
    "\n",
    "\n",
    "plt.show()"
   ]
  },
  {
   "cell_type": "code",
   "execution_count": null,
   "metadata": {},
   "outputs": [],
   "source": [
    "### create balanced data set ###\n",
    "\n",
    "df = data.sample(frac=1) #shuffled data (entire set)\n",
    "\n",
    "fraud_df = df.loc[df['is_fraud'] == 1]\n",
    "non_fraud_df = df.loc[df['is_fraud'] == 0][:AMOUNT_OF_FRAUD]\n",
    "\n",
    "normal_distributed_df = pd.concat([fraud_df, non_fraud_df])\n",
    "\n",
    "# Shuffle dataframe rows\n",
    "new_df = normal_distributed_df.sample(frac=1, random_state=42)\n",
    "\n",
    "#new_df.head()\n",
    "new_df"
   ]
  },
  {
   "cell_type": "code",
   "execution_count": null,
   "metadata": {},
   "outputs": [],
   "source": [
    "print('Distribution of the fraud in the subsample dataset')\n",
    "print(new_df['is_fraud'].value_counts()/len(new_df))\n",
    "\n",
    "\n",
    "\n",
    "sns.countplot('is_fraud', data=new_df, palette=colors)\n",
    "plt.title('Equally Distributed Classes', fontsize=14)\n",
    "plt.show()"
   ]
  },
  {
   "cell_type": "code",
   "execution_count": null,
   "metadata": {},
   "outputs": [],
   "source": [
    "df.shape\n",
    "new_df.shape"
   ]
  },
  {
   "cell_type": "code",
   "execution_count": null,
   "metadata": {},
   "outputs": [],
   "source": [
    "f, (ax1, ax2) = plt.subplots(2, 1, figsize=(24,20))\n",
    "\n",
    "# Entire DataFrame\n",
    "corr = df.corr()\n",
    "sns.heatmap(corr, cmap='coolwarm_r', annot_kws={'size':10},annot=True, ax=ax1)\n",
    "ax1.set_title(\"Imbalanced Correlation Matrix \\n (don't use for reference)\", fontsize=14)\n",
    "\n",
    "\n",
    "sub_sample_corr = new_df.corr()\n",
    "sns.heatmap(sub_sample_corr, cmap='coolwarm_r',  annot_kws={'size':10},annot=True, ax=ax2)\n",
    "ax2.set_title('SubSample Correlation Matrix \\n (use for reference)', fontsize=14)\n",
    "plt.show()"
   ]
  },
  {
   "cell_type": "code",
   "execution_count": null,
   "metadata": {},
   "outputs": [],
   "source": [
    "columns_to_drop = ['gender','city','state','cc_type','age_in_days','merchant','amt','unix_time','trans_date_trans_time','first','last','street','trans_num','job','age','city_pop','zip','lat','long', 'merch_lat','merch_long']"
   ]
  },
  {
   "cell_type": "code",
   "execution_count": null,
   "metadata": {},
   "outputs": [],
   "source": [
    "new_df = drop_columns(new_df,columns_to_drop)\n",
    "new_df"
   ]
  },
  {
   "cell_type": "code",
   "execution_count": null,
   "metadata": {},
   "outputs": [],
   "source": [
    "classifiers = {\n",
    "    \"LogisiticRegression\": LogisticRegression(),\n",
    "    \"KNearest\": KNeighborsClassifier(),\n",
    "    \"Support Vector Classifier\": SVC(),\n",
    "    \"DecisionTreeClassifier\": DecisionTreeClassifier(),\n",
    "    \"RandomForest\" : RandomForestClassifier()\n",
    "}"
   ]
  },
  {
   "cell_type": "code",
   "execution_count": null,
   "metadata": {},
   "outputs": [],
   "source": [
    "new_df"
   ]
  },
  {
   "cell_type": "code",
   "execution_count": null,
   "metadata": {},
   "outputs": [],
   "source": [
    "label = new_df['is_fraud'].values\n",
    "converted_df_no_label = new_df.drop('is_fraud',axis=1).values\n",
    "converted_df_no_label"
   ]
  },
  {
   "cell_type": "code",
   "execution_count": null,
   "metadata": {},
   "outputs": [],
   "source": [
    "for key, classifier in classifiers.items():\n",
    "    classifier.fit(converted_df_no_label, label)\n",
    "    training_score = cross_val_score(classifier, converted_df_no_label, label, cv=5, scoring=\"f1\")\n",
    "    print(\"Classifiers: \", classifier.__class__.__name__, \"Has a training score of\", round(training_score.mean(), 2) * 100, \"% accuracy score\")"
   ]
  },
  {
   "cell_type": "code",
   "execution_count": null,
   "metadata": {},
   "outputs": [],
   "source": [
    "# Logistic Regression \n",
    "log_reg_params = {\"penalty\": ['l1', 'l2'], 'C': [0.001, 0.01, 0.1, 1, 10, 100, 1000]}\n",
    "\n",
    "\n",
    "grid_log_reg = GridSearchCV(LogisticRegression(), log_reg_params)\n",
    "grid_log_reg.fit(converted_df_no_label, label)\n",
    "# We automatically get the logistic regression with the best parameters.\n",
    "log_reg = grid_log_reg.best_estimator_\n",
    "\n",
    "print(\"log reg: best params\",grid_log_reg.best_params_)\n",
    "knears_params = {\"n_neighbors\": list(range(2,5,1)), 'algorithm': ['auto', 'ball_tree', 'kd_tree', 'brute']}\n",
    "\n",
    "grid_knears = GridSearchCV(KNeighborsClassifier(), knears_params)\n",
    "grid_knears.fit(converted_df_no_label, label)\n",
    "# KNears best estimator\n",
    "knears_neighbors = grid_knears.best_estimator_\n",
    "print(\"grid_knears: best params\",grid_knears.best_params_)\n",
    "\n",
    "# Support Vector Classifier\n",
    "svc_params = {'C': [0.5, 0.7, 0.9, 1]} #,  'gamma': [1e-3, 1e-4]}\n",
    "#               'kernel': ['rbf', 'poly', 'sigmoid', 'linear']}\n",
    "grid_svc = GridSearchCV(SVC(), svc_params)\n",
    "grid_svc.fit(converted_df_no_label, label)\n",
    "\n",
    "# SVC best estimator\n",
    "svc = grid_svc.best_estimator_\n",
    "print(\"svc: best params\",grid_svc.best_params_)\n",
    "\n",
    "# DecisionTree Classifier\n",
    "tree_params = {\"criterion\": [\"gini\", \"entropy\"], \"max_depth\": list(range(2,4,1)), \n",
    "              \"min_samples_leaf\": list(range(5,7,1))}\n",
    "grid_tree = GridSearchCV(DecisionTreeClassifier(), tree_params)\n",
    "grid_tree.fit(converted_df_no_label, label)\n",
    "\n",
    "# tree best estimator\n",
    "tree_clf = grid_tree.best_estimator_\n",
    "print(\"tree: best params\",grid_tree.best_params_)\n",
    "\n",
    "# RandomForest\n",
    "forest_params = {\"criterion\": [\"gini\", \"entropy\"]}   #\"max_depth\": [list(range(2,4,1)), \n",
    "             # \"min_samples_leaf\": list(range(5,7,1))}\n",
    "grid_forest = GridSearchCV(RandomForestClassifier(), forest_params)\n",
    "grid_forest.fit(converted_df_no_label, label)\n",
    "\n",
    "# tree best estimator\n",
    "forest_clf = grid_forest.best_estimator_\n",
    "print(\"forest: best params\",grid_forest.best_params_)\n"
   ]
  },
  {
   "cell_type": "code",
   "execution_count": null,
   "metadata": {},
   "outputs": [],
   "source": [
    "### f1 score ###\n",
    "log_reg_score = cross_val_score(log_reg, converted_df_no_label, label, cv=5, scoring=\"f1\")\n",
    "print('Logistic Regression Cross Validation f1 Score: ', round(log_reg_score.mean() * 100, 2).astype(str) + '%')\n",
    "\n",
    "knears_score = cross_val_score(knears_neighbors, converted_df_no_label, label, cv=5, scoring=\"f1\")\n",
    "print('Knears Neighbors Cross Validation f1 Score', round(knears_score.mean() * 100, 2).astype(str) + '%')\n",
    "\n",
    "svc_score = cross_val_score(svc, converted_df_no_label, label, cv=5, scoring=\"f1\")\n",
    "print('Support Vector Classifier Cross Validation f1 Score', round(svc_score.mean() * 100, 2).astype(str) + '%')\n",
    "\n",
    "tree_score = cross_val_score(tree_clf, converted_df_no_label, label, cv=5, scoring=\"f1\")\n",
    "print('DecisionTree Classifier Cross Validation f1 Score', round(tree_score.mean() * 100, 2).astype(str) + '%')\n",
    "\n",
    "forest_score = cross_val_score(forest_clf, converted_df_no_label, label, cv=5,scoring=\"f1\")\n",
    "print('RandomForest Classifier Cross Validation f1 Score', round(forest_score.mean() * 100, 2).astype(str) + '%')\n",
    "\n"
   ]
  },
  {
   "cell_type": "code",
   "execution_count": null,
   "metadata": {},
   "outputs": [],
   "source": [
    "test_df =  drop_columns(read_data(\"fraudTest.csv\"), [\"Unnamed: 0\"])"
   ]
  },
  {
   "cell_type": "code",
   "execution_count": null,
   "metadata": {},
   "outputs": [],
   "source": [
    "test_df.describe()\n",
    "y_test = test_df['is_fraud']"
   ]
  },
  {
   "cell_type": "code",
   "execution_count": null,
   "metadata": {},
   "outputs": [],
   "source": [
    "test_df = convert_and_scale(test_df)"
   ]
  },
  {
   "cell_type": "code",
   "execution_count": null,
   "metadata": {},
   "outputs": [],
   "source": [
    "test_df= drop_columns(test_df,columns_to_drop)\n",
    "test_df"
   ]
  },
  {
   "cell_type": "code",
   "execution_count": null,
   "metadata": {},
   "outputs": [],
   "source": [
    "test_df = drop_columns(test_df,['is_fraud'])\n",
    "\n",
    "forest_clf.fit(converted_df_no_label, label)\n",
    "predictions = forest_clf.predict(test_df)\n",
    "print(classification_report(y_test, predictions, target_names=['Normal','Is Fraud']))"
   ]
  },
  {
   "cell_type": "code",
   "execution_count": null,
   "metadata": {},
   "outputs": [],
   "source": [
    "print(confusion_matrix(y_test, predictions))\n",
    "print(f\"accuracy is {model.score(test_df, y_test)}\")\n",
    "plot_confusion_matrix(model, test_df, y_test, cmap='gray_r',normalize='true')"
   ]
  },
  {
   "cell_type": "code",
   "execution_count": null,
   "metadata": {},
   "outputs": [],
   "source": [
    "pd.concat([fraud.amt.describe(), normal.amt.describe()], keys=[\"fraud_amt\", \"non_fraud_amt\"], axis=1)"
   ]
  },
  {
   "cell_type": "code",
   "execution_count": null,
   "metadata": {},
   "outputs": [],
   "source": [
    "### plot all the features via seaborn ### \n",
    "percent = 0.01\n",
    "columns_to_drop = ['trans_date_trans_time','state','zip','lat','long','first','last','street','trans_num','unix_time']\n",
    "partial_data = get_partial_data(data,percent)\n",
    "partial_data = drop_columns(partial_data,columns_to_drop)\n",
    "partial_data"
   ]
  },
  {
   "cell_type": "code",
   "execution_count": null,
   "metadata": {},
   "outputs": [],
   "source": [
    "sns.pairplot(partial_data, hue='is_fraud') "
   ]
  },
  {
   "cell_type": "code",
   "execution_count": null,
   "metadata": {},
   "outputs": [],
   "source": [
    "##### atm #####\n",
    "plt.figure(figsize=(30, 10))\n",
    "\n",
    "print()\n",
    "plt.subplot(2, 1, 1)\n",
    "subfraud = fraud #[fraud.amt<500]\n",
    "subfraud.amt.hist(bins=400,weights=np.ones(len(subfraud.amt)) / len(subfraud.amt))\n",
    "plt.title(\"Fraudulant Transaction Amount Distribution\")\n",
    "plt.legend()\n",
    "# plt.xlim([-10,400])\n",
    "# plt.ylim([0,0.1])\n",
    "\n",
    "plt.subplot(2, 1, 2)\n",
    "subnormal = normal #[normal.amt<400]\n",
    "subnormal.amt.hist(bins=500, weights=np.ones(len(subnormal.amt)) / len(subnormal.amt))\n",
    "plt.title(\"Normal Transaction Amount Distribution\")\n",
    "plt.legend()\n",
    "# plt.xlim([-10,400])\n",
    "# plt.ylim([0,0.1])"
   ]
  },
  {
   "cell_type": "markdown",
   "metadata": {},
   "source": [
    "## Conclusion\n",
    "We can see that transaction's amount is a good feature for fraud transaction recognition"
   ]
  },
  {
   "cell_type": "code",
   "execution_count": null,
   "metadata": {},
   "outputs": [],
   "source": [
    "### atm via seaborn ###\n",
    "plt.figure(figsize=(7,5))\n",
    "sns.set_style('whitegrid')\n",
    "sns.catplot(x='is_fraud',y='amt', hue='is_fraud',data=data)"
   ]
  },
  {
   "cell_type": "code",
   "execution_count": null,
   "metadata": {},
   "outputs": [],
   "source": [
    "##### time #####\n",
    "\n",
    "plt.figure(figsize=(20, 10))\n",
    "\n",
    "plt.subplot(2, 1, 1)\n",
    "fraud_24time = fraud.copy()\n",
    "fraud_24time.unix_time = fraud_24time.unix_time % 86400 #(86400s per 24h)\n",
    "fraud_24time.unix_time /= (86400/24)\n",
    "fraud_24time.unix_time.hist(bins=50,label=\"Fraudulant Transaction\",weights=np.ones(len(fraud_24time)) / len(fraud_24time))\n",
    "plt.xlim([0,24])\n",
    "plt.ylim([0,0.15])\n",
    "plt.xlabel(\"\")\n",
    "plt.legend()\n",
    "\n",
    "plt.subplot(2, 1, 2)\n",
    "normal_24time = normal.copy()\n",
    "normal_24time.unix_time  = normal_24time.unix_time  % 86400 #(86400s per 24h)\n",
    "normal_24time.unix_time  /= (86400/24)\n",
    "normal_24time.unix_time .hist(bins=50,label=\"Non Fraudulant Transaction\",weights=np.ones(len(normal_24time)) / len(normal_24time))\n",
    "plt.xlim([0,24])\n",
    "plt.ylim([0,0.15])\n",
    "plt.legend()"
   ]
  },
  {
   "cell_type": "markdown",
   "metadata": {},
   "source": [
    "## Conclusion\n",
    "We can see that transaction's time is a good feature for fraud transaction recognition"
   ]
  },
  {
   "cell_type": "code",
   "execution_count": null,
   "metadata": {
    "scrolled": true
   },
   "outputs": [],
   "source": [
    "##### category #####\n",
    "category_df = pd.concat([fraud.category.value_counts()/len(fraud.index), normal.category.value_counts()/len(normal.index)], keys=[\"fraud_category\", \"non_fraud_category\"], axis=1)\n",
    "fig, axes = plt.subplots(1, 1, figsize=(20,10))\n",
    "\n",
    "category_df.plot(kind='bar',ax=axes)"
   ]
  },
  {
   "cell_type": "markdown",
   "metadata": {},
   "source": [
    "## Conclusion\n",
    "We can see that transaction category is a good feature for fraud recognition"
   ]
  },
  {
   "cell_type": "code",
   "execution_count": null,
   "metadata": {},
   "outputs": [],
   "source": [
    "##### city #####\n",
    "np.set_printoptions(suppress=True)\n",
    "dropped = data.drop_duplicates([\"city\"], inplace=False)\n",
    "total_pupulation = dropped.city_pop.sum()\n",
    "\n",
    "dropped.city_pop = dropped.city_pop / total_pupulation\n",
    "dropped.index  = dropped.city\n",
    "dropped\n",
    "\n",
    "city_df = pd.concat(\n",
    "    [\n",
    "        fraud.city.value_counts()/len(fraud.index), \n",
    "        normal.city.value_counts()/len(normal.index),\n",
    "        # dropped.city_pop\n",
    "    ], \n",
    "    # keys=[\"fraud\", \"normal\", \"normalized_pop\"], \n",
    "    keys=[\"fraud\", \"normal\"], \n",
    "    axis=1)\n",
    "\n",
    "city_df\n",
    "\n",
    "# /total_pupulation\n",
    "# dropped.city_pop.value_counts()\n",
    "\n",
    "# grouped = data.groupby('city')\n",
    "# data.city.unique()\n",
    "# data.loc['city', data.city.unique()]\n",
    "\n",
    "# data.city_pop.sum()\n",
    "fig, axes = plt.subplots(1, 1, figsize=(20,10))\n",
    "city_df.plot(kind='bar',ax=axes)\n"
   ]
  },
  {
   "cell_type": "code",
   "execution_count": null,
   "metadata": {},
   "outputs": [],
   "source": [
    "fig, axes = plt.subplots(1, 1, figsize=(20,10))\n",
    "axes.set_title(\"50 cities with high fraud distribution\")\n",
    "city_df[:50].plot(kind='bar',ax=axes)\n"
   ]
  },
  {
   "cell_type": "code",
   "execution_count": null,
   "metadata": {},
   "outputs": [],
   "source": [
    "city_df.index[0]\n",
    "city_count = {}\n",
    "for i in range(50):\n",
    "    fraud_city = fraud[fraud['city']==city_df.index[i]]\n",
    "    lat_unique = fraud_city.lat.nunique()\n",
    "    long_unique = fraud_city.long.nunique()\n",
    "    city_count[city_df.index[i]]= lat_unique > 1  or long_unique > 1\n",
    "\n",
    "city_count"
   ]
  },
  {
   "cell_type": "markdown",
   "metadata": {},
   "source": [
    "## Conclusion\n",
    "We can see that location of card holder is not a good feature to recognize fraud."
   ]
  },
  {
   "cell_type": "code",
   "execution_count": null,
   "metadata": {},
   "outputs": [],
   "source": [
    "fig, axes = plt.subplots(5, 4, figsize=(20, 50))\n",
    "\n",
    "for i, ax in enumerate(axes.ravel()):\n",
    "    fraud_city =  fraud[fraud['city']==city_df.index[i]]\n",
    "    normal_city =  normal[normal['city']==city_df.index[i]]\n",
    "    ax.scatter(normal_city.merch_lat, normal_city.merch_long, label=\"Normal\", alpha=1,color='green')\n",
    "    ax.scatter(fraud_city.merch_lat, fraud_city.merch_long,label='Fraud', alpha=1, color='red',s=400)\n",
    "    ax.legend()\n",
    "    feature_name = city_df.index[i]\n",
    "    ax.set_title(\"{}\".format(feature_name), fontdict=title_font)\n",
    "    ax.grid()\n",
    "    \n",
    "plt.tight_layout()\n"
   ]
  },
  {
   "cell_type": "markdown",
   "metadata": {},
   "source": [
    "## Conclusion\n",
    "Above we plot the locations of merchant in the cities with the highest fraud density. As we can see, there is no pattern and merchan location is not a good feature to recognize the fraud. "
   ]
  },
  {
   "cell_type": "code",
   "execution_count": null,
   "metadata": {},
   "outputs": [],
   "source": [
    "### population ###\n",
    "\n",
    "plt.figure(figsize=(20, 10))\n",
    "plt.subplot(2, 1, 1)\n",
    "fraud.city_pop.hist(bins=50,label=\"Fraudulant City Population\",density=True,color='red')\n",
    "plt.legend()\n",
    "\n",
    "plt.subplot(2, 1, 2)\n",
    "normal.city_pop.hist(bins=50,label=\"Non Fraudulant City Population\",density=True,color='green')\n",
    "plt.legend()"
   ]
  },
  {
   "cell_type": "markdown",
   "metadata": {},
   "source": [
    "## Conclusion\n",
    "We can see that city population is not a good feature to distinguish between a fraud and normal transaction. "
   ]
  },
  {
   "cell_type": "code",
   "execution_count": null,
   "metadata": {},
   "outputs": [],
   "source": [
    "### zip code ### \n",
    "fraud.zip\n",
    "plt.figure(figsize=(20, 10))\n",
    "plt.subplot(2, 1, 1)\n",
    "fraud.zip.hist(bins=50,label=\"Fraudulant Zip\",density=True)\n",
    "plt.legend()\n",
    "\n",
    "plt.subplot(2, 1, 2)\n",
    "normal.zip.hist(bins=50,label=\"Non Fraudulant Transaction\",density=True)\n",
    "plt.legend()"
   ]
  },
  {
   "cell_type": "code",
   "execution_count": null,
   "metadata": {},
   "outputs": [],
   "source": [
    "!pip install category_encoders"
   ]
  },
  {
   "cell_type": "code",
   "execution_count": null,
   "metadata": {},
   "outputs": [],
   "source": [
    "from category_encoders import TargetEncoder\n",
    "orig_zip = data['zip']\n",
    "label = data['is_fraud']\n",
    "data_no_label = drop_columns(data,'is_fraud')\n",
    "te = TargetEncoder(cols='zip',return_df=True, drop_invariant = True).fit(data_no_label,label)\n",
    "transformed = te.transform(data_no_label)\n",
    "data['zip'] = transformed['zip'] # replace zip with fraud probability per zip"
   ]
  },
  {
   "cell_type": "code",
   "execution_count": null,
   "metadata": {},
   "outputs": [],
   "source": [
    "zip_db = pd.concat([orig_zip,transformed['zip'],label], axis=1, keys=['orig_zip', 'fraud_probability','label'])\n",
    "zip_faud_prob = pd.DataFrame(zip_db.groupby('orig_zip')['fraud_probability'].mean())\n",
    "zip_faud_prob.sort_values(by='fraud_probability',ascending = False, inplace = True)\n",
    "\n",
    "fig, axes = plt.subplots(1, 1, figsize=(20,10))\n",
    "axes.set_title(\"Fraud probability per zip-code\")\n",
    "zip_faud_prob.plot(kind='bar',ax=axes,logy=True,rot = 45)"
   ]
  },
  {
   "cell_type": "code",
   "execution_count": null,
   "metadata": {},
   "outputs": [],
   "source": [
    "fig, axes = plt.subplots(1, 1, figsize=(20,10))\n",
    "axes.set_title(\"Zipcodes with the highest Fraud probability\")\n",
    "zip_faud_prob[:50].plot(kind='bar',ax=axes,rot = 45)"
   ]
  },
  {
   "cell_type": "markdown",
   "metadata": {},
   "source": [
    "## Conclusion\n",
    "We can see that there are zipcodes with high probability of fraud, therefore zipcode is a good feature to distinguish between a fraud and normal transaction. "
   ]
  },
  {
   "cell_type": "code",
   "execution_count": null,
   "metadata": {},
   "outputs": [],
   "source": [
    "##### state #####\n",
    "state_df = pd.concat(\n",
    "    [\n",
    "        fraud.state.value_counts()/len(fraud.index), \n",
    "        normal.state.value_counts()/len(normal.index),\n",
    "    ], \n",
    "    keys=[\"fraud\", \"normal\"], \n",
    "    axis=1)\n"
   ]
  },
  {
   "cell_type": "code",
   "execution_count": null,
   "metadata": {},
   "outputs": [],
   "source": [
    "fig, axes = plt.subplots(1, 1, figsize=(20,10))\n",
    "axes.set_title(\"Distribution of card holders per state\")\n",
    "state_df.plot(kind='bar',ax=axes)"
   ]
  },
  {
   "cell_type": "code",
   "execution_count": null,
   "metadata": {},
   "outputs": [],
   "source": [
    "##### gender #####\n",
    "gender_df = pd.concat(\n",
    "    [\n",
    "        fraud.gender.value_counts()/len(fraud.index), \n",
    "        normal.gender.value_counts()/len(normal.index),\n",
    "    ], \n",
    "    keys=[\"fraud\", \"normal\"], \n",
    "    axis=1)\n",
    "\n",
    "fig, axes = plt.subplots(1, 1, figsize=(20,10))\n",
    "\n",
    "gender_df.plot(kind='bar',ax=axes)"
   ]
  },
  {
   "cell_type": "markdown",
   "metadata": {},
   "source": [
    "## Conclusion\n",
    "As we can see, gender is not significally vary between fraud and normal card holders."
   ]
  },
  {
   "cell_type": "code",
   "execution_count": null,
   "metadata": {},
   "outputs": [],
   "source": [
    "##### job #####\n",
    "job_db = pd.concat(\n",
    "    [\n",
    "        fraud.job.value_counts()/len(fraud.index), \n",
    "        normal.job.value_counts()/len(normal.index),\n",
    "    ], \n",
    "    keys=[\"fraud\", \"normal\"], \n",
    "    axis=1)\n",
    "\n",
    "fig, axes = plt.subplots(1, 1, figsize=(20,10))\n",
    "\n",
    "job_db.plot(kind='bar',ax=axes)"
   ]
  },
  {
   "cell_type": "markdown",
   "metadata": {},
   "source": [
    "## Conclusion\n",
    "We can see that job is a good feature for fraud recognition"
   ]
  },
  {
   "cell_type": "code",
   "execution_count": null,
   "metadata": {},
   "outputs": [],
   "source": [
    "def haversine_distance(lat1, lon1, lat2, lon2):\n",
    "    r = 6371\n",
    "    phi1 = np.radians(lat1)\n",
    "    phi2 = np.radians(lat2)\n",
    "    delta_phi = np.radians(lat2-lat1)\n",
    "    delta_lambda = np.radians(lon2-lon1)\n",
    "    a = np.sin(delta_phi / 2)**2 + np.cos(phi1) * np.cos(phi2) *   np.sin(delta_lambda / 2)**2\n",
    "    res = r * (2 * np.arctan2(np.sqrt(a), np.sqrt(1-a)))\n",
    "    return np.round(res, 2)\n",
    "\n",
    "def calculate_holder_merch_distance(df):\n",
    "    _df = df.copy()\n",
    "    dist_list = []\n",
    "    \n",
    "    for index, row in df.iterrows():\n",
    "        dist = haversine_distance(row['lat'],row['long'],row['merch_lat'],row['merch_long'])\n",
    "        dist_list.append(dist)\n",
    "    _df['holder_merch_dist'] = dist_list\n",
    "    return _df"
   ]
  },
  {
   "cell_type": "code",
   "execution_count": null,
   "metadata": {},
   "outputs": [],
   "source": [
    "### location ### \n",
    "\n",
    "fraud  = calculate_holder_merch_distance(fraud)\n",
    "normal = calculate_holder_merch_distance(normal)"
   ]
  },
  {
   "cell_type": "code",
   "execution_count": null,
   "metadata": {},
   "outputs": [],
   "source": [
    "plt.figure(figsize=(20, 10))\n",
    "\n",
    "plt.subplot(2, 1, 1)\n",
    "fraud.holder_merch_dist.hist(bins=50,label=\"Fraudulant Distance\",density=True)\n",
    "plt.legend()\n",
    "\n",
    "plt.subplot(2, 1, 2)\n",
    "normal.holder_merch_dist.hist(bins=50,label=\"Non Fraudulant Distance\",density=True)\n",
    "plt.legend()\n"
   ]
  },
  {
   "cell_type": "markdown",
   "metadata": {},
   "source": [
    "## Conclusion\n",
    "We can see that distance between card holder location and merchant location is not a good feature for fraud recognition"
   ]
  },
  {
   "cell_type": "code",
   "execution_count": null,
   "metadata": {},
   "outputs": [],
   "source": [
    "##### card type #####\n",
    "card_type_df = pd.concat([fraud.cc_type.value_counts()/len(fraud.index), normal.cc_type.value_counts()/len(normal.index)], keys=[\"fraud_category\", \"non_fraud_category\"], axis=1)\n",
    "fig, axes = plt.subplots(1, 1, figsize=(20,10))\n",
    "card_type_df.plot(kind='bar',ax=axes)"
   ]
  },
  {
   "cell_type": "code",
   "execution_count": null,
   "metadata": {},
   "outputs": [],
   "source": [
    "### avrg amount per card type ### \n",
    "fraud_avrg_card_amt = fraud.groupby('cc_type')['amt'].mean()\n",
    "normal_avrg_card_amt = normal.groupby('cc_type')['amt'].mean()\n",
    "amt_per_category = pd.concat([fraud_avrg_card_amt, normal_avrg_card_amt], keys=[\"fraud_category\", \"non_fraud_category\"], axis=1)\n",
    "fig, axes = plt.subplots(1, 1, figsize=(20,10))\n",
    "amt_per_category.plot(kind='bar',ax=axes)"
   ]
  },
  {
   "cell_type": "markdown",
   "metadata": {},
   "source": [
    "## Conclusion\n",
    "We can see that card type is not a good feature for fraud recognition"
   ]
  },
  {
   "cell_type": "code",
   "execution_count": null,
   "metadata": {},
   "outputs": [],
   "source": [
    "##### merchant #####\n",
    "merch_type_df = pd.concat([fraud.merchant.value_counts()/len(fraud.index), normal.merchant.value_counts()//len(normal.index)], keys=[\"fraud_category\", \"non_fraud_category\"], axis=1)\n",
    "fig, axes = plt.subplots(1, 1, figsize=(20,10))\n",
    "axes.set_title(\"Merchant\")\n",
    "merch_type_df.plot(kind='bar',ax=axes)"
   ]
  },
  {
   "cell_type": "code",
   "execution_count": null,
   "metadata": {},
   "outputs": [],
   "source": [
    "num = 20\n",
    "fig, axes = plt.subplots(1, 1, figsize=(20,10))\n",
    "axes.set_title(\"{} {} {}\".format(\"Top\", num, \"of fraud merchant\"))\n",
    "merch_type_df[:num].plot(kind='bar',ax=axes)"
   ]
  },
  {
   "cell_type": "markdown",
   "metadata": {},
   "source": [
    "## Conclusion \n",
    "We can see that there are merchants that has only fraud transactions. \n",
    "## TBD \n",
    "What we can conclude from this? Should we take into account specific merchant when we train the model? It's heavy feature - 693 unique categories. We have to OneHot it, means +693 columns "
   ]
  },
  {
   "cell_type": "code",
   "execution_count": null,
   "metadata": {},
   "outputs": [],
   "source": [
    "### dob ###\n",
    "plt.figure(figsize=(20, 10))\n",
    "\n",
    "plt.subplot(2, 1, 1)\n",
    "fraud.age_in_days.hist(bins=100,label=\"Fraudulant Age\",density=True)\n",
    "plt.legend()\n",
    "\n",
    "plt.subplot(2, 1, 2)\n",
    "normal.age_in_days.hist(bins=100,label=\"Non Fraudulant Age\",density=True)\n",
    "plt.legend()\n",
    "\n"
   ]
  },
  {
   "cell_type": "markdown",
   "metadata": {},
   "source": [
    "## Conclusion\n",
    "We can see that age is not a good feature for fraud recognition"
   ]
  },
  {
   "cell_type": "code",
   "execution_count": null,
   "metadata": {},
   "outputs": [],
   "source": [
    "### average amt per category ### \n",
    "fraud_avrg_amt = fraud.groupby('category')['amt'].mean()\n",
    "normal_avrg_amt = normal.groupby('category')['amt'].mean()\n",
    "amt_per_category = pd.concat([fraud_avrg_amt, normal_avrg_amt], keys=[\"fraud_category\", \"non_fraud_category\"], axis=1)\n",
    "fig, axes = plt.subplots(1, 1, figsize=(20,10))\n",
    "amt_per_category.plot(kind='bar',ax=axes)"
   ]
  },
  {
   "cell_type": "markdown",
   "metadata": {},
   "source": [
    "## Conclusion\n",
    "We can see that there is significant difference between average amount of transactions made in each category between fraud and normal card holder. Also we can see that the most fraud transaction are made in the Internet."
   ]
  },
  {
   "cell_type": "code",
   "execution_count": null,
   "metadata": {},
   "outputs": [],
   "source": [
    "plt.subplots(figsize = (14,12))\n",
    "plt.title('Correlation of Numeric Features',y=1,size=16)\n",
    "sns.heatmap(data.corr(),square = True,  vmax=0.8)"
   ]
  },
  {
   "cell_type": "code",
   "execution_count": null,
   "metadata": {},
   "outputs": [],
   "source": [
    "plt.figure(figsize=(30, 10))\n",
    "\n",
    "print()\n",
    "plt.subplot(2, 1, 1)\n",
    "subfraud = fraud[fraud.amt<500]\n",
    "subfraud.amt.hist(bins=400,weights=np.ones(len(subfraud.amt)) / len(subfraud.amt))\n",
    "plt.title(\"Fraudulant Transaction Amount Distribution\")\n",
    "plt.legend()\n",
    "plt.xlim([-10,400])\n",
    "plt.ylim([0,0.1])\n",
    "\n",
    "plt.subplot(2, 1, 2)\n",
    "subnormal = normal[normal.amt<400]\n",
    "subnormal.amt.hist(bins=500, weights=np.ones(len(subnormal.amt)) / len(subnormal.amt))\n",
    "plt.title(\"Normal Transaction Amount Distribution\")\n",
    "plt.legend()\n",
    "plt.xlim([-10,400])\n",
    "plt.ylim([0,0.1])"
   ]
  },
  {
   "cell_type": "code",
   "execution_count": null,
   "metadata": {},
   "outputs": [],
   "source": [
    "df_test = read_test_data()\n",
    "df_test = convert_to_categorical_trans_date_and_drop(df_test)\n",
    "# get_categorical_features(df_test).columns\n",
    "\n",
    "df_test.amt.describe()"
   ]
  },
  {
   "cell_type": "code",
   "execution_count": null,
   "metadata": {
    "scrolled": true
   },
   "outputs": [],
   "source": [
    "fig, axes = plt.subplots(11, 1, figsize=(20, 70))\n",
    "continuous_features = get_continuous_features(df_test)\n",
    "\n",
    "for i, ax in enumerate(axes.ravel()):\n",
    "    feature_name = continuous_features.columns[i]\n",
    "    feature_human_readable_name = features_description.get(feature_name, \"===NONE===\")\n",
    "    y = continuous_features[feature_name].value_counts().sort_index()\n",
    "    ax.set_title(\"{} / \\n {}\".format(feature_name, feature_human_readable_name), fontdict=title_font)\n",
    "    ax.set_ylabel(\"Counts\", fontdict=labels_font)\n",
    "    ax.plot(y)\n",
    "    ax.grid()\n",
    "plt.tight_layout()"
   ]
  },
  {
   "cell_type": "code",
   "execution_count": null,
   "metadata": {
    "scrolled": false
   },
   "outputs": [],
   "source": [
    "fig, axes = plt.subplots(4, 3, figsize=(20, 70))\n",
    "x = df_test.is_fraud\n",
    "\n",
    "for i, ax in enumerate(axes.ravel()):\n",
    "    X_col = continuous_features.iloc[:, i]\n",
    "#     ax.set_xlim(0, 1)\n",
    "    ax.set_xlim(right=1)\n",
    "    if X_col.nunique() > 10:\n",
    "        ax.set_xlim(X_col.quantile(q=.0001), X_col.quantile(q=.9999))\n",
    "        \n",
    "    ax.scatter(x, X_col, alpha=.5)\n",
    "\n",
    "    feature_name = continuous_features.columns[i]\n",
    "    feature_human_readable_name = features_description.get(feature_name, \"===NONE===\")\n",
    "    ax.set_title(\"{} / \\n {}\".format(feature_name, feature_human_readable_name), fontdict=title_font)\n",
    "#     ax.set_ylabel(\"Price ($)\", fontdict=labels_font)\n",
    "    ax.grid()\n",
    "    \n",
    "plt.tight_layout()"
   ]
  },
  {
   "cell_type": "code",
   "execution_count": null,
   "metadata": {
    "scrolled": false
   },
   "outputs": [],
   "source": [
    "categorical_features = get_categorical_features(df_test)\n",
    "\n",
    "\n",
    "fig, axes = plt.subplots(3, 3, figsize=(30,60))\n",
    "for i, ax in enumerate(axes.ravel()):\n",
    "    if(i >= len(categorical_features.columns)):\n",
    "        break\n",
    "    categorical_features.iloc[:,i].value_counts().plot(kind='bar',ax=ax,rot=45)\n",
    "    ax.set_title(categorical_features.columns[i])"
   ]
  },
  {
   "cell_type": "markdown",
   "metadata": {},
   "source": [
    "## Task 2 Preprocessing and Baseline Model\n",
    "\n",
    "Create a simple minimum viable model by doing an initial selection of features, doing appropriate preprocessing and cross-validating a linear model. Feel free to generously exclude features or do simplified preprocessing for this task. As mentioned before, you don’t need to validate the model on the whole dataset"
   ]
  },
  {
   "cell_type": "code",
   "execution_count": null,
   "metadata": {},
   "outputs": [],
   "source": [
    "# pay attention: train data contains 1.300.000 samples\n",
    "percent = 0.2 # 20%\n",
    "partial_data = get_partial_data(data,percent)\n",
    "print (\"data size: {}\\npercent: {:.2f}\\npartial_data size {}\".format(len(data.index),percent,len(partial_data.index)))\n",
    "partial_data"
   ]
  },
  {
   "cell_type": "code",
   "execution_count": null,
   "metadata": {},
   "outputs": [],
   "source": [
    "colums_to_drop = ['cc_num','gender','first','last','street','trans_num','merch_lat','merch_long','dob','lat','long','city_pop','merchant','state','trans_date_trans_time','unix_time']\n",
    "partial_data= drop_columns(partial_data,colums_to_drop)\n",
    "partial_data"
   ]
  },
  {
   "cell_type": "code",
   "execution_count": null,
   "metadata": {},
   "outputs": [],
   "source": [
    "categorical = partial_data.dtypes == object\n",
    "ohe = ColumnTransformer([('encoder', OneHotEncoder(), categorical)], remainder='passthrough')\n",
    "transformed = pd.DataFrame.sparse.from_spmatrix(ohe.fit_transform(partial_data),columns=ohe.get_feature_names()) #TBD fix names of columns to human-readable\n",
    "transformed"
   ]
  },
  {
   "cell_type": "markdown",
   "metadata": {},
   "source": [
    "## Task 3 Feature Engineering\n",
    "Create derived features and perform more in-depth preprocessing and data cleaning. Does this improve your model? In particular, think about how to encode categorical variables."
   ]
  },
  {
   "cell_type": "markdown",
   "metadata": {},
   "source": [
    "## Task 4 Any model\n",
    "Use any classification model we discussed (trees, forests, boosting, SVM) to improve your result. You can (and probably should) change your preprocessing and feature engineering to be suitable for the model. You are not required to try all of these models. Tune parameters as appropriate"
   ]
  },
  {
   "cell_type": "markdown",
   "metadata": {},
   "source": [
    "## Task 5 Feature Selections\n",
    "Identify features that are important for your best model. Which features are most influential,and which features could be removed without decrease in performance? Does removing irrelevant features make your model better?"
   ]
  },
  {
   "cell_type": "markdown",
   "metadata": {},
   "source": [
    "## Task 6 An explainable model\n",
    "Can you create an “explainable” model that is nearly as good as your best model? An explainable model should be small enough to be easily inspected - say a linear model withfew enough coefficients that you can reasonable look at all of them, or a tree with a smallnumber of leafs etc."
   ]
  },
  {
   "cell_type": "code",
   "execution_count": null,
   "metadata": {},
   "outputs": [],
   "source": []
  }
 ],
 "metadata": {
  "kernelspec": {
   "display_name": "Python 3",
   "language": "python",
   "name": "python3"
  },
  "language_info": {
   "codemirror_mode": {
    "name": "ipython",
    "version": 3
   },
   "file_extension": ".py",
   "mimetype": "text/x-python",
   "name": "python",
   "nbconvert_exporter": "python",
   "pygments_lexer": "ipython3",
   "version": "3.8.5"
  },
  "toc": {
   "base_numbering": 1,
   "nav_menu": {},
   "number_sections": false,
   "sideBar": true,
   "skip_h1_title": false,
   "title_cell": "Table of Contents",
   "title_sidebar": "Contents",
   "toc_cell": false,
   "toc_position": {},
   "toc_section_display": true,
   "toc_window_display": true
  }
 },
 "nbformat": 4,
 "nbformat_minor": 4
}
