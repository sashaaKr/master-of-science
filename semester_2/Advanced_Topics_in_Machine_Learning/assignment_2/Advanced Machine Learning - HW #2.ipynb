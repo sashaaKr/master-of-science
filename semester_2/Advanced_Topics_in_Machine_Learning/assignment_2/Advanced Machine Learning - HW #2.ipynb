{
 "cells": [
  {
   "cell_type": "markdown",
   "metadata": {},
   "source": [
    "### Advanced Machine Learning\n",
    "\n",
    "# Home Exercise #2\n",
    "\n",
    "Assignment Due: 18/04/21 23:59\n",
    "\n",
    "Jonathan Schler"
   ]
  },
  {
   "cell_type": "code",
   "execution_count": 1,
   "metadata": {},
   "outputs": [],
   "source": [
    "student1Name=\"Alexander Kruglyak\"\n",
    "student1ID=\"323637736\"\n",
    "\n",
    "\n",
    "student2Name=\"Sofya Zubtsovsky\"\n",
    "student2ID=\"337839112\"\n"
   ]
  },
  {
   "cell_type": "markdown",
   "metadata": {},
   "source": [
    "The goal of this homework is to provide a realistic setting for a machine learning task. Therefore instructions will not specify the exact steps to carry out. Instead, it is part of theassignment to identify promising features, models and preprocessing methods and apply themas appropriate."
   ]
  },
  {
   "cell_type": "markdown",
   "metadata": {},
   "source": [
    "The overall goal is to predict whether a specific credit card transaction is fraudulent or not. Please use the data from this dataset provided on Kaggle here:https://www.kaggle.com/kartik2112/fraud-detection. The Kaggle page also contains a description of the dataset. You will use the train set for training the model and test set for validation."
   ]
  },
  {
   "cell_type": "markdown",
   "metadata": {},
   "source": [
    "You are free to manipulate the train dataset as you think is appropriate. You do not have to use the wholedataset, you can subsample if you want. While the modelling process is likely iterative, please lay out the  following tasks in the given order to facilitate grading."
   ]
  },
  {
   "cell_type": "code",
   "execution_count": 45,
   "metadata": {},
   "outputs": [
    {
     "name": "stdout",
     "output_type": "stream",
     "text": [
      "Requirement already satisfied: imblearn in /Users/alexanderkruglyak/opt/anaconda3/lib/python3.8/site-packages (0.0)\n",
      "Requirement already satisfied: imbalanced-learn in /Users/alexanderkruglyak/opt/anaconda3/lib/python3.8/site-packages (from imblearn) (0.8.0)\n",
      "Requirement already satisfied: scikit-learn>=0.24 in /Users/alexanderkruglyak/opt/anaconda3/lib/python3.8/site-packages (from imbalanced-learn->imblearn) (0.24.1)\n",
      "Requirement already satisfied: joblib>=0.11 in /Users/alexanderkruglyak/opt/anaconda3/lib/python3.8/site-packages (from imbalanced-learn->imblearn) (1.0.1)\n",
      "Requirement already satisfied: numpy>=1.13.3 in /Users/alexanderkruglyak/opt/anaconda3/lib/python3.8/site-packages (from imbalanced-learn->imblearn) (1.20.2)\n",
      "Requirement already satisfied: scipy>=0.19.1 in /Users/alexanderkruglyak/opt/anaconda3/lib/python3.8/site-packages (from imbalanced-learn->imblearn) (1.6.2)\n",
      "Requirement already satisfied: threadpoolctl>=2.0.0 in /Users/alexanderkruglyak/opt/anaconda3/lib/python3.8/site-packages (from scikit-learn>=0.24->imbalanced-learn->imblearn) (2.1.0)\n"
     ]
    }
   ],
   "source": [
    "!pip install imblearn"
   ]
  },
  {
   "cell_type": "code",
   "execution_count": 49,
   "metadata": {},
   "outputs": [
    {
     "name": "stdout",
     "output_type": "stream",
     "text": [
      "Requirement already satisfied: imbalanced-learn in /Users/alexanderkruglyak/opt/anaconda3/lib/python3.8/site-packages (0.8.0)\n",
      "Requirement already satisfied: numpy>=1.13.3 in /Users/alexanderkruglyak/opt/anaconda3/lib/python3.8/site-packages (from imbalanced-learn) (1.20.2)\n",
      "Requirement already satisfied: scikit-learn>=0.24 in /Users/alexanderkruglyak/opt/anaconda3/lib/python3.8/site-packages (from imbalanced-learn) (0.24.1)\n",
      "Requirement already satisfied: joblib>=0.11 in /Users/alexanderkruglyak/opt/anaconda3/lib/python3.8/site-packages (from imbalanced-learn) (1.0.1)\n",
      "Requirement already satisfied: scipy>=0.19.1 in /Users/alexanderkruglyak/opt/anaconda3/lib/python3.8/site-packages (from imbalanced-learn) (1.6.2)\n",
      "Requirement already satisfied: threadpoolctl>=2.0.0 in /Users/alexanderkruglyak/opt/anaconda3/lib/python3.8/site-packages (from scikit-learn>=0.24->imbalanced-learn) (2.1.0)\n"
     ]
    }
   ],
   "source": [
    "!pip install imbalanced-learn\n"
   ]
  },
  {
   "cell_type": "code",
   "execution_count": 118,
   "metadata": {},
   "outputs": [],
   "source": [
    "import numpy as np\n",
    "import pandas as pd\n",
    "import seaborn as sns\n",
    "import matplotlib.pyplot as plt\n",
    "\n",
    "import re\n",
    "import datetime\n",
    "\n",
    "from sklearn.preprocessing import StandardScaler, OneHotEncoder, RobustScaler\n",
    "from sklearn.compose import ColumnTransformer, make_column_transformer\n",
    "from sklearn.pipeline import make_pipeline, Pipeline\n",
    "from sklearn.model_selection import KFold, StratifiedKFold, cross_val_score, GridSearchCV, cross_validate\n",
    "from sklearn.feature_selection import SelectPercentile, f_regression\n",
    "\n",
    "\n",
    "from matplotlib.collections import PatchCollection\n",
    "from matplotlib.patches import Polygon\n",
    "\n",
    "import seaborn as sns\n",
    "\n",
    "from sklearn.linear_model import LogisticRegression, LogisticRegressionCV, PassiveAggressiveClassifier, Perceptron, RidgeClassifier, RidgeClassifierCV, SGDClassifier\n",
    "from sklearn.svm import SVC\n",
    "from sklearn.neighbors import KNeighborsClassifier\n",
    "from sklearn import tree\n",
    "from sklearn.tree import DecisionTreeClassifier, plot_tree\n",
    "from sklearn.ensemble import RandomForestClassifier\n",
    "from sklearn.metrics import classification_report, confusion_matrix, plot_confusion_matrix\n",
    "from imblearn.under_sampling import RandomUnderSampler\n",
    "from imblearn.pipeline import make_pipeline as make_imb_pipeline\n",
    "from imblearn.over_sampling import RandomOverSampler, SMOTE\n",
    "\n",
    "import time\n",
    "from xgboost import XGBClassifier\n",
    "\n",
    "%matplotlib inline\n",
    "\n",
    "import warnings\n",
    "warnings.filterwarnings(\"ignore\")"
   ]
  },
  {
   "cell_type": "markdown",
   "metadata": {},
   "source": [
    "## Task 1 Identify Features\n",
    "Assemble a dataset consisting of features and target (for example in a dataframe or in two arrays X and y). What features are relevant for the prediction task? What features should be excluded because they leak the target information? Show visualizations or statistics to support your selection"
   ]
  },
  {
   "cell_type": "code",
   "execution_count": 6,
   "metadata": {},
   "outputs": [],
   "source": [
    "def show_data_basic_information(df):\n",
    "    print(\"Info\\n\")\n",
    "    print(df.info())\n",
    "    print(\"\\n\" + \"*\" * 10 + \"\\n\")\n",
    "    \n",
    "    print(\"Shape\\n\")\n",
    "    print(full_train_df.shape) \n",
    "    print(\"\\n\" + \"*\" * 10 + \"\\n\")\n",
    "    \n",
    "    print(\"Amount of is null data\\n\")\n",
    "    print(df.isnull().sum().max())\n",
    "    print(\"\\n\" + \"*\" * 10 + \"\\n\")\n",
    "    \n",
    "    print(\"Describe\\n\")\n",
    "    display(full_train_df.describe())\n",
    "    print(\"\\n\" + \"*\" * 10 + \"\\n\")\n",
    "    \n",
    "    fraud_col = df['is_fraud']\n",
    "    AMOUNT_OF_FRAUD = fraud_col.value_counts()[1]\n",
    "    AMOUNT_OF_FRAUD = fraud_col.value_counts()[1]\n",
    "    print('No Frauds', round(fraud_col.value_counts()[0]/len(fraud_col) * 100,2), '% of the dataset')\n",
    "    print('Frauds', round(fraud_col.value_counts()[1]/len(fraud_col) * 100,2), '% of the dataset')\n",
    "    print('Total amount of fraud transactions:', AMOUNT_OF_FRAUD)"
   ]
  },
  {
   "cell_type": "code",
   "execution_count": 123,
   "metadata": {},
   "outputs": [],
   "source": [
    "full_train_df = pd.read_csv(\"fraudTrain.csv\")\n",
    "full_test_df = pd.read_csv(\"fraudTest.csv\")"
   ]
  },
  {
   "cell_type": "code",
   "execution_count": 124,
   "metadata": {},
   "outputs": [
    {
     "name": "stdout",
     "output_type": "stream",
     "text": [
      "Info\n",
      "\n",
      "<class 'pandas.core.frame.DataFrame'>\n",
      "RangeIndex: 1296675 entries, 0 to 1296674\n",
      "Data columns (total 23 columns):\n",
      " #   Column                 Non-Null Count    Dtype  \n",
      "---  ------                 --------------    -----  \n",
      " 0   Unnamed: 0             1296675 non-null  int64  \n",
      " 1   trans_date_trans_time  1296675 non-null  object \n",
      " 2   cc_num                 1296675 non-null  int64  \n",
      " 3   merchant               1296675 non-null  object \n",
      " 4   category               1296675 non-null  object \n",
      " 5   amt                    1296675 non-null  float64\n",
      " 6   first                  1296675 non-null  object \n",
      " 7   last                   1296675 non-null  object \n",
      " 8   gender                 1296675 non-null  object \n",
      " 9   street                 1296675 non-null  object \n",
      " 10  city                   1296675 non-null  object \n",
      " 11  state                  1296675 non-null  object \n",
      " 12  zip                    1296675 non-null  int64  \n",
      " 13  lat                    1296675 non-null  float64\n",
      " 14  long                   1296675 non-null  float64\n",
      " 15  city_pop               1296675 non-null  int64  \n",
      " 16  job                    1296675 non-null  object \n",
      " 17  dob                    1296675 non-null  object \n",
      " 18  trans_num              1296675 non-null  object \n",
      " 19  unix_time              1296675 non-null  int64  \n",
      " 20  merch_lat              1296675 non-null  float64\n",
      " 21  merch_long             1296675 non-null  float64\n",
      " 22  is_fraud               1296675 non-null  int64  \n",
      "dtypes: float64(5), int64(6), object(12)\n",
      "memory usage: 227.5+ MB\n",
      "None\n",
      "\n",
      "**********\n",
      "\n",
      "Shape\n",
      "\n",
      "(1296675, 23)\n",
      "\n",
      "**********\n",
      "\n",
      "Amount of is null data\n",
      "\n",
      "0\n",
      "\n",
      "**********\n",
      "\n",
      "Describe\n",
      "\n"
     ]
    },
    {
     "data": {
      "text/html": [
       "<div>\n",
       "<style scoped>\n",
       "    .dataframe tbody tr th:only-of-type {\n",
       "        vertical-align: middle;\n",
       "    }\n",
       "\n",
       "    .dataframe tbody tr th {\n",
       "        vertical-align: top;\n",
       "    }\n",
       "\n",
       "    .dataframe thead th {\n",
       "        text-align: right;\n",
       "    }\n",
       "</style>\n",
       "<table border=\"1\" class=\"dataframe\">\n",
       "  <thead>\n",
       "    <tr style=\"text-align: right;\">\n",
       "      <th></th>\n",
       "      <th>Unnamed: 0</th>\n",
       "      <th>cc_num</th>\n",
       "      <th>amt</th>\n",
       "      <th>zip</th>\n",
       "      <th>lat</th>\n",
       "      <th>long</th>\n",
       "      <th>city_pop</th>\n",
       "      <th>unix_time</th>\n",
       "      <th>merch_lat</th>\n",
       "      <th>merch_long</th>\n",
       "      <th>is_fraud</th>\n",
       "    </tr>\n",
       "  </thead>\n",
       "  <tbody>\n",
       "    <tr>\n",
       "      <th>count</th>\n",
       "      <td>1.296675e+06</td>\n",
       "      <td>1.296675e+06</td>\n",
       "      <td>1.296675e+06</td>\n",
       "      <td>1.296675e+06</td>\n",
       "      <td>1.296675e+06</td>\n",
       "      <td>1.296675e+06</td>\n",
       "      <td>1.296675e+06</td>\n",
       "      <td>1.296675e+06</td>\n",
       "      <td>1.296675e+06</td>\n",
       "      <td>1.296675e+06</td>\n",
       "      <td>1.296675e+06</td>\n",
       "    </tr>\n",
       "    <tr>\n",
       "      <th>mean</th>\n",
       "      <td>6.483370e+05</td>\n",
       "      <td>4.171920e+17</td>\n",
       "      <td>7.035104e+01</td>\n",
       "      <td>4.880067e+04</td>\n",
       "      <td>3.853762e+01</td>\n",
       "      <td>-9.022634e+01</td>\n",
       "      <td>8.882444e+04</td>\n",
       "      <td>1.349244e+09</td>\n",
       "      <td>3.853734e+01</td>\n",
       "      <td>-9.022646e+01</td>\n",
       "      <td>5.788652e-03</td>\n",
       "    </tr>\n",
       "    <tr>\n",
       "      <th>std</th>\n",
       "      <td>3.743180e+05</td>\n",
       "      <td>1.308806e+18</td>\n",
       "      <td>1.603160e+02</td>\n",
       "      <td>2.689322e+04</td>\n",
       "      <td>5.075808e+00</td>\n",
       "      <td>1.375908e+01</td>\n",
       "      <td>3.019564e+05</td>\n",
       "      <td>1.284128e+07</td>\n",
       "      <td>5.109788e+00</td>\n",
       "      <td>1.377109e+01</td>\n",
       "      <td>7.586269e-02</td>\n",
       "    </tr>\n",
       "    <tr>\n",
       "      <th>min</th>\n",
       "      <td>0.000000e+00</td>\n",
       "      <td>6.041621e+10</td>\n",
       "      <td>1.000000e+00</td>\n",
       "      <td>1.257000e+03</td>\n",
       "      <td>2.002710e+01</td>\n",
       "      <td>-1.656723e+02</td>\n",
       "      <td>2.300000e+01</td>\n",
       "      <td>1.325376e+09</td>\n",
       "      <td>1.902779e+01</td>\n",
       "      <td>-1.666712e+02</td>\n",
       "      <td>0.000000e+00</td>\n",
       "    </tr>\n",
       "    <tr>\n",
       "      <th>25%</th>\n",
       "      <td>3.241685e+05</td>\n",
       "      <td>1.800429e+14</td>\n",
       "      <td>9.650000e+00</td>\n",
       "      <td>2.623700e+04</td>\n",
       "      <td>3.462050e+01</td>\n",
       "      <td>-9.679800e+01</td>\n",
       "      <td>7.430000e+02</td>\n",
       "      <td>1.338751e+09</td>\n",
       "      <td>3.473357e+01</td>\n",
       "      <td>-9.689728e+01</td>\n",
       "      <td>0.000000e+00</td>\n",
       "    </tr>\n",
       "    <tr>\n",
       "      <th>50%</th>\n",
       "      <td>6.483370e+05</td>\n",
       "      <td>3.521417e+15</td>\n",
       "      <td>4.752000e+01</td>\n",
       "      <td>4.817400e+04</td>\n",
       "      <td>3.935430e+01</td>\n",
       "      <td>-8.747690e+01</td>\n",
       "      <td>2.456000e+03</td>\n",
       "      <td>1.349250e+09</td>\n",
       "      <td>3.936568e+01</td>\n",
       "      <td>-8.743839e+01</td>\n",
       "      <td>0.000000e+00</td>\n",
       "    </tr>\n",
       "    <tr>\n",
       "      <th>75%</th>\n",
       "      <td>9.725055e+05</td>\n",
       "      <td>4.642255e+15</td>\n",
       "      <td>8.314000e+01</td>\n",
       "      <td>7.204200e+04</td>\n",
       "      <td>4.194040e+01</td>\n",
       "      <td>-8.015800e+01</td>\n",
       "      <td>2.032800e+04</td>\n",
       "      <td>1.359385e+09</td>\n",
       "      <td>4.195716e+01</td>\n",
       "      <td>-8.023680e+01</td>\n",
       "      <td>0.000000e+00</td>\n",
       "    </tr>\n",
       "    <tr>\n",
       "      <th>max</th>\n",
       "      <td>1.296674e+06</td>\n",
       "      <td>4.992346e+18</td>\n",
       "      <td>2.894890e+04</td>\n",
       "      <td>9.978300e+04</td>\n",
       "      <td>6.669330e+01</td>\n",
       "      <td>-6.795030e+01</td>\n",
       "      <td>2.906700e+06</td>\n",
       "      <td>1.371817e+09</td>\n",
       "      <td>6.751027e+01</td>\n",
       "      <td>-6.695090e+01</td>\n",
       "      <td>1.000000e+00</td>\n",
       "    </tr>\n",
       "  </tbody>\n",
       "</table>\n",
       "</div>"
      ],
      "text/plain": [
       "         Unnamed: 0        cc_num           amt           zip           lat  \\\n",
       "count  1.296675e+06  1.296675e+06  1.296675e+06  1.296675e+06  1.296675e+06   \n",
       "mean   6.483370e+05  4.171920e+17  7.035104e+01  4.880067e+04  3.853762e+01   \n",
       "std    3.743180e+05  1.308806e+18  1.603160e+02  2.689322e+04  5.075808e+00   \n",
       "min    0.000000e+00  6.041621e+10  1.000000e+00  1.257000e+03  2.002710e+01   \n",
       "25%    3.241685e+05  1.800429e+14  9.650000e+00  2.623700e+04  3.462050e+01   \n",
       "50%    6.483370e+05  3.521417e+15  4.752000e+01  4.817400e+04  3.935430e+01   \n",
       "75%    9.725055e+05  4.642255e+15  8.314000e+01  7.204200e+04  4.194040e+01   \n",
       "max    1.296674e+06  4.992346e+18  2.894890e+04  9.978300e+04  6.669330e+01   \n",
       "\n",
       "               long      city_pop     unix_time     merch_lat    merch_long  \\\n",
       "count  1.296675e+06  1.296675e+06  1.296675e+06  1.296675e+06  1.296675e+06   \n",
       "mean  -9.022634e+01  8.882444e+04  1.349244e+09  3.853734e+01 -9.022646e+01   \n",
       "std    1.375908e+01  3.019564e+05  1.284128e+07  5.109788e+00  1.377109e+01   \n",
       "min   -1.656723e+02  2.300000e+01  1.325376e+09  1.902779e+01 -1.666712e+02   \n",
       "25%   -9.679800e+01  7.430000e+02  1.338751e+09  3.473357e+01 -9.689728e+01   \n",
       "50%   -8.747690e+01  2.456000e+03  1.349250e+09  3.936568e+01 -8.743839e+01   \n",
       "75%   -8.015800e+01  2.032800e+04  1.359385e+09  4.195716e+01 -8.023680e+01   \n",
       "max   -6.795030e+01  2.906700e+06  1.371817e+09  6.751027e+01 -6.695090e+01   \n",
       "\n",
       "           is_fraud  \n",
       "count  1.296675e+06  \n",
       "mean   5.788652e-03  \n",
       "std    7.586269e-02  \n",
       "min    0.000000e+00  \n",
       "25%    0.000000e+00  \n",
       "50%    0.000000e+00  \n",
       "75%    0.000000e+00  \n",
       "max    1.000000e+00  "
      ]
     },
     "metadata": {},
     "output_type": "display_data"
    },
    {
     "name": "stdout",
     "output_type": "stream",
     "text": [
      "\n",
      "**********\n",
      "\n",
      "No Frauds 99.42 % of the dataset\n",
      "Frauds 0.58 % of the dataset\n",
      "Total amount of fraud transactions: 7506\n"
     ]
    }
   ],
   "source": [
    "show_data_basic_information(full_train_df)"
   ]
  },
  {
   "cell_type": "code",
   "execution_count": 125,
   "metadata": {},
   "outputs": [
    {
     "name": "stdout",
     "output_type": "stream",
     "text": [
      "Info\n",
      "\n",
      "<class 'pandas.core.frame.DataFrame'>\n",
      "RangeIndex: 555719 entries, 0 to 555718\n",
      "Data columns (total 23 columns):\n",
      " #   Column                 Non-Null Count   Dtype  \n",
      "---  ------                 --------------   -----  \n",
      " 0   Unnamed: 0             555719 non-null  int64  \n",
      " 1   trans_date_trans_time  555719 non-null  object \n",
      " 2   cc_num                 555719 non-null  int64  \n",
      " 3   merchant               555719 non-null  object \n",
      " 4   category               555719 non-null  object \n",
      " 5   amt                    555719 non-null  float64\n",
      " 6   first                  555719 non-null  object \n",
      " 7   last                   555719 non-null  object \n",
      " 8   gender                 555719 non-null  object \n",
      " 9   street                 555719 non-null  object \n",
      " 10  city                   555719 non-null  object \n",
      " 11  state                  555719 non-null  object \n",
      " 12  zip                    555719 non-null  int64  \n",
      " 13  lat                    555719 non-null  float64\n",
      " 14  long                   555719 non-null  float64\n",
      " 15  city_pop               555719 non-null  int64  \n",
      " 16  job                    555719 non-null  object \n",
      " 17  dob                    555719 non-null  object \n",
      " 18  trans_num              555719 non-null  object \n",
      " 19  unix_time              555719 non-null  int64  \n",
      " 20  merch_lat              555719 non-null  float64\n",
      " 21  merch_long             555719 non-null  float64\n",
      " 22  is_fraud               555719 non-null  int64  \n",
      "dtypes: float64(5), int64(6), object(12)\n",
      "memory usage: 97.5+ MB\n",
      "None\n",
      "\n",
      "**********\n",
      "\n",
      "Shape\n",
      "\n",
      "(1296675, 23)\n",
      "\n",
      "**********\n",
      "\n",
      "Amount of is null data\n",
      "\n",
      "0\n",
      "\n",
      "**********\n",
      "\n",
      "Describe\n",
      "\n"
     ]
    },
    {
     "data": {
      "text/html": [
       "<div>\n",
       "<style scoped>\n",
       "    .dataframe tbody tr th:only-of-type {\n",
       "        vertical-align: middle;\n",
       "    }\n",
       "\n",
       "    .dataframe tbody tr th {\n",
       "        vertical-align: top;\n",
       "    }\n",
       "\n",
       "    .dataframe thead th {\n",
       "        text-align: right;\n",
       "    }\n",
       "</style>\n",
       "<table border=\"1\" class=\"dataframe\">\n",
       "  <thead>\n",
       "    <tr style=\"text-align: right;\">\n",
       "      <th></th>\n",
       "      <th>Unnamed: 0</th>\n",
       "      <th>cc_num</th>\n",
       "      <th>amt</th>\n",
       "      <th>zip</th>\n",
       "      <th>lat</th>\n",
       "      <th>long</th>\n",
       "      <th>city_pop</th>\n",
       "      <th>unix_time</th>\n",
       "      <th>merch_lat</th>\n",
       "      <th>merch_long</th>\n",
       "      <th>is_fraud</th>\n",
       "    </tr>\n",
       "  </thead>\n",
       "  <tbody>\n",
       "    <tr>\n",
       "      <th>count</th>\n",
       "      <td>1.296675e+06</td>\n",
       "      <td>1.296675e+06</td>\n",
       "      <td>1.296675e+06</td>\n",
       "      <td>1.296675e+06</td>\n",
       "      <td>1.296675e+06</td>\n",
       "      <td>1.296675e+06</td>\n",
       "      <td>1.296675e+06</td>\n",
       "      <td>1.296675e+06</td>\n",
       "      <td>1.296675e+06</td>\n",
       "      <td>1.296675e+06</td>\n",
       "      <td>1.296675e+06</td>\n",
       "    </tr>\n",
       "    <tr>\n",
       "      <th>mean</th>\n",
       "      <td>6.483370e+05</td>\n",
       "      <td>4.171920e+17</td>\n",
       "      <td>7.035104e+01</td>\n",
       "      <td>4.880067e+04</td>\n",
       "      <td>3.853762e+01</td>\n",
       "      <td>-9.022634e+01</td>\n",
       "      <td>8.882444e+04</td>\n",
       "      <td>1.349244e+09</td>\n",
       "      <td>3.853734e+01</td>\n",
       "      <td>-9.022646e+01</td>\n",
       "      <td>5.788652e-03</td>\n",
       "    </tr>\n",
       "    <tr>\n",
       "      <th>std</th>\n",
       "      <td>3.743180e+05</td>\n",
       "      <td>1.308806e+18</td>\n",
       "      <td>1.603160e+02</td>\n",
       "      <td>2.689322e+04</td>\n",
       "      <td>5.075808e+00</td>\n",
       "      <td>1.375908e+01</td>\n",
       "      <td>3.019564e+05</td>\n",
       "      <td>1.284128e+07</td>\n",
       "      <td>5.109788e+00</td>\n",
       "      <td>1.377109e+01</td>\n",
       "      <td>7.586269e-02</td>\n",
       "    </tr>\n",
       "    <tr>\n",
       "      <th>min</th>\n",
       "      <td>0.000000e+00</td>\n",
       "      <td>6.041621e+10</td>\n",
       "      <td>1.000000e+00</td>\n",
       "      <td>1.257000e+03</td>\n",
       "      <td>2.002710e+01</td>\n",
       "      <td>-1.656723e+02</td>\n",
       "      <td>2.300000e+01</td>\n",
       "      <td>1.325376e+09</td>\n",
       "      <td>1.902779e+01</td>\n",
       "      <td>-1.666712e+02</td>\n",
       "      <td>0.000000e+00</td>\n",
       "    </tr>\n",
       "    <tr>\n",
       "      <th>25%</th>\n",
       "      <td>3.241685e+05</td>\n",
       "      <td>1.800429e+14</td>\n",
       "      <td>9.650000e+00</td>\n",
       "      <td>2.623700e+04</td>\n",
       "      <td>3.462050e+01</td>\n",
       "      <td>-9.679800e+01</td>\n",
       "      <td>7.430000e+02</td>\n",
       "      <td>1.338751e+09</td>\n",
       "      <td>3.473357e+01</td>\n",
       "      <td>-9.689728e+01</td>\n",
       "      <td>0.000000e+00</td>\n",
       "    </tr>\n",
       "    <tr>\n",
       "      <th>50%</th>\n",
       "      <td>6.483370e+05</td>\n",
       "      <td>3.521417e+15</td>\n",
       "      <td>4.752000e+01</td>\n",
       "      <td>4.817400e+04</td>\n",
       "      <td>3.935430e+01</td>\n",
       "      <td>-8.747690e+01</td>\n",
       "      <td>2.456000e+03</td>\n",
       "      <td>1.349250e+09</td>\n",
       "      <td>3.936568e+01</td>\n",
       "      <td>-8.743839e+01</td>\n",
       "      <td>0.000000e+00</td>\n",
       "    </tr>\n",
       "    <tr>\n",
       "      <th>75%</th>\n",
       "      <td>9.725055e+05</td>\n",
       "      <td>4.642255e+15</td>\n",
       "      <td>8.314000e+01</td>\n",
       "      <td>7.204200e+04</td>\n",
       "      <td>4.194040e+01</td>\n",
       "      <td>-8.015800e+01</td>\n",
       "      <td>2.032800e+04</td>\n",
       "      <td>1.359385e+09</td>\n",
       "      <td>4.195716e+01</td>\n",
       "      <td>-8.023680e+01</td>\n",
       "      <td>0.000000e+00</td>\n",
       "    </tr>\n",
       "    <tr>\n",
       "      <th>max</th>\n",
       "      <td>1.296674e+06</td>\n",
       "      <td>4.992346e+18</td>\n",
       "      <td>2.894890e+04</td>\n",
       "      <td>9.978300e+04</td>\n",
       "      <td>6.669330e+01</td>\n",
       "      <td>-6.795030e+01</td>\n",
       "      <td>2.906700e+06</td>\n",
       "      <td>1.371817e+09</td>\n",
       "      <td>6.751027e+01</td>\n",
       "      <td>-6.695090e+01</td>\n",
       "      <td>1.000000e+00</td>\n",
       "    </tr>\n",
       "  </tbody>\n",
       "</table>\n",
       "</div>"
      ],
      "text/plain": [
       "         Unnamed: 0        cc_num           amt           zip           lat  \\\n",
       "count  1.296675e+06  1.296675e+06  1.296675e+06  1.296675e+06  1.296675e+06   \n",
       "mean   6.483370e+05  4.171920e+17  7.035104e+01  4.880067e+04  3.853762e+01   \n",
       "std    3.743180e+05  1.308806e+18  1.603160e+02  2.689322e+04  5.075808e+00   \n",
       "min    0.000000e+00  6.041621e+10  1.000000e+00  1.257000e+03  2.002710e+01   \n",
       "25%    3.241685e+05  1.800429e+14  9.650000e+00  2.623700e+04  3.462050e+01   \n",
       "50%    6.483370e+05  3.521417e+15  4.752000e+01  4.817400e+04  3.935430e+01   \n",
       "75%    9.725055e+05  4.642255e+15  8.314000e+01  7.204200e+04  4.194040e+01   \n",
       "max    1.296674e+06  4.992346e+18  2.894890e+04  9.978300e+04  6.669330e+01   \n",
       "\n",
       "               long      city_pop     unix_time     merch_lat    merch_long  \\\n",
       "count  1.296675e+06  1.296675e+06  1.296675e+06  1.296675e+06  1.296675e+06   \n",
       "mean  -9.022634e+01  8.882444e+04  1.349244e+09  3.853734e+01 -9.022646e+01   \n",
       "std    1.375908e+01  3.019564e+05  1.284128e+07  5.109788e+00  1.377109e+01   \n",
       "min   -1.656723e+02  2.300000e+01  1.325376e+09  1.902779e+01 -1.666712e+02   \n",
       "25%   -9.679800e+01  7.430000e+02  1.338751e+09  3.473357e+01 -9.689728e+01   \n",
       "50%   -8.747690e+01  2.456000e+03  1.349250e+09  3.936568e+01 -8.743839e+01   \n",
       "75%   -8.015800e+01  2.032800e+04  1.359385e+09  4.195716e+01 -8.023680e+01   \n",
       "max   -6.795030e+01  2.906700e+06  1.371817e+09  6.751027e+01 -6.695090e+01   \n",
       "\n",
       "           is_fraud  \n",
       "count  1.296675e+06  \n",
       "mean   5.788652e-03  \n",
       "std    7.586269e-02  \n",
       "min    0.000000e+00  \n",
       "25%    0.000000e+00  \n",
       "50%    0.000000e+00  \n",
       "75%    0.000000e+00  \n",
       "max    1.000000e+00  "
      ]
     },
     "metadata": {},
     "output_type": "display_data"
    },
    {
     "name": "stdout",
     "output_type": "stream",
     "text": [
      "\n",
      "**********\n",
      "\n",
      "No Frauds 99.61 % of the dataset\n",
      "Frauds 0.39 % of the dataset\n",
      "Total amount of fraud transactions: 2145\n"
     ]
    }
   ],
   "source": [
    "show_data_basic_information(full_test_df)"
   ]
  },
  {
   "cell_type": "code",
   "execution_count": 21,
   "metadata": {},
   "outputs": [],
   "source": [
    "def move_is_fraud_to_fisrt_index(df):\n",
    "    fraud = df['is_fraud']\n",
    "    df.drop(labels=['is_fraud'], axis=1,inplace = True)\n",
    "    df.insert(0, 'is_fraud', fraud)\n",
    "    return df"
   ]
  },
  {
   "cell_type": "code",
   "execution_count": 22,
   "metadata": {},
   "outputs": [],
   "source": [
    "def show_correlation_matrices(df, annot=True):    \n",
    "    df = move_is_fraud_to_fisrt_index(df)\n",
    "    fig, (ax1) = plt.subplots(1, 1, figsize=(20,20))\n",
    "    sns.heatmap(df.corr(), cmap='coolwarm_r', annot_kws={'size':10},annot=annot, ax=ax1)\n",
    "    ax1.set_title(\"Data\", fontsize=14)\n",
    "    plt.show()"
   ]
  },
  {
   "cell_type": "code",
   "execution_count": 126,
   "metadata": {
    "scrolled": true
   },
   "outputs": [
    {
     "data": {
      "image/png": "[encoded data removed]",
      "text/plain": [
       "<Figure size 1440x1440 with 2 Axes>"
      ]
     },
     "metadata": {
      "needs_background": "light"
     },
     "output_type": "display_data"
    }
   ],
   "source": [
    "show_correlation_matrices(full_train_df)"
   ]
  },
  {
   "cell_type": "code",
   "execution_count": 12,
   "metadata": {},
   "outputs": [],
   "source": [
    "def convert_unix_to_hour(df):\n",
    "    t0 = time.time()\n",
    "    _df = df.copy()\n",
    "    _df['trans_hour'] = _df['unix_time']  % 86400 #(86400s per 24h)\n",
    "    _df['trans_hour'] /= (86400/24)\n",
    "    t1 = time.time()\n",
    "    print(\"convert_unix_to_hour took {:.2} s\".format(t1 - t0))\n",
    "    return _df"
   ]
  },
  {
   "cell_type": "code",
   "execution_count": 29,
   "metadata": {},
   "outputs": [
    {
     "name": "stdout",
     "output_type": "stream",
     "text": [
      "convert_unix_to_hour took 0.21 s\n"
     ]
    },
    {
     "data": {
      "text/plain": [
       "<seaborn.axisgrid.PairGrid at 0x7fb62fb5af40>"
      ]
     },
     "execution_count": 29,
     "metadata": {},
     "output_type": "execute_result"
    },
    {
     "data": {
      "image/png": "[encoded data removed]",
      "text/plain": [
       "<Figure size 407.75x360 with 6 Axes>"
      ]
     },
     "metadata": {
      "needs_background": "light"
     },
     "output_type": "display_data"
    }
   ],
   "source": [
    "time_converted_train_df = convert_unix_to_hour(full_train_df)\n",
    "# time_converted_normal_distributed_train_df = convert_unix_to_hour(normal_distributed_train_df)\n",
    "\n",
    "sns.pairplot(time_converted_train_df[['amt','trans_hour', 'is_fraud']], hue='is_fraud')"
   ]
  },
  {
   "cell_type": "code",
   "execution_count": 13,
   "metadata": {},
   "outputs": [
    {
     "name": "stderr",
     "output_type": "stream",
     "text": [
      "/home/zsofya/jupyter_git/jup-nb-generic/lib/python3.8/site-packages/seaborn/_decorators.py:36: FutureWarning: Pass the following variable as a keyword arg: x. From version 0.12, the only valid positional argument will be `data`, and passing other arguments without an explicit keyword will result in an error or misinterpretation.\n",
      "  warnings.warn(\n"
     ]
    },
    {
     "data": {
      "text/plain": [
       "Text(0.5, 1.0, 'Class Distributions \\n (0: No Fraud || 1: Fraud)')"
      ]
     },
     "execution_count": 13,
     "metadata": {},
     "output_type": "execute_result"
    },
    {
     "data": {
      "image/png": "[encoded data removed]",
      "text/plain": [
       "<Figure size 432x288 with 1 Axes>"
      ]
     },
     "metadata": {
      "needs_background": "light"
     },
     "output_type": "display_data"
    }
   ],
   "source": [
    "colors = [\"#0101DF\", \"#DF0101\"]\n",
    "\n",
    "sns.countplot('is_fraud', data=full_train_df, palette=colors)\n",
    "plt.title('Class Distributions \\n (0: No Fraud || 1: Fraud)', fontsize=14)"
   ]
  },
  {
   "cell_type": "markdown",
   "metadata": {},
   "source": [
    "What we see here is that data is distributed abnormally, and this is very difficult to see any corelation and identify features that can be useful for our model.\n",
    "\n",
    "We will create normally distirbuted data set and invetigate it."
   ]
  },
  {
   "cell_type": "code",
   "execution_count": 14,
   "metadata": {},
   "outputs": [],
   "source": [
    "def drop_columns(df, columns):\n",
    "    return df.copy().drop(columns, axis=1,errors='ignore')\n",
    "\n",
    "def get_label_and_drop(_df):\n",
    "    df = _df.copy()\n",
    "    label = df['is_fraud']\n",
    "    df = drop_columns(df,['is_fraud'])\n",
    "    return df, label"
   ]
  },
  {
   "cell_type": "code",
   "execution_count": 34,
   "metadata": {},
   "outputs": [
    {
     "name": "stdout",
     "output_type": "stream",
     "text": [
      "(1296675, 23)\n",
      "(15012, 23)\n",
      "[7506 7506]\n"
     ]
    },
    {
     "name": "stderr",
     "output_type": "stream",
     "text": [
      "/home/zsofya/jupyter_git/jup-nb-generic/lib/python3.8/site-packages/seaborn/_decorators.py:36: FutureWarning: Pass the following variable as a keyword arg: x. From version 0.12, the only valid positional argument will be `data`, and passing other arguments without an explicit keyword will result in an error or misinterpretation.\n",
      "  warnings.warn(\n"
     ]
    },
    {
     "data": {
      "text/plain": [
       "Text(0.5, 1.0, 'Class Distributions \\n (0: No Fraud || 1: Fraud)')"
      ]
     },
     "execution_count": 34,
     "metadata": {},
     "output_type": "execute_result"
    },
    {
     "data": {
      "image/png": "[encoded data removed]",
      "text/plain": [
       "<Figure size 432x288 with 1 Axes>"
      ]
     },
     "metadata": {
      "needs_background": "light"
     },
     "output_type": "display_data"
    }
   ],
   "source": [
    "full_train_no_lable, full_train_label = get_label_and_drop(full_train_df)\n",
    "\n",
    "rus = RandomUnderSampler(replacement=False,random_state=42)\n",
    "normal_distributed_train_df, y_normal_distributed = rus.fit_resample(full_train_no_lable, full_train_label)\n",
    "normal_distributed_train_df = pd.concat([normal_distributed_train_df,pd.DataFrame(y_normal_distributed)],axis=1)\n",
    "print(full_train_df.shape)\n",
    "print(normal_distributed_train_df.shape)\n",
    "print(np.bincount(y_normal_distributed))\n",
    "y_normal_distributed.value_counts()\n",
    "sns.countplot(y_normal_distributed, data=normal_distributed_train_df)\n",
    "plt.title('Class Distributions \\n (0: No Fraud || 1: Fraud)', fontsize=14)"
   ]
  },
  {
   "cell_type": "code",
   "execution_count": 30,
   "metadata": {},
   "outputs": [
    {
     "data": {
      "image/png": "[encoded data removed]",
      "text/plain": [
       "<Figure size 1440x1440 with 2 Axes>"
      ]
     },
     "metadata": {
      "needs_background": "light"
     },
     "output_type": "display_data"
    }
   ],
   "source": [
    "show_correlation_matrices(normal_distributed_train_df)"
   ]
  },
  {
   "cell_type": "code",
   "execution_count": 17,
   "metadata": {},
   "outputs": [
    {
     "name": "stdout",
     "output_type": "stream",
     "text": [
      "convert_unix_to_hour took 0.018 s\n"
     ]
    },
    {
     "data": {
      "text/plain": [
       "<seaborn.axisgrid.PairGrid at 0x2b51fae3b310>"
      ]
     },
     "execution_count": 17,
     "metadata": {},
     "output_type": "execute_result"
    },
    {
     "data": {
      "image/png": "[encoded data removed]",
      "text/plain": [
       "<Figure size 407.75x360 with 6 Axes>"
      ]
     },
     "metadata": {
      "needs_background": "light"
     },
     "output_type": "display_data"
    }
   ],
   "source": [
    "time_converted_normal_distributed_train_df = convert_unix_to_hour(normal_distributed_train_df)\n",
    "\n",
    "sns.pairplot(time_converted_normal_distributed_train_df[['amt','trans_hour', 'is_fraud']], hue='is_fraud')"
   ]
  },
  {
   "cell_type": "markdown",
   "metadata": {},
   "source": [
    "We can idetify 2 iportant features for fraud detection: amound and transaction hour.\n",
    "Fatures first name, last name street, trans_number seem to be not relevant for fraud prediction."
   ]
  },
  {
   "cell_type": "code",
   "execution_count": 86,
   "metadata": {},
   "outputs": [],
   "source": [
    "def get_dummies(_df,columns_to_dummy):\n",
    "    df = _df.copy()\n",
    "    df = pd.get_dummies(df,columns=columns_to_dummy)\n",
    "    return df"
   ]
  },
  {
   "cell_type": "code",
   "execution_count": 45,
   "metadata": {},
   "outputs": [
    {
     "name": "stdout",
     "output_type": "stream",
     "text": [
      "<class 'pandas.core.frame.DataFrame'>\n",
      "RangeIndex: 15012 entries, 0 to 15011\n",
      "Data columns (total 23 columns):\n",
      " #   Column                 Non-Null Count  Dtype  \n",
      "---  ------                 --------------  -----  \n",
      " 0   Unnamed: 0             15012 non-null  int64  \n",
      " 1   trans_date_trans_time  15012 non-null  object \n",
      " 2   cc_num                 15012 non-null  int64  \n",
      " 3   merchant               15012 non-null  object \n",
      " 4   category               15012 non-null  object \n",
      " 5   amt                    15012 non-null  float64\n",
      " 6   first                  15012 non-null  object \n",
      " 7   last                   15012 non-null  object \n",
      " 8   gender                 15012 non-null  object \n",
      " 9   street                 15012 non-null  object \n",
      " 10  city                   15012 non-null  object \n",
      " 11  state                  15012 non-null  object \n",
      " 12  zip                    15012 non-null  int64  \n",
      " 13  lat                    15012 non-null  float64\n",
      " 14  long                   15012 non-null  float64\n",
      " 15  city_pop               15012 non-null  int64  \n",
      " 16  job                    15012 non-null  object \n",
      " 17  dob                    15012 non-null  object \n",
      " 18  trans_num              15012 non-null  object \n",
      " 19  unix_time              15012 non-null  int64  \n",
      " 20  merch_lat              15012 non-null  float64\n",
      " 21  merch_long             15012 non-null  float64\n",
      " 22  is_fraud               15012 non-null  int64  \n",
      "dtypes: float64(5), int64(6), object(12)\n",
      "memory usage: 2.6+ MB\n"
     ]
    }
   ],
   "source": [
    "normal_distributed_train_df.info()"
   ]
  },
  {
   "cell_type": "code",
   "execution_count": 87,
   "metadata": {},
   "outputs": [],
   "source": [
    "columns_to_dummy=['state','gender','category']\n",
    "dummied_normal_distributed_train_df = get_dummies(normal_distributed_train_df,columns_to_dummy)"
   ]
  },
  {
   "cell_type": "code",
   "execution_count": 47,
   "metadata": {
    "scrolled": true
   },
   "outputs": [
    {
     "data": {
      "image/png": "[encoded data removed]",
      "text/plain": [
       "<Figure size 1440x1440 with 2 Axes>"
      ]
     },
     "metadata": {
      "needs_background": "light"
     },
     "output_type": "display_data"
    }
   ],
   "source": [
    "show_correlation_matrices(dummied_normal_distributed_train_df, False)"
   ]
  },
  {
   "cell_type": "markdown",
   "metadata": {},
   "source": [
    "After encoding some of categorical varibales, we identify 3 strong features: amount, trans_hour and category"
   ]
  },
  {
   "cell_type": "markdown",
   "metadata": {},
   "source": [
    "## Task 2 Preprocessing and Baseline Model\n",
    "\n",
    "Create a simple minimum viable model by doing an initial selection of features, doing appropriate preprocessing and cross-validating a linear model. Feel free to generously exclude features or do simplified preprocessing for this task. As mentioned before, you don’t need to validate the model on the whole dataset"
   ]
  },
  {
   "cell_type": "code",
   "execution_count": 48,
   "metadata": {},
   "outputs": [],
   "source": [
    "def get_sampled_data(df, percent_of_data):\n",
    "    return df.sample(frac=percent_of_data,random_state=42)"
   ]
  },
  {
   "cell_type": "code",
   "execution_count": 136,
   "metadata": {},
   "outputs": [],
   "source": [
    "### T R A I N  data\n",
    "\n",
    "columns_to_drop = ['Unnamed: 0', \"trans_date_trans_time\", \"merchant\", \"first\", \"last\", \"street\", \"city\", \"lat\", \"long\", \"dob\", \"trans_num\", \"merch_lat\", \"merch_long\", \"unix_time\"]\n",
    "columns_to_dummy =['gender','category','state']\n",
    "sampled_train_df = get_sampled_data(full_train_df,0.05)\n",
    "dummied_train_df = get_dummies(sampled_train_df,columns_to_dummy)\n",
    "dummied_dropped_train_df = drop_columns(dummied_train_df,columns_to_drop)\n",
    "X_train_sampled,Y_train_sampled  = get_label_and_drop(dummied_dropped_train_df)"
   ]
  },
  {
   "cell_type": "code",
   "execution_count": 137,
   "metadata": {},
   "outputs": [
    {
     "name": "stdout",
     "output_type": "stream",
     "text": [
      "<class 'pandas.core.frame.DataFrame'>\n",
      "Int64Index: 64834 entries, 1045211 to 1066301\n",
      "Data columns (total 70 columns):\n",
      " #   Column                   Non-Null Count  Dtype  \n",
      "---  ------                   --------------  -----  \n",
      " 0   cc_num                   64834 non-null  int64  \n",
      " 1   amt                      64834 non-null  float64\n",
      " 2   zip                      64834 non-null  int64  \n",
      " 3   city_pop                 64834 non-null  int64  \n",
      " 4   gender_F                 64834 non-null  uint8  \n",
      " 5   gender_M                 64834 non-null  uint8  \n",
      " 6   category_entertainment   64834 non-null  uint8  \n",
      " 7   category_food_dining     64834 non-null  uint8  \n",
      " 8   category_gas_transport   64834 non-null  uint8  \n",
      " 9   category_grocery_net     64834 non-null  uint8  \n",
      " 10  category_grocery_pos     64834 non-null  uint8  \n",
      " 11  category_health_fitness  64834 non-null  uint8  \n",
      " 12  category_home            64834 non-null  uint8  \n",
      " 13  category_kids_pets       64834 non-null  uint8  \n",
      " 14  category_misc_net        64834 non-null  uint8  \n",
      " 15  category_misc_pos        64834 non-null  uint8  \n",
      " 16  category_personal_care   64834 non-null  uint8  \n",
      " 17  category_shopping_net    64834 non-null  uint8  \n",
      " 18  category_shopping_pos    64834 non-null  uint8  \n",
      " 19  category_travel          64834 non-null  uint8  \n",
      " 20  state_AK                 64834 non-null  uint8  \n",
      " 21  state_AL                 64834 non-null  uint8  \n",
      " 22  state_AR                 64834 non-null  uint8  \n",
      " 23  state_AZ                 64834 non-null  uint8  \n",
      " 24  state_CA                 64834 non-null  uint8  \n",
      " 25  state_CO                 64834 non-null  uint8  \n",
      " 26  state_CT                 64834 non-null  uint8  \n",
      " 27  state_DC                 64834 non-null  uint8  \n",
      " 28  state_FL                 64834 non-null  uint8  \n",
      " 29  state_GA                 64834 non-null  uint8  \n",
      " 30  state_HI                 64834 non-null  uint8  \n",
      " 31  state_IA                 64834 non-null  uint8  \n",
      " 32  state_ID                 64834 non-null  uint8  \n",
      " 33  state_IL                 64834 non-null  uint8  \n",
      " 34  state_IN                 64834 non-null  uint8  \n",
      " 35  state_KS                 64834 non-null  uint8  \n",
      " 36  state_KY                 64834 non-null  uint8  \n",
      " 37  state_LA                 64834 non-null  uint8  \n",
      " 38  state_MA                 64834 non-null  uint8  \n",
      " 39  state_MD                 64834 non-null  uint8  \n",
      " 40  state_ME                 64834 non-null  uint8  \n",
      " 41  state_MI                 64834 non-null  uint8  \n",
      " 42  state_MN                 64834 non-null  uint8  \n",
      " 43  state_MO                 64834 non-null  uint8  \n",
      " 44  state_MS                 64834 non-null  uint8  \n",
      " 45  state_MT                 64834 non-null  uint8  \n",
      " 46  state_NC                 64834 non-null  uint8  \n",
      " 47  state_ND                 64834 non-null  uint8  \n",
      " 48  state_NE                 64834 non-null  uint8  \n",
      " 49  state_NH                 64834 non-null  uint8  \n",
      " 50  state_NJ                 64834 non-null  uint8  \n",
      " 51  state_NM                 64834 non-null  uint8  \n",
      " 52  state_NV                 64834 non-null  uint8  \n",
      " 53  state_NY                 64834 non-null  uint8  \n",
      " 54  state_OH                 64834 non-null  uint8  \n",
      " 55  state_OK                 64834 non-null  uint8  \n",
      " 56  state_OR                 64834 non-null  uint8  \n",
      " 57  state_PA                 64834 non-null  uint8  \n",
      " 58  state_RI                 64834 non-null  uint8  \n",
      " 59  state_SC                 64834 non-null  uint8  \n",
      " 60  state_SD                 64834 non-null  uint8  \n",
      " 61  state_TN                 64834 non-null  uint8  \n",
      " 62  state_TX                 64834 non-null  uint8  \n",
      " 63  state_UT                 64834 non-null  uint8  \n",
      " 64  state_VA                 64834 non-null  uint8  \n",
      " 65  state_VT                 64834 non-null  uint8  \n",
      " 66  state_WA                 64834 non-null  uint8  \n",
      " 67  state_WI                 64834 non-null  uint8  \n",
      " 68  state_WV                 64834 non-null  uint8  \n",
      " 69  state_WY                 64834 non-null  uint8  \n",
      "dtypes: float64(1), int64(3), uint8(66)\n",
      "memory usage: 6.6 MB\n"
     ]
    }
   ],
   "source": [
    "X_train_sampled.info()"
   ]
  },
  {
   "cell_type": "code",
   "execution_count": 138,
   "metadata": {},
   "outputs": [],
   "source": [
    "regressors = [\n",
    "    LogisticRegression(),\n",
    "    LogisticRegressionCV(),\n",
    "    PassiveAggressiveClassifier(),\n",
    "    Perceptron(),\n",
    "    RidgeClassifier(),\n",
    "    RidgeClassifierCV(),\n",
    "    SGDClassifier()\n",
    "]"
   ]
  },
  {
   "cell_type": "code",
   "execution_count": 139,
   "metadata": {},
   "outputs": [],
   "source": [
    "scores_df = pd.DataFrame(dtype=float)"
   ]
  },
  {
   "cell_type": "code",
   "execution_count": 140,
   "metadata": {},
   "outputs": [],
   "source": [
    "def add_score(scores_df, scores, regressorName, dataType):\n",
    "    scores_df.loc[regressorName + '_' + dataType, 'f1'] = scores['test_f1'].mean()\n",
    "    scores_df.loc[regressorName + '_' + dataType, 'roc_auc'] = scores['test_roc_auc'].mean()\n",
    "    scores_df.loc[regressorName + '_' + dataType, 'average_precision'] = scores['test_average_precision'].mean()"
   ]
  },
  {
   "cell_type": "code",
   "execution_count": 141,
   "metadata": {},
   "outputs": [],
   "source": [
    "def get_cross_val_score(scores_df,estimator,X_train,y_train,prefix=\"\",sampler=None):\n",
    "        name = estimator.__class__.__name__\n",
    "        pipe = estimator\n",
    "        sampler_name = \"\"\n",
    "        if sampler is not None:\n",
    "            pipe = make_imb_pipeline(sampler(random_state=42), estimator)\n",
    "            sampler_name = sampler.__name__\n",
    "        print('*********' + name + ' ' + sampler_name + '*********')\n",
    "        full_scores = cross_validate(\n",
    "            pipe,\n",
    "            X_train, \n",
    "            y_train, \n",
    "            cv=5,\n",
    "            scoring=('roc_auc', 'average_precision', 'f1'),\n",
    "            n_jobs = -1\n",
    "        )\n",
    "        add_score(scores_df, full_scores, estimator.__class__.__name__,prefix)"
   ]
  },
  {
   "cell_type": "code",
   "execution_count": 142,
   "metadata": {},
   "outputs": [
    {
     "name": "stdout",
     "output_type": "stream",
     "text": [
      "*********LogisticRegression *********\n",
      "*********LogisticRegressionCV *********\n",
      "*********PassiveAggressiveClassifier *********\n",
      "*********Perceptron *********\n",
      "*********RidgeClassifier *********\n",
      "*********RidgeClassifierCV *********\n",
      "*********SGDClassifier *********\n"
     ]
    }
   ],
   "source": [
    "for regressor in regressors:\n",
    "    get_cross_val_score(scores_df,regressor,X_train_sampled,Y_train_sampled,\"sampled\")"
   ]
  },
  {
   "cell_type": "code",
   "execution_count": 143,
   "metadata": {},
   "outputs": [
    {
     "data": {
      "text/html": [
       "<div>\n",
       "<style scoped>\n",
       "    .dataframe tbody tr th:only-of-type {\n",
       "        vertical-align: middle;\n",
       "    }\n",
       "\n",
       "    .dataframe tbody tr th {\n",
       "        vertical-align: top;\n",
       "    }\n",
       "\n",
       "    .dataframe thead th {\n",
       "        text-align: right;\n",
       "    }\n",
       "</style>\n",
       "<table border=\"1\" class=\"dataframe\">\n",
       "  <thead>\n",
       "    <tr style=\"text-align: right;\">\n",
       "      <th></th>\n",
       "      <th>f1</th>\n",
       "      <th>roc_auc</th>\n",
       "      <th>average_precision</th>\n",
       "    </tr>\n",
       "  </thead>\n",
       "  <tbody>\n",
       "    <tr>\n",
       "      <th>LogisticRegression_sampled</th>\n",
       "      <td>0.000000</td>\n",
       "      <td>0.500000</td>\n",
       "      <td>0.005907</td>\n",
       "    </tr>\n",
       "    <tr>\n",
       "      <th>LogisticRegressionCV_sampled</th>\n",
       "      <td>0.000000</td>\n",
       "      <td>0.500000</td>\n",
       "      <td>0.005907</td>\n",
       "    </tr>\n",
       "    <tr>\n",
       "      <th>PassiveAggressiveClassifier_sampled</th>\n",
       "      <td>0.000000</td>\n",
       "      <td>0.506780</td>\n",
       "      <td>0.007661</td>\n",
       "    </tr>\n",
       "    <tr>\n",
       "      <th>Perceptron_sampled</th>\n",
       "      <td>0.000000</td>\n",
       "      <td>0.506882</td>\n",
       "      <td>0.007332</td>\n",
       "    </tr>\n",
       "    <tr>\n",
       "      <th>RidgeClassifier_sampled</th>\n",
       "      <td>0.000000</td>\n",
       "      <td>0.822267</td>\n",
       "      <td>0.186528</td>\n",
       "    </tr>\n",
       "    <tr>\n",
       "      <th>RidgeClassifierCV_sampled</th>\n",
       "      <td>0.010481</td>\n",
       "      <td>0.522032</td>\n",
       "      <td>0.007250</td>\n",
       "    </tr>\n",
       "    <tr>\n",
       "      <th>SGDClassifier_sampled</th>\n",
       "      <td>0.000000</td>\n",
       "      <td>0.506882</td>\n",
       "      <td>0.007332</td>\n",
       "    </tr>\n",
       "  </tbody>\n",
       "</table>\n",
       "</div>"
      ],
      "text/plain": [
       "                                           f1   roc_auc  average_precision\n",
       "LogisticRegression_sampled           0.000000  0.500000           0.005907\n",
       "LogisticRegressionCV_sampled         0.000000  0.500000           0.005907\n",
       "PassiveAggressiveClassifier_sampled  0.000000  0.506780           0.007661\n",
       "Perceptron_sampled                   0.000000  0.506882           0.007332\n",
       "RidgeClassifier_sampled              0.000000  0.822267           0.186528\n",
       "RidgeClassifierCV_sampled            0.010481  0.522032           0.007250\n",
       "SGDClassifier_sampled                0.000000  0.506882           0.007332"
      ]
     },
     "execution_count": 143,
     "metadata": {},
     "output_type": "execute_result"
    }
   ],
   "source": [
    "scores_df"
   ]
  },
  {
   "cell_type": "markdown",
   "metadata": {},
   "source": [
    "We see that linear models don't provide efiicient results on sample of original data set."
   ]
  },
  {
   "cell_type": "markdown",
   "metadata": {},
   "source": [
    "## Task 3 Feature Engineering\n",
    "Create derived features and perform more in-depth preprocessing and data cleaning. Does this improve your model? In particular, think about how to encode categorical variables."
   ]
  },
  {
   "cell_type": "code",
   "execution_count": 66,
   "metadata": {},
   "outputs": [
    {
     "name": "stdout",
     "output_type": "stream",
     "text": [
      "trans_date_trans_time has unique values: 1274791\n",
      "merchant has unique values: 693\n",
      "category has unique values: 14\n",
      "first has unique values: 352\n",
      "last has unique values: 481\n",
      "gender has unique values: 2\n",
      "street has unique values: 983\n",
      "city has unique values: 894\n",
      "state has unique values: 51\n",
      "job has unique values: 494\n",
      "dob has unique values: 968\n",
      "trans_num has unique values: 1296675\n"
     ]
    }
   ],
   "source": [
    "for (featureName, featureData) in full_train_df.select_dtypes(include=['object']).iteritems():\n",
    "    print(\"{} has unique values: {}\".format(featureName, featureData.nunique()))"
   ]
  },
  {
   "cell_type": "code",
   "execution_count": 69,
   "metadata": {},
   "outputs": [
    {
     "name": "stdout",
     "output_type": "stream",
     "text": [
      "Film/video editor                 9779\n",
      "Exhibition designer               9199\n",
      "Naval architect                   8684\n",
      "Surveyor, land/geomatics          8680\n",
      "Materials engineer                8270\n",
      "                                  ... \n",
      "Information officer                  8\n",
      "Armed forces technical officer       8\n",
      "Warehouse manager                    7\n",
      "Contracting civil engineer           7\n",
      "Ship broker                          7\n",
      "Name: job, Length: 494, dtype: int64\n",
      "TX    94876\n",
      "NY    83501\n",
      "PA    79847\n",
      "CA    56360\n",
      "OH    46480\n",
      "MI    46154\n",
      "IL    43252\n",
      "FL    42671\n",
      "AL    40989\n",
      "MO    38403\n",
      "MN    31714\n",
      "AR    31127\n",
      "NC    30266\n",
      "WI    29368\n",
      "VA    29250\n",
      "SC    29190\n",
      "KY    28475\n",
      "IN    27580\n",
      "IA    26985\n",
      "OK    26671\n",
      "MD    26193\n",
      "GA    26063\n",
      "WV    25691\n",
      "NJ    24603\n",
      "NE    24168\n",
      "KS    22996\n",
      "MS    21188\n",
      "LA    20965\n",
      "WY    19322\n",
      "WA    18924\n",
      "OR    18597\n",
      "TN    17554\n",
      "ME    16505\n",
      "NM    16407\n",
      "ND    14786\n",
      "CO    13880\n",
      "MA    12376\n",
      "SD    12324\n",
      "VT    11768\n",
      "MT    11754\n",
      "AZ    10770\n",
      "UT    10699\n",
      "NH     8278\n",
      "CT     7702\n",
      "NV     5607\n",
      "ID     5545\n",
      "DC     3613\n",
      "HI     2559\n",
      "AK     2120\n",
      "RI      550\n",
      "DE        9\n",
      "Name: state, dtype: int64\n"
     ]
    }
   ],
   "source": [
    "print(full_train_df.job.value_counts())\n",
    "print(full_train_df.state.value_counts())"
   ]
  },
  {
   "cell_type": "markdown",
   "metadata": {},
   "source": [
    "In order to see if feature engineering improves the result, we'll use the sam train data set as we used before.\n",
    "- We can see that categories features have high distribution of values, so will keep 10 the most popular values from categories state and job, and deocode the rest as 'other'\n",
    "### Feature engineering:\n",
    " - convert 'date of birth' feature to 'age' - age of card holder in days at the moment of transaction\n",
    " - replace features 'lat','long','merch_lat','merch_long' with new fature - distance between card holder and merchant\n",
    " - convert cc_car_number to category 'cc_type\" by identifying type of credit card\n",
    " - convert zip codes - replace it with average probability of fraud per zip\n",
    " - convert 'unix_time' to day of week and to hour"
   ]
  },
  {
   "cell_type": "code",
   "execution_count": 79,
   "metadata": {},
   "outputs": [],
   "source": [
    "import haversine as hs\n",
    "\n",
    "def add_feature_holder_merch_distance(df):\n",
    "    t0 = time.time()\n",
    "    _df = df.copy()\n",
    "    dist_list = []\n",
    "    \n",
    "    for index, row in df.iterrows():\n",
    "        loc1=(row['lat'],row['long'])\n",
    "        loc2=(row['merch_lat'],row['merch_long'])\n",
    "        dist = hs.haversine(loc1,loc2,unit=hs.Unit.METERS)\n",
    "        dist_list.append(round(dist,0))\n",
    "    _df['holder_merch_dist'] = dist_list\n",
    "    t1 = time.time()\n",
    "    print(\"add_feature_holder_merch_distance took {:.2} s\".format(t1 - t0))\n",
    "    return _df\n",
    "\n",
    "def convert_cc_to_cc_type_and_drop(df):\n",
    "    t0 = time.time()\n",
    "    _df = convert_cc_to_cc_type(df)\n",
    "    t1 = time.time()\n",
    "    print(\"convert_cc_to_cc_type_and_drop took {:.2} s\".format(t1 - t0))\n",
    "    return drop_columns(_df, [\"cc_num\"])\n",
    "\n",
    "def convert_cc_to_cc_type(df):\n",
    "    _df = df.copy()\n",
    "    cc_category_list = []\n",
    "    \n",
    "    for cc in df.cc_num:\n",
    "        cc_category_list.append(get_cc_type(cc))\n",
    "        \n",
    "    _df['cc_type'] = cc_category_list\n",
    "    return _df\n",
    "\n",
    "def get_cc_type(cc_number):\n",
    "    cc_number = str(cc_number)\n",
    "    if is_american_express(cc_number): return 'AMEX'\n",
    "    if is_visa(cc_number): return 'VISA'\n",
    "    if is_mastercard(cc_number): return 'MasterCard'\n",
    "    if is_discover(cc_number): return 'Discover'\n",
    "    if is_jcb(cc_number): return 'JCB'\n",
    "    if is_diners_club(cc_number): return 'DinersClub'\n",
    "    if is_laser(cc_number): return 'Laser'\n",
    "    if is_maestro(cc_number): return 'Maestro'\n",
    "    if is_visa_electron(cc_number): return 'VisaElectron'\n",
    "    if is_total_rewards_visa(cc_number): return 'TotalRewardsVisa'\n",
    "    if is_diners_club_carte_blanche(cc_number): return 'DinersClubCarteBlanche'\n",
    "    if is_diners_club_carte_international(cc_number): return 'DinersClubCarteInt'\n",
    "    \n",
    "    return 'unknown'\n",
    "\n",
    "def is_american_express(cc_number):\n",
    "    \"\"\"Checks if the card is an american express. If us billing address country code, & is_amex, use vpos\n",
    "    https://en.wikipedia.org/wiki/Bank_card_number#cite_note-GenCardFeatures-3\n",
    "    :param cc_number: unicode card number\n",
    "    \"\"\"\n",
    "    return bool(re.match(r'^3[47][0-9]{13}$', cc_number))\n",
    "\n",
    "\n",
    "def is_visa(cc_number):\n",
    "    \"\"\"Checks if the card is a visa, begins with 4 and 12 or 15 additional digits.\n",
    "    :param cc_number: unicode card number\n",
    "    \"\"\"\n",
    "\n",
    "    # Standard Visa is 13 or 16, debit can be 19\n",
    "    if bool(re.match(r'^4', cc_number)) and len(cc_number) in [13, 16, 19]:\n",
    "        return True\n",
    "\n",
    "    return False\n",
    "\n",
    "\n",
    "def is_mastercard(cc_number):\n",
    "    \"\"\"Checks if the card is a mastercard. Begins with 51-55 or 2221-2720 and 16 in length.\n",
    "    :param cc_number: unicode card number\n",
    "    \"\"\"\n",
    "    if len(cc_number) == 16 and cc_number.isdigit():  # Check digit, before cast to int\n",
    "        return bool(re.match(r'^5[1-5]', cc_number)) or int(cc_number[:4]) in range(2221, 2721)\n",
    "    return False\n",
    "\n",
    "\n",
    "def is_discover(cc_number):\n",
    "    \"\"\"Checks if the card is discover, re would be too hard to maintain. Not a supported card.\n",
    "    :param cc_number: unicode card number\n",
    "    \"\"\"\n",
    "    if len(cc_number) == 16:\n",
    "        try:\n",
    "            # return bool(cc_number[:4] == '6011' or cc_number[:2] == '65' or cc_number[:6] in range(622126, 622926))\n",
    "            return bool(cc_number[:4] == '6011' or cc_number[:2] == '65' or 622126 <= int(cc_number[:6]) <= 622925)\n",
    "        except ValueError:\n",
    "            return False\n",
    "    return False\n",
    "\n",
    "\n",
    "def is_jcb(cc_number):\n",
    "    \"\"\"Checks if the card is a jcb. Not a supported card.\n",
    "    :param cc_number: unicode card number\n",
    "    \"\"\"\n",
    "    # return bool(re.match(r'^(?:2131|1800|35\\d{3})\\d{11}$', cc_number))  # wikipedia\n",
    "    return bool(re.match(r'^35(2[89]|[3-8][0-9])[0-9]{12}$', cc_number))  # PawelDecowski\n",
    "\n",
    "\n",
    "def is_diners_club(cc_number):\n",
    "    \"\"\"Checks if the card is a diners club. Not a supported card.\n",
    "    :param cc_number: unicode card number\n",
    "    \"\"\"\n",
    "    return bool(re.match(r'^3(?:0[0-6]|[68][0-9])[0-9]{11}$', cc_number))  # 0-5 = carte blance, 6 = international\n",
    "\n",
    "\n",
    "def is_laser(cc_number):\n",
    "    \"\"\"Checks if the card is laser. Not a supported card.\n",
    "    :param cc_number: unicode card number\n",
    "    \"\"\"\n",
    "    return bool(re.match(r'^(6304|670[69]|6771)', cc_number))\n",
    "\n",
    "\n",
    "def is_maestro(cc_number):\n",
    "    \"\"\"Checks if the card is maestro. Not a supported card.\n",
    "    :param cc_number: unicode card number\n",
    "    \"\"\"\n",
    "    possible_lengths = [12, 13, 14, 15, 16, 17, 18, 19]\n",
    "    return bool(re.match(r'^(50|5[6-9]|6[0-9])', cc_number)) and len(cc_number) in possible_lengths\n",
    "\n",
    "\n",
    "# Child cards\n",
    "\n",
    "def is_visa_electron(cc_number):\n",
    "    \"\"\"Child of visa. Checks if the card is a visa electron. Not a supported card.\n",
    "    :param cc_number: unicode card number\n",
    "    \"\"\"\n",
    "    return bool(re.match(r'^(4026|417500|4508|4844|491(3|7))', cc_number)) and len(cc_number) == 16\n",
    "\n",
    "\n",
    "def is_total_rewards_visa(cc_number):\n",
    "    \"\"\"Child of visa. Checks if the card is a Total Rewards Visa. Not a supported card.\n",
    "    :param cc_number: unicode card number\n",
    "    \"\"\"\n",
    "    return bool(re.match(r'^41277777[0-9]{8}$', cc_number))\n",
    "\n",
    "\n",
    "def is_diners_club_carte_blanche(cc_number):\n",
    "    \"\"\"Child card of diners. Checks if the card is a diners club carte blance. Not a supported card.\n",
    "    :param cc_number: unicode card number\n",
    "    \"\"\"\n",
    "    return bool(re.match(r'^30[0-5][0-9]{11}$', cc_number))  # github PawelDecowski, jquery-creditcardvalidator\n",
    "\n",
    "\n",
    "def is_diners_club_carte_international(cc_number):\n",
    "    \"\"\"Child card of diners. Checks if the card is a diners club international. Not a supported card.\n",
    "    :param cc_number: unicode card number\n",
    "    \"\"\"\n",
    "    return bool(re.match(r'^36[0-9]{12}$', cc_number))  # jquery-creditcardvalidator\n",
    "\n",
    "def convert_dob_to_age(df): # calculate age in days at the moment of transaction\n",
    "    t0 = time.time()\n",
    "    _df = df.copy()\n",
    "    age_in_days = []\n",
    "    \n",
    "    for index, row in _df.iterrows():\n",
    "        birth_date  = datetime.datetime.strptime(row['dob'], '%Y-%m-%d')\n",
    "        trans_date  = datetime.datetime.strptime(row['trans_date_trans_time'],'%Y-%m-%d %H:%M:%S')\n",
    "        age = trans_date - birth_date\n",
    "        age_in_days.append(age.days)\n",
    "    \n",
    "    _df['age_in_days'] = age_in_days\n",
    "    t1 = time.time()\n",
    "    print(\"convert_dob_to_age took {:.2} s\".format(t1 - t0))\n",
    "    return _df\n",
    "\n",
    "def convert_dob_to_age_and_drop(df):\n",
    "    t0 = time.time()\n",
    "    converted_df = convert_dob_to_age(df)\n",
    "    return drop_columns(converted_df, [\"dob\"])\n",
    "\n",
    "from category_encoders import TargetEncoder\n",
    "def target_encode_zip(data):\n",
    "    t0 = time.time()\n",
    "    orig_zip = data['zip']\n",
    "    label = data['is_fraud']\n",
    "    data_no_label = drop_columns(data,'is_fraud')\n",
    "    te = TargetEncoder(cols='zip',return_df=True, drop_invariant = True).fit(data_no_label,label)\n",
    "    transformed = te.transform(data_no_label)\n",
    "    data['zip'] = transformed['zip'] # replace zip with fraud probability per zip\n",
    "    t1 = time.time()\n",
    "    print(\"target_encode_zip took {:.2} s\".format(t1 - t0))\n",
    "    return data\n",
    "\n",
    "def convert_unix_to_day(df):\n",
    "    t0 = time.time()\n",
    "    _df = df.copy()\n",
    "    days = []\n",
    "    \n",
    "    for index, row in _df.iterrows():\n",
    "        day = datetime.datetime.fromtimestamp(row['unix_time']).weekday()\n",
    "        days.append(day)\n",
    "    \n",
    "    _df['trans_day'] = days\n",
    "    t1 = time.time()\n",
    "    print(\"convert_unix_to_day took {:.2} s\".format(t1 - t0))\n",
    "    return _df\n",
    "\n",
    "def convert_unix_to_hour(df):\n",
    "    t0 = time.time()\n",
    "    _df = df.copy()\n",
    "    _df['trans_hour'] = _df['unix_time']  % 86400 #(86400s per 24h)\n",
    "    _df['trans_hour'] /= (86400/24)\n",
    "    t1 = time.time()\n",
    "    print(\"convert_unix_to_hour took {:.2} s\".format(t1 - t0))\n",
    "    return _df\n",
    "\n",
    "def cat_feature_to_other(df, featureName):\n",
    "    _df = df.copy()\n",
    "    total = len(_df[featureName].value_counts().index.to_list())\n",
    "    to_default = total - 10\n",
    "    less_popular = _df[featureName].value_counts().tail(to_default).index.tolist()\n",
    "    _df[featureName].replace(to_replace=less_popular, value='other', inplace=True)\n",
    "    return _df\n",
    "\n",
    "def add_new_featues(_df):\n",
    "    df = _df.copy()\n",
    "    df = add_feature_holder_merch_distance(df)\n",
    "    df = convert_cc_to_cc_type_and_drop(df)\n",
    "    df = convert_dob_to_age_and_drop(df)\n",
    "    df = target_encode_zip(df)\n",
    "    df = convert_unix_to_day(df)\n",
    "    df = convert_unix_to_hour(df)\n",
    "    df = cat_feature_to_other(df,'state')\n",
    "    df = cat_feature_to_other(df,'job')\n",
    "    return df"
   ]
  },
  {
   "cell_type": "code",
   "execution_count": 144,
   "metadata": {},
   "outputs": [
    {
     "name": "stdout",
     "output_type": "stream",
     "text": [
      "add_feature_holder_merch_distance took 4.5 s\n",
      "convert_cc_to_cc_type_and_drop took 0.27 s\n",
      "convert_dob_to_age took 5.4 s\n",
      "target_encode_zip took 0.17 s\n",
      "convert_unix_to_day took 3.6 s\n",
      "convert_unix_to_hour took 0.011 s\n"
     ]
    }
   ],
   "source": [
    "nf_columns_to_dummy=['state','gender','category','cc_type','job']\n",
    "nf_sampled_train_df = add_new_featues(sampled_train_df)\n",
    "nf_sampled_train_df = get_dummies(nf_sampled_train_df,nf_columns_to_dummy)\n",
    "nf_sampled_train_df = drop_columns(nf_sampled_train_df,columns_to_drop)\n",
    "X_nf_train_sampled,Y_nf_train_sampled  = get_label_and_drop(nf_sampled_train_df)"
   ]
  },
  {
   "cell_type": "code",
   "execution_count": 145,
   "metadata": {},
   "outputs": [
    {
     "name": "stdout",
     "output_type": "stream",
     "text": [
      "<class 'pandas.core.frame.DataFrame'>\n",
      "Int64Index: 64834 entries, 1045211 to 1066301\n",
      "Data columns (total 43 columns):\n",
      " #   Column                   Non-Null Count  Dtype  \n",
      "---  ------                   --------------  -----  \n",
      " 0   amt                      64834 non-null  float64\n",
      " 1   zip                      64834 non-null  float64\n",
      " 2   city_pop                 64834 non-null  int64  \n",
      " 3   holder_merch_dist        64834 non-null  float64\n",
      " 4   age_in_days              64834 non-null  int64  \n",
      " 5   trans_day                64834 non-null  int64  \n",
      " 6   trans_hour               64834 non-null  float64\n",
      " 7   state_AL                 64834 non-null  uint8  \n",
      " 8   state_CA                 64834 non-null  uint8  \n",
      " 9   state_FL                 64834 non-null  uint8  \n",
      " 10  state_IL                 64834 non-null  uint8  \n",
      " 11  state_MI                 64834 non-null  uint8  \n",
      " 12  state_MO                 64834 non-null  uint8  \n",
      " 13  state_NY                 64834 non-null  uint8  \n",
      " 14  state_OH                 64834 non-null  uint8  \n",
      " 15  state_PA                 64834 non-null  uint8  \n",
      " 16  state_TX                 64834 non-null  uint8  \n",
      " 17  state_other              64834 non-null  uint8  \n",
      " 18  gender_F                 64834 non-null  uint8  \n",
      " 19  gender_M                 64834 non-null  uint8  \n",
      " 20  category_entertainment   64834 non-null  uint8  \n",
      " 21  category_food_dining     64834 non-null  uint8  \n",
      " 22  category_gas_transport   64834 non-null  uint8  \n",
      " 23  category_grocery_net     64834 non-null  uint8  \n",
      " 24  category_grocery_pos     64834 non-null  uint8  \n",
      " 25  category_health_fitness  64834 non-null  uint8  \n",
      " 26  category_home            64834 non-null  uint8  \n",
      " 27  category_kids_pets       64834 non-null  uint8  \n",
      " 28  category_misc_net        64834 non-null  uint8  \n",
      " 29  category_misc_pos        64834 non-null  uint8  \n",
      " 30  category_personal_care   64834 non-null  uint8  \n",
      " 31  category_shopping_net    64834 non-null  uint8  \n",
      " 32  category_shopping_pos    64834 non-null  uint8  \n",
      " 33  category_travel          64834 non-null  uint8  \n",
      " 34  cc_type_AMEX             64834 non-null  uint8  \n",
      " 35  cc_type_DinersClub       64834 non-null  uint8  \n",
      " 36  cc_type_Discover         64834 non-null  uint8  \n",
      " 37  cc_type_JCB              64834 non-null  uint8  \n",
      " 38  cc_type_Laser            64834 non-null  uint8  \n",
      " 39  cc_type_Maestro          64834 non-null  uint8  \n",
      " 40  cc_type_MasterCard       64834 non-null  uint8  \n",
      " 41  cc_type_VISA             64834 non-null  uint8  \n",
      " 42  cc_type_unknown          64834 non-null  uint8  \n",
      "dtypes: float64(4), int64(3), uint8(36)\n",
      "memory usage: 8.2 MB\n"
     ]
    }
   ],
   "source": [
    "X_nf_train_sampled.info()"
   ]
  },
  {
   "cell_type": "code",
   "execution_count": 146,
   "metadata": {},
   "outputs": [
    {
     "name": "stdout",
     "output_type": "stream",
     "text": [
      "*********LogisticRegression *********\n",
      "*********LogisticRegressionCV *********\n",
      "*********PassiveAggressiveClassifier *********\n",
      "*********Perceptron *********\n",
      "*********RidgeClassifier *********\n",
      "*********RidgeClassifierCV *********\n",
      "*********SGDClassifier *********\n"
     ]
    }
   ],
   "source": [
    "for regressor in regressors:\n",
    "    get_cross_val_score(scores_df,regressor,X_nf_train_sampled,Y_nf_train_sampled,\"nf_sampled\")"
   ]
  },
  {
   "cell_type": "code",
   "execution_count": 147,
   "metadata": {},
   "outputs": [
    {
     "data": {
      "text/html": [
       "<div>\n",
       "<style scoped>\n",
       "    .dataframe tbody tr th:only-of-type {\n",
       "        vertical-align: middle;\n",
       "    }\n",
       "\n",
       "    .dataframe tbody tr th {\n",
       "        vertical-align: top;\n",
       "    }\n",
       "\n",
       "    .dataframe thead th {\n",
       "        text-align: right;\n",
       "    }\n",
       "</style>\n",
       "<table border=\"1\" class=\"dataframe\">\n",
       "  <thead>\n",
       "    <tr style=\"text-align: right;\">\n",
       "      <th></th>\n",
       "      <th>f1</th>\n",
       "      <th>roc_auc</th>\n",
       "      <th>average_precision</th>\n",
       "    </tr>\n",
       "  </thead>\n",
       "  <tbody>\n",
       "    <tr>\n",
       "      <th>LogisticRegression_sampled</th>\n",
       "      <td>0.000000</td>\n",
       "      <td>0.500000</td>\n",
       "      <td>0.005907</td>\n",
       "    </tr>\n",
       "    <tr>\n",
       "      <th>LogisticRegressionCV_sampled</th>\n",
       "      <td>0.000000</td>\n",
       "      <td>0.500000</td>\n",
       "      <td>0.005907</td>\n",
       "    </tr>\n",
       "    <tr>\n",
       "      <th>PassiveAggressiveClassifier_sampled</th>\n",
       "      <td>0.000000</td>\n",
       "      <td>0.506780</td>\n",
       "      <td>0.007661</td>\n",
       "    </tr>\n",
       "    <tr>\n",
       "      <th>Perceptron_sampled</th>\n",
       "      <td>0.000000</td>\n",
       "      <td>0.506882</td>\n",
       "      <td>0.007332</td>\n",
       "    </tr>\n",
       "    <tr>\n",
       "      <th>RidgeClassifier_sampled</th>\n",
       "      <td>0.000000</td>\n",
       "      <td>0.822267</td>\n",
       "      <td>0.186528</td>\n",
       "    </tr>\n",
       "    <tr>\n",
       "      <th>RidgeClassifierCV_sampled</th>\n",
       "      <td>0.010481</td>\n",
       "      <td>0.522032</td>\n",
       "      <td>0.007250</td>\n",
       "    </tr>\n",
       "    <tr>\n",
       "      <th>SGDClassifier_sampled</th>\n",
       "      <td>0.000000</td>\n",
       "      <td>0.506882</td>\n",
       "      <td>0.007332</td>\n",
       "    </tr>\n",
       "    <tr>\n",
       "      <th>LogisticRegression_nf_sampled</th>\n",
       "      <td>0.004938</td>\n",
       "      <td>0.659595</td>\n",
       "      <td>0.027005</td>\n",
       "    </tr>\n",
       "    <tr>\n",
       "      <th>LogisticRegressionCV_nf_sampled</th>\n",
       "      <td>0.000000</td>\n",
       "      <td>0.667592</td>\n",
       "      <td>0.032598</td>\n",
       "    </tr>\n",
       "    <tr>\n",
       "      <th>PassiveAggressiveClassifier_nf_sampled</th>\n",
       "      <td>0.000000</td>\n",
       "      <td>0.524886</td>\n",
       "      <td>0.010457</td>\n",
       "    </tr>\n",
       "    <tr>\n",
       "      <th>Perceptron_nf_sampled</th>\n",
       "      <td>0.022520</td>\n",
       "      <td>0.548669</td>\n",
       "      <td>0.012716</td>\n",
       "    </tr>\n",
       "    <tr>\n",
       "      <th>RidgeClassifier_nf_sampled</th>\n",
       "      <td>0.086767</td>\n",
       "      <td>0.938340</td>\n",
       "      <td>0.296802</td>\n",
       "    </tr>\n",
       "    <tr>\n",
       "      <th>RidgeClassifierCV_nf_sampled</th>\n",
       "      <td>0.025916</td>\n",
       "      <td>0.797556</td>\n",
       "      <td>0.051917</td>\n",
       "    </tr>\n",
       "    <tr>\n",
       "      <th>SGDClassifier_nf_sampled</th>\n",
       "      <td>0.049669</td>\n",
       "      <td>0.603589</td>\n",
       "      <td>0.037074</td>\n",
       "    </tr>\n",
       "  </tbody>\n",
       "</table>\n",
       "</div>"
      ],
      "text/plain": [
       "                                              f1   roc_auc  average_precision\n",
       "LogisticRegression_sampled              0.000000  0.500000           0.005907\n",
       "LogisticRegressionCV_sampled            0.000000  0.500000           0.005907\n",
       "PassiveAggressiveClassifier_sampled     0.000000  0.506780           0.007661\n",
       "Perceptron_sampled                      0.000000  0.506882           0.007332\n",
       "RidgeClassifier_sampled                 0.000000  0.822267           0.186528\n",
       "RidgeClassifierCV_sampled               0.010481  0.522032           0.007250\n",
       "SGDClassifier_sampled                   0.000000  0.506882           0.007332\n",
       "LogisticRegression_nf_sampled           0.004938  0.659595           0.027005\n",
       "LogisticRegressionCV_nf_sampled         0.000000  0.667592           0.032598\n",
       "PassiveAggressiveClassifier_nf_sampled  0.000000  0.524886           0.010457\n",
       "Perceptron_nf_sampled                   0.022520  0.548669           0.012716\n",
       "RidgeClassifier_nf_sampled              0.086767  0.938340           0.296802\n",
       "RidgeClassifierCV_nf_sampled            0.025916  0.797556           0.051917\n",
       "SGDClassifier_nf_sampled                0.049669  0.603589           0.037074"
      ]
     },
     "execution_count": 147,
     "metadata": {},
     "output_type": "execute_result"
    }
   ],
   "source": [
    "scores_df"
   ]
  },
  {
   "cell_type": "markdown",
   "metadata": {},
   "source": [
    "We see that feature engineering improves the results, so we can conclude that we can continue with newly added features and validate model on further steps"
   ]
  },
  {
   "cell_type": "markdown",
   "metadata": {},
   "source": [
    "## Task 4 Any model\n",
    "Use any classification model we discussed (trees, forests, boosting, SVM) to improve your result. You can (and probably should) change your preprocessing and feature engineering to be suitable for the model. You are not required to try all of these models. Tune parameters as appropriate"
   ]
  },
  {
   "cell_type": "code",
   "execution_count": 148,
   "metadata": {},
   "outputs": [],
   "source": [
    "classifiers = [\n",
    "    SVC(),\n",
    "    DecisionTreeClassifier(),\n",
    "    RandomForestClassifier(),\n",
    "    XGBClassifier()\n",
    "]"
   ]
  },
  {
   "cell_type": "code",
   "execution_count": 149,
   "metadata": {},
   "outputs": [
    {
     "name": "stdout",
     "output_type": "stream",
     "text": [
      "*********SVC *********\n",
      "*********DecisionTreeClassifier *********\n",
      "*********RandomForestClassifier *********\n",
      "*********XGBClassifier *********\n"
     ]
    }
   ],
   "source": [
    "for classifier in classifiers:\n",
    "    get_cross_val_score(scores_df,classifier,X_nf_train_sampled,Y_nf_train_sampled,\"nf_sampled\")"
   ]
  },
  {
   "cell_type": "code",
   "execution_count": 150,
   "metadata": {},
   "outputs": [
    {
     "data": {
      "text/html": [
       "<div>\n",
       "<style scoped>\n",
       "    .dataframe tbody tr th:only-of-type {\n",
       "        vertical-align: middle;\n",
       "    }\n",
       "\n",
       "    .dataframe tbody tr th {\n",
       "        vertical-align: top;\n",
       "    }\n",
       "\n",
       "    .dataframe thead th {\n",
       "        text-align: right;\n",
       "    }\n",
       "</style>\n",
       "<table border=\"1\" class=\"dataframe\">\n",
       "  <thead>\n",
       "    <tr style=\"text-align: right;\">\n",
       "      <th></th>\n",
       "      <th>f1</th>\n",
       "      <th>roc_auc</th>\n",
       "      <th>average_precision</th>\n",
       "    </tr>\n",
       "  </thead>\n",
       "  <tbody>\n",
       "    <tr>\n",
       "      <th>LogisticRegression_sampled</th>\n",
       "      <td>0.000000</td>\n",
       "      <td>0.500000</td>\n",
       "      <td>0.005907</td>\n",
       "    </tr>\n",
       "    <tr>\n",
       "      <th>LogisticRegressionCV_sampled</th>\n",
       "      <td>0.000000</td>\n",
       "      <td>0.500000</td>\n",
       "      <td>0.005907</td>\n",
       "    </tr>\n",
       "    <tr>\n",
       "      <th>PassiveAggressiveClassifier_sampled</th>\n",
       "      <td>0.000000</td>\n",
       "      <td>0.506780</td>\n",
       "      <td>0.007661</td>\n",
       "    </tr>\n",
       "    <tr>\n",
       "      <th>Perceptron_sampled</th>\n",
       "      <td>0.000000</td>\n",
       "      <td>0.506882</td>\n",
       "      <td>0.007332</td>\n",
       "    </tr>\n",
       "    <tr>\n",
       "      <th>RidgeClassifier_sampled</th>\n",
       "      <td>0.000000</td>\n",
       "      <td>0.822267</td>\n",
       "      <td>0.186528</td>\n",
       "    </tr>\n",
       "    <tr>\n",
       "      <th>RidgeClassifierCV_sampled</th>\n",
       "      <td>0.010481</td>\n",
       "      <td>0.522032</td>\n",
       "      <td>0.007250</td>\n",
       "    </tr>\n",
       "    <tr>\n",
       "      <th>SGDClassifier_sampled</th>\n",
       "      <td>0.000000</td>\n",
       "      <td>0.506882</td>\n",
       "      <td>0.007332</td>\n",
       "    </tr>\n",
       "    <tr>\n",
       "      <th>LogisticRegression_nf_sampled</th>\n",
       "      <td>0.004938</td>\n",
       "      <td>0.659595</td>\n",
       "      <td>0.027005</td>\n",
       "    </tr>\n",
       "    <tr>\n",
       "      <th>LogisticRegressionCV_nf_sampled</th>\n",
       "      <td>0.000000</td>\n",
       "      <td>0.667592</td>\n",
       "      <td>0.032598</td>\n",
       "    </tr>\n",
       "    <tr>\n",
       "      <th>PassiveAggressiveClassifier_nf_sampled</th>\n",
       "      <td>0.000000</td>\n",
       "      <td>0.524886</td>\n",
       "      <td>0.010457</td>\n",
       "    </tr>\n",
       "    <tr>\n",
       "      <th>Perceptron_nf_sampled</th>\n",
       "      <td>0.022520</td>\n",
       "      <td>0.548669</td>\n",
       "      <td>0.012716</td>\n",
       "    </tr>\n",
       "    <tr>\n",
       "      <th>RidgeClassifier_nf_sampled</th>\n",
       "      <td>0.086767</td>\n",
       "      <td>0.938340</td>\n",
       "      <td>0.296802</td>\n",
       "    </tr>\n",
       "    <tr>\n",
       "      <th>RidgeClassifierCV_nf_sampled</th>\n",
       "      <td>0.025916</td>\n",
       "      <td>0.797556</td>\n",
       "      <td>0.051917</td>\n",
       "    </tr>\n",
       "    <tr>\n",
       "      <th>SGDClassifier_nf_sampled</th>\n",
       "      <td>0.049669</td>\n",
       "      <td>0.603589</td>\n",
       "      <td>0.037074</td>\n",
       "    </tr>\n",
       "    <tr>\n",
       "      <th>SVC_nf_sampled</th>\n",
       "      <td>0.000000</td>\n",
       "      <td>0.504337</td>\n",
       "      <td>0.007008</td>\n",
       "    </tr>\n",
       "    <tr>\n",
       "      <th>DecisionTreeClassifier_nf_sampled</th>\n",
       "      <td>0.722082</td>\n",
       "      <td>0.859575</td>\n",
       "      <td>0.525775</td>\n",
       "    </tr>\n",
       "    <tr>\n",
       "      <th>RandomForestClassifier_nf_sampled</th>\n",
       "      <td>0.695504</td>\n",
       "      <td>0.978984</td>\n",
       "      <td>0.839464</td>\n",
       "    </tr>\n",
       "    <tr>\n",
       "      <th>XGBClassifier_nf_sampled</th>\n",
       "      <td>0.829132</td>\n",
       "      <td>0.997097</td>\n",
       "      <td>0.896816</td>\n",
       "    </tr>\n",
       "  </tbody>\n",
       "</table>\n",
       "</div>"
      ],
      "text/plain": [
       "                                              f1   roc_auc  average_precision\n",
       "LogisticRegression_sampled              0.000000  0.500000           0.005907\n",
       "LogisticRegressionCV_sampled            0.000000  0.500000           0.005907\n",
       "PassiveAggressiveClassifier_sampled     0.000000  0.506780           0.007661\n",
       "Perceptron_sampled                      0.000000  0.506882           0.007332\n",
       "RidgeClassifier_sampled                 0.000000  0.822267           0.186528\n",
       "RidgeClassifierCV_sampled               0.010481  0.522032           0.007250\n",
       "SGDClassifier_sampled                   0.000000  0.506882           0.007332\n",
       "LogisticRegression_nf_sampled           0.004938  0.659595           0.027005\n",
       "LogisticRegressionCV_nf_sampled         0.000000  0.667592           0.032598\n",
       "PassiveAggressiveClassifier_nf_sampled  0.000000  0.524886           0.010457\n",
       "Perceptron_nf_sampled                   0.022520  0.548669           0.012716\n",
       "RidgeClassifier_nf_sampled              0.086767  0.938340           0.296802\n",
       "RidgeClassifierCV_nf_sampled            0.025916  0.797556           0.051917\n",
       "SGDClassifier_nf_sampled                0.049669  0.603589           0.037074\n",
       "SVC_nf_sampled                          0.000000  0.504337           0.007008\n",
       "DecisionTreeClassifier_nf_sampled       0.722082  0.859575           0.525775\n",
       "RandomForestClassifier_nf_sampled       0.695504  0.978984           0.839464\n",
       "XGBClassifier_nf_sampled                0.829132  0.997097           0.896816"
      ]
     },
     "execution_count": 150,
     "metadata": {},
     "output_type": "execute_result"
    }
   ],
   "source": [
    "scores_df"
   ]
  },
  {
   "cell_type": "markdown",
   "metadata": {},
   "source": [
    "From cross-validation scores we can see that in general classification models perform better than linear regressors.\n",
    "SVC gives poor score, so we'll try to tune parameters for the rest of models."
   ]
  },
  {
   "cell_type": "code",
   "execution_count": 97,
   "metadata": {},
   "outputs": [],
   "source": [
    "def get_best_estimator(estimator,params,X,y,best_params_dict):\n",
    "    print('*********' + estimator.__class__.__name__  + '*********')\n",
    "    grid = GridSearchCV(estimator, params, n_jobs = -1)\n",
    "    grid.fit(X, y)\n",
    "    best_params_dict[estimator.__class__.__name__] = grid.best_params_\n",
    "    return grid.best_estimator_"
   ]
  },
  {
   "cell_type": "code",
   "execution_count": 103,
   "metadata": {},
   "outputs": [],
   "source": [
    "best_params_dict = {}\n",
    "best_estimators = {}\n",
    "params_dict = { \n",
    "    DecisionTreeClassifier():  {\"criterion\": [\"gini\", \"entropy\"],\n",
    "                                'max_depth': [15,20,25],\n",
    "                                \"min_samples_leaf\": list(range(5,7,1))},\n",
    "    RandomForestClassifier(): {\"criterion\": [\"gini\", \"entropy\"],\n",
    "                               'n_estimators': [400, 700, 1000],\n",
    "                                'max_depth': [15,20,25],\n",
    "                                'max_leaf_nodes': [50, 100, 200]} #,\n",
    "#     XGBClassifier(): {'n_estimators': [400, 700, 1000],\n",
    "#                     'max_depth': [15,20,25],\n",
    "#                      'verbosity':[1]}\n",
    "}"
   ]
  },
  {
   "cell_type": "code",
   "execution_count": 104,
   "metadata": {},
   "outputs": [
    {
     "name": "stdout",
     "output_type": "stream",
     "text": [
      "*********DecisionTreeClassifier*********\n",
      "*********RandomForestClassifier*********\n"
     ]
    }
   ],
   "source": [
    "for estimator, params in params_dict.items():\n",
    "    best_estimators[estimator.__class__.__name__] = get_best_estimator(estimator,params,X_nf_train_sampled,Y_nf_train_sampled,best_params_dict)"
   ]
  },
  {
   "cell_type": "code",
   "execution_count": 105,
   "metadata": {},
   "outputs": [
    {
     "data": {
      "text/plain": [
       "{'DecisionTreeClassifier': DecisionTreeClassifier(criterion='entropy', max_depth=15, min_samples_leaf=6),\n",
       " 'RandomForestClassifier': RandomForestClassifier(criterion='entropy', max_depth=20, max_leaf_nodes=200,\n",
       "                        n_estimators=1000)}"
      ]
     },
     "execution_count": 105,
     "metadata": {},
     "output_type": "execute_result"
    }
   ],
   "source": [
    "best_estimators"
   ]
  },
  {
   "cell_type": "code",
   "execution_count": 106,
   "metadata": {},
   "outputs": [
    {
     "name": "stdout",
     "output_type": "stream",
     "text": [
      "*********DecisionTreeClassifier *********\n",
      "*********RandomForestClassifier *********\n"
     ]
    }
   ],
   "source": [
    "for name,estimator in best_estimators.items():\n",
    "    get_cross_val_score(scores_df,estimator,X_nf_train_sampled,Y_nf_train_sampled,\"tuned_nf_sampled\")"
   ]
  },
  {
   "cell_type": "code",
   "execution_count": 115,
   "metadata": {},
   "outputs": [
    {
     "data": {
      "text/html": [
       "<div>\n",
       "<style scoped>\n",
       "    .dataframe tbody tr th:only-of-type {\n",
       "        vertical-align: middle;\n",
       "    }\n",
       "\n",
       "    .dataframe tbody tr th {\n",
       "        vertical-align: top;\n",
       "    }\n",
       "\n",
       "    .dataframe thead th {\n",
       "        text-align: right;\n",
       "    }\n",
       "</style>\n",
       "<table border=\"1\" class=\"dataframe\">\n",
       "  <thead>\n",
       "    <tr style=\"text-align: right;\">\n",
       "      <th></th>\n",
       "      <th>f1</th>\n",
       "      <th>roc_auc</th>\n",
       "      <th>average_precision</th>\n",
       "    </tr>\n",
       "  </thead>\n",
       "  <tbody>\n",
       "    <tr>\n",
       "      <th>RandomForestClassifier_nf_sampled</th>\n",
       "      <td>0.624745</td>\n",
       "      <td>0.977904</td>\n",
       "      <td>0.816259</td>\n",
       "    </tr>\n",
       "    <tr>\n",
       "      <th>RandomForestClassifier_tuned_nf_sampled</th>\n",
       "      <td>0.739542</td>\n",
       "      <td>0.996639</td>\n",
       "      <td>0.869719</td>\n",
       "    </tr>\n",
       "    <tr>\n",
       "      <th>DecisionTreeClassifier_nf_sampled</th>\n",
       "      <td>0.747678</td>\n",
       "      <td>0.881060</td>\n",
       "      <td>0.564909</td>\n",
       "    </tr>\n",
       "    <tr>\n",
       "      <th>DecisionTreeClassifier_tuned_nf_sampled</th>\n",
       "      <td>0.777739</td>\n",
       "      <td>0.911398</td>\n",
       "      <td>0.759432</td>\n",
       "    </tr>\n",
       "    <tr>\n",
       "      <th>XGBClassifier_nf_sampled</th>\n",
       "      <td>0.808058</td>\n",
       "      <td>0.996064</td>\n",
       "      <td>0.883019</td>\n",
       "    </tr>\n",
       "  </tbody>\n",
       "</table>\n",
       "</div>"
      ],
      "text/plain": [
       "                                               f1   roc_auc  average_precision\n",
       "RandomForestClassifier_nf_sampled        0.624745  0.977904           0.816259\n",
       "RandomForestClassifier_tuned_nf_sampled  0.739542  0.996639           0.869719\n",
       "DecisionTreeClassifier_nf_sampled        0.747678  0.881060           0.564909\n",
       "DecisionTreeClassifier_tuned_nf_sampled  0.777739  0.911398           0.759432\n",
       "XGBClassifier_nf_sampled                 0.808058  0.996064           0.883019"
      ]
     },
     "metadata": {},
     "output_type": "display_data"
    },
    {
     "data": {
      "text/html": [
       "<div>\n",
       "<style scoped>\n",
       "    .dataframe tbody tr th:only-of-type {\n",
       "        vertical-align: middle;\n",
       "    }\n",
       "\n",
       "    .dataframe tbody tr th {\n",
       "        vertical-align: top;\n",
       "    }\n",
       "\n",
       "    .dataframe thead th {\n",
       "        text-align: right;\n",
       "    }\n",
       "</style>\n",
       "<table border=\"1\" class=\"dataframe\">\n",
       "  <thead>\n",
       "    <tr style=\"text-align: right;\">\n",
       "      <th></th>\n",
       "      <th>f1</th>\n",
       "      <th>roc_auc</th>\n",
       "      <th>average_precision</th>\n",
       "    </tr>\n",
       "  </thead>\n",
       "  <tbody>\n",
       "    <tr>\n",
       "      <th>DecisionTreeClassifier_tuned_nf_sampled</th>\n",
       "      <td>0.777739</td>\n",
       "      <td>0.911398</td>\n",
       "      <td>0.759432</td>\n",
       "    </tr>\n",
       "    <tr>\n",
       "      <th>RidgeClassifier_nf_sampled</th>\n",
       "      <td>0.053360</td>\n",
       "      <td>0.965998</td>\n",
       "      <td>0.264771</td>\n",
       "    </tr>\n",
       "    <tr>\n",
       "      <th>RandomForestClassifier_nf_sampled</th>\n",
       "      <td>0.624745</td>\n",
       "      <td>0.977904</td>\n",
       "      <td>0.816259</td>\n",
       "    </tr>\n",
       "    <tr>\n",
       "      <th>XGBClassifier_nf_sampled</th>\n",
       "      <td>0.808058</td>\n",
       "      <td>0.996064</td>\n",
       "      <td>0.883019</td>\n",
       "    </tr>\n",
       "    <tr>\n",
       "      <th>RandomForestClassifier_tuned_nf_sampled</th>\n",
       "      <td>0.739542</td>\n",
       "      <td>0.996639</td>\n",
       "      <td>0.869719</td>\n",
       "    </tr>\n",
       "  </tbody>\n",
       "</table>\n",
       "</div>"
      ],
      "text/plain": [
       "                                               f1   roc_auc  average_precision\n",
       "DecisionTreeClassifier_tuned_nf_sampled  0.777739  0.911398           0.759432\n",
       "RidgeClassifier_nf_sampled               0.053360  0.965998           0.264771\n",
       "RandomForestClassifier_nf_sampled        0.624745  0.977904           0.816259\n",
       "XGBClassifier_nf_sampled                 0.808058  0.996064           0.883019\n",
       "RandomForestClassifier_tuned_nf_sampled  0.739542  0.996639           0.869719"
      ]
     },
     "metadata": {},
     "output_type": "display_data"
    },
    {
     "data": {
      "text/html": [
       "<div>\n",
       "<style scoped>\n",
       "    .dataframe tbody tr th:only-of-type {\n",
       "        vertical-align: middle;\n",
       "    }\n",
       "\n",
       "    .dataframe tbody tr th {\n",
       "        vertical-align: top;\n",
       "    }\n",
       "\n",
       "    .dataframe thead th {\n",
       "        text-align: right;\n",
       "    }\n",
       "</style>\n",
       "<table border=\"1\" class=\"dataframe\">\n",
       "  <thead>\n",
       "    <tr style=\"text-align: right;\">\n",
       "      <th></th>\n",
       "      <th>f1</th>\n",
       "      <th>roc_auc</th>\n",
       "      <th>average_precision</th>\n",
       "    </tr>\n",
       "  </thead>\n",
       "  <tbody>\n",
       "    <tr>\n",
       "      <th>DecisionTreeClassifier_nf_sampled</th>\n",
       "      <td>0.747678</td>\n",
       "      <td>0.881060</td>\n",
       "      <td>0.564909</td>\n",
       "    </tr>\n",
       "    <tr>\n",
       "      <th>DecisionTreeClassifier_tuned_nf_sampled</th>\n",
       "      <td>0.777739</td>\n",
       "      <td>0.911398</td>\n",
       "      <td>0.759432</td>\n",
       "    </tr>\n",
       "    <tr>\n",
       "      <th>RandomForestClassifier_nf_sampled</th>\n",
       "      <td>0.624745</td>\n",
       "      <td>0.977904</td>\n",
       "      <td>0.816259</td>\n",
       "    </tr>\n",
       "    <tr>\n",
       "      <th>RandomForestClassifier_tuned_nf_sampled</th>\n",
       "      <td>0.739542</td>\n",
       "      <td>0.996639</td>\n",
       "      <td>0.869719</td>\n",
       "    </tr>\n",
       "    <tr>\n",
       "      <th>XGBClassifier_nf_sampled</th>\n",
       "      <td>0.808058</td>\n",
       "      <td>0.996064</td>\n",
       "      <td>0.883019</td>\n",
       "    </tr>\n",
       "  </tbody>\n",
       "</table>\n",
       "</div>"
      ],
      "text/plain": [
       "                                               f1   roc_auc  average_precision\n",
       "DecisionTreeClassifier_nf_sampled        0.747678  0.881060           0.564909\n",
       "DecisionTreeClassifier_tuned_nf_sampled  0.777739  0.911398           0.759432\n",
       "RandomForestClassifier_nf_sampled        0.624745  0.977904           0.816259\n",
       "RandomForestClassifier_tuned_nf_sampled  0.739542  0.996639           0.869719\n",
       "XGBClassifier_nf_sampled                 0.808058  0.996064           0.883019"
      ]
     },
     "metadata": {},
     "output_type": "display_data"
    }
   ],
   "source": [
    "display(scores_df.sort_values(by='f1').tail(5))\n",
    "display(scores_df.sort_values(by='roc_auc').tail(5))\n",
    "display(scores_df.sort_values(by='average_precision').tail(5))"
   ]
  },
  {
   "cell_type": "code",
   "execution_count": 151,
   "metadata": {},
   "outputs": [],
   "source": [
    "selected_model = XGBClassifier() # TBD : replace with best_estimators['XGBClassifier']"
   ]
  },
  {
   "cell_type": "markdown",
   "metadata": {},
   "source": [
    "According to the scores, the best model for our data is XGBClassifier. "
   ]
  },
  {
   "cell_type": "markdown",
   "metadata": {},
   "source": [
    "## Task 5 Feature Selections\n",
    "Identify features that are important for your best model. Which features are most influential,and which features could be removed without decrease in performance? Does removing irrelevant features make your model better?"
   ]
  },
  {
   "cell_type": "code",
   "execution_count": 152,
   "metadata": {},
   "outputs": [],
   "source": [
    "def select_features(percent,X_train,y_train):\n",
    "    select = SelectPercentile(score_func=f_regression, percentile=percent)\n",
    "    select.fit(X_train, y_train)\n",
    "    X_train_sel = select.transform(X_train)\n",
    "    return select,X_train_sel"
   ]
  },
  {
   "cell_type": "code",
   "execution_count": 158,
   "metadata": {},
   "outputs": [
    {
     "name": "stdout",
     "output_type": "stream",
     "text": [
      "add_feature_holder_merch_distance took 9e+01 s\n",
      "convert_cc_to_cc_type_and_drop took 5.6 s\n",
      "convert_dob_to_age took 1.1e+02 s\n",
      "target_encode_zip took 3.4 s\n",
      "convert_unix_to_day took 7.1e+01 s\n",
      "convert_unix_to_hour took 0.27 s\n"
     ]
    }
   ],
   "source": [
    "columns_to_drop = ['Unnamed: 0', \"trans_date_trans_time\", \"merchant\", \"first\", \"last\", \"street\", \"city\", \"lat\", \"long\", \"dob\", \"trans_num\", \"merch_lat\", \"merch_long\", \"unix_time\"]\n",
    "columns_to_dummy =['gender','category','state','job']\n",
    "nf_full_train_df = add_new_featues(full_train_df)\n",
    "nf_full_train_df = get_dummies(nf_full_train_df,nf_columns_to_dummy)\n",
    "nf_full_train_df = drop_columns(nf_full_train_df,columns_to_drop)\n",
    "X_nf_full_train,Y_nf_full_train  = get_label_and_drop(nf_full_train_df)"
   ]
  },
  {
   "cell_type": "code",
   "execution_count": 163,
   "metadata": {},
   "outputs": [],
   "source": [
    "nf_full_train_df = pd.get_dummies(nf_full_train_df,['job'])"
   ]
  },
  {
   "cell_type": "code",
   "execution_count": 165,
   "metadata": {},
   "outputs": [
    {
     "name": "stdout",
     "output_type": "stream",
     "text": [
      "<class 'pandas.core.frame.DataFrame'>\n",
      "RangeIndex: 1296675 entries, 0 to 1296674\n",
      "Data columns (total 55 columns):\n",
      " #   Column                          Non-Null Count    Dtype  \n",
      "---  ------                          --------------    -----  \n",
      " 0   is_fraud                        1296675 non-null  int64  \n",
      " 1   amt                             1296675 non-null  float64\n",
      " 2   zip                             1296675 non-null  float64\n",
      " 3   city_pop                        1296675 non-null  int64  \n",
      " 4   holder_merch_dist               1296675 non-null  float64\n",
      " 5   age_in_days                     1296675 non-null  int64  \n",
      " 6   trans_day                       1296675 non-null  int64  \n",
      " 7   trans_hour                      1296675 non-null  float64\n",
      " 8   state_AL                        1296675 non-null  uint8  \n",
      " 9   state_CA                        1296675 non-null  uint8  \n",
      " 10  state_FL                        1296675 non-null  uint8  \n",
      " 11  state_IL                        1296675 non-null  uint8  \n",
      " 12  state_MI                        1296675 non-null  uint8  \n",
      " 13  state_MO                        1296675 non-null  uint8  \n",
      " 14  state_NY                        1296675 non-null  uint8  \n",
      " 15  state_OH                        1296675 non-null  uint8  \n",
      " 16  state_PA                        1296675 non-null  uint8  \n",
      " 17  state_TX                        1296675 non-null  uint8  \n",
      " 18  state_other                     1296675 non-null  uint8  \n",
      " 19  gender_F                        1296675 non-null  uint8  \n",
      " 20  gender_M                        1296675 non-null  uint8  \n",
      " 21  category_entertainment          1296675 non-null  uint8  \n",
      " 22  category_food_dining            1296675 non-null  uint8  \n",
      " 23  category_gas_transport          1296675 non-null  uint8  \n",
      " 24  category_grocery_net            1296675 non-null  uint8  \n",
      " 25  category_grocery_pos            1296675 non-null  uint8  \n",
      " 26  category_health_fitness         1296675 non-null  uint8  \n",
      " 27  category_home                   1296675 non-null  uint8  \n",
      " 28  category_kids_pets              1296675 non-null  uint8  \n",
      " 29  category_misc_net               1296675 non-null  uint8  \n",
      " 30  category_misc_pos               1296675 non-null  uint8  \n",
      " 31  category_personal_care          1296675 non-null  uint8  \n",
      " 32  category_shopping_net           1296675 non-null  uint8  \n",
      " 33  category_shopping_pos           1296675 non-null  uint8  \n",
      " 34  category_travel                 1296675 non-null  uint8  \n",
      " 35  cc_type_AMEX                    1296675 non-null  uint8  \n",
      " 36  cc_type_DinersClub              1296675 non-null  uint8  \n",
      " 37  cc_type_Discover                1296675 non-null  uint8  \n",
      " 38  cc_type_JCB                     1296675 non-null  uint8  \n",
      " 39  cc_type_Laser                   1296675 non-null  uint8  \n",
      " 40  cc_type_Maestro                 1296675 non-null  uint8  \n",
      " 41  cc_type_MasterCard              1296675 non-null  uint8  \n",
      " 42  cc_type_VISA                    1296675 non-null  uint8  \n",
      " 43  cc_type_unknown                 1296675 non-null  uint8  \n",
      " 44  job_Designer, ceramics/pottery  1296675 non-null  uint8  \n",
      " 45  job_Environmental consultant    1296675 non-null  uint8  \n",
      " 46  job_Exhibition designer         1296675 non-null  uint8  \n",
      " 47  job_Film/video editor           1296675 non-null  uint8  \n",
      " 48  job_Financial adviser           1296675 non-null  uint8  \n",
      " 49  job_IT trainer                  1296675 non-null  uint8  \n",
      " 50  job_Materials engineer          1296675 non-null  uint8  \n",
      " 51  job_Naval architect             1296675 non-null  uint8  \n",
      " 52  job_Surveyor, land/geomatics    1296675 non-null  uint8  \n",
      " 53  job_Systems developer           1296675 non-null  uint8  \n",
      " 54  job_other                       1296675 non-null  uint8  \n",
      "dtypes: float64(4), int64(4), uint8(47)\n",
      "memory usage: 137.3 MB\n"
     ]
    }
   ],
   "source": [
    "nf_full_train_df.info()\n",
    "X_nf_full_train,Y_nf_full_train  = get_label_and_drop(nf_full_train_df)"
   ]
  },
  {
   "cell_type": "code",
   "execution_count": 167,
   "metadata": {},
   "outputs": [
    {
     "name": "stdout",
     "output_type": "stream",
     "text": [
      "(1296675, 27)\n"
     ]
    }
   ],
   "source": [
    "select,X_nf_selected = select_features(50,X_nf_full_train,Y_nf_full_train)\n",
    "print(X_nf_selected.shape)\n",
    "indexes = select.get_support(indices=True)\n",
    "selected_features = X_nf_full_train.columns[indexes]"
   ]
  },
  {
   "cell_type": "code",
   "execution_count": 168,
   "metadata": {},
   "outputs": [
    {
     "data": {
      "text/plain": [
       "Index(['amt', 'zip', 'age_in_days', 'trans_day', 'trans_hour', 'gender_F',\n",
       "       'gender_M', 'category_entertainment', 'category_food_dining',\n",
       "       'category_gas_transport', 'category_grocery_net',\n",
       "       'category_grocery_pos', 'category_health_fitness', 'category_home',\n",
       "       'category_kids_pets', 'category_misc_net', 'category_misc_pos',\n",
       "       'category_personal_care', 'category_shopping_net',\n",
       "       'category_shopping_pos', 'category_travel', 'cc_type_AMEX',\n",
       "       'cc_type_DinersClub', 'cc_type_Maestro',\n",
       "       'job_Designer, ceramics/pottery', 'job_Systems developer', 'job_other'],\n",
       "      dtype='object')"
      ]
     },
     "execution_count": 168,
     "metadata": {},
     "output_type": "execute_result"
    }
   ],
   "source": [
    "selected_features"
   ]
  },
  {
   "cell_type": "code",
   "execution_count": 154,
   "metadata": {},
   "outputs": [
    {
     "data": {
      "text/plain": [
       "Index(['amt', 'zip', 'age_in_days', 'trans_day', 'trans_hour', 'state_MI',\n",
       "       'gender_F', 'gender_M', 'category_entertainment',\n",
       "       'category_food_dining', 'category_grocery_net', 'category_grocery_pos',\n",
       "       'category_health_fitness', 'category_home', 'category_kids_pets',\n",
       "       'category_misc_net', 'category_personal_care', 'category_shopping_net',\n",
       "       'category_shopping_pos', 'category_travel', 'cc_type_Maestro'],\n",
       "      dtype='object')"
      ]
     },
     "execution_count": 154,
     "metadata": {},
     "output_type": "execute_result"
    }
   ],
   "source": [
    "selected_features"
   ]
  },
  {
   "cell_type": "code",
   "execution_count": 170,
   "metadata": {},
   "outputs": [
    {
     "name": "stdout",
     "output_type": "stream",
     "text": [
      "*********XGBClassifier *********\n"
     ]
    }
   ],
   "source": [
    "get_cross_val_score(scores_df,selected_model,X_nf_selected,Y_nf_full_train,\"selected_nf\")"
   ]
  },
  {
   "cell_type": "code",
   "execution_count": 172,
   "metadata": {},
   "outputs": [
    {
     "name": "stdout",
     "output_type": "stream",
     "text": [
      "*********XGBClassifier *********\n"
     ]
    }
   ],
   "source": [
    "get_cross_val_score(scores_df,XGBClassifier(),X_nf_full_train,Y_nf_full_train,\"full_nf\")"
   ]
  },
  {
   "cell_type": "code",
   "execution_count": 173,
   "metadata": {},
   "outputs": [
    {
     "data": {
      "text/html": [
       "<div>\n",
       "<style scoped>\n",
       "    .dataframe tbody tr th:only-of-type {\n",
       "        vertical-align: middle;\n",
       "    }\n",
       "\n",
       "    .dataframe tbody tr th {\n",
       "        vertical-align: top;\n",
       "    }\n",
       "\n",
       "    .dataframe thead th {\n",
       "        text-align: right;\n",
       "    }\n",
       "</style>\n",
       "<table border=\"1\" class=\"dataframe\">\n",
       "  <thead>\n",
       "    <tr style=\"text-align: right;\">\n",
       "      <th></th>\n",
       "      <th>f1</th>\n",
       "      <th>roc_auc</th>\n",
       "      <th>average_precision</th>\n",
       "    </tr>\n",
       "  </thead>\n",
       "  <tbody>\n",
       "    <tr>\n",
       "      <th>LogisticRegression_sampled</th>\n",
       "      <td>0.000000</td>\n",
       "      <td>0.500000</td>\n",
       "      <td>0.005907</td>\n",
       "    </tr>\n",
       "    <tr>\n",
       "      <th>LogisticRegressionCV_sampled</th>\n",
       "      <td>0.000000</td>\n",
       "      <td>0.500000</td>\n",
       "      <td>0.005907</td>\n",
       "    </tr>\n",
       "    <tr>\n",
       "      <th>PassiveAggressiveClassifier_sampled</th>\n",
       "      <td>0.000000</td>\n",
       "      <td>0.506780</td>\n",
       "      <td>0.007661</td>\n",
       "    </tr>\n",
       "    <tr>\n",
       "      <th>Perceptron_sampled</th>\n",
       "      <td>0.000000</td>\n",
       "      <td>0.506882</td>\n",
       "      <td>0.007332</td>\n",
       "    </tr>\n",
       "    <tr>\n",
       "      <th>RidgeClassifier_sampled</th>\n",
       "      <td>0.000000</td>\n",
       "      <td>0.822267</td>\n",
       "      <td>0.186528</td>\n",
       "    </tr>\n",
       "    <tr>\n",
       "      <th>RidgeClassifierCV_sampled</th>\n",
       "      <td>0.010481</td>\n",
       "      <td>0.522032</td>\n",
       "      <td>0.007250</td>\n",
       "    </tr>\n",
       "    <tr>\n",
       "      <th>SGDClassifier_sampled</th>\n",
       "      <td>0.000000</td>\n",
       "      <td>0.506882</td>\n",
       "      <td>0.007332</td>\n",
       "    </tr>\n",
       "    <tr>\n",
       "      <th>LogisticRegression_nf_sampled</th>\n",
       "      <td>0.004938</td>\n",
       "      <td>0.659595</td>\n",
       "      <td>0.027005</td>\n",
       "    </tr>\n",
       "    <tr>\n",
       "      <th>LogisticRegressionCV_nf_sampled</th>\n",
       "      <td>0.000000</td>\n",
       "      <td>0.667592</td>\n",
       "      <td>0.032598</td>\n",
       "    </tr>\n",
       "    <tr>\n",
       "      <th>PassiveAggressiveClassifier_nf_sampled</th>\n",
       "      <td>0.000000</td>\n",
       "      <td>0.524886</td>\n",
       "      <td>0.010457</td>\n",
       "    </tr>\n",
       "    <tr>\n",
       "      <th>Perceptron_nf_sampled</th>\n",
       "      <td>0.022520</td>\n",
       "      <td>0.548669</td>\n",
       "      <td>0.012716</td>\n",
       "    </tr>\n",
       "    <tr>\n",
       "      <th>RidgeClassifier_nf_sampled</th>\n",
       "      <td>0.086767</td>\n",
       "      <td>0.938340</td>\n",
       "      <td>0.296802</td>\n",
       "    </tr>\n",
       "    <tr>\n",
       "      <th>RidgeClassifierCV_nf_sampled</th>\n",
       "      <td>0.025916</td>\n",
       "      <td>0.797556</td>\n",
       "      <td>0.051917</td>\n",
       "    </tr>\n",
       "    <tr>\n",
       "      <th>SGDClassifier_nf_sampled</th>\n",
       "      <td>0.049669</td>\n",
       "      <td>0.603589</td>\n",
       "      <td>0.037074</td>\n",
       "    </tr>\n",
       "    <tr>\n",
       "      <th>SVC_nf_sampled</th>\n",
       "      <td>0.000000</td>\n",
       "      <td>0.504337</td>\n",
       "      <td>0.007008</td>\n",
       "    </tr>\n",
       "    <tr>\n",
       "      <th>DecisionTreeClassifier_nf_sampled</th>\n",
       "      <td>0.722082</td>\n",
       "      <td>0.859575</td>\n",
       "      <td>0.525775</td>\n",
       "    </tr>\n",
       "    <tr>\n",
       "      <th>RandomForestClassifier_nf_sampled</th>\n",
       "      <td>0.695504</td>\n",
       "      <td>0.978984</td>\n",
       "      <td>0.839464</td>\n",
       "    </tr>\n",
       "    <tr>\n",
       "      <th>XGBClassifier_nf_sampled</th>\n",
       "      <td>0.829132</td>\n",
       "      <td>0.997097</td>\n",
       "      <td>0.896816</td>\n",
       "    </tr>\n",
       "    <tr>\n",
       "      <th>XGBClassifier_selected_nf_sampled</th>\n",
       "      <td>0.805353</td>\n",
       "      <td>0.996496</td>\n",
       "      <td>0.873983</td>\n",
       "    </tr>\n",
       "    <tr>\n",
       "      <th>XGBClassifier_selected_nf</th>\n",
       "      <td>0.876305</td>\n",
       "      <td>0.998377</td>\n",
       "      <td>0.932169</td>\n",
       "    </tr>\n",
       "    <tr>\n",
       "      <th>XGBClassifier_full_nf</th>\n",
       "      <td>0.875323</td>\n",
       "      <td>0.998246</td>\n",
       "      <td>0.933623</td>\n",
       "    </tr>\n",
       "  </tbody>\n",
       "</table>\n",
       "</div>"
      ],
      "text/plain": [
       "                                              f1   roc_auc  average_precision\n",
       "LogisticRegression_sampled              0.000000  0.500000           0.005907\n",
       "LogisticRegressionCV_sampled            0.000000  0.500000           0.005907\n",
       "PassiveAggressiveClassifier_sampled     0.000000  0.506780           0.007661\n",
       "Perceptron_sampled                      0.000000  0.506882           0.007332\n",
       "RidgeClassifier_sampled                 0.000000  0.822267           0.186528\n",
       "RidgeClassifierCV_sampled               0.010481  0.522032           0.007250\n",
       "SGDClassifier_sampled                   0.000000  0.506882           0.007332\n",
       "LogisticRegression_nf_sampled           0.004938  0.659595           0.027005\n",
       "LogisticRegressionCV_nf_sampled         0.000000  0.667592           0.032598\n",
       "PassiveAggressiveClassifier_nf_sampled  0.000000  0.524886           0.010457\n",
       "Perceptron_nf_sampled                   0.022520  0.548669           0.012716\n",
       "RidgeClassifier_nf_sampled              0.086767  0.938340           0.296802\n",
       "RidgeClassifierCV_nf_sampled            0.025916  0.797556           0.051917\n",
       "SGDClassifier_nf_sampled                0.049669  0.603589           0.037074\n",
       "SVC_nf_sampled                          0.000000  0.504337           0.007008\n",
       "DecisionTreeClassifier_nf_sampled       0.722082  0.859575           0.525775\n",
       "RandomForestClassifier_nf_sampled       0.695504  0.978984           0.839464\n",
       "XGBClassifier_nf_sampled                0.829132  0.997097           0.896816\n",
       "XGBClassifier_selected_nf_sampled       0.805353  0.996496           0.873983\n",
       "XGBClassifier_selected_nf               0.876305  0.998377           0.932169\n",
       "XGBClassifier_full_nf                   0.875323  0.998246           0.933623"
      ]
     },
     "execution_count": 173,
     "metadata": {},
     "output_type": "execute_result"
    }
   ],
   "source": [
    "scores_df"
   ]
  },
  {
   "cell_type": "markdown",
   "metadata": {},
   "source": []
  },
  {
   "cell_type": "markdown",
   "metadata": {},
   "source": [
    "Steps:\n",
    "- Engineer full train data acoording to previous engineering + feature selection\n",
    "- Train selected and tuned model on proceeded full train\n",
    "- Select features (depends on prev step)\n",
    "- Engineer tull test data in the same way as train\n",
    "- Run selected model on test data"
   ]
  },
  {
   "cell_type": "code",
   "execution_count": 174,
   "metadata": {},
   "outputs": [
    {
     "name": "stdout",
     "output_type": "stream",
     "text": [
      "add_feature_holder_merch_distance took 3.9e+01 s\n",
      "convert_cc_to_cc_type_and_drop took 2.4 s\n",
      "convert_dob_to_age took 4.6e+01 s\n",
      "target_encode_zip took 1.1 s\n",
      "convert_unix_to_day took 3e+01 s\n",
      "convert_unix_to_hour took 0.1 s\n"
     ]
    }
   ],
   "source": [
    "nf_test_full = add_new_featues(full_test_df)\n",
    "nf_test_full = get_dummies(nf_test_full,nf_columns_to_dummy)\n",
    "nf_test_full = drop_columns(nf_test_full,columns_to_drop)\n",
    "# maybe? feature_select\n",
    "\n",
    "X_nf_test_full,Y_nf_test_full  = get_label_and_drop(nf_test_full)"
   ]
  },
  {
   "cell_type": "code",
   "execution_count": 176,
   "metadata": {},
   "outputs": [],
   "source": [
    "#TBD remove cell\n",
    "nf_test_full = pd.get_dummies(nf_test_full,['job'])\n",
    "X_nf_test_full,Y_nf_test_full  = get_label_and_drop(nf_test_full)"
   ]
  },
  {
   "cell_type": "code",
   "execution_count": 178,
   "metadata": {},
   "outputs": [],
   "source": [
    "X_nf_test_selected = select.transform(X_nf_test_full)"
   ]
  },
  {
   "cell_type": "code",
   "execution_count": 179,
   "metadata": {},
   "outputs": [
    {
     "data": {
      "text/plain": [
       "(555719, 27)"
      ]
     },
     "execution_count": 179,
     "metadata": {},
     "output_type": "execute_result"
    }
   ],
   "source": [
    "X_nf_test_selected.shape"
   ]
  },
  {
   "cell_type": "code",
   "execution_count": 177,
   "metadata": {},
   "outputs": [
    {
     "name": "stdout",
     "output_type": "stream",
     "text": [
      "<class 'pandas.core.frame.DataFrame'>\n",
      "RangeIndex: 555719 entries, 0 to 555718\n",
      "Data columns (total 54 columns):\n",
      " #   Column                          Non-Null Count   Dtype  \n",
      "---  ------                          --------------   -----  \n",
      " 0   amt                             555719 non-null  float64\n",
      " 1   zip                             555719 non-null  float64\n",
      " 2   city_pop                        555719 non-null  int64  \n",
      " 3   holder_merch_dist               555719 non-null  float64\n",
      " 4   age_in_days                     555719 non-null  int64  \n",
      " 5   trans_day                       555719 non-null  int64  \n",
      " 6   trans_hour                      555719 non-null  float64\n",
      " 7   state_AL                        555719 non-null  uint8  \n",
      " 8   state_CA                        555719 non-null  uint8  \n",
      " 9   state_FL                        555719 non-null  uint8  \n",
      " 10  state_IL                        555719 non-null  uint8  \n",
      " 11  state_MI                        555719 non-null  uint8  \n",
      " 12  state_MO                        555719 non-null  uint8  \n",
      " 13  state_NY                        555719 non-null  uint8  \n",
      " 14  state_OH                        555719 non-null  uint8  \n",
      " 15  state_PA                        555719 non-null  uint8  \n",
      " 16  state_TX                        555719 non-null  uint8  \n",
      " 17  state_other                     555719 non-null  uint8  \n",
      " 18  gender_F                        555719 non-null  uint8  \n",
      " 19  gender_M                        555719 non-null  uint8  \n",
      " 20  category_entertainment          555719 non-null  uint8  \n",
      " 21  category_food_dining            555719 non-null  uint8  \n",
      " 22  category_gas_transport          555719 non-null  uint8  \n",
      " 23  category_grocery_net            555719 non-null  uint8  \n",
      " 24  category_grocery_pos            555719 non-null  uint8  \n",
      " 25  category_health_fitness         555719 non-null  uint8  \n",
      " 26  category_home                   555719 non-null  uint8  \n",
      " 27  category_kids_pets              555719 non-null  uint8  \n",
      " 28  category_misc_net               555719 non-null  uint8  \n",
      " 29  category_misc_pos               555719 non-null  uint8  \n",
      " 30  category_personal_care          555719 non-null  uint8  \n",
      " 31  category_shopping_net           555719 non-null  uint8  \n",
      " 32  category_shopping_pos           555719 non-null  uint8  \n",
      " 33  category_travel                 555719 non-null  uint8  \n",
      " 34  cc_type_AMEX                    555719 non-null  uint8  \n",
      " 35  cc_type_DinersClub              555719 non-null  uint8  \n",
      " 36  cc_type_Discover                555719 non-null  uint8  \n",
      " 37  cc_type_JCB                     555719 non-null  uint8  \n",
      " 38  cc_type_Laser                   555719 non-null  uint8  \n",
      " 39  cc_type_Maestro                 555719 non-null  uint8  \n",
      " 40  cc_type_MasterCard              555719 non-null  uint8  \n",
      " 41  cc_type_VISA                    555719 non-null  uint8  \n",
      " 42  cc_type_unknown                 555719 non-null  uint8  \n",
      " 43  job_Designer, ceramics/pottery  555719 non-null  uint8  \n",
      " 44  job_Environmental consultant    555719 non-null  uint8  \n",
      " 45  job_Exhibition designer         555719 non-null  uint8  \n",
      " 46  job_Film/video editor           555719 non-null  uint8  \n",
      " 47  job_Financial adviser           555719 non-null  uint8  \n",
      " 48  job_IT trainer                  555719 non-null  uint8  \n",
      " 49  job_Materials engineer          555719 non-null  uint8  \n",
      " 50  job_Naval architect             555719 non-null  uint8  \n",
      " 51  job_Surveyor, land/geomatics    555719 non-null  uint8  \n",
      " 52  job_Systems developer           555719 non-null  uint8  \n",
      " 53  job_other                       555719 non-null  uint8  \n",
      "dtypes: float64(4), int64(3), uint8(47)\n",
      "memory usage: 54.6 MB\n"
     ]
    }
   ],
   "source": [
    "X_nf_test_full.info()"
   ]
  },
  {
   "cell_type": "code",
   "execution_count": 181,
   "metadata": {},
   "outputs": [],
   "source": [
    "def train_and_predict(estimator,X_train,y_train,X_test):\n",
    "    model = estimator.fit(X_train,y_train)\n",
    "    y_pred = model.predict(X_test)\n",
    "    return model,y_pred"
   ]
  },
  {
   "cell_type": "code",
   "execution_count": null,
   "metadata": {},
   "outputs": [],
   "source": [
    "model,y_pred = train_and_predict(XGBClassifier(),X_nf_selected,Y_nf_full_train,X_nf_test_selected)\n",
    "print(\"Selected\")\n",
    "print(classification_report(Y_nf_test_full,y_pred))\n",
    "plot_confusion_matrix(model, X_nf_test_selected, Y_nf_test_full, cmap='gray_r')"
   ]
  },
  {
   "cell_type": "code",
   "execution_count": 186,
   "metadata": {},
   "outputs": [
    {
     "name": "stdout",
     "output_type": "stream",
     "text": [
      "              precision    recall  f1-score   support\n",
      "\n",
      "           0       1.00      1.00      1.00    553574\n",
      "           1       0.95      0.83      0.88      2145\n",
      "\n",
      "    accuracy                           1.00    555719\n",
      "   macro avg       0.97      0.91      0.94    555719\n",
      "weighted avg       1.00      1.00      1.00    555719\n",
      "\n"
     ]
    },
    {
     "data": {
      "text/plain": [
       "<sklearn.metrics._plot.confusion_matrix.ConfusionMatrixDisplay at 0x2b5222bde940>"
      ]
     },
     "execution_count": 186,
     "metadata": {},
     "output_type": "execute_result"
    },
    {
     "data": {
      "image/png": "[encoded data removed]",
      "text/plain": [
       "<Figure size 432x288 with 2 Axes>"
      ]
     },
     "metadata": {
      "needs_background": "light"
     },
     "output_type": "display_data"
    }
   ],
   "source": [
    "print(classification_report(Y_nf_test_full,y_pred))\n",
    "plot_confusion_matrix(model, X_nf_test_selected, Y_nf_test_full, cmap='gray_r')"
   ]
  },
  {
   "cell_type": "code",
   "execution_count": 187,
   "metadata": {},
   "outputs": [
    {
     "name": "stdout",
     "output_type": "stream",
     "text": [
      "[15:06:18] WARNING: ../src/learner.cc:1095: Starting in XGBoost 1.3.0, the default evaluation metric used with the objective 'binary:logistic' was changed from 'error' to 'logloss'. Explicitly set eval_metric if you'd like to restore the old behavior.\n",
      "Entire data\n",
      "              precision    recall  f1-score   support\n",
      "\n",
      "           0       1.00      1.00      1.00    553574\n",
      "           1       0.95      0.84      0.89      2145\n",
      "\n",
      "    accuracy                           1.00    555719\n",
      "   macro avg       0.98      0.92      0.94    555719\n",
      "weighted avg       1.00      1.00      1.00    555719\n",
      "\n"
     ]
    },
    {
     "data": {
      "text/plain": [
       "<sklearn.metrics._plot.confusion_matrix.ConfusionMatrixDisplay at 0x2b5213870100>"
      ]
     },
     "execution_count": 187,
     "metadata": {},
     "output_type": "execute_result"
    },
    {
     "data": {
      "image/png": "[encoded data removed]",
      "text/plain": [
       "<Figure size 432x288 with 2 Axes>"
      ]
     },
     "metadata": {
      "needs_background": "light"
     },
     "output_type": "display_data"
    }
   ],
   "source": [
    "model_full,y_pred_full = train_and_predict(XGBClassifier(),X_nf_full_train,Y_nf_full_train,X_nf_test_full)\n",
    "print(\"Entire data\")\n",
    "print(classification_report(Y_nf_test_full,y_pred_full))\n",
    "plot_confusion_matrix(model_full, X_nf_test_full, Y_nf_test_full, cmap='gray_r')"
   ]
  },
  {
   "cell_type": "markdown",
   "metadata": {},
   "source": [
    "## Task 6 An explainable model\n",
    "Can you create an “explainable” model that is nearly as good as your best model? An explainable model should be small enough to be easily inspected - say a linear model withfew enough coefficients that you can reasonable look at all of them, or a tree with a smallnumber of leafs etc."
   ]
  },
  {
   "cell_type": "code",
   "execution_count": null,
   "metadata": {},
   "outputs": [],
   "source": [
    "simple_model = DecisionTreeClassifier(max_leaf_nodes=10)\n",
    "model_simple,y_pred_simple = train_and_predict(simple_model,X_nf_train_full,Y_nf_train_full,X_nf_test_full)\n",
    "print(classification_report(Y_nf_test_full,y_pred_simple))\n",
    "plot_confusion_matrix(model_simple, X_nf_test_full, Y_nf_test_full, cmap='gray_r')"
   ]
  },
  {
   "cell_type": "code",
   "execution_count": null,
   "metadata": {},
   "outputs": [],
   "source": [
    "plt.figure(figsize=(10, 3), dpi=300)\n",
    "tree_dot = plot_tree(model, feature_names=X_nf_test_full.columns,filled=True)"
   ]
  }
 ],
 "metadata": {
  "kernelspec": {
   "display_name": "Python 3",
   "language": "python",
   "name": "python3"
  },
  "language_info": {
   "codemirror_mode": {
    "name": "ipython",
    "version": 3
   },
   "file_extension": ".py",
   "mimetype": "text/x-python",
   "name": "python",
   "nbconvert_exporter": "python",
   "pygments_lexer": "ipython3",
   "version": "3.8.5"
  },
  "toc": {
   "base_numbering": 1,
   "nav_menu": {},
   "number_sections": false,
   "sideBar": true,
   "skip_h1_title": false,
   "title_cell": "Table of Contents",
   "title_sidebar": "Contents",
   "toc_cell": false,
   "toc_position": {},
   "toc_section_display": true,
   "toc_window_display": true
  }
 },
 "nbformat": 4,
 "nbformat_minor": 4
}
