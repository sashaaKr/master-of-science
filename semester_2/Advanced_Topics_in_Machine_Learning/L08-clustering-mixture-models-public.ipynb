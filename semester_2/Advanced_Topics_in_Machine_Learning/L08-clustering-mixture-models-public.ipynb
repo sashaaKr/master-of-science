{
 "cells": [
  {
   "cell_type": "markdown",
   "metadata": {
    "slideshow": {
     "slide_type": "subslide"
    }
   },
   "source": [
    "\n",
    "\n",
    "\n",
    "### Advanced Machine Learning\n",
    "\n",
    "# Unsupervised Learning - Clustering and Dimensionality Reduction\n",
    "\n",
    "19/04/21\n",
    "\n",
    "Jonathan Schler\n",
    "\n",
    "(credit: Columbia Univ - 4995 - Machine Learning Course)\n",
    "\n"
   ]
  },
  {
   "cell_type": "markdown",
   "metadata": {
    "slideshow": {
     "slide_type": "subslide"
    }
   },
   "source": [
    "# Clustering\n",
    "\n",
    "<center>\n",
    "<img src=\"./images/cluster_intro_1.png\" style=\"width: 600px;\">\n",
    "</center>"
   ]
  },
  {
   "cell_type": "markdown",
   "metadata": {
    "slideshow": {
     "slide_type": "subslide"
    }
   },
   "source": [
    "<center>\n",
    "<img src=\"./images/cluster_intro_2.png\" style=\"width: 600px;\">\n",
    "</center>\n",
    "\n",
    "\n"
   ]
  },
  {
   "cell_type": "markdown",
   "metadata": {
    "slideshow": {
     "slide_type": "subslide"
    }
   },
   "source": [
    "<center>\n",
    "<img src=\"./images/cluster_intro_3.png\" style=\"width: 600px;\">\n",
    "</center>\n",
    "\n"
   ]
  },
  {
   "cell_type": "markdown",
   "metadata": {
    "slideshow": {
     "slide_type": "subslide"
    }
   },
   "source": [
    "\n",
    "\n",
    "# Clustering\n",
    "\n",
    "- Partition data into groups (clusters)\n",
    "- Points within a cluster should be “similar”.\n",
    "- Points in different cluster should be “different”.\n"
   ]
  },
  {
   "cell_type": "markdown",
   "metadata": {
    "slideshow": {
     "slide_type": "subslide"
    }
   },
   "source": [
    "<center>\n",
    "<img src=\"./images/cluster_intro_3.png\" style=\"width: 600px;\">\n",
    "</center>\n",
    "\n",
    "\n"
   ]
  },
  {
   "cell_type": "markdown",
   "metadata": {
    "slideshow": {
     "slide_type": "subslide"
    }
   },
   "source": [
    "<center>\n",
    "<img src=\"./images/cluster_intro_4.png\" style=\"width: 600px;\">\n",
    "</center>\n",
    "\n"
   ]
  },
  {
   "cell_type": "markdown",
   "metadata": {
    "slideshow": {
     "slide_type": "subslide"
    }
   },
   "source": [
    "\n",
    "\n",
    "# Goals of Clustering\n",
    "\n",
    "- Data Exploration\n",
    "  - Are there coherent groups ?\n",
    "  - How many groups are there ?"
   ]
  },
  {
   "cell_type": "markdown",
   "metadata": {
    "slideshow": {
     "slide_type": "subslide"
    }
   },
   "source": [
    "# Goals of Clustering - p2\n",
    "\n",
    "\n",
    "- Data Partitioning\n",
    "  - Divide data by group before further processing\n",
    "\n"
   ]
  },
  {
   "cell_type": "markdown",
   "metadata": {
    "slideshow": {
     "slide_type": "subslide"
    }
   },
   "source": [
    "# Goals of Clustering - p3\n",
    "\n",
    "- Unsupervised feature extraction\n",
    "  - Derive features from clusters or cluster distances\n"
   ]
  },
  {
   "cell_type": "markdown",
   "metadata": {
    "slideshow": {
     "slide_type": "subslide"
    }
   },
   "source": [
    "# Goals of Clustering - p4\n",
    "\n",
    "- Evaluation and parameter tuning\n",
    "  - Quantitative measures of limited use\n",
    "  - Usually qualitative measures used\n",
    "  - Best: downstream tasks\n",
    "  - What is your goal?"
   ]
  },
  {
   "cell_type": "markdown",
   "metadata": {
    "slideshow": {
     "slide_type": "notes"
    }
   },
   "source": [
    "\n"
   ]
  },
  {
   "cell_type": "markdown",
   "metadata": {
    "slideshow": {
     "slide_type": "subslide"
    }
   },
   "source": [
    "\n",
    "\n",
    "# Clustering Algorithms\n"
   ]
  },
  {
   "cell_type": "markdown",
   "metadata": {
    "slideshow": {
     "slide_type": "subslide"
    }
   },
   "source": [
    "\n",
    "\n",
    "# K-Means\n"
   ]
  },
  {
   "cell_type": "markdown",
   "metadata": {
    "slideshow": {
     "slide_type": "subslide"
    }
   },
   "source": [
    "\n",
    "# Objective function for K-Means\n",
    "\n",
    "$$\\Large \\min_{\\mathbf{c}_j \\in \\mathbf{R}^p, j=1,..,k} \\sum_i ||\\mathbf{x}_i - \\mathbf{c}_{x_i}||^2 $$\n",
    "$\\mathbf{c}_{x_i}$ is the cluster center $c_j$ closest to $x_i$"
   ]
  },
  {
   "cell_type": "markdown",
   "metadata": {
    "slideshow": {
     "slide_type": "notes"
    }
   },
   "source": [
    "\n",
    "\n",
    "\n",
    "\n"
   ]
  },
  {
   "cell_type": "markdown",
   "metadata": {
    "slideshow": {
     "slide_type": "subslide"
    }
   },
   "source": [
    "\n",
    "# K-Means algorithm (Lloyd's)\n",
    "\n",
    "<table><tr><td><img src='./images/kmeans.png'></td><td><pre><code>- Pick number of clusters k.\n",
    "- Pick k random points as\n",
    "“cluster center”\n",
    "- While cluster centers change:\n",
    "  1. Assign each data point to it’s closest cluster center\n",
    "  2. Recompute cluster centers as the mean of the assigned points.</code></pre>\n",
    "</td></tr></table>\n"
   ]
  },
  {
   "cell_type": "code",
   "execution_count": 16,
   "metadata": {
    "slideshow": {
     "slide_type": "subslide"
    }
   },
   "outputs": [
    {
     "name": "stdout",
     "output_type": "stream",
     "text": [
      "(5, 2)\n",
      "(100,)\n"
     ]
    },
    {
     "data": {
      "text/plain": [
       "<matplotlib.collections.PathCollection at 0x1a22875590>"
      ]
     },
     "execution_count": 16,
     "metadata": {},
     "output_type": "execute_result"
    },
    {
     "data": {
      "image/png": "[encoded data removed]",
      "text/plain": [
       "<Figure size 432x288 with 1 Axes>"
      ]
     },
     "metadata": {
      "needs_background": "light"
     },
     "output_type": "display_data"
    }
   ],
   "source": [
    "# K-Means API\n",
    "\n",
    "from sklearn.datasets import make_blobs\n",
    "from sklearn.cluster import KMeans\n",
    "import matplotlib.pyplot as plt \n",
    "%matplotlib inline\n",
    "\n",
    "X, y = make_blobs(centers=4, random_state=1,cluster_std=0.9)\n",
    "km = KMeans(n_clusters=5, random_state=0)\n",
    "km.fit(X)\n",
    "print(km.cluster_centers_.shape)\n",
    "print(km.labels_.shape)\n",
    "plt.scatter(X[:, 0], X[:, 1])\n",
    "\n",
    "#print(km.cluster_centers_)\n",
    "#print(km.labels_)"
   ]
  },
  {
   "cell_type": "code",
   "execution_count": 21,
   "metadata": {
    "slideshow": {
     "slide_type": "subslide"
    }
   },
   "outputs": [
    {
     "name": "stdout",
     "output_type": "stream",
     "text": [
      "(100,)\n"
     ]
    },
    {
     "data": {
      "image/png": "[encoded data removed]",
      "text/plain": [
       "<Figure size 432x288 with 1 Axes>"
      ]
     },
     "metadata": {
      "needs_background": "light"
     },
     "output_type": "display_data"
    }
   ],
   "source": [
    "# predict is the same as labels_ on training data\n",
    "# but can be applied to new data\n",
    "print(km.predict(X).shape)\n",
    "plt.scatter(X[:, 0], X[:, 1], c=km.labels_)\n",
    "cent=km.cluster_centers_\n",
    "#plt.scatter(cent[:, 0], cent[:, 1], c=\"red\")"
   ]
  },
  {
   "cell_type": "markdown",
   "metadata": {
    "slideshow": {
     "slide_type": "subslide"
    }
   },
   "source": [
    "\n",
    "\n",
    "# Restriction of Cluster Shapes\n",
    "\n",
    "<table><tr><td><img src='./images/cluster_shapes_1.png'></td><td> <br><br></td><td><img src='./images/cluster_shapes_2.png'>\n",
    "</td></tr></table>\n",
    "\n",
    "\n",
    "Clusters are Voronoi-diagrams of centers\n",
    "\n"
   ]
  },
  {
   "cell_type": "markdown",
   "metadata": {
    "slideshow": {
     "slide_type": "subslide"
    }
   },
   "source": [
    "\n",
    "\n",
    "# Limitations of K-Means - p1\n",
    "\n",
    "<center>\n",
    "<img src=\"./images/kmeans_limitations_1.png\" style=\"width: 600px;\">\n",
    "</center>\n",
    "\n",
    "\n",
    "- Cluster boundaries equidistant to centers\n"
   ]
  },
  {
   "cell_type": "markdown",
   "metadata": {
    "slideshow": {
     "slide_type": "subslide"
    }
   },
   "source": [
    "\n",
    "\n",
    "# Limitations of K-Means - p2\n",
    "\n",
    "<center>\n",
    "<img src=\"./images/kmeans_limitations_2.png\" style=\"width: 600px;\">\n",
    "</center>\n",
    "\n",
    "\n",
    " - Can’t model covariances well\n"
   ]
  },
  {
   "cell_type": "markdown",
   "metadata": {
    "slideshow": {
     "slide_type": "subslide"
    }
   },
   "source": [
    "\n",
    "# Limitations of K-Means - p3\n",
    "\n",
    "<center>\n",
    "<img src=\"./images/kmeans_limitations_3.png\" style=\"width: 600px;\">\n",
    "</center>\n",
    "\n",
    "- Only simple cluster shapes\n"
   ]
  },
  {
   "cell_type": "markdown",
   "metadata": {
    "slideshow": {
     "slide_type": "subslide"
    }
   },
   "source": [
    "\n",
    "\n",
    "\n",
    "# Computational Properties\n",
    "\n",
    "- Naive implementation (Lloyd's):\n",
    "  - n_cluster * n_samples distance calculations per iteration"
   ]
  },
  {
   "cell_type": "markdown",
   "metadata": {
    "slideshow": {
     "slide_type": "subslide"
    }
   },
   "source": [
    "# Computational Properties - p2\n",
    "\n",
    "- Fast \"exact\" algorithms:\n",
    "  - Elkan's, Ying-Yang, ...\n",
    "- Approximate algorithms:\n",
    "  - minibatch K-Means"
   ]
  },
  {
   "cell_type": "code",
   "execution_count": 22,
   "metadata": {
    "slideshow": {
     "slide_type": "subslide"
    }
   },
   "outputs": [
    {
     "data": {
      "text/plain": [
       "<matplotlib.collections.PathCollection at 0x1a22b352d0>"
      ]
     },
     "execution_count": 22,
     "metadata": {},
     "output_type": "execute_result"
    },
    {
     "data": {
      "image/png": "[encoded data removed]",
      "text/plain": [
       "<Figure size 432x288 with 1 Axes>"
      ]
     },
     "metadata": {
      "needs_background": "light"
     },
     "output_type": "display_data"
    }
   ],
   "source": [
    "# local minimum\n",
    "X, y = make_blobs(centers=4, random_state=4,cluster_std=0.9)\n",
    "plt.scatter(X[:, 0], X[:, 1])\n"
   ]
  },
  {
   "cell_type": "code",
   "execution_count": 25,
   "metadata": {
    "slideshow": {
     "slide_type": "subslide"
    }
   },
   "outputs": [
    {
     "name": "stdout",
     "output_type": "stream",
     "text": [
      "(3, 2)\n",
      "(100,)\n"
     ]
    },
    {
     "data": {
      "text/plain": [
       "<matplotlib.collections.PathCollection at 0x1a21560a50>"
      ]
     },
     "execution_count": 25,
     "metadata": {},
     "output_type": "execute_result"
    },
    {
     "data": {
      "image/png": "[encoded data removed]",
      "text/plain": [
       "<Figure size 432x288 with 1 Axes>"
      ]
     },
     "metadata": {
      "needs_background": "light"
     },
     "output_type": "display_data"
    }
   ],
   "source": [
    "km = KMeans(n_clusters=3, random_state=0, n_init=1,init=\"random\")\n",
    "km.fit_predict(X)\n",
    "print(km.cluster_centers_.shape)\n",
    "print(km.labels_.shape)\n",
    "plt.scatter(X[:, 0], X[:, 1], c=km.labels_)\n",
    "#cent=km.cluster_centers_\n",
    "#plt.scatter(cent[:, 0], cent[:, 1], c=\"red\")"
   ]
  },
  {
   "cell_type": "markdown",
   "metadata": {
    "slideshow": {
     "slide_type": "subslide"
    }
   },
   "source": [
    "\n",
    "\n",
    "# Initialization\n",
    "\n",
    "- Random centers fast.\n",
    "- K-means++ (default):\n",
    "Greedily add “furthest way” point\n",
    "- By default K-means in sklearn does 10 random\n",
    "restarts with different initializations.\n",
    "- K-means++ initialization may take much longer than clustering.\n"
   ]
  },
  {
   "cell_type": "code",
   "execution_count": 32,
   "metadata": {
    "slideshow": {
     "slide_type": "subslide"
    }
   },
   "outputs": [
    {
     "name": "stdout",
     "output_type": "stream",
     "text": [
      "(3, 2)\n",
      "(100,)\n"
     ]
    },
    {
     "data": {
      "text/plain": [
       "<matplotlib.collections.PathCollection at 0x1a230f2f50>"
      ]
     },
     "execution_count": 32,
     "metadata": {},
     "output_type": "execute_result"
    },
    {
     "data": {
      "image/png": "[encoded data removed]",
      "text/plain": [
       "<Figure size 432x288 with 1 Axes>"
      ]
     },
     "metadata": {
      "needs_background": "light"
     },
     "output_type": "display_data"
    }
   ],
   "source": [
    "km = KMeans(n_clusters=3, random_state=0, n_init=1,init=\"random\")\n",
    "\n",
    "km.fit_predict(X)\n",
    "print(km.cluster_centers_.shape)\n",
    "print(km.labels_.shape)\n",
    "plt.scatter(X[:, 0], X[:, 1], c=km.labels_)"
   ]
  },
  {
   "cell_type": "markdown",
   "metadata": {
    "slideshow": {
     "slide_type": "subslide"
    }
   },
   "source": [
    "\n",
    "\n",
    "# Feature Extraction using K-Means\n",
    "\n",
    "- Cluster membership → categorical feature\n",
    "- Cluster distanced → continuous feature\n",
    "- Examples:\n",
    "  - Partitioning low-dimensional space (similar to using basis functions)\n",
    "  - Extracting features from high-dimensional spaces, for image patches, see\n",
    "  http://ai.stanford.edu/~acoates/papers/coatesleeng_aistats_2011.pdf\n"
   ]
  },
  {
   "cell_type": "markdown",
   "metadata": {
    "slideshow": {
     "slide_type": "slide"
    }
   },
   "source": [
    "\n",
    "# Agglomerative Clustering\n"
   ]
  },
  {
   "cell_type": "markdown",
   "metadata": {
    "slideshow": {
     "slide_type": "subslide"
    }
   },
   "source": [
    "\n",
    "\n",
    "# Agglomerative Clustering\n",
    "\n",
    "- Start with all points in their own cluster.\n",
    "- Greedily merge the two most similar clusters.\n",
    "\n",
    "<center>\n",
    "<img src=\"./images/agglomerative_clustering.png\" style=\"width: 600px;\">\n",
    "</center>\n",
    "\n",
    "\n"
   ]
  },
  {
   "cell_type": "markdown",
   "metadata": {
    "slideshow": {
     "slide_type": "subslide"
    }
   },
   "source": [
    "\n",
    "# Dendograms\n",
    "\n",
    "\n",
    "<table><tr><td><img src='./images/dendograms_1.png'></td><td> <br><br></td><td><img src='./images/dendograms_2.png'>\n",
    "</td></tr></table>\n",
    "\n"
   ]
  },
  {
   "cell_type": "markdown",
   "metadata": {
    "slideshow": {
     "slide_type": "subslide"
    }
   },
   "source": [
    "\n",
    "# Linkage Criteria\n",
    "\n",
    "<center>\n",
    "<img src=\"./images/merging_criteria.png\" style=\"width: 600px;\">\n",
    "</center>\n",
    "\n",
    "\n",
    "<table><tr><td><pre>\n",
    "single :   [96  1  1  1  1]\n",
    "average :  [82  9  7  1  1]\n",
    "complete : [50 24 14 11  1]\n",
    "ward :     [31 30 20 10  9]\n",
    "</pre></td><td> <br><br></td><td><pre><code>- Single Linkage\n",
    "  - Smallest minimum distance\n",
    "- Average Linkage\n",
    "  - Smallest average distance between all pairs in the clusters\n",
    "- Complete Linkage\n",
    "  - Smallest maximum distance\n",
    "- Ward (default in sklearn)\n",
    "  - Smallest increase in within-cluster variance\n",
    "  - Leads to more equally sized clusters.</code></pre>\n",
    "</td></tr></table>\n"
   ]
  },
  {
   "cell_type": "markdown",
   "metadata": {
    "slideshow": {
     "slide_type": "subslide"
    }
   },
   "source": [
    "\n",
    "\n",
    "# Pros and Cons\n",
    "\n",
    "- Can restrict to input “topology”  graph.\n",
    "- Fast with sparse connectivity, otherwise O(log(n) n** 2 )\n",
    "- Some linkage criteria an lead to very imbalanced cluster sizes\n",
    "- Hierarchical clustering gives more holistic view than single clustering.\n",
    "\n",
    "\n"
   ]
  },
  {
   "cell_type": "markdown",
   "metadata": {
    "slideshow": {
     "slide_type": "subslide"
    }
   },
   "source": [
    "\n",
    "# DBSCAN\n"
   ]
  },
  {
   "cell_type": "markdown",
   "metadata": {
    "slideshow": {
     "slide_type": "subslide"
    }
   },
   "source": [
    "\n",
    "\n",
    "# Algorithm\n",
    "\n",
    "<style>\n",
    "code {\n",
    "  font-family: Consolas,\"courier new\";\n",
    "  color: black;\n",
    "  background-color: #f1f1f1;\n",
    "  padding: 2px;\n",
    "  font-size: 175%;\n",
    "}\n",
    "</style>\n",
    "\n",
    "<table><tr><td><img src=\"./images/DBSCAN-Illustration.svg\" style=\"width: 600px;\">\n",
    "</td><td> <br><br></td><td><pre><code>- eps: neighborhood radius\n",
    "- min_samples: 4\n",
    "- A: Core\n",
    "- B, C: not core\n",
    "- N: noise</code></pre>\n",
    "</td></tr></table>\n",
    "\n",
    "\n"
   ]
  },
  {
   "cell_type": "markdown",
   "metadata": {
    "slideshow": {
     "slide_type": "slide"
    }
   },
   "source": [
    "## DBSCAN - Algorithm\n",
    "\n",
    "1. Clusters are formed by “core samples”\n",
    "2. Sample is “core sample” if more than min_samples is within epsilon - “dense region”\n",
    "Start with a core sample\n",
    "3. Recursively walk neighbors that are core-samples and add to cluster.\n",
    "4. Add samples within epsilon that are not core samples (but don’t recurse)\n",
    "5. If can’t reach any more points, pick another core sample, start new cluster.\n",
    "6. If newly picked point has not enough neighbors, label outlier. Outliers can later be relabeled to belong to a cluster. "
   ]
  },
  {
   "cell_type": "markdown",
   "metadata": {
    "slideshow": {
     "slide_type": "subslide"
    }
   },
   "source": [
    "<center>\n",
    "<img src=\"./images/dbscan_animation.gif\" style=\"width: 600px;\">\n",
    "</center>\n",
    "\n",
    "by David Sheehan <a href=\"https://dashee87.github.io/data%20science/general/Clustering-with-Scikit-with-GIFs/\">dashee87.github.io</a>"
   ]
  },
  {
   "cell_type": "markdown",
   "metadata": {
    "slideshow": {
     "slide_type": "subslide"
    }
   },
   "source": [
    "\n",
    "\n",
    "# Illustration of Parameters\n",
    "\n",
    "<center>\n",
    "<img src=\"./images/dbscan_illustration.png\" style=\"width: 600px;\">\n",
    "</center>\n",
    "\n",
    "\n"
   ]
  },
  {
   "cell_type": "markdown",
   "metadata": {
    "slideshow": {
     "slide_type": "subslide"
    }
   },
   "source": [
    "\n",
    "# Pros and Cons\n",
    "\n",
    "- Pro: Can learn arbitrary cluster shapes\n",
    "- Pro: Can detect outliers\n",
    "- Pro: Relative fast algorithm\n",
    "- Con: Needs two (non-obvious?) parameters to adjust\n",
    "- Improved version: HDBSCAN\n",
    "\n",
    "<center>\n",
    "<img src=\"./images/dbscan_pro_con.png\" style=\"width: 600px;\">\n",
    "</center>\n"
   ]
  },
  {
   "cell_type": "markdown",
   "metadata": {
    "slideshow": {
     "slide_type": "subslide"
    }
   },
   "source": [
    "\n",
    "# (Gaussian) Mixture Models\n"
   ]
  },
  {
   "cell_type": "markdown",
   "metadata": {
    "slideshow": {
     "slide_type": "notes"
    }
   },
   "source": [
    "Gaussian mixture models are very similar to KMeans, but\n",
    "slightly more flexible.\n"
   ]
  },
  {
   "cell_type": "markdown",
   "metadata": {
    "slideshow": {
     "slide_type": "subslide"
    }
   },
   "source": [
    "\n",
    "\n",
    "# Mixture Models\n",
    "\n",
    "- Generative model: find p(X).\n",
    "\n",
    " $$ p(\\mathbf{x}) = \\sum_{j=1}^k \\pi_k p_k(\\mathbf{x} | \\theta) $$ \n"
   ]
  },
  {
   "cell_type": "markdown",
   "metadata": {
    "slideshow": {
     "slide_type": "subslide"
    }
   },
   "source": [
    "\n",
    "\n",
    "# Gaussian Mixture Models\n",
    "\n",
    "$$ p(\\mathbf{x}) = \\sum_{j=1}^k \\pi_k \\mathcal{N}(\\mathbf{x}, \\mu_k, \\Sigma_k) $$\n",
    "\n",
    "$$ k \\sim \\text{Mult}(\\pi), x \\sim \\mathcal{N}(\\mathbf{x}, \\mu_k, \\Sigma_k)$$"
   ]
  },
  {
   "cell_type": "markdown",
   "metadata": {
    "slideshow": {
     "slide_type": "subslide"
    }
   },
   "source": [
    "\n",
    "# Gaussian Mixture Models\n",
    "\n",
    "$$ p(\\mathbf{x}) = \\sum_{j=1}^k \\pi_k \\mathcal{N}(\\mathbf{x}, \\mu_k, \\Sigma_k) $$\n",
    "\n",
    "$$ k \\sim \\text{Mult}(\\pi), x \\sim \\mathcal{N}(\\mathbf{x}, \\mu_k, \\Sigma_k)$$\n",
    "\n",
    "- Non-convex optimization.\n",
    "- Initialized with K-means, random restarts.\n",
    "- Optimization (EM algorithm):\n",
    "    - Soft-assign points to components.\n",
    "    - Compute mean and variance of components.\n",
    "    - Iterate\n",
    "\n",
    "\n"
   ]
  },
  {
   "cell_type": "markdown",
   "metadata": {
    "slideshow": {
     "slide_type": "subslide"
    }
   },
   "source": [
    "\n",
    "\n",
    "$$ p(\\mathbf{x}) = \\sum_{j=1}^k \\pi_k \\mathcal{N}(\\mathbf{x}, \\mu_k, \\Sigma_k) $$\n",
    "\n",
    "<center>\n",
    "<img src=\"./images/gmm1.png\" style=\"width: 600px;\">\n",
    "</center>\n",
    "\n",
    "\n",
    "<center>\n",
    "<img src=\"./images/gmm2.png\" style=\"width: 600px;\">\n",
    "</center>\n",
    "\n",
    "\n"
   ]
  },
  {
   "cell_type": "markdown",
   "metadata": {
    "slideshow": {
     "slide_type": "subslide"
    }
   },
   "source": [
    "\n",
    "# Why Mixture Models?\n",
    "<br />\n",
    "<br />\n",
    "\n",
    "- Clustering (components are clusters)\n",
    "\n",
    "- Parametric density model\n"
   ]
  },
  {
   "cell_type": "code",
   "execution_count": 33,
   "metadata": {
    "slideshow": {
     "slide_type": "subslide"
    }
   },
   "outputs": [
    {
     "data": {
      "text/plain": [
       "([], <a list of 0 Text major ticklabel objects>)"
      ]
     },
     "execution_count": 33,
     "metadata": {},
     "output_type": "execute_result"
    },
    {
     "data": {
      "image/png": "[encoded data removed]",
      "text/plain": [
       "<Figure size 432x288 with 1 Axes>"
      ]
     },
     "metadata": {},
     "output_type": "display_data"
    }
   ],
   "source": [
    "# Example\n",
    "import numpy as np\n",
    "rng = np.random.RandomState(3)\n",
    "X, y = make_blobs(n_samples=500, centers=10, random_state=rng, cluster_std=[rng.gamma(1.5) for i in range(10)])\n",
    "plt.scatter(X[:, 0], X[:, 1], s=5, alpha=.6)\n",
    "plt.gca().set_aspect(\"equal\")\n",
    "#plt.scatter(X[:, 0], X[:, 1], c=plt.cm.Vega10(y), s=5, alpha=.6)\n",
    "xlim = plt.xlim()\n",
    "ylim = plt.ylim()\n",
    "plt.xticks(())\n",
    "plt.yticks(())"
   ]
  },
  {
   "cell_type": "code",
   "execution_count": 34,
   "metadata": {
    "slideshow": {
     "slide_type": "subslide"
    }
   },
   "outputs": [
    {
     "name": "stdout",
     "output_type": "stream",
     "text": [
      "[[-2.28590079 -4.67421676]\n",
      " [ 8.68498099  5.20553679]\n",
      " [-0.37685321  6.94733869]]\n",
      "=======\n",
      "[[[ 6.65149612  2.06612209]\n",
      "  [ 2.06612209 13.75935857]]\n",
      "\n",
      " [[ 1.48127404 -1.0995123 ]\n",
      "  [-1.0995123   4.19122603]]\n",
      "\n",
      " [[ 5.46730275 -3.34074938]\n",
      "  [-3.34074938  4.66638995]]]\n"
     ]
    }
   ],
   "source": [
    "from sklearn.mixture import GaussianMixture\n",
    "gmm = GaussianMixture(n_components=3)\n",
    "gmm.fit(X)\n",
    "print(gmm.means_)\n",
    "print(\"=======\")\n",
    "print(gmm.covariances_)"
   ]
  },
  {
   "cell_type": "code",
   "execution_count": 38,
   "metadata": {},
   "outputs": [
    {
     "data": {
      "image/png": "[encoded data removed]",
      "text/plain": [
       "<Figure size 432x288 with 1 Axes>"
      ]
     },
     "metadata": {},
     "output_type": "display_data"
    }
   ],
   "source": [
    "assignment = gmm.predict(X)\n",
    "km = KMeans(n_clusters=3)\n",
    "km.fit(X)\n",
    "assignment = km.predict(X)\n",
    "plt.scatter(X[:, 0], X[:, 1], s=5, alpha=.6, c=plt.cm.tab10(assignment))\n",
    "plt.gca().set_aspect(\"equal\")\n",
    "plt.xticks(())\n",
    "plt.yticks(())\n",
    "plt.show()"
   ]
  },
  {
   "cell_type": "code",
   "execution_count": 35,
   "metadata": {
    "slideshow": {
     "slide_type": "subslide"
    }
   },
   "outputs": [
    {
     "data": {
      "image/png": "[encoded data removed]",
      "text/plain": [
       "<Figure size 432x288 with 1 Axes>"
      ]
     },
     "metadata": {},
     "output_type": "display_data"
    }
   ],
   "source": [
    "assignment = gmm.predict(X)\n",
    "km = kmeans(n_components=3)\n",
    "km.fit(X)\n",
    "assignment = km.predict(X)\n",
    "\n",
    "\n",
    "plt.scatter(X[:, 0], X[:, 1], s=5, alpha=.6, c=plt.cm.tab10(assignment))\n",
    "plt.gca().set_aspect(\"equal\")\n",
    "plt.xticks(())\n",
    "plt.yticks(())\n",
    "plt.show()"
   ]
  },
  {
   "cell_type": "code",
   "execution_count": 39,
   "metadata": {
    "slideshow": {
     "slide_type": "subslide"
    }
   },
   "outputs": [
    {
     "data": {
      "text/plain": [
       "array([[9.99998492e-01, 8.76490962e-28, 1.50827215e-06],\n",
       "       [1.20638165e-05, 9.99987336e-01, 6.00134638e-07],\n",
       "       [1.00000000e+00, 5.89124387e-43, 1.35276927e-16],\n",
       "       ...,\n",
       "       [1.84051833e-04, 9.99516689e-01, 2.99258919e-04],\n",
       "       [1.00000000e+00, 3.92304177e-46, 1.20648606e-17],\n",
       "       [1.17962020e-03, 2.45269508e-20, 9.98820380e-01]])"
      ]
     },
     "execution_count": 39,
     "metadata": {},
     "output_type": "execute_result"
    }
   ],
   "source": [
    "# Probability Estimates\n",
    " \n",
    "gmm.predict_proba(X)"
   ]
  },
  {
   "cell_type": "code",
   "execution_count": 40,
   "metadata": {
    "slideshow": {
     "slide_type": "subslide"
    }
   },
   "outputs": [
    {
     "name": "stdout",
     "output_type": "stream",
     "text": [
      "-5.508383131660927\n",
      "(500,)\n"
     ]
    }
   ],
   "source": [
    "# log probability under the model\n",
    "print(gmm.score(X))\n",
    "print(gmm.score_samples(X).shape)"
   ]
  },
  {
   "cell_type": "markdown",
   "metadata": {
    "slideshow": {
     "slide_type": "subslide"
    }
   },
   "source": [
    "\n",
    "\n",
    "# Probability Estimates\n",
    "\n",
    "<table>\n",
    "<tr><td><center>gmm.predict_proba(X)</center></td><td></td><td><center>gmm.score(X)</center></td></tr>\n",
    "<tr><td><img src=\"./images/prob_est1.png\" style=\"width: 600px;\">\n",
    "</td><td> <br><br></td><td><img src=\"./images/prob_est2.png\" style=\"width: 600px;\">\n",
    "</td></tr></table>\n",
    "\n"
   ]
  },
  {
   "cell_type": "markdown",
   "metadata": {
    "slideshow": {
     "slide_type": "notes"
    }
   },
   "source": []
  },
  {
   "cell_type": "markdown",
   "metadata": {
    "slideshow": {
     "slide_type": "subslide"
    }
   },
   "source": [
    "\n",
    "# Covariance restrictions\n",
    "<center>\n",
    "<img src=\"./images/covariance_types.png\" style=\"width: 600px;\">\n",
    "</center>\n"
   ]
  },
  {
   "cell_type": "markdown",
   "metadata": {
    "slideshow": {
     "slide_type": "subslide"
    }
   },
   "source": [
    "\n",
    "# GMM vs KMeans\n",
    "\n",
    "<center>\n",
    "<img src=\"./images/gmm_vs_kmeans_1.png\" style=\"width: 600px;\">\n",
    "</center>\n",
    "\n",
    "\n",
    "<center>\n",
    "<img src=\"./images/gmm_vs_kmeans_2.png\" style=\"width: 600px;\">\n",
    "</center>\n"
   ]
  },
  {
   "cell_type": "markdown",
   "metadata": {
    "slideshow": {
     "slide_type": "subslide"
    }
   },
   "source": [
    "# Clustering Evaluation Metrics\n",
    "\n",
    "1.  Internal Validation Methods - e.g.:\n",
    "   - inter-cluster distances (WSS), \n",
    "   - intra-cluster distances (BSS),\n",
    "   - silhouette coefficient \n",
    "   - and more..\n",
    "   \n",
    " some of these methods can be used for the number of clustering selection"
   ]
  },
  {
   "cell_type": "markdown",
   "metadata": {
    "slideshow": {
     "slide_type": "subslide"
    }
   },
   "source": [
    "# Clustering Evaluation Metrics\n",
    "\n",
    "2. External Validation Methods - e.g.:\n",
    "   - Homogenity score, \n",
    "   - completeness score, \n",
    "   - v-measure score, \n",
    "   - jaccard, \n",
    "   - normalized mutual information (NMI) \n",
    "   - and more...\n",
    "\n",
    "all availablae in `sklearn.metrics`"
   ]
  },
  {
   "cell_type": "markdown",
   "metadata": {
    "slideshow": {
     "slide_type": "subslide"
    }
   },
   "source": [
    "\n",
    "# Clustering Summary\n",
    "\n",
    "- KMeans<br/>Classic, simple. Only convex cluster shapes, determined by cluster centers.\n",
    "\n",
    "- Agglomerative<br/>Can take input topology into account, can produce hierarchy.\n",
    "\n",
    "- DBSCAN<br/>Arbitrary cluster shapes, can detect outliers, often very different sized clusters.\n",
    "\n",
    "- Gaussian Mixture Models<br/>Can model covariance, soft clustering, can be hard to fit.\n",
    "\n",
    "\n"
   ]
  },
  {
   "cell_type": "markdown",
   "metadata": {
    "slideshow": {
     "slide_type": "subslide"
    }
   },
   "source": [
    "<center>\n",
    "<img src=\"./images/bim_2.png\" style=\"width: 600px;\">\n",
    "</center>\n",
    "\n",
    "http://scikit-learn.org/dev/auto_examples/cluster/plot_cluster_comparison.html]\n"
   ]
  },
  {
   "cell_type": "markdown",
   "metadata": {
    "slideshow": {
     "slide_type": "subslide"
    }
   },
   "source": [
    "# Questions ?\n",
    "\n",
    "\n",
    "    "
   ]
  },
  {
   "cell_type": "markdown",
   "metadata": {
    "slideshow": {
     "slide_type": "slide"
    }
   },
   "source": [
    "# Unsupervised 2 - Dimensionality Reduction"
   ]
  },
  {
   "cell_type": "markdown",
   "metadata": {
    "slideshow": {
     "slide_type": "slide"
    }
   },
   "source": [
    "## Principal Component Analysis\n",
    "<center>\n",
    "<img src=\"./images/pca-intuition.png\" style=\"width: 600px;\">\n",
    "</center>"
   ]
  },
  {
   "cell_type": "markdown",
   "metadata": {
    "slideshow": {
     "slide_type": "subslide"
    }
   },
   "source": [
    "\n",
    "# PCA Computation\n",
    "- Center X (subtract mean).\n",
    "- In practice: Also scale to unit variance.\n",
    "- Compute singular value decomposition:\n",
    "\n",
    "<center>\n",
    "<img src=\"./images/pca-computation.png\" style=\"width: 600px;\">\n",
    "</center>\n"
   ]
  },
  {
   "cell_type": "code",
   "execution_count": 44,
   "metadata": {
    "slideshow": {
     "slide_type": "slide"
    }
   },
   "outputs": [
    {
     "name": "stdout",
     "output_type": "stream",
     "text": [
      "(569, 30)\n",
      "(569, 2)\n"
     ]
    },
    {
     "data": {
      "text/plain": [
       "Text(0, 0.5, 'second principal component')"
      ]
     },
     "execution_count": 44,
     "metadata": {},
     "output_type": "execute_result"
    },
    {
     "data": {
      "image/png": "[encoded data removed]",
      "text/plain": [
       "<Figure size 432x288 with 1 Axes>"
      ]
     },
     "metadata": {
      "needs_background": "light"
     },
     "output_type": "display_data"
    }
   ],
   "source": [
    "# PCA for Visualization\n",
    "from sklearn.decomposition import PCA\n",
    "from sklearn.datasets import load_breast_cancer\n",
    "import matplotlib.pyplot as plt\n",
    "from sklearn.manifold import TSNE\n",
    "\n",
    "cancer=load_breast_cancer()\n",
    "print(cancer.data.shape)\n",
    "pca = PCA(n_components=2)\n",
    "\n",
    "X_pca = pca.fit_transform(cancer.data)\n",
    "print(X_pca.shape)\n",
    "plt.scatter(X_pca[:, 0], X_pca[:, 1], c=cancer.target)\n",
    "plt.xlabel(\"first principal component\")\n",
    "plt.ylabel(\"second principal component\")\n"
   ]
  },
  {
   "cell_type": "code",
   "execution_count": 42,
   "metadata": {
    "slideshow": {
     "slide_type": "slide"
    }
   },
   "outputs": [
    {
     "data": {
      "text/plain": [
       "<matplotlib.colorbar.Colorbar at 0x1a24cfb210>"
      ]
     },
     "execution_count": 42,
     "metadata": {},
     "output_type": "execute_result"
    },
    {
     "data": {
      "image/png": "[encoded data removed]",
      "text/plain": [
       "<Figure size 432x288 with 2 Axes>"
      ]
     },
     "metadata": {
      "needs_background": "light"
     },
     "output_type": "display_data"
    }
   ],
   "source": [
    "components = pca.components_\n",
    "plt.imshow(components.T)\n",
    "plt.yticks(range(len(cancer.feature_names)), cancer.feature_names)\n",
    "plt.colorbar()"
   ]
  },
  {
   "cell_type": "markdown",
   "metadata": {
    "slideshow": {
     "slide_type": "slide"
    }
   },
   "source": [
    "# t-SNE\n",
    "\n",
    "t-SNE is something that people found quite useful in\n",
    "practice for inspecting datasets.\n",
    "\n",
    "t-SNE stands for t-distribution stochastic neighbor\n",
    "embedding, this is sort of the one that maybe has the least\n",
    "strong theory behind it. But they're all kind of heuristics\n",
    "and a little bit of hacky.\n",
    "\n",
    "- Starts with a random embedding\n",
    "- Iteratively updates points to make “close” points close.\n",
    "- Global distances are less important, neighborhood counts.\n",
    "- Good for getting coarse view of topology.\n",
    "- Can be good for  nding interesting data point\n",
    "- t distribution heavy-tailed so no overcrowding.\n",
    "- (low perplexity: only close neighbors)\n",
    "\n",
    "usage is similar to PCA (`from sklearn.manifold import TSNE`)"
   ]
  },
  {
   "cell_type": "markdown",
   "metadata": {
    "slideshow": {
     "slide_type": "slide"
    }
   },
   "source": [
    "# t-SNE\n",
    "\n",
    "$$p_{j\\mid i} = \\frac{\\exp(-\\lVert\\mathbf{x}_i - \\mathbf{x}_j\\rVert^2 / 2\\sigma_i^2)}{\\sum_{k \\neq i} \\exp(-\\lVert\\mathbf{x}_i - \\mathbf{x}_k\\rVert^2 / 2\\sigma_i^2)}$$\n",
    "\n",
    "$$p_{ij} = \\frac{p_{j\\mid i} + p_{i\\mid j}}{2N}$$\n",
    "\n",
    "$$q_{ij} = \\frac{(1 + \\lVert \\mathbf{y}_i - \\mathbf{y}_j\\rVert^2)^{-1}}{\\sum_{k \\neq i} (1 + \\lVert \\mathbf{y}_i - \\mathbf{y}_k\\rVert^2)^{-1}}$$\n",
    "\n",
    "$$KL(P||Q) = \\sum_{i \\neq j} p_{ij} \\log \\frac{p_{ij}}{q_{ij}}$$"
   ]
  },
  {
   "cell_type": "markdown",
   "metadata": {
    "slideshow": {
     "slide_type": "subslide"
    }
   },
   "source": [
    "\n",
    "# PCA for feature extraction\n",
    "\n",
    "\n",
    "<center>\n",
    "<img src=\"./images/pca-for-feature-extraction.png\" style=\"width: 600px;\">\n",
    "</center>\n"
   ]
  },
  {
   "cell_type": "markdown",
   "metadata": {
    "slideshow": {
     "slide_type": "subslide"
    }
   },
   "source": [
    "\n",
    "\n",
    "# Reconstruction\n",
    "\n",
    "<center>\n",
    "<img src=\"./images/reconstruction.png\" style=\"width: 600px;\">\n",
    "</center>\n",
    "\n"
   ]
  },
  {
   "cell_type": "markdown",
   "metadata": {
    "slideshow": {
     "slide_type": "subslide"
    }
   },
   "source": [
    "\n",
    "\n",
    "# PCA for outlier detection\n",
    "```python\n",
    "pca = PCA(n_components=100).fit(X_train)\n",
    "reconstruction_errors = np.sum((X_test - pca.inverse_transform(pca.transform(X_test))) ** 2, axis=1)\n",
    "```\n",
    "\n",
    "<table>\n",
    "<tr><td><center>best-reconstructions</center></td><td></td><td><center>worst-reconstructions</center></td></tr>\n",
    "<tr><td><img src=\"./images/best-reconstructions.png\" style=\"width: 600px;\">\n",
    "</td><td> <br><br></td><td><img src=\"./images/worst-reconstructions.png\" style=\"width: 600px;\">\n",
    "</td></tr></table>\n",
    "\n",
    "\n"
   ]
  },
  {
   "cell_type": "markdown",
   "metadata": {
    "slideshow": {
     "slide_type": "slide"
    }
   },
   "source": [
    "# Questions?"
   ]
  }
 ],
 "metadata": {
  "celltoolbar": "Slideshow",
  "kernelspec": {
   "display_name": "Python 3",
   "language": "python",
   "name": "python3"
  },
  "language_info": {
   "codemirror_mode": {
    "name": "ipython",
    "version": 3
   },
   "file_extension": ".py",
   "mimetype": "text/x-python",
   "name": "python",
   "nbconvert_exporter": "python",
   "pygments_lexer": "ipython3",
   "version": "3.7.7"
  },
  "toc": {
   "base_numbering": 1,
   "nav_menu": {},
   "number_sections": false,
   "sideBar": true,
   "skip_h1_title": false,
   "title_cell": "Table of Contents",
   "title_sidebar": "Contents",
   "toc_cell": false,
   "toc_position": {},
   "toc_section_display": true,
   "toc_window_display": false
  }
 },
 "nbformat": 4,
 "nbformat_minor": 4
}
