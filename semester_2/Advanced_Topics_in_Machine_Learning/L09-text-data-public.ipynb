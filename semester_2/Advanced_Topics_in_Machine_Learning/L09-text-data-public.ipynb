{
 "cells": [
  {
   "cell_type": "markdown",
   "metadata": {
    "slideshow": {
     "slide_type": "subslide"
    }
   },
   "source": [
    "\n",
    "\n",
    "### Advanced Machine Learning\n",
    "\n",
    "# Working with Text Data\n",
    "\n",
    "26/04/21\n",
    "\n",
    "Jonathan Schler\n",
    "\n",
    "(credit: Columbia Univ - 4995 - Machine Learning Course)\n",
    "\n"
   ]
  },
  {
   "cell_type": "markdown",
   "metadata": {
    "slideshow": {
     "slide_type": "subslide"
    }
   },
   "source": [
    "\n",
    "\n",
    "# More kinds of data\n",
    "\n",
    "\n",
    "- So far:\n",
    "  * Fixed number of features\n",
    "  * Contiguous\n",
    "  * Categorical\n",
    "\n"
   ]
  },
  {
   "cell_type": "markdown",
   "metadata": {
    "slideshow": {
     "slide_type": "subslide"
    }
   },
   "source": [
    "\n",
    "\n",
    "- Next up:\n",
    "  * No pre-defined features\n",
    "  * Free text\n",
    "  * (Images, Audio, video, graphs, ...: not this class)\n",
    "\n"
   ]
  },
  {
   "cell_type": "markdown",
   "metadata": {
    "slideshow": {
     "slide_type": "subslide"
    }
   },
   "source": [
    "\n",
    "# Typical Text Data\n",
    "\n",
    "<br>\n",
    "<center>\n",
    "<img src=\"./images/typical_text_data_1.png\" style=\"width: 600px;\">\n",
    "</center>\n",
    "<br>\n",
    "<br>\n",
    "<center>\n",
    "<img src=\"./images/typical_text_data_2.png\" style=\"width: 600px;\">\n",
    "</center>\n",
    "\n",
    "\n",
    "\n"
   ]
  },
  {
   "cell_type": "markdown",
   "metadata": {
    "slideshow": {
     "slide_type": "subslide"
    }
   },
   "source": [
    "\n",
    "# Other Types of text data\n",
    "\n",
    "<center>\n",
    "<img src=\"./images/other_types_of_text_data.png\" style=\"width: 600px;\">\n",
    "</center>\n",
    "\n"
   ]
  },
  {
   "cell_type": "markdown",
   "metadata": {
    "slideshow": {
     "slide_type": "subslide"
    }
   },
   "source": [
    "\n",
    "\n",
    "# Bag of Words\n",
    "<br>\n",
    "\n",
    "\n",
    "<center>\n",
    "<img src=\"./images/bag_of_words.png\" style=\"width: 600px;\">\n",
    "</center>\n"
   ]
  },
  {
   "cell_type": "markdown",
   "metadata": {
    "slideshow": {
     "slide_type": "subslide"
    }
   },
   "source": [
    "\n",
    "## Toy Example\n",
    "\n",
    "\n"
   ]
  },
  {
   "cell_type": "code",
   "execution_count": 23,
   "metadata": {
    "slideshow": {
     "slide_type": "subslide"
    }
   },
   "outputs": [
    {
     "name": "stdout",
     "output_type": "stream",
     "text": [
      "['ants', 'because', 'do', 'get', 'how', 'that', 'want', 'you']\n"
     ]
    }
   ],
   "source": [
    "malory = [\"Do you want Ants? I want you\",\n",
    "          \"Because that’s how you get ants ants.\"]\n",
    "from sklearn.feature_extraction.text import CountVectorizer\n",
    "vect = CountVectorizer()\n",
    "vect.fit(malory)\n",
    "print(vect.get_feature_names())\n"
   ]
  },
  {
   "cell_type": "code",
   "execution_count": 21,
   "metadata": {
    "slideshow": {
     "slide_type": "subslide"
    }
   },
   "outputs": [
    {
     "name": "stdout",
     "output_type": "stream",
     "text": [
      "[[1 0 1 0 0 0 2 2]\n",
      " [2 1 0 1 1 1 0 1]]\n"
     ]
    }
   ],
   "source": [
    "\n",
    "\n",
    "X = vect.transform(malory)\n",
    "print(X.toarray())\n",
    "#print(X)\n",
    "\n"
   ]
  },
  {
   "cell_type": "markdown",
   "metadata": {
    "slideshow": {
     "slide_type": "subslide"
    }
   },
   "source": [
    "\n",
    "# \"bag\"\n",
    "\n",
    "\n",
    "```python\n",
    "print(malory)\n",
    "print(vect.inverse_transform(X)[0])\n",
    "print(vect.inverse_transform(X)[1])\n",
    "```\n",
    "\n",
    "```\n",
    "['Do you want ants?', 'Because that’s how you get ants.']\n",
    "['ants' 'do' 'want' 'you']\n",
    "['ants' 'because' 'get' 'how' 'that' 'you']\n",
    "```\n",
    "\n"
   ]
  },
  {
   "cell_type": "markdown",
   "metadata": {
    "slideshow": {
     "slide_type": "subslide"
    }
   },
   "source": [
    "\n",
    "\n",
    "# Text classification example:\n",
    "# IMDB Movie Reviews"
   ]
  },
  {
   "cell_type": "code",
   "execution_count": 24,
   "metadata": {
    "slideshow": {
     "slide_type": "slide"
    }
   },
   "outputs": [
    {
     "name": "stdout",
     "output_type": "stream",
     "text": [
      "type of text_train:  <class 'list'>\n",
      "length of text_train:  25000\n",
      "class balance:  [12500 12500]\n"
     ]
    }
   ],
   "source": [
    "# Data loading\n",
    "\n",
    "from sklearn.datasets import load_files\n",
    "import numpy as np\n",
    "reviews_train = load_files(\"./data/aclImdb/train/\")\n",
    "\n",
    "text_trainval, y_trainval = reviews_train.data, reviews_train.target\n",
    "print(\"type of text_train: \", type(text_trainval))\n",
    "print(\"length of text_train: \", len(text_trainval))\n",
    "print(\"class balance: \", np.bincount(y_trainval))\n"
   ]
  },
  {
   "cell_type": "code",
   "execution_count": 30,
   "metadata": {},
   "outputs": [
    {
     "data": {
      "text/plain": [
       "1"
      ]
     },
     "execution_count": 30,
     "metadata": {},
     "output_type": "execute_result"
    }
   ],
   "source": [
    "y_trainval[12501]"
   ]
  },
  {
   "cell_type": "code",
   "execution_count": 33,
   "metadata": {
    "slideshow": {
     "slide_type": "subslide"
    }
   },
   "outputs": [
    {
     "name": "stdout",
     "output_type": "stream",
     "text": [
      "text_train[1]:\n",
      "Words can't describe how bad this movie is. I can't explain it by writing only. You have too see it for yourself to get at grip of how horrible a movie really can be. Not that I recommend you to do that. There are so many clichés, mistakes (and all other negative things you can imagine) here that will just make you cry. To start with the technical first, there are a LOT of mistakes regarding the airplane. I won't list them here, but just mention the coloring of the plane. They didn't even manage to show an airliner in the colors of a fictional airline, but instead used a 747 painted in the original Boeing livery. Very bad. The plot is stupid and has been done many times before, only much, much better. There are so many ridiculous moments here that i lost count of it really early. Also, I was on the bad guys' side all the time in the movie, because the good guys were so stupid. \"Executive Decision\" should without a doubt be you're choice over this one, even the \"Turbulence\"-movies are better. In fact, every other movie in the world is better than this one.\n"
     ]
    }
   ],
   "source": [
    "#Data loading\n",
    "print(\"text_train[1]:\")\n",
    "print(text_trainval[1].decode())\n"
   ]
  },
  {
   "cell_type": "code",
   "execution_count": 34,
   "metadata": {
    "slideshow": {
     "slide_type": "subslide"
    }
   },
   "outputs": [
    {
     "data": {
      "text/plain": [
       "<18750x66651 sparse matrix of type '<class 'numpy.int64'>'\n",
       "\twith 2569474 stored elements in Compressed Sparse Row format>"
      ]
     },
     "execution_count": 34,
     "metadata": {},
     "output_type": "execute_result"
    }
   ],
   "source": [
    "#Vectorization\n",
    "\n",
    "from sklearn.model_selection import train_test_split\n",
    "\n",
    "text_trainval = [doc.replace(b\"<br />\", b\" \") for doc in text_trainval]\n",
    "text_train, text_val, y_train, y_val = train_test_split(\n",
    "    text_trainval, y_trainval, stratify=y_trainval, random_state=0)\n",
    "vect = CountVectorizer()\n",
    "X_train = vect.fit_transform(text_train)\n",
    "X_val = vect.transform(text_val)\n",
    "X_train"
   ]
  },
  {
   "cell_type": "code",
   "execution_count": 35,
   "metadata": {
    "slideshow": {
     "slide_type": "subslide"
    }
   },
   "outputs": [
    {
     "name": "stdout",
     "output_type": "stream",
     "text": [
      "['00', '000', '0000000000001', '00001', '00015', '000s', '001', '003830', '006', '007']\n",
      "['eschews', 'escort', 'escorted', 'escorting', 'escorts', 'escpecially', 'escreve', 'escrow', 'esculator', 'ese', 'eser', 'esha', 'eshaan', 'eshley', 'esk', 'eskimo', 'eskimos', 'esmerelda', 'esmond', 'esophagus']\n",
      "['00', 'ahoy', 'aspects', 'belting', 'bridegroom', 'cements', 'commas', 'crowds', 'detlef', 'druids', 'eschews', 'finishing', 'gathering', 'gunrunner', 'homesickness', 'inhumanities', 'kabbalism', 'leech', 'makes', 'miki', 'nas', 'organ', 'pesci', 'principally', 'rebours', 'robotnik', 'sculptural', 'skinkons', 'stardom', 'syncer', 'tools', 'unflagging', 'waaaay', 'yanks']\n"
     ]
    }
   ],
   "source": [
    "#Vocabulary\n",
    "feature_names = vect.get_feature_names()\n",
    "print(feature_names[:10])\n",
    "print(feature_names[20000:20020])\n",
    "print(feature_names[::2000])\n",
    "\n"
   ]
  },
  {
   "cell_type": "code",
   "execution_count": 36,
   "metadata": {
    "slideshow": {
     "slide_type": "subslide"
    }
   },
   "outputs": [
    {
     "name": "stderr",
     "output_type": "stream",
     "text": [
      "/Users/jonathan.schler/anaconda3/envs/python37/lib/python3.7/site-packages/sklearn/linear_model/_logistic.py:765: ConvergenceWarning: lbfgs failed to converge (status=1):\n",
      "STOP: TOTAL NO. of ITERATIONS REACHED LIMIT.\n",
      "\n",
      "Increase the number of iterations (max_iter) or scale the data as shown in:\n",
      "    https://scikit-learn.org/stable/modules/preprocessing.html\n",
      "Please also refer to the documentation for alternative solver options:\n",
      "    https://scikit-learn.org/stable/modules/linear_model.html#logistic-regression\n",
      "  extra_warning_msg=_LOGISTIC_SOLVER_CONVERGENCE_MSG)\n"
     ]
    }
   ],
   "source": [
    "#Classification\n",
    "\n",
    "from sklearn.linear_model import LogisticRegressionCV\n",
    "from sklearn.linear_model import LogisticRegression\n",
    "lr = LogisticRegression().fit(X_train, y_train)\n"
   ]
  },
  {
   "cell_type": "code",
   "execution_count": 37,
   "metadata": {
    "slideshow": {
     "slide_type": "subslide"
    }
   },
   "outputs": [
    {
     "data": {
      "text/plain": [
       "0.87488"
      ]
     },
     "execution_count": 37,
     "metadata": {},
     "output_type": "execute_result"
    }
   ],
   "source": [
    "lr.score(X_val, y_val)"
   ]
  },
  {
   "cell_type": "code",
   "execution_count": 38,
   "metadata": {
    "slideshow": {
     "slide_type": "subslide"
    }
   },
   "outputs": [],
   "source": [
    "import numpy as np\n",
    "import matplotlib.pyplot as plt\n",
    "%matplotlib inline\n",
    "#plt.rcParams[\"figure.dpi\"] = 300\n",
    "plt.rcParams[\"savefig.dpi\"] = 300\n",
    "plt.rcParams[\"savefig.bbox\"] = \"tight\"\n",
    "\n",
    "np.set_printoptions(precision=3, suppress=True)\n",
    "import pandas as pd\n",
    "from sklearn.model_selection import train_test_split, cross_val_score\n",
    "from sklearn.pipeline import make_pipeline\n",
    "from sklearn.preprocessing import scale, StandardScaler"
   ]
  },
  {
   "cell_type": "code",
   "execution_count": 39,
   "metadata": {
    "slideshow": {
     "slide_type": "subslide"
    }
   },
   "outputs": [],
   "source": [
    "def plot_important_features(coef, feature_names, top_n=20, ax=None, rotation=60):\n",
    "    if ax is None:\n",
    "        ax = plt.gca()\n",
    "    inds = np.argsort(coef)\n",
    "    low = inds[:top_n]\n",
    "    high = inds[-top_n:]\n",
    "    important = np.hstack([low, high])\n",
    "    myrange = range(len(important))\n",
    "    colors = ['red'] * top_n + ['blue'] * top_n\n",
    "    \n",
    "    ax.bar(myrange, coef[important], color=colors)\n",
    "    ax.set_xticks(myrange)\n",
    "    ax.set_xticklabels(feature_names[important], rotation=rotation, ha=\"right\")\n",
    "    ax.set_xlim(-.7, 2 * top_n)\n",
    "    ax.set_frame_on(False)"
   ]
  },
  {
   "cell_type": "code",
   "execution_count": 40,
   "metadata": {
    "slideshow": {
     "slide_type": "subslide"
    }
   },
   "outputs": [
    {
     "data": {
      "image/png": "[encoded data removed]",
      "text/plain": [
       "<Figure size 1080x432 with 1 Axes>"
      ]
     },
     "metadata": {
      "needs_background": "light"
     },
     "output_type": "display_data"
    }
   ],
   "source": [
    "plt.figure(figsize=(15, 6))\n",
    "plot_important_features(lr.coef_.ravel(), np.array(feature_names), top_n=20, rotation=40)\n",
    "ax = plt.gca()\n",
    "plt.show()"
   ]
  },
  {
   "cell_type": "markdown",
   "metadata": {
    "slideshow": {
     "slide_type": "subslide"
    }
   },
   "source": [
    "# break"
   ]
  },
  {
   "cell_type": "markdown",
   "metadata": {
    "slideshow": {
     "slide_type": "subslide"
    }
   },
   "source": [
    "\n",
    "# Soo many options!\n",
    "\n",
    "- How to tokenize?\n",
    "- How to normalize words?\n",
    "- What to include in vocabulary?"
   ]
  },
  {
   "cell_type": "markdown",
   "metadata": {
    "slideshow": {
     "slide_type": "subslide"
    }
   },
   "source": [
    "\n",
    "\n",
    "# Tokenization\n",
    "- Scikit-learn (very simplistic):\n",
    "  * `re.findall(r\"\\b\\w\\w+\\b\")`\n",
    "  * Includes numbers\n",
    "  * discards single-letter words\n",
    "  * `-` or `'` break up words"
   ]
  },
  {
   "cell_type": "code",
   "execution_count": 50,
   "metadata": {
    "slideshow": {
     "slide_type": "slide"
    }
   },
   "outputs": [
    {
     "name": "stdout",
     "output_type": "stream",
     "text": [
      "['Do you want Ants? I want you', 'Because that’s how you get ants ants.']\n",
      "['ants', 'because', 'do', 'get', 'how', 'that', 'want', 'you']\n",
      "['ants', 'because', 'do', 'get', 'how', 'i', 's', 'that', 'want', 'you']\n",
      "['ants', 'because', 'do', 'get', 'how', 'that’s', 'want', 'you']\n"
     ]
    }
   ],
   "source": [
    "#Changing the token pattern regex\n",
    "print(malory)\n",
    "vect = CountVectorizer()\n",
    "vect.fit(malory)\n",
    "print(vect.get_feature_names())\n",
    "\n",
    "vect = CountVectorizer(token_pattern=r\"\\b\\w+\\b\")\n",
    "vect.fit(malory)\n",
    "print(vect.get_feature_names())\n",
    "\n",
    "vect = CountVectorizer(token_pattern=r\"\\b\\w[\\w’]+\\b\")\n",
    "vect.fit(malory)\n",
    "#vect.fit([\"malory@gmail.com\",\"http://www.cnn.com/homepage\",\"it costs $13.44\"])\n",
    "print(vect.get_feature_names())\n"
   ]
  },
  {
   "cell_type": "markdown",
   "metadata": {
    "slideshow": {
     "slide_type": "subslide"
    }
   },
   "source": [
    "\n",
    "\n",
    "# Normalization\n",
    "\n",
    "- lowercase\n",
    "- Correct spelling?\n",
    "- Stemming: reduce to word stem\n",
    "- Lemmatization: smartly reduce to word stem\n",
    "\n"
   ]
  },
  {
   "cell_type": "markdown",
   "metadata": {
    "slideshow": {
     "slide_type": "subslide"
    }
   },
   "source": [
    "\n",
    "<pre><code>\"Our meeting today was worse than yesterday,\n",
    "I'm scared of meeting the clients tomorrow.\"\n",
    "</code></pre>\n",
    "\n",
    "Stemming:<br/>\n",
    "`\n",
    "['our', 'meet', 'today', 'wa', 'wors', 'than', 'yesterday', ',', 'i',\n",
    " \"'m\", 'scare', 'of', 'meet', 'the', 'client', 'tomorrow', '.']\n",
    "`\n",
    "\n",
    "Lemmatization:<br/>\n",
    "`\n",
    "['our', 'meeting', 'today', 'be', 'bad', 'than', 'yesterday', ',', 'i',\n",
    " 'be', 'scar', 'of', 'meet', 'the', 'client', 'tomorrow', '.']\n",
    "`\n",
    "\n",
    "- scikit-learn:\n",
    "  * Lower-case it\n",
    "  * Configurable, use nltk or spacy\n"
   ]
  },
  {
   "cell_type": "markdown",
   "metadata": {
    "slideshow": {
     "slide_type": "subslide"
    }
   },
   "source": [
    "\n",
    "\n",
    "\n",
    "# Restricting the Vocabulary"
   ]
  },
  {
   "cell_type": "code",
   "execution_count": 54,
   "metadata": {
    "slideshow": {
     "slide_type": "slide"
    }
   },
   "outputs": [
    {
     "name": "stdout",
     "output_type": "stream",
     "text": [
      "['Do you want Ants? I want you', 'Because that’s how you get ants ants.']\n",
      "['ants', 'want']\n"
     ]
    }
   ],
   "source": [
    "# stopwords\n",
    "print(malory)\n",
    "vect = CountVectorizer(stop_words='english')\n",
    "vect.fit(malory)\n",
    "print(vect.get_feature_names())\n",
    "\n",
    "from sklearn.feature_extraction.text import ENGLISH_STOP_WORDS\n",
    "#print(list(ENGLISH_STOP_WORDS))"
   ]
  },
  {
   "cell_type": "code",
   "execution_count": 55,
   "metadata": {
    "slideshow": {
     "slide_type": "slide"
    }
   },
   "outputs": [
    {
     "name": "stdout",
     "output_type": "stream",
     "text": [
      "['ants', 'you']\n",
      "['ants', 'because', 'want', 'you']\n"
     ]
    }
   ],
   "source": [
    "# Infrequent Words\n",
    "\n",
    "#Remove words that appear in less than 2 documents:\n",
    "vect = CountVectorizer(min_df=2)\n",
    "vect.fit(malory)\n",
    "print(vect.get_feature_names())\n",
    "\n",
    "#Restrict vocabulary size to max_features most frequent words:\n",
    "vect = CountVectorizer(max_features=4)\n",
    "vect.fit(malory)\n",
    "print(vect.get_feature_names())"
   ]
  },
  {
   "cell_type": "code",
   "execution_count": 56,
   "metadata": {
    "slideshow": {
     "slide_type": "subslide"
    }
   },
   "outputs": [
    {
     "name": "stdout",
     "output_type": "stream",
     "text": [
      "(18750, 66651)\n",
      "(18750, 39824)\n",
      "(18750, 26927)\n"
     ]
    }
   ],
   "source": [
    "vect = CountVectorizer(min_df=2)\n",
    "X_train_df2 = vect.fit_transform(text_train)\n",
    "\n",
    "vect = CountVectorizer(min_df=4)\n",
    "X_train_df4 = vect.fit_transform(text_train)\n",
    "X_val_df4 = vect.transform(text_val)\n",
    "\n",
    "print(X_train.shape)\n",
    "print(X_train_df2.shape)\n",
    "print(X_train_df4.shape)"
   ]
  },
  {
   "cell_type": "code",
   "execution_count": 57,
   "metadata": {
    "slideshow": {
     "slide_type": "subslide"
    },
    "tags": []
   },
   "outputs": [
    {
     "name": "stderr",
     "output_type": "stream",
     "text": [
      "/Users/jonathan.schler/anaconda3/envs/python37/lib/python3.7/site-packages/sklearn/linear_model/_logistic.py:765: ConvergenceWarning: lbfgs failed to converge (status=1):\n",
      "STOP: TOTAL NO. of ITERATIONS REACHED LIMIT.\n",
      "\n",
      "Increase the number of iterations (max_iter) or scale the data as shown in:\n",
      "    https://scikit-learn.org/stable/modules/preprocessing.html\n",
      "Please also refer to the documentation for alternative solver options:\n",
      "    https://scikit-learn.org/stable/modules/linear_model.html#logistic-regression\n",
      "  extra_warning_msg=_LOGISTIC_SOLVER_CONVERGENCE_MSG)\n"
     ]
    },
    {
     "data": {
      "text/plain": [
       "0.8728"
      ]
     },
     "execution_count": 57,
     "metadata": {},
     "output_type": "execute_result"
    }
   ],
   "source": [
    "#lr = LogisticRegressionCV().fit(X_train_df4, y_train)\n",
    "#print(lr.C_)\n",
    "lr = LogisticRegression().fit(X_train_df4, y_train)\n",
    "\n",
    "lr.score(X_val_df4, y_val)"
   ]
  },
  {
   "cell_type": "markdown",
   "metadata": {
    "slideshow": {
     "slide_type": "subslide"
    }
   },
   "source": [
    "\n",
    "# Tf-idf rescaling\n",
    "\n",
    "$$ \\text{tf-idf}(t,d) = \\text{tf}(t,d)\\cdot \\text{idf}(t)$$\n",
    "\n",
    "$$ \\text{idf}(t) = \\log\\frac{1+n_d}{1+\\text{df}(d,t)} + 1$$\n",
    "\n",
    "$n_d$ = total number of documents <br/>\n",
    "$df(d,t)$ = number of documents containing term $t$\n",
    "\n"
   ]
  },
  {
   "cell_type": "markdown",
   "metadata": {
    "slideshow": {
     "slide_type": "subslide"
    }
   },
   "source": [
    "\n",
    "\n",
    "* In sklearn: by default also L2 normalisation!\n"
   ]
  },
  {
   "cell_type": "code",
   "execution_count": 61,
   "metadata": {
    "slideshow": {
     "slide_type": "subslide"
    }
   },
   "outputs": [
    {
     "name": "stdout",
     "output_type": "stream",
     "text": [
      "[[0.259 0.    0.364 0.    0.    0.    0.729 0.519]\n",
      " [0.557 0.391 0.    0.391 0.391 0.391 0.    0.278]]\n",
      "[[0.259 0.    0.364 0.    0.    0.    0.729 0.519]\n",
      " [0.557 0.391 0.    0.391 0.391 0.391 0.    0.278]]\n"
     ]
    }
   ],
   "source": [
    "#TfidfVectorizer, TfidfTransformer\n",
    "\n",
    "\n",
    "from sklearn.feature_extraction.text import TfidfVectorizer, TfidfTransformer\n",
    "malory_tfidf = TfidfVectorizer().fit_transform(malory)\n",
    "print(malory_tfidf.toarray())\n",
    "\n",
    "malory_tfidf = make_pipeline(CountVectorizer(),\n",
    "                             TfidfTransformer()).fit_transform(malory)\n",
    "print(malory_tfidf.toarray())"
   ]
  },
  {
   "cell_type": "code",
   "execution_count": 64,
   "metadata": {
    "slideshow": {
     "slide_type": "subslide"
    }
   },
   "outputs": [
    {
     "name": "stdout",
     "output_type": "stream",
     "text": [
      "[[1 0 1 0 0 0 2 2]\n",
      " [2 1 0 1 1 1 0 1]]\n",
      "[[0.167 0.    0.167 0.    0.    0.    0.333 0.333]\n",
      " [0.286 0.143 0.    0.143 0.143 0.143 0.    0.143]]\n"
     ]
    }
   ],
   "source": [
    "# L1 normalization with CountVectorizer\n",
    "\n",
    "from sklearn.preprocessing import normalize\n",
    "malory_vec = CountVectorizer().fit_transform(malory)\n",
    "print(malory_vec.toarray())\n",
    "\n",
    "print(normalize(malory_vec,norm=\"l1\").toarray())"
   ]
  },
  {
   "cell_type": "markdown",
   "metadata": {
    "slideshow": {
     "slide_type": "subslide"
    }
   },
   "source": [
    "\n",
    "# N-grams: Beyond single words\n",
    "- Bag of words completely removes word order.\n",
    "- \"didn't love\" and \"love\" are very different!\n",
    "\n"
   ]
  },
  {
   "cell_type": "markdown",
   "metadata": {
    "slideshow": {
     "slide_type": "subslide"
    }
   },
   "source": [
    "\n",
    "\n",
    "\n",
    "<center>\n",
    "<img src=\"./images/single_words.png\" style=\"width: 600px;\">\n",
    "</center>\n"
   ]
  },
  {
   "cell_type": "code",
   "execution_count": 65,
   "metadata": {
    "slideshow": {
     "slide_type": "subslide"
    }
   },
   "outputs": [
    {
     "name": "stdout",
     "output_type": "stream",
     "text": [
      "Vocabulary size:  8\n",
      "Vocabulary:\n",
      " ['ants', 'because', 'do', 'get', 'how', 'that', 'want', 'you']\n",
      "-----------\n",
      "Vocabulary size:  11\n",
      "Vocabulary:\n",
      " ['ants ants', 'ants want', 'because that', 'do you', 'get ants', 'how you', 'that how', 'want ants', 'want you', 'you get', 'you want']\n",
      "-----------\n",
      "Vocabulary size:  19\n",
      "Vocabulary:\n",
      " ['ants', 'ants ants', 'ants want', 'because', 'because that', 'do', 'do you', 'get', 'get ants', 'how', 'how you', 'that', 'that how', 'want', 'want ants', 'want you', 'you', 'you get', 'you want']\n"
     ]
    }
   ],
   "source": [
    "# Bigrams toy example - what would be the difference?\n",
    "cv = CountVectorizer(ngram_range=(1, 1)).fit(malory)\n",
    "print(\"Vocabulary size: \", len(cv.vocabulary_))\n",
    "print(\"Vocabulary:\\n\", cv.get_feature_names())\n",
    "\n",
    "print(\"-----------\")\n",
    "cv = CountVectorizer(ngram_range=(2, 2)).fit(malory)\n",
    "print(\"Vocabulary size: \", len(cv.vocabulary_))\n",
    "print(\"Vocabulary:\\n\", cv.get_feature_names())\n",
    "\n",
    "print(\"-----------\")\n",
    "cv = CountVectorizer(ngram_range=(1, 2)).fit(malory)\n",
    "print(\"Vocabulary size: \", len(cv.vocabulary_))\n",
    "print(\"Vocabulary:\\n\", cv.get_feature_names())\n",
    "\n"
   ]
  },
  {
   "cell_type": "markdown",
   "metadata": {
    "slideshow": {
     "slide_type": "subslide"
    }
   },
   "source": [
    "\n",
    "# N-grams on IMDB data\n",
    "\n",
    "\n",
    "```\n",
    "Vocabulary Sizes\n",
    "1-gram (min_df=4): 26928\n",
    "2-gram (min_df=4): 128426\n",
    "1-gram & 2-gram (min_df=4): 155354\n",
    "1-3gram (min_df=4): 254274\n",
    "1-4gram (min_df=4): 289443\n",
    "```\n",
    "\n",
    "```\n",
    "Vocabulary size 1-4gram (min_df=1): 7794517\n",
    "```\n",
    "\n",
    "\n",
    "- More than 20x more 4-grams!"
   ]
  },
  {
   "cell_type": "code",
   "execution_count": null,
   "metadata": {
    "slideshow": {
     "slide_type": "subslide"
    }
   },
   "outputs": [],
   "source": [
    "cv = CountVectorizer(ngram_range=(1, 4)).fit(text_train)\n",
    "print(\"Vocabulary size 1-4gram: \", len(cv.vocabulary_))\n"
   ]
  },
  {
   "cell_type": "code",
   "execution_count": 67,
   "metadata": {
    "slideshow": {
     "slide_type": "subslide"
    }
   },
   "outputs": [
    {
     "name": "stdout",
     "output_type": "stream",
     "text": [
      "(1, 2), min_df=4:  154021\n",
      "(1, 2), stopwords, min_df=4:  78605\n"
     ]
    }
   ],
   "source": [
    "#Stop-word impact on bi-grams - any difference if stopwords included or not?\n",
    "\n",
    "cv = CountVectorizer(ngram_range=(1, 2), min_df=4)\n",
    "cv.fit(text_train)\n",
    "print(\"(1, 2), min_df=4: \", len(cv.vocabulary_))\n",
    "cv = CountVectorizer(ngram_range=(1, 2), min_df=4,\n",
    "                     stop_words=\"english\")\n",
    "cv.fit(text_train)\n",
    "print(\"(1, 2), stopwords, min_df=4: \", len(cv.vocabulary_))\n"
   ]
  },
  {
   "cell_type": "code",
   "execution_count": 68,
   "metadata": {
    "slideshow": {
     "slide_type": "subslide"
    }
   },
   "outputs": [
    {
     "name": "stdout",
     "output_type": "stream",
     "text": [
      "31585\n",
      "369\n"
     ]
    }
   ],
   "source": [
    "#Stop-word impact on 4-grams - what would be the magnitude of impact here (if at all?)\n",
    "cv4 = CountVectorizer(ngram_range=(4, 4), min_df=4)\n",
    "cv4.fit(text_train)\n",
    "cv4sw = CountVectorizer(ngram_range=(4, 4), min_df=4,\n",
    "                       stop_words=\"english\")\n",
    "cv4sw.fit(text_train)\n",
    "print(len(cv4.get_feature_names()))\n",
    "print(len(cv4sw.get_feature_names()))"
   ]
  },
  {
   "cell_type": "code",
   "execution_count": 69,
   "metadata": {
    "slideshow": {
     "slide_type": "subslide"
    }
   },
   "outputs": [
    {
     "name": "stdout",
     "output_type": "stream",
     "text": [
      "['worst movie ve seen' '40 year old virgin' 've seen long time'\n",
      " 'worst movies ve seen' 'don waste time money'\n",
      " 'mystery science theater 3000' 'worst film ve seen'\n",
      " 'lose friends alienate people' 'best movies ve seen'\n",
      " 'don waste time watching' 'jean claude van damme'\n",
      " 'really wanted like movie' 'best movie ve seen' 'rock roll high school'\n",
      " 'don think ve seen' 'let face music dance' 'don say didn warn'\n",
      " 'worst films ve seen' 'fred astaire ginger rogers' 'ha ha ha ha'\n",
      " 'la maman et la' 'maman et la putain' 'left cutting room floor'\n",
      " 've seen ve seen' 'just doesn make sense' 'robert blake scott wilson'\n",
      " 'late 70 early 80' 'crouching tiger hidden dragon' 'low budget sci fi'\n",
      " 'movie ve seen long' 'toronto international film festival'\n",
      " 'night evelyn came grave' 'good guys bad guys' 'low budget horror movies'\n",
      " 'waste time watching movie' 'vote seven title brazil' 'bad bad bad bad'\n",
      " 'morning sunday night monday' '14 year old girl' 'film based true story'\n",
      " 'don make em like' 'silent night deadly night'\n",
      " 'rating saturday night friday' 'right place right time'\n",
      " 'friday night friday morning' 'night friday night friday'\n",
      " 'friday morning sunday night' 'don waste time movie'\n",
      " 'saturday night friday night' 'really wanted like film']\n"
     ]
    }
   ],
   "source": [
    "bla = cv4sw.transform(text_train)\n",
    "print(np.array(cv4sw.get_feature_names())[np.argsort(np.array(bla.sum(axis=0)).ravel())[::-1][:50]])"
   ]
  },
  {
   "cell_type": "markdown",
   "metadata": {
    "slideshow": {
     "slide_type": "subslide"
    }
   },
   "source": [
    "\n",
    "<center>\n",
    "<img src=\"./images/stopwords_1.png\" style=\"width: 600px;\">\n",
    "</center>\n",
    "\n",
    "\n",
    "<center>\n",
    "<img src=\"./images/stopwords_2.png\" style=\"width: 600px;\">\n",
    "</center>\n"
   ]
  },
  {
   "cell_type": "code",
   "execution_count": 70,
   "metadata": {
    "slideshow": {
     "slide_type": "subslide"
    }
   },
   "outputs": [
    {
     "name": "stderr",
     "output_type": "stream",
     "text": [
      "/Users/jonathan.schler/anaconda3/envs/python37/lib/python3.7/site-packages/sklearn/linear_model/_logistic.py:765: ConvergenceWarning: lbfgs failed to converge (status=1):\n",
      "STOP: TOTAL NO. of ITERATIONS REACHED LIMIT.\n",
      "\n",
      "Increase the number of iterations (max_iter) or scale the data as shown in:\n",
      "    https://scikit-learn.org/stable/modules/preprocessing.html\n",
      "Please also refer to the documentation for alternative solver options:\n",
      "    https://scikit-learn.org/stable/modules/linear_model.html#logistic-regression\n",
      "  extra_warning_msg=_LOGISTIC_SOLVER_CONVERGENCE_MSG)\n"
     ]
    },
    {
     "data": {
      "text/plain": [
       "0.884"
      ]
     },
     "execution_count": 70,
     "metadata": {},
     "output_type": "execute_result"
    }
   ],
   "source": [
    "my_stopwords = set(ENGLISH_STOP_WORDS)\n",
    "my_stopwords.remove(\"well\")\n",
    "my_stopwords.remove(\"not\")\n",
    "my_stopwords.add(\"ve\")\n",
    "vect3msw = CountVectorizer(ngram_range=(1, 3), min_df=4, stop_words=my_stopwords)\n",
    "X_train3msw = vect3msw.fit_transform(text_train)\n",
    "#lr3msw = LogisticRegressionCV().fit(X_train3msw, y_train)\n",
    "lr3msw = LogisticRegression().fit(X_train3msw, y_train)\n",
    "X_val3msw = vect3msw.transform(text_val)\n",
    "lr3msw.score(X_val3msw, y_val)"
   ]
  },
  {
   "cell_type": "code",
   "execution_count": 71,
   "metadata": {
    "slideshow": {
     "slide_type": "subslide"
    }
   },
   "outputs": [
    {
     "data": {
      "image/png": "[encoded data removed]",
      "text/plain": [
       "<Figure size 1080x432 with 1 Axes>"
      ]
     },
     "metadata": {
      "needs_background": "light"
     },
     "output_type": "display_data"
    }
   ],
   "source": [
    "plt.figure(figsize=(15, 6))\n",
    "plot_important_features(lr3msw.coef_.ravel(), np.array(vect3msw.get_feature_names()), top_n=30, rotation=40)\n",
    "ax = plt.gca()\n",
    "plt.show()"
   ]
  },
  {
   "cell_type": "markdown",
   "metadata": {
    "slideshow": {
     "slide_type": "subslide"
    }
   },
   "source": [
    "\n",
    "# Character n-grams"
   ]
  },
  {
   "cell_type": "markdown",
   "metadata": {
    "slideshow": {
     "slide_type": "subslide"
    }
   },
   "source": [
    "\n",
    "#Principle\n",
    "<br>\n",
    "<br>\n",
    "\n",
    "\n",
    "<center>\n",
    "<img src=\"./images/char_ngram_1.png\" style=\"width: 600px;\">\n",
    "<img src=\"./images/char_ngram_2.png\" style=\"width: 600px;\">\n",
    "<img src=\"./images/char_ngram_3.png\" style=\"width: 600px;\">\n",
    "<img src=\"./images/char_ngram_4.png\" style=\"width: 600px;\">\n",
    "<img src=\"./images/char_ngram_5.png\" style=\"width: 600px;\">\n",
    "</center>\n",
    "\n",
    "\n"
   ]
  },
  {
   "cell_type": "markdown",
   "metadata": {
    "slideshow": {
     "slide_type": "subslide"
    }
   },
   "source": [
    "\n",
    "#Applications\n",
    "\n",
    "- Be robust to misspelling / obfuscation\n",
    "- Language detection\n",
    "- Learn from Names / made-up words\n",
    "- Hebrew?"
   ]
  },
  {
   "cell_type": "code",
   "execution_count": 72,
   "metadata": {
    "slideshow": {
     "slide_type": "subslide"
    }
   },
   "outputs": [
    {
     "name": "stdout",
     "output_type": "stream",
     "text": [
      "Vocabulary size:  83\n",
      "Vocabulary:\n",
      " [' a', ' an', ' g', ' ge', ' h', ' ho', ' i', ' i ', ' t', ' th', ' w', ' wa', ' y', ' yo', '? ', '? i', 'an', 'ant', 'at', 'at’', 'au', 'aus', 'be', 'bec', 'ca', 'cau', 'do', 'do ', 'e ', 'e t', 'ec', 'eca', 'et', 'et ', 'ge', 'get', 'ha', 'hat', 'ho', 'how', 'i ', 'i w', 'nt', 'nt ', 'nts', 'o ', 'o y', 'ou', 'ou ', 'ow', 'ow ', 's ', 's a', 's h', 's.', 's?', 's? ', 'se', 'se ', 't ', 't a', 't y', 'th', 'tha', 'ts', 'ts ', 'ts.', 'ts?', 't’', 't’s', 'u ', 'u g', 'u w', 'us', 'use', 'w ', 'w y', 'wa', 'wan', 'yo', 'you', '’s', '’s ']\n",
      "Vocabulary size: 78\n",
      "Vocabulary:\n",
      " [' a', ' an', ' b', ' be', ' d', ' do', ' g', ' ge', ' h', ' ho', ' i', ' i ', ' t', ' th', ' w', ' wa', ' y', ' yo', '. ', '? ', 'an', 'ant', 'at', 'at’', 'au', 'aus', 'be', 'bec', 'ca', 'cau', 'do', 'do ', 'e ', 'ec', 'eca', 'et', 'et ', 'ge', 'get', 'ha', 'hat', 'ho', 'how', 'i ', 'nt', 'nt ', 'nts', 'o ', 'ou', 'ou ', 'ow', 'ow ', 's ', 's.', 's. ', 's?', 's? ', 'se', 'se ', 't ', 'th', 'tha', 'ts', 'ts ', 'ts.', 'ts?', 't’', 't’s', 'u ', 'us', 'use', 'w ', 'wa', 'wan', 'yo', 'you', '’s', '’s ']\n"
     ]
    }
   ],
   "source": [
    "# Naive\n",
    "cv = CountVectorizer(ngram_range=(2, 3), analyzer=\"char\").fit(malory)\n",
    "print(\"Vocabulary size: \", len(cv.vocabulary_))\n",
    "print(\"Vocabulary:\\n\", cv.get_feature_names())\n",
    "\n",
    "# Respect word boundaries\n",
    "cv = CountVectorizer(ngram_range=(2, 3), analyzer=\"char_wb\").fit(malory)\n",
    "print(\"Vocabulary size:\", len(cv.vocabulary_))\n",
    "print(\"Vocabulary:\\n\", cv.get_feature_names())\n"
   ]
  },
  {
   "cell_type": "code",
   "execution_count": 73,
   "metadata": {
    "slideshow": {
     "slide_type": "subslide"
    }
   },
   "outputs": [
    {
     "name": "stdout",
     "output_type": "stream",
     "text": [
      "vocaulary size:164632\n"
     ]
    },
    {
     "name": "stderr",
     "output_type": "stream",
     "text": [
      "/Users/jonathan.schler/anaconda3/envs/python37/lib/python3.7/site-packages/sklearn/linear_model/_logistic.py:765: ConvergenceWarning: lbfgs failed to converge (status=1):\n",
      "STOP: TOTAL NO. of ITERATIONS REACHED LIMIT.\n",
      "\n",
      "Increase the number of iterations (max_iter) or scale the data as shown in:\n",
      "    https://scikit-learn.org/stable/modules/preprocessing.html\n",
      "Please also refer to the documentation for alternative solver options:\n",
      "    https://scikit-learn.org/stable/modules/linear_model.html#logistic-regression\n",
      "  extra_warning_msg=_LOGISTIC_SOLVER_CONVERGENCE_MSG)\n"
     ]
    },
    {
     "data": {
      "text/plain": [
       "0.8696"
      ]
     },
     "execution_count": 73,
     "metadata": {},
     "output_type": "execute_result"
    }
   ],
   "source": [
    "char_vect = CountVectorizer(ngram_range=(2, 5), min_df=4, analyzer=\"char_wb\")\n",
    "X_train_char = char_vect.fit_transform(text_train)\n",
    "print(f\"vocaulary size:{len(char_vect.vocabulary_)}\")\n",
    "\n",
    "lr_char = LogisticRegression().fit(X_train_char, y_train)\n",
    "X_val_char = char_vect.transform(text_val)\n",
    "lr_char.score(X_val_char, y_val)\n",
    "\n"
   ]
  },
  {
   "cell_type": "code",
   "execution_count": 74,
   "metadata": {
    "slideshow": {
     "slide_type": "subslide"
    }
   },
   "outputs": [
    {
     "data": {
      "image/png": "[encoded data removed]",
      "text/plain": [
       "<Figure size 1080x432 with 1 Axes>"
      ]
     },
     "metadata": {
      "needs_background": "light"
     },
     "output_type": "display_data"
    }
   ],
   "source": [
    "plt.figure(figsize=(15, 6))\n",
    "plot_important_features(lr_char.coef_.ravel(), np.array(char_vect.get_feature_names()), top_n=30, rotation=40)\n",
    "ax = plt.gca()\n",
    "plt.show()"
   ]
  },
  {
   "cell_type": "markdown",
   "metadata": {
    "slideshow": {
     "slide_type": "subslide"
    }
   },
   "source": [
    "# break"
   ]
  },
  {
   "cell_type": "markdown",
   "metadata": {
    "slideshow": {
     "slide_type": "subslide"
    }
   },
   "source": [
    "\n",
    "\n",
    "\n",
    "# Predicting Nationality from Name"
   ]
  },
  {
   "cell_type": "markdown",
   "metadata": {
    "slideshow": {
     "slide_type": "notes"
    }
   },
   "source": [
    "A more useful application is going back to the European\n",
    "Parliament. What I'm going to do now is predict nationality\n",
    "from the name.\n"
   ]
  },
  {
   "cell_type": "markdown",
   "metadata": {
    "slideshow": {
     "slide_type": "subslide"
    }
   },
   "source": [
    "\n",
    "\n",
    "<center>\n",
    "<img src=\"./images/nationality_name_1.png\" style=\"width: 600px;\">\n",
    "</center>\n",
    "\n",
    "\n",
    "<center>\n",
    "<img src=\"./images/nationality_name_2.png\" style=\"width: 600px;\">\n",
    "</center>\n"
   ]
  },
  {
   "cell_type": "markdown",
   "metadata": {
    "slideshow": {
     "slide_type": "notes"
    }
   },
   "source": [
    "Here's the distribution of the country. This is a very\n",
    "imbalanced classification.\n"
   ]
  },
  {
   "cell_type": "code",
   "execution_count": null,
   "metadata": {
    "slideshow": {
     "slide_type": "subslide"
    }
   },
   "outputs": [],
   "source": [
    "import xml.etree.ElementTree as ET\n",
    "import requests\n",
    "\n",
    "#response = requests.get(\"http://www.europarl.europa.eu/meps/en/xml.html?query=full&filter=all\")\n",
    "response = requests.get(\"https://www.europarl.europa.eu/meps/en/full-list/xml\")\n",
    "data_xml = ET.fromstring(response.text)\n",
    "members_xml = data_xml.getchildren()\n",
    "members_dict = [{i.tag: i.text for i in member} for member in members_xml]\n",
    "members = pd.DataFrame(members_dict)\n",
    "\n",
    "members.head()\n",
    "members.to_csv(\"eu_members.csv\")"
   ]
  },
  {
   "cell_type": "code",
   "execution_count": null,
   "metadata": {
    "slideshow": {
     "slide_type": "subslide"
    }
   },
   "outputs": [],
   "source": [
    "bow_pipe = make_pipeline(CountVectorizer(), LogisticRegressionCV())\n",
    "cross_val_score(bow_pipe, text_mem_train, y_mem_train, scoring='f1_macro')"
   ]
  },
  {
   "cell_type": "code",
   "execution_count": 75,
   "metadata": {
    "slideshow": {
     "slide_type": "subslide"
    }
   },
   "outputs": [],
   "source": [
    "large=['Germany', 'France', 'Italy', 'United Kingdom', 'Spain', 'Poland',\n",
    "       'Romania', 'Netherlands']\n",
    "y_mem = members.country\n",
    "data_mem = members.fullName\n",
    "mask = y_mem.isin(large)\n",
    "data_mem = data_mem[mask]\n",
    "y_mem = y_mem[mask]\n",
    "data_mem.shape\n",
    "text_mem_train, text_mem_test, y_mem_train, y_mem_test = train_test_split(data_mem, y_mem, stratify=y_mem, random_state=0)"
   ]
  },
  {
   "cell_type": "code",
   "execution_count": 78,
   "metadata": {},
   "outputs": [
    {
     "name": "stdout",
     "output_type": "stream",
     "text": [
      "(424,)\n",
      "(318,)\n"
     ]
    },
    {
     "data": {
      "text/plain": [
       "Germany        96\n",
       "France         79\n",
       "Italy          76\n",
       "Spain          59\n",
       "Poland         52\n",
       "Romania        33\n",
       "Netherlands    29\n",
       "Name: country, dtype: int64"
      ]
     },
     "execution_count": 78,
     "metadata": {},
     "output_type": "execute_result"
    }
   ],
   "source": [
    "print(data_mem.shape)\n",
    "print(text_mem_train.shape)\n",
    "y_mem.value_counts()"
   ]
  },
  {
   "cell_type": "code",
   "execution_count": 79,
   "metadata": {
    "slideshow": {
     "slide_type": "subslide"
    }
   },
   "outputs": [
    {
     "name": "stdout",
     "output_type": "stream",
     "text": [
      "[0.363 0.174 0.221 0.201 0.306]\n"
     ]
    },
    {
     "name": "stderr",
     "output_type": "stream",
     "text": [
      "/Users/jonathan.schler/anaconda3/envs/python37/lib/python3.7/site-packages/sklearn/linear_model/_logistic.py:765: ConvergenceWarning: lbfgs failed to converge (status=1):\n",
      "STOP: TOTAL NO. of ITERATIONS REACHED LIMIT.\n",
      "\n",
      "Increase the number of iterations (max_iter) or scale the data as shown in:\n",
      "    https://scikit-learn.org/stable/modules/preprocessing.html\n",
      "Please also refer to the documentation for alternative solver options:\n",
      "    https://scikit-learn.org/stable/modules/linear_model.html#logistic-regression\n",
      "  extra_warning_msg=_LOGISTIC_SOLVER_CONVERGENCE_MSG)\n",
      "/Users/jonathan.schler/anaconda3/envs/python37/lib/python3.7/site-packages/sklearn/linear_model/_logistic.py:765: ConvergenceWarning: lbfgs failed to converge (status=1):\n",
      "STOP: TOTAL NO. of ITERATIONS REACHED LIMIT.\n",
      "\n",
      "Increase the number of iterations (max_iter) or scale the data as shown in:\n",
      "    https://scikit-learn.org/stable/modules/preprocessing.html\n",
      "Please also refer to the documentation for alternative solver options:\n",
      "    https://scikit-learn.org/stable/modules/linear_model.html#logistic-regression\n",
      "  extra_warning_msg=_LOGISTIC_SOLVER_CONVERGENCE_MSG)\n",
      "/Users/jonathan.schler/anaconda3/envs/python37/lib/python3.7/site-packages/sklearn/linear_model/_logistic.py:765: ConvergenceWarning: lbfgs failed to converge (status=1):\n",
      "STOP: TOTAL NO. of ITERATIONS REACHED LIMIT.\n",
      "\n",
      "Increase the number of iterations (max_iter) or scale the data as shown in:\n",
      "    https://scikit-learn.org/stable/modules/preprocessing.html\n",
      "Please also refer to the documentation for alternative solver options:\n",
      "    https://scikit-learn.org/stable/modules/linear_model.html#logistic-regression\n",
      "  extra_warning_msg=_LOGISTIC_SOLVER_CONVERGENCE_MSG)\n",
      "/Users/jonathan.schler/anaconda3/envs/python37/lib/python3.7/site-packages/sklearn/linear_model/_logistic.py:765: ConvergenceWarning: lbfgs failed to converge (status=1):\n",
      "STOP: TOTAL NO. of ITERATIONS REACHED LIMIT.\n",
      "\n",
      "Increase the number of iterations (max_iter) or scale the data as shown in:\n",
      "    https://scikit-learn.org/stable/modules/preprocessing.html\n",
      "Please also refer to the documentation for alternative solver options:\n",
      "    https://scikit-learn.org/stable/modules/linear_model.html#logistic-regression\n",
      "  extra_warning_msg=_LOGISTIC_SOLVER_CONVERGENCE_MSG)\n"
     ]
    },
    {
     "name": "stdout",
     "output_type": "stream",
     "text": [
      "[0.517 0.477 0.583 0.543 0.487]\n"
     ]
    },
    {
     "name": "stderr",
     "output_type": "stream",
     "text": [
      "/Users/jonathan.schler/anaconda3/envs/python37/lib/python3.7/site-packages/sklearn/linear_model/_logistic.py:765: ConvergenceWarning: lbfgs failed to converge (status=1):\n",
      "STOP: TOTAL NO. of ITERATIONS REACHED LIMIT.\n",
      "\n",
      "Increase the number of iterations (max_iter) or scale the data as shown in:\n",
      "    https://scikit-learn.org/stable/modules/preprocessing.html\n",
      "Please also refer to the documentation for alternative solver options:\n",
      "    https://scikit-learn.org/stable/modules/linear_model.html#logistic-regression\n",
      "  extra_warning_msg=_LOGISTIC_SOLVER_CONVERGENCE_MSG)\n"
     ]
    }
   ],
   "source": [
    "bow_pipe = make_pipeline(CountVectorizer(), LogisticRegression())\n",
    "print(cross_val_score(bow_pipe, text_mem_train, y_mem_train, scoring='f1_macro'))\n",
    "\n",
    "char_pipe = make_pipeline(CountVectorizer(analyzer=\"char_wb\"), LogisticRegression())\n",
    "print(cross_val_score(char_pipe, text_mem_train, y_mem_train, scoring='f1_macro'))"
   ]
  },
  {
   "cell_type": "code",
   "execution_count": null,
   "metadata": {
    "slideshow": {
     "slide_type": "subslide"
    },
    "tags": [
     "outputPrepend"
    ]
   },
   "outputs": [],
   "source": [
    "# Grid-search parameters - will take a long time..\n",
    "\n",
    "from sklearn.model_selection import GridSearchCV\n",
    "from sklearn.linear_model import LogisticRegression\n",
    "from sklearn.preprocessing import Normalizer\n",
    "\n",
    "param_grid = {\"logisticregression__C\": [100, 10, 1, 0.1, 0.001],\n",
    "              \"countvectorizer__ngram_range\": [(1, 1), (1, 2), (1, 5), (1, 7),\n",
    "                                               (2, 3), (2, 5), (3, 8), (5, 5)],\n",
    "              \"countvectorizer__min_df\": [1, 2, 3],\n",
    "              \"normalizer\": [None, Normalizer()]\n",
    "             }\n",
    "grid = GridSearchCV(make_pipeline(CountVectorizer(analyzer=\"char\"), Normalizer(), LogisticRegression(),\n",
    "                                  memory=\"cache_folder\"),\n",
    "                    param_grid=param_grid, cv=10, scoring=\"f1_macro\"\n",
    "                   )\n",
    "grid.fit(text_mem_train, y_mem_train)\n",
    "print(grid.best_score_)"
   ]
  },
  {
   "cell_type": "code",
   "execution_count": null,
   "metadata": {
    "slideshow": {
     "slide_type": "subslide"
    }
   },
   "outputs": [],
   "source": [
    "print(grid.best_score_)\n",
    "grid.best_params_"
   ]
  },
  {
   "cell_type": "markdown",
   "metadata": {
    "slideshow": {
     "slide_type": "subslide"
    }
   },
   "source": [
    "\n",
    "\n",
    "<center>\n",
    "<img src=\"./images/grid_search_table.png\" style=\"width: 600px;\">\n",
    "</center>\n"
   ]
  },
  {
   "cell_type": "markdown",
   "metadata": {
    "slideshow": {
     "slide_type": "subslide"
    }
   },
   "source": [
    "\n",
    "# Other features\n",
    "- Length of text\n",
    "- Number of out-of-vocabularly words\n",
    "- Presence / frequency of ALL CAPS\n",
    "- Punctuation...!? (somewhat captured by char ngrams)\n",
    "- function words \n",
    "- POS Tags (use spacy or gensim)\n",
    "- Sentiment words (good vs bad)\n",
    "- Whatever makes sense for the task!"
   ]
  },
  {
   "cell_type": "markdown",
   "metadata": {
    "slideshow": {
     "slide_type": "subslide"
    }
   },
   "source": [
    "\n",
    "\n",
    "# Large Scale Text Vectorization"
   ]
  },
  {
   "cell_type": "markdown",
   "metadata": {
    "slideshow": {
     "slide_type": "subslide"
    }
   },
   "source": [
    "\n",
    "\n",
    "\n",
    "<center>\n",
    "<img src=\"./images/bag_of_words.png\" style=\"width: 600px;\">\n",
    "</center>\n"
   ]
  },
  {
   "cell_type": "markdown",
   "metadata": {
    "slideshow": {
     "slide_type": "subslide"
    }
   },
   "source": [
    "\n",
    "\n",
    "<center>\n",
    "<img src=\"./images/large_scale_text_vec_2.png\" style=\"width: 600px;\">\n",
    "</center>\n"
   ]
  },
  {
   "cell_type": "markdown",
   "metadata": {
    "slideshow": {
     "slide_type": "subslide"
    }
   },
   "source": [
    "\n",
    "\n",
    "# Trade-offs\n",
    "\n",
    "<table><tr><td>pro</td><td>cons\n",
    "</td></tr>\n",
    "<tr><center><td>- Fast</td><td><pre> </pre></td><td>- Can't interpret results</td></center></tr>\n",
    "<tr><td>- Works for streaming data</td><td><pre> </pre></td><td>- Hard to debug</td></tr>\n",
    "<tr><td>- Low memory footprint</td><td><pre> </pre></td><td>- (collisions are not a problem for model accuracy)</td></tr>\n",
    "</table>\n",
    "\n"
   ]
  },
  {
   "cell_type": "markdown",
   "metadata": {
    "slideshow": {
     "slide_type": "subslide"
    }
   },
   "source": [
    "\n",
    "# Near drop-in replacement\n",
    "\n",
    "- Careful: Uses l2 normalization by default!\n",
    "\n",
    "```python\n",
    "from sklearn.feature_extraction.text import HashingVectorizer\n",
    "hv = HashingVectorizer()\n",
    "X_train = hv.transform(text_train)\n",
    "X_val = hv.transform(text_val)\n",
    "```\n",
    "```python\n",
    "lr.score(X_val, y_val)\n",
    "```\n",
    "```python\n",
    "from sklearn.feature_extraction.text import HashingVectorizer\n",
    "hv = HashingVectorizer()\n",
    "X_train = hv.transform(text_train)\n",
    "X_val = hv.transform(text_val)\n",
    "```\n",
    "```python\n",
    "X_train.shape\n",
    "```\n",
    "```\n",
    "(18750, 1048576)\n",
    "```\n",
    "```python\n",
    "lr = LogisticRegressionCV().fit(X_train, y_train)\n",
    "lr.score(X_val, y_val)\n",
    "```"
   ]
  },
  {
   "cell_type": "markdown",
   "metadata": {
    "slideshow": {
     "slide_type": "subslide"
    }
   },
   "source": [
    "\n",
    "# Other libraries\n",
    "\n",
    "## [nltk](https://www.nltk.org/)\n",
    "- Classic, comprehensive, slightly outdated\n",
    "\n",
    "## [spaCy](https://spacy.io/)\n",
    "- recommended; modern, fast; API still changing in parts.\n",
    "\n",
    "## [gensim](https://radimrehurek.com/gensim/)\n",
    "- focus on topic modeling\n",
    "\n",
    "## [re](https://docs.python.org/3/library/re.html)\n",
    "- focus on regular expressions\n",
    "\n",
    "\n"
   ]
  },
  {
   "cell_type": "markdown",
   "metadata": {
    "slideshow": {
     "slide_type": "slide"
    }
   },
   "source": [
    "# עברית שפה קשה\n",
    "\n",
    "- tokenization - e.g. acronyms, punctuation (צה\"ל, ח\"כ, ז'אנר)\n",
    "- ambiguity: כשרות הגיעה לכתה vs למסעדה יש תעודת כשרות vs מוגש כשרות לציבור\n",
    "- morphology - creates much larger vocabulary\n",
    "- nikud - מלא חסר\n",
    "\n"
   ]
  },
  {
   "cell_type": "markdown",
   "metadata": {
    "slideshow": {
     "slide_type": "subslide"
    }
   },
   "source": [
    "# Tools for Hebrew\n",
    "\n",
    "- Translation\n",
    "- charachter n-grams\n",
    "- dedicated Hebrew tokenizer (i.e. `hebrew_tokenizer` in python)"
   ]
  },
  {
   "cell_type": "code",
   "execution_count": 81,
   "metadata": {
    "slideshow": {
     "slide_type": "subslide"
    }
   },
   "outputs": [
    {
     "name": "stdout",
     "output_type": "stream",
     "text": [
      "/Users/jonathan.schler/Documents/academia/teaching/grad_ml/2021b/slides/L09-text-data\n"
     ]
    },
    {
     "name": "stderr",
     "output_type": "stream",
     "text": [
      "/Users/jonathan.schler/anaconda3/envs/python37/lib/python3.7/site-packages/hebrew_tokenizer/__init__.py:9: FutureWarning: Possible nested set at position 20\n",
      "  from hebrew_tokenizer.api import tokenize\n"
     ]
    },
    {
     "data": {
      "text/plain": [
       "['00', '11', '2018', 'אתמול', 'בשעה', 'הים', 'התגייסיתי', 'לחיל', 'לצה']"
      ]
     },
     "execution_count": 81,
     "metadata": {},
     "output_type": "execute_result"
    }
   ],
   "source": [
    "import hebrew_tokenizer as ht\n",
    "hebrew_text = ' אתמול, 8.6.2018, בשעה 11:00 התגייסיתי לצה\"ל לחיל-הים'\n",
    "heb_vec=CountVectorizer().fit([hebrew_text])\n",
    "heb_vec.get_feature_names() \n"
   ]
  },
  {
   "cell_type": "code",
   "execution_count": 82,
   "metadata": {
    "slideshow": {
     "slide_type": "subslide"
    }
   },
   "outputs": [
    {
     "name": "stdout",
     "output_type": "stream",
     "text": [
      "HEBREW, אתמול\n",
      "PUNCTUATION, ,\n",
      "DATE, 8.6.2018\n",
      "PUNCTUATION, ,\n",
      "HEBREW, בשעה\n",
      "HOUR, 11:00\n",
      "HEBREW, התגייסיתי\n",
      "HEBREW, לצה\"ל\n",
      "HEBREW, לחיל\n",
      "PUNCTUATION, -\n",
      "HEBREW, הים\n"
     ]
    }
   ],
   "source": [
    "tokens = ht.tokenize(hebrew_text)  # tokenize returns a generator!\n",
    "for grp, token, token_num, (start_index, end_index) in tokens:\n",
    "    print('{}, {}'.format(grp, token))"
   ]
  },
  {
   "cell_type": "markdown",
   "metadata": {
    "slideshow": {
     "slide_type": "subslide"
    }
   },
   "source": [
    "# Tools for Hebrew\n",
    "\n",
    "- Translation\n",
    "- charachter n-grams\n",
    "- dedicated Hebrew tokenizer (i.e. `hebrew_tokenizer` in python)\n",
    "- Hebrew morphological analyzer (i.e. YAP - https://nlp.biu.ac.il/~rtsarfaty/onlp/hebrew)"
   ]
  },
  {
   "cell_type": "markdown",
   "metadata": {
    "slideshow": {
     "slide_type": "subslide"
    }
   },
   "source": [
    "# Morphological analyzer\n",
    "\n",
    "אתמול התחלתי לשרת  בצה\"ל בחיל-הים\n",
    "\n",
    "<center>\n",
    "<img src=\"./images/heb_lemma.png\" style=\"width: 600px;\">\n",
    "</center>\n"
   ]
  },
  {
   "cell_type": "markdown",
   "metadata": {
    "slideshow": {
     "slide_type": "subslide"
    }
   },
   "source": [
    "# Morphological analyzer\n",
    "\n",
    "אתמול התחלתי לשרת  בצה\"ל בחיל-הים\n",
    "\n",
    "<center>\n",
    "<img src=\"./images/heb_morph.png\" style=\"width: 600px;\">\n",
    "</center>"
   ]
  },
  {
   "cell_type": "markdown",
   "metadata": {
    "slideshow": {
     "slide_type": "subslide"
    }
   },
   "source": [
    "# Morphological analyzer\n",
    "\n",
    "אתמול התחלתי לשרת  בצה\"ל בחיל-הים\n",
    "\n",
    "<center>\n",
    "<img src=\"./images/dep_tree.png\" style=\"width: 600px;\">\n",
    "</center>"
   ]
  },
  {
   "cell_type": "markdown",
   "metadata": {
    "slideshow": {
     "slide_type": "slide"
    }
   },
   "source": [
    "# Appendix - Data Loading\n",
    "\n",
    "\n",
    "In addition to `load_files` there are alterantive methods:\n",
    "- pd.read_csv\n",
    "- manually add data to csv\n",
    "\n",
    "Advantage: allows easy data manipulation using DataFrame"
   ]
  },
  {
   "cell_type": "code",
   "execution_count": null,
   "metadata": {
    "slideshow": {
     "slide_type": "slide"
    }
   },
   "outputs": [],
   "source": [
    "# don't execute the code\n",
    "df=pd.DataFrame()\n",
    "\n",
    "walk_dir=os.path.abspath(inputF)\n",
    "idn=0\n",
    "for root, subdirs, files in os.walk(walk_dir):\n",
    "    for file in files:\n",
    "        if(not file.endswith(\"docx\")):\n",
    "            #print(\"skipping..\",file)\n",
    "            continue\n",
    "        if(file.find(\"~\")!=-1):\n",
    "            print(\"skipping..\",file)\n",
    "            continue\n",
    "\n",
    "        perId,name = getNameFromFileName(file)\n",
    "        if(name==\"\"): # not relevant file\n",
    "            continue\n",
    "\n",
    "        fullTxt = getFullTxtFromWordDoc(os.path.join(root,file)) \n",
    "\n",
    "        part1,part2 = splitTxtIntoParts(fullTxt)\n",
    "\n",
    "        df=df.append({\"id\":idn,\"per_id\":perId,\"name\":name,\"part1\":part1,\"part2\":part2,\"fn\":os.path.join(root,file)},ignore_index=True) \n",
    "        idn+=1"
   ]
  },
  {
   "cell_type": "code",
   "execution_count": 83,
   "metadata": {
    "slideshow": {
     "slide_type": "subslide"
    }
   },
   "outputs": [
    {
     "data": {
      "text/html": [
       "<div>\n",
       "<style scoped>\n",
       "    .dataframe tbody tr th:only-of-type {\n",
       "        vertical-align: middle;\n",
       "    }\n",
       "\n",
       "    .dataframe tbody tr th {\n",
       "        vertical-align: top;\n",
       "    }\n",
       "\n",
       "    .dataframe thead th {\n",
       "        text-align: right;\n",
       "    }\n",
       "</style>\n",
       "<table border=\"1\" class=\"dataframe\">\n",
       "  <thead>\n",
       "    <tr style=\"text-align: right;\">\n",
       "      <th></th>\n",
       "      <th>fullName</th>\n",
       "      <th>country</th>\n",
       "      <th>politicalGroup</th>\n",
       "      <th>id</th>\n",
       "      <th>nationalPoliticalGroup</th>\n",
       "    </tr>\n",
       "  </thead>\n",
       "  <tbody>\n",
       "    <tr>\n",
       "      <th>0</th>\n",
       "      <td>Magdalena ADAMOWICZ</td>\n",
       "      <td>Poland</td>\n",
       "      <td>Group of the European People's Party (Christia...</td>\n",
       "      <td>197490</td>\n",
       "      <td>Independent</td>\n",
       "    </tr>\n",
       "    <tr>\n",
       "      <th>1</th>\n",
       "      <td>Asim ADEMOV</td>\n",
       "      <td>Bulgaria</td>\n",
       "      <td>Group of the European People's Party (Christia...</td>\n",
       "      <td>189525</td>\n",
       "      <td>Citizens for European Development of Bulgaria</td>\n",
       "    </tr>\n",
       "    <tr>\n",
       "      <th>2</th>\n",
       "      <td>Isabella ADINOLFI</td>\n",
       "      <td>Italy</td>\n",
       "      <td>Non-attached Members</td>\n",
       "      <td>124831</td>\n",
       "      <td>Movimento 5 Stelle</td>\n",
       "    </tr>\n",
       "    <tr>\n",
       "      <th>3</th>\n",
       "      <td>Matteo ADINOLFI</td>\n",
       "      <td>Italy</td>\n",
       "      <td>Identity and Democracy Group</td>\n",
       "      <td>197826</td>\n",
       "      <td>Lega</td>\n",
       "    </tr>\n",
       "    <tr>\n",
       "      <th>4</th>\n",
       "      <td>Alex AGIUS SALIBA</td>\n",
       "      <td>Malta</td>\n",
       "      <td>Group of the Progressive Alliance of Socialist...</td>\n",
       "      <td>197403</td>\n",
       "      <td>Partit Laburista</td>\n",
       "    </tr>\n",
       "    <tr>\n",
       "      <th>...</th>\n",
       "      <td>...</td>\n",
       "      <td>...</td>\n",
       "      <td>...</td>\n",
       "      <td>...</td>\n",
       "      <td>...</td>\n",
       "    </tr>\n",
       "    <tr>\n",
       "      <th>700</th>\n",
       "      <td>Juan Ignacio ZOIDO ÁLVAREZ</td>\n",
       "      <td>Spain</td>\n",
       "      <td>Group of the European People's Party (Christia...</td>\n",
       "      <td>197621</td>\n",
       "      <td>Partido Popular</td>\n",
       "    </tr>\n",
       "    <tr>\n",
       "      <th>701</th>\n",
       "      <td>Carlos ZORRINHO</td>\n",
       "      <td>Portugal</td>\n",
       "      <td>Group of the Progressive Alliance of Socialist...</td>\n",
       "      <td>124739</td>\n",
       "      <td>Partido Socialista</td>\n",
       "    </tr>\n",
       "    <tr>\n",
       "      <th>702</th>\n",
       "      <td>Željana ZOVKO</td>\n",
       "      <td>Croatia</td>\n",
       "      <td>Group of the European People's Party (Christia...</td>\n",
       "      <td>185341</td>\n",
       "      <td>Hrvatska demokratska zajednica</td>\n",
       "    </tr>\n",
       "    <tr>\n",
       "      <th>703</th>\n",
       "      <td>Marco ZULLO</td>\n",
       "      <td>Italy</td>\n",
       "      <td>Renew Europe Group</td>\n",
       "      <td>125237</td>\n",
       "      <td>Independent</td>\n",
       "    </tr>\n",
       "    <tr>\n",
       "      <th>704</th>\n",
       "      <td>Milan ZVER</td>\n",
       "      <td>Slovenia</td>\n",
       "      <td>Group of the European People's Party (Christia...</td>\n",
       "      <td>96933</td>\n",
       "      <td>Slovenska demokratska stranka</td>\n",
       "    </tr>\n",
       "  </tbody>\n",
       "</table>\n",
       "<p>705 rows × 5 columns</p>\n",
       "</div>"
      ],
      "text/plain": [
       "                       fullName   country  \\\n",
       "0           Magdalena ADAMOWICZ    Poland   \n",
       "1                   Asim ADEMOV  Bulgaria   \n",
       "2             Isabella ADINOLFI     Italy   \n",
       "3               Matteo ADINOLFI     Italy   \n",
       "4             Alex AGIUS SALIBA     Malta   \n",
       "..                          ...       ...   \n",
       "700  Juan Ignacio ZOIDO ÁLVAREZ     Spain   \n",
       "701             Carlos ZORRINHO  Portugal   \n",
       "702               Željana ZOVKO   Croatia   \n",
       "703                 Marco ZULLO     Italy   \n",
       "704                  Milan ZVER  Slovenia   \n",
       "\n",
       "                                        politicalGroup      id  \\\n",
       "0    Group of the European People's Party (Christia...  197490   \n",
       "1    Group of the European People's Party (Christia...  189525   \n",
       "2                                 Non-attached Members  124831   \n",
       "3                         Identity and Democracy Group  197826   \n",
       "4    Group of the Progressive Alliance of Socialist...  197403   \n",
       "..                                                 ...     ...   \n",
       "700  Group of the European People's Party (Christia...  197621   \n",
       "701  Group of the Progressive Alliance of Socialist...  124739   \n",
       "702  Group of the European People's Party (Christia...  185341   \n",
       "703                                 Renew Europe Group  125237   \n",
       "704  Group of the European People's Party (Christia...   96933   \n",
       "\n",
       "                            nationalPoliticalGroup  \n",
       "0                                      Independent  \n",
       "1    Citizens for European Development of Bulgaria  \n",
       "2                               Movimento 5 Stelle  \n",
       "3                                             Lega  \n",
       "4                                 Partit Laburista  \n",
       "..                                             ...  \n",
       "700                                Partido Popular  \n",
       "701                             Partido Socialista  \n",
       "702                 Hrvatska demokratska zajednica  \n",
       "703                                    Independent  \n",
       "704                  Slovenska demokratska stranka  \n",
       "\n",
       "[705 rows x 5 columns]"
      ]
     },
     "execution_count": 83,
     "metadata": {},
     "output_type": "execute_result"
    }
   ],
   "source": [
    "import pandas as pd\n",
    "members=pd.read_csv(\"eu_members.csv\",index_col=0)\n",
    "members"
   ]
  },
  {
   "cell_type": "code",
   "execution_count": 84,
   "metadata": {
    "slideshow": {
     "slide_type": "subslide"
    }
   },
   "outputs": [
    {
     "data": {
      "text/html": [
       "<div>\n",
       "<style scoped>\n",
       "    .dataframe tbody tr th:only-of-type {\n",
       "        vertical-align: middle;\n",
       "    }\n",
       "\n",
       "    .dataframe tbody tr th {\n",
       "        vertical-align: top;\n",
       "    }\n",
       "\n",
       "    .dataframe thead th {\n",
       "        text-align: right;\n",
       "    }\n",
       "</style>\n",
       "<table border=\"1\" class=\"dataframe\">\n",
       "  <thead>\n",
       "    <tr style=\"text-align: right;\">\n",
       "      <th></th>\n",
       "      <th>fullName</th>\n",
       "      <th>country</th>\n",
       "      <th>politicalGroup</th>\n",
       "      <th>id</th>\n",
       "      <th>nationalPoliticalGroup</th>\n",
       "      <th>name_len</th>\n",
       "    </tr>\n",
       "  </thead>\n",
       "  <tbody>\n",
       "    <tr>\n",
       "      <th>0</th>\n",
       "      <td>Magdalena ADAMOWICZ</td>\n",
       "      <td>Poland</td>\n",
       "      <td>Group of the European People's Party (Christia...</td>\n",
       "      <td>197490</td>\n",
       "      <td>Independent</td>\n",
       "      <td>19</td>\n",
       "    </tr>\n",
       "    <tr>\n",
       "      <th>1</th>\n",
       "      <td>Asim ADEMOV</td>\n",
       "      <td>Bulgaria</td>\n",
       "      <td>Group of the European People's Party (Christia...</td>\n",
       "      <td>189525</td>\n",
       "      <td>Citizens for European Development of Bulgaria</td>\n",
       "      <td>11</td>\n",
       "    </tr>\n",
       "    <tr>\n",
       "      <th>2</th>\n",
       "      <td>Isabella ADINOLFI</td>\n",
       "      <td>Italy</td>\n",
       "      <td>Non-attached Members</td>\n",
       "      <td>124831</td>\n",
       "      <td>Movimento 5 Stelle</td>\n",
       "      <td>17</td>\n",
       "    </tr>\n",
       "    <tr>\n",
       "      <th>3</th>\n",
       "      <td>Matteo ADINOLFI</td>\n",
       "      <td>Italy</td>\n",
       "      <td>Identity and Democracy Group</td>\n",
       "      <td>197826</td>\n",
       "      <td>Lega</td>\n",
       "      <td>15</td>\n",
       "    </tr>\n",
       "    <tr>\n",
       "      <th>4</th>\n",
       "      <td>Alex AGIUS SALIBA</td>\n",
       "      <td>Malta</td>\n",
       "      <td>Group of the Progressive Alliance of Socialist...</td>\n",
       "      <td>197403</td>\n",
       "      <td>Partit Laburista</td>\n",
       "      <td>17</td>\n",
       "    </tr>\n",
       "    <tr>\n",
       "      <th>...</th>\n",
       "      <td>...</td>\n",
       "      <td>...</td>\n",
       "      <td>...</td>\n",
       "      <td>...</td>\n",
       "      <td>...</td>\n",
       "      <td>...</td>\n",
       "    </tr>\n",
       "    <tr>\n",
       "      <th>700</th>\n",
       "      <td>Juan Ignacio ZOIDO ÁLVAREZ</td>\n",
       "      <td>Spain</td>\n",
       "      <td>Group of the European People's Party (Christia...</td>\n",
       "      <td>197621</td>\n",
       "      <td>Partido Popular</td>\n",
       "      <td>26</td>\n",
       "    </tr>\n",
       "    <tr>\n",
       "      <th>701</th>\n",
       "      <td>Carlos ZORRINHO</td>\n",
       "      <td>Portugal</td>\n",
       "      <td>Group of the Progressive Alliance of Socialist...</td>\n",
       "      <td>124739</td>\n",
       "      <td>Partido Socialista</td>\n",
       "      <td>15</td>\n",
       "    </tr>\n",
       "    <tr>\n",
       "      <th>702</th>\n",
       "      <td>Željana ZOVKO</td>\n",
       "      <td>Croatia</td>\n",
       "      <td>Group of the European People's Party (Christia...</td>\n",
       "      <td>185341</td>\n",
       "      <td>Hrvatska demokratska zajednica</td>\n",
       "      <td>13</td>\n",
       "    </tr>\n",
       "    <tr>\n",
       "      <th>703</th>\n",
       "      <td>Marco ZULLO</td>\n",
       "      <td>Italy</td>\n",
       "      <td>Renew Europe Group</td>\n",
       "      <td>125237</td>\n",
       "      <td>Independent</td>\n",
       "      <td>11</td>\n",
       "    </tr>\n",
       "    <tr>\n",
       "      <th>704</th>\n",
       "      <td>Milan ZVER</td>\n",
       "      <td>Slovenia</td>\n",
       "      <td>Group of the European People's Party (Christia...</td>\n",
       "      <td>96933</td>\n",
       "      <td>Slovenska demokratska stranka</td>\n",
       "      <td>10</td>\n",
       "    </tr>\n",
       "  </tbody>\n",
       "</table>\n",
       "<p>705 rows × 6 columns</p>\n",
       "</div>"
      ],
      "text/plain": [
       "                       fullName   country  \\\n",
       "0           Magdalena ADAMOWICZ    Poland   \n",
       "1                   Asim ADEMOV  Bulgaria   \n",
       "2             Isabella ADINOLFI     Italy   \n",
       "3               Matteo ADINOLFI     Italy   \n",
       "4             Alex AGIUS SALIBA     Malta   \n",
       "..                          ...       ...   \n",
       "700  Juan Ignacio ZOIDO ÁLVAREZ     Spain   \n",
       "701             Carlos ZORRINHO  Portugal   \n",
       "702               Željana ZOVKO   Croatia   \n",
       "703                 Marco ZULLO     Italy   \n",
       "704                  Milan ZVER  Slovenia   \n",
       "\n",
       "                                        politicalGroup      id  \\\n",
       "0    Group of the European People's Party (Christia...  197490   \n",
       "1    Group of the European People's Party (Christia...  189525   \n",
       "2                                 Non-attached Members  124831   \n",
       "3                         Identity and Democracy Group  197826   \n",
       "4    Group of the Progressive Alliance of Socialist...  197403   \n",
       "..                                                 ...     ...   \n",
       "700  Group of the European People's Party (Christia...  197621   \n",
       "701  Group of the Progressive Alliance of Socialist...  124739   \n",
       "702  Group of the European People's Party (Christia...  185341   \n",
       "703                                 Renew Europe Group  125237   \n",
       "704  Group of the European People's Party (Christia...   96933   \n",
       "\n",
       "                            nationalPoliticalGroup  name_len  \n",
       "0                                      Independent        19  \n",
       "1    Citizens for European Development of Bulgaria        11  \n",
       "2                               Movimento 5 Stelle        17  \n",
       "3                                             Lega        15  \n",
       "4                                 Partit Laburista        17  \n",
       "..                                             ...       ...  \n",
       "700                                Partido Popular        26  \n",
       "701                             Partido Socialista        15  \n",
       "702                 Hrvatska demokratska zajednica        13  \n",
       "703                                    Independent        11  \n",
       "704                  Slovenska demokratska stranka        10  \n",
       "\n",
       "[705 rows x 6 columns]"
      ]
     },
     "execution_count": 84,
     "metadata": {},
     "output_type": "execute_result"
    }
   ],
   "source": [
    "members[\"name_len\"]=members[\"fullName\"].apply(lambda x:len(x))\n",
    "members\n",
    "\n",
    "corpus=members[\"politicalGroup\"]"
   ]
  },
  {
   "cell_type": "markdown",
   "metadata": {
    "slideshow": {
     "slide_type": "subslide"
    }
   },
   "source": [
    "\n",
    "# Questions ?\n",
    "\n",
    "\n",
    "    "
   ]
  },
  {
   "cell_type": "code",
   "execution_count": null,
   "metadata": {},
   "outputs": [],
   "source": []
  }
 ],
 "metadata": {
  "celltoolbar": "Slideshow",
  "kernelspec": {
   "display_name": "Python 3",
   "language": "python",
   "name": "python3"
  },
  "language_info": {
   "codemirror_mode": {
    "name": "ipython",
    "version": 3
   },
   "file_extension": ".py",
   "mimetype": "text/x-python",
   "name": "python",
   "nbconvert_exporter": "python",
   "pygments_lexer": "ipython3",
   "version": "3.8.5"
  },
  "toc": {
   "base_numbering": 1,
   "nav_menu": {},
   "number_sections": false,
   "sideBar": true,
   "skip_h1_title": false,
   "title_cell": "Table of Contents",
   "title_sidebar": "Contents",
   "toc_cell": false,
   "toc_position": {},
   "toc_section_display": true,
   "toc_window_display": false
  }
 },
 "nbformat": 4,
 "nbformat_minor": 4
}
