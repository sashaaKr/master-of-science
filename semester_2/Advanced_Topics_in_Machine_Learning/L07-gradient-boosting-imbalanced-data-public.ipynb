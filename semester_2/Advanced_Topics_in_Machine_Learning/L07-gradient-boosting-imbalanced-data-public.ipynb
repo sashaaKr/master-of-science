{
 "cells": [
  {
   "cell_type": "markdown",
   "metadata": {
    "slideshow": {
     "slide_type": "slide"
    }
   },
   "source": [
    "\n",
    "### Advanced Machine Learning\n",
    "\n",
    "# (Stochastic) Gradient Descent, Gradient Boosting and Imbalanced Data\n",
    "\n",
    "12/04/21\n",
    "\n",
    "Jonathan Schler\n",
    "\n",
    "(credit: Columbia Univ - 4995 - Machine Learning Course)\n",
    "\n"
   ]
  },
  {
   "cell_type": "markdown",
   "metadata": {
    "slideshow": {
     "slide_type": "subslide"
    }
   },
   "source": [
    "\n",
    "# Gradient Descent\n",
    "\n",
    "<center>\n",
    "<img src=\"./images/gradient_3d.png\" style=\"width: 600px;\">\n",
    "</center>\n",
    "\n"
   ]
  },
  {
   "cell_type": "markdown",
   "metadata": {
    "slideshow": {
     "slide_type": "subslide"
    }
   },
   "source": [
    "Want: $$\\arg \\min_w F(w)$$\n",
    "\n",
    "Initialize $w_0$\n",
    "\n",
    "$$w^{(i+1)} \\leftarrow w^{(i)} - \\eta_i\\frac{d}{dw}F(w^{(i)})$$\n",
    "\n",
    "Converges to local minimum\n"
   ]
  },
  {
   "cell_type": "markdown",
   "metadata": {
    "slideshow": {
     "slide_type": "subslide"
    }
   },
   "source": [
    "\n",
    "\n",
    "# Gradient Descent\n",
    "\n",
    "$$w^{(i+1)} \\leftarrow w^{(i)} - \\eta_i\\frac{d}{dw}F(w^{(i)})$$\n",
    "\n",
    "\n",
    "<center>\n",
    "<img src=\"./images/gradient_2d.png\" style=\"width: 600px;\">\n",
    "</center>\n",
    "\n",
    "\n"
   ]
  },
  {
   "cell_type": "markdown",
   "metadata": {
    "slideshow": {
     "slide_type": "subslide"
    }
   },
   "source": [
    "## Example: Linear Regression (reminder)\n",
    "$$\\hat{y} = w^T \\mathbf{x} + b = \\sum_{i=1}^p w_i x_i +b $$\n",
    "\n",
    "optimize SSE $$  \\min_{w \\in \\mathbb{R}^p, b\\in\\mathbb{R}} \\sum_{i=1}^n (w^T\\mathbf{x}_i + b - y_i)^2$$\n",
    "\n",
    "let's consider a simple case with just one variable\n",
    "\n",
    "$$\\min_{a \\in \\mathbb{R}, b\\in\\mathbb{R}} \\sum_{i=1}^n (a\\mathbf{x}_i + b - y_i)^2$$\n"
   ]
  },
  {
   "cell_type": "markdown",
   "metadata": {
    "slideshow": {
     "slide_type": "subslide"
    }
   },
   "source": [
    "## Example: Gradient Descent for Linear Regression\n",
    "\n",
    "1. Initialize the weights ($a$ & $b$) with random values and calculate Error ($SSE$)\n",
    "2. Calculate the gradient i.e. change in $SSE$ when the weights ($a$ & $b$) are changed by learning rate and derivative from their original randomly initialized value. \n",
    "3. Adjust the weights with the gradients to reach better values where $SSE$ is lower\n",
    "4. Use the new weights for prediction and to calculate the new $SSE$\n",
    "5. Repeat steps 2-4 till further adjustments to weights doesn’t significantly reduce the Error"
   ]
  },
  {
   "cell_type": "markdown",
   "metadata": {
    "slideshow": {
     "slide_type": "subslide"
    }
   },
   "source": [
    "\n",
    "<center>\n",
    "<img src=\"./images/initial_housing_data2.png\" style=\"width: 600px;\">\n",
    "</center>\n"
   ]
  },
  {
   "cell_type": "markdown",
   "metadata": {
    "slideshow": {
     "slide_type": "subslide"
    }
   },
   "source": [
    "## Step 1\n",
    "\n",
    "Fit an initial equation $\\hat{y}$ = $a + b X$, start off with random values of $a$ and $b$ and calculate prediction error ($SSE$)\n",
    "\n",
    "<center>\n",
    "<img src=\"./images/grad_desc_step1.png\" style=\"width: 600px;\">\n",
    "</center>\n"
   ]
  },
  {
   "cell_type": "markdown",
   "metadata": {
    "slideshow": {
     "slide_type": "subslide"
    }
   },
   "source": [
    "## Step 2\n",
    "\n",
    "Calculate the error gradient w.r.t the weights\n",
    "$$ SSE = \\frac{1}{2}\\sum_{i=1}^n (y_i - \\hat{y})^2 $$\n",
    "$$\\min_{a \\in \\mathbb{R}, b\\in\\mathbb{R}} \\frac{1}{2} \\sum_{i=1}^n ( y_i - (b\\mathbf{x}_i + a))^2$$\n",
    "\n",
    "\n",
    "$$ \\frac{\\partial SSE}{\\partial a} = -\\sum_{i=1}^n (y_i - b\\mathbf{x}_i - a ) = -\\sum_{i=1}^n (y_i - \\hat{y})  $$\n",
    "$$ \\frac{\\partial SSE}{\\partial b} = -\\sum_{i=1}^n (y_i - b\\mathbf{x}_i - a ) x_i = -\\sum_{i=1}^n (y_i - \\hat{y})x_i $$\n",
    "\n",
    "\n"
   ]
  },
  {
   "cell_type": "markdown",
   "metadata": {
    "slideshow": {
     "slide_type": "subslide"
    }
   },
   "source": [
    "<center>\n",
    "<img src=\"./images/grad_desc_step2.png\" style=\"width: 600px;\">\n",
    "</center>"
   ]
  },
  {
   "cell_type": "markdown",
   "metadata": {
    "slideshow": {
     "slide_type": "subslide"
    }
   },
   "source": [
    "## Step 3\n",
    "\n",
    "Adjust the weights with the gradients to reach better values where $SSE$ is lower\n",
    "\n",
    "<center>\n",
    "<img src=\"./images/grad_desc_step3a.jpg\" style=\"width: 600px;\">\n",
    "</center>\n"
   ]
  },
  {
   "cell_type": "markdown",
   "metadata": {
    "slideshow": {
     "slide_type": "subslide"
    }
   },
   "source": [
    "## Step 3 - continued\n",
    "\n",
    "We need to update the random values of $a$,$b$ so that we move in the direction of optimal $a$, $b$.\n",
    "\n",
    "Update rules:\n",
    "\n",
    "   $$ a^{(i+1)} = a^i – \\frac{\\partial SSE}{\\partial a} $$\n",
    "   \n",
    "   \n",
    "   $$ b^{(i+1)} = b^i – \\frac{\\partial SSE}{\\partial b} $$\n",
    "\n",
    "So, update rules:\n",
    "\n",
    "$$ a^{2} = a^{1} – r * \\frac{∂SSE}{∂a} = 0.45-0.01*3.300 = 0.42 $$\n",
    "    \n",
    "$$ b^{2} = b^{1} – r * \\frac{∂SSE}{∂b} = 0.75-0.01*1.545 = 0.73 $$\n",
    "\n",
    "here, r is the learning rate = 0.01, which is the pace of adjustment to the weights.\n",
    "\n",
    "\n"
   ]
  },
  {
   "cell_type": "markdown",
   "metadata": {
    "slideshow": {
     "slide_type": "subslide"
    }
   },
   "source": [
    "## Step 4\n",
    "\n",
    "Use new $a$ and $b$ for prediction and to calculate new Total $SSE$\n",
    "\n",
    "<center>\n",
    "<img src=\"./images/grad_desc_step4.png\" style=\"width: 600px;\">\n",
    "</center>\n"
   ]
  },
  {
   "cell_type": "markdown",
   "metadata": {
    "slideshow": {
     "slide_type": "subslide"
    }
   },
   "source": [
    "## Step 5\n",
    "\n",
    "Repeat step $3$ and $4$ till the time further adjustments to $a$, $b$ doesn’t significantly reduces the error. At that time, we have arrived at the optimal $a$,$b$ with the highest prediction accuracy.\n"
   ]
  },
  {
   "cell_type": "markdown",
   "metadata": {
    "slideshow": {
     "slide_type": "subslide"
    }
   },
   "source": [
    "\n",
    "\n",
    "# Choosing a learning rate\n",
    "\n",
    "$$w^{(i+1)} \\leftarrow w^{(i)} - \\eta_i\\frac{d}{dw}F(w^{(i)})$$\n",
    "\n",
    "<center>\n",
    "<img src=\"./images/gradient_learning_rates.png\" style=\"width: 600px;\">\n",
    "</center>\n",
    "\n"
   ]
  },
  {
   "cell_type": "markdown",
   "metadata": {
    "slideshow": {
     "slide_type": "subslide"
    }
   },
   "source": [
    "\n",
    "\n",
    "# (Stochastic) Gradient Descent\n",
    "\n",
    "Logistic Regression Objective:\n",
    "\n",
    "$$F(w, b) = -C \\sum_{i=1}^n\\log(\\exp(-y_iw^T \\textbf{x}_ii -b) +1 ) + ||w||_2^2$$\n",
    "\n",
    "Gradient:\n",
    "\n",
    "$$\\frac{d}{dw}F(w) = \\frac{d}{dw} -C \\sum_{i=1}^n\\log(\\exp(-y_iw^T \\textbf{x}_i - b) +1 ) + ||w||_2^2$$\n",
    "\n",
    "Stochastic Gradient: Pick $x_i$ randomly, then\n",
    "\n",
    "$$\\frac{d}{dw}F(w) \\approx \\frac{d}{dw} -C \\log(\\exp(-y_iw^T \\textbf{x}_ii -b) +1 ) + \\frac{1}{n}||w||_2^2$$\n",
    "\n",
    "In practice: just iterate over i.\n",
    "\n"
   ]
  },
  {
   "cell_type": "markdown",
   "metadata": {
    "slideshow": {
     "slide_type": "subslide"
    }
   },
   "source": [
    "\n",
    "\n",
    "# SGDClassifier, SGDRegressor and partial_fit\n",
    "```python\n",
    "# Run until convergence\n",
    "sgd = SGDClassifier().fit(X_train, y_train)\n",
    "\n",
    "# Run one iteration over a batched dataset\n",
    "sgd = SGDClassifier()\n",
    "for X_batch, y_batch in batches:\n",
    "    sgd.partial_fit(X_batch, y_batch, classes=[0, 1, 2])\n",
    "\n",
    "# Run several iterations over a batched datasets\n",
    "for i in range(10):\n",
    "    for X_batch, y_batch in batches:\n",
    "        sgd.partial_fit(X_batch, y_batch, classes=[0, 1, 2])\n",
    "```\n",
    "\n"
   ]
  },
  {
   "cell_type": "markdown",
   "metadata": {
    "slideshow": {
     "slide_type": "subslide"
    }
   },
   "source": [
    "\n",
    "\n",
    "# SGD and partial_fit\n",
    "\n",
    "- SGDClassifier(), SGDRegressor() fast on very large datasets\n",
    "- Tuning learning rate and schedule can be tricky.\n",
    "- partial_fit allows working with out-of-memory data!\n",
    "\n"
   ]
  },
  {
   "cell_type": "markdown",
   "metadata": {
    "slideshow": {
     "slide_type": "subslide"
    }
   },
   "source": [
    "\n",
    "# Boosting \n",
    "\n",
    "$$f(x) = \\sum_k g_k(x)$$\n",
    "\n",
    " - Family of algorithms to create \"strong\" learner $f$ from \"weak\" learners $g_k$.\n",
    " - AdaBoost, GentleBoost, LogitBoost, …\n"
   ]
  },
  {
   "cell_type": "markdown",
   "metadata": {
    "slideshow": {
     "slide_type": "subslide"
    }
   },
   "source": [
    "\n",
    "# Gradient Boosting"
   ]
  },
  {
   "cell_type": "markdown",
   "metadata": {
    "slideshow": {
     "slide_type": "subslide"
    }
   },
   "source": [
    "\n",
    "\n",
    "# Gradient Boosting Algorithm\n",
    "\n",
    "\n",
    "\n",
    "$$ f_{1}(x) \\approx y  $$\n",
    "\n",
    "$$ f_{2}(x) \\approx y - f_{1}(x) $$\n",
    "\n",
    "$$ f_{3}(x) \\approx y - f_{1}(x) - f_{2}(x)$$\n",
    "\n"
   ]
  },
  {
   "cell_type": "markdown",
   "metadata": {
    "slideshow": {
     "slide_type": "subslide"
    }
   },
   "source": [
    "\n",
    "\n",
    "$y \\approx$ ![:scale 22.5%](images/grad_boost_term_1.png) + ![:scale 22.5%](images/grad_boost_term_2.png) + ![:scale 20%](images/grad_boost_term_3.png) + ..."
   ]
  },
  {
   "cell_type": "markdown",
   "metadata": {
    "slideshow": {
     "slide_type": "subslide"
    }
   },
   "source": [
    "\n",
    "# Gradient Boosting Algorithm\n",
    "\n",
    "\n",
    "\n",
    "$$ f_{1}(x) \\approx y  $$\n",
    "\n",
    "$$ f_{2}(x) \\approx y - \\gamma f_{1}(x) $$\n",
    "\n",
    "$$ f_{3}(x) \\approx y - \\gamma f_{1}(x) - \\gamma f_{2}(x)$$\n",
    "\n",
    "\n",
    "$y \\approx \\gamma$ ![:scale 22.5%](images/grad_boost_term_1.png) + $\\gamma$ ![:scale 22.5%](images/grad_boost_term_2.png) + $\\gamma$ ![:scale 20%](images/grad_boost_term_3.png) + ...\n",
    "<br />\n",
    "<br />\n",
    "Learning rate $\\gamma, i.e. 0.1$\n"
   ]
  },
  {
   "cell_type": "markdown",
   "metadata": {
    "slideshow": {
     "slide_type": "subslide"
    }
   },
   "source": [
    "\n",
    "\n",
    "# Early stopping\n",
    "\n",
    "- Adding trees can lead to overfitting\n",
    "- Stop adding trees when validation accuracy stops increasing\n",
    "\n",
    "two choices:\n",
    "\n",
    "- pick number of trees and tune learning rate\n",
    "\n",
    "- pick learning rate, use early stopping\n"
   ]
  },
  {
   "cell_type": "markdown",
   "metadata": {
    "slideshow": {
     "slide_type": "subslide"
    }
   },
   "source": [
    "\n",
    "# Tuning of Gradient Boosting\n",
    "- Typically strong pruning via max_depth\n",
    "- Tune max_features\n",
    "- Tune column subsampling, row subsampling\n",
    "- Regularization\n",
    "- Pick learning rate and do early stopping\n",
    "- Or Pick n_estimators, tune learning rate (if not early stopping)"
   ]
  },
  {
   "cell_type": "markdown",
   "metadata": {
    "slideshow": {
     "slide_type": "subslide"
    }
   },
   "source": [
    "\n",
    "# Improvements:\n",
    "# \"extreme\" gradient boosting\n",
    "\n",
    "[XGBoost: A Scalable Tree Boosting System, 2016](http://dmlc.cs.washington.edu/data/pdf/XGBoostArxiv.pdf)\n"
   ]
  },
  {
   "cell_type": "markdown",
   "metadata": {
    "slideshow": {
     "slide_type": "subslide"
    }
   },
   "source": [
    "\n",
    "# XGBoost\n",
    "`conda install -c conda-forge xgboost`\n",
    "\n",
    "```python\n",
    "from xgboost import XGBClassifier\n",
    "xgb = XGBClassifier()\n",
    "xgb.fit(X_train, y_train)\n",
    "xgb.score(X_test, y_test)\n",
    "```\n",
    "\n",
    "- supports missing values\n",
    "- GPU training\n",
    "- networked parallel training\n",
    "- monotonicity constraints\n",
    "- supports sparse data\n"
   ]
  },
  {
   "cell_type": "markdown",
   "metadata": {
    "slideshow": {
     "slide_type": "subslide"
    }
   },
   "source": [
    "\n",
    "# Gradient Boosting Advantages\n",
    "\n",
    "- Very fast using XGBoost (or HistGradientBoosting, LightGBM)\n",
    "- Small model size\n",
    "- Typically more accurate than Random Forests\n",
    "\n",
    "\n",
    "- \"old\" GradientBoosting in sklearn is comparatively slow"
   ]
  },
  {
   "cell_type": "markdown",
   "metadata": {
    "slideshow": {
     "slide_type": "subslide"
    }
   },
   "source": [
    "\n",
    "# Concluding tree-based models\n"
   ]
  },
  {
   "cell_type": "markdown",
   "metadata": {
    "slideshow": {
     "slide_type": "subslide"
    }
   },
   "source": [
    "\n",
    "class:spacious\n",
    "# When to use tree-based models\n",
    "- Model non-linear relationships\n",
    "- Doesn’t care about scaling, no need for feature engineering\n",
    "- Single tree: very interpretable (if small)\n",
    "- Random forests very robust, good benchmark\n",
    "- Gradient boosting often best performance with careful tuning\n"
   ]
  },
  {
   "cell_type": "markdown",
   "metadata": {
    "slideshow": {
     "slide_type": "slide"
    }
   },
   "source": [
    "# Calibration\n",
    "\n",
    "- Probabilities can be much more informative than labels:\n",
    "\n",
    "- “The model predicted you don’t have cancer” vs “The model predicted you’re 40% likely to have cancer”\n",
    "\n",
    "further reading can be found in this [article](http://www.datascienceassn.org/sites/default/files/Predicting%20good%20probabilities%20with%20supervised%20learning.pdf)"
   ]
  },
  {
   "cell_type": "markdown",
   "metadata": {
    "slideshow": {
     "slide_type": "subslide"
    }
   },
   "source": [
    "\n",
    "# Calibration curve (Reliability diagram)\n",
    "\n",
    "\n",
    "<center>\n",
    "<img src=\"./images/prob_table.png\" style=\"width: 600px;\">\n",
    "</center>"
   ]
  },
  {
   "cell_type": "markdown",
   "metadata": {
    "slideshow": {
     "slide_type": "subslide"
    }
   },
   "source": [
    "\n",
    "\n",
    "```python\n",
    "from sklearn.calibration import calibration_curve\n",
    "probs = lr.predict_proba(X_test)[:, 1]\n",
    "prob_true, prob_pred = calibration_curve(y_test, probs, n_bins=5)\n",
    "print(prob_true)\n",
    "print(prob_pred)\n",
    "[ 0.2    0.303  0.458  0.709  0.934]\n",
    "[ 0.138  0.306  0.498  0.701  0.926]\n",
    "```\n",
    "\n",
    "![:scale 70%](images/predprob_positive.png)\n",
    "\n"
   ]
  },
  {
   "cell_type": "markdown",
   "metadata": {
    "slideshow": {
     "slide_type": "subslide"
    }
   },
   "source": [
    "# Influence of number of bins\n",
    "\n",
    "<center>\n",
    "<img src=\"./images/influence_bins.png\" style=\"width: 600px;\">\n",
    "</center>"
   ]
  },
  {
   "cell_type": "markdown",
   "metadata": {
    "slideshow": {
     "slide_type": "subslide"
    }
   },
   "source": [
    "## Comparing Models\n",
    "\n",
    "<center>\n",
    "<img src=\"./images/calib_curve_models.png\" style=\"width: 600px;\">\n",
    "</center>"
   ]
  },
  {
   "cell_type": "markdown",
   "metadata": {
    "slideshow": {
     "slide_type": "slide"
    }
   },
   "source": [
    "# Fixing it: Calibrating a classifier\n",
    "- Build another model, mapping classifier probabilities to better probabilities!\n",
    "- 1d model! (or more for multi-class)\n",
    "\n",
    "$$ f_{calib}(s(x)) \\approx p(y)$$\n",
    "\n",
    "\n",
    "- s(x) is score given by model, usually\n",
    "- Can also work with models that don’t even provide probabilities!\n",
    "Need model for $f_{calib}$, need to decide what data to train it on.\n",
    "- Can train on training set → Overfit\n",
    "- Can train using cross-validation → use data, slower\n"
   ]
  },
  {
   "cell_type": "markdown",
   "metadata": {
    "slideshow": {
     "slide_type": "subslide"
    }
   },
   "source": [
    "# Platt Scaling\n",
    "\n",
    "- Use a logistic sigmoid for $f_{calib}$\n",
    "- Basically learning a 1d logistic regression\n",
    "- (+ some tricks)\n",
    "- Works well for SVMs\n",
    "\n",
    "$$f_{platt} = \\frac{1}{1 + exp(-ws(x) - b)}$$\n"
   ]
  },
  {
   "cell_type": "markdown",
   "metadata": {
    "slideshow": {
     "slide_type": "subslide"
    }
   },
   "source": [
    "# Isotonic Regression\n",
    "\n",
    "- Very flexible way to specify $f_{calib}$\n",
    "- Learns arbitrary monotonically increasing step-functions in 1d.\n",
    "- Groups data into constant parts, steps in between.\n",
    "- Optimum monotone function on training data (wrt mse).\n"
   ]
  },
  {
   "cell_type": "markdown",
   "metadata": {
    "slideshow": {
     "slide_type": "subslide"
    }
   },
   "source": [
    "<center>\n",
    "<img src=\"./images/isotonic_regression.png\" style=\"width: 600px;\">\n",
    "</center>"
   ]
  },
  {
   "cell_type": "markdown",
   "metadata": {
    "slideshow": {
     "slide_type": "slide"
    }
   },
   "source": [
    "# Building the model\n",
    "- Using the training set is bad\n",
    "- Either use hold-out set or cross-validation\n",
    "- Cross-validation can be used to make unbiased probability predictions, use that as training set.\n"
   ]
  },
  {
   "cell_type": "markdown",
   "metadata": {
    "slideshow": {
     "slide_type": "subslide"
    }
   },
   "source": [
    "# Fitting the calibration model\n",
    "<center>\n",
    "<img src=\"./images/calibration_val_scores.png\" style=\"width: 600px;\">\n",
    "</center>"
   ]
  },
  {
   "cell_type": "markdown",
   "metadata": {
    "slideshow": {
     "slide_type": "subslide"
    }
   },
   "source": [
    "# Fitting the calibration model\n",
    "<center>\n",
    "<img src=\"./images/calibration_val_scores_fitted.png\" style=\"width: 600px;\">\n",
    "</center>"
   ]
  },
  {
   "cell_type": "markdown",
   "metadata": {
    "slideshow": {
     "slide_type": "subslide"
    }
   },
   "source": [
    "# CalibratedClassifierCV\n",
    "\n",
    "```python\n",
    "from sklearn.calibration import CalibratedClassifierCV\n",
    "X_train_sub, X_val, y_train_sub, y_val = train_test_split(X_train, y_train,\n",
    "                                                          stratify=y_train, random_state=0)\n",
    "rf = RandomForestClassifier().fit(X_train_sub, y_train_sub)\n",
    "scores = rf.predict_proba(X_test)[:, 1]\n",
    "plot_calibration_curve(y_test, scores, n_bins=20)\n",
    "```\n"
   ]
  },
  {
   "cell_type": "markdown",
   "metadata": {
    "slideshow": {
     "slide_type": "subslide"
    }
   },
   "source": [
    "<center>\n",
    "<img src=\"./images/random_forest.png\" style=\"width: 600px;\">\n",
    "</center>"
   ]
  },
  {
   "cell_type": "markdown",
   "metadata": {
    "slideshow": {
     "slide_type": "subslide"
    }
   },
   "source": [
    "# Calibration on Random Forest\n",
    "\n",
    "```python\n",
    "cal_rf = CalibratedClassifierCV(rf, cv=\"prefit\", method='sigmoid')\n",
    "cal_rf.fit(X_val, y_val)\n",
    "scores_sigm = cal_rf.predict_proba(X_test)[:, 1]\n",
    "\n",
    "cal_rf_iso = CalibratedClassifierCV(rf, cv=\"prefit\", method='isotonic')\n",
    "cal_rf_iso.fit(X_val, y_val)\n",
    "scores_iso = cal_rf_iso.predict_proba(X_test)[:, 1]\n",
    "```\n"
   ]
  },
  {
   "cell_type": "markdown",
   "metadata": {
    "slideshow": {
     "slide_type": "subslide"
    }
   },
   "source": [
    "<center>\n",
    "<img src=\"./images/types_calib.png\" style=\"width: 600px;\">\n",
    "</center>"
   ]
  },
  {
   "cell_type": "markdown",
   "metadata": {
    "slideshow": {
     "slide_type": "slide"
    }
   },
   "source": [
    "# Cross-validated Calibration\n",
    "\n",
    "```python\n",
    "cal_rf_iso_cv = CalibratedClassifierCV(rf, method='isotonic')\n",
    "cal_rf_iso_cv.fit(X_train, y_train)\n",
    "scores_iso_cv = cal_rf_iso_cv.predict_proba(X_test)[:, 1]\n",
    "```"
   ]
  },
  {
   "cell_type": "markdown",
   "metadata": {
    "slideshow": {
     "slide_type": "subslide"
    }
   },
   "source": [
    "<center>\n",
    "<img src=\"./images/types_calib_cv.png\" style=\"width: 600px;\">\n",
    "</center>"
   ]
  },
  {
   "cell_type": "markdown",
   "metadata": {
    "slideshow": {
     "slide_type": "slide"
    }
   },
   "source": [
    "# Two sources of imbalance\n",
    "\n",
    "- Asymmetric cost\n",
    "- Asymmetric data"
   ]
  },
  {
   "cell_type": "markdown",
   "metadata": {
    "slideshow": {
     "slide_type": "slide"
    }
   },
   "source": [
    "# Why do we care?\n",
    "\n",
    "- Why should cost be symmetric?\n",
    "- All data is imbalanced\n",
    "- Detect rare events\n"
   ]
  },
  {
   "cell_type": "code",
   "execution_count": 3,
   "metadata": {
    "slideshow": {
     "slide_type": "subslide"
    }
   },
   "outputs": [
    {
     "name": "stdout",
     "output_type": "stream",
     "text": [
      "              precision    recall  f1-score   support\n",
      "\n",
      "           0       0.92      0.91      0.91        53\n",
      "           1       0.95      0.96      0.95        90\n",
      "\n",
      "    accuracy                           0.94       143\n",
      "   macro avg       0.93      0.93      0.93       143\n",
      "weighted avg       0.94      0.94      0.94       143\n",
      "\n"
     ]
    },
    {
     "name": "stderr",
     "output_type": "stream",
     "text": [
      "/Users/jonathan.schler/anaconda3/envs/python37/lib/python3.7/site-packages/sklearn/linear_model/_logistic.py:765: ConvergenceWarning: lbfgs failed to converge (status=1):\n",
      "STOP: TOTAL NO. of ITERATIONS REACHED LIMIT.\n",
      "\n",
      "Increase the number of iterations (max_iter) or scale the data as shown in:\n",
      "    https://scikit-learn.org/stable/modules/preprocessing.html\n",
      "Please also refer to the documentation for alternative solver options:\n",
      "    https://scikit-learn.org/stable/modules/linear_model.html#logistic-regression\n",
      "  extra_warning_msg=_LOGISTIC_SOLVER_CONVERGENCE_MSG)\n"
     ]
    }
   ],
   "source": [
    "#first method - what can we do here?\n",
    "import sklearn\n",
    "from sklearn.datasets import load_breast_cancer\n",
    "from sklearn.model_selection import train_test_split\n",
    "from sklearn.linear_model import LogisticRegression\n",
    "from sklearn.metrics import classification_report\n",
    "\n",
    "\n",
    "data = load_breast_cancer()\n",
    "\n",
    "X_train, X_test, y_train, y_test = train_test_split(\n",
    "    data.data, data.target, stratify=data.target, random_state=0)\n",
    "\n",
    "lr = LogisticRegression().fit(X_train, y_train)\n",
    "y_pred = lr.predict(X_test)\n",
    "\n",
    "print(classification_report(y_test, y_pred))\n"
   ]
  },
  {
   "cell_type": "code",
   "execution_count": 4,
   "metadata": {},
   "outputs": [
    {
     "name": "stdout",
     "output_type": "stream",
     "text": [
      "              precision    recall  f1-score   support\n",
      "\n",
      "           0       0.83      0.98      0.90        53\n",
      "           1       0.99      0.88      0.93        90\n",
      "\n",
      "    accuracy                           0.92       143\n",
      "   macro avg       0.91      0.93      0.91       143\n",
      "weighted avg       0.93      0.92      0.92       143\n",
      "\n"
     ]
    }
   ],
   "source": [
    "y_pred = lr.predict_proba(X_test)[:, 1] > .85\n",
    "\n",
    "print(classification_report(y_test, y_pred))\n"
   ]
  },
  {
   "cell_type": "code",
   "execution_count": 43,
   "metadata": {
    "slideshow": {
     "slide_type": "slide"
    }
   },
   "outputs": [
    {
     "data": {
      "text/plain": [
       "(11183, 6)"
      ]
     },
     "execution_count": 43,
     "metadata": {},
     "output_type": "execute_result"
    }
   ],
   "source": [
    "from sklearn.datasets import fetch_openml\n",
    "# mammography https://www.openml.org/d/310\n",
    "data = fetch_openml('mammography', as_frame=True)\n",
    "X, y = data.data, data.target\n",
    "X.shape"
   ]
  },
  {
   "cell_type": "code",
   "execution_count": 6,
   "metadata": {
    "slideshow": {
     "slide_type": "subslide"
    }
   },
   "outputs": [
    {
     "data": {
      "text/plain": [
       "-1    10923\n",
       "1       260\n",
       "Name: class, dtype: int64"
      ]
     },
     "execution_count": 6,
     "metadata": {},
     "output_type": "execute_result"
    }
   ],
   "source": [
    "y.value_counts()"
   ]
  },
  {
   "cell_type": "code",
   "execution_count": 44,
   "metadata": {
    "slideshow": {
     "slide_type": "subslide"
    }
   },
   "outputs": [],
   "source": [
    "# make y boolean\n",
    "# this allows sklearn to determine the positive class more easily\n",
    "X_train, X_test, y_train, y_test = train_test_split(X, y == '1', random_state=0)\n"
   ]
  },
  {
   "cell_type": "code",
   "execution_count": 8,
   "metadata": {
    "slideshow": {
     "slide_type": "subslide"
    }
   },
   "outputs": [
    {
     "data": {
      "text/plain": [
       "(0.918891506439645, 0.6414186442735843)"
      ]
     },
     "execution_count": 8,
     "metadata": {},
     "output_type": "execute_result"
    }
   ],
   "source": [
    "from sklearn.model_selection import cross_validate\n",
    "from sklearn.linear_model import LogisticRegression\n",
    "\n",
    "scores = cross_validate(LogisticRegression(),\n",
    "                        X_train, y_train, cv=10,\n",
    "                        scoring=('roc_auc', 'average_precision'))\n",
    "scores['test_roc_auc'].mean(), scores['test_average_precision'].mean()\n",
    "  "
   ]
  },
  {
   "cell_type": "code",
   "execution_count": 9,
   "metadata": {
    "slideshow": {
     "slide_type": "subslide"
    }
   },
   "outputs": [
    {
     "data": {
      "text/plain": [
       "(0.9397708663466044, 0.7401040166316957)"
      ]
     },
     "execution_count": 9,
     "metadata": {},
     "output_type": "execute_result"
    }
   ],
   "source": [
    "from sklearn.ensemble import RandomForestClassifier\n",
    "scores = cross_validate(RandomForestClassifier(),\n",
    "                        X_train, y_train, cv=10,\n",
    "                        scoring=('roc_auc', 'average_precision'))\n",
    "scores['test_roc_auc'].mean(), scores['test_average_precision'].mean()\n",
    " "
   ]
  },
  {
   "cell_type": "markdown",
   "metadata": {
    "slideshow": {
     "slide_type": "subslide"
    }
   },
   "source": [
    "# Basic Approaches\n",
    "\n",
    "- change the data\n",
    "  - add samples\n",
    "  - remove samples\n",
    "  - both\n",
    "- change the training procedure"
   ]
  },
  {
   "cell_type": "markdown",
   "metadata": {
    "slideshow": {
     "slide_type": "subslide"
    }
   },
   "source": [
    "# Imbalance-Learn\n",
    "\n",
    "http://imbalanced-learn.org\n",
    "\n",
    "```\n",
    "pip install -U imbalanced-learn\n",
    "```\n",
    "\n",
    "Extends `sklearn` API"
   ]
  },
  {
   "cell_type": "markdown",
   "metadata": {
    "slideshow": {
     "slide_type": "subslide"
    }
   },
   "source": [
    "### Sampler\n",
    "\n",
    "- To resample a data sets, each sampler implements `sample` method\n",
    "```python\n",
    "  data_resampled, targets_resampled = obj.sample(data, targets)\n",
    "```\n",
    "\n",
    "- Fitting and sampling can also be done in one step, using `fit_resample`\n",
    "\n",
    "```python\n",
    "  data_resampled, targets_resampled = obj.fit_resample(data, targets)\n",
    "```\n",
    "\n",
    "-  In Pipelines: Sampling only done in fit!\n"
   ]
  },
  {
   "cell_type": "code",
   "execution_count": 12,
   "metadata": {
    "slideshow": {
     "slide_type": "subslide"
    }
   },
   "outputs": [
    {
     "name": "stdout",
     "output_type": "stream",
     "text": [
      "(8387, 6)\n",
      "(392, 6)\n",
      "[196 196]\n"
     ]
    }
   ],
   "source": [
    "from imblearn.under_sampling import RandomUnderSampler\n",
    "import numpy as np\n",
    "\n",
    "rus = RandomUnderSampler(replacement=False)\n",
    "X_train_subsample, y_train_subsample = rus.fit_resample(\n",
    "    X_train, y_train)\n",
    "print(X_train.shape)\n",
    "print(X_train_subsample.shape)\n",
    "print(np.bincount(y_train_subsample))"
   ]
  },
  {
   "cell_type": "code",
   "execution_count": 14,
   "metadata": {
    "slideshow": {
     "slide_type": "subslide"
    }
   },
   "outputs": [
    {
     "data": {
      "text/plain": [
       "(0.9102987534502297, 0.5708443138695001)"
      ]
     },
     "execution_count": 14,
     "metadata": {},
     "output_type": "execute_result"
    }
   ],
   "source": [
    "from imblearn.pipeline import make_pipeline as make_imb_pipeline\n",
    "from sklearn.linear_model import LogisticRegressionCV\n",
    "\n",
    "undersample_pipe = make_imb_pipeline(RandomUnderSampler(), LogisticRegressionCV())\n",
    "scores = cross_validate(undersample_pipe,\n",
    "                        X_train, y_train, cv=10,\n",
    "                        scoring=('roc_auc', 'average_precision'))\n",
    "scores['test_roc_auc'].mean(), scores['test_average_precision'].mean()\n",
    "# baseline was 0.9180, 0.64"
   ]
  },
  {
   "cell_type": "code",
   "execution_count": 16,
   "metadata": {
    "slideshow": {
     "slide_type": "subslide"
    }
   },
   "outputs": [
    {
     "data": {
      "text/plain": [
       "(0.9456055985805664, 0.6341404950168421)"
      ]
     },
     "execution_count": 16,
     "metadata": {},
     "output_type": "execute_result"
    }
   ],
   "source": [
    "undersample_pipe_rf = make_imb_pipeline(RandomUnderSampler(),\n",
    "                                        RandomForestClassifier())\n",
    "scores = cross_validate(undersample_pipe_rf,\n",
    "                        X_train, y_train, cv=10,\n",
    "                        scoring=('roc_auc', 'average_precision'))\n",
    "scores['test_roc_auc'].mean(), scores['test_average_precision'].mean()\n",
    "# baseline was 0.939, 0.74"
   ]
  },
  {
   "cell_type": "code",
   "execution_count": 18,
   "metadata": {
    "slideshow": {
     "slide_type": "subslide"
    }
   },
   "outputs": [
    {
     "name": "stdout",
     "output_type": "stream",
     "text": [
      "(8387, 6)\n",
      "(16382, 6)\n",
      "[8191 8191]\n"
     ]
    }
   ],
   "source": [
    "from imblearn.over_sampling import RandomOverSampler\n",
    "ros = RandomOverSampler()\n",
    "X_train_oversample, y_train_oversample = ros.fit_resample(\n",
    "    X_train, y_train)\n",
    "print(X_train.shape)\n",
    "print(X_train_oversample.shape)\n",
    "print(np.bincount(y_train_oversample))\n"
   ]
  },
  {
   "cell_type": "code",
   "execution_count": 19,
   "metadata": {
    "slideshow": {
     "slide_type": "subslide"
    }
   },
   "outputs": [
    {
     "data": {
      "text/plain": [
       "(0.9234420400594983, 0.5577447362579694)"
      ]
     },
     "execution_count": 19,
     "metadata": {},
     "output_type": "execute_result"
    }
   ],
   "source": [
    "oversample_pipe = make_imb_pipeline(RandomOverSampler(), LogisticRegression())\n",
    "scores = cross_validate(oversample_pipe,\n",
    "                        X_train, y_train, cv=10,\n",
    "                        scoring=('roc_auc', 'average_precision'))\n",
    "scores['test_roc_auc'].mean(), scores['test_average_precision'].mean()\n",
    "# baseline was 0.920, 0.630\n"
   ]
  },
  {
   "cell_type": "code",
   "execution_count": 21,
   "metadata": {
    "slideshow": {
     "slide_type": "notes"
    }
   },
   "outputs": [
    {
     "data": {
      "text/plain": [
       "(0.9182500536833013, 0.7061310475947156)"
      ]
     },
     "execution_count": 21,
     "metadata": {},
     "output_type": "execute_result"
    }
   ],
   "source": [
    "oversample_pipe_rf = make_imb_pipeline(RandomOverSampler(),\n",
    "                                       RandomForestClassifier())\n",
    "scores = cross_validate(oversample_pipe_rf,\n",
    "                        X_train, y_train, cv=10,\n",
    "                        scoring=('roc_auc', 'average_precision'))\n",
    "scores['test_roc_auc'].mean(), scores['test_average_precision'].mean()\n",
    "# baseline was 0.939, 0.722\n"
   ]
  },
  {
   "cell_type": "markdown",
   "metadata": {
    "slideshow": {
     "slide_type": "slide"
    }
   },
   "source": [
    "# Class-weights\n",
    "\n",
    "- Instead of repeating samples, re-weight the loss function.\n",
    "- Works for most models!\n",
    "- Same effect as over-sampling (though not random), but not as expensive (dataset size the same)."
   ]
  },
  {
   "cell_type": "markdown",
   "metadata": {
    "slideshow": {
     "slide_type": "slide"
    }
   },
   "source": [
    "# Class-weights in linear models\n",
    "\n",
    "$$\\min_{w \\in ℝ^{p}, b \\in \\mathbb{R}}-C \\sum_{i=1}^n\\log(\\exp(-y_i(w^T \\textbf{x}_i + b )) + 1) + ||w||_2^2$$\n",
    "\n",
    "$$\\min_{w \\in ℝ^{p}, b \\in \\mathbb{R}}-C \\sum_{i=1}^n c_{y_i}  \\log(\\exp(-y_i(w^T \\textbf{x}_i + b )) + 1) + ||w||_2^2$$\n",
    "\n",
    "Similar for linear and non-linear SVM\n"
   ]
  },
  {
   "cell_type": "code",
   "execution_count": 50,
   "metadata": {
    "slideshow": {
     "slide_type": "subslide"
    }
   },
   "outputs": [
    {
     "data": {
      "text/plain": [
       "(0.9235896730569388, 0.5644209092265684)"
      ]
     },
     "execution_count": 50,
     "metadata": {},
     "output_type": "execute_result"
    }
   ],
   "source": [
    "scores = cross_validate(LogisticRegression(class_weight='balanced'),\n",
    "#scores = cross_validate(LogisticRegression(class_weight=[1,100]),\n",
    "                        X_train, y_train, cv=10,\n",
    "                        scoring=('roc_auc', 'average_precision'))\n",
    "scores['test_roc_auc'].mean(), scores['test_average_precision'].mean()\n",
    "# baseline was 0.920, 0.630\n"
   ]
  },
  {
   "cell_type": "code",
   "execution_count": 24,
   "metadata": {
    "slideshow": {
     "slide_type": "subslide"
    }
   },
   "outputs": [
    {
     "data": {
      "text/plain": [
       "(0.9180817310631173, 0.7046508711873969)"
      ]
     },
     "execution_count": 24,
     "metadata": {},
     "output_type": "execute_result"
    }
   ],
   "source": [
    "scores = cross_validate(RandomForestClassifier(n_estimators=100,\n",
    "                                               class_weight='balanced'),\n",
    "                        X_train, y_train, cv=10,\n",
    "                        scoring=('roc_auc', 'average_precision'))\n",
    "scores['test_roc_auc'].mean(), scores['test_average_precision'].mean()\n",
    "# baseline was 0.939, 0.722\n"
   ]
  },
  {
   "cell_type": "markdown",
   "metadata": {
    "slideshow": {
     "slide_type": "slide"
    }
   },
   "source": [
    "## Synthetic Sample Generation\n"
   ]
  },
  {
   "cell_type": "markdown",
   "metadata": {
    "slideshow": {
     "slide_type": "slide"
    }
   },
   "source": [
    "# Synthetic Minority Oversampling Technique (SMOTE)\n",
    "\n",
    "- Adds synthetic interpolated data to smaller class\n",
    "- For each sample in minority class:</br>\n",
    "    - Pick random neighbor from k neighbors.</br>\n",
    "    - Pick point on line connecting the two uniformly (or within rectangle)</br>\n",
    "    - Repeat.</br>\n",
    "\n"
   ]
  },
  {
   "cell_type": "markdown",
   "metadata": {
    "slideshow": {
     "slide_type": "subslide"
    }
   },
   "source": [
    "<center>\n",
    "<img src=\"./images/smote_mammography.png\" style=\"width: 600px;\">\n",
    "</center>\n",
    "\n",
    "\n"
   ]
  },
  {
   "cell_type": "code",
   "execution_count": 51,
   "metadata": {
    "slideshow": {
     "slide_type": "subslide"
    }
   },
   "outputs": [
    {
     "data": {
      "text/plain": [
       "test_roc_auc              0.921647\n",
       "test_average_precision    0.559659\n",
       "dtype: float64"
      ]
     },
     "execution_count": 51,
     "metadata": {},
     "output_type": "execute_result"
    }
   ],
   "source": [
    "from imblearn.over_sampling import SMOTE\n",
    "import pandas as pd\n",
    "\n",
    "smote_pipe = make_imb_pipeline(SMOTE(), LogisticRegression())\n",
    "scores = cross_validate(smote_pipe, X_train, y_train, cv=10,\n",
    "                        scoring=('roc_auc', 'average_precision'))\n",
    "pd.DataFrame(scores)[['test_roc_auc', 'test_average_precision']].mean()\n",
    "# baseline was 0.920, 0.630\n"
   ]
  },
  {
   "cell_type": "code",
   "execution_count": 36,
   "metadata": {
    "slideshow": {
     "slide_type": "subslide"
    }
   },
   "outputs": [
    {
     "data": {
      "text/plain": [
       "test_roc_auc              0.938048\n",
       "test_average_precision    0.707201\n",
       "dtype: float64"
      ]
     },
     "execution_count": 36,
     "metadata": {},
     "output_type": "execute_result"
    }
   ],
   "source": [
    "smote_pipe_rf = make_imb_pipeline(SMOTE(),\n",
    "                                  RandomForestClassifier())\n",
    "scores = cross_validate(smote_pipe_rf, X_train, y_train, cv=10,\n",
    "                        scoring=('roc_auc', 'average_precision'))\n",
    "pd.DataFrame(scores)[['test_roc_auc', 'test_average_precision']].mean()\n",
    "# baseline was 0.939, 0.722\n"
   ]
  },
  {
   "cell_type": "markdown",
   "metadata": {
    "slideshow": {
     "slide_type": "notes"
    }
   },
   "source": [
    "The results are pretty similar to either the original dataset or the random sampling. Performing nearest neighbors, I found 11 to be best."
   ]
  },
  {
   "cell_type": "code",
   "execution_count": 42,
   "metadata": {
    "slideshow": {
     "slide_type": "slide"
    }
   },
   "outputs": [
    {
     "data": {
      "text/plain": [
       "<matplotlib.axes._subplots.AxesSubplot at 0x1a21842c90>"
      ]
     },
     "execution_count": 42,
     "metadata": {},
     "output_type": "execute_result"
    },
    {
     "data": {
      "image/png": "[encoded data removed]",
      "text/plain": [
       "<Figure size 432x288 with 1 Axes>"
      ]
     },
     "metadata": {
      "needs_background": "light"
     },
     "output_type": "display_data"
    }
   ],
   "source": [
    "from sklearn.model_selection import GridSearchCV\n",
    "param_grid = {'smote__k_neighbors': [3, 5, 7, 9, 11, 15, 31]}\n",
    "search = GridSearchCV(smote_pipe_rf, param_grid, cv=10,\n",
    "                      scoring=\"average_precision\",return_train_score=True)\n",
    "search.fit(X_train, y_train)\n",
    "results = pd.DataFrame(search.cv_results_)\n",
    "results.plot(\"param_smote__k_neighbors\", [\"mean_test_score\", \"mean_train_score\"])\n"
   ]
  },
  {
   "cell_type": "markdown",
   "metadata": {
    "slideshow": {
     "slide_type": "subslide"
    }
   },
   "source": [
    "<center>\n",
    "<img src=\"./images/smote_k_neighbors.png\" style=\"width: 600px;\">\n",
    "</center>\n"
   ]
  },
  {
   "cell_type": "markdown",
   "metadata": {
    "slideshow": {
     "slide_type": "slide"
    }
   },
   "source": [
    "# Summary\n",
    "\n",
    "- calibration can help tuning the model and prediction\n",
    "- Always check roc_auc and average_precision look at curves\n",
    "- Undersampling is very fast and can help!\n",
    "- Undersampling + Ensembles is very powerful!\n",
    "- Can add synthetic samples with SMOTE\n"
   ]
  },
  {
   "cell_type": "markdown",
   "metadata": {
    "slideshow": {
     "slide_type": "subslide"
    }
   },
   "source": [
    "# Questions?"
   ]
  },
  {
   "cell_type": "code",
   "execution_count": null,
   "metadata": {},
   "outputs": [],
   "source": []
  }
 ],
 "metadata": {
  "celltoolbar": "Slideshow",
  "kernelspec": {
   "display_name": "Python 3",
   "language": "python",
   "name": "python3"
  },
  "language_info": {
   "codemirror_mode": {
    "name": "ipython",
    "version": 3
   },
   "file_extension": ".py",
   "mimetype": "text/x-python",
   "name": "python",
   "nbconvert_exporter": "python",
   "pygments_lexer": "ipython3",
   "version": "3.7.7"
  },
  "toc": {
   "base_numbering": 1,
   "nav_menu": {},
   "number_sections": false,
   "sideBar": true,
   "skip_h1_title": false,
   "title_cell": "Table of Contents",
   "title_sidebar": "Contents",
   "toc_cell": false,
   "toc_position": {},
   "toc_section_display": true,
   "toc_window_display": false
  }
 },
 "nbformat": 4,
 "nbformat_minor": 4
}
