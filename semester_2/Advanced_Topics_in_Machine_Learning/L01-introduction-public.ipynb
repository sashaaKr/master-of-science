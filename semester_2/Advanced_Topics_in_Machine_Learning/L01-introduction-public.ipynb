{
 "cells": [
  {
   "cell_type": "markdown",
   "metadata": {
    "slideshow": {
     "slide_type": "slide"
    }
   },
   "source": [
    "Till the start of the lesson, feel free to fill out the following padlet link\n",
    "\n",
    "https://padlet.com/schler60/3zirn4xhovn8q8yp\n",
    "\n",
    "<img src=\"pablet.png\" width=\"180\" height=\"180\">"
   ]
  },
  {
   "cell_type": "markdown",
   "metadata": {
    "slideshow": {
     "slide_type": "slide"
    }
   },
   "source": [
    "### Advanced Machine Learning\n",
    "\n",
    "# Introduction\n",
    "\n",
    "02/22/21\n",
    "\n",
    "Jonathan Schler\n",
    "\n",
    "(credit: Columbia Univ - 4995 - Machine Learning Course)"
   ]
  },
  {
   "cell_type": "markdown",
   "metadata": {
    "slideshow": {
     "slide_type": "subslide"
    }
   },
   "source": [
    "\n",
    "# Logistics\n",
    "\n",
    "## Email\n",
    "schler@hit.ac.il\n",
    "\n",
    "\n",
    "\n",
    "## Office Hours\n",
    "- This semester: via zoom by prior appoinments\n"
   ]
  },
  {
   "cell_type": "markdown",
   "metadata": {
    "slideshow": {
     "slide_type": "subslide"
    }
   },
   "source": [
    "\n",
    "\n",
    "# Logistics\n",
    "\n",
    "\n",
    "- Course website: moodle<br /><br />\n",
    "- Course uses python via jupyter notebook (or jupyter lab) <br /><br />\n",
    "- Five programming assignments<br /><br />\n",
    "- Grade: 70% homeworks, 30% final assignment (with a competitive element)<br /><br />\n"
   ]
  },
  {
   "cell_type": "markdown",
   "metadata": {
    "slideshow": {
     "slide_type": "subslide"
    }
   },
   "source": [
    "\n",
    "\n",
    "# Slides and course materials\n",
    "\n",
    "- Slides are based on jupyter notebook<br /><br />\n",
    "- Can be viewed as slide shows<br /><br />\n",
    "- Can alse be read or executed as regular notebook<br /><br />\n",
    "- In some cases there are also \"notes\" cells capturing verbal comments\n"
   ]
  },
  {
   "cell_type": "markdown",
   "metadata": {
    "slideshow": {
     "slide_type": "subslide"
    }
   },
   "source": [
    "# Recommended Background \n",
    "\n",
    "- Python intro / background (https://www.learnpython.org/ (basics + pandas) <br /><br />\n",
    "- Data science intro course (https://campus.gov.il/course/hit-acd-rfp4-hit-data-hit-2019-1/) <br /><br />\n",
    "\n"
   ]
  },
  {
   "cell_type": "markdown",
   "metadata": {
    "slideshow": {
     "slide_type": "subslide"
    }
   },
   "source": [
    "\n",
    "\n",
    "\n",
    "# Lecture Recordings"
   ]
  },
  {
   "cell_type": "markdown",
   "metadata": {
    "slideshow": {
     "slide_type": "subslide"
    }
   },
   "source": [
    "\n",
    "# Plagiarism and Code copying\n",
    "\n",
    "- Homeworks are checked for plagiarism\n",
    "- Copied code will result in 0 points for all involved\n",
    "- Copying from my slides or class materials is fine.\n",
    "- You should acknowledge any other external sources\n"
   ]
  },
  {
   "cell_type": "markdown",
   "metadata": {
    "slideshow": {
     "slide_type": "slide"
    }
   },
   "source": [
    "\n",
    "\n",
    "# What and Why of Machine Learning\n"
   ]
  },
  {
   "cell_type": "markdown",
   "metadata": {
    "slideshow": {
     "slide_type": "subslide"
    }
   },
   "source": [
    "\n",
    "\n",
    "\n",
    "\n",
    "# What is machine learning?\n"
   ]
  },
  {
   "cell_type": "markdown",
   "metadata": {
    "slideshow": {
     "slide_type": "subslide"
    }
   },
   "source": [
    "<img src=\"images/LinkedInFeed.png\"/>\n"
   ]
  },
  {
   "cell_type": "markdown",
   "metadata": {
    "slideshow": {
     "slide_type": "subslide"
    }
   },
   "source": [
    "\n",
    "\n",
    "\n",
    "![:scale 70%](images/facebook_friends.jpg)\n"
   ]
  },
  {
   "cell_type": "markdown",
   "metadata": {
    "slideshow": {
     "slide_type": "subslide"
    }
   },
   "source": [
    "\n",
    "\n",
    "\n",
    "![:scale 70%](images/amazon1.png)\n"
   ]
  },
  {
   "cell_type": "markdown",
   "metadata": {
    "slideshow": {
     "slide_type": "subslide"
    }
   },
   "source": [
    "\n",
    "\n",
    "![:scale 70%](images/amazon2.png)\n",
    "\n"
   ]
  },
  {
   "cell_type": "markdown",
   "metadata": {
    "slideshow": {
     "slide_type": "subslide"
    }
   },
   "source": [
    "\n",
    "\n",
    "# Science!\n",
    "\n",
    "\n",
    "![:scale 70%](images/exoplanet.png)\n",
    "\n"
   ]
  },
  {
   "cell_type": "markdown",
   "metadata": {
    "slideshow": {
     "slide_type": "subslide"
    }
   },
   "source": [
    "\n",
    "\n",
    "# Types of Machine Learning\n"
   ]
  },
  {
   "cell_type": "markdown",
   "metadata": {
    "slideshow": {
     "slide_type": "notes"
    }
   },
   "source": [
    "\n",
    "Who can name the three main ML types?\n"
   ]
  },
  {
   "cell_type": "markdown",
   "metadata": {
    "slideshow": {
     "slide_type": "subslide"
    }
   },
   "source": [
    "\n",
    "\n",
    "\n",
    "# Types of Machine Learning\n",
    "- Supervised\n",
    "- Unsupervised\n",
    "- Reinforcement\n"
   ]
  },
  {
   "cell_type": "markdown",
   "metadata": {
    "slideshow": {
     "slide_type": "subslide"
    }
   },
   "source": [
    "\n",
    "\n",
    "\n",
    "# Supervised Learning\n",
    "\n",
    "\n",
    "$$ (x_i, y_i) \\propto p(x, y) \\text{ i.i.d.}$$\n",
    "$$ x_i \\in \\mathbb{R}^p$$\n",
    "$$ y_i \\in \\mathbb{R}$$\n",
    "$$f(x_i) \\approx y_i$$\n",
    "\n"
   ]
  },
  {
   "cell_type": "markdown",
   "metadata": {
    "slideshow": {
     "slide_type": "subslide"
    }
   },
   "source": [
    "\n",
    "\n",
    "# Generalization\n",
    "\n",
    "Not only\n",
    "<center>\n",
    "$f(x_i) \\approx y_i$,\n",
    "</center>\n",
    "also for new data:\n",
    "<center>\n",
    "$f(x) \\approx y$\n",
    "</center>"
   ]
  },
  {
   "cell_type": "markdown",
   "metadata": {
    "slideshow": {
     "slide_type": "subslide"
    }
   },
   "source": [
    "\n",
    "\n",
    "\n",
    "# Examples of Supervised Learning\n",
    "\n",
    "- spam detection\n",
    "- medical diagnosis\n",
    "- ad click prediction\n",
    "- satellite image analysis\n"
   ]
  },
  {
   "cell_type": "markdown",
   "metadata": {
    "slideshow": {
     "slide_type": "subslide"
    }
   },
   "source": [
    "\n",
    "\n",
    "# Unsupervised Learning\n",
    "\n",
    "$$ x_i \\propto p(x) \\text{ i.i.d.}$$\n",
    "Learn about $p$.\n"
   ]
  },
  {
   "cell_type": "markdown",
   "metadata": {
    "slideshow": {
     "slide_type": "subslide"
    }
   },
   "source": [
    "\n",
    "\n",
    "- Clustering\n",
    "- Topic modeling\n",
    "- Dimensionality reduction\n",
    "- Anomaly detection\n",
    "\n"
   ]
  },
  {
   "cell_type": "markdown",
   "metadata": {
    "slideshow": {
     "slide_type": "subslide"
    }
   },
   "source": [
    "# Reinforcement Learning\n",
    "\n",
    ". | .\n",
    "- | - \n",
    "![alt](images/alpha_go.png) | ![alt](images/nao.png)"
   ]
  },
  {
   "cell_type": "markdown",
   "metadata": {
    "slideshow": {
     "slide_type": "subslide"
    }
   },
   "source": [
    "\n",
    "\n",
    "# Explore & Learn\n",
    "\n",
    "![:scale 80%](images/reinforcement_cycle.png)\n",
    "\n"
   ]
  },
  {
   "cell_type": "markdown",
   "metadata": {
    "slideshow": {
     "slide_type": "subslide"
    }
   },
   "source": [
    "\n",
    "\n",
    "# Other kinds of learning\n",
    "\n",
    "- Semi-supervised\n",
    "- Active Learning\n",
    "- Forecasting\n",
    "- ...\n"
   ]
  },
  {
   "cell_type": "markdown",
   "metadata": {
    "slideshow": {
     "slide_type": "subslide"
    }
   },
   "source": [
    "\n",
    "\n",
    "# Classification and Regression\n",
    "\n",
    "<br>\n",
    "\n",
    "\n",
    "Classification | Regression\n",
    ":- | :-\n",
    " target y discrete |  target y continuous\n",
    " Is this patient sick? | How long will it take for the patient to recover?\n",
    "</div>"
   ]
  },
  {
   "cell_type": "markdown",
   "metadata": {
    "slideshow": {
     "slide_type": "subslide"
    }
   },
   "source": [
    "\n",
    "\n",
    "# Relationship to Statistics\n",
    "\n",
    "\n",
    "Statistics | Machine learning\n",
    ":- | :-\n",
    "model first | data first\n",
    "inference emphasis | prediction emphasis\n",
    "\n"
   ]
  },
  {
   "cell_type": "markdown",
   "metadata": {
    "slideshow": {
     "slide_type": "subslide"
    }
   },
   "source": [
    "\n",
    "\n",
    "\n",
    "\n",
    "# Guiding Principles in Machine Learning\n"
   ]
  },
  {
   "cell_type": "markdown",
   "metadata": {
    "slideshow": {
     "slide_type": "subslide"
    }
   },
   "source": [
    "\n",
    "\n",
    "\n",
    "\n",
    "# Goal considerations\n"
   ]
  },
  {
   "cell_type": "markdown",
   "metadata": {
    "slideshow": {
     "slide_type": "subslide"
    }
   },
   "source": [
    "\n",
    "\n",
    "\n",
    "# The Cost of Complex Systems\n",
    "\n",
    "## Data driven first? yes! (or maybe)\n",
    "## Machine Learning first: No!\n"
   ]
  },
  {
   "cell_type": "markdown",
   "metadata": {
    "slideshow": {
     "slide_type": "subslide"
    }
   },
   "source": [
    "\n",
    "\n",
    "\n",
    "\n",
    "# Thinking in Context!\n",
    "# What is the baseline?\n",
    "# What is the benefit?\n"
   ]
  },
  {
   "cell_type": "markdown",
   "metadata": {
    "slideshow": {
     "slide_type": "subslide"
    }
   },
   "source": [
    "\n",
    "\n",
    "# Communicating Results\n"
   ]
  },
  {
   "cell_type": "markdown",
   "metadata": {
    "slideshow": {
     "slide_type": "subslide"
    }
   },
   "source": [
    "\n",
    "\n",
    "\n",
    "\n",
    "# Explainable Results\n",
    "\n",
    "![:scale 60%](images/amazon_explanations.png)\n"
   ]
  },
  {
   "cell_type": "markdown",
   "metadata": {
    "slideshow": {
     "slide_type": "subslide"
    }
   },
   "source": [
    "\n",
    "\n",
    "\n",
    "\n",
    "# Sidebar: Ethical Considerations\n",
    "\n",
    "![:scale 30%](images/propublica_compas.png)<br/>\n",
    "\n",
    "[https://www.propublica.org/article/machine-bias-risk-assessments-in-criminal-sentencing](https://www.propublica.org/article/machine-bias-risk-assessments-in-criminal-sentencing)\n",
    "\n"
   ]
  },
  {
   "cell_type": "markdown",
   "metadata": {
    "slideshow": {
     "slide_type": "subslide"
    }
   },
   "source": [
    "\n",
    "\n",
    "\n",
    "# Ethics: It’s in the application!\n"
   ]
  },
  {
   "cell_type": "markdown",
   "metadata": {
    "slideshow": {
     "slide_type": "subslide"
    }
   },
   "source": [
    "\n",
    "\n",
    "\n",
    "# Data and Data Collection\n"
   ]
  },
  {
   "cell_type": "markdown",
   "metadata": {
    "slideshow": {
     "slide_type": "subslide"
    }
   },
   "source": [
    "\n",
    "\n",
    "# Free vs Expensive Data \n",
    "\n",
    "Free | Expensive\n",
    ":- | :-\n",
    "Predict observable events | Automate complex process\n",
    "- Stock market | - Dignosis \n",
    "- Clicks | - Drug Trial\n",
    "- House numbers | - Chip Design\n",
    "\n",
    "\n"
   ]
  },
  {
   "cell_type": "markdown",
   "metadata": {
    "slideshow": {
     "slide_type": "subslide"
    }
   },
   "source": [
    "\n",
    "\n",
    "\n",
    "\n",
    "# The cost (and benefit?) of BigData\n",
    "\n",
    "# Subsample to RAM (which can be 512gb)\n"
   ]
  },
  {
   "cell_type": "markdown",
   "metadata": {
    "slideshow": {
     "slide_type": "subslide"
    }
   },
   "source": [
    "\n",
    "\n",
    "\n",
    "# Questions ?\n",
    "\n",
    "    "
   ]
  }
 ],
 "metadata": {
  "celltoolbar": "Slideshow",
  "kernelspec": {
   "display_name": "Python 3",
   "language": "python",
   "name": "python3"
  },
  "language_info": {
   "codemirror_mode": {
    "name": "ipython",
    "version": 3
   },
   "file_extension": ".py",
   "mimetype": "text/x-python",
   "name": "python",
   "nbconvert_exporter": "python",
   "pygments_lexer": "ipython3",
   "version": "3.8.5"
  },
  "toc": {
   "base_numbering": 1,
   "nav_menu": {},
   "number_sections": false,
   "sideBar": true,
   "skip_h1_title": false,
   "title_cell": "Table of Contents",
   "title_sidebar": "Contents",
   "toc_cell": false,
   "toc_position": {
    "height": "calc(100% - 180px)",
    "left": "10px",
    "top": "150px",
    "width": "306px"
   },
   "toc_section_display": true,
   "toc_window_display": false
  }
 },
 "nbformat": 4,
 "nbformat_minor": 4
}
