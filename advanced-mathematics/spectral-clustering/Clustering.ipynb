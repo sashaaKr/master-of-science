{
 "metadata": {
  "language_info": {
   "codemirror_mode": {
    "name": "ipython",
    "version": 3
   },
   "file_extension": ".py",
   "mimetype": "text/x-python",
   "name": "python",
   "nbconvert_exporter": "python",
   "pygments_lexer": "ipython3",
   "version": "3.8.5-final"
  },
  "orig_nbformat": 2,
  "kernelspec": {
   "name": "python_defaultSpec_1613215883502",
   "display_name": "Python 3.8.5 64-bit",
   "language": "python"
  }
 },
 "nbformat": 4,
 "nbformat_minor": 2,
 "cells": [
  {
   "cell_type": "code",
   "execution_count": 1,
   "metadata": {},
   "outputs": [],
   "source": [
    "import matplotlib.pyplot as plt\n",
    "import networkx as nx\n",
    "import numpy as np\n",
    "import sys\n",
    "import numpy.linalg as linalg\n",
    "import numpy as np\n",
    "import seaborn as sns\n",
    "import pandas as pd\n",
    "import scipy\n",
    "from networkx.algorithms import bipartite\n",
    "import sympy as sp"
   ]
  },
  {
   "cell_type": "code",
   "execution_count": 2,
   "metadata": {},
   "outputs": [],
   "source": [
    "def show_matrix(data):\n",
    "    min_val, max_val = 0, 15\n",
    "    cm = sns.light_palette(\"blue\", as_cmap=True)\n",
    "    x=pd.DataFrame(data)\n",
    "    x=x.style.background_gradient(cmap=cm)\n",
    "    display(x)"
   ]
  },
  {
   "cell_type": "code",
   "execution_count": 3,
   "metadata": {},
   "outputs": [],
   "source": [
    "def calculate_second_egein(norm_Lapl):\n",
    "    val, vec = np.linalg.eigh(norm_Lapl)\n",
    "    val = val.real\n",
    "    vec = vec.real\n",
    "    idx = np.argsort(val)\n",
    "    val = val[idx]\n",
    "    vec = vec[:,idx]\n",
    "    return val,vec"
   ]
  },
  {
   "cell_type": "code",
   "execution_count": 4,
   "metadata": {},
   "outputs": [],
   "source": [
    "def create_graph():\n",
    "    G = nx.Graph()\n",
    "    G.add_nodes_from([1, 2, 3, 4, 5, 6, 7, 8])\n",
    "    G.add_edges_from([(1, 2), (1, 3), (1, 4), (2, 3), (2, 4), (3, 4), (4, 5), (5, 6), (5, 7), (5, 8), (6, 7), (7, 8), (6, 8)])\n",
    "    return G"
   ]
  },
  {
   "cell_type": "code",
   "execution_count": 5,
   "metadata": {},
   "outputs": [],
   "source": [
    "def show_graph(G, colors):\n",
    "    plt.figure(figsize=(15, 15))\n",
    "    plt.subplot(121)\n",
    "    nx.draw(G, node_color=colors, with_labels=True, font_weight='bold')\n",
    "    plt.show()"
   ]
  },
  {
   "cell_type": "code",
   "execution_count": 6,
   "metadata": {},
   "outputs": [],
   "source": [
    "def show_graph(G):\n",
    "    plt.figure(figsize=(15, 15))\n",
    "    plt.subplot(121)\n",
    "    nx.draw(G, with_labels=True, font_weight='bold')\n",
    "    plt.show()"
   ]
  },
  {
   "cell_type": "code",
   "execution_count": 7,
   "metadata": {},
   "outputs": [],
   "source": [
    "def get_not_normal_eigen(L):\n",
    "    mat = sp.Matrix(L)\n",
    "    tupels = mat.eigenvects()\n",
    "    \n",
    "    values = []\n",
    "    vectors = []\n",
    "\n",
    "    for eigen_value, _, eigen_vector in tupels:\n",
    "        for v in eigen_vector:\n",
    "            values.append(float(eigen_value))\n",
    "            _v = []\n",
    "            for __v in np.array(v).astype(np.float64):\n",
    "                _v.append(__v[0])\n",
    "            vectors.append(_v)\n",
    "\n",
    "    return values, vectors"
   ]
  },
  {
   "cell_type": "code",
   "execution_count": 8,
   "metadata": {},
   "outputs": [],
   "source": [
    "G = create_graph()"
   ]
  },
  {
   "cell_type": "code",
   "execution_count": 9,
   "metadata": {},
   "outputs": [
    {
     "output_type": "error",
     "ename": "NameError",
     "evalue": "name 'colors' is not defined",
     "traceback": [
      "\u001b[0;31m---------------------------------------------------------------------------\u001b[0m",
      "\u001b[0;31mNameError\u001b[0m                                 Traceback (most recent call last)",
      "\u001b[0;32m<ipython-input-9-a7c9b186878c>\u001b[0m in \u001b[0;36m<module>\u001b[0;34m\u001b[0m\n\u001b[0;32m----> 1\u001b[0;31m \u001b[0mshow_graph\u001b[0m\u001b[0;34m(\u001b[0m\u001b[0mG\u001b[0m\u001b[0;34m)\u001b[0m\u001b[0;34m\u001b[0m\u001b[0;34m\u001b[0m\u001b[0m\n\u001b[0m",
      "\u001b[0;32m<ipython-input-6-794bdab4cc63>\u001b[0m in \u001b[0;36mshow_graph\u001b[0;34m(G)\u001b[0m\n\u001b[1;32m      2\u001b[0m     \u001b[0mplt\u001b[0m\u001b[0;34m.\u001b[0m\u001b[0mfigure\u001b[0m\u001b[0;34m(\u001b[0m\u001b[0mfigsize\u001b[0m\u001b[0;34m=\u001b[0m\u001b[0;34m(\u001b[0m\u001b[0;36m15\u001b[0m\u001b[0;34m,\u001b[0m \u001b[0;36m15\u001b[0m\u001b[0;34m)\u001b[0m\u001b[0;34m)\u001b[0m\u001b[0;34m\u001b[0m\u001b[0;34m\u001b[0m\u001b[0m\n\u001b[1;32m      3\u001b[0m     \u001b[0mplt\u001b[0m\u001b[0;34m.\u001b[0m\u001b[0msubplot\u001b[0m\u001b[0;34m(\u001b[0m\u001b[0;36m121\u001b[0m\u001b[0;34m)\u001b[0m\u001b[0;34m\u001b[0m\u001b[0;34m\u001b[0m\u001b[0m\n\u001b[0;32m----> 4\u001b[0;31m     \u001b[0mnx\u001b[0m\u001b[0;34m.\u001b[0m\u001b[0mdraw\u001b[0m\u001b[0;34m(\u001b[0m\u001b[0mG\u001b[0m\u001b[0;34m,\u001b[0m \u001b[0mnode_color\u001b[0m\u001b[0;34m=\u001b[0m\u001b[0mcolors\u001b[0m\u001b[0;34m,\u001b[0m \u001b[0mwith_labels\u001b[0m\u001b[0;34m=\u001b[0m\u001b[0;32mTrue\u001b[0m\u001b[0;34m,\u001b[0m \u001b[0mfont_weight\u001b[0m\u001b[0;34m=\u001b[0m\u001b[0;34m'bold'\u001b[0m\u001b[0;34m)\u001b[0m\u001b[0;34m\u001b[0m\u001b[0;34m\u001b[0m\u001b[0m\n\u001b[0m\u001b[1;32m      5\u001b[0m     \u001b[0mplt\u001b[0m\u001b[0;34m.\u001b[0m\u001b[0mshow\u001b[0m\u001b[0;34m(\u001b[0m\u001b[0;34m)\u001b[0m\u001b[0;34m\u001b[0m\u001b[0;34m\u001b[0m\u001b[0m\n",
      "\u001b[0;31mNameError\u001b[0m: name 'colors' is not defined"
     ]
    }
   ],
   "source": [
    "show_graph(G)"
   ]
  },
  {
   "cell_type": "code",
   "execution_count": 9,
   "metadata": {
    "tags": []
   },
   "outputs": [
    {
     "output_type": "display_data",
     "data": {
      "text/plain": "<pandas.io.formats.style.Styler at 0x7f8bd8e2de50>",
      "text/html": "<style  type=\"text/css\" >\n#T_f83f7_row0_col0,#T_f83f7_row0_col4,#T_f83f7_row0_col5,#T_f83f7_row0_col6,#T_f83f7_row0_col7,#T_f83f7_row1_col1,#T_f83f7_row1_col4,#T_f83f7_row1_col5,#T_f83f7_row1_col6,#T_f83f7_row1_col7,#T_f83f7_row2_col2,#T_f83f7_row2_col4,#T_f83f7_row2_col5,#T_f83f7_row2_col6,#T_f83f7_row2_col7,#T_f83f7_row3_col3,#T_f83f7_row3_col5,#T_f83f7_row3_col6,#T_f83f7_row3_col7,#T_f83f7_row4_col0,#T_f83f7_row4_col1,#T_f83f7_row4_col2,#T_f83f7_row4_col4,#T_f83f7_row5_col0,#T_f83f7_row5_col1,#T_f83f7_row5_col2,#T_f83f7_row5_col3,#T_f83f7_row5_col5,#T_f83f7_row6_col0,#T_f83f7_row6_col1,#T_f83f7_row6_col2,#T_f83f7_row6_col3,#T_f83f7_row6_col6,#T_f83f7_row7_col0,#T_f83f7_row7_col1,#T_f83f7_row7_col2,#T_f83f7_row7_col3,#T_f83f7_row7_col7{\n            background-color:  #f0f0f3;\n            color:  #000000;\n        }#T_f83f7_row0_col1,#T_f83f7_row0_col2,#T_f83f7_row0_col3,#T_f83f7_row1_col0,#T_f83f7_row1_col2,#T_f83f7_row1_col3,#T_f83f7_row2_col0,#T_f83f7_row2_col1,#T_f83f7_row2_col3,#T_f83f7_row3_col0,#T_f83f7_row3_col1,#T_f83f7_row3_col2,#T_f83f7_row3_col4,#T_f83f7_row4_col3,#T_f83f7_row4_col5,#T_f83f7_row4_col6,#T_f83f7_row4_col7,#T_f83f7_row5_col4,#T_f83f7_row5_col6,#T_f83f7_row5_col7,#T_f83f7_row6_col4,#T_f83f7_row6_col5,#T_f83f7_row6_col7,#T_f83f7_row7_col4,#T_f83f7_row7_col5,#T_f83f7_row7_col6{\n            background-color:  #0000ff;\n            color:  #f1f1f1;\n        }</style><table id=\"T_f83f7_\" ><thead>    <tr>        <th class=\"blank level0\" ></th>        <th class=\"col_heading level0 col0\" >0</th>        <th class=\"col_heading level0 col1\" >1</th>        <th class=\"col_heading level0 col2\" >2</th>        <th class=\"col_heading level0 col3\" >3</th>        <th class=\"col_heading level0 col4\" >4</th>        <th class=\"col_heading level0 col5\" >5</th>        <th class=\"col_heading level0 col6\" >6</th>        <th class=\"col_heading level0 col7\" >7</th>    </tr></thead><tbody>\n                <tr>\n                        <th id=\"T_f83f7_level0_row0\" class=\"row_heading level0 row0\" >0</th>\n                        <td id=\"T_f83f7_row0_col0\" class=\"data row0 col0\" >0</td>\n                        <td id=\"T_f83f7_row0_col1\" class=\"data row0 col1\" >1</td>\n                        <td id=\"T_f83f7_row0_col2\" class=\"data row0 col2\" >1</td>\n                        <td id=\"T_f83f7_row0_col3\" class=\"data row0 col3\" >1</td>\n                        <td id=\"T_f83f7_row0_col4\" class=\"data row0 col4\" >0</td>\n                        <td id=\"T_f83f7_row0_col5\" class=\"data row0 col5\" >0</td>\n                        <td id=\"T_f83f7_row0_col6\" class=\"data row0 col6\" >0</td>\n                        <td id=\"T_f83f7_row0_col7\" class=\"data row0 col7\" >0</td>\n            </tr>\n            <tr>\n                        <th id=\"T_f83f7_level0_row1\" class=\"row_heading level0 row1\" >1</th>\n                        <td id=\"T_f83f7_row1_col0\" class=\"data row1 col0\" >1</td>\n                        <td id=\"T_f83f7_row1_col1\" class=\"data row1 col1\" >0</td>\n                        <td id=\"T_f83f7_row1_col2\" class=\"data row1 col2\" >1</td>\n                        <td id=\"T_f83f7_row1_col3\" class=\"data row1 col3\" >1</td>\n                        <td id=\"T_f83f7_row1_col4\" class=\"data row1 col4\" >0</td>\n                        <td id=\"T_f83f7_row1_col5\" class=\"data row1 col5\" >0</td>\n                        <td id=\"T_f83f7_row1_col6\" class=\"data row1 col6\" >0</td>\n                        <td id=\"T_f83f7_row1_col7\" class=\"data row1 col7\" >0</td>\n            </tr>\n            <tr>\n                        <th id=\"T_f83f7_level0_row2\" class=\"row_heading level0 row2\" >2</th>\n                        <td id=\"T_f83f7_row2_col0\" class=\"data row2 col0\" >1</td>\n                        <td id=\"T_f83f7_row2_col1\" class=\"data row2 col1\" >1</td>\n                        <td id=\"T_f83f7_row2_col2\" class=\"data row2 col2\" >0</td>\n                        <td id=\"T_f83f7_row2_col3\" class=\"data row2 col3\" >1</td>\n                        <td id=\"T_f83f7_row2_col4\" class=\"data row2 col4\" >0</td>\n                        <td id=\"T_f83f7_row2_col5\" class=\"data row2 col5\" >0</td>\n                        <td id=\"T_f83f7_row2_col6\" class=\"data row2 col6\" >0</td>\n                        <td id=\"T_f83f7_row2_col7\" class=\"data row2 col7\" >0</td>\n            </tr>\n            <tr>\n                        <th id=\"T_f83f7_level0_row3\" class=\"row_heading level0 row3\" >3</th>\n                        <td id=\"T_f83f7_row3_col0\" class=\"data row3 col0\" >1</td>\n                        <td id=\"T_f83f7_row3_col1\" class=\"data row3 col1\" >1</td>\n                        <td id=\"T_f83f7_row3_col2\" class=\"data row3 col2\" >1</td>\n                        <td id=\"T_f83f7_row3_col3\" class=\"data row3 col3\" >0</td>\n                        <td id=\"T_f83f7_row3_col4\" class=\"data row3 col4\" >1</td>\n                        <td id=\"T_f83f7_row3_col5\" class=\"data row3 col5\" >0</td>\n                        <td id=\"T_f83f7_row3_col6\" class=\"data row3 col6\" >0</td>\n                        <td id=\"T_f83f7_row3_col7\" class=\"data row3 col7\" >0</td>\n            </tr>\n            <tr>\n                        <th id=\"T_f83f7_level0_row4\" class=\"row_heading level0 row4\" >4</th>\n                        <td id=\"T_f83f7_row4_col0\" class=\"data row4 col0\" >0</td>\n                        <td id=\"T_f83f7_row4_col1\" class=\"data row4 col1\" >0</td>\n                        <td id=\"T_f83f7_row4_col2\" class=\"data row4 col2\" >0</td>\n                        <td id=\"T_f83f7_row4_col3\" class=\"data row4 col3\" >1</td>\n                        <td id=\"T_f83f7_row4_col4\" class=\"data row4 col4\" >0</td>\n                        <td id=\"T_f83f7_row4_col5\" class=\"data row4 col5\" >1</td>\n                        <td id=\"T_f83f7_row4_col6\" class=\"data row4 col6\" >1</td>\n                        <td id=\"T_f83f7_row4_col7\" class=\"data row4 col7\" >1</td>\n            </tr>\n            <tr>\n                        <th id=\"T_f83f7_level0_row5\" class=\"row_heading level0 row5\" >5</th>\n                        <td id=\"T_f83f7_row5_col0\" class=\"data row5 col0\" >0</td>\n                        <td id=\"T_f83f7_row5_col1\" class=\"data row5 col1\" >0</td>\n                        <td id=\"T_f83f7_row5_col2\" class=\"data row5 col2\" >0</td>\n                        <td id=\"T_f83f7_row5_col3\" class=\"data row5 col3\" >0</td>\n                        <td id=\"T_f83f7_row5_col4\" class=\"data row5 col4\" >1</td>\n                        <td id=\"T_f83f7_row5_col5\" class=\"data row5 col5\" >0</td>\n                        <td id=\"T_f83f7_row5_col6\" class=\"data row5 col6\" >1</td>\n                        <td id=\"T_f83f7_row5_col7\" class=\"data row5 col7\" >1</td>\n            </tr>\n            <tr>\n                        <th id=\"T_f83f7_level0_row6\" class=\"row_heading level0 row6\" >6</th>\n                        <td id=\"T_f83f7_row6_col0\" class=\"data row6 col0\" >0</td>\n                        <td id=\"T_f83f7_row6_col1\" class=\"data row6 col1\" >0</td>\n                        <td id=\"T_f83f7_row6_col2\" class=\"data row6 col2\" >0</td>\n                        <td id=\"T_f83f7_row6_col3\" class=\"data row6 col3\" >0</td>\n                        <td id=\"T_f83f7_row6_col4\" class=\"data row6 col4\" >1</td>\n                        <td id=\"T_f83f7_row6_col5\" class=\"data row6 col5\" >1</td>\n                        <td id=\"T_f83f7_row6_col6\" class=\"data row6 col6\" >0</td>\n                        <td id=\"T_f83f7_row6_col7\" class=\"data row6 col7\" >1</td>\n            </tr>\n            <tr>\n                        <th id=\"T_f83f7_level0_row7\" class=\"row_heading level0 row7\" >7</th>\n                        <td id=\"T_f83f7_row7_col0\" class=\"data row7 col0\" >0</td>\n                        <td id=\"T_f83f7_row7_col1\" class=\"data row7 col1\" >0</td>\n                        <td id=\"T_f83f7_row7_col2\" class=\"data row7 col2\" >0</td>\n                        <td id=\"T_f83f7_row7_col3\" class=\"data row7 col3\" >0</td>\n                        <td id=\"T_f83f7_row7_col4\" class=\"data row7 col4\" >1</td>\n                        <td id=\"T_f83f7_row7_col5\" class=\"data row7 col5\" >1</td>\n                        <td id=\"T_f83f7_row7_col6\" class=\"data row7 col6\" >1</td>\n                        <td id=\"T_f83f7_row7_col7\" class=\"data row7 col7\" >0</td>\n            </tr>\n    </tbody></table>"
     },
     "metadata": {}
    }
   ],
   "source": [
    "A = nx.convert_matrix.to_numpy_array(G, dtype=int)\n",
    "show_matrix(A)"
   ]
  },
  {
   "cell_type": "code",
   "execution_count": 10,
   "metadata": {
    "tags": []
   },
   "outputs": [
    {
     "output_type": "display_data",
     "data": {
      "text/plain": "<pandas.io.formats.style.Styler at 0x7f8bd9736af0>",
      "text/html": "<style  type=\"text/css\" >\n#T_53f86_row0_col0,#T_53f86_row1_col1,#T_53f86_row2_col2,#T_53f86_row3_col3,#T_53f86_row4_col4,#T_53f86_row5_col5,#T_53f86_row6_col6,#T_53f86_row7_col7{\n            background-color:  #0000ff;\n            color:  #f1f1f1;\n        }#T_53f86_row0_col1,#T_53f86_row0_col2,#T_53f86_row0_col3,#T_53f86_row0_col4,#T_53f86_row0_col5,#T_53f86_row0_col6,#T_53f86_row0_col7,#T_53f86_row1_col0,#T_53f86_row1_col2,#T_53f86_row1_col3,#T_53f86_row1_col4,#T_53f86_row1_col5,#T_53f86_row1_col6,#T_53f86_row1_col7,#T_53f86_row2_col0,#T_53f86_row2_col1,#T_53f86_row2_col3,#T_53f86_row2_col4,#T_53f86_row2_col5,#T_53f86_row2_col6,#T_53f86_row2_col7,#T_53f86_row3_col0,#T_53f86_row3_col1,#T_53f86_row3_col2,#T_53f86_row3_col4,#T_53f86_row3_col5,#T_53f86_row3_col6,#T_53f86_row3_col7,#T_53f86_row4_col0,#T_53f86_row4_col1,#T_53f86_row4_col2,#T_53f86_row4_col3,#T_53f86_row4_col5,#T_53f86_row4_col6,#T_53f86_row4_col7,#T_53f86_row5_col0,#T_53f86_row5_col1,#T_53f86_row5_col2,#T_53f86_row5_col3,#T_53f86_row5_col4,#T_53f86_row5_col6,#T_53f86_row5_col7,#T_53f86_row6_col0,#T_53f86_row6_col1,#T_53f86_row6_col2,#T_53f86_row6_col3,#T_53f86_row6_col4,#T_53f86_row6_col5,#T_53f86_row6_col7,#T_53f86_row7_col0,#T_53f86_row7_col1,#T_53f86_row7_col2,#T_53f86_row7_col3,#T_53f86_row7_col4,#T_53f86_row7_col5,#T_53f86_row7_col6{\n            background-color:  #f0f0f3;\n            color:  #000000;\n        }</style><table id=\"T_53f86_\" ><thead>    <tr>        <th class=\"blank level0\" ></th>        <th class=\"col_heading level0 col0\" >0</th>        <th class=\"col_heading level0 col1\" >1</th>        <th class=\"col_heading level0 col2\" >2</th>        <th class=\"col_heading level0 col3\" >3</th>        <th class=\"col_heading level0 col4\" >4</th>        <th class=\"col_heading level0 col5\" >5</th>        <th class=\"col_heading level0 col6\" >6</th>        <th class=\"col_heading level0 col7\" >7</th>    </tr></thead><tbody>\n                <tr>\n                        <th id=\"T_53f86_level0_row0\" class=\"row_heading level0 row0\" >0</th>\n                        <td id=\"T_53f86_row0_col0\" class=\"data row0 col0\" >3</td>\n                        <td id=\"T_53f86_row0_col1\" class=\"data row0 col1\" >0</td>\n                        <td id=\"T_53f86_row0_col2\" class=\"data row0 col2\" >0</td>\n                        <td id=\"T_53f86_row0_col3\" class=\"data row0 col3\" >0</td>\n                        <td id=\"T_53f86_row0_col4\" class=\"data row0 col4\" >0</td>\n                        <td id=\"T_53f86_row0_col5\" class=\"data row0 col5\" >0</td>\n                        <td id=\"T_53f86_row0_col6\" class=\"data row0 col6\" >0</td>\n                        <td id=\"T_53f86_row0_col7\" class=\"data row0 col7\" >0</td>\n            </tr>\n            <tr>\n                        <th id=\"T_53f86_level0_row1\" class=\"row_heading level0 row1\" >1</th>\n                        <td id=\"T_53f86_row1_col0\" class=\"data row1 col0\" >0</td>\n                        <td id=\"T_53f86_row1_col1\" class=\"data row1 col1\" >3</td>\n                        <td id=\"T_53f86_row1_col2\" class=\"data row1 col2\" >0</td>\n                        <td id=\"T_53f86_row1_col3\" class=\"data row1 col3\" >0</td>\n                        <td id=\"T_53f86_row1_col4\" class=\"data row1 col4\" >0</td>\n                        <td id=\"T_53f86_row1_col5\" class=\"data row1 col5\" >0</td>\n                        <td id=\"T_53f86_row1_col6\" class=\"data row1 col6\" >0</td>\n                        <td id=\"T_53f86_row1_col7\" class=\"data row1 col7\" >0</td>\n            </tr>\n            <tr>\n                        <th id=\"T_53f86_level0_row2\" class=\"row_heading level0 row2\" >2</th>\n                        <td id=\"T_53f86_row2_col0\" class=\"data row2 col0\" >0</td>\n                        <td id=\"T_53f86_row2_col1\" class=\"data row2 col1\" >0</td>\n                        <td id=\"T_53f86_row2_col2\" class=\"data row2 col2\" >3</td>\n                        <td id=\"T_53f86_row2_col3\" class=\"data row2 col3\" >0</td>\n                        <td id=\"T_53f86_row2_col4\" class=\"data row2 col4\" >0</td>\n                        <td id=\"T_53f86_row2_col5\" class=\"data row2 col5\" >0</td>\n                        <td id=\"T_53f86_row2_col6\" class=\"data row2 col6\" >0</td>\n                        <td id=\"T_53f86_row2_col7\" class=\"data row2 col7\" >0</td>\n            </tr>\n            <tr>\n                        <th id=\"T_53f86_level0_row3\" class=\"row_heading level0 row3\" >3</th>\n                        <td id=\"T_53f86_row3_col0\" class=\"data row3 col0\" >0</td>\n                        <td id=\"T_53f86_row3_col1\" class=\"data row3 col1\" >0</td>\n                        <td id=\"T_53f86_row3_col2\" class=\"data row3 col2\" >0</td>\n                        <td id=\"T_53f86_row3_col3\" class=\"data row3 col3\" >4</td>\n                        <td id=\"T_53f86_row3_col4\" class=\"data row3 col4\" >0</td>\n                        <td id=\"T_53f86_row3_col5\" class=\"data row3 col5\" >0</td>\n                        <td id=\"T_53f86_row3_col6\" class=\"data row3 col6\" >0</td>\n                        <td id=\"T_53f86_row3_col7\" class=\"data row3 col7\" >0</td>\n            </tr>\n            <tr>\n                        <th id=\"T_53f86_level0_row4\" class=\"row_heading level0 row4\" >4</th>\n                        <td id=\"T_53f86_row4_col0\" class=\"data row4 col0\" >0</td>\n                        <td id=\"T_53f86_row4_col1\" class=\"data row4 col1\" >0</td>\n                        <td id=\"T_53f86_row4_col2\" class=\"data row4 col2\" >0</td>\n                        <td id=\"T_53f86_row4_col3\" class=\"data row4 col3\" >0</td>\n                        <td id=\"T_53f86_row4_col4\" class=\"data row4 col4\" >4</td>\n                        <td id=\"T_53f86_row4_col5\" class=\"data row4 col5\" >0</td>\n                        <td id=\"T_53f86_row4_col6\" class=\"data row4 col6\" >0</td>\n                        <td id=\"T_53f86_row4_col7\" class=\"data row4 col7\" >0</td>\n            </tr>\n            <tr>\n                        <th id=\"T_53f86_level0_row5\" class=\"row_heading level0 row5\" >5</th>\n                        <td id=\"T_53f86_row5_col0\" class=\"data row5 col0\" >0</td>\n                        <td id=\"T_53f86_row5_col1\" class=\"data row5 col1\" >0</td>\n                        <td id=\"T_53f86_row5_col2\" class=\"data row5 col2\" >0</td>\n                        <td id=\"T_53f86_row5_col3\" class=\"data row5 col3\" >0</td>\n                        <td id=\"T_53f86_row5_col4\" class=\"data row5 col4\" >0</td>\n                        <td id=\"T_53f86_row5_col5\" class=\"data row5 col5\" >3</td>\n                        <td id=\"T_53f86_row5_col6\" class=\"data row5 col6\" >0</td>\n                        <td id=\"T_53f86_row5_col7\" class=\"data row5 col7\" >0</td>\n            </tr>\n            <tr>\n                        <th id=\"T_53f86_level0_row6\" class=\"row_heading level0 row6\" >6</th>\n                        <td id=\"T_53f86_row6_col0\" class=\"data row6 col0\" >0</td>\n                        <td id=\"T_53f86_row6_col1\" class=\"data row6 col1\" >0</td>\n                        <td id=\"T_53f86_row6_col2\" class=\"data row6 col2\" >0</td>\n                        <td id=\"T_53f86_row6_col3\" class=\"data row6 col3\" >0</td>\n                        <td id=\"T_53f86_row6_col4\" class=\"data row6 col4\" >0</td>\n                        <td id=\"T_53f86_row6_col5\" class=\"data row6 col5\" >0</td>\n                        <td id=\"T_53f86_row6_col6\" class=\"data row6 col6\" >3</td>\n                        <td id=\"T_53f86_row6_col7\" class=\"data row6 col7\" >0</td>\n            </tr>\n            <tr>\n                        <th id=\"T_53f86_level0_row7\" class=\"row_heading level0 row7\" >7</th>\n                        <td id=\"T_53f86_row7_col0\" class=\"data row7 col0\" >0</td>\n                        <td id=\"T_53f86_row7_col1\" class=\"data row7 col1\" >0</td>\n                        <td id=\"T_53f86_row7_col2\" class=\"data row7 col2\" >0</td>\n                        <td id=\"T_53f86_row7_col3\" class=\"data row7 col3\" >0</td>\n                        <td id=\"T_53f86_row7_col4\" class=\"data row7 col4\" >0</td>\n                        <td id=\"T_53f86_row7_col5\" class=\"data row7 col5\" >0</td>\n                        <td id=\"T_53f86_row7_col6\" class=\"data row7 col6\" >0</td>\n                        <td id=\"T_53f86_row7_col7\" class=\"data row7 col7\" >3</td>\n            </tr>\n    </tbody></table>"
     },
     "metadata": {}
    }
   ],
   "source": [
    "DergeeList = list(G.degree)\n",
    "D = np.zeros((G.number_of_nodes(), G.number_of_nodes()),dtype=int)\n",
    "for node in range(len(DergeeList)):\n",
    "    D[node][node] = DergeeList[node][1]\n",
    "\n",
    "show_matrix(D)"
   ]
  },
  {
   "cell_type": "code",
   "execution_count": 11,
   "metadata": {
    "tags": []
   },
   "outputs": [
    {
     "output_type": "display_data",
     "data": {
      "text/plain": "<pandas.io.formats.style.Styler at 0x7f8bd973ab50>",
      "text/html": "<style  type=\"text/css\" >\n#T_ea35c_row0_col0,#T_ea35c_row1_col1,#T_ea35c_row2_col2,#T_ea35c_row3_col3,#T_ea35c_row4_col4,#T_ea35c_row5_col5,#T_ea35c_row6_col6,#T_ea35c_row7_col7{\n            background-color:  #0000ff;\n            color:  #f1f1f1;\n        }#T_ea35c_row0_col1,#T_ea35c_row0_col2,#T_ea35c_row0_col3,#T_ea35c_row1_col0,#T_ea35c_row1_col2,#T_ea35c_row1_col3,#T_ea35c_row2_col0,#T_ea35c_row2_col1,#T_ea35c_row2_col3,#T_ea35c_row3_col0,#T_ea35c_row3_col1,#T_ea35c_row3_col2,#T_ea35c_row3_col4,#T_ea35c_row4_col3,#T_ea35c_row4_col5,#T_ea35c_row4_col6,#T_ea35c_row4_col7,#T_ea35c_row5_col4,#T_ea35c_row5_col6,#T_ea35c_row5_col7,#T_ea35c_row6_col4,#T_ea35c_row6_col5,#T_ea35c_row6_col7,#T_ea35c_row7_col4,#T_ea35c_row7_col5,#T_ea35c_row7_col6{\n            background-color:  #f0f0f3;\n            color:  #000000;\n        }#T_ea35c_row0_col4,#T_ea35c_row1_col4,#T_ea35c_row2_col4,#T_ea35c_row5_col3,#T_ea35c_row6_col3,#T_ea35c_row7_col3{\n            background-color:  #c0c0f5;\n            color:  #000000;\n        }#T_ea35c_row0_col5,#T_ea35c_row0_col6,#T_ea35c_row0_col7,#T_ea35c_row1_col5,#T_ea35c_row1_col6,#T_ea35c_row1_col7,#T_ea35c_row2_col5,#T_ea35c_row2_col6,#T_ea35c_row2_col7,#T_ea35c_row3_col5,#T_ea35c_row3_col6,#T_ea35c_row3_col7,#T_ea35c_row4_col0,#T_ea35c_row4_col1,#T_ea35c_row4_col2,#T_ea35c_row5_col0,#T_ea35c_row5_col1,#T_ea35c_row5_col2,#T_ea35c_row6_col0,#T_ea35c_row6_col1,#T_ea35c_row6_col2,#T_ea35c_row7_col0,#T_ea35c_row7_col1,#T_ea35c_row7_col2{\n            background-color:  #b4b4f6;\n            color:  #000000;\n        }</style><table id=\"T_ea35c_\" ><thead>    <tr>        <th class=\"blank level0\" ></th>        <th class=\"col_heading level0 col0\" >0</th>        <th class=\"col_heading level0 col1\" >1</th>        <th class=\"col_heading level0 col2\" >2</th>        <th class=\"col_heading level0 col3\" >3</th>        <th class=\"col_heading level0 col4\" >4</th>        <th class=\"col_heading level0 col5\" >5</th>        <th class=\"col_heading level0 col6\" >6</th>        <th class=\"col_heading level0 col7\" >7</th>    </tr></thead><tbody>\n                <tr>\n                        <th id=\"T_ea35c_level0_row0\" class=\"row_heading level0 row0\" >0</th>\n                        <td id=\"T_ea35c_row0_col0\" class=\"data row0 col0\" >3</td>\n                        <td id=\"T_ea35c_row0_col1\" class=\"data row0 col1\" >-1</td>\n                        <td id=\"T_ea35c_row0_col2\" class=\"data row0 col2\" >-1</td>\n                        <td id=\"T_ea35c_row0_col3\" class=\"data row0 col3\" >-1</td>\n                        <td id=\"T_ea35c_row0_col4\" class=\"data row0 col4\" >0</td>\n                        <td id=\"T_ea35c_row0_col5\" class=\"data row0 col5\" >0</td>\n                        <td id=\"T_ea35c_row0_col6\" class=\"data row0 col6\" >0</td>\n                        <td id=\"T_ea35c_row0_col7\" class=\"data row0 col7\" >0</td>\n            </tr>\n            <tr>\n                        <th id=\"T_ea35c_level0_row1\" class=\"row_heading level0 row1\" >1</th>\n                        <td id=\"T_ea35c_row1_col0\" class=\"data row1 col0\" >-1</td>\n                        <td id=\"T_ea35c_row1_col1\" class=\"data row1 col1\" >3</td>\n                        <td id=\"T_ea35c_row1_col2\" class=\"data row1 col2\" >-1</td>\n                        <td id=\"T_ea35c_row1_col3\" class=\"data row1 col3\" >-1</td>\n                        <td id=\"T_ea35c_row1_col4\" class=\"data row1 col4\" >0</td>\n                        <td id=\"T_ea35c_row1_col5\" class=\"data row1 col5\" >0</td>\n                        <td id=\"T_ea35c_row1_col6\" class=\"data row1 col6\" >0</td>\n                        <td id=\"T_ea35c_row1_col7\" class=\"data row1 col7\" >0</td>\n            </tr>\n            <tr>\n                        <th id=\"T_ea35c_level0_row2\" class=\"row_heading level0 row2\" >2</th>\n                        <td id=\"T_ea35c_row2_col0\" class=\"data row2 col0\" >-1</td>\n                        <td id=\"T_ea35c_row2_col1\" class=\"data row2 col1\" >-1</td>\n                        <td id=\"T_ea35c_row2_col2\" class=\"data row2 col2\" >3</td>\n                        <td id=\"T_ea35c_row2_col3\" class=\"data row2 col3\" >-1</td>\n                        <td id=\"T_ea35c_row2_col4\" class=\"data row2 col4\" >0</td>\n                        <td id=\"T_ea35c_row2_col5\" class=\"data row2 col5\" >0</td>\n                        <td id=\"T_ea35c_row2_col6\" class=\"data row2 col6\" >0</td>\n                        <td id=\"T_ea35c_row2_col7\" class=\"data row2 col7\" >0</td>\n            </tr>\n            <tr>\n                        <th id=\"T_ea35c_level0_row3\" class=\"row_heading level0 row3\" >3</th>\n                        <td id=\"T_ea35c_row3_col0\" class=\"data row3 col0\" >-1</td>\n                        <td id=\"T_ea35c_row3_col1\" class=\"data row3 col1\" >-1</td>\n                        <td id=\"T_ea35c_row3_col2\" class=\"data row3 col2\" >-1</td>\n                        <td id=\"T_ea35c_row3_col3\" class=\"data row3 col3\" >4</td>\n                        <td id=\"T_ea35c_row3_col4\" class=\"data row3 col4\" >-1</td>\n                        <td id=\"T_ea35c_row3_col5\" class=\"data row3 col5\" >0</td>\n                        <td id=\"T_ea35c_row3_col6\" class=\"data row3 col6\" >0</td>\n                        <td id=\"T_ea35c_row3_col7\" class=\"data row3 col7\" >0</td>\n            </tr>\n            <tr>\n                        <th id=\"T_ea35c_level0_row4\" class=\"row_heading level0 row4\" >4</th>\n                        <td id=\"T_ea35c_row4_col0\" class=\"data row4 col0\" >0</td>\n                        <td id=\"T_ea35c_row4_col1\" class=\"data row4 col1\" >0</td>\n                        <td id=\"T_ea35c_row4_col2\" class=\"data row4 col2\" >0</td>\n                        <td id=\"T_ea35c_row4_col3\" class=\"data row4 col3\" >-1</td>\n                        <td id=\"T_ea35c_row4_col4\" class=\"data row4 col4\" >4</td>\n                        <td id=\"T_ea35c_row4_col5\" class=\"data row4 col5\" >-1</td>\n                        <td id=\"T_ea35c_row4_col6\" class=\"data row4 col6\" >-1</td>\n                        <td id=\"T_ea35c_row4_col7\" class=\"data row4 col7\" >-1</td>\n            </tr>\n            <tr>\n                        <th id=\"T_ea35c_level0_row5\" class=\"row_heading level0 row5\" >5</th>\n                        <td id=\"T_ea35c_row5_col0\" class=\"data row5 col0\" >0</td>\n                        <td id=\"T_ea35c_row5_col1\" class=\"data row5 col1\" >0</td>\n                        <td id=\"T_ea35c_row5_col2\" class=\"data row5 col2\" >0</td>\n                        <td id=\"T_ea35c_row5_col3\" class=\"data row5 col3\" >0</td>\n                        <td id=\"T_ea35c_row5_col4\" class=\"data row5 col4\" >-1</td>\n                        <td id=\"T_ea35c_row5_col5\" class=\"data row5 col5\" >3</td>\n                        <td id=\"T_ea35c_row5_col6\" class=\"data row5 col6\" >-1</td>\n                        <td id=\"T_ea35c_row5_col7\" class=\"data row5 col7\" >-1</td>\n            </tr>\n            <tr>\n                        <th id=\"T_ea35c_level0_row6\" class=\"row_heading level0 row6\" >6</th>\n                        <td id=\"T_ea35c_row6_col0\" class=\"data row6 col0\" >0</td>\n                        <td id=\"T_ea35c_row6_col1\" class=\"data row6 col1\" >0</td>\n                        <td id=\"T_ea35c_row6_col2\" class=\"data row6 col2\" >0</td>\n                        <td id=\"T_ea35c_row6_col3\" class=\"data row6 col3\" >0</td>\n                        <td id=\"T_ea35c_row6_col4\" class=\"data row6 col4\" >-1</td>\n                        <td id=\"T_ea35c_row6_col5\" class=\"data row6 col5\" >-1</td>\n                        <td id=\"T_ea35c_row6_col6\" class=\"data row6 col6\" >3</td>\n                        <td id=\"T_ea35c_row6_col7\" class=\"data row6 col7\" >-1</td>\n            </tr>\n            <tr>\n                        <th id=\"T_ea35c_level0_row7\" class=\"row_heading level0 row7\" >7</th>\n                        <td id=\"T_ea35c_row7_col0\" class=\"data row7 col0\" >0</td>\n                        <td id=\"T_ea35c_row7_col1\" class=\"data row7 col1\" >0</td>\n                        <td id=\"T_ea35c_row7_col2\" class=\"data row7 col2\" >0</td>\n                        <td id=\"T_ea35c_row7_col3\" class=\"data row7 col3\" >0</td>\n                        <td id=\"T_ea35c_row7_col4\" class=\"data row7 col4\" >-1</td>\n                        <td id=\"T_ea35c_row7_col5\" class=\"data row7 col5\" >-1</td>\n                        <td id=\"T_ea35c_row7_col6\" class=\"data row7 col6\" >-1</td>\n                        <td id=\"T_ea35c_row7_col7\" class=\"data row7 col7\" >3</td>\n            </tr>\n    </tbody></table>"
     },
     "metadata": {}
    }
   ],
   "source": [
    "Lap = D - A\n",
    "show_matrix(Lap)"
   ]
  },
  {
   "cell_type": "code",
   "execution_count": 12,
   "metadata": {
    "tags": []
   },
   "outputs": [
    {
     "output_type": "stream",
     "name": "stdout",
     "text": "[0.0, 4.0, 4.0, 4.0, 4.0, 4.0, 0.3542486889354094, 5.645751311064591]\n[[1.0, 1.0, 1.0, 1.0, 1.0, 1.0, 1.0, 1.0], [-1.0, 1.0, 0.0, 0.0, 0.0, 0.0, 0.0, 0.0], [-1.0, 0.0, 1.0, 0.0, 0.0, 0.0, 0.0, 0.0], [1.0, 0.0, 0.0, -1.0, -1.0, 1.0, 0.0, 0.0], [1.0, 0.0, 0.0, -1.0, -1.0, 0.0, 1.0, 0.0], [1.0, 0.0, 0.0, -1.0, -1.0, 0.0, 0.0, 1.0], [-1.0, -1.0, -1.0, -0.6457513110645906, 0.6457513110645906, 1.0, 1.0, 1.0], [-1.0, -1.0, -1.0, 4.645751311064591, -4.645751311064591, 1.0, 1.0, 1.0]]\n"
    }
   ],
   "source": [
    "eiegen_vals, eigen_vecs = get_not_normal_eigen(Lap)\n",
    "print (eiegen_vals)\n",
    "print (eigen_vecs)"
   ]
  },
  {
   "cell_type": "code",
   "execution_count": 13,
   "metadata": {
    "tags": []
   },
   "outputs": [
    {
     "output_type": "stream",
     "name": "stdout",
     "text": "label_vector: \n[0. 0. 0. 0. 0. 0. 0. 0.]\nmedian: \n1.0\nlabel_vector2: \n[0. 0. 0. 0. 0. 0. 0. 0.]\nlabel vector\n[0. 0. 0. 0. 0. 0. 0. 0.]\n"
    }
   ],
   "source": [
    "# evals,evecs = calculate_second_egein(Lap)\n",
    "second_vector = eigen_vecs[0]\n",
    "label_vector = np.zeros(len(second_vector))\n",
    "print (\"label_vector: \")\n",
    "print(label_vector)\n",
    "median = np.median(second_vector)\n",
    "print (\"median: \")\n",
    "print (median)\n",
    "label_vector[second_vector>median]=1\n",
    "label_vector[second_vector<=median]=0\n",
    "print (\"label_vector2: \")\n",
    "print(label_vector)\n",
    "color_map = []\n",
    "for i in label_vector:\n",
    "    if i == 0:\n",
    "        color_map.append('red')\n",
    "    else:\n",
    "        color_map.append('green')\n",
    "print (\"label vector\")\n",
    "print (label_vector)"
   ]
  },
  {
   "cell_type": "code",
   "execution_count": 14,
   "metadata": {},
   "outputs": [
    {
     "output_type": "error",
     "ename": "NameError",
     "evalue": "name 'pos' is not defined",
     "traceback": [
      "\u001b[0;31m---------------------------------------------------------------------------\u001b[0m",
      "\u001b[0;31mNameError\u001b[0m                                 Traceback (most recent call last)",
      "\u001b[0;32m<ipython-input-14-4a611502959f>\u001b[0m in \u001b[0;36m<module>\u001b[0;34m\u001b[0m\n\u001b[1;32m      1\u001b[0m \u001b[0mplt\u001b[0m\u001b[0;34m.\u001b[0m\u001b[0mfigure\u001b[0m\u001b[0;34m(\u001b[0m\u001b[0mfigsize\u001b[0m\u001b[0;34m=\u001b[0m\u001b[0;34m(\u001b[0m\u001b[0;36m8\u001b[0m\u001b[0;34m,\u001b[0m \u001b[0;36m8\u001b[0m\u001b[0;34m)\u001b[0m\u001b[0;34m)\u001b[0m\u001b[0;34m\u001b[0m\u001b[0;34m\u001b[0m\u001b[0m\n\u001b[0;32m----> 2\u001b[0;31m \u001b[0mnx\u001b[0m\u001b[0;34m.\u001b[0m\u001b[0mdraw_networkx_edges\u001b[0m\u001b[0;34m(\u001b[0m\u001b[0mG\u001b[0m\u001b[0;34m,\u001b[0m \u001b[0mpos\u001b[0m\u001b[0;34m,\u001b[0m \u001b[0mnodelist\u001b[0m\u001b[0;34m=\u001b[0m\u001b[0;34m[\u001b[0m\u001b[0mncenter\u001b[0m\u001b[0;34m]\u001b[0m\u001b[0;34m,\u001b[0m \u001b[0malpha\u001b[0m\u001b[0;34m=\u001b[0m\u001b[0;36m0.4\u001b[0m\u001b[0;34m)\u001b[0m\u001b[0;34m\u001b[0m\u001b[0;34m\u001b[0m\u001b[0m\n\u001b[0m\u001b[1;32m      3\u001b[0m nx.draw_networkx_nodes(\n\u001b[1;32m      4\u001b[0m     \u001b[0mG\u001b[0m\u001b[0;34m,\u001b[0m\u001b[0;34m\u001b[0m\u001b[0;34m\u001b[0m\u001b[0m\n\u001b[1;32m      5\u001b[0m     \u001b[0mpos\u001b[0m\u001b[0;34m,\u001b[0m\u001b[0;34m\u001b[0m\u001b[0;34m\u001b[0m\u001b[0m\n",
      "\u001b[0;31mNameError\u001b[0m: name 'pos' is not defined"
     ]
    }
   ],
   "source": [
    "plt.figure(figsize=(8, 8))\n",
    "nx.draw_networkx_edges(G, pos, nodelist=[ncenter], alpha=0.4)\n",
    "nx.draw_networkx_nodes(\n",
    "    G,\n",
    "    pos,\n",
    "    nodelist=list(p.keys()),\n",
    "    node_size=80,\n",
    "    node_color=color_map,\n",
    "    cmap=plt.cm.Reds_r,\n",
    ")\n",
    "nx.draw_networkx_labels(G,pos,labels,font_size=7)\n",
    "plt.xlim(-0.05, 1.05)\n",
    "plt.ylim(-0.05, 1.05)\n",
    "plt.axis(\"off\")\n",
    "plt.show()"
   ]
  },
  {
   "cell_type": "code",
   "execution_count": 16,
   "metadata": {
    "tags": []
   },
   "outputs": [
    {
     "output_type": "stream",
     "name": "stdout",
     "text": "label_vector: \n[0. 0. 0. 0. 0. 0. 0. 0.]\nmedian: \n1.0\nlabel_vector2: \n[0. 0. 0. 0. 0. 0. 0. 0.]\n0.0\n0.0\n0.0\n0.0\n0.0\n0.0\n0.0\n0.0\nlabel vector\n[0. 0. 0. 0. 0. 0. 0. 0.]\n"
    }
   ],
   "source": [
    "second_vector = eigen_vecs[0]\n",
    "label_vector = np.zeros(len(second_vector))\n",
    "print (\"label_vector: \")\n",
    "print(label_vector)\n",
    "median = np.median(second_vector)\n",
    "print (\"median: \")\n",
    "print (median)\n",
    "label_vector[second_vector>median]=1\n",
    "label_vector[second_vector<=median]=0\n",
    "print (\"label_vector2: \")\n",
    "print(label_vector)\n",
    "color_map = []\n",
    "for i in label_vector:\n",
    "    print(i)\n",
    "    if i == 0:\n",
    "        color_map.append('red')\n",
    "    else:\n",
    "        color_map.append('green')\n",
    "print (\"label vector\")\n",
    "print (label_vector)"
   ]
  },
  {
   "cell_type": "code",
   "execution_count": 17,
   "metadata": {
    "tags": []
   },
   "outputs": [
    {
     "output_type": "stream",
     "name": "stdout",
     "text": "[0 6 1 2 3 4 5 7]\n"
    },
    {
     "output_type": "error",
     "ename": "TypeError",
     "evalue": "only integer scalar arrays can be converted to a scalar index",
     "traceback": [
      "\u001b[0;31m---------------------------------------------------------------------------\u001b[0m",
      "\u001b[0;31mTypeError\u001b[0m                                 Traceback (most recent call last)",
      "\u001b[0;32m<ipython-input-17-4938d48fb0f1>\u001b[0m in \u001b[0;36m<module>\u001b[0;34m\u001b[0m\n\u001b[1;32m      3\u001b[0m \u001b[0midx\u001b[0m \u001b[0;34m=\u001b[0m \u001b[0mnp\u001b[0m\u001b[0;34m.\u001b[0m\u001b[0margsort\u001b[0m\u001b[0;34m(\u001b[0m\u001b[0mevals\u001b[0m\u001b[0;34m)\u001b[0m\u001b[0;34m\u001b[0m\u001b[0;34m\u001b[0m\u001b[0m\n\u001b[1;32m      4\u001b[0m \u001b[0mprint\u001b[0m\u001b[0;34m(\u001b[0m\u001b[0midx\u001b[0m\u001b[0;34m)\u001b[0m\u001b[0;34m\u001b[0m\u001b[0;34m\u001b[0m\u001b[0m\n\u001b[0;32m----> 5\u001b[0;31m \u001b[0mval\u001b[0m \u001b[0;34m=\u001b[0m \u001b[0mevals\u001b[0m\u001b[0;34m[\u001b[0m\u001b[0midx\u001b[0m\u001b[0;34m]\u001b[0m\u001b[0;34m\u001b[0m\u001b[0;34m\u001b[0m\u001b[0m\n\u001b[0m\u001b[1;32m      6\u001b[0m \u001b[0mvec\u001b[0m \u001b[0;34m=\u001b[0m \u001b[0mevecs\u001b[0m\u001b[0;34m[\u001b[0m\u001b[0midx\u001b[0m\u001b[0;34m[\u001b[0m\u001b[0;36m1\u001b[0m\u001b[0;34m]\u001b[0m\u001b[0;34m]\u001b[0m\u001b[0;34m\u001b[0m\u001b[0;34m\u001b[0m\u001b[0m\n\u001b[1;32m      7\u001b[0m \u001b[0mprint\u001b[0m \u001b[0;34m(\u001b[0m\u001b[0mval\u001b[0m\u001b[0;34m)\u001b[0m\u001b[0;34m\u001b[0m\u001b[0;34m\u001b[0m\u001b[0m\n",
      "\u001b[0;31mTypeError\u001b[0m: only integer scalar arrays can be converted to a scalar index"
     ]
    }
   ],
   "source": [
    "evals,evecs = get_not_normal_eigen(Lap)\n",
    "# print(evals)\n",
    "idx = np.argsort(evals)\n",
    "print(idx)\n",
    "val = evals[idx]\n",
    "vec = evecs[idx[1]]\n",
    "print (val)\n",
    "print (vec)"
   ]
  },
  {
   "cell_type": "code",
   "execution_count": 20,
   "metadata": {
    "tags": []
   },
   "outputs": [
    {
     "output_type": "stream",
     "name": "stdout",
     "text": "[0.0, 4.0, 4.0, 4.0, 4.0, 4.0, 0.3542486889354094, 5.645751311064591]\n[[1.0, 1.0, 1.0, 1.0, 1.0, 1.0, 1.0, 1.0], [-1.0, 1.0, 0.0, 0.0, 0.0, 0.0, 0.0, 0.0], [-1.0, 0.0, 1.0, 0.0, 0.0, 0.0, 0.0, 0.0], [1.0, 0.0, 0.0, -1.0, -1.0, 1.0, 0.0, 0.0], [1.0, 0.0, 0.0, -1.0, -1.0, 0.0, 1.0, 0.0], [1.0, 0.0, 0.0, -1.0, -1.0, 0.0, 0.0, 1.0], [-1.0, -1.0, -1.0, -0.6457513110645906, 0.6457513110645906, 1.0, 1.0, 1.0], [-1.0, -1.0, -1.0, 4.645751311064591, -4.645751311064591, 1.0, 1.0, 1.0]]\nNon sorted vectors\nevals\n[0.0, 4.0, 4.0, 4.0, 4.0, 4.0, 0.3542486889354094, 5.645751311064591]\n[-1.         -1.         -1.         -0.64575131  0.64575131  1.\n  1.          1.        ]\nmedian: \n0.0\nlabel vector\n[0. 0. 0. 0. 1. 1. 1. 1.]\n"
    }
   ],
   "source": [
    "L_norm = nx.normalized_laplacian_matrix(G)\n",
    "#evals,evecs = calculate_eigen(Lap)\n",
    "evals,evecs = get_not_normal_eigen(Lap)\n",
    "print(evals)\n",
    "print(evecs)\n",
    "# idx = np.argsort(evals)\n",
    "# val = evals[idx]\n",
    "# vec = evecs[idx]\n",
    "# print (val)\n",
    "# print (vec)\n",
    "#print (\"Sorted vectors\")\n",
    "# show_vec_array(evecs,1)\n",
    "print (\"Non sorted vectors\")\n",
    "# show_vec_array(evecs,0)\n",
    "second_vector = evecs[6]\n",
    "print (\"evals\")\n",
    "print (evals)\n",
    "print (np.transpose(second_vector))\n",
    "label_vector = np.zeros(len(second_vector))\n",
    "median = np.median(second_vector)\n",
    "print (\"median: \")\n",
    "print (median)\n",
    "label_vector[second_vector>median]=1\n",
    "label_vector[second_vector<median]=0\n",
    "color_map = []\n",
    "for i in label_vector:\n",
    "    if i == 0:\n",
    "        color_map.append('red')\n",
    "    else:\n",
    "        color_map.append('green')\n",
    "print (\"label vector\")\n",
    "print (label_vector)"
   ]
  },
  {
   "cell_type": "code",
   "execution_count": 21,
   "metadata": {},
   "outputs": [
    {
     "output_type": "error",
     "ename": "NameError",
     "evalue": "name 'draw_graph' is not defined",
     "traceback": [
      "\u001b[0;31m---------------------------------------------------------------------------\u001b[0m",
      "\u001b[0;31mNameError\u001b[0m                                 Traceback (most recent call last)",
      "\u001b[0;32m<ipython-input-21-8d1835fdbf67>\u001b[0m in \u001b[0;36m<module>\u001b[0;34m\u001b[0m\n\u001b[1;32m      1\u001b[0m \u001b[0mplt\u001b[0m\u001b[0;34m.\u001b[0m\u001b[0mfigure\u001b[0m\u001b[0;34m(\u001b[0m\u001b[0mfigsize\u001b[0m\u001b[0;34m=\u001b[0m\u001b[0;34m(\u001b[0m\u001b[0;36m8\u001b[0m\u001b[0;34m,\u001b[0m \u001b[0;36m8\u001b[0m\u001b[0;34m)\u001b[0m\u001b[0;34m)\u001b[0m\u001b[0;34m\u001b[0m\u001b[0;34m\u001b[0m\u001b[0m\n\u001b[0;32m----> 2\u001b[0;31m \u001b[0mdraw_graph\u001b[0m\u001b[0;34m(\u001b[0m\u001b[0mG\u001b[0m\u001b[0;34m,\u001b[0m\u001b[0mp\u001b[0m\u001b[0;34m,\u001b[0m\u001b[0mpos\u001b[0m\u001b[0;34m,\u001b[0m\u001b[0mncenter\u001b[0m\u001b[0;34m,\u001b[0m\u001b[0mlabels\u001b[0m\u001b[0;34m,\u001b[0m\u001b[0mcolor_map\u001b[0m\u001b[0;34m,\u001b[0m\u001b[0;36m0\u001b[0m\u001b[0;34m)\u001b[0m\u001b[0;34m\u001b[0m\u001b[0;34m\u001b[0m\u001b[0m\n\u001b[0m\u001b[1;32m      3\u001b[0m \u001b[0mplt\u001b[0m\u001b[0;34m.\u001b[0m\u001b[0maxis\u001b[0m\u001b[0;34m(\u001b[0m\u001b[0;34m\"off\"\u001b[0m\u001b[0;34m)\u001b[0m\u001b[0;34m\u001b[0m\u001b[0;34m\u001b[0m\u001b[0m\n\u001b[1;32m      4\u001b[0m \u001b[0mplt\u001b[0m\u001b[0;34m.\u001b[0m\u001b[0mshow\u001b[0m\u001b[0;34m(\u001b[0m\u001b[0;34m)\u001b[0m\u001b[0;34m\u001b[0m\u001b[0;34m\u001b[0m\u001b[0m\n",
      "\u001b[0;31mNameError\u001b[0m: name 'draw_graph' is not defined"
     ]
    }
   ],
   "source": [
    "plt.figure(figsize=(8, 8))\n",
    "draw_graph(G,p,pos,ncenter,labels,color_map,0)\n",
    "plt.axis(\"off\")\n",
    "plt.show()"
   ]
  },
  {
   "cell_type": "code",
   "execution_count": null,
   "metadata": {},
   "outputs": [],
   "source": []
  }
 ]
}