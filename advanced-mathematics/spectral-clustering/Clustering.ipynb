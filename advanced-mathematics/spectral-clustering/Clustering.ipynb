{
 "metadata": {
  "language_info": {
   "codemirror_mode": {
    "name": "ipython",
    "version": 3
   },
   "file_extension": ".py",
   "mimetype": "text/x-python",
   "name": "python",
   "nbconvert_exporter": "python",
   "pygments_lexer": "ipython3",
   "version": "3.8.5-final"
  },
  "orig_nbformat": 2,
  "kernelspec": {
   "name": "python_defaultSpec_1613213448827",
   "display_name": "Python 3.8.5 64-bit",
   "language": "python"
  }
 },
 "nbformat": 4,
 "nbformat_minor": 2,
 "cells": [
  {
   "cell_type": "code",
   "execution_count": 13,
   "metadata": {},
   "outputs": [],
   "source": [
    "import matplotlib.pyplot as plt\n",
    "import networkx as nx\n",
    "import numpy as np\n",
    "import sys\n",
    "import numpy.linalg as linalg\n",
    "import numpy as np\n",
    "import seaborn as sns\n",
    "import pandas as pd\n",
    "import scipy"
   ]
  },
  {
   "cell_type": "code",
   "execution_count": 14,
   "metadata": {},
   "outputs": [],
   "source": [
    "def show_matrix(data):\n",
    "    min_val, max_val = 0, 15\n",
    "    cm = sns.light_palette(\"blue\", as_cmap=True)\n",
    "    x=pd.DataFrame(data)\n",
    "    x=x.style.background_gradient(cmap=cm)\n",
    "    display(x)"
   ]
  },
  {
   "cell_type": "code",
   "execution_count": 15,
   "metadata": {},
   "outputs": [],
   "source": [
    "def calculate_egein(norm_Lapl):\n",
    "    val, vec = np.linalg.eigh(norm_Lapl)\n",
    "    idx = np.argsort(val)\n",
    "    val = val[idx]\n",
    "    vec = vec[:,idx]\n",
    "    print (val[0:1])\n",
    "    print (vec[0:1])\n",
    "    return val,vec"
   ]
  },
  {
   "cell_type": "code",
   "execution_count": 29,
   "metadata": {
    "tags": []
   },
   "outputs": [],
   "source": [
    "np.set_printoptions(threshold=sys.maxsize)\n",
    "\n",
    "nof_nodes = 7\n",
    "radius = 0.4\n",
    "\n",
    "G = nx.random_geometric_graph(nof_nodes, radius)\n",
    "# position is stored as node attribute data for random_geometric_graph\n",
    "pos = nx.get_node_attributes(G, \"pos\")\n",
    "\n",
    "# find node near center (0.5,0.5)\n",
    "dmin = 1\n",
    "ncenter = 0\n",
    "for n in pos:\n",
    "    x, y = pos[n]\n",
    "    d = (x - 0.5) ** 2 + (y - 0.5) ** 2\n",
    "    if d < dmin:\n",
    "        ncenter = n\n",
    "        dmin = d\n",
    "\n",
    "# color by path length from node near center\n",
    "p = dict(nx.single_source_shortest_path_length(G, ncenter))\n",
    "\n",
    "L = nx.laplacian_matrix(G)\n",
    "A = nx.convert_matrix.to_numpy_array(G, dtype=int)\n",
    "DergeeList = list(G.degree)\n",
    "D = np.zeros((nof_nodes, nof_nodes),dtype=int)\n",
    "\n",
    "for node in range(len(DergeeList)):\n",
    "    D[node][node] = int(DergeeList[node][1])\n",
    "\n",
    "\n",
    "options = {\"node_color\": \"C0\", \"node_size\": 100}\n",
    "\n",
    "\n",
    "labels = {}    \n",
    "for node in G.nodes():\n",
    "    labels[node] = node\n"
   ]
  },
  {
   "cell_type": "code",
   "execution_count": 30,
   "metadata": {
    "tags": []
   },
   "outputs": [
    {
     "output_type": "stream",
     "name": "stdout",
     "text": "[-3.3755786e-16]\n[[ 0.0809819   0.         -0.43982034 -0.40824829 -0.70710678 -0.12598806\n   0.34272488]]\n(array([-3.37557860e-16,  0.00000000e+00,  2.04172444e-15,  2.00000000e+00,\n        4.00000000e+00,  5.00000000e+00,  5.00000000e+00]), array([[ 8.09818952e-02,  0.00000000e+00, -4.39820341e-01,\n        -4.08248290e-01, -7.07106781e-01, -1.25988062e-01,\n         3.42724877e-01],\n       [ 9.83468181e-01,  0.00000000e+00,  1.81081023e-01,\n        -5.55111512e-17, -5.55111512e-17, -1.94289029e-16,\n        -5.55111512e-17],\n       [ 8.09818952e-02,  0.00000000e+00, -4.39820341e-01,\n        -2.77555756e-17,  6.66133815e-16, -4.74701778e-01,\n        -7.58062149e-01],\n       [ 8.09818952e-02,  0.00000000e+00, -4.39820341e-01,\n         3.05311332e-16, -2.77555756e-16,  8.52665964e-01,\n        -2.70112483e-01],\n       [ 8.09818952e-02,  0.00000000e+00, -4.39820341e-01,\n        -4.08248290e-01,  7.07106781e-01, -1.25988062e-01,\n         3.42724877e-01],\n       [ 8.09818952e-02,  0.00000000e+00, -4.39820341e-01,\n         8.16496581e-01,  3.33066907e-16, -1.25988062e-01,\n         3.42724877e-01],\n       [ 0.00000000e+00,  1.00000000e+00, -0.00000000e+00,\n         0.00000000e+00,  0.00000000e+00,  0.00000000e+00,\n         0.00000000e+00]]))\n"
    }
   ],
   "source": [
    "second_vector = calculate_egein(L.A)\n",
    "print (second_vector)"
   ]
  },
  {
   "cell_type": "code",
   "execution_count": 31,
   "metadata": {},
   "outputs": [
    {
     "output_type": "display_data",
     "data": {
      "text/plain": "<Figure size 576x576 with 1 Axes>",
      "image/svg+xml": "<?xml version=\"1.0\" encoding=\"utf-8\" standalone=\"no\"?>\n<!DOCTYPE svg PUBLIC \"-//W3C//DTD SVG 1.1//EN\"\n  \"http://www.w3.org/Graphics/SVG/1.1/DTD/svg11.dtd\">\n<!-- Created with matplotlib (https://matplotlib.org/) -->\n<svg height=\"449.28pt\" version=\"1.1\" viewBox=\"0 0 460.8 449.28\" width=\"460.8pt\" xmlns=\"http://www.w3.org/2000/svg\" xmlns:xlink=\"http://www.w3.org/1999/xlink\">\n <metadata>\n  <rdf:RDF xmlns:cc=\"http://creativecommons.org/ns#\" xmlns:dc=\"http://purl.org/dc/elements/1.1/\" xmlns:rdf=\"http://www.w3.org/1999/02/22-rdf-syntax-ns#\">\n   <cc:Work>\n    <dc:type rdf:resource=\"http://purl.org/dc/dcmitype/StillImage\"/>\n    <dc:date>2021-02-13T12:58:02.963436</dc:date>\n    <dc:format>image/svg+xml</dc:format>\n    <dc:creator>\n     <cc:Agent>\n      <dc:title>Matplotlib v3.3.4, https://matplotlib.org/</dc:title>\n     </cc:Agent>\n    </dc:creator>\n   </cc:Work>\n  </rdf:RDF>\n </metadata>\n <defs>\n  <style type=\"text/css\">*{stroke-linecap:butt;stroke-linejoin:round;}</style>\n </defs>\n <g id=\"figure_1\">\n  <g id=\"patch_1\">\n   <path d=\"M 0 449.28 \nL 460.8 449.28 \nL 460.8 0 \nL 0 0 \nz\n\" style=\"fill:none;\"/>\n  </g>\n  <g id=\"axes_1\">\n   <g id=\"LineCollection_1\">\n    <path clip-path=\"url(#pe9cf7ea3f9)\" d=\"M 307.27526 344.258756 \nL 380.02983 323.55712 \n\" style=\"fill:none;stroke:#000000;stroke-opacity:0.4;\"/>\n    <path clip-path=\"url(#pe9cf7ea3f9)\" d=\"M 307.27526 344.258756 \nL 267.069543 277.993916 \n\" style=\"fill:none;stroke:#000000;stroke-opacity:0.4;\"/>\n    <path clip-path=\"url(#pe9cf7ea3f9)\" d=\"M 307.27526 344.258756 \nL 312.356075 285.556759 \n\" style=\"fill:none;stroke:#000000;stroke-opacity:0.4;\"/>\n    <path clip-path=\"url(#pe9cf7ea3f9)\" d=\"M 312.356075 285.556759 \nL 380.02983 323.55712 \n\" style=\"fill:none;stroke:#000000;stroke-opacity:0.4;\"/>\n    <path clip-path=\"url(#pe9cf7ea3f9)\" d=\"M 312.356075 285.556759 \nL 267.069543 277.993916 \n\" style=\"fill:none;stroke:#000000;stroke-opacity:0.4;\"/>\n    <path clip-path=\"url(#pe9cf7ea3f9)\" d=\"M 312.356075 285.556759 \nL 283.904102 154.163925 \n\" style=\"fill:none;stroke:#000000;stroke-opacity:0.4;\"/>\n    <path clip-path=\"url(#pe9cf7ea3f9)\" d=\"M 267.069543 277.993916 \nL 380.02983 323.55712 \n\" style=\"fill:none;stroke:#000000;stroke-opacity:0.4;\"/>\n    <path clip-path=\"url(#pe9cf7ea3f9)\" d=\"M 267.069543 277.993916 \nL 283.904102 154.163925 \n\" style=\"fill:none;stroke:#000000;stroke-opacity:0.4;\"/>\n   </g>\n   <g id=\"PathCollection_1\">\n    <defs>\n     <path d=\"M 0 4.472136 \nC 1.186024 4.472136 2.323632 4.000923 3.162278 3.162278 \nC 4.000923 2.323632 4.472136 1.186024 4.472136 0 \nC 4.472136 -1.186024 4.000923 -2.323632 3.162278 -3.162278 \nC 2.323632 -4.000923 1.186024 -4.472136 0 -4.472136 \nC -1.186024 -4.472136 -2.323632 -4.000923 -3.162278 -3.162278 \nC -4.000923 -2.323632 -4.472136 -1.186024 -4.472136 0 \nC -4.472136 1.186024 -4.000923 2.323632 -3.162278 3.162278 \nC -2.323632 4.000923 -1.186024 4.472136 0 4.472136 \nz\n\" id=\"m20f5b5c2aa\" style=\"stroke:#1f78b4;\"/>\n    </defs>\n    <g clip-path=\"url(#pe9cf7ea3f9)\">\n     <use style=\"fill:#1f78b4;stroke:#1f78b4;\" x=\"267.069543\" xlink:href=\"#m20f5b5c2aa\" y=\"277.993916\"/>\n     <use style=\"fill:#1f78b4;stroke:#1f78b4;\" x=\"307.27526\" xlink:href=\"#m20f5b5c2aa\" y=\"344.258756\"/>\n     <use style=\"fill:#1f78b4;stroke:#1f78b4;\" x=\"312.356075\" xlink:href=\"#m20f5b5c2aa\" y=\"285.556759\"/>\n     <use style=\"fill:#1f78b4;stroke:#1f78b4;\" x=\"380.02983\" xlink:href=\"#m20f5b5c2aa\" y=\"323.55712\"/>\n     <use style=\"fill:#1f78b4;stroke:#1f78b4;\" x=\"283.904102\" xlink:href=\"#m20f5b5c2aa\" y=\"154.163925\"/>\n    </g>\n   </g>\n   <g id=\"text_1\">\n    <g clip-path=\"url(#pe9cf7ea3f9)\">\n     <!-- 0 -->\n     <g transform=\"translate(305.048385 346.190319)scale(0.07 -0.07)\">\n      <defs>\n       <path d=\"M 31.78125 66.40625 \nQ 24.171875 66.40625 20.328125 58.90625 \nQ 16.5 51.421875 16.5 36.375 \nQ 16.5 21.390625 20.328125 13.890625 \nQ 24.171875 6.390625 31.78125 6.390625 \nQ 39.453125 6.390625 43.28125 13.890625 \nQ 47.125 21.390625 47.125 36.375 \nQ 47.125 51.421875 43.28125 58.90625 \nQ 39.453125 66.40625 31.78125 66.40625 \nz\nM 31.78125 74.21875 \nQ 44.046875 74.21875 50.515625 64.515625 \nQ 56.984375 54.828125 56.984375 36.375 \nQ 56.984375 17.96875 50.515625 8.265625 \nQ 44.046875 -1.421875 31.78125 -1.421875 \nQ 19.53125 -1.421875 13.0625 8.265625 \nQ 6.59375 17.96875 6.59375 36.375 \nQ 6.59375 54.828125 13.0625 64.515625 \nQ 19.53125 74.21875 31.78125 74.21875 \nz\n\" id=\"DejaVuSans-48\"/>\n      </defs>\n      <use xlink:href=\"#DejaVuSans-48\"/>\n     </g>\n    </g>\n   </g>\n   <g id=\"text_2\">\n    <g clip-path=\"url(#pe9cf7ea3f9)\">\n     <!-- 1 -->\n     <g transform=\"translate(27.906728 58.219501)scale(0.07 -0.07)\">\n      <defs>\n       <path d=\"M 12.40625 8.296875 \nL 28.515625 8.296875 \nL 28.515625 63.921875 \nL 10.984375 60.40625 \nL 10.984375 69.390625 \nL 28.421875 72.90625 \nL 38.28125 72.90625 \nL 38.28125 8.296875 \nL 54.390625 8.296875 \nL 54.390625 0 \nL 12.40625 0 \nz\n\" id=\"DejaVuSans-49\"/>\n      </defs>\n      <use xlink:href=\"#DejaVuSans-49\"/>\n     </g>\n    </g>\n   </g>\n   <g id=\"text_3\">\n    <g clip-path=\"url(#pe9cf7ea3f9)\">\n     <!-- 2 -->\n     <g transform=\"translate(310.1292 287.488322)scale(0.07 -0.07)\">\n      <defs>\n       <path d=\"M 19.1875 8.296875 \nL 53.609375 8.296875 \nL 53.609375 0 \nL 7.328125 0 \nL 7.328125 8.296875 \nQ 12.9375 14.109375 22.625 23.890625 \nQ 32.328125 33.6875 34.8125 36.53125 \nQ 39.546875 41.84375 41.421875 45.53125 \nQ 43.3125 49.21875 43.3125 52.78125 \nQ 43.3125 58.59375 39.234375 62.25 \nQ 35.15625 65.921875 28.609375 65.921875 \nQ 23.96875 65.921875 18.8125 64.3125 \nQ 13.671875 62.703125 7.8125 59.421875 \nL 7.8125 69.390625 \nQ 13.765625 71.78125 18.9375 73 \nQ 24.125 74.21875 28.421875 74.21875 \nQ 39.75 74.21875 46.484375 68.546875 \nQ 53.21875 62.890625 53.21875 53.421875 \nQ 53.21875 48.921875 51.53125 44.890625 \nQ 49.859375 40.875 45.40625 35.40625 \nQ 44.1875 33.984375 37.640625 27.21875 \nQ 31.109375 20.453125 19.1875 8.296875 \nz\n\" id=\"DejaVuSans-50\"/>\n      </defs>\n      <use xlink:href=\"#DejaVuSans-50\"/>\n     </g>\n    </g>\n   </g>\n   <g id=\"text_4\">\n    <g clip-path=\"url(#pe9cf7ea3f9)\">\n     <!-- 3 -->\n     <g transform=\"translate(264.842668 279.925478)scale(0.07 -0.07)\">\n      <defs>\n       <path d=\"M 40.578125 39.3125 \nQ 47.65625 37.796875 51.625 33 \nQ 55.609375 28.21875 55.609375 21.1875 \nQ 55.609375 10.40625 48.1875 4.484375 \nQ 40.765625 -1.421875 27.09375 -1.421875 \nQ 22.515625 -1.421875 17.65625 -0.515625 \nQ 12.796875 0.390625 7.625 2.203125 \nL 7.625 11.71875 \nQ 11.71875 9.328125 16.59375 8.109375 \nQ 21.484375 6.890625 26.8125 6.890625 \nQ 36.078125 6.890625 40.9375 10.546875 \nQ 45.796875 14.203125 45.796875 21.1875 \nQ 45.796875 27.640625 41.28125 31.265625 \nQ 36.765625 34.90625 28.71875 34.90625 \nL 20.21875 34.90625 \nL 20.21875 43.015625 \nL 29.109375 43.015625 \nQ 36.375 43.015625 40.234375 45.921875 \nQ 44.09375 48.828125 44.09375 54.296875 \nQ 44.09375 59.90625 40.109375 62.90625 \nQ 36.140625 65.921875 28.71875 65.921875 \nQ 24.65625 65.921875 20.015625 65.03125 \nQ 15.375 64.15625 9.8125 62.3125 \nL 9.8125 71.09375 \nQ 15.4375 72.65625 20.34375 73.4375 \nQ 25.25 74.21875 29.59375 74.21875 \nQ 40.828125 74.21875 47.359375 69.109375 \nQ 53.90625 64.015625 53.90625 55.328125 \nQ 53.90625 49.265625 50.4375 45.09375 \nQ 46.96875 40.921875 40.578125 39.3125 \nz\n\" id=\"DejaVuSans-51\"/>\n      </defs>\n      <use xlink:href=\"#DejaVuSans-51\"/>\n     </g>\n    </g>\n   </g>\n   <g id=\"text_5\">\n    <g clip-path=\"url(#pe9cf7ea3f9)\">\n     <!-- 4 -->\n     <g transform=\"translate(377.802955 325.488683)scale(0.07 -0.07)\">\n      <defs>\n       <path d=\"M 37.796875 64.3125 \nL 12.890625 25.390625 \nL 37.796875 25.390625 \nz\nM 35.203125 72.90625 \nL 47.609375 72.90625 \nL 47.609375 25.390625 \nL 58.015625 25.390625 \nL 58.015625 17.1875 \nL 47.609375 17.1875 \nL 47.609375 0 \nL 37.796875 0 \nL 37.796875 17.1875 \nL 4.890625 17.1875 \nL 4.890625 26.703125 \nz\n\" id=\"DejaVuSans-52\"/>\n      </defs>\n      <use xlink:href=\"#DejaVuSans-52\"/>\n     </g>\n    </g>\n   </g>\n   <g id=\"text_6\">\n    <g clip-path=\"url(#pe9cf7ea3f9)\">\n     <!-- 5 -->\n     <g transform=\"translate(281.677227 156.095487)scale(0.07 -0.07)\">\n      <defs>\n       <path d=\"M 10.796875 72.90625 \nL 49.515625 72.90625 \nL 49.515625 64.59375 \nL 19.828125 64.59375 \nL 19.828125 46.734375 \nQ 21.96875 47.46875 24.109375 47.828125 \nQ 26.265625 48.1875 28.421875 48.1875 \nQ 40.625 48.1875 47.75 41.5 \nQ 54.890625 34.8125 54.890625 23.390625 \nQ 54.890625 11.625 47.5625 5.09375 \nQ 40.234375 -1.421875 26.90625 -1.421875 \nQ 22.3125 -1.421875 17.546875 -0.640625 \nQ 12.796875 0.140625 7.71875 1.703125 \nL 7.71875 11.625 \nQ 12.109375 9.234375 16.796875 8.0625 \nQ 21.484375 6.890625 26.703125 6.890625 \nQ 35.15625 6.890625 40.078125 11.328125 \nQ 45.015625 15.765625 45.015625 23.390625 \nQ 45.015625 31 40.078125 35.4375 \nQ 35.15625 39.890625 26.703125 39.890625 \nQ 22.75 39.890625 18.8125 39.015625 \nQ 14.890625 38.140625 10.796875 36.28125 \nz\n\" id=\"DejaVuSans-53\"/>\n      </defs>\n      <use xlink:href=\"#DejaVuSans-53\"/>\n     </g>\n    </g>\n   </g>\n   <g id=\"text_7\">\n    <g clip-path=\"url(#pe9cf7ea3f9)\">\n     <!-- 6 -->\n     <g transform=\"translate(52.775662 297.772782)scale(0.07 -0.07)\">\n      <defs>\n       <path d=\"M 33.015625 40.375 \nQ 26.375 40.375 22.484375 35.828125 \nQ 18.609375 31.296875 18.609375 23.390625 \nQ 18.609375 15.53125 22.484375 10.953125 \nQ 26.375 6.390625 33.015625 6.390625 \nQ 39.65625 6.390625 43.53125 10.953125 \nQ 47.40625 15.53125 47.40625 23.390625 \nQ 47.40625 31.296875 43.53125 35.828125 \nQ 39.65625 40.375 33.015625 40.375 \nz\nM 52.59375 71.296875 \nL 52.59375 62.3125 \nQ 48.875 64.0625 45.09375 64.984375 \nQ 41.3125 65.921875 37.59375 65.921875 \nQ 27.828125 65.921875 22.671875 59.328125 \nQ 17.53125 52.734375 16.796875 39.40625 \nQ 19.671875 43.65625 24.015625 45.921875 \nQ 28.375 48.1875 33.59375 48.1875 \nQ 44.578125 48.1875 50.953125 41.515625 \nQ 57.328125 34.859375 57.328125 23.390625 \nQ 57.328125 12.15625 50.6875 5.359375 \nQ 44.046875 -1.421875 33.015625 -1.421875 \nQ 20.359375 -1.421875 13.671875 8.265625 \nQ 6.984375 17.96875 6.984375 36.375 \nQ 6.984375 53.65625 15.1875 63.9375 \nQ 23.390625 74.21875 37.203125 74.21875 \nQ 40.921875 74.21875 44.703125 73.484375 \nQ 48.484375 72.75 52.59375 71.296875 \nz\n\" id=\"DejaVuSans-54\"/>\n      </defs>\n      <use xlink:href=\"#DejaVuSans-54\"/>\n     </g>\n    </g>\n   </g>\n  </g>\n </g>\n <defs>\n  <clipPath id=\"pe9cf7ea3f9\">\n   <rect height=\"434.88\" width=\"446.4\" x=\"7.2\" y=\"7.2\"/>\n  </clipPath>\n </defs>\n</svg>\n",
      "image/png": "[encoded data removed]"
     },
     "metadata": {}
    }
   ],
   "source": [
    "plt.figure(figsize=(8, 8))\n",
    "nx.draw_networkx_edges(G, pos, nodelist=[ncenter], alpha=0.4)\n",
    "nx.draw_networkx_nodes(\n",
    "    G,\n",
    "    pos,\n",
    "    nodelist=list(p.keys()),\n",
    "    node_size=80,\n",
    "    cmap=plt.cm.Reds_r,\n",
    ")\n",
    "nx.draw_networkx_labels(G,pos,labels,font_size=7)\n",
    "plt.xlim(-0.05, 1.05)\n",
    "plt.ylim(-0.05, 1.05)\n",
    "plt.axis(\"off\")\n",
    "plt.show()"
   ]
  },
  {
   "cell_type": "code",
   "execution_count": 32,
   "metadata": {
    "tags": []
   },
   "outputs": [
    {
     "output_type": "display_data",
     "data": {
      "text/plain": "<pandas.io.formats.style.Styler at 0x7ff6d9759c70>",
      "text/html": "<style  type=\"text/css\" >\n#T_0424e_row0_col0,#T_0424e_row0_col1,#T_0424e_row0_col5,#T_0424e_row0_col6,#T_0424e_row1_col0,#T_0424e_row1_col1,#T_0424e_row1_col2,#T_0424e_row1_col3,#T_0424e_row1_col4,#T_0424e_row1_col5,#T_0424e_row1_col6,#T_0424e_row2_col1,#T_0424e_row2_col2,#T_0424e_row2_col6,#T_0424e_row3_col1,#T_0424e_row3_col3,#T_0424e_row3_col6,#T_0424e_row4_col1,#T_0424e_row4_col4,#T_0424e_row4_col5,#T_0424e_row4_col6,#T_0424e_row5_col0,#T_0424e_row5_col1,#T_0424e_row5_col4,#T_0424e_row5_col5,#T_0424e_row5_col6,#T_0424e_row6_col0,#T_0424e_row6_col1,#T_0424e_row6_col2,#T_0424e_row6_col3,#T_0424e_row6_col4,#T_0424e_row6_col5,#T_0424e_row6_col6{\n            background-color:  #f0f0f3;\n            color:  #000000;\n        }#T_0424e_row0_col2,#T_0424e_row0_col3,#T_0424e_row0_col4,#T_0424e_row2_col0,#T_0424e_row2_col3,#T_0424e_row2_col4,#T_0424e_row2_col5,#T_0424e_row3_col0,#T_0424e_row3_col2,#T_0424e_row3_col4,#T_0424e_row3_col5,#T_0424e_row4_col0,#T_0424e_row4_col2,#T_0424e_row4_col3,#T_0424e_row5_col2,#T_0424e_row5_col3{\n            background-color:  #0000ff;\n            color:  #f1f1f1;\n        }</style><table id=\"T_0424e_\" ><thead>    <tr>        <th class=\"blank level0\" ></th>        <th class=\"col_heading level0 col0\" >0</th>        <th class=\"col_heading level0 col1\" >1</th>        <th class=\"col_heading level0 col2\" >2</th>        <th class=\"col_heading level0 col3\" >3</th>        <th class=\"col_heading level0 col4\" >4</th>        <th class=\"col_heading level0 col5\" >5</th>        <th class=\"col_heading level0 col6\" >6</th>    </tr></thead><tbody>\n                <tr>\n                        <th id=\"T_0424e_level0_row0\" class=\"row_heading level0 row0\" >0</th>\n                        <td id=\"T_0424e_row0_col0\" class=\"data row0 col0\" >0</td>\n                        <td id=\"T_0424e_row0_col1\" class=\"data row0 col1\" >0</td>\n                        <td id=\"T_0424e_row0_col2\" class=\"data row0 col2\" >1</td>\n                        <td id=\"T_0424e_row0_col3\" class=\"data row0 col3\" >1</td>\n                        <td id=\"T_0424e_row0_col4\" class=\"data row0 col4\" >1</td>\n                        <td id=\"T_0424e_row0_col5\" class=\"data row0 col5\" >0</td>\n                        <td id=\"T_0424e_row0_col6\" class=\"data row0 col6\" >0</td>\n            </tr>\n            <tr>\n                        <th id=\"T_0424e_level0_row1\" class=\"row_heading level0 row1\" >1</th>\n                        <td id=\"T_0424e_row1_col0\" class=\"data row1 col0\" >0</td>\n                        <td id=\"T_0424e_row1_col1\" class=\"data row1 col1\" >0</td>\n                        <td id=\"T_0424e_row1_col2\" class=\"data row1 col2\" >0</td>\n                        <td id=\"T_0424e_row1_col3\" class=\"data row1 col3\" >0</td>\n                        <td id=\"T_0424e_row1_col4\" class=\"data row1 col4\" >0</td>\n                        <td id=\"T_0424e_row1_col5\" class=\"data row1 col5\" >0</td>\n                        <td id=\"T_0424e_row1_col6\" class=\"data row1 col6\" >0</td>\n            </tr>\n            <tr>\n                        <th id=\"T_0424e_level0_row2\" class=\"row_heading level0 row2\" >2</th>\n                        <td id=\"T_0424e_row2_col0\" class=\"data row2 col0\" >1</td>\n                        <td id=\"T_0424e_row2_col1\" class=\"data row2 col1\" >0</td>\n                        <td id=\"T_0424e_row2_col2\" class=\"data row2 col2\" >0</td>\n                        <td id=\"T_0424e_row2_col3\" class=\"data row2 col3\" >1</td>\n                        <td id=\"T_0424e_row2_col4\" class=\"data row2 col4\" >1</td>\n                        <td id=\"T_0424e_row2_col5\" class=\"data row2 col5\" >1</td>\n                        <td id=\"T_0424e_row2_col6\" class=\"data row2 col6\" >0</td>\n            </tr>\n            <tr>\n                        <th id=\"T_0424e_level0_row3\" class=\"row_heading level0 row3\" >3</th>\n                        <td id=\"T_0424e_row3_col0\" class=\"data row3 col0\" >1</td>\n                        <td id=\"T_0424e_row3_col1\" class=\"data row3 col1\" >0</td>\n                        <td id=\"T_0424e_row3_col2\" class=\"data row3 col2\" >1</td>\n                        <td id=\"T_0424e_row3_col3\" class=\"data row3 col3\" >0</td>\n                        <td id=\"T_0424e_row3_col4\" class=\"data row3 col4\" >1</td>\n                        <td id=\"T_0424e_row3_col5\" class=\"data row3 col5\" >1</td>\n                        <td id=\"T_0424e_row3_col6\" class=\"data row3 col6\" >0</td>\n            </tr>\n            <tr>\n                        <th id=\"T_0424e_level0_row4\" class=\"row_heading level0 row4\" >4</th>\n                        <td id=\"T_0424e_row4_col0\" class=\"data row4 col0\" >1</td>\n                        <td id=\"T_0424e_row4_col1\" class=\"data row4 col1\" >0</td>\n                        <td id=\"T_0424e_row4_col2\" class=\"data row4 col2\" >1</td>\n                        <td id=\"T_0424e_row4_col3\" class=\"data row4 col3\" >1</td>\n                        <td id=\"T_0424e_row4_col4\" class=\"data row4 col4\" >0</td>\n                        <td id=\"T_0424e_row4_col5\" class=\"data row4 col5\" >0</td>\n                        <td id=\"T_0424e_row4_col6\" class=\"data row4 col6\" >0</td>\n            </tr>\n            <tr>\n                        <th id=\"T_0424e_level0_row5\" class=\"row_heading level0 row5\" >5</th>\n                        <td id=\"T_0424e_row5_col0\" class=\"data row5 col0\" >0</td>\n                        <td id=\"T_0424e_row5_col1\" class=\"data row5 col1\" >0</td>\n                        <td id=\"T_0424e_row5_col2\" class=\"data row5 col2\" >1</td>\n                        <td id=\"T_0424e_row5_col3\" class=\"data row5 col3\" >1</td>\n                        <td id=\"T_0424e_row5_col4\" class=\"data row5 col4\" >0</td>\n                        <td id=\"T_0424e_row5_col5\" class=\"data row5 col5\" >0</td>\n                        <td id=\"T_0424e_row5_col6\" class=\"data row5 col6\" >0</td>\n            </tr>\n            <tr>\n                        <th id=\"T_0424e_level0_row6\" class=\"row_heading level0 row6\" >6</th>\n                        <td id=\"T_0424e_row6_col0\" class=\"data row6 col0\" >0</td>\n                        <td id=\"T_0424e_row6_col1\" class=\"data row6 col1\" >0</td>\n                        <td id=\"T_0424e_row6_col2\" class=\"data row6 col2\" >0</td>\n                        <td id=\"T_0424e_row6_col3\" class=\"data row6 col3\" >0</td>\n                        <td id=\"T_0424e_row6_col4\" class=\"data row6 col4\" >0</td>\n                        <td id=\"T_0424e_row6_col5\" class=\"data row6 col5\" >0</td>\n                        <td id=\"T_0424e_row6_col6\" class=\"data row6 col6\" >0</td>\n            </tr>\n    </tbody></table>"
     },
     "metadata": {}
    }
   ],
   "source": [
    "show_matrix(A)"
   ]
  },
  {
   "cell_type": "code",
   "execution_count": 33,
   "metadata": {
    "tags": []
   },
   "outputs": [
    {
     "output_type": "display_data",
     "data": {
      "text/plain": "<pandas.io.formats.style.Styler at 0x7ff6d977a8b0>",
      "text/html": "<style  type=\"text/css\" >\n#T_be228_row0_col0,#T_be228_row2_col2,#T_be228_row3_col3,#T_be228_row4_col4,#T_be228_row5_col5{\n            background-color:  #0000ff;\n            color:  #f1f1f1;\n        }#T_be228_row0_col1,#T_be228_row0_col2,#T_be228_row0_col3,#T_be228_row0_col4,#T_be228_row0_col5,#T_be228_row0_col6,#T_be228_row1_col0,#T_be228_row1_col1,#T_be228_row1_col2,#T_be228_row1_col3,#T_be228_row1_col4,#T_be228_row1_col5,#T_be228_row1_col6,#T_be228_row2_col0,#T_be228_row2_col1,#T_be228_row2_col3,#T_be228_row2_col4,#T_be228_row2_col5,#T_be228_row2_col6,#T_be228_row3_col0,#T_be228_row3_col1,#T_be228_row3_col2,#T_be228_row3_col4,#T_be228_row3_col5,#T_be228_row3_col6,#T_be228_row4_col0,#T_be228_row4_col1,#T_be228_row4_col2,#T_be228_row4_col3,#T_be228_row4_col5,#T_be228_row4_col6,#T_be228_row5_col0,#T_be228_row5_col1,#T_be228_row5_col2,#T_be228_row5_col3,#T_be228_row5_col4,#T_be228_row5_col6,#T_be228_row6_col0,#T_be228_row6_col1,#T_be228_row6_col2,#T_be228_row6_col3,#T_be228_row6_col4,#T_be228_row6_col5,#T_be228_row6_col6{\n            background-color:  #f0f0f3;\n            color:  #000000;\n        }</style><table id=\"T_be228_\" ><thead>    <tr>        <th class=\"blank level0\" ></th>        <th class=\"col_heading level0 col0\" >0</th>        <th class=\"col_heading level0 col1\" >1</th>        <th class=\"col_heading level0 col2\" >2</th>        <th class=\"col_heading level0 col3\" >3</th>        <th class=\"col_heading level0 col4\" >4</th>        <th class=\"col_heading level0 col5\" >5</th>        <th class=\"col_heading level0 col6\" >6</th>    </tr></thead><tbody>\n                <tr>\n                        <th id=\"T_be228_level0_row0\" class=\"row_heading level0 row0\" >0</th>\n                        <td id=\"T_be228_row0_col0\" class=\"data row0 col0\" >3</td>\n                        <td id=\"T_be228_row0_col1\" class=\"data row0 col1\" >0</td>\n                        <td id=\"T_be228_row0_col2\" class=\"data row0 col2\" >0</td>\n                        <td id=\"T_be228_row0_col3\" class=\"data row0 col3\" >0</td>\n                        <td id=\"T_be228_row0_col4\" class=\"data row0 col4\" >0</td>\n                        <td id=\"T_be228_row0_col5\" class=\"data row0 col5\" >0</td>\n                        <td id=\"T_be228_row0_col6\" class=\"data row0 col6\" >0</td>\n            </tr>\n            <tr>\n                        <th id=\"T_be228_level0_row1\" class=\"row_heading level0 row1\" >1</th>\n                        <td id=\"T_be228_row1_col0\" class=\"data row1 col0\" >0</td>\n                        <td id=\"T_be228_row1_col1\" class=\"data row1 col1\" >0</td>\n                        <td id=\"T_be228_row1_col2\" class=\"data row1 col2\" >0</td>\n                        <td id=\"T_be228_row1_col3\" class=\"data row1 col3\" >0</td>\n                        <td id=\"T_be228_row1_col4\" class=\"data row1 col4\" >0</td>\n                        <td id=\"T_be228_row1_col5\" class=\"data row1 col5\" >0</td>\n                        <td id=\"T_be228_row1_col6\" class=\"data row1 col6\" >0</td>\n            </tr>\n            <tr>\n                        <th id=\"T_be228_level0_row2\" class=\"row_heading level0 row2\" >2</th>\n                        <td id=\"T_be228_row2_col0\" class=\"data row2 col0\" >0</td>\n                        <td id=\"T_be228_row2_col1\" class=\"data row2 col1\" >0</td>\n                        <td id=\"T_be228_row2_col2\" class=\"data row2 col2\" >4</td>\n                        <td id=\"T_be228_row2_col3\" class=\"data row2 col3\" >0</td>\n                        <td id=\"T_be228_row2_col4\" class=\"data row2 col4\" >0</td>\n                        <td id=\"T_be228_row2_col5\" class=\"data row2 col5\" >0</td>\n                        <td id=\"T_be228_row2_col6\" class=\"data row2 col6\" >0</td>\n            </tr>\n            <tr>\n                        <th id=\"T_be228_level0_row3\" class=\"row_heading level0 row3\" >3</th>\n                        <td id=\"T_be228_row3_col0\" class=\"data row3 col0\" >0</td>\n                        <td id=\"T_be228_row3_col1\" class=\"data row3 col1\" >0</td>\n                        <td id=\"T_be228_row3_col2\" class=\"data row3 col2\" >0</td>\n                        <td id=\"T_be228_row3_col3\" class=\"data row3 col3\" >4</td>\n                        <td id=\"T_be228_row3_col4\" class=\"data row3 col4\" >0</td>\n                        <td id=\"T_be228_row3_col5\" class=\"data row3 col5\" >0</td>\n                        <td id=\"T_be228_row3_col6\" class=\"data row3 col6\" >0</td>\n            </tr>\n            <tr>\n                        <th id=\"T_be228_level0_row4\" class=\"row_heading level0 row4\" >4</th>\n                        <td id=\"T_be228_row4_col0\" class=\"data row4 col0\" >0</td>\n                        <td id=\"T_be228_row4_col1\" class=\"data row4 col1\" >0</td>\n                        <td id=\"T_be228_row4_col2\" class=\"data row4 col2\" >0</td>\n                        <td id=\"T_be228_row4_col3\" class=\"data row4 col3\" >0</td>\n                        <td id=\"T_be228_row4_col4\" class=\"data row4 col4\" >3</td>\n                        <td id=\"T_be228_row4_col5\" class=\"data row4 col5\" >0</td>\n                        <td id=\"T_be228_row4_col6\" class=\"data row4 col6\" >0</td>\n            </tr>\n            <tr>\n                        <th id=\"T_be228_level0_row5\" class=\"row_heading level0 row5\" >5</th>\n                        <td id=\"T_be228_row5_col0\" class=\"data row5 col0\" >0</td>\n                        <td id=\"T_be228_row5_col1\" class=\"data row5 col1\" >0</td>\n                        <td id=\"T_be228_row5_col2\" class=\"data row5 col2\" >0</td>\n                        <td id=\"T_be228_row5_col3\" class=\"data row5 col3\" >0</td>\n                        <td id=\"T_be228_row5_col4\" class=\"data row5 col4\" >0</td>\n                        <td id=\"T_be228_row5_col5\" class=\"data row5 col5\" >2</td>\n                        <td id=\"T_be228_row5_col6\" class=\"data row5 col6\" >0</td>\n            </tr>\n            <tr>\n                        <th id=\"T_be228_level0_row6\" class=\"row_heading level0 row6\" >6</th>\n                        <td id=\"T_be228_row6_col0\" class=\"data row6 col0\" >0</td>\n                        <td id=\"T_be228_row6_col1\" class=\"data row6 col1\" >0</td>\n                        <td id=\"T_be228_row6_col2\" class=\"data row6 col2\" >0</td>\n                        <td id=\"T_be228_row6_col3\" class=\"data row6 col3\" >0</td>\n                        <td id=\"T_be228_row6_col4\" class=\"data row6 col4\" >0</td>\n                        <td id=\"T_be228_row6_col5\" class=\"data row6 col5\" >0</td>\n                        <td id=\"T_be228_row6_col6\" class=\"data row6 col6\" >0</td>\n            </tr>\n    </tbody></table>"
     },
     "metadata": {}
    }
   ],
   "source": [
    "show_matrix(D)"
   ]
  },
  {
   "cell_type": "code",
   "execution_count": 34,
   "metadata": {
    "tags": []
   },
   "outputs": [
    {
     "output_type": "display_data",
     "data": {
      "text/plain": "<pandas.io.formats.style.Styler at 0x7ff6d985f070>",
      "text/html": "<style  type=\"text/css\" >\n#T_f2d24_row0_col0,#T_f2d24_row2_col2,#T_f2d24_row3_col3,#T_f2d24_row4_col4,#T_f2d24_row5_col5{\n            background-color:  #0000ff;\n            color:  #f1f1f1;\n        }#T_f2d24_row0_col1,#T_f2d24_row0_col2,#T_f2d24_row0_col3,#T_f2d24_row0_col4,#T_f2d24_row0_col6,#T_f2d24_row1_col1,#T_f2d24_row1_col6,#T_f2d24_row2_col0,#T_f2d24_row2_col1,#T_f2d24_row2_col3,#T_f2d24_row2_col4,#T_f2d24_row2_col5,#T_f2d24_row2_col6,#T_f2d24_row3_col0,#T_f2d24_row3_col1,#T_f2d24_row3_col2,#T_f2d24_row3_col4,#T_f2d24_row3_col5,#T_f2d24_row3_col6,#T_f2d24_row4_col0,#T_f2d24_row4_col1,#T_f2d24_row4_col2,#T_f2d24_row4_col3,#T_f2d24_row4_col6,#T_f2d24_row5_col1,#T_f2d24_row5_col2,#T_f2d24_row5_col3,#T_f2d24_row5_col6,#T_f2d24_row6_col1,#T_f2d24_row6_col6{\n            background-color:  #f0f0f3;\n            color:  #000000;\n        }#T_f2d24_row0_col5,#T_f2d24_row1_col5,#T_f2d24_row4_col5,#T_f2d24_row6_col5{\n            background-color:  #a0a0f7;\n            color:  #000000;\n        }#T_f2d24_row1_col0,#T_f2d24_row1_col4,#T_f2d24_row5_col0,#T_f2d24_row5_col4,#T_f2d24_row6_col0,#T_f2d24_row6_col4{\n            background-color:  #b4b4f6;\n            color:  #000000;\n        }#T_f2d24_row1_col2,#T_f2d24_row1_col3,#T_f2d24_row6_col2,#T_f2d24_row6_col3{\n            background-color:  #c0c0f5;\n            color:  #000000;\n        }</style><table id=\"T_f2d24_\" ><thead>    <tr>        <th class=\"blank level0\" ></th>        <th class=\"col_heading level0 col0\" >0</th>        <th class=\"col_heading level0 col1\" >1</th>        <th class=\"col_heading level0 col2\" >2</th>        <th class=\"col_heading level0 col3\" >3</th>        <th class=\"col_heading level0 col4\" >4</th>        <th class=\"col_heading level0 col5\" >5</th>        <th class=\"col_heading level0 col6\" >6</th>    </tr></thead><tbody>\n                <tr>\n                        <th id=\"T_f2d24_level0_row0\" class=\"row_heading level0 row0\" >0</th>\n                        <td id=\"T_f2d24_row0_col0\" class=\"data row0 col0\" >3</td>\n                        <td id=\"T_f2d24_row0_col1\" class=\"data row0 col1\" >0</td>\n                        <td id=\"T_f2d24_row0_col2\" class=\"data row0 col2\" >-1</td>\n                        <td id=\"T_f2d24_row0_col3\" class=\"data row0 col3\" >-1</td>\n                        <td id=\"T_f2d24_row0_col4\" class=\"data row0 col4\" >-1</td>\n                        <td id=\"T_f2d24_row0_col5\" class=\"data row0 col5\" >0</td>\n                        <td id=\"T_f2d24_row0_col6\" class=\"data row0 col6\" >0</td>\n            </tr>\n            <tr>\n                        <th id=\"T_f2d24_level0_row1\" class=\"row_heading level0 row1\" >1</th>\n                        <td id=\"T_f2d24_row1_col0\" class=\"data row1 col0\" >0</td>\n                        <td id=\"T_f2d24_row1_col1\" class=\"data row1 col1\" >0</td>\n                        <td id=\"T_f2d24_row1_col2\" class=\"data row1 col2\" >0</td>\n                        <td id=\"T_f2d24_row1_col3\" class=\"data row1 col3\" >0</td>\n                        <td id=\"T_f2d24_row1_col4\" class=\"data row1 col4\" >0</td>\n                        <td id=\"T_f2d24_row1_col5\" class=\"data row1 col5\" >0</td>\n                        <td id=\"T_f2d24_row1_col6\" class=\"data row1 col6\" >0</td>\n            </tr>\n            <tr>\n                        <th id=\"T_f2d24_level0_row2\" class=\"row_heading level0 row2\" >2</th>\n                        <td id=\"T_f2d24_row2_col0\" class=\"data row2 col0\" >-1</td>\n                        <td id=\"T_f2d24_row2_col1\" class=\"data row2 col1\" >0</td>\n                        <td id=\"T_f2d24_row2_col2\" class=\"data row2 col2\" >4</td>\n                        <td id=\"T_f2d24_row2_col3\" class=\"data row2 col3\" >-1</td>\n                        <td id=\"T_f2d24_row2_col4\" class=\"data row2 col4\" >-1</td>\n                        <td id=\"T_f2d24_row2_col5\" class=\"data row2 col5\" >-1</td>\n                        <td id=\"T_f2d24_row2_col6\" class=\"data row2 col6\" >0</td>\n            </tr>\n            <tr>\n                        <th id=\"T_f2d24_level0_row3\" class=\"row_heading level0 row3\" >3</th>\n                        <td id=\"T_f2d24_row3_col0\" class=\"data row3 col0\" >-1</td>\n                        <td id=\"T_f2d24_row3_col1\" class=\"data row3 col1\" >0</td>\n                        <td id=\"T_f2d24_row3_col2\" class=\"data row3 col2\" >-1</td>\n                        <td id=\"T_f2d24_row3_col3\" class=\"data row3 col3\" >4</td>\n                        <td id=\"T_f2d24_row3_col4\" class=\"data row3 col4\" >-1</td>\n                        <td id=\"T_f2d24_row3_col5\" class=\"data row3 col5\" >-1</td>\n                        <td id=\"T_f2d24_row3_col6\" class=\"data row3 col6\" >0</td>\n            </tr>\n            <tr>\n                        <th id=\"T_f2d24_level0_row4\" class=\"row_heading level0 row4\" >4</th>\n                        <td id=\"T_f2d24_row4_col0\" class=\"data row4 col0\" >-1</td>\n                        <td id=\"T_f2d24_row4_col1\" class=\"data row4 col1\" >0</td>\n                        <td id=\"T_f2d24_row4_col2\" class=\"data row4 col2\" >-1</td>\n                        <td id=\"T_f2d24_row4_col3\" class=\"data row4 col3\" >-1</td>\n                        <td id=\"T_f2d24_row4_col4\" class=\"data row4 col4\" >3</td>\n                        <td id=\"T_f2d24_row4_col5\" class=\"data row4 col5\" >0</td>\n                        <td id=\"T_f2d24_row4_col6\" class=\"data row4 col6\" >0</td>\n            </tr>\n            <tr>\n                        <th id=\"T_f2d24_level0_row5\" class=\"row_heading level0 row5\" >5</th>\n                        <td id=\"T_f2d24_row5_col0\" class=\"data row5 col0\" >0</td>\n                        <td id=\"T_f2d24_row5_col1\" class=\"data row5 col1\" >0</td>\n                        <td id=\"T_f2d24_row5_col2\" class=\"data row5 col2\" >-1</td>\n                        <td id=\"T_f2d24_row5_col3\" class=\"data row5 col3\" >-1</td>\n                        <td id=\"T_f2d24_row5_col4\" class=\"data row5 col4\" >0</td>\n                        <td id=\"T_f2d24_row5_col5\" class=\"data row5 col5\" >2</td>\n                        <td id=\"T_f2d24_row5_col6\" class=\"data row5 col6\" >0</td>\n            </tr>\n            <tr>\n                        <th id=\"T_f2d24_level0_row6\" class=\"row_heading level0 row6\" >6</th>\n                        <td id=\"T_f2d24_row6_col0\" class=\"data row6 col0\" >0</td>\n                        <td id=\"T_f2d24_row6_col1\" class=\"data row6 col1\" >0</td>\n                        <td id=\"T_f2d24_row6_col2\" class=\"data row6 col2\" >0</td>\n                        <td id=\"T_f2d24_row6_col3\" class=\"data row6 col3\" >0</td>\n                        <td id=\"T_f2d24_row6_col4\" class=\"data row6 col4\" >0</td>\n                        <td id=\"T_f2d24_row6_col5\" class=\"data row6 col5\" >0</td>\n                        <td id=\"T_f2d24_row6_col6\" class=\"data row6 col6\" >0</td>\n            </tr>\n    </tbody></table>"
     },
     "metadata": {}
    }
   ],
   "source": [
    "Lap = D - A\n",
    "show_matrix(Lap)"
   ]
  },
  {
   "cell_type": "code",
   "execution_count": 27,
   "metadata": {
    "tags": []
   },
   "outputs": [
    {
     "output_type": "stream",
     "name": "stdout",
     "text": "[-9.04224612e-16]\n[[-0.4472136  -0.          0.          0.70710678  0.          0.\n  -0.54772256]]\nevals\n[-9.04224612e-16  0.00000000e+00  2.00000000e+00  3.00000000e+00\n  5.00000000e+00  5.00000000e+00  5.00000000e+00]\nmedian: \n0.0\nlabel vector\n[0. 0. 0. 1. 0. 0. 0.]\n"
    }
   ],
   "source": [
    "L_norm = nx.normalized_laplacian_matrix(G)\n",
    "evals,evecs = calculate_egein(Lap)\n",
    "second_vector = evecs[0]\n",
    "print (\"evals\")\n",
    "print (evals)\n",
    "label_vector = np.zeros(len(second_vector))\n",
    "median = np.median(second_vector)\n",
    "print (\"median: \")\n",
    "print (median)\n",
    "label_vector[second_vector>median]=1\n",
    "label_vector[second_vector<=median]=0\n",
    "color_map = []\n",
    "for i in label_vector:\n",
    "    if i == 0:\n",
    "        color_map.append('red')\n",
    "    else:\n",
    "        color_map.append('green')\n",
    "print (\"label vector\")\n",
    "print (label_vector)"
   ]
  },
  {
   "cell_type": "code",
   "execution_count": 35,
   "metadata": {},
   "outputs": [
    {
     "output_type": "error",
     "ename": "ValueError",
     "evalue": "'c' argument has 7 elements, which is inconsistent with 'x' and 'y' with size 5.",
     "traceback": [
      "\u001b[0;31m---------------------------------------------------------------------------\u001b[0m",
      "\u001b[0;31mValueError\u001b[0m                                Traceback (most recent call last)",
      "\u001b[0;32m<ipython-input-35-a8caabad79a0>\u001b[0m in \u001b[0;36m<module>\u001b[0;34m\u001b[0m\n\u001b[0;32m----> 1\u001b[0;31m nx.draw_networkx_nodes(\n\u001b[0m\u001b[1;32m      2\u001b[0m     \u001b[0mG\u001b[0m\u001b[0;34m,\u001b[0m\u001b[0;34m\u001b[0m\u001b[0;34m\u001b[0m\u001b[0m\n\u001b[1;32m      3\u001b[0m     \u001b[0mpos\u001b[0m\u001b[0;34m,\u001b[0m\u001b[0;34m\u001b[0m\u001b[0;34m\u001b[0m\u001b[0m\n\u001b[1;32m      4\u001b[0m     \u001b[0mnodelist\u001b[0m\u001b[0;34m=\u001b[0m\u001b[0mlist\u001b[0m\u001b[0;34m(\u001b[0m\u001b[0mp\u001b[0m\u001b[0;34m.\u001b[0m\u001b[0mkeys\u001b[0m\u001b[0;34m(\u001b[0m\u001b[0;34m)\u001b[0m\u001b[0;34m)\u001b[0m\u001b[0;34m,\u001b[0m\u001b[0;34m\u001b[0m\u001b[0;34m\u001b[0m\u001b[0m\n\u001b[1;32m      5\u001b[0m     \u001b[0mnode_size\u001b[0m\u001b[0;34m=\u001b[0m\u001b[0;36m80\u001b[0m\u001b[0;34m,\u001b[0m\u001b[0;34m\u001b[0m\u001b[0;34m\u001b[0m\u001b[0m\n",
      "\u001b[0;32m/Library/Frameworks/Python.framework/Versions/3.8/lib/python3.8/site-packages/networkx/drawing/nx_pylab.py\u001b[0m in \u001b[0;36mdraw_networkx_nodes\u001b[0;34m(G, pos, nodelist, node_size, node_color, node_shape, alpha, cmap, vmin, vmax, ax, linewidths, edgecolors, label)\u001b[0m\n\u001b[1;32m    464\u001b[0m         \u001b[0malpha\u001b[0m \u001b[0;34m=\u001b[0m \u001b[0;32mNone\u001b[0m\u001b[0;34m\u001b[0m\u001b[0;34m\u001b[0m\u001b[0m\n\u001b[1;32m    465\u001b[0m \u001b[0;34m\u001b[0m\u001b[0m\n\u001b[0;32m--> 466\u001b[0;31m     node_collection = ax.scatter(\n\u001b[0m\u001b[1;32m    467\u001b[0m         \u001b[0mxy\u001b[0m\u001b[0;34m[\u001b[0m\u001b[0;34m:\u001b[0m\u001b[0;34m,\u001b[0m \u001b[0;36m0\u001b[0m\u001b[0;34m]\u001b[0m\u001b[0;34m,\u001b[0m\u001b[0;34m\u001b[0m\u001b[0;34m\u001b[0m\u001b[0m\n\u001b[1;32m    468\u001b[0m         \u001b[0mxy\u001b[0m\u001b[0;34m[\u001b[0m\u001b[0;34m:\u001b[0m\u001b[0;34m,\u001b[0m \u001b[0;36m1\u001b[0m\u001b[0;34m]\u001b[0m\u001b[0;34m,\u001b[0m\u001b[0;34m\u001b[0m\u001b[0;34m\u001b[0m\u001b[0m\n",
      "\u001b[0;32m/Library/Frameworks/Python.framework/Versions/3.8/lib/python3.8/site-packages/matplotlib/__init__.py\u001b[0m in \u001b[0;36minner\u001b[0;34m(ax, data, *args, **kwargs)\u001b[0m\n\u001b[1;32m   1445\u001b[0m     \u001b[0;32mdef\u001b[0m \u001b[0minner\u001b[0m\u001b[0;34m(\u001b[0m\u001b[0max\u001b[0m\u001b[0;34m,\u001b[0m \u001b[0;34m*\u001b[0m\u001b[0margs\u001b[0m\u001b[0;34m,\u001b[0m \u001b[0mdata\u001b[0m\u001b[0;34m=\u001b[0m\u001b[0;32mNone\u001b[0m\u001b[0;34m,\u001b[0m \u001b[0;34m**\u001b[0m\u001b[0mkwargs\u001b[0m\u001b[0;34m)\u001b[0m\u001b[0;34m:\u001b[0m\u001b[0;34m\u001b[0m\u001b[0;34m\u001b[0m\u001b[0m\n\u001b[1;32m   1446\u001b[0m         \u001b[0;32mif\u001b[0m \u001b[0mdata\u001b[0m \u001b[0;32mis\u001b[0m \u001b[0;32mNone\u001b[0m\u001b[0;34m:\u001b[0m\u001b[0;34m\u001b[0m\u001b[0;34m\u001b[0m\u001b[0m\n\u001b[0;32m-> 1447\u001b[0;31m             \u001b[0;32mreturn\u001b[0m \u001b[0mfunc\u001b[0m\u001b[0;34m(\u001b[0m\u001b[0max\u001b[0m\u001b[0;34m,\u001b[0m \u001b[0;34m*\u001b[0m\u001b[0mmap\u001b[0m\u001b[0;34m(\u001b[0m\u001b[0msanitize_sequence\u001b[0m\u001b[0;34m,\u001b[0m \u001b[0margs\u001b[0m\u001b[0;34m)\u001b[0m\u001b[0;34m,\u001b[0m \u001b[0;34m**\u001b[0m\u001b[0mkwargs\u001b[0m\u001b[0;34m)\u001b[0m\u001b[0;34m\u001b[0m\u001b[0;34m\u001b[0m\u001b[0m\n\u001b[0m\u001b[1;32m   1448\u001b[0m \u001b[0;34m\u001b[0m\u001b[0m\n\u001b[1;32m   1449\u001b[0m         \u001b[0mbound\u001b[0m \u001b[0;34m=\u001b[0m \u001b[0mnew_sig\u001b[0m\u001b[0;34m.\u001b[0m\u001b[0mbind\u001b[0m\u001b[0;34m(\u001b[0m\u001b[0max\u001b[0m\u001b[0;34m,\u001b[0m \u001b[0;34m*\u001b[0m\u001b[0margs\u001b[0m\u001b[0;34m,\u001b[0m \u001b[0;34m**\u001b[0m\u001b[0mkwargs\u001b[0m\u001b[0;34m)\u001b[0m\u001b[0;34m\u001b[0m\u001b[0;34m\u001b[0m\u001b[0m\n",
      "\u001b[0;32m/Library/Frameworks/Python.framework/Versions/3.8/lib/python3.8/site-packages/matplotlib/cbook/deprecation.py\u001b[0m in \u001b[0;36mwrapper\u001b[0;34m(*inner_args, **inner_kwargs)\u001b[0m\n\u001b[1;32m    409\u001b[0m                          \u001b[0;32melse\u001b[0m \u001b[0mdeprecation_addendum\u001b[0m\u001b[0;34m,\u001b[0m\u001b[0;34m\u001b[0m\u001b[0;34m\u001b[0m\u001b[0m\n\u001b[1;32m    410\u001b[0m                 **kwargs)\n\u001b[0;32m--> 411\u001b[0;31m         \u001b[0;32mreturn\u001b[0m \u001b[0mfunc\u001b[0m\u001b[0;34m(\u001b[0m\u001b[0;34m*\u001b[0m\u001b[0minner_args\u001b[0m\u001b[0;34m,\u001b[0m \u001b[0;34m**\u001b[0m\u001b[0minner_kwargs\u001b[0m\u001b[0;34m)\u001b[0m\u001b[0;34m\u001b[0m\u001b[0;34m\u001b[0m\u001b[0m\n\u001b[0m\u001b[1;32m    412\u001b[0m \u001b[0;34m\u001b[0m\u001b[0m\n\u001b[1;32m    413\u001b[0m     \u001b[0;32mreturn\u001b[0m \u001b[0mwrapper\u001b[0m\u001b[0;34m\u001b[0m\u001b[0;34m\u001b[0m\u001b[0m\n",
      "\u001b[0;32m/Library/Frameworks/Python.framework/Versions/3.8/lib/python3.8/site-packages/matplotlib/axes/_axes.py\u001b[0m in \u001b[0;36mscatter\u001b[0;34m(self, x, y, s, c, marker, cmap, norm, vmin, vmax, alpha, linewidths, verts, edgecolors, plotnonfinite, **kwargs)\u001b[0m\n\u001b[1;32m   4449\u001b[0m \u001b[0;34m\u001b[0m\u001b[0m\n\u001b[1;32m   4450\u001b[0m         \u001b[0mc\u001b[0m\u001b[0;34m,\u001b[0m \u001b[0mcolors\u001b[0m\u001b[0;34m,\u001b[0m \u001b[0medgecolors\u001b[0m \u001b[0;34m=\u001b[0m\u001b[0;31m \u001b[0m\u001b[0;31m\\\u001b[0m\u001b[0;34m\u001b[0m\u001b[0;34m\u001b[0m\u001b[0m\n\u001b[0;32m-> 4451\u001b[0;31m             self._parse_scatter_color_args(\n\u001b[0m\u001b[1;32m   4452\u001b[0m                 \u001b[0mc\u001b[0m\u001b[0;34m,\u001b[0m \u001b[0medgecolors\u001b[0m\u001b[0;34m,\u001b[0m \u001b[0mkwargs\u001b[0m\u001b[0;34m,\u001b[0m \u001b[0mx\u001b[0m\u001b[0;34m.\u001b[0m\u001b[0msize\u001b[0m\u001b[0;34m,\u001b[0m\u001b[0;34m\u001b[0m\u001b[0;34m\u001b[0m\u001b[0m\n\u001b[1;32m   4453\u001b[0m                 get_next_color_func=self._get_patches_for_fill.get_next_color)\n",
      "\u001b[0;32m/Library/Frameworks/Python.framework/Versions/3.8/lib/python3.8/site-packages/matplotlib/axes/_axes.py\u001b[0m in \u001b[0;36m_parse_scatter_color_args\u001b[0;34m(c, edgecolors, kwargs, xsize, get_next_color_func)\u001b[0m\n\u001b[1;32m   4305\u001b[0m                     \u001b[0;31m# NB: remember that a single color is also acceptable.\u001b[0m\u001b[0;34m\u001b[0m\u001b[0;34m\u001b[0m\u001b[0;34m\u001b[0m\u001b[0m\n\u001b[1;32m   4306\u001b[0m                     \u001b[0;31m# Besides *colors* will be an empty array if c == 'none'.\u001b[0m\u001b[0;34m\u001b[0m\u001b[0;34m\u001b[0m\u001b[0;34m\u001b[0m\u001b[0m\n\u001b[0;32m-> 4307\u001b[0;31m                     \u001b[0;32mraise\u001b[0m \u001b[0minvalid_shape_exception\u001b[0m\u001b[0;34m(\u001b[0m\u001b[0mlen\u001b[0m\u001b[0;34m(\u001b[0m\u001b[0mcolors\u001b[0m\u001b[0;34m)\u001b[0m\u001b[0;34m,\u001b[0m \u001b[0mxsize\u001b[0m\u001b[0;34m)\u001b[0m\u001b[0;34m\u001b[0m\u001b[0;34m\u001b[0m\u001b[0m\n\u001b[0m\u001b[1;32m   4308\u001b[0m         \u001b[0;32melse\u001b[0m\u001b[0;34m:\u001b[0m\u001b[0;34m\u001b[0m\u001b[0;34m\u001b[0m\u001b[0m\n\u001b[1;32m   4309\u001b[0m             \u001b[0mcolors\u001b[0m \u001b[0;34m=\u001b[0m \u001b[0;32mNone\u001b[0m  \u001b[0;31m# use cmap, norm after collection is created\u001b[0m\u001b[0;34m\u001b[0m\u001b[0;34m\u001b[0m\u001b[0m\n",
      "\u001b[0;31mValueError\u001b[0m: 'c' argument has 7 elements, which is inconsistent with 'x' and 'y' with size 5."
     ]
    }
   ],
   "source": [
    "plt.figure(figsize=(8, 8))\n",
    "nx.draw_networkx_edges(G, pos, nodelist=[ncenter], alpha=0.4)\n",
    "nx.draw_networkx_nodes(\n",
    "    G,\n",
    "    pos,\n",
    "    nodelist=list(p.keys()),\n",
    "    node_size=80,\n",
    "    node_color=color_map,\n",
    "    cmap=plt.cm.Reds_r,\n",
    ")\n",
    "nx.draw_networkx_labels(G,pos,labels,font_size=7)\n",
    "plt.xlim(-0.05, 1.05)\n",
    "plt.ylim(-0.05, 1.05)\n",
    "plt.axis(\"off\")\n",
    "plt.show()"
   ]
  },
  {
   "cell_type": "code",
   "execution_count": null,
   "metadata": {},
   "outputs": [],
   "source": []
  }
 ]
}